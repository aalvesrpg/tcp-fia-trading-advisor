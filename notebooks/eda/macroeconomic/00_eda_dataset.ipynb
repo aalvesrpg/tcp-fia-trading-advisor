{
 "cells": [
  {
   "cell_type": "markdown",
   "metadata": {},
   "source": [
    "# **Exploratory Data Analisys: Companies**"
   ]
  },
  {
   "cell_type": "markdown",
   "metadata": {},
   "source": []
  },
  {
   "cell_type": "markdown",
   "metadata": {},
   "source": [
    "## **Initial Setup**"
   ]
  },
  {
   "cell_type": "markdown",
   "metadata": {},
   "source": [
    "### Install Packages"
   ]
  },
  {
   "cell_type": "code",
   "execution_count": 18,
   "metadata": {},
   "outputs": [
    {
     "name": "stdout",
     "output_type": "stream",
     "text": [
      "Note: you may need to restart the kernel to use updated packages.\n",
      "Note: you may need to restart the kernel to use updated packages.\n"
     ]
    }
   ],
   "source": [
    "%pip install pandas -q\n",
    "%pip install plotly -q"
   ]
  },
  {
   "cell_type": "markdown",
   "metadata": {},
   "source": [
    "### Import libs"
   ]
  },
  {
   "cell_type": "code",
   "execution_count": 19,
   "metadata": {},
   "outputs": [],
   "source": [
    "import os\n",
    "import itertools\n",
    "import pandas as pd\n",
    "from pathlib import Path\n",
    "import plotly.express as px\n",
    "import plotly.graph_objects as go\n",
    "import plotly.subplots as sp\n",
    "import warnings\n",
    "warnings.filterwarnings('ignore')"
   ]
  },
  {
   "cell_type": "markdown",
   "metadata": {},
   "source": [
    "### Pandas Config"
   ]
  },
  {
   "cell_type": "code",
   "execution_count": 20,
   "metadata": {},
   "outputs": [],
   "source": [
    "pd.set_option('display.max_columns', None)\n",
    "pd.set_option('display.max_rows', None)"
   ]
  },
  {
   "cell_type": "markdown",
   "metadata": {},
   "source": [
    "### Create a file path default"
   ]
  },
  {
   "cell_type": "code",
   "execution_count": 21,
   "metadata": {},
   "outputs": [],
   "source": [
    "file_path_book = str(Path(os.getcwd()).parent.parent.parent / \"data/book\")"
   ]
  },
  {
   "cell_type": "markdown",
   "metadata": {},
   "source": [
    "## Macroeconomic"
   ]
  },
  {
   "cell_type": "markdown",
   "metadata": {},
   "source": [
    "### Load data"
   ]
  },
  {
   "cell_type": "code",
   "execution_count": 22,
   "metadata": {},
   "outputs": [
    {
     "data": {
      "text/html": [
       "<div>\n",
       "<style scoped>\n",
       "    .dataframe tbody tr th:only-of-type {\n",
       "        vertical-align: middle;\n",
       "    }\n",
       "\n",
       "    .dataframe tbody tr th {\n",
       "        vertical-align: top;\n",
       "    }\n",
       "\n",
       "    .dataframe thead th {\n",
       "        text-align: right;\n",
       "    }\n",
       "</style>\n",
       "<table border=\"1\" class=\"dataframe\">\n",
       "  <thead>\n",
       "    <tr style=\"text-align: right;\">\n",
       "      <th></th>\n",
       "      <th>date</th>\n",
       "      <th>selic</th>\n",
       "      <th>confidence</th>\n",
       "      <th>pib</th>\n",
       "      <th>incc</th>\n",
       "      <th>ipca</th>\n",
       "      <th>dolar</th>\n",
       "      <th>monthly_inflation</th>\n",
       "      <th>gdp_growth</th>\n",
       "      <th>dollar_growth</th>\n",
       "      <th>real_interest_rate</th>\n",
       "      <th>inflation_confidence_difference</th>\n",
       "    </tr>\n",
       "  </thead>\n",
       "  <tbody>\n",
       "    <tr>\n",
       "      <th>0</th>\n",
       "      <td>2019-01-31</td>\n",
       "      <td>6.5</td>\n",
       "      <td>128.64</td>\n",
       "      <td>578214.5</td>\n",
       "      <td>0.49</td>\n",
       "      <td>3.78</td>\n",
       "      <td>3.6513</td>\n",
       "      <td>-0.111948</td>\n",
       "      <td>-0.015756</td>\n",
       "      <td>0.016459</td>\n",
       "      <td>2.72</td>\n",
       "      <td>-124.86</td>\n",
       "    </tr>\n",
       "    <tr>\n",
       "      <th>1</th>\n",
       "      <td>2019-02-28</td>\n",
       "      <td>6.5</td>\n",
       "      <td>139.39</td>\n",
       "      <td>576089.7</td>\n",
       "      <td>0.09</td>\n",
       "      <td>3.89</td>\n",
       "      <td>3.7379</td>\n",
       "      <td>0.029101</td>\n",
       "      <td>-0.003675</td>\n",
       "      <td>0.023718</td>\n",
       "      <td>2.61</td>\n",
       "      <td>-135.50</td>\n",
       "    </tr>\n",
       "    <tr>\n",
       "      <th>2</th>\n",
       "      <td>2019-03-31</td>\n",
       "      <td>6.5</td>\n",
       "      <td>125.53</td>\n",
       "      <td>601749.8</td>\n",
       "      <td>0.31</td>\n",
       "      <td>4.58</td>\n",
       "      <td>3.8961</td>\n",
       "      <td>0.177378</td>\n",
       "      <td>0.044542</td>\n",
       "      <td>0.042323</td>\n",
       "      <td>1.92</td>\n",
       "      <td>-120.95</td>\n",
       "    </tr>\n",
       "    <tr>\n",
       "      <th>3</th>\n",
       "      <td>2019-04-30</td>\n",
       "      <td>6.5</td>\n",
       "      <td>121.71</td>\n",
       "      <td>612918.4</td>\n",
       "      <td>0.38</td>\n",
       "      <td>4.94</td>\n",
       "      <td>3.9447</td>\n",
       "      <td>0.078603</td>\n",
       "      <td>0.018560</td>\n",
       "      <td>0.012474</td>\n",
       "      <td>1.56</td>\n",
       "      <td>-116.77</td>\n",
       "    </tr>\n",
       "    <tr>\n",
       "      <th>4</th>\n",
       "      <td>2019-05-31</td>\n",
       "      <td>6.5</td>\n",
       "      <td>117.01</td>\n",
       "      <td>615304.9</td>\n",
       "      <td>0.03</td>\n",
       "      <td>4.66</td>\n",
       "      <td>3.9401</td>\n",
       "      <td>-0.056680</td>\n",
       "      <td>0.003894</td>\n",
       "      <td>-0.001166</td>\n",
       "      <td>1.84</td>\n",
       "      <td>-112.35</td>\n",
       "    </tr>\n",
       "  </tbody>\n",
       "</table>\n",
       "</div>"
      ],
      "text/plain": [
       "         date  selic  confidence       pib  incc  ipca   dolar  \\\n",
       "0  2019-01-31    6.5      128.64  578214.5  0.49  3.78  3.6513   \n",
       "1  2019-02-28    6.5      139.39  576089.7  0.09  3.89  3.7379   \n",
       "2  2019-03-31    6.5      125.53  601749.8  0.31  4.58  3.8961   \n",
       "3  2019-04-30    6.5      121.71  612918.4  0.38  4.94  3.9447   \n",
       "4  2019-05-31    6.5      117.01  615304.9  0.03  4.66  3.9401   \n",
       "\n",
       "   monthly_inflation  gdp_growth  dollar_growth  real_interest_rate  \\\n",
       "0          -0.111948   -0.015756       0.016459                2.72   \n",
       "1           0.029101   -0.003675       0.023718                2.61   \n",
       "2           0.177378    0.044542       0.042323                1.92   \n",
       "3           0.078603    0.018560       0.012474                1.56   \n",
       "4          -0.056680    0.003894      -0.001166                1.84   \n",
       "\n",
       "   inflation_confidence_difference  \n",
       "0                          -124.86  \n",
       "1                          -135.50  \n",
       "2                          -120.95  \n",
       "3                          -116.77  \n",
       "4                          -112.35  "
      ]
     },
     "execution_count": 22,
     "metadata": {},
     "output_type": "execute_result"
    }
   ],
   "source": [
    "df_macroeconomic_book = pd.read_csv(file_path_book + \"/macroeconomic_book.csv\")\n",
    "df_macroeconomic_book.head(5)"
   ]
  },
  {
   "cell_type": "code",
   "execution_count": 23,
   "metadata": {},
   "outputs": [
    {
     "data": {
      "text/html": [
       "<div>\n",
       "<style scoped>\n",
       "    .dataframe tbody tr th:only-of-type {\n",
       "        vertical-align: middle;\n",
       "    }\n",
       "\n",
       "    .dataframe tbody tr th {\n",
       "        vertical-align: top;\n",
       "    }\n",
       "\n",
       "    .dataframe thead th {\n",
       "        text-align: right;\n",
       "    }\n",
       "</style>\n",
       "<table border=\"1\" class=\"dataframe\">\n",
       "  <thead>\n",
       "    <tr style=\"text-align: right;\">\n",
       "      <th></th>\n",
       "      <th>selic</th>\n",
       "      <th>confidence</th>\n",
       "      <th>pib</th>\n",
       "      <th>incc</th>\n",
       "      <th>ipca</th>\n",
       "      <th>dolar</th>\n",
       "      <th>monthly_inflation</th>\n",
       "      <th>gdp_growth</th>\n",
       "      <th>dollar_growth</th>\n",
       "      <th>real_interest_rate</th>\n",
       "      <th>inflation_confidence_difference</th>\n",
       "    </tr>\n",
       "  </thead>\n",
       "  <tbody>\n",
       "    <tr>\n",
       "      <th>0</th>\n",
       "      <td>6.5</td>\n",
       "      <td>128.64</td>\n",
       "      <td>578214.5</td>\n",
       "      <td>0.49</td>\n",
       "      <td>3.78</td>\n",
       "      <td>3.6513</td>\n",
       "      <td>-0.111948</td>\n",
       "      <td>-0.015756</td>\n",
       "      <td>0.016459</td>\n",
       "      <td>2.72</td>\n",
       "      <td>-124.86</td>\n",
       "    </tr>\n",
       "    <tr>\n",
       "      <th>1</th>\n",
       "      <td>6.5</td>\n",
       "      <td>139.39</td>\n",
       "      <td>576089.7</td>\n",
       "      <td>0.09</td>\n",
       "      <td>3.89</td>\n",
       "      <td>3.7379</td>\n",
       "      <td>0.029101</td>\n",
       "      <td>-0.003675</td>\n",
       "      <td>0.023718</td>\n",
       "      <td>2.61</td>\n",
       "      <td>-135.50</td>\n",
       "    </tr>\n",
       "    <tr>\n",
       "      <th>2</th>\n",
       "      <td>6.5</td>\n",
       "      <td>125.53</td>\n",
       "      <td>601749.8</td>\n",
       "      <td>0.31</td>\n",
       "      <td>4.58</td>\n",
       "      <td>3.8961</td>\n",
       "      <td>0.177378</td>\n",
       "      <td>0.044542</td>\n",
       "      <td>0.042323</td>\n",
       "      <td>1.92</td>\n",
       "      <td>-120.95</td>\n",
       "    </tr>\n",
       "    <tr>\n",
       "      <th>3</th>\n",
       "      <td>6.5</td>\n",
       "      <td>121.71</td>\n",
       "      <td>612918.4</td>\n",
       "      <td>0.38</td>\n",
       "      <td>4.94</td>\n",
       "      <td>3.9447</td>\n",
       "      <td>0.078603</td>\n",
       "      <td>0.018560</td>\n",
       "      <td>0.012474</td>\n",
       "      <td>1.56</td>\n",
       "      <td>-116.77</td>\n",
       "    </tr>\n",
       "    <tr>\n",
       "      <th>4</th>\n",
       "      <td>6.5</td>\n",
       "      <td>117.01</td>\n",
       "      <td>615304.9</td>\n",
       "      <td>0.03</td>\n",
       "      <td>4.66</td>\n",
       "      <td>3.9401</td>\n",
       "      <td>-0.056680</td>\n",
       "      <td>0.003894</td>\n",
       "      <td>-0.001166</td>\n",
       "      <td>1.84</td>\n",
       "      <td>-112.35</td>\n",
       "    </tr>\n",
       "  </tbody>\n",
       "</table>\n",
       "</div>"
      ],
      "text/plain": [
       "   selic  confidence       pib  incc  ipca   dolar  monthly_inflation  \\\n",
       "0    6.5      128.64  578214.5  0.49  3.78  3.6513          -0.111948   \n",
       "1    6.5      139.39  576089.7  0.09  3.89  3.7379           0.029101   \n",
       "2    6.5      125.53  601749.8  0.31  4.58  3.8961           0.177378   \n",
       "3    6.5      121.71  612918.4  0.38  4.94  3.9447           0.078603   \n",
       "4    6.5      117.01  615304.9  0.03  4.66  3.9401          -0.056680   \n",
       "\n",
       "   gdp_growth  dollar_growth  real_interest_rate  \\\n",
       "0   -0.015756       0.016459                2.72   \n",
       "1   -0.003675       0.023718                2.61   \n",
       "2    0.044542       0.042323                1.92   \n",
       "3    0.018560       0.012474                1.56   \n",
       "4    0.003894      -0.001166                1.84   \n",
       "\n",
       "   inflation_confidence_difference  \n",
       "0                          -124.86  \n",
       "1                          -135.50  \n",
       "2                          -120.95  \n",
       "3                          -116.77  \n",
       "4                          -112.35  "
      ]
     },
     "execution_count": 23,
     "metadata": {},
     "output_type": "execute_result"
    }
   ],
   "source": [
    "df_macroeconomic_numeric_cols = df_macroeconomic_book.select_dtypes(include=[\"int\", \"number\", \"float64\"])\n",
    "df_macroeconomic_numeric_cols.head(5)"
   ]
  },
  {
   "cell_type": "markdown",
   "metadata": {},
   "source": [
    "### Macroeconomic Analisys"
   ]
  },
  {
   "cell_type": "markdown",
   "metadata": {},
   "source": [
    "#### Data Table"
   ]
  },
  {
   "cell_type": "code",
   "execution_count": 24,
   "metadata": {},
   "outputs": [
    {
     "data": {
      "text/plain": [
       "(56, 12)"
      ]
     },
     "execution_count": 24,
     "metadata": {},
     "output_type": "execute_result"
    }
   ],
   "source": [
    "df_macroeconomic_book.shape"
   ]
  },
  {
   "cell_type": "markdown",
   "metadata": {},
   "source": [
    "- The dataset contains 56 rows, one day per row, and 12 columns. Each column represents a metric of the macroecomy."
   ]
  },
  {
   "cell_type": "code",
   "execution_count": 25,
   "metadata": {},
   "outputs": [
    {
     "name": "stdout",
     "output_type": "stream",
     "text": [
      "<class 'pandas.core.frame.DataFrame'>\n",
      "RangeIndex: 56 entries, 0 to 55\n",
      "Data columns (total 12 columns):\n",
      " #   Column                           Non-Null Count  Dtype  \n",
      "---  ------                           --------------  -----  \n",
      " 0   date                             56 non-null     object \n",
      " 1   selic                            56 non-null     float64\n",
      " 2   confidence                       56 non-null     float64\n",
      " 3   pib                              56 non-null     float64\n",
      " 4   incc                             56 non-null     float64\n",
      " 5   ipca                             56 non-null     float64\n",
      " 6   dolar                            56 non-null     float64\n",
      " 7   monthly_inflation                56 non-null     float64\n",
      " 8   gdp_growth                       56 non-null     float64\n",
      " 9   dollar_growth                    56 non-null     float64\n",
      " 10  real_interest_rate               56 non-null     float64\n",
      " 11  inflation_confidence_difference  56 non-null     float64\n",
      "dtypes: float64(11), object(1)\n",
      "memory usage: 5.4+ KB\n"
     ]
    }
   ],
   "source": [
    "df_macroeconomic_book.info()"
   ]
  },
  {
   "cell_type": "markdown",
   "metadata": {},
   "source": [
    "- The dataframe df_macroeconomic_book is primarily composed of fields of type float64 to represent the indices, with the only exception being the 'date' field, which is of type object."
   ]
  },
  {
   "cell_type": "code",
   "execution_count": 26,
   "metadata": {},
   "outputs": [
    {
     "data": {
      "text/html": [
       "<div>\n",
       "<style scoped>\n",
       "    .dataframe tbody tr th:only-of-type {\n",
       "        vertical-align: middle;\n",
       "    }\n",
       "\n",
       "    .dataframe tbody tr th {\n",
       "        vertical-align: top;\n",
       "    }\n",
       "\n",
       "    .dataframe thead th {\n",
       "        text-align: right;\n",
       "    }\n",
       "</style>\n",
       "<table border=\"1\" class=\"dataframe\">\n",
       "  <thead>\n",
       "    <tr style=\"text-align: right;\">\n",
       "      <th></th>\n",
       "      <th>selic</th>\n",
       "      <th>confidence</th>\n",
       "      <th>pib</th>\n",
       "      <th>incc</th>\n",
       "      <th>ipca</th>\n",
       "      <th>dolar</th>\n",
       "      <th>monthly_inflation</th>\n",
       "      <th>gdp_growth</th>\n",
       "      <th>dollar_growth</th>\n",
       "      <th>real_interest_rate</th>\n",
       "      <th>inflation_confidence_difference</th>\n",
       "    </tr>\n",
       "  </thead>\n",
       "  <tbody>\n",
       "    <tr>\n",
       "      <th>count</th>\n",
       "      <td>56.000000</td>\n",
       "      <td>56.000000</td>\n",
       "      <td>56.000000</td>\n",
       "      <td>56.000000</td>\n",
       "      <td>56.000000</td>\n",
       "      <td>56.000000</td>\n",
       "      <td>56.000000</td>\n",
       "      <td>56.000000</td>\n",
       "      <td>56.000000</td>\n",
       "      <td>56.000000</td>\n",
       "      <td>56.000000</td>\n",
       "    </tr>\n",
       "    <tr>\n",
       "      <th>mean</th>\n",
       "      <td>7.571429</td>\n",
       "      <td>114.484107</td>\n",
       "      <td>729338.171429</td>\n",
       "      <td>0.661964</td>\n",
       "      <td>5.908036</td>\n",
       "      <td>4.941593</td>\n",
       "      <td>0.011175</td>\n",
       "      <td>0.008724</td>\n",
       "      <td>0.006616</td>\n",
       "      <td>1.663393</td>\n",
       "      <td>-108.576071</td>\n",
       "    </tr>\n",
       "    <tr>\n",
       "      <th>std</th>\n",
       "      <td>4.485511</td>\n",
       "      <td>9.230923</td>\n",
       "      <td>106504.361049</td>\n",
       "      <td>0.596372</td>\n",
       "      <td>3.036075</td>\n",
       "      <td>0.601565</td>\n",
       "      <td>0.140963</td>\n",
       "      <td>0.041070</td>\n",
       "      <td>0.045178</td>\n",
       "      <td>4.335886</td>\n",
       "      <td>10.646899</td>\n",
       "    </tr>\n",
       "    <tr>\n",
       "      <th>min</th>\n",
       "      <td>2.000000</td>\n",
       "      <td>96.820000</td>\n",
       "      <td>569278.800000</td>\n",
       "      <td>0.030000</td>\n",
       "      <td>1.880000</td>\n",
       "      <td>3.651300</td>\n",
       "      <td>-0.276824</td>\n",
       "      <td>-0.107443</td>\n",
       "      <td>-0.078151</td>\n",
       "      <td>-4.740000</td>\n",
       "      <td>-135.500000</td>\n",
       "    </tr>\n",
       "    <tr>\n",
       "      <th>25%</th>\n",
       "      <td>3.750000</td>\n",
       "      <td>107.365000</td>\n",
       "      <td>636251.825000</td>\n",
       "      <td>0.217500</td>\n",
       "      <td>3.692500</td>\n",
       "      <td>4.670750</td>\n",
       "      <td>-0.090481</td>\n",
       "      <td>-0.011851</td>\n",
       "      <td>-0.025877</td>\n",
       "      <td>-1.335000</td>\n",
       "      <td>-117.057500</td>\n",
       "    </tr>\n",
       "    <tr>\n",
       "      <th>50%</th>\n",
       "      <td>6.500000</td>\n",
       "      <td>111.995000</td>\n",
       "      <td>724215.500000</td>\n",
       "      <td>0.460000</td>\n",
       "      <td>4.630000</td>\n",
       "      <td>5.160550</td>\n",
       "      <td>0.014527</td>\n",
       "      <td>0.005607</td>\n",
       "      <td>0.005248</td>\n",
       "      <td>1.070000</td>\n",
       "      <td>-107.520000</td>\n",
       "    </tr>\n",
       "    <tr>\n",
       "      <th>75%</th>\n",
       "      <td>13.250000</td>\n",
       "      <td>121.837500</td>\n",
       "      <td>826032.925000</td>\n",
       "      <td>0.865000</td>\n",
       "      <td>8.445000</td>\n",
       "      <td>5.403750</td>\n",
       "      <td>0.080079</td>\n",
       "      <td>0.032610</td>\n",
       "      <td>0.037589</td>\n",
       "      <td>3.205000</td>\n",
       "      <td>-98.902500</td>\n",
       "    </tr>\n",
       "    <tr>\n",
       "      <th>max</th>\n",
       "      <td>13.750000</td>\n",
       "      <td>139.390000</td>\n",
       "      <td>927590.500000</td>\n",
       "      <td>2.280000</td>\n",
       "      <td>12.130000</td>\n",
       "      <td>5.771200</td>\n",
       "      <td>0.318043</td>\n",
       "      <td>0.124708</td>\n",
       "      <td>0.155621</td>\n",
       "      <td>10.590000</td>\n",
       "      <td>-91.710000</td>\n",
       "    </tr>\n",
       "  </tbody>\n",
       "</table>\n",
       "</div>"
      ],
      "text/plain": [
       "           selic  confidence            pib       incc       ipca      dolar  \\\n",
       "count  56.000000   56.000000      56.000000  56.000000  56.000000  56.000000   \n",
       "mean    7.571429  114.484107  729338.171429   0.661964   5.908036   4.941593   \n",
       "std     4.485511    9.230923  106504.361049   0.596372   3.036075   0.601565   \n",
       "min     2.000000   96.820000  569278.800000   0.030000   1.880000   3.651300   \n",
       "25%     3.750000  107.365000  636251.825000   0.217500   3.692500   4.670750   \n",
       "50%     6.500000  111.995000  724215.500000   0.460000   4.630000   5.160550   \n",
       "75%    13.250000  121.837500  826032.925000   0.865000   8.445000   5.403750   \n",
       "max    13.750000  139.390000  927590.500000   2.280000  12.130000   5.771200   \n",
       "\n",
       "       monthly_inflation  gdp_growth  dollar_growth  real_interest_rate  \\\n",
       "count          56.000000   56.000000      56.000000           56.000000   \n",
       "mean            0.011175    0.008724       0.006616            1.663393   \n",
       "std             0.140963    0.041070       0.045178            4.335886   \n",
       "min            -0.276824   -0.107443      -0.078151           -4.740000   \n",
       "25%            -0.090481   -0.011851      -0.025877           -1.335000   \n",
       "50%             0.014527    0.005607       0.005248            1.070000   \n",
       "75%             0.080079    0.032610       0.037589            3.205000   \n",
       "max             0.318043    0.124708       0.155621           10.590000   \n",
       "\n",
       "       inflation_confidence_difference  \n",
       "count                        56.000000  \n",
       "mean                       -108.576071  \n",
       "std                          10.646899  \n",
       "min                        -135.500000  \n",
       "25%                        -117.057500  \n",
       "50%                        -107.520000  \n",
       "75%                         -98.902500  \n",
       "max                         -91.710000  "
      ]
     },
     "execution_count": 26,
     "metadata": {},
     "output_type": "execute_result"
    }
   ],
   "source": [
    "df_macroeconomic_book.describe()"
   ]
  },
  {
   "cell_type": "markdown",
   "metadata": {},
   "source": [
    "- `selic`: The average SELIC rate during the period was **7.57%**. SELIC is the reference interest rate in Brazil, which directly influences the cost of credit and can impact the behavior of investors and consumers.\n",
    "\n",
    "- `confidence`: The average Economic Confidence was **114.48**, indicating the overall level of confidence among economic agents in the stability and growth of the economy. High confidence may suggest a positive economic environment.\n",
    "\n",
    "- `pib`: The Gross Domestic Product (GDP) averaged **BRL 729.338.17** billion during the period. GDP is a fundamental measure of a country's economic activity, reflecting the total value of goods and services produced.\n",
    "\n",
    "- `incc`: The average National Construction Cost Index (INCC) was **0.66**, which is related to construction costs. Variations in INCC can affect the construction industry and, by extension, the overall economy.\n",
    "\n",
    "- `ipca`: The average Consumer Price Index for Broad Consumer Price Index (IPCA) was **5.91%**, representing the average inflation rate during the period. Inflation affects the purchasing power of the currency and the cost of living for the population.\n",
    "\n",
    "- `dolar`: The average exchange rate was **BRL 4.94** per US dollar. Exchange rate fluctuations can impact international trade, export competitiveness, and the prices of imported goods.\n",
    "\n",
    "- `monthly_inflation`: The average monthly inflation was **0.01%**, indicating the variation in prices over the months. Price stability is important for maintaining the purchasing power of the currency.\n",
    "\n",
    "- `gdp_growth`: The average GDP growth was **0.01%**, reflecting the economic performance over time. Economic growth is a key indicator of a country's development.\n",
    "\n",
    "- `dollar_growth`: The average dollar growth was **0.01%**, showing how the local currency appreciated or depreciated against the dollar during the period.\n",
    "\n",
    "- `real_interest_rate`: The average Real Interest Rate was **1.66%**, taking inflation into account. Low real interest rates can encourage investment and consumption.\n",
    "\n",
    "- `inflation_confidence_difference`: The average difference in confidence regarding inflation was **-108.58**, suggesting a possible lack of confidence in price stability. This can affect the consumption and investment decisions of individuals and businesses.\n"
   ]
  },
  {
   "cell_type": "code",
   "execution_count": 27,
   "metadata": {},
   "outputs": [
    {
     "data": {
      "text/plain": [
       "date                               56\n",
       "selic                              21\n",
       "confidence                         56\n",
       "pib                                56\n",
       "incc                               46\n",
       "ipca                               55\n",
       "dolar                              56\n",
       "monthly_inflation                  56\n",
       "gdp_growth                         56\n",
       "dollar_growth                      56\n",
       "real_interest_rate                 55\n",
       "inflation_confidence_difference    56\n",
       "dtype: int64"
      ]
     },
     "execution_count": 27,
     "metadata": {},
     "output_type": "execute_result"
    }
   ],
   "source": [
    "df_macroeconomic_book.nunique()"
   ]
  },
  {
   "cell_type": "code",
   "execution_count": 28,
   "metadata": {},
   "outputs": [
    {
     "data": {
      "text/plain": [
       "date                               56\n",
       "selic                              56\n",
       "confidence                         56\n",
       "pib                                56\n",
       "incc                               56\n",
       "ipca                               56\n",
       "dolar                              56\n",
       "monthly_inflation                  56\n",
       "gdp_growth                         56\n",
       "dollar_growth                      56\n",
       "real_interest_rate                 56\n",
       "inflation_confidence_difference    56\n",
       "dtype: int64"
      ]
     },
     "execution_count": 28,
     "metadata": {},
     "output_type": "execute_result"
    }
   ],
   "source": [
    "df_macroeconomic_book.isna().count()"
   ]
  },
  {
   "cell_type": "markdown",
   "metadata": {},
   "source": [
    "- There are no missing values in the dataset."
   ]
  },
  {
   "cell_type": "markdown",
   "metadata": {},
   "source": [
    "#### Coefficient of variation"
   ]
  },
  {
   "cell_type": "code",
   "execution_count": 29,
   "metadata": {},
   "outputs": [
    {
     "data": {
      "application/vnd.plotly.v1+json": {
       "config": {
        "plotlyServerURL": "https://plot.ly"
       },
       "data": [
        {
         "alignmentgroup": "True",
         "hovertemplate": "<b>%{hovertext}</b><br><br>coefficient_variation=%{x}<br>column=%{y}<extra></extra>",
         "hovertext": [
          "monthly_inflation",
          "dollar_growth",
          "gdp_growth",
          "real_interest_rate",
          "incc",
          "selic",
          "ipca",
          "pib",
          "dolar",
          "inflation_confidence_difference",
          "confidence"
         ],
         "legendgroup": "",
         "marker": {
          "color": "rgb(100, 195, 181)",
          "pattern": {
           "shape": ""
          }
         },
         "name": "",
         "offsetgroup": "",
         "orientation": "h",
         "showlegend": false,
         "text": [
          "1261%",
          "683%",
          "471%",
          "261%",
          "90%",
          "59%",
          "51%",
          "15%",
          "12%",
          "10%",
          "8%"
         ],
         "textposition": "outside",
         "type": "bar",
         "x": [
          1261.439253029695,
          682.8069822653689,
          470.79054328048295,
          260.6651743469416,
          90.09128359049431,
          59.242592612432986,
          51.38890516121511,
          14.602877680246685,
          12.173499894934439,
          9.805935267555434,
          8.063060386046418
         ],
         "xaxis": "x",
         "y": [
          "monthly_inflation",
          "dollar_growth",
          "gdp_growth",
          "real_interest_rate",
          "incc",
          "selic",
          "ipca",
          "pib",
          "dolar",
          "inflation_confidence_difference",
          "confidence"
         ],
         "yaxis": "y"
        }
       ],
       "layout": {
        "barmode": "relative",
        "font": {
         "color": "white"
        },
        "height": 800,
        "hovermode": "y",
        "legend": {
         "tracegroupgap": 0
        },
        "template": {
         "data": {
          "bar": [
           {
            "error_x": {
             "color": "#f2f5fa"
            },
            "error_y": {
             "color": "#f2f5fa"
            },
            "marker": {
             "line": {
              "color": "rgb(17,17,17)",
              "width": 0.5
             },
             "pattern": {
              "fillmode": "overlay",
              "size": 10,
              "solidity": 0.2
             }
            },
            "type": "bar"
           }
          ],
          "barpolar": [
           {
            "marker": {
             "line": {
              "color": "rgb(17,17,17)",
              "width": 0.5
             },
             "pattern": {
              "fillmode": "overlay",
              "size": 10,
              "solidity": 0.2
             }
            },
            "type": "barpolar"
           }
          ],
          "carpet": [
           {
            "aaxis": {
             "endlinecolor": "#A2B1C6",
             "gridcolor": "#506784",
             "linecolor": "#506784",
             "minorgridcolor": "#506784",
             "startlinecolor": "#A2B1C6"
            },
            "baxis": {
             "endlinecolor": "#A2B1C6",
             "gridcolor": "#506784",
             "linecolor": "#506784",
             "minorgridcolor": "#506784",
             "startlinecolor": "#A2B1C6"
            },
            "type": "carpet"
           }
          ],
          "choropleth": [
           {
            "colorbar": {
             "outlinewidth": 0,
             "ticks": ""
            },
            "type": "choropleth"
           }
          ],
          "contour": [
           {
            "colorbar": {
             "outlinewidth": 0,
             "ticks": ""
            },
            "colorscale": [
             [
              0,
              "#0d0887"
             ],
             [
              0.1111111111111111,
              "#46039f"
             ],
             [
              0.2222222222222222,
              "#7201a8"
             ],
             [
              0.3333333333333333,
              "#9c179e"
             ],
             [
              0.4444444444444444,
              "#bd3786"
             ],
             [
              0.5555555555555556,
              "#d8576b"
             ],
             [
              0.6666666666666666,
              "#ed7953"
             ],
             [
              0.7777777777777778,
              "#fb9f3a"
             ],
             [
              0.8888888888888888,
              "#fdca26"
             ],
             [
              1,
              "#f0f921"
             ]
            ],
            "type": "contour"
           }
          ],
          "contourcarpet": [
           {
            "colorbar": {
             "outlinewidth": 0,
             "ticks": ""
            },
            "type": "contourcarpet"
           }
          ],
          "heatmap": [
           {
            "colorbar": {
             "outlinewidth": 0,
             "ticks": ""
            },
            "colorscale": [
             [
              0,
              "#0d0887"
             ],
             [
              0.1111111111111111,
              "#46039f"
             ],
             [
              0.2222222222222222,
              "#7201a8"
             ],
             [
              0.3333333333333333,
              "#9c179e"
             ],
             [
              0.4444444444444444,
              "#bd3786"
             ],
             [
              0.5555555555555556,
              "#d8576b"
             ],
             [
              0.6666666666666666,
              "#ed7953"
             ],
             [
              0.7777777777777778,
              "#fb9f3a"
             ],
             [
              0.8888888888888888,
              "#fdca26"
             ],
             [
              1,
              "#f0f921"
             ]
            ],
            "type": "heatmap"
           }
          ],
          "heatmapgl": [
           {
            "colorbar": {
             "outlinewidth": 0,
             "ticks": ""
            },
            "colorscale": [
             [
              0,
              "#0d0887"
             ],
             [
              0.1111111111111111,
              "#46039f"
             ],
             [
              0.2222222222222222,
              "#7201a8"
             ],
             [
              0.3333333333333333,
              "#9c179e"
             ],
             [
              0.4444444444444444,
              "#bd3786"
             ],
             [
              0.5555555555555556,
              "#d8576b"
             ],
             [
              0.6666666666666666,
              "#ed7953"
             ],
             [
              0.7777777777777778,
              "#fb9f3a"
             ],
             [
              0.8888888888888888,
              "#fdca26"
             ],
             [
              1,
              "#f0f921"
             ]
            ],
            "type": "heatmapgl"
           }
          ],
          "histogram": [
           {
            "marker": {
             "pattern": {
              "fillmode": "overlay",
              "size": 10,
              "solidity": 0.2
             }
            },
            "type": "histogram"
           }
          ],
          "histogram2d": [
           {
            "colorbar": {
             "outlinewidth": 0,
             "ticks": ""
            },
            "colorscale": [
             [
              0,
              "#0d0887"
             ],
             [
              0.1111111111111111,
              "#46039f"
             ],
             [
              0.2222222222222222,
              "#7201a8"
             ],
             [
              0.3333333333333333,
              "#9c179e"
             ],
             [
              0.4444444444444444,
              "#bd3786"
             ],
             [
              0.5555555555555556,
              "#d8576b"
             ],
             [
              0.6666666666666666,
              "#ed7953"
             ],
             [
              0.7777777777777778,
              "#fb9f3a"
             ],
             [
              0.8888888888888888,
              "#fdca26"
             ],
             [
              1,
              "#f0f921"
             ]
            ],
            "type": "histogram2d"
           }
          ],
          "histogram2dcontour": [
           {
            "colorbar": {
             "outlinewidth": 0,
             "ticks": ""
            },
            "colorscale": [
             [
              0,
              "#0d0887"
             ],
             [
              0.1111111111111111,
              "#46039f"
             ],
             [
              0.2222222222222222,
              "#7201a8"
             ],
             [
              0.3333333333333333,
              "#9c179e"
             ],
             [
              0.4444444444444444,
              "#bd3786"
             ],
             [
              0.5555555555555556,
              "#d8576b"
             ],
             [
              0.6666666666666666,
              "#ed7953"
             ],
             [
              0.7777777777777778,
              "#fb9f3a"
             ],
             [
              0.8888888888888888,
              "#fdca26"
             ],
             [
              1,
              "#f0f921"
             ]
            ],
            "type": "histogram2dcontour"
           }
          ],
          "mesh3d": [
           {
            "colorbar": {
             "outlinewidth": 0,
             "ticks": ""
            },
            "type": "mesh3d"
           }
          ],
          "parcoords": [
           {
            "line": {
             "colorbar": {
              "outlinewidth": 0,
              "ticks": ""
             }
            },
            "type": "parcoords"
           }
          ],
          "pie": [
           {
            "automargin": true,
            "type": "pie"
           }
          ],
          "scatter": [
           {
            "marker": {
             "line": {
              "color": "#283442"
             }
            },
            "type": "scatter"
           }
          ],
          "scatter3d": [
           {
            "line": {
             "colorbar": {
              "outlinewidth": 0,
              "ticks": ""
             }
            },
            "marker": {
             "colorbar": {
              "outlinewidth": 0,
              "ticks": ""
             }
            },
            "type": "scatter3d"
           }
          ],
          "scattercarpet": [
           {
            "marker": {
             "colorbar": {
              "outlinewidth": 0,
              "ticks": ""
             }
            },
            "type": "scattercarpet"
           }
          ],
          "scattergeo": [
           {
            "marker": {
             "colorbar": {
              "outlinewidth": 0,
              "ticks": ""
             }
            },
            "type": "scattergeo"
           }
          ],
          "scattergl": [
           {
            "marker": {
             "line": {
              "color": "#283442"
             }
            },
            "type": "scattergl"
           }
          ],
          "scattermapbox": [
           {
            "marker": {
             "colorbar": {
              "outlinewidth": 0,
              "ticks": ""
             }
            },
            "type": "scattermapbox"
           }
          ],
          "scatterpolar": [
           {
            "marker": {
             "colorbar": {
              "outlinewidth": 0,
              "ticks": ""
             }
            },
            "type": "scatterpolar"
           }
          ],
          "scatterpolargl": [
           {
            "marker": {
             "colorbar": {
              "outlinewidth": 0,
              "ticks": ""
             }
            },
            "type": "scatterpolargl"
           }
          ],
          "scatterternary": [
           {
            "marker": {
             "colorbar": {
              "outlinewidth": 0,
              "ticks": ""
             }
            },
            "type": "scatterternary"
           }
          ],
          "surface": [
           {
            "colorbar": {
             "outlinewidth": 0,
             "ticks": ""
            },
            "colorscale": [
             [
              0,
              "#0d0887"
             ],
             [
              0.1111111111111111,
              "#46039f"
             ],
             [
              0.2222222222222222,
              "#7201a8"
             ],
             [
              0.3333333333333333,
              "#9c179e"
             ],
             [
              0.4444444444444444,
              "#bd3786"
             ],
             [
              0.5555555555555556,
              "#d8576b"
             ],
             [
              0.6666666666666666,
              "#ed7953"
             ],
             [
              0.7777777777777778,
              "#fb9f3a"
             ],
             [
              0.8888888888888888,
              "#fdca26"
             ],
             [
              1,
              "#f0f921"
             ]
            ],
            "type": "surface"
           }
          ],
          "table": [
           {
            "cells": {
             "fill": {
              "color": "#506784"
             },
             "line": {
              "color": "rgb(17,17,17)"
             }
            },
            "header": {
             "fill": {
              "color": "#2a3f5f"
             },
             "line": {
              "color": "rgb(17,17,17)"
             }
            },
            "type": "table"
           }
          ]
         },
         "layout": {
          "annotationdefaults": {
           "arrowcolor": "#f2f5fa",
           "arrowhead": 0,
           "arrowwidth": 1
          },
          "autotypenumbers": "strict",
          "coloraxis": {
           "colorbar": {
            "outlinewidth": 0,
            "ticks": ""
           }
          },
          "colorscale": {
           "diverging": [
            [
             0,
             "#8e0152"
            ],
            [
             0.1,
             "#c51b7d"
            ],
            [
             0.2,
             "#de77ae"
            ],
            [
             0.3,
             "#f1b6da"
            ],
            [
             0.4,
             "#fde0ef"
            ],
            [
             0.5,
             "#f7f7f7"
            ],
            [
             0.6,
             "#e6f5d0"
            ],
            [
             0.7,
             "#b8e186"
            ],
            [
             0.8,
             "#7fbc41"
            ],
            [
             0.9,
             "#4d9221"
            ],
            [
             1,
             "#276419"
            ]
           ],
           "sequential": [
            [
             0,
             "#0d0887"
            ],
            [
             0.1111111111111111,
             "#46039f"
            ],
            [
             0.2222222222222222,
             "#7201a8"
            ],
            [
             0.3333333333333333,
             "#9c179e"
            ],
            [
             0.4444444444444444,
             "#bd3786"
            ],
            [
             0.5555555555555556,
             "#d8576b"
            ],
            [
             0.6666666666666666,
             "#ed7953"
            ],
            [
             0.7777777777777778,
             "#fb9f3a"
            ],
            [
             0.8888888888888888,
             "#fdca26"
            ],
            [
             1,
             "#f0f921"
            ]
           ],
           "sequentialminus": [
            [
             0,
             "#0d0887"
            ],
            [
             0.1111111111111111,
             "#46039f"
            ],
            [
             0.2222222222222222,
             "#7201a8"
            ],
            [
             0.3333333333333333,
             "#9c179e"
            ],
            [
             0.4444444444444444,
             "#bd3786"
            ],
            [
             0.5555555555555556,
             "#d8576b"
            ],
            [
             0.6666666666666666,
             "#ed7953"
            ],
            [
             0.7777777777777778,
             "#fb9f3a"
            ],
            [
             0.8888888888888888,
             "#fdca26"
            ],
            [
             1,
             "#f0f921"
            ]
           ]
          },
          "colorway": [
           "#636efa",
           "#EF553B",
           "#00cc96",
           "#ab63fa",
           "#FFA15A",
           "#19d3f3",
           "#FF6692",
           "#B6E880",
           "#FF97FF",
           "#FECB52"
          ],
          "font": {
           "color": "#f2f5fa"
          },
          "geo": {
           "bgcolor": "rgb(17,17,17)",
           "lakecolor": "rgb(17,17,17)",
           "landcolor": "rgb(17,17,17)",
           "showlakes": true,
           "showland": true,
           "subunitcolor": "#506784"
          },
          "hoverlabel": {
           "align": "left"
          },
          "hovermode": "closest",
          "mapbox": {
           "style": "dark"
          },
          "paper_bgcolor": "rgb(17,17,17)",
          "plot_bgcolor": "rgb(17,17,17)",
          "polar": {
           "angularaxis": {
            "gridcolor": "#506784",
            "linecolor": "#506784",
            "ticks": ""
           },
           "bgcolor": "rgb(17,17,17)",
           "radialaxis": {
            "gridcolor": "#506784",
            "linecolor": "#506784",
            "ticks": ""
           }
          },
          "scene": {
           "xaxis": {
            "backgroundcolor": "rgb(17,17,17)",
            "gridcolor": "#506784",
            "gridwidth": 2,
            "linecolor": "#506784",
            "showbackground": true,
            "ticks": "",
            "zerolinecolor": "#C8D4E3"
           },
           "yaxis": {
            "backgroundcolor": "rgb(17,17,17)",
            "gridcolor": "#506784",
            "gridwidth": 2,
            "linecolor": "#506784",
            "showbackground": true,
            "ticks": "",
            "zerolinecolor": "#C8D4E3"
           },
           "zaxis": {
            "backgroundcolor": "rgb(17,17,17)",
            "gridcolor": "#506784",
            "gridwidth": 2,
            "linecolor": "#506784",
            "showbackground": true,
            "ticks": "",
            "zerolinecolor": "#C8D4E3"
           }
          },
          "shapedefaults": {
           "line": {
            "color": "#f2f5fa"
           }
          },
          "sliderdefaults": {
           "bgcolor": "#C8D4E3",
           "bordercolor": "rgb(17,17,17)",
           "borderwidth": 1,
           "tickwidth": 0
          },
          "ternary": {
           "aaxis": {
            "gridcolor": "#506784",
            "linecolor": "#506784",
            "ticks": ""
           },
           "baxis": {
            "gridcolor": "#506784",
            "linecolor": "#506784",
            "ticks": ""
           },
           "bgcolor": "rgb(17,17,17)",
           "caxis": {
            "gridcolor": "#506784",
            "linecolor": "#506784",
            "ticks": ""
           }
          },
          "title": {
           "x": 0.05
          },
          "updatemenudefaults": {
           "bgcolor": "#506784",
           "borderwidth": 0
          },
          "xaxis": {
           "automargin": true,
           "gridcolor": "#283442",
           "linecolor": "#506784",
           "ticks": "",
           "title": {
            "standoff": 15
           },
           "zerolinecolor": "#283442",
           "zerolinewidth": 2
          },
          "yaxis": {
           "automargin": true,
           "gridcolor": "#283442",
           "linecolor": "#506784",
           "ticks": "",
           "title": {
            "standoff": 15
           },
           "zerolinecolor": "#283442",
           "zerolinewidth": 2
          }
         }
        },
        "title": {
         "text": "Coefficient of Variation (%)"
        },
        "xaxis": {
         "anchor": "y",
         "domain": [
          0,
          1
         ],
         "title": {
          "text": "Coefficient of Variation (Log Scale)"
         },
         "type": "log"
        },
        "yaxis": {
         "anchor": "x",
         "domain": [
          0,
          1
         ],
         "title": {
          "text": "Columns"
         }
        }
       }
      }
     },
     "metadata": {},
     "output_type": "display_data"
    }
   ],
   "source": [
    "df_macroeconomic_book_cvs = ((df_macroeconomic_numeric_cols.std(ddof=1) / df_macroeconomic_numeric_cols.mean().sort_values(ascending=True)) * 100).sort_values(ascending=True).reset_index()\n",
    "df_macroeconomic_book_cvs.columns = ['column', 'coefficient_variation']\n",
    "df_macroeconomic_book_cvs['coefficient_variation'] = df_macroeconomic_book_cvs['coefficient_variation'].abs().sort_values(ascending=True)\n",
    "df_macroeconomic_book_cvs.fillna(method='ffill', inplace=True)\n",
    "df_macroeconomic_book_cvs = df_macroeconomic_book_cvs.sort_values(by='coefficient_variation', ascending=False)\n",
    "\n",
    "\n",
    "fig = px.bar(df_macroeconomic_book_cvs, title='Coefficient of Variation (%)',y='column', x='coefficient_variation', orientation='h', color_discrete_sequence=['rgb(100, 195, 181)'],hover_name='column', height=800)\n",
    "fig.update_traces(text=[f'{x:.0f}%' for x in df_macroeconomic_book_cvs['coefficient_variation']], textposition='outside')\n",
    "fig.update_layout(xaxis_title='Coefficient of Variation (%)', yaxis_title='Columns', template='plotly_dark', font=dict(color='white'), xaxis={'type':'log', 'title':'Coefficient of Variation (Log Scale)'}, hovermode='y')\n",
    "\n",
    "fig.show()"
   ]
  },
  {
   "cell_type": "markdown",
   "metadata": {},
   "source": [
    "This horizontal bar graph displays the `Coefficient of Variation` for several economic indicators, indicating their relative variability.\n",
    "\n",
    "**Coefficient of Variation Analysis**:\n",
    "\n",
    "- `confidence`: Shows the least variability with a CV of **8%**, suggesting stable consumer confidence levels over the period.\n",
    "- `inflation_confidence_difference`: Has a slightly higher CV of **10%**, which may reflect the gap between expected and realized inflation.\n",
    "- `dolar`: Displays a CV of **12%**, indicating moderate variability in the dollar exchange rate.\n",
    "- `pib` (GDP): Has a CV of **15%**, pointing to fluctuations in economic output.\n",
    "- `ipca`: Shows higher variability with a CV of **51%**, a significant indicator of inflation volatility.\n",
    "- `selic`: Exhibits a CV of **59%**, highlighting variability in the policy interest rate.\n",
    "- `incc`: Shows a very high CV of **90%**, indicating substantial variability in the National Construction Cost Index.\n",
    "- `real_interest_rate`: With a CV of **261%**, it suggests extreme variability in the real interest rates over the period.\n",
    "- `gdp_growth`: Has an even higher CV of **471%**, pointing to the highly volatile nature of economic growth rates.\n",
    "- `dolar_growth`: Shows a CV of **683%**, signaling pronounced fluctuations in the dollar growth rate.\n",
    "- `monthly_inflation`: Exhibits the highest CV on the chart at **1261%**, indicating extreme volatility in monthly inflation rates.\n",
    "\n",
    "**Interpretation**:\n",
    "\n",
    "- The indicators with lower CVs, like `confidence`, are relatively stable, whereas those with higher CVs, such as `monthly_inflation`, show greater fluctuation and unpredictability.\n",
    "- High CV values, especially in key economic metrics like `monthly_inflation` and `gdp_growth`, can suggest a challenging environment for economic forecasting and policy-making.\n",
    "\n",
    "This chart is essential for analysts and policymakers to assess the stability and predictability of different economic measures, which is crucial for planning and decision-making.\n"
   ]
  },
  {
   "cell_type": "markdown",
   "metadata": {},
   "source": [
    "#### Outlier Analysis"
   ]
  },
  {
   "cell_type": "code",
   "execution_count": 30,
   "metadata": {},
   "outputs": [
    {
     "data": {
      "application/vnd.plotly.v1+json": {
       "config": {
        "plotlyServerURL": "https://plot.ly"
       },
       "data": [
        {
         "boxpoints": "outliers",
         "hoverinfo": "y+text",
         "jitter": 0.7,
         "marker": {
          "color": "lightseagreen"
         },
         "name": "date",
         "text": [],
         "type": "box",
         "xaxis": "x",
         "y": [
          "2019-01-31",
          "2019-02-28",
          "2019-03-31",
          "2019-04-30",
          "2019-05-31",
          "2019-06-30",
          "2019-07-31",
          "2019-08-31",
          "2019-09-30",
          "2019-10-31",
          "2019-11-30",
          "2019-12-31",
          "2020-01-31",
          "2020-02-29",
          "2020-03-31",
          "2020-04-30",
          "2020-05-31",
          "2020-06-30",
          "2020-07-31",
          "2020-08-31",
          "2020-09-30",
          "2020-10-31",
          "2020-11-30",
          "2020-12-31",
          "2021-01-31",
          "2021-02-28",
          "2021-03-31",
          "2021-04-30",
          "2021-05-31",
          "2021-06-30",
          "2021-07-31",
          "2021-08-31",
          "2021-09-30",
          "2021-10-31",
          "2021-11-30",
          "2021-12-31",
          "2022-01-31",
          "2022-02-28",
          "2022-03-31",
          "2022-04-30",
          "2022-05-31",
          "2022-06-30",
          "2022-07-31",
          "2022-08-31",
          "2022-09-30",
          "2022-10-31",
          "2022-11-30",
          "2022-12-31",
          "2023-01-31",
          "2023-02-28",
          "2023-03-31",
          "2023-04-30",
          "2023-05-31",
          "2023-06-30",
          "2023-07-31",
          "2023-08-31"
         ],
         "yaxis": "y"
        },
        {
         "boxpoints": "outliers",
         "hoverinfo": "y+text",
         "jitter": 0.7,
         "marker": {
          "color": "lightseagreen"
         },
         "name": "selic",
         "text": [],
         "type": "box",
         "xaxis": "x2",
         "y": [
          6.5,
          6.5,
          6.5,
          6.5,
          6.5,
          6.5,
          6.5,
          6,
          5.5,
          5,
          5,
          4.5,
          4.5,
          4.25,
          3.75,
          3.75,
          3,
          2.25,
          2.25,
          2,
          2,
          2,
          2,
          2,
          2,
          2,
          2.75,
          2.75,
          3.5,
          4.25,
          4.25,
          5.25,
          6.25,
          7.75,
          7.75,
          9.25,
          9.25,
          10.75,
          11.75,
          11.75,
          12.75,
          13.25,
          13.25,
          13.75,
          13.75,
          13.75,
          13.75,
          13.75,
          13.75,
          13.75,
          13.75,
          13.75,
          13.75,
          13.75,
          13.75,
          13.25
         ],
         "yaxis": "y2"
        },
        {
         "boxpoints": "outliers",
         "hoverinfo": "y+text",
         "jitter": 0.7,
         "marker": {
          "color": "lightseagreen"
         },
         "name": "confidence",
         "text": [],
         "type": "box",
         "xaxis": "x3",
         "y": [
          128.64,
          139.39,
          125.53,
          121.71,
          117.01,
          107.38,
          110.92,
          114.58,
          112.19,
          111.82,
          118.64,
          121.26,
          121.27,
          131.79,
          124.58,
          111.97,
          96.82,
          100.43,
          102.84,
          102.62,
          108.36,
          107.61,
          111.65,
          111.71,
          116.09,
          116.23,
          112.9,
          104.95,
          105.9,
          107.32,
          110.98,
          111.99,
          114.66,
          109.37,
          109.35,
          112,
          108.35,
          104.05,
          105.12,
          104.35,
          105.87,
          103.6,
          105.58,
          106.76,
          111.46,
          114.23,
          116.79,
          122.84,
          125.38,
          128.78,
          127.42,
          125.1,
          122.22,
          125.27,
          124.46,
          131.02
         ],
         "yaxis": "y3"
        },
        {
         "boxpoints": "outliers",
         "hoverinfo": "y+text",
         "jitter": 0.7,
         "marker": {
          "color": "lightseagreen"
         },
         "name": "pib",
         "text": [],
         "type": "box",
         "xaxis": "x4",
         "y": [
          578214.5,
          576089.7,
          601749.8,
          612918.4,
          615304.9,
          596919.2,
          631911.8,
          629532.3,
          619104.3,
          650359.4,
          639124.2,
          637902.4,
          615542.8,
          620048.3,
          637806.9,
          569278.8,
          579341.2,
          608897.5,
          645168,
          637698.5,
          646836.2,
          670157,
          676213.4,
          702608.4,
          677312.8,
          706456.2,
          768852.8,
          733617.9,
          724321,
          724110,
          754427.1,
          753685.9,
          746379.5,
          755392.8,
          771540.1,
          782631.4,
          722828.3,
          754068.3,
          838811.9,
          819757.1,
          826054.6,
          826025.7,
          852909.9,
          854027.1,
          836707.8,
          856445.6,
          859752.7,
          867927.4,
          804202.3,
          824738.6,
          927590.5,
          886228.9,
          884231,
          880696.5,
          909582.5,
          912895.5
         ],
         "yaxis": "y4"
        },
        {
         "boxpoints": "outliers",
         "hoverinfo": "y+text",
         "jitter": 0.7,
         "marker": {
          "color": "lightseagreen"
         },
         "name": "incc",
         "text": [],
         "type": "box",
         "xaxis": "x5",
         "y": [
          0.49,
          0.09,
          0.31,
          0.38,
          0.03,
          0.88,
          0.58,
          0.42,
          0.46,
          0.18,
          0.04,
          0.21,
          0.38,
          0.33,
          0.26,
          0.22,
          0.2,
          0.34,
          1.17,
          0.72,
          1.16,
          1.73,
          1.28,
          0.7,
          0.89,
          1.89,
          1.3,
          0.9,
          2.22,
          2.16,
          0.85,
          0.46,
          0.51,
          0.86,
          0.67,
          0.35,
          0.71,
          0.38,
          0.86,
          0.95,
          2.28,
          2.14,
          0.86,
          0.09,
          0.09,
          0.12,
          0.36,
          0.09,
          0.46,
          0.05,
          0.3,
          0.14,
          0.59,
          0.71,
          0.1,
          0.17
         ],
         "yaxis": "y5"
        },
        {
         "boxpoints": "outliers",
         "hoverinfo": "y+text",
         "jitter": 0.7,
         "marker": {
          "color": "lightseagreen"
         },
         "name": "ipca",
         "text": [],
         "type": "box",
         "xaxis": "x6",
         "y": [
          3.78,
          3.89,
          4.58,
          4.94,
          4.66,
          3.37,
          3.22,
          3.43,
          2.89,
          2.54,
          3.27,
          4.31,
          4.19,
          4.01,
          3.3,
          2.4,
          1.88,
          2.13,
          2.31,
          2.44,
          3.14,
          3.92,
          4.31,
          4.52,
          4.56,
          5.2,
          6.1,
          6.76,
          8.06,
          8.35,
          8.99,
          9.68,
          10.25,
          10.67,
          10.74,
          10.06,
          10.38,
          10.54,
          11.3,
          12.13,
          11.73,
          11.89,
          10.07,
          8.73,
          7.17,
          6.47,
          5.9,
          5.79,
          5.77,
          5.6,
          4.65,
          4.18,
          3.94,
          3.16,
          3.99,
          4.61
         ],
         "yaxis": "y6"
        },
        {
         "boxpoints": "outliers",
         "hoverinfo": "y+text",
         "jitter": 0.7,
         "marker": {
          "color": "lightseagreen"
         },
         "name": "dolar",
         "text": [],
         "type": "box",
         "xaxis": "x7",
         "y": [
          3.6513,
          3.7379,
          3.8961,
          3.9447,
          3.9401,
          3.8316,
          3.7643,
          4.1379,
          4.1638,
          4.0035,
          4.2234,
          4.0301,
          4.2689,
          4.4981,
          5.1981,
          5.4264,
          5.4257,
          5.4754,
          5.2027,
          5.4707,
          5.6401,
          5.7712,
          5.3311,
          5.1961,
          5.4753,
          5.5296,
          5.6967,
          5.403,
          5.2316,
          5.0016,
          5.121,
          5.1427,
          5.4388,
          5.6424,
          5.6193,
          5.5799,
          5.3568,
          5.1388,
          4.7372,
          4.9185,
          4.7283,
          5.2374,
          5.1878,
          5.1784,
          5.406,
          5.2564,
          5.2935,
          5.2171,
          5.0987,
          5.2072,
          5.0798,
          5.0001,
          5.0953,
          4.8186,
          4.7409,
          4.9213
         ],
         "yaxis": "y7"
        },
        {
         "boxpoints": "outliers",
         "hoverinfo": "y+text",
         "jitter": 0.7,
         "marker": {
          "color": "lightseagreen"
         },
         "name": "monthly_inflation",
         "text": [],
         "type": "box",
         "xaxis": "x8",
         "y": [
          -0.1119479105194651,
          0.0291005291005292,
          0.1773778920308484,
          0.0786026200873362,
          -0.0566801619433199,
          -0.276824034334764,
          -0.0445103857566765,
          0.0652173913043479,
          -0.1574344023323615,
          -0.1211072664359862,
          0.2874015748031495,
          0.3180428134556574,
          -0.02784222737819,
          -0.0429594272076373,
          -0.1770573566084787,
          -0.2727272727272727,
          -0.2166666666666666,
          0.1329787234042554,
          0.0845070422535212,
          0.0562770562770562,
          0.2868852459016393,
          0.2484076433121018,
          0.0994897959183673,
          0.0487238979118329,
          0.0088495575221239,
          0.1403508771929826,
          0.1730769230769229,
          0.1081967213114754,
          0.1923076923076925,
          0.0359801488833746,
          0.0766467065868263,
          0.0767519466073414,
          0.0588842975206611,
          0.0409756097560976,
          0.0065604498594189,
          -0.063314711359404,
          0.0318091451292246,
          0.0154142581888245,
          0.0721062618595826,
          0.0734513274336283,
          -0.0329760923330585,
          0.0136402387041774,
          -0.1530698065601345,
          -0.1330685203574975,
          -0.1786941580756014,
          -0.097629009762901,
          -0.088098918083462,
          -0.0186440677966102,
          -0.003454231433506,
          -0.0294627383015597,
          -0.1696428571428569,
          -0.1010752688172044,
          -0.0574162679425837,
          -0.197969543147208,
          0.2626582278481013,
          0.1553884711779449
         ],
         "yaxis": "y8"
        },
        {
         "boxpoints": "outliers",
         "hoverinfo": "y+text",
         "jitter": 0.7,
         "marker": {
          "color": "lightseagreen"
         },
         "name": "gdp_growth",
         "text": [],
         "type": "box",
         "xaxis": "x9",
         "y": [
          -0.0157562364676189,
          -0.0036747608370251,
          0.0445418482573114,
          0.0185602055871061,
          0.0038936667589029,
          -0.0298806331625184,
          0.0586220044521941,
          -0.0037655571552865,
          -0.0165646782539989,
          0.0504843852643246,
          -0.0172753711255654,
          -0.0019116785125644,
          -0.0350517571340066,
          0.007319556008128,
          0.0286406720250664,
          -0.1074433343383396,
          0.0176756977424767,
          0.0510170863042367,
          0.059567496992515,
          -0.0115776045929122,
          0.0143291853438576,
          0.0360536407826279,
          0.0090372852928493,
          0.0390335358630871,
          -0.0360024161396305,
          0.0430279776197939,
          0.0883233808408789,
          -0.0458278879910433,
          -0.012672673335806,
          -0.0002913073071193,
          0.041868086340473,
          -0.0009824673583437,
          -0.0096942240792882,
          0.0120760283475096,
          0.0213760311191739,
          0.0143755327817698,
          -0.0764128554003839,
          0.0432191157983161,
          0.1123818624917663,
          -0.022716415921138,
          0.0076821536525881,
          -0.0000349855808563504,
          0.0325464449834915,
          0.0013098687211861,
          -0.0202795672408989,
          0.0235898362606394,
          0.0038614244734282,
          0.0095081992763734,
          -0.0734221548945223,
          0.0255362363425222,
          0.1247084833909799,
          -0.04459036611522,
          -0.0022543837150876,
          -0.0039972586349041,
          0.0327990403050313,
          0.0036423304098309
         ],
         "yaxis": "y9"
        },
        {
         "boxpoints": "outliers",
         "hoverinfo": "y+text",
         "jitter": 0.7,
         "marker": {
          "color": "lightseagreen"
         },
         "name": "dollar_growth",
         "text": [],
         "type": "box",
         "xaxis": "x10",
         "y": [
          0.016458866470465,
          0.0237175800399858,
          0.0423232296209101,
          0.0124740124740123,
          -0.0011661216315562,
          -0.027537372147915,
          -0.0175644639315167,
          0.0992482001965837,
          0.0062592136107688,
          -0.0384984869590279,
          0.0549269389284376,
          -0.0457688118577449,
          0.0592541128011712,
          0.0536906463023261,
          0.1556212623107535,
          0.0439198938073526,
          -0.0001289989680083,
          0.0091601083731129,
          -0.0498045804872702,
          0.0515117150710207,
          0.0309649587804121,
          0.0232442687186398,
          -0.0762579706126975,
          -0.0253231040498208,
          0.0537326071476682,
          0.0099172648074079,
          0.0302191840277776,
          -0.0515561640950024,
          -0.03172311678697,
          -0.0439636057802584,
          0.0238723608445299,
          0.0042374536223392,
          0.0575767592898672,
          0.0374347282488785,
          -0.0040940025521055,
          -0.007011549481252,
          -0.0399827953905984,
          -0.0406959378733572,
          -0.0781505409823305,
          0.0382715528160095,
          -0.0386703263189996,
          0.1076708330689677,
          -0.009470347882537,
          -0.0018119434056825,
          0.0439517997837168,
          -0.0276729559748426,
          0.0070580625523171,
          -0.014432794937187,
          -0.0226946004485251,
          0.0212799341008493,
          -0.0244661238285451,
          -0.015689594078507,
          0.0190396192076158,
          -0.054304947696897,
          -0.0161250155646868,
          0.0380518466957751
         ],
         "yaxis": "y10"
        },
        {
         "boxpoints": "outliers",
         "hoverinfo": "y+text",
         "jitter": 0.7,
         "marker": {
          "color": "lightseagreen"
         },
         "name": "real_interest_rate",
         "text": [],
         "type": "box",
         "xaxis": "x11",
         "y": [
          2.72,
          2.61,
          1.92,
          1.5599999999999996,
          1.84,
          3.13,
          3.28,
          2.57,
          2.61,
          2.46,
          1.73,
          0.1900000000000004,
          0.3099999999999996,
          0.2400000000000002,
          0.4500000000000002,
          1.35,
          1.12,
          0.1200000000000001,
          -0.06,
          -0.4399999999999999,
          -1.14,
          -1.92,
          -2.31,
          -2.52,
          -2.56,
          -3.2,
          -3.35,
          -4.01,
          -4.5600000000000005,
          -4.1,
          -4.74,
          -4.43,
          -4,
          -2.92,
          -2.99,
          -0.8100000000000005,
          -1.1300000000000008,
          0.2100000000000008,
          0.4499999999999993,
          -0.3800000000000008,
          1.0199999999999996,
          1.3599999999999994,
          3.18,
          5.02,
          6.58,
          7.28,
          7.85,
          7.96,
          7.98,
          8.15,
          9.1,
          9.57,
          9.81,
          10.59,
          9.76,
          8.64
         ],
         "yaxis": "y11"
        },
        {
         "boxpoints": "outliers",
         "hoverinfo": "y+text",
         "jitter": 0.7,
         "marker": {
          "color": "lightseagreen"
         },
         "name": "inflation_confidence_difference",
         "text": [],
         "type": "box",
         "xaxis": "x12",
         "y": [
          -124.86,
          -135.5,
          -120.95,
          -116.77,
          -112.35,
          -104.01,
          -107.7,
          -111.15,
          -109.3,
          -109.28,
          -115.37,
          -116.95,
          -117.08,
          -127.78,
          -121.28,
          -109.57,
          -94.94,
          -98.3,
          -100.53,
          -100.18,
          -105.22,
          -103.69,
          -107.34,
          -107.19,
          -111.53,
          -111.03,
          -106.8,
          -98.19,
          -97.84,
          -98.97,
          -101.99,
          -102.31,
          -104.41,
          -98.7,
          -98.61,
          -101.94,
          -97.97,
          -93.51,
          -93.82,
          -92.22,
          -94.14,
          -91.71,
          -95.51,
          -98.03,
          -104.29,
          -107.76,
          -110.89,
          -117.05,
          -119.61,
          -123.18,
          -122.77,
          -120.92,
          -118.28,
          -122.11,
          -120.47,
          -126.41
         ],
         "yaxis": "y12"
        }
       ],
       "layout": {
        "annotations": [
         {
          "font": {
           "size": 16
          },
          "showarrow": false,
          "text": "date",
          "x": 0.14444444444444446,
          "xanchor": "center",
          "xref": "paper",
          "y": 1,
          "yanchor": "bottom",
          "yref": "paper"
         },
         {
          "font": {
           "size": 16
          },
          "showarrow": false,
          "text": "selic",
          "x": 0.5,
          "xanchor": "center",
          "xref": "paper",
          "y": 1,
          "yanchor": "bottom",
          "yref": "paper"
         },
         {
          "font": {
           "size": 16
          },
          "showarrow": false,
          "text": "confidence",
          "x": 0.8555555555555556,
          "xanchor": "center",
          "xref": "paper",
          "y": 1,
          "yanchor": "bottom",
          "yref": "paper"
         },
         {
          "font": {
           "size": 16
          },
          "showarrow": false,
          "text": "pib",
          "x": 0.14444444444444446,
          "xanchor": "center",
          "xref": "paper",
          "y": 0.964922711058264,
          "yanchor": "bottom",
          "yref": "paper"
         },
         {
          "font": {
           "size": 16
          },
          "showarrow": false,
          "text": "incc",
          "x": 0.5,
          "xanchor": "center",
          "xref": "paper",
          "y": 0.964922711058264,
          "yanchor": "bottom",
          "yref": "paper"
         },
         {
          "font": {
           "size": 16
          },
          "showarrow": false,
          "text": "ipca",
          "x": 0.8555555555555556,
          "xanchor": "center",
          "xref": "paper",
          "y": 0.964922711058264,
          "yanchor": "bottom",
          "yref": "paper"
         },
         {
          "font": {
           "size": 16
          },
          "showarrow": false,
          "text": "dolar",
          "x": 0.14444444444444446,
          "xanchor": "center",
          "xref": "paper",
          "y": 0.9298454221165281,
          "yanchor": "bottom",
          "yref": "paper"
         },
         {
          "font": {
           "size": 16
          },
          "showarrow": false,
          "text": "monthly_inflation",
          "x": 0.5,
          "xanchor": "center",
          "xref": "paper",
          "y": 0.9298454221165281,
          "yanchor": "bottom",
          "yref": "paper"
         },
         {
          "font": {
           "size": 16
          },
          "showarrow": false,
          "text": "gdp_growth",
          "x": 0.8555555555555556,
          "xanchor": "center",
          "xref": "paper",
          "y": 0.9298454221165281,
          "yanchor": "bottom",
          "yref": "paper"
         },
         {
          "font": {
           "size": 16
          },
          "showarrow": false,
          "text": "dollar_growth",
          "x": 0.14444444444444446,
          "xanchor": "center",
          "xref": "paper",
          "y": 0.894768133174792,
          "yanchor": "bottom",
          "yref": "paper"
         },
         {
          "font": {
           "size": 16
          },
          "showarrow": false,
          "text": "real_interest_rate",
          "x": 0.5,
          "xanchor": "center",
          "xref": "paper",
          "y": 0.894768133174792,
          "yanchor": "bottom",
          "yref": "paper"
         },
         {
          "font": {
           "size": 16
          },
          "showarrow": false,
          "text": "inflation_confidence_difference",
          "x": 0.8555555555555556,
          "xanchor": "center",
          "xref": "paper",
          "y": 0.894768133174792,
          "yanchor": "bottom",
          "yref": "paper"
         }
        ],
        "height": 8400,
        "showlegend": false,
        "template": {
         "data": {
          "bar": [
           {
            "error_x": {
             "color": "#f2f5fa"
            },
            "error_y": {
             "color": "#f2f5fa"
            },
            "marker": {
             "line": {
              "color": "rgb(17,17,17)",
              "width": 0.5
             },
             "pattern": {
              "fillmode": "overlay",
              "size": 10,
              "solidity": 0.2
             }
            },
            "type": "bar"
           }
          ],
          "barpolar": [
           {
            "marker": {
             "line": {
              "color": "rgb(17,17,17)",
              "width": 0.5
             },
             "pattern": {
              "fillmode": "overlay",
              "size": 10,
              "solidity": 0.2
             }
            },
            "type": "barpolar"
           }
          ],
          "carpet": [
           {
            "aaxis": {
             "endlinecolor": "#A2B1C6",
             "gridcolor": "#506784",
             "linecolor": "#506784",
             "minorgridcolor": "#506784",
             "startlinecolor": "#A2B1C6"
            },
            "baxis": {
             "endlinecolor": "#A2B1C6",
             "gridcolor": "#506784",
             "linecolor": "#506784",
             "minorgridcolor": "#506784",
             "startlinecolor": "#A2B1C6"
            },
            "type": "carpet"
           }
          ],
          "choropleth": [
           {
            "colorbar": {
             "outlinewidth": 0,
             "ticks": ""
            },
            "type": "choropleth"
           }
          ],
          "contour": [
           {
            "colorbar": {
             "outlinewidth": 0,
             "ticks": ""
            },
            "colorscale": [
             [
              0,
              "#0d0887"
             ],
             [
              0.1111111111111111,
              "#46039f"
             ],
             [
              0.2222222222222222,
              "#7201a8"
             ],
             [
              0.3333333333333333,
              "#9c179e"
             ],
             [
              0.4444444444444444,
              "#bd3786"
             ],
             [
              0.5555555555555556,
              "#d8576b"
             ],
             [
              0.6666666666666666,
              "#ed7953"
             ],
             [
              0.7777777777777778,
              "#fb9f3a"
             ],
             [
              0.8888888888888888,
              "#fdca26"
             ],
             [
              1,
              "#f0f921"
             ]
            ],
            "type": "contour"
           }
          ],
          "contourcarpet": [
           {
            "colorbar": {
             "outlinewidth": 0,
             "ticks": ""
            },
            "type": "contourcarpet"
           }
          ],
          "heatmap": [
           {
            "colorbar": {
             "outlinewidth": 0,
             "ticks": ""
            },
            "colorscale": [
             [
              0,
              "#0d0887"
             ],
             [
              0.1111111111111111,
              "#46039f"
             ],
             [
              0.2222222222222222,
              "#7201a8"
             ],
             [
              0.3333333333333333,
              "#9c179e"
             ],
             [
              0.4444444444444444,
              "#bd3786"
             ],
             [
              0.5555555555555556,
              "#d8576b"
             ],
             [
              0.6666666666666666,
              "#ed7953"
             ],
             [
              0.7777777777777778,
              "#fb9f3a"
             ],
             [
              0.8888888888888888,
              "#fdca26"
             ],
             [
              1,
              "#f0f921"
             ]
            ],
            "type": "heatmap"
           }
          ],
          "heatmapgl": [
           {
            "colorbar": {
             "outlinewidth": 0,
             "ticks": ""
            },
            "colorscale": [
             [
              0,
              "#0d0887"
             ],
             [
              0.1111111111111111,
              "#46039f"
             ],
             [
              0.2222222222222222,
              "#7201a8"
             ],
             [
              0.3333333333333333,
              "#9c179e"
             ],
             [
              0.4444444444444444,
              "#bd3786"
             ],
             [
              0.5555555555555556,
              "#d8576b"
             ],
             [
              0.6666666666666666,
              "#ed7953"
             ],
             [
              0.7777777777777778,
              "#fb9f3a"
             ],
             [
              0.8888888888888888,
              "#fdca26"
             ],
             [
              1,
              "#f0f921"
             ]
            ],
            "type": "heatmapgl"
           }
          ],
          "histogram": [
           {
            "marker": {
             "pattern": {
              "fillmode": "overlay",
              "size": 10,
              "solidity": 0.2
             }
            },
            "type": "histogram"
           }
          ],
          "histogram2d": [
           {
            "colorbar": {
             "outlinewidth": 0,
             "ticks": ""
            },
            "colorscale": [
             [
              0,
              "#0d0887"
             ],
             [
              0.1111111111111111,
              "#46039f"
             ],
             [
              0.2222222222222222,
              "#7201a8"
             ],
             [
              0.3333333333333333,
              "#9c179e"
             ],
             [
              0.4444444444444444,
              "#bd3786"
             ],
             [
              0.5555555555555556,
              "#d8576b"
             ],
             [
              0.6666666666666666,
              "#ed7953"
             ],
             [
              0.7777777777777778,
              "#fb9f3a"
             ],
             [
              0.8888888888888888,
              "#fdca26"
             ],
             [
              1,
              "#f0f921"
             ]
            ],
            "type": "histogram2d"
           }
          ],
          "histogram2dcontour": [
           {
            "colorbar": {
             "outlinewidth": 0,
             "ticks": ""
            },
            "colorscale": [
             [
              0,
              "#0d0887"
             ],
             [
              0.1111111111111111,
              "#46039f"
             ],
             [
              0.2222222222222222,
              "#7201a8"
             ],
             [
              0.3333333333333333,
              "#9c179e"
             ],
             [
              0.4444444444444444,
              "#bd3786"
             ],
             [
              0.5555555555555556,
              "#d8576b"
             ],
             [
              0.6666666666666666,
              "#ed7953"
             ],
             [
              0.7777777777777778,
              "#fb9f3a"
             ],
             [
              0.8888888888888888,
              "#fdca26"
             ],
             [
              1,
              "#f0f921"
             ]
            ],
            "type": "histogram2dcontour"
           }
          ],
          "mesh3d": [
           {
            "colorbar": {
             "outlinewidth": 0,
             "ticks": ""
            },
            "type": "mesh3d"
           }
          ],
          "parcoords": [
           {
            "line": {
             "colorbar": {
              "outlinewidth": 0,
              "ticks": ""
             }
            },
            "type": "parcoords"
           }
          ],
          "pie": [
           {
            "automargin": true,
            "type": "pie"
           }
          ],
          "scatter": [
           {
            "marker": {
             "line": {
              "color": "#283442"
             }
            },
            "type": "scatter"
           }
          ],
          "scatter3d": [
           {
            "line": {
             "colorbar": {
              "outlinewidth": 0,
              "ticks": ""
             }
            },
            "marker": {
             "colorbar": {
              "outlinewidth": 0,
              "ticks": ""
             }
            },
            "type": "scatter3d"
           }
          ],
          "scattercarpet": [
           {
            "marker": {
             "colorbar": {
              "outlinewidth": 0,
              "ticks": ""
             }
            },
            "type": "scattercarpet"
           }
          ],
          "scattergeo": [
           {
            "marker": {
             "colorbar": {
              "outlinewidth": 0,
              "ticks": ""
             }
            },
            "type": "scattergeo"
           }
          ],
          "scattergl": [
           {
            "marker": {
             "line": {
              "color": "#283442"
             }
            },
            "type": "scattergl"
           }
          ],
          "scattermapbox": [
           {
            "marker": {
             "colorbar": {
              "outlinewidth": 0,
              "ticks": ""
             }
            },
            "type": "scattermapbox"
           }
          ],
          "scatterpolar": [
           {
            "marker": {
             "colorbar": {
              "outlinewidth": 0,
              "ticks": ""
             }
            },
            "type": "scatterpolar"
           }
          ],
          "scatterpolargl": [
           {
            "marker": {
             "colorbar": {
              "outlinewidth": 0,
              "ticks": ""
             }
            },
            "type": "scatterpolargl"
           }
          ],
          "scatterternary": [
           {
            "marker": {
             "colorbar": {
              "outlinewidth": 0,
              "ticks": ""
             }
            },
            "type": "scatterternary"
           }
          ],
          "surface": [
           {
            "colorbar": {
             "outlinewidth": 0,
             "ticks": ""
            },
            "colorscale": [
             [
              0,
              "#0d0887"
             ],
             [
              0.1111111111111111,
              "#46039f"
             ],
             [
              0.2222222222222222,
              "#7201a8"
             ],
             [
              0.3333333333333333,
              "#9c179e"
             ],
             [
              0.4444444444444444,
              "#bd3786"
             ],
             [
              0.5555555555555556,
              "#d8576b"
             ],
             [
              0.6666666666666666,
              "#ed7953"
             ],
             [
              0.7777777777777778,
              "#fb9f3a"
             ],
             [
              0.8888888888888888,
              "#fdca26"
             ],
             [
              1,
              "#f0f921"
             ]
            ],
            "type": "surface"
           }
          ],
          "table": [
           {
            "cells": {
             "fill": {
              "color": "#506784"
             },
             "line": {
              "color": "rgb(17,17,17)"
             }
            },
            "header": {
             "fill": {
              "color": "#2a3f5f"
             },
             "line": {
              "color": "rgb(17,17,17)"
             }
            },
            "type": "table"
           }
          ]
         },
         "layout": {
          "annotationdefaults": {
           "arrowcolor": "#f2f5fa",
           "arrowhead": 0,
           "arrowwidth": 1
          },
          "autotypenumbers": "strict",
          "coloraxis": {
           "colorbar": {
            "outlinewidth": 0,
            "ticks": ""
           }
          },
          "colorscale": {
           "diverging": [
            [
             0,
             "#8e0152"
            ],
            [
             0.1,
             "#c51b7d"
            ],
            [
             0.2,
             "#de77ae"
            ],
            [
             0.3,
             "#f1b6da"
            ],
            [
             0.4,
             "#fde0ef"
            ],
            [
             0.5,
             "#f7f7f7"
            ],
            [
             0.6,
             "#e6f5d0"
            ],
            [
             0.7,
             "#b8e186"
            ],
            [
             0.8,
             "#7fbc41"
            ],
            [
             0.9,
             "#4d9221"
            ],
            [
             1,
             "#276419"
            ]
           ],
           "sequential": [
            [
             0,
             "#0d0887"
            ],
            [
             0.1111111111111111,
             "#46039f"
            ],
            [
             0.2222222222222222,
             "#7201a8"
            ],
            [
             0.3333333333333333,
             "#9c179e"
            ],
            [
             0.4444444444444444,
             "#bd3786"
            ],
            [
             0.5555555555555556,
             "#d8576b"
            ],
            [
             0.6666666666666666,
             "#ed7953"
            ],
            [
             0.7777777777777778,
             "#fb9f3a"
            ],
            [
             0.8888888888888888,
             "#fdca26"
            ],
            [
             1,
             "#f0f921"
            ]
           ],
           "sequentialminus": [
            [
             0,
             "#0d0887"
            ],
            [
             0.1111111111111111,
             "#46039f"
            ],
            [
             0.2222222222222222,
             "#7201a8"
            ],
            [
             0.3333333333333333,
             "#9c179e"
            ],
            [
             0.4444444444444444,
             "#bd3786"
            ],
            [
             0.5555555555555556,
             "#d8576b"
            ],
            [
             0.6666666666666666,
             "#ed7953"
            ],
            [
             0.7777777777777778,
             "#fb9f3a"
            ],
            [
             0.8888888888888888,
             "#fdca26"
            ],
            [
             1,
             "#f0f921"
            ]
           ]
          },
          "colorway": [
           "#636efa",
           "#EF553B",
           "#00cc96",
           "#ab63fa",
           "#FFA15A",
           "#19d3f3",
           "#FF6692",
           "#B6E880",
           "#FF97FF",
           "#FECB52"
          ],
          "font": {
           "color": "#f2f5fa"
          },
          "geo": {
           "bgcolor": "rgb(17,17,17)",
           "lakecolor": "rgb(17,17,17)",
           "landcolor": "rgb(17,17,17)",
           "showlakes": true,
           "showland": true,
           "subunitcolor": "#506784"
          },
          "hoverlabel": {
           "align": "left"
          },
          "hovermode": "closest",
          "mapbox": {
           "style": "dark"
          },
          "paper_bgcolor": "rgb(17,17,17)",
          "plot_bgcolor": "rgb(17,17,17)",
          "polar": {
           "angularaxis": {
            "gridcolor": "#506784",
            "linecolor": "#506784",
            "ticks": ""
           },
           "bgcolor": "rgb(17,17,17)",
           "radialaxis": {
            "gridcolor": "#506784",
            "linecolor": "#506784",
            "ticks": ""
           }
          },
          "scene": {
           "xaxis": {
            "backgroundcolor": "rgb(17,17,17)",
            "gridcolor": "#506784",
            "gridwidth": 2,
            "linecolor": "#506784",
            "showbackground": true,
            "ticks": "",
            "zerolinecolor": "#C8D4E3"
           },
           "yaxis": {
            "backgroundcolor": "rgb(17,17,17)",
            "gridcolor": "#506784",
            "gridwidth": 2,
            "linecolor": "#506784",
            "showbackground": true,
            "ticks": "",
            "zerolinecolor": "#C8D4E3"
           },
           "zaxis": {
            "backgroundcolor": "rgb(17,17,17)",
            "gridcolor": "#506784",
            "gridwidth": 2,
            "linecolor": "#506784",
            "showbackground": true,
            "ticks": "",
            "zerolinecolor": "#C8D4E3"
           }
          },
          "shapedefaults": {
           "line": {
            "color": "#f2f5fa"
           }
          },
          "sliderdefaults": {
           "bgcolor": "#C8D4E3",
           "bordercolor": "rgb(17,17,17)",
           "borderwidth": 1,
           "tickwidth": 0
          },
          "ternary": {
           "aaxis": {
            "gridcolor": "#506784",
            "linecolor": "#506784",
            "ticks": ""
           },
           "baxis": {
            "gridcolor": "#506784",
            "linecolor": "#506784",
            "ticks": ""
           },
           "bgcolor": "rgb(17,17,17)",
           "caxis": {
            "gridcolor": "#506784",
            "linecolor": "#506784",
            "ticks": ""
           }
          },
          "title": {
           "x": 0.05
          },
          "updatemenudefaults": {
           "bgcolor": "#506784",
           "borderwidth": 0
          },
          "xaxis": {
           "automargin": true,
           "gridcolor": "#283442",
           "linecolor": "#506784",
           "ticks": "",
           "title": {
            "standoff": 15
           },
           "zerolinecolor": "#283442",
           "zerolinewidth": 2
          },
          "yaxis": {
           "automargin": true,
           "gridcolor": "#283442",
           "linecolor": "#506784",
           "ticks": "",
           "title": {
            "standoff": 15
           },
           "zerolinecolor": "#283442",
           "zerolinewidth": 2
          }
         }
        },
        "title": {
         "text": "Boxplot of Numerical Variables"
        },
        "xaxis": {
         "anchor": "y",
         "domain": [
          0,
          0.2888888888888889
         ]
        },
        "xaxis10": {
         "anchor": "y10",
         "domain": [
          0,
          0.2888888888888889
         ]
        },
        "xaxis11": {
         "anchor": "y11",
         "domain": [
          0.35555555555555557,
          0.6444444444444445
         ]
        },
        "xaxis12": {
         "anchor": "y12",
         "domain": [
          0.7111111111111111,
          1
         ]
        },
        "xaxis13": {
         "anchor": "y13",
         "domain": [
          0,
          0.2888888888888889
         ]
        },
        "xaxis14": {
         "anchor": "y14",
         "domain": [
          0.35555555555555557,
          0.6444444444444445
         ]
        },
        "xaxis15": {
         "anchor": "y15",
         "domain": [
          0.7111111111111111,
          1
         ]
        },
        "xaxis16": {
         "anchor": "y16",
         "domain": [
          0,
          0.2888888888888889
         ]
        },
        "xaxis17": {
         "anchor": "y17",
         "domain": [
          0.35555555555555557,
          0.6444444444444445
         ]
        },
        "xaxis18": {
         "anchor": "y18",
         "domain": [
          0.7111111111111111,
          1
         ]
        },
        "xaxis19": {
         "anchor": "y19",
         "domain": [
          0,
          0.2888888888888889
         ]
        },
        "xaxis2": {
         "anchor": "y2",
         "domain": [
          0.35555555555555557,
          0.6444444444444445
         ]
        },
        "xaxis20": {
         "anchor": "y20",
         "domain": [
          0.35555555555555557,
          0.6444444444444445
         ]
        },
        "xaxis21": {
         "anchor": "y21",
         "domain": [
          0.7111111111111111,
          1
         ]
        },
        "xaxis22": {
         "anchor": "y22",
         "domain": [
          0,
          0.2888888888888889
         ]
        },
        "xaxis23": {
         "anchor": "y23",
         "domain": [
          0.35555555555555557,
          0.6444444444444445
         ]
        },
        "xaxis24": {
         "anchor": "y24",
         "domain": [
          0.7111111111111111,
          1
         ]
        },
        "xaxis25": {
         "anchor": "y25",
         "domain": [
          0,
          0.2888888888888889
         ]
        },
        "xaxis26": {
         "anchor": "y26",
         "domain": [
          0.35555555555555557,
          0.6444444444444445
         ]
        },
        "xaxis27": {
         "anchor": "y27",
         "domain": [
          0.7111111111111111,
          1
         ]
        },
        "xaxis28": {
         "anchor": "y28",
         "domain": [
          0,
          0.2888888888888889
         ]
        },
        "xaxis29": {
         "anchor": "y29",
         "domain": [
          0.35555555555555557,
          0.6444444444444445
         ]
        },
        "xaxis3": {
         "anchor": "y3",
         "domain": [
          0.7111111111111111,
          1
         ]
        },
        "xaxis30": {
         "anchor": "y30",
         "domain": [
          0.7111111111111111,
          1
         ]
        },
        "xaxis31": {
         "anchor": "y31",
         "domain": [
          0,
          0.2888888888888889
         ]
        },
        "xaxis32": {
         "anchor": "y32",
         "domain": [
          0.35555555555555557,
          0.6444444444444445
         ]
        },
        "xaxis33": {
         "anchor": "y33",
         "domain": [
          0.7111111111111111,
          1
         ]
        },
        "xaxis34": {
         "anchor": "y34",
         "domain": [
          0,
          0.2888888888888889
         ]
        },
        "xaxis35": {
         "anchor": "y35",
         "domain": [
          0.35555555555555557,
          0.6444444444444445
         ]
        },
        "xaxis36": {
         "anchor": "y36",
         "domain": [
          0.7111111111111111,
          1
         ]
        },
        "xaxis37": {
         "anchor": "y37",
         "domain": [
          0,
          0.2888888888888889
         ]
        },
        "xaxis38": {
         "anchor": "y38",
         "domain": [
          0.35555555555555557,
          0.6444444444444445
         ]
        },
        "xaxis39": {
         "anchor": "y39",
         "domain": [
          0.7111111111111111,
          1
         ]
        },
        "xaxis4": {
         "anchor": "y4",
         "domain": [
          0,
          0.2888888888888889
         ]
        },
        "xaxis40": {
         "anchor": "y40",
         "domain": [
          0,
          0.2888888888888889
         ]
        },
        "xaxis41": {
         "anchor": "y41",
         "domain": [
          0.35555555555555557,
          0.6444444444444445
         ]
        },
        "xaxis42": {
         "anchor": "y42",
         "domain": [
          0.7111111111111111,
          1
         ]
        },
        "xaxis43": {
         "anchor": "y43",
         "domain": [
          0,
          0.2888888888888889
         ]
        },
        "xaxis44": {
         "anchor": "y44",
         "domain": [
          0.35555555555555557,
          0.6444444444444445
         ]
        },
        "xaxis45": {
         "anchor": "y45",
         "domain": [
          0.7111111111111111,
          1
         ]
        },
        "xaxis46": {
         "anchor": "y46",
         "domain": [
          0,
          0.2888888888888889
         ]
        },
        "xaxis47": {
         "anchor": "y47",
         "domain": [
          0.35555555555555557,
          0.6444444444444445
         ]
        },
        "xaxis48": {
         "anchor": "y48",
         "domain": [
          0.7111111111111111,
          1
         ]
        },
        "xaxis49": {
         "anchor": "y49",
         "domain": [
          0,
          0.2888888888888889
         ]
        },
        "xaxis5": {
         "anchor": "y5",
         "domain": [
          0.35555555555555557,
          0.6444444444444445
         ]
        },
        "xaxis50": {
         "anchor": "y50",
         "domain": [
          0.35555555555555557,
          0.6444444444444445
         ]
        },
        "xaxis51": {
         "anchor": "y51",
         "domain": [
          0.7111111111111111,
          1
         ]
        },
        "xaxis52": {
         "anchor": "y52",
         "domain": [
          0,
          0.2888888888888889
         ]
        },
        "xaxis53": {
         "anchor": "y53",
         "domain": [
          0.35555555555555557,
          0.6444444444444445
         ]
        },
        "xaxis54": {
         "anchor": "y54",
         "domain": [
          0.7111111111111111,
          1
         ]
        },
        "xaxis55": {
         "anchor": "y55",
         "domain": [
          0,
          0.2888888888888889
         ]
        },
        "xaxis56": {
         "anchor": "y56",
         "domain": [
          0.35555555555555557,
          0.6444444444444445
         ]
        },
        "xaxis57": {
         "anchor": "y57",
         "domain": [
          0.7111111111111111,
          1
         ]
        },
        "xaxis58": {
         "anchor": "y58",
         "domain": [
          0,
          0.2888888888888889
         ]
        },
        "xaxis59": {
         "anchor": "y59",
         "domain": [
          0.35555555555555557,
          0.6444444444444445
         ]
        },
        "xaxis6": {
         "anchor": "y6",
         "domain": [
          0.7111111111111111,
          1
         ]
        },
        "xaxis60": {
         "anchor": "y60",
         "domain": [
          0.7111111111111111,
          1
         ]
        },
        "xaxis61": {
         "anchor": "y61",
         "domain": [
          0,
          0.2888888888888889
         ]
        },
        "xaxis62": {
         "anchor": "y62",
         "domain": [
          0.35555555555555557,
          0.6444444444444445
         ]
        },
        "xaxis63": {
         "anchor": "y63",
         "domain": [
          0.7111111111111111,
          1
         ]
        },
        "xaxis64": {
         "anchor": "y64",
         "domain": [
          0,
          0.2888888888888889
         ]
        },
        "xaxis65": {
         "anchor": "y65",
         "domain": [
          0.35555555555555557,
          0.6444444444444445
         ]
        },
        "xaxis66": {
         "anchor": "y66",
         "domain": [
          0.7111111111111111,
          1
         ]
        },
        "xaxis67": {
         "anchor": "y67",
         "domain": [
          0,
          0.2888888888888889
         ]
        },
        "xaxis68": {
         "anchor": "y68",
         "domain": [
          0.35555555555555557,
          0.6444444444444445
         ]
        },
        "xaxis69": {
         "anchor": "y69",
         "domain": [
          0.7111111111111111,
          1
         ]
        },
        "xaxis7": {
         "anchor": "y7",
         "domain": [
          0,
          0.2888888888888889
         ]
        },
        "xaxis70": {
         "anchor": "y70",
         "domain": [
          0,
          0.2888888888888889
         ]
        },
        "xaxis71": {
         "anchor": "y71",
         "domain": [
          0.35555555555555557,
          0.6444444444444445
         ]
        },
        "xaxis72": {
         "anchor": "y72",
         "domain": [
          0.7111111111111111,
          1
         ]
        },
        "xaxis73": {
         "anchor": "y73",
         "domain": [
          0,
          0.2888888888888889
         ]
        },
        "xaxis74": {
         "anchor": "y74",
         "domain": [
          0.35555555555555557,
          0.6444444444444445
         ]
        },
        "xaxis75": {
         "anchor": "y75",
         "domain": [
          0.7111111111111111,
          1
         ]
        },
        "xaxis76": {
         "anchor": "y76",
         "domain": [
          0,
          0.2888888888888889
         ]
        },
        "xaxis77": {
         "anchor": "y77",
         "domain": [
          0.35555555555555557,
          0.6444444444444445
         ]
        },
        "xaxis78": {
         "anchor": "y78",
         "domain": [
          0.7111111111111111,
          1
         ]
        },
        "xaxis79": {
         "anchor": "y79",
         "domain": [
          0,
          0.2888888888888889
         ]
        },
        "xaxis8": {
         "anchor": "y8",
         "domain": [
          0.35555555555555557,
          0.6444444444444445
         ]
        },
        "xaxis80": {
         "anchor": "y80",
         "domain": [
          0.35555555555555557,
          0.6444444444444445
         ]
        },
        "xaxis81": {
         "anchor": "y81",
         "domain": [
          0.7111111111111111,
          1
         ]
        },
        "xaxis82": {
         "anchor": "y82",
         "domain": [
          0,
          0.2888888888888889
         ]
        },
        "xaxis83": {
         "anchor": "y83",
         "domain": [
          0.35555555555555557,
          0.6444444444444445
         ]
        },
        "xaxis84": {
         "anchor": "y84",
         "domain": [
          0.7111111111111111,
          1
         ]
        },
        "xaxis85": {
         "anchor": "y85",
         "domain": [
          0,
          0.2888888888888889
         ]
        },
        "xaxis86": {
         "anchor": "y86",
         "domain": [
          0.35555555555555557,
          0.6444444444444445
         ]
        },
        "xaxis87": {
         "anchor": "y87",
         "domain": [
          0.7111111111111111,
          1
         ]
        },
        "xaxis9": {
         "anchor": "y9",
         "domain": [
          0.7111111111111111,
          1
         ]
        },
        "yaxis": {
         "anchor": "x",
         "domain": [
          0.9821640903686089,
          1
         ]
        },
        "yaxis10": {
         "anchor": "x10",
         "domain": [
          0.8769322235434007,
          0.894768133174792
         ]
        },
        "yaxis11": {
         "anchor": "x11",
         "domain": [
          0.8769322235434007,
          0.894768133174792
         ]
        },
        "yaxis12": {
         "anchor": "x12",
         "domain": [
          0.8769322235434007,
          0.894768133174792
         ]
        },
        "yaxis13": {
         "anchor": "x13",
         "domain": [
          0.8418549346016647,
          0.859690844233056
         ]
        },
        "yaxis14": {
         "anchor": "x14",
         "domain": [
          0.8418549346016647,
          0.859690844233056
         ]
        },
        "yaxis15": {
         "anchor": "x15",
         "domain": [
          0.8418549346016647,
          0.859690844233056
         ]
        },
        "yaxis16": {
         "anchor": "x16",
         "domain": [
          0.8067776456599287,
          0.82461355529132
         ]
        },
        "yaxis17": {
         "anchor": "x17",
         "domain": [
          0.8067776456599287,
          0.82461355529132
         ]
        },
        "yaxis18": {
         "anchor": "x18",
         "domain": [
          0.8067776456599287,
          0.82461355529132
         ]
        },
        "yaxis19": {
         "anchor": "x19",
         "domain": [
          0.7717003567181926,
          0.7895362663495838
         ]
        },
        "yaxis2": {
         "anchor": "x2",
         "domain": [
          0.9821640903686089,
          1
         ]
        },
        "yaxis20": {
         "anchor": "x20",
         "domain": [
          0.7717003567181926,
          0.7895362663495838
         ]
        },
        "yaxis21": {
         "anchor": "x21",
         "domain": [
          0.7717003567181926,
          0.7895362663495838
         ]
        },
        "yaxis22": {
         "anchor": "x22",
         "domain": [
          0.7366230677764567,
          0.754458977407848
         ]
        },
        "yaxis23": {
         "anchor": "x23",
         "domain": [
          0.7366230677764567,
          0.754458977407848
         ]
        },
        "yaxis24": {
         "anchor": "x24",
         "domain": [
          0.7366230677764567,
          0.754458977407848
         ]
        },
        "yaxis25": {
         "anchor": "x25",
         "domain": [
          0.7015457788347206,
          0.7193816884661118
         ]
        },
        "yaxis26": {
         "anchor": "x26",
         "domain": [
          0.7015457788347206,
          0.7193816884661118
         ]
        },
        "yaxis27": {
         "anchor": "x27",
         "domain": [
          0.7015457788347206,
          0.7193816884661118
         ]
        },
        "yaxis28": {
         "anchor": "x28",
         "domain": [
          0.6664684898929846,
          0.6843043995243758
         ]
        },
        "yaxis29": {
         "anchor": "x29",
         "domain": [
          0.6664684898929846,
          0.6843043995243758
         ]
        },
        "yaxis3": {
         "anchor": "x3",
         "domain": [
          0.9821640903686089,
          1
         ]
        },
        "yaxis30": {
         "anchor": "x30",
         "domain": [
          0.6664684898929846,
          0.6843043995243758
         ]
        },
        "yaxis31": {
         "anchor": "x31",
         "domain": [
          0.6313912009512486,
          0.6492271105826398
         ]
        },
        "yaxis32": {
         "anchor": "x32",
         "domain": [
          0.6313912009512486,
          0.6492271105826398
         ]
        },
        "yaxis33": {
         "anchor": "x33",
         "domain": [
          0.6313912009512486,
          0.6492271105826398
         ]
        },
        "yaxis34": {
         "anchor": "x34",
         "domain": [
          0.5963139120095124,
          0.6141498216409037
         ]
        },
        "yaxis35": {
         "anchor": "x35",
         "domain": [
          0.5963139120095124,
          0.6141498216409037
         ]
        },
        "yaxis36": {
         "anchor": "x36",
         "domain": [
          0.5963139120095124,
          0.6141498216409037
         ]
        },
        "yaxis37": {
         "anchor": "x37",
         "domain": [
          0.5612366230677766,
          0.5790725326991678
         ]
        },
        "yaxis38": {
         "anchor": "x38",
         "domain": [
          0.5612366230677766,
          0.5790725326991678
         ]
        },
        "yaxis39": {
         "anchor": "x39",
         "domain": [
          0.5612366230677766,
          0.5790725326991678
         ]
        },
        "yaxis4": {
         "anchor": "x4",
         "domain": [
          0.9470868014268727,
          0.964922711058264
         ]
        },
        "yaxis40": {
         "anchor": "x40",
         "domain": [
          0.5261593341260404,
          0.5439952437574317
         ]
        },
        "yaxis41": {
         "anchor": "x41",
         "domain": [
          0.5261593341260404,
          0.5439952437574317
         ]
        },
        "yaxis42": {
         "anchor": "x42",
         "domain": [
          0.5261593341260404,
          0.5439952437574317
         ]
        },
        "yaxis43": {
         "anchor": "x43",
         "domain": [
          0.4910820451843044,
          0.5089179548156957
         ]
        },
        "yaxis44": {
         "anchor": "x44",
         "domain": [
          0.4910820451843044,
          0.5089179548156957
         ]
        },
        "yaxis45": {
         "anchor": "x45",
         "domain": [
          0.4910820451843044,
          0.5089179548156957
         ]
        },
        "yaxis46": {
         "anchor": "x46",
         "domain": [
          0.4560047562425684,
          0.4738406658739596
         ]
        },
        "yaxis47": {
         "anchor": "x47",
         "domain": [
          0.4560047562425684,
          0.4738406658739596
         ]
        },
        "yaxis48": {
         "anchor": "x48",
         "domain": [
          0.4560047562425684,
          0.4738406658739596
         ]
        },
        "yaxis49": {
         "anchor": "x49",
         "domain": [
          0.42092746730083236,
          0.43876337693222356
         ]
        },
        "yaxis5": {
         "anchor": "x5",
         "domain": [
          0.9470868014268727,
          0.964922711058264
         ]
        },
        "yaxis50": {
         "anchor": "x50",
         "domain": [
          0.42092746730083236,
          0.43876337693222356
         ]
        },
        "yaxis51": {
         "anchor": "x51",
         "domain": [
          0.42092746730083236,
          0.43876337693222356
         ]
        },
        "yaxis52": {
         "anchor": "x52",
         "domain": [
          0.3858501783590963,
          0.4036860879904875
         ]
        },
        "yaxis53": {
         "anchor": "x53",
         "domain": [
          0.3858501783590963,
          0.4036860879904875
         ]
        },
        "yaxis54": {
         "anchor": "x54",
         "domain": [
          0.3858501783590963,
          0.4036860879904875
         ]
        },
        "yaxis55": {
         "anchor": "x55",
         "domain": [
          0.3507728894173603,
          0.3686087990487515
         ]
        },
        "yaxis56": {
         "anchor": "x56",
         "domain": [
          0.3507728894173603,
          0.3686087990487515
         ]
        },
        "yaxis57": {
         "anchor": "x57",
         "domain": [
          0.3507728894173603,
          0.3686087990487515
         ]
        },
        "yaxis58": {
         "anchor": "x58",
         "domain": [
          0.3156956004756243,
          0.3335315101070155
         ]
        },
        "yaxis59": {
         "anchor": "x59",
         "domain": [
          0.3156956004756243,
          0.3335315101070155
         ]
        },
        "yaxis6": {
         "anchor": "x6",
         "domain": [
          0.9470868014268727,
          0.964922711058264
         ]
        },
        "yaxis60": {
         "anchor": "x60",
         "domain": [
          0.3156956004756243,
          0.3335315101070155
         ]
        },
        "yaxis61": {
         "anchor": "x61",
         "domain": [
          0.2806183115338883,
          0.2984542211652795
         ]
        },
        "yaxis62": {
         "anchor": "x62",
         "domain": [
          0.2806183115338883,
          0.2984542211652795
         ]
        },
        "yaxis63": {
         "anchor": "x63",
         "domain": [
          0.2806183115338883,
          0.2984542211652795
         ]
        },
        "yaxis64": {
         "anchor": "x64",
         "domain": [
          0.2455410225921522,
          0.2633769322235434
         ]
        },
        "yaxis65": {
         "anchor": "x65",
         "domain": [
          0.2455410225921522,
          0.2633769322235434
         ]
        },
        "yaxis66": {
         "anchor": "x66",
         "domain": [
          0.2455410225921522,
          0.2633769322235434
         ]
        },
        "yaxis67": {
         "anchor": "x67",
         "domain": [
          0.21046373365041618,
          0.22829964328180738
         ]
        },
        "yaxis68": {
         "anchor": "x68",
         "domain": [
          0.21046373365041618,
          0.22829964328180738
         ]
        },
        "yaxis69": {
         "anchor": "x69",
         "domain": [
          0.21046373365041618,
          0.22829964328180738
         ]
        },
        "yaxis7": {
         "anchor": "x7",
         "domain": [
          0.9120095124851368,
          0.9298454221165281
         ]
        },
        "yaxis70": {
         "anchor": "x70",
         "domain": [
          0.17538644470868014,
          0.19322235434007135
         ]
        },
        "yaxis71": {
         "anchor": "x71",
         "domain": [
          0.17538644470868014,
          0.19322235434007135
         ]
        },
        "yaxis72": {
         "anchor": "x72",
         "domain": [
          0.17538644470868014,
          0.19322235434007135
         ]
        },
        "yaxis73": {
         "anchor": "x73",
         "domain": [
          0.14030915576694414,
          0.15814506539833534
         ]
        },
        "yaxis74": {
         "anchor": "x74",
         "domain": [
          0.14030915576694414,
          0.15814506539833534
         ]
        },
        "yaxis75": {
         "anchor": "x75",
         "domain": [
          0.14030915576694414,
          0.15814506539833534
         ]
        },
        "yaxis76": {
         "anchor": "x76",
         "domain": [
          0.1052318668252081,
          0.1230677764565993
         ]
        },
        "yaxis77": {
         "anchor": "x77",
         "domain": [
          0.1052318668252081,
          0.1230677764565993
         ]
        },
        "yaxis78": {
         "anchor": "x78",
         "domain": [
          0.1052318668252081,
          0.1230677764565993
         ]
        },
        "yaxis79": {
         "anchor": "x79",
         "domain": [
          0.07015457788347207,
          0.08799048751486327
         ]
        },
        "yaxis8": {
         "anchor": "x8",
         "domain": [
          0.9120095124851368,
          0.9298454221165281
         ]
        },
        "yaxis80": {
         "anchor": "x80",
         "domain": [
          0.07015457788347207,
          0.08799048751486327
         ]
        },
        "yaxis81": {
         "anchor": "x81",
         "domain": [
          0.07015457788347207,
          0.08799048751486327
         ]
        },
        "yaxis82": {
         "anchor": "x82",
         "domain": [
          0.035077288941736035,
          0.052913198573127235
         ]
        },
        "yaxis83": {
         "anchor": "x83",
         "domain": [
          0.035077288941736035,
          0.052913198573127235
         ]
        },
        "yaxis84": {
         "anchor": "x84",
         "domain": [
          0.035077288941736035,
          0.052913198573127235
         ]
        },
        "yaxis85": {
         "anchor": "x85",
         "domain": [
          0,
          0.017835909631391204
         ]
        },
        "yaxis86": {
         "anchor": "x86",
         "domain": [
          0,
          0.017835909631391204
         ]
        },
        "yaxis87": {
         "anchor": "x87",
         "domain": [
          0,
          0.017835909631391204
         ]
        },
        "yaxis9": {
         "anchor": "x9",
         "domain": [
          0.9120095124851368,
          0.9298454221165281
         ]
        }
       }
      }
     },
     "metadata": {},
     "output_type": "display_data"
    }
   ],
   "source": [
    "num_columns = len(df_macroeconomic_book)\n",
    "num_rows = (num_columns + 2) // 2\n",
    "\n",
    "subplot_titles = [str(col) for col in df_macroeconomic_book]\n",
    "\n",
    "fig = sp.make_subplots(rows=num_rows, cols=3, subplot_titles=subplot_titles)\n",
    "\n",
    "for i, column in enumerate(df_macroeconomic_book, start=1):\n",
    "    row = (i - 1) // 3 + 1\n",
    "    col = (i - 1) % 3 + 1\n",
    "\n",
    "    trace = go.Box(y=df_macroeconomic_book[column], name=column, \n",
    "                   marker_color='lightseagreen', boxpoints='outliers', \n",
    "                   jitter=0.7, hoverinfo='y+text', \n",
    "                   text=())\n",
    "\n",
    "    fig.add_trace(trace, row=row, col=col)\n",
    "\n",
    "fig.update_layout(title_text='Boxplot of Numerical Variables', height=150*num_columns, showlegend=False, template='plotly_dark')\n",
    "fig.show()"
   ]
  },
  {
   "cell_type": "markdown",
   "metadata": {},
   "source": [
    "**Financial Rates and Inflation**\n",
    "\n",
    "- `real_interest_rate` **(10.59)**: Presents outliers that suggest periods of exceptional real interest rates, diverging from the norm.\n",
    "\n",
    "**Economic Indicators**\n",
    "\n",
    "- `incc` **(1.89 ~ 2.28)**: Features outliers, indicating occasional extreme values outside the general trend of construction cost index changes.\n",
    "\n",
    "**Confidence and Growth Metrics**\n",
    "\n",
    "- `gdp_growth` **(-0.10, 0.11 and 0.12)**: Exhibits outliers on both ends, reflecting sporadic and unexpected shifts in the GDP growth rate.\n",
    "- `dollar_growth` **(0.15)**: Outliers here indicate atypical fluctuations in the dollar growth rate, separate from the central trend.\n"
   ]
  },
  {
   "cell_type": "markdown",
   "metadata": {},
   "source": [
    "### Histogram"
   ]
  },
  {
   "cell_type": "code",
   "execution_count": 31,
   "metadata": {},
   "outputs": [
    {
     "data": {
      "application/vnd.plotly.v1+json": {
       "config": {
        "plotlyServerURL": "https://plot.ly"
       },
       "data": [
        {
         "marker": {
          "color": "lightseagreen"
         },
         "name": "selic",
         "type": "histogram",
         "x": [
          6.5,
          6.5,
          6.5,
          6.5,
          6.5,
          6.5,
          6.5,
          6,
          5.5,
          5,
          5,
          4.5,
          4.5,
          4.25,
          3.75,
          3.75,
          3,
          2.25,
          2.25,
          2,
          2,
          2,
          2,
          2,
          2,
          2,
          2.75,
          2.75,
          3.5,
          4.25,
          4.25,
          5.25,
          6.25,
          7.75,
          7.75,
          9.25,
          9.25,
          10.75,
          11.75,
          11.75,
          12.75,
          13.25,
          13.25,
          13.75,
          13.75,
          13.75,
          13.75,
          13.75,
          13.75,
          13.75,
          13.75,
          13.75,
          13.75,
          13.75,
          13.75,
          13.25
         ],
         "xaxis": "x",
         "yaxis": "y"
        },
        {
         "marker": {
          "color": "lightseagreen"
         },
         "name": "confidence",
         "type": "histogram",
         "x": [
          128.64,
          139.39,
          125.53,
          121.71,
          117.01,
          107.38,
          110.92,
          114.58,
          112.19,
          111.82,
          118.64,
          121.26,
          121.27,
          131.79,
          124.58,
          111.97,
          96.82,
          100.43,
          102.84,
          102.62,
          108.36,
          107.61,
          111.65,
          111.71,
          116.09,
          116.23,
          112.9,
          104.95,
          105.9,
          107.32,
          110.98,
          111.99,
          114.66,
          109.37,
          109.35,
          112,
          108.35,
          104.05,
          105.12,
          104.35,
          105.87,
          103.6,
          105.58,
          106.76,
          111.46,
          114.23,
          116.79,
          122.84,
          125.38,
          128.78,
          127.42,
          125.1,
          122.22,
          125.27,
          124.46,
          131.02
         ],
         "xaxis": "x2",
         "yaxis": "y2"
        },
        {
         "marker": {
          "color": "lightseagreen"
         },
         "name": "pib",
         "type": "histogram",
         "x": [
          578214.5,
          576089.7,
          601749.8,
          612918.4,
          615304.9,
          596919.2,
          631911.8,
          629532.3,
          619104.3,
          650359.4,
          639124.2,
          637902.4,
          615542.8,
          620048.3,
          637806.9,
          569278.8,
          579341.2,
          608897.5,
          645168,
          637698.5,
          646836.2,
          670157,
          676213.4,
          702608.4,
          677312.8,
          706456.2,
          768852.8,
          733617.9,
          724321,
          724110,
          754427.1,
          753685.9,
          746379.5,
          755392.8,
          771540.1,
          782631.4,
          722828.3,
          754068.3,
          838811.9,
          819757.1,
          826054.6,
          826025.7,
          852909.9,
          854027.1,
          836707.8,
          856445.6,
          859752.7,
          867927.4,
          804202.3,
          824738.6,
          927590.5,
          886228.9,
          884231,
          880696.5,
          909582.5,
          912895.5
         ],
         "xaxis": "x3",
         "yaxis": "y3"
        },
        {
         "marker": {
          "color": "lightseagreen"
         },
         "name": "incc",
         "type": "histogram",
         "x": [
          0.49,
          0.09,
          0.31,
          0.38,
          0.03,
          0.88,
          0.58,
          0.42,
          0.46,
          0.18,
          0.04,
          0.21,
          0.38,
          0.33,
          0.26,
          0.22,
          0.2,
          0.34,
          1.17,
          0.72,
          1.16,
          1.73,
          1.28,
          0.7,
          0.89,
          1.89,
          1.3,
          0.9,
          2.22,
          2.16,
          0.85,
          0.46,
          0.51,
          0.86,
          0.67,
          0.35,
          0.71,
          0.38,
          0.86,
          0.95,
          2.28,
          2.14,
          0.86,
          0.09,
          0.09,
          0.12,
          0.36,
          0.09,
          0.46,
          0.05,
          0.3,
          0.14,
          0.59,
          0.71,
          0.1,
          0.17
         ],
         "xaxis": "x4",
         "yaxis": "y4"
        },
        {
         "marker": {
          "color": "lightseagreen"
         },
         "name": "ipca",
         "type": "histogram",
         "x": [
          3.78,
          3.89,
          4.58,
          4.94,
          4.66,
          3.37,
          3.22,
          3.43,
          2.89,
          2.54,
          3.27,
          4.31,
          4.19,
          4.01,
          3.3,
          2.4,
          1.88,
          2.13,
          2.31,
          2.44,
          3.14,
          3.92,
          4.31,
          4.52,
          4.56,
          5.2,
          6.1,
          6.76,
          8.06,
          8.35,
          8.99,
          9.68,
          10.25,
          10.67,
          10.74,
          10.06,
          10.38,
          10.54,
          11.3,
          12.13,
          11.73,
          11.89,
          10.07,
          8.73,
          7.17,
          6.47,
          5.9,
          5.79,
          5.77,
          5.6,
          4.65,
          4.18,
          3.94,
          3.16,
          3.99,
          4.61
         ],
         "xaxis": "x5",
         "yaxis": "y5"
        },
        {
         "marker": {
          "color": "lightseagreen"
         },
         "name": "dolar",
         "type": "histogram",
         "x": [
          3.6513,
          3.7379,
          3.8961,
          3.9447,
          3.9401,
          3.8316,
          3.7643,
          4.1379,
          4.1638,
          4.0035,
          4.2234,
          4.0301,
          4.2689,
          4.4981,
          5.1981,
          5.4264,
          5.4257,
          5.4754,
          5.2027,
          5.4707,
          5.6401,
          5.7712,
          5.3311,
          5.1961,
          5.4753,
          5.5296,
          5.6967,
          5.403,
          5.2316,
          5.0016,
          5.121,
          5.1427,
          5.4388,
          5.6424,
          5.6193,
          5.5799,
          5.3568,
          5.1388,
          4.7372,
          4.9185,
          4.7283,
          5.2374,
          5.1878,
          5.1784,
          5.406,
          5.2564,
          5.2935,
          5.2171,
          5.0987,
          5.2072,
          5.0798,
          5.0001,
          5.0953,
          4.8186,
          4.7409,
          4.9213
         ],
         "xaxis": "x6",
         "yaxis": "y6"
        },
        {
         "marker": {
          "color": "lightseagreen"
         },
         "name": "monthly_inflation",
         "type": "histogram",
         "x": [
          -0.1119479105194651,
          0.0291005291005292,
          0.1773778920308484,
          0.0786026200873362,
          -0.0566801619433199,
          -0.276824034334764,
          -0.0445103857566765,
          0.0652173913043479,
          -0.1574344023323615,
          -0.1211072664359862,
          0.2874015748031495,
          0.3180428134556574,
          -0.02784222737819,
          -0.0429594272076373,
          -0.1770573566084787,
          -0.2727272727272727,
          -0.2166666666666666,
          0.1329787234042554,
          0.0845070422535212,
          0.0562770562770562,
          0.2868852459016393,
          0.2484076433121018,
          0.0994897959183673,
          0.0487238979118329,
          0.0088495575221239,
          0.1403508771929826,
          0.1730769230769229,
          0.1081967213114754,
          0.1923076923076925,
          0.0359801488833746,
          0.0766467065868263,
          0.0767519466073414,
          0.0588842975206611,
          0.0409756097560976,
          0.0065604498594189,
          -0.063314711359404,
          0.0318091451292246,
          0.0154142581888245,
          0.0721062618595826,
          0.0734513274336283,
          -0.0329760923330585,
          0.0136402387041774,
          -0.1530698065601345,
          -0.1330685203574975,
          -0.1786941580756014,
          -0.097629009762901,
          -0.088098918083462,
          -0.0186440677966102,
          -0.003454231433506,
          -0.0294627383015597,
          -0.1696428571428569,
          -0.1010752688172044,
          -0.0574162679425837,
          -0.197969543147208,
          0.2626582278481013,
          0.1553884711779449
         ],
         "xaxis": "x7",
         "yaxis": "y7"
        },
        {
         "marker": {
          "color": "lightseagreen"
         },
         "name": "gdp_growth",
         "type": "histogram",
         "x": [
          -0.0157562364676189,
          -0.0036747608370251,
          0.0445418482573114,
          0.0185602055871061,
          0.0038936667589029,
          -0.0298806331625184,
          0.0586220044521941,
          -0.0037655571552865,
          -0.0165646782539989,
          0.0504843852643246,
          -0.0172753711255654,
          -0.0019116785125644,
          -0.0350517571340066,
          0.007319556008128,
          0.0286406720250664,
          -0.1074433343383396,
          0.0176756977424767,
          0.0510170863042367,
          0.059567496992515,
          -0.0115776045929122,
          0.0143291853438576,
          0.0360536407826279,
          0.0090372852928493,
          0.0390335358630871,
          -0.0360024161396305,
          0.0430279776197939,
          0.0883233808408789,
          -0.0458278879910433,
          -0.012672673335806,
          -0.0002913073071193,
          0.041868086340473,
          -0.0009824673583437,
          -0.0096942240792882,
          0.0120760283475096,
          0.0213760311191739,
          0.0143755327817698,
          -0.0764128554003839,
          0.0432191157983161,
          0.1123818624917663,
          -0.022716415921138,
          0.0076821536525881,
          -0.0000349855808563504,
          0.0325464449834915,
          0.0013098687211861,
          -0.0202795672408989,
          0.0235898362606394,
          0.0038614244734282,
          0.0095081992763734,
          -0.0734221548945223,
          0.0255362363425222,
          0.1247084833909799,
          -0.04459036611522,
          -0.0022543837150876,
          -0.0039972586349041,
          0.0327990403050313,
          0.0036423304098309
         ],
         "xaxis": "x8",
         "yaxis": "y8"
        },
        {
         "marker": {
          "color": "lightseagreen"
         },
         "name": "dollar_growth",
         "type": "histogram",
         "x": [
          0.016458866470465,
          0.0237175800399858,
          0.0423232296209101,
          0.0124740124740123,
          -0.0011661216315562,
          -0.027537372147915,
          -0.0175644639315167,
          0.0992482001965837,
          0.0062592136107688,
          -0.0384984869590279,
          0.0549269389284376,
          -0.0457688118577449,
          0.0592541128011712,
          0.0536906463023261,
          0.1556212623107535,
          0.0439198938073526,
          -0.0001289989680083,
          0.0091601083731129,
          -0.0498045804872702,
          0.0515117150710207,
          0.0309649587804121,
          0.0232442687186398,
          -0.0762579706126975,
          -0.0253231040498208,
          0.0537326071476682,
          0.0099172648074079,
          0.0302191840277776,
          -0.0515561640950024,
          -0.03172311678697,
          -0.0439636057802584,
          0.0238723608445299,
          0.0042374536223392,
          0.0575767592898672,
          0.0374347282488785,
          -0.0040940025521055,
          -0.007011549481252,
          -0.0399827953905984,
          -0.0406959378733572,
          -0.0781505409823305,
          0.0382715528160095,
          -0.0386703263189996,
          0.1076708330689677,
          -0.009470347882537,
          -0.0018119434056825,
          0.0439517997837168,
          -0.0276729559748426,
          0.0070580625523171,
          -0.014432794937187,
          -0.0226946004485251,
          0.0212799341008493,
          -0.0244661238285451,
          -0.015689594078507,
          0.0190396192076158,
          -0.054304947696897,
          -0.0161250155646868,
          0.0380518466957751
         ],
         "xaxis": "x9",
         "yaxis": "y9"
        },
        {
         "marker": {
          "color": "lightseagreen"
         },
         "name": "real_interest_rate",
         "type": "histogram",
         "x": [
          2.72,
          2.61,
          1.92,
          1.5599999999999996,
          1.84,
          3.13,
          3.28,
          2.57,
          2.61,
          2.46,
          1.73,
          0.1900000000000004,
          0.3099999999999996,
          0.2400000000000002,
          0.4500000000000002,
          1.35,
          1.12,
          0.1200000000000001,
          -0.06,
          -0.4399999999999999,
          -1.14,
          -1.92,
          -2.31,
          -2.52,
          -2.56,
          -3.2,
          -3.35,
          -4.01,
          -4.5600000000000005,
          -4.1,
          -4.74,
          -4.43,
          -4,
          -2.92,
          -2.99,
          -0.8100000000000005,
          -1.1300000000000008,
          0.2100000000000008,
          0.4499999999999993,
          -0.3800000000000008,
          1.0199999999999996,
          1.3599999999999994,
          3.18,
          5.02,
          6.58,
          7.28,
          7.85,
          7.96,
          7.98,
          8.15,
          9.1,
          9.57,
          9.81,
          10.59,
          9.76,
          8.64
         ],
         "xaxis": "x10",
         "yaxis": "y10"
        },
        {
         "marker": {
          "color": "lightseagreen"
         },
         "name": "inflation_confidence_difference",
         "type": "histogram",
         "x": [
          -124.86,
          -135.5,
          -120.95,
          -116.77,
          -112.35,
          -104.01,
          -107.7,
          -111.15,
          -109.3,
          -109.28,
          -115.37,
          -116.95,
          -117.08,
          -127.78,
          -121.28,
          -109.57,
          -94.94,
          -98.3,
          -100.53,
          -100.18,
          -105.22,
          -103.69,
          -107.34,
          -107.19,
          -111.53,
          -111.03,
          -106.8,
          -98.19,
          -97.84,
          -98.97,
          -101.99,
          -102.31,
          -104.41,
          -98.7,
          -98.61,
          -101.94,
          -97.97,
          -93.51,
          -93.82,
          -92.22,
          -94.14,
          -91.71,
          -95.51,
          -98.03,
          -104.29,
          -107.76,
          -110.89,
          -117.05,
          -119.61,
          -123.18,
          -122.77,
          -120.92,
          -118.28,
          -122.11,
          -120.47,
          -126.41
         ],
         "xaxis": "x11",
         "yaxis": "y11"
        }
       ],
       "layout": {
        "annotations": [
         {
          "font": {
           "size": 16
          },
          "showarrow": false,
          "text": "date",
          "x": 0.14444444444444446,
          "xanchor": "center",
          "xref": "paper",
          "y": 1,
          "yanchor": "bottom",
          "yref": "paper"
         },
         {
          "font": {
           "size": 16
          },
          "showarrow": false,
          "text": "selic",
          "x": 0.5,
          "xanchor": "center",
          "xref": "paper",
          "y": 1,
          "yanchor": "bottom",
          "yref": "paper"
         },
         {
          "font": {
           "size": 16
          },
          "showarrow": false,
          "text": "confidence",
          "x": 0.8555555555555556,
          "xanchor": "center",
          "xref": "paper",
          "y": 1,
          "yanchor": "bottom",
          "yref": "paper"
         },
         {
          "font": {
           "size": 16
          },
          "showarrow": false,
          "text": "pib",
          "x": 0.14444444444444446,
          "xanchor": "center",
          "xref": "paper",
          "y": 0.9459833795013851,
          "yanchor": "bottom",
          "yref": "paper"
         },
         {
          "font": {
           "size": 16
          },
          "showarrow": false,
          "text": "incc",
          "x": 0.5,
          "xanchor": "center",
          "xref": "paper",
          "y": 0.9459833795013851,
          "yanchor": "bottom",
          "yref": "paper"
         },
         {
          "font": {
           "size": 16
          },
          "showarrow": false,
          "text": "ipca",
          "x": 0.8555555555555556,
          "xanchor": "center",
          "xref": "paper",
          "y": 0.9459833795013851,
          "yanchor": "bottom",
          "yref": "paper"
         },
         {
          "font": {
           "size": 16
          },
          "showarrow": false,
          "text": "dolar",
          "x": 0.14444444444444446,
          "xanchor": "center",
          "xref": "paper",
          "y": 0.8919667590027702,
          "yanchor": "bottom",
          "yref": "paper"
         },
         {
          "font": {
           "size": 16
          },
          "showarrow": false,
          "text": "monthly_inflation",
          "x": 0.5,
          "xanchor": "center",
          "xref": "paper",
          "y": 0.8919667590027702,
          "yanchor": "bottom",
          "yref": "paper"
         },
         {
          "font": {
           "size": 16
          },
          "showarrow": false,
          "text": "gdp_growth",
          "x": 0.8555555555555556,
          "xanchor": "center",
          "xref": "paper",
          "y": 0.8919667590027702,
          "yanchor": "bottom",
          "yref": "paper"
         },
         {
          "font": {
           "size": 16
          },
          "showarrow": false,
          "text": "dollar_growth",
          "x": 0.14444444444444446,
          "xanchor": "center",
          "xref": "paper",
          "y": 0.8379501385041552,
          "yanchor": "bottom",
          "yref": "paper"
         },
         {
          "font": {
           "size": 16
          },
          "showarrow": false,
          "text": "real_interest_rate",
          "x": 0.5,
          "xanchor": "center",
          "xref": "paper",
          "y": 0.8379501385041552,
          "yanchor": "bottom",
          "yref": "paper"
         },
         {
          "font": {
           "size": 16
          },
          "showarrow": false,
          "text": "inflation_confidence_difference",
          "x": 0.8555555555555556,
          "xanchor": "center",
          "xref": "paper",
          "y": 0.8379501385041552,
          "yanchor": "bottom",
          "yref": "paper"
         }
        ],
        "height": 5700,
        "showlegend": false,
        "template": {
         "data": {
          "bar": [
           {
            "error_x": {
             "color": "#f2f5fa"
            },
            "error_y": {
             "color": "#f2f5fa"
            },
            "marker": {
             "line": {
              "color": "rgb(17,17,17)",
              "width": 0.5
             },
             "pattern": {
              "fillmode": "overlay",
              "size": 10,
              "solidity": 0.2
             }
            },
            "type": "bar"
           }
          ],
          "barpolar": [
           {
            "marker": {
             "line": {
              "color": "rgb(17,17,17)",
              "width": 0.5
             },
             "pattern": {
              "fillmode": "overlay",
              "size": 10,
              "solidity": 0.2
             }
            },
            "type": "barpolar"
           }
          ],
          "carpet": [
           {
            "aaxis": {
             "endlinecolor": "#A2B1C6",
             "gridcolor": "#506784",
             "linecolor": "#506784",
             "minorgridcolor": "#506784",
             "startlinecolor": "#A2B1C6"
            },
            "baxis": {
             "endlinecolor": "#A2B1C6",
             "gridcolor": "#506784",
             "linecolor": "#506784",
             "minorgridcolor": "#506784",
             "startlinecolor": "#A2B1C6"
            },
            "type": "carpet"
           }
          ],
          "choropleth": [
           {
            "colorbar": {
             "outlinewidth": 0,
             "ticks": ""
            },
            "type": "choropleth"
           }
          ],
          "contour": [
           {
            "colorbar": {
             "outlinewidth": 0,
             "ticks": ""
            },
            "colorscale": [
             [
              0,
              "#0d0887"
             ],
             [
              0.1111111111111111,
              "#46039f"
             ],
             [
              0.2222222222222222,
              "#7201a8"
             ],
             [
              0.3333333333333333,
              "#9c179e"
             ],
             [
              0.4444444444444444,
              "#bd3786"
             ],
             [
              0.5555555555555556,
              "#d8576b"
             ],
             [
              0.6666666666666666,
              "#ed7953"
             ],
             [
              0.7777777777777778,
              "#fb9f3a"
             ],
             [
              0.8888888888888888,
              "#fdca26"
             ],
             [
              1,
              "#f0f921"
             ]
            ],
            "type": "contour"
           }
          ],
          "contourcarpet": [
           {
            "colorbar": {
             "outlinewidth": 0,
             "ticks": ""
            },
            "type": "contourcarpet"
           }
          ],
          "heatmap": [
           {
            "colorbar": {
             "outlinewidth": 0,
             "ticks": ""
            },
            "colorscale": [
             [
              0,
              "#0d0887"
             ],
             [
              0.1111111111111111,
              "#46039f"
             ],
             [
              0.2222222222222222,
              "#7201a8"
             ],
             [
              0.3333333333333333,
              "#9c179e"
             ],
             [
              0.4444444444444444,
              "#bd3786"
             ],
             [
              0.5555555555555556,
              "#d8576b"
             ],
             [
              0.6666666666666666,
              "#ed7953"
             ],
             [
              0.7777777777777778,
              "#fb9f3a"
             ],
             [
              0.8888888888888888,
              "#fdca26"
             ],
             [
              1,
              "#f0f921"
             ]
            ],
            "type": "heatmap"
           }
          ],
          "heatmapgl": [
           {
            "colorbar": {
             "outlinewidth": 0,
             "ticks": ""
            },
            "colorscale": [
             [
              0,
              "#0d0887"
             ],
             [
              0.1111111111111111,
              "#46039f"
             ],
             [
              0.2222222222222222,
              "#7201a8"
             ],
             [
              0.3333333333333333,
              "#9c179e"
             ],
             [
              0.4444444444444444,
              "#bd3786"
             ],
             [
              0.5555555555555556,
              "#d8576b"
             ],
             [
              0.6666666666666666,
              "#ed7953"
             ],
             [
              0.7777777777777778,
              "#fb9f3a"
             ],
             [
              0.8888888888888888,
              "#fdca26"
             ],
             [
              1,
              "#f0f921"
             ]
            ],
            "type": "heatmapgl"
           }
          ],
          "histogram": [
           {
            "marker": {
             "pattern": {
              "fillmode": "overlay",
              "size": 10,
              "solidity": 0.2
             }
            },
            "type": "histogram"
           }
          ],
          "histogram2d": [
           {
            "colorbar": {
             "outlinewidth": 0,
             "ticks": ""
            },
            "colorscale": [
             [
              0,
              "#0d0887"
             ],
             [
              0.1111111111111111,
              "#46039f"
             ],
             [
              0.2222222222222222,
              "#7201a8"
             ],
             [
              0.3333333333333333,
              "#9c179e"
             ],
             [
              0.4444444444444444,
              "#bd3786"
             ],
             [
              0.5555555555555556,
              "#d8576b"
             ],
             [
              0.6666666666666666,
              "#ed7953"
             ],
             [
              0.7777777777777778,
              "#fb9f3a"
             ],
             [
              0.8888888888888888,
              "#fdca26"
             ],
             [
              1,
              "#f0f921"
             ]
            ],
            "type": "histogram2d"
           }
          ],
          "histogram2dcontour": [
           {
            "colorbar": {
             "outlinewidth": 0,
             "ticks": ""
            },
            "colorscale": [
             [
              0,
              "#0d0887"
             ],
             [
              0.1111111111111111,
              "#46039f"
             ],
             [
              0.2222222222222222,
              "#7201a8"
             ],
             [
              0.3333333333333333,
              "#9c179e"
             ],
             [
              0.4444444444444444,
              "#bd3786"
             ],
             [
              0.5555555555555556,
              "#d8576b"
             ],
             [
              0.6666666666666666,
              "#ed7953"
             ],
             [
              0.7777777777777778,
              "#fb9f3a"
             ],
             [
              0.8888888888888888,
              "#fdca26"
             ],
             [
              1,
              "#f0f921"
             ]
            ],
            "type": "histogram2dcontour"
           }
          ],
          "mesh3d": [
           {
            "colorbar": {
             "outlinewidth": 0,
             "ticks": ""
            },
            "type": "mesh3d"
           }
          ],
          "parcoords": [
           {
            "line": {
             "colorbar": {
              "outlinewidth": 0,
              "ticks": ""
             }
            },
            "type": "parcoords"
           }
          ],
          "pie": [
           {
            "automargin": true,
            "type": "pie"
           }
          ],
          "scatter": [
           {
            "marker": {
             "line": {
              "color": "#283442"
             }
            },
            "type": "scatter"
           }
          ],
          "scatter3d": [
           {
            "line": {
             "colorbar": {
              "outlinewidth": 0,
              "ticks": ""
             }
            },
            "marker": {
             "colorbar": {
              "outlinewidth": 0,
              "ticks": ""
             }
            },
            "type": "scatter3d"
           }
          ],
          "scattercarpet": [
           {
            "marker": {
             "colorbar": {
              "outlinewidth": 0,
              "ticks": ""
             }
            },
            "type": "scattercarpet"
           }
          ],
          "scattergeo": [
           {
            "marker": {
             "colorbar": {
              "outlinewidth": 0,
              "ticks": ""
             }
            },
            "type": "scattergeo"
           }
          ],
          "scattergl": [
           {
            "marker": {
             "line": {
              "color": "#283442"
             }
            },
            "type": "scattergl"
           }
          ],
          "scattermapbox": [
           {
            "marker": {
             "colorbar": {
              "outlinewidth": 0,
              "ticks": ""
             }
            },
            "type": "scattermapbox"
           }
          ],
          "scatterpolar": [
           {
            "marker": {
             "colorbar": {
              "outlinewidth": 0,
              "ticks": ""
             }
            },
            "type": "scatterpolar"
           }
          ],
          "scatterpolargl": [
           {
            "marker": {
             "colorbar": {
              "outlinewidth": 0,
              "ticks": ""
             }
            },
            "type": "scatterpolargl"
           }
          ],
          "scatterternary": [
           {
            "marker": {
             "colorbar": {
              "outlinewidth": 0,
              "ticks": ""
             }
            },
            "type": "scatterternary"
           }
          ],
          "surface": [
           {
            "colorbar": {
             "outlinewidth": 0,
             "ticks": ""
            },
            "colorscale": [
             [
              0,
              "#0d0887"
             ],
             [
              0.1111111111111111,
              "#46039f"
             ],
             [
              0.2222222222222222,
              "#7201a8"
             ],
             [
              0.3333333333333333,
              "#9c179e"
             ],
             [
              0.4444444444444444,
              "#bd3786"
             ],
             [
              0.5555555555555556,
              "#d8576b"
             ],
             [
              0.6666666666666666,
              "#ed7953"
             ],
             [
              0.7777777777777778,
              "#fb9f3a"
             ],
             [
              0.8888888888888888,
              "#fdca26"
             ],
             [
              1,
              "#f0f921"
             ]
            ],
            "type": "surface"
           }
          ],
          "table": [
           {
            "cells": {
             "fill": {
              "color": "#506784"
             },
             "line": {
              "color": "rgb(17,17,17)"
             }
            },
            "header": {
             "fill": {
              "color": "#2a3f5f"
             },
             "line": {
              "color": "rgb(17,17,17)"
             }
            },
            "type": "table"
           }
          ]
         },
         "layout": {
          "annotationdefaults": {
           "arrowcolor": "#f2f5fa",
           "arrowhead": 0,
           "arrowwidth": 1
          },
          "autotypenumbers": "strict",
          "coloraxis": {
           "colorbar": {
            "outlinewidth": 0,
            "ticks": ""
           }
          },
          "colorscale": {
           "diverging": [
            [
             0,
             "#8e0152"
            ],
            [
             0.1,
             "#c51b7d"
            ],
            [
             0.2,
             "#de77ae"
            ],
            [
             0.3,
             "#f1b6da"
            ],
            [
             0.4,
             "#fde0ef"
            ],
            [
             0.5,
             "#f7f7f7"
            ],
            [
             0.6,
             "#e6f5d0"
            ],
            [
             0.7,
             "#b8e186"
            ],
            [
             0.8,
             "#7fbc41"
            ],
            [
             0.9,
             "#4d9221"
            ],
            [
             1,
             "#276419"
            ]
           ],
           "sequential": [
            [
             0,
             "#0d0887"
            ],
            [
             0.1111111111111111,
             "#46039f"
            ],
            [
             0.2222222222222222,
             "#7201a8"
            ],
            [
             0.3333333333333333,
             "#9c179e"
            ],
            [
             0.4444444444444444,
             "#bd3786"
            ],
            [
             0.5555555555555556,
             "#d8576b"
            ],
            [
             0.6666666666666666,
             "#ed7953"
            ],
            [
             0.7777777777777778,
             "#fb9f3a"
            ],
            [
             0.8888888888888888,
             "#fdca26"
            ],
            [
             1,
             "#f0f921"
            ]
           ],
           "sequentialminus": [
            [
             0,
             "#0d0887"
            ],
            [
             0.1111111111111111,
             "#46039f"
            ],
            [
             0.2222222222222222,
             "#7201a8"
            ],
            [
             0.3333333333333333,
             "#9c179e"
            ],
            [
             0.4444444444444444,
             "#bd3786"
            ],
            [
             0.5555555555555556,
             "#d8576b"
            ],
            [
             0.6666666666666666,
             "#ed7953"
            ],
            [
             0.7777777777777778,
             "#fb9f3a"
            ],
            [
             0.8888888888888888,
             "#fdca26"
            ],
            [
             1,
             "#f0f921"
            ]
           ]
          },
          "colorway": [
           "#636efa",
           "#EF553B",
           "#00cc96",
           "#ab63fa",
           "#FFA15A",
           "#19d3f3",
           "#FF6692",
           "#B6E880",
           "#FF97FF",
           "#FECB52"
          ],
          "font": {
           "color": "#f2f5fa"
          },
          "geo": {
           "bgcolor": "rgb(17,17,17)",
           "lakecolor": "rgb(17,17,17)",
           "landcolor": "rgb(17,17,17)",
           "showlakes": true,
           "showland": true,
           "subunitcolor": "#506784"
          },
          "hoverlabel": {
           "align": "left"
          },
          "hovermode": "closest",
          "mapbox": {
           "style": "dark"
          },
          "paper_bgcolor": "rgb(17,17,17)",
          "plot_bgcolor": "rgb(17,17,17)",
          "polar": {
           "angularaxis": {
            "gridcolor": "#506784",
            "linecolor": "#506784",
            "ticks": ""
           },
           "bgcolor": "rgb(17,17,17)",
           "radialaxis": {
            "gridcolor": "#506784",
            "linecolor": "#506784",
            "ticks": ""
           }
          },
          "scene": {
           "xaxis": {
            "backgroundcolor": "rgb(17,17,17)",
            "gridcolor": "#506784",
            "gridwidth": 2,
            "linecolor": "#506784",
            "showbackground": true,
            "ticks": "",
            "zerolinecolor": "#C8D4E3"
           },
           "yaxis": {
            "backgroundcolor": "rgb(17,17,17)",
            "gridcolor": "#506784",
            "gridwidth": 2,
            "linecolor": "#506784",
            "showbackground": true,
            "ticks": "",
            "zerolinecolor": "#C8D4E3"
           },
           "zaxis": {
            "backgroundcolor": "rgb(17,17,17)",
            "gridcolor": "#506784",
            "gridwidth": 2,
            "linecolor": "#506784",
            "showbackground": true,
            "ticks": "",
            "zerolinecolor": "#C8D4E3"
           }
          },
          "shapedefaults": {
           "line": {
            "color": "#f2f5fa"
           }
          },
          "sliderdefaults": {
           "bgcolor": "#C8D4E3",
           "bordercolor": "rgb(17,17,17)",
           "borderwidth": 1,
           "tickwidth": 0
          },
          "ternary": {
           "aaxis": {
            "gridcolor": "#506784",
            "linecolor": "#506784",
            "ticks": ""
           },
           "baxis": {
            "gridcolor": "#506784",
            "linecolor": "#506784",
            "ticks": ""
           },
           "bgcolor": "rgb(17,17,17)",
           "caxis": {
            "gridcolor": "#506784",
            "linecolor": "#506784",
            "ticks": ""
           }
          },
          "title": {
           "x": 0.05
          },
          "updatemenudefaults": {
           "bgcolor": "#506784",
           "borderwidth": 0
          },
          "xaxis": {
           "automargin": true,
           "gridcolor": "#283442",
           "linecolor": "#506784",
           "ticks": "",
           "title": {
            "standoff": 15
           },
           "zerolinecolor": "#283442",
           "zerolinewidth": 2
          },
          "yaxis": {
           "automargin": true,
           "gridcolor": "#283442",
           "linecolor": "#506784",
           "ticks": "",
           "title": {
            "standoff": 15
           },
           "zerolinecolor": "#283442",
           "zerolinewidth": 2
          }
         }
        },
        "title": {
         "text": "Histograms by Column"
        },
        "xaxis": {
         "anchor": "y",
         "domain": [
          0,
          0.2888888888888889
         ]
        },
        "xaxis10": {
         "anchor": "y10",
         "domain": [
          0,
          0.2888888888888889
         ]
        },
        "xaxis11": {
         "anchor": "y11",
         "domain": [
          0.35555555555555557,
          0.6444444444444445
         ]
        },
        "xaxis12": {
         "anchor": "y12",
         "domain": [
          0.7111111111111111,
          1
         ]
        },
        "xaxis13": {
         "anchor": "y13",
         "domain": [
          0,
          0.2888888888888889
         ]
        },
        "xaxis14": {
         "anchor": "y14",
         "domain": [
          0.35555555555555557,
          0.6444444444444445
         ]
        },
        "xaxis15": {
         "anchor": "y15",
         "domain": [
          0.7111111111111111,
          1
         ]
        },
        "xaxis16": {
         "anchor": "y16",
         "domain": [
          0,
          0.2888888888888889
         ]
        },
        "xaxis17": {
         "anchor": "y17",
         "domain": [
          0.35555555555555557,
          0.6444444444444445
         ]
        },
        "xaxis18": {
         "anchor": "y18",
         "domain": [
          0.7111111111111111,
          1
         ]
        },
        "xaxis19": {
         "anchor": "y19",
         "domain": [
          0,
          0.2888888888888889
         ]
        },
        "xaxis2": {
         "anchor": "y2",
         "domain": [
          0.35555555555555557,
          0.6444444444444445
         ]
        },
        "xaxis20": {
         "anchor": "y20",
         "domain": [
          0.35555555555555557,
          0.6444444444444445
         ]
        },
        "xaxis21": {
         "anchor": "y21",
         "domain": [
          0.7111111111111111,
          1
         ]
        },
        "xaxis22": {
         "anchor": "y22",
         "domain": [
          0,
          0.2888888888888889
         ]
        },
        "xaxis23": {
         "anchor": "y23",
         "domain": [
          0.35555555555555557,
          0.6444444444444445
         ]
        },
        "xaxis24": {
         "anchor": "y24",
         "domain": [
          0.7111111111111111,
          1
         ]
        },
        "xaxis25": {
         "anchor": "y25",
         "domain": [
          0,
          0.2888888888888889
         ]
        },
        "xaxis26": {
         "anchor": "y26",
         "domain": [
          0.35555555555555557,
          0.6444444444444445
         ]
        },
        "xaxis27": {
         "anchor": "y27",
         "domain": [
          0.7111111111111111,
          1
         ]
        },
        "xaxis28": {
         "anchor": "y28",
         "domain": [
          0,
          0.2888888888888889
         ]
        },
        "xaxis29": {
         "anchor": "y29",
         "domain": [
          0.35555555555555557,
          0.6444444444444445
         ]
        },
        "xaxis3": {
         "anchor": "y3",
         "domain": [
          0.7111111111111111,
          1
         ]
        },
        "xaxis30": {
         "anchor": "y30",
         "domain": [
          0.7111111111111111,
          1
         ]
        },
        "xaxis31": {
         "anchor": "y31",
         "domain": [
          0,
          0.2888888888888889
         ]
        },
        "xaxis32": {
         "anchor": "y32",
         "domain": [
          0.35555555555555557,
          0.6444444444444445
         ]
        },
        "xaxis33": {
         "anchor": "y33",
         "domain": [
          0.7111111111111111,
          1
         ]
        },
        "xaxis34": {
         "anchor": "y34",
         "domain": [
          0,
          0.2888888888888889
         ]
        },
        "xaxis35": {
         "anchor": "y35",
         "domain": [
          0.35555555555555557,
          0.6444444444444445
         ]
        },
        "xaxis36": {
         "anchor": "y36",
         "domain": [
          0.7111111111111111,
          1
         ]
        },
        "xaxis37": {
         "anchor": "y37",
         "domain": [
          0,
          0.2888888888888889
         ]
        },
        "xaxis38": {
         "anchor": "y38",
         "domain": [
          0.35555555555555557,
          0.6444444444444445
         ]
        },
        "xaxis39": {
         "anchor": "y39",
         "domain": [
          0.7111111111111111,
          1
         ]
        },
        "xaxis4": {
         "anchor": "y4",
         "domain": [
          0,
          0.2888888888888889
         ]
        },
        "xaxis40": {
         "anchor": "y40",
         "domain": [
          0,
          0.2888888888888889
         ]
        },
        "xaxis41": {
         "anchor": "y41",
         "domain": [
          0.35555555555555557,
          0.6444444444444445
         ]
        },
        "xaxis42": {
         "anchor": "y42",
         "domain": [
          0.7111111111111111,
          1
         ]
        },
        "xaxis43": {
         "anchor": "y43",
         "domain": [
          0,
          0.2888888888888889
         ]
        },
        "xaxis44": {
         "anchor": "y44",
         "domain": [
          0.35555555555555557,
          0.6444444444444445
         ]
        },
        "xaxis45": {
         "anchor": "y45",
         "domain": [
          0.7111111111111111,
          1
         ]
        },
        "xaxis46": {
         "anchor": "y46",
         "domain": [
          0,
          0.2888888888888889
         ]
        },
        "xaxis47": {
         "anchor": "y47",
         "domain": [
          0.35555555555555557,
          0.6444444444444445
         ]
        },
        "xaxis48": {
         "anchor": "y48",
         "domain": [
          0.7111111111111111,
          1
         ]
        },
        "xaxis49": {
         "anchor": "y49",
         "domain": [
          0,
          0.2888888888888889
         ]
        },
        "xaxis5": {
         "anchor": "y5",
         "domain": [
          0.35555555555555557,
          0.6444444444444445
         ]
        },
        "xaxis50": {
         "anchor": "y50",
         "domain": [
          0.35555555555555557,
          0.6444444444444445
         ]
        },
        "xaxis51": {
         "anchor": "y51",
         "domain": [
          0.7111111111111111,
          1
         ]
        },
        "xaxis52": {
         "anchor": "y52",
         "domain": [
          0,
          0.2888888888888889
         ]
        },
        "xaxis53": {
         "anchor": "y53",
         "domain": [
          0.35555555555555557,
          0.6444444444444445
         ]
        },
        "xaxis54": {
         "anchor": "y54",
         "domain": [
          0.7111111111111111,
          1
         ]
        },
        "xaxis55": {
         "anchor": "y55",
         "domain": [
          0,
          0.2888888888888889
         ]
        },
        "xaxis56": {
         "anchor": "y56",
         "domain": [
          0.35555555555555557,
          0.6444444444444445
         ]
        },
        "xaxis57": {
         "anchor": "y57",
         "domain": [
          0.7111111111111111,
          1
         ]
        },
        "xaxis6": {
         "anchor": "y6",
         "domain": [
          0.7111111111111111,
          1
         ]
        },
        "xaxis7": {
         "anchor": "y7",
         "domain": [
          0,
          0.2888888888888889
         ]
        },
        "xaxis8": {
         "anchor": "y8",
         "domain": [
          0.35555555555555557,
          0.6444444444444445
         ]
        },
        "xaxis9": {
         "anchor": "y9",
         "domain": [
          0.7111111111111111,
          1
         ]
        },
        "yaxis": {
         "anchor": "x",
         "domain": [
          0.9722991689750694,
          1
         ]
        },
        "yaxis10": {
         "anchor": "x10",
         "domain": [
          0.8102493074792245,
          0.8379501385041552
         ]
        },
        "yaxis11": {
         "anchor": "x11",
         "domain": [
          0.8102493074792245,
          0.8379501385041552
         ]
        },
        "yaxis12": {
         "anchor": "x12",
         "domain": [
          0.8102493074792245,
          0.8379501385041552
         ]
        },
        "yaxis13": {
         "anchor": "x13",
         "domain": [
          0.7562326869806095,
          0.7839335180055402
         ]
        },
        "yaxis14": {
         "anchor": "x14",
         "domain": [
          0.7562326869806095,
          0.7839335180055402
         ]
        },
        "yaxis15": {
         "anchor": "x15",
         "domain": [
          0.7562326869806095,
          0.7839335180055402
         ]
        },
        "yaxis16": {
         "anchor": "x16",
         "domain": [
          0.7022160664819945,
          0.7299168975069252
         ]
        },
        "yaxis17": {
         "anchor": "x17",
         "domain": [
          0.7022160664819945,
          0.7299168975069252
         ]
        },
        "yaxis18": {
         "anchor": "x18",
         "domain": [
          0.7022160664819945,
          0.7299168975069252
         ]
        },
        "yaxis19": {
         "anchor": "x19",
         "domain": [
          0.6481994459833795,
          0.6759002770083102
         ]
        },
        "yaxis2": {
         "anchor": "x2",
         "domain": [
          0.9722991689750694,
          1
         ]
        },
        "yaxis20": {
         "anchor": "x20",
         "domain": [
          0.6481994459833795,
          0.6759002770083102
         ]
        },
        "yaxis21": {
         "anchor": "x21",
         "domain": [
          0.6481994459833795,
          0.6759002770083102
         ]
        },
        "yaxis22": {
         "anchor": "x22",
         "domain": [
          0.5941828254847646,
          0.6218836565096953
         ]
        },
        "yaxis23": {
         "anchor": "x23",
         "domain": [
          0.5941828254847646,
          0.6218836565096953
         ]
        },
        "yaxis24": {
         "anchor": "x24",
         "domain": [
          0.5941828254847646,
          0.6218836565096953
         ]
        },
        "yaxis25": {
         "anchor": "x25",
         "domain": [
          0.5401662049861496,
          0.5678670360110804
         ]
        },
        "yaxis26": {
         "anchor": "x26",
         "domain": [
          0.5401662049861496,
          0.5678670360110804
         ]
        },
        "yaxis27": {
         "anchor": "x27",
         "domain": [
          0.5401662049861496,
          0.5678670360110804
         ]
        },
        "yaxis28": {
         "anchor": "x28",
         "domain": [
          0.48614958448753465,
          0.5138504155124654
         ]
        },
        "yaxis29": {
         "anchor": "x29",
         "domain": [
          0.48614958448753465,
          0.5138504155124654
         ]
        },
        "yaxis3": {
         "anchor": "x3",
         "domain": [
          0.9722991689750694,
          1
         ]
        },
        "yaxis30": {
         "anchor": "x30",
         "domain": [
          0.48614958448753465,
          0.5138504155124654
         ]
        },
        "yaxis31": {
         "anchor": "x31",
         "domain": [
          0.4321329639889197,
          0.45983379501385047
         ]
        },
        "yaxis32": {
         "anchor": "x32",
         "domain": [
          0.4321329639889197,
          0.45983379501385047
         ]
        },
        "yaxis33": {
         "anchor": "x33",
         "domain": [
          0.4321329639889197,
          0.45983379501385047
         ]
        },
        "yaxis34": {
         "anchor": "x34",
         "domain": [
          0.37811634349030476,
          0.4058171745152355
         ]
        },
        "yaxis35": {
         "anchor": "x35",
         "domain": [
          0.37811634349030476,
          0.4058171745152355
         ]
        },
        "yaxis36": {
         "anchor": "x36",
         "domain": [
          0.37811634349030476,
          0.4058171745152355
         ]
        },
        "yaxis37": {
         "anchor": "x37",
         "domain": [
          0.32409972299168976,
          0.3518005540166205
         ]
        },
        "yaxis38": {
         "anchor": "x38",
         "domain": [
          0.32409972299168976,
          0.3518005540166205
         ]
        },
        "yaxis39": {
         "anchor": "x39",
         "domain": [
          0.32409972299168976,
          0.3518005540166205
         ]
        },
        "yaxis4": {
         "anchor": "x4",
         "domain": [
          0.9182825484764544,
          0.9459833795013851
         ]
        },
        "yaxis40": {
         "anchor": "x40",
         "domain": [
          0.27008310249307477,
          0.29778393351800553
         ]
        },
        "yaxis41": {
         "anchor": "x41",
         "domain": [
          0.27008310249307477,
          0.29778393351800553
         ]
        },
        "yaxis42": {
         "anchor": "x42",
         "domain": [
          0.27008310249307477,
          0.29778393351800553
         ]
        },
        "yaxis43": {
         "anchor": "x43",
         "domain": [
          0.21606648199445982,
          0.24376731301939059
         ]
        },
        "yaxis44": {
         "anchor": "x44",
         "domain": [
          0.21606648199445982,
          0.24376731301939059
         ]
        },
        "yaxis45": {
         "anchor": "x45",
         "domain": [
          0.21606648199445982,
          0.24376731301939059
         ]
        },
        "yaxis46": {
         "anchor": "x46",
         "domain": [
          0.16204986149584488,
          0.18975069252077564
         ]
        },
        "yaxis47": {
         "anchor": "x47",
         "domain": [
          0.16204986149584488,
          0.18975069252077564
         ]
        },
        "yaxis48": {
         "anchor": "x48",
         "domain": [
          0.16204986149584488,
          0.18975069252077564
         ]
        },
        "yaxis49": {
         "anchor": "x49",
         "domain": [
          0.10803324099722991,
          0.13573407202216067
         ]
        },
        "yaxis5": {
         "anchor": "x5",
         "domain": [
          0.9182825484764544,
          0.9459833795013851
         ]
        },
        "yaxis50": {
         "anchor": "x50",
         "domain": [
          0.10803324099722991,
          0.13573407202216067
         ]
        },
        "yaxis51": {
         "anchor": "x51",
         "domain": [
          0.10803324099722991,
          0.13573407202216067
         ]
        },
        "yaxis52": {
         "anchor": "x52",
         "domain": [
          0.054016620498614956,
          0.0817174515235457
         ]
        },
        "yaxis53": {
         "anchor": "x53",
         "domain": [
          0.054016620498614956,
          0.0817174515235457
         ]
        },
        "yaxis54": {
         "anchor": "x54",
         "domain": [
          0.054016620498614956,
          0.0817174515235457
         ]
        },
        "yaxis55": {
         "anchor": "x55",
         "domain": [
          0,
          0.02770083102493075
         ]
        },
        "yaxis56": {
         "anchor": "x56",
         "domain": [
          0,
          0.02770083102493075
         ]
        },
        "yaxis57": {
         "anchor": "x57",
         "domain": [
          0,
          0.02770083102493075
         ]
        },
        "yaxis6": {
         "anchor": "x6",
         "domain": [
          0.9182825484764544,
          0.9459833795013851
         ]
        },
        "yaxis7": {
         "anchor": "x7",
         "domain": [
          0.8642659279778395,
          0.8919667590027702
         ]
        },
        "yaxis8": {
         "anchor": "x8",
         "domain": [
          0.8642659279778395,
          0.8919667590027702
         ]
        },
        "yaxis9": {
         "anchor": "x9",
         "domain": [
          0.8642659279778395,
          0.8919667590027702
         ]
        }
       }
      }
     },
     "metadata": {},
     "output_type": "display_data"
    }
   ],
   "source": [
    "subplot_titles = [str(col) for col in df_macroeconomic_book]\n",
    "columns_per_row = 3\n",
    "\n",
    "num_rows = len(df_macroeconomic_numeric_cols) // columns_per_row + (len(df_macroeconomic_numeric_cols) % columns_per_row > 0)\n",
    "fig = sp.make_subplots(rows=num_rows, cols=columns_per_row, subplot_titles=subplot_titles)\n",
    "\n",
    "for i, column in enumerate(df_macroeconomic_numeric_cols):\n",
    "    row = i // columns_per_row + 1\n",
    "    col = i % columns_per_row + 1\n",
    "    \n",
    "    fig.add_trace(go.Histogram(x=df_macroeconomic_numeric_cols[column], name=column, marker_color='lightseagreen'), row=row, col=col)\n",
    "\n",
    "fig.update_layout(title='Histograms by Column', height=300 * num_rows, showlegend=False, template='plotly_dark')\n",
    "fig.show()"
   ]
  },
  {
   "cell_type": "markdown",
   "metadata": {},
   "source": [
    "*`Selic`*: The values range from **2.00%** to **13.75%**, with a distribution that appears to be multimodal, indicating distinct periods of monetary policy.\n",
    "\n",
    "*`Confidence`*: Varies from **96.82** to **139.39**, with a distribution that can be approximately normal but multimodal, reflecting different periods of economic confidence.\n",
    "\n",
    "*G`DP-PIB`*: Fluctuates between **569278.8** and **927590.5**, with an asymmetric distribution and possible clusters of values suggesting variations in economic activity.\n",
    "\n",
    "*`INCC`*: Oscillates between **0.03** and **2.28**, with a strongly right-skewed distribution, indicating stability in construction costs with sporadic significant increases.\n",
    "\n",
    "*`IPCA`*: Ranges from **1.88** to **12.13**, with a right-skewed distribution, suggesting periods of variable inflation, with a tendency toward higher values.\n",
    "\n",
    "*`Dollar`*: Has values between **3.6513** and **5.7712**, with a bimodal distribution that may reflect different currency price regimes over time.\n",
    "\n",
    "*`Monthly Inflation`*: Varies from **-0.276824** to **0.318043**, with a distribution that can be considered approximately normal but with occurrences of deflation and inflation.\n",
    "\n",
    "*`GDP Growth`*: Presents variations from **-0.107443** to **0.124708**, with a distribution that seems to be approximately symmetric around zero, representing periods of economic contraction and expansion.\n",
    "\n",
    "*`Dollar Growth`*: Shows a variation from **-0.078151** to **0.155621**, with a slightly right-skewed distribution, suggesting moments of more pronounced dollar appreciation.\n",
    "\n",
    "*`Real Interest Rate`*: With a range between **-4.74** and **10.59**, the distribution is skewed with a concentration of lower values and a long tail to the positive side, indicating a variety of real monetary conditions.\n",
    "\n",
    "*`Inflation Confidence Difference`*: Varies between **-135.50** and **-93.51**, with a distribution skewed towards negative values, reflecting moments when inflation expectations were significantly lower than overall economic confidence.\n",
    "\n",
    "These distributions reflect the complexity of economic variables and their fluctuations over time, highlighting the importance of analyzing these indicators together to understand economic health and market confidence.\n"
   ]
  },
  {
   "cell_type": "markdown",
   "metadata": {},
   "source": [
    "### Correlation and Dispersion"
   ]
  },
  {
   "cell_type": "code",
   "execution_count": 32,
   "metadata": {},
   "outputs": [
    {
     "data": {
      "application/vnd.plotly.v1+json": {
       "config": {
        "plotlyServerURL": "https://plot.ly"
       },
       "data": [
        {
         "coloraxis": "coloraxis",
         "hovertemplate": "x: %{x}<br>y: %{y}<br>color: %{z}<extra></extra>",
         "name": "0",
         "texttemplate": "%{z}",
         "type": "heatmap",
         "x": [
          "selic",
          "confidence",
          "pib",
          "incc",
          "ipca",
          "dolar",
          "monthly_inflation",
          "gdp_growth",
          "dollar_growth",
          "real_interest_rate",
          "inflation_confidence_difference"
         ],
         "xaxis": "x",
         "y": [
          "selic",
          "confidence",
          "pib",
          "incc",
          "ipca",
          "dolar",
          "monthly_inflation",
          "gdp_growth",
          "dollar_growth",
          "real_interest_rate",
          "inflation_confidence_difference"
         ],
         "yaxis": "y",
         "z": [
          [
           1,
           0.2631249023590993,
           0.8092822678726117,
           -0.2518939236672301,
           0.386891674653575,
           -0.008116626576160073,
           -0.32754269216141335,
           -0.007106023010826237,
           -0.1363427720937267,
           0.7635990835010508,
           -0.11780458403457428
          ],
          [
           0.2631249023590993,
           1,
           0.09073830774223882,
           -0.4608937504456638,
           -0.33770309088011524,
           -0.41759833108292455,
           -0.021936399960984142,
           -0.06648671935340587,
           0.20788306649582314,
           0.5086714589512581,
           -0.9633053050544672
          ],
          [
           0.8092822678726117,
           0.09073830774223882,
           1,
           0.028719763955798186,
           0.48757685085130686,
           0.4033852717581319,
           -0.07040282819257775,
           0.16540838798230867,
           -0.22171214990243124,
           0.4957981846032977,
           0.060367014214968186
          ],
          [
           -0.2518939236672301,
           -0.4608937504456638,
           0.028719763955798186,
           1,
           0.3486321251378386,
           0.29770322373802016,
           0.2726982000820202,
           0.079823660791535,
           -0.132260287236642,
           -0.5047056471303547,
           0.4990136257929199
          ],
          [
           0.386891674653575,
           -0.33770309088011524,
           0.48757685085130686,
           0.3486321251378386,
           1,
           0.31243199538586947,
           0.059034293110928525,
           0.026365705270625827,
           -0.10905732994925775,
           -0.299977490512241,
           0.5779509914227441
          ],
          [
           -0.008116626576160073,
           -0.41759833108292455,
           0.4033852717581319,
           0.29770322373802016,
           0.31243199538586947,
           1,
           0.08058864644402387,
           0.018952339639593148,
           0.029028159737041842,
           -0.2271679119205911,
           0.4511534028449466
          ],
          [
           -0.32754269216141335,
           -0.021936399960984142,
           -0.07040282819257775,
           0.2726982000820202,
           0.059034293110928525,
           0.08058864644402387,
           1,
           0.18428246886041671,
           -0.007445235833140093,
           -0.3801826864025481,
           0.03585323162207815
          ],
          [
           -0.007106023010826237,
           -0.06648671935340587,
           0.16540838798230867,
           0.079823660791535,
           0.026365705270625827,
           0.018952339639593148,
           0.18428246886041671,
           1,
           -0.1639881145993612,
           -0.02581304015749981,
           0.06516282377526558
          ],
          [
           -0.1363427720937267,
           0.20788306649582314,
           -0.22171214990243124,
           -0.132260287236642,
           -0.10905732994925775,
           0.029028159737041842,
           -0.007445235833140093,
           -0.1639881145993612,
           1,
           -0.06468360454893414,
           -0.21133465014355118
          ],
          [
           0.7635990835010508,
           0.5086714589512581,
           0.4957981846032977,
           -0.5047056471303547,
           -0.299977490512241,
           -0.2271679119205911,
           -0.3801826864025481,
           -0.02581304015749981,
           -0.06468360454893414,
           1,
           -0.5265627940870068
          ],
          [
           -0.11780458403457428,
           -0.9633053050544672,
           0.060367014214968186,
           0.4990136257929199,
           0.5779509914227441,
           0.4511534028449466,
           0.03585323162207815,
           0.06516282377526558,
           -0.21133465014355118,
           -0.5265627940870068,
           1
          ]
         ]
        }
       ],
       "layout": {
        "coloraxis": {
         "colorscale": [
          [
           0,
           "rgb(150, 245, 231)"
          ],
          [
           0.5,
           "rgb(100, 195, 181)"
          ],
          [
           1,
           "rgb(50, 145, 131)"
          ]
         ]
        },
        "template": {
         "data": {
          "bar": [
           {
            "error_x": {
             "color": "#f2f5fa"
            },
            "error_y": {
             "color": "#f2f5fa"
            },
            "marker": {
             "line": {
              "color": "rgb(17,17,17)",
              "width": 0.5
             },
             "pattern": {
              "fillmode": "overlay",
              "size": 10,
              "solidity": 0.2
             }
            },
            "type": "bar"
           }
          ],
          "barpolar": [
           {
            "marker": {
             "line": {
              "color": "rgb(17,17,17)",
              "width": 0.5
             },
             "pattern": {
              "fillmode": "overlay",
              "size": 10,
              "solidity": 0.2
             }
            },
            "type": "barpolar"
           }
          ],
          "carpet": [
           {
            "aaxis": {
             "endlinecolor": "#A2B1C6",
             "gridcolor": "#506784",
             "linecolor": "#506784",
             "minorgridcolor": "#506784",
             "startlinecolor": "#A2B1C6"
            },
            "baxis": {
             "endlinecolor": "#A2B1C6",
             "gridcolor": "#506784",
             "linecolor": "#506784",
             "minorgridcolor": "#506784",
             "startlinecolor": "#A2B1C6"
            },
            "type": "carpet"
           }
          ],
          "choropleth": [
           {
            "colorbar": {
             "outlinewidth": 0,
             "ticks": ""
            },
            "type": "choropleth"
           }
          ],
          "contour": [
           {
            "colorbar": {
             "outlinewidth": 0,
             "ticks": ""
            },
            "colorscale": [
             [
              0,
              "#0d0887"
             ],
             [
              0.1111111111111111,
              "#46039f"
             ],
             [
              0.2222222222222222,
              "#7201a8"
             ],
             [
              0.3333333333333333,
              "#9c179e"
             ],
             [
              0.4444444444444444,
              "#bd3786"
             ],
             [
              0.5555555555555556,
              "#d8576b"
             ],
             [
              0.6666666666666666,
              "#ed7953"
             ],
             [
              0.7777777777777778,
              "#fb9f3a"
             ],
             [
              0.8888888888888888,
              "#fdca26"
             ],
             [
              1,
              "#f0f921"
             ]
            ],
            "type": "contour"
           }
          ],
          "contourcarpet": [
           {
            "colorbar": {
             "outlinewidth": 0,
             "ticks": ""
            },
            "type": "contourcarpet"
           }
          ],
          "heatmap": [
           {
            "colorbar": {
             "outlinewidth": 0,
             "ticks": ""
            },
            "colorscale": [
             [
              0,
              "#0d0887"
             ],
             [
              0.1111111111111111,
              "#46039f"
             ],
             [
              0.2222222222222222,
              "#7201a8"
             ],
             [
              0.3333333333333333,
              "#9c179e"
             ],
             [
              0.4444444444444444,
              "#bd3786"
             ],
             [
              0.5555555555555556,
              "#d8576b"
             ],
             [
              0.6666666666666666,
              "#ed7953"
             ],
             [
              0.7777777777777778,
              "#fb9f3a"
             ],
             [
              0.8888888888888888,
              "#fdca26"
             ],
             [
              1,
              "#f0f921"
             ]
            ],
            "type": "heatmap"
           }
          ],
          "heatmapgl": [
           {
            "colorbar": {
             "outlinewidth": 0,
             "ticks": ""
            },
            "colorscale": [
             [
              0,
              "#0d0887"
             ],
             [
              0.1111111111111111,
              "#46039f"
             ],
             [
              0.2222222222222222,
              "#7201a8"
             ],
             [
              0.3333333333333333,
              "#9c179e"
             ],
             [
              0.4444444444444444,
              "#bd3786"
             ],
             [
              0.5555555555555556,
              "#d8576b"
             ],
             [
              0.6666666666666666,
              "#ed7953"
             ],
             [
              0.7777777777777778,
              "#fb9f3a"
             ],
             [
              0.8888888888888888,
              "#fdca26"
             ],
             [
              1,
              "#f0f921"
             ]
            ],
            "type": "heatmapgl"
           }
          ],
          "histogram": [
           {
            "marker": {
             "pattern": {
              "fillmode": "overlay",
              "size": 10,
              "solidity": 0.2
             }
            },
            "type": "histogram"
           }
          ],
          "histogram2d": [
           {
            "colorbar": {
             "outlinewidth": 0,
             "ticks": ""
            },
            "colorscale": [
             [
              0,
              "#0d0887"
             ],
             [
              0.1111111111111111,
              "#46039f"
             ],
             [
              0.2222222222222222,
              "#7201a8"
             ],
             [
              0.3333333333333333,
              "#9c179e"
             ],
             [
              0.4444444444444444,
              "#bd3786"
             ],
             [
              0.5555555555555556,
              "#d8576b"
             ],
             [
              0.6666666666666666,
              "#ed7953"
             ],
             [
              0.7777777777777778,
              "#fb9f3a"
             ],
             [
              0.8888888888888888,
              "#fdca26"
             ],
             [
              1,
              "#f0f921"
             ]
            ],
            "type": "histogram2d"
           }
          ],
          "histogram2dcontour": [
           {
            "colorbar": {
             "outlinewidth": 0,
             "ticks": ""
            },
            "colorscale": [
             [
              0,
              "#0d0887"
             ],
             [
              0.1111111111111111,
              "#46039f"
             ],
             [
              0.2222222222222222,
              "#7201a8"
             ],
             [
              0.3333333333333333,
              "#9c179e"
             ],
             [
              0.4444444444444444,
              "#bd3786"
             ],
             [
              0.5555555555555556,
              "#d8576b"
             ],
             [
              0.6666666666666666,
              "#ed7953"
             ],
             [
              0.7777777777777778,
              "#fb9f3a"
             ],
             [
              0.8888888888888888,
              "#fdca26"
             ],
             [
              1,
              "#f0f921"
             ]
            ],
            "type": "histogram2dcontour"
           }
          ],
          "mesh3d": [
           {
            "colorbar": {
             "outlinewidth": 0,
             "ticks": ""
            },
            "type": "mesh3d"
           }
          ],
          "parcoords": [
           {
            "line": {
             "colorbar": {
              "outlinewidth": 0,
              "ticks": ""
             }
            },
            "type": "parcoords"
           }
          ],
          "pie": [
           {
            "automargin": true,
            "type": "pie"
           }
          ],
          "scatter": [
           {
            "marker": {
             "line": {
              "color": "#283442"
             }
            },
            "type": "scatter"
           }
          ],
          "scatter3d": [
           {
            "line": {
             "colorbar": {
              "outlinewidth": 0,
              "ticks": ""
             }
            },
            "marker": {
             "colorbar": {
              "outlinewidth": 0,
              "ticks": ""
             }
            },
            "type": "scatter3d"
           }
          ],
          "scattercarpet": [
           {
            "marker": {
             "colorbar": {
              "outlinewidth": 0,
              "ticks": ""
             }
            },
            "type": "scattercarpet"
           }
          ],
          "scattergeo": [
           {
            "marker": {
             "colorbar": {
              "outlinewidth": 0,
              "ticks": ""
             }
            },
            "type": "scattergeo"
           }
          ],
          "scattergl": [
           {
            "marker": {
             "line": {
              "color": "#283442"
             }
            },
            "type": "scattergl"
           }
          ],
          "scattermapbox": [
           {
            "marker": {
             "colorbar": {
              "outlinewidth": 0,
              "ticks": ""
             }
            },
            "type": "scattermapbox"
           }
          ],
          "scatterpolar": [
           {
            "marker": {
             "colorbar": {
              "outlinewidth": 0,
              "ticks": ""
             }
            },
            "type": "scatterpolar"
           }
          ],
          "scatterpolargl": [
           {
            "marker": {
             "colorbar": {
              "outlinewidth": 0,
              "ticks": ""
             }
            },
            "type": "scatterpolargl"
           }
          ],
          "scatterternary": [
           {
            "marker": {
             "colorbar": {
              "outlinewidth": 0,
              "ticks": ""
             }
            },
            "type": "scatterternary"
           }
          ],
          "surface": [
           {
            "colorbar": {
             "outlinewidth": 0,
             "ticks": ""
            },
            "colorscale": [
             [
              0,
              "#0d0887"
             ],
             [
              0.1111111111111111,
              "#46039f"
             ],
             [
              0.2222222222222222,
              "#7201a8"
             ],
             [
              0.3333333333333333,
              "#9c179e"
             ],
             [
              0.4444444444444444,
              "#bd3786"
             ],
             [
              0.5555555555555556,
              "#d8576b"
             ],
             [
              0.6666666666666666,
              "#ed7953"
             ],
             [
              0.7777777777777778,
              "#fb9f3a"
             ],
             [
              0.8888888888888888,
              "#fdca26"
             ],
             [
              1,
              "#f0f921"
             ]
            ],
            "type": "surface"
           }
          ],
          "table": [
           {
            "cells": {
             "fill": {
              "color": "#506784"
             },
             "line": {
              "color": "rgb(17,17,17)"
             }
            },
            "header": {
             "fill": {
              "color": "#2a3f5f"
             },
             "line": {
              "color": "rgb(17,17,17)"
             }
            },
            "type": "table"
           }
          ]
         },
         "layout": {
          "annotationdefaults": {
           "arrowcolor": "#f2f5fa",
           "arrowhead": 0,
           "arrowwidth": 1
          },
          "autotypenumbers": "strict",
          "coloraxis": {
           "colorbar": {
            "outlinewidth": 0,
            "ticks": ""
           }
          },
          "colorscale": {
           "diverging": [
            [
             0,
             "#8e0152"
            ],
            [
             0.1,
             "#c51b7d"
            ],
            [
             0.2,
             "#de77ae"
            ],
            [
             0.3,
             "#f1b6da"
            ],
            [
             0.4,
             "#fde0ef"
            ],
            [
             0.5,
             "#f7f7f7"
            ],
            [
             0.6,
             "#e6f5d0"
            ],
            [
             0.7,
             "#b8e186"
            ],
            [
             0.8,
             "#7fbc41"
            ],
            [
             0.9,
             "#4d9221"
            ],
            [
             1,
             "#276419"
            ]
           ],
           "sequential": [
            [
             0,
             "#0d0887"
            ],
            [
             0.1111111111111111,
             "#46039f"
            ],
            [
             0.2222222222222222,
             "#7201a8"
            ],
            [
             0.3333333333333333,
             "#9c179e"
            ],
            [
             0.4444444444444444,
             "#bd3786"
            ],
            [
             0.5555555555555556,
             "#d8576b"
            ],
            [
             0.6666666666666666,
             "#ed7953"
            ],
            [
             0.7777777777777778,
             "#fb9f3a"
            ],
            [
             0.8888888888888888,
             "#fdca26"
            ],
            [
             1,
             "#f0f921"
            ]
           ],
           "sequentialminus": [
            [
             0,
             "#0d0887"
            ],
            [
             0.1111111111111111,
             "#46039f"
            ],
            [
             0.2222222222222222,
             "#7201a8"
            ],
            [
             0.3333333333333333,
             "#9c179e"
            ],
            [
             0.4444444444444444,
             "#bd3786"
            ],
            [
             0.5555555555555556,
             "#d8576b"
            ],
            [
             0.6666666666666666,
             "#ed7953"
            ],
            [
             0.7777777777777778,
             "#fb9f3a"
            ],
            [
             0.8888888888888888,
             "#fdca26"
            ],
            [
             1,
             "#f0f921"
            ]
           ]
          },
          "colorway": [
           "#636efa",
           "#EF553B",
           "#00cc96",
           "#ab63fa",
           "#FFA15A",
           "#19d3f3",
           "#FF6692",
           "#B6E880",
           "#FF97FF",
           "#FECB52"
          ],
          "font": {
           "color": "#f2f5fa"
          },
          "geo": {
           "bgcolor": "rgb(17,17,17)",
           "lakecolor": "rgb(17,17,17)",
           "landcolor": "rgb(17,17,17)",
           "showlakes": true,
           "showland": true,
           "subunitcolor": "#506784"
          },
          "hoverlabel": {
           "align": "left"
          },
          "hovermode": "closest",
          "mapbox": {
           "style": "dark"
          },
          "paper_bgcolor": "rgb(17,17,17)",
          "plot_bgcolor": "rgb(17,17,17)",
          "polar": {
           "angularaxis": {
            "gridcolor": "#506784",
            "linecolor": "#506784",
            "ticks": ""
           },
           "bgcolor": "rgb(17,17,17)",
           "radialaxis": {
            "gridcolor": "#506784",
            "linecolor": "#506784",
            "ticks": ""
           }
          },
          "scene": {
           "xaxis": {
            "backgroundcolor": "rgb(17,17,17)",
            "gridcolor": "#506784",
            "gridwidth": 2,
            "linecolor": "#506784",
            "showbackground": true,
            "ticks": "",
            "zerolinecolor": "#C8D4E3"
           },
           "yaxis": {
            "backgroundcolor": "rgb(17,17,17)",
            "gridcolor": "#506784",
            "gridwidth": 2,
            "linecolor": "#506784",
            "showbackground": true,
            "ticks": "",
            "zerolinecolor": "#C8D4E3"
           },
           "zaxis": {
            "backgroundcolor": "rgb(17,17,17)",
            "gridcolor": "#506784",
            "gridwidth": 2,
            "linecolor": "#506784",
            "showbackground": true,
            "ticks": "",
            "zerolinecolor": "#C8D4E3"
           }
          },
          "shapedefaults": {
           "line": {
            "color": "#f2f5fa"
           }
          },
          "sliderdefaults": {
           "bgcolor": "#C8D4E3",
           "bordercolor": "rgb(17,17,17)",
           "borderwidth": 1,
           "tickwidth": 0
          },
          "ternary": {
           "aaxis": {
            "gridcolor": "#506784",
            "linecolor": "#506784",
            "ticks": ""
           },
           "baxis": {
            "gridcolor": "#506784",
            "linecolor": "#506784",
            "ticks": ""
           },
           "bgcolor": "rgb(17,17,17)",
           "caxis": {
            "gridcolor": "#506784",
            "linecolor": "#506784",
            "ticks": ""
           }
          },
          "title": {
           "x": 0.05
          },
          "updatemenudefaults": {
           "bgcolor": "#506784",
           "borderwidth": 0
          },
          "xaxis": {
           "automargin": true,
           "gridcolor": "#283442",
           "linecolor": "#506784",
           "ticks": "",
           "title": {
            "standoff": 15
           },
           "zerolinecolor": "#283442",
           "zerolinewidth": 2
          },
          "yaxis": {
           "automargin": true,
           "gridcolor": "#283442",
           "linecolor": "#506784",
           "ticks": "",
           "title": {
            "standoff": 15
           },
           "zerolinecolor": "#283442",
           "zerolinewidth": 2
          }
         }
        },
        "title": {
         "text": "Mapa de Calor: Correlação entre as variaveis"
        },
        "xaxis": {
         "anchor": "y",
         "domain": [
          0,
          1
         ]
        },
        "yaxis": {
         "anchor": "x",
         "autorange": "reversed",
         "domain": [
          0,
          1
         ]
        }
       }
      }
     },
     "metadata": {},
     "output_type": "display_data"
    }
   ],
   "source": [
    "\n",
    "df_macroeconomic_numeric_cols_corr = df_macroeconomic_numeric_cols.corr()\n",
    "color_scale = [[0, 'rgb(150, 245, 231)'], [0.5, 'rgb(100, 195, 181)'], [1, 'rgb(50, 145, 131)']]\n",
    "fig = px.imshow(df_macroeconomic_numeric_cols_corr, text_auto=True, aspect=\"auto\", template=\"plotly_dark\", title=\"Mapa de Calor: Correlação entre as variaveis\", color_continuous_scale=color_scale)\n",
    "fig.show()"
   ]
  },
  {
   "cell_type": "markdown",
   "metadata": {},
   "source": [
    "**Strong Negative Correlations**:\n",
    "\n",
    "- `confidence` ↔ `inflation_confidence_difference`: **-0.963305**\n",
    "\n",
    "**Cause and Effect**: High general confidence may lead to a smaller difference in inflationary confidence, suggesting that when people are more confident in the economy, they tend to perceive fewer inflation risks.\n",
    "\n",
    "- `inflation_confidence_difference` ↔ `confidence`: **-0.963305**\n",
    "\n",
    "**Cause and Effect**: A larger difference in inflationary confidence can indicate economic uncertainties, which typically reduces overall confidence in the economy.\n",
    "\n",
    "**Strong Positive Correlations**:\n",
    "\n",
    "- `selic` ↔ `pib`: **0.809282**\n",
    "\n",
    "**Cause and Effect**: An increase in the Selic rate may be associated with GDP growth, possibly reflecting a monetary policy that responds to economic growth.\n",
    "\n",
    "- `pib` ↔ `selic`: **0.809282**\n",
    "\n",
    "**Cause and Effect**: GDP growth can lead to adjustments in the Selic rate, as part of monetary policy to control inflation and stimulate investment.\n",
    "\n",
    "- `selic` ↔ `real_interest_rate`: **0.763599**\n",
    "\n",
    "**Cause and Effect**: An increase in the Selic rate may correlate with an increase in the real interest rate, indicating a more restrictive monetary policy to control inflation.\n",
    "\n",
    "- `real_interest_rate` ↔ `selic`: **0.763599**\n",
    "\n",
    "**Cause and Effect**: High real interest rates can influence the increase of the Selic rate, as a measure to balance the economy and control inflation.\n",
    "\n",
    "**Moderate Correlations**:\n",
    "\n",
    "- `ipca` ↔ `inflation_confidence_difference`: **0.577951**\n",
    "\n",
    "**Cause and Effect**: Variations in IPCA may be moderately linked to changes in inflation perception, affecting inflationary confidence.\n",
    "\n",
    "- `inflation_confidence_difference` ↔ `ipca`: **0.577951**\n",
    "\n",
    "**Cause and Effect**: A change in inflationary confidence may reflect changes in IPCA, influencing expectations of future inflation.\n",
    "\n",
    "- `confidence` ↔ `real_interest_rate`: **0.508671**\n",
    "\n",
    "**Cause and Effect**: An increase in general confidence might correlate with a rise in real interest rates, potentially reflecting optimistic economic perceptions leading to tighter monetary policy.\n",
    "\n",
    "- `real_interest_rate` ↔ `confidence`: **0.508671**\n",
    "\n",
    "**Cause and Effect**: Higher real interest rates could indicate growing economic confidence, which in turn can lead to an increase in investment and economic activity.\n",
    "\n",
    "- `incc` ↔ `inflation_confidence_difference`: **0.499014**\n",
    "\n",
    "**Cause and Effect**: Fluctuations in the INCC might relate to changes in inflationary confidence, indicating how construction costs impact inflation perceptions.\n",
    "\n",
    "- `inflation_confidence_difference` ↔ `incc`: **0.499014**\n",
    "\n",
    "**Cause and Effect**: A variation in inflationary confidence can be moderately influenced by changes in construction costs (INCC), reflecting the construction sector's impact on the overall economy.\n",
    "\n",
    "- `pib` ↔ `real_interest_rate`: **0.495798**\n",
    "\n",
    "**Cause and Effect**: The relationship between GDP and real interest rates might indicate how economic growth influences monetary policy.\n",
    "\n",
    "- `real_interest_rate` ↔ `pib`: **0.495798**\n",
    "\n",
    "**Cause and Effect**: Changes in real interest rates can be a response to GDP fluctuations, as part of efforts to balance economic growth and inflation.\n",
    "\n",
    "- `pib` ↔ `ipca`: **0.487577**\n",
    "\n",
    "**Cause and Effect**: GDP movements can be moderately correlated with IPCA fluctuations, showing how overall economic performance influences inflation rates.\n",
    "\n",
    "- `ipca` ↔ `pib`: **0.487577**\n",
    "\n",
    "**Cause and Effect**: Changes in IPCA may reflect the economic health represented by GDP, with inflation rates responding to economic growth or contraction.\n",
    "\n",
    "- `dolar` ↔ `inflation_confidence_difference`: **0.451153**\n",
    "\n",
    "**Cause and Effect**: The dollar's value might influence inflationary confidence, as currency fluctuations can impact import prices and inflation perceptions.\n",
    "\n",
    "- `inflation_confidence_difference` ↔ `dolar`: **0.451153**\n",
    "\n",
    "**Cause and Effect**: Changes in inflationary confidence can reflect movements in the dollar value, indicating how currency fluctuations impact economic perceptions.\n",
    "\n",
    "- `pib` ↔ `dolar`: **0.403385**\n",
    "\n",
    "**Cause and Effect**: The relationship between GDP and the dollar can show how economic performance influences currency value, affecting international trade and investment.\n",
    "\n",
    "- `dolar` ↔ `pib`: **0.403385**\n",
    "\n",
    "**Cause and Effect**: Fluctuations in the dollar's value can reflect changes in GDP, indicating the economy's strength or weakness in the global market.\n",
    "\n",
    "- `selic` ↔ `ipca`: **0.386892**\n",
    "\n",
    "**Cause and Effect**: The Selic rate's correlation with IPCA might show how monetary policy is adjusted in response to inflation rates.\n",
    "\n",
    "- `ipca` ↔ `selic`: **0.386892**\n",
    "\n",
    "**Cause and Effect**: Changes in IPCA can influence the Selic rate, as part of efforts to control inflation through monetary policy.\n",
    "\n",
    "- `incc` ↔ `ipca`: **0.348632**\n",
    "\n",
    "**Cause and Effect**: The INCC's relationship with IPCA could indicate how construction costs contribute to overall inflation rates.\n",
    "\n",
    "- `ipca` ↔ `incc`: **0.348632**\n",
    "\n",
    "**Cause and Effect**: Variations in IPCA may reflect changes in the construction sector, as indicated by movements in the INCC.\n",
    "\n",
    "- `ipca` ↔ `dolar`: **0.312432**\n",
    "\n",
    "**Cause and Effect**: The correlation between IPCA and the dollar value can show how currency strength influences inflation, particularly through import prices.\n",
    "\n",
    "- `dolar` ↔ `ipca`: **0.312432**\n",
    "\n",
    "**Cause and Effect**: Changes in the dollar value might reflect shifts in inflation rates (IPCA), indicating how external economic factors influence domestic inflation.\n"
   ]
  },
  {
   "cell_type": "code",
   "execution_count": 33,
   "metadata": {},
   "outputs": [
    {
     "data": {
      "application/vnd.plotly.v1+json": {
       "config": {
        "plotlyServerURL": "https://plot.ly"
       },
       "data": [
        {
         "dimensions": [
          {
           "axis": {
            "matches": true
           },
           "label": "selic",
           "values": [
            1,
            0.2631249023590993,
            0.8092822678726117,
            -0.2518939236672301,
            0.386891674653575,
            -0.008116626576160073,
            -0.32754269216141335,
            -0.007106023010826237,
            -0.1363427720937267,
            0.7635990835010508,
            -0.11780458403457428
           ]
          },
          {
           "axis": {
            "matches": true
           },
           "label": "confidence",
           "values": [
            0.2631249023590993,
            1,
            0.09073830774223882,
            -0.4608937504456638,
            -0.33770309088011524,
            -0.41759833108292455,
            -0.021936399960984142,
            -0.06648671935340587,
            0.20788306649582314,
            0.5086714589512581,
            -0.9633053050544672
           ]
          },
          {
           "axis": {
            "matches": true
           },
           "label": "pib",
           "values": [
            0.8092822678726117,
            0.09073830774223882,
            1,
            0.028719763955798186,
            0.48757685085130686,
            0.4033852717581319,
            -0.07040282819257775,
            0.16540838798230867,
            -0.22171214990243124,
            0.4957981846032977,
            0.060367014214968186
           ]
          },
          {
           "axis": {
            "matches": true
           },
           "label": "incc",
           "values": [
            -0.2518939236672301,
            -0.4608937504456638,
            0.028719763955798186,
            1,
            0.3486321251378386,
            0.29770322373802016,
            0.2726982000820202,
            0.079823660791535,
            -0.132260287236642,
            -0.5047056471303547,
            0.4990136257929199
           ]
          },
          {
           "axis": {
            "matches": true
           },
           "label": "ipca",
           "values": [
            0.386891674653575,
            -0.33770309088011524,
            0.48757685085130686,
            0.3486321251378386,
            1,
            0.31243199538586947,
            0.059034293110928525,
            0.026365705270625827,
            -0.10905732994925775,
            -0.299977490512241,
            0.5779509914227441
           ]
          },
          {
           "axis": {
            "matches": true
           },
           "label": "dolar",
           "values": [
            -0.008116626576160073,
            -0.41759833108292455,
            0.4033852717581319,
            0.29770322373802016,
            0.31243199538586947,
            1,
            0.08058864644402387,
            0.018952339639593148,
            0.029028159737041842,
            -0.2271679119205911,
            0.4511534028449466
           ]
          },
          {
           "axis": {
            "matches": true
           },
           "label": "monthly_inflation",
           "values": [
            -0.32754269216141335,
            -0.021936399960984142,
            -0.07040282819257775,
            0.2726982000820202,
            0.059034293110928525,
            0.08058864644402387,
            1,
            0.18428246886041671,
            -0.007445235833140093,
            -0.3801826864025481,
            0.03585323162207815
           ]
          },
          {
           "axis": {
            "matches": true
           },
           "label": "gdp_growth",
           "values": [
            -0.007106023010826237,
            -0.06648671935340587,
            0.16540838798230867,
            0.079823660791535,
            0.026365705270625827,
            0.018952339639593148,
            0.18428246886041671,
            1,
            -0.1639881145993612,
            -0.02581304015749981,
            0.06516282377526558
           ]
          },
          {
           "axis": {
            "matches": true
           },
           "label": "dollar_growth",
           "values": [
            -0.1363427720937267,
            0.20788306649582314,
            -0.22171214990243124,
            -0.132260287236642,
            -0.10905732994925775,
            0.029028159737041842,
            -0.007445235833140093,
            -0.1639881145993612,
            1,
            -0.06468360454893414,
            -0.21133465014355118
           ]
          },
          {
           "axis": {
            "matches": true
           },
           "label": "real_interest_rate",
           "values": [
            0.7635990835010508,
            0.5086714589512581,
            0.4957981846032977,
            -0.5047056471303547,
            -0.299977490512241,
            -0.2271679119205911,
            -0.3801826864025481,
            -0.02581304015749981,
            -0.06468360454893414,
            1,
            -0.5265627940870068
           ]
          },
          {
           "axis": {
            "matches": true
           },
           "label": "inflation_confidence_difference",
           "values": [
            -0.11780458403457428,
            -0.9633053050544672,
            0.060367014214968186,
            0.4990136257929199,
            0.5779509914227441,
            0.4511534028449466,
            0.03585323162207815,
            0.06516282377526558,
            -0.21133465014355118,
            -0.5265627940870068,
            1
           ]
          }
         ],
         "hovertemplate": "%{xaxis.title.text}=%{x}<br>%{yaxis.title.text}=%{y}<extra></extra>",
         "legendgroup": "",
         "marker": {
          "color": "rgb(100, 195, 181)",
          "symbol": "circle"
         },
         "name": "",
         "showlegend": false,
         "type": "splom"
        }
       ],
       "layout": {
        "dragmode": "select",
        "grid": {
         "xgap": 0.1,
         "ygap": 0.5
        },
        "height": 3000,
        "legend": {
         "tracegroupgap": 0
        },
        "template": {
         "data": {
          "bar": [
           {
            "error_x": {
             "color": "#f2f5fa"
            },
            "error_y": {
             "color": "#f2f5fa"
            },
            "marker": {
             "line": {
              "color": "rgb(17,17,17)",
              "width": 0.5
             },
             "pattern": {
              "fillmode": "overlay",
              "size": 10,
              "solidity": 0.2
             }
            },
            "type": "bar"
           }
          ],
          "barpolar": [
           {
            "marker": {
             "line": {
              "color": "rgb(17,17,17)",
              "width": 0.5
             },
             "pattern": {
              "fillmode": "overlay",
              "size": 10,
              "solidity": 0.2
             }
            },
            "type": "barpolar"
           }
          ],
          "carpet": [
           {
            "aaxis": {
             "endlinecolor": "#A2B1C6",
             "gridcolor": "#506784",
             "linecolor": "#506784",
             "minorgridcolor": "#506784",
             "startlinecolor": "#A2B1C6"
            },
            "baxis": {
             "endlinecolor": "#A2B1C6",
             "gridcolor": "#506784",
             "linecolor": "#506784",
             "minorgridcolor": "#506784",
             "startlinecolor": "#A2B1C6"
            },
            "type": "carpet"
           }
          ],
          "choropleth": [
           {
            "colorbar": {
             "outlinewidth": 0,
             "ticks": ""
            },
            "type": "choropleth"
           }
          ],
          "contour": [
           {
            "colorbar": {
             "outlinewidth": 0,
             "ticks": ""
            },
            "colorscale": [
             [
              0,
              "#0d0887"
             ],
             [
              0.1111111111111111,
              "#46039f"
             ],
             [
              0.2222222222222222,
              "#7201a8"
             ],
             [
              0.3333333333333333,
              "#9c179e"
             ],
             [
              0.4444444444444444,
              "#bd3786"
             ],
             [
              0.5555555555555556,
              "#d8576b"
             ],
             [
              0.6666666666666666,
              "#ed7953"
             ],
             [
              0.7777777777777778,
              "#fb9f3a"
             ],
             [
              0.8888888888888888,
              "#fdca26"
             ],
             [
              1,
              "#f0f921"
             ]
            ],
            "type": "contour"
           }
          ],
          "contourcarpet": [
           {
            "colorbar": {
             "outlinewidth": 0,
             "ticks": ""
            },
            "type": "contourcarpet"
           }
          ],
          "heatmap": [
           {
            "colorbar": {
             "outlinewidth": 0,
             "ticks": ""
            },
            "colorscale": [
             [
              0,
              "#0d0887"
             ],
             [
              0.1111111111111111,
              "#46039f"
             ],
             [
              0.2222222222222222,
              "#7201a8"
             ],
             [
              0.3333333333333333,
              "#9c179e"
             ],
             [
              0.4444444444444444,
              "#bd3786"
             ],
             [
              0.5555555555555556,
              "#d8576b"
             ],
             [
              0.6666666666666666,
              "#ed7953"
             ],
             [
              0.7777777777777778,
              "#fb9f3a"
             ],
             [
              0.8888888888888888,
              "#fdca26"
             ],
             [
              1,
              "#f0f921"
             ]
            ],
            "type": "heatmap"
           }
          ],
          "heatmapgl": [
           {
            "colorbar": {
             "outlinewidth": 0,
             "ticks": ""
            },
            "colorscale": [
             [
              0,
              "#0d0887"
             ],
             [
              0.1111111111111111,
              "#46039f"
             ],
             [
              0.2222222222222222,
              "#7201a8"
             ],
             [
              0.3333333333333333,
              "#9c179e"
             ],
             [
              0.4444444444444444,
              "#bd3786"
             ],
             [
              0.5555555555555556,
              "#d8576b"
             ],
             [
              0.6666666666666666,
              "#ed7953"
             ],
             [
              0.7777777777777778,
              "#fb9f3a"
             ],
             [
              0.8888888888888888,
              "#fdca26"
             ],
             [
              1,
              "#f0f921"
             ]
            ],
            "type": "heatmapgl"
           }
          ],
          "histogram": [
           {
            "marker": {
             "pattern": {
              "fillmode": "overlay",
              "size": 10,
              "solidity": 0.2
             }
            },
            "type": "histogram"
           }
          ],
          "histogram2d": [
           {
            "colorbar": {
             "outlinewidth": 0,
             "ticks": ""
            },
            "colorscale": [
             [
              0,
              "#0d0887"
             ],
             [
              0.1111111111111111,
              "#46039f"
             ],
             [
              0.2222222222222222,
              "#7201a8"
             ],
             [
              0.3333333333333333,
              "#9c179e"
             ],
             [
              0.4444444444444444,
              "#bd3786"
             ],
             [
              0.5555555555555556,
              "#d8576b"
             ],
             [
              0.6666666666666666,
              "#ed7953"
             ],
             [
              0.7777777777777778,
              "#fb9f3a"
             ],
             [
              0.8888888888888888,
              "#fdca26"
             ],
             [
              1,
              "#f0f921"
             ]
            ],
            "type": "histogram2d"
           }
          ],
          "histogram2dcontour": [
           {
            "colorbar": {
             "outlinewidth": 0,
             "ticks": ""
            },
            "colorscale": [
             [
              0,
              "#0d0887"
             ],
             [
              0.1111111111111111,
              "#46039f"
             ],
             [
              0.2222222222222222,
              "#7201a8"
             ],
             [
              0.3333333333333333,
              "#9c179e"
             ],
             [
              0.4444444444444444,
              "#bd3786"
             ],
             [
              0.5555555555555556,
              "#d8576b"
             ],
             [
              0.6666666666666666,
              "#ed7953"
             ],
             [
              0.7777777777777778,
              "#fb9f3a"
             ],
             [
              0.8888888888888888,
              "#fdca26"
             ],
             [
              1,
              "#f0f921"
             ]
            ],
            "type": "histogram2dcontour"
           }
          ],
          "mesh3d": [
           {
            "colorbar": {
             "outlinewidth": 0,
             "ticks": ""
            },
            "type": "mesh3d"
           }
          ],
          "parcoords": [
           {
            "line": {
             "colorbar": {
              "outlinewidth": 0,
              "ticks": ""
             }
            },
            "type": "parcoords"
           }
          ],
          "pie": [
           {
            "automargin": true,
            "type": "pie"
           }
          ],
          "scatter": [
           {
            "marker": {
             "line": {
              "color": "#283442"
             }
            },
            "type": "scatter"
           }
          ],
          "scatter3d": [
           {
            "line": {
             "colorbar": {
              "outlinewidth": 0,
              "ticks": ""
             }
            },
            "marker": {
             "colorbar": {
              "outlinewidth": 0,
              "ticks": ""
             }
            },
            "type": "scatter3d"
           }
          ],
          "scattercarpet": [
           {
            "marker": {
             "colorbar": {
              "outlinewidth": 0,
              "ticks": ""
             }
            },
            "type": "scattercarpet"
           }
          ],
          "scattergeo": [
           {
            "marker": {
             "colorbar": {
              "outlinewidth": 0,
              "ticks": ""
             }
            },
            "type": "scattergeo"
           }
          ],
          "scattergl": [
           {
            "marker": {
             "line": {
              "color": "#283442"
             }
            },
            "type": "scattergl"
           }
          ],
          "scattermapbox": [
           {
            "marker": {
             "colorbar": {
              "outlinewidth": 0,
              "ticks": ""
             }
            },
            "type": "scattermapbox"
           }
          ],
          "scatterpolar": [
           {
            "marker": {
             "colorbar": {
              "outlinewidth": 0,
              "ticks": ""
             }
            },
            "type": "scatterpolar"
           }
          ],
          "scatterpolargl": [
           {
            "marker": {
             "colorbar": {
              "outlinewidth": 0,
              "ticks": ""
             }
            },
            "type": "scatterpolargl"
           }
          ],
          "scatterternary": [
           {
            "marker": {
             "colorbar": {
              "outlinewidth": 0,
              "ticks": ""
             }
            },
            "type": "scatterternary"
           }
          ],
          "surface": [
           {
            "colorbar": {
             "outlinewidth": 0,
             "ticks": ""
            },
            "colorscale": [
             [
              0,
              "#0d0887"
             ],
             [
              0.1111111111111111,
              "#46039f"
             ],
             [
              0.2222222222222222,
              "#7201a8"
             ],
             [
              0.3333333333333333,
              "#9c179e"
             ],
             [
              0.4444444444444444,
              "#bd3786"
             ],
             [
              0.5555555555555556,
              "#d8576b"
             ],
             [
              0.6666666666666666,
              "#ed7953"
             ],
             [
              0.7777777777777778,
              "#fb9f3a"
             ],
             [
              0.8888888888888888,
              "#fdca26"
             ],
             [
              1,
              "#f0f921"
             ]
            ],
            "type": "surface"
           }
          ],
          "table": [
           {
            "cells": {
             "fill": {
              "color": "#506784"
             },
             "line": {
              "color": "rgb(17,17,17)"
             }
            },
            "header": {
             "fill": {
              "color": "#2a3f5f"
             },
             "line": {
              "color": "rgb(17,17,17)"
             }
            },
            "type": "table"
           }
          ]
         },
         "layout": {
          "annotationdefaults": {
           "arrowcolor": "#f2f5fa",
           "arrowhead": 0,
           "arrowwidth": 1
          },
          "autotypenumbers": "strict",
          "coloraxis": {
           "colorbar": {
            "outlinewidth": 0,
            "ticks": ""
           }
          },
          "colorscale": {
           "diverging": [
            [
             0,
             "#8e0152"
            ],
            [
             0.1,
             "#c51b7d"
            ],
            [
             0.2,
             "#de77ae"
            ],
            [
             0.3,
             "#f1b6da"
            ],
            [
             0.4,
             "#fde0ef"
            ],
            [
             0.5,
             "#f7f7f7"
            ],
            [
             0.6,
             "#e6f5d0"
            ],
            [
             0.7,
             "#b8e186"
            ],
            [
             0.8,
             "#7fbc41"
            ],
            [
             0.9,
             "#4d9221"
            ],
            [
             1,
             "#276419"
            ]
           ],
           "sequential": [
            [
             0,
             "#0d0887"
            ],
            [
             0.1111111111111111,
             "#46039f"
            ],
            [
             0.2222222222222222,
             "#7201a8"
            ],
            [
             0.3333333333333333,
             "#9c179e"
            ],
            [
             0.4444444444444444,
             "#bd3786"
            ],
            [
             0.5555555555555556,
             "#d8576b"
            ],
            [
             0.6666666666666666,
             "#ed7953"
            ],
            [
             0.7777777777777778,
             "#fb9f3a"
            ],
            [
             0.8888888888888888,
             "#fdca26"
            ],
            [
             1,
             "#f0f921"
            ]
           ],
           "sequentialminus": [
            [
             0,
             "#0d0887"
            ],
            [
             0.1111111111111111,
             "#46039f"
            ],
            [
             0.2222222222222222,
             "#7201a8"
            ],
            [
             0.3333333333333333,
             "#9c179e"
            ],
            [
             0.4444444444444444,
             "#bd3786"
            ],
            [
             0.5555555555555556,
             "#d8576b"
            ],
            [
             0.6666666666666666,
             "#ed7953"
            ],
            [
             0.7777777777777778,
             "#fb9f3a"
            ],
            [
             0.8888888888888888,
             "#fdca26"
            ],
            [
             1,
             "#f0f921"
            ]
           ]
          },
          "colorway": [
           "#636efa",
           "#EF553B",
           "#00cc96",
           "#ab63fa",
           "#FFA15A",
           "#19d3f3",
           "#FF6692",
           "#B6E880",
           "#FF97FF",
           "#FECB52"
          ],
          "font": {
           "color": "#f2f5fa"
          },
          "geo": {
           "bgcolor": "rgb(17,17,17)",
           "lakecolor": "rgb(17,17,17)",
           "landcolor": "rgb(17,17,17)",
           "showlakes": true,
           "showland": true,
           "subunitcolor": "#506784"
          },
          "hoverlabel": {
           "align": "left"
          },
          "hovermode": "closest",
          "mapbox": {
           "style": "dark"
          },
          "paper_bgcolor": "rgb(17,17,17)",
          "plot_bgcolor": "rgb(17,17,17)",
          "polar": {
           "angularaxis": {
            "gridcolor": "#506784",
            "linecolor": "#506784",
            "ticks": ""
           },
           "bgcolor": "rgb(17,17,17)",
           "radialaxis": {
            "gridcolor": "#506784",
            "linecolor": "#506784",
            "ticks": ""
           }
          },
          "scene": {
           "xaxis": {
            "backgroundcolor": "rgb(17,17,17)",
            "gridcolor": "#506784",
            "gridwidth": 2,
            "linecolor": "#506784",
            "showbackground": true,
            "ticks": "",
            "zerolinecolor": "#C8D4E3"
           },
           "yaxis": {
            "backgroundcolor": "rgb(17,17,17)",
            "gridcolor": "#506784",
            "gridwidth": 2,
            "linecolor": "#506784",
            "showbackground": true,
            "ticks": "",
            "zerolinecolor": "#C8D4E3"
           },
           "zaxis": {
            "backgroundcolor": "rgb(17,17,17)",
            "gridcolor": "#506784",
            "gridwidth": 2,
            "linecolor": "#506784",
            "showbackground": true,
            "ticks": "",
            "zerolinecolor": "#C8D4E3"
           }
          },
          "shapedefaults": {
           "line": {
            "color": "#f2f5fa"
           }
          },
          "sliderdefaults": {
           "bgcolor": "#C8D4E3",
           "bordercolor": "rgb(17,17,17)",
           "borderwidth": 1,
           "tickwidth": 0
          },
          "ternary": {
           "aaxis": {
            "gridcolor": "#506784",
            "linecolor": "#506784",
            "ticks": ""
           },
           "baxis": {
            "gridcolor": "#506784",
            "linecolor": "#506784",
            "ticks": ""
           },
           "bgcolor": "rgb(17,17,17)",
           "caxis": {
            "gridcolor": "#506784",
            "linecolor": "#506784",
            "ticks": ""
           }
          },
          "title": {
           "x": 0.05
          },
          "updatemenudefaults": {
           "bgcolor": "#506784",
           "borderwidth": 0
          },
          "xaxis": {
           "automargin": true,
           "gridcolor": "#283442",
           "linecolor": "#506784",
           "ticks": "",
           "title": {
            "standoff": 15
           },
           "zerolinecolor": "#283442",
           "zerolinewidth": 2
          },
          "yaxis": {
           "automargin": true,
           "gridcolor": "#283442",
           "linecolor": "#506784",
           "ticks": "",
           "title": {
            "standoff": 15
           },
           "zerolinecolor": "#283442",
           "zerolinewidth": 2
          }
         }
        },
        "title": {
         "text": "Gráficos de Dispersão para Todas as Colunas"
        },
        "width": 4000
       }
      }
     },
     "metadata": {},
     "output_type": "display_data"
    }
   ],
   "source": [
    "fig = px.scatter_matrix(df_macroeconomic_numeric_cols_corr, dimensions=df_macroeconomic_numeric_cols_corr.columns, title='Gráficos de Dispersão para Todas as Colunas', template=\"plotly_dark\",)\n",
    "fig.update_traces(marker=dict(color='rgb(100, 195, 181)'))\n",
    "\n",
    "fig.update_layout(width=4000, height=3000, grid=dict(xgap=0.1, ygap=0.5))\n",
    "\n",
    "fig.show()"
   ]
  },
  {
   "cell_type": "markdown",
   "metadata": {},
   "source": [
    "**selic (Interest Rate)**\n",
    "\n",
    "- **Strong Positive Correlation**: `selic` exhibits a **strong positive correlation** of approximately **0.80** with `pib` (GDP). This indicates that changes in the interest rate (`selic`) tend to positively influence GDP (`pib`), suggesting a significant economic relationship.\n",
    "\n",
    "- **Moderate Positive Correlation**: There is a **moderate positive correlation** of about **0.26** between `selic` and `confidence`. This suggests that as the interest rate (`selic`) increases, confidence tends to improve, although the correlation is not very strong.\n",
    "\n",
    "**confidence (Confidence Index)**\n",
    "\n",
    "- **Negative Correlation**: `confidence` shows a **negative correlation** of approximately **-0.46** with `incc`. This means that as confidence decreases, the construction cost index (`incc`) tends to increase, indicating a potential inverse relationship between confidence and construction costs.\n",
    "\n",
    "- **Strong Negative Correlation**: There is a **strong negative correlation** of around **-0.96** between `confidence` and `inflation_confidence_difference`. This indicates that as confidence drops, the inflation confidence difference tends to increase significantly.\n",
    "\n",
    "**pib (GDP)**\n",
    "\n",
    "- **Strong Positive Correlation**: `pib` has a **strong positive correlation** of approximately **0.81** with `selic` (Interest Rate). This implies that changes in GDP (`pib`) are positively influenced by fluctuations in the interest rate (`selic`).\n",
    "\n",
    "- **Positive Correlation**: There is also a **positive correlation** of about **0.49** between `pib` and `inflation_confidence_difference`. This suggests that as GDP increases, the inflation confidence difference tends to rise as well.\n",
    "\n",
    "**incc (Construction Cost Index)**\n",
    "\n",
    "- **Strong Positive Correlation**: `incc` exhibits a **strong positive correlation** of approximately **0.50** with `inflation_confidence_difference`. This indicates that as the construction cost index (`incc`) increases, the inflation confidence difference tends to increase as well.\n",
    "\n",
    "- **Negative Correlation**: There is a **negative correlation** of about **-0.50** between `incc` and `confidence`. As the construction cost index (`incc`) rises, confidence tends to decrease.\n",
    "\n",
    "**ipca (Consumer Price Index)**\n",
    "\n",
    "- **Positive Correlation**: `ipca` shows a **positive correlation** of approximately **0.58** with `inflation_confidence_difference`. This suggests that as the Consumer Price Index (`ipca`) increases, the inflation confidence difference tends to rise as well.\n",
    "\n",
    "- **Moderate Positive Correlation**: There is a **moderate positive correlation** of about **0.31** between `ipca` and `pib`. This implies that as the Consumer Price Index (`ipca`) increases, GDP (`pib`) tends to show moderate growth.\n",
    "\n",
    "**dolar (Exchange Rate)**\n",
    "- **Positive Correlation**: `dolar` exhibits a **positive correlation** of approximately **0.45** with `inflation_confidence_difference`. This suggests that as the exchange rate (`dolar`) increases, the inflation confidence difference tends to rise as well.\n",
    "\n",
    "- **Weak Positive Correlation**: There is a **weak positive correlation** of about **0.03** between `dolar` and `gdp_growth`. This indicates a minimal relationship between the exchange rate (`dolar`) and GDP growth (`gdp_growth`).\n",
    "\n",
    "**monthly_inflation (Monthly Inflation Rate)**\n",
    "\n",
    "- **Negative Correlation**: `monthly_inflation` shows a **negative correlation** of approximately **-0.38** with `inflation_confidence_difference`. As the monthly inflation rate (`monthly_inflation`) decreases, the inflation confidence difference tends to increase.\n",
    "\n",
    "- **Moderate Positive Correlation**: There is a **moderate positive correlation** of about **0.18** between `monthly_inflation` and `gdp_growth`. This suggests that as the monthly inflation rate (`monthly_inflation`) rises, GDP growth (`gdp_growth`) tends to show moderate growth.\n",
    "\n",
    "**gdp_growth (GDP Growth Rate)**\n",
    "\n",
    "- **Positive Correlation**: `gdp_growth` exhibits a **positive correlation** of approximately **0.18** with `monthly_inflation`. As GDP growth (`gdp_growth`) increases, the monthly inflation rate (`monthly_inflation`) tends to rise as well.\n",
    "\n",
    "- **Weak Positive Correlation**: There is a **weak positive correlation** of about **0.07** between `gdp_growth` and `dollar_growth`. This implies a minimal relationship between GDP growth (`gdp_growth`) and dollar growth (`dollar_growth`).\n",
    "\n",
    "**dollar_growth (Dollar Growth Rate)**\n",
    "\n",
    "- **Negative Correlation**: `dollar_growth` shows a **negative correlation** of approximately **-0.21** with `inflation_confidence_difference`. This suggests that as dollar growth (`dollar_growth`) decreases, the inflation confidence difference tends to increase.\n",
    "\n",
    "- **Weak Positive Correlation**: There is a **weak positive correlation** of about **0.03** between `dollar_growth` and `gdp_growth`. This indicates a minimal relationship between dollar growth (`dollar_growth`) and GDP growth (`gdp_growth`).\n",
    "\n",
    "**real_interest_rate (Real Interest Rate)**\n",
    "\n",
    "- **Strong Positive Correlation**: `real_interest_rate` has a **strong positive correlation** of approximately **0.76** with `selic` (Interest Rate). This indicates that changes in the real interest rate (`real_interest_rate`) tend to positively influence the interest rate (`selic`).\n",
    "\n",
    "- **Negative Correlation**: There is a **negative correlation** of about **-0.53** between `real_interest_rate` and `inflation_confidence_difference`. As the real interest rate (`real_interest_rate`) increases, the inflation confidence difference tends to decrease.\n",
    "\n",
    "**inflation_confidence_difference (Inflation Confidence Difference)**\n",
    "\n",
    "- **Strong Negative Correlation**: `inflation_confidence_difference` exhibits a **strong negative correlation** of approximately **-0.96** with `confidence`. This suggests that as the inflation confidence difference decreases, confidence tends to increase significantly.\n",
    "\n",
    "- **Moderate Positive Correlation**: There is a **moderate positive correlation** of about **0.58** between `inflation_confidence_difference` and `ipca` (Consumer Price Index). This indicates that as the inflation confidence difference increases, the Consumer Price Index (`ipca`) tends to rise as well.\n",
    "\n",
    "These summaries provide insights into the relationships between various economic indicators, highlighting the strengths and directions of their correlations.\n"
   ]
  }
 ],
 "metadata": {
  "kernelspec": {
   "display_name": "Python 3",
   "language": "python",
   "name": "python3"
  },
  "language_info": {
   "codemirror_mode": {
    "name": "ipython",
    "version": 3
   },
   "file_extension": ".py",
   "mimetype": "text/x-python",
   "name": "python",
   "nbconvert_exporter": "python",
   "pygments_lexer": "ipython3",
   "version": "3.11.5"
  }
 },
 "nbformat": 4,
 "nbformat_minor": 2
}
