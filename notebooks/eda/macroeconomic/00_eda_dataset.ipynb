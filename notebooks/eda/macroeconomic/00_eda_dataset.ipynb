{
 "cells": [
  {
   "cell_type": "markdown",
   "metadata": {},
   "source": [
    "# **Exploratory Data Analisys: Companies**"
   ]
  },
  {
   "cell_type": "markdown",
   "metadata": {},
   "source": []
  },
  {
   "cell_type": "markdown",
   "metadata": {},
   "source": [
    "## **Initial Setup**"
   ]
  },
  {
   "cell_type": "markdown",
   "metadata": {},
   "source": [
    "### Install Packages"
   ]
  },
  {
   "cell_type": "code",
   "execution_count": 1,
   "metadata": {},
   "outputs": [
    {
     "name": "stdout",
     "output_type": "stream",
     "text": [
      "Note: you may need to restart the kernel to use updated packages.\n",
      "Note: you may need to restart the kernel to use updated packages.\n"
     ]
    }
   ],
   "source": [
    "%pip install pandas -q\n",
    "%pip install plotly -q"
   ]
  },
  {
   "cell_type": "markdown",
   "metadata": {},
   "source": [
    "### Import libs"
   ]
  },
  {
   "cell_type": "code",
   "execution_count": 38,
   "metadata": {},
   "outputs": [],
   "source": [
    "import os\n",
    "import itertools\n",
    "import pandas as pd\n",
    "from pathlib import Path\n",
    "import plotly.express as px\n",
    "import plotly.graph_objects as go\n",
    "import plotly.subplots as sp\n",
    "import warnings\n",
    "warnings.filterwarnings('ignore')"
   ]
  },
  {
   "cell_type": "markdown",
   "metadata": {},
   "source": [
    "### Pandas Config"
   ]
  },
  {
   "cell_type": "code",
   "execution_count": 3,
   "metadata": {},
   "outputs": [],
   "source": [
    "pd.set_option('display.max_columns', None)\n",
    "pd.set_option('display.max_rows', None)"
   ]
  },
  {
   "cell_type": "markdown",
   "metadata": {},
   "source": [
    "### Create a file path default"
   ]
  },
  {
   "cell_type": "code",
   "execution_count": 4,
   "metadata": {},
   "outputs": [],
   "source": [
    "file_path_book = str(Path(os.getcwd()).parent.parent.parent / \"data/book\")"
   ]
  },
  {
   "cell_type": "markdown",
   "metadata": {},
   "source": [
    "## Macroeconomic"
   ]
  },
  {
   "cell_type": "markdown",
   "metadata": {},
   "source": [
    "### Load data"
   ]
  },
  {
   "cell_type": "code",
   "execution_count": 5,
   "metadata": {},
   "outputs": [
    {
     "data": {
      "text/html": [
       "<div>\n",
       "<style scoped>\n",
       "    .dataframe tbody tr th:only-of-type {\n",
       "        vertical-align: middle;\n",
       "    }\n",
       "\n",
       "    .dataframe tbody tr th {\n",
       "        vertical-align: top;\n",
       "    }\n",
       "\n",
       "    .dataframe thead th {\n",
       "        text-align: right;\n",
       "    }\n",
       "</style>\n",
       "<table border=\"1\" class=\"dataframe\">\n",
       "  <thead>\n",
       "    <tr style=\"text-align: right;\">\n",
       "      <th></th>\n",
       "      <th>date</th>\n",
       "      <th>selic</th>\n",
       "      <th>confidence</th>\n",
       "      <th>pib</th>\n",
       "      <th>incc</th>\n",
       "      <th>ipca</th>\n",
       "      <th>dolar</th>\n",
       "      <th>monthly_inflation</th>\n",
       "      <th>gdp_growth</th>\n",
       "      <th>dollar_growth</th>\n",
       "      <th>real_interest_rate</th>\n",
       "      <th>inflation_confidence_difference</th>\n",
       "    </tr>\n",
       "  </thead>\n",
       "  <tbody>\n",
       "    <tr>\n",
       "      <th>0</th>\n",
       "      <td>2019-01-31</td>\n",
       "      <td>6.5</td>\n",
       "      <td>128.64</td>\n",
       "      <td>578214.5</td>\n",
       "      <td>0.49</td>\n",
       "      <td>3.78</td>\n",
       "      <td>3.6513</td>\n",
       "      <td>-0.111948</td>\n",
       "      <td>-0.015756</td>\n",
       "      <td>0.016459</td>\n",
       "      <td>2.72</td>\n",
       "      <td>-124.86</td>\n",
       "    </tr>\n",
       "    <tr>\n",
       "      <th>1</th>\n",
       "      <td>2019-02-28</td>\n",
       "      <td>6.5</td>\n",
       "      <td>139.39</td>\n",
       "      <td>576089.7</td>\n",
       "      <td>0.09</td>\n",
       "      <td>3.89</td>\n",
       "      <td>3.7379</td>\n",
       "      <td>0.029101</td>\n",
       "      <td>-0.003675</td>\n",
       "      <td>0.023718</td>\n",
       "      <td>2.61</td>\n",
       "      <td>-135.50</td>\n",
       "    </tr>\n",
       "    <tr>\n",
       "      <th>2</th>\n",
       "      <td>2019-03-31</td>\n",
       "      <td>6.5</td>\n",
       "      <td>125.53</td>\n",
       "      <td>601749.8</td>\n",
       "      <td>0.31</td>\n",
       "      <td>4.58</td>\n",
       "      <td>3.8961</td>\n",
       "      <td>0.177378</td>\n",
       "      <td>0.044542</td>\n",
       "      <td>0.042323</td>\n",
       "      <td>1.92</td>\n",
       "      <td>-120.95</td>\n",
       "    </tr>\n",
       "    <tr>\n",
       "      <th>3</th>\n",
       "      <td>2019-04-30</td>\n",
       "      <td>6.5</td>\n",
       "      <td>121.71</td>\n",
       "      <td>612918.4</td>\n",
       "      <td>0.38</td>\n",
       "      <td>4.94</td>\n",
       "      <td>3.9447</td>\n",
       "      <td>0.078603</td>\n",
       "      <td>0.018560</td>\n",
       "      <td>0.012474</td>\n",
       "      <td>1.56</td>\n",
       "      <td>-116.77</td>\n",
       "    </tr>\n",
       "    <tr>\n",
       "      <th>4</th>\n",
       "      <td>2019-05-31</td>\n",
       "      <td>6.5</td>\n",
       "      <td>117.01</td>\n",
       "      <td>615304.9</td>\n",
       "      <td>0.03</td>\n",
       "      <td>4.66</td>\n",
       "      <td>3.9401</td>\n",
       "      <td>-0.056680</td>\n",
       "      <td>0.003894</td>\n",
       "      <td>-0.001166</td>\n",
       "      <td>1.84</td>\n",
       "      <td>-112.35</td>\n",
       "    </tr>\n",
       "  </tbody>\n",
       "</table>\n",
       "</div>"
      ],
      "text/plain": [
       "         date  selic  confidence       pib  incc  ipca   dolar  \\\n",
       "0  2019-01-31    6.5      128.64  578214.5  0.49  3.78  3.6513   \n",
       "1  2019-02-28    6.5      139.39  576089.7  0.09  3.89  3.7379   \n",
       "2  2019-03-31    6.5      125.53  601749.8  0.31  4.58  3.8961   \n",
       "3  2019-04-30    6.5      121.71  612918.4  0.38  4.94  3.9447   \n",
       "4  2019-05-31    6.5      117.01  615304.9  0.03  4.66  3.9401   \n",
       "\n",
       "   monthly_inflation  gdp_growth  dollar_growth  real_interest_rate  \\\n",
       "0          -0.111948   -0.015756       0.016459                2.72   \n",
       "1           0.029101   -0.003675       0.023718                2.61   \n",
       "2           0.177378    0.044542       0.042323                1.92   \n",
       "3           0.078603    0.018560       0.012474                1.56   \n",
       "4          -0.056680    0.003894      -0.001166                1.84   \n",
       "\n",
       "   inflation_confidence_difference  \n",
       "0                          -124.86  \n",
       "1                          -135.50  \n",
       "2                          -120.95  \n",
       "3                          -116.77  \n",
       "4                          -112.35  "
      ]
     },
     "execution_count": 5,
     "metadata": {},
     "output_type": "execute_result"
    }
   ],
   "source": [
    "df_macroeconomic_book = pd.read_csv(file_path_book + \"/macroeconomic_book.csv\")\n",
    "df_macroeconomic_book.head(5)"
   ]
  },
  {
   "cell_type": "code",
   "execution_count": 6,
   "metadata": {},
   "outputs": [
    {
     "data": {
      "text/html": [
       "<div>\n",
       "<style scoped>\n",
       "    .dataframe tbody tr th:only-of-type {\n",
       "        vertical-align: middle;\n",
       "    }\n",
       "\n",
       "    .dataframe tbody tr th {\n",
       "        vertical-align: top;\n",
       "    }\n",
       "\n",
       "    .dataframe thead th {\n",
       "        text-align: right;\n",
       "    }\n",
       "</style>\n",
       "<table border=\"1\" class=\"dataframe\">\n",
       "  <thead>\n",
       "    <tr style=\"text-align: right;\">\n",
       "      <th></th>\n",
       "      <th>selic</th>\n",
       "      <th>confidence</th>\n",
       "      <th>pib</th>\n",
       "      <th>incc</th>\n",
       "      <th>ipca</th>\n",
       "      <th>dolar</th>\n",
       "      <th>monthly_inflation</th>\n",
       "      <th>gdp_growth</th>\n",
       "      <th>dollar_growth</th>\n",
       "      <th>real_interest_rate</th>\n",
       "      <th>inflation_confidence_difference</th>\n",
       "    </tr>\n",
       "  </thead>\n",
       "  <tbody>\n",
       "    <tr>\n",
       "      <th>0</th>\n",
       "      <td>6.5</td>\n",
       "      <td>128.64</td>\n",
       "      <td>578214.5</td>\n",
       "      <td>0.49</td>\n",
       "      <td>3.78</td>\n",
       "      <td>3.6513</td>\n",
       "      <td>-0.111948</td>\n",
       "      <td>-0.015756</td>\n",
       "      <td>0.016459</td>\n",
       "      <td>2.72</td>\n",
       "      <td>-124.86</td>\n",
       "    </tr>\n",
       "    <tr>\n",
       "      <th>1</th>\n",
       "      <td>6.5</td>\n",
       "      <td>139.39</td>\n",
       "      <td>576089.7</td>\n",
       "      <td>0.09</td>\n",
       "      <td>3.89</td>\n",
       "      <td>3.7379</td>\n",
       "      <td>0.029101</td>\n",
       "      <td>-0.003675</td>\n",
       "      <td>0.023718</td>\n",
       "      <td>2.61</td>\n",
       "      <td>-135.50</td>\n",
       "    </tr>\n",
       "    <tr>\n",
       "      <th>2</th>\n",
       "      <td>6.5</td>\n",
       "      <td>125.53</td>\n",
       "      <td>601749.8</td>\n",
       "      <td>0.31</td>\n",
       "      <td>4.58</td>\n",
       "      <td>3.8961</td>\n",
       "      <td>0.177378</td>\n",
       "      <td>0.044542</td>\n",
       "      <td>0.042323</td>\n",
       "      <td>1.92</td>\n",
       "      <td>-120.95</td>\n",
       "    </tr>\n",
       "    <tr>\n",
       "      <th>3</th>\n",
       "      <td>6.5</td>\n",
       "      <td>121.71</td>\n",
       "      <td>612918.4</td>\n",
       "      <td>0.38</td>\n",
       "      <td>4.94</td>\n",
       "      <td>3.9447</td>\n",
       "      <td>0.078603</td>\n",
       "      <td>0.018560</td>\n",
       "      <td>0.012474</td>\n",
       "      <td>1.56</td>\n",
       "      <td>-116.77</td>\n",
       "    </tr>\n",
       "    <tr>\n",
       "      <th>4</th>\n",
       "      <td>6.5</td>\n",
       "      <td>117.01</td>\n",
       "      <td>615304.9</td>\n",
       "      <td>0.03</td>\n",
       "      <td>4.66</td>\n",
       "      <td>3.9401</td>\n",
       "      <td>-0.056680</td>\n",
       "      <td>0.003894</td>\n",
       "      <td>-0.001166</td>\n",
       "      <td>1.84</td>\n",
       "      <td>-112.35</td>\n",
       "    </tr>\n",
       "  </tbody>\n",
       "</table>\n",
       "</div>"
      ],
      "text/plain": [
       "   selic  confidence       pib  incc  ipca   dolar  monthly_inflation  \\\n",
       "0    6.5      128.64  578214.5  0.49  3.78  3.6513          -0.111948   \n",
       "1    6.5      139.39  576089.7  0.09  3.89  3.7379           0.029101   \n",
       "2    6.5      125.53  601749.8  0.31  4.58  3.8961           0.177378   \n",
       "3    6.5      121.71  612918.4  0.38  4.94  3.9447           0.078603   \n",
       "4    6.5      117.01  615304.9  0.03  4.66  3.9401          -0.056680   \n",
       "\n",
       "   gdp_growth  dollar_growth  real_interest_rate  \\\n",
       "0   -0.015756       0.016459                2.72   \n",
       "1   -0.003675       0.023718                2.61   \n",
       "2    0.044542       0.042323                1.92   \n",
       "3    0.018560       0.012474                1.56   \n",
       "4    0.003894      -0.001166                1.84   \n",
       "\n",
       "   inflation_confidence_difference  \n",
       "0                          -124.86  \n",
       "1                          -135.50  \n",
       "2                          -120.95  \n",
       "3                          -116.77  \n",
       "4                          -112.35  "
      ]
     },
     "execution_count": 6,
     "metadata": {},
     "output_type": "execute_result"
    }
   ],
   "source": [
    "df_macroeconomic_numeric_cols = df_macroeconomic_book.select_dtypes(include=[\"int\", \"number\", \"float64\"])\n",
    "df_macroeconomic_numeric_cols.head(5)"
   ]
  },
  {
   "cell_type": "markdown",
   "metadata": {},
   "source": [
    "### Macroeconomic Analisys"
   ]
  },
  {
   "cell_type": "markdown",
   "metadata": {},
   "source": [
    "#### Coefficient of variation"
   ]
  },
  {
   "cell_type": "code",
   "execution_count": 37,
   "metadata": {},
   "outputs": [
    {
     "name": "stderr",
     "output_type": "stream",
     "text": [
      "/var/folders/sl/456ghqp95x1d0ly3kxqstmsm0000gn/T/ipykernel_2213/3593683114.py:4: FutureWarning:\n",
      "\n",
      "DataFrame.fillna with 'method' is deprecated and will raise in a future version. Use obj.ffill() or obj.bfill() instead.\n",
      "\n"
     ]
    },
    {
     "data": {
      "application/vnd.plotly.v1+json": {
       "config": {
        "plotlyServerURL": "https://plot.ly"
       },
       "data": [
        {
         "alignmentgroup": "True",
         "hovertemplate": "<b>%{hovertext}</b><br><br>coefficient_variation=%{x}<br>column=%{y}<extra></extra>",
         "hovertext": [
          "monthly_inflation",
          "dollar_growth",
          "gdp_growth",
          "real_interest_rate",
          "incc",
          "selic",
          "ipca",
          "pib",
          "dolar",
          "inflation_confidence_difference",
          "confidence"
         ],
         "legendgroup": "",
         "marker": {
          "color": "rgb(100, 195, 181)",
          "pattern": {
           "shape": ""
          }
         },
         "name": "",
         "offsetgroup": "",
         "orientation": "h",
         "showlegend": false,
         "text": [
          "1261%",
          "683%",
          "471%",
          "261%",
          "90%",
          "59%",
          "51%",
          "15%",
          "12%",
          "10%",
          "8%"
         ],
         "textposition": "outside",
         "type": "bar",
         "x": [
          1261.439253029695,
          682.8069822653689,
          470.79054328048295,
          260.6651743469416,
          90.09128359049431,
          59.242592612432986,
          51.38890516121511,
          14.602877680246685,
          12.173499894934439,
          9.805935267555434,
          8.063060386046418
         ],
         "xaxis": "x",
         "y": [
          "monthly_inflation",
          "dollar_growth",
          "gdp_growth",
          "real_interest_rate",
          "incc",
          "selic",
          "ipca",
          "pib",
          "dolar",
          "inflation_confidence_difference",
          "confidence"
         ],
         "yaxis": "y"
        }
       ],
       "layout": {
        "barmode": "relative",
        "font": {
         "color": "white"
        },
        "height": 800,
        "hovermode": "y",
        "legend": {
         "tracegroupgap": 0
        },
        "template": {
         "data": {
          "bar": [
           {
            "error_x": {
             "color": "#f2f5fa"
            },
            "error_y": {
             "color": "#f2f5fa"
            },
            "marker": {
             "line": {
              "color": "rgb(17,17,17)",
              "width": 0.5
             },
             "pattern": {
              "fillmode": "overlay",
              "size": 10,
              "solidity": 0.2
             }
            },
            "type": "bar"
           }
          ],
          "barpolar": [
           {
            "marker": {
             "line": {
              "color": "rgb(17,17,17)",
              "width": 0.5
             },
             "pattern": {
              "fillmode": "overlay",
              "size": 10,
              "solidity": 0.2
             }
            },
            "type": "barpolar"
           }
          ],
          "carpet": [
           {
            "aaxis": {
             "endlinecolor": "#A2B1C6",
             "gridcolor": "#506784",
             "linecolor": "#506784",
             "minorgridcolor": "#506784",
             "startlinecolor": "#A2B1C6"
            },
            "baxis": {
             "endlinecolor": "#A2B1C6",
             "gridcolor": "#506784",
             "linecolor": "#506784",
             "minorgridcolor": "#506784",
             "startlinecolor": "#A2B1C6"
            },
            "type": "carpet"
           }
          ],
          "choropleth": [
           {
            "colorbar": {
             "outlinewidth": 0,
             "ticks": ""
            },
            "type": "choropleth"
           }
          ],
          "contour": [
           {
            "colorbar": {
             "outlinewidth": 0,
             "ticks": ""
            },
            "colorscale": [
             [
              0,
              "#0d0887"
             ],
             [
              0.1111111111111111,
              "#46039f"
             ],
             [
              0.2222222222222222,
              "#7201a8"
             ],
             [
              0.3333333333333333,
              "#9c179e"
             ],
             [
              0.4444444444444444,
              "#bd3786"
             ],
             [
              0.5555555555555556,
              "#d8576b"
             ],
             [
              0.6666666666666666,
              "#ed7953"
             ],
             [
              0.7777777777777778,
              "#fb9f3a"
             ],
             [
              0.8888888888888888,
              "#fdca26"
             ],
             [
              1,
              "#f0f921"
             ]
            ],
            "type": "contour"
           }
          ],
          "contourcarpet": [
           {
            "colorbar": {
             "outlinewidth": 0,
             "ticks": ""
            },
            "type": "contourcarpet"
           }
          ],
          "heatmap": [
           {
            "colorbar": {
             "outlinewidth": 0,
             "ticks": ""
            },
            "colorscale": [
             [
              0,
              "#0d0887"
             ],
             [
              0.1111111111111111,
              "#46039f"
             ],
             [
              0.2222222222222222,
              "#7201a8"
             ],
             [
              0.3333333333333333,
              "#9c179e"
             ],
             [
              0.4444444444444444,
              "#bd3786"
             ],
             [
              0.5555555555555556,
              "#d8576b"
             ],
             [
              0.6666666666666666,
              "#ed7953"
             ],
             [
              0.7777777777777778,
              "#fb9f3a"
             ],
             [
              0.8888888888888888,
              "#fdca26"
             ],
             [
              1,
              "#f0f921"
             ]
            ],
            "type": "heatmap"
           }
          ],
          "heatmapgl": [
           {
            "colorbar": {
             "outlinewidth": 0,
             "ticks": ""
            },
            "colorscale": [
             [
              0,
              "#0d0887"
             ],
             [
              0.1111111111111111,
              "#46039f"
             ],
             [
              0.2222222222222222,
              "#7201a8"
             ],
             [
              0.3333333333333333,
              "#9c179e"
             ],
             [
              0.4444444444444444,
              "#bd3786"
             ],
             [
              0.5555555555555556,
              "#d8576b"
             ],
             [
              0.6666666666666666,
              "#ed7953"
             ],
             [
              0.7777777777777778,
              "#fb9f3a"
             ],
             [
              0.8888888888888888,
              "#fdca26"
             ],
             [
              1,
              "#f0f921"
             ]
            ],
            "type": "heatmapgl"
           }
          ],
          "histogram": [
           {
            "marker": {
             "pattern": {
              "fillmode": "overlay",
              "size": 10,
              "solidity": 0.2
             }
            },
            "type": "histogram"
           }
          ],
          "histogram2d": [
           {
            "colorbar": {
             "outlinewidth": 0,
             "ticks": ""
            },
            "colorscale": [
             [
              0,
              "#0d0887"
             ],
             [
              0.1111111111111111,
              "#46039f"
             ],
             [
              0.2222222222222222,
              "#7201a8"
             ],
             [
              0.3333333333333333,
              "#9c179e"
             ],
             [
              0.4444444444444444,
              "#bd3786"
             ],
             [
              0.5555555555555556,
              "#d8576b"
             ],
             [
              0.6666666666666666,
              "#ed7953"
             ],
             [
              0.7777777777777778,
              "#fb9f3a"
             ],
             [
              0.8888888888888888,
              "#fdca26"
             ],
             [
              1,
              "#f0f921"
             ]
            ],
            "type": "histogram2d"
           }
          ],
          "histogram2dcontour": [
           {
            "colorbar": {
             "outlinewidth": 0,
             "ticks": ""
            },
            "colorscale": [
             [
              0,
              "#0d0887"
             ],
             [
              0.1111111111111111,
              "#46039f"
             ],
             [
              0.2222222222222222,
              "#7201a8"
             ],
             [
              0.3333333333333333,
              "#9c179e"
             ],
             [
              0.4444444444444444,
              "#bd3786"
             ],
             [
              0.5555555555555556,
              "#d8576b"
             ],
             [
              0.6666666666666666,
              "#ed7953"
             ],
             [
              0.7777777777777778,
              "#fb9f3a"
             ],
             [
              0.8888888888888888,
              "#fdca26"
             ],
             [
              1,
              "#f0f921"
             ]
            ],
            "type": "histogram2dcontour"
           }
          ],
          "mesh3d": [
           {
            "colorbar": {
             "outlinewidth": 0,
             "ticks": ""
            },
            "type": "mesh3d"
           }
          ],
          "parcoords": [
           {
            "line": {
             "colorbar": {
              "outlinewidth": 0,
              "ticks": ""
             }
            },
            "type": "parcoords"
           }
          ],
          "pie": [
           {
            "automargin": true,
            "type": "pie"
           }
          ],
          "scatter": [
           {
            "marker": {
             "line": {
              "color": "#283442"
             }
            },
            "type": "scatter"
           }
          ],
          "scatter3d": [
           {
            "line": {
             "colorbar": {
              "outlinewidth": 0,
              "ticks": ""
             }
            },
            "marker": {
             "colorbar": {
              "outlinewidth": 0,
              "ticks": ""
             }
            },
            "type": "scatter3d"
           }
          ],
          "scattercarpet": [
           {
            "marker": {
             "colorbar": {
              "outlinewidth": 0,
              "ticks": ""
             }
            },
            "type": "scattercarpet"
           }
          ],
          "scattergeo": [
           {
            "marker": {
             "colorbar": {
              "outlinewidth": 0,
              "ticks": ""
             }
            },
            "type": "scattergeo"
           }
          ],
          "scattergl": [
           {
            "marker": {
             "line": {
              "color": "#283442"
             }
            },
            "type": "scattergl"
           }
          ],
          "scattermapbox": [
           {
            "marker": {
             "colorbar": {
              "outlinewidth": 0,
              "ticks": ""
             }
            },
            "type": "scattermapbox"
           }
          ],
          "scatterpolar": [
           {
            "marker": {
             "colorbar": {
              "outlinewidth": 0,
              "ticks": ""
             }
            },
            "type": "scatterpolar"
           }
          ],
          "scatterpolargl": [
           {
            "marker": {
             "colorbar": {
              "outlinewidth": 0,
              "ticks": ""
             }
            },
            "type": "scatterpolargl"
           }
          ],
          "scatterternary": [
           {
            "marker": {
             "colorbar": {
              "outlinewidth": 0,
              "ticks": ""
             }
            },
            "type": "scatterternary"
           }
          ],
          "surface": [
           {
            "colorbar": {
             "outlinewidth": 0,
             "ticks": ""
            },
            "colorscale": [
             [
              0,
              "#0d0887"
             ],
             [
              0.1111111111111111,
              "#46039f"
             ],
             [
              0.2222222222222222,
              "#7201a8"
             ],
             [
              0.3333333333333333,
              "#9c179e"
             ],
             [
              0.4444444444444444,
              "#bd3786"
             ],
             [
              0.5555555555555556,
              "#d8576b"
             ],
             [
              0.6666666666666666,
              "#ed7953"
             ],
             [
              0.7777777777777778,
              "#fb9f3a"
             ],
             [
              0.8888888888888888,
              "#fdca26"
             ],
             [
              1,
              "#f0f921"
             ]
            ],
            "type": "surface"
           }
          ],
          "table": [
           {
            "cells": {
             "fill": {
              "color": "#506784"
             },
             "line": {
              "color": "rgb(17,17,17)"
             }
            },
            "header": {
             "fill": {
              "color": "#2a3f5f"
             },
             "line": {
              "color": "rgb(17,17,17)"
             }
            },
            "type": "table"
           }
          ]
         },
         "layout": {
          "annotationdefaults": {
           "arrowcolor": "#f2f5fa",
           "arrowhead": 0,
           "arrowwidth": 1
          },
          "autotypenumbers": "strict",
          "coloraxis": {
           "colorbar": {
            "outlinewidth": 0,
            "ticks": ""
           }
          },
          "colorscale": {
           "diverging": [
            [
             0,
             "#8e0152"
            ],
            [
             0.1,
             "#c51b7d"
            ],
            [
             0.2,
             "#de77ae"
            ],
            [
             0.3,
             "#f1b6da"
            ],
            [
             0.4,
             "#fde0ef"
            ],
            [
             0.5,
             "#f7f7f7"
            ],
            [
             0.6,
             "#e6f5d0"
            ],
            [
             0.7,
             "#b8e186"
            ],
            [
             0.8,
             "#7fbc41"
            ],
            [
             0.9,
             "#4d9221"
            ],
            [
             1,
             "#276419"
            ]
           ],
           "sequential": [
            [
             0,
             "#0d0887"
            ],
            [
             0.1111111111111111,
             "#46039f"
            ],
            [
             0.2222222222222222,
             "#7201a8"
            ],
            [
             0.3333333333333333,
             "#9c179e"
            ],
            [
             0.4444444444444444,
             "#bd3786"
            ],
            [
             0.5555555555555556,
             "#d8576b"
            ],
            [
             0.6666666666666666,
             "#ed7953"
            ],
            [
             0.7777777777777778,
             "#fb9f3a"
            ],
            [
             0.8888888888888888,
             "#fdca26"
            ],
            [
             1,
             "#f0f921"
            ]
           ],
           "sequentialminus": [
            [
             0,
             "#0d0887"
            ],
            [
             0.1111111111111111,
             "#46039f"
            ],
            [
             0.2222222222222222,
             "#7201a8"
            ],
            [
             0.3333333333333333,
             "#9c179e"
            ],
            [
             0.4444444444444444,
             "#bd3786"
            ],
            [
             0.5555555555555556,
             "#d8576b"
            ],
            [
             0.6666666666666666,
             "#ed7953"
            ],
            [
             0.7777777777777778,
             "#fb9f3a"
            ],
            [
             0.8888888888888888,
             "#fdca26"
            ],
            [
             1,
             "#f0f921"
            ]
           ]
          },
          "colorway": [
           "#636efa",
           "#EF553B",
           "#00cc96",
           "#ab63fa",
           "#FFA15A",
           "#19d3f3",
           "#FF6692",
           "#B6E880",
           "#FF97FF",
           "#FECB52"
          ],
          "font": {
           "color": "#f2f5fa"
          },
          "geo": {
           "bgcolor": "rgb(17,17,17)",
           "lakecolor": "rgb(17,17,17)",
           "landcolor": "rgb(17,17,17)",
           "showlakes": true,
           "showland": true,
           "subunitcolor": "#506784"
          },
          "hoverlabel": {
           "align": "left"
          },
          "hovermode": "closest",
          "mapbox": {
           "style": "dark"
          },
          "paper_bgcolor": "rgb(17,17,17)",
          "plot_bgcolor": "rgb(17,17,17)",
          "polar": {
           "angularaxis": {
            "gridcolor": "#506784",
            "linecolor": "#506784",
            "ticks": ""
           },
           "bgcolor": "rgb(17,17,17)",
           "radialaxis": {
            "gridcolor": "#506784",
            "linecolor": "#506784",
            "ticks": ""
           }
          },
          "scene": {
           "xaxis": {
            "backgroundcolor": "rgb(17,17,17)",
            "gridcolor": "#506784",
            "gridwidth": 2,
            "linecolor": "#506784",
            "showbackground": true,
            "ticks": "",
            "zerolinecolor": "#C8D4E3"
           },
           "yaxis": {
            "backgroundcolor": "rgb(17,17,17)",
            "gridcolor": "#506784",
            "gridwidth": 2,
            "linecolor": "#506784",
            "showbackground": true,
            "ticks": "",
            "zerolinecolor": "#C8D4E3"
           },
           "zaxis": {
            "backgroundcolor": "rgb(17,17,17)",
            "gridcolor": "#506784",
            "gridwidth": 2,
            "linecolor": "#506784",
            "showbackground": true,
            "ticks": "",
            "zerolinecolor": "#C8D4E3"
           }
          },
          "shapedefaults": {
           "line": {
            "color": "#f2f5fa"
           }
          },
          "sliderdefaults": {
           "bgcolor": "#C8D4E3",
           "bordercolor": "rgb(17,17,17)",
           "borderwidth": 1,
           "tickwidth": 0
          },
          "ternary": {
           "aaxis": {
            "gridcolor": "#506784",
            "linecolor": "#506784",
            "ticks": ""
           },
           "baxis": {
            "gridcolor": "#506784",
            "linecolor": "#506784",
            "ticks": ""
           },
           "bgcolor": "rgb(17,17,17)",
           "caxis": {
            "gridcolor": "#506784",
            "linecolor": "#506784",
            "ticks": ""
           }
          },
          "title": {
           "x": 0.05
          },
          "updatemenudefaults": {
           "bgcolor": "#506784",
           "borderwidth": 0
          },
          "xaxis": {
           "automargin": true,
           "gridcolor": "#283442",
           "linecolor": "#506784",
           "ticks": "",
           "title": {
            "standoff": 15
           },
           "zerolinecolor": "#283442",
           "zerolinewidth": 2
          },
          "yaxis": {
           "automargin": true,
           "gridcolor": "#283442",
           "linecolor": "#506784",
           "ticks": "",
           "title": {
            "standoff": 15
           },
           "zerolinecolor": "#283442",
           "zerolinewidth": 2
          }
         }
        },
        "title": {
         "text": "Coefficient of Variation (%)"
        },
        "xaxis": {
         "anchor": "y",
         "domain": [
          0,
          1
         ],
         "title": {
          "text": "Coefficient of Variation (Log Scale)"
         },
         "type": "log"
        },
        "yaxis": {
         "anchor": "x",
         "domain": [
          0,
          1
         ],
         "title": {
          "text": "Columns"
         }
        }
       }
      }
     },
     "metadata": {},
     "output_type": "display_data"
    }
   ],
   "source": [
    "df_macroeconomic_book_cvs = ((df_macroeconomic_numeric_cols.std(ddof=1) / df_macroeconomic_numeric_cols.mean().sort_values(ascending=True)) * 100).sort_values(ascending=True).reset_index()\n",
    "df_macroeconomic_book_cvs.columns = ['column', 'coefficient_variation']\n",
    "df_macroeconomic_book_cvs['coefficient_variation'] = df_macroeconomic_book_cvs['coefficient_variation'].abs().sort_values(ascending=True)\n",
    "df_macroeconomic_book_cvs.fillna(method='ffill', inplace=True)\n",
    "df_macroeconomic_book_cvs = df_macroeconomic_book_cvs.sort_values(by='coefficient_variation', ascending=False)\n",
    "\n",
    "\n",
    "fig = px.bar(df_macroeconomic_book_cvs, title='Coefficient of Variation (%)',y='column', x='coefficient_variation', orientation='h', color_discrete_sequence=['rgb(100, 195, 181)'],hover_name='column', height=800)\n",
    "fig.update_traces(text=[f'{x:.0f}%' for x in df_macroeconomic_book_cvs['coefficient_variation']], textposition='outside')\n",
    "fig.update_layout(xaxis_title='Coefficient of Variation (%)', yaxis_title='Columns', template='plotly_dark', font=dict(color='white'), xaxis={'type':'log', 'title':'Coefficient of Variation (Log Scale)'}, hovermode='y')\n",
    "\n",
    "fig.show()"
   ]
  },
  {
   "cell_type": "markdown",
   "metadata": {},
   "source": [
    "#### Outlier Analysis"
   ]
  },
  {
   "cell_type": "code",
   "execution_count": 7,
   "metadata": {},
   "outputs": [
    {
     "data": {
      "application/vnd.plotly.v1+json": {
       "config": {
        "plotlyServerURL": "https://plot.ly"
       },
       "data": [
        {
         "boxpoints": "outliers",
         "hoverinfo": "y+text",
         "jitter": 0.7,
         "marker": {
          "color": "lightseagreen"
         },
         "name": "date",
         "text": [],
         "type": "box",
         "xaxis": "x",
         "y": [
          "2019-01-31",
          "2019-02-28",
          "2019-03-31",
          "2019-04-30",
          "2019-05-31",
          "2019-06-30",
          "2019-07-31",
          "2019-08-31",
          "2019-09-30",
          "2019-10-31",
          "2019-11-30",
          "2019-12-31",
          "2020-01-31",
          "2020-02-29",
          "2020-03-31",
          "2020-04-30",
          "2020-05-31",
          "2020-06-30",
          "2020-07-31",
          "2020-08-31",
          "2020-09-30",
          "2020-10-31",
          "2020-11-30",
          "2020-12-31",
          "2021-01-31",
          "2021-02-28",
          "2021-03-31",
          "2021-04-30",
          "2021-05-31",
          "2021-06-30",
          "2021-07-31",
          "2021-08-31",
          "2021-09-30",
          "2021-10-31",
          "2021-11-30",
          "2021-12-31",
          "2022-01-31",
          "2022-02-28",
          "2022-03-31",
          "2022-04-30",
          "2022-05-31",
          "2022-06-30",
          "2022-07-31",
          "2022-08-31",
          "2022-09-30",
          "2022-10-31",
          "2022-11-30",
          "2022-12-31",
          "2023-01-31",
          "2023-02-28",
          "2023-03-31",
          "2023-04-30",
          "2023-05-31",
          "2023-06-30",
          "2023-07-31",
          "2023-08-31"
         ],
         "yaxis": "y"
        },
        {
         "boxpoints": "outliers",
         "hoverinfo": "y+text",
         "jitter": 0.7,
         "marker": {
          "color": "lightseagreen"
         },
         "name": "selic",
         "text": [],
         "type": "box",
         "xaxis": "x2",
         "y": [
          6.5,
          6.5,
          6.5,
          6.5,
          6.5,
          6.5,
          6.5,
          6,
          5.5,
          5,
          5,
          4.5,
          4.5,
          4.25,
          3.75,
          3.75,
          3,
          2.25,
          2.25,
          2,
          2,
          2,
          2,
          2,
          2,
          2,
          2.75,
          2.75,
          3.5,
          4.25,
          4.25,
          5.25,
          6.25,
          7.75,
          7.75,
          9.25,
          9.25,
          10.75,
          11.75,
          11.75,
          12.75,
          13.25,
          13.25,
          13.75,
          13.75,
          13.75,
          13.75,
          13.75,
          13.75,
          13.75,
          13.75,
          13.75,
          13.75,
          13.75,
          13.75,
          13.25
         ],
         "yaxis": "y2"
        },
        {
         "boxpoints": "outliers",
         "hoverinfo": "y+text",
         "jitter": 0.7,
         "marker": {
          "color": "lightseagreen"
         },
         "name": "confidence",
         "text": [],
         "type": "box",
         "xaxis": "x3",
         "y": [
          128.64,
          139.39,
          125.53,
          121.71,
          117.01,
          107.38,
          110.92,
          114.58,
          112.19,
          111.82,
          118.64,
          121.26,
          121.27,
          131.79,
          124.58,
          111.97,
          96.82,
          100.43,
          102.84,
          102.62,
          108.36,
          107.61,
          111.65,
          111.71,
          116.09,
          116.23,
          112.9,
          104.95,
          105.9,
          107.32,
          110.98,
          111.99,
          114.66,
          109.37,
          109.35,
          112,
          108.35,
          104.05,
          105.12,
          104.35,
          105.87,
          103.6,
          105.58,
          106.76,
          111.46,
          114.23,
          116.79,
          122.84,
          125.38,
          128.78,
          127.42,
          125.1,
          122.22,
          125.27,
          124.46,
          131.02
         ],
         "yaxis": "y3"
        },
        {
         "boxpoints": "outliers",
         "hoverinfo": "y+text",
         "jitter": 0.7,
         "marker": {
          "color": "lightseagreen"
         },
         "name": "pib",
         "text": [],
         "type": "box",
         "xaxis": "x4",
         "y": [
          578214.5,
          576089.7,
          601749.8,
          612918.4,
          615304.9,
          596919.2,
          631911.8,
          629532.3,
          619104.3,
          650359.4,
          639124.2,
          637902.4,
          615542.8,
          620048.3,
          637806.9,
          569278.8,
          579341.2,
          608897.5,
          645168,
          637698.5,
          646836.2,
          670157,
          676213.4,
          702608.4,
          677312.8,
          706456.2,
          768852.8,
          733617.9,
          724321,
          724110,
          754427.1,
          753685.9,
          746379.5,
          755392.8,
          771540.1,
          782631.4,
          722828.3,
          754068.3,
          838811.9,
          819757.1,
          826054.6,
          826025.7,
          852909.9,
          854027.1,
          836707.8,
          856445.6,
          859752.7,
          867927.4,
          804202.3,
          824738.6,
          927590.5,
          886228.9,
          884231,
          880696.5,
          909582.5,
          912895.5
         ],
         "yaxis": "y4"
        },
        {
         "boxpoints": "outliers",
         "hoverinfo": "y+text",
         "jitter": 0.7,
         "marker": {
          "color": "lightseagreen"
         },
         "name": "incc",
         "text": [],
         "type": "box",
         "xaxis": "x5",
         "y": [
          0.49,
          0.09,
          0.31,
          0.38,
          0.03,
          0.88,
          0.58,
          0.42,
          0.46,
          0.18,
          0.04,
          0.21,
          0.38,
          0.33,
          0.26,
          0.22,
          0.2,
          0.34,
          1.17,
          0.72,
          1.16,
          1.73,
          1.28,
          0.7,
          0.89,
          1.89,
          1.3,
          0.9,
          2.22,
          2.16,
          0.85,
          0.46,
          0.51,
          0.86,
          0.67,
          0.35,
          0.71,
          0.38,
          0.86,
          0.95,
          2.28,
          2.14,
          0.86,
          0.09,
          0.09,
          0.12,
          0.36,
          0.09,
          0.46,
          0.05,
          0.3,
          0.14,
          0.59,
          0.71,
          0.1,
          0.17
         ],
         "yaxis": "y5"
        },
        {
         "boxpoints": "outliers",
         "hoverinfo": "y+text",
         "jitter": 0.7,
         "marker": {
          "color": "lightseagreen"
         },
         "name": "ipca",
         "text": [],
         "type": "box",
         "xaxis": "x6",
         "y": [
          3.78,
          3.89,
          4.58,
          4.94,
          4.66,
          3.37,
          3.22,
          3.43,
          2.89,
          2.54,
          3.27,
          4.31,
          4.19,
          4.01,
          3.3,
          2.4,
          1.88,
          2.13,
          2.31,
          2.44,
          3.14,
          3.92,
          4.31,
          4.52,
          4.56,
          5.2,
          6.1,
          6.76,
          8.06,
          8.35,
          8.99,
          9.68,
          10.25,
          10.67,
          10.74,
          10.06,
          10.38,
          10.54,
          11.3,
          12.13,
          11.73,
          11.89,
          10.07,
          8.73,
          7.17,
          6.47,
          5.9,
          5.79,
          5.77,
          5.6,
          4.65,
          4.18,
          3.94,
          3.16,
          3.99,
          4.61
         ],
         "yaxis": "y6"
        },
        {
         "boxpoints": "outliers",
         "hoverinfo": "y+text",
         "jitter": 0.7,
         "marker": {
          "color": "lightseagreen"
         },
         "name": "dolar",
         "text": [],
         "type": "box",
         "xaxis": "x7",
         "y": [
          3.6513,
          3.7379,
          3.8961,
          3.9447,
          3.9401,
          3.8316,
          3.7643,
          4.1379,
          4.1638,
          4.0035,
          4.2234,
          4.0301,
          4.2689,
          4.4981,
          5.1981,
          5.4264,
          5.4257,
          5.4754,
          5.2027,
          5.4707,
          5.6401,
          5.7712,
          5.3311,
          5.1961,
          5.4753,
          5.5296,
          5.6967,
          5.403,
          5.2316,
          5.0016,
          5.121,
          5.1427,
          5.4388,
          5.6424,
          5.6193,
          5.5799,
          5.3568,
          5.1388,
          4.7372,
          4.9185,
          4.7283,
          5.2374,
          5.1878,
          5.1784,
          5.406,
          5.2564,
          5.2935,
          5.2171,
          5.0987,
          5.2072,
          5.0798,
          5.0001,
          5.0953,
          4.8186,
          4.7409,
          4.9213
         ],
         "yaxis": "y7"
        },
        {
         "boxpoints": "outliers",
         "hoverinfo": "y+text",
         "jitter": 0.7,
         "marker": {
          "color": "lightseagreen"
         },
         "name": "monthly_inflation",
         "text": [],
         "type": "box",
         "xaxis": "x8",
         "y": [
          -0.1119479105194651,
          0.0291005291005292,
          0.1773778920308484,
          0.0786026200873362,
          -0.0566801619433199,
          -0.276824034334764,
          -0.0445103857566765,
          0.0652173913043479,
          -0.1574344023323615,
          -0.1211072664359862,
          0.2874015748031495,
          0.3180428134556574,
          -0.02784222737819,
          -0.0429594272076373,
          -0.1770573566084787,
          -0.2727272727272727,
          -0.2166666666666666,
          0.1329787234042554,
          0.0845070422535212,
          0.0562770562770562,
          0.2868852459016393,
          0.2484076433121018,
          0.0994897959183673,
          0.0487238979118329,
          0.0088495575221239,
          0.1403508771929826,
          0.1730769230769229,
          0.1081967213114754,
          0.1923076923076925,
          0.0359801488833746,
          0.0766467065868263,
          0.0767519466073414,
          0.0588842975206611,
          0.0409756097560976,
          0.0065604498594189,
          -0.063314711359404,
          0.0318091451292246,
          0.0154142581888245,
          0.0721062618595826,
          0.0734513274336283,
          -0.0329760923330585,
          0.0136402387041774,
          -0.1530698065601345,
          -0.1330685203574975,
          -0.1786941580756014,
          -0.097629009762901,
          -0.088098918083462,
          -0.0186440677966102,
          -0.003454231433506,
          -0.0294627383015597,
          -0.1696428571428569,
          -0.1010752688172044,
          -0.0574162679425837,
          -0.197969543147208,
          0.2626582278481013,
          0.1553884711779449
         ],
         "yaxis": "y8"
        },
        {
         "boxpoints": "outliers",
         "hoverinfo": "y+text",
         "jitter": 0.7,
         "marker": {
          "color": "lightseagreen"
         },
         "name": "gdp_growth",
         "text": [],
         "type": "box",
         "xaxis": "x9",
         "y": [
          -0.0157562364676189,
          -0.0036747608370251,
          0.0445418482573114,
          0.0185602055871061,
          0.0038936667589029,
          -0.0298806331625184,
          0.0586220044521941,
          -0.0037655571552865,
          -0.0165646782539989,
          0.0504843852643246,
          -0.0172753711255654,
          -0.0019116785125644,
          -0.0350517571340066,
          0.007319556008128,
          0.0286406720250664,
          -0.1074433343383396,
          0.0176756977424767,
          0.0510170863042367,
          0.059567496992515,
          -0.0115776045929122,
          0.0143291853438576,
          0.0360536407826279,
          0.0090372852928493,
          0.0390335358630871,
          -0.0360024161396305,
          0.0430279776197939,
          0.0883233808408789,
          -0.0458278879910433,
          -0.012672673335806,
          -0.0002913073071193,
          0.041868086340473,
          -0.0009824673583437,
          -0.0096942240792882,
          0.0120760283475096,
          0.0213760311191739,
          0.0143755327817698,
          -0.0764128554003839,
          0.0432191157983161,
          0.1123818624917663,
          -0.022716415921138,
          0.0076821536525881,
          -0.0000349855808563504,
          0.0325464449834915,
          0.0013098687211861,
          -0.0202795672408989,
          0.0235898362606394,
          0.0038614244734282,
          0.0095081992763734,
          -0.0734221548945223,
          0.0255362363425222,
          0.1247084833909799,
          -0.04459036611522,
          -0.0022543837150876,
          -0.0039972586349041,
          0.0327990403050313,
          0.0036423304098309
         ],
         "yaxis": "y9"
        },
        {
         "boxpoints": "outliers",
         "hoverinfo": "y+text",
         "jitter": 0.7,
         "marker": {
          "color": "lightseagreen"
         },
         "name": "dollar_growth",
         "text": [],
         "type": "box",
         "xaxis": "x10",
         "y": [
          0.016458866470465,
          0.0237175800399858,
          0.0423232296209101,
          0.0124740124740123,
          -0.0011661216315562,
          -0.027537372147915,
          -0.0175644639315167,
          0.0992482001965837,
          0.0062592136107688,
          -0.0384984869590279,
          0.0549269389284376,
          -0.0457688118577449,
          0.0592541128011712,
          0.0536906463023261,
          0.1556212623107535,
          0.0439198938073526,
          -0.0001289989680083,
          0.0091601083731129,
          -0.0498045804872702,
          0.0515117150710207,
          0.0309649587804121,
          0.0232442687186398,
          -0.0762579706126975,
          -0.0253231040498208,
          0.0537326071476682,
          0.0099172648074079,
          0.0302191840277776,
          -0.0515561640950024,
          -0.03172311678697,
          -0.0439636057802584,
          0.0238723608445299,
          0.0042374536223392,
          0.0575767592898672,
          0.0374347282488785,
          -0.0040940025521055,
          -0.007011549481252,
          -0.0399827953905984,
          -0.0406959378733572,
          -0.0781505409823305,
          0.0382715528160095,
          -0.0386703263189996,
          0.1076708330689677,
          -0.009470347882537,
          -0.0018119434056825,
          0.0439517997837168,
          -0.0276729559748426,
          0.0070580625523171,
          -0.014432794937187,
          -0.0226946004485251,
          0.0212799341008493,
          -0.0244661238285451,
          -0.015689594078507,
          0.0190396192076158,
          -0.054304947696897,
          -0.0161250155646868,
          0.0380518466957751
         ],
         "yaxis": "y10"
        },
        {
         "boxpoints": "outliers",
         "hoverinfo": "y+text",
         "jitter": 0.7,
         "marker": {
          "color": "lightseagreen"
         },
         "name": "real_interest_rate",
         "text": [],
         "type": "box",
         "xaxis": "x11",
         "y": [
          2.72,
          2.61,
          1.92,
          1.5599999999999996,
          1.84,
          3.13,
          3.28,
          2.57,
          2.61,
          2.46,
          1.73,
          0.1900000000000004,
          0.3099999999999996,
          0.2400000000000002,
          0.4500000000000002,
          1.35,
          1.12,
          0.1200000000000001,
          -0.06,
          -0.4399999999999999,
          -1.14,
          -1.92,
          -2.31,
          -2.52,
          -2.56,
          -3.2,
          -3.35,
          -4.01,
          -4.5600000000000005,
          -4.1,
          -4.74,
          -4.43,
          -4,
          -2.92,
          -2.99,
          -0.8100000000000005,
          -1.1300000000000008,
          0.2100000000000008,
          0.4499999999999993,
          -0.3800000000000008,
          1.0199999999999996,
          1.3599999999999994,
          3.18,
          5.02,
          6.58,
          7.28,
          7.85,
          7.96,
          7.98,
          8.15,
          9.1,
          9.57,
          9.81,
          10.59,
          9.76,
          8.64
         ],
         "yaxis": "y11"
        },
        {
         "boxpoints": "outliers",
         "hoverinfo": "y+text",
         "jitter": 0.7,
         "marker": {
          "color": "lightseagreen"
         },
         "name": "inflation_confidence_difference",
         "text": [],
         "type": "box",
         "xaxis": "x12",
         "y": [
          -124.86,
          -135.5,
          -120.95,
          -116.77,
          -112.35,
          -104.01,
          -107.7,
          -111.15,
          -109.3,
          -109.28,
          -115.37,
          -116.95,
          -117.08,
          -127.78,
          -121.28,
          -109.57,
          -94.94,
          -98.3,
          -100.53,
          -100.18,
          -105.22,
          -103.69,
          -107.34,
          -107.19,
          -111.53,
          -111.03,
          -106.8,
          -98.19,
          -97.84,
          -98.97,
          -101.99,
          -102.31,
          -104.41,
          -98.7,
          -98.61,
          -101.94,
          -97.97,
          -93.51,
          -93.82,
          -92.22,
          -94.14,
          -91.71,
          -95.51,
          -98.03,
          -104.29,
          -107.76,
          -110.89,
          -117.05,
          -119.61,
          -123.18,
          -122.77,
          -120.92,
          -118.28,
          -122.11,
          -120.47,
          -126.41
         ],
         "yaxis": "y12"
        }
       ],
       "layout": {
        "annotations": [
         {
          "font": {
           "size": 16
          },
          "showarrow": false,
          "text": "date",
          "x": 0.14444444444444446,
          "xanchor": "center",
          "xref": "paper",
          "y": 1,
          "yanchor": "bottom",
          "yref": "paper"
         },
         {
          "font": {
           "size": 16
          },
          "showarrow": false,
          "text": "selic",
          "x": 0.5,
          "xanchor": "center",
          "xref": "paper",
          "y": 1,
          "yanchor": "bottom",
          "yref": "paper"
         },
         {
          "font": {
           "size": 16
          },
          "showarrow": false,
          "text": "confidence",
          "x": 0.8555555555555556,
          "xanchor": "center",
          "xref": "paper",
          "y": 1,
          "yanchor": "bottom",
          "yref": "paper"
         },
         {
          "font": {
           "size": 16
          },
          "showarrow": false,
          "text": "pib",
          "x": 0.14444444444444446,
          "xanchor": "center",
          "xref": "paper",
          "y": 0.964922711058264,
          "yanchor": "bottom",
          "yref": "paper"
         },
         {
          "font": {
           "size": 16
          },
          "showarrow": false,
          "text": "incc",
          "x": 0.5,
          "xanchor": "center",
          "xref": "paper",
          "y": 0.964922711058264,
          "yanchor": "bottom",
          "yref": "paper"
         },
         {
          "font": {
           "size": 16
          },
          "showarrow": false,
          "text": "ipca",
          "x": 0.8555555555555556,
          "xanchor": "center",
          "xref": "paper",
          "y": 0.964922711058264,
          "yanchor": "bottom",
          "yref": "paper"
         },
         {
          "font": {
           "size": 16
          },
          "showarrow": false,
          "text": "dolar",
          "x": 0.14444444444444446,
          "xanchor": "center",
          "xref": "paper",
          "y": 0.9298454221165281,
          "yanchor": "bottom",
          "yref": "paper"
         },
         {
          "font": {
           "size": 16
          },
          "showarrow": false,
          "text": "monthly_inflation",
          "x": 0.5,
          "xanchor": "center",
          "xref": "paper",
          "y": 0.9298454221165281,
          "yanchor": "bottom",
          "yref": "paper"
         },
         {
          "font": {
           "size": 16
          },
          "showarrow": false,
          "text": "gdp_growth",
          "x": 0.8555555555555556,
          "xanchor": "center",
          "xref": "paper",
          "y": 0.9298454221165281,
          "yanchor": "bottom",
          "yref": "paper"
         },
         {
          "font": {
           "size": 16
          },
          "showarrow": false,
          "text": "dollar_growth",
          "x": 0.14444444444444446,
          "xanchor": "center",
          "xref": "paper",
          "y": 0.894768133174792,
          "yanchor": "bottom",
          "yref": "paper"
         },
         {
          "font": {
           "size": 16
          },
          "showarrow": false,
          "text": "real_interest_rate",
          "x": 0.5,
          "xanchor": "center",
          "xref": "paper",
          "y": 0.894768133174792,
          "yanchor": "bottom",
          "yref": "paper"
         },
         {
          "font": {
           "size": 16
          },
          "showarrow": false,
          "text": "inflation_confidence_difference",
          "x": 0.8555555555555556,
          "xanchor": "center",
          "xref": "paper",
          "y": 0.894768133174792,
          "yanchor": "bottom",
          "yref": "paper"
         }
        ],
        "height": 8700,
        "showlegend": false,
        "template": {
         "data": {
          "bar": [
           {
            "error_x": {
             "color": "#f2f5fa"
            },
            "error_y": {
             "color": "#f2f5fa"
            },
            "marker": {
             "line": {
              "color": "rgb(17,17,17)",
              "width": 0.5
             },
             "pattern": {
              "fillmode": "overlay",
              "size": 10,
              "solidity": 0.2
             }
            },
            "type": "bar"
           }
          ],
          "barpolar": [
           {
            "marker": {
             "line": {
              "color": "rgb(17,17,17)",
              "width": 0.5
             },
             "pattern": {
              "fillmode": "overlay",
              "size": 10,
              "solidity": 0.2
             }
            },
            "type": "barpolar"
           }
          ],
          "carpet": [
           {
            "aaxis": {
             "endlinecolor": "#A2B1C6",
             "gridcolor": "#506784",
             "linecolor": "#506784",
             "minorgridcolor": "#506784",
             "startlinecolor": "#A2B1C6"
            },
            "baxis": {
             "endlinecolor": "#A2B1C6",
             "gridcolor": "#506784",
             "linecolor": "#506784",
             "minorgridcolor": "#506784",
             "startlinecolor": "#A2B1C6"
            },
            "type": "carpet"
           }
          ],
          "choropleth": [
           {
            "colorbar": {
             "outlinewidth": 0,
             "ticks": ""
            },
            "type": "choropleth"
           }
          ],
          "contour": [
           {
            "colorbar": {
             "outlinewidth": 0,
             "ticks": ""
            },
            "colorscale": [
             [
              0,
              "#0d0887"
             ],
             [
              0.1111111111111111,
              "#46039f"
             ],
             [
              0.2222222222222222,
              "#7201a8"
             ],
             [
              0.3333333333333333,
              "#9c179e"
             ],
             [
              0.4444444444444444,
              "#bd3786"
             ],
             [
              0.5555555555555556,
              "#d8576b"
             ],
             [
              0.6666666666666666,
              "#ed7953"
             ],
             [
              0.7777777777777778,
              "#fb9f3a"
             ],
             [
              0.8888888888888888,
              "#fdca26"
             ],
             [
              1,
              "#f0f921"
             ]
            ],
            "type": "contour"
           }
          ],
          "contourcarpet": [
           {
            "colorbar": {
             "outlinewidth": 0,
             "ticks": ""
            },
            "type": "contourcarpet"
           }
          ],
          "heatmap": [
           {
            "colorbar": {
             "outlinewidth": 0,
             "ticks": ""
            },
            "colorscale": [
             [
              0,
              "#0d0887"
             ],
             [
              0.1111111111111111,
              "#46039f"
             ],
             [
              0.2222222222222222,
              "#7201a8"
             ],
             [
              0.3333333333333333,
              "#9c179e"
             ],
             [
              0.4444444444444444,
              "#bd3786"
             ],
             [
              0.5555555555555556,
              "#d8576b"
             ],
             [
              0.6666666666666666,
              "#ed7953"
             ],
             [
              0.7777777777777778,
              "#fb9f3a"
             ],
             [
              0.8888888888888888,
              "#fdca26"
             ],
             [
              1,
              "#f0f921"
             ]
            ],
            "type": "heatmap"
           }
          ],
          "heatmapgl": [
           {
            "colorbar": {
             "outlinewidth": 0,
             "ticks": ""
            },
            "colorscale": [
             [
              0,
              "#0d0887"
             ],
             [
              0.1111111111111111,
              "#46039f"
             ],
             [
              0.2222222222222222,
              "#7201a8"
             ],
             [
              0.3333333333333333,
              "#9c179e"
             ],
             [
              0.4444444444444444,
              "#bd3786"
             ],
             [
              0.5555555555555556,
              "#d8576b"
             ],
             [
              0.6666666666666666,
              "#ed7953"
             ],
             [
              0.7777777777777778,
              "#fb9f3a"
             ],
             [
              0.8888888888888888,
              "#fdca26"
             ],
             [
              1,
              "#f0f921"
             ]
            ],
            "type": "heatmapgl"
           }
          ],
          "histogram": [
           {
            "marker": {
             "pattern": {
              "fillmode": "overlay",
              "size": 10,
              "solidity": 0.2
             }
            },
            "type": "histogram"
           }
          ],
          "histogram2d": [
           {
            "colorbar": {
             "outlinewidth": 0,
             "ticks": ""
            },
            "colorscale": [
             [
              0,
              "#0d0887"
             ],
             [
              0.1111111111111111,
              "#46039f"
             ],
             [
              0.2222222222222222,
              "#7201a8"
             ],
             [
              0.3333333333333333,
              "#9c179e"
             ],
             [
              0.4444444444444444,
              "#bd3786"
             ],
             [
              0.5555555555555556,
              "#d8576b"
             ],
             [
              0.6666666666666666,
              "#ed7953"
             ],
             [
              0.7777777777777778,
              "#fb9f3a"
             ],
             [
              0.8888888888888888,
              "#fdca26"
             ],
             [
              1,
              "#f0f921"
             ]
            ],
            "type": "histogram2d"
           }
          ],
          "histogram2dcontour": [
           {
            "colorbar": {
             "outlinewidth": 0,
             "ticks": ""
            },
            "colorscale": [
             [
              0,
              "#0d0887"
             ],
             [
              0.1111111111111111,
              "#46039f"
             ],
             [
              0.2222222222222222,
              "#7201a8"
             ],
             [
              0.3333333333333333,
              "#9c179e"
             ],
             [
              0.4444444444444444,
              "#bd3786"
             ],
             [
              0.5555555555555556,
              "#d8576b"
             ],
             [
              0.6666666666666666,
              "#ed7953"
             ],
             [
              0.7777777777777778,
              "#fb9f3a"
             ],
             [
              0.8888888888888888,
              "#fdca26"
             ],
             [
              1,
              "#f0f921"
             ]
            ],
            "type": "histogram2dcontour"
           }
          ],
          "mesh3d": [
           {
            "colorbar": {
             "outlinewidth": 0,
             "ticks": ""
            },
            "type": "mesh3d"
           }
          ],
          "parcoords": [
           {
            "line": {
             "colorbar": {
              "outlinewidth": 0,
              "ticks": ""
             }
            },
            "type": "parcoords"
           }
          ],
          "pie": [
           {
            "automargin": true,
            "type": "pie"
           }
          ],
          "scatter": [
           {
            "marker": {
             "line": {
              "color": "#283442"
             }
            },
            "type": "scatter"
           }
          ],
          "scatter3d": [
           {
            "line": {
             "colorbar": {
              "outlinewidth": 0,
              "ticks": ""
             }
            },
            "marker": {
             "colorbar": {
              "outlinewidth": 0,
              "ticks": ""
             }
            },
            "type": "scatter3d"
           }
          ],
          "scattercarpet": [
           {
            "marker": {
             "colorbar": {
              "outlinewidth": 0,
              "ticks": ""
             }
            },
            "type": "scattercarpet"
           }
          ],
          "scattergeo": [
           {
            "marker": {
             "colorbar": {
              "outlinewidth": 0,
              "ticks": ""
             }
            },
            "type": "scattergeo"
           }
          ],
          "scattergl": [
           {
            "marker": {
             "line": {
              "color": "#283442"
             }
            },
            "type": "scattergl"
           }
          ],
          "scattermapbox": [
           {
            "marker": {
             "colorbar": {
              "outlinewidth": 0,
              "ticks": ""
             }
            },
            "type": "scattermapbox"
           }
          ],
          "scatterpolar": [
           {
            "marker": {
             "colorbar": {
              "outlinewidth": 0,
              "ticks": ""
             }
            },
            "type": "scatterpolar"
           }
          ],
          "scatterpolargl": [
           {
            "marker": {
             "colorbar": {
              "outlinewidth": 0,
              "ticks": ""
             }
            },
            "type": "scatterpolargl"
           }
          ],
          "scatterternary": [
           {
            "marker": {
             "colorbar": {
              "outlinewidth": 0,
              "ticks": ""
             }
            },
            "type": "scatterternary"
           }
          ],
          "surface": [
           {
            "colorbar": {
             "outlinewidth": 0,
             "ticks": ""
            },
            "colorscale": [
             [
              0,
              "#0d0887"
             ],
             [
              0.1111111111111111,
              "#46039f"
             ],
             [
              0.2222222222222222,
              "#7201a8"
             ],
             [
              0.3333333333333333,
              "#9c179e"
             ],
             [
              0.4444444444444444,
              "#bd3786"
             ],
             [
              0.5555555555555556,
              "#d8576b"
             ],
             [
              0.6666666666666666,
              "#ed7953"
             ],
             [
              0.7777777777777778,
              "#fb9f3a"
             ],
             [
              0.8888888888888888,
              "#fdca26"
             ],
             [
              1,
              "#f0f921"
             ]
            ],
            "type": "surface"
           }
          ],
          "table": [
           {
            "cells": {
             "fill": {
              "color": "#506784"
             },
             "line": {
              "color": "rgb(17,17,17)"
             }
            },
            "header": {
             "fill": {
              "color": "#2a3f5f"
             },
             "line": {
              "color": "rgb(17,17,17)"
             }
            },
            "type": "table"
           }
          ]
         },
         "layout": {
          "annotationdefaults": {
           "arrowcolor": "#f2f5fa",
           "arrowhead": 0,
           "arrowwidth": 1
          },
          "autotypenumbers": "strict",
          "coloraxis": {
           "colorbar": {
            "outlinewidth": 0,
            "ticks": ""
           }
          },
          "colorscale": {
           "diverging": [
            [
             0,
             "#8e0152"
            ],
            [
             0.1,
             "#c51b7d"
            ],
            [
             0.2,
             "#de77ae"
            ],
            [
             0.3,
             "#f1b6da"
            ],
            [
             0.4,
             "#fde0ef"
            ],
            [
             0.5,
             "#f7f7f7"
            ],
            [
             0.6,
             "#e6f5d0"
            ],
            [
             0.7,
             "#b8e186"
            ],
            [
             0.8,
             "#7fbc41"
            ],
            [
             0.9,
             "#4d9221"
            ],
            [
             1,
             "#276419"
            ]
           ],
           "sequential": [
            [
             0,
             "#0d0887"
            ],
            [
             0.1111111111111111,
             "#46039f"
            ],
            [
             0.2222222222222222,
             "#7201a8"
            ],
            [
             0.3333333333333333,
             "#9c179e"
            ],
            [
             0.4444444444444444,
             "#bd3786"
            ],
            [
             0.5555555555555556,
             "#d8576b"
            ],
            [
             0.6666666666666666,
             "#ed7953"
            ],
            [
             0.7777777777777778,
             "#fb9f3a"
            ],
            [
             0.8888888888888888,
             "#fdca26"
            ],
            [
             1,
             "#f0f921"
            ]
           ],
           "sequentialminus": [
            [
             0,
             "#0d0887"
            ],
            [
             0.1111111111111111,
             "#46039f"
            ],
            [
             0.2222222222222222,
             "#7201a8"
            ],
            [
             0.3333333333333333,
             "#9c179e"
            ],
            [
             0.4444444444444444,
             "#bd3786"
            ],
            [
             0.5555555555555556,
             "#d8576b"
            ],
            [
             0.6666666666666666,
             "#ed7953"
            ],
            [
             0.7777777777777778,
             "#fb9f3a"
            ],
            [
             0.8888888888888888,
             "#fdca26"
            ],
            [
             1,
             "#f0f921"
            ]
           ]
          },
          "colorway": [
           "#636efa",
           "#EF553B",
           "#00cc96",
           "#ab63fa",
           "#FFA15A",
           "#19d3f3",
           "#FF6692",
           "#B6E880",
           "#FF97FF",
           "#FECB52"
          ],
          "font": {
           "color": "#f2f5fa"
          },
          "geo": {
           "bgcolor": "rgb(17,17,17)",
           "lakecolor": "rgb(17,17,17)",
           "landcolor": "rgb(17,17,17)",
           "showlakes": true,
           "showland": true,
           "subunitcolor": "#506784"
          },
          "hoverlabel": {
           "align": "left"
          },
          "hovermode": "closest",
          "mapbox": {
           "style": "dark"
          },
          "paper_bgcolor": "rgb(17,17,17)",
          "plot_bgcolor": "rgb(17,17,17)",
          "polar": {
           "angularaxis": {
            "gridcolor": "#506784",
            "linecolor": "#506784",
            "ticks": ""
           },
           "bgcolor": "rgb(17,17,17)",
           "radialaxis": {
            "gridcolor": "#506784",
            "linecolor": "#506784",
            "ticks": ""
           }
          },
          "scene": {
           "xaxis": {
            "backgroundcolor": "rgb(17,17,17)",
            "gridcolor": "#506784",
            "gridwidth": 2,
            "linecolor": "#506784",
            "showbackground": true,
            "ticks": "",
            "zerolinecolor": "#C8D4E3"
           },
           "yaxis": {
            "backgroundcolor": "rgb(17,17,17)",
            "gridcolor": "#506784",
            "gridwidth": 2,
            "linecolor": "#506784",
            "showbackground": true,
            "ticks": "",
            "zerolinecolor": "#C8D4E3"
           },
           "zaxis": {
            "backgroundcolor": "rgb(17,17,17)",
            "gridcolor": "#506784",
            "gridwidth": 2,
            "linecolor": "#506784",
            "showbackground": true,
            "ticks": "",
            "zerolinecolor": "#C8D4E3"
           }
          },
          "shapedefaults": {
           "line": {
            "color": "#f2f5fa"
           }
          },
          "sliderdefaults": {
           "bgcolor": "#C8D4E3",
           "bordercolor": "rgb(17,17,17)",
           "borderwidth": 1,
           "tickwidth": 0
          },
          "ternary": {
           "aaxis": {
            "gridcolor": "#506784",
            "linecolor": "#506784",
            "ticks": ""
           },
           "baxis": {
            "gridcolor": "#506784",
            "linecolor": "#506784",
            "ticks": ""
           },
           "bgcolor": "rgb(17,17,17)",
           "caxis": {
            "gridcolor": "#506784",
            "linecolor": "#506784",
            "ticks": ""
           }
          },
          "title": {
           "x": 0.05
          },
          "updatemenudefaults": {
           "bgcolor": "#506784",
           "borderwidth": 0
          },
          "xaxis": {
           "automargin": true,
           "gridcolor": "#283442",
           "linecolor": "#506784",
           "ticks": "",
           "title": {
            "standoff": 15
           },
           "zerolinecolor": "#283442",
           "zerolinewidth": 2
          },
          "yaxis": {
           "automargin": true,
           "gridcolor": "#283442",
           "linecolor": "#506784",
           "ticks": "",
           "title": {
            "standoff": 15
           },
           "zerolinecolor": "#283442",
           "zerolinewidth": 2
          }
         }
        },
        "title": {
         "text": "Boxplot of Numerical Variables"
        },
        "xaxis": {
         "anchor": "y",
         "domain": [
          0,
          0.2888888888888889
         ]
        },
        "xaxis10": {
         "anchor": "y10",
         "domain": [
          0,
          0.2888888888888889
         ]
        },
        "xaxis11": {
         "anchor": "y11",
         "domain": [
          0.35555555555555557,
          0.6444444444444445
         ]
        },
        "xaxis12": {
         "anchor": "y12",
         "domain": [
          0.7111111111111111,
          1
         ]
        },
        "xaxis13": {
         "anchor": "y13",
         "domain": [
          0,
          0.2888888888888889
         ]
        },
        "xaxis14": {
         "anchor": "y14",
         "domain": [
          0.35555555555555557,
          0.6444444444444445
         ]
        },
        "xaxis15": {
         "anchor": "y15",
         "domain": [
          0.7111111111111111,
          1
         ]
        },
        "xaxis16": {
         "anchor": "y16",
         "domain": [
          0,
          0.2888888888888889
         ]
        },
        "xaxis17": {
         "anchor": "y17",
         "domain": [
          0.35555555555555557,
          0.6444444444444445
         ]
        },
        "xaxis18": {
         "anchor": "y18",
         "domain": [
          0.7111111111111111,
          1
         ]
        },
        "xaxis19": {
         "anchor": "y19",
         "domain": [
          0,
          0.2888888888888889
         ]
        },
        "xaxis2": {
         "anchor": "y2",
         "domain": [
          0.35555555555555557,
          0.6444444444444445
         ]
        },
        "xaxis20": {
         "anchor": "y20",
         "domain": [
          0.35555555555555557,
          0.6444444444444445
         ]
        },
        "xaxis21": {
         "anchor": "y21",
         "domain": [
          0.7111111111111111,
          1
         ]
        },
        "xaxis22": {
         "anchor": "y22",
         "domain": [
          0,
          0.2888888888888889
         ]
        },
        "xaxis23": {
         "anchor": "y23",
         "domain": [
          0.35555555555555557,
          0.6444444444444445
         ]
        },
        "xaxis24": {
         "anchor": "y24",
         "domain": [
          0.7111111111111111,
          1
         ]
        },
        "xaxis25": {
         "anchor": "y25",
         "domain": [
          0,
          0.2888888888888889
         ]
        },
        "xaxis26": {
         "anchor": "y26",
         "domain": [
          0.35555555555555557,
          0.6444444444444445
         ]
        },
        "xaxis27": {
         "anchor": "y27",
         "domain": [
          0.7111111111111111,
          1
         ]
        },
        "xaxis28": {
         "anchor": "y28",
         "domain": [
          0,
          0.2888888888888889
         ]
        },
        "xaxis29": {
         "anchor": "y29",
         "domain": [
          0.35555555555555557,
          0.6444444444444445
         ]
        },
        "xaxis3": {
         "anchor": "y3",
         "domain": [
          0.7111111111111111,
          1
         ]
        },
        "xaxis30": {
         "anchor": "y30",
         "domain": [
          0.7111111111111111,
          1
         ]
        },
        "xaxis31": {
         "anchor": "y31",
         "domain": [
          0,
          0.2888888888888889
         ]
        },
        "xaxis32": {
         "anchor": "y32",
         "domain": [
          0.35555555555555557,
          0.6444444444444445
         ]
        },
        "xaxis33": {
         "anchor": "y33",
         "domain": [
          0.7111111111111111,
          1
         ]
        },
        "xaxis34": {
         "anchor": "y34",
         "domain": [
          0,
          0.2888888888888889
         ]
        },
        "xaxis35": {
         "anchor": "y35",
         "domain": [
          0.35555555555555557,
          0.6444444444444445
         ]
        },
        "xaxis36": {
         "anchor": "y36",
         "domain": [
          0.7111111111111111,
          1
         ]
        },
        "xaxis37": {
         "anchor": "y37",
         "domain": [
          0,
          0.2888888888888889
         ]
        },
        "xaxis38": {
         "anchor": "y38",
         "domain": [
          0.35555555555555557,
          0.6444444444444445
         ]
        },
        "xaxis39": {
         "anchor": "y39",
         "domain": [
          0.7111111111111111,
          1
         ]
        },
        "xaxis4": {
         "anchor": "y4",
         "domain": [
          0,
          0.2888888888888889
         ]
        },
        "xaxis40": {
         "anchor": "y40",
         "domain": [
          0,
          0.2888888888888889
         ]
        },
        "xaxis41": {
         "anchor": "y41",
         "domain": [
          0.35555555555555557,
          0.6444444444444445
         ]
        },
        "xaxis42": {
         "anchor": "y42",
         "domain": [
          0.7111111111111111,
          1
         ]
        },
        "xaxis43": {
         "anchor": "y43",
         "domain": [
          0,
          0.2888888888888889
         ]
        },
        "xaxis44": {
         "anchor": "y44",
         "domain": [
          0.35555555555555557,
          0.6444444444444445
         ]
        },
        "xaxis45": {
         "anchor": "y45",
         "domain": [
          0.7111111111111111,
          1
         ]
        },
        "xaxis46": {
         "anchor": "y46",
         "domain": [
          0,
          0.2888888888888889
         ]
        },
        "xaxis47": {
         "anchor": "y47",
         "domain": [
          0.35555555555555557,
          0.6444444444444445
         ]
        },
        "xaxis48": {
         "anchor": "y48",
         "domain": [
          0.7111111111111111,
          1
         ]
        },
        "xaxis49": {
         "anchor": "y49",
         "domain": [
          0,
          0.2888888888888889
         ]
        },
        "xaxis5": {
         "anchor": "y5",
         "domain": [
          0.35555555555555557,
          0.6444444444444445
         ]
        },
        "xaxis50": {
         "anchor": "y50",
         "domain": [
          0.35555555555555557,
          0.6444444444444445
         ]
        },
        "xaxis51": {
         "anchor": "y51",
         "domain": [
          0.7111111111111111,
          1
         ]
        },
        "xaxis52": {
         "anchor": "y52",
         "domain": [
          0,
          0.2888888888888889
         ]
        },
        "xaxis53": {
         "anchor": "y53",
         "domain": [
          0.35555555555555557,
          0.6444444444444445
         ]
        },
        "xaxis54": {
         "anchor": "y54",
         "domain": [
          0.7111111111111111,
          1
         ]
        },
        "xaxis55": {
         "anchor": "y55",
         "domain": [
          0,
          0.2888888888888889
         ]
        },
        "xaxis56": {
         "anchor": "y56",
         "domain": [
          0.35555555555555557,
          0.6444444444444445
         ]
        },
        "xaxis57": {
         "anchor": "y57",
         "domain": [
          0.7111111111111111,
          1
         ]
        },
        "xaxis58": {
         "anchor": "y58",
         "domain": [
          0,
          0.2888888888888889
         ]
        },
        "xaxis59": {
         "anchor": "y59",
         "domain": [
          0.35555555555555557,
          0.6444444444444445
         ]
        },
        "xaxis6": {
         "anchor": "y6",
         "domain": [
          0.7111111111111111,
          1
         ]
        },
        "xaxis60": {
         "anchor": "y60",
         "domain": [
          0.7111111111111111,
          1
         ]
        },
        "xaxis61": {
         "anchor": "y61",
         "domain": [
          0,
          0.2888888888888889
         ]
        },
        "xaxis62": {
         "anchor": "y62",
         "domain": [
          0.35555555555555557,
          0.6444444444444445
         ]
        },
        "xaxis63": {
         "anchor": "y63",
         "domain": [
          0.7111111111111111,
          1
         ]
        },
        "xaxis64": {
         "anchor": "y64",
         "domain": [
          0,
          0.2888888888888889
         ]
        },
        "xaxis65": {
         "anchor": "y65",
         "domain": [
          0.35555555555555557,
          0.6444444444444445
         ]
        },
        "xaxis66": {
         "anchor": "y66",
         "domain": [
          0.7111111111111111,
          1
         ]
        },
        "xaxis67": {
         "anchor": "y67",
         "domain": [
          0,
          0.2888888888888889
         ]
        },
        "xaxis68": {
         "anchor": "y68",
         "domain": [
          0.35555555555555557,
          0.6444444444444445
         ]
        },
        "xaxis69": {
         "anchor": "y69",
         "domain": [
          0.7111111111111111,
          1
         ]
        },
        "xaxis7": {
         "anchor": "y7",
         "domain": [
          0,
          0.2888888888888889
         ]
        },
        "xaxis70": {
         "anchor": "y70",
         "domain": [
          0,
          0.2888888888888889
         ]
        },
        "xaxis71": {
         "anchor": "y71",
         "domain": [
          0.35555555555555557,
          0.6444444444444445
         ]
        },
        "xaxis72": {
         "anchor": "y72",
         "domain": [
          0.7111111111111111,
          1
         ]
        },
        "xaxis73": {
         "anchor": "y73",
         "domain": [
          0,
          0.2888888888888889
         ]
        },
        "xaxis74": {
         "anchor": "y74",
         "domain": [
          0.35555555555555557,
          0.6444444444444445
         ]
        },
        "xaxis75": {
         "anchor": "y75",
         "domain": [
          0.7111111111111111,
          1
         ]
        },
        "xaxis76": {
         "anchor": "y76",
         "domain": [
          0,
          0.2888888888888889
         ]
        },
        "xaxis77": {
         "anchor": "y77",
         "domain": [
          0.35555555555555557,
          0.6444444444444445
         ]
        },
        "xaxis78": {
         "anchor": "y78",
         "domain": [
          0.7111111111111111,
          1
         ]
        },
        "xaxis79": {
         "anchor": "y79",
         "domain": [
          0,
          0.2888888888888889
         ]
        },
        "xaxis8": {
         "anchor": "y8",
         "domain": [
          0.35555555555555557,
          0.6444444444444445
         ]
        },
        "xaxis80": {
         "anchor": "y80",
         "domain": [
          0.35555555555555557,
          0.6444444444444445
         ]
        },
        "xaxis81": {
         "anchor": "y81",
         "domain": [
          0.7111111111111111,
          1
         ]
        },
        "xaxis82": {
         "anchor": "y82",
         "domain": [
          0,
          0.2888888888888889
         ]
        },
        "xaxis83": {
         "anchor": "y83",
         "domain": [
          0.35555555555555557,
          0.6444444444444445
         ]
        },
        "xaxis84": {
         "anchor": "y84",
         "domain": [
          0.7111111111111111,
          1
         ]
        },
        "xaxis85": {
         "anchor": "y85",
         "domain": [
          0,
          0.2888888888888889
         ]
        },
        "xaxis86": {
         "anchor": "y86",
         "domain": [
          0.35555555555555557,
          0.6444444444444445
         ]
        },
        "xaxis87": {
         "anchor": "y87",
         "domain": [
          0.7111111111111111,
          1
         ]
        },
        "xaxis9": {
         "anchor": "y9",
         "domain": [
          0.7111111111111111,
          1
         ]
        },
        "yaxis": {
         "anchor": "x",
         "domain": [
          0.9821640903686089,
          1
         ]
        },
        "yaxis10": {
         "anchor": "x10",
         "domain": [
          0.8769322235434007,
          0.894768133174792
         ]
        },
        "yaxis11": {
         "anchor": "x11",
         "domain": [
          0.8769322235434007,
          0.894768133174792
         ]
        },
        "yaxis12": {
         "anchor": "x12",
         "domain": [
          0.8769322235434007,
          0.894768133174792
         ]
        },
        "yaxis13": {
         "anchor": "x13",
         "domain": [
          0.8418549346016647,
          0.859690844233056
         ]
        },
        "yaxis14": {
         "anchor": "x14",
         "domain": [
          0.8418549346016647,
          0.859690844233056
         ]
        },
        "yaxis15": {
         "anchor": "x15",
         "domain": [
          0.8418549346016647,
          0.859690844233056
         ]
        },
        "yaxis16": {
         "anchor": "x16",
         "domain": [
          0.8067776456599287,
          0.82461355529132
         ]
        },
        "yaxis17": {
         "anchor": "x17",
         "domain": [
          0.8067776456599287,
          0.82461355529132
         ]
        },
        "yaxis18": {
         "anchor": "x18",
         "domain": [
          0.8067776456599287,
          0.82461355529132
         ]
        },
        "yaxis19": {
         "anchor": "x19",
         "domain": [
          0.7717003567181926,
          0.7895362663495838
         ]
        },
        "yaxis2": {
         "anchor": "x2",
         "domain": [
          0.9821640903686089,
          1
         ]
        },
        "yaxis20": {
         "anchor": "x20",
         "domain": [
          0.7717003567181926,
          0.7895362663495838
         ]
        },
        "yaxis21": {
         "anchor": "x21",
         "domain": [
          0.7717003567181926,
          0.7895362663495838
         ]
        },
        "yaxis22": {
         "anchor": "x22",
         "domain": [
          0.7366230677764567,
          0.754458977407848
         ]
        },
        "yaxis23": {
         "anchor": "x23",
         "domain": [
          0.7366230677764567,
          0.754458977407848
         ]
        },
        "yaxis24": {
         "anchor": "x24",
         "domain": [
          0.7366230677764567,
          0.754458977407848
         ]
        },
        "yaxis25": {
         "anchor": "x25",
         "domain": [
          0.7015457788347206,
          0.7193816884661118
         ]
        },
        "yaxis26": {
         "anchor": "x26",
         "domain": [
          0.7015457788347206,
          0.7193816884661118
         ]
        },
        "yaxis27": {
         "anchor": "x27",
         "domain": [
          0.7015457788347206,
          0.7193816884661118
         ]
        },
        "yaxis28": {
         "anchor": "x28",
         "domain": [
          0.6664684898929846,
          0.6843043995243758
         ]
        },
        "yaxis29": {
         "anchor": "x29",
         "domain": [
          0.6664684898929846,
          0.6843043995243758
         ]
        },
        "yaxis3": {
         "anchor": "x3",
         "domain": [
          0.9821640903686089,
          1
         ]
        },
        "yaxis30": {
         "anchor": "x30",
         "domain": [
          0.6664684898929846,
          0.6843043995243758
         ]
        },
        "yaxis31": {
         "anchor": "x31",
         "domain": [
          0.6313912009512486,
          0.6492271105826398
         ]
        },
        "yaxis32": {
         "anchor": "x32",
         "domain": [
          0.6313912009512486,
          0.6492271105826398
         ]
        },
        "yaxis33": {
         "anchor": "x33",
         "domain": [
          0.6313912009512486,
          0.6492271105826398
         ]
        },
        "yaxis34": {
         "anchor": "x34",
         "domain": [
          0.5963139120095124,
          0.6141498216409037
         ]
        },
        "yaxis35": {
         "anchor": "x35",
         "domain": [
          0.5963139120095124,
          0.6141498216409037
         ]
        },
        "yaxis36": {
         "anchor": "x36",
         "domain": [
          0.5963139120095124,
          0.6141498216409037
         ]
        },
        "yaxis37": {
         "anchor": "x37",
         "domain": [
          0.5612366230677766,
          0.5790725326991678
         ]
        },
        "yaxis38": {
         "anchor": "x38",
         "domain": [
          0.5612366230677766,
          0.5790725326991678
         ]
        },
        "yaxis39": {
         "anchor": "x39",
         "domain": [
          0.5612366230677766,
          0.5790725326991678
         ]
        },
        "yaxis4": {
         "anchor": "x4",
         "domain": [
          0.9470868014268727,
          0.964922711058264
         ]
        },
        "yaxis40": {
         "anchor": "x40",
         "domain": [
          0.5261593341260404,
          0.5439952437574317
         ]
        },
        "yaxis41": {
         "anchor": "x41",
         "domain": [
          0.5261593341260404,
          0.5439952437574317
         ]
        },
        "yaxis42": {
         "anchor": "x42",
         "domain": [
          0.5261593341260404,
          0.5439952437574317
         ]
        },
        "yaxis43": {
         "anchor": "x43",
         "domain": [
          0.4910820451843044,
          0.5089179548156957
         ]
        },
        "yaxis44": {
         "anchor": "x44",
         "domain": [
          0.4910820451843044,
          0.5089179548156957
         ]
        },
        "yaxis45": {
         "anchor": "x45",
         "domain": [
          0.4910820451843044,
          0.5089179548156957
         ]
        },
        "yaxis46": {
         "anchor": "x46",
         "domain": [
          0.4560047562425684,
          0.4738406658739596
         ]
        },
        "yaxis47": {
         "anchor": "x47",
         "domain": [
          0.4560047562425684,
          0.4738406658739596
         ]
        },
        "yaxis48": {
         "anchor": "x48",
         "domain": [
          0.4560047562425684,
          0.4738406658739596
         ]
        },
        "yaxis49": {
         "anchor": "x49",
         "domain": [
          0.42092746730083236,
          0.43876337693222356
         ]
        },
        "yaxis5": {
         "anchor": "x5",
         "domain": [
          0.9470868014268727,
          0.964922711058264
         ]
        },
        "yaxis50": {
         "anchor": "x50",
         "domain": [
          0.42092746730083236,
          0.43876337693222356
         ]
        },
        "yaxis51": {
         "anchor": "x51",
         "domain": [
          0.42092746730083236,
          0.43876337693222356
         ]
        },
        "yaxis52": {
         "anchor": "x52",
         "domain": [
          0.3858501783590963,
          0.4036860879904875
         ]
        },
        "yaxis53": {
         "anchor": "x53",
         "domain": [
          0.3858501783590963,
          0.4036860879904875
         ]
        },
        "yaxis54": {
         "anchor": "x54",
         "domain": [
          0.3858501783590963,
          0.4036860879904875
         ]
        },
        "yaxis55": {
         "anchor": "x55",
         "domain": [
          0.3507728894173603,
          0.3686087990487515
         ]
        },
        "yaxis56": {
         "anchor": "x56",
         "domain": [
          0.3507728894173603,
          0.3686087990487515
         ]
        },
        "yaxis57": {
         "anchor": "x57",
         "domain": [
          0.3507728894173603,
          0.3686087990487515
         ]
        },
        "yaxis58": {
         "anchor": "x58",
         "domain": [
          0.3156956004756243,
          0.3335315101070155
         ]
        },
        "yaxis59": {
         "anchor": "x59",
         "domain": [
          0.3156956004756243,
          0.3335315101070155
         ]
        },
        "yaxis6": {
         "anchor": "x6",
         "domain": [
          0.9470868014268727,
          0.964922711058264
         ]
        },
        "yaxis60": {
         "anchor": "x60",
         "domain": [
          0.3156956004756243,
          0.3335315101070155
         ]
        },
        "yaxis61": {
         "anchor": "x61",
         "domain": [
          0.2806183115338883,
          0.2984542211652795
         ]
        },
        "yaxis62": {
         "anchor": "x62",
         "domain": [
          0.2806183115338883,
          0.2984542211652795
         ]
        },
        "yaxis63": {
         "anchor": "x63",
         "domain": [
          0.2806183115338883,
          0.2984542211652795
         ]
        },
        "yaxis64": {
         "anchor": "x64",
         "domain": [
          0.2455410225921522,
          0.2633769322235434
         ]
        },
        "yaxis65": {
         "anchor": "x65",
         "domain": [
          0.2455410225921522,
          0.2633769322235434
         ]
        },
        "yaxis66": {
         "anchor": "x66",
         "domain": [
          0.2455410225921522,
          0.2633769322235434
         ]
        },
        "yaxis67": {
         "anchor": "x67",
         "domain": [
          0.21046373365041618,
          0.22829964328180738
         ]
        },
        "yaxis68": {
         "anchor": "x68",
         "domain": [
          0.21046373365041618,
          0.22829964328180738
         ]
        },
        "yaxis69": {
         "anchor": "x69",
         "domain": [
          0.21046373365041618,
          0.22829964328180738
         ]
        },
        "yaxis7": {
         "anchor": "x7",
         "domain": [
          0.9120095124851368,
          0.9298454221165281
         ]
        },
        "yaxis70": {
         "anchor": "x70",
         "domain": [
          0.17538644470868014,
          0.19322235434007135
         ]
        },
        "yaxis71": {
         "anchor": "x71",
         "domain": [
          0.17538644470868014,
          0.19322235434007135
         ]
        },
        "yaxis72": {
         "anchor": "x72",
         "domain": [
          0.17538644470868014,
          0.19322235434007135
         ]
        },
        "yaxis73": {
         "anchor": "x73",
         "domain": [
          0.14030915576694414,
          0.15814506539833534
         ]
        },
        "yaxis74": {
         "anchor": "x74",
         "domain": [
          0.14030915576694414,
          0.15814506539833534
         ]
        },
        "yaxis75": {
         "anchor": "x75",
         "domain": [
          0.14030915576694414,
          0.15814506539833534
         ]
        },
        "yaxis76": {
         "anchor": "x76",
         "domain": [
          0.1052318668252081,
          0.1230677764565993
         ]
        },
        "yaxis77": {
         "anchor": "x77",
         "domain": [
          0.1052318668252081,
          0.1230677764565993
         ]
        },
        "yaxis78": {
         "anchor": "x78",
         "domain": [
          0.1052318668252081,
          0.1230677764565993
         ]
        },
        "yaxis79": {
         "anchor": "x79",
         "domain": [
          0.07015457788347207,
          0.08799048751486327
         ]
        },
        "yaxis8": {
         "anchor": "x8",
         "domain": [
          0.9120095124851368,
          0.9298454221165281
         ]
        },
        "yaxis80": {
         "anchor": "x80",
         "domain": [
          0.07015457788347207,
          0.08799048751486327
         ]
        },
        "yaxis81": {
         "anchor": "x81",
         "domain": [
          0.07015457788347207,
          0.08799048751486327
         ]
        },
        "yaxis82": {
         "anchor": "x82",
         "domain": [
          0.035077288941736035,
          0.052913198573127235
         ]
        },
        "yaxis83": {
         "anchor": "x83",
         "domain": [
          0.035077288941736035,
          0.052913198573127235
         ]
        },
        "yaxis84": {
         "anchor": "x84",
         "domain": [
          0.035077288941736035,
          0.052913198573127235
         ]
        },
        "yaxis85": {
         "anchor": "x85",
         "domain": [
          0,
          0.017835909631391204
         ]
        },
        "yaxis86": {
         "anchor": "x86",
         "domain": [
          0,
          0.017835909631391204
         ]
        },
        "yaxis87": {
         "anchor": "x87",
         "domain": [
          0,
          0.017835909631391204
         ]
        },
        "yaxis9": {
         "anchor": "x9",
         "domain": [
          0.9120095124851368,
          0.9298454221165281
         ]
        }
       }
      }
     },
     "metadata": {},
     "output_type": "display_data"
    }
   ],
   "source": [
    "num_columns = len(df_macroeconomic_book)\n",
    "num_rows = (num_columns + 2) // 2\n",
    "\n",
    "subplot_titles = [str(col) for col in df_macroeconomic_book]\n",
    "\n",
    "fig = sp.make_subplots(rows=num_rows, cols=3, subplot_titles=subplot_titles)\n",
    "\n",
    "for i, column in enumerate(df_macroeconomic_book, start=1):\n",
    "    row = (i - 1) // 3 + 1\n",
    "    col = (i - 1) % 3 + 1\n",
    "\n",
    "    trace = go.Box(y=df_macroeconomic_book[column], name=column, \n",
    "                   marker_color='lightseagreen', boxpoints='outliers', \n",
    "                   jitter=0.7, hoverinfo='y+text', \n",
    "                   text=())\n",
    "\n",
    "    fig.add_trace(trace, row=row, col=col)\n",
    "\n",
    "fig.update_layout(title_text='Boxplot of Numerical Variables', height=300*num_rows, showlegend=False, template='plotly_dark')\n",
    "fig.show()"
   ]
  },
  {
   "cell_type": "markdown",
   "metadata": {},
   "source": []
  },
  {
   "cell_type": "markdown",
   "metadata": {},
   "source": [
    "### Histogram"
   ]
  },
  {
   "cell_type": "code",
   "execution_count": 8,
   "metadata": {},
   "outputs": [
    {
     "data": {
      "application/vnd.plotly.v1+json": {
       "config": {
        "plotlyServerURL": "https://plot.ly"
       },
       "data": [
        {
         "marker": {
          "color": "lightseagreen"
         },
         "name": "date",
         "type": "histogram",
         "x": [
          "2019-01-31",
          "2019-02-28",
          "2019-03-31",
          "2019-04-30",
          "2019-05-31",
          "2019-06-30",
          "2019-07-31",
          "2019-08-31",
          "2019-09-30",
          "2019-10-31",
          "2019-11-30",
          "2019-12-31",
          "2020-01-31",
          "2020-02-29",
          "2020-03-31",
          "2020-04-30",
          "2020-05-31",
          "2020-06-30",
          "2020-07-31",
          "2020-08-31",
          "2020-09-30",
          "2020-10-31",
          "2020-11-30",
          "2020-12-31",
          "2021-01-31",
          "2021-02-28",
          "2021-03-31",
          "2021-04-30",
          "2021-05-31",
          "2021-06-30",
          "2021-07-31",
          "2021-08-31",
          "2021-09-30",
          "2021-10-31",
          "2021-11-30",
          "2021-12-31",
          "2022-01-31",
          "2022-02-28",
          "2022-03-31",
          "2022-04-30",
          "2022-05-31",
          "2022-06-30",
          "2022-07-31",
          "2022-08-31",
          "2022-09-30",
          "2022-10-31",
          "2022-11-30",
          "2022-12-31",
          "2023-01-31",
          "2023-02-28",
          "2023-03-31",
          "2023-04-30",
          "2023-05-31",
          "2023-06-30",
          "2023-07-31",
          "2023-08-31"
         ],
         "xaxis": "x",
         "yaxis": "y"
        },
        {
         "marker": {
          "color": "lightseagreen"
         },
         "name": "selic",
         "type": "histogram",
         "x": [
          6.5,
          6.5,
          6.5,
          6.5,
          6.5,
          6.5,
          6.5,
          6,
          5.5,
          5,
          5,
          4.5,
          4.5,
          4.25,
          3.75,
          3.75,
          3,
          2.25,
          2.25,
          2,
          2,
          2,
          2,
          2,
          2,
          2,
          2.75,
          2.75,
          3.5,
          4.25,
          4.25,
          5.25,
          6.25,
          7.75,
          7.75,
          9.25,
          9.25,
          10.75,
          11.75,
          11.75,
          12.75,
          13.25,
          13.25,
          13.75,
          13.75,
          13.75,
          13.75,
          13.75,
          13.75,
          13.75,
          13.75,
          13.75,
          13.75,
          13.75,
          13.75,
          13.25
         ],
         "xaxis": "x2",
         "yaxis": "y2"
        },
        {
         "marker": {
          "color": "lightseagreen"
         },
         "name": "confidence",
         "type": "histogram",
         "x": [
          128.64,
          139.39,
          125.53,
          121.71,
          117.01,
          107.38,
          110.92,
          114.58,
          112.19,
          111.82,
          118.64,
          121.26,
          121.27,
          131.79,
          124.58,
          111.97,
          96.82,
          100.43,
          102.84,
          102.62,
          108.36,
          107.61,
          111.65,
          111.71,
          116.09,
          116.23,
          112.9,
          104.95,
          105.9,
          107.32,
          110.98,
          111.99,
          114.66,
          109.37,
          109.35,
          112,
          108.35,
          104.05,
          105.12,
          104.35,
          105.87,
          103.6,
          105.58,
          106.76,
          111.46,
          114.23,
          116.79,
          122.84,
          125.38,
          128.78,
          127.42,
          125.1,
          122.22,
          125.27,
          124.46,
          131.02
         ],
         "xaxis": "x3",
         "yaxis": "y3"
        },
        {
         "marker": {
          "color": "lightseagreen"
         },
         "name": "pib",
         "type": "histogram",
         "x": [
          578214.5,
          576089.7,
          601749.8,
          612918.4,
          615304.9,
          596919.2,
          631911.8,
          629532.3,
          619104.3,
          650359.4,
          639124.2,
          637902.4,
          615542.8,
          620048.3,
          637806.9,
          569278.8,
          579341.2,
          608897.5,
          645168,
          637698.5,
          646836.2,
          670157,
          676213.4,
          702608.4,
          677312.8,
          706456.2,
          768852.8,
          733617.9,
          724321,
          724110,
          754427.1,
          753685.9,
          746379.5,
          755392.8,
          771540.1,
          782631.4,
          722828.3,
          754068.3,
          838811.9,
          819757.1,
          826054.6,
          826025.7,
          852909.9,
          854027.1,
          836707.8,
          856445.6,
          859752.7,
          867927.4,
          804202.3,
          824738.6,
          927590.5,
          886228.9,
          884231,
          880696.5,
          909582.5,
          912895.5
         ],
         "xaxis": "x4",
         "yaxis": "y4"
        },
        {
         "marker": {
          "color": "lightseagreen"
         },
         "name": "incc",
         "type": "histogram",
         "x": [
          0.49,
          0.09,
          0.31,
          0.38,
          0.03,
          0.88,
          0.58,
          0.42,
          0.46,
          0.18,
          0.04,
          0.21,
          0.38,
          0.33,
          0.26,
          0.22,
          0.2,
          0.34,
          1.17,
          0.72,
          1.16,
          1.73,
          1.28,
          0.7,
          0.89,
          1.89,
          1.3,
          0.9,
          2.22,
          2.16,
          0.85,
          0.46,
          0.51,
          0.86,
          0.67,
          0.35,
          0.71,
          0.38,
          0.86,
          0.95,
          2.28,
          2.14,
          0.86,
          0.09,
          0.09,
          0.12,
          0.36,
          0.09,
          0.46,
          0.05,
          0.3,
          0.14,
          0.59,
          0.71,
          0.1,
          0.17
         ],
         "xaxis": "x5",
         "yaxis": "y5"
        },
        {
         "marker": {
          "color": "lightseagreen"
         },
         "name": "ipca",
         "type": "histogram",
         "x": [
          3.78,
          3.89,
          4.58,
          4.94,
          4.66,
          3.37,
          3.22,
          3.43,
          2.89,
          2.54,
          3.27,
          4.31,
          4.19,
          4.01,
          3.3,
          2.4,
          1.88,
          2.13,
          2.31,
          2.44,
          3.14,
          3.92,
          4.31,
          4.52,
          4.56,
          5.2,
          6.1,
          6.76,
          8.06,
          8.35,
          8.99,
          9.68,
          10.25,
          10.67,
          10.74,
          10.06,
          10.38,
          10.54,
          11.3,
          12.13,
          11.73,
          11.89,
          10.07,
          8.73,
          7.17,
          6.47,
          5.9,
          5.79,
          5.77,
          5.6,
          4.65,
          4.18,
          3.94,
          3.16,
          3.99,
          4.61
         ],
         "xaxis": "x6",
         "yaxis": "y6"
        },
        {
         "marker": {
          "color": "lightseagreen"
         },
         "name": "dolar",
         "type": "histogram",
         "x": [
          3.6513,
          3.7379,
          3.8961,
          3.9447,
          3.9401,
          3.8316,
          3.7643,
          4.1379,
          4.1638,
          4.0035,
          4.2234,
          4.0301,
          4.2689,
          4.4981,
          5.1981,
          5.4264,
          5.4257,
          5.4754,
          5.2027,
          5.4707,
          5.6401,
          5.7712,
          5.3311,
          5.1961,
          5.4753,
          5.5296,
          5.6967,
          5.403,
          5.2316,
          5.0016,
          5.121,
          5.1427,
          5.4388,
          5.6424,
          5.6193,
          5.5799,
          5.3568,
          5.1388,
          4.7372,
          4.9185,
          4.7283,
          5.2374,
          5.1878,
          5.1784,
          5.406,
          5.2564,
          5.2935,
          5.2171,
          5.0987,
          5.2072,
          5.0798,
          5.0001,
          5.0953,
          4.8186,
          4.7409,
          4.9213
         ],
         "xaxis": "x7",
         "yaxis": "y7"
        },
        {
         "marker": {
          "color": "lightseagreen"
         },
         "name": "monthly_inflation",
         "type": "histogram",
         "x": [
          -0.1119479105194651,
          0.0291005291005292,
          0.1773778920308484,
          0.0786026200873362,
          -0.0566801619433199,
          -0.276824034334764,
          -0.0445103857566765,
          0.0652173913043479,
          -0.1574344023323615,
          -0.1211072664359862,
          0.2874015748031495,
          0.3180428134556574,
          -0.02784222737819,
          -0.0429594272076373,
          -0.1770573566084787,
          -0.2727272727272727,
          -0.2166666666666666,
          0.1329787234042554,
          0.0845070422535212,
          0.0562770562770562,
          0.2868852459016393,
          0.2484076433121018,
          0.0994897959183673,
          0.0487238979118329,
          0.0088495575221239,
          0.1403508771929826,
          0.1730769230769229,
          0.1081967213114754,
          0.1923076923076925,
          0.0359801488833746,
          0.0766467065868263,
          0.0767519466073414,
          0.0588842975206611,
          0.0409756097560976,
          0.0065604498594189,
          -0.063314711359404,
          0.0318091451292246,
          0.0154142581888245,
          0.0721062618595826,
          0.0734513274336283,
          -0.0329760923330585,
          0.0136402387041774,
          -0.1530698065601345,
          -0.1330685203574975,
          -0.1786941580756014,
          -0.097629009762901,
          -0.088098918083462,
          -0.0186440677966102,
          -0.003454231433506,
          -0.0294627383015597,
          -0.1696428571428569,
          -0.1010752688172044,
          -0.0574162679425837,
          -0.197969543147208,
          0.2626582278481013,
          0.1553884711779449
         ],
         "xaxis": "x8",
         "yaxis": "y8"
        },
        {
         "marker": {
          "color": "lightseagreen"
         },
         "name": "gdp_growth",
         "type": "histogram",
         "x": [
          -0.0157562364676189,
          -0.0036747608370251,
          0.0445418482573114,
          0.0185602055871061,
          0.0038936667589029,
          -0.0298806331625184,
          0.0586220044521941,
          -0.0037655571552865,
          -0.0165646782539989,
          0.0504843852643246,
          -0.0172753711255654,
          -0.0019116785125644,
          -0.0350517571340066,
          0.007319556008128,
          0.0286406720250664,
          -0.1074433343383396,
          0.0176756977424767,
          0.0510170863042367,
          0.059567496992515,
          -0.0115776045929122,
          0.0143291853438576,
          0.0360536407826279,
          0.0090372852928493,
          0.0390335358630871,
          -0.0360024161396305,
          0.0430279776197939,
          0.0883233808408789,
          -0.0458278879910433,
          -0.012672673335806,
          -0.0002913073071193,
          0.041868086340473,
          -0.0009824673583437,
          -0.0096942240792882,
          0.0120760283475096,
          0.0213760311191739,
          0.0143755327817698,
          -0.0764128554003839,
          0.0432191157983161,
          0.1123818624917663,
          -0.022716415921138,
          0.0076821536525881,
          -0.0000349855808563504,
          0.0325464449834915,
          0.0013098687211861,
          -0.0202795672408989,
          0.0235898362606394,
          0.0038614244734282,
          0.0095081992763734,
          -0.0734221548945223,
          0.0255362363425222,
          0.1247084833909799,
          -0.04459036611522,
          -0.0022543837150876,
          -0.0039972586349041,
          0.0327990403050313,
          0.0036423304098309
         ],
         "xaxis": "x9",
         "yaxis": "y9"
        },
        {
         "marker": {
          "color": "lightseagreen"
         },
         "name": "dollar_growth",
         "type": "histogram",
         "x": [
          0.016458866470465,
          0.0237175800399858,
          0.0423232296209101,
          0.0124740124740123,
          -0.0011661216315562,
          -0.027537372147915,
          -0.0175644639315167,
          0.0992482001965837,
          0.0062592136107688,
          -0.0384984869590279,
          0.0549269389284376,
          -0.0457688118577449,
          0.0592541128011712,
          0.0536906463023261,
          0.1556212623107535,
          0.0439198938073526,
          -0.0001289989680083,
          0.0091601083731129,
          -0.0498045804872702,
          0.0515117150710207,
          0.0309649587804121,
          0.0232442687186398,
          -0.0762579706126975,
          -0.0253231040498208,
          0.0537326071476682,
          0.0099172648074079,
          0.0302191840277776,
          -0.0515561640950024,
          -0.03172311678697,
          -0.0439636057802584,
          0.0238723608445299,
          0.0042374536223392,
          0.0575767592898672,
          0.0374347282488785,
          -0.0040940025521055,
          -0.007011549481252,
          -0.0399827953905984,
          -0.0406959378733572,
          -0.0781505409823305,
          0.0382715528160095,
          -0.0386703263189996,
          0.1076708330689677,
          -0.009470347882537,
          -0.0018119434056825,
          0.0439517997837168,
          -0.0276729559748426,
          0.0070580625523171,
          -0.014432794937187,
          -0.0226946004485251,
          0.0212799341008493,
          -0.0244661238285451,
          -0.015689594078507,
          0.0190396192076158,
          -0.054304947696897,
          -0.0161250155646868,
          0.0380518466957751
         ],
         "xaxis": "x10",
         "yaxis": "y10"
        },
        {
         "marker": {
          "color": "lightseagreen"
         },
         "name": "real_interest_rate",
         "type": "histogram",
         "x": [
          2.72,
          2.61,
          1.92,
          1.5599999999999996,
          1.84,
          3.13,
          3.28,
          2.57,
          2.61,
          2.46,
          1.73,
          0.1900000000000004,
          0.3099999999999996,
          0.2400000000000002,
          0.4500000000000002,
          1.35,
          1.12,
          0.1200000000000001,
          -0.06,
          -0.4399999999999999,
          -1.14,
          -1.92,
          -2.31,
          -2.52,
          -2.56,
          -3.2,
          -3.35,
          -4.01,
          -4.5600000000000005,
          -4.1,
          -4.74,
          -4.43,
          -4,
          -2.92,
          -2.99,
          -0.8100000000000005,
          -1.1300000000000008,
          0.2100000000000008,
          0.4499999999999993,
          -0.3800000000000008,
          1.0199999999999996,
          1.3599999999999994,
          3.18,
          5.02,
          6.58,
          7.28,
          7.85,
          7.96,
          7.98,
          8.15,
          9.1,
          9.57,
          9.81,
          10.59,
          9.76,
          8.64
         ],
         "xaxis": "x11",
         "yaxis": "y11"
        },
        {
         "marker": {
          "color": "lightseagreen"
         },
         "name": "inflation_confidence_difference",
         "type": "histogram",
         "x": [
          -124.86,
          -135.5,
          -120.95,
          -116.77,
          -112.35,
          -104.01,
          -107.7,
          -111.15,
          -109.3,
          -109.28,
          -115.37,
          -116.95,
          -117.08,
          -127.78,
          -121.28,
          -109.57,
          -94.94,
          -98.3,
          -100.53,
          -100.18,
          -105.22,
          -103.69,
          -107.34,
          -107.19,
          -111.53,
          -111.03,
          -106.8,
          -98.19,
          -97.84,
          -98.97,
          -101.99,
          -102.31,
          -104.41,
          -98.7,
          -98.61,
          -101.94,
          -97.97,
          -93.51,
          -93.82,
          -92.22,
          -94.14,
          -91.71,
          -95.51,
          -98.03,
          -104.29,
          -107.76,
          -110.89,
          -117.05,
          -119.61,
          -123.18,
          -122.77,
          -120.92,
          -118.28,
          -122.11,
          -120.47,
          -126.41
         ],
         "xaxis": "x12",
         "yaxis": "y12"
        }
       ],
       "layout": {
        "annotations": [
         {
          "font": {
           "size": 16
          },
          "showarrow": false,
          "text": "date",
          "x": 0.14444444444444446,
          "xanchor": "center",
          "xref": "paper",
          "y": 1,
          "yanchor": "bottom",
          "yref": "paper"
         },
         {
          "font": {
           "size": 16
          },
          "showarrow": false,
          "text": "selic",
          "x": 0.5,
          "xanchor": "center",
          "xref": "paper",
          "y": 1,
          "yanchor": "bottom",
          "yref": "paper"
         },
         {
          "font": {
           "size": 16
          },
          "showarrow": false,
          "text": "confidence",
          "x": 0.8555555555555556,
          "xanchor": "center",
          "xref": "paper",
          "y": 1,
          "yanchor": "bottom",
          "yref": "paper"
         },
         {
          "font": {
           "size": 16
          },
          "showarrow": false,
          "text": "pib",
          "x": 0.14444444444444446,
          "xanchor": "center",
          "xref": "paper",
          "y": 0.9459833795013851,
          "yanchor": "bottom",
          "yref": "paper"
         },
         {
          "font": {
           "size": 16
          },
          "showarrow": false,
          "text": "incc",
          "x": 0.5,
          "xanchor": "center",
          "xref": "paper",
          "y": 0.9459833795013851,
          "yanchor": "bottom",
          "yref": "paper"
         },
         {
          "font": {
           "size": 16
          },
          "showarrow": false,
          "text": "ipca",
          "x": 0.8555555555555556,
          "xanchor": "center",
          "xref": "paper",
          "y": 0.9459833795013851,
          "yanchor": "bottom",
          "yref": "paper"
         },
         {
          "font": {
           "size": 16
          },
          "showarrow": false,
          "text": "dolar",
          "x": 0.14444444444444446,
          "xanchor": "center",
          "xref": "paper",
          "y": 0.8919667590027702,
          "yanchor": "bottom",
          "yref": "paper"
         },
         {
          "font": {
           "size": 16
          },
          "showarrow": false,
          "text": "monthly_inflation",
          "x": 0.5,
          "xanchor": "center",
          "xref": "paper",
          "y": 0.8919667590027702,
          "yanchor": "bottom",
          "yref": "paper"
         },
         {
          "font": {
           "size": 16
          },
          "showarrow": false,
          "text": "gdp_growth",
          "x": 0.8555555555555556,
          "xanchor": "center",
          "xref": "paper",
          "y": 0.8919667590027702,
          "yanchor": "bottom",
          "yref": "paper"
         },
         {
          "font": {
           "size": 16
          },
          "showarrow": false,
          "text": "dollar_growth",
          "x": 0.14444444444444446,
          "xanchor": "center",
          "xref": "paper",
          "y": 0.8379501385041552,
          "yanchor": "bottom",
          "yref": "paper"
         },
         {
          "font": {
           "size": 16
          },
          "showarrow": false,
          "text": "real_interest_rate",
          "x": 0.5,
          "xanchor": "center",
          "xref": "paper",
          "y": 0.8379501385041552,
          "yanchor": "bottom",
          "yref": "paper"
         },
         {
          "font": {
           "size": 16
          },
          "showarrow": false,
          "text": "inflation_confidence_difference",
          "x": 0.8555555555555556,
          "xanchor": "center",
          "xref": "paper",
          "y": 0.8379501385041552,
          "yanchor": "bottom",
          "yref": "paper"
         }
        ],
        "height": 5700,
        "showlegend": false,
        "template": {
         "data": {
          "bar": [
           {
            "error_x": {
             "color": "#f2f5fa"
            },
            "error_y": {
             "color": "#f2f5fa"
            },
            "marker": {
             "line": {
              "color": "rgb(17,17,17)",
              "width": 0.5
             },
             "pattern": {
              "fillmode": "overlay",
              "size": 10,
              "solidity": 0.2
             }
            },
            "type": "bar"
           }
          ],
          "barpolar": [
           {
            "marker": {
             "line": {
              "color": "rgb(17,17,17)",
              "width": 0.5
             },
             "pattern": {
              "fillmode": "overlay",
              "size": 10,
              "solidity": 0.2
             }
            },
            "type": "barpolar"
           }
          ],
          "carpet": [
           {
            "aaxis": {
             "endlinecolor": "#A2B1C6",
             "gridcolor": "#506784",
             "linecolor": "#506784",
             "minorgridcolor": "#506784",
             "startlinecolor": "#A2B1C6"
            },
            "baxis": {
             "endlinecolor": "#A2B1C6",
             "gridcolor": "#506784",
             "linecolor": "#506784",
             "minorgridcolor": "#506784",
             "startlinecolor": "#A2B1C6"
            },
            "type": "carpet"
           }
          ],
          "choropleth": [
           {
            "colorbar": {
             "outlinewidth": 0,
             "ticks": ""
            },
            "type": "choropleth"
           }
          ],
          "contour": [
           {
            "colorbar": {
             "outlinewidth": 0,
             "ticks": ""
            },
            "colorscale": [
             [
              0,
              "#0d0887"
             ],
             [
              0.1111111111111111,
              "#46039f"
             ],
             [
              0.2222222222222222,
              "#7201a8"
             ],
             [
              0.3333333333333333,
              "#9c179e"
             ],
             [
              0.4444444444444444,
              "#bd3786"
             ],
             [
              0.5555555555555556,
              "#d8576b"
             ],
             [
              0.6666666666666666,
              "#ed7953"
             ],
             [
              0.7777777777777778,
              "#fb9f3a"
             ],
             [
              0.8888888888888888,
              "#fdca26"
             ],
             [
              1,
              "#f0f921"
             ]
            ],
            "type": "contour"
           }
          ],
          "contourcarpet": [
           {
            "colorbar": {
             "outlinewidth": 0,
             "ticks": ""
            },
            "type": "contourcarpet"
           }
          ],
          "heatmap": [
           {
            "colorbar": {
             "outlinewidth": 0,
             "ticks": ""
            },
            "colorscale": [
             [
              0,
              "#0d0887"
             ],
             [
              0.1111111111111111,
              "#46039f"
             ],
             [
              0.2222222222222222,
              "#7201a8"
             ],
             [
              0.3333333333333333,
              "#9c179e"
             ],
             [
              0.4444444444444444,
              "#bd3786"
             ],
             [
              0.5555555555555556,
              "#d8576b"
             ],
             [
              0.6666666666666666,
              "#ed7953"
             ],
             [
              0.7777777777777778,
              "#fb9f3a"
             ],
             [
              0.8888888888888888,
              "#fdca26"
             ],
             [
              1,
              "#f0f921"
             ]
            ],
            "type": "heatmap"
           }
          ],
          "heatmapgl": [
           {
            "colorbar": {
             "outlinewidth": 0,
             "ticks": ""
            },
            "colorscale": [
             [
              0,
              "#0d0887"
             ],
             [
              0.1111111111111111,
              "#46039f"
             ],
             [
              0.2222222222222222,
              "#7201a8"
             ],
             [
              0.3333333333333333,
              "#9c179e"
             ],
             [
              0.4444444444444444,
              "#bd3786"
             ],
             [
              0.5555555555555556,
              "#d8576b"
             ],
             [
              0.6666666666666666,
              "#ed7953"
             ],
             [
              0.7777777777777778,
              "#fb9f3a"
             ],
             [
              0.8888888888888888,
              "#fdca26"
             ],
             [
              1,
              "#f0f921"
             ]
            ],
            "type": "heatmapgl"
           }
          ],
          "histogram": [
           {
            "marker": {
             "pattern": {
              "fillmode": "overlay",
              "size": 10,
              "solidity": 0.2
             }
            },
            "type": "histogram"
           }
          ],
          "histogram2d": [
           {
            "colorbar": {
             "outlinewidth": 0,
             "ticks": ""
            },
            "colorscale": [
             [
              0,
              "#0d0887"
             ],
             [
              0.1111111111111111,
              "#46039f"
             ],
             [
              0.2222222222222222,
              "#7201a8"
             ],
             [
              0.3333333333333333,
              "#9c179e"
             ],
             [
              0.4444444444444444,
              "#bd3786"
             ],
             [
              0.5555555555555556,
              "#d8576b"
             ],
             [
              0.6666666666666666,
              "#ed7953"
             ],
             [
              0.7777777777777778,
              "#fb9f3a"
             ],
             [
              0.8888888888888888,
              "#fdca26"
             ],
             [
              1,
              "#f0f921"
             ]
            ],
            "type": "histogram2d"
           }
          ],
          "histogram2dcontour": [
           {
            "colorbar": {
             "outlinewidth": 0,
             "ticks": ""
            },
            "colorscale": [
             [
              0,
              "#0d0887"
             ],
             [
              0.1111111111111111,
              "#46039f"
             ],
             [
              0.2222222222222222,
              "#7201a8"
             ],
             [
              0.3333333333333333,
              "#9c179e"
             ],
             [
              0.4444444444444444,
              "#bd3786"
             ],
             [
              0.5555555555555556,
              "#d8576b"
             ],
             [
              0.6666666666666666,
              "#ed7953"
             ],
             [
              0.7777777777777778,
              "#fb9f3a"
             ],
             [
              0.8888888888888888,
              "#fdca26"
             ],
             [
              1,
              "#f0f921"
             ]
            ],
            "type": "histogram2dcontour"
           }
          ],
          "mesh3d": [
           {
            "colorbar": {
             "outlinewidth": 0,
             "ticks": ""
            },
            "type": "mesh3d"
           }
          ],
          "parcoords": [
           {
            "line": {
             "colorbar": {
              "outlinewidth": 0,
              "ticks": ""
             }
            },
            "type": "parcoords"
           }
          ],
          "pie": [
           {
            "automargin": true,
            "type": "pie"
           }
          ],
          "scatter": [
           {
            "marker": {
             "line": {
              "color": "#283442"
             }
            },
            "type": "scatter"
           }
          ],
          "scatter3d": [
           {
            "line": {
             "colorbar": {
              "outlinewidth": 0,
              "ticks": ""
             }
            },
            "marker": {
             "colorbar": {
              "outlinewidth": 0,
              "ticks": ""
             }
            },
            "type": "scatter3d"
           }
          ],
          "scattercarpet": [
           {
            "marker": {
             "colorbar": {
              "outlinewidth": 0,
              "ticks": ""
             }
            },
            "type": "scattercarpet"
           }
          ],
          "scattergeo": [
           {
            "marker": {
             "colorbar": {
              "outlinewidth": 0,
              "ticks": ""
             }
            },
            "type": "scattergeo"
           }
          ],
          "scattergl": [
           {
            "marker": {
             "line": {
              "color": "#283442"
             }
            },
            "type": "scattergl"
           }
          ],
          "scattermapbox": [
           {
            "marker": {
             "colorbar": {
              "outlinewidth": 0,
              "ticks": ""
             }
            },
            "type": "scattermapbox"
           }
          ],
          "scatterpolar": [
           {
            "marker": {
             "colorbar": {
              "outlinewidth": 0,
              "ticks": ""
             }
            },
            "type": "scatterpolar"
           }
          ],
          "scatterpolargl": [
           {
            "marker": {
             "colorbar": {
              "outlinewidth": 0,
              "ticks": ""
             }
            },
            "type": "scatterpolargl"
           }
          ],
          "scatterternary": [
           {
            "marker": {
             "colorbar": {
              "outlinewidth": 0,
              "ticks": ""
             }
            },
            "type": "scatterternary"
           }
          ],
          "surface": [
           {
            "colorbar": {
             "outlinewidth": 0,
             "ticks": ""
            },
            "colorscale": [
             [
              0,
              "#0d0887"
             ],
             [
              0.1111111111111111,
              "#46039f"
             ],
             [
              0.2222222222222222,
              "#7201a8"
             ],
             [
              0.3333333333333333,
              "#9c179e"
             ],
             [
              0.4444444444444444,
              "#bd3786"
             ],
             [
              0.5555555555555556,
              "#d8576b"
             ],
             [
              0.6666666666666666,
              "#ed7953"
             ],
             [
              0.7777777777777778,
              "#fb9f3a"
             ],
             [
              0.8888888888888888,
              "#fdca26"
             ],
             [
              1,
              "#f0f921"
             ]
            ],
            "type": "surface"
           }
          ],
          "table": [
           {
            "cells": {
             "fill": {
              "color": "#506784"
             },
             "line": {
              "color": "rgb(17,17,17)"
             }
            },
            "header": {
             "fill": {
              "color": "#2a3f5f"
             },
             "line": {
              "color": "rgb(17,17,17)"
             }
            },
            "type": "table"
           }
          ]
         },
         "layout": {
          "annotationdefaults": {
           "arrowcolor": "#f2f5fa",
           "arrowhead": 0,
           "arrowwidth": 1
          },
          "autotypenumbers": "strict",
          "coloraxis": {
           "colorbar": {
            "outlinewidth": 0,
            "ticks": ""
           }
          },
          "colorscale": {
           "diverging": [
            [
             0,
             "#8e0152"
            ],
            [
             0.1,
             "#c51b7d"
            ],
            [
             0.2,
             "#de77ae"
            ],
            [
             0.3,
             "#f1b6da"
            ],
            [
             0.4,
             "#fde0ef"
            ],
            [
             0.5,
             "#f7f7f7"
            ],
            [
             0.6,
             "#e6f5d0"
            ],
            [
             0.7,
             "#b8e186"
            ],
            [
             0.8,
             "#7fbc41"
            ],
            [
             0.9,
             "#4d9221"
            ],
            [
             1,
             "#276419"
            ]
           ],
           "sequential": [
            [
             0,
             "#0d0887"
            ],
            [
             0.1111111111111111,
             "#46039f"
            ],
            [
             0.2222222222222222,
             "#7201a8"
            ],
            [
             0.3333333333333333,
             "#9c179e"
            ],
            [
             0.4444444444444444,
             "#bd3786"
            ],
            [
             0.5555555555555556,
             "#d8576b"
            ],
            [
             0.6666666666666666,
             "#ed7953"
            ],
            [
             0.7777777777777778,
             "#fb9f3a"
            ],
            [
             0.8888888888888888,
             "#fdca26"
            ],
            [
             1,
             "#f0f921"
            ]
           ],
           "sequentialminus": [
            [
             0,
             "#0d0887"
            ],
            [
             0.1111111111111111,
             "#46039f"
            ],
            [
             0.2222222222222222,
             "#7201a8"
            ],
            [
             0.3333333333333333,
             "#9c179e"
            ],
            [
             0.4444444444444444,
             "#bd3786"
            ],
            [
             0.5555555555555556,
             "#d8576b"
            ],
            [
             0.6666666666666666,
             "#ed7953"
            ],
            [
             0.7777777777777778,
             "#fb9f3a"
            ],
            [
             0.8888888888888888,
             "#fdca26"
            ],
            [
             1,
             "#f0f921"
            ]
           ]
          },
          "colorway": [
           "#636efa",
           "#EF553B",
           "#00cc96",
           "#ab63fa",
           "#FFA15A",
           "#19d3f3",
           "#FF6692",
           "#B6E880",
           "#FF97FF",
           "#FECB52"
          ],
          "font": {
           "color": "#f2f5fa"
          },
          "geo": {
           "bgcolor": "rgb(17,17,17)",
           "lakecolor": "rgb(17,17,17)",
           "landcolor": "rgb(17,17,17)",
           "showlakes": true,
           "showland": true,
           "subunitcolor": "#506784"
          },
          "hoverlabel": {
           "align": "left"
          },
          "hovermode": "closest",
          "mapbox": {
           "style": "dark"
          },
          "paper_bgcolor": "rgb(17,17,17)",
          "plot_bgcolor": "rgb(17,17,17)",
          "polar": {
           "angularaxis": {
            "gridcolor": "#506784",
            "linecolor": "#506784",
            "ticks": ""
           },
           "bgcolor": "rgb(17,17,17)",
           "radialaxis": {
            "gridcolor": "#506784",
            "linecolor": "#506784",
            "ticks": ""
           }
          },
          "scene": {
           "xaxis": {
            "backgroundcolor": "rgb(17,17,17)",
            "gridcolor": "#506784",
            "gridwidth": 2,
            "linecolor": "#506784",
            "showbackground": true,
            "ticks": "",
            "zerolinecolor": "#C8D4E3"
           },
           "yaxis": {
            "backgroundcolor": "rgb(17,17,17)",
            "gridcolor": "#506784",
            "gridwidth": 2,
            "linecolor": "#506784",
            "showbackground": true,
            "ticks": "",
            "zerolinecolor": "#C8D4E3"
           },
           "zaxis": {
            "backgroundcolor": "rgb(17,17,17)",
            "gridcolor": "#506784",
            "gridwidth": 2,
            "linecolor": "#506784",
            "showbackground": true,
            "ticks": "",
            "zerolinecolor": "#C8D4E3"
           }
          },
          "shapedefaults": {
           "line": {
            "color": "#f2f5fa"
           }
          },
          "sliderdefaults": {
           "bgcolor": "#C8D4E3",
           "bordercolor": "rgb(17,17,17)",
           "borderwidth": 1,
           "tickwidth": 0
          },
          "ternary": {
           "aaxis": {
            "gridcolor": "#506784",
            "linecolor": "#506784",
            "ticks": ""
           },
           "baxis": {
            "gridcolor": "#506784",
            "linecolor": "#506784",
            "ticks": ""
           },
           "bgcolor": "rgb(17,17,17)",
           "caxis": {
            "gridcolor": "#506784",
            "linecolor": "#506784",
            "ticks": ""
           }
          },
          "title": {
           "x": 0.05
          },
          "updatemenudefaults": {
           "bgcolor": "#506784",
           "borderwidth": 0
          },
          "xaxis": {
           "automargin": true,
           "gridcolor": "#283442",
           "linecolor": "#506784",
           "ticks": "",
           "title": {
            "standoff": 15
           },
           "zerolinecolor": "#283442",
           "zerolinewidth": 2
          },
          "yaxis": {
           "automargin": true,
           "gridcolor": "#283442",
           "linecolor": "#506784",
           "ticks": "",
           "title": {
            "standoff": 15
           },
           "zerolinecolor": "#283442",
           "zerolinewidth": 2
          }
         }
        },
        "title": {
         "text": "Histograms by Column"
        },
        "xaxis": {
         "anchor": "y",
         "domain": [
          0,
          0.2888888888888889
         ]
        },
        "xaxis10": {
         "anchor": "y10",
         "domain": [
          0,
          0.2888888888888889
         ]
        },
        "xaxis11": {
         "anchor": "y11",
         "domain": [
          0.35555555555555557,
          0.6444444444444445
         ]
        },
        "xaxis12": {
         "anchor": "y12",
         "domain": [
          0.7111111111111111,
          1
         ]
        },
        "xaxis13": {
         "anchor": "y13",
         "domain": [
          0,
          0.2888888888888889
         ]
        },
        "xaxis14": {
         "anchor": "y14",
         "domain": [
          0.35555555555555557,
          0.6444444444444445
         ]
        },
        "xaxis15": {
         "anchor": "y15",
         "domain": [
          0.7111111111111111,
          1
         ]
        },
        "xaxis16": {
         "anchor": "y16",
         "domain": [
          0,
          0.2888888888888889
         ]
        },
        "xaxis17": {
         "anchor": "y17",
         "domain": [
          0.35555555555555557,
          0.6444444444444445
         ]
        },
        "xaxis18": {
         "anchor": "y18",
         "domain": [
          0.7111111111111111,
          1
         ]
        },
        "xaxis19": {
         "anchor": "y19",
         "domain": [
          0,
          0.2888888888888889
         ]
        },
        "xaxis2": {
         "anchor": "y2",
         "domain": [
          0.35555555555555557,
          0.6444444444444445
         ]
        },
        "xaxis20": {
         "anchor": "y20",
         "domain": [
          0.35555555555555557,
          0.6444444444444445
         ]
        },
        "xaxis21": {
         "anchor": "y21",
         "domain": [
          0.7111111111111111,
          1
         ]
        },
        "xaxis22": {
         "anchor": "y22",
         "domain": [
          0,
          0.2888888888888889
         ]
        },
        "xaxis23": {
         "anchor": "y23",
         "domain": [
          0.35555555555555557,
          0.6444444444444445
         ]
        },
        "xaxis24": {
         "anchor": "y24",
         "domain": [
          0.7111111111111111,
          1
         ]
        },
        "xaxis25": {
         "anchor": "y25",
         "domain": [
          0,
          0.2888888888888889
         ]
        },
        "xaxis26": {
         "anchor": "y26",
         "domain": [
          0.35555555555555557,
          0.6444444444444445
         ]
        },
        "xaxis27": {
         "anchor": "y27",
         "domain": [
          0.7111111111111111,
          1
         ]
        },
        "xaxis28": {
         "anchor": "y28",
         "domain": [
          0,
          0.2888888888888889
         ]
        },
        "xaxis29": {
         "anchor": "y29",
         "domain": [
          0.35555555555555557,
          0.6444444444444445
         ]
        },
        "xaxis3": {
         "anchor": "y3",
         "domain": [
          0.7111111111111111,
          1
         ]
        },
        "xaxis30": {
         "anchor": "y30",
         "domain": [
          0.7111111111111111,
          1
         ]
        },
        "xaxis31": {
         "anchor": "y31",
         "domain": [
          0,
          0.2888888888888889
         ]
        },
        "xaxis32": {
         "anchor": "y32",
         "domain": [
          0.35555555555555557,
          0.6444444444444445
         ]
        },
        "xaxis33": {
         "anchor": "y33",
         "domain": [
          0.7111111111111111,
          1
         ]
        },
        "xaxis34": {
         "anchor": "y34",
         "domain": [
          0,
          0.2888888888888889
         ]
        },
        "xaxis35": {
         "anchor": "y35",
         "domain": [
          0.35555555555555557,
          0.6444444444444445
         ]
        },
        "xaxis36": {
         "anchor": "y36",
         "domain": [
          0.7111111111111111,
          1
         ]
        },
        "xaxis37": {
         "anchor": "y37",
         "domain": [
          0,
          0.2888888888888889
         ]
        },
        "xaxis38": {
         "anchor": "y38",
         "domain": [
          0.35555555555555557,
          0.6444444444444445
         ]
        },
        "xaxis39": {
         "anchor": "y39",
         "domain": [
          0.7111111111111111,
          1
         ]
        },
        "xaxis4": {
         "anchor": "y4",
         "domain": [
          0,
          0.2888888888888889
         ]
        },
        "xaxis40": {
         "anchor": "y40",
         "domain": [
          0,
          0.2888888888888889
         ]
        },
        "xaxis41": {
         "anchor": "y41",
         "domain": [
          0.35555555555555557,
          0.6444444444444445
         ]
        },
        "xaxis42": {
         "anchor": "y42",
         "domain": [
          0.7111111111111111,
          1
         ]
        },
        "xaxis43": {
         "anchor": "y43",
         "domain": [
          0,
          0.2888888888888889
         ]
        },
        "xaxis44": {
         "anchor": "y44",
         "domain": [
          0.35555555555555557,
          0.6444444444444445
         ]
        },
        "xaxis45": {
         "anchor": "y45",
         "domain": [
          0.7111111111111111,
          1
         ]
        },
        "xaxis46": {
         "anchor": "y46",
         "domain": [
          0,
          0.2888888888888889
         ]
        },
        "xaxis47": {
         "anchor": "y47",
         "domain": [
          0.35555555555555557,
          0.6444444444444445
         ]
        },
        "xaxis48": {
         "anchor": "y48",
         "domain": [
          0.7111111111111111,
          1
         ]
        },
        "xaxis49": {
         "anchor": "y49",
         "domain": [
          0,
          0.2888888888888889
         ]
        },
        "xaxis5": {
         "anchor": "y5",
         "domain": [
          0.35555555555555557,
          0.6444444444444445
         ]
        },
        "xaxis50": {
         "anchor": "y50",
         "domain": [
          0.35555555555555557,
          0.6444444444444445
         ]
        },
        "xaxis51": {
         "anchor": "y51",
         "domain": [
          0.7111111111111111,
          1
         ]
        },
        "xaxis52": {
         "anchor": "y52",
         "domain": [
          0,
          0.2888888888888889
         ]
        },
        "xaxis53": {
         "anchor": "y53",
         "domain": [
          0.35555555555555557,
          0.6444444444444445
         ]
        },
        "xaxis54": {
         "anchor": "y54",
         "domain": [
          0.7111111111111111,
          1
         ]
        },
        "xaxis55": {
         "anchor": "y55",
         "domain": [
          0,
          0.2888888888888889
         ]
        },
        "xaxis56": {
         "anchor": "y56",
         "domain": [
          0.35555555555555557,
          0.6444444444444445
         ]
        },
        "xaxis57": {
         "anchor": "y57",
         "domain": [
          0.7111111111111111,
          1
         ]
        },
        "xaxis6": {
         "anchor": "y6",
         "domain": [
          0.7111111111111111,
          1
         ]
        },
        "xaxis7": {
         "anchor": "y7",
         "domain": [
          0,
          0.2888888888888889
         ]
        },
        "xaxis8": {
         "anchor": "y8",
         "domain": [
          0.35555555555555557,
          0.6444444444444445
         ]
        },
        "xaxis9": {
         "anchor": "y9",
         "domain": [
          0.7111111111111111,
          1
         ]
        },
        "yaxis": {
         "anchor": "x",
         "domain": [
          0.9722991689750694,
          1
         ]
        },
        "yaxis10": {
         "anchor": "x10",
         "domain": [
          0.8102493074792245,
          0.8379501385041552
         ]
        },
        "yaxis11": {
         "anchor": "x11",
         "domain": [
          0.8102493074792245,
          0.8379501385041552
         ]
        },
        "yaxis12": {
         "anchor": "x12",
         "domain": [
          0.8102493074792245,
          0.8379501385041552
         ]
        },
        "yaxis13": {
         "anchor": "x13",
         "domain": [
          0.7562326869806095,
          0.7839335180055402
         ]
        },
        "yaxis14": {
         "anchor": "x14",
         "domain": [
          0.7562326869806095,
          0.7839335180055402
         ]
        },
        "yaxis15": {
         "anchor": "x15",
         "domain": [
          0.7562326869806095,
          0.7839335180055402
         ]
        },
        "yaxis16": {
         "anchor": "x16",
         "domain": [
          0.7022160664819945,
          0.7299168975069252
         ]
        },
        "yaxis17": {
         "anchor": "x17",
         "domain": [
          0.7022160664819945,
          0.7299168975069252
         ]
        },
        "yaxis18": {
         "anchor": "x18",
         "domain": [
          0.7022160664819945,
          0.7299168975069252
         ]
        },
        "yaxis19": {
         "anchor": "x19",
         "domain": [
          0.6481994459833795,
          0.6759002770083102
         ]
        },
        "yaxis2": {
         "anchor": "x2",
         "domain": [
          0.9722991689750694,
          1
         ]
        },
        "yaxis20": {
         "anchor": "x20",
         "domain": [
          0.6481994459833795,
          0.6759002770083102
         ]
        },
        "yaxis21": {
         "anchor": "x21",
         "domain": [
          0.6481994459833795,
          0.6759002770083102
         ]
        },
        "yaxis22": {
         "anchor": "x22",
         "domain": [
          0.5941828254847646,
          0.6218836565096953
         ]
        },
        "yaxis23": {
         "anchor": "x23",
         "domain": [
          0.5941828254847646,
          0.6218836565096953
         ]
        },
        "yaxis24": {
         "anchor": "x24",
         "domain": [
          0.5941828254847646,
          0.6218836565096953
         ]
        },
        "yaxis25": {
         "anchor": "x25",
         "domain": [
          0.5401662049861496,
          0.5678670360110804
         ]
        },
        "yaxis26": {
         "anchor": "x26",
         "domain": [
          0.5401662049861496,
          0.5678670360110804
         ]
        },
        "yaxis27": {
         "anchor": "x27",
         "domain": [
          0.5401662049861496,
          0.5678670360110804
         ]
        },
        "yaxis28": {
         "anchor": "x28",
         "domain": [
          0.48614958448753465,
          0.5138504155124654
         ]
        },
        "yaxis29": {
         "anchor": "x29",
         "domain": [
          0.48614958448753465,
          0.5138504155124654
         ]
        },
        "yaxis3": {
         "anchor": "x3",
         "domain": [
          0.9722991689750694,
          1
         ]
        },
        "yaxis30": {
         "anchor": "x30",
         "domain": [
          0.48614958448753465,
          0.5138504155124654
         ]
        },
        "yaxis31": {
         "anchor": "x31",
         "domain": [
          0.4321329639889197,
          0.45983379501385047
         ]
        },
        "yaxis32": {
         "anchor": "x32",
         "domain": [
          0.4321329639889197,
          0.45983379501385047
         ]
        },
        "yaxis33": {
         "anchor": "x33",
         "domain": [
          0.4321329639889197,
          0.45983379501385047
         ]
        },
        "yaxis34": {
         "anchor": "x34",
         "domain": [
          0.37811634349030476,
          0.4058171745152355
         ]
        },
        "yaxis35": {
         "anchor": "x35",
         "domain": [
          0.37811634349030476,
          0.4058171745152355
         ]
        },
        "yaxis36": {
         "anchor": "x36",
         "domain": [
          0.37811634349030476,
          0.4058171745152355
         ]
        },
        "yaxis37": {
         "anchor": "x37",
         "domain": [
          0.32409972299168976,
          0.3518005540166205
         ]
        },
        "yaxis38": {
         "anchor": "x38",
         "domain": [
          0.32409972299168976,
          0.3518005540166205
         ]
        },
        "yaxis39": {
         "anchor": "x39",
         "domain": [
          0.32409972299168976,
          0.3518005540166205
         ]
        },
        "yaxis4": {
         "anchor": "x4",
         "domain": [
          0.9182825484764544,
          0.9459833795013851
         ]
        },
        "yaxis40": {
         "anchor": "x40",
         "domain": [
          0.27008310249307477,
          0.29778393351800553
         ]
        },
        "yaxis41": {
         "anchor": "x41",
         "domain": [
          0.27008310249307477,
          0.29778393351800553
         ]
        },
        "yaxis42": {
         "anchor": "x42",
         "domain": [
          0.27008310249307477,
          0.29778393351800553
         ]
        },
        "yaxis43": {
         "anchor": "x43",
         "domain": [
          0.21606648199445982,
          0.24376731301939059
         ]
        },
        "yaxis44": {
         "anchor": "x44",
         "domain": [
          0.21606648199445982,
          0.24376731301939059
         ]
        },
        "yaxis45": {
         "anchor": "x45",
         "domain": [
          0.21606648199445982,
          0.24376731301939059
         ]
        },
        "yaxis46": {
         "anchor": "x46",
         "domain": [
          0.16204986149584488,
          0.18975069252077564
         ]
        },
        "yaxis47": {
         "anchor": "x47",
         "domain": [
          0.16204986149584488,
          0.18975069252077564
         ]
        },
        "yaxis48": {
         "anchor": "x48",
         "domain": [
          0.16204986149584488,
          0.18975069252077564
         ]
        },
        "yaxis49": {
         "anchor": "x49",
         "domain": [
          0.10803324099722991,
          0.13573407202216067
         ]
        },
        "yaxis5": {
         "anchor": "x5",
         "domain": [
          0.9182825484764544,
          0.9459833795013851
         ]
        },
        "yaxis50": {
         "anchor": "x50",
         "domain": [
          0.10803324099722991,
          0.13573407202216067
         ]
        },
        "yaxis51": {
         "anchor": "x51",
         "domain": [
          0.10803324099722991,
          0.13573407202216067
         ]
        },
        "yaxis52": {
         "anchor": "x52",
         "domain": [
          0.054016620498614956,
          0.0817174515235457
         ]
        },
        "yaxis53": {
         "anchor": "x53",
         "domain": [
          0.054016620498614956,
          0.0817174515235457
         ]
        },
        "yaxis54": {
         "anchor": "x54",
         "domain": [
          0.054016620498614956,
          0.0817174515235457
         ]
        },
        "yaxis55": {
         "anchor": "x55",
         "domain": [
          0,
          0.02770083102493075
         ]
        },
        "yaxis56": {
         "anchor": "x56",
         "domain": [
          0,
          0.02770083102493075
         ]
        },
        "yaxis57": {
         "anchor": "x57",
         "domain": [
          0,
          0.02770083102493075
         ]
        },
        "yaxis6": {
         "anchor": "x6",
         "domain": [
          0.9182825484764544,
          0.9459833795013851
         ]
        },
        "yaxis7": {
         "anchor": "x7",
         "domain": [
          0.8642659279778395,
          0.8919667590027702
         ]
        },
        "yaxis8": {
         "anchor": "x8",
         "domain": [
          0.8642659279778395,
          0.8919667590027702
         ]
        },
        "yaxis9": {
         "anchor": "x9",
         "domain": [
          0.8642659279778395,
          0.8919667590027702
         ]
        }
       }
      }
     },
     "metadata": {},
     "output_type": "display_data"
    }
   ],
   "source": [
    "subplot_titles = [str(col) for col in df_macroeconomic_book]\n",
    "columns_per_row = 3\n",
    "\n",
    "num_rows = len(df_macroeconomic_book) // columns_per_row + (len(df_macroeconomic_book) % columns_per_row > 0)\n",
    "fig = sp.make_subplots(rows=num_rows, cols=columns_per_row, subplot_titles=subplot_titles)\n",
    "\n",
    "for i, column in enumerate(df_macroeconomic_book):\n",
    "    row = i // columns_per_row + 1\n",
    "    col = i % columns_per_row + 1\n",
    "    \n",
    "    fig.add_trace(go.Histogram(x=df_macroeconomic_book[column], name=column, marker_color='lightseagreen'), row=row, col=col)\n",
    "\n",
    "fig.update_layout(title='Histograms by Column', height=300 * num_rows, showlegend=False, template='plotly_dark')\n",
    "fig.show()"
   ]
  },
  {
   "cell_type": "markdown",
   "metadata": {},
   "source": []
  },
  {
   "cell_type": "markdown",
   "metadata": {},
   "source": [
    "### Correlation and Dispersion"
   ]
  },
  {
   "cell_type": "code",
   "execution_count": 9,
   "metadata": {},
   "outputs": [
    {
     "data": {
      "application/vnd.plotly.v1+json": {
       "config": {
        "plotlyServerURL": "https://plot.ly"
       },
       "data": [
        {
         "coloraxis": "coloraxis",
         "hovertemplate": "x: %{x}<br>y: %{y}<br>color: %{z}<extra></extra>",
         "name": "0",
         "texttemplate": "%{z}",
         "type": "heatmap",
         "x": [
          "selic",
          "confidence",
          "pib",
          "incc",
          "ipca",
          "dolar",
          "monthly_inflation",
          "gdp_growth",
          "dollar_growth",
          "real_interest_rate",
          "inflation_confidence_difference"
         ],
         "xaxis": "x",
         "y": [
          "selic",
          "confidence",
          "pib",
          "incc",
          "ipca",
          "dolar",
          "monthly_inflation",
          "gdp_growth",
          "dollar_growth",
          "real_interest_rate",
          "inflation_confidence_difference"
         ],
         "yaxis": "y",
         "z": [
          [
           1,
           0.2631249023590993,
           0.8092822678726117,
           -0.2518939236672301,
           0.386891674653575,
           -0.008116626576160073,
           -0.32754269216141335,
           -0.007106023010826237,
           -0.1363427720937267,
           0.7635990835010508,
           -0.11780458403457428
          ],
          [
           0.2631249023590993,
           1,
           0.09073830774223882,
           -0.4608937504456638,
           -0.33770309088011524,
           -0.41759833108292455,
           -0.021936399960984142,
           -0.06648671935340587,
           0.20788306649582314,
           0.5086714589512581,
           -0.9633053050544672
          ],
          [
           0.8092822678726117,
           0.09073830774223882,
           1,
           0.028719763955798186,
           0.48757685085130686,
           0.4033852717581319,
           -0.07040282819257775,
           0.16540838798230867,
           -0.22171214990243124,
           0.4957981846032977,
           0.060367014214968186
          ],
          [
           -0.2518939236672301,
           -0.4608937504456638,
           0.028719763955798186,
           1,
           0.3486321251378386,
           0.29770322373802016,
           0.2726982000820202,
           0.079823660791535,
           -0.132260287236642,
           -0.5047056471303547,
           0.4990136257929199
          ],
          [
           0.386891674653575,
           -0.33770309088011524,
           0.48757685085130686,
           0.3486321251378386,
           1,
           0.31243199538586947,
           0.059034293110928525,
           0.026365705270625827,
           -0.10905732994925775,
           -0.299977490512241,
           0.5779509914227441
          ],
          [
           -0.008116626576160073,
           -0.41759833108292455,
           0.4033852717581319,
           0.29770322373802016,
           0.31243199538586947,
           1,
           0.08058864644402387,
           0.018952339639593148,
           0.029028159737041842,
           -0.2271679119205911,
           0.4511534028449466
          ],
          [
           -0.32754269216141335,
           -0.021936399960984142,
           -0.07040282819257775,
           0.2726982000820202,
           0.059034293110928525,
           0.08058864644402387,
           1,
           0.18428246886041671,
           -0.007445235833140093,
           -0.3801826864025481,
           0.03585323162207815
          ],
          [
           -0.007106023010826237,
           -0.06648671935340587,
           0.16540838798230867,
           0.079823660791535,
           0.026365705270625827,
           0.018952339639593148,
           0.18428246886041671,
           1,
           -0.1639881145993612,
           -0.02581304015749981,
           0.06516282377526558
          ],
          [
           -0.1363427720937267,
           0.20788306649582314,
           -0.22171214990243124,
           -0.132260287236642,
           -0.10905732994925775,
           0.029028159737041842,
           -0.007445235833140093,
           -0.1639881145993612,
           1,
           -0.06468360454893414,
           -0.21133465014355118
          ],
          [
           0.7635990835010508,
           0.5086714589512581,
           0.4957981846032977,
           -0.5047056471303547,
           -0.299977490512241,
           -0.2271679119205911,
           -0.3801826864025481,
           -0.02581304015749981,
           -0.06468360454893414,
           1,
           -0.5265627940870068
          ],
          [
           -0.11780458403457428,
           -0.9633053050544672,
           0.060367014214968186,
           0.4990136257929199,
           0.5779509914227441,
           0.4511534028449466,
           0.03585323162207815,
           0.06516282377526558,
           -0.21133465014355118,
           -0.5265627940870068,
           1
          ]
         ]
        }
       ],
       "layout": {
        "coloraxis": {
         "colorscale": [
          [
           0,
           "rgb(150, 245, 231)"
          ],
          [
           0.5,
           "rgb(100, 195, 181)"
          ],
          [
           1,
           "rgb(50, 145, 131)"
          ]
         ]
        },
        "height": 500,
        "template": {
         "data": {
          "bar": [
           {
            "error_x": {
             "color": "#f2f5fa"
            },
            "error_y": {
             "color": "#f2f5fa"
            },
            "marker": {
             "line": {
              "color": "rgb(17,17,17)",
              "width": 0.5
             },
             "pattern": {
              "fillmode": "overlay",
              "size": 10,
              "solidity": 0.2
             }
            },
            "type": "bar"
           }
          ],
          "barpolar": [
           {
            "marker": {
             "line": {
              "color": "rgb(17,17,17)",
              "width": 0.5
             },
             "pattern": {
              "fillmode": "overlay",
              "size": 10,
              "solidity": 0.2
             }
            },
            "type": "barpolar"
           }
          ],
          "carpet": [
           {
            "aaxis": {
             "endlinecolor": "#A2B1C6",
             "gridcolor": "#506784",
             "linecolor": "#506784",
             "minorgridcolor": "#506784",
             "startlinecolor": "#A2B1C6"
            },
            "baxis": {
             "endlinecolor": "#A2B1C6",
             "gridcolor": "#506784",
             "linecolor": "#506784",
             "minorgridcolor": "#506784",
             "startlinecolor": "#A2B1C6"
            },
            "type": "carpet"
           }
          ],
          "choropleth": [
           {
            "colorbar": {
             "outlinewidth": 0,
             "ticks": ""
            },
            "type": "choropleth"
           }
          ],
          "contour": [
           {
            "colorbar": {
             "outlinewidth": 0,
             "ticks": ""
            },
            "colorscale": [
             [
              0,
              "#0d0887"
             ],
             [
              0.1111111111111111,
              "#46039f"
             ],
             [
              0.2222222222222222,
              "#7201a8"
             ],
             [
              0.3333333333333333,
              "#9c179e"
             ],
             [
              0.4444444444444444,
              "#bd3786"
             ],
             [
              0.5555555555555556,
              "#d8576b"
             ],
             [
              0.6666666666666666,
              "#ed7953"
             ],
             [
              0.7777777777777778,
              "#fb9f3a"
             ],
             [
              0.8888888888888888,
              "#fdca26"
             ],
             [
              1,
              "#f0f921"
             ]
            ],
            "type": "contour"
           }
          ],
          "contourcarpet": [
           {
            "colorbar": {
             "outlinewidth": 0,
             "ticks": ""
            },
            "type": "contourcarpet"
           }
          ],
          "heatmap": [
           {
            "colorbar": {
             "outlinewidth": 0,
             "ticks": ""
            },
            "colorscale": [
             [
              0,
              "#0d0887"
             ],
             [
              0.1111111111111111,
              "#46039f"
             ],
             [
              0.2222222222222222,
              "#7201a8"
             ],
             [
              0.3333333333333333,
              "#9c179e"
             ],
             [
              0.4444444444444444,
              "#bd3786"
             ],
             [
              0.5555555555555556,
              "#d8576b"
             ],
             [
              0.6666666666666666,
              "#ed7953"
             ],
             [
              0.7777777777777778,
              "#fb9f3a"
             ],
             [
              0.8888888888888888,
              "#fdca26"
             ],
             [
              1,
              "#f0f921"
             ]
            ],
            "type": "heatmap"
           }
          ],
          "heatmapgl": [
           {
            "colorbar": {
             "outlinewidth": 0,
             "ticks": ""
            },
            "colorscale": [
             [
              0,
              "#0d0887"
             ],
             [
              0.1111111111111111,
              "#46039f"
             ],
             [
              0.2222222222222222,
              "#7201a8"
             ],
             [
              0.3333333333333333,
              "#9c179e"
             ],
             [
              0.4444444444444444,
              "#bd3786"
             ],
             [
              0.5555555555555556,
              "#d8576b"
             ],
             [
              0.6666666666666666,
              "#ed7953"
             ],
             [
              0.7777777777777778,
              "#fb9f3a"
             ],
             [
              0.8888888888888888,
              "#fdca26"
             ],
             [
              1,
              "#f0f921"
             ]
            ],
            "type": "heatmapgl"
           }
          ],
          "histogram": [
           {
            "marker": {
             "pattern": {
              "fillmode": "overlay",
              "size": 10,
              "solidity": 0.2
             }
            },
            "type": "histogram"
           }
          ],
          "histogram2d": [
           {
            "colorbar": {
             "outlinewidth": 0,
             "ticks": ""
            },
            "colorscale": [
             [
              0,
              "#0d0887"
             ],
             [
              0.1111111111111111,
              "#46039f"
             ],
             [
              0.2222222222222222,
              "#7201a8"
             ],
             [
              0.3333333333333333,
              "#9c179e"
             ],
             [
              0.4444444444444444,
              "#bd3786"
             ],
             [
              0.5555555555555556,
              "#d8576b"
             ],
             [
              0.6666666666666666,
              "#ed7953"
             ],
             [
              0.7777777777777778,
              "#fb9f3a"
             ],
             [
              0.8888888888888888,
              "#fdca26"
             ],
             [
              1,
              "#f0f921"
             ]
            ],
            "type": "histogram2d"
           }
          ],
          "histogram2dcontour": [
           {
            "colorbar": {
             "outlinewidth": 0,
             "ticks": ""
            },
            "colorscale": [
             [
              0,
              "#0d0887"
             ],
             [
              0.1111111111111111,
              "#46039f"
             ],
             [
              0.2222222222222222,
              "#7201a8"
             ],
             [
              0.3333333333333333,
              "#9c179e"
             ],
             [
              0.4444444444444444,
              "#bd3786"
             ],
             [
              0.5555555555555556,
              "#d8576b"
             ],
             [
              0.6666666666666666,
              "#ed7953"
             ],
             [
              0.7777777777777778,
              "#fb9f3a"
             ],
             [
              0.8888888888888888,
              "#fdca26"
             ],
             [
              1,
              "#f0f921"
             ]
            ],
            "type": "histogram2dcontour"
           }
          ],
          "mesh3d": [
           {
            "colorbar": {
             "outlinewidth": 0,
             "ticks": ""
            },
            "type": "mesh3d"
           }
          ],
          "parcoords": [
           {
            "line": {
             "colorbar": {
              "outlinewidth": 0,
              "ticks": ""
             }
            },
            "type": "parcoords"
           }
          ],
          "pie": [
           {
            "automargin": true,
            "type": "pie"
           }
          ],
          "scatter": [
           {
            "marker": {
             "line": {
              "color": "#283442"
             }
            },
            "type": "scatter"
           }
          ],
          "scatter3d": [
           {
            "line": {
             "colorbar": {
              "outlinewidth": 0,
              "ticks": ""
             }
            },
            "marker": {
             "colorbar": {
              "outlinewidth": 0,
              "ticks": ""
             }
            },
            "type": "scatter3d"
           }
          ],
          "scattercarpet": [
           {
            "marker": {
             "colorbar": {
              "outlinewidth": 0,
              "ticks": ""
             }
            },
            "type": "scattercarpet"
           }
          ],
          "scattergeo": [
           {
            "marker": {
             "colorbar": {
              "outlinewidth": 0,
              "ticks": ""
             }
            },
            "type": "scattergeo"
           }
          ],
          "scattergl": [
           {
            "marker": {
             "line": {
              "color": "#283442"
             }
            },
            "type": "scattergl"
           }
          ],
          "scattermapbox": [
           {
            "marker": {
             "colorbar": {
              "outlinewidth": 0,
              "ticks": ""
             }
            },
            "type": "scattermapbox"
           }
          ],
          "scatterpolar": [
           {
            "marker": {
             "colorbar": {
              "outlinewidth": 0,
              "ticks": ""
             }
            },
            "type": "scatterpolar"
           }
          ],
          "scatterpolargl": [
           {
            "marker": {
             "colorbar": {
              "outlinewidth": 0,
              "ticks": ""
             }
            },
            "type": "scatterpolargl"
           }
          ],
          "scatterternary": [
           {
            "marker": {
             "colorbar": {
              "outlinewidth": 0,
              "ticks": ""
             }
            },
            "type": "scatterternary"
           }
          ],
          "surface": [
           {
            "colorbar": {
             "outlinewidth": 0,
             "ticks": ""
            },
            "colorscale": [
             [
              0,
              "#0d0887"
             ],
             [
              0.1111111111111111,
              "#46039f"
             ],
             [
              0.2222222222222222,
              "#7201a8"
             ],
             [
              0.3333333333333333,
              "#9c179e"
             ],
             [
              0.4444444444444444,
              "#bd3786"
             ],
             [
              0.5555555555555556,
              "#d8576b"
             ],
             [
              0.6666666666666666,
              "#ed7953"
             ],
             [
              0.7777777777777778,
              "#fb9f3a"
             ],
             [
              0.8888888888888888,
              "#fdca26"
             ],
             [
              1,
              "#f0f921"
             ]
            ],
            "type": "surface"
           }
          ],
          "table": [
           {
            "cells": {
             "fill": {
              "color": "#506784"
             },
             "line": {
              "color": "rgb(17,17,17)"
             }
            },
            "header": {
             "fill": {
              "color": "#2a3f5f"
             },
             "line": {
              "color": "rgb(17,17,17)"
             }
            },
            "type": "table"
           }
          ]
         },
         "layout": {
          "annotationdefaults": {
           "arrowcolor": "#f2f5fa",
           "arrowhead": 0,
           "arrowwidth": 1
          },
          "autotypenumbers": "strict",
          "coloraxis": {
           "colorbar": {
            "outlinewidth": 0,
            "ticks": ""
           }
          },
          "colorscale": {
           "diverging": [
            [
             0,
             "#8e0152"
            ],
            [
             0.1,
             "#c51b7d"
            ],
            [
             0.2,
             "#de77ae"
            ],
            [
             0.3,
             "#f1b6da"
            ],
            [
             0.4,
             "#fde0ef"
            ],
            [
             0.5,
             "#f7f7f7"
            ],
            [
             0.6,
             "#e6f5d0"
            ],
            [
             0.7,
             "#b8e186"
            ],
            [
             0.8,
             "#7fbc41"
            ],
            [
             0.9,
             "#4d9221"
            ],
            [
             1,
             "#276419"
            ]
           ],
           "sequential": [
            [
             0,
             "#0d0887"
            ],
            [
             0.1111111111111111,
             "#46039f"
            ],
            [
             0.2222222222222222,
             "#7201a8"
            ],
            [
             0.3333333333333333,
             "#9c179e"
            ],
            [
             0.4444444444444444,
             "#bd3786"
            ],
            [
             0.5555555555555556,
             "#d8576b"
            ],
            [
             0.6666666666666666,
             "#ed7953"
            ],
            [
             0.7777777777777778,
             "#fb9f3a"
            ],
            [
             0.8888888888888888,
             "#fdca26"
            ],
            [
             1,
             "#f0f921"
            ]
           ],
           "sequentialminus": [
            [
             0,
             "#0d0887"
            ],
            [
             0.1111111111111111,
             "#46039f"
            ],
            [
             0.2222222222222222,
             "#7201a8"
            ],
            [
             0.3333333333333333,
             "#9c179e"
            ],
            [
             0.4444444444444444,
             "#bd3786"
            ],
            [
             0.5555555555555556,
             "#d8576b"
            ],
            [
             0.6666666666666666,
             "#ed7953"
            ],
            [
             0.7777777777777778,
             "#fb9f3a"
            ],
            [
             0.8888888888888888,
             "#fdca26"
            ],
            [
             1,
             "#f0f921"
            ]
           ]
          },
          "colorway": [
           "#636efa",
           "#EF553B",
           "#00cc96",
           "#ab63fa",
           "#FFA15A",
           "#19d3f3",
           "#FF6692",
           "#B6E880",
           "#FF97FF",
           "#FECB52"
          ],
          "font": {
           "color": "#f2f5fa"
          },
          "geo": {
           "bgcolor": "rgb(17,17,17)",
           "lakecolor": "rgb(17,17,17)",
           "landcolor": "rgb(17,17,17)",
           "showlakes": true,
           "showland": true,
           "subunitcolor": "#506784"
          },
          "hoverlabel": {
           "align": "left"
          },
          "hovermode": "closest",
          "mapbox": {
           "style": "dark"
          },
          "paper_bgcolor": "rgb(17,17,17)",
          "plot_bgcolor": "rgb(17,17,17)",
          "polar": {
           "angularaxis": {
            "gridcolor": "#506784",
            "linecolor": "#506784",
            "ticks": ""
           },
           "bgcolor": "rgb(17,17,17)",
           "radialaxis": {
            "gridcolor": "#506784",
            "linecolor": "#506784",
            "ticks": ""
           }
          },
          "scene": {
           "xaxis": {
            "backgroundcolor": "rgb(17,17,17)",
            "gridcolor": "#506784",
            "gridwidth": 2,
            "linecolor": "#506784",
            "showbackground": true,
            "ticks": "",
            "zerolinecolor": "#C8D4E3"
           },
           "yaxis": {
            "backgroundcolor": "rgb(17,17,17)",
            "gridcolor": "#506784",
            "gridwidth": 2,
            "linecolor": "#506784",
            "showbackground": true,
            "ticks": "",
            "zerolinecolor": "#C8D4E3"
           },
           "zaxis": {
            "backgroundcolor": "rgb(17,17,17)",
            "gridcolor": "#506784",
            "gridwidth": 2,
            "linecolor": "#506784",
            "showbackground": true,
            "ticks": "",
            "zerolinecolor": "#C8D4E3"
           }
          },
          "shapedefaults": {
           "line": {
            "color": "#f2f5fa"
           }
          },
          "sliderdefaults": {
           "bgcolor": "#C8D4E3",
           "bordercolor": "rgb(17,17,17)",
           "borderwidth": 1,
           "tickwidth": 0
          },
          "ternary": {
           "aaxis": {
            "gridcolor": "#506784",
            "linecolor": "#506784",
            "ticks": ""
           },
           "baxis": {
            "gridcolor": "#506784",
            "linecolor": "#506784",
            "ticks": ""
           },
           "bgcolor": "rgb(17,17,17)",
           "caxis": {
            "gridcolor": "#506784",
            "linecolor": "#506784",
            "ticks": ""
           }
          },
          "title": {
           "x": 0.05
          },
          "updatemenudefaults": {
           "bgcolor": "#506784",
           "borderwidth": 0
          },
          "xaxis": {
           "automargin": true,
           "gridcolor": "#283442",
           "linecolor": "#506784",
           "ticks": "",
           "title": {
            "standoff": 15
           },
           "zerolinecolor": "#283442",
           "zerolinewidth": 2
          },
          "yaxis": {
           "automargin": true,
           "gridcolor": "#283442",
           "linecolor": "#506784",
           "ticks": "",
           "title": {
            "standoff": 15
           },
           "zerolinecolor": "#283442",
           "zerolinewidth": 2
          }
         }
        },
        "title": {
         "text": "Mapa de Calor: Correlação entre as variaveis"
        },
        "width": 1000,
        "xaxis": {
         "anchor": "y",
         "domain": [
          0,
          1
         ]
        },
        "yaxis": {
         "anchor": "x",
         "autorange": "reversed",
         "domain": [
          0,
          1
         ]
        }
       }
      }
     },
     "metadata": {},
     "output_type": "display_data"
    }
   ],
   "source": [
    "\n",
    "df_macroeconomic_numeric_cols_corr = df_macroeconomic_numeric_cols.corr()\n",
    "color_scale = [[0, 'rgb(150, 245, 231)'], [0.5, 'rgb(100, 195, 181)'], [1, 'rgb(50, 145, 131)']]\n",
    "fig = px.imshow(df_macroeconomic_numeric_cols_corr, text_auto=True, aspect=\"auto\", width=1000, height=500, template=\"plotly_dark\", title=\"Mapa de Calor: Correlação entre as variaveis\", color_continuous_scale=color_scale)\n",
    "fig.show()"
   ]
  },
  {
   "cell_type": "code",
   "execution_count": 10,
   "metadata": {},
   "outputs": [
    {
     "data": {
      "application/vnd.plotly.v1+json": {
       "config": {
        "plotlyServerURL": "https://plot.ly"
       },
       "data": [
        {
         "dimensions": [
          {
           "axis": {
            "matches": true
           },
           "label": "selic",
           "values": [
            1,
            0.2631249023590993,
            0.8092822678726117,
            -0.2518939236672301,
            0.386891674653575,
            -0.008116626576160073,
            -0.32754269216141335,
            -0.007106023010826237,
            -0.1363427720937267,
            0.7635990835010508,
            -0.11780458403457428
           ]
          },
          {
           "axis": {
            "matches": true
           },
           "label": "confidence",
           "values": [
            0.2631249023590993,
            1,
            0.09073830774223882,
            -0.4608937504456638,
            -0.33770309088011524,
            -0.41759833108292455,
            -0.021936399960984142,
            -0.06648671935340587,
            0.20788306649582314,
            0.5086714589512581,
            -0.9633053050544672
           ]
          },
          {
           "axis": {
            "matches": true
           },
           "label": "pib",
           "values": [
            0.8092822678726117,
            0.09073830774223882,
            1,
            0.028719763955798186,
            0.48757685085130686,
            0.4033852717581319,
            -0.07040282819257775,
            0.16540838798230867,
            -0.22171214990243124,
            0.4957981846032977,
            0.060367014214968186
           ]
          },
          {
           "axis": {
            "matches": true
           },
           "label": "incc",
           "values": [
            -0.2518939236672301,
            -0.4608937504456638,
            0.028719763955798186,
            1,
            0.3486321251378386,
            0.29770322373802016,
            0.2726982000820202,
            0.079823660791535,
            -0.132260287236642,
            -0.5047056471303547,
            0.4990136257929199
           ]
          },
          {
           "axis": {
            "matches": true
           },
           "label": "ipca",
           "values": [
            0.386891674653575,
            -0.33770309088011524,
            0.48757685085130686,
            0.3486321251378386,
            1,
            0.31243199538586947,
            0.059034293110928525,
            0.026365705270625827,
            -0.10905732994925775,
            -0.299977490512241,
            0.5779509914227441
           ]
          },
          {
           "axis": {
            "matches": true
           },
           "label": "dolar",
           "values": [
            -0.008116626576160073,
            -0.41759833108292455,
            0.4033852717581319,
            0.29770322373802016,
            0.31243199538586947,
            1,
            0.08058864644402387,
            0.018952339639593148,
            0.029028159737041842,
            -0.2271679119205911,
            0.4511534028449466
           ]
          },
          {
           "axis": {
            "matches": true
           },
           "label": "monthly_inflation",
           "values": [
            -0.32754269216141335,
            -0.021936399960984142,
            -0.07040282819257775,
            0.2726982000820202,
            0.059034293110928525,
            0.08058864644402387,
            1,
            0.18428246886041671,
            -0.007445235833140093,
            -0.3801826864025481,
            0.03585323162207815
           ]
          },
          {
           "axis": {
            "matches": true
           },
           "label": "gdp_growth",
           "values": [
            -0.007106023010826237,
            -0.06648671935340587,
            0.16540838798230867,
            0.079823660791535,
            0.026365705270625827,
            0.018952339639593148,
            0.18428246886041671,
            1,
            -0.1639881145993612,
            -0.02581304015749981,
            0.06516282377526558
           ]
          },
          {
           "axis": {
            "matches": true
           },
           "label": "dollar_growth",
           "values": [
            -0.1363427720937267,
            0.20788306649582314,
            -0.22171214990243124,
            -0.132260287236642,
            -0.10905732994925775,
            0.029028159737041842,
            -0.007445235833140093,
            -0.1639881145993612,
            1,
            -0.06468360454893414,
            -0.21133465014355118
           ]
          },
          {
           "axis": {
            "matches": true
           },
           "label": "real_interest_rate",
           "values": [
            0.7635990835010508,
            0.5086714589512581,
            0.4957981846032977,
            -0.5047056471303547,
            -0.299977490512241,
            -0.2271679119205911,
            -0.3801826864025481,
            -0.02581304015749981,
            -0.06468360454893414,
            1,
            -0.5265627940870068
           ]
          },
          {
           "axis": {
            "matches": true
           },
           "label": "inflation_confidence_difference",
           "values": [
            -0.11780458403457428,
            -0.9633053050544672,
            0.060367014214968186,
            0.4990136257929199,
            0.5779509914227441,
            0.4511534028449466,
            0.03585323162207815,
            0.06516282377526558,
            -0.21133465014355118,
            -0.5265627940870068,
            1
           ]
          }
         ],
         "hovertemplate": "%{xaxis.title.text}=%{x}<br>%{yaxis.title.text}=%{y}<extra></extra>",
         "legendgroup": "",
         "marker": {
          "color": "rgb(100, 195, 181)",
          "symbol": "circle"
         },
         "name": "",
         "showlegend": false,
         "type": "splom"
        }
       ],
       "layout": {
        "dragmode": "select",
        "grid": {
         "xgap": 0.1,
         "ygap": 0.5
        },
        "height": 3000,
        "legend": {
         "tracegroupgap": 0
        },
        "template": {
         "data": {
          "bar": [
           {
            "error_x": {
             "color": "#f2f5fa"
            },
            "error_y": {
             "color": "#f2f5fa"
            },
            "marker": {
             "line": {
              "color": "rgb(17,17,17)",
              "width": 0.5
             },
             "pattern": {
              "fillmode": "overlay",
              "size": 10,
              "solidity": 0.2
             }
            },
            "type": "bar"
           }
          ],
          "barpolar": [
           {
            "marker": {
             "line": {
              "color": "rgb(17,17,17)",
              "width": 0.5
             },
             "pattern": {
              "fillmode": "overlay",
              "size": 10,
              "solidity": 0.2
             }
            },
            "type": "barpolar"
           }
          ],
          "carpet": [
           {
            "aaxis": {
             "endlinecolor": "#A2B1C6",
             "gridcolor": "#506784",
             "linecolor": "#506784",
             "minorgridcolor": "#506784",
             "startlinecolor": "#A2B1C6"
            },
            "baxis": {
             "endlinecolor": "#A2B1C6",
             "gridcolor": "#506784",
             "linecolor": "#506784",
             "minorgridcolor": "#506784",
             "startlinecolor": "#A2B1C6"
            },
            "type": "carpet"
           }
          ],
          "choropleth": [
           {
            "colorbar": {
             "outlinewidth": 0,
             "ticks": ""
            },
            "type": "choropleth"
           }
          ],
          "contour": [
           {
            "colorbar": {
             "outlinewidth": 0,
             "ticks": ""
            },
            "colorscale": [
             [
              0,
              "#0d0887"
             ],
             [
              0.1111111111111111,
              "#46039f"
             ],
             [
              0.2222222222222222,
              "#7201a8"
             ],
             [
              0.3333333333333333,
              "#9c179e"
             ],
             [
              0.4444444444444444,
              "#bd3786"
             ],
             [
              0.5555555555555556,
              "#d8576b"
             ],
             [
              0.6666666666666666,
              "#ed7953"
             ],
             [
              0.7777777777777778,
              "#fb9f3a"
             ],
             [
              0.8888888888888888,
              "#fdca26"
             ],
             [
              1,
              "#f0f921"
             ]
            ],
            "type": "contour"
           }
          ],
          "contourcarpet": [
           {
            "colorbar": {
             "outlinewidth": 0,
             "ticks": ""
            },
            "type": "contourcarpet"
           }
          ],
          "heatmap": [
           {
            "colorbar": {
             "outlinewidth": 0,
             "ticks": ""
            },
            "colorscale": [
             [
              0,
              "#0d0887"
             ],
             [
              0.1111111111111111,
              "#46039f"
             ],
             [
              0.2222222222222222,
              "#7201a8"
             ],
             [
              0.3333333333333333,
              "#9c179e"
             ],
             [
              0.4444444444444444,
              "#bd3786"
             ],
             [
              0.5555555555555556,
              "#d8576b"
             ],
             [
              0.6666666666666666,
              "#ed7953"
             ],
             [
              0.7777777777777778,
              "#fb9f3a"
             ],
             [
              0.8888888888888888,
              "#fdca26"
             ],
             [
              1,
              "#f0f921"
             ]
            ],
            "type": "heatmap"
           }
          ],
          "heatmapgl": [
           {
            "colorbar": {
             "outlinewidth": 0,
             "ticks": ""
            },
            "colorscale": [
             [
              0,
              "#0d0887"
             ],
             [
              0.1111111111111111,
              "#46039f"
             ],
             [
              0.2222222222222222,
              "#7201a8"
             ],
             [
              0.3333333333333333,
              "#9c179e"
             ],
             [
              0.4444444444444444,
              "#bd3786"
             ],
             [
              0.5555555555555556,
              "#d8576b"
             ],
             [
              0.6666666666666666,
              "#ed7953"
             ],
             [
              0.7777777777777778,
              "#fb9f3a"
             ],
             [
              0.8888888888888888,
              "#fdca26"
             ],
             [
              1,
              "#f0f921"
             ]
            ],
            "type": "heatmapgl"
           }
          ],
          "histogram": [
           {
            "marker": {
             "pattern": {
              "fillmode": "overlay",
              "size": 10,
              "solidity": 0.2
             }
            },
            "type": "histogram"
           }
          ],
          "histogram2d": [
           {
            "colorbar": {
             "outlinewidth": 0,
             "ticks": ""
            },
            "colorscale": [
             [
              0,
              "#0d0887"
             ],
             [
              0.1111111111111111,
              "#46039f"
             ],
             [
              0.2222222222222222,
              "#7201a8"
             ],
             [
              0.3333333333333333,
              "#9c179e"
             ],
             [
              0.4444444444444444,
              "#bd3786"
             ],
             [
              0.5555555555555556,
              "#d8576b"
             ],
             [
              0.6666666666666666,
              "#ed7953"
             ],
             [
              0.7777777777777778,
              "#fb9f3a"
             ],
             [
              0.8888888888888888,
              "#fdca26"
             ],
             [
              1,
              "#f0f921"
             ]
            ],
            "type": "histogram2d"
           }
          ],
          "histogram2dcontour": [
           {
            "colorbar": {
             "outlinewidth": 0,
             "ticks": ""
            },
            "colorscale": [
             [
              0,
              "#0d0887"
             ],
             [
              0.1111111111111111,
              "#46039f"
             ],
             [
              0.2222222222222222,
              "#7201a8"
             ],
             [
              0.3333333333333333,
              "#9c179e"
             ],
             [
              0.4444444444444444,
              "#bd3786"
             ],
             [
              0.5555555555555556,
              "#d8576b"
             ],
             [
              0.6666666666666666,
              "#ed7953"
             ],
             [
              0.7777777777777778,
              "#fb9f3a"
             ],
             [
              0.8888888888888888,
              "#fdca26"
             ],
             [
              1,
              "#f0f921"
             ]
            ],
            "type": "histogram2dcontour"
           }
          ],
          "mesh3d": [
           {
            "colorbar": {
             "outlinewidth": 0,
             "ticks": ""
            },
            "type": "mesh3d"
           }
          ],
          "parcoords": [
           {
            "line": {
             "colorbar": {
              "outlinewidth": 0,
              "ticks": ""
             }
            },
            "type": "parcoords"
           }
          ],
          "pie": [
           {
            "automargin": true,
            "type": "pie"
           }
          ],
          "scatter": [
           {
            "marker": {
             "line": {
              "color": "#283442"
             }
            },
            "type": "scatter"
           }
          ],
          "scatter3d": [
           {
            "line": {
             "colorbar": {
              "outlinewidth": 0,
              "ticks": ""
             }
            },
            "marker": {
             "colorbar": {
              "outlinewidth": 0,
              "ticks": ""
             }
            },
            "type": "scatter3d"
           }
          ],
          "scattercarpet": [
           {
            "marker": {
             "colorbar": {
              "outlinewidth": 0,
              "ticks": ""
             }
            },
            "type": "scattercarpet"
           }
          ],
          "scattergeo": [
           {
            "marker": {
             "colorbar": {
              "outlinewidth": 0,
              "ticks": ""
             }
            },
            "type": "scattergeo"
           }
          ],
          "scattergl": [
           {
            "marker": {
             "line": {
              "color": "#283442"
             }
            },
            "type": "scattergl"
           }
          ],
          "scattermapbox": [
           {
            "marker": {
             "colorbar": {
              "outlinewidth": 0,
              "ticks": ""
             }
            },
            "type": "scattermapbox"
           }
          ],
          "scatterpolar": [
           {
            "marker": {
             "colorbar": {
              "outlinewidth": 0,
              "ticks": ""
             }
            },
            "type": "scatterpolar"
           }
          ],
          "scatterpolargl": [
           {
            "marker": {
             "colorbar": {
              "outlinewidth": 0,
              "ticks": ""
             }
            },
            "type": "scatterpolargl"
           }
          ],
          "scatterternary": [
           {
            "marker": {
             "colorbar": {
              "outlinewidth": 0,
              "ticks": ""
             }
            },
            "type": "scatterternary"
           }
          ],
          "surface": [
           {
            "colorbar": {
             "outlinewidth": 0,
             "ticks": ""
            },
            "colorscale": [
             [
              0,
              "#0d0887"
             ],
             [
              0.1111111111111111,
              "#46039f"
             ],
             [
              0.2222222222222222,
              "#7201a8"
             ],
             [
              0.3333333333333333,
              "#9c179e"
             ],
             [
              0.4444444444444444,
              "#bd3786"
             ],
             [
              0.5555555555555556,
              "#d8576b"
             ],
             [
              0.6666666666666666,
              "#ed7953"
             ],
             [
              0.7777777777777778,
              "#fb9f3a"
             ],
             [
              0.8888888888888888,
              "#fdca26"
             ],
             [
              1,
              "#f0f921"
             ]
            ],
            "type": "surface"
           }
          ],
          "table": [
           {
            "cells": {
             "fill": {
              "color": "#506784"
             },
             "line": {
              "color": "rgb(17,17,17)"
             }
            },
            "header": {
             "fill": {
              "color": "#2a3f5f"
             },
             "line": {
              "color": "rgb(17,17,17)"
             }
            },
            "type": "table"
           }
          ]
         },
         "layout": {
          "annotationdefaults": {
           "arrowcolor": "#f2f5fa",
           "arrowhead": 0,
           "arrowwidth": 1
          },
          "autotypenumbers": "strict",
          "coloraxis": {
           "colorbar": {
            "outlinewidth": 0,
            "ticks": ""
           }
          },
          "colorscale": {
           "diverging": [
            [
             0,
             "#8e0152"
            ],
            [
             0.1,
             "#c51b7d"
            ],
            [
             0.2,
             "#de77ae"
            ],
            [
             0.3,
             "#f1b6da"
            ],
            [
             0.4,
             "#fde0ef"
            ],
            [
             0.5,
             "#f7f7f7"
            ],
            [
             0.6,
             "#e6f5d0"
            ],
            [
             0.7,
             "#b8e186"
            ],
            [
             0.8,
             "#7fbc41"
            ],
            [
             0.9,
             "#4d9221"
            ],
            [
             1,
             "#276419"
            ]
           ],
           "sequential": [
            [
             0,
             "#0d0887"
            ],
            [
             0.1111111111111111,
             "#46039f"
            ],
            [
             0.2222222222222222,
             "#7201a8"
            ],
            [
             0.3333333333333333,
             "#9c179e"
            ],
            [
             0.4444444444444444,
             "#bd3786"
            ],
            [
             0.5555555555555556,
             "#d8576b"
            ],
            [
             0.6666666666666666,
             "#ed7953"
            ],
            [
             0.7777777777777778,
             "#fb9f3a"
            ],
            [
             0.8888888888888888,
             "#fdca26"
            ],
            [
             1,
             "#f0f921"
            ]
           ],
           "sequentialminus": [
            [
             0,
             "#0d0887"
            ],
            [
             0.1111111111111111,
             "#46039f"
            ],
            [
             0.2222222222222222,
             "#7201a8"
            ],
            [
             0.3333333333333333,
             "#9c179e"
            ],
            [
             0.4444444444444444,
             "#bd3786"
            ],
            [
             0.5555555555555556,
             "#d8576b"
            ],
            [
             0.6666666666666666,
             "#ed7953"
            ],
            [
             0.7777777777777778,
             "#fb9f3a"
            ],
            [
             0.8888888888888888,
             "#fdca26"
            ],
            [
             1,
             "#f0f921"
            ]
           ]
          },
          "colorway": [
           "#636efa",
           "#EF553B",
           "#00cc96",
           "#ab63fa",
           "#FFA15A",
           "#19d3f3",
           "#FF6692",
           "#B6E880",
           "#FF97FF",
           "#FECB52"
          ],
          "font": {
           "color": "#f2f5fa"
          },
          "geo": {
           "bgcolor": "rgb(17,17,17)",
           "lakecolor": "rgb(17,17,17)",
           "landcolor": "rgb(17,17,17)",
           "showlakes": true,
           "showland": true,
           "subunitcolor": "#506784"
          },
          "hoverlabel": {
           "align": "left"
          },
          "hovermode": "closest",
          "mapbox": {
           "style": "dark"
          },
          "paper_bgcolor": "rgb(17,17,17)",
          "plot_bgcolor": "rgb(17,17,17)",
          "polar": {
           "angularaxis": {
            "gridcolor": "#506784",
            "linecolor": "#506784",
            "ticks": ""
           },
           "bgcolor": "rgb(17,17,17)",
           "radialaxis": {
            "gridcolor": "#506784",
            "linecolor": "#506784",
            "ticks": ""
           }
          },
          "scene": {
           "xaxis": {
            "backgroundcolor": "rgb(17,17,17)",
            "gridcolor": "#506784",
            "gridwidth": 2,
            "linecolor": "#506784",
            "showbackground": true,
            "ticks": "",
            "zerolinecolor": "#C8D4E3"
           },
           "yaxis": {
            "backgroundcolor": "rgb(17,17,17)",
            "gridcolor": "#506784",
            "gridwidth": 2,
            "linecolor": "#506784",
            "showbackground": true,
            "ticks": "",
            "zerolinecolor": "#C8D4E3"
           },
           "zaxis": {
            "backgroundcolor": "rgb(17,17,17)",
            "gridcolor": "#506784",
            "gridwidth": 2,
            "linecolor": "#506784",
            "showbackground": true,
            "ticks": "",
            "zerolinecolor": "#C8D4E3"
           }
          },
          "shapedefaults": {
           "line": {
            "color": "#f2f5fa"
           }
          },
          "sliderdefaults": {
           "bgcolor": "#C8D4E3",
           "bordercolor": "rgb(17,17,17)",
           "borderwidth": 1,
           "tickwidth": 0
          },
          "ternary": {
           "aaxis": {
            "gridcolor": "#506784",
            "linecolor": "#506784",
            "ticks": ""
           },
           "baxis": {
            "gridcolor": "#506784",
            "linecolor": "#506784",
            "ticks": ""
           },
           "bgcolor": "rgb(17,17,17)",
           "caxis": {
            "gridcolor": "#506784",
            "linecolor": "#506784",
            "ticks": ""
           }
          },
          "title": {
           "x": 0.05
          },
          "updatemenudefaults": {
           "bgcolor": "#506784",
           "borderwidth": 0
          },
          "xaxis": {
           "automargin": true,
           "gridcolor": "#283442",
           "linecolor": "#506784",
           "ticks": "",
           "title": {
            "standoff": 15
           },
           "zerolinecolor": "#283442",
           "zerolinewidth": 2
          },
          "yaxis": {
           "automargin": true,
           "gridcolor": "#283442",
           "linecolor": "#506784",
           "ticks": "",
           "title": {
            "standoff": 15
           },
           "zerolinecolor": "#283442",
           "zerolinewidth": 2
          }
         }
        },
        "title": {
         "text": "Gráficos de Dispersão para Todas as Colunas"
        },
        "width": 4000
       }
      }
     },
     "metadata": {},
     "output_type": "display_data"
    }
   ],
   "source": [
    "fig = px.scatter_matrix(df_macroeconomic_numeric_cols_corr, dimensions=df_macroeconomic_numeric_cols_corr.columns, title='Gráficos de Dispersão para Todas as Colunas', template=\"plotly_dark\",)\n",
    "fig.update_traces(marker=dict(color='rgb(100, 195, 181)'))\n",
    "\n",
    "fig.update_layout(width=4000, height=3000, grid=dict(xgap=0.1, ygap=0.5))\n",
    "\n",
    "fig.show()"
   ]
  },
  {
   "cell_type": "markdown",
   "metadata": {},
   "source": []
  },
  {
   "cell_type": "markdown",
   "metadata": {},
   "source": []
  },
  {
   "cell_type": "markdown",
   "metadata": {},
   "source": [
    "### Análise de Tendência"
   ]
  },
  {
   "cell_type": "markdown",
   "metadata": {},
   "source": [
    "#### SELIC and Real Interest Rate"
   ]
  },
  {
   "cell_type": "code",
   "execution_count": 95,
   "metadata": {},
   "outputs": [
    {
     "data": {
      "application/vnd.plotly.v1+json": {
       "config": {
        "plotlyServerURL": "https://plot.ly"
       },
       "data": [
        {
         "line": {
          "color": "rgb(100, 195, 181)"
         },
         "name": "SELIC",
         "type": "scatter",
         "x": [
          "2019-01-31T00:00:00",
          "2019-02-28T00:00:00",
          "2019-03-31T00:00:00",
          "2019-04-30T00:00:00",
          "2019-05-31T00:00:00",
          "2019-06-30T00:00:00",
          "2019-07-31T00:00:00",
          "2019-08-31T00:00:00",
          "2019-09-30T00:00:00",
          "2019-10-31T00:00:00",
          "2019-11-30T00:00:00",
          "2019-12-31T00:00:00",
          "2020-01-31T00:00:00",
          "2020-02-29T00:00:00",
          "2020-03-31T00:00:00",
          "2020-04-30T00:00:00",
          "2020-05-31T00:00:00",
          "2020-06-30T00:00:00",
          "2020-07-31T00:00:00",
          "2020-08-31T00:00:00",
          "2020-09-30T00:00:00",
          "2020-10-31T00:00:00",
          "2020-11-30T00:00:00",
          "2020-12-31T00:00:00",
          "2021-01-31T00:00:00",
          "2021-02-28T00:00:00",
          "2021-03-31T00:00:00",
          "2021-04-30T00:00:00",
          "2021-05-31T00:00:00",
          "2021-06-30T00:00:00",
          "2021-07-31T00:00:00",
          "2021-08-31T00:00:00",
          "2021-09-30T00:00:00",
          "2021-10-31T00:00:00",
          "2021-11-30T00:00:00",
          "2021-12-31T00:00:00",
          "2022-01-31T00:00:00",
          "2022-02-28T00:00:00",
          "2022-03-31T00:00:00",
          "2022-04-30T00:00:00",
          "2022-05-31T00:00:00",
          "2022-06-30T00:00:00",
          "2022-07-31T00:00:00",
          "2022-08-31T00:00:00",
          "2022-09-30T00:00:00",
          "2022-10-31T00:00:00",
          "2022-11-30T00:00:00",
          "2022-12-31T00:00:00",
          "2023-01-31T00:00:00",
          "2023-02-28T00:00:00",
          "2023-03-31T00:00:00",
          "2023-04-30T00:00:00",
          "2023-05-31T00:00:00",
          "2023-06-30T00:00:00",
          "2023-07-31T00:00:00",
          "2023-08-31T00:00:00"
         ],
         "xaxis": "x",
         "y": [
          6.5,
          6.5,
          6.5,
          6.5,
          6.5,
          6.5,
          6.5,
          6,
          5.5,
          5,
          5,
          4.5,
          4.5,
          4.25,
          3.75,
          3.75,
          3,
          2.25,
          2.25,
          2,
          2,
          2,
          2,
          2,
          2,
          2,
          2.75,
          2.75,
          3.5,
          4.25,
          4.25,
          5.25,
          6.25,
          7.75,
          7.75,
          9.25,
          9.25,
          10.75,
          11.75,
          11.75,
          12.75,
          13.25,
          13.25,
          13.75,
          13.75,
          13.75,
          13.75,
          13.75,
          13.75,
          13.75,
          13.75,
          13.75,
          13.75,
          13.75,
          13.75,
          13.25
         ],
         "yaxis": "y"
        },
        {
         "line": {
          "color": "rgb(255, 0, 0)"
         },
         "name": "Real Interest Rate",
         "type": "scatter",
         "x": [
          "2019-01-31T00:00:00",
          "2019-02-28T00:00:00",
          "2019-03-31T00:00:00",
          "2019-04-30T00:00:00",
          "2019-05-31T00:00:00",
          "2019-06-30T00:00:00",
          "2019-07-31T00:00:00",
          "2019-08-31T00:00:00",
          "2019-09-30T00:00:00",
          "2019-10-31T00:00:00",
          "2019-11-30T00:00:00",
          "2019-12-31T00:00:00",
          "2020-01-31T00:00:00",
          "2020-02-29T00:00:00",
          "2020-03-31T00:00:00",
          "2020-04-30T00:00:00",
          "2020-05-31T00:00:00",
          "2020-06-30T00:00:00",
          "2020-07-31T00:00:00",
          "2020-08-31T00:00:00",
          "2020-09-30T00:00:00",
          "2020-10-31T00:00:00",
          "2020-11-30T00:00:00",
          "2020-12-31T00:00:00",
          "2021-01-31T00:00:00",
          "2021-02-28T00:00:00",
          "2021-03-31T00:00:00",
          "2021-04-30T00:00:00",
          "2021-05-31T00:00:00",
          "2021-06-30T00:00:00",
          "2021-07-31T00:00:00",
          "2021-08-31T00:00:00",
          "2021-09-30T00:00:00",
          "2021-10-31T00:00:00",
          "2021-11-30T00:00:00",
          "2021-12-31T00:00:00",
          "2022-01-31T00:00:00",
          "2022-02-28T00:00:00",
          "2022-03-31T00:00:00",
          "2022-04-30T00:00:00",
          "2022-05-31T00:00:00",
          "2022-06-30T00:00:00",
          "2022-07-31T00:00:00",
          "2022-08-31T00:00:00",
          "2022-09-30T00:00:00",
          "2022-10-31T00:00:00",
          "2022-11-30T00:00:00",
          "2022-12-31T00:00:00",
          "2023-01-31T00:00:00",
          "2023-02-28T00:00:00",
          "2023-03-31T00:00:00",
          "2023-04-30T00:00:00",
          "2023-05-31T00:00:00",
          "2023-06-30T00:00:00",
          "2023-07-31T00:00:00",
          "2023-08-31T00:00:00"
         ],
         "xaxis": "x",
         "y": [
          2.72,
          2.61,
          1.92,
          1.5599999999999996,
          1.84,
          3.13,
          3.28,
          2.57,
          2.61,
          2.46,
          1.73,
          0.1900000000000004,
          0.3099999999999996,
          0.2400000000000002,
          0.4500000000000002,
          1.35,
          1.12,
          0.1200000000000001,
          -0.06,
          -0.4399999999999999,
          -1.14,
          -1.92,
          -2.31,
          -2.52,
          -2.56,
          -3.2,
          -3.35,
          -4.01,
          -4.5600000000000005,
          -4.1,
          -4.74,
          -4.43,
          -4,
          -2.92,
          -2.99,
          -0.8100000000000005,
          -1.1300000000000008,
          0.2100000000000008,
          0.4499999999999993,
          -0.3800000000000008,
          1.0199999999999996,
          1.3599999999999994,
          3.18,
          5.02,
          6.58,
          7.28,
          7.85,
          7.96,
          7.98,
          8.15,
          9.1,
          9.57,
          9.81,
          10.59,
          9.76,
          8.64
         ],
         "yaxis": "y2"
        }
       ],
       "layout": {
        "height": 600,
        "legend": {
         "font": {
          "color": "white"
         }
        },
        "template": {
         "data": {
          "bar": [
           {
            "error_x": {
             "color": "#f2f5fa"
            },
            "error_y": {
             "color": "#f2f5fa"
            },
            "marker": {
             "line": {
              "color": "rgb(17,17,17)",
              "width": 0.5
             },
             "pattern": {
              "fillmode": "overlay",
              "size": 10,
              "solidity": 0.2
             }
            },
            "type": "bar"
           }
          ],
          "barpolar": [
           {
            "marker": {
             "line": {
              "color": "rgb(17,17,17)",
              "width": 0.5
             },
             "pattern": {
              "fillmode": "overlay",
              "size": 10,
              "solidity": 0.2
             }
            },
            "type": "barpolar"
           }
          ],
          "carpet": [
           {
            "aaxis": {
             "endlinecolor": "#A2B1C6",
             "gridcolor": "#506784",
             "linecolor": "#506784",
             "minorgridcolor": "#506784",
             "startlinecolor": "#A2B1C6"
            },
            "baxis": {
             "endlinecolor": "#A2B1C6",
             "gridcolor": "#506784",
             "linecolor": "#506784",
             "minorgridcolor": "#506784",
             "startlinecolor": "#A2B1C6"
            },
            "type": "carpet"
           }
          ],
          "choropleth": [
           {
            "colorbar": {
             "outlinewidth": 0,
             "ticks": ""
            },
            "type": "choropleth"
           }
          ],
          "contour": [
           {
            "colorbar": {
             "outlinewidth": 0,
             "ticks": ""
            },
            "colorscale": [
             [
              0,
              "#0d0887"
             ],
             [
              0.1111111111111111,
              "#46039f"
             ],
             [
              0.2222222222222222,
              "#7201a8"
             ],
             [
              0.3333333333333333,
              "#9c179e"
             ],
             [
              0.4444444444444444,
              "#bd3786"
             ],
             [
              0.5555555555555556,
              "#d8576b"
             ],
             [
              0.6666666666666666,
              "#ed7953"
             ],
             [
              0.7777777777777778,
              "#fb9f3a"
             ],
             [
              0.8888888888888888,
              "#fdca26"
             ],
             [
              1,
              "#f0f921"
             ]
            ],
            "type": "contour"
           }
          ],
          "contourcarpet": [
           {
            "colorbar": {
             "outlinewidth": 0,
             "ticks": ""
            },
            "type": "contourcarpet"
           }
          ],
          "heatmap": [
           {
            "colorbar": {
             "outlinewidth": 0,
             "ticks": ""
            },
            "colorscale": [
             [
              0,
              "#0d0887"
             ],
             [
              0.1111111111111111,
              "#46039f"
             ],
             [
              0.2222222222222222,
              "#7201a8"
             ],
             [
              0.3333333333333333,
              "#9c179e"
             ],
             [
              0.4444444444444444,
              "#bd3786"
             ],
             [
              0.5555555555555556,
              "#d8576b"
             ],
             [
              0.6666666666666666,
              "#ed7953"
             ],
             [
              0.7777777777777778,
              "#fb9f3a"
             ],
             [
              0.8888888888888888,
              "#fdca26"
             ],
             [
              1,
              "#f0f921"
             ]
            ],
            "type": "heatmap"
           }
          ],
          "heatmapgl": [
           {
            "colorbar": {
             "outlinewidth": 0,
             "ticks": ""
            },
            "colorscale": [
             [
              0,
              "#0d0887"
             ],
             [
              0.1111111111111111,
              "#46039f"
             ],
             [
              0.2222222222222222,
              "#7201a8"
             ],
             [
              0.3333333333333333,
              "#9c179e"
             ],
             [
              0.4444444444444444,
              "#bd3786"
             ],
             [
              0.5555555555555556,
              "#d8576b"
             ],
             [
              0.6666666666666666,
              "#ed7953"
             ],
             [
              0.7777777777777778,
              "#fb9f3a"
             ],
             [
              0.8888888888888888,
              "#fdca26"
             ],
             [
              1,
              "#f0f921"
             ]
            ],
            "type": "heatmapgl"
           }
          ],
          "histogram": [
           {
            "marker": {
             "pattern": {
              "fillmode": "overlay",
              "size": 10,
              "solidity": 0.2
             }
            },
            "type": "histogram"
           }
          ],
          "histogram2d": [
           {
            "colorbar": {
             "outlinewidth": 0,
             "ticks": ""
            },
            "colorscale": [
             [
              0,
              "#0d0887"
             ],
             [
              0.1111111111111111,
              "#46039f"
             ],
             [
              0.2222222222222222,
              "#7201a8"
             ],
             [
              0.3333333333333333,
              "#9c179e"
             ],
             [
              0.4444444444444444,
              "#bd3786"
             ],
             [
              0.5555555555555556,
              "#d8576b"
             ],
             [
              0.6666666666666666,
              "#ed7953"
             ],
             [
              0.7777777777777778,
              "#fb9f3a"
             ],
             [
              0.8888888888888888,
              "#fdca26"
             ],
             [
              1,
              "#f0f921"
             ]
            ],
            "type": "histogram2d"
           }
          ],
          "histogram2dcontour": [
           {
            "colorbar": {
             "outlinewidth": 0,
             "ticks": ""
            },
            "colorscale": [
             [
              0,
              "#0d0887"
             ],
             [
              0.1111111111111111,
              "#46039f"
             ],
             [
              0.2222222222222222,
              "#7201a8"
             ],
             [
              0.3333333333333333,
              "#9c179e"
             ],
             [
              0.4444444444444444,
              "#bd3786"
             ],
             [
              0.5555555555555556,
              "#d8576b"
             ],
             [
              0.6666666666666666,
              "#ed7953"
             ],
             [
              0.7777777777777778,
              "#fb9f3a"
             ],
             [
              0.8888888888888888,
              "#fdca26"
             ],
             [
              1,
              "#f0f921"
             ]
            ],
            "type": "histogram2dcontour"
           }
          ],
          "mesh3d": [
           {
            "colorbar": {
             "outlinewidth": 0,
             "ticks": ""
            },
            "type": "mesh3d"
           }
          ],
          "parcoords": [
           {
            "line": {
             "colorbar": {
              "outlinewidth": 0,
              "ticks": ""
             }
            },
            "type": "parcoords"
           }
          ],
          "pie": [
           {
            "automargin": true,
            "type": "pie"
           }
          ],
          "scatter": [
           {
            "marker": {
             "line": {
              "color": "#283442"
             }
            },
            "type": "scatter"
           }
          ],
          "scatter3d": [
           {
            "line": {
             "colorbar": {
              "outlinewidth": 0,
              "ticks": ""
             }
            },
            "marker": {
             "colorbar": {
              "outlinewidth": 0,
              "ticks": ""
             }
            },
            "type": "scatter3d"
           }
          ],
          "scattercarpet": [
           {
            "marker": {
             "colorbar": {
              "outlinewidth": 0,
              "ticks": ""
             }
            },
            "type": "scattercarpet"
           }
          ],
          "scattergeo": [
           {
            "marker": {
             "colorbar": {
              "outlinewidth": 0,
              "ticks": ""
             }
            },
            "type": "scattergeo"
           }
          ],
          "scattergl": [
           {
            "marker": {
             "line": {
              "color": "#283442"
             }
            },
            "type": "scattergl"
           }
          ],
          "scattermapbox": [
           {
            "marker": {
             "colorbar": {
              "outlinewidth": 0,
              "ticks": ""
             }
            },
            "type": "scattermapbox"
           }
          ],
          "scatterpolar": [
           {
            "marker": {
             "colorbar": {
              "outlinewidth": 0,
              "ticks": ""
             }
            },
            "type": "scatterpolar"
           }
          ],
          "scatterpolargl": [
           {
            "marker": {
             "colorbar": {
              "outlinewidth": 0,
              "ticks": ""
             }
            },
            "type": "scatterpolargl"
           }
          ],
          "scatterternary": [
           {
            "marker": {
             "colorbar": {
              "outlinewidth": 0,
              "ticks": ""
             }
            },
            "type": "scatterternary"
           }
          ],
          "surface": [
           {
            "colorbar": {
             "outlinewidth": 0,
             "ticks": ""
            },
            "colorscale": [
             [
              0,
              "#0d0887"
             ],
             [
              0.1111111111111111,
              "#46039f"
             ],
             [
              0.2222222222222222,
              "#7201a8"
             ],
             [
              0.3333333333333333,
              "#9c179e"
             ],
             [
              0.4444444444444444,
              "#bd3786"
             ],
             [
              0.5555555555555556,
              "#d8576b"
             ],
             [
              0.6666666666666666,
              "#ed7953"
             ],
             [
              0.7777777777777778,
              "#fb9f3a"
             ],
             [
              0.8888888888888888,
              "#fdca26"
             ],
             [
              1,
              "#f0f921"
             ]
            ],
            "type": "surface"
           }
          ],
          "table": [
           {
            "cells": {
             "fill": {
              "color": "#506784"
             },
             "line": {
              "color": "rgb(17,17,17)"
             }
            },
            "header": {
             "fill": {
              "color": "#2a3f5f"
             },
             "line": {
              "color": "rgb(17,17,17)"
             }
            },
            "type": "table"
           }
          ]
         },
         "layout": {
          "annotationdefaults": {
           "arrowcolor": "#f2f5fa",
           "arrowhead": 0,
           "arrowwidth": 1
          },
          "autotypenumbers": "strict",
          "coloraxis": {
           "colorbar": {
            "outlinewidth": 0,
            "ticks": ""
           }
          },
          "colorscale": {
           "diverging": [
            [
             0,
             "#8e0152"
            ],
            [
             0.1,
             "#c51b7d"
            ],
            [
             0.2,
             "#de77ae"
            ],
            [
             0.3,
             "#f1b6da"
            ],
            [
             0.4,
             "#fde0ef"
            ],
            [
             0.5,
             "#f7f7f7"
            ],
            [
             0.6,
             "#e6f5d0"
            ],
            [
             0.7,
             "#b8e186"
            ],
            [
             0.8,
             "#7fbc41"
            ],
            [
             0.9,
             "#4d9221"
            ],
            [
             1,
             "#276419"
            ]
           ],
           "sequential": [
            [
             0,
             "#0d0887"
            ],
            [
             0.1111111111111111,
             "#46039f"
            ],
            [
             0.2222222222222222,
             "#7201a8"
            ],
            [
             0.3333333333333333,
             "#9c179e"
            ],
            [
             0.4444444444444444,
             "#bd3786"
            ],
            [
             0.5555555555555556,
             "#d8576b"
            ],
            [
             0.6666666666666666,
             "#ed7953"
            ],
            [
             0.7777777777777778,
             "#fb9f3a"
            ],
            [
             0.8888888888888888,
             "#fdca26"
            ],
            [
             1,
             "#f0f921"
            ]
           ],
           "sequentialminus": [
            [
             0,
             "#0d0887"
            ],
            [
             0.1111111111111111,
             "#46039f"
            ],
            [
             0.2222222222222222,
             "#7201a8"
            ],
            [
             0.3333333333333333,
             "#9c179e"
            ],
            [
             0.4444444444444444,
             "#bd3786"
            ],
            [
             0.5555555555555556,
             "#d8576b"
            ],
            [
             0.6666666666666666,
             "#ed7953"
            ],
            [
             0.7777777777777778,
             "#fb9f3a"
            ],
            [
             0.8888888888888888,
             "#fdca26"
            ],
            [
             1,
             "#f0f921"
            ]
           ]
          },
          "colorway": [
           "#636efa",
           "#EF553B",
           "#00cc96",
           "#ab63fa",
           "#FFA15A",
           "#19d3f3",
           "#FF6692",
           "#B6E880",
           "#FF97FF",
           "#FECB52"
          ],
          "font": {
           "color": "#f2f5fa"
          },
          "geo": {
           "bgcolor": "rgb(17,17,17)",
           "lakecolor": "rgb(17,17,17)",
           "landcolor": "rgb(17,17,17)",
           "showlakes": true,
           "showland": true,
           "subunitcolor": "#506784"
          },
          "hoverlabel": {
           "align": "left"
          },
          "hovermode": "closest",
          "mapbox": {
           "style": "dark"
          },
          "paper_bgcolor": "rgb(17,17,17)",
          "plot_bgcolor": "rgb(17,17,17)",
          "polar": {
           "angularaxis": {
            "gridcolor": "#506784",
            "linecolor": "#506784",
            "ticks": ""
           },
           "bgcolor": "rgb(17,17,17)",
           "radialaxis": {
            "gridcolor": "#506784",
            "linecolor": "#506784",
            "ticks": ""
           }
          },
          "scene": {
           "xaxis": {
            "backgroundcolor": "rgb(17,17,17)",
            "gridcolor": "#506784",
            "gridwidth": 2,
            "linecolor": "#506784",
            "showbackground": true,
            "ticks": "",
            "zerolinecolor": "#C8D4E3"
           },
           "yaxis": {
            "backgroundcolor": "rgb(17,17,17)",
            "gridcolor": "#506784",
            "gridwidth": 2,
            "linecolor": "#506784",
            "showbackground": true,
            "ticks": "",
            "zerolinecolor": "#C8D4E3"
           },
           "zaxis": {
            "backgroundcolor": "rgb(17,17,17)",
            "gridcolor": "#506784",
            "gridwidth": 2,
            "linecolor": "#506784",
            "showbackground": true,
            "ticks": "",
            "zerolinecolor": "#C8D4E3"
           }
          },
          "shapedefaults": {
           "line": {
            "color": "#f2f5fa"
           }
          },
          "sliderdefaults": {
           "bgcolor": "#C8D4E3",
           "bordercolor": "rgb(17,17,17)",
           "borderwidth": 1,
           "tickwidth": 0
          },
          "ternary": {
           "aaxis": {
            "gridcolor": "#506784",
            "linecolor": "#506784",
            "ticks": ""
           },
           "baxis": {
            "gridcolor": "#506784",
            "linecolor": "#506784",
            "ticks": ""
           },
           "bgcolor": "rgb(17,17,17)",
           "caxis": {
            "gridcolor": "#506784",
            "linecolor": "#506784",
            "ticks": ""
           }
          },
          "title": {
           "x": 0.05
          },
          "updatemenudefaults": {
           "bgcolor": "#506784",
           "borderwidth": 0
          },
          "xaxis": {
           "automargin": true,
           "gridcolor": "#283442",
           "linecolor": "#506784",
           "ticks": "",
           "title": {
            "standoff": 15
           },
           "zerolinecolor": "#283442",
           "zerolinewidth": 2
          },
          "yaxis": {
           "automargin": true,
           "gridcolor": "#283442",
           "linecolor": "#506784",
           "ticks": "",
           "title": {
            "standoff": 15
           },
           "zerolinecolor": "#283442",
           "zerolinewidth": 2
          }
         }
        },
        "title": {
         "text": "SELIC Rate and Real Interest Rate Over Time"
        },
        "xaxis": {
         "anchor": "y",
         "domain": [
          0,
          0.94
         ],
         "tickfont": {
          "color": "white"
         },
         "title": {
          "font": {
           "color": "white"
          },
          "text": "Date"
         }
        },
        "yaxis": {
         "anchor": "x",
         "domain": [
          0,
          1
         ],
         "tickfont": {
          "color": "white"
         },
         "title": {
          "font": {
           "color": "white"
          },
          "text": "SELIC Rate (%)"
         }
        },
        "yaxis2": {
         "anchor": "x",
         "overlaying": "y",
         "side": "right",
         "tickfont": {
          "color": "white"
         },
         "title": {
          "font": {
           "color": "white"
          },
          "text": "Real Interest Rate (%)"
         }
        }
       }
      }
     },
     "metadata": {},
     "output_type": "display_data"
    }
   ],
   "source": [
    "fig_selic = sp.make_subplots(specs=[[{\"secondary_y\": True}]])\n",
    "\n",
    "fig_selic.add_trace(go.Scatter(x=df_macroeconomic_book['date'], y=df_macroeconomic_book['selic'], name='SELIC', line=dict(color='rgb(100, 195, 181)')), secondary_y=False)\n",
    "fig_selic.add_trace(go.Scatter(x=df_macroeconomic_book['date'], y=df_macroeconomic_book['real_interest_rate'], name='Real Interest Rate', line=dict(color='rgb(255, 0, 0)')), secondary_y=True)\n",
    "\n",
    "fig_selic.update_layout(title_text='SELIC Rate and Real Interest Rate Over Time', template='plotly_dark', legend=dict(font=dict(color='white')), height=600)\n",
    "\n",
    "fig_selic.update_xaxes(title='Date', title_font=dict(color='white'), tickfont=dict(color='white'))\n",
    "fig_selic.update_yaxes(title='SELIC Rate (%)', secondary_y=False, title_font=dict(color='white'), tickfont=dict(color='white'))\n",
    "fig_selic.update_yaxes(title='Real Interest Rate (%)', secondary_y=True, title_font=dict(color='white'), tickfont=dict(color='white'))\n",
    "\n",
    "fig_selic.show()"
   ]
  },
  {
   "cell_type": "markdown",
   "metadata": {},
   "source": [
    "The graph illustrates the trajectory of the `SELIC rate` and the `Real Interest Rate` from `July 2019` to `July 2023`, highlighting key economic indicators that influence Brazil's monetary policy.\n",
    "\n",
    "**Economic Context (`2019-2020`)**\n",
    "\n",
    "- **July 2019**: The `SELIC rate` was around **6%**, with the `Real Interest Rate` slightly above **2%**.\n",
    "- **2020**: `SELIC` experienced a gradual decline, reaching near **2%** by mid-2020. The `Real Interest Rate` dipped into negative territory, suggesting real earnings on savings were below inflation.\n",
    "\n",
    "**Policy Shift (`2021`)**\n",
    "\n",
    "- **Early 2021**: `SELIC` started to increase, indicating tightening monetary policy, moving from **2%** to above **6%** by year-end. The `Real Interest Rate` also began to rise from negative values, reflecting an adjustment to rising inflation.\n",
    "\n",
    "**Inflation Control Measures (`2022`)**\n",
    "\n",
    "- **Early 2022**: `SELIC` reached a peak above **12%**, while the `Real Interest Rate` climbed to around **6%**, showing the Central Bank's aggressive measures to control inflation.\n",
    "\n",
    "**Economic Stabilization (`Mid-2022 to 2023`)**\n",
    "\n",
    "- **Mid-2022 to Early 2023**: The `SELIC rate` plateaued at around **12%**, with the `Real Interest Rate` stabilizing around **5-6%**. This indicates an attempt to maintain a tight grip on inflation while offering real growth in savings.\n",
    "\n",
    "**Recent Trends (`Mid-2023`)**\n",
    "\n",
    "- **July 2023**: The `SELIC rate` shows a slight decrease to just below **12%**, while the `Real Interest Rate` has a modest downtrend, yet remains positive, suggesting a cautious yet slightly relaxed monetary policy stance.\n",
    "\n",
    "The graph reflects the Central Bank's response to economic cycles and inflationary pressures, adjusting the `SELIC rate` to manage inflation and maintain positive `Real Interest Rates` for savers.\n"
   ]
  },
  {
   "cell_type": "markdown",
   "metadata": {},
   "source": [
    "#### Consumer Confidence:"
   ]
  },
  {
   "cell_type": "code",
   "execution_count": 99,
   "metadata": {},
   "outputs": [
    {
     "data": {
      "application/vnd.plotly.v1+json": {
       "config": {
        "plotlyServerURL": "https://plot.ly"
       },
       "data": [
        {
         "hovertemplate": "date=%{x}<br>confidence=%{y}<extra></extra>",
         "legendgroup": "",
         "line": {
          "color": "rgb(100, 195, 181)",
          "dash": "solid"
         },
         "marker": {
          "symbol": "circle"
         },
         "mode": "lines",
         "name": "",
         "orientation": "v",
         "showlegend": false,
         "type": "scatter",
         "x": [
          "2019-01-31T00:00:00",
          "2019-02-28T00:00:00",
          "2019-03-31T00:00:00",
          "2019-04-30T00:00:00",
          "2019-05-31T00:00:00",
          "2019-06-30T00:00:00",
          "2019-07-31T00:00:00",
          "2019-08-31T00:00:00",
          "2019-09-30T00:00:00",
          "2019-10-31T00:00:00",
          "2019-11-30T00:00:00",
          "2019-12-31T00:00:00",
          "2020-01-31T00:00:00",
          "2020-02-29T00:00:00",
          "2020-03-31T00:00:00",
          "2020-04-30T00:00:00",
          "2020-05-31T00:00:00",
          "2020-06-30T00:00:00",
          "2020-07-31T00:00:00",
          "2020-08-31T00:00:00",
          "2020-09-30T00:00:00",
          "2020-10-31T00:00:00",
          "2020-11-30T00:00:00",
          "2020-12-31T00:00:00",
          "2021-01-31T00:00:00",
          "2021-02-28T00:00:00",
          "2021-03-31T00:00:00",
          "2021-04-30T00:00:00",
          "2021-05-31T00:00:00",
          "2021-06-30T00:00:00",
          "2021-07-31T00:00:00",
          "2021-08-31T00:00:00",
          "2021-09-30T00:00:00",
          "2021-10-31T00:00:00",
          "2021-11-30T00:00:00",
          "2021-12-31T00:00:00",
          "2022-01-31T00:00:00",
          "2022-02-28T00:00:00",
          "2022-03-31T00:00:00",
          "2022-04-30T00:00:00",
          "2022-05-31T00:00:00",
          "2022-06-30T00:00:00",
          "2022-07-31T00:00:00",
          "2022-08-31T00:00:00",
          "2022-09-30T00:00:00",
          "2022-10-31T00:00:00",
          "2022-11-30T00:00:00",
          "2022-12-31T00:00:00",
          "2023-01-31T00:00:00",
          "2023-02-28T00:00:00",
          "2023-03-31T00:00:00",
          "2023-04-30T00:00:00",
          "2023-05-31T00:00:00",
          "2023-06-30T00:00:00",
          "2023-07-31T00:00:00",
          "2023-08-31T00:00:00"
         ],
         "xaxis": "x",
         "y": [
          128.64,
          139.39,
          125.53,
          121.71,
          117.01,
          107.38,
          110.92,
          114.58,
          112.19,
          111.82,
          118.64,
          121.26,
          121.27,
          131.79,
          124.58,
          111.97,
          96.82,
          100.43,
          102.84,
          102.62,
          108.36,
          107.61,
          111.65,
          111.71,
          116.09,
          116.23,
          112.9,
          104.95,
          105.9,
          107.32,
          110.98,
          111.99,
          114.66,
          109.37,
          109.35,
          112,
          108.35,
          104.05,
          105.12,
          104.35,
          105.87,
          103.6,
          105.58,
          106.76,
          111.46,
          114.23,
          116.79,
          122.84,
          125.38,
          128.78,
          127.42,
          125.1,
          122.22,
          125.27,
          124.46,
          131.02
         ],
         "yaxis": "y"
        }
       ],
       "layout": {
        "legend": {
         "tracegroupgap": 0
        },
        "template": {
         "data": {
          "bar": [
           {
            "error_x": {
             "color": "#f2f5fa"
            },
            "error_y": {
             "color": "#f2f5fa"
            },
            "marker": {
             "line": {
              "color": "rgb(17,17,17)",
              "width": 0.5
             },
             "pattern": {
              "fillmode": "overlay",
              "size": 10,
              "solidity": 0.2
             }
            },
            "type": "bar"
           }
          ],
          "barpolar": [
           {
            "marker": {
             "line": {
              "color": "rgb(17,17,17)",
              "width": 0.5
             },
             "pattern": {
              "fillmode": "overlay",
              "size": 10,
              "solidity": 0.2
             }
            },
            "type": "barpolar"
           }
          ],
          "carpet": [
           {
            "aaxis": {
             "endlinecolor": "#A2B1C6",
             "gridcolor": "#506784",
             "linecolor": "#506784",
             "minorgridcolor": "#506784",
             "startlinecolor": "#A2B1C6"
            },
            "baxis": {
             "endlinecolor": "#A2B1C6",
             "gridcolor": "#506784",
             "linecolor": "#506784",
             "minorgridcolor": "#506784",
             "startlinecolor": "#A2B1C6"
            },
            "type": "carpet"
           }
          ],
          "choropleth": [
           {
            "colorbar": {
             "outlinewidth": 0,
             "ticks": ""
            },
            "type": "choropleth"
           }
          ],
          "contour": [
           {
            "colorbar": {
             "outlinewidth": 0,
             "ticks": ""
            },
            "colorscale": [
             [
              0,
              "#0d0887"
             ],
             [
              0.1111111111111111,
              "#46039f"
             ],
             [
              0.2222222222222222,
              "#7201a8"
             ],
             [
              0.3333333333333333,
              "#9c179e"
             ],
             [
              0.4444444444444444,
              "#bd3786"
             ],
             [
              0.5555555555555556,
              "#d8576b"
             ],
             [
              0.6666666666666666,
              "#ed7953"
             ],
             [
              0.7777777777777778,
              "#fb9f3a"
             ],
             [
              0.8888888888888888,
              "#fdca26"
             ],
             [
              1,
              "#f0f921"
             ]
            ],
            "type": "contour"
           }
          ],
          "contourcarpet": [
           {
            "colorbar": {
             "outlinewidth": 0,
             "ticks": ""
            },
            "type": "contourcarpet"
           }
          ],
          "heatmap": [
           {
            "colorbar": {
             "outlinewidth": 0,
             "ticks": ""
            },
            "colorscale": [
             [
              0,
              "#0d0887"
             ],
             [
              0.1111111111111111,
              "#46039f"
             ],
             [
              0.2222222222222222,
              "#7201a8"
             ],
             [
              0.3333333333333333,
              "#9c179e"
             ],
             [
              0.4444444444444444,
              "#bd3786"
             ],
             [
              0.5555555555555556,
              "#d8576b"
             ],
             [
              0.6666666666666666,
              "#ed7953"
             ],
             [
              0.7777777777777778,
              "#fb9f3a"
             ],
             [
              0.8888888888888888,
              "#fdca26"
             ],
             [
              1,
              "#f0f921"
             ]
            ],
            "type": "heatmap"
           }
          ],
          "heatmapgl": [
           {
            "colorbar": {
             "outlinewidth": 0,
             "ticks": ""
            },
            "colorscale": [
             [
              0,
              "#0d0887"
             ],
             [
              0.1111111111111111,
              "#46039f"
             ],
             [
              0.2222222222222222,
              "#7201a8"
             ],
             [
              0.3333333333333333,
              "#9c179e"
             ],
             [
              0.4444444444444444,
              "#bd3786"
             ],
             [
              0.5555555555555556,
              "#d8576b"
             ],
             [
              0.6666666666666666,
              "#ed7953"
             ],
             [
              0.7777777777777778,
              "#fb9f3a"
             ],
             [
              0.8888888888888888,
              "#fdca26"
             ],
             [
              1,
              "#f0f921"
             ]
            ],
            "type": "heatmapgl"
           }
          ],
          "histogram": [
           {
            "marker": {
             "pattern": {
              "fillmode": "overlay",
              "size": 10,
              "solidity": 0.2
             }
            },
            "type": "histogram"
           }
          ],
          "histogram2d": [
           {
            "colorbar": {
             "outlinewidth": 0,
             "ticks": ""
            },
            "colorscale": [
             [
              0,
              "#0d0887"
             ],
             [
              0.1111111111111111,
              "#46039f"
             ],
             [
              0.2222222222222222,
              "#7201a8"
             ],
             [
              0.3333333333333333,
              "#9c179e"
             ],
             [
              0.4444444444444444,
              "#bd3786"
             ],
             [
              0.5555555555555556,
              "#d8576b"
             ],
             [
              0.6666666666666666,
              "#ed7953"
             ],
             [
              0.7777777777777778,
              "#fb9f3a"
             ],
             [
              0.8888888888888888,
              "#fdca26"
             ],
             [
              1,
              "#f0f921"
             ]
            ],
            "type": "histogram2d"
           }
          ],
          "histogram2dcontour": [
           {
            "colorbar": {
             "outlinewidth": 0,
             "ticks": ""
            },
            "colorscale": [
             [
              0,
              "#0d0887"
             ],
             [
              0.1111111111111111,
              "#46039f"
             ],
             [
              0.2222222222222222,
              "#7201a8"
             ],
             [
              0.3333333333333333,
              "#9c179e"
             ],
             [
              0.4444444444444444,
              "#bd3786"
             ],
             [
              0.5555555555555556,
              "#d8576b"
             ],
             [
              0.6666666666666666,
              "#ed7953"
             ],
             [
              0.7777777777777778,
              "#fb9f3a"
             ],
             [
              0.8888888888888888,
              "#fdca26"
             ],
             [
              1,
              "#f0f921"
             ]
            ],
            "type": "histogram2dcontour"
           }
          ],
          "mesh3d": [
           {
            "colorbar": {
             "outlinewidth": 0,
             "ticks": ""
            },
            "type": "mesh3d"
           }
          ],
          "parcoords": [
           {
            "line": {
             "colorbar": {
              "outlinewidth": 0,
              "ticks": ""
             }
            },
            "type": "parcoords"
           }
          ],
          "pie": [
           {
            "automargin": true,
            "type": "pie"
           }
          ],
          "scatter": [
           {
            "marker": {
             "line": {
              "color": "#283442"
             }
            },
            "type": "scatter"
           }
          ],
          "scatter3d": [
           {
            "line": {
             "colorbar": {
              "outlinewidth": 0,
              "ticks": ""
             }
            },
            "marker": {
             "colorbar": {
              "outlinewidth": 0,
              "ticks": ""
             }
            },
            "type": "scatter3d"
           }
          ],
          "scattercarpet": [
           {
            "marker": {
             "colorbar": {
              "outlinewidth": 0,
              "ticks": ""
             }
            },
            "type": "scattercarpet"
           }
          ],
          "scattergeo": [
           {
            "marker": {
             "colorbar": {
              "outlinewidth": 0,
              "ticks": ""
             }
            },
            "type": "scattergeo"
           }
          ],
          "scattergl": [
           {
            "marker": {
             "line": {
              "color": "#283442"
             }
            },
            "type": "scattergl"
           }
          ],
          "scattermapbox": [
           {
            "marker": {
             "colorbar": {
              "outlinewidth": 0,
              "ticks": ""
             }
            },
            "type": "scattermapbox"
           }
          ],
          "scatterpolar": [
           {
            "marker": {
             "colorbar": {
              "outlinewidth": 0,
              "ticks": ""
             }
            },
            "type": "scatterpolar"
           }
          ],
          "scatterpolargl": [
           {
            "marker": {
             "colorbar": {
              "outlinewidth": 0,
              "ticks": ""
             }
            },
            "type": "scatterpolargl"
           }
          ],
          "scatterternary": [
           {
            "marker": {
             "colorbar": {
              "outlinewidth": 0,
              "ticks": ""
             }
            },
            "type": "scatterternary"
           }
          ],
          "surface": [
           {
            "colorbar": {
             "outlinewidth": 0,
             "ticks": ""
            },
            "colorscale": [
             [
              0,
              "#0d0887"
             ],
             [
              0.1111111111111111,
              "#46039f"
             ],
             [
              0.2222222222222222,
              "#7201a8"
             ],
             [
              0.3333333333333333,
              "#9c179e"
             ],
             [
              0.4444444444444444,
              "#bd3786"
             ],
             [
              0.5555555555555556,
              "#d8576b"
             ],
             [
              0.6666666666666666,
              "#ed7953"
             ],
             [
              0.7777777777777778,
              "#fb9f3a"
             ],
             [
              0.8888888888888888,
              "#fdca26"
             ],
             [
              1,
              "#f0f921"
             ]
            ],
            "type": "surface"
           }
          ],
          "table": [
           {
            "cells": {
             "fill": {
              "color": "#506784"
             },
             "line": {
              "color": "rgb(17,17,17)"
             }
            },
            "header": {
             "fill": {
              "color": "#2a3f5f"
             },
             "line": {
              "color": "rgb(17,17,17)"
             }
            },
            "type": "table"
           }
          ]
         },
         "layout": {
          "annotationdefaults": {
           "arrowcolor": "#f2f5fa",
           "arrowhead": 0,
           "arrowwidth": 1
          },
          "autotypenumbers": "strict",
          "coloraxis": {
           "colorbar": {
            "outlinewidth": 0,
            "ticks": ""
           }
          },
          "colorscale": {
           "diverging": [
            [
             0,
             "#8e0152"
            ],
            [
             0.1,
             "#c51b7d"
            ],
            [
             0.2,
             "#de77ae"
            ],
            [
             0.3,
             "#f1b6da"
            ],
            [
             0.4,
             "#fde0ef"
            ],
            [
             0.5,
             "#f7f7f7"
            ],
            [
             0.6,
             "#e6f5d0"
            ],
            [
             0.7,
             "#b8e186"
            ],
            [
             0.8,
             "#7fbc41"
            ],
            [
             0.9,
             "#4d9221"
            ],
            [
             1,
             "#276419"
            ]
           ],
           "sequential": [
            [
             0,
             "#0d0887"
            ],
            [
             0.1111111111111111,
             "#46039f"
            ],
            [
             0.2222222222222222,
             "#7201a8"
            ],
            [
             0.3333333333333333,
             "#9c179e"
            ],
            [
             0.4444444444444444,
             "#bd3786"
            ],
            [
             0.5555555555555556,
             "#d8576b"
            ],
            [
             0.6666666666666666,
             "#ed7953"
            ],
            [
             0.7777777777777778,
             "#fb9f3a"
            ],
            [
             0.8888888888888888,
             "#fdca26"
            ],
            [
             1,
             "#f0f921"
            ]
           ],
           "sequentialminus": [
            [
             0,
             "#0d0887"
            ],
            [
             0.1111111111111111,
             "#46039f"
            ],
            [
             0.2222222222222222,
             "#7201a8"
            ],
            [
             0.3333333333333333,
             "#9c179e"
            ],
            [
             0.4444444444444444,
             "#bd3786"
            ],
            [
             0.5555555555555556,
             "#d8576b"
            ],
            [
             0.6666666666666666,
             "#ed7953"
            ],
            [
             0.7777777777777778,
             "#fb9f3a"
            ],
            [
             0.8888888888888888,
             "#fdca26"
            ],
            [
             1,
             "#f0f921"
            ]
           ]
          },
          "colorway": [
           "#636efa",
           "#EF553B",
           "#00cc96",
           "#ab63fa",
           "#FFA15A",
           "#19d3f3",
           "#FF6692",
           "#B6E880",
           "#FF97FF",
           "#FECB52"
          ],
          "font": {
           "color": "#f2f5fa"
          },
          "geo": {
           "bgcolor": "rgb(17,17,17)",
           "lakecolor": "rgb(17,17,17)",
           "landcolor": "rgb(17,17,17)",
           "showlakes": true,
           "showland": true,
           "subunitcolor": "#506784"
          },
          "hoverlabel": {
           "align": "left"
          },
          "hovermode": "closest",
          "mapbox": {
           "style": "dark"
          },
          "paper_bgcolor": "rgb(17,17,17)",
          "plot_bgcolor": "rgb(17,17,17)",
          "polar": {
           "angularaxis": {
            "gridcolor": "#506784",
            "linecolor": "#506784",
            "ticks": ""
           },
           "bgcolor": "rgb(17,17,17)",
           "radialaxis": {
            "gridcolor": "#506784",
            "linecolor": "#506784",
            "ticks": ""
           }
          },
          "scene": {
           "xaxis": {
            "backgroundcolor": "rgb(17,17,17)",
            "gridcolor": "#506784",
            "gridwidth": 2,
            "linecolor": "#506784",
            "showbackground": true,
            "ticks": "",
            "zerolinecolor": "#C8D4E3"
           },
           "yaxis": {
            "backgroundcolor": "rgb(17,17,17)",
            "gridcolor": "#506784",
            "gridwidth": 2,
            "linecolor": "#506784",
            "showbackground": true,
            "ticks": "",
            "zerolinecolor": "#C8D4E3"
           },
           "zaxis": {
            "backgroundcolor": "rgb(17,17,17)",
            "gridcolor": "#506784",
            "gridwidth": 2,
            "linecolor": "#506784",
            "showbackground": true,
            "ticks": "",
            "zerolinecolor": "#C8D4E3"
           }
          },
          "shapedefaults": {
           "line": {
            "color": "#f2f5fa"
           }
          },
          "sliderdefaults": {
           "bgcolor": "#C8D4E3",
           "bordercolor": "rgb(17,17,17)",
           "borderwidth": 1,
           "tickwidth": 0
          },
          "ternary": {
           "aaxis": {
            "gridcolor": "#506784",
            "linecolor": "#506784",
            "ticks": ""
           },
           "baxis": {
            "gridcolor": "#506784",
            "linecolor": "#506784",
            "ticks": ""
           },
           "bgcolor": "rgb(17,17,17)",
           "caxis": {
            "gridcolor": "#506784",
            "linecolor": "#506784",
            "ticks": ""
           }
          },
          "title": {
           "x": 0.05
          },
          "updatemenudefaults": {
           "bgcolor": "#506784",
           "borderwidth": 0
          },
          "xaxis": {
           "automargin": true,
           "gridcolor": "#283442",
           "linecolor": "#506784",
           "ticks": "",
           "title": {
            "standoff": 15
           },
           "zerolinecolor": "#283442",
           "zerolinewidth": 2
          },
          "yaxis": {
           "automargin": true,
           "gridcolor": "#283442",
           "linecolor": "#506784",
           "ticks": "",
           "title": {
            "standoff": 15
           },
           "zerolinecolor": "#283442",
           "zerolinewidth": 2
          }
         }
        },
        "title": {
         "text": "Consumer Confidence"
        },
        "xaxis": {
         "anchor": "y",
         "domain": [
          0,
          1
         ],
         "tickfont": {
          "color": "white"
         },
         "title": {
          "font": {
           "color": "white"
          },
          "text": "Date"
         }
        },
        "yaxis": {
         "anchor": "x",
         "domain": [
          0,
          1
         ],
         "tickfont": {
          "color": "white"
         },
         "title": {
          "font": {
           "color": "white"
          },
          "text": "Confidence Index"
         }
        }
       }
      }
     },
     "metadata": {},
     "output_type": "display_data"
    }
   ],
   "source": [
    "fig_confidence = px.line(df_macroeconomic_book, x='date', y='confidence', title='Consumer Confidence', color_discrete_sequence=['rgb(100, 195, 181)'], template='plotly_dark')\n",
    "fig_confidence.update_xaxes(title='Date', title_font=dict(color='white'), tickfont=dict(color='white'))\n",
    "fig_confidence.update_yaxes(title='Confidence Index', title_font=dict(color='white'), tickfont=dict(color='white'))\n",
    "\n",
    "fig_confidence.show()"
   ]
  },
  {
   "cell_type": "markdown",
   "metadata": {},
   "source": [
    "The graph tracks the changes in the `Consumer Confidence Index` over a four-year period, reflecting the public's economic sentiment.\n",
    "\n",
    "**Initial Confidence (`July 2019`)**\n",
    "\n",
    "- At the start of the period, the index stood at around **110**, suggesting moderate consumer confidence.\n",
    "\n",
    "**Peak and Trough (`2020`)**\n",
    "\n",
    "- The index peaked at over **130** in early `2020`, indicating a strong consumer outlook.\n",
    "- It then fell sharply, bottoming out near **100** by mid-`2020`, likely due to economic uncertainties.\n",
    "\n",
    "**Gradual Recovery (`2021`)**\n",
    "\n",
    "- Throughout `2021`, the index showed a gradual recovery from the previous low, hovering around **110-120**, signaling improving consumer sentiment.\n",
    "\n",
    "**Fluctuations and Recovery (`2022`)**\n",
    "\n",
    "- `2022` saw fluctuations with the index oscillating between **110** and just above **120**.\n",
    "- By the end of `2022`, the index had an upward trend, indicating a return of consumer optimism.\n",
    "\n",
    "**Recent Uptrend (`2023`)**\n",
    "\n",
    "- As of `July 2023`, the index has climbed to approximately **130**, a sign of robust consumer confidence and positive economic expectations.\n",
    "\n",
    "The Consumer Confidence Index's trajectory over these years shows the volatility of consumer sentiment in response to economic changes and potential recovery perceptions in recent months.\n"
   ]
  },
  {
   "cell_type": "markdown",
   "metadata": {},
   "source": [
    "#### (PIB) GDP growth (Gross Domestic Product growth):"
   ]
  },
  {
   "cell_type": "code",
   "execution_count": 100,
   "metadata": {},
   "outputs": [
    {
     "data": {
      "application/vnd.plotly.v1+json": {
       "config": {
        "plotlyServerURL": "https://plot.ly"
       },
       "data": [
        {
         "hovertemplate": "date=%{x}<br>gdp_growth=%{y}<extra></extra>",
         "legendgroup": "",
         "line": {
          "color": "rgb(100, 195, 181)",
          "dash": "solid"
         },
         "marker": {
          "symbol": "circle"
         },
         "mode": "lines",
         "name": "",
         "orientation": "v",
         "showlegend": false,
         "type": "scatter",
         "x": [
          "2019-01-31T00:00:00",
          "2019-02-28T00:00:00",
          "2019-03-31T00:00:00",
          "2019-04-30T00:00:00",
          "2019-05-31T00:00:00",
          "2019-06-30T00:00:00",
          "2019-07-31T00:00:00",
          "2019-08-31T00:00:00",
          "2019-09-30T00:00:00",
          "2019-10-31T00:00:00",
          "2019-11-30T00:00:00",
          "2019-12-31T00:00:00",
          "2020-01-31T00:00:00",
          "2020-02-29T00:00:00",
          "2020-03-31T00:00:00",
          "2020-04-30T00:00:00",
          "2020-05-31T00:00:00",
          "2020-06-30T00:00:00",
          "2020-07-31T00:00:00",
          "2020-08-31T00:00:00",
          "2020-09-30T00:00:00",
          "2020-10-31T00:00:00",
          "2020-11-30T00:00:00",
          "2020-12-31T00:00:00",
          "2021-01-31T00:00:00",
          "2021-02-28T00:00:00",
          "2021-03-31T00:00:00",
          "2021-04-30T00:00:00",
          "2021-05-31T00:00:00",
          "2021-06-30T00:00:00",
          "2021-07-31T00:00:00",
          "2021-08-31T00:00:00",
          "2021-09-30T00:00:00",
          "2021-10-31T00:00:00",
          "2021-11-30T00:00:00",
          "2021-12-31T00:00:00",
          "2022-01-31T00:00:00",
          "2022-02-28T00:00:00",
          "2022-03-31T00:00:00",
          "2022-04-30T00:00:00",
          "2022-05-31T00:00:00",
          "2022-06-30T00:00:00",
          "2022-07-31T00:00:00",
          "2022-08-31T00:00:00",
          "2022-09-30T00:00:00",
          "2022-10-31T00:00:00",
          "2022-11-30T00:00:00",
          "2022-12-31T00:00:00",
          "2023-01-31T00:00:00",
          "2023-02-28T00:00:00",
          "2023-03-31T00:00:00",
          "2023-04-30T00:00:00",
          "2023-05-31T00:00:00",
          "2023-06-30T00:00:00",
          "2023-07-31T00:00:00",
          "2023-08-31T00:00:00"
         ],
         "xaxis": "x",
         "y": [
          -0.0157562364676189,
          -0.0036747608370251,
          0.0445418482573114,
          0.0185602055871061,
          0.0038936667589029,
          -0.0298806331625184,
          0.0586220044521941,
          -0.0037655571552865,
          -0.0165646782539989,
          0.0504843852643246,
          -0.0172753711255654,
          -0.0019116785125644,
          -0.0350517571340066,
          0.007319556008128,
          0.0286406720250664,
          -0.1074433343383396,
          0.0176756977424767,
          0.0510170863042367,
          0.059567496992515,
          -0.0115776045929122,
          0.0143291853438576,
          0.0360536407826279,
          0.0090372852928493,
          0.0390335358630871,
          -0.0360024161396305,
          0.0430279776197939,
          0.0883233808408789,
          -0.0458278879910433,
          -0.012672673335806,
          -0.0002913073071193,
          0.041868086340473,
          -0.0009824673583437,
          -0.0096942240792882,
          0.0120760283475096,
          0.0213760311191739,
          0.0143755327817698,
          -0.0764128554003839,
          0.0432191157983161,
          0.1123818624917663,
          -0.022716415921138,
          0.0076821536525881,
          -0.0000349855808563504,
          0.0325464449834915,
          0.0013098687211861,
          -0.0202795672408989,
          0.0235898362606394,
          0.0038614244734282,
          0.0095081992763734,
          -0.0734221548945223,
          0.0255362363425222,
          0.1247084833909799,
          -0.04459036611522,
          -0.0022543837150876,
          -0.0039972586349041,
          0.0327990403050313,
          0.0036423304098309
         ],
         "yaxis": "y"
        }
       ],
       "layout": {
        "legend": {
         "tracegroupgap": 0
        },
        "template": {
         "data": {
          "bar": [
           {
            "error_x": {
             "color": "#f2f5fa"
            },
            "error_y": {
             "color": "#f2f5fa"
            },
            "marker": {
             "line": {
              "color": "rgb(17,17,17)",
              "width": 0.5
             },
             "pattern": {
              "fillmode": "overlay",
              "size": 10,
              "solidity": 0.2
             }
            },
            "type": "bar"
           }
          ],
          "barpolar": [
           {
            "marker": {
             "line": {
              "color": "rgb(17,17,17)",
              "width": 0.5
             },
             "pattern": {
              "fillmode": "overlay",
              "size": 10,
              "solidity": 0.2
             }
            },
            "type": "barpolar"
           }
          ],
          "carpet": [
           {
            "aaxis": {
             "endlinecolor": "#A2B1C6",
             "gridcolor": "#506784",
             "linecolor": "#506784",
             "minorgridcolor": "#506784",
             "startlinecolor": "#A2B1C6"
            },
            "baxis": {
             "endlinecolor": "#A2B1C6",
             "gridcolor": "#506784",
             "linecolor": "#506784",
             "minorgridcolor": "#506784",
             "startlinecolor": "#A2B1C6"
            },
            "type": "carpet"
           }
          ],
          "choropleth": [
           {
            "colorbar": {
             "outlinewidth": 0,
             "ticks": ""
            },
            "type": "choropleth"
           }
          ],
          "contour": [
           {
            "colorbar": {
             "outlinewidth": 0,
             "ticks": ""
            },
            "colorscale": [
             [
              0,
              "#0d0887"
             ],
             [
              0.1111111111111111,
              "#46039f"
             ],
             [
              0.2222222222222222,
              "#7201a8"
             ],
             [
              0.3333333333333333,
              "#9c179e"
             ],
             [
              0.4444444444444444,
              "#bd3786"
             ],
             [
              0.5555555555555556,
              "#d8576b"
             ],
             [
              0.6666666666666666,
              "#ed7953"
             ],
             [
              0.7777777777777778,
              "#fb9f3a"
             ],
             [
              0.8888888888888888,
              "#fdca26"
             ],
             [
              1,
              "#f0f921"
             ]
            ],
            "type": "contour"
           }
          ],
          "contourcarpet": [
           {
            "colorbar": {
             "outlinewidth": 0,
             "ticks": ""
            },
            "type": "contourcarpet"
           }
          ],
          "heatmap": [
           {
            "colorbar": {
             "outlinewidth": 0,
             "ticks": ""
            },
            "colorscale": [
             [
              0,
              "#0d0887"
             ],
             [
              0.1111111111111111,
              "#46039f"
             ],
             [
              0.2222222222222222,
              "#7201a8"
             ],
             [
              0.3333333333333333,
              "#9c179e"
             ],
             [
              0.4444444444444444,
              "#bd3786"
             ],
             [
              0.5555555555555556,
              "#d8576b"
             ],
             [
              0.6666666666666666,
              "#ed7953"
             ],
             [
              0.7777777777777778,
              "#fb9f3a"
             ],
             [
              0.8888888888888888,
              "#fdca26"
             ],
             [
              1,
              "#f0f921"
             ]
            ],
            "type": "heatmap"
           }
          ],
          "heatmapgl": [
           {
            "colorbar": {
             "outlinewidth": 0,
             "ticks": ""
            },
            "colorscale": [
             [
              0,
              "#0d0887"
             ],
             [
              0.1111111111111111,
              "#46039f"
             ],
             [
              0.2222222222222222,
              "#7201a8"
             ],
             [
              0.3333333333333333,
              "#9c179e"
             ],
             [
              0.4444444444444444,
              "#bd3786"
             ],
             [
              0.5555555555555556,
              "#d8576b"
             ],
             [
              0.6666666666666666,
              "#ed7953"
             ],
             [
              0.7777777777777778,
              "#fb9f3a"
             ],
             [
              0.8888888888888888,
              "#fdca26"
             ],
             [
              1,
              "#f0f921"
             ]
            ],
            "type": "heatmapgl"
           }
          ],
          "histogram": [
           {
            "marker": {
             "pattern": {
              "fillmode": "overlay",
              "size": 10,
              "solidity": 0.2
             }
            },
            "type": "histogram"
           }
          ],
          "histogram2d": [
           {
            "colorbar": {
             "outlinewidth": 0,
             "ticks": ""
            },
            "colorscale": [
             [
              0,
              "#0d0887"
             ],
             [
              0.1111111111111111,
              "#46039f"
             ],
             [
              0.2222222222222222,
              "#7201a8"
             ],
             [
              0.3333333333333333,
              "#9c179e"
             ],
             [
              0.4444444444444444,
              "#bd3786"
             ],
             [
              0.5555555555555556,
              "#d8576b"
             ],
             [
              0.6666666666666666,
              "#ed7953"
             ],
             [
              0.7777777777777778,
              "#fb9f3a"
             ],
             [
              0.8888888888888888,
              "#fdca26"
             ],
             [
              1,
              "#f0f921"
             ]
            ],
            "type": "histogram2d"
           }
          ],
          "histogram2dcontour": [
           {
            "colorbar": {
             "outlinewidth": 0,
             "ticks": ""
            },
            "colorscale": [
             [
              0,
              "#0d0887"
             ],
             [
              0.1111111111111111,
              "#46039f"
             ],
             [
              0.2222222222222222,
              "#7201a8"
             ],
             [
              0.3333333333333333,
              "#9c179e"
             ],
             [
              0.4444444444444444,
              "#bd3786"
             ],
             [
              0.5555555555555556,
              "#d8576b"
             ],
             [
              0.6666666666666666,
              "#ed7953"
             ],
             [
              0.7777777777777778,
              "#fb9f3a"
             ],
             [
              0.8888888888888888,
              "#fdca26"
             ],
             [
              1,
              "#f0f921"
             ]
            ],
            "type": "histogram2dcontour"
           }
          ],
          "mesh3d": [
           {
            "colorbar": {
             "outlinewidth": 0,
             "ticks": ""
            },
            "type": "mesh3d"
           }
          ],
          "parcoords": [
           {
            "line": {
             "colorbar": {
              "outlinewidth": 0,
              "ticks": ""
             }
            },
            "type": "parcoords"
           }
          ],
          "pie": [
           {
            "automargin": true,
            "type": "pie"
           }
          ],
          "scatter": [
           {
            "marker": {
             "line": {
              "color": "#283442"
             }
            },
            "type": "scatter"
           }
          ],
          "scatter3d": [
           {
            "line": {
             "colorbar": {
              "outlinewidth": 0,
              "ticks": ""
             }
            },
            "marker": {
             "colorbar": {
              "outlinewidth": 0,
              "ticks": ""
             }
            },
            "type": "scatter3d"
           }
          ],
          "scattercarpet": [
           {
            "marker": {
             "colorbar": {
              "outlinewidth": 0,
              "ticks": ""
             }
            },
            "type": "scattercarpet"
           }
          ],
          "scattergeo": [
           {
            "marker": {
             "colorbar": {
              "outlinewidth": 0,
              "ticks": ""
             }
            },
            "type": "scattergeo"
           }
          ],
          "scattergl": [
           {
            "marker": {
             "line": {
              "color": "#283442"
             }
            },
            "type": "scattergl"
           }
          ],
          "scattermapbox": [
           {
            "marker": {
             "colorbar": {
              "outlinewidth": 0,
              "ticks": ""
             }
            },
            "type": "scattermapbox"
           }
          ],
          "scatterpolar": [
           {
            "marker": {
             "colorbar": {
              "outlinewidth": 0,
              "ticks": ""
             }
            },
            "type": "scatterpolar"
           }
          ],
          "scatterpolargl": [
           {
            "marker": {
             "colorbar": {
              "outlinewidth": 0,
              "ticks": ""
             }
            },
            "type": "scatterpolargl"
           }
          ],
          "scatterternary": [
           {
            "marker": {
             "colorbar": {
              "outlinewidth": 0,
              "ticks": ""
             }
            },
            "type": "scatterternary"
           }
          ],
          "surface": [
           {
            "colorbar": {
             "outlinewidth": 0,
             "ticks": ""
            },
            "colorscale": [
             [
              0,
              "#0d0887"
             ],
             [
              0.1111111111111111,
              "#46039f"
             ],
             [
              0.2222222222222222,
              "#7201a8"
             ],
             [
              0.3333333333333333,
              "#9c179e"
             ],
             [
              0.4444444444444444,
              "#bd3786"
             ],
             [
              0.5555555555555556,
              "#d8576b"
             ],
             [
              0.6666666666666666,
              "#ed7953"
             ],
             [
              0.7777777777777778,
              "#fb9f3a"
             ],
             [
              0.8888888888888888,
              "#fdca26"
             ],
             [
              1,
              "#f0f921"
             ]
            ],
            "type": "surface"
           }
          ],
          "table": [
           {
            "cells": {
             "fill": {
              "color": "#506784"
             },
             "line": {
              "color": "rgb(17,17,17)"
             }
            },
            "header": {
             "fill": {
              "color": "#2a3f5f"
             },
             "line": {
              "color": "rgb(17,17,17)"
             }
            },
            "type": "table"
           }
          ]
         },
         "layout": {
          "annotationdefaults": {
           "arrowcolor": "#f2f5fa",
           "arrowhead": 0,
           "arrowwidth": 1
          },
          "autotypenumbers": "strict",
          "coloraxis": {
           "colorbar": {
            "outlinewidth": 0,
            "ticks": ""
           }
          },
          "colorscale": {
           "diverging": [
            [
             0,
             "#8e0152"
            ],
            [
             0.1,
             "#c51b7d"
            ],
            [
             0.2,
             "#de77ae"
            ],
            [
             0.3,
             "#f1b6da"
            ],
            [
             0.4,
             "#fde0ef"
            ],
            [
             0.5,
             "#f7f7f7"
            ],
            [
             0.6,
             "#e6f5d0"
            ],
            [
             0.7,
             "#b8e186"
            ],
            [
             0.8,
             "#7fbc41"
            ],
            [
             0.9,
             "#4d9221"
            ],
            [
             1,
             "#276419"
            ]
           ],
           "sequential": [
            [
             0,
             "#0d0887"
            ],
            [
             0.1111111111111111,
             "#46039f"
            ],
            [
             0.2222222222222222,
             "#7201a8"
            ],
            [
             0.3333333333333333,
             "#9c179e"
            ],
            [
             0.4444444444444444,
             "#bd3786"
            ],
            [
             0.5555555555555556,
             "#d8576b"
            ],
            [
             0.6666666666666666,
             "#ed7953"
            ],
            [
             0.7777777777777778,
             "#fb9f3a"
            ],
            [
             0.8888888888888888,
             "#fdca26"
            ],
            [
             1,
             "#f0f921"
            ]
           ],
           "sequentialminus": [
            [
             0,
             "#0d0887"
            ],
            [
             0.1111111111111111,
             "#46039f"
            ],
            [
             0.2222222222222222,
             "#7201a8"
            ],
            [
             0.3333333333333333,
             "#9c179e"
            ],
            [
             0.4444444444444444,
             "#bd3786"
            ],
            [
             0.5555555555555556,
             "#d8576b"
            ],
            [
             0.6666666666666666,
             "#ed7953"
            ],
            [
             0.7777777777777778,
             "#fb9f3a"
            ],
            [
             0.8888888888888888,
             "#fdca26"
            ],
            [
             1,
             "#f0f921"
            ]
           ]
          },
          "colorway": [
           "#636efa",
           "#EF553B",
           "#00cc96",
           "#ab63fa",
           "#FFA15A",
           "#19d3f3",
           "#FF6692",
           "#B6E880",
           "#FF97FF",
           "#FECB52"
          ],
          "font": {
           "color": "#f2f5fa"
          },
          "geo": {
           "bgcolor": "rgb(17,17,17)",
           "lakecolor": "rgb(17,17,17)",
           "landcolor": "rgb(17,17,17)",
           "showlakes": true,
           "showland": true,
           "subunitcolor": "#506784"
          },
          "hoverlabel": {
           "align": "left"
          },
          "hovermode": "closest",
          "mapbox": {
           "style": "dark"
          },
          "paper_bgcolor": "rgb(17,17,17)",
          "plot_bgcolor": "rgb(17,17,17)",
          "polar": {
           "angularaxis": {
            "gridcolor": "#506784",
            "linecolor": "#506784",
            "ticks": ""
           },
           "bgcolor": "rgb(17,17,17)",
           "radialaxis": {
            "gridcolor": "#506784",
            "linecolor": "#506784",
            "ticks": ""
           }
          },
          "scene": {
           "xaxis": {
            "backgroundcolor": "rgb(17,17,17)",
            "gridcolor": "#506784",
            "gridwidth": 2,
            "linecolor": "#506784",
            "showbackground": true,
            "ticks": "",
            "zerolinecolor": "#C8D4E3"
           },
           "yaxis": {
            "backgroundcolor": "rgb(17,17,17)",
            "gridcolor": "#506784",
            "gridwidth": 2,
            "linecolor": "#506784",
            "showbackground": true,
            "ticks": "",
            "zerolinecolor": "#C8D4E3"
           },
           "zaxis": {
            "backgroundcolor": "rgb(17,17,17)",
            "gridcolor": "#506784",
            "gridwidth": 2,
            "linecolor": "#506784",
            "showbackground": true,
            "ticks": "",
            "zerolinecolor": "#C8D4E3"
           }
          },
          "shapedefaults": {
           "line": {
            "color": "#f2f5fa"
           }
          },
          "sliderdefaults": {
           "bgcolor": "#C8D4E3",
           "bordercolor": "rgb(17,17,17)",
           "borderwidth": 1,
           "tickwidth": 0
          },
          "ternary": {
           "aaxis": {
            "gridcolor": "#506784",
            "linecolor": "#506784",
            "ticks": ""
           },
           "baxis": {
            "gridcolor": "#506784",
            "linecolor": "#506784",
            "ticks": ""
           },
           "bgcolor": "rgb(17,17,17)",
           "caxis": {
            "gridcolor": "#506784",
            "linecolor": "#506784",
            "ticks": ""
           }
          },
          "title": {
           "x": 0.05
          },
          "updatemenudefaults": {
           "bgcolor": "#506784",
           "borderwidth": 0
          },
          "xaxis": {
           "automargin": true,
           "gridcolor": "#283442",
           "linecolor": "#506784",
           "ticks": "",
           "title": {
            "standoff": 15
           },
           "zerolinecolor": "#283442",
           "zerolinewidth": 2
          },
          "yaxis": {
           "automargin": true,
           "gridcolor": "#283442",
           "linecolor": "#506784",
           "ticks": "",
           "title": {
            "standoff": 15
           },
           "zerolinecolor": "#283442",
           "zerolinewidth": 2
          }
         }
        },
        "title": {
         "text": "GDP Growth Rate"
        },
        "xaxis": {
         "anchor": "y",
         "domain": [
          0,
          1
         ],
         "tickfont": {
          "color": "white"
         },
         "title": {
          "font": {
           "color": "white"
          },
          "text": "Date"
         }
        },
        "yaxis": {
         "anchor": "x",
         "domain": [
          0,
          1
         ],
         "tickfont": {
          "color": "white"
         },
         "title": {
          "font": {
           "color": "white"
          },
          "text": "GDP Growth Rate (%)"
         }
        }
       }
      }
     },
     "metadata": {},
     "output_type": "display_data"
    }
   ],
   "source": [
    "fig_gdp = px.line(df_macroeconomic_book, x='date', y='gdp_growth', title='GDP Growth Rate', color_discrete_sequence=['rgb(100, 195, 181)'], template='plotly_dark')\n",
    "fig_gdp.update_xaxes(title='Date', title_font=dict(color='white'), tickfont=dict(color='white'))\n",
    "fig_gdp.update_yaxes(title='GDP Growth Rate (%)', title_font=dict(color='white'), tickfont=dict(color='white'))\n",
    "\n",
    "fig_gdp.show()"
   ]
  },
  {
   "cell_type": "markdown",
   "metadata": {},
   "source": [
    "The graph depicts the fluctuations in the `GDP Growth Rate`, an important economic indicator reflecting the health of the economy over time.\n",
    "\n",
    "**Oscillating Growth (`2019-2020`)**\n",
    "\n",
    "- Starting in `July 2019`, the growth rate fluctuated around **0%**, indicating a relatively stagnant economy.\n",
    "- In `2020`, the rate experienced a sharp decline, reaching a trough of nearly **-0.1%**, suggesting a significant economic contraction.\n",
    "\n",
    "**Recovery and Instability (`2021`)**\n",
    "\n",
    "- The year `2021` showed signs of recovery with rates rising above **0%**, but still displayed considerable instability with sharp ups and downs.\n",
    "\n",
    "**Volatile Recovery (`2022`)**\n",
    "\n",
    "- Throughout `2022`, the growth rate continued to demonstrate volatility, peaking at just above **0.1%** and dipping below **0%** multiple times.\n",
    "\n",
    "**Recent Trends (`2023`)**\n",
    "\n",
    "- As of `July 2023`, the `GDP Growth Rate` appears to be stabilizing with positive growth just under **0.05%**, potentially signaling a more consistent economic recovery.\n",
    "\n",
    "The `GDP Growth Rate` graph illustrates the challenges and resilience of the economy, with recent trends suggesting a gradual return to steady growth.\n"
   ]
  },
  {
   "cell_type": "markdown",
   "metadata": {},
   "source": [
    "#### Dólar e Inflação Mensal:"
   ]
  },
  {
   "cell_type": "code",
   "execution_count": 101,
   "metadata": {},
   "outputs": [
    {
     "data": {
      "application/vnd.plotly.v1+json": {
       "config": {
        "plotlyServerURL": "https://plot.ly"
       },
       "data": [
        {
         "line": {
          "color": "rgb(100, 195, 181)"
         },
         "name": "Dollar Exchange Rate",
         "type": "scatter",
         "x": [
          "2019-01-31T00:00:00",
          "2019-02-28T00:00:00",
          "2019-03-31T00:00:00",
          "2019-04-30T00:00:00",
          "2019-05-31T00:00:00",
          "2019-06-30T00:00:00",
          "2019-07-31T00:00:00",
          "2019-08-31T00:00:00",
          "2019-09-30T00:00:00",
          "2019-10-31T00:00:00",
          "2019-11-30T00:00:00",
          "2019-12-31T00:00:00",
          "2020-01-31T00:00:00",
          "2020-02-29T00:00:00",
          "2020-03-31T00:00:00",
          "2020-04-30T00:00:00",
          "2020-05-31T00:00:00",
          "2020-06-30T00:00:00",
          "2020-07-31T00:00:00",
          "2020-08-31T00:00:00",
          "2020-09-30T00:00:00",
          "2020-10-31T00:00:00",
          "2020-11-30T00:00:00",
          "2020-12-31T00:00:00",
          "2021-01-31T00:00:00",
          "2021-02-28T00:00:00",
          "2021-03-31T00:00:00",
          "2021-04-30T00:00:00",
          "2021-05-31T00:00:00",
          "2021-06-30T00:00:00",
          "2021-07-31T00:00:00",
          "2021-08-31T00:00:00",
          "2021-09-30T00:00:00",
          "2021-10-31T00:00:00",
          "2021-11-30T00:00:00",
          "2021-12-31T00:00:00",
          "2022-01-31T00:00:00",
          "2022-02-28T00:00:00",
          "2022-03-31T00:00:00",
          "2022-04-30T00:00:00",
          "2022-05-31T00:00:00",
          "2022-06-30T00:00:00",
          "2022-07-31T00:00:00",
          "2022-08-31T00:00:00",
          "2022-09-30T00:00:00",
          "2022-10-31T00:00:00",
          "2022-11-30T00:00:00",
          "2022-12-31T00:00:00",
          "2023-01-31T00:00:00",
          "2023-02-28T00:00:00",
          "2023-03-31T00:00:00",
          "2023-04-30T00:00:00",
          "2023-05-31T00:00:00",
          "2023-06-30T00:00:00",
          "2023-07-31T00:00:00",
          "2023-08-31T00:00:00"
         ],
         "xaxis": "x",
         "y": [
          3.6513,
          3.7379,
          3.8961,
          3.9447,
          3.9401,
          3.8316,
          3.7643,
          4.1379,
          4.1638,
          4.0035,
          4.2234,
          4.0301,
          4.2689,
          4.4981,
          5.1981,
          5.4264,
          5.4257,
          5.4754,
          5.2027,
          5.4707,
          5.6401,
          5.7712,
          5.3311,
          5.1961,
          5.4753,
          5.5296,
          5.6967,
          5.403,
          5.2316,
          5.0016,
          5.121,
          5.1427,
          5.4388,
          5.6424,
          5.6193,
          5.5799,
          5.3568,
          5.1388,
          4.7372,
          4.9185,
          4.7283,
          5.2374,
          5.1878,
          5.1784,
          5.406,
          5.2564,
          5.2935,
          5.2171,
          5.0987,
          5.2072,
          5.0798,
          5.0001,
          5.0953,
          4.8186,
          4.7409,
          4.9213
         ],
         "yaxis": "y"
        },
        {
         "line": {
          "color": "rgb(255, 0, 0)"
         },
         "name": "Monthly Inflation",
         "type": "scatter",
         "x": [
          "2019-01-31T00:00:00",
          "2019-02-28T00:00:00",
          "2019-03-31T00:00:00",
          "2019-04-30T00:00:00",
          "2019-05-31T00:00:00",
          "2019-06-30T00:00:00",
          "2019-07-31T00:00:00",
          "2019-08-31T00:00:00",
          "2019-09-30T00:00:00",
          "2019-10-31T00:00:00",
          "2019-11-30T00:00:00",
          "2019-12-31T00:00:00",
          "2020-01-31T00:00:00",
          "2020-02-29T00:00:00",
          "2020-03-31T00:00:00",
          "2020-04-30T00:00:00",
          "2020-05-31T00:00:00",
          "2020-06-30T00:00:00",
          "2020-07-31T00:00:00",
          "2020-08-31T00:00:00",
          "2020-09-30T00:00:00",
          "2020-10-31T00:00:00",
          "2020-11-30T00:00:00",
          "2020-12-31T00:00:00",
          "2021-01-31T00:00:00",
          "2021-02-28T00:00:00",
          "2021-03-31T00:00:00",
          "2021-04-30T00:00:00",
          "2021-05-31T00:00:00",
          "2021-06-30T00:00:00",
          "2021-07-31T00:00:00",
          "2021-08-31T00:00:00",
          "2021-09-30T00:00:00",
          "2021-10-31T00:00:00",
          "2021-11-30T00:00:00",
          "2021-12-31T00:00:00",
          "2022-01-31T00:00:00",
          "2022-02-28T00:00:00",
          "2022-03-31T00:00:00",
          "2022-04-30T00:00:00",
          "2022-05-31T00:00:00",
          "2022-06-30T00:00:00",
          "2022-07-31T00:00:00",
          "2022-08-31T00:00:00",
          "2022-09-30T00:00:00",
          "2022-10-31T00:00:00",
          "2022-11-30T00:00:00",
          "2022-12-31T00:00:00",
          "2023-01-31T00:00:00",
          "2023-02-28T00:00:00",
          "2023-03-31T00:00:00",
          "2023-04-30T00:00:00",
          "2023-05-31T00:00:00",
          "2023-06-30T00:00:00",
          "2023-07-31T00:00:00",
          "2023-08-31T00:00:00"
         ],
         "xaxis": "x",
         "y": [
          -0.1119479105194651,
          0.0291005291005292,
          0.1773778920308484,
          0.0786026200873362,
          -0.0566801619433199,
          -0.276824034334764,
          -0.0445103857566765,
          0.0652173913043479,
          -0.1574344023323615,
          -0.1211072664359862,
          0.2874015748031495,
          0.3180428134556574,
          -0.02784222737819,
          -0.0429594272076373,
          -0.1770573566084787,
          -0.2727272727272727,
          -0.2166666666666666,
          0.1329787234042554,
          0.0845070422535212,
          0.0562770562770562,
          0.2868852459016393,
          0.2484076433121018,
          0.0994897959183673,
          0.0487238979118329,
          0.0088495575221239,
          0.1403508771929826,
          0.1730769230769229,
          0.1081967213114754,
          0.1923076923076925,
          0.0359801488833746,
          0.0766467065868263,
          0.0767519466073414,
          0.0588842975206611,
          0.0409756097560976,
          0.0065604498594189,
          -0.063314711359404,
          0.0318091451292246,
          0.0154142581888245,
          0.0721062618595826,
          0.0734513274336283,
          -0.0329760923330585,
          0.0136402387041774,
          -0.1530698065601345,
          -0.1330685203574975,
          -0.1786941580756014,
          -0.097629009762901,
          -0.088098918083462,
          -0.0186440677966102,
          -0.003454231433506,
          -0.0294627383015597,
          -0.1696428571428569,
          -0.1010752688172044,
          -0.0574162679425837,
          -0.197969543147208,
          0.2626582278481013,
          0.1553884711779449
         ],
         "yaxis": "y2"
        }
       ],
       "layout": {
        "legend": {
         "font": {
          "color": "white"
         }
        },
        "template": {
         "data": {
          "bar": [
           {
            "error_x": {
             "color": "#f2f5fa"
            },
            "error_y": {
             "color": "#f2f5fa"
            },
            "marker": {
             "line": {
              "color": "rgb(17,17,17)",
              "width": 0.5
             },
             "pattern": {
              "fillmode": "overlay",
              "size": 10,
              "solidity": 0.2
             }
            },
            "type": "bar"
           }
          ],
          "barpolar": [
           {
            "marker": {
             "line": {
              "color": "rgb(17,17,17)",
              "width": 0.5
             },
             "pattern": {
              "fillmode": "overlay",
              "size": 10,
              "solidity": 0.2
             }
            },
            "type": "barpolar"
           }
          ],
          "carpet": [
           {
            "aaxis": {
             "endlinecolor": "#A2B1C6",
             "gridcolor": "#506784",
             "linecolor": "#506784",
             "minorgridcolor": "#506784",
             "startlinecolor": "#A2B1C6"
            },
            "baxis": {
             "endlinecolor": "#A2B1C6",
             "gridcolor": "#506784",
             "linecolor": "#506784",
             "minorgridcolor": "#506784",
             "startlinecolor": "#A2B1C6"
            },
            "type": "carpet"
           }
          ],
          "choropleth": [
           {
            "colorbar": {
             "outlinewidth": 0,
             "ticks": ""
            },
            "type": "choropleth"
           }
          ],
          "contour": [
           {
            "colorbar": {
             "outlinewidth": 0,
             "ticks": ""
            },
            "colorscale": [
             [
              0,
              "#0d0887"
             ],
             [
              0.1111111111111111,
              "#46039f"
             ],
             [
              0.2222222222222222,
              "#7201a8"
             ],
             [
              0.3333333333333333,
              "#9c179e"
             ],
             [
              0.4444444444444444,
              "#bd3786"
             ],
             [
              0.5555555555555556,
              "#d8576b"
             ],
             [
              0.6666666666666666,
              "#ed7953"
             ],
             [
              0.7777777777777778,
              "#fb9f3a"
             ],
             [
              0.8888888888888888,
              "#fdca26"
             ],
             [
              1,
              "#f0f921"
             ]
            ],
            "type": "contour"
           }
          ],
          "contourcarpet": [
           {
            "colorbar": {
             "outlinewidth": 0,
             "ticks": ""
            },
            "type": "contourcarpet"
           }
          ],
          "heatmap": [
           {
            "colorbar": {
             "outlinewidth": 0,
             "ticks": ""
            },
            "colorscale": [
             [
              0,
              "#0d0887"
             ],
             [
              0.1111111111111111,
              "#46039f"
             ],
             [
              0.2222222222222222,
              "#7201a8"
             ],
             [
              0.3333333333333333,
              "#9c179e"
             ],
             [
              0.4444444444444444,
              "#bd3786"
             ],
             [
              0.5555555555555556,
              "#d8576b"
             ],
             [
              0.6666666666666666,
              "#ed7953"
             ],
             [
              0.7777777777777778,
              "#fb9f3a"
             ],
             [
              0.8888888888888888,
              "#fdca26"
             ],
             [
              1,
              "#f0f921"
             ]
            ],
            "type": "heatmap"
           }
          ],
          "heatmapgl": [
           {
            "colorbar": {
             "outlinewidth": 0,
             "ticks": ""
            },
            "colorscale": [
             [
              0,
              "#0d0887"
             ],
             [
              0.1111111111111111,
              "#46039f"
             ],
             [
              0.2222222222222222,
              "#7201a8"
             ],
             [
              0.3333333333333333,
              "#9c179e"
             ],
             [
              0.4444444444444444,
              "#bd3786"
             ],
             [
              0.5555555555555556,
              "#d8576b"
             ],
             [
              0.6666666666666666,
              "#ed7953"
             ],
             [
              0.7777777777777778,
              "#fb9f3a"
             ],
             [
              0.8888888888888888,
              "#fdca26"
             ],
             [
              1,
              "#f0f921"
             ]
            ],
            "type": "heatmapgl"
           }
          ],
          "histogram": [
           {
            "marker": {
             "pattern": {
              "fillmode": "overlay",
              "size": 10,
              "solidity": 0.2
             }
            },
            "type": "histogram"
           }
          ],
          "histogram2d": [
           {
            "colorbar": {
             "outlinewidth": 0,
             "ticks": ""
            },
            "colorscale": [
             [
              0,
              "#0d0887"
             ],
             [
              0.1111111111111111,
              "#46039f"
             ],
             [
              0.2222222222222222,
              "#7201a8"
             ],
             [
              0.3333333333333333,
              "#9c179e"
             ],
             [
              0.4444444444444444,
              "#bd3786"
             ],
             [
              0.5555555555555556,
              "#d8576b"
             ],
             [
              0.6666666666666666,
              "#ed7953"
             ],
             [
              0.7777777777777778,
              "#fb9f3a"
             ],
             [
              0.8888888888888888,
              "#fdca26"
             ],
             [
              1,
              "#f0f921"
             ]
            ],
            "type": "histogram2d"
           }
          ],
          "histogram2dcontour": [
           {
            "colorbar": {
             "outlinewidth": 0,
             "ticks": ""
            },
            "colorscale": [
             [
              0,
              "#0d0887"
             ],
             [
              0.1111111111111111,
              "#46039f"
             ],
             [
              0.2222222222222222,
              "#7201a8"
             ],
             [
              0.3333333333333333,
              "#9c179e"
             ],
             [
              0.4444444444444444,
              "#bd3786"
             ],
             [
              0.5555555555555556,
              "#d8576b"
             ],
             [
              0.6666666666666666,
              "#ed7953"
             ],
             [
              0.7777777777777778,
              "#fb9f3a"
             ],
             [
              0.8888888888888888,
              "#fdca26"
             ],
             [
              1,
              "#f0f921"
             ]
            ],
            "type": "histogram2dcontour"
           }
          ],
          "mesh3d": [
           {
            "colorbar": {
             "outlinewidth": 0,
             "ticks": ""
            },
            "type": "mesh3d"
           }
          ],
          "parcoords": [
           {
            "line": {
             "colorbar": {
              "outlinewidth": 0,
              "ticks": ""
             }
            },
            "type": "parcoords"
           }
          ],
          "pie": [
           {
            "automargin": true,
            "type": "pie"
           }
          ],
          "scatter": [
           {
            "marker": {
             "line": {
              "color": "#283442"
             }
            },
            "type": "scatter"
           }
          ],
          "scatter3d": [
           {
            "line": {
             "colorbar": {
              "outlinewidth": 0,
              "ticks": ""
             }
            },
            "marker": {
             "colorbar": {
              "outlinewidth": 0,
              "ticks": ""
             }
            },
            "type": "scatter3d"
           }
          ],
          "scattercarpet": [
           {
            "marker": {
             "colorbar": {
              "outlinewidth": 0,
              "ticks": ""
             }
            },
            "type": "scattercarpet"
           }
          ],
          "scattergeo": [
           {
            "marker": {
             "colorbar": {
              "outlinewidth": 0,
              "ticks": ""
             }
            },
            "type": "scattergeo"
           }
          ],
          "scattergl": [
           {
            "marker": {
             "line": {
              "color": "#283442"
             }
            },
            "type": "scattergl"
           }
          ],
          "scattermapbox": [
           {
            "marker": {
             "colorbar": {
              "outlinewidth": 0,
              "ticks": ""
             }
            },
            "type": "scattermapbox"
           }
          ],
          "scatterpolar": [
           {
            "marker": {
             "colorbar": {
              "outlinewidth": 0,
              "ticks": ""
             }
            },
            "type": "scatterpolar"
           }
          ],
          "scatterpolargl": [
           {
            "marker": {
             "colorbar": {
              "outlinewidth": 0,
              "ticks": ""
             }
            },
            "type": "scatterpolargl"
           }
          ],
          "scatterternary": [
           {
            "marker": {
             "colorbar": {
              "outlinewidth": 0,
              "ticks": ""
             }
            },
            "type": "scatterternary"
           }
          ],
          "surface": [
           {
            "colorbar": {
             "outlinewidth": 0,
             "ticks": ""
            },
            "colorscale": [
             [
              0,
              "#0d0887"
             ],
             [
              0.1111111111111111,
              "#46039f"
             ],
             [
              0.2222222222222222,
              "#7201a8"
             ],
             [
              0.3333333333333333,
              "#9c179e"
             ],
             [
              0.4444444444444444,
              "#bd3786"
             ],
             [
              0.5555555555555556,
              "#d8576b"
             ],
             [
              0.6666666666666666,
              "#ed7953"
             ],
             [
              0.7777777777777778,
              "#fb9f3a"
             ],
             [
              0.8888888888888888,
              "#fdca26"
             ],
             [
              1,
              "#f0f921"
             ]
            ],
            "type": "surface"
           }
          ],
          "table": [
           {
            "cells": {
             "fill": {
              "color": "#506784"
             },
             "line": {
              "color": "rgb(17,17,17)"
             }
            },
            "header": {
             "fill": {
              "color": "#2a3f5f"
             },
             "line": {
              "color": "rgb(17,17,17)"
             }
            },
            "type": "table"
           }
          ]
         },
         "layout": {
          "annotationdefaults": {
           "arrowcolor": "#f2f5fa",
           "arrowhead": 0,
           "arrowwidth": 1
          },
          "autotypenumbers": "strict",
          "coloraxis": {
           "colorbar": {
            "outlinewidth": 0,
            "ticks": ""
           }
          },
          "colorscale": {
           "diverging": [
            [
             0,
             "#8e0152"
            ],
            [
             0.1,
             "#c51b7d"
            ],
            [
             0.2,
             "#de77ae"
            ],
            [
             0.3,
             "#f1b6da"
            ],
            [
             0.4,
             "#fde0ef"
            ],
            [
             0.5,
             "#f7f7f7"
            ],
            [
             0.6,
             "#e6f5d0"
            ],
            [
             0.7,
             "#b8e186"
            ],
            [
             0.8,
             "#7fbc41"
            ],
            [
             0.9,
             "#4d9221"
            ],
            [
             1,
             "#276419"
            ]
           ],
           "sequential": [
            [
             0,
             "#0d0887"
            ],
            [
             0.1111111111111111,
             "#46039f"
            ],
            [
             0.2222222222222222,
             "#7201a8"
            ],
            [
             0.3333333333333333,
             "#9c179e"
            ],
            [
             0.4444444444444444,
             "#bd3786"
            ],
            [
             0.5555555555555556,
             "#d8576b"
            ],
            [
             0.6666666666666666,
             "#ed7953"
            ],
            [
             0.7777777777777778,
             "#fb9f3a"
            ],
            [
             0.8888888888888888,
             "#fdca26"
            ],
            [
             1,
             "#f0f921"
            ]
           ],
           "sequentialminus": [
            [
             0,
             "#0d0887"
            ],
            [
             0.1111111111111111,
             "#46039f"
            ],
            [
             0.2222222222222222,
             "#7201a8"
            ],
            [
             0.3333333333333333,
             "#9c179e"
            ],
            [
             0.4444444444444444,
             "#bd3786"
            ],
            [
             0.5555555555555556,
             "#d8576b"
            ],
            [
             0.6666666666666666,
             "#ed7953"
            ],
            [
             0.7777777777777778,
             "#fb9f3a"
            ],
            [
             0.8888888888888888,
             "#fdca26"
            ],
            [
             1,
             "#f0f921"
            ]
           ]
          },
          "colorway": [
           "#636efa",
           "#EF553B",
           "#00cc96",
           "#ab63fa",
           "#FFA15A",
           "#19d3f3",
           "#FF6692",
           "#B6E880",
           "#FF97FF",
           "#FECB52"
          ],
          "font": {
           "color": "#f2f5fa"
          },
          "geo": {
           "bgcolor": "rgb(17,17,17)",
           "lakecolor": "rgb(17,17,17)",
           "landcolor": "rgb(17,17,17)",
           "showlakes": true,
           "showland": true,
           "subunitcolor": "#506784"
          },
          "hoverlabel": {
           "align": "left"
          },
          "hovermode": "closest",
          "mapbox": {
           "style": "dark"
          },
          "paper_bgcolor": "rgb(17,17,17)",
          "plot_bgcolor": "rgb(17,17,17)",
          "polar": {
           "angularaxis": {
            "gridcolor": "#506784",
            "linecolor": "#506784",
            "ticks": ""
           },
           "bgcolor": "rgb(17,17,17)",
           "radialaxis": {
            "gridcolor": "#506784",
            "linecolor": "#506784",
            "ticks": ""
           }
          },
          "scene": {
           "xaxis": {
            "backgroundcolor": "rgb(17,17,17)",
            "gridcolor": "#506784",
            "gridwidth": 2,
            "linecolor": "#506784",
            "showbackground": true,
            "ticks": "",
            "zerolinecolor": "#C8D4E3"
           },
           "yaxis": {
            "backgroundcolor": "rgb(17,17,17)",
            "gridcolor": "#506784",
            "gridwidth": 2,
            "linecolor": "#506784",
            "showbackground": true,
            "ticks": "",
            "zerolinecolor": "#C8D4E3"
           },
           "zaxis": {
            "backgroundcolor": "rgb(17,17,17)",
            "gridcolor": "#506784",
            "gridwidth": 2,
            "linecolor": "#506784",
            "showbackground": true,
            "ticks": "",
            "zerolinecolor": "#C8D4E3"
           }
          },
          "shapedefaults": {
           "line": {
            "color": "#f2f5fa"
           }
          },
          "sliderdefaults": {
           "bgcolor": "#C8D4E3",
           "bordercolor": "rgb(17,17,17)",
           "borderwidth": 1,
           "tickwidth": 0
          },
          "ternary": {
           "aaxis": {
            "gridcolor": "#506784",
            "linecolor": "#506784",
            "ticks": ""
           },
           "baxis": {
            "gridcolor": "#506784",
            "linecolor": "#506784",
            "ticks": ""
           },
           "bgcolor": "rgb(17,17,17)",
           "caxis": {
            "gridcolor": "#506784",
            "linecolor": "#506784",
            "ticks": ""
           }
          },
          "title": {
           "x": 0.05
          },
          "updatemenudefaults": {
           "bgcolor": "#506784",
           "borderwidth": 0
          },
          "xaxis": {
           "automargin": true,
           "gridcolor": "#283442",
           "linecolor": "#506784",
           "ticks": "",
           "title": {
            "standoff": 15
           },
           "zerolinecolor": "#283442",
           "zerolinewidth": 2
          },
          "yaxis": {
           "automargin": true,
           "gridcolor": "#283442",
           "linecolor": "#506784",
           "ticks": "",
           "title": {
            "standoff": 15
           },
           "zerolinecolor": "#283442",
           "zerolinewidth": 2
          }
         }
        },
        "title": {
         "text": "Dollar Exchange Rate and Monthly Inflation Over Time"
        },
        "xaxis": {
         "anchor": "y",
         "domain": [
          0,
          0.94
         ],
         "tickfont": {
          "color": "white"
         },
         "title": {
          "font": {
           "color": "white"
          },
          "text": "Date"
         }
        },
        "yaxis": {
         "anchor": "x",
         "domain": [
          0,
          1
         ],
         "tickfont": {
          "color": "white"
         },
         "title": {
          "font": {
           "color": "white"
          },
          "text": "Dollar Exchange Rate (BRL/USD)"
         }
        },
        "yaxis2": {
         "anchor": "x",
         "overlaying": "y",
         "side": "right",
         "tickfont": {
          "color": "white"
         },
         "title": {
          "font": {
           "color": "white"
          },
          "text": "Monthly Inflation (%)"
         }
        }
       }
      }
     },
     "metadata": {},
     "output_type": "display_data"
    }
   ],
   "source": [
    "fig_dollar_inflation = sp.make_subplots(specs=[[{\"secondary_y\": True}]])\n",
    "\n",
    "fig_dollar_inflation.add_trace(go.Scatter(x=df_macroeconomic_book['date'], y=df_macroeconomic_book['dolar'], name='Dollar Exchange Rate', line=dict(color='rgb(100, 195, 181)')), secondary_y=False)\n",
    "fig_dollar_inflation.add_trace(go.Scatter(x=df_macroeconomic_book['date'], y=df_macroeconomic_book['monthly_inflation'], name='Monthly Inflation', line=dict(color='rgb(255, 0, 0)')), secondary_y=True,)\n",
    "fig_dollar_inflation.update_layout(title_text='Dollar Exchange Rate and Monthly Inflation Over Time', template='plotly_dark', legend=dict(font=dict(color='white')))\n",
    "\n",
    "fig_dollar_inflation.update_xaxes(title='Date', title_font=dict(color='white'), tickfont=dict(color='white'))\n",
    "fig_dollar_inflation.update_yaxes(title='Dollar Exchange Rate (BRL/USD)', secondary_y=False, title_font=dict(color='white'), tickfont=dict(color='white'))\n",
    "fig_dollar_inflation.update_yaxes(title='Monthly Inflation (%)', secondary_y=True, title_font=dict(color='white'), tickfont=dict(color='white'))\n",
    "\n",
    "fig_dollar_inflation.show()"
   ]
  },
  {
   "cell_type": "markdown",
   "metadata": {},
   "source": [
    "This graph presents the interrelation between the `Dollar Exchange Rate` and `Monthly Inflation`, offering insights into their impact on economic dynamics.\n",
    "\n",
    "**Exchange Rate Volatility (`2019-2020`)**\n",
    "\n",
    "- **July 2019**: The exchange rate started at around **4 BRL/USD**.\n",
    "- **2020**: It saw significant volatility, peaking at over **5.5 BRL/USD** and correlating with substantial economic uncertainty.\n",
    "\n",
    "**Inflation Fluctuations (`2020-2021`)**\n",
    "\n",
    "- During `2020` and into `2021`, `Monthly Inflation` also fluctuated, with rates oscillating between **-0.2%** and **0.3%** monthly, reflecting the reactive nature of prices to external and internal economic shocks.\n",
    "\n",
    "**Stabilizing Trend (`2021-2022`)**\n",
    "\n",
    "- **2021 to 2022**: The `Dollar Exchange Rate` appeared to stabilize somewhat, fluctuating around **5 BRL/USD**.\n",
    "- Concurrently, `Monthly Inflation` showed a dampening of volatility, with most values ranging between **0%** and **0.2%**.\n",
    "\n",
    "**Recent Developments (`2023`)**\n",
    "\n",
    "- **January to July 2023**: The exchange rate experienced a downward trend, approaching **4.5 BRL/USD**.\n",
    "- `Monthly Inflation` saw a spike above **0.2%**, potentially signaling emerging inflationary pressures or a response to changes in the exchange rate.\n",
    "\n",
    "The graph highlights the complex relationship between currency exchange rates and inflation, with the former influencing import costs and the latter reflecting the cost of living adjustments."
   ]
  },
  {
   "cell_type": "markdown",
   "metadata": {},
   "source": [
    "### Volatility Analysis:"
   ]
  },
  {
   "cell_type": "code",
   "execution_count": 104,
   "metadata": {},
   "outputs": [
    {
     "data": {
      "application/vnd.plotly.v1+json": {
       "config": {
        "plotlyServerURL": "https://plot.ly"
       },
       "data": [
        {
         "line": {
          "color": "rgb(100, 195, 181)"
         },
         "name": "Rolling Std Dev - Dollar",
         "type": "scatter",
         "x": [
          "2019-01-31T00:00:00",
          "2019-02-28T00:00:00",
          "2019-03-31T00:00:00",
          "2019-04-30T00:00:00",
          "2019-05-31T00:00:00",
          "2019-06-30T00:00:00",
          "2019-07-31T00:00:00",
          "2019-08-31T00:00:00",
          "2019-09-30T00:00:00",
          "2019-10-31T00:00:00",
          "2019-11-30T00:00:00",
          "2019-12-31T00:00:00",
          "2020-01-31T00:00:00",
          "2020-02-29T00:00:00",
          "2020-03-31T00:00:00",
          "2020-04-30T00:00:00",
          "2020-05-31T00:00:00",
          "2020-06-30T00:00:00",
          "2020-07-31T00:00:00",
          "2020-08-31T00:00:00",
          "2020-09-30T00:00:00",
          "2020-10-31T00:00:00",
          "2020-11-30T00:00:00",
          "2020-12-31T00:00:00",
          "2021-01-31T00:00:00",
          "2021-02-28T00:00:00",
          "2021-03-31T00:00:00",
          "2021-04-30T00:00:00",
          "2021-05-31T00:00:00",
          "2021-06-30T00:00:00",
          "2021-07-31T00:00:00",
          "2021-08-31T00:00:00",
          "2021-09-30T00:00:00",
          "2021-10-31T00:00:00",
          "2021-11-30T00:00:00",
          "2021-12-31T00:00:00",
          "2022-01-31T00:00:00",
          "2022-02-28T00:00:00",
          "2022-03-31T00:00:00",
          "2022-04-30T00:00:00",
          "2022-05-31T00:00:00",
          "2022-06-30T00:00:00",
          "2022-07-31T00:00:00",
          "2022-08-31T00:00:00",
          "2022-09-30T00:00:00",
          "2022-10-31T00:00:00",
          "2022-11-30T00:00:00",
          "2022-12-31T00:00:00",
          "2023-01-31T00:00:00",
          "2023-02-28T00:00:00",
          "2023-03-31T00:00:00",
          "2023-04-30T00:00:00",
          "2023-05-31T00:00:00",
          "2023-06-30T00:00:00",
          "2023-07-31T00:00:00",
          "2023-08-31T00:00:00"
         ],
         "y": [
          null,
          0.06123544725075487,
          0.1118642927837119,
          0.03436538956566434,
          0.003252691193435332,
          0.07672108575873962,
          0.047588286373853185,
          0.26417509345129375,
          0.018314065632722133,
          0.11334921702420259,
          0.15549278118292073,
          0.1366837408033582,
          0.16885709934734663,
          0.16206887424795394,
          0.49497474683058174,
          0.16143247814488118,
          0.0004949747441499267,
          0.03514320702493339,
          0.1928280192295646,
          0.18950461735798793,
          0.11978388873298934,
          0.09270169901353958,
          0.31119769440019435,
          0.09545941546016411,
          0.19742421330727417,
          0.03839589821838128,
          0.11815754313625716,
          0.20767726163448066,
          0.12119810229535741,
          0.16263455967289325,
          0.08442854967364918,
          0.015344217151609791,
          0.20937431790932698,
          0.1439669406495689,
          0.01633416664530266,
          0.0278600071786861,
          0.15775552288270683,
          0.15414927829865221,
          0.28397408332450746,
          0.12819845942909722,
          0.13449170978165864,
          0.35998806230206365,
          0.03507249634678453,
          0.0066468037427867,
          0.16093750339804352,
          0.10578317446548503,
          0.026233661581927966,
          0.05402295808260563,
          0.0837214428924531,
          0.07672108575870284,
          0.090085403923134,
          0.05635641046050747,
          0.0673165655689098,
          0.19565644635429813,
          0.05494219689810801,
          0.12756206332601738
         ]
        },
        {
         "line": {
          "color": "tomato",
          "width": 2
         },
         "name": "Rolling Std Dev - Inflation",
         "type": "scatter",
         "x": [
          "2019-01-31T00:00:00",
          "2019-02-28T00:00:00",
          "2019-03-31T00:00:00",
          "2019-04-30T00:00:00",
          "2019-05-31T00:00:00",
          "2019-06-30T00:00:00",
          "2019-07-31T00:00:00",
          "2019-08-31T00:00:00",
          "2019-09-30T00:00:00",
          "2019-10-31T00:00:00",
          "2019-11-30T00:00:00",
          "2019-12-31T00:00:00",
          "2020-01-31T00:00:00",
          "2020-02-29T00:00:00",
          "2020-03-31T00:00:00",
          "2020-04-30T00:00:00",
          "2020-05-31T00:00:00",
          "2020-06-30T00:00:00",
          "2020-07-31T00:00:00",
          "2020-08-31T00:00:00",
          "2020-09-30T00:00:00",
          "2020-10-31T00:00:00",
          "2020-11-30T00:00:00",
          "2020-12-31T00:00:00",
          "2021-01-31T00:00:00",
          "2021-02-28T00:00:00",
          "2021-03-31T00:00:00",
          "2021-04-30T00:00:00",
          "2021-05-31T00:00:00",
          "2021-06-30T00:00:00",
          "2021-07-31T00:00:00",
          "2021-08-31T00:00:00",
          "2021-09-30T00:00:00",
          "2021-10-31T00:00:00",
          "2021-11-30T00:00:00",
          "2021-12-31T00:00:00",
          "2022-01-31T00:00:00",
          "2022-02-28T00:00:00",
          "2022-03-31T00:00:00",
          "2022-04-30T00:00:00",
          "2022-05-31T00:00:00",
          "2022-06-30T00:00:00",
          "2022-07-31T00:00:00",
          "2022-08-31T00:00:00",
          "2022-09-30T00:00:00",
          "2022-10-31T00:00:00",
          "2022-11-30T00:00:00",
          "2022-12-31T00:00:00",
          "2023-01-31T00:00:00",
          "2023-02-28T00:00:00",
          "2023-03-31T00:00:00",
          "2023-04-30T00:00:00",
          "2023-05-31T00:00:00",
          "2023-06-30T00:00:00",
          "2023-07-31T00:00:00",
          "2023-08-31T00:00:00"
         ],
         "y": [
          null,
          0.07778174593052045,
          0.4879036790187176,
          0.25455844122715704,
          0.19798989873223327,
          0.9121677477306455,
          0.10606601717796904,
          0.14849242404916557,
          0.38183766184073203,
          0.24748737341528593,
          0.516187950266177,
          0.7353910524340079,
          0.0848528137423783,
          0.1272792206135741,
          0.5020458146424467,
          0.6363961030678902,
          0.3676955262169994,
          0.17677669529662535,
          0.12727922061356278,
          0.0919238815542297,
          0.4949747468305794,
          0.5515432893255032,
          0.2757716446627448,
          0.14849242404915733,
          0.028284271247365374,
          0.4525483399593838,
          0.6363961030678855,
          0.466690475583111,
          0.919238815542507,
          0.20506096654407435,
          0.45254833995938004,
          0.4879036790187068,
          0.4030508652763173,
          0.2969848480983289,
          0.049497474682923044,
          0.4808326112068404,
          0.2262741699796734,
          0.1131370849897955,
          0.5374011537017643,
          0.5868986283848172,
          0.2828427124745795,
          0.11313708498975447,
          1.2869343417595107,
          0.9475230867899714,
          1.1030865786510173,
          0.4949747468305981,
          0.4030508652763567,
          0.07778174593066954,
          0.014142135624571657,
          0.12020815280181572,
          0.6717514421272425,
          0.3323401871577353,
          0.1697056274848948,
          0.5515432893255494,
          0.586898628384874,
          0.4384062043357041
         ]
        }
       ],
       "layout": {
        "template": {
         "data": {
          "bar": [
           {
            "error_x": {
             "color": "#f2f5fa"
            },
            "error_y": {
             "color": "#f2f5fa"
            },
            "marker": {
             "line": {
              "color": "rgb(17,17,17)",
              "width": 0.5
             },
             "pattern": {
              "fillmode": "overlay",
              "size": 10,
              "solidity": 0.2
             }
            },
            "type": "bar"
           }
          ],
          "barpolar": [
           {
            "marker": {
             "line": {
              "color": "rgb(17,17,17)",
              "width": 0.5
             },
             "pattern": {
              "fillmode": "overlay",
              "size": 10,
              "solidity": 0.2
             }
            },
            "type": "barpolar"
           }
          ],
          "carpet": [
           {
            "aaxis": {
             "endlinecolor": "#A2B1C6",
             "gridcolor": "#506784",
             "linecolor": "#506784",
             "minorgridcolor": "#506784",
             "startlinecolor": "#A2B1C6"
            },
            "baxis": {
             "endlinecolor": "#A2B1C6",
             "gridcolor": "#506784",
             "linecolor": "#506784",
             "minorgridcolor": "#506784",
             "startlinecolor": "#A2B1C6"
            },
            "type": "carpet"
           }
          ],
          "choropleth": [
           {
            "colorbar": {
             "outlinewidth": 0,
             "ticks": ""
            },
            "type": "choropleth"
           }
          ],
          "contour": [
           {
            "colorbar": {
             "outlinewidth": 0,
             "ticks": ""
            },
            "colorscale": [
             [
              0,
              "#0d0887"
             ],
             [
              0.1111111111111111,
              "#46039f"
             ],
             [
              0.2222222222222222,
              "#7201a8"
             ],
             [
              0.3333333333333333,
              "#9c179e"
             ],
             [
              0.4444444444444444,
              "#bd3786"
             ],
             [
              0.5555555555555556,
              "#d8576b"
             ],
             [
              0.6666666666666666,
              "#ed7953"
             ],
             [
              0.7777777777777778,
              "#fb9f3a"
             ],
             [
              0.8888888888888888,
              "#fdca26"
             ],
             [
              1,
              "#f0f921"
             ]
            ],
            "type": "contour"
           }
          ],
          "contourcarpet": [
           {
            "colorbar": {
             "outlinewidth": 0,
             "ticks": ""
            },
            "type": "contourcarpet"
           }
          ],
          "heatmap": [
           {
            "colorbar": {
             "outlinewidth": 0,
             "ticks": ""
            },
            "colorscale": [
             [
              0,
              "#0d0887"
             ],
             [
              0.1111111111111111,
              "#46039f"
             ],
             [
              0.2222222222222222,
              "#7201a8"
             ],
             [
              0.3333333333333333,
              "#9c179e"
             ],
             [
              0.4444444444444444,
              "#bd3786"
             ],
             [
              0.5555555555555556,
              "#d8576b"
             ],
             [
              0.6666666666666666,
              "#ed7953"
             ],
             [
              0.7777777777777778,
              "#fb9f3a"
             ],
             [
              0.8888888888888888,
              "#fdca26"
             ],
             [
              1,
              "#f0f921"
             ]
            ],
            "type": "heatmap"
           }
          ],
          "heatmapgl": [
           {
            "colorbar": {
             "outlinewidth": 0,
             "ticks": ""
            },
            "colorscale": [
             [
              0,
              "#0d0887"
             ],
             [
              0.1111111111111111,
              "#46039f"
             ],
             [
              0.2222222222222222,
              "#7201a8"
             ],
             [
              0.3333333333333333,
              "#9c179e"
             ],
             [
              0.4444444444444444,
              "#bd3786"
             ],
             [
              0.5555555555555556,
              "#d8576b"
             ],
             [
              0.6666666666666666,
              "#ed7953"
             ],
             [
              0.7777777777777778,
              "#fb9f3a"
             ],
             [
              0.8888888888888888,
              "#fdca26"
             ],
             [
              1,
              "#f0f921"
             ]
            ],
            "type": "heatmapgl"
           }
          ],
          "histogram": [
           {
            "marker": {
             "pattern": {
              "fillmode": "overlay",
              "size": 10,
              "solidity": 0.2
             }
            },
            "type": "histogram"
           }
          ],
          "histogram2d": [
           {
            "colorbar": {
             "outlinewidth": 0,
             "ticks": ""
            },
            "colorscale": [
             [
              0,
              "#0d0887"
             ],
             [
              0.1111111111111111,
              "#46039f"
             ],
             [
              0.2222222222222222,
              "#7201a8"
             ],
             [
              0.3333333333333333,
              "#9c179e"
             ],
             [
              0.4444444444444444,
              "#bd3786"
             ],
             [
              0.5555555555555556,
              "#d8576b"
             ],
             [
              0.6666666666666666,
              "#ed7953"
             ],
             [
              0.7777777777777778,
              "#fb9f3a"
             ],
             [
              0.8888888888888888,
              "#fdca26"
             ],
             [
              1,
              "#f0f921"
             ]
            ],
            "type": "histogram2d"
           }
          ],
          "histogram2dcontour": [
           {
            "colorbar": {
             "outlinewidth": 0,
             "ticks": ""
            },
            "colorscale": [
             [
              0,
              "#0d0887"
             ],
             [
              0.1111111111111111,
              "#46039f"
             ],
             [
              0.2222222222222222,
              "#7201a8"
             ],
             [
              0.3333333333333333,
              "#9c179e"
             ],
             [
              0.4444444444444444,
              "#bd3786"
             ],
             [
              0.5555555555555556,
              "#d8576b"
             ],
             [
              0.6666666666666666,
              "#ed7953"
             ],
             [
              0.7777777777777778,
              "#fb9f3a"
             ],
             [
              0.8888888888888888,
              "#fdca26"
             ],
             [
              1,
              "#f0f921"
             ]
            ],
            "type": "histogram2dcontour"
           }
          ],
          "mesh3d": [
           {
            "colorbar": {
             "outlinewidth": 0,
             "ticks": ""
            },
            "type": "mesh3d"
           }
          ],
          "parcoords": [
           {
            "line": {
             "colorbar": {
              "outlinewidth": 0,
              "ticks": ""
             }
            },
            "type": "parcoords"
           }
          ],
          "pie": [
           {
            "automargin": true,
            "type": "pie"
           }
          ],
          "scatter": [
           {
            "marker": {
             "line": {
              "color": "#283442"
             }
            },
            "type": "scatter"
           }
          ],
          "scatter3d": [
           {
            "line": {
             "colorbar": {
              "outlinewidth": 0,
              "ticks": ""
             }
            },
            "marker": {
             "colorbar": {
              "outlinewidth": 0,
              "ticks": ""
             }
            },
            "type": "scatter3d"
           }
          ],
          "scattercarpet": [
           {
            "marker": {
             "colorbar": {
              "outlinewidth": 0,
              "ticks": ""
             }
            },
            "type": "scattercarpet"
           }
          ],
          "scattergeo": [
           {
            "marker": {
             "colorbar": {
              "outlinewidth": 0,
              "ticks": ""
             }
            },
            "type": "scattergeo"
           }
          ],
          "scattergl": [
           {
            "marker": {
             "line": {
              "color": "#283442"
             }
            },
            "type": "scattergl"
           }
          ],
          "scattermapbox": [
           {
            "marker": {
             "colorbar": {
              "outlinewidth": 0,
              "ticks": ""
             }
            },
            "type": "scattermapbox"
           }
          ],
          "scatterpolar": [
           {
            "marker": {
             "colorbar": {
              "outlinewidth": 0,
              "ticks": ""
             }
            },
            "type": "scatterpolar"
           }
          ],
          "scatterpolargl": [
           {
            "marker": {
             "colorbar": {
              "outlinewidth": 0,
              "ticks": ""
             }
            },
            "type": "scatterpolargl"
           }
          ],
          "scatterternary": [
           {
            "marker": {
             "colorbar": {
              "outlinewidth": 0,
              "ticks": ""
             }
            },
            "type": "scatterternary"
           }
          ],
          "surface": [
           {
            "colorbar": {
             "outlinewidth": 0,
             "ticks": ""
            },
            "colorscale": [
             [
              0,
              "#0d0887"
             ],
             [
              0.1111111111111111,
              "#46039f"
             ],
             [
              0.2222222222222222,
              "#7201a8"
             ],
             [
              0.3333333333333333,
              "#9c179e"
             ],
             [
              0.4444444444444444,
              "#bd3786"
             ],
             [
              0.5555555555555556,
              "#d8576b"
             ],
             [
              0.6666666666666666,
              "#ed7953"
             ],
             [
              0.7777777777777778,
              "#fb9f3a"
             ],
             [
              0.8888888888888888,
              "#fdca26"
             ],
             [
              1,
              "#f0f921"
             ]
            ],
            "type": "surface"
           }
          ],
          "table": [
           {
            "cells": {
             "fill": {
              "color": "#506784"
             },
             "line": {
              "color": "rgb(17,17,17)"
             }
            },
            "header": {
             "fill": {
              "color": "#2a3f5f"
             },
             "line": {
              "color": "rgb(17,17,17)"
             }
            },
            "type": "table"
           }
          ]
         },
         "layout": {
          "annotationdefaults": {
           "arrowcolor": "#f2f5fa",
           "arrowhead": 0,
           "arrowwidth": 1
          },
          "autotypenumbers": "strict",
          "coloraxis": {
           "colorbar": {
            "outlinewidth": 0,
            "ticks": ""
           }
          },
          "colorscale": {
           "diverging": [
            [
             0,
             "#8e0152"
            ],
            [
             0.1,
             "#c51b7d"
            ],
            [
             0.2,
             "#de77ae"
            ],
            [
             0.3,
             "#f1b6da"
            ],
            [
             0.4,
             "#fde0ef"
            ],
            [
             0.5,
             "#f7f7f7"
            ],
            [
             0.6,
             "#e6f5d0"
            ],
            [
             0.7,
             "#b8e186"
            ],
            [
             0.8,
             "#7fbc41"
            ],
            [
             0.9,
             "#4d9221"
            ],
            [
             1,
             "#276419"
            ]
           ],
           "sequential": [
            [
             0,
             "#0d0887"
            ],
            [
             0.1111111111111111,
             "#46039f"
            ],
            [
             0.2222222222222222,
             "#7201a8"
            ],
            [
             0.3333333333333333,
             "#9c179e"
            ],
            [
             0.4444444444444444,
             "#bd3786"
            ],
            [
             0.5555555555555556,
             "#d8576b"
            ],
            [
             0.6666666666666666,
             "#ed7953"
            ],
            [
             0.7777777777777778,
             "#fb9f3a"
            ],
            [
             0.8888888888888888,
             "#fdca26"
            ],
            [
             1,
             "#f0f921"
            ]
           ],
           "sequentialminus": [
            [
             0,
             "#0d0887"
            ],
            [
             0.1111111111111111,
             "#46039f"
            ],
            [
             0.2222222222222222,
             "#7201a8"
            ],
            [
             0.3333333333333333,
             "#9c179e"
            ],
            [
             0.4444444444444444,
             "#bd3786"
            ],
            [
             0.5555555555555556,
             "#d8576b"
            ],
            [
             0.6666666666666666,
             "#ed7953"
            ],
            [
             0.7777777777777778,
             "#fb9f3a"
            ],
            [
             0.8888888888888888,
             "#fdca26"
            ],
            [
             1,
             "#f0f921"
            ]
           ]
          },
          "colorway": [
           "#636efa",
           "#EF553B",
           "#00cc96",
           "#ab63fa",
           "#FFA15A",
           "#19d3f3",
           "#FF6692",
           "#B6E880",
           "#FF97FF",
           "#FECB52"
          ],
          "font": {
           "color": "#f2f5fa"
          },
          "geo": {
           "bgcolor": "rgb(17,17,17)",
           "lakecolor": "rgb(17,17,17)",
           "landcolor": "rgb(17,17,17)",
           "showlakes": true,
           "showland": true,
           "subunitcolor": "#506784"
          },
          "hoverlabel": {
           "align": "left"
          },
          "hovermode": "closest",
          "mapbox": {
           "style": "dark"
          },
          "paper_bgcolor": "rgb(17,17,17)",
          "plot_bgcolor": "rgb(17,17,17)",
          "polar": {
           "angularaxis": {
            "gridcolor": "#506784",
            "linecolor": "#506784",
            "ticks": ""
           },
           "bgcolor": "rgb(17,17,17)",
           "radialaxis": {
            "gridcolor": "#506784",
            "linecolor": "#506784",
            "ticks": ""
           }
          },
          "scene": {
           "xaxis": {
            "backgroundcolor": "rgb(17,17,17)",
            "gridcolor": "#506784",
            "gridwidth": 2,
            "linecolor": "#506784",
            "showbackground": true,
            "ticks": "",
            "zerolinecolor": "#C8D4E3"
           },
           "yaxis": {
            "backgroundcolor": "rgb(17,17,17)",
            "gridcolor": "#506784",
            "gridwidth": 2,
            "linecolor": "#506784",
            "showbackground": true,
            "ticks": "",
            "zerolinecolor": "#C8D4E3"
           },
           "zaxis": {
            "backgroundcolor": "rgb(17,17,17)",
            "gridcolor": "#506784",
            "gridwidth": 2,
            "linecolor": "#506784",
            "showbackground": true,
            "ticks": "",
            "zerolinecolor": "#C8D4E3"
           }
          },
          "shapedefaults": {
           "line": {
            "color": "#f2f5fa"
           }
          },
          "sliderdefaults": {
           "bgcolor": "#C8D4E3",
           "bordercolor": "rgb(17,17,17)",
           "borderwidth": 1,
           "tickwidth": 0
          },
          "ternary": {
           "aaxis": {
            "gridcolor": "#506784",
            "linecolor": "#506784",
            "ticks": ""
           },
           "baxis": {
            "gridcolor": "#506784",
            "linecolor": "#506784",
            "ticks": ""
           },
           "bgcolor": "rgb(17,17,17)",
           "caxis": {
            "gridcolor": "#506784",
            "linecolor": "#506784",
            "ticks": ""
           }
          },
          "title": {
           "x": 0.05
          },
          "updatemenudefaults": {
           "bgcolor": "#506784",
           "borderwidth": 0
          },
          "xaxis": {
           "automargin": true,
           "gridcolor": "#283442",
           "linecolor": "#506784",
           "ticks": "",
           "title": {
            "standoff": 15
           },
           "zerolinecolor": "#283442",
           "zerolinewidth": 2
          },
          "yaxis": {
           "automargin": true,
           "gridcolor": "#283442",
           "linecolor": "#506784",
           "ticks": "",
           "title": {
            "standoff": 15
           },
           "zerolinecolor": "#283442",
           "zerolinewidth": 2
          }
         }
        },
        "title": {
         "text": "Volatility of Monthly Inflation (Rolling Standard Deviation)"
        },
        "xaxis": {
         "title": {
          "text": "Date"
         }
        },
        "yaxis": {
         "title": {
          "text": "Rolling Std Dev"
         }
        }
       }
      }
     },
     "metadata": {},
     "output_type": "display_data"
    }
   ],
   "source": [
    "window_size = 2\n",
    "\n",
    "df_macroeconomic_book['rolling_std_dollar'] = df_macroeconomic_book['dolar'].rolling(window=window_size).std()\n",
    "df_macroeconomic_book['rolling_std_inflation'] = df_macroeconomic_book['ipca'].rolling(window=window_size).std()\n",
    "\n",
    "fig = go.Figure()\n",
    "\n",
    "fig.add_trace(go.Scatter(x=df_macroeconomic_book['date'], y=df_macroeconomic_book['rolling_std_dollar'], name='Rolling Std Dev - Dollar', line=dict(color='rgb(100, 195, 181)')))\n",
    "fig.update_layout(title='Volatility of Dollar Exchange Rate (Rolling Standard Deviation)', xaxis_title='Date', yaxis_title='Rolling Std Dev', template='plotly_dark')\n",
    "\n",
    "fig.add_trace(go.Scatter(x=df_macroeconomic_book['date'], y=df_macroeconomic_book['rolling_std_inflation'], name='Rolling Std Dev - Inflation', line=dict(color='tomato', width=2)))\n",
    "fig.update_layout(title='Volatility of Monthly Inflation (Rolling Standard Deviation)', xaxis_title='Date', yaxis_title='Rolling Std Dev', template='plotly_dark')\n",
    "\n",
    "fig.show()"
   ]
  },
  {
   "cell_type": "markdown",
   "metadata": {},
   "source": [
    "The graph depicts the volatility, as measured by the `Rolling Standard Deviation`, for both the `Dollar Exchange Rate` and `Monthly Inflation` from `July 2019` to `July 2023`.\n",
    "\n",
    "**Observations**\"\n",
    "\n",
    "- There are notable spikes in the rolling standard deviation for both metrics, with the `Dollar Exchange Rate` generally exhibiting higher volatility.\n",
    "- The peak volatility for `Monthly Inflation` occurs around the start of `2022`, with a rolling standard deviation nearing **1.2**.\n",
    "- The `Dollar Exchange Rate` shows several peaks, with one of the highest around `September 2020`, reaching approximately **0.5**.\n",
    "- As of `July 2023`, the rolling standard deviation for both the `Dollar Exchange Rate` and `Monthly Inflation` shows a downtrend, indicating a period of relative economic stability.\n",
    "\n",
    "**Interpretation**:\n",
    "\n",
    "- The higher peaks in rolling standard deviation for the `Dollar Exchange Rate` suggest more pronounced fluctuations in value, potentially due to market reactions to global economic events.\n",
    "- The `Monthly Inflation` volatility peaks might correspond to periods of economic policy changes or external economic shocks.\n",
    "- The recent trends towards lower volatility may suggest that the market conditions are stabilizing, or that the measures to control inflation and exchange rate fluctuations are taking effect.\n",
    "\n",
    "This data can be instrumental for policymakers and investors to understand the economic environment's stability and to make informed decisions."
   ]
  },
  {
   "cell_type": "markdown",
   "metadata": {},
   "source": [
    "### Technical Analysis:"
   ]
  },
  {
   "cell_type": "code",
   "execution_count": 107,
   "metadata": {},
   "outputs": [
    {
     "data": {
      "application/vnd.plotly.v1+json": {
       "config": {
        "plotlyServerURL": "https://plot.ly"
       },
       "data": [
        {
         "alignmentgroup": "True",
         "hovertemplate": "date=%{x}<br>IPCA (%)=%{y}<extra></extra>",
         "legendgroup": "",
         "marker": {
          "color": "#636efa",
          "pattern": {
           "shape": ""
          }
         },
         "name": "",
         "offsetgroup": "",
         "orientation": "v",
         "showlegend": false,
         "textposition": "auto",
         "type": "bar",
         "x": [
          "2019-01-31T00:00:00",
          "2019-02-28T00:00:00",
          "2019-03-31T00:00:00",
          "2019-04-30T00:00:00",
          "2019-05-31T00:00:00",
          "2019-06-30T00:00:00",
          "2019-07-31T00:00:00",
          "2019-08-31T00:00:00",
          "2019-09-30T00:00:00",
          "2019-10-31T00:00:00",
          "2019-11-30T00:00:00",
          "2019-12-31T00:00:00",
          "2020-01-31T00:00:00",
          "2020-02-29T00:00:00",
          "2020-03-31T00:00:00",
          "2020-04-30T00:00:00",
          "2020-05-31T00:00:00",
          "2020-06-30T00:00:00",
          "2020-07-31T00:00:00",
          "2020-08-31T00:00:00",
          "2020-09-30T00:00:00",
          "2020-10-31T00:00:00",
          "2020-11-30T00:00:00",
          "2020-12-31T00:00:00",
          "2021-01-31T00:00:00",
          "2021-02-28T00:00:00",
          "2021-03-31T00:00:00",
          "2021-04-30T00:00:00",
          "2021-05-31T00:00:00",
          "2021-06-30T00:00:00",
          "2021-07-31T00:00:00",
          "2021-08-31T00:00:00",
          "2021-09-30T00:00:00",
          "2021-10-31T00:00:00",
          "2021-11-30T00:00:00",
          "2021-12-31T00:00:00",
          "2022-01-31T00:00:00",
          "2022-02-28T00:00:00",
          "2022-03-31T00:00:00",
          "2022-04-30T00:00:00",
          "2022-05-31T00:00:00",
          "2022-06-30T00:00:00",
          "2022-07-31T00:00:00",
          "2022-08-31T00:00:00",
          "2022-09-30T00:00:00",
          "2022-10-31T00:00:00",
          "2022-11-30T00:00:00",
          "2022-12-31T00:00:00",
          "2023-01-31T00:00:00",
          "2023-02-28T00:00:00",
          "2023-03-31T00:00:00",
          "2023-04-30T00:00:00",
          "2023-05-31T00:00:00",
          "2023-06-30T00:00:00",
          "2023-07-31T00:00:00",
          "2023-08-31T00:00:00"
         ],
         "xaxis": "x",
         "y": [
          3.78,
          3.89,
          4.58,
          4.94,
          4.66,
          3.37,
          3.22,
          3.43,
          2.89,
          2.54,
          3.27,
          4.31,
          4.19,
          4.01,
          3.3,
          2.4,
          1.88,
          2.13,
          2.31,
          2.44,
          3.14,
          3.92,
          4.31,
          4.52,
          4.56,
          5.2,
          6.1,
          6.76,
          8.06,
          8.35,
          8.99,
          9.68,
          10.25,
          10.67,
          10.74,
          10.06,
          10.38,
          10.54,
          11.3,
          12.13,
          11.73,
          11.89,
          10.07,
          8.73,
          7.17,
          6.47,
          5.9,
          5.79,
          5.77,
          5.6,
          4.65,
          4.18,
          3.94,
          3.16,
          3.99,
          4.61
         ],
         "yaxis": "y"
        }
       ],
       "layout": {
        "barmode": "relative",
        "legend": {
         "tracegroupgap": 0
        },
        "template": {
         "data": {
          "bar": [
           {
            "error_x": {
             "color": "#f2f5fa"
            },
            "error_y": {
             "color": "#f2f5fa"
            },
            "marker": {
             "line": {
              "color": "rgb(17,17,17)",
              "width": 0.5
             },
             "pattern": {
              "fillmode": "overlay",
              "size": 10,
              "solidity": 0.2
             }
            },
            "type": "bar"
           }
          ],
          "barpolar": [
           {
            "marker": {
             "line": {
              "color": "rgb(17,17,17)",
              "width": 0.5
             },
             "pattern": {
              "fillmode": "overlay",
              "size": 10,
              "solidity": 0.2
             }
            },
            "type": "barpolar"
           }
          ],
          "carpet": [
           {
            "aaxis": {
             "endlinecolor": "#A2B1C6",
             "gridcolor": "#506784",
             "linecolor": "#506784",
             "minorgridcolor": "#506784",
             "startlinecolor": "#A2B1C6"
            },
            "baxis": {
             "endlinecolor": "#A2B1C6",
             "gridcolor": "#506784",
             "linecolor": "#506784",
             "minorgridcolor": "#506784",
             "startlinecolor": "#A2B1C6"
            },
            "type": "carpet"
           }
          ],
          "choropleth": [
           {
            "colorbar": {
             "outlinewidth": 0,
             "ticks": ""
            },
            "type": "choropleth"
           }
          ],
          "contour": [
           {
            "colorbar": {
             "outlinewidth": 0,
             "ticks": ""
            },
            "colorscale": [
             [
              0,
              "#0d0887"
             ],
             [
              0.1111111111111111,
              "#46039f"
             ],
             [
              0.2222222222222222,
              "#7201a8"
             ],
             [
              0.3333333333333333,
              "#9c179e"
             ],
             [
              0.4444444444444444,
              "#bd3786"
             ],
             [
              0.5555555555555556,
              "#d8576b"
             ],
             [
              0.6666666666666666,
              "#ed7953"
             ],
             [
              0.7777777777777778,
              "#fb9f3a"
             ],
             [
              0.8888888888888888,
              "#fdca26"
             ],
             [
              1,
              "#f0f921"
             ]
            ],
            "type": "contour"
           }
          ],
          "contourcarpet": [
           {
            "colorbar": {
             "outlinewidth": 0,
             "ticks": ""
            },
            "type": "contourcarpet"
           }
          ],
          "heatmap": [
           {
            "colorbar": {
             "outlinewidth": 0,
             "ticks": ""
            },
            "colorscale": [
             [
              0,
              "#0d0887"
             ],
             [
              0.1111111111111111,
              "#46039f"
             ],
             [
              0.2222222222222222,
              "#7201a8"
             ],
             [
              0.3333333333333333,
              "#9c179e"
             ],
             [
              0.4444444444444444,
              "#bd3786"
             ],
             [
              0.5555555555555556,
              "#d8576b"
             ],
             [
              0.6666666666666666,
              "#ed7953"
             ],
             [
              0.7777777777777778,
              "#fb9f3a"
             ],
             [
              0.8888888888888888,
              "#fdca26"
             ],
             [
              1,
              "#f0f921"
             ]
            ],
            "type": "heatmap"
           }
          ],
          "heatmapgl": [
           {
            "colorbar": {
             "outlinewidth": 0,
             "ticks": ""
            },
            "colorscale": [
             [
              0,
              "#0d0887"
             ],
             [
              0.1111111111111111,
              "#46039f"
             ],
             [
              0.2222222222222222,
              "#7201a8"
             ],
             [
              0.3333333333333333,
              "#9c179e"
             ],
             [
              0.4444444444444444,
              "#bd3786"
             ],
             [
              0.5555555555555556,
              "#d8576b"
             ],
             [
              0.6666666666666666,
              "#ed7953"
             ],
             [
              0.7777777777777778,
              "#fb9f3a"
             ],
             [
              0.8888888888888888,
              "#fdca26"
             ],
             [
              1,
              "#f0f921"
             ]
            ],
            "type": "heatmapgl"
           }
          ],
          "histogram": [
           {
            "marker": {
             "pattern": {
              "fillmode": "overlay",
              "size": 10,
              "solidity": 0.2
             }
            },
            "type": "histogram"
           }
          ],
          "histogram2d": [
           {
            "colorbar": {
             "outlinewidth": 0,
             "ticks": ""
            },
            "colorscale": [
             [
              0,
              "#0d0887"
             ],
             [
              0.1111111111111111,
              "#46039f"
             ],
             [
              0.2222222222222222,
              "#7201a8"
             ],
             [
              0.3333333333333333,
              "#9c179e"
             ],
             [
              0.4444444444444444,
              "#bd3786"
             ],
             [
              0.5555555555555556,
              "#d8576b"
             ],
             [
              0.6666666666666666,
              "#ed7953"
             ],
             [
              0.7777777777777778,
              "#fb9f3a"
             ],
             [
              0.8888888888888888,
              "#fdca26"
             ],
             [
              1,
              "#f0f921"
             ]
            ],
            "type": "histogram2d"
           }
          ],
          "histogram2dcontour": [
           {
            "colorbar": {
             "outlinewidth": 0,
             "ticks": ""
            },
            "colorscale": [
             [
              0,
              "#0d0887"
             ],
             [
              0.1111111111111111,
              "#46039f"
             ],
             [
              0.2222222222222222,
              "#7201a8"
             ],
             [
              0.3333333333333333,
              "#9c179e"
             ],
             [
              0.4444444444444444,
              "#bd3786"
             ],
             [
              0.5555555555555556,
              "#d8576b"
             ],
             [
              0.6666666666666666,
              "#ed7953"
             ],
             [
              0.7777777777777778,
              "#fb9f3a"
             ],
             [
              0.8888888888888888,
              "#fdca26"
             ],
             [
              1,
              "#f0f921"
             ]
            ],
            "type": "histogram2dcontour"
           }
          ],
          "mesh3d": [
           {
            "colorbar": {
             "outlinewidth": 0,
             "ticks": ""
            },
            "type": "mesh3d"
           }
          ],
          "parcoords": [
           {
            "line": {
             "colorbar": {
              "outlinewidth": 0,
              "ticks": ""
             }
            },
            "type": "parcoords"
           }
          ],
          "pie": [
           {
            "automargin": true,
            "type": "pie"
           }
          ],
          "scatter": [
           {
            "marker": {
             "line": {
              "color": "#283442"
             }
            },
            "type": "scatter"
           }
          ],
          "scatter3d": [
           {
            "line": {
             "colorbar": {
              "outlinewidth": 0,
              "ticks": ""
             }
            },
            "marker": {
             "colorbar": {
              "outlinewidth": 0,
              "ticks": ""
             }
            },
            "type": "scatter3d"
           }
          ],
          "scattercarpet": [
           {
            "marker": {
             "colorbar": {
              "outlinewidth": 0,
              "ticks": ""
             }
            },
            "type": "scattercarpet"
           }
          ],
          "scattergeo": [
           {
            "marker": {
             "colorbar": {
              "outlinewidth": 0,
              "ticks": ""
             }
            },
            "type": "scattergeo"
           }
          ],
          "scattergl": [
           {
            "marker": {
             "line": {
              "color": "#283442"
             }
            },
            "type": "scattergl"
           }
          ],
          "scattermapbox": [
           {
            "marker": {
             "colorbar": {
              "outlinewidth": 0,
              "ticks": ""
             }
            },
            "type": "scattermapbox"
           }
          ],
          "scatterpolar": [
           {
            "marker": {
             "colorbar": {
              "outlinewidth": 0,
              "ticks": ""
             }
            },
            "type": "scatterpolar"
           }
          ],
          "scatterpolargl": [
           {
            "marker": {
             "colorbar": {
              "outlinewidth": 0,
              "ticks": ""
             }
            },
            "type": "scatterpolargl"
           }
          ],
          "scatterternary": [
           {
            "marker": {
             "colorbar": {
              "outlinewidth": 0,
              "ticks": ""
             }
            },
            "type": "scatterternary"
           }
          ],
          "surface": [
           {
            "colorbar": {
             "outlinewidth": 0,
             "ticks": ""
            },
            "colorscale": [
             [
              0,
              "#0d0887"
             ],
             [
              0.1111111111111111,
              "#46039f"
             ],
             [
              0.2222222222222222,
              "#7201a8"
             ],
             [
              0.3333333333333333,
              "#9c179e"
             ],
             [
              0.4444444444444444,
              "#bd3786"
             ],
             [
              0.5555555555555556,
              "#d8576b"
             ],
             [
              0.6666666666666666,
              "#ed7953"
             ],
             [
              0.7777777777777778,
              "#fb9f3a"
             ],
             [
              0.8888888888888888,
              "#fdca26"
             ],
             [
              1,
              "#f0f921"
             ]
            ],
            "type": "surface"
           }
          ],
          "table": [
           {
            "cells": {
             "fill": {
              "color": "#506784"
             },
             "line": {
              "color": "rgb(17,17,17)"
             }
            },
            "header": {
             "fill": {
              "color": "#2a3f5f"
             },
             "line": {
              "color": "rgb(17,17,17)"
             }
            },
            "type": "table"
           }
          ]
         },
         "layout": {
          "annotationdefaults": {
           "arrowcolor": "#f2f5fa",
           "arrowhead": 0,
           "arrowwidth": 1
          },
          "autotypenumbers": "strict",
          "coloraxis": {
           "colorbar": {
            "outlinewidth": 0,
            "ticks": ""
           }
          },
          "colorscale": {
           "diverging": [
            [
             0,
             "#8e0152"
            ],
            [
             0.1,
             "#c51b7d"
            ],
            [
             0.2,
             "#de77ae"
            ],
            [
             0.3,
             "#f1b6da"
            ],
            [
             0.4,
             "#fde0ef"
            ],
            [
             0.5,
             "#f7f7f7"
            ],
            [
             0.6,
             "#e6f5d0"
            ],
            [
             0.7,
             "#b8e186"
            ],
            [
             0.8,
             "#7fbc41"
            ],
            [
             0.9,
             "#4d9221"
            ],
            [
             1,
             "#276419"
            ]
           ],
           "sequential": [
            [
             0,
             "#0d0887"
            ],
            [
             0.1111111111111111,
             "#46039f"
            ],
            [
             0.2222222222222222,
             "#7201a8"
            ],
            [
             0.3333333333333333,
             "#9c179e"
            ],
            [
             0.4444444444444444,
             "#bd3786"
            ],
            [
             0.5555555555555556,
             "#d8576b"
            ],
            [
             0.6666666666666666,
             "#ed7953"
            ],
            [
             0.7777777777777778,
             "#fb9f3a"
            ],
            [
             0.8888888888888888,
             "#fdca26"
            ],
            [
             1,
             "#f0f921"
            ]
           ],
           "sequentialminus": [
            [
             0,
             "#0d0887"
            ],
            [
             0.1111111111111111,
             "#46039f"
            ],
            [
             0.2222222222222222,
             "#7201a8"
            ],
            [
             0.3333333333333333,
             "#9c179e"
            ],
            [
             0.4444444444444444,
             "#bd3786"
            ],
            [
             0.5555555555555556,
             "#d8576b"
            ],
            [
             0.6666666666666666,
             "#ed7953"
            ],
            [
             0.7777777777777778,
             "#fb9f3a"
            ],
            [
             0.8888888888888888,
             "#fdca26"
            ],
            [
             1,
             "#f0f921"
            ]
           ]
          },
          "colorway": [
           "#636efa",
           "#EF553B",
           "#00cc96",
           "#ab63fa",
           "#FFA15A",
           "#19d3f3",
           "#FF6692",
           "#B6E880",
           "#FF97FF",
           "#FECB52"
          ],
          "font": {
           "color": "#f2f5fa"
          },
          "geo": {
           "bgcolor": "rgb(17,17,17)",
           "lakecolor": "rgb(17,17,17)",
           "landcolor": "rgb(17,17,17)",
           "showlakes": true,
           "showland": true,
           "subunitcolor": "#506784"
          },
          "hoverlabel": {
           "align": "left"
          },
          "hovermode": "closest",
          "mapbox": {
           "style": "dark"
          },
          "paper_bgcolor": "rgb(17,17,17)",
          "plot_bgcolor": "rgb(17,17,17)",
          "polar": {
           "angularaxis": {
            "gridcolor": "#506784",
            "linecolor": "#506784",
            "ticks": ""
           },
           "bgcolor": "rgb(17,17,17)",
           "radialaxis": {
            "gridcolor": "#506784",
            "linecolor": "#506784",
            "ticks": ""
           }
          },
          "scene": {
           "xaxis": {
            "backgroundcolor": "rgb(17,17,17)",
            "gridcolor": "#506784",
            "gridwidth": 2,
            "linecolor": "#506784",
            "showbackground": true,
            "ticks": "",
            "zerolinecolor": "#C8D4E3"
           },
           "yaxis": {
            "backgroundcolor": "rgb(17,17,17)",
            "gridcolor": "#506784",
            "gridwidth": 2,
            "linecolor": "#506784",
            "showbackground": true,
            "ticks": "",
            "zerolinecolor": "#C8D4E3"
           },
           "zaxis": {
            "backgroundcolor": "rgb(17,17,17)",
            "gridcolor": "#506784",
            "gridwidth": 2,
            "linecolor": "#506784",
            "showbackground": true,
            "ticks": "",
            "zerolinecolor": "#C8D4E3"
           }
          },
          "shapedefaults": {
           "line": {
            "color": "#f2f5fa"
           }
          },
          "sliderdefaults": {
           "bgcolor": "#C8D4E3",
           "bordercolor": "rgb(17,17,17)",
           "borderwidth": 1,
           "tickwidth": 0
          },
          "ternary": {
           "aaxis": {
            "gridcolor": "#506784",
            "linecolor": "#506784",
            "ticks": ""
           },
           "baxis": {
            "gridcolor": "#506784",
            "linecolor": "#506784",
            "ticks": ""
           },
           "bgcolor": "rgb(17,17,17)",
           "caxis": {
            "gridcolor": "#506784",
            "linecolor": "#506784",
            "ticks": ""
           }
          },
          "title": {
           "x": 0.05
          },
          "updatemenudefaults": {
           "bgcolor": "#506784",
           "borderwidth": 0
          },
          "xaxis": {
           "automargin": true,
           "gridcolor": "#283442",
           "linecolor": "#506784",
           "ticks": "",
           "title": {
            "standoff": 15
           },
           "zerolinecolor": "#283442",
           "zerolinewidth": 2
          },
          "yaxis": {
           "automargin": true,
           "gridcolor": "#283442",
           "linecolor": "#506784",
           "ticks": "",
           "title": {
            "standoff": 15
           },
           "zerolinecolor": "#283442",
           "zerolinewidth": 2
          }
         }
        },
        "title": {
         "text": "Monthly IPCA Over Time"
        },
        "xaxis": {
         "anchor": "y",
         "domain": [
          0,
          1
         ],
         "title": {
          "text": "Date"
         }
        },
        "yaxis": {
         "anchor": "x",
         "domain": [
          0,
          1
         ],
         "title": {
          "text": "IPCA (%)"
         }
        }
       }
      }
     },
     "metadata": {},
     "output_type": "display_data"
    }
   ],
   "source": [
    "fig_ipca_bar = px.bar(df_macroeconomic_book, x='date', y='ipca', title='Monthly IPCA Over Time', labels={'ipca': 'IPCA (%)'})\n",
    "fig_ipca_bar.update_layout(template='plotly_dark', xaxis_title='Date', yaxis_title='IPCA (%)')\n",
    "\n",
    "fig_ipca_bar.show()"
   ]
  },
  {
   "cell_type": "markdown",
   "metadata": {},
   "source": [
    "This bar graph represents the `Monthly IPCA` rate, which is a key indicator of inflation in the Brazilian economy.\n",
    "\n",
    "**Trend Analysis**:\n",
    "\n",
    "- The IPCA starts at a moderate level in `July 2019`, with a percentage just above **3%**.\n",
    "- A noticeable trend is the gradual increase in IPCA starting from early `2020`, reaching a peak around `January 2022` with an IPCA close to **11%**.\n",
    "- After the peak in `January 2022`, there's a downward trend, with the IPCA rate decreasing to levels around **6%** by `July 2023`.\n",
    "\n",
    "**Economic Implications**:\n",
    "\n",
    "- The steady rise in IPCA through `2020` and `2021` could indicate mounting inflationary pressures within the economy.\n",
    "- The peak in `January 2022` may reflect the culmination of various economic factors, potentially including supply chain disruptions or changes in fiscal policy.\n",
    "- The subsequent decline suggests that measures to control inflation may be taking effect, or that the economy is adjusting to the previous pressures.\n",
    "\n",
    "The IPCA trends shown in this graph are critical for understanding the inflationary landscape in Brazil and can impact both monetary policy decisions and investment strategies.\n"
   ]
  },
  {
   "cell_type": "code",
   "execution_count": 108,
   "metadata": {},
   "outputs": [
    {
     "data": {
      "application/vnd.plotly.v1+json": {
       "config": {
        "plotlyServerURL": "https://plot.ly"
       },
       "data": [
        {
         "hovertemplate": "date=%{x}<br>Monthly Inflation (%)=%{y}<extra></extra>",
         "legendgroup": "",
         "line": {
          "color": "#636efa",
          "dash": "solid"
         },
         "marker": {
          "symbol": "circle"
         },
         "mode": "lines",
         "name": "",
         "orientation": "v",
         "showlegend": false,
         "type": "scatter",
         "x": [
          "2019-01-31T00:00:00",
          "2019-02-28T00:00:00",
          "2019-03-31T00:00:00",
          "2019-04-30T00:00:00",
          "2019-05-31T00:00:00",
          "2019-06-30T00:00:00",
          "2019-07-31T00:00:00",
          "2019-08-31T00:00:00",
          "2019-09-30T00:00:00",
          "2019-10-31T00:00:00",
          "2019-11-30T00:00:00",
          "2019-12-31T00:00:00",
          "2020-01-31T00:00:00",
          "2020-02-29T00:00:00",
          "2020-03-31T00:00:00",
          "2020-04-30T00:00:00",
          "2020-05-31T00:00:00",
          "2020-06-30T00:00:00",
          "2020-07-31T00:00:00",
          "2020-08-31T00:00:00",
          "2020-09-30T00:00:00",
          "2020-10-31T00:00:00",
          "2020-11-30T00:00:00",
          "2020-12-31T00:00:00",
          "2021-01-31T00:00:00",
          "2021-02-28T00:00:00",
          "2021-03-31T00:00:00",
          "2021-04-30T00:00:00",
          "2021-05-31T00:00:00",
          "2021-06-30T00:00:00",
          "2021-07-31T00:00:00",
          "2021-08-31T00:00:00",
          "2021-09-30T00:00:00",
          "2021-10-31T00:00:00",
          "2021-11-30T00:00:00",
          "2021-12-31T00:00:00",
          "2022-01-31T00:00:00",
          "2022-02-28T00:00:00",
          "2022-03-31T00:00:00",
          "2022-04-30T00:00:00",
          "2022-05-31T00:00:00",
          "2022-06-30T00:00:00",
          "2022-07-31T00:00:00",
          "2022-08-31T00:00:00",
          "2022-09-30T00:00:00",
          "2022-10-31T00:00:00",
          "2022-11-30T00:00:00",
          "2022-12-31T00:00:00",
          "2023-01-31T00:00:00",
          "2023-02-28T00:00:00",
          "2023-03-31T00:00:00",
          "2023-04-30T00:00:00",
          "2023-05-31T00:00:00",
          "2023-06-30T00:00:00",
          "2023-07-31T00:00:00",
          "2023-08-31T00:00:00"
         ],
         "xaxis": "x",
         "y": [
          3.78,
          3.89,
          4.58,
          4.94,
          4.66,
          3.37,
          3.22,
          3.43,
          2.89,
          2.54,
          3.27,
          4.31,
          4.19,
          4.01,
          3.3,
          2.4,
          1.88,
          2.13,
          2.31,
          2.44,
          3.14,
          3.92,
          4.31,
          4.52,
          4.56,
          5.2,
          6.1,
          6.76,
          8.06,
          8.35,
          8.99,
          9.68,
          10.25,
          10.67,
          10.74,
          10.06,
          10.38,
          10.54,
          11.3,
          12.13,
          11.73,
          11.89,
          10.07,
          8.73,
          7.17,
          6.47,
          5.9,
          5.79,
          5.77,
          5.6,
          4.65,
          4.18,
          3.94,
          3.16,
          3.99,
          4.61
         ],
         "yaxis": "y"
        }
       ],
       "layout": {
        "legend": {
         "tracegroupgap": 0
        },
        "template": {
         "data": {
          "bar": [
           {
            "error_x": {
             "color": "#f2f5fa"
            },
            "error_y": {
             "color": "#f2f5fa"
            },
            "marker": {
             "line": {
              "color": "rgb(17,17,17)",
              "width": 0.5
             },
             "pattern": {
              "fillmode": "overlay",
              "size": 10,
              "solidity": 0.2
             }
            },
            "type": "bar"
           }
          ],
          "barpolar": [
           {
            "marker": {
             "line": {
              "color": "rgb(17,17,17)",
              "width": 0.5
             },
             "pattern": {
              "fillmode": "overlay",
              "size": 10,
              "solidity": 0.2
             }
            },
            "type": "barpolar"
           }
          ],
          "carpet": [
           {
            "aaxis": {
             "endlinecolor": "#A2B1C6",
             "gridcolor": "#506784",
             "linecolor": "#506784",
             "minorgridcolor": "#506784",
             "startlinecolor": "#A2B1C6"
            },
            "baxis": {
             "endlinecolor": "#A2B1C6",
             "gridcolor": "#506784",
             "linecolor": "#506784",
             "minorgridcolor": "#506784",
             "startlinecolor": "#A2B1C6"
            },
            "type": "carpet"
           }
          ],
          "choropleth": [
           {
            "colorbar": {
             "outlinewidth": 0,
             "ticks": ""
            },
            "type": "choropleth"
           }
          ],
          "contour": [
           {
            "colorbar": {
             "outlinewidth": 0,
             "ticks": ""
            },
            "colorscale": [
             [
              0,
              "#0d0887"
             ],
             [
              0.1111111111111111,
              "#46039f"
             ],
             [
              0.2222222222222222,
              "#7201a8"
             ],
             [
              0.3333333333333333,
              "#9c179e"
             ],
             [
              0.4444444444444444,
              "#bd3786"
             ],
             [
              0.5555555555555556,
              "#d8576b"
             ],
             [
              0.6666666666666666,
              "#ed7953"
             ],
             [
              0.7777777777777778,
              "#fb9f3a"
             ],
             [
              0.8888888888888888,
              "#fdca26"
             ],
             [
              1,
              "#f0f921"
             ]
            ],
            "type": "contour"
           }
          ],
          "contourcarpet": [
           {
            "colorbar": {
             "outlinewidth": 0,
             "ticks": ""
            },
            "type": "contourcarpet"
           }
          ],
          "heatmap": [
           {
            "colorbar": {
             "outlinewidth": 0,
             "ticks": ""
            },
            "colorscale": [
             [
              0,
              "#0d0887"
             ],
             [
              0.1111111111111111,
              "#46039f"
             ],
             [
              0.2222222222222222,
              "#7201a8"
             ],
             [
              0.3333333333333333,
              "#9c179e"
             ],
             [
              0.4444444444444444,
              "#bd3786"
             ],
             [
              0.5555555555555556,
              "#d8576b"
             ],
             [
              0.6666666666666666,
              "#ed7953"
             ],
             [
              0.7777777777777778,
              "#fb9f3a"
             ],
             [
              0.8888888888888888,
              "#fdca26"
             ],
             [
              1,
              "#f0f921"
             ]
            ],
            "type": "heatmap"
           }
          ],
          "heatmapgl": [
           {
            "colorbar": {
             "outlinewidth": 0,
             "ticks": ""
            },
            "colorscale": [
             [
              0,
              "#0d0887"
             ],
             [
              0.1111111111111111,
              "#46039f"
             ],
             [
              0.2222222222222222,
              "#7201a8"
             ],
             [
              0.3333333333333333,
              "#9c179e"
             ],
             [
              0.4444444444444444,
              "#bd3786"
             ],
             [
              0.5555555555555556,
              "#d8576b"
             ],
             [
              0.6666666666666666,
              "#ed7953"
             ],
             [
              0.7777777777777778,
              "#fb9f3a"
             ],
             [
              0.8888888888888888,
              "#fdca26"
             ],
             [
              1,
              "#f0f921"
             ]
            ],
            "type": "heatmapgl"
           }
          ],
          "histogram": [
           {
            "marker": {
             "pattern": {
              "fillmode": "overlay",
              "size": 10,
              "solidity": 0.2
             }
            },
            "type": "histogram"
           }
          ],
          "histogram2d": [
           {
            "colorbar": {
             "outlinewidth": 0,
             "ticks": ""
            },
            "colorscale": [
             [
              0,
              "#0d0887"
             ],
             [
              0.1111111111111111,
              "#46039f"
             ],
             [
              0.2222222222222222,
              "#7201a8"
             ],
             [
              0.3333333333333333,
              "#9c179e"
             ],
             [
              0.4444444444444444,
              "#bd3786"
             ],
             [
              0.5555555555555556,
              "#d8576b"
             ],
             [
              0.6666666666666666,
              "#ed7953"
             ],
             [
              0.7777777777777778,
              "#fb9f3a"
             ],
             [
              0.8888888888888888,
              "#fdca26"
             ],
             [
              1,
              "#f0f921"
             ]
            ],
            "type": "histogram2d"
           }
          ],
          "histogram2dcontour": [
           {
            "colorbar": {
             "outlinewidth": 0,
             "ticks": ""
            },
            "colorscale": [
             [
              0,
              "#0d0887"
             ],
             [
              0.1111111111111111,
              "#46039f"
             ],
             [
              0.2222222222222222,
              "#7201a8"
             ],
             [
              0.3333333333333333,
              "#9c179e"
             ],
             [
              0.4444444444444444,
              "#bd3786"
             ],
             [
              0.5555555555555556,
              "#d8576b"
             ],
             [
              0.6666666666666666,
              "#ed7953"
             ],
             [
              0.7777777777777778,
              "#fb9f3a"
             ],
             [
              0.8888888888888888,
              "#fdca26"
             ],
             [
              1,
              "#f0f921"
             ]
            ],
            "type": "histogram2dcontour"
           }
          ],
          "mesh3d": [
           {
            "colorbar": {
             "outlinewidth": 0,
             "ticks": ""
            },
            "type": "mesh3d"
           }
          ],
          "parcoords": [
           {
            "line": {
             "colorbar": {
              "outlinewidth": 0,
              "ticks": ""
             }
            },
            "type": "parcoords"
           }
          ],
          "pie": [
           {
            "automargin": true,
            "type": "pie"
           }
          ],
          "scatter": [
           {
            "marker": {
             "line": {
              "color": "#283442"
             }
            },
            "type": "scatter"
           }
          ],
          "scatter3d": [
           {
            "line": {
             "colorbar": {
              "outlinewidth": 0,
              "ticks": ""
             }
            },
            "marker": {
             "colorbar": {
              "outlinewidth": 0,
              "ticks": ""
             }
            },
            "type": "scatter3d"
           }
          ],
          "scattercarpet": [
           {
            "marker": {
             "colorbar": {
              "outlinewidth": 0,
              "ticks": ""
             }
            },
            "type": "scattercarpet"
           }
          ],
          "scattergeo": [
           {
            "marker": {
             "colorbar": {
              "outlinewidth": 0,
              "ticks": ""
             }
            },
            "type": "scattergeo"
           }
          ],
          "scattergl": [
           {
            "marker": {
             "line": {
              "color": "#283442"
             }
            },
            "type": "scattergl"
           }
          ],
          "scattermapbox": [
           {
            "marker": {
             "colorbar": {
              "outlinewidth": 0,
              "ticks": ""
             }
            },
            "type": "scattermapbox"
           }
          ],
          "scatterpolar": [
           {
            "marker": {
             "colorbar": {
              "outlinewidth": 0,
              "ticks": ""
             }
            },
            "type": "scatterpolar"
           }
          ],
          "scatterpolargl": [
           {
            "marker": {
             "colorbar": {
              "outlinewidth": 0,
              "ticks": ""
             }
            },
            "type": "scatterpolargl"
           }
          ],
          "scatterternary": [
           {
            "marker": {
             "colorbar": {
              "outlinewidth": 0,
              "ticks": ""
             }
            },
            "type": "scatterternary"
           }
          ],
          "surface": [
           {
            "colorbar": {
             "outlinewidth": 0,
             "ticks": ""
            },
            "colorscale": [
             [
              0,
              "#0d0887"
             ],
             [
              0.1111111111111111,
              "#46039f"
             ],
             [
              0.2222222222222222,
              "#7201a8"
             ],
             [
              0.3333333333333333,
              "#9c179e"
             ],
             [
              0.4444444444444444,
              "#bd3786"
             ],
             [
              0.5555555555555556,
              "#d8576b"
             ],
             [
              0.6666666666666666,
              "#ed7953"
             ],
             [
              0.7777777777777778,
              "#fb9f3a"
             ],
             [
              0.8888888888888888,
              "#fdca26"
             ],
             [
              1,
              "#f0f921"
             ]
            ],
            "type": "surface"
           }
          ],
          "table": [
           {
            "cells": {
             "fill": {
              "color": "#506784"
             },
             "line": {
              "color": "rgb(17,17,17)"
             }
            },
            "header": {
             "fill": {
              "color": "#2a3f5f"
             },
             "line": {
              "color": "rgb(17,17,17)"
             }
            },
            "type": "table"
           }
          ]
         },
         "layout": {
          "annotationdefaults": {
           "arrowcolor": "#f2f5fa",
           "arrowhead": 0,
           "arrowwidth": 1
          },
          "autotypenumbers": "strict",
          "coloraxis": {
           "colorbar": {
            "outlinewidth": 0,
            "ticks": ""
           }
          },
          "colorscale": {
           "diverging": [
            [
             0,
             "#8e0152"
            ],
            [
             0.1,
             "#c51b7d"
            ],
            [
             0.2,
             "#de77ae"
            ],
            [
             0.3,
             "#f1b6da"
            ],
            [
             0.4,
             "#fde0ef"
            ],
            [
             0.5,
             "#f7f7f7"
            ],
            [
             0.6,
             "#e6f5d0"
            ],
            [
             0.7,
             "#b8e186"
            ],
            [
             0.8,
             "#7fbc41"
            ],
            [
             0.9,
             "#4d9221"
            ],
            [
             1,
             "#276419"
            ]
           ],
           "sequential": [
            [
             0,
             "#0d0887"
            ],
            [
             0.1111111111111111,
             "#46039f"
            ],
            [
             0.2222222222222222,
             "#7201a8"
            ],
            [
             0.3333333333333333,
             "#9c179e"
            ],
            [
             0.4444444444444444,
             "#bd3786"
            ],
            [
             0.5555555555555556,
             "#d8576b"
            ],
            [
             0.6666666666666666,
             "#ed7953"
            ],
            [
             0.7777777777777778,
             "#fb9f3a"
            ],
            [
             0.8888888888888888,
             "#fdca26"
            ],
            [
             1,
             "#f0f921"
            ]
           ],
           "sequentialminus": [
            [
             0,
             "#0d0887"
            ],
            [
             0.1111111111111111,
             "#46039f"
            ],
            [
             0.2222222222222222,
             "#7201a8"
            ],
            [
             0.3333333333333333,
             "#9c179e"
            ],
            [
             0.4444444444444444,
             "#bd3786"
            ],
            [
             0.5555555555555556,
             "#d8576b"
            ],
            [
             0.6666666666666666,
             "#ed7953"
            ],
            [
             0.7777777777777778,
             "#fb9f3a"
            ],
            [
             0.8888888888888888,
             "#fdca26"
            ],
            [
             1,
             "#f0f921"
            ]
           ]
          },
          "colorway": [
           "#636efa",
           "#EF553B",
           "#00cc96",
           "#ab63fa",
           "#FFA15A",
           "#19d3f3",
           "#FF6692",
           "#B6E880",
           "#FF97FF",
           "#FECB52"
          ],
          "font": {
           "color": "#f2f5fa"
          },
          "geo": {
           "bgcolor": "rgb(17,17,17)",
           "lakecolor": "rgb(17,17,17)",
           "landcolor": "rgb(17,17,17)",
           "showlakes": true,
           "showland": true,
           "subunitcolor": "#506784"
          },
          "hoverlabel": {
           "align": "left"
          },
          "hovermode": "closest",
          "mapbox": {
           "style": "dark"
          },
          "paper_bgcolor": "rgb(17,17,17)",
          "plot_bgcolor": "rgb(17,17,17)",
          "polar": {
           "angularaxis": {
            "gridcolor": "#506784",
            "linecolor": "#506784",
            "ticks": ""
           },
           "bgcolor": "rgb(17,17,17)",
           "radialaxis": {
            "gridcolor": "#506784",
            "linecolor": "#506784",
            "ticks": ""
           }
          },
          "scene": {
           "xaxis": {
            "backgroundcolor": "rgb(17,17,17)",
            "gridcolor": "#506784",
            "gridwidth": 2,
            "linecolor": "#506784",
            "showbackground": true,
            "ticks": "",
            "zerolinecolor": "#C8D4E3"
           },
           "yaxis": {
            "backgroundcolor": "rgb(17,17,17)",
            "gridcolor": "#506784",
            "gridwidth": 2,
            "linecolor": "#506784",
            "showbackground": true,
            "ticks": "",
            "zerolinecolor": "#C8D4E3"
           },
           "zaxis": {
            "backgroundcolor": "rgb(17,17,17)",
            "gridcolor": "#506784",
            "gridwidth": 2,
            "linecolor": "#506784",
            "showbackground": true,
            "ticks": "",
            "zerolinecolor": "#C8D4E3"
           }
          },
          "shapedefaults": {
           "line": {
            "color": "#f2f5fa"
           }
          },
          "sliderdefaults": {
           "bgcolor": "#C8D4E3",
           "bordercolor": "rgb(17,17,17)",
           "borderwidth": 1,
           "tickwidth": 0
          },
          "ternary": {
           "aaxis": {
            "gridcolor": "#506784",
            "linecolor": "#506784",
            "ticks": ""
           },
           "baxis": {
            "gridcolor": "#506784",
            "linecolor": "#506784",
            "ticks": ""
           },
           "bgcolor": "rgb(17,17,17)",
           "caxis": {
            "gridcolor": "#506784",
            "linecolor": "#506784",
            "ticks": ""
           }
          },
          "title": {
           "x": 0.05
          },
          "updatemenudefaults": {
           "bgcolor": "#506784",
           "borderwidth": 0
          },
          "xaxis": {
           "automargin": true,
           "gridcolor": "#283442",
           "linecolor": "#506784",
           "ticks": "",
           "title": {
            "standoff": 15
           },
           "zerolinecolor": "#283442",
           "zerolinewidth": 2
          },
          "yaxis": {
           "automargin": true,
           "gridcolor": "#283442",
           "linecolor": "#506784",
           "ticks": "",
           "title": {
            "standoff": 15
           },
           "zerolinecolor": "#283442",
           "zerolinewidth": 2
          }
         }
        },
        "title": {
         "text": "Monthly Inflation Trend"
        },
        "xaxis": {
         "anchor": "y",
         "domain": [
          0,
          1
         ],
         "title": {
          "text": "Date"
         }
        },
        "yaxis": {
         "anchor": "x",
         "domain": [
          0,
          1
         ],
         "title": {
          "text": "Monthly Inflation (%)"
         }
        }
       }
      }
     },
     "metadata": {},
     "output_type": "display_data"
    }
   ],
   "source": [
    "fig_inflation_trend = px.line(df_macroeconomic_book, x='date', y='ipca', title='Monthly Inflation Trend', labels={'ipca': 'Monthly Inflation (%)'})\n",
    "\n",
    "fig_inflation_trend.update_layout(template='plotly_dark', xaxis_title='Date', yaxis_title='Monthly Inflation (%)')\n",
    "\n",
    "fig_inflation_trend.show()"
   ]
  },
  {
   "cell_type": "markdown",
   "metadata": {},
   "source": [
    "**Detailed Observations**\n",
    "\n",
    "- The inflation rate begins modestly in `July 2019`, averaging around **3.5%**.\n",
    "- There is a noticeable dip and subsequent recovery during `2020`, with the lowest point close to **2%** and a rebound towards **3%** by the end of the year.\n",
    "- A significant upward trend starts from early `2021`, with the rate steadily climbing and peaking at just above **10%** in `January 2022`.\n",
    "- Post-peak, the trend reverses with a sharp decline to approximately **6%** by mid-`2022`.\n",
    "- The trend flattens out towards the end of the graph, but a slight uptick is observed in `August 2023`, with the rate at **4.61%**.\n",
    "\n",
    "**Interpretation and Implications**\n",
    "\n",
    "- The initial stability followed by a dip in `2020` could be associated with economic responses to global events such as the pandemic.\n",
    "- The inflation spike through `2021` into early `2022` suggests significant inflationary pressures, possibly exacerbated by recovery measures and supply chain challenges.\n",
    "- The reduction in inflation rate post-`January 2022` might indicate the effectiveness of policy measures or an adjustment phase of the economy to the previous inflationary conditions.\n",
    "- The recent stabilization and slight increase as of `August 2023` could signal a cautious period of economic activity, with inflationary pressures being closely monitored.\n",
    "\n",
    "This inflation trend is a vital indicator for economic health, influencing consumer spending, business investment, and policy-making decisions.\n"
   ]
  },
  {
   "cell_type": "markdown",
   "metadata": {},
   "source": [
    "### Inflation"
   ]
  },
  {
   "cell_type": "code",
   "execution_count": 130,
   "metadata": {},
   "outputs": [
    {
     "data": {
      "application/vnd.plotly.v1+json": {
       "config": {
        "plotlyServerURL": "https://plot.ly"
       },
       "data": [
        {
         "name": "Monthly Inflation",
         "type": "bar",
         "x": [
          "2019-01-31T00:00:00",
          "2019-02-28T00:00:00",
          "2019-03-31T00:00:00",
          "2019-04-30T00:00:00",
          "2019-05-31T00:00:00",
          "2019-06-30T00:00:00",
          "2019-07-31T00:00:00",
          "2019-08-31T00:00:00",
          "2019-09-30T00:00:00",
          "2019-10-31T00:00:00",
          "2019-11-30T00:00:00",
          "2019-12-31T00:00:00",
          "2020-01-31T00:00:00",
          "2020-02-29T00:00:00",
          "2020-03-31T00:00:00",
          "2020-04-30T00:00:00",
          "2020-05-31T00:00:00",
          "2020-06-30T00:00:00",
          "2020-07-31T00:00:00",
          "2020-08-31T00:00:00",
          "2020-09-30T00:00:00",
          "2020-10-31T00:00:00",
          "2020-11-30T00:00:00",
          "2020-12-31T00:00:00",
          "2021-01-31T00:00:00",
          "2021-02-28T00:00:00",
          "2021-03-31T00:00:00",
          "2021-04-30T00:00:00",
          "2021-05-31T00:00:00",
          "2021-06-30T00:00:00",
          "2021-07-31T00:00:00",
          "2021-08-31T00:00:00",
          "2021-09-30T00:00:00",
          "2021-10-31T00:00:00",
          "2021-11-30T00:00:00",
          "2021-12-31T00:00:00",
          "2022-01-31T00:00:00",
          "2022-02-28T00:00:00",
          "2022-03-31T00:00:00",
          "2022-04-30T00:00:00",
          "2022-05-31T00:00:00",
          "2022-06-30T00:00:00",
          "2022-07-31T00:00:00",
          "2022-08-31T00:00:00",
          "2022-09-30T00:00:00",
          "2022-10-31T00:00:00",
          "2022-11-30T00:00:00",
          "2022-12-31T00:00:00",
          "2023-01-31T00:00:00",
          "2023-02-28T00:00:00",
          "2023-03-31T00:00:00",
          "2023-04-30T00:00:00",
          "2023-05-31T00:00:00",
          "2023-06-30T00:00:00",
          "2023-07-31T00:00:00",
          "2023-08-31T00:00:00"
         ],
         "xaxis": "x",
         "y": [
          3.78,
          3.89,
          4.58,
          4.94,
          4.66,
          3.37,
          3.22,
          3.43,
          2.89,
          2.54,
          3.27,
          4.31,
          4.19,
          4.01,
          3.3,
          2.4,
          1.88,
          2.13,
          2.31,
          2.44,
          3.14,
          3.92,
          4.31,
          4.52,
          4.56,
          5.2,
          6.1,
          6.76,
          8.06,
          8.35,
          8.99,
          9.68,
          10.25,
          10.67,
          10.74,
          10.06,
          10.38,
          10.54,
          11.3,
          12.13,
          11.73,
          11.89,
          10.07,
          8.73,
          7.17,
          6.47,
          5.9,
          5.79,
          5.77,
          5.6,
          4.65,
          4.18,
          3.94,
          3.16,
          3.99,
          4.61
         ],
         "yaxis": "y"
        },
        {
         "marker": {
          "color": "red"
         },
         "name": "Annual Inflation",
         "type": "scatter",
         "x": [
          2019,
          2020,
          2021,
          2022,
          2023
         ],
         "xaxis": "x",
         "y": [
          3.74,
          3.2125,
          8.285,
          9.341666666666667,
          4.4875
         ],
         "yaxis": "y2"
        }
       ],
       "layout": {
        "template": {
         "data": {
          "bar": [
           {
            "error_x": {
             "color": "#f2f5fa"
            },
            "error_y": {
             "color": "#f2f5fa"
            },
            "marker": {
             "line": {
              "color": "rgb(17,17,17)",
              "width": 0.5
             },
             "pattern": {
              "fillmode": "overlay",
              "size": 10,
              "solidity": 0.2
             }
            },
            "type": "bar"
           }
          ],
          "barpolar": [
           {
            "marker": {
             "line": {
              "color": "rgb(17,17,17)",
              "width": 0.5
             },
             "pattern": {
              "fillmode": "overlay",
              "size": 10,
              "solidity": 0.2
             }
            },
            "type": "barpolar"
           }
          ],
          "carpet": [
           {
            "aaxis": {
             "endlinecolor": "#A2B1C6",
             "gridcolor": "#506784",
             "linecolor": "#506784",
             "minorgridcolor": "#506784",
             "startlinecolor": "#A2B1C6"
            },
            "baxis": {
             "endlinecolor": "#A2B1C6",
             "gridcolor": "#506784",
             "linecolor": "#506784",
             "minorgridcolor": "#506784",
             "startlinecolor": "#A2B1C6"
            },
            "type": "carpet"
           }
          ],
          "choropleth": [
           {
            "colorbar": {
             "outlinewidth": 0,
             "ticks": ""
            },
            "type": "choropleth"
           }
          ],
          "contour": [
           {
            "colorbar": {
             "outlinewidth": 0,
             "ticks": ""
            },
            "colorscale": [
             [
              0,
              "#0d0887"
             ],
             [
              0.1111111111111111,
              "#46039f"
             ],
             [
              0.2222222222222222,
              "#7201a8"
             ],
             [
              0.3333333333333333,
              "#9c179e"
             ],
             [
              0.4444444444444444,
              "#bd3786"
             ],
             [
              0.5555555555555556,
              "#d8576b"
             ],
             [
              0.6666666666666666,
              "#ed7953"
             ],
             [
              0.7777777777777778,
              "#fb9f3a"
             ],
             [
              0.8888888888888888,
              "#fdca26"
             ],
             [
              1,
              "#f0f921"
             ]
            ],
            "type": "contour"
           }
          ],
          "contourcarpet": [
           {
            "colorbar": {
             "outlinewidth": 0,
             "ticks": ""
            },
            "type": "contourcarpet"
           }
          ],
          "heatmap": [
           {
            "colorbar": {
             "outlinewidth": 0,
             "ticks": ""
            },
            "colorscale": [
             [
              0,
              "#0d0887"
             ],
             [
              0.1111111111111111,
              "#46039f"
             ],
             [
              0.2222222222222222,
              "#7201a8"
             ],
             [
              0.3333333333333333,
              "#9c179e"
             ],
             [
              0.4444444444444444,
              "#bd3786"
             ],
             [
              0.5555555555555556,
              "#d8576b"
             ],
             [
              0.6666666666666666,
              "#ed7953"
             ],
             [
              0.7777777777777778,
              "#fb9f3a"
             ],
             [
              0.8888888888888888,
              "#fdca26"
             ],
             [
              1,
              "#f0f921"
             ]
            ],
            "type": "heatmap"
           }
          ],
          "heatmapgl": [
           {
            "colorbar": {
             "outlinewidth": 0,
             "ticks": ""
            },
            "colorscale": [
             [
              0,
              "#0d0887"
             ],
             [
              0.1111111111111111,
              "#46039f"
             ],
             [
              0.2222222222222222,
              "#7201a8"
             ],
             [
              0.3333333333333333,
              "#9c179e"
             ],
             [
              0.4444444444444444,
              "#bd3786"
             ],
             [
              0.5555555555555556,
              "#d8576b"
             ],
             [
              0.6666666666666666,
              "#ed7953"
             ],
             [
              0.7777777777777778,
              "#fb9f3a"
             ],
             [
              0.8888888888888888,
              "#fdca26"
             ],
             [
              1,
              "#f0f921"
             ]
            ],
            "type": "heatmapgl"
           }
          ],
          "histogram": [
           {
            "marker": {
             "pattern": {
              "fillmode": "overlay",
              "size": 10,
              "solidity": 0.2
             }
            },
            "type": "histogram"
           }
          ],
          "histogram2d": [
           {
            "colorbar": {
             "outlinewidth": 0,
             "ticks": ""
            },
            "colorscale": [
             [
              0,
              "#0d0887"
             ],
             [
              0.1111111111111111,
              "#46039f"
             ],
             [
              0.2222222222222222,
              "#7201a8"
             ],
             [
              0.3333333333333333,
              "#9c179e"
             ],
             [
              0.4444444444444444,
              "#bd3786"
             ],
             [
              0.5555555555555556,
              "#d8576b"
             ],
             [
              0.6666666666666666,
              "#ed7953"
             ],
             [
              0.7777777777777778,
              "#fb9f3a"
             ],
             [
              0.8888888888888888,
              "#fdca26"
             ],
             [
              1,
              "#f0f921"
             ]
            ],
            "type": "histogram2d"
           }
          ],
          "histogram2dcontour": [
           {
            "colorbar": {
             "outlinewidth": 0,
             "ticks": ""
            },
            "colorscale": [
             [
              0,
              "#0d0887"
             ],
             [
              0.1111111111111111,
              "#46039f"
             ],
             [
              0.2222222222222222,
              "#7201a8"
             ],
             [
              0.3333333333333333,
              "#9c179e"
             ],
             [
              0.4444444444444444,
              "#bd3786"
             ],
             [
              0.5555555555555556,
              "#d8576b"
             ],
             [
              0.6666666666666666,
              "#ed7953"
             ],
             [
              0.7777777777777778,
              "#fb9f3a"
             ],
             [
              0.8888888888888888,
              "#fdca26"
             ],
             [
              1,
              "#f0f921"
             ]
            ],
            "type": "histogram2dcontour"
           }
          ],
          "mesh3d": [
           {
            "colorbar": {
             "outlinewidth": 0,
             "ticks": ""
            },
            "type": "mesh3d"
           }
          ],
          "parcoords": [
           {
            "line": {
             "colorbar": {
              "outlinewidth": 0,
              "ticks": ""
             }
            },
            "type": "parcoords"
           }
          ],
          "pie": [
           {
            "automargin": true,
            "type": "pie"
           }
          ],
          "scatter": [
           {
            "marker": {
             "line": {
              "color": "#283442"
             }
            },
            "type": "scatter"
           }
          ],
          "scatter3d": [
           {
            "line": {
             "colorbar": {
              "outlinewidth": 0,
              "ticks": ""
             }
            },
            "marker": {
             "colorbar": {
              "outlinewidth": 0,
              "ticks": ""
             }
            },
            "type": "scatter3d"
           }
          ],
          "scattercarpet": [
           {
            "marker": {
             "colorbar": {
              "outlinewidth": 0,
              "ticks": ""
             }
            },
            "type": "scattercarpet"
           }
          ],
          "scattergeo": [
           {
            "marker": {
             "colorbar": {
              "outlinewidth": 0,
              "ticks": ""
             }
            },
            "type": "scattergeo"
           }
          ],
          "scattergl": [
           {
            "marker": {
             "line": {
              "color": "#283442"
             }
            },
            "type": "scattergl"
           }
          ],
          "scattermapbox": [
           {
            "marker": {
             "colorbar": {
              "outlinewidth": 0,
              "ticks": ""
             }
            },
            "type": "scattermapbox"
           }
          ],
          "scatterpolar": [
           {
            "marker": {
             "colorbar": {
              "outlinewidth": 0,
              "ticks": ""
             }
            },
            "type": "scatterpolar"
           }
          ],
          "scatterpolargl": [
           {
            "marker": {
             "colorbar": {
              "outlinewidth": 0,
              "ticks": ""
             }
            },
            "type": "scatterpolargl"
           }
          ],
          "scatterternary": [
           {
            "marker": {
             "colorbar": {
              "outlinewidth": 0,
              "ticks": ""
             }
            },
            "type": "scatterternary"
           }
          ],
          "surface": [
           {
            "colorbar": {
             "outlinewidth": 0,
             "ticks": ""
            },
            "colorscale": [
             [
              0,
              "#0d0887"
             ],
             [
              0.1111111111111111,
              "#46039f"
             ],
             [
              0.2222222222222222,
              "#7201a8"
             ],
             [
              0.3333333333333333,
              "#9c179e"
             ],
             [
              0.4444444444444444,
              "#bd3786"
             ],
             [
              0.5555555555555556,
              "#d8576b"
             ],
             [
              0.6666666666666666,
              "#ed7953"
             ],
             [
              0.7777777777777778,
              "#fb9f3a"
             ],
             [
              0.8888888888888888,
              "#fdca26"
             ],
             [
              1,
              "#f0f921"
             ]
            ],
            "type": "surface"
           }
          ],
          "table": [
           {
            "cells": {
             "fill": {
              "color": "#506784"
             },
             "line": {
              "color": "rgb(17,17,17)"
             }
            },
            "header": {
             "fill": {
              "color": "#2a3f5f"
             },
             "line": {
              "color": "rgb(17,17,17)"
             }
            },
            "type": "table"
           }
          ]
         },
         "layout": {
          "annotationdefaults": {
           "arrowcolor": "#f2f5fa",
           "arrowhead": 0,
           "arrowwidth": 1
          },
          "autotypenumbers": "strict",
          "coloraxis": {
           "colorbar": {
            "outlinewidth": 0,
            "ticks": ""
           }
          },
          "colorscale": {
           "diverging": [
            [
             0,
             "#8e0152"
            ],
            [
             0.1,
             "#c51b7d"
            ],
            [
             0.2,
             "#de77ae"
            ],
            [
             0.3,
             "#f1b6da"
            ],
            [
             0.4,
             "#fde0ef"
            ],
            [
             0.5,
             "#f7f7f7"
            ],
            [
             0.6,
             "#e6f5d0"
            ],
            [
             0.7,
             "#b8e186"
            ],
            [
             0.8,
             "#7fbc41"
            ],
            [
             0.9,
             "#4d9221"
            ],
            [
             1,
             "#276419"
            ]
           ],
           "sequential": [
            [
             0,
             "#0d0887"
            ],
            [
             0.1111111111111111,
             "#46039f"
            ],
            [
             0.2222222222222222,
             "#7201a8"
            ],
            [
             0.3333333333333333,
             "#9c179e"
            ],
            [
             0.4444444444444444,
             "#bd3786"
            ],
            [
             0.5555555555555556,
             "#d8576b"
            ],
            [
             0.6666666666666666,
             "#ed7953"
            ],
            [
             0.7777777777777778,
             "#fb9f3a"
            ],
            [
             0.8888888888888888,
             "#fdca26"
            ],
            [
             1,
             "#f0f921"
            ]
           ],
           "sequentialminus": [
            [
             0,
             "#0d0887"
            ],
            [
             0.1111111111111111,
             "#46039f"
            ],
            [
             0.2222222222222222,
             "#7201a8"
            ],
            [
             0.3333333333333333,
             "#9c179e"
            ],
            [
             0.4444444444444444,
             "#bd3786"
            ],
            [
             0.5555555555555556,
             "#d8576b"
            ],
            [
             0.6666666666666666,
             "#ed7953"
            ],
            [
             0.7777777777777778,
             "#fb9f3a"
            ],
            [
             0.8888888888888888,
             "#fdca26"
            ],
            [
             1,
             "#f0f921"
            ]
           ]
          },
          "colorway": [
           "#636efa",
           "#EF553B",
           "#00cc96",
           "#ab63fa",
           "#FFA15A",
           "#19d3f3",
           "#FF6692",
           "#B6E880",
           "#FF97FF",
           "#FECB52"
          ],
          "font": {
           "color": "#f2f5fa"
          },
          "geo": {
           "bgcolor": "rgb(17,17,17)",
           "lakecolor": "rgb(17,17,17)",
           "landcolor": "rgb(17,17,17)",
           "showlakes": true,
           "showland": true,
           "subunitcolor": "#506784"
          },
          "hoverlabel": {
           "align": "left"
          },
          "hovermode": "closest",
          "mapbox": {
           "style": "dark"
          },
          "paper_bgcolor": "rgb(17,17,17)",
          "plot_bgcolor": "rgb(17,17,17)",
          "polar": {
           "angularaxis": {
            "gridcolor": "#506784",
            "linecolor": "#506784",
            "ticks": ""
           },
           "bgcolor": "rgb(17,17,17)",
           "radialaxis": {
            "gridcolor": "#506784",
            "linecolor": "#506784",
            "ticks": ""
           }
          },
          "scene": {
           "xaxis": {
            "backgroundcolor": "rgb(17,17,17)",
            "gridcolor": "#506784",
            "gridwidth": 2,
            "linecolor": "#506784",
            "showbackground": true,
            "ticks": "",
            "zerolinecolor": "#C8D4E3"
           },
           "yaxis": {
            "backgroundcolor": "rgb(17,17,17)",
            "gridcolor": "#506784",
            "gridwidth": 2,
            "linecolor": "#506784",
            "showbackground": true,
            "ticks": "",
            "zerolinecolor": "#C8D4E3"
           },
           "zaxis": {
            "backgroundcolor": "rgb(17,17,17)",
            "gridcolor": "#506784",
            "gridwidth": 2,
            "linecolor": "#506784",
            "showbackground": true,
            "ticks": "",
            "zerolinecolor": "#C8D4E3"
           }
          },
          "shapedefaults": {
           "line": {
            "color": "#f2f5fa"
           }
          },
          "sliderdefaults": {
           "bgcolor": "#C8D4E3",
           "bordercolor": "rgb(17,17,17)",
           "borderwidth": 1,
           "tickwidth": 0
          },
          "ternary": {
           "aaxis": {
            "gridcolor": "#506784",
            "linecolor": "#506784",
            "ticks": ""
           },
           "baxis": {
            "gridcolor": "#506784",
            "linecolor": "#506784",
            "ticks": ""
           },
           "bgcolor": "rgb(17,17,17)",
           "caxis": {
            "gridcolor": "#506784",
            "linecolor": "#506784",
            "ticks": ""
           }
          },
          "title": {
           "x": 0.05
          },
          "updatemenudefaults": {
           "bgcolor": "#506784",
           "borderwidth": 0
          },
          "xaxis": {
           "automargin": true,
           "gridcolor": "#283442",
           "linecolor": "#506784",
           "ticks": "",
           "title": {
            "standoff": 15
           },
           "zerolinecolor": "#283442",
           "zerolinewidth": 2
          },
          "yaxis": {
           "automargin": true,
           "gridcolor": "#283442",
           "linecolor": "#506784",
           "ticks": "",
           "title": {
            "standoff": 15
           },
           "zerolinecolor": "#283442",
           "zerolinewidth": 2
          }
         }
        },
        "title": {
         "text": "Monthly and Annual Inflation Comparison"
        },
        "xaxis": {
         "anchor": "y",
         "domain": [
          0,
          0.94
         ],
         "title": {
          "text": "Date"
         }
        },
        "yaxis": {
         "anchor": "x",
         "domain": [
          0,
          1
         ],
         "title": {
          "text": "Monthly Inflation (%)"
         }
        },
        "yaxis2": {
         "anchor": "x",
         "overlaying": "y",
         "side": "right",
         "title": {
          "text": "Annual Inflation (%)"
         }
        }
       }
      }
     },
     "metadata": {},
     "output_type": "display_data"
    }
   ],
   "source": [
    "\n",
    "df = df_macroeconomic_book.copy(deep=True)\n",
    "df['date'] = pd.to_datetime(df['date'])\n",
    "df['year'] = df['date'].dt.year\n",
    "df_annual_inflation = df.groupby('year')['ipca'].mean().reset_index()\n",
    "\n",
    "fig = sp.make_subplots(specs=[[{\"secondary_y\": True}]])\n",
    "\n",
    "fig.add_trace(go.Bar(x=df['date'], y=df['ipca'], name='Monthly Inflation'), secondary_y=False)\n",
    "fig.add_trace(go.Scatter(x=df_annual_inflation['year'], y=df_annual_inflation['ipca'], name='Annual Inflation', marker=dict(color='red')), secondary_y=True)\n",
    "\n",
    "fig.update_layout(title_text='Monthly and Annual Inflation Comparison', template='plotly_dark')\n",
    "fig.update_xaxes(title_text='Date')\n",
    "fig.update_yaxes(title_text='Monthly Inflation (%)', secondary_y=False)\n",
    "fig.update_yaxes(title_text='Annual Inflation (%)', secondary_y=True)\n",
    "\n",
    "\n",
    "fig.show()"
   ]
  },
  {
   "cell_type": "markdown",
   "metadata": {},
   "source": [
    "The combined bar and line graph provides a nuanced view of the inflationary trends over a period spanning from `January 2019` to `July 2023`.\n",
    "\n",
    "**Monthly Inflation Rate**\n",
    "\n",
    "- The rate begins at a modest level in `January 2019`, with the `Monthly Inflation` at **2.31%**.\n",
    "- A gradual uptick is observed in `2020`, with a notable increase starting in `May 2020` at **1.88%** as the monthly rate climbs past **10%**.\n",
    "- The `Monthly Inflation` peaks in `April 2022`, reaching the highest point at around **12%**.\n",
    "- Following this peak, there is a significant downward trend, with rates decreasing consistently to about **4%** by `June 2023`.\n",
    "\n",
    "**Annual Inflation Trend**\n",
    "\n",
    "- The `Annual Inflation` starts off above **4%** in `January 2019` and remains stable for several months.\n",
    "- A steady increase in `Annual Inflation` is evident from mid-`2020`, with the trend line showing a gradual climb.\n",
    "- This trend reaches its zenith in `January 2022`, with the `Annual Inflation` rate nearing **10%**.\n",
    "- Subsequent to the peak, the `Annual Inflation` exhibits a decline, reaching levels close to **4%** by `July 2023`.\n",
    "\n",
    "**Comparative Insights**\n",
    "\n",
    "- The comparison between the two rates indicates that monthly fluctuations are more pronounced, while the annual rate provides a smoother long-term trend.\n",
    "- The peaks and valleys in the `Monthly Inflation` rate suggest more immediate responses to short-term economic changes, while the `Annual Inflation` reflects longer-term economic trends.\n",
    "\n",
    "This graph serves as an important tool for economic analysis, highlighting the distinct behaviors of short-term and long-term inflation measures and providing a comprehensive view of the inflationary patterns over the past\n"
   ]
  },
  {
   "cell_type": "markdown",
   "metadata": {},
   "source": [
    "#### Monetary Policies in Inflation"
   ]
  },
  {
   "cell_type": "code",
   "execution_count": 132,
   "metadata": {},
   "outputs": [
    {
     "data": {
      "application/vnd.plotly.v1+json": {
       "config": {
        "plotlyServerURL": "https://plot.ly"
       },
       "data": [
        {
         "line": {
          "color": "rgb(100, 195, 181)"
         },
         "mode": "lines",
         "name": "SELIC",
         "type": "scatter",
         "x": [
          "2019-01-31T00:00:00",
          "2019-02-28T00:00:00",
          "2019-03-31T00:00:00",
          "2019-04-30T00:00:00",
          "2019-05-31T00:00:00",
          "2019-06-30T00:00:00",
          "2019-07-31T00:00:00",
          "2019-08-31T00:00:00",
          "2019-09-30T00:00:00",
          "2019-10-31T00:00:00",
          "2019-11-30T00:00:00",
          "2019-12-31T00:00:00",
          "2020-01-31T00:00:00",
          "2020-02-29T00:00:00",
          "2020-03-31T00:00:00",
          "2020-04-30T00:00:00",
          "2020-05-31T00:00:00",
          "2020-06-30T00:00:00",
          "2020-07-31T00:00:00",
          "2020-08-31T00:00:00",
          "2020-09-30T00:00:00",
          "2020-10-31T00:00:00",
          "2020-11-30T00:00:00",
          "2020-12-31T00:00:00",
          "2021-01-31T00:00:00",
          "2021-02-28T00:00:00",
          "2021-03-31T00:00:00",
          "2021-04-30T00:00:00",
          "2021-05-31T00:00:00",
          "2021-06-30T00:00:00",
          "2021-07-31T00:00:00",
          "2021-08-31T00:00:00",
          "2021-09-30T00:00:00",
          "2021-10-31T00:00:00",
          "2021-11-30T00:00:00",
          "2021-12-31T00:00:00",
          "2022-01-31T00:00:00",
          "2022-02-28T00:00:00",
          "2022-03-31T00:00:00",
          "2022-04-30T00:00:00",
          "2022-05-31T00:00:00",
          "2022-06-30T00:00:00",
          "2022-07-31T00:00:00",
          "2022-08-31T00:00:00",
          "2022-09-30T00:00:00",
          "2022-10-31T00:00:00",
          "2022-11-30T00:00:00",
          "2022-12-31T00:00:00",
          "2023-01-31T00:00:00",
          "2023-02-28T00:00:00",
          "2023-03-31T00:00:00",
          "2023-04-30T00:00:00",
          "2023-05-31T00:00:00",
          "2023-06-30T00:00:00",
          "2023-07-31T00:00:00",
          "2023-08-31T00:00:00"
         ],
         "y": [
          6.5,
          6.5,
          6.5,
          6.5,
          6.5,
          6.5,
          6.5,
          6,
          5.5,
          5,
          5,
          4.5,
          4.5,
          4.25,
          3.75,
          3.75,
          3,
          2.25,
          2.25,
          2,
          2,
          2,
          2,
          2,
          2,
          2,
          2.75,
          2.75,
          3.5,
          4.25,
          4.25,
          5.25,
          6.25,
          7.75,
          7.75,
          9.25,
          9.25,
          10.75,
          11.75,
          11.75,
          12.75,
          13.25,
          13.25,
          13.75,
          13.75,
          13.75,
          13.75,
          13.75,
          13.75,
          13.75,
          13.75,
          13.75,
          13.75,
          13.75,
          13.75,
          13.25
         ]
        },
        {
         "line": {
          "color": "rgb(200, 0, 0)"
         },
         "mode": "lines",
         "name": "IPCA",
         "type": "scatter",
         "x": [
          "2019-01-31T00:00:00",
          "2019-02-28T00:00:00",
          "2019-03-31T00:00:00",
          "2019-04-30T00:00:00",
          "2019-05-31T00:00:00",
          "2019-06-30T00:00:00",
          "2019-07-31T00:00:00",
          "2019-08-31T00:00:00",
          "2019-09-30T00:00:00",
          "2019-10-31T00:00:00",
          "2019-11-30T00:00:00",
          "2019-12-31T00:00:00",
          "2020-01-31T00:00:00",
          "2020-02-29T00:00:00",
          "2020-03-31T00:00:00",
          "2020-04-30T00:00:00",
          "2020-05-31T00:00:00",
          "2020-06-30T00:00:00",
          "2020-07-31T00:00:00",
          "2020-08-31T00:00:00",
          "2020-09-30T00:00:00",
          "2020-10-31T00:00:00",
          "2020-11-30T00:00:00",
          "2020-12-31T00:00:00",
          "2021-01-31T00:00:00",
          "2021-02-28T00:00:00",
          "2021-03-31T00:00:00",
          "2021-04-30T00:00:00",
          "2021-05-31T00:00:00",
          "2021-06-30T00:00:00",
          "2021-07-31T00:00:00",
          "2021-08-31T00:00:00",
          "2021-09-30T00:00:00",
          "2021-10-31T00:00:00",
          "2021-11-30T00:00:00",
          "2021-12-31T00:00:00",
          "2022-01-31T00:00:00",
          "2022-02-28T00:00:00",
          "2022-03-31T00:00:00",
          "2022-04-30T00:00:00",
          "2022-05-31T00:00:00",
          "2022-06-30T00:00:00",
          "2022-07-31T00:00:00",
          "2022-08-31T00:00:00",
          "2022-09-30T00:00:00",
          "2022-10-31T00:00:00",
          "2022-11-30T00:00:00",
          "2022-12-31T00:00:00",
          "2023-01-31T00:00:00",
          "2023-02-28T00:00:00",
          "2023-03-31T00:00:00",
          "2023-04-30T00:00:00",
          "2023-05-31T00:00:00",
          "2023-06-30T00:00:00",
          "2023-07-31T00:00:00",
          "2023-08-31T00:00:00"
         ],
         "y": [
          3.78,
          3.89,
          4.58,
          4.94,
          4.66,
          3.37,
          3.22,
          3.43,
          2.89,
          2.54,
          3.27,
          4.31,
          4.19,
          4.01,
          3.3,
          2.4,
          1.88,
          2.13,
          2.31,
          2.44,
          3.14,
          3.92,
          4.31,
          4.52,
          4.56,
          5.2,
          6.1,
          6.76,
          8.06,
          8.35,
          8.99,
          9.68,
          10.25,
          10.67,
          10.74,
          10.06,
          10.38,
          10.54,
          11.3,
          12.13,
          11.73,
          11.89,
          10.07,
          8.73,
          7.17,
          6.47,
          5.9,
          5.79,
          5.77,
          5.6,
          4.65,
          4.18,
          3.94,
          3.16,
          3.99,
          4.61
         ]
        }
       ],
       "layout": {
        "template": {
         "data": {
          "bar": [
           {
            "error_x": {
             "color": "#f2f5fa"
            },
            "error_y": {
             "color": "#f2f5fa"
            },
            "marker": {
             "line": {
              "color": "rgb(17,17,17)",
              "width": 0.5
             },
             "pattern": {
              "fillmode": "overlay",
              "size": 10,
              "solidity": 0.2
             }
            },
            "type": "bar"
           }
          ],
          "barpolar": [
           {
            "marker": {
             "line": {
              "color": "rgb(17,17,17)",
              "width": 0.5
             },
             "pattern": {
              "fillmode": "overlay",
              "size": 10,
              "solidity": 0.2
             }
            },
            "type": "barpolar"
           }
          ],
          "carpet": [
           {
            "aaxis": {
             "endlinecolor": "#A2B1C6",
             "gridcolor": "#506784",
             "linecolor": "#506784",
             "minorgridcolor": "#506784",
             "startlinecolor": "#A2B1C6"
            },
            "baxis": {
             "endlinecolor": "#A2B1C6",
             "gridcolor": "#506784",
             "linecolor": "#506784",
             "minorgridcolor": "#506784",
             "startlinecolor": "#A2B1C6"
            },
            "type": "carpet"
           }
          ],
          "choropleth": [
           {
            "colorbar": {
             "outlinewidth": 0,
             "ticks": ""
            },
            "type": "choropleth"
           }
          ],
          "contour": [
           {
            "colorbar": {
             "outlinewidth": 0,
             "ticks": ""
            },
            "colorscale": [
             [
              0,
              "#0d0887"
             ],
             [
              0.1111111111111111,
              "#46039f"
             ],
             [
              0.2222222222222222,
              "#7201a8"
             ],
             [
              0.3333333333333333,
              "#9c179e"
             ],
             [
              0.4444444444444444,
              "#bd3786"
             ],
             [
              0.5555555555555556,
              "#d8576b"
             ],
             [
              0.6666666666666666,
              "#ed7953"
             ],
             [
              0.7777777777777778,
              "#fb9f3a"
             ],
             [
              0.8888888888888888,
              "#fdca26"
             ],
             [
              1,
              "#f0f921"
             ]
            ],
            "type": "contour"
           }
          ],
          "contourcarpet": [
           {
            "colorbar": {
             "outlinewidth": 0,
             "ticks": ""
            },
            "type": "contourcarpet"
           }
          ],
          "heatmap": [
           {
            "colorbar": {
             "outlinewidth": 0,
             "ticks": ""
            },
            "colorscale": [
             [
              0,
              "#0d0887"
             ],
             [
              0.1111111111111111,
              "#46039f"
             ],
             [
              0.2222222222222222,
              "#7201a8"
             ],
             [
              0.3333333333333333,
              "#9c179e"
             ],
             [
              0.4444444444444444,
              "#bd3786"
             ],
             [
              0.5555555555555556,
              "#d8576b"
             ],
             [
              0.6666666666666666,
              "#ed7953"
             ],
             [
              0.7777777777777778,
              "#fb9f3a"
             ],
             [
              0.8888888888888888,
              "#fdca26"
             ],
             [
              1,
              "#f0f921"
             ]
            ],
            "type": "heatmap"
           }
          ],
          "heatmapgl": [
           {
            "colorbar": {
             "outlinewidth": 0,
             "ticks": ""
            },
            "colorscale": [
             [
              0,
              "#0d0887"
             ],
             [
              0.1111111111111111,
              "#46039f"
             ],
             [
              0.2222222222222222,
              "#7201a8"
             ],
             [
              0.3333333333333333,
              "#9c179e"
             ],
             [
              0.4444444444444444,
              "#bd3786"
             ],
             [
              0.5555555555555556,
              "#d8576b"
             ],
             [
              0.6666666666666666,
              "#ed7953"
             ],
             [
              0.7777777777777778,
              "#fb9f3a"
             ],
             [
              0.8888888888888888,
              "#fdca26"
             ],
             [
              1,
              "#f0f921"
             ]
            ],
            "type": "heatmapgl"
           }
          ],
          "histogram": [
           {
            "marker": {
             "pattern": {
              "fillmode": "overlay",
              "size": 10,
              "solidity": 0.2
             }
            },
            "type": "histogram"
           }
          ],
          "histogram2d": [
           {
            "colorbar": {
             "outlinewidth": 0,
             "ticks": ""
            },
            "colorscale": [
             [
              0,
              "#0d0887"
             ],
             [
              0.1111111111111111,
              "#46039f"
             ],
             [
              0.2222222222222222,
              "#7201a8"
             ],
             [
              0.3333333333333333,
              "#9c179e"
             ],
             [
              0.4444444444444444,
              "#bd3786"
             ],
             [
              0.5555555555555556,
              "#d8576b"
             ],
             [
              0.6666666666666666,
              "#ed7953"
             ],
             [
              0.7777777777777778,
              "#fb9f3a"
             ],
             [
              0.8888888888888888,
              "#fdca26"
             ],
             [
              1,
              "#f0f921"
             ]
            ],
            "type": "histogram2d"
           }
          ],
          "histogram2dcontour": [
           {
            "colorbar": {
             "outlinewidth": 0,
             "ticks": ""
            },
            "colorscale": [
             [
              0,
              "#0d0887"
             ],
             [
              0.1111111111111111,
              "#46039f"
             ],
             [
              0.2222222222222222,
              "#7201a8"
             ],
             [
              0.3333333333333333,
              "#9c179e"
             ],
             [
              0.4444444444444444,
              "#bd3786"
             ],
             [
              0.5555555555555556,
              "#d8576b"
             ],
             [
              0.6666666666666666,
              "#ed7953"
             ],
             [
              0.7777777777777778,
              "#fb9f3a"
             ],
             [
              0.8888888888888888,
              "#fdca26"
             ],
             [
              1,
              "#f0f921"
             ]
            ],
            "type": "histogram2dcontour"
           }
          ],
          "mesh3d": [
           {
            "colorbar": {
             "outlinewidth": 0,
             "ticks": ""
            },
            "type": "mesh3d"
           }
          ],
          "parcoords": [
           {
            "line": {
             "colorbar": {
              "outlinewidth": 0,
              "ticks": ""
             }
            },
            "type": "parcoords"
           }
          ],
          "pie": [
           {
            "automargin": true,
            "type": "pie"
           }
          ],
          "scatter": [
           {
            "marker": {
             "line": {
              "color": "#283442"
             }
            },
            "type": "scatter"
           }
          ],
          "scatter3d": [
           {
            "line": {
             "colorbar": {
              "outlinewidth": 0,
              "ticks": ""
             }
            },
            "marker": {
             "colorbar": {
              "outlinewidth": 0,
              "ticks": ""
             }
            },
            "type": "scatter3d"
           }
          ],
          "scattercarpet": [
           {
            "marker": {
             "colorbar": {
              "outlinewidth": 0,
              "ticks": ""
             }
            },
            "type": "scattercarpet"
           }
          ],
          "scattergeo": [
           {
            "marker": {
             "colorbar": {
              "outlinewidth": 0,
              "ticks": ""
             }
            },
            "type": "scattergeo"
           }
          ],
          "scattergl": [
           {
            "marker": {
             "line": {
              "color": "#283442"
             }
            },
            "type": "scattergl"
           }
          ],
          "scattermapbox": [
           {
            "marker": {
             "colorbar": {
              "outlinewidth": 0,
              "ticks": ""
             }
            },
            "type": "scattermapbox"
           }
          ],
          "scatterpolar": [
           {
            "marker": {
             "colorbar": {
              "outlinewidth": 0,
              "ticks": ""
             }
            },
            "type": "scatterpolar"
           }
          ],
          "scatterpolargl": [
           {
            "marker": {
             "colorbar": {
              "outlinewidth": 0,
              "ticks": ""
             }
            },
            "type": "scatterpolargl"
           }
          ],
          "scatterternary": [
           {
            "marker": {
             "colorbar": {
              "outlinewidth": 0,
              "ticks": ""
             }
            },
            "type": "scatterternary"
           }
          ],
          "surface": [
           {
            "colorbar": {
             "outlinewidth": 0,
             "ticks": ""
            },
            "colorscale": [
             [
              0,
              "#0d0887"
             ],
             [
              0.1111111111111111,
              "#46039f"
             ],
             [
              0.2222222222222222,
              "#7201a8"
             ],
             [
              0.3333333333333333,
              "#9c179e"
             ],
             [
              0.4444444444444444,
              "#bd3786"
             ],
             [
              0.5555555555555556,
              "#d8576b"
             ],
             [
              0.6666666666666666,
              "#ed7953"
             ],
             [
              0.7777777777777778,
              "#fb9f3a"
             ],
             [
              0.8888888888888888,
              "#fdca26"
             ],
             [
              1,
              "#f0f921"
             ]
            ],
            "type": "surface"
           }
          ],
          "table": [
           {
            "cells": {
             "fill": {
              "color": "#506784"
             },
             "line": {
              "color": "rgb(17,17,17)"
             }
            },
            "header": {
             "fill": {
              "color": "#2a3f5f"
             },
             "line": {
              "color": "rgb(17,17,17)"
             }
            },
            "type": "table"
           }
          ]
         },
         "layout": {
          "annotationdefaults": {
           "arrowcolor": "#f2f5fa",
           "arrowhead": 0,
           "arrowwidth": 1
          },
          "autotypenumbers": "strict",
          "coloraxis": {
           "colorbar": {
            "outlinewidth": 0,
            "ticks": ""
           }
          },
          "colorscale": {
           "diverging": [
            [
             0,
             "#8e0152"
            ],
            [
             0.1,
             "#c51b7d"
            ],
            [
             0.2,
             "#de77ae"
            ],
            [
             0.3,
             "#f1b6da"
            ],
            [
             0.4,
             "#fde0ef"
            ],
            [
             0.5,
             "#f7f7f7"
            ],
            [
             0.6,
             "#e6f5d0"
            ],
            [
             0.7,
             "#b8e186"
            ],
            [
             0.8,
             "#7fbc41"
            ],
            [
             0.9,
             "#4d9221"
            ],
            [
             1,
             "#276419"
            ]
           ],
           "sequential": [
            [
             0,
             "#0d0887"
            ],
            [
             0.1111111111111111,
             "#46039f"
            ],
            [
             0.2222222222222222,
             "#7201a8"
            ],
            [
             0.3333333333333333,
             "#9c179e"
            ],
            [
             0.4444444444444444,
             "#bd3786"
            ],
            [
             0.5555555555555556,
             "#d8576b"
            ],
            [
             0.6666666666666666,
             "#ed7953"
            ],
            [
             0.7777777777777778,
             "#fb9f3a"
            ],
            [
             0.8888888888888888,
             "#fdca26"
            ],
            [
             1,
             "#f0f921"
            ]
           ],
           "sequentialminus": [
            [
             0,
             "#0d0887"
            ],
            [
             0.1111111111111111,
             "#46039f"
            ],
            [
             0.2222222222222222,
             "#7201a8"
            ],
            [
             0.3333333333333333,
             "#9c179e"
            ],
            [
             0.4444444444444444,
             "#bd3786"
            ],
            [
             0.5555555555555556,
             "#d8576b"
            ],
            [
             0.6666666666666666,
             "#ed7953"
            ],
            [
             0.7777777777777778,
             "#fb9f3a"
            ],
            [
             0.8888888888888888,
             "#fdca26"
            ],
            [
             1,
             "#f0f921"
            ]
           ]
          },
          "colorway": [
           "#636efa",
           "#EF553B",
           "#00cc96",
           "#ab63fa",
           "#FFA15A",
           "#19d3f3",
           "#FF6692",
           "#B6E880",
           "#FF97FF",
           "#FECB52"
          ],
          "font": {
           "color": "#f2f5fa"
          },
          "geo": {
           "bgcolor": "rgb(17,17,17)",
           "lakecolor": "rgb(17,17,17)",
           "landcolor": "rgb(17,17,17)",
           "showlakes": true,
           "showland": true,
           "subunitcolor": "#506784"
          },
          "hoverlabel": {
           "align": "left"
          },
          "hovermode": "closest",
          "mapbox": {
           "style": "dark"
          },
          "paper_bgcolor": "rgb(17,17,17)",
          "plot_bgcolor": "rgb(17,17,17)",
          "polar": {
           "angularaxis": {
            "gridcolor": "#506784",
            "linecolor": "#506784",
            "ticks": ""
           },
           "bgcolor": "rgb(17,17,17)",
           "radialaxis": {
            "gridcolor": "#506784",
            "linecolor": "#506784",
            "ticks": ""
           }
          },
          "scene": {
           "xaxis": {
            "backgroundcolor": "rgb(17,17,17)",
            "gridcolor": "#506784",
            "gridwidth": 2,
            "linecolor": "#506784",
            "showbackground": true,
            "ticks": "",
            "zerolinecolor": "#C8D4E3"
           },
           "yaxis": {
            "backgroundcolor": "rgb(17,17,17)",
            "gridcolor": "#506784",
            "gridwidth": 2,
            "linecolor": "#506784",
            "showbackground": true,
            "ticks": "",
            "zerolinecolor": "#C8D4E3"
           },
           "zaxis": {
            "backgroundcolor": "rgb(17,17,17)",
            "gridcolor": "#506784",
            "gridwidth": 2,
            "linecolor": "#506784",
            "showbackground": true,
            "ticks": "",
            "zerolinecolor": "#C8D4E3"
           }
          },
          "shapedefaults": {
           "line": {
            "color": "#f2f5fa"
           }
          },
          "sliderdefaults": {
           "bgcolor": "#C8D4E3",
           "bordercolor": "rgb(17,17,17)",
           "borderwidth": 1,
           "tickwidth": 0
          },
          "ternary": {
           "aaxis": {
            "gridcolor": "#506784",
            "linecolor": "#506784",
            "ticks": ""
           },
           "baxis": {
            "gridcolor": "#506784",
            "linecolor": "#506784",
            "ticks": ""
           },
           "bgcolor": "rgb(17,17,17)",
           "caxis": {
            "gridcolor": "#506784",
            "linecolor": "#506784",
            "ticks": ""
           }
          },
          "title": {
           "x": 0.05
          },
          "updatemenudefaults": {
           "bgcolor": "#506784",
           "borderwidth": 0
          },
          "xaxis": {
           "automargin": true,
           "gridcolor": "#283442",
           "linecolor": "#506784",
           "ticks": "",
           "title": {
            "standoff": 15
           },
           "zerolinecolor": "#283442",
           "zerolinewidth": 2
          },
          "yaxis": {
           "automargin": true,
           "gridcolor": "#283442",
           "linecolor": "#506784",
           "ticks": "",
           "title": {
            "standoff": 15
           },
           "zerolinecolor": "#283442",
           "zerolinewidth": 2
          }
         }
        },
        "title": {
         "text": "Impact of Monetary Policy on Inflation"
        },
        "xaxis": {
         "title": {
          "text": "Date"
         }
        },
        "yaxis": {
         "title": {
          "text": "Rates (%)"
         }
        }
       }
      }
     },
     "metadata": {},
     "output_type": "display_data"
    }
   ],
   "source": [
    "fig = go.Figure()\n",
    "\n",
    "fig.add_trace(go.Scatter(x=df_macroeconomic_book['date'], y=df_macroeconomic_book['selic'], name=\"SELIC\", mode='lines', line=dict(color='rgb(100, 195, 181)')))\n",
    "fig.add_trace(go.Scatter(x=df_macroeconomic_book['date'], y=df_macroeconomic_book['ipca'], name=\"IPCA\", mode='lines', line=dict(color='rgb(200, 0, 0)')))\n",
    "\n",
    "fig.update_layout(title_text=\"Impact of Monetary Policy on Inflation\", template='plotly_dark', xaxis_title='Date', yaxis_title='Rates (%)')\n",
    "\n",
    "fig.show()"
   ]
  },
  {
   "cell_type": "markdown",
   "metadata": {},
   "source": [
    "The SELIC and IPCA rates from mid-2019 to mid-2023 tell a story of economic shifts and monetary policy responses. Below is the numerical data contextualized within each phase of this period.\n",
    "\n",
    "**`Economic Context` (2019-2020)**:\n",
    "\n",
    "- **2019**: Both SELIC and IPCA started at approximately **6%**, indicating a stable economic backdrop.\n",
    "- **2020**: SELIC decreased to about **4%**, a move likely aimed at economic stimulation. IPCA correspondingly fell to roughly **2%**, showing reduced inflation during a global economic downturn.\n",
    "\n",
    "**`Policy Response` (2020-2021)**\n",
    "- **2020 to 2021**: SELIC started a gradual climb from about **4%**, as the Central Bank anticipated inflationary pressures. IPCA also rose from its low, suggesting a recovering economy and associated inflationary trends.\n",
    "\n",
    "**`Inflation Peak` (Early 2022)**\n",
    "- **2022**: SELIC approached **11%**, in response to IPCA peaking over **12%**. This reflects the reactive nature of monetary policy to inflationary spikes.\n",
    "\n",
    "**`Stabilization Efforts` (Mid-2022 to Early 2023)**\n",
    "- **Mid-2022**: SELIC plateaued near **11%**, while IPCA retracted to approximately **6%**. This period marks the central bank's efforts to stabilize the economy and control inflation.\n",
    "\n",
    "**`Forward-Looking Indicators` (Beyond Mid-2023)**\n",
    "- **Early 2023**: SELIC remained steady from its plateau. IPCA experienced a minor uptick to about **7%**, signaling the need for continued vigilance in monetary policy.\n",
    "\n",
    "The data presents a narrative of careful calibration by the Central Bank to the evolving economic landscape, with adjustments in the SELIC rate closely tracking shifts in inflation as measured by the IPCA.\n"
   ]
  }
 ],
 "metadata": {
  "kernelspec": {
   "display_name": "Python 3",
   "language": "python",
   "name": "python3"
  },
  "language_info": {
   "codemirror_mode": {
    "name": "ipython",
    "version": 3
   },
   "file_extension": ".py",
   "mimetype": "text/x-python",
   "name": "python",
   "nbconvert_exporter": "python",
   "pygments_lexer": "ipython3",
   "version": "3.11.5"
  }
 },
 "nbformat": 4,
 "nbformat_minor": 2
}
