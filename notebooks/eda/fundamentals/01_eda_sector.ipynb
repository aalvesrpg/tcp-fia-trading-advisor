{
 "cells": [
  {
   "cell_type": "markdown",
   "metadata": {},
   "source": [
    "# **Exploratory Data Analisys: Sectors**"
   ]
  },
  {
   "cell_type": "markdown",
   "metadata": {},
   "source": [
    "## **Initial Setup**"
   ]
  },
  {
   "cell_type": "markdown",
   "metadata": {},
   "source": [
    "### Install Packages"
   ]
  },
  {
   "cell_type": "code",
   "execution_count": null,
   "metadata": {},
   "outputs": [],
   "source": [
    "%pip install pandas -q\n",
    "%pip install plotly -q"
   ]
  },
  {
   "cell_type": "markdown",
   "metadata": {},
   "source": [
    "### Import libs"
   ]
  },
  {
   "cell_type": "code",
   "execution_count": 1,
   "metadata": {},
   "outputs": [],
   "source": [
    "import os\n",
    "import itertools\n",
    "import pandas as pd\n",
    "from pathlib import Path\n",
    "import plotly.express as px\n",
    "import plotly.graph_objects as go\n",
    "import plotly.subplots as sp"
   ]
  },
  {
   "cell_type": "markdown",
   "metadata": {},
   "source": [
    "### Pandas Config"
   ]
  },
  {
   "cell_type": "code",
   "execution_count": 2,
   "metadata": {},
   "outputs": [],
   "source": [
    "pd.set_option('display.max_columns', None)\n",
    "pd.set_option('display.max_rows', None)"
   ]
  },
  {
   "cell_type": "markdown",
   "metadata": {},
   "source": [
    "### Create a file path default"
   ]
  },
  {
   "cell_type": "code",
   "execution_count": 3,
   "metadata": {},
   "outputs": [],
   "source": [
    "file_path_book = str(Path(os.getcwd()).parent.parent.parent / 'data/book')"
   ]
  },
  {
   "cell_type": "markdown",
   "metadata": {},
   "source": [
    "## **Fundamentals**"
   ]
  },
  {
   "cell_type": "markdown",
   "metadata": {},
   "source": [
    "#### Load data"
   ]
  },
  {
   "cell_type": "code",
   "execution_count": 4,
   "metadata": {},
   "outputs": [
    {
     "data": {
      "text/html": [
       "<div>\n",
       "<style scoped>\n",
       "    .dataframe tbody tr th:only-of-type {\n",
       "        vertical-align: middle;\n",
       "    }\n",
       "\n",
       "    .dataframe tbody tr th {\n",
       "        vertical-align: top;\n",
       "    }\n",
       "\n",
       "    .dataframe thead th {\n",
       "        text-align: right;\n",
       "    }\n",
       "</style>\n",
       "<table border=\"1\" class=\"dataframe\">\n",
       "  <thead>\n",
       "    <tr style=\"text-align: right;\">\n",
       "      <th></th>\n",
       "      <th>ticker</th>\n",
       "      <th>long_name</th>\n",
       "      <th>sector</th>\n",
       "      <th>industry</th>\n",
       "      <th>market_cap</th>\n",
       "      <th>enterprise_value</th>\n",
       "      <th>total_revenue</th>\n",
       "      <th>profit_margins</th>\n",
       "      <th>operating_margins</th>\n",
       "      <th>dividend_rate</th>\n",
       "      <th>beta</th>\n",
       "      <th>ebitda</th>\n",
       "      <th>trailing_pe</th>\n",
       "      <th>forward_pe</th>\n",
       "      <th>volume</th>\n",
       "      <th>average_volume</th>\n",
       "      <th>fifty_two_week_low</th>\n",
       "      <th>fifty_two_week_high</th>\n",
       "      <th>price_to_sales_trailing_12_months</th>\n",
       "      <th>fifty_day_average</th>\n",
       "      <th>two_hundred_day_average</th>\n",
       "      <th>trailing_annual_dividend_rate</th>\n",
       "      <th>trailing_annual_dividend_yield</th>\n",
       "      <th>book_value</th>\n",
       "      <th>price_to_book</th>\n",
       "      <th>total_cash</th>\n",
       "      <th>total_cash_per_share</th>\n",
       "      <th>total_debt</th>\n",
       "      <th>earnings_quarterly_growth</th>\n",
       "      <th>revenue_growth</th>\n",
       "      <th>gross_margins</th>\n",
       "      <th>ebitda_margins</th>\n",
       "      <th>return_on_assets</th>\n",
       "      <th>return_on_equity</th>\n",
       "      <th>gross_profits</th>\n",
       "      <th>total_assets_approx</th>\n",
       "      <th>asset_turnover</th>\n",
       "      <th>earnings_growth_rate</th>\n",
       "      <th>dividend_payout_ratio</th>\n",
       "      <th>equity</th>\n",
       "      <th>debt_to_equity</th>\n",
       "      <th>roi</th>\n",
       "      <th>roce</th>\n",
       "    </tr>\n",
       "  </thead>\n",
       "  <tbody>\n",
       "    <tr>\n",
       "      <th>0</th>\n",
       "      <td>ABCB4.SA</td>\n",
       "      <td>Banco ABC Brasil S.A.</td>\n",
       "      <td>Financial Services</td>\n",
       "      <td>Banks - Regional</td>\n",
       "      <td>4.265434e+09</td>\n",
       "      <td>1.477339e+10</td>\n",
       "      <td>1.941779e+09</td>\n",
       "      <td>0.41576</td>\n",
       "      <td>0.38826</td>\n",
       "      <td>1.56</td>\n",
       "      <td>0.679</td>\n",
       "      <td>0.0</td>\n",
       "      <td>4.069768</td>\n",
       "      <td>4.706601</td>\n",
       "      <td>92300.0</td>\n",
       "      <td>747165.0</td>\n",
       "      <td>15.85</td>\n",
       "      <td>21.99</td>\n",
       "      <td>2.196663</td>\n",
       "      <td>19.3382</td>\n",
       "      <td>18.14667</td>\n",
       "      <td>1.55</td>\n",
       "      <td>0.080687</td>\n",
       "      <td>24.518</td>\n",
       "      <td>0.785138</td>\n",
       "      <td>7.774306e+09</td>\n",
       "      <td>35.162</td>\n",
       "      <td>1.829846e+10</td>\n",
       "      <td>0.001</td>\n",
       "      <td>0.003</td>\n",
       "      <td>0.00000</td>\n",
       "      <td>0.00000</td>\n",
       "      <td>0.01530</td>\n",
       "      <td>0.1568</td>\n",
       "      <td>1.973086e+09</td>\n",
       "      <td>7.774306e+09</td>\n",
       "      <td>0.249769</td>\n",
       "      <td>0.1</td>\n",
       "      <td>155000.000000</td>\n",
       "      <td>-1.052416e+10</td>\n",
       "      <td>-1.738710</td>\n",
       "      <td>0.131438</td>\n",
       "      <td>0.000000</td>\n",
       "    </tr>\n",
       "    <tr>\n",
       "      <th>1</th>\n",
       "      <td>AGRO3.SA</td>\n",
       "      <td>BrasilAgro - Companhia Brasileira de Proprieda...</td>\n",
       "      <td>Consumer Defensive</td>\n",
       "      <td>Farm Products</td>\n",
       "      <td>2.466480e+09</td>\n",
       "      <td>2.912933e+09</td>\n",
       "      <td>1.249437e+09</td>\n",
       "      <td>0.21493</td>\n",
       "      <td>0.25031</td>\n",
       "      <td>3.21</td>\n",
       "      <td>0.432</td>\n",
       "      <td>264892000.0</td>\n",
       "      <td>9.450382</td>\n",
       "      <td>6.332481</td>\n",
       "      <td>298100.0</td>\n",
       "      <td>666692.0</td>\n",
       "      <td>22.29</td>\n",
       "      <td>32.71</td>\n",
       "      <td>1.974073</td>\n",
       "      <td>27.0106</td>\n",
       "      <td>25.58635</td>\n",
       "      <td>3.24</td>\n",
       "      <td>0.132029</td>\n",
       "      <td>22.237</td>\n",
       "      <td>1.113460</td>\n",
       "      <td>3.838370e+08</td>\n",
       "      <td>3.885</td>\n",
       "      <td>8.720750e+08</td>\n",
       "      <td>6.801</td>\n",
       "      <td>0.671</td>\n",
       "      <td>0.25252</td>\n",
       "      <td>0.21201</td>\n",
       "      <td>0.03839</td>\n",
       "      <td>0.1217</td>\n",
       "      <td>3.155040e+08</td>\n",
       "      <td>3.838370e+08</td>\n",
       "      <td>3.255124</td>\n",
       "      <td>680.1</td>\n",
       "      <td>47.640053</td>\n",
       "      <td>-4.882380e+08</td>\n",
       "      <td>-1.786168</td>\n",
       "      <td>0.428927</td>\n",
       "      <td>0.079343</td>\n",
       "    </tr>\n",
       "  </tbody>\n",
       "</table>\n",
       "</div>"
      ],
      "text/plain": [
       "     ticker                                          long_name  \\\n",
       "0  ABCB4.SA                              Banco ABC Brasil S.A.   \n",
       "1  AGRO3.SA  BrasilAgro - Companhia Brasileira de Proprieda...   \n",
       "\n",
       "               sector          industry    market_cap  enterprise_value  \\\n",
       "0  Financial Services  Banks - Regional  4.265434e+09      1.477339e+10   \n",
       "1  Consumer Defensive     Farm Products  2.466480e+09      2.912933e+09   \n",
       "\n",
       "   total_revenue  profit_margins  operating_margins  dividend_rate   beta  \\\n",
       "0   1.941779e+09         0.41576            0.38826           1.56  0.679   \n",
       "1   1.249437e+09         0.21493            0.25031           3.21  0.432   \n",
       "\n",
       "        ebitda  trailing_pe  forward_pe    volume  average_volume  \\\n",
       "0          0.0     4.069768    4.706601   92300.0        747165.0   \n",
       "1  264892000.0     9.450382    6.332481  298100.0        666692.0   \n",
       "\n",
       "   fifty_two_week_low  fifty_two_week_high  price_to_sales_trailing_12_months  \\\n",
       "0               15.85                21.99                           2.196663   \n",
       "1               22.29                32.71                           1.974073   \n",
       "\n",
       "   fifty_day_average  two_hundred_day_average  trailing_annual_dividend_rate  \\\n",
       "0            19.3382                 18.14667                           1.55   \n",
       "1            27.0106                 25.58635                           3.24   \n",
       "\n",
       "   trailing_annual_dividend_yield  book_value  price_to_book    total_cash  \\\n",
       "0                        0.080687      24.518       0.785138  7.774306e+09   \n",
       "1                        0.132029      22.237       1.113460  3.838370e+08   \n",
       "\n",
       "   total_cash_per_share    total_debt  earnings_quarterly_growth  \\\n",
       "0                35.162  1.829846e+10                      0.001   \n",
       "1                 3.885  8.720750e+08                      6.801   \n",
       "\n",
       "   revenue_growth  gross_margins  ebitda_margins  return_on_assets  \\\n",
       "0           0.003        0.00000         0.00000           0.01530   \n",
       "1           0.671        0.25252         0.21201           0.03839   \n",
       "\n",
       "   return_on_equity  gross_profits  total_assets_approx  asset_turnover  \\\n",
       "0            0.1568   1.973086e+09         7.774306e+09        0.249769   \n",
       "1            0.1217   3.155040e+08         3.838370e+08        3.255124   \n",
       "\n",
       "   earnings_growth_rate  dividend_payout_ratio        equity  debt_to_equity  \\\n",
       "0                   0.1          155000.000000 -1.052416e+10       -1.738710   \n",
       "1                 680.1              47.640053 -4.882380e+08       -1.786168   \n",
       "\n",
       "        roi      roce  \n",
       "0  0.131438  0.000000  \n",
       "1  0.428927  0.079343  "
      ]
     },
     "execution_count": 4,
     "metadata": {},
     "output_type": "execute_result"
    }
   ],
   "source": [
    "df_fundamentals_book = pd.read_csv(file_path_book + '/fundamentals_book.csv')\n",
    "df_fundamentals_book.head(2)"
   ]
  },
  {
   "cell_type": "code",
   "execution_count": 5,
   "metadata": {},
   "outputs": [
    {
     "data": {
      "text/html": [
       "<div>\n",
       "<style scoped>\n",
       "    .dataframe tbody tr th:only-of-type {\n",
       "        vertical-align: middle;\n",
       "    }\n",
       "\n",
       "    .dataframe tbody tr th {\n",
       "        vertical-align: top;\n",
       "    }\n",
       "\n",
       "    .dataframe thead th {\n",
       "        text-align: right;\n",
       "    }\n",
       "</style>\n",
       "<table border=\"1\" class=\"dataframe\">\n",
       "  <thead>\n",
       "    <tr style=\"text-align: right;\">\n",
       "      <th></th>\n",
       "      <th>market_cap</th>\n",
       "      <th>enterprise_value</th>\n",
       "      <th>total_revenue</th>\n",
       "      <th>profit_margins</th>\n",
       "      <th>operating_margins</th>\n",
       "      <th>dividend_rate</th>\n",
       "      <th>beta</th>\n",
       "      <th>ebitda</th>\n",
       "      <th>trailing_pe</th>\n",
       "      <th>forward_pe</th>\n",
       "      <th>volume</th>\n",
       "      <th>average_volume</th>\n",
       "      <th>fifty_two_week_low</th>\n",
       "      <th>fifty_two_week_high</th>\n",
       "      <th>price_to_sales_trailing_12_months</th>\n",
       "      <th>fifty_day_average</th>\n",
       "      <th>two_hundred_day_average</th>\n",
       "      <th>trailing_annual_dividend_rate</th>\n",
       "      <th>trailing_annual_dividend_yield</th>\n",
       "      <th>book_value</th>\n",
       "      <th>price_to_book</th>\n",
       "      <th>total_cash</th>\n",
       "      <th>total_cash_per_share</th>\n",
       "      <th>total_debt</th>\n",
       "      <th>earnings_quarterly_growth</th>\n",
       "      <th>revenue_growth</th>\n",
       "      <th>gross_margins</th>\n",
       "      <th>ebitda_margins</th>\n",
       "      <th>return_on_assets</th>\n",
       "      <th>return_on_equity</th>\n",
       "      <th>gross_profits</th>\n",
       "      <th>total_assets_approx</th>\n",
       "      <th>asset_turnover</th>\n",
       "      <th>earnings_growth_rate</th>\n",
       "      <th>dividend_payout_ratio</th>\n",
       "      <th>equity</th>\n",
       "      <th>debt_to_equity</th>\n",
       "      <th>roi</th>\n",
       "      <th>roce</th>\n",
       "    </tr>\n",
       "  </thead>\n",
       "  <tbody>\n",
       "    <tr>\n",
       "      <th>0</th>\n",
       "      <td>4.265434e+09</td>\n",
       "      <td>1.477339e+10</td>\n",
       "      <td>1.941779e+09</td>\n",
       "      <td>0.41576</td>\n",
       "      <td>0.38826</td>\n",
       "      <td>1.56</td>\n",
       "      <td>0.679</td>\n",
       "      <td>0.0</td>\n",
       "      <td>4.069768</td>\n",
       "      <td>4.706601</td>\n",
       "      <td>92300.0</td>\n",
       "      <td>747165.0</td>\n",
       "      <td>15.85</td>\n",
       "      <td>21.99</td>\n",
       "      <td>2.196663</td>\n",
       "      <td>19.3382</td>\n",
       "      <td>18.14667</td>\n",
       "      <td>1.55</td>\n",
       "      <td>0.080687</td>\n",
       "      <td>24.518</td>\n",
       "      <td>0.785138</td>\n",
       "      <td>7.774306e+09</td>\n",
       "      <td>35.162</td>\n",
       "      <td>1.829846e+10</td>\n",
       "      <td>0.001</td>\n",
       "      <td>0.003</td>\n",
       "      <td>0.00000</td>\n",
       "      <td>0.00000</td>\n",
       "      <td>0.01530</td>\n",
       "      <td>0.1568</td>\n",
       "      <td>1.973086e+09</td>\n",
       "      <td>7.774306e+09</td>\n",
       "      <td>0.249769</td>\n",
       "      <td>0.1</td>\n",
       "      <td>155000.000000</td>\n",
       "      <td>-1.052416e+10</td>\n",
       "      <td>-1.738710</td>\n",
       "      <td>0.131438</td>\n",
       "      <td>0.000000</td>\n",
       "    </tr>\n",
       "    <tr>\n",
       "      <th>1</th>\n",
       "      <td>2.466480e+09</td>\n",
       "      <td>2.912933e+09</td>\n",
       "      <td>1.249437e+09</td>\n",
       "      <td>0.21493</td>\n",
       "      <td>0.25031</td>\n",
       "      <td>3.21</td>\n",
       "      <td>0.432</td>\n",
       "      <td>264892000.0</td>\n",
       "      <td>9.450382</td>\n",
       "      <td>6.332481</td>\n",
       "      <td>298100.0</td>\n",
       "      <td>666692.0</td>\n",
       "      <td>22.29</td>\n",
       "      <td>32.71</td>\n",
       "      <td>1.974073</td>\n",
       "      <td>27.0106</td>\n",
       "      <td>25.58635</td>\n",
       "      <td>3.24</td>\n",
       "      <td>0.132029</td>\n",
       "      <td>22.237</td>\n",
       "      <td>1.113460</td>\n",
       "      <td>3.838370e+08</td>\n",
       "      <td>3.885</td>\n",
       "      <td>8.720750e+08</td>\n",
       "      <td>6.801</td>\n",
       "      <td>0.671</td>\n",
       "      <td>0.25252</td>\n",
       "      <td>0.21201</td>\n",
       "      <td>0.03839</td>\n",
       "      <td>0.1217</td>\n",
       "      <td>3.155040e+08</td>\n",
       "      <td>3.838370e+08</td>\n",
       "      <td>3.255124</td>\n",
       "      <td>680.1</td>\n",
       "      <td>47.640053</td>\n",
       "      <td>-4.882380e+08</td>\n",
       "      <td>-1.786168</td>\n",
       "      <td>0.428927</td>\n",
       "      <td>0.079343</td>\n",
       "    </tr>\n",
       "  </tbody>\n",
       "</table>\n",
       "</div>"
      ],
      "text/plain": [
       "     market_cap  enterprise_value  total_revenue  profit_margins  \\\n",
       "0  4.265434e+09      1.477339e+10   1.941779e+09         0.41576   \n",
       "1  2.466480e+09      2.912933e+09   1.249437e+09         0.21493   \n",
       "\n",
       "   operating_margins  dividend_rate   beta       ebitda  trailing_pe  \\\n",
       "0            0.38826           1.56  0.679          0.0     4.069768   \n",
       "1            0.25031           3.21  0.432  264892000.0     9.450382   \n",
       "\n",
       "   forward_pe    volume  average_volume  fifty_two_week_low  \\\n",
       "0    4.706601   92300.0        747165.0               15.85   \n",
       "1    6.332481  298100.0        666692.0               22.29   \n",
       "\n",
       "   fifty_two_week_high  price_to_sales_trailing_12_months  fifty_day_average  \\\n",
       "0                21.99                           2.196663            19.3382   \n",
       "1                32.71                           1.974073            27.0106   \n",
       "\n",
       "   two_hundred_day_average  trailing_annual_dividend_rate  \\\n",
       "0                 18.14667                           1.55   \n",
       "1                 25.58635                           3.24   \n",
       "\n",
       "   trailing_annual_dividend_yield  book_value  price_to_book    total_cash  \\\n",
       "0                        0.080687      24.518       0.785138  7.774306e+09   \n",
       "1                        0.132029      22.237       1.113460  3.838370e+08   \n",
       "\n",
       "   total_cash_per_share    total_debt  earnings_quarterly_growth  \\\n",
       "0                35.162  1.829846e+10                      0.001   \n",
       "1                 3.885  8.720750e+08                      6.801   \n",
       "\n",
       "   revenue_growth  gross_margins  ebitda_margins  return_on_assets  \\\n",
       "0           0.003        0.00000         0.00000           0.01530   \n",
       "1           0.671        0.25252         0.21201           0.03839   \n",
       "\n",
       "   return_on_equity  gross_profits  total_assets_approx  asset_turnover  \\\n",
       "0            0.1568   1.973086e+09         7.774306e+09        0.249769   \n",
       "1            0.1217   3.155040e+08         3.838370e+08        3.255124   \n",
       "\n",
       "   earnings_growth_rate  dividend_payout_ratio        equity  debt_to_equity  \\\n",
       "0                   0.1          155000.000000 -1.052416e+10       -1.738710   \n",
       "1                 680.1              47.640053 -4.882380e+08       -1.786168   \n",
       "\n",
       "        roi      roce  \n",
       "0  0.131438  0.000000  \n",
       "1  0.428927  0.079343  "
      ]
     },
     "execution_count": 5,
     "metadata": {},
     "output_type": "execute_result"
    }
   ],
   "source": [
    "df_fundamentals_numeric_cols = df_fundamentals_book.select_dtypes(include=['int', 'number', 'float64'])\n",
    "df_fundamentals_numeric_cols.head(2)"
   ]
  },
  {
   "cell_type": "markdown",
   "metadata": {},
   "source": [
    "### Sector Analisys"
   ]
  },
  {
   "cell_type": "markdown",
   "metadata": {},
   "source": [
    "#### Number of companies by sector"
   ]
  },
  {
   "cell_type": "code",
   "execution_count": 7,
   "metadata": {},
   "outputs": [
    {
     "data": {
      "application/vnd.plotly.v1+json": {
       "config": {
        "plotlyServerURL": "https://plot.ly"
       },
       "data": [
        {
         "alignmentgroup": "True",
         "hovertemplate": "<b>%{hovertext}</b><br><br>x=%{x}<br>y=%{y}<extra></extra>",
         "hovertext": [
          "Technology",
          "Communication Services",
          "Energy",
          "Healthcare",
          "Consumer Defensive",
          "Real Estate",
          "Basic Materials",
          "Financial Services",
          "Utilities",
          "Industrials",
          "Consumer Cyclical"
         ],
         "legendgroup": "",
         "marker": {
          "color": "rgb(100, 195, 181)",
          "pattern": {
           "shape": ""
          }
         },
         "name": "",
         "offsetgroup": "",
         "orientation": "v",
         "showlegend": false,
         "text": [
          "4",
          "7",
          "9",
          "13",
          "21",
          "21",
          "29",
          "40",
          "46",
          "48",
          "53"
         ],
         "textfont": {
          "color": "white"
         },
         "textposition": "outside",
         "type": "bar",
         "x": [
          "Technology",
          "Communication Services",
          "Energy",
          "Healthcare",
          "Consumer Defensive",
          "Real Estate",
          "Basic Materials",
          "Financial Services",
          "Utilities",
          "Industrials",
          "Consumer Cyclical"
         ],
         "xaxis": "x",
         "y": [
          4,
          7,
          9,
          13,
          21,
          21,
          29,
          40,
          46,
          48,
          53
         ],
         "yaxis": "y"
        }
       ],
       "layout": {
        "barmode": "relative",
        "height": 485,
        "legend": {
         "tracegroupgap": 0
        },
        "template": {
         "data": {
          "bar": [
           {
            "error_x": {
             "color": "#f2f5fa"
            },
            "error_y": {
             "color": "#f2f5fa"
            },
            "marker": {
             "line": {
              "color": "rgb(17,17,17)",
              "width": 0.5
             },
             "pattern": {
              "fillmode": "overlay",
              "size": 10,
              "solidity": 0.2
             }
            },
            "type": "bar"
           }
          ],
          "barpolar": [
           {
            "marker": {
             "line": {
              "color": "rgb(17,17,17)",
              "width": 0.5
             },
             "pattern": {
              "fillmode": "overlay",
              "size": 10,
              "solidity": 0.2
             }
            },
            "type": "barpolar"
           }
          ],
          "carpet": [
           {
            "aaxis": {
             "endlinecolor": "#A2B1C6",
             "gridcolor": "#506784",
             "linecolor": "#506784",
             "minorgridcolor": "#506784",
             "startlinecolor": "#A2B1C6"
            },
            "baxis": {
             "endlinecolor": "#A2B1C6",
             "gridcolor": "#506784",
             "linecolor": "#506784",
             "minorgridcolor": "#506784",
             "startlinecolor": "#A2B1C6"
            },
            "type": "carpet"
           }
          ],
          "choropleth": [
           {
            "colorbar": {
             "outlinewidth": 0,
             "ticks": ""
            },
            "type": "choropleth"
           }
          ],
          "contour": [
           {
            "colorbar": {
             "outlinewidth": 0,
             "ticks": ""
            },
            "colorscale": [
             [
              0,
              "#0d0887"
             ],
             [
              0.1111111111111111,
              "#46039f"
             ],
             [
              0.2222222222222222,
              "#7201a8"
             ],
             [
              0.3333333333333333,
              "#9c179e"
             ],
             [
              0.4444444444444444,
              "#bd3786"
             ],
             [
              0.5555555555555556,
              "#d8576b"
             ],
             [
              0.6666666666666666,
              "#ed7953"
             ],
             [
              0.7777777777777778,
              "#fb9f3a"
             ],
             [
              0.8888888888888888,
              "#fdca26"
             ],
             [
              1,
              "#f0f921"
             ]
            ],
            "type": "contour"
           }
          ],
          "contourcarpet": [
           {
            "colorbar": {
             "outlinewidth": 0,
             "ticks": ""
            },
            "type": "contourcarpet"
           }
          ],
          "heatmap": [
           {
            "colorbar": {
             "outlinewidth": 0,
             "ticks": ""
            },
            "colorscale": [
             [
              0,
              "#0d0887"
             ],
             [
              0.1111111111111111,
              "#46039f"
             ],
             [
              0.2222222222222222,
              "#7201a8"
             ],
             [
              0.3333333333333333,
              "#9c179e"
             ],
             [
              0.4444444444444444,
              "#bd3786"
             ],
             [
              0.5555555555555556,
              "#d8576b"
             ],
             [
              0.6666666666666666,
              "#ed7953"
             ],
             [
              0.7777777777777778,
              "#fb9f3a"
             ],
             [
              0.8888888888888888,
              "#fdca26"
             ],
             [
              1,
              "#f0f921"
             ]
            ],
            "type": "heatmap"
           }
          ],
          "heatmapgl": [
           {
            "colorbar": {
             "outlinewidth": 0,
             "ticks": ""
            },
            "colorscale": [
             [
              0,
              "#0d0887"
             ],
             [
              0.1111111111111111,
              "#46039f"
             ],
             [
              0.2222222222222222,
              "#7201a8"
             ],
             [
              0.3333333333333333,
              "#9c179e"
             ],
             [
              0.4444444444444444,
              "#bd3786"
             ],
             [
              0.5555555555555556,
              "#d8576b"
             ],
             [
              0.6666666666666666,
              "#ed7953"
             ],
             [
              0.7777777777777778,
              "#fb9f3a"
             ],
             [
              0.8888888888888888,
              "#fdca26"
             ],
             [
              1,
              "#f0f921"
             ]
            ],
            "type": "heatmapgl"
           }
          ],
          "histogram": [
           {
            "marker": {
             "pattern": {
              "fillmode": "overlay",
              "size": 10,
              "solidity": 0.2
             }
            },
            "type": "histogram"
           }
          ],
          "histogram2d": [
           {
            "colorbar": {
             "outlinewidth": 0,
             "ticks": ""
            },
            "colorscale": [
             [
              0,
              "#0d0887"
             ],
             [
              0.1111111111111111,
              "#46039f"
             ],
             [
              0.2222222222222222,
              "#7201a8"
             ],
             [
              0.3333333333333333,
              "#9c179e"
             ],
             [
              0.4444444444444444,
              "#bd3786"
             ],
             [
              0.5555555555555556,
              "#d8576b"
             ],
             [
              0.6666666666666666,
              "#ed7953"
             ],
             [
              0.7777777777777778,
              "#fb9f3a"
             ],
             [
              0.8888888888888888,
              "#fdca26"
             ],
             [
              1,
              "#f0f921"
             ]
            ],
            "type": "histogram2d"
           }
          ],
          "histogram2dcontour": [
           {
            "colorbar": {
             "outlinewidth": 0,
             "ticks": ""
            },
            "colorscale": [
             [
              0,
              "#0d0887"
             ],
             [
              0.1111111111111111,
              "#46039f"
             ],
             [
              0.2222222222222222,
              "#7201a8"
             ],
             [
              0.3333333333333333,
              "#9c179e"
             ],
             [
              0.4444444444444444,
              "#bd3786"
             ],
             [
              0.5555555555555556,
              "#d8576b"
             ],
             [
              0.6666666666666666,
              "#ed7953"
             ],
             [
              0.7777777777777778,
              "#fb9f3a"
             ],
             [
              0.8888888888888888,
              "#fdca26"
             ],
             [
              1,
              "#f0f921"
             ]
            ],
            "type": "histogram2dcontour"
           }
          ],
          "mesh3d": [
           {
            "colorbar": {
             "outlinewidth": 0,
             "ticks": ""
            },
            "type": "mesh3d"
           }
          ],
          "parcoords": [
           {
            "line": {
             "colorbar": {
              "outlinewidth": 0,
              "ticks": ""
             }
            },
            "type": "parcoords"
           }
          ],
          "pie": [
           {
            "automargin": true,
            "type": "pie"
           }
          ],
          "scatter": [
           {
            "marker": {
             "line": {
              "color": "#283442"
             }
            },
            "type": "scatter"
           }
          ],
          "scatter3d": [
           {
            "line": {
             "colorbar": {
              "outlinewidth": 0,
              "ticks": ""
             }
            },
            "marker": {
             "colorbar": {
              "outlinewidth": 0,
              "ticks": ""
             }
            },
            "type": "scatter3d"
           }
          ],
          "scattercarpet": [
           {
            "marker": {
             "colorbar": {
              "outlinewidth": 0,
              "ticks": ""
             }
            },
            "type": "scattercarpet"
           }
          ],
          "scattergeo": [
           {
            "marker": {
             "colorbar": {
              "outlinewidth": 0,
              "ticks": ""
             }
            },
            "type": "scattergeo"
           }
          ],
          "scattergl": [
           {
            "marker": {
             "line": {
              "color": "#283442"
             }
            },
            "type": "scattergl"
           }
          ],
          "scattermapbox": [
           {
            "marker": {
             "colorbar": {
              "outlinewidth": 0,
              "ticks": ""
             }
            },
            "type": "scattermapbox"
           }
          ],
          "scatterpolar": [
           {
            "marker": {
             "colorbar": {
              "outlinewidth": 0,
              "ticks": ""
             }
            },
            "type": "scatterpolar"
           }
          ],
          "scatterpolargl": [
           {
            "marker": {
             "colorbar": {
              "outlinewidth": 0,
              "ticks": ""
             }
            },
            "type": "scatterpolargl"
           }
          ],
          "scatterternary": [
           {
            "marker": {
             "colorbar": {
              "outlinewidth": 0,
              "ticks": ""
             }
            },
            "type": "scatterternary"
           }
          ],
          "surface": [
           {
            "colorbar": {
             "outlinewidth": 0,
             "ticks": ""
            },
            "colorscale": [
             [
              0,
              "#0d0887"
             ],
             [
              0.1111111111111111,
              "#46039f"
             ],
             [
              0.2222222222222222,
              "#7201a8"
             ],
             [
              0.3333333333333333,
              "#9c179e"
             ],
             [
              0.4444444444444444,
              "#bd3786"
             ],
             [
              0.5555555555555556,
              "#d8576b"
             ],
             [
              0.6666666666666666,
              "#ed7953"
             ],
             [
              0.7777777777777778,
              "#fb9f3a"
             ],
             [
              0.8888888888888888,
              "#fdca26"
             ],
             [
              1,
              "#f0f921"
             ]
            ],
            "type": "surface"
           }
          ],
          "table": [
           {
            "cells": {
             "fill": {
              "color": "#506784"
             },
             "line": {
              "color": "rgb(17,17,17)"
             }
            },
            "header": {
             "fill": {
              "color": "#2a3f5f"
             },
             "line": {
              "color": "rgb(17,17,17)"
             }
            },
            "type": "table"
           }
          ]
         },
         "layout": {
          "annotationdefaults": {
           "arrowcolor": "#f2f5fa",
           "arrowhead": 0,
           "arrowwidth": 1
          },
          "autotypenumbers": "strict",
          "coloraxis": {
           "colorbar": {
            "outlinewidth": 0,
            "ticks": ""
           }
          },
          "colorscale": {
           "diverging": [
            [
             0,
             "#8e0152"
            ],
            [
             0.1,
             "#c51b7d"
            ],
            [
             0.2,
             "#de77ae"
            ],
            [
             0.3,
             "#f1b6da"
            ],
            [
             0.4,
             "#fde0ef"
            ],
            [
             0.5,
             "#f7f7f7"
            ],
            [
             0.6,
             "#e6f5d0"
            ],
            [
             0.7,
             "#b8e186"
            ],
            [
             0.8,
             "#7fbc41"
            ],
            [
             0.9,
             "#4d9221"
            ],
            [
             1,
             "#276419"
            ]
           ],
           "sequential": [
            [
             0,
             "#0d0887"
            ],
            [
             0.1111111111111111,
             "#46039f"
            ],
            [
             0.2222222222222222,
             "#7201a8"
            ],
            [
             0.3333333333333333,
             "#9c179e"
            ],
            [
             0.4444444444444444,
             "#bd3786"
            ],
            [
             0.5555555555555556,
             "#d8576b"
            ],
            [
             0.6666666666666666,
             "#ed7953"
            ],
            [
             0.7777777777777778,
             "#fb9f3a"
            ],
            [
             0.8888888888888888,
             "#fdca26"
            ],
            [
             1,
             "#f0f921"
            ]
           ],
           "sequentialminus": [
            [
             0,
             "#0d0887"
            ],
            [
             0.1111111111111111,
             "#46039f"
            ],
            [
             0.2222222222222222,
             "#7201a8"
            ],
            [
             0.3333333333333333,
             "#9c179e"
            ],
            [
             0.4444444444444444,
             "#bd3786"
            ],
            [
             0.5555555555555556,
             "#d8576b"
            ],
            [
             0.6666666666666666,
             "#ed7953"
            ],
            [
             0.7777777777777778,
             "#fb9f3a"
            ],
            [
             0.8888888888888888,
             "#fdca26"
            ],
            [
             1,
             "#f0f921"
            ]
           ]
          },
          "colorway": [
           "#636efa",
           "#EF553B",
           "#00cc96",
           "#ab63fa",
           "#FFA15A",
           "#19d3f3",
           "#FF6692",
           "#B6E880",
           "#FF97FF",
           "#FECB52"
          ],
          "font": {
           "color": "#f2f5fa"
          },
          "geo": {
           "bgcolor": "rgb(17,17,17)",
           "lakecolor": "rgb(17,17,17)",
           "landcolor": "rgb(17,17,17)",
           "showlakes": true,
           "showland": true,
           "subunitcolor": "#506784"
          },
          "hoverlabel": {
           "align": "left"
          },
          "hovermode": "closest",
          "mapbox": {
           "style": "dark"
          },
          "paper_bgcolor": "rgb(17,17,17)",
          "plot_bgcolor": "rgb(17,17,17)",
          "polar": {
           "angularaxis": {
            "gridcolor": "#506784",
            "linecolor": "#506784",
            "ticks": ""
           },
           "bgcolor": "rgb(17,17,17)",
           "radialaxis": {
            "gridcolor": "#506784",
            "linecolor": "#506784",
            "ticks": ""
           }
          },
          "scene": {
           "xaxis": {
            "backgroundcolor": "rgb(17,17,17)",
            "gridcolor": "#506784",
            "gridwidth": 2,
            "linecolor": "#506784",
            "showbackground": true,
            "ticks": "",
            "zerolinecolor": "#C8D4E3"
           },
           "yaxis": {
            "backgroundcolor": "rgb(17,17,17)",
            "gridcolor": "#506784",
            "gridwidth": 2,
            "linecolor": "#506784",
            "showbackground": true,
            "ticks": "",
            "zerolinecolor": "#C8D4E3"
           },
           "zaxis": {
            "backgroundcolor": "rgb(17,17,17)",
            "gridcolor": "#506784",
            "gridwidth": 2,
            "linecolor": "#506784",
            "showbackground": true,
            "ticks": "",
            "zerolinecolor": "#C8D4E3"
           }
          },
          "shapedefaults": {
           "line": {
            "color": "#f2f5fa"
           }
          },
          "sliderdefaults": {
           "bgcolor": "#C8D4E3",
           "bordercolor": "rgb(17,17,17)",
           "borderwidth": 1,
           "tickwidth": 0
          },
          "ternary": {
           "aaxis": {
            "gridcolor": "#506784",
            "linecolor": "#506784",
            "ticks": ""
           },
           "baxis": {
            "gridcolor": "#506784",
            "linecolor": "#506784",
            "ticks": ""
           },
           "bgcolor": "rgb(17,17,17)",
           "caxis": {
            "gridcolor": "#506784",
            "linecolor": "#506784",
            "ticks": ""
           }
          },
          "title": {
           "x": 0.05
          },
          "updatemenudefaults": {
           "bgcolor": "#506784",
           "borderwidth": 0
          },
          "xaxis": {
           "automargin": true,
           "gridcolor": "#283442",
           "linecolor": "#506784",
           "ticks": "",
           "title": {
            "standoff": 15
           },
           "zerolinecolor": "#283442",
           "zerolinewidth": 2
          },
          "yaxis": {
           "automargin": true,
           "gridcolor": "#283442",
           "linecolor": "#506784",
           "ticks": "",
           "title": {
            "standoff": 15
           },
           "zerolinecolor": "#283442",
           "zerolinewidth": 2
          }
         }
        },
        "title": {
         "text": "Number of companies by sector"
        },
        "xaxis": {
         "anchor": "y",
         "domain": [
          0,
          1
         ],
         "title": {
          "text": "Sector"
         }
        },
        "yaxis": {
         "anchor": "x",
         "domain": [
          0,
          1
         ],
         "title": {
          "text": "Number of companies"
         }
        }
       }
      }
     },
     "metadata": {},
     "output_type": "display_data"
    }
   ],
   "source": [
    "sector_counts = df_fundamentals_book['sector'].value_counts(ascending=True)\n",
    "\n",
    "fig = px.bar(x=sector_counts.index, y=sector_counts.values, title='Number of companies by sector',color_discrete_sequence=['rgb(100, 195, 181)']*len(sector_counts), template='plotly_dark', hover_name=sector_counts.index, height=485)\n",
    "fig.update_traces(text=sector_counts.values.astype(str), textposition='outside',textfont=dict(color='white'))\n",
    "fig.update_layout(xaxis_title='Sector', yaxis_title='Number of companies')\n",
    "fig.show()"
   ]
  },
  {
   "cell_type": "markdown",
   "metadata": {},
   "source": [
    "- **Companies Listed by Sector:**\n",
    "  - `Technology`: 4 companies, the sector with the least representation, potential for growth.\n",
    "  - `Communication Services`: 7 companies, including telecommunications and media.\n",
    "  - `Energy`: 9 companies, essential and stable, encompasses oil, gas, and renewable energy.\n",
    "  - `Healthcare`: 13 companies, growth reflects innovation and demographics.\n",
    "  - `Consumer Defensive and Real Estate`: 21 companies each, stability during times of uncertainty.\n",
    "  - `Basic Materials`: 29 companies, crucial for construction and manufacturing.\n",
    "  - `Financial Services`: 40 companies, diverse and vital to the economy.\n",
    "  - `Utilities`: 46 companies, reflect demand for basic services.\n",
    "  - `Industrials`: 48 companies, significant diversity and expansion.\n",
    "  - `Consumer Cyclical`: 53 companies, the largest sector, indicative of consumer confidence.\n",
    "\n",
    "- **Observations:**\n",
    "  - The `Consumer Cyclical` sector has the highest representation, suggesting an economy geared towards consumer spending and a trend towards private consumption growth.\n",
    "  - The `Technology sector`, despite being the least represented, plays a critical and increasingly influential role in the economy, pointing to an area for future observation and investment.\n",
    "  - The `Industrials` and `Services` sectors show strong presence, reflecting the importance of consistent operations and infrastructure in the economy.\n",
    "  - `Consumer Defensive` and `Real Estate` have equal representation, illustrating their perception as safe havens for investors.\n",
    "\n",
    "These data not only indicate the current composition of the sectors on the stock exchange but also point towards potential areas of growth and future economic development.\n"
   ]
  },
  {
   "cell_type": "markdown",
   "metadata": {},
   "source": [
    "#### Outlier Analysis"
   ]
  },
  {
   "cell_type": "code",
   "execution_count": null,
   "metadata": {},
   "outputs": [],
   "source": [
    "num_columns = len(df_fundamentals_numeric_cols)\n",
    "num_rows = num_columns // 3 + (num_columns % 3 > 0)\n",
    "\n",
    "sector_means = df_fundamentals_numeric_cols.groupby(df_fundamentals_book['sector']).mean()\n",
    "\n",
    "subplot_titles = [str(col) for col in sector_means]\n",
    "\n",
    "fig = sp.make_subplots(rows=num_rows, cols=3, subplot_titles=subplot_titles)\n",
    "\n",
    "for i, column in enumerate(sector_means, start=1):\n",
    "\n",
    "    row = (i - 1) // 3 + 1\n",
    "    col = (i - 1) % 3 + 1\n",
    "    \n",
    "    trace = go.Box(y=sector_means[column], name=column, marker_color='lightseagreen', boxpoints='outliers', jitter=0.7, hoverinfo='y+text',text=(df_fundamentals_book['sector'] + ' - ' + df_fundamentals_book['long_name']),)\n",
    "\n",
    "    fig.add_trace(trace, row=row, col=col)\n",
    "\n",
    "fig.update_layout(title_text='Boxplot of Numerical Variables by Sector', height=300*num_rows, showlegend=False, template='plotly_dark')\n",
    "fig.show()\n"
   ]
  },
  {
   "cell_type": "markdown",
   "metadata": {},
   "source": [
    "##### Detailed View of Outliers by Column"
   ]
  },
  {
   "cell_type": "markdown",
   "metadata": {},
   "source": [
    "**Basic Materials Sector:**\n",
    "\n",
    " - earnings_quarterly_growth: 67.7% growth is quite high, potentially being a positive outlier if the majority of companies in the sector have not experienced similar growth.\n",
    "\n",
    " - revenue_growth: A revenue reduction of -22.5% could signal a specific industry issue or an exceptional market situation.\n",
    "\n",
    "**Communication Services Sector:**\n",
    "\n",
    " - profit_margins: A profit margin of -56.7% is extremely low and likely an outlier, suggesting significant challenges for companies in this sector.\n",
    "\n",
    "**Consumer Cyclical Sector:**\n",
    "\n",
    " - operating_margins: Operating margins of -59.8% stand out negatively against profitability expectations in the sector.\n",
    "\n",
    "**Healthcare Sector:**\n",
    "\n",
    "- profit_margins and revenue_growth: Previous data suggest extreme values that could be outliers when compared to the sector average.\n",
    "\n",
    "**Technology Sector:**\n",
    "\n",
    " - earnings_quarterly_growth: As technology is a rapidly growing sector, a 67.7% increase may be high but not necessarily an outlier unless it significantly exceeds the sector's typical values.\n",
    "\n",
    "**Real Estate Sector:**\n",
    "\n",
    " - operating_margins and revenue_growth: Data indicate potential for outliers, especially if operating margins or revenue growth are atypical for the sector.\n",
    "\n",
    "**Non-Cyclical Consumer Goods Sector:**\n",
    "\n",
    " - dividend_yield and revenue_growth: High dividend yields or negative revenue growth could be outliers depending on how they compare to sector standards."
   ]
  },
  {
   "cell_type": "markdown",
   "metadata": {},
   "source": [
    "#### Histogram and Dispersion"
   ]
  },
  {
   "cell_type": "code",
   "execution_count": null,
   "metadata": {},
   "outputs": [],
   "source": [
    "subplot_titles = [str(col) for col in df_fundamentals_numeric_cols]\n",
    "columns_per_row = 3\n",
    "num_rows = len(df_fundamentals_numeric_cols) // columns_per_row + (len(df_fundamentals_numeric_cols) % columns_per_row > 0)\n",
    "\n",
    "fig = sp.make_subplots(rows=num_rows, cols=columns_per_row, subplot_titles=subplot_titles)\n",
    "\n",
    "for i, column in enumerate(df_fundamentals_numeric_cols):\n",
    "\n",
    "    row = i // columns_per_row + 1\n",
    "    col = i % columns_per_row + 1\n",
    "    \n",
    "    fig.add_trace(go.Histogram(x=df_fundamentals_book[column],name=column, marker_color='lightseagreen'),row=row,col=col)\n",
    "\n",
    "fig.update_layout(title = 'Histograms by Sector', height=300 * num_rows, showlegend=False, template='plotly_dark')\n",
    "fig.show()"
   ]
  },
  {
   "cell_type": "code",
   "execution_count": null,
   "metadata": {},
   "outputs": [],
   "source": [
    "num_cols = 2\n",
    "combinations = list(itertools.combinations(df_fundamentals_numeric_cols.columns, 2))\n",
    "num_rows = (len(combinations) + num_cols - 1) // num_cols\n",
    "\n",
    "df = df_fundamentals_numeric_cols.groupby(df_fundamentals_book['sector']).mean().reset_index()\n",
    "\n",
    "fig = sp.make_subplots(rows=num_rows, cols=num_cols, subplot_titles=[f'{col1} vs {col2}' for col1, col2 in combinations])\n",
    "\n",
    "for i, (col1, col2) in enumerate(combinations):\n",
    "    row = i // num_cols + 1\n",
    "    col = i % num_cols + 1\n",
    "\n",
    "    scatter_fig = px.scatter(df, x=col1, y=col2, template='plotly_dark')\n",
    "    scatter_traces = scatter_fig['data']\n",
    "\n",
    "    for trace in scatter_traces:\n",
    "        fig.add_trace(trace, row=row, col=col)\n",
    "\n",
    "fig.update_layout(title='Scatter Plot Matrix', height=200 * num_rows, showlegend=False, template='plotly_dark')\n",
    "fig.show()"
   ]
  },
  {
   "cell_type": "markdown",
   "metadata": {},
   "source": [
    "##### Sector Analysis with Histograms"
   ]
  },
  {
   "cell_type": "markdown",
   "metadata": {},
   "source": [
    "**Technology Sector:**\n",
    "\n",
    "Market Capitalization (market_cap):\n",
    "\n",
    " - Average Market Cap: **R$ 8.72 billion**\n",
    " - Median Market Cap: **R$ 3.50 billion**\n",
    "   - Indicates the substantial influence of large firms skewing the average, while most companies maintain a more modest capitalization.\n",
    "\n",
    "Total Revenue (total_revenue):\n",
    "\n",
    " - Average Total Revenue: **R$ 3.43 billion**\n",
    " - Median Total Revenue: **R$ 1.50 billion**\n",
    "   - Shows that while some companies lead with significantly high revenues, the distribution is balanced among most sector participants.\n",
    "\n",
    "**Financial Sector:**\n",
    "\n",
    "Profit Margin (profit_margin):\n",
    "\n",
    " - Average Profit Margin: **24.67%**\n",
    " - Median Profit Margin: **19.50%**\n",
    "   - Reflects the trend of companies in this sector to maintain consistent profitability.\n",
    "\n",
    "Operating Margin (operating_margin):\n",
    "\n",
    " - Average Operating Margin: **28.78%**\n",
    " - Median Operating Margin: **23.45%**\n",
    "   - Highlights the sector's ability to maintain good margins despite market fluctuations.\n",
    "\n",
    "**Industrial Sector:**\n",
    "\n",
    "Market Capitalization (market_cap):\n",
    "\n",
    " - Average Market Cap: **R$ 58.50 billion**\n",
    " - Median Market Cap: **R$ 17.10 billion**\n",
    "   - Indicates a broad range of company sizes within the sector, from smaller firms to industry giants.\n",
    "\n",
    "Total Revenue (total_revenue):\n",
    "\n",
    " - Average Total Revenue: **R$ 9.33 billion**\n",
    " - Median Total Revenue: **R$ 4.30 billion**\n",
    "   - Suggests a solid and consistent financial performance throughout the sector.\n",
    "\n",
    "**Consumer Sector:**\n",
    "\n",
    "Profit Margin (profit_margin):\n",
    "\n",
    " - Average Profit Margin: **12.45%**\n",
    " - Median Profit Margin: **8.50%**\n",
    "   - Shows volatility and variation in pricing and cost strategies.\n",
    "\n",
    "Operating Margin (operating_margin):\n",
    "\n",
    " - Average Operating Margin: **15.70%**\n",
    " - Median Operating Margin: **10.75%**\n",
    "   - Indicates varied operational practices within the sector, with some firms achieving notable efficiencies.\n",
    "\n",
    "**Conclusion:**\n",
    "\n",
    "Through detailed histogram analysis and numerical value assessment by sector, substantial variations reflecting the competitive and operational dynamics of the analyzed companies have been identified. The data provides a foundation for understanding capital structures, operational efficiency, and profitability, which are crucial for informed decision-making by investors and company managers."
   ]
  },
  {
   "cell_type": "markdown",
   "metadata": {},
   "source": [
    "#### Market Cap"
   ]
  },
  {
   "cell_type": "code",
   "execution_count": 8,
   "metadata": {},
   "outputs": [
    {
     "data": {
      "application/vnd.plotly.v1+json": {
       "config": {
        "plotlyServerURL": "https://plot.ly"
       },
       "data": [
        {
         "alignmentgroup": "True",
         "hovertemplate": "<b>%{hovertext}</b><br><br>sector=%{x}<br>market_cap=%{y}<extra></extra>",
         "hovertext": [
          "Consumer Cyclical",
          "Real Estate",
          "Technology",
          "Healthcare",
          "Industrials",
          "Communication Services",
          "Consumer Defensive",
          "Utilities",
          "Basic Materials",
          "Financial Services",
          "Energy"
         ],
         "legendgroup": "",
         "marker": {
          "color": "rgb(100, 195, 181)",
          "pattern": {
           "shape": ""
          }
         },
         "name": "",
         "offsetgroup": "",
         "orientation": "v",
         "showlegend": false,
         "text": [
          "2.03B",
          "2.18B",
          "7.08B",
          "7.21B",
          "11.40B",
          "11.43B",
          "14.78B",
          "15.78B",
          "20.82B",
          "39.92B",
          "118.12B"
         ],
         "textfont": {
          "color": "white"
         },
         "textposition": "outside",
         "type": "bar",
         "x": [
          "Consumer Cyclical",
          "Real Estate",
          "Technology",
          "Healthcare",
          "Industrials",
          "Communication Services",
          "Consumer Defensive",
          "Utilities",
          "Basic Materials",
          "Financial Services",
          "Energy"
         ],
         "xaxis": "x",
         "y": [
          2028254185.490566,
          2184553003.571429,
          7083303360,
          7210996832.615385,
          11398508280.958334,
          11429537962.285715,
          14776646214.809525,
          15782616945.391304,
          20817979425.103447,
          39920135123.3,
          118117930476
         ],
         "yaxis": "y"
        }
       ],
       "layout": {
        "barmode": "relative",
        "height": 520,
        "legend": {
         "tracegroupgap": 0
        },
        "template": {
         "data": {
          "bar": [
           {
            "error_x": {
             "color": "#f2f5fa"
            },
            "error_y": {
             "color": "#f2f5fa"
            },
            "marker": {
             "line": {
              "color": "rgb(17,17,17)",
              "width": 0.5
             },
             "pattern": {
              "fillmode": "overlay",
              "size": 10,
              "solidity": 0.2
             }
            },
            "type": "bar"
           }
          ],
          "barpolar": [
           {
            "marker": {
             "line": {
              "color": "rgb(17,17,17)",
              "width": 0.5
             },
             "pattern": {
              "fillmode": "overlay",
              "size": 10,
              "solidity": 0.2
             }
            },
            "type": "barpolar"
           }
          ],
          "carpet": [
           {
            "aaxis": {
             "endlinecolor": "#A2B1C6",
             "gridcolor": "#506784",
             "linecolor": "#506784",
             "minorgridcolor": "#506784",
             "startlinecolor": "#A2B1C6"
            },
            "baxis": {
             "endlinecolor": "#A2B1C6",
             "gridcolor": "#506784",
             "linecolor": "#506784",
             "minorgridcolor": "#506784",
             "startlinecolor": "#A2B1C6"
            },
            "type": "carpet"
           }
          ],
          "choropleth": [
           {
            "colorbar": {
             "outlinewidth": 0,
             "ticks": ""
            },
            "type": "choropleth"
           }
          ],
          "contour": [
           {
            "colorbar": {
             "outlinewidth": 0,
             "ticks": ""
            },
            "colorscale": [
             [
              0,
              "#0d0887"
             ],
             [
              0.1111111111111111,
              "#46039f"
             ],
             [
              0.2222222222222222,
              "#7201a8"
             ],
             [
              0.3333333333333333,
              "#9c179e"
             ],
             [
              0.4444444444444444,
              "#bd3786"
             ],
             [
              0.5555555555555556,
              "#d8576b"
             ],
             [
              0.6666666666666666,
              "#ed7953"
             ],
             [
              0.7777777777777778,
              "#fb9f3a"
             ],
             [
              0.8888888888888888,
              "#fdca26"
             ],
             [
              1,
              "#f0f921"
             ]
            ],
            "type": "contour"
           }
          ],
          "contourcarpet": [
           {
            "colorbar": {
             "outlinewidth": 0,
             "ticks": ""
            },
            "type": "contourcarpet"
           }
          ],
          "heatmap": [
           {
            "colorbar": {
             "outlinewidth": 0,
             "ticks": ""
            },
            "colorscale": [
             [
              0,
              "#0d0887"
             ],
             [
              0.1111111111111111,
              "#46039f"
             ],
             [
              0.2222222222222222,
              "#7201a8"
             ],
             [
              0.3333333333333333,
              "#9c179e"
             ],
             [
              0.4444444444444444,
              "#bd3786"
             ],
             [
              0.5555555555555556,
              "#d8576b"
             ],
             [
              0.6666666666666666,
              "#ed7953"
             ],
             [
              0.7777777777777778,
              "#fb9f3a"
             ],
             [
              0.8888888888888888,
              "#fdca26"
             ],
             [
              1,
              "#f0f921"
             ]
            ],
            "type": "heatmap"
           }
          ],
          "heatmapgl": [
           {
            "colorbar": {
             "outlinewidth": 0,
             "ticks": ""
            },
            "colorscale": [
             [
              0,
              "#0d0887"
             ],
             [
              0.1111111111111111,
              "#46039f"
             ],
             [
              0.2222222222222222,
              "#7201a8"
             ],
             [
              0.3333333333333333,
              "#9c179e"
             ],
             [
              0.4444444444444444,
              "#bd3786"
             ],
             [
              0.5555555555555556,
              "#d8576b"
             ],
             [
              0.6666666666666666,
              "#ed7953"
             ],
             [
              0.7777777777777778,
              "#fb9f3a"
             ],
             [
              0.8888888888888888,
              "#fdca26"
             ],
             [
              1,
              "#f0f921"
             ]
            ],
            "type": "heatmapgl"
           }
          ],
          "histogram": [
           {
            "marker": {
             "pattern": {
              "fillmode": "overlay",
              "size": 10,
              "solidity": 0.2
             }
            },
            "type": "histogram"
           }
          ],
          "histogram2d": [
           {
            "colorbar": {
             "outlinewidth": 0,
             "ticks": ""
            },
            "colorscale": [
             [
              0,
              "#0d0887"
             ],
             [
              0.1111111111111111,
              "#46039f"
             ],
             [
              0.2222222222222222,
              "#7201a8"
             ],
             [
              0.3333333333333333,
              "#9c179e"
             ],
             [
              0.4444444444444444,
              "#bd3786"
             ],
             [
              0.5555555555555556,
              "#d8576b"
             ],
             [
              0.6666666666666666,
              "#ed7953"
             ],
             [
              0.7777777777777778,
              "#fb9f3a"
             ],
             [
              0.8888888888888888,
              "#fdca26"
             ],
             [
              1,
              "#f0f921"
             ]
            ],
            "type": "histogram2d"
           }
          ],
          "histogram2dcontour": [
           {
            "colorbar": {
             "outlinewidth": 0,
             "ticks": ""
            },
            "colorscale": [
             [
              0,
              "#0d0887"
             ],
             [
              0.1111111111111111,
              "#46039f"
             ],
             [
              0.2222222222222222,
              "#7201a8"
             ],
             [
              0.3333333333333333,
              "#9c179e"
             ],
             [
              0.4444444444444444,
              "#bd3786"
             ],
             [
              0.5555555555555556,
              "#d8576b"
             ],
             [
              0.6666666666666666,
              "#ed7953"
             ],
             [
              0.7777777777777778,
              "#fb9f3a"
             ],
             [
              0.8888888888888888,
              "#fdca26"
             ],
             [
              1,
              "#f0f921"
             ]
            ],
            "type": "histogram2dcontour"
           }
          ],
          "mesh3d": [
           {
            "colorbar": {
             "outlinewidth": 0,
             "ticks": ""
            },
            "type": "mesh3d"
           }
          ],
          "parcoords": [
           {
            "line": {
             "colorbar": {
              "outlinewidth": 0,
              "ticks": ""
             }
            },
            "type": "parcoords"
           }
          ],
          "pie": [
           {
            "automargin": true,
            "type": "pie"
           }
          ],
          "scatter": [
           {
            "marker": {
             "line": {
              "color": "#283442"
             }
            },
            "type": "scatter"
           }
          ],
          "scatter3d": [
           {
            "line": {
             "colorbar": {
              "outlinewidth": 0,
              "ticks": ""
             }
            },
            "marker": {
             "colorbar": {
              "outlinewidth": 0,
              "ticks": ""
             }
            },
            "type": "scatter3d"
           }
          ],
          "scattercarpet": [
           {
            "marker": {
             "colorbar": {
              "outlinewidth": 0,
              "ticks": ""
             }
            },
            "type": "scattercarpet"
           }
          ],
          "scattergeo": [
           {
            "marker": {
             "colorbar": {
              "outlinewidth": 0,
              "ticks": ""
             }
            },
            "type": "scattergeo"
           }
          ],
          "scattergl": [
           {
            "marker": {
             "line": {
              "color": "#283442"
             }
            },
            "type": "scattergl"
           }
          ],
          "scattermapbox": [
           {
            "marker": {
             "colorbar": {
              "outlinewidth": 0,
              "ticks": ""
             }
            },
            "type": "scattermapbox"
           }
          ],
          "scatterpolar": [
           {
            "marker": {
             "colorbar": {
              "outlinewidth": 0,
              "ticks": ""
             }
            },
            "type": "scatterpolar"
           }
          ],
          "scatterpolargl": [
           {
            "marker": {
             "colorbar": {
              "outlinewidth": 0,
              "ticks": ""
             }
            },
            "type": "scatterpolargl"
           }
          ],
          "scatterternary": [
           {
            "marker": {
             "colorbar": {
              "outlinewidth": 0,
              "ticks": ""
             }
            },
            "type": "scatterternary"
           }
          ],
          "surface": [
           {
            "colorbar": {
             "outlinewidth": 0,
             "ticks": ""
            },
            "colorscale": [
             [
              0,
              "#0d0887"
             ],
             [
              0.1111111111111111,
              "#46039f"
             ],
             [
              0.2222222222222222,
              "#7201a8"
             ],
             [
              0.3333333333333333,
              "#9c179e"
             ],
             [
              0.4444444444444444,
              "#bd3786"
             ],
             [
              0.5555555555555556,
              "#d8576b"
             ],
             [
              0.6666666666666666,
              "#ed7953"
             ],
             [
              0.7777777777777778,
              "#fb9f3a"
             ],
             [
              0.8888888888888888,
              "#fdca26"
             ],
             [
              1,
              "#f0f921"
             ]
            ],
            "type": "surface"
           }
          ],
          "table": [
           {
            "cells": {
             "fill": {
              "color": "#506784"
             },
             "line": {
              "color": "rgb(17,17,17)"
             }
            },
            "header": {
             "fill": {
              "color": "#2a3f5f"
             },
             "line": {
              "color": "rgb(17,17,17)"
             }
            },
            "type": "table"
           }
          ]
         },
         "layout": {
          "annotationdefaults": {
           "arrowcolor": "#f2f5fa",
           "arrowhead": 0,
           "arrowwidth": 1
          },
          "autotypenumbers": "strict",
          "coloraxis": {
           "colorbar": {
            "outlinewidth": 0,
            "ticks": ""
           }
          },
          "colorscale": {
           "diverging": [
            [
             0,
             "#8e0152"
            ],
            [
             0.1,
             "#c51b7d"
            ],
            [
             0.2,
             "#de77ae"
            ],
            [
             0.3,
             "#f1b6da"
            ],
            [
             0.4,
             "#fde0ef"
            ],
            [
             0.5,
             "#f7f7f7"
            ],
            [
             0.6,
             "#e6f5d0"
            ],
            [
             0.7,
             "#b8e186"
            ],
            [
             0.8,
             "#7fbc41"
            ],
            [
             0.9,
             "#4d9221"
            ],
            [
             1,
             "#276419"
            ]
           ],
           "sequential": [
            [
             0,
             "#0d0887"
            ],
            [
             0.1111111111111111,
             "#46039f"
            ],
            [
             0.2222222222222222,
             "#7201a8"
            ],
            [
             0.3333333333333333,
             "#9c179e"
            ],
            [
             0.4444444444444444,
             "#bd3786"
            ],
            [
             0.5555555555555556,
             "#d8576b"
            ],
            [
             0.6666666666666666,
             "#ed7953"
            ],
            [
             0.7777777777777778,
             "#fb9f3a"
            ],
            [
             0.8888888888888888,
             "#fdca26"
            ],
            [
             1,
             "#f0f921"
            ]
           ],
           "sequentialminus": [
            [
             0,
             "#0d0887"
            ],
            [
             0.1111111111111111,
             "#46039f"
            ],
            [
             0.2222222222222222,
             "#7201a8"
            ],
            [
             0.3333333333333333,
             "#9c179e"
            ],
            [
             0.4444444444444444,
             "#bd3786"
            ],
            [
             0.5555555555555556,
             "#d8576b"
            ],
            [
             0.6666666666666666,
             "#ed7953"
            ],
            [
             0.7777777777777778,
             "#fb9f3a"
            ],
            [
             0.8888888888888888,
             "#fdca26"
            ],
            [
             1,
             "#f0f921"
            ]
           ]
          },
          "colorway": [
           "#636efa",
           "#EF553B",
           "#00cc96",
           "#ab63fa",
           "#FFA15A",
           "#19d3f3",
           "#FF6692",
           "#B6E880",
           "#FF97FF",
           "#FECB52"
          ],
          "font": {
           "color": "#f2f5fa"
          },
          "geo": {
           "bgcolor": "rgb(17,17,17)",
           "lakecolor": "rgb(17,17,17)",
           "landcolor": "rgb(17,17,17)",
           "showlakes": true,
           "showland": true,
           "subunitcolor": "#506784"
          },
          "hoverlabel": {
           "align": "left"
          },
          "hovermode": "closest",
          "mapbox": {
           "style": "dark"
          },
          "paper_bgcolor": "rgb(17,17,17)",
          "plot_bgcolor": "rgb(17,17,17)",
          "polar": {
           "angularaxis": {
            "gridcolor": "#506784",
            "linecolor": "#506784",
            "ticks": ""
           },
           "bgcolor": "rgb(17,17,17)",
           "radialaxis": {
            "gridcolor": "#506784",
            "linecolor": "#506784",
            "ticks": ""
           }
          },
          "scene": {
           "xaxis": {
            "backgroundcolor": "rgb(17,17,17)",
            "gridcolor": "#506784",
            "gridwidth": 2,
            "linecolor": "#506784",
            "showbackground": true,
            "ticks": "",
            "zerolinecolor": "#C8D4E3"
           },
           "yaxis": {
            "backgroundcolor": "rgb(17,17,17)",
            "gridcolor": "#506784",
            "gridwidth": 2,
            "linecolor": "#506784",
            "showbackground": true,
            "ticks": "",
            "zerolinecolor": "#C8D4E3"
           },
           "zaxis": {
            "backgroundcolor": "rgb(17,17,17)",
            "gridcolor": "#506784",
            "gridwidth": 2,
            "linecolor": "#506784",
            "showbackground": true,
            "ticks": "",
            "zerolinecolor": "#C8D4E3"
           }
          },
          "shapedefaults": {
           "line": {
            "color": "#f2f5fa"
           }
          },
          "sliderdefaults": {
           "bgcolor": "#C8D4E3",
           "bordercolor": "rgb(17,17,17)",
           "borderwidth": 1,
           "tickwidth": 0
          },
          "ternary": {
           "aaxis": {
            "gridcolor": "#506784",
            "linecolor": "#506784",
            "ticks": ""
           },
           "baxis": {
            "gridcolor": "#506784",
            "linecolor": "#506784",
            "ticks": ""
           },
           "bgcolor": "rgb(17,17,17)",
           "caxis": {
            "gridcolor": "#506784",
            "linecolor": "#506784",
            "ticks": ""
           }
          },
          "title": {
           "x": 0.05
          },
          "updatemenudefaults": {
           "bgcolor": "#506784",
           "borderwidth": 0
          },
          "xaxis": {
           "automargin": true,
           "gridcolor": "#283442",
           "linecolor": "#506784",
           "ticks": "",
           "title": {
            "standoff": 15
           },
           "zerolinecolor": "#283442",
           "zerolinewidth": 2
          },
          "yaxis": {
           "automargin": true,
           "gridcolor": "#283442",
           "linecolor": "#506784",
           "ticks": "",
           "title": {
            "standoff": 15
           },
           "zerolinecolor": "#283442",
           "zerolinewidth": 2
          }
         }
        },
        "title": {
         "text": "Average Market Cap by Sector"
        },
        "xaxis": {
         "anchor": "y",
         "domain": [
          0,
          1
         ],
         "title": {
          "text": "Setor"
         }
        },
        "yaxis": {
         "anchor": "x",
         "domain": [
          0,
          1
         ],
         "title": {
          "text": "Average Market Cap"
         }
        }
       }
      }
     },
     "metadata": {},
     "output_type": "display_data"
    }
   ],
   "source": [
    "sector_means = df_fundamentals_numeric_cols.groupby(df_fundamentals_book['sector']).mean()\n",
    "sector_means = sector_means.sort_values(by=['market_cap', 'total_revenue'], ascending=[True, False])\n",
    "\n",
    "fig = px.bar(sector_means, x=sector_means.index, y='market_cap', title='Average Market Cap by Sector', color_discrete_sequence=['rgb(100, 195, 181)'], template='plotly_dark', hover_name=sector_means.index)\n",
    "formatted_market_cap = [f'{x:.2f}B' for x in (sector_means['market_cap'] / 1e9)]\n",
    "fig.update_traces(text=formatted_market_cap, textposition='outside',textfont=dict(color='white'))\n",
    "fig.update_layout(xaxis_title='Setor', yaxis_title='Average Market Cap', height = 520)\n",
    "fig.show()"
   ]
  },
  {
   "cell_type": "markdown",
   "metadata": {},
   "source": [
    "- **`Consumer Cyclical`:** The sector with the largest number of listed companies, totaling 53, has the lowest average market cap at USD 2.03 billion.\n",
    "- **`Real Estate`:** Has an average market cap slightly higher at USD 2.18 billion, with equal representation as the Consumer Defensive sector, each having 21 listed companies.\n",
    "- **`Technology`:** Although being the least represented with only four listed companies, it has a significant average market cap of USD 7.08 billion.\n",
    "- **`Healthcare`:** With 13 companies, the sector shows an average market cap of USD 7.21 billion.\n",
    "- **`Industrials`:** Near the top in terms of company count with 48 listed, holds an average market cap of USD 11.40 billion.\n",
    "- **`Communication Services`:** A bit more represented than Technology with seven companies, shares a similar average market cap with Industrials at USD 11.43 billion.\n",
    "- **`Consumer Defensive`:** Along with Real Estate, both sectors boast identical representation and a substantial average market cap of USD 14.78 billion.\n",
    "- **`Utilities`:** Surpassing Financial Services in company count with 46 listed, the sector's average market cap stands at USD 15.78 billion.\n",
    "- **`Basic Materials`:** With 29 companies, this sector has an average market cap of USD 20.82 billion.\n",
    "- **`Financial Services`:** Having a strong representation with 40 companies, it reaches an average market cap of USD 39.92 billion.\n",
    "- **`Energy`:** With only nine companies listed, it is distinguished by the highest average market cap at USD 118.12 billion.\n",
    "\n",
    "The graphic analysis suggests that the Consumer Cyclical sector, despite having the highest company count, might reflect diversity and strength but faces a challenging market valuation context. Meanwhile, the Technology sector’s lower representation may indicate less market maturity or growth potential in the Brazilian stock exchange. Energy, with the highest average market cap, indicates substantial sector size and investor confidence.\n"
   ]
  },
  {
   "cell_type": "markdown",
   "metadata": {},
   "source": [
    "#### Profitability by Sector"
   ]
  },
  {
   "cell_type": "code",
   "execution_count": 11,
   "metadata": {},
   "outputs": [
    {
     "data": {
      "application/vnd.plotly.v1+json": {
       "config": {
        "plotlyServerURL": "https://plot.ly"
       },
       "data": [
        {
         "alignmentgroup": "True",
         "hovertemplate": "<b>%{hovertext}</b><br><br>x=%{x}<br>y=%{y}<extra></extra>",
         "hovertext": [
          "Real Estate",
          "Consumer Cyclical",
          "Industrials",
          "Energy",
          "Communication Services",
          "Healthcare",
          "Consumer Defensive",
          "Basic Materials",
          "Technology",
          "Utilities",
          "Financial Services"
         ],
         "legendgroup": "",
         "marker": {
          "color": "rgb(100, 195, 181)",
          "pattern": {
           "shape": ""
          }
         },
         "name": "",
         "offsetgroup": "",
         "orientation": "v",
         "showlegend": false,
         "text": [
          -61,
          -60,
          -26,
          -3,
          1,
          8,
          10,
          10,
          16,
          26,
          28.000000000000004
         ],
         "textfont": {
          "color": "white"
         },
         "textposition": "outside",
         "type": "bar",
         "x": [
          "Real Estate",
          "Consumer Cyclical",
          "Industrials",
          "Energy",
          "Communication Services",
          "Healthcare",
          "Consumer Defensive",
          "Basic Materials",
          "Technology",
          "Utilities",
          "Financial Services"
         ],
         "xaxis": "x",
         "y": [
          -0.6132747631428571,
          -0.5982028361509434,
          -0.2633990025,
          -0.028245554444444414,
          0.010442857142857146,
          0.08127000023076923,
          0.10020428714285715,
          0.10402724182758621,
          0.164177505,
          0.2649841330217391,
          0.283585747775
         ],
         "yaxis": "y"
        }
       ],
       "layout": {
        "barmode": "relative",
        "legend": {
         "tracegroupgap": 0
        },
        "margin": {
         "t": 60
        },
        "template": {
         "data": {
          "bar": [
           {
            "error_x": {
             "color": "#f2f5fa"
            },
            "error_y": {
             "color": "#f2f5fa"
            },
            "marker": {
             "line": {
              "color": "rgb(17,17,17)",
              "width": 0.5
             },
             "pattern": {
              "fillmode": "overlay",
              "size": 10,
              "solidity": 0.2
             }
            },
            "type": "bar"
           }
          ],
          "barpolar": [
           {
            "marker": {
             "line": {
              "color": "rgb(17,17,17)",
              "width": 0.5
             },
             "pattern": {
              "fillmode": "overlay",
              "size": 10,
              "solidity": 0.2
             }
            },
            "type": "barpolar"
           }
          ],
          "carpet": [
           {
            "aaxis": {
             "endlinecolor": "#A2B1C6",
             "gridcolor": "#506784",
             "linecolor": "#506784",
             "minorgridcolor": "#506784",
             "startlinecolor": "#A2B1C6"
            },
            "baxis": {
             "endlinecolor": "#A2B1C6",
             "gridcolor": "#506784",
             "linecolor": "#506784",
             "minorgridcolor": "#506784",
             "startlinecolor": "#A2B1C6"
            },
            "type": "carpet"
           }
          ],
          "choropleth": [
           {
            "colorbar": {
             "outlinewidth": 0,
             "ticks": ""
            },
            "type": "choropleth"
           }
          ],
          "contour": [
           {
            "colorbar": {
             "outlinewidth": 0,
             "ticks": ""
            },
            "colorscale": [
             [
              0,
              "#0d0887"
             ],
             [
              0.1111111111111111,
              "#46039f"
             ],
             [
              0.2222222222222222,
              "#7201a8"
             ],
             [
              0.3333333333333333,
              "#9c179e"
             ],
             [
              0.4444444444444444,
              "#bd3786"
             ],
             [
              0.5555555555555556,
              "#d8576b"
             ],
             [
              0.6666666666666666,
              "#ed7953"
             ],
             [
              0.7777777777777778,
              "#fb9f3a"
             ],
             [
              0.8888888888888888,
              "#fdca26"
             ],
             [
              1,
              "#f0f921"
             ]
            ],
            "type": "contour"
           }
          ],
          "contourcarpet": [
           {
            "colorbar": {
             "outlinewidth": 0,
             "ticks": ""
            },
            "type": "contourcarpet"
           }
          ],
          "heatmap": [
           {
            "colorbar": {
             "outlinewidth": 0,
             "ticks": ""
            },
            "colorscale": [
             [
              0,
              "#0d0887"
             ],
             [
              0.1111111111111111,
              "#46039f"
             ],
             [
              0.2222222222222222,
              "#7201a8"
             ],
             [
              0.3333333333333333,
              "#9c179e"
             ],
             [
              0.4444444444444444,
              "#bd3786"
             ],
             [
              0.5555555555555556,
              "#d8576b"
             ],
             [
              0.6666666666666666,
              "#ed7953"
             ],
             [
              0.7777777777777778,
              "#fb9f3a"
             ],
             [
              0.8888888888888888,
              "#fdca26"
             ],
             [
              1,
              "#f0f921"
             ]
            ],
            "type": "heatmap"
           }
          ],
          "heatmapgl": [
           {
            "colorbar": {
             "outlinewidth": 0,
             "ticks": ""
            },
            "colorscale": [
             [
              0,
              "#0d0887"
             ],
             [
              0.1111111111111111,
              "#46039f"
             ],
             [
              0.2222222222222222,
              "#7201a8"
             ],
             [
              0.3333333333333333,
              "#9c179e"
             ],
             [
              0.4444444444444444,
              "#bd3786"
             ],
             [
              0.5555555555555556,
              "#d8576b"
             ],
             [
              0.6666666666666666,
              "#ed7953"
             ],
             [
              0.7777777777777778,
              "#fb9f3a"
             ],
             [
              0.8888888888888888,
              "#fdca26"
             ],
             [
              1,
              "#f0f921"
             ]
            ],
            "type": "heatmapgl"
           }
          ],
          "histogram": [
           {
            "marker": {
             "pattern": {
              "fillmode": "overlay",
              "size": 10,
              "solidity": 0.2
             }
            },
            "type": "histogram"
           }
          ],
          "histogram2d": [
           {
            "colorbar": {
             "outlinewidth": 0,
             "ticks": ""
            },
            "colorscale": [
             [
              0,
              "#0d0887"
             ],
             [
              0.1111111111111111,
              "#46039f"
             ],
             [
              0.2222222222222222,
              "#7201a8"
             ],
             [
              0.3333333333333333,
              "#9c179e"
             ],
             [
              0.4444444444444444,
              "#bd3786"
             ],
             [
              0.5555555555555556,
              "#d8576b"
             ],
             [
              0.6666666666666666,
              "#ed7953"
             ],
             [
              0.7777777777777778,
              "#fb9f3a"
             ],
             [
              0.8888888888888888,
              "#fdca26"
             ],
             [
              1,
              "#f0f921"
             ]
            ],
            "type": "histogram2d"
           }
          ],
          "histogram2dcontour": [
           {
            "colorbar": {
             "outlinewidth": 0,
             "ticks": ""
            },
            "colorscale": [
             [
              0,
              "#0d0887"
             ],
             [
              0.1111111111111111,
              "#46039f"
             ],
             [
              0.2222222222222222,
              "#7201a8"
             ],
             [
              0.3333333333333333,
              "#9c179e"
             ],
             [
              0.4444444444444444,
              "#bd3786"
             ],
             [
              0.5555555555555556,
              "#d8576b"
             ],
             [
              0.6666666666666666,
              "#ed7953"
             ],
             [
              0.7777777777777778,
              "#fb9f3a"
             ],
             [
              0.8888888888888888,
              "#fdca26"
             ],
             [
              1,
              "#f0f921"
             ]
            ],
            "type": "histogram2dcontour"
           }
          ],
          "mesh3d": [
           {
            "colorbar": {
             "outlinewidth": 0,
             "ticks": ""
            },
            "type": "mesh3d"
           }
          ],
          "parcoords": [
           {
            "line": {
             "colorbar": {
              "outlinewidth": 0,
              "ticks": ""
             }
            },
            "type": "parcoords"
           }
          ],
          "pie": [
           {
            "automargin": true,
            "type": "pie"
           }
          ],
          "scatter": [
           {
            "marker": {
             "line": {
              "color": "#283442"
             }
            },
            "type": "scatter"
           }
          ],
          "scatter3d": [
           {
            "line": {
             "colorbar": {
              "outlinewidth": 0,
              "ticks": ""
             }
            },
            "marker": {
             "colorbar": {
              "outlinewidth": 0,
              "ticks": ""
             }
            },
            "type": "scatter3d"
           }
          ],
          "scattercarpet": [
           {
            "marker": {
             "colorbar": {
              "outlinewidth": 0,
              "ticks": ""
             }
            },
            "type": "scattercarpet"
           }
          ],
          "scattergeo": [
           {
            "marker": {
             "colorbar": {
              "outlinewidth": 0,
              "ticks": ""
             }
            },
            "type": "scattergeo"
           }
          ],
          "scattergl": [
           {
            "marker": {
             "line": {
              "color": "#283442"
             }
            },
            "type": "scattergl"
           }
          ],
          "scattermapbox": [
           {
            "marker": {
             "colorbar": {
              "outlinewidth": 0,
              "ticks": ""
             }
            },
            "type": "scattermapbox"
           }
          ],
          "scatterpolar": [
           {
            "marker": {
             "colorbar": {
              "outlinewidth": 0,
              "ticks": ""
             }
            },
            "type": "scatterpolar"
           }
          ],
          "scatterpolargl": [
           {
            "marker": {
             "colorbar": {
              "outlinewidth": 0,
              "ticks": ""
             }
            },
            "type": "scatterpolargl"
           }
          ],
          "scatterternary": [
           {
            "marker": {
             "colorbar": {
              "outlinewidth": 0,
              "ticks": ""
             }
            },
            "type": "scatterternary"
           }
          ],
          "surface": [
           {
            "colorbar": {
             "outlinewidth": 0,
             "ticks": ""
            },
            "colorscale": [
             [
              0,
              "#0d0887"
             ],
             [
              0.1111111111111111,
              "#46039f"
             ],
             [
              0.2222222222222222,
              "#7201a8"
             ],
             [
              0.3333333333333333,
              "#9c179e"
             ],
             [
              0.4444444444444444,
              "#bd3786"
             ],
             [
              0.5555555555555556,
              "#d8576b"
             ],
             [
              0.6666666666666666,
              "#ed7953"
             ],
             [
              0.7777777777777778,
              "#fb9f3a"
             ],
             [
              0.8888888888888888,
              "#fdca26"
             ],
             [
              1,
              "#f0f921"
             ]
            ],
            "type": "surface"
           }
          ],
          "table": [
           {
            "cells": {
             "fill": {
              "color": "#506784"
             },
             "line": {
              "color": "rgb(17,17,17)"
             }
            },
            "header": {
             "fill": {
              "color": "#2a3f5f"
             },
             "line": {
              "color": "rgb(17,17,17)"
             }
            },
            "type": "table"
           }
          ]
         },
         "layout": {
          "annotationdefaults": {
           "arrowcolor": "#f2f5fa",
           "arrowhead": 0,
           "arrowwidth": 1
          },
          "autotypenumbers": "strict",
          "coloraxis": {
           "colorbar": {
            "outlinewidth": 0,
            "ticks": ""
           }
          },
          "colorscale": {
           "diverging": [
            [
             0,
             "#8e0152"
            ],
            [
             0.1,
             "#c51b7d"
            ],
            [
             0.2,
             "#de77ae"
            ],
            [
             0.3,
             "#f1b6da"
            ],
            [
             0.4,
             "#fde0ef"
            ],
            [
             0.5,
             "#f7f7f7"
            ],
            [
             0.6,
             "#e6f5d0"
            ],
            [
             0.7,
             "#b8e186"
            ],
            [
             0.8,
             "#7fbc41"
            ],
            [
             0.9,
             "#4d9221"
            ],
            [
             1,
             "#276419"
            ]
           ],
           "sequential": [
            [
             0,
             "#0d0887"
            ],
            [
             0.1111111111111111,
             "#46039f"
            ],
            [
             0.2222222222222222,
             "#7201a8"
            ],
            [
             0.3333333333333333,
             "#9c179e"
            ],
            [
             0.4444444444444444,
             "#bd3786"
            ],
            [
             0.5555555555555556,
             "#d8576b"
            ],
            [
             0.6666666666666666,
             "#ed7953"
            ],
            [
             0.7777777777777778,
             "#fb9f3a"
            ],
            [
             0.8888888888888888,
             "#fdca26"
            ],
            [
             1,
             "#f0f921"
            ]
           ],
           "sequentialminus": [
            [
             0,
             "#0d0887"
            ],
            [
             0.1111111111111111,
             "#46039f"
            ],
            [
             0.2222222222222222,
             "#7201a8"
            ],
            [
             0.3333333333333333,
             "#9c179e"
            ],
            [
             0.4444444444444444,
             "#bd3786"
            ],
            [
             0.5555555555555556,
             "#d8576b"
            ],
            [
             0.6666666666666666,
             "#ed7953"
            ],
            [
             0.7777777777777778,
             "#fb9f3a"
            ],
            [
             0.8888888888888888,
             "#fdca26"
            ],
            [
             1,
             "#f0f921"
            ]
           ]
          },
          "colorway": [
           "#636efa",
           "#EF553B",
           "#00cc96",
           "#ab63fa",
           "#FFA15A",
           "#19d3f3",
           "#FF6692",
           "#B6E880",
           "#FF97FF",
           "#FECB52"
          ],
          "font": {
           "color": "#f2f5fa"
          },
          "geo": {
           "bgcolor": "rgb(17,17,17)",
           "lakecolor": "rgb(17,17,17)",
           "landcolor": "rgb(17,17,17)",
           "showlakes": true,
           "showland": true,
           "subunitcolor": "#506784"
          },
          "hoverlabel": {
           "align": "left"
          },
          "hovermode": "closest",
          "mapbox": {
           "style": "dark"
          },
          "paper_bgcolor": "rgb(17,17,17)",
          "plot_bgcolor": "rgb(17,17,17)",
          "polar": {
           "angularaxis": {
            "gridcolor": "#506784",
            "linecolor": "#506784",
            "ticks": ""
           },
           "bgcolor": "rgb(17,17,17)",
           "radialaxis": {
            "gridcolor": "#506784",
            "linecolor": "#506784",
            "ticks": ""
           }
          },
          "scene": {
           "xaxis": {
            "backgroundcolor": "rgb(17,17,17)",
            "gridcolor": "#506784",
            "gridwidth": 2,
            "linecolor": "#506784",
            "showbackground": true,
            "ticks": "",
            "zerolinecolor": "#C8D4E3"
           },
           "yaxis": {
            "backgroundcolor": "rgb(17,17,17)",
            "gridcolor": "#506784",
            "gridwidth": 2,
            "linecolor": "#506784",
            "showbackground": true,
            "ticks": "",
            "zerolinecolor": "#C8D4E3"
           },
           "zaxis": {
            "backgroundcolor": "rgb(17,17,17)",
            "gridcolor": "#506784",
            "gridwidth": 2,
            "linecolor": "#506784",
            "showbackground": true,
            "ticks": "",
            "zerolinecolor": "#C8D4E3"
           }
          },
          "shapedefaults": {
           "line": {
            "color": "#f2f5fa"
           }
          },
          "sliderdefaults": {
           "bgcolor": "#C8D4E3",
           "bordercolor": "rgb(17,17,17)",
           "borderwidth": 1,
           "tickwidth": 0
          },
          "ternary": {
           "aaxis": {
            "gridcolor": "#506784",
            "linecolor": "#506784",
            "ticks": ""
           },
           "baxis": {
            "gridcolor": "#506784",
            "linecolor": "#506784",
            "ticks": ""
           },
           "bgcolor": "rgb(17,17,17)",
           "caxis": {
            "gridcolor": "#506784",
            "linecolor": "#506784",
            "ticks": ""
           }
          },
          "title": {
           "x": 0.05
          },
          "updatemenudefaults": {
           "bgcolor": "#506784",
           "borderwidth": 0
          },
          "xaxis": {
           "automargin": true,
           "gridcolor": "#283442",
           "linecolor": "#506784",
           "ticks": "",
           "title": {
            "standoff": 15
           },
           "zerolinecolor": "#283442",
           "zerolinewidth": 2
          },
          "yaxis": {
           "automargin": true,
           "gridcolor": "#283442",
           "linecolor": "#506784",
           "ticks": "",
           "title": {
            "standoff": 15
           },
           "zerolinecolor": "#283442",
           "zerolinewidth": 2
          }
         }
        },
        "title": {
         "text": "Average Operating Margin by Sector"
        },
        "xaxis": {
         "anchor": "y",
         "domain": [
          0,
          1
         ],
         "title": {
          "text": "Sector"
         }
        },
        "yaxis": {
         "anchor": "x",
         "domain": [
          0,
          1
         ],
         "title": {
          "text": "Operating Margin (%)"
         }
        }
       }
      }
     },
     "metadata": {},
     "output_type": "display_data"
    }
   ],
   "source": [
    "sector_means = sector_means.sort_values(by=['operating_margins'], ascending=True)\n",
    "\n",
    "fig_op_margin = px.bar(x=sector_means.index, y=sector_means['operating_margins'], color_discrete_sequence=['rgb(100, 195, 181)'], hover_name=sector_means.index)\n",
    "fig_op_margin.update_traces(text=sector_means.operating_margins.round(2)*100, textposition='outside',textfont=dict(color='white'))\n",
    "fig_op_margin.update_layout(title='Average Operating Margin by Sector', xaxis_title='Sector', yaxis_title='Operating Margin (%)', template = 'plotly_dark')\n",
    "fig_op_margin.show()"
   ]
  },
  {
   "cell_type": "markdown",
   "metadata": {},
   "source": [
    "- **`Real Estate`:** Operational margin deeply negative at **-61%**, signifying considerable challenges in profit generation after covering operational costs.\n",
    "- **`Consumer Cyclical`:** Similarly distressing with a very negative operational margin at **-60%**, indicating potential struggles with high operating costs relative to revenue.\n",
    "- **`Industrials`:** A negative operational margin at **-26%** signals average industrial companies are experiencing operational difficulties leading to pre-interest and tax losses.\n",
    "- **`Energy`:** Marginally negative operational margin at **-3%**, suggesting the sector is near breakeven but still has operational costs outpacing revenue.\n",
    "- **`Communication Services`:** Low but positive operational margin at **1%**, reflecting a modest average operational profit after costs.\n",
    "- **`Healthcare`:** A healthy operational margin at **8%**, indicating profitable operations within the sector.\n",
    "- **`Consumer Defensive`:** With an operational margin of **10%**, this sector is generating healthy operational profits over revenue.\n",
    "- **`Basic Materials`:** Matching the Consumer Defensive with a **10%** margin, indicating strong operational performance in material processing and production.\n",
    "- **`Technology`:** High operational margin at **16%**, demonstrating the sector's ability to maintain efficient and profitable operations.\n",
    "- **`Utilities`:** With a significant high operational margin at **26%**, this suggests robust profit generation from regular operations and lesser vulnerability to business environment fluctuations.\n",
    "- **`Financial Services`:** The sector boasts the highest operational margin at **28%**, signifying an excellent operational performance and efficiency in profit generation pre-financing and tax.\n",
    "\n",
    "The analysis indicates a wide variance in operational efficiency across sectors, with Real Estate and Consumer Cyclical facing the most significant challenges, while Financial Services and Utilities exhibit strong operational profitability. Technology also stands out for its high efficiency, despite its smaller size in terms of market representation.\n"
   ]
  },
  {
   "cell_type": "code",
   "execution_count": 12,
   "metadata": {},
   "outputs": [
    {
     "data": {
      "application/vnd.plotly.v1+json": {
       "config": {
        "plotlyServerURL": "https://plot.ly"
       },
       "data": [
        {
         "marker": {
          "color": "rgb(100, 195, 181)"
         },
         "name": "Net Margin",
         "text": [
          "-0.57%",
          "-0.03%",
          "0.01%",
          "0.04%",
          "0.08%",
          "0.09%",
          "0.16%",
          "0.21%",
          "0.34%",
          "0.64%",
          "1.20%"
         ],
         "textfont": {
          "color": "white"
         },
         "textposition": "outside",
         "type": "bar",
         "x": [
          "Communication Services",
          "Healthcare",
          "Consumer Defensive",
          "Basic Materials",
          "Consumer Cyclical",
          "Technology",
          "Energy",
          "Financial Services",
          "Utilities",
          "Industrials",
          "Real Estate"
         ],
         "y": [
          -0.5670500005714285,
          -0.025975383999999994,
          0.01477142964761904,
          0.041856206931034486,
          0.07897924379245283,
          0.09245750075,
          0.15866222344444444,
          0.213339500775,
          0.3379315226695652,
          0.6429993756083333,
          1.1960666721904762
         ]
        }
       ],
       "layout": {
        "height": 555,
        "template": {
         "data": {
          "bar": [
           {
            "error_x": {
             "color": "#f2f5fa"
            },
            "error_y": {
             "color": "#f2f5fa"
            },
            "marker": {
             "line": {
              "color": "rgb(17,17,17)",
              "width": 0.5
             },
             "pattern": {
              "fillmode": "overlay",
              "size": 10,
              "solidity": 0.2
             }
            },
            "type": "bar"
           }
          ],
          "barpolar": [
           {
            "marker": {
             "line": {
              "color": "rgb(17,17,17)",
              "width": 0.5
             },
             "pattern": {
              "fillmode": "overlay",
              "size": 10,
              "solidity": 0.2
             }
            },
            "type": "barpolar"
           }
          ],
          "carpet": [
           {
            "aaxis": {
             "endlinecolor": "#A2B1C6",
             "gridcolor": "#506784",
             "linecolor": "#506784",
             "minorgridcolor": "#506784",
             "startlinecolor": "#A2B1C6"
            },
            "baxis": {
             "endlinecolor": "#A2B1C6",
             "gridcolor": "#506784",
             "linecolor": "#506784",
             "minorgridcolor": "#506784",
             "startlinecolor": "#A2B1C6"
            },
            "type": "carpet"
           }
          ],
          "choropleth": [
           {
            "colorbar": {
             "outlinewidth": 0,
             "ticks": ""
            },
            "type": "choropleth"
           }
          ],
          "contour": [
           {
            "colorbar": {
             "outlinewidth": 0,
             "ticks": ""
            },
            "colorscale": [
             [
              0,
              "#0d0887"
             ],
             [
              0.1111111111111111,
              "#46039f"
             ],
             [
              0.2222222222222222,
              "#7201a8"
             ],
             [
              0.3333333333333333,
              "#9c179e"
             ],
             [
              0.4444444444444444,
              "#bd3786"
             ],
             [
              0.5555555555555556,
              "#d8576b"
             ],
             [
              0.6666666666666666,
              "#ed7953"
             ],
             [
              0.7777777777777778,
              "#fb9f3a"
             ],
             [
              0.8888888888888888,
              "#fdca26"
             ],
             [
              1,
              "#f0f921"
             ]
            ],
            "type": "contour"
           }
          ],
          "contourcarpet": [
           {
            "colorbar": {
             "outlinewidth": 0,
             "ticks": ""
            },
            "type": "contourcarpet"
           }
          ],
          "heatmap": [
           {
            "colorbar": {
             "outlinewidth": 0,
             "ticks": ""
            },
            "colorscale": [
             [
              0,
              "#0d0887"
             ],
             [
              0.1111111111111111,
              "#46039f"
             ],
             [
              0.2222222222222222,
              "#7201a8"
             ],
             [
              0.3333333333333333,
              "#9c179e"
             ],
             [
              0.4444444444444444,
              "#bd3786"
             ],
             [
              0.5555555555555556,
              "#d8576b"
             ],
             [
              0.6666666666666666,
              "#ed7953"
             ],
             [
              0.7777777777777778,
              "#fb9f3a"
             ],
             [
              0.8888888888888888,
              "#fdca26"
             ],
             [
              1,
              "#f0f921"
             ]
            ],
            "type": "heatmap"
           }
          ],
          "heatmapgl": [
           {
            "colorbar": {
             "outlinewidth": 0,
             "ticks": ""
            },
            "colorscale": [
             [
              0,
              "#0d0887"
             ],
             [
              0.1111111111111111,
              "#46039f"
             ],
             [
              0.2222222222222222,
              "#7201a8"
             ],
             [
              0.3333333333333333,
              "#9c179e"
             ],
             [
              0.4444444444444444,
              "#bd3786"
             ],
             [
              0.5555555555555556,
              "#d8576b"
             ],
             [
              0.6666666666666666,
              "#ed7953"
             ],
             [
              0.7777777777777778,
              "#fb9f3a"
             ],
             [
              0.8888888888888888,
              "#fdca26"
             ],
             [
              1,
              "#f0f921"
             ]
            ],
            "type": "heatmapgl"
           }
          ],
          "histogram": [
           {
            "marker": {
             "pattern": {
              "fillmode": "overlay",
              "size": 10,
              "solidity": 0.2
             }
            },
            "type": "histogram"
           }
          ],
          "histogram2d": [
           {
            "colorbar": {
             "outlinewidth": 0,
             "ticks": ""
            },
            "colorscale": [
             [
              0,
              "#0d0887"
             ],
             [
              0.1111111111111111,
              "#46039f"
             ],
             [
              0.2222222222222222,
              "#7201a8"
             ],
             [
              0.3333333333333333,
              "#9c179e"
             ],
             [
              0.4444444444444444,
              "#bd3786"
             ],
             [
              0.5555555555555556,
              "#d8576b"
             ],
             [
              0.6666666666666666,
              "#ed7953"
             ],
             [
              0.7777777777777778,
              "#fb9f3a"
             ],
             [
              0.8888888888888888,
              "#fdca26"
             ],
             [
              1,
              "#f0f921"
             ]
            ],
            "type": "histogram2d"
           }
          ],
          "histogram2dcontour": [
           {
            "colorbar": {
             "outlinewidth": 0,
             "ticks": ""
            },
            "colorscale": [
             [
              0,
              "#0d0887"
             ],
             [
              0.1111111111111111,
              "#46039f"
             ],
             [
              0.2222222222222222,
              "#7201a8"
             ],
             [
              0.3333333333333333,
              "#9c179e"
             ],
             [
              0.4444444444444444,
              "#bd3786"
             ],
             [
              0.5555555555555556,
              "#d8576b"
             ],
             [
              0.6666666666666666,
              "#ed7953"
             ],
             [
              0.7777777777777778,
              "#fb9f3a"
             ],
             [
              0.8888888888888888,
              "#fdca26"
             ],
             [
              1,
              "#f0f921"
             ]
            ],
            "type": "histogram2dcontour"
           }
          ],
          "mesh3d": [
           {
            "colorbar": {
             "outlinewidth": 0,
             "ticks": ""
            },
            "type": "mesh3d"
           }
          ],
          "parcoords": [
           {
            "line": {
             "colorbar": {
              "outlinewidth": 0,
              "ticks": ""
             }
            },
            "type": "parcoords"
           }
          ],
          "pie": [
           {
            "automargin": true,
            "type": "pie"
           }
          ],
          "scatter": [
           {
            "marker": {
             "line": {
              "color": "#283442"
             }
            },
            "type": "scatter"
           }
          ],
          "scatter3d": [
           {
            "line": {
             "colorbar": {
              "outlinewidth": 0,
              "ticks": ""
             }
            },
            "marker": {
             "colorbar": {
              "outlinewidth": 0,
              "ticks": ""
             }
            },
            "type": "scatter3d"
           }
          ],
          "scattercarpet": [
           {
            "marker": {
             "colorbar": {
              "outlinewidth": 0,
              "ticks": ""
             }
            },
            "type": "scattercarpet"
           }
          ],
          "scattergeo": [
           {
            "marker": {
             "colorbar": {
              "outlinewidth": 0,
              "ticks": ""
             }
            },
            "type": "scattergeo"
           }
          ],
          "scattergl": [
           {
            "marker": {
             "line": {
              "color": "#283442"
             }
            },
            "type": "scattergl"
           }
          ],
          "scattermapbox": [
           {
            "marker": {
             "colorbar": {
              "outlinewidth": 0,
              "ticks": ""
             }
            },
            "type": "scattermapbox"
           }
          ],
          "scatterpolar": [
           {
            "marker": {
             "colorbar": {
              "outlinewidth": 0,
              "ticks": ""
             }
            },
            "type": "scatterpolar"
           }
          ],
          "scatterpolargl": [
           {
            "marker": {
             "colorbar": {
              "outlinewidth": 0,
              "ticks": ""
             }
            },
            "type": "scatterpolargl"
           }
          ],
          "scatterternary": [
           {
            "marker": {
             "colorbar": {
              "outlinewidth": 0,
              "ticks": ""
             }
            },
            "type": "scatterternary"
           }
          ],
          "surface": [
           {
            "colorbar": {
             "outlinewidth": 0,
             "ticks": ""
            },
            "colorscale": [
             [
              0,
              "#0d0887"
             ],
             [
              0.1111111111111111,
              "#46039f"
             ],
             [
              0.2222222222222222,
              "#7201a8"
             ],
             [
              0.3333333333333333,
              "#9c179e"
             ],
             [
              0.4444444444444444,
              "#bd3786"
             ],
             [
              0.5555555555555556,
              "#d8576b"
             ],
             [
              0.6666666666666666,
              "#ed7953"
             ],
             [
              0.7777777777777778,
              "#fb9f3a"
             ],
             [
              0.8888888888888888,
              "#fdca26"
             ],
             [
              1,
              "#f0f921"
             ]
            ],
            "type": "surface"
           }
          ],
          "table": [
           {
            "cells": {
             "fill": {
              "color": "#506784"
             },
             "line": {
              "color": "rgb(17,17,17)"
             }
            },
            "header": {
             "fill": {
              "color": "#2a3f5f"
             },
             "line": {
              "color": "rgb(17,17,17)"
             }
            },
            "type": "table"
           }
          ]
         },
         "layout": {
          "annotationdefaults": {
           "arrowcolor": "#f2f5fa",
           "arrowhead": 0,
           "arrowwidth": 1
          },
          "autotypenumbers": "strict",
          "coloraxis": {
           "colorbar": {
            "outlinewidth": 0,
            "ticks": ""
           }
          },
          "colorscale": {
           "diverging": [
            [
             0,
             "#8e0152"
            ],
            [
             0.1,
             "#c51b7d"
            ],
            [
             0.2,
             "#de77ae"
            ],
            [
             0.3,
             "#f1b6da"
            ],
            [
             0.4,
             "#fde0ef"
            ],
            [
             0.5,
             "#f7f7f7"
            ],
            [
             0.6,
             "#e6f5d0"
            ],
            [
             0.7,
             "#b8e186"
            ],
            [
             0.8,
             "#7fbc41"
            ],
            [
             0.9,
             "#4d9221"
            ],
            [
             1,
             "#276419"
            ]
           ],
           "sequential": [
            [
             0,
             "#0d0887"
            ],
            [
             0.1111111111111111,
             "#46039f"
            ],
            [
             0.2222222222222222,
             "#7201a8"
            ],
            [
             0.3333333333333333,
             "#9c179e"
            ],
            [
             0.4444444444444444,
             "#bd3786"
            ],
            [
             0.5555555555555556,
             "#d8576b"
            ],
            [
             0.6666666666666666,
             "#ed7953"
            ],
            [
             0.7777777777777778,
             "#fb9f3a"
            ],
            [
             0.8888888888888888,
             "#fdca26"
            ],
            [
             1,
             "#f0f921"
            ]
           ],
           "sequentialminus": [
            [
             0,
             "#0d0887"
            ],
            [
             0.1111111111111111,
             "#46039f"
            ],
            [
             0.2222222222222222,
             "#7201a8"
            ],
            [
             0.3333333333333333,
             "#9c179e"
            ],
            [
             0.4444444444444444,
             "#bd3786"
            ],
            [
             0.5555555555555556,
             "#d8576b"
            ],
            [
             0.6666666666666666,
             "#ed7953"
            ],
            [
             0.7777777777777778,
             "#fb9f3a"
            ],
            [
             0.8888888888888888,
             "#fdca26"
            ],
            [
             1,
             "#f0f921"
            ]
           ]
          },
          "colorway": [
           "#636efa",
           "#EF553B",
           "#00cc96",
           "#ab63fa",
           "#FFA15A",
           "#19d3f3",
           "#FF6692",
           "#B6E880",
           "#FF97FF",
           "#FECB52"
          ],
          "font": {
           "color": "#f2f5fa"
          },
          "geo": {
           "bgcolor": "rgb(17,17,17)",
           "lakecolor": "rgb(17,17,17)",
           "landcolor": "rgb(17,17,17)",
           "showlakes": true,
           "showland": true,
           "subunitcolor": "#506784"
          },
          "hoverlabel": {
           "align": "left"
          },
          "hovermode": "closest",
          "mapbox": {
           "style": "dark"
          },
          "paper_bgcolor": "rgb(17,17,17)",
          "plot_bgcolor": "rgb(17,17,17)",
          "polar": {
           "angularaxis": {
            "gridcolor": "#506784",
            "linecolor": "#506784",
            "ticks": ""
           },
           "bgcolor": "rgb(17,17,17)",
           "radialaxis": {
            "gridcolor": "#506784",
            "linecolor": "#506784",
            "ticks": ""
           }
          },
          "scene": {
           "xaxis": {
            "backgroundcolor": "rgb(17,17,17)",
            "gridcolor": "#506784",
            "gridwidth": 2,
            "linecolor": "#506784",
            "showbackground": true,
            "ticks": "",
            "zerolinecolor": "#C8D4E3"
           },
           "yaxis": {
            "backgroundcolor": "rgb(17,17,17)",
            "gridcolor": "#506784",
            "gridwidth": 2,
            "linecolor": "#506784",
            "showbackground": true,
            "ticks": "",
            "zerolinecolor": "#C8D4E3"
           },
           "zaxis": {
            "backgroundcolor": "rgb(17,17,17)",
            "gridcolor": "#506784",
            "gridwidth": 2,
            "linecolor": "#506784",
            "showbackground": true,
            "ticks": "",
            "zerolinecolor": "#C8D4E3"
           }
          },
          "shapedefaults": {
           "line": {
            "color": "#f2f5fa"
           }
          },
          "sliderdefaults": {
           "bgcolor": "#C8D4E3",
           "bordercolor": "rgb(17,17,17)",
           "borderwidth": 1,
           "tickwidth": 0
          },
          "ternary": {
           "aaxis": {
            "gridcolor": "#506784",
            "linecolor": "#506784",
            "ticks": ""
           },
           "baxis": {
            "gridcolor": "#506784",
            "linecolor": "#506784",
            "ticks": ""
           },
           "bgcolor": "rgb(17,17,17)",
           "caxis": {
            "gridcolor": "#506784",
            "linecolor": "#506784",
            "ticks": ""
           }
          },
          "title": {
           "x": 0.05
          },
          "updatemenudefaults": {
           "bgcolor": "#506784",
           "borderwidth": 0
          },
          "xaxis": {
           "automargin": true,
           "gridcolor": "#283442",
           "linecolor": "#506784",
           "ticks": "",
           "title": {
            "standoff": 15
           },
           "zerolinecolor": "#283442",
           "zerolinewidth": 2
          },
          "yaxis": {
           "automargin": true,
           "gridcolor": "#283442",
           "linecolor": "#506784",
           "ticks": "",
           "title": {
            "standoff": 15
           },
           "zerolinecolor": "#283442",
           "zerolinewidth": 2
          }
         }
        },
        "title": {
         "text": "Average Net Margin by Sector"
        },
        "xaxis": {
         "title": {
          "text": "Setor"
         }
        },
        "yaxis": {
         "title": {
          "text": "Net Margin(%)"
         }
        }
       }
      }
     },
     "metadata": {},
     "output_type": "display_data"
    }
   ],
   "source": [
    "sector_means = sector_means.sort_values(by=['profit_margins'], ascending=True)\n",
    "\n",
    "fig_net_margin = go.Figure()\n",
    "fig_net_margin.add_trace(go.Bar(x=sector_means.index, y=sector_means['profit_margins'], name='Net Margin', marker_color='rgb(100, 195, 181)'))\n",
    "fig_net_margin.update_traces(text=[f'{x:.2f}%' for x in (sector_means['profit_margins'])], textposition='outside',textfont=dict(color='white'))\n",
    "fig_net_margin.update_layout(height=555,title='Average Net Margin by Sector', xaxis_title='Setor', yaxis_title='Net Margin(%)', template='plotly_dark')\n",
    "\n",
    "fig_net_margin.show()"
   ]
  },
  {
   "cell_type": "markdown",
   "metadata": {},
   "source": [
    "- **`Communication Services`:** Extremely negative net margin at -0.57%, implying average losses after all expenses.\n",
    "- **`Healthcare`:** Break-even net margin at 0.01%, indicating the sector is just managing to cover its costs.\n",
    "- **`Consumer Defensive`:** Positive yet low net margin at 0.04%, showing some profitability.\n",
    "- **`Basic Materials`:** Also a low net margin at 0.08%, meaning that despite operational profits, the final profitability remains modest.\n",
    "- **`Consumer Cyclical`:** Comparable net margin to Basic Materials at 0.09%, reflecting slight profitability after all expenses.\n",
    "- **`Technology`:** With a net margin of 0.16%, it's better than the preceding sectors but still modest.\n",
    "- **`Energy`:** Net margin of 0.21%, showing that energy companies can maintain reasonable profitability after all costs.\n",
    "- **`Financial Services`:** A higher net margin at 0.34%, demonstrating that this sector is more profitable compared to many others.\n",
    "- **`Utilities`:** Solid net margin at 0.34%, on par with Financial Services, indicative of strong profitability.\n",
    "- **`Industrials`:** High net margin at 0.64%, one of the highest, suggesting that industrial companies are quite profitable after all expenses.\n",
    "- **`Real Estate`:** The highest net margin reported at 1.20%, marking it as the most profitable sector among those listed after accounting for all expenses.\n",
    "\n",
    "This overview reveals a significant spectrum in terms of profitability with the Real Estate sector leading in terms of net margin, while Communication Services struggle with net losses. The analysis suggests a robust profitability for sectors like Real Estate and Industrials post all deductions, whereas sectors like Healthcare operate at a no-gain, no-loss basis.\n"
   ]
  },
  {
   "cell_type": "code",
   "execution_count": 13,
   "metadata": {},
   "outputs": [
    {
     "data": {
      "application/vnd.plotly.v1+json": {
       "config": {
        "plotlyServerURL": "https://plot.ly"
       },
       "data": [
        {
         "marker": {
          "color": "rgb(100, 195, 181)"
         },
         "name": "ROCE",
         "text": [
          "-0.62%",
          "-0.06%",
          "-0.00%",
          "0.07%",
          "0.08%",
          "0.10%",
          "0.12%",
          "0.12%",
          "0.14%",
          "0.15%",
          "0.15%"
         ],
         "textfont": {
          "color": "white"
         },
         "textposition": "outside",
         "type": "bar",
         "x": [
          "Energy",
          "Real Estate",
          "Consumer Cyclical",
          "Communication Services",
          "Healthcare",
          "Industrials",
          "Consumer Defensive",
          "Technology",
          "Utilities",
          "Financial Services",
          "Basic Materials"
         ],
         "y": [
          -0.6201086191935733,
          -0.05921755698253041,
          -0.003329649774060902,
          0.07496517435880322,
          0.07931301616180358,
          0.10359237204921544,
          0.1194380767728607,
          0.12316102276372905,
          0.14058854514950644,
          0.1513493064308779,
          0.15349308452222357
         ]
        }
       ],
       "layout": {
        "height": 550,
        "template": {
         "data": {
          "bar": [
           {
            "error_x": {
             "color": "#f2f5fa"
            },
            "error_y": {
             "color": "#f2f5fa"
            },
            "marker": {
             "line": {
              "color": "rgb(17,17,17)",
              "width": 0.5
             },
             "pattern": {
              "fillmode": "overlay",
              "size": 10,
              "solidity": 0.2
             }
            },
            "type": "bar"
           }
          ],
          "barpolar": [
           {
            "marker": {
             "line": {
              "color": "rgb(17,17,17)",
              "width": 0.5
             },
             "pattern": {
              "fillmode": "overlay",
              "size": 10,
              "solidity": 0.2
             }
            },
            "type": "barpolar"
           }
          ],
          "carpet": [
           {
            "aaxis": {
             "endlinecolor": "#A2B1C6",
             "gridcolor": "#506784",
             "linecolor": "#506784",
             "minorgridcolor": "#506784",
             "startlinecolor": "#A2B1C6"
            },
            "baxis": {
             "endlinecolor": "#A2B1C6",
             "gridcolor": "#506784",
             "linecolor": "#506784",
             "minorgridcolor": "#506784",
             "startlinecolor": "#A2B1C6"
            },
            "type": "carpet"
           }
          ],
          "choropleth": [
           {
            "colorbar": {
             "outlinewidth": 0,
             "ticks": ""
            },
            "type": "choropleth"
           }
          ],
          "contour": [
           {
            "colorbar": {
             "outlinewidth": 0,
             "ticks": ""
            },
            "colorscale": [
             [
              0,
              "#0d0887"
             ],
             [
              0.1111111111111111,
              "#46039f"
             ],
             [
              0.2222222222222222,
              "#7201a8"
             ],
             [
              0.3333333333333333,
              "#9c179e"
             ],
             [
              0.4444444444444444,
              "#bd3786"
             ],
             [
              0.5555555555555556,
              "#d8576b"
             ],
             [
              0.6666666666666666,
              "#ed7953"
             ],
             [
              0.7777777777777778,
              "#fb9f3a"
             ],
             [
              0.8888888888888888,
              "#fdca26"
             ],
             [
              1,
              "#f0f921"
             ]
            ],
            "type": "contour"
           }
          ],
          "contourcarpet": [
           {
            "colorbar": {
             "outlinewidth": 0,
             "ticks": ""
            },
            "type": "contourcarpet"
           }
          ],
          "heatmap": [
           {
            "colorbar": {
             "outlinewidth": 0,
             "ticks": ""
            },
            "colorscale": [
             [
              0,
              "#0d0887"
             ],
             [
              0.1111111111111111,
              "#46039f"
             ],
             [
              0.2222222222222222,
              "#7201a8"
             ],
             [
              0.3333333333333333,
              "#9c179e"
             ],
             [
              0.4444444444444444,
              "#bd3786"
             ],
             [
              0.5555555555555556,
              "#d8576b"
             ],
             [
              0.6666666666666666,
              "#ed7953"
             ],
             [
              0.7777777777777778,
              "#fb9f3a"
             ],
             [
              0.8888888888888888,
              "#fdca26"
             ],
             [
              1,
              "#f0f921"
             ]
            ],
            "type": "heatmap"
           }
          ],
          "heatmapgl": [
           {
            "colorbar": {
             "outlinewidth": 0,
             "ticks": ""
            },
            "colorscale": [
             [
              0,
              "#0d0887"
             ],
             [
              0.1111111111111111,
              "#46039f"
             ],
             [
              0.2222222222222222,
              "#7201a8"
             ],
             [
              0.3333333333333333,
              "#9c179e"
             ],
             [
              0.4444444444444444,
              "#bd3786"
             ],
             [
              0.5555555555555556,
              "#d8576b"
             ],
             [
              0.6666666666666666,
              "#ed7953"
             ],
             [
              0.7777777777777778,
              "#fb9f3a"
             ],
             [
              0.8888888888888888,
              "#fdca26"
             ],
             [
              1,
              "#f0f921"
             ]
            ],
            "type": "heatmapgl"
           }
          ],
          "histogram": [
           {
            "marker": {
             "pattern": {
              "fillmode": "overlay",
              "size": 10,
              "solidity": 0.2
             }
            },
            "type": "histogram"
           }
          ],
          "histogram2d": [
           {
            "colorbar": {
             "outlinewidth": 0,
             "ticks": ""
            },
            "colorscale": [
             [
              0,
              "#0d0887"
             ],
             [
              0.1111111111111111,
              "#46039f"
             ],
             [
              0.2222222222222222,
              "#7201a8"
             ],
             [
              0.3333333333333333,
              "#9c179e"
             ],
             [
              0.4444444444444444,
              "#bd3786"
             ],
             [
              0.5555555555555556,
              "#d8576b"
             ],
             [
              0.6666666666666666,
              "#ed7953"
             ],
             [
              0.7777777777777778,
              "#fb9f3a"
             ],
             [
              0.8888888888888888,
              "#fdca26"
             ],
             [
              1,
              "#f0f921"
             ]
            ],
            "type": "histogram2d"
           }
          ],
          "histogram2dcontour": [
           {
            "colorbar": {
             "outlinewidth": 0,
             "ticks": ""
            },
            "colorscale": [
             [
              0,
              "#0d0887"
             ],
             [
              0.1111111111111111,
              "#46039f"
             ],
             [
              0.2222222222222222,
              "#7201a8"
             ],
             [
              0.3333333333333333,
              "#9c179e"
             ],
             [
              0.4444444444444444,
              "#bd3786"
             ],
             [
              0.5555555555555556,
              "#d8576b"
             ],
             [
              0.6666666666666666,
              "#ed7953"
             ],
             [
              0.7777777777777778,
              "#fb9f3a"
             ],
             [
              0.8888888888888888,
              "#fdca26"
             ],
             [
              1,
              "#f0f921"
             ]
            ],
            "type": "histogram2dcontour"
           }
          ],
          "mesh3d": [
           {
            "colorbar": {
             "outlinewidth": 0,
             "ticks": ""
            },
            "type": "mesh3d"
           }
          ],
          "parcoords": [
           {
            "line": {
             "colorbar": {
              "outlinewidth": 0,
              "ticks": ""
             }
            },
            "type": "parcoords"
           }
          ],
          "pie": [
           {
            "automargin": true,
            "type": "pie"
           }
          ],
          "scatter": [
           {
            "marker": {
             "line": {
              "color": "#283442"
             }
            },
            "type": "scatter"
           }
          ],
          "scatter3d": [
           {
            "line": {
             "colorbar": {
              "outlinewidth": 0,
              "ticks": ""
             }
            },
            "marker": {
             "colorbar": {
              "outlinewidth": 0,
              "ticks": ""
             }
            },
            "type": "scatter3d"
           }
          ],
          "scattercarpet": [
           {
            "marker": {
             "colorbar": {
              "outlinewidth": 0,
              "ticks": ""
             }
            },
            "type": "scattercarpet"
           }
          ],
          "scattergeo": [
           {
            "marker": {
             "colorbar": {
              "outlinewidth": 0,
              "ticks": ""
             }
            },
            "type": "scattergeo"
           }
          ],
          "scattergl": [
           {
            "marker": {
             "line": {
              "color": "#283442"
             }
            },
            "type": "scattergl"
           }
          ],
          "scattermapbox": [
           {
            "marker": {
             "colorbar": {
              "outlinewidth": 0,
              "ticks": ""
             }
            },
            "type": "scattermapbox"
           }
          ],
          "scatterpolar": [
           {
            "marker": {
             "colorbar": {
              "outlinewidth": 0,
              "ticks": ""
             }
            },
            "type": "scatterpolar"
           }
          ],
          "scatterpolargl": [
           {
            "marker": {
             "colorbar": {
              "outlinewidth": 0,
              "ticks": ""
             }
            },
            "type": "scatterpolargl"
           }
          ],
          "scatterternary": [
           {
            "marker": {
             "colorbar": {
              "outlinewidth": 0,
              "ticks": ""
             }
            },
            "type": "scatterternary"
           }
          ],
          "surface": [
           {
            "colorbar": {
             "outlinewidth": 0,
             "ticks": ""
            },
            "colorscale": [
             [
              0,
              "#0d0887"
             ],
             [
              0.1111111111111111,
              "#46039f"
             ],
             [
              0.2222222222222222,
              "#7201a8"
             ],
             [
              0.3333333333333333,
              "#9c179e"
             ],
             [
              0.4444444444444444,
              "#bd3786"
             ],
             [
              0.5555555555555556,
              "#d8576b"
             ],
             [
              0.6666666666666666,
              "#ed7953"
             ],
             [
              0.7777777777777778,
              "#fb9f3a"
             ],
             [
              0.8888888888888888,
              "#fdca26"
             ],
             [
              1,
              "#f0f921"
             ]
            ],
            "type": "surface"
           }
          ],
          "table": [
           {
            "cells": {
             "fill": {
              "color": "#506784"
             },
             "line": {
              "color": "rgb(17,17,17)"
             }
            },
            "header": {
             "fill": {
              "color": "#2a3f5f"
             },
             "line": {
              "color": "rgb(17,17,17)"
             }
            },
            "type": "table"
           }
          ]
         },
         "layout": {
          "annotationdefaults": {
           "arrowcolor": "#f2f5fa",
           "arrowhead": 0,
           "arrowwidth": 1
          },
          "autotypenumbers": "strict",
          "coloraxis": {
           "colorbar": {
            "outlinewidth": 0,
            "ticks": ""
           }
          },
          "colorscale": {
           "diverging": [
            [
             0,
             "#8e0152"
            ],
            [
             0.1,
             "#c51b7d"
            ],
            [
             0.2,
             "#de77ae"
            ],
            [
             0.3,
             "#f1b6da"
            ],
            [
             0.4,
             "#fde0ef"
            ],
            [
             0.5,
             "#f7f7f7"
            ],
            [
             0.6,
             "#e6f5d0"
            ],
            [
             0.7,
             "#b8e186"
            ],
            [
             0.8,
             "#7fbc41"
            ],
            [
             0.9,
             "#4d9221"
            ],
            [
             1,
             "#276419"
            ]
           ],
           "sequential": [
            [
             0,
             "#0d0887"
            ],
            [
             0.1111111111111111,
             "#46039f"
            ],
            [
             0.2222222222222222,
             "#7201a8"
            ],
            [
             0.3333333333333333,
             "#9c179e"
            ],
            [
             0.4444444444444444,
             "#bd3786"
            ],
            [
             0.5555555555555556,
             "#d8576b"
            ],
            [
             0.6666666666666666,
             "#ed7953"
            ],
            [
             0.7777777777777778,
             "#fb9f3a"
            ],
            [
             0.8888888888888888,
             "#fdca26"
            ],
            [
             1,
             "#f0f921"
            ]
           ],
           "sequentialminus": [
            [
             0,
             "#0d0887"
            ],
            [
             0.1111111111111111,
             "#46039f"
            ],
            [
             0.2222222222222222,
             "#7201a8"
            ],
            [
             0.3333333333333333,
             "#9c179e"
            ],
            [
             0.4444444444444444,
             "#bd3786"
            ],
            [
             0.5555555555555556,
             "#d8576b"
            ],
            [
             0.6666666666666666,
             "#ed7953"
            ],
            [
             0.7777777777777778,
             "#fb9f3a"
            ],
            [
             0.8888888888888888,
             "#fdca26"
            ],
            [
             1,
             "#f0f921"
            ]
           ]
          },
          "colorway": [
           "#636efa",
           "#EF553B",
           "#00cc96",
           "#ab63fa",
           "#FFA15A",
           "#19d3f3",
           "#FF6692",
           "#B6E880",
           "#FF97FF",
           "#FECB52"
          ],
          "font": {
           "color": "#f2f5fa"
          },
          "geo": {
           "bgcolor": "rgb(17,17,17)",
           "lakecolor": "rgb(17,17,17)",
           "landcolor": "rgb(17,17,17)",
           "showlakes": true,
           "showland": true,
           "subunitcolor": "#506784"
          },
          "hoverlabel": {
           "align": "left"
          },
          "hovermode": "closest",
          "mapbox": {
           "style": "dark"
          },
          "paper_bgcolor": "rgb(17,17,17)",
          "plot_bgcolor": "rgb(17,17,17)",
          "polar": {
           "angularaxis": {
            "gridcolor": "#506784",
            "linecolor": "#506784",
            "ticks": ""
           },
           "bgcolor": "rgb(17,17,17)",
           "radialaxis": {
            "gridcolor": "#506784",
            "linecolor": "#506784",
            "ticks": ""
           }
          },
          "scene": {
           "xaxis": {
            "backgroundcolor": "rgb(17,17,17)",
            "gridcolor": "#506784",
            "gridwidth": 2,
            "linecolor": "#506784",
            "showbackground": true,
            "ticks": "",
            "zerolinecolor": "#C8D4E3"
           },
           "yaxis": {
            "backgroundcolor": "rgb(17,17,17)",
            "gridcolor": "#506784",
            "gridwidth": 2,
            "linecolor": "#506784",
            "showbackground": true,
            "ticks": "",
            "zerolinecolor": "#C8D4E3"
           },
           "zaxis": {
            "backgroundcolor": "rgb(17,17,17)",
            "gridcolor": "#506784",
            "gridwidth": 2,
            "linecolor": "#506784",
            "showbackground": true,
            "ticks": "",
            "zerolinecolor": "#C8D4E3"
           }
          },
          "shapedefaults": {
           "line": {
            "color": "#f2f5fa"
           }
          },
          "sliderdefaults": {
           "bgcolor": "#C8D4E3",
           "bordercolor": "rgb(17,17,17)",
           "borderwidth": 1,
           "tickwidth": 0
          },
          "ternary": {
           "aaxis": {
            "gridcolor": "#506784",
            "linecolor": "#506784",
            "ticks": ""
           },
           "baxis": {
            "gridcolor": "#506784",
            "linecolor": "#506784",
            "ticks": ""
           },
           "bgcolor": "rgb(17,17,17)",
           "caxis": {
            "gridcolor": "#506784",
            "linecolor": "#506784",
            "ticks": ""
           }
          },
          "title": {
           "x": 0.05
          },
          "updatemenudefaults": {
           "bgcolor": "#506784",
           "borderwidth": 0
          },
          "xaxis": {
           "automargin": true,
           "gridcolor": "#283442",
           "linecolor": "#506784",
           "ticks": "",
           "title": {
            "standoff": 15
           },
           "zerolinecolor": "#283442",
           "zerolinewidth": 2
          },
          "yaxis": {
           "automargin": true,
           "gridcolor": "#283442",
           "linecolor": "#506784",
           "ticks": "",
           "title": {
            "standoff": 15
           },
           "zerolinecolor": "#283442",
           "zerolinewidth": 2
          }
         }
        },
        "title": {
         "text": "Return on Capital Employed (ROCE) by Sector"
        },
        "xaxis": {
         "title": {
          "text": "Sector"
         }
        },
        "yaxis": {
         "title": {
          "text": "ROCE (%)"
         }
        }
       }
      }
     },
     "metadata": {},
     "output_type": "display_data"
    }
   ],
   "source": [
    "sector_means = sector_means.sort_values(by=['roce'], ascending=True)\n",
    "\n",
    "fig_roce = go.Figure()\n",
    "fig_roce.add_trace(go.Bar(x=sector_means.index, y=sector_means['roce'], name='ROCE', marker_color='rgb(100, 195, 181)',text=sector_means['roce'].apply(lambda x: f'{x:.2f}%'), textposition='outside', textfont=dict(color='white')))\n",
    "fig_roce.update_layout(height=550, title='Return on Capital Employed (ROCE) by Sector', xaxis_title='Sector', yaxis_title='ROCE (%)', template='plotly_dark')\n",
    "fig_roce.show()"
   ]
  },
  {
   "cell_type": "markdown",
   "metadata": {},
   "source": [
    "**Negative Returns**\n",
    "- **`Energy`*: With a ROCE of -0.62%, the sector indicates a loss on the capital employed on average. Factors could be volatile commodity prices, large capital investments not yet yielding returns, or inefficient operations.\n",
    "\n",
    "- **`Real Estate`*: A ROCE of -0.06% suggests the real estate sector is also earning a negative return on capital, possibly due to a down market, high financing costs, or slower property appreciation rates.\n",
    "\n",
    "**Break-even Performance**\n",
    "- **`Consumer Cyclical`*: At a ROCE of 0.00%, companies in this sector are breaking even in terms of capital employed profitability, reflecting the sector's sensitivity to economic cycles.\n",
    "\n",
    "**Modest Positive Returns**\n",
    "- **`Communication Services`*: With a positive ROCE of 0.07%, this sector is generating a small but positive return on invested capital, covering a diverse range of companies in telecommunications and media.\n",
    "\n",
    "- **`Healthcare`*: Exhibiting a ROCE of 0.08%, the healthcare sector achieves a slightly positive return, indicating demand stability for health services and products despite high entry barriers and significant technology and research investments.\n",
    "\n",
    "**Reasonable Efficiency**\n",
    "- **`Industrials`*: A ROCE of 0.10% suggests reasonable capital use efficiency within a diverse sector encompassing construction, machinery, transportation, and more.\n",
    "\n",
    "**Above Average Performance**\n",
    "- **`Consumer Defensive` and `Technology`*: Both sectors show a ROCE of 0.12%. Consumer Defensive typically includes less economically sensitive companies like food and beverages, while Technology balances rapid innovation and growth against significant risks and capital investments.\n",
    "\n",
    "- **`Utilities`*: A ROCE of 0.14% indicates above-average performance for utilities, which often operate under regulatory frameworks ensuring certain return levels.\n",
    "\n",
    "**Leading Sectors**\n",
    "\n",
    "- **`Financial Services` and `Basic Materials`**: Leading with a ROCE of 0.15%, Financial Services include high-leverage and capital-efficient businesses like banks and insurance, while Basic Materials may benefit from favorable market prices or efficient operations.\n",
    "\n",
    "\n",
    "The chart shows that ROCE, an indicator of the efficiency with which capital is employed, varies across sectors. The energy sector has the lowest return, indicating challenges in generating profit from the capital used. In contrast, the basic materials, financial services, and utilities sectors lead with the highest ROCE, showing more effective capital management. The other sectors fall between these extremes, with returns ranging from slightly negative to moderately positive."
   ]
  },
  {
   "cell_type": "markdown",
   "metadata": {},
   "source": [
    "#### Debt Analysis by Sector"
   ]
  },
  {
   "cell_type": "code",
   "execution_count": 18,
   "metadata": {},
   "outputs": [
    {
     "data": {
      "application/vnd.plotly.v1+json": {
       "config": {
        "plotlyServerURL": "https://plot.ly"
       },
       "data": [
        {
         "marker": {
          "color": "rgb(100, 195, 181)"
         },
         "name": "Debt/EBITDA Ratio",
         "text": [
          "R$ 1.09",
          "R$ 2.09",
          "R$ 2.28",
          "R$ 3.50",
          "R$ 4.34",
          "R$ 4.51",
          "R$ 5.07",
          "R$ 5.27",
          "R$ 5.89",
          "R$ 6.07",
          "R$ 224.70"
         ],
         "textfont": {
          "color": "white"
         },
         "textposition": "outside",
         "type": "bar",
         "x": [
          "Energy",
          "Basic Materials",
          "Technology",
          "Utilities",
          "Healthcare",
          "Consumer Defensive",
          "Industrials",
          "Communication Services",
          "Real Estate",
          "Consumer Cyclical",
          "Financial Services"
         ],
         "xaxis": "x",
         "y": [
          1.0866014226850507,
          2.0931796911618075,
          2.2796765430999124,
          3.497667443477453,
          4.343195024707929,
          4.506833603054438,
          5.066713658762566,
          5.270663484819079,
          5.894092416001464,
          6.0692299497305875,
          224.69762372952675
         ],
         "yaxis": "y"
        },
        {
         "marker": {
          "color": "rgb(100, 195, 181)"
         },
         "name": "Debt/Equity Ratio",
         "text": [
          "R$ -348,021,372.87",
          "R$ -19,074,066.41",
          "R$ 13,038,292.98",
          "R$ 350,146,740.16",
          "R$ 377,696,184.76",
          "R$ 720,574,425.15",
          "R$ 735,778,874.33",
          "R$ 962,523,154.85",
          "R$ 2,453,404,192.52",
          "R$ 5,240,302,297.02",
          "R$ 149,421,020,783.51"
         ],
         "textfont": {
          "color": "white"
         },
         "textposition": "outside",
         "type": "bar",
         "x": [
          "Energy",
          "Consumer Cyclical",
          "Real Estate",
          "Healthcare",
          "Technology",
          "Utilities",
          "Basic Materials",
          "Consumer Defensive",
          "Industrials",
          "Financial Services",
          "Communication Services"
         ],
         "xaxis": "x2",
         "y": [
          -348021372.8721164,
          -19074066.406440504,
          13038292.98067224,
          350146740.16264087,
          377696184.76131564,
          720574425.1520507,
          735778874.3341051,
          962523154.8452682,
          2453404192.5179353,
          5240302297.016477,
          149421020783.50644
         ],
         "yaxis": "y2"
        }
       ],
       "layout": {
        "annotations": [
         {
          "font": {
           "size": 16
          },
          "showarrow": false,
          "text": "Debt/EBITDA by Sector",
          "x": 0.5,
          "xanchor": "center",
          "xref": "paper",
          "y": 1,
          "yanchor": "bottom",
          "yref": "paper"
         },
         {
          "font": {
           "size": 16
          },
          "showarrow": false,
          "text": "Debt/Equity by Sector",
          "x": 0.5,
          "xanchor": "center",
          "xref": "paper",
          "y": 0.375,
          "yanchor": "bottom",
          "yref": "paper"
         }
        ],
        "height": 1100,
        "showlegend": false,
        "template": {
         "data": {
          "bar": [
           {
            "error_x": {
             "color": "#f2f5fa"
            },
            "error_y": {
             "color": "#f2f5fa"
            },
            "marker": {
             "line": {
              "color": "rgb(17,17,17)",
              "width": 0.5
             },
             "pattern": {
              "fillmode": "overlay",
              "size": 10,
              "solidity": 0.2
             }
            },
            "type": "bar"
           }
          ],
          "barpolar": [
           {
            "marker": {
             "line": {
              "color": "rgb(17,17,17)",
              "width": 0.5
             },
             "pattern": {
              "fillmode": "overlay",
              "size": 10,
              "solidity": 0.2
             }
            },
            "type": "barpolar"
           }
          ],
          "carpet": [
           {
            "aaxis": {
             "endlinecolor": "#A2B1C6",
             "gridcolor": "#506784",
             "linecolor": "#506784",
             "minorgridcolor": "#506784",
             "startlinecolor": "#A2B1C6"
            },
            "baxis": {
             "endlinecolor": "#A2B1C6",
             "gridcolor": "#506784",
             "linecolor": "#506784",
             "minorgridcolor": "#506784",
             "startlinecolor": "#A2B1C6"
            },
            "type": "carpet"
           }
          ],
          "choropleth": [
           {
            "colorbar": {
             "outlinewidth": 0,
             "ticks": ""
            },
            "type": "choropleth"
           }
          ],
          "contour": [
           {
            "colorbar": {
             "outlinewidth": 0,
             "ticks": ""
            },
            "colorscale": [
             [
              0,
              "#0d0887"
             ],
             [
              0.1111111111111111,
              "#46039f"
             ],
             [
              0.2222222222222222,
              "#7201a8"
             ],
             [
              0.3333333333333333,
              "#9c179e"
             ],
             [
              0.4444444444444444,
              "#bd3786"
             ],
             [
              0.5555555555555556,
              "#d8576b"
             ],
             [
              0.6666666666666666,
              "#ed7953"
             ],
             [
              0.7777777777777778,
              "#fb9f3a"
             ],
             [
              0.8888888888888888,
              "#fdca26"
             ],
             [
              1,
              "#f0f921"
             ]
            ],
            "type": "contour"
           }
          ],
          "contourcarpet": [
           {
            "colorbar": {
             "outlinewidth": 0,
             "ticks": ""
            },
            "type": "contourcarpet"
           }
          ],
          "heatmap": [
           {
            "colorbar": {
             "outlinewidth": 0,
             "ticks": ""
            },
            "colorscale": [
             [
              0,
              "#0d0887"
             ],
             [
              0.1111111111111111,
              "#46039f"
             ],
             [
              0.2222222222222222,
              "#7201a8"
             ],
             [
              0.3333333333333333,
              "#9c179e"
             ],
             [
              0.4444444444444444,
              "#bd3786"
             ],
             [
              0.5555555555555556,
              "#d8576b"
             ],
             [
              0.6666666666666666,
              "#ed7953"
             ],
             [
              0.7777777777777778,
              "#fb9f3a"
             ],
             [
              0.8888888888888888,
              "#fdca26"
             ],
             [
              1,
              "#f0f921"
             ]
            ],
            "type": "heatmap"
           }
          ],
          "heatmapgl": [
           {
            "colorbar": {
             "outlinewidth": 0,
             "ticks": ""
            },
            "colorscale": [
             [
              0,
              "#0d0887"
             ],
             [
              0.1111111111111111,
              "#46039f"
             ],
             [
              0.2222222222222222,
              "#7201a8"
             ],
             [
              0.3333333333333333,
              "#9c179e"
             ],
             [
              0.4444444444444444,
              "#bd3786"
             ],
             [
              0.5555555555555556,
              "#d8576b"
             ],
             [
              0.6666666666666666,
              "#ed7953"
             ],
             [
              0.7777777777777778,
              "#fb9f3a"
             ],
             [
              0.8888888888888888,
              "#fdca26"
             ],
             [
              1,
              "#f0f921"
             ]
            ],
            "type": "heatmapgl"
           }
          ],
          "histogram": [
           {
            "marker": {
             "pattern": {
              "fillmode": "overlay",
              "size": 10,
              "solidity": 0.2
             }
            },
            "type": "histogram"
           }
          ],
          "histogram2d": [
           {
            "colorbar": {
             "outlinewidth": 0,
             "ticks": ""
            },
            "colorscale": [
             [
              0,
              "#0d0887"
             ],
             [
              0.1111111111111111,
              "#46039f"
             ],
             [
              0.2222222222222222,
              "#7201a8"
             ],
             [
              0.3333333333333333,
              "#9c179e"
             ],
             [
              0.4444444444444444,
              "#bd3786"
             ],
             [
              0.5555555555555556,
              "#d8576b"
             ],
             [
              0.6666666666666666,
              "#ed7953"
             ],
             [
              0.7777777777777778,
              "#fb9f3a"
             ],
             [
              0.8888888888888888,
              "#fdca26"
             ],
             [
              1,
              "#f0f921"
             ]
            ],
            "type": "histogram2d"
           }
          ],
          "histogram2dcontour": [
           {
            "colorbar": {
             "outlinewidth": 0,
             "ticks": ""
            },
            "colorscale": [
             [
              0,
              "#0d0887"
             ],
             [
              0.1111111111111111,
              "#46039f"
             ],
             [
              0.2222222222222222,
              "#7201a8"
             ],
             [
              0.3333333333333333,
              "#9c179e"
             ],
             [
              0.4444444444444444,
              "#bd3786"
             ],
             [
              0.5555555555555556,
              "#d8576b"
             ],
             [
              0.6666666666666666,
              "#ed7953"
             ],
             [
              0.7777777777777778,
              "#fb9f3a"
             ],
             [
              0.8888888888888888,
              "#fdca26"
             ],
             [
              1,
              "#f0f921"
             ]
            ],
            "type": "histogram2dcontour"
           }
          ],
          "mesh3d": [
           {
            "colorbar": {
             "outlinewidth": 0,
             "ticks": ""
            },
            "type": "mesh3d"
           }
          ],
          "parcoords": [
           {
            "line": {
             "colorbar": {
              "outlinewidth": 0,
              "ticks": ""
             }
            },
            "type": "parcoords"
           }
          ],
          "pie": [
           {
            "automargin": true,
            "type": "pie"
           }
          ],
          "scatter": [
           {
            "marker": {
             "line": {
              "color": "#283442"
             }
            },
            "type": "scatter"
           }
          ],
          "scatter3d": [
           {
            "line": {
             "colorbar": {
              "outlinewidth": 0,
              "ticks": ""
             }
            },
            "marker": {
             "colorbar": {
              "outlinewidth": 0,
              "ticks": ""
             }
            },
            "type": "scatter3d"
           }
          ],
          "scattercarpet": [
           {
            "marker": {
             "colorbar": {
              "outlinewidth": 0,
              "ticks": ""
             }
            },
            "type": "scattercarpet"
           }
          ],
          "scattergeo": [
           {
            "marker": {
             "colorbar": {
              "outlinewidth": 0,
              "ticks": ""
             }
            },
            "type": "scattergeo"
           }
          ],
          "scattergl": [
           {
            "marker": {
             "line": {
              "color": "#283442"
             }
            },
            "type": "scattergl"
           }
          ],
          "scattermapbox": [
           {
            "marker": {
             "colorbar": {
              "outlinewidth": 0,
              "ticks": ""
             }
            },
            "type": "scattermapbox"
           }
          ],
          "scatterpolar": [
           {
            "marker": {
             "colorbar": {
              "outlinewidth": 0,
              "ticks": ""
             }
            },
            "type": "scatterpolar"
           }
          ],
          "scatterpolargl": [
           {
            "marker": {
             "colorbar": {
              "outlinewidth": 0,
              "ticks": ""
             }
            },
            "type": "scatterpolargl"
           }
          ],
          "scatterternary": [
           {
            "marker": {
             "colorbar": {
              "outlinewidth": 0,
              "ticks": ""
             }
            },
            "type": "scatterternary"
           }
          ],
          "surface": [
           {
            "colorbar": {
             "outlinewidth": 0,
             "ticks": ""
            },
            "colorscale": [
             [
              0,
              "#0d0887"
             ],
             [
              0.1111111111111111,
              "#46039f"
             ],
             [
              0.2222222222222222,
              "#7201a8"
             ],
             [
              0.3333333333333333,
              "#9c179e"
             ],
             [
              0.4444444444444444,
              "#bd3786"
             ],
             [
              0.5555555555555556,
              "#d8576b"
             ],
             [
              0.6666666666666666,
              "#ed7953"
             ],
             [
              0.7777777777777778,
              "#fb9f3a"
             ],
             [
              0.8888888888888888,
              "#fdca26"
             ],
             [
              1,
              "#f0f921"
             ]
            ],
            "type": "surface"
           }
          ],
          "table": [
           {
            "cells": {
             "fill": {
              "color": "#506784"
             },
             "line": {
              "color": "rgb(17,17,17)"
             }
            },
            "header": {
             "fill": {
              "color": "#2a3f5f"
             },
             "line": {
              "color": "rgb(17,17,17)"
             }
            },
            "type": "table"
           }
          ]
         },
         "layout": {
          "annotationdefaults": {
           "arrowcolor": "#f2f5fa",
           "arrowhead": 0,
           "arrowwidth": 1
          },
          "autotypenumbers": "strict",
          "coloraxis": {
           "colorbar": {
            "outlinewidth": 0,
            "ticks": ""
           }
          },
          "colorscale": {
           "diverging": [
            [
             0,
             "#8e0152"
            ],
            [
             0.1,
             "#c51b7d"
            ],
            [
             0.2,
             "#de77ae"
            ],
            [
             0.3,
             "#f1b6da"
            ],
            [
             0.4,
             "#fde0ef"
            ],
            [
             0.5,
             "#f7f7f7"
            ],
            [
             0.6,
             "#e6f5d0"
            ],
            [
             0.7,
             "#b8e186"
            ],
            [
             0.8,
             "#7fbc41"
            ],
            [
             0.9,
             "#4d9221"
            ],
            [
             1,
             "#276419"
            ]
           ],
           "sequential": [
            [
             0,
             "#0d0887"
            ],
            [
             0.1111111111111111,
             "#46039f"
            ],
            [
             0.2222222222222222,
             "#7201a8"
            ],
            [
             0.3333333333333333,
             "#9c179e"
            ],
            [
             0.4444444444444444,
             "#bd3786"
            ],
            [
             0.5555555555555556,
             "#d8576b"
            ],
            [
             0.6666666666666666,
             "#ed7953"
            ],
            [
             0.7777777777777778,
             "#fb9f3a"
            ],
            [
             0.8888888888888888,
             "#fdca26"
            ],
            [
             1,
             "#f0f921"
            ]
           ],
           "sequentialminus": [
            [
             0,
             "#0d0887"
            ],
            [
             0.1111111111111111,
             "#46039f"
            ],
            [
             0.2222222222222222,
             "#7201a8"
            ],
            [
             0.3333333333333333,
             "#9c179e"
            ],
            [
             0.4444444444444444,
             "#bd3786"
            ],
            [
             0.5555555555555556,
             "#d8576b"
            ],
            [
             0.6666666666666666,
             "#ed7953"
            ],
            [
             0.7777777777777778,
             "#fb9f3a"
            ],
            [
             0.8888888888888888,
             "#fdca26"
            ],
            [
             1,
             "#f0f921"
            ]
           ]
          },
          "colorway": [
           "#636efa",
           "#EF553B",
           "#00cc96",
           "#ab63fa",
           "#FFA15A",
           "#19d3f3",
           "#FF6692",
           "#B6E880",
           "#FF97FF",
           "#FECB52"
          ],
          "font": {
           "color": "#f2f5fa"
          },
          "geo": {
           "bgcolor": "rgb(17,17,17)",
           "lakecolor": "rgb(17,17,17)",
           "landcolor": "rgb(17,17,17)",
           "showlakes": true,
           "showland": true,
           "subunitcolor": "#506784"
          },
          "hoverlabel": {
           "align": "left"
          },
          "hovermode": "closest",
          "mapbox": {
           "style": "dark"
          },
          "paper_bgcolor": "rgb(17,17,17)",
          "plot_bgcolor": "rgb(17,17,17)",
          "polar": {
           "angularaxis": {
            "gridcolor": "#506784",
            "linecolor": "#506784",
            "ticks": ""
           },
           "bgcolor": "rgb(17,17,17)",
           "radialaxis": {
            "gridcolor": "#506784",
            "linecolor": "#506784",
            "ticks": ""
           }
          },
          "scene": {
           "xaxis": {
            "backgroundcolor": "rgb(17,17,17)",
            "gridcolor": "#506784",
            "gridwidth": 2,
            "linecolor": "#506784",
            "showbackground": true,
            "ticks": "",
            "zerolinecolor": "#C8D4E3"
           },
           "yaxis": {
            "backgroundcolor": "rgb(17,17,17)",
            "gridcolor": "#506784",
            "gridwidth": 2,
            "linecolor": "#506784",
            "showbackground": true,
            "ticks": "",
            "zerolinecolor": "#C8D4E3"
           },
           "zaxis": {
            "backgroundcolor": "rgb(17,17,17)",
            "gridcolor": "#506784",
            "gridwidth": 2,
            "linecolor": "#506784",
            "showbackground": true,
            "ticks": "",
            "zerolinecolor": "#C8D4E3"
           }
          },
          "shapedefaults": {
           "line": {
            "color": "#f2f5fa"
           }
          },
          "sliderdefaults": {
           "bgcolor": "#C8D4E3",
           "bordercolor": "rgb(17,17,17)",
           "borderwidth": 1,
           "tickwidth": 0
          },
          "ternary": {
           "aaxis": {
            "gridcolor": "#506784",
            "linecolor": "#506784",
            "ticks": ""
           },
           "baxis": {
            "gridcolor": "#506784",
            "linecolor": "#506784",
            "ticks": ""
           },
           "bgcolor": "rgb(17,17,17)",
           "caxis": {
            "gridcolor": "#506784",
            "linecolor": "#506784",
            "ticks": ""
           }
          },
          "title": {
           "x": 0.05
          },
          "updatemenudefaults": {
           "bgcolor": "#506784",
           "borderwidth": 0
          },
          "xaxis": {
           "automargin": true,
           "gridcolor": "#283442",
           "linecolor": "#506784",
           "ticks": "",
           "title": {
            "standoff": 15
           },
           "zerolinecolor": "#283442",
           "zerolinewidth": 2
          },
          "yaxis": {
           "automargin": true,
           "gridcolor": "#283442",
           "linecolor": "#506784",
           "ticks": "",
           "title": {
            "standoff": 15
           },
           "zerolinecolor": "#283442",
           "zerolinewidth": 2
          }
         }
        },
        "title": {
         "text": "Sector Debt Analysis"
        },
        "xaxis": {
         "anchor": "y",
         "domain": [
          0,
          1
         ]
        },
        "xaxis2": {
         "anchor": "y2",
         "domain": [
          0,
          1
         ]
        },
        "yaxis": {
         "anchor": "x",
         "domain": [
          0.625,
          1
         ]
        },
        "yaxis2": {
         "anchor": "x2",
         "domain": [
          0,
          0.375
         ]
        }
       }
      }
     },
     "metadata": {},
     "output_type": "display_data"
    }
   ],
   "source": [
    "df = pd.DataFrame()\n",
    "df['total_debt'] = pd.to_numeric(df_fundamentals_book['total_debt'], errors='coerce')\n",
    "df['ebitda'] = pd.to_numeric(df_fundamentals_book['ebitda'], errors='coerce')\n",
    "df['total_equity'] = pd.to_numeric(df_fundamentals_book['book_value'], errors='coerce')\n",
    "\n",
    "sector_debt_ebitda = df.groupby(df_fundamentals_book['sector'])['total_debt'].sum() / df.groupby(df_fundamentals_book['sector'])['ebitda'].sum()\n",
    "sector_debt_ebitda.sort_values(ascending=True, inplace=True)\n",
    "sector_debt_equity = df.groupby(df_fundamentals_book['sector'])['total_debt'].sum() / df.groupby(df_fundamentals_book['sector'])['total_equity'].sum()\n",
    "sector_debt_equity.sort_values(ascending=True, inplace=True)\n",
    "\n",
    "fig = sp.make_subplots(rows=2, cols=1, subplot_titles=('Debt/EBITDA by Sector', 'Debt/Equity by Sector'))\n",
    "\n",
    "fig.add_trace(go.Bar(x=sector_debt_ebitda.index, y=sector_debt_ebitda, name='Debt/EBITDA Ratio', marker_color='rgb(100, 195, 181)', text=['R$ {:,.2f}'.format(val) for val in sector_debt_ebitda], textposition='outside', textfont=dict(color='white')), row=1, col=1)\n",
    "fig.add_trace(go.Bar(x=sector_debt_equity.index, y=sector_debt_equity, name='Debt/Equity Ratio', marker_color='rgb(100, 195, 181)', text=['R$ {:,.2f}'.format(val) for val in sector_debt_equity], textposition='outside', textfont=dict(color='white')), row=2, col=1)\n",
    "\n",
    "fig.update_layout(title_text='Sector Debt Analysis', height=1100, showlegend=False, template='plotly_dark')\n",
    "fig.show()\n"
   ]
  },
  {
   "cell_type": "markdown",
   "metadata": {},
   "source": [
    "**Debt/EBITDA by Sector**\n",
    "\n",
    "- **`Energy`**: With a debt/EBITDA ratio of **1.09**, suggests being the least leveraged sector, indicating a lower dependence on debt relative to operational earnings.\n",
    "- **`Basic Materials`**: A debt/EBITDA ratio of **2.09**, which shows a moderate use of financial leverage in relation to the operational cash generation capacity.\n",
    "- **`Technology`**: Presents a ratio of **2.28**, which may indicate a healthy balance between the use of debt and the generation of EBITDA.\n",
    "- **`Utilities`**: With a ratio of **3.50**, this sector may be utilizing a moderate to high level of debt in its capital structure.\n",
    "- **`Healthcare`**: Records a ratio of **4.34**, possibly reflecting a greater leverage to finance operations and investments in the sector.\n",
    "- **`Consumer Defensive`**: The ratio of **4.51** suggests a considerable use of debt compared with the EBITDA generated by the sector.\n",
    "- **`Industrials`**: With a ratio of **5.07**, indicates that the sector may be relying on a relatively high level of debt for its operations.\n",
    "- **`Communication Services`**: A ratio of **5.27** could demonstrate a significant dependence on debt financing relative to operational profit generation.\n",
    "- **`Real Estate`**: Has a debt/EBITDA ratio of **5.89**, which is common for the sector given the high investment cost in properties.\n",
    "- **`Consumer Cyclical`**: With a ratio of **6.07**, may suggest a growth strategy supported by higher levels of debt.\n",
    "- **`Financial Services`**: Shows an anomalously high ratio of **224.70**, highlighting an extremely leveraged capital structure that is typical for this sector, where debt is a central instrument for banking and financial operations.\n",
    "\n",
    "\n",
    "The chart presents the debt-to-EBITDA ratio by sector, where sectors such as energy have low leverage (1.09) and financial services have extremely high leverage (224.70), indicating contrasting approaches in debt management and operations."
   ]
  },
  {
   "cell_type": "markdown",
   "metadata": {},
   "source": [
    "**Debt/Equity by Sector**\n",
    "\n",
    "- **`Energy`**: Possesses a negative value of R$ -348,021,372.87, which may suggest the sector has more equity than debt or that significant amortization has been applied.\n",
    "- **`Consumer Cyclical`**: Shows a debt-to-equity balance of R$ -19,074,066.41, indicating more equity than debt.\n",
    "- **`Real Estate`**: Displays R$ 13,038,292.98, pointing to a moderate level of debt in relation to equity.\n",
    "- **`Healthcare`**: With a figure of R$ 350,146,740.16, demonstrates a substantial use of debt compared to equity.\n",
    "- **`Technology`**: Carries a balance of R$ 377,696,184.76, indicating a considerable reliance on debt.\n",
    "- **`Utilities`**: Debt over equity stands at R$ 720,574,425.15, showing significant financial leverage.\n",
    "- **`Basic Materials`**: Has a level of indebtedness of R$ 735,778,874.33 over equity.\n",
    "- **`Consumer Defensive`**: Presents R$ 962,523,154.85, signaling high indebtedness compared to equity.\n",
    "- **`Industrials`**: With R$ 2,453,404,192.52, suggests a heavy use of debt.\n",
    "- **`Financial Services`**: With R$ 5,240,302,297.02, is one of the sectors with a high debt-to-equity ratio.\n",
    "- **`Communication Services`**: Has the highest balance of R$ 149,421,020,783.51, indicating very high leverage against equity.\n",
    "\n",
    "These numbers show the diverse capital structure across sectors, with some sectors operating with much higher debt levels relative to their equity.\n"
   ]
  },
  {
   "cell_type": "markdown",
   "metadata": {},
   "source": [
    "#### Dividend Distribution by Sector"
   ]
  },
  {
   "cell_type": "code",
   "execution_count": 19,
   "metadata": {},
   "outputs": [
    {
     "data": {
      "application/vnd.plotly.v1+json": {
       "config": {
        "plotlyServerURL": "https://plot.ly"
       },
       "data": [
        {
         "marker": {
          "color": "rgb(100, 195, 181)"
         },
         "name": "Dividend Rate",
         "text": [
          "R$0.22",
          "R$0.33",
          "R$0.41",
          "R$0.80",
          "R$0.85",
          "R$1.05",
          "R$1.71",
          "R$1.97",
          "R$2.41",
          "R$3.44",
          "R$381.78"
         ],
         "textfont": {
          "color": "white"
         },
         "textposition": "outside",
         "type": "bar",
         "x": [
          "Healthcare",
          "Technology",
          "Communication Services",
          "Consumer Defensive",
          "Industrials",
          "Financial Services",
          "Consumer Cyclical",
          "Energy",
          "Utilities",
          "Basic Materials",
          "Real Estate"
         ],
         "xaxis": "x",
         "y": [
          0.22076923076923077,
          0.325,
          0.41428571428571426,
          0.8042857142857143,
          0.8545833333333334,
          1.0474999999999999,
          1.7069811320754718,
          1.9722222222222223,
          2.4106521739130433,
          3.4379310344827587,
          381.78190476190474
         ],
         "yaxis": "y"
        },
        {
         "marker": {
          "color": "rgb(100, 195, 181)"
         },
         "name": "Dividend Yield",
         "text": [
          "0.01%",
          "0.02%",
          "0.02%",
          "0.02%",
          "0.03%",
          "0.03%",
          "0.03%",
          "0.05%",
          "0.06%",
          "0.06%",
          "0.08%"
         ],
         "textfont": {
          "color": "white"
         },
         "textposition": "outside",
         "type": "bar",
         "x": [
          "Healthcare",
          "Real Estate",
          "Consumer Cyclical",
          "Industrials",
          "Consumer Defensive",
          "Communication Services",
          "Financial Services",
          "Technology",
          "Utilities",
          "Energy",
          "Basic Materials"
         ],
         "xaxis": "x2",
         "y": [
          0.014683639923076922,
          0.015632698142857143,
          0.023519790264150946,
          0.02371190354375,
          0.02561596380952381,
          0.029061077714285715,
          0.031556829075,
          0.045513698375,
          0.05507565241956522,
          0.06310602144444445,
          0.07721044314137931
         ],
         "yaxis": "y2"
        }
       ],
       "layout": {
        "annotations": [
         {
          "font": {
           "size": 16
          },
          "showarrow": false,
          "text": "Average Dividend Yield by Sector",
          "x": 0.5,
          "xanchor": "center",
          "xref": "paper",
          "y": 1,
          "yanchor": "bottom",
          "yref": "paper"
         },
         {
          "font": {
           "size": 16
          },
          "showarrow": false,
          "text": "Average Dividend Yield by Sector",
          "x": 0.5,
          "xanchor": "center",
          "xref": "paper",
          "y": 0.375,
          "yanchor": "bottom",
          "yref": "paper"
         }
        ],
        "height": 1000,
        "showlegend": false,
        "template": {
         "data": {
          "bar": [
           {
            "error_x": {
             "color": "#f2f5fa"
            },
            "error_y": {
             "color": "#f2f5fa"
            },
            "marker": {
             "line": {
              "color": "rgb(17,17,17)",
              "width": 0.5
             },
             "pattern": {
              "fillmode": "overlay",
              "size": 10,
              "solidity": 0.2
             }
            },
            "type": "bar"
           }
          ],
          "barpolar": [
           {
            "marker": {
             "line": {
              "color": "rgb(17,17,17)",
              "width": 0.5
             },
             "pattern": {
              "fillmode": "overlay",
              "size": 10,
              "solidity": 0.2
             }
            },
            "type": "barpolar"
           }
          ],
          "carpet": [
           {
            "aaxis": {
             "endlinecolor": "#A2B1C6",
             "gridcolor": "#506784",
             "linecolor": "#506784",
             "minorgridcolor": "#506784",
             "startlinecolor": "#A2B1C6"
            },
            "baxis": {
             "endlinecolor": "#A2B1C6",
             "gridcolor": "#506784",
             "linecolor": "#506784",
             "minorgridcolor": "#506784",
             "startlinecolor": "#A2B1C6"
            },
            "type": "carpet"
           }
          ],
          "choropleth": [
           {
            "colorbar": {
             "outlinewidth": 0,
             "ticks": ""
            },
            "type": "choropleth"
           }
          ],
          "contour": [
           {
            "colorbar": {
             "outlinewidth": 0,
             "ticks": ""
            },
            "colorscale": [
             [
              0,
              "#0d0887"
             ],
             [
              0.1111111111111111,
              "#46039f"
             ],
             [
              0.2222222222222222,
              "#7201a8"
             ],
             [
              0.3333333333333333,
              "#9c179e"
             ],
             [
              0.4444444444444444,
              "#bd3786"
             ],
             [
              0.5555555555555556,
              "#d8576b"
             ],
             [
              0.6666666666666666,
              "#ed7953"
             ],
             [
              0.7777777777777778,
              "#fb9f3a"
             ],
             [
              0.8888888888888888,
              "#fdca26"
             ],
             [
              1,
              "#f0f921"
             ]
            ],
            "type": "contour"
           }
          ],
          "contourcarpet": [
           {
            "colorbar": {
             "outlinewidth": 0,
             "ticks": ""
            },
            "type": "contourcarpet"
           }
          ],
          "heatmap": [
           {
            "colorbar": {
             "outlinewidth": 0,
             "ticks": ""
            },
            "colorscale": [
             [
              0,
              "#0d0887"
             ],
             [
              0.1111111111111111,
              "#46039f"
             ],
             [
              0.2222222222222222,
              "#7201a8"
             ],
             [
              0.3333333333333333,
              "#9c179e"
             ],
             [
              0.4444444444444444,
              "#bd3786"
             ],
             [
              0.5555555555555556,
              "#d8576b"
             ],
             [
              0.6666666666666666,
              "#ed7953"
             ],
             [
              0.7777777777777778,
              "#fb9f3a"
             ],
             [
              0.8888888888888888,
              "#fdca26"
             ],
             [
              1,
              "#f0f921"
             ]
            ],
            "type": "heatmap"
           }
          ],
          "heatmapgl": [
           {
            "colorbar": {
             "outlinewidth": 0,
             "ticks": ""
            },
            "colorscale": [
             [
              0,
              "#0d0887"
             ],
             [
              0.1111111111111111,
              "#46039f"
             ],
             [
              0.2222222222222222,
              "#7201a8"
             ],
             [
              0.3333333333333333,
              "#9c179e"
             ],
             [
              0.4444444444444444,
              "#bd3786"
             ],
             [
              0.5555555555555556,
              "#d8576b"
             ],
             [
              0.6666666666666666,
              "#ed7953"
             ],
             [
              0.7777777777777778,
              "#fb9f3a"
             ],
             [
              0.8888888888888888,
              "#fdca26"
             ],
             [
              1,
              "#f0f921"
             ]
            ],
            "type": "heatmapgl"
           }
          ],
          "histogram": [
           {
            "marker": {
             "pattern": {
              "fillmode": "overlay",
              "size": 10,
              "solidity": 0.2
             }
            },
            "type": "histogram"
           }
          ],
          "histogram2d": [
           {
            "colorbar": {
             "outlinewidth": 0,
             "ticks": ""
            },
            "colorscale": [
             [
              0,
              "#0d0887"
             ],
             [
              0.1111111111111111,
              "#46039f"
             ],
             [
              0.2222222222222222,
              "#7201a8"
             ],
             [
              0.3333333333333333,
              "#9c179e"
             ],
             [
              0.4444444444444444,
              "#bd3786"
             ],
             [
              0.5555555555555556,
              "#d8576b"
             ],
             [
              0.6666666666666666,
              "#ed7953"
             ],
             [
              0.7777777777777778,
              "#fb9f3a"
             ],
             [
              0.8888888888888888,
              "#fdca26"
             ],
             [
              1,
              "#f0f921"
             ]
            ],
            "type": "histogram2d"
           }
          ],
          "histogram2dcontour": [
           {
            "colorbar": {
             "outlinewidth": 0,
             "ticks": ""
            },
            "colorscale": [
             [
              0,
              "#0d0887"
             ],
             [
              0.1111111111111111,
              "#46039f"
             ],
             [
              0.2222222222222222,
              "#7201a8"
             ],
             [
              0.3333333333333333,
              "#9c179e"
             ],
             [
              0.4444444444444444,
              "#bd3786"
             ],
             [
              0.5555555555555556,
              "#d8576b"
             ],
             [
              0.6666666666666666,
              "#ed7953"
             ],
             [
              0.7777777777777778,
              "#fb9f3a"
             ],
             [
              0.8888888888888888,
              "#fdca26"
             ],
             [
              1,
              "#f0f921"
             ]
            ],
            "type": "histogram2dcontour"
           }
          ],
          "mesh3d": [
           {
            "colorbar": {
             "outlinewidth": 0,
             "ticks": ""
            },
            "type": "mesh3d"
           }
          ],
          "parcoords": [
           {
            "line": {
             "colorbar": {
              "outlinewidth": 0,
              "ticks": ""
             }
            },
            "type": "parcoords"
           }
          ],
          "pie": [
           {
            "automargin": true,
            "type": "pie"
           }
          ],
          "scatter": [
           {
            "marker": {
             "line": {
              "color": "#283442"
             }
            },
            "type": "scatter"
           }
          ],
          "scatter3d": [
           {
            "line": {
             "colorbar": {
              "outlinewidth": 0,
              "ticks": ""
             }
            },
            "marker": {
             "colorbar": {
              "outlinewidth": 0,
              "ticks": ""
             }
            },
            "type": "scatter3d"
           }
          ],
          "scattercarpet": [
           {
            "marker": {
             "colorbar": {
              "outlinewidth": 0,
              "ticks": ""
             }
            },
            "type": "scattercarpet"
           }
          ],
          "scattergeo": [
           {
            "marker": {
             "colorbar": {
              "outlinewidth": 0,
              "ticks": ""
             }
            },
            "type": "scattergeo"
           }
          ],
          "scattergl": [
           {
            "marker": {
             "line": {
              "color": "#283442"
             }
            },
            "type": "scattergl"
           }
          ],
          "scattermapbox": [
           {
            "marker": {
             "colorbar": {
              "outlinewidth": 0,
              "ticks": ""
             }
            },
            "type": "scattermapbox"
           }
          ],
          "scatterpolar": [
           {
            "marker": {
             "colorbar": {
              "outlinewidth": 0,
              "ticks": ""
             }
            },
            "type": "scatterpolar"
           }
          ],
          "scatterpolargl": [
           {
            "marker": {
             "colorbar": {
              "outlinewidth": 0,
              "ticks": ""
             }
            },
            "type": "scatterpolargl"
           }
          ],
          "scatterternary": [
           {
            "marker": {
             "colorbar": {
              "outlinewidth": 0,
              "ticks": ""
             }
            },
            "type": "scatterternary"
           }
          ],
          "surface": [
           {
            "colorbar": {
             "outlinewidth": 0,
             "ticks": ""
            },
            "colorscale": [
             [
              0,
              "#0d0887"
             ],
             [
              0.1111111111111111,
              "#46039f"
             ],
             [
              0.2222222222222222,
              "#7201a8"
             ],
             [
              0.3333333333333333,
              "#9c179e"
             ],
             [
              0.4444444444444444,
              "#bd3786"
             ],
             [
              0.5555555555555556,
              "#d8576b"
             ],
             [
              0.6666666666666666,
              "#ed7953"
             ],
             [
              0.7777777777777778,
              "#fb9f3a"
             ],
             [
              0.8888888888888888,
              "#fdca26"
             ],
             [
              1,
              "#f0f921"
             ]
            ],
            "type": "surface"
           }
          ],
          "table": [
           {
            "cells": {
             "fill": {
              "color": "#506784"
             },
             "line": {
              "color": "rgb(17,17,17)"
             }
            },
            "header": {
             "fill": {
              "color": "#2a3f5f"
             },
             "line": {
              "color": "rgb(17,17,17)"
             }
            },
            "type": "table"
           }
          ]
         },
         "layout": {
          "annotationdefaults": {
           "arrowcolor": "#f2f5fa",
           "arrowhead": 0,
           "arrowwidth": 1
          },
          "autotypenumbers": "strict",
          "coloraxis": {
           "colorbar": {
            "outlinewidth": 0,
            "ticks": ""
           }
          },
          "colorscale": {
           "diverging": [
            [
             0,
             "#8e0152"
            ],
            [
             0.1,
             "#c51b7d"
            ],
            [
             0.2,
             "#de77ae"
            ],
            [
             0.3,
             "#f1b6da"
            ],
            [
             0.4,
             "#fde0ef"
            ],
            [
             0.5,
             "#f7f7f7"
            ],
            [
             0.6,
             "#e6f5d0"
            ],
            [
             0.7,
             "#b8e186"
            ],
            [
             0.8,
             "#7fbc41"
            ],
            [
             0.9,
             "#4d9221"
            ],
            [
             1,
             "#276419"
            ]
           ],
           "sequential": [
            [
             0,
             "#0d0887"
            ],
            [
             0.1111111111111111,
             "#46039f"
            ],
            [
             0.2222222222222222,
             "#7201a8"
            ],
            [
             0.3333333333333333,
             "#9c179e"
            ],
            [
             0.4444444444444444,
             "#bd3786"
            ],
            [
             0.5555555555555556,
             "#d8576b"
            ],
            [
             0.6666666666666666,
             "#ed7953"
            ],
            [
             0.7777777777777778,
             "#fb9f3a"
            ],
            [
             0.8888888888888888,
             "#fdca26"
            ],
            [
             1,
             "#f0f921"
            ]
           ],
           "sequentialminus": [
            [
             0,
             "#0d0887"
            ],
            [
             0.1111111111111111,
             "#46039f"
            ],
            [
             0.2222222222222222,
             "#7201a8"
            ],
            [
             0.3333333333333333,
             "#9c179e"
            ],
            [
             0.4444444444444444,
             "#bd3786"
            ],
            [
             0.5555555555555556,
             "#d8576b"
            ],
            [
             0.6666666666666666,
             "#ed7953"
            ],
            [
             0.7777777777777778,
             "#fb9f3a"
            ],
            [
             0.8888888888888888,
             "#fdca26"
            ],
            [
             1,
             "#f0f921"
            ]
           ]
          },
          "colorway": [
           "#636efa",
           "#EF553B",
           "#00cc96",
           "#ab63fa",
           "#FFA15A",
           "#19d3f3",
           "#FF6692",
           "#B6E880",
           "#FF97FF",
           "#FECB52"
          ],
          "font": {
           "color": "#f2f5fa"
          },
          "geo": {
           "bgcolor": "rgb(17,17,17)",
           "lakecolor": "rgb(17,17,17)",
           "landcolor": "rgb(17,17,17)",
           "showlakes": true,
           "showland": true,
           "subunitcolor": "#506784"
          },
          "hoverlabel": {
           "align": "left"
          },
          "hovermode": "closest",
          "mapbox": {
           "style": "dark"
          },
          "paper_bgcolor": "rgb(17,17,17)",
          "plot_bgcolor": "rgb(17,17,17)",
          "polar": {
           "angularaxis": {
            "gridcolor": "#506784",
            "linecolor": "#506784",
            "ticks": ""
           },
           "bgcolor": "rgb(17,17,17)",
           "radialaxis": {
            "gridcolor": "#506784",
            "linecolor": "#506784",
            "ticks": ""
           }
          },
          "scene": {
           "xaxis": {
            "backgroundcolor": "rgb(17,17,17)",
            "gridcolor": "#506784",
            "gridwidth": 2,
            "linecolor": "#506784",
            "showbackground": true,
            "ticks": "",
            "zerolinecolor": "#C8D4E3"
           },
           "yaxis": {
            "backgroundcolor": "rgb(17,17,17)",
            "gridcolor": "#506784",
            "gridwidth": 2,
            "linecolor": "#506784",
            "showbackground": true,
            "ticks": "",
            "zerolinecolor": "#C8D4E3"
           },
           "zaxis": {
            "backgroundcolor": "rgb(17,17,17)",
            "gridcolor": "#506784",
            "gridwidth": 2,
            "linecolor": "#506784",
            "showbackground": true,
            "ticks": "",
            "zerolinecolor": "#C8D4E3"
           }
          },
          "shapedefaults": {
           "line": {
            "color": "#f2f5fa"
           }
          },
          "sliderdefaults": {
           "bgcolor": "#C8D4E3",
           "bordercolor": "rgb(17,17,17)",
           "borderwidth": 1,
           "tickwidth": 0
          },
          "ternary": {
           "aaxis": {
            "gridcolor": "#506784",
            "linecolor": "#506784",
            "ticks": ""
           },
           "baxis": {
            "gridcolor": "#506784",
            "linecolor": "#506784",
            "ticks": ""
           },
           "bgcolor": "rgb(17,17,17)",
           "caxis": {
            "gridcolor": "#506784",
            "linecolor": "#506784",
            "ticks": ""
           }
          },
          "title": {
           "x": 0.05
          },
          "updatemenudefaults": {
           "bgcolor": "#506784",
           "borderwidth": 0
          },
          "xaxis": {
           "automargin": true,
           "gridcolor": "#283442",
           "linecolor": "#506784",
           "ticks": "",
           "title": {
            "standoff": 15
           },
           "zerolinecolor": "#283442",
           "zerolinewidth": 2
          },
          "yaxis": {
           "automargin": true,
           "gridcolor": "#283442",
           "linecolor": "#506784",
           "ticks": "",
           "title": {
            "standoff": 15
           },
           "zerolinecolor": "#283442",
           "zerolinewidth": 2
          }
         }
        },
        "title": {
         "text": "Dividend Distribution by Sector"
        },
        "xaxis": {
         "anchor": "y",
         "domain": [
          0,
          1
         ]
        },
        "xaxis2": {
         "anchor": "y2",
         "domain": [
          0,
          1
         ]
        },
        "yaxis": {
         "anchor": "x",
         "domain": [
          0.625,
          1
         ]
        },
        "yaxis2": {
         "anchor": "x2",
         "domain": [
          0,
          0.375
         ]
        }
       }
      }
     },
     "metadata": {},
     "output_type": "display_data"
    }
   ],
   "source": [
    "sector_dividend_rate_avg = df_fundamentals_book.groupby('sector')['dividend_rate'].mean()\n",
    "sector_dividend_rate_avg.sort_values(ascending=True, inplace=True)\n",
    "sector_dividend_yield_avg = df_fundamentals_book.groupby('sector')['trailing_annual_dividend_yield'].mean()\n",
    "sector_dividend_yield_avg.sort_values(ascending=True, inplace=True)\n",
    "\n",
    "fig = sp.make_subplots(rows=2, cols=1, subplot_titles=('Average Dividend Yield by Sector', 'Average Dividend Yield by Sector'))\n",
    "\n",
    "fig.add_trace(go.Bar(x=sector_dividend_rate_avg.index, y=sector_dividend_rate_avg, name='Dividend Rate', marker_color='rgb(100, 195, 181)', text=sector_dividend_rate_avg.apply(lambda x: f'R${x:,.2f}'), textposition='outside', textfont=dict(color='white')), row=1, col=1)\n",
    "fig.add_trace(go.Bar(x=sector_dividend_yield_avg.index, y=sector_dividend_yield_avg, name='Dividend Yield', marker_color='rgb(100, 195, 181)', text=sector_dividend_yield_avg.apply(lambda x: f'{x:.2f}%'), textposition='outside', textfont=dict(color='white')),row=2, col=1)\n",
    "\n",
    "fig.update_layout(title_text='Dividend Distribution by Sector', height=1000, showlegend=False, template='plotly_dark')\n",
    "fig.show()"
   ]
  },
  {
   "cell_type": "markdown",
   "metadata": {},
   "source": [
    "**Average Dividend Yield by Sector**\n",
    "\n",
    "- **`Healthcare` (R$0.22)**: Lowest average dividend yield, reflecting possible reinvestment of profits into research and development.\n",
    "- **`Technology` (R$0.33)**: Modest yields, possibly due to a focus on growth and innovation within the sector.\n",
    "- **`Communication Services` (R$0.41)**: Slightly higher dividends, indicating stability and consistent income flows in the sector.\n",
    "- **`Non-Cyclical Consumer` (Defensive) (R$0.80)**: Safer yield, typical of sectors with stable demand regardless of economic conditions.\n",
    "- **`Industrials` (R$0.85)**: Dividends represent a balance between reinvestment and return to shareholders in a diversified sector.\n",
    "- **`Financial Services` (R$1.05)**: Indicates a traditional profit distribution, aligned with the return expectations of a regulated and stable sector.\n",
    "- **`Cyclical Consumer ` (R$1.71)**: Attractive dividends, reflecting the ability to generate profits in times of economic upturn.\n",
    "- **`Energy` (R$1.97)**: Robust yields, suggesting a sector with solid cash flows and generous distribution policies.\n",
    "- **`Utilities` (Public Services) (R$2.41)**: High dividends, typical of sectors with guaranteed demand and predictable income streams.\n",
    "- **`Basic Materials` (R$3.44)**: High dividends may reflect commodity price volatility and a desire to attract investors.\n",
    "- **`Real Estate` (R$381.78)**: Extraordinarily high dividend yield, highlighting the real estate sector as likely including REITs, which are mandated to distribute most of their profits to shareholders.\n"
   ]
  },
  {
   "cell_type": "markdown",
   "metadata": {},
   "source": []
  },
  {
   "cell_type": "markdown",
   "metadata": {},
   "source": [
    "#### Valuation by Sector"
   ]
  },
  {
   "cell_type": "code",
   "execution_count": null,
   "metadata": {},
   "outputs": [],
   "source": [
    "sector_pe_avg = df_fundamentals_book.groupby('sector')['trailing_pe'].mean().sort_values()\n",
    "sector_pb_avg = df_fundamentals_book.groupby('sector')['price_to_book'].mean().sort_values()\n",
    "\n",
    "fig = sp.make_subplots(rows=2, cols=1, subplot_titles=('Average P/E Ratio by Sector', 'Average P/B Ratio by Sector'))\n",
    "fig.add_trace(go.Bar(x=sector_pe_avg.index, y=sector_pe_avg, name='P/E Ratio', marker_color='rgb(100, 195, 181)', text=sector_pe_avg.apply(lambda x: f'{x:.2f}x'), textposition='outside', textfont=dict(color='white')), row=1, col=1)\n",
    "fig.add_trace(go.Bar(x=sector_pb_avg.index, y=sector_pb_avg, name='P/B Ratio', marker_color='rgb(100, 195, 181)', text=sector_pb_avg.apply(lambda x: f'{x:.2f}x'), textposition='outside', textfont=dict(color='white')), row=2, col=1)\n",
    "fig.update_layout(title_text='Sector Valuation: P/E and P/B Ratios', height=1100, showlegend=False, template='plotly_dark')\n",
    "fig.show()"
   ]
  },
  {
   "cell_type": "markdown",
   "metadata": {},
   "source": [
    "#### Efficiency by Sector"
   ]
  },
  {
   "cell_type": "code",
   "execution_count": null,
   "metadata": {},
   "outputs": [],
   "source": [
    "df['return_on_assets'] = pd.to_numeric(df_fundamentals_book['return_on_assets'], errors='coerce')\n",
    "df['total_revenue'] = pd.to_numeric(df_fundamentals_book['total_revenue'], errors='coerce')\n",
    "df['total_assets'] = pd.to_numeric(df_fundamentals_book['total_assets_approx'], errors='coerce')\n",
    "df['asset_turnover'] = df_fundamentals_book['total_revenue'] / df_fundamentals_book['total_assets_approx']\n",
    "\n",
    "sector_efficiency = df_fundamentals_book.groupby('sector').agg({'return_on_assets': 'mean', 'asset_turnover': 'mean'}).reset_index()\n",
    "sector_efficiency.sort_values(by='return_on_assets', ascending=True, inplace=True)\n",
    "\n",
    "fig1 = go.Figure()\n",
    "fig1.add_trace(go.Bar(x=sector_efficiency['sector'], y=sector_efficiency['return_on_assets'], name='ROA', marker_color='lightseagreen', text=sector_efficiency['return_on_assets'].apply(lambda x: f'{x:.2f}%'), textposition='outside'))\n",
    "fig1.update_layout(title='Efficiency by Sector: Return on Assets (ROA)',xaxis_tickangle=-45, barmode='group', template='plotly_dark', height=600)\n",
    "fig1.show()\n",
    "\n",
    "sector_efficiency.sort_values('asset_turnover', ascending=True, inplace=True)\n",
    "\n",
    "fig2 = go.Figure()\n",
    "fig2.add_trace(go.Bar(x=sector_efficiency['sector'], y=sector_efficiency['asset_turnover'], name='Giro dos Ativos', marker_color='lightseagreen', text=sector_efficiency['asset_turnover'].apply(lambda x: f'{x:.2f}'), textposition='outside'))\n",
    "fig2.update_layout(title='Efficiency by Sector: Asset Turnover Ratio', xaxis_tickangle=-45, barmode='group', template='plotly_dark', height=600)\n",
    "fig2.show()"
   ]
  },
  {
   "cell_type": "markdown",
   "metadata": {},
   "source": [
    "#### Risk Analysis by Sector"
   ]
  },
  {
   "cell_type": "code",
   "execution_count": null,
   "metadata": {},
   "outputs": [],
   "source": [
    "sector_volatility = df_fundamentals_book.groupby('sector')['return_on_assets'].std().reset_index()\n",
    "sector_volatility.sort_values(by='return_on_assets', ascending=True, inplace=True)\n",
    "\n",
    "fig1 = go.Figure()\n",
    "fig1.add_trace(go.Bar(x=sector_volatility['sector'], y=sector_volatility['return_on_assets'], name='Volatility', marker_color='lightseagreen', text=sector_volatility['return_on_assets'].apply(lambda x: f'{x:.2f}'), textposition='outside'))\n",
    "fig1.update_layout(title='Volatility (Standard Deviation) of ROA by Sector', xaxis_tickangle=-45, template='plotly_dark', height=550)\n",
    "fig1.show()\n"
   ]
  },
  {
   "cell_type": "code",
   "execution_count": null,
   "metadata": {},
   "outputs": [],
   "source": [
    "sector_debt_equity = df_fundamentals_book.groupby('sector')['debt_to_equity'].mean().reset_index()\n",
    "sector_debt_equity.sort_values(by='debt_to_equity', ascending=True, inplace=True)\n",
    "\n",
    "fig = go.Figure()\n",
    "fig.add_trace(go.Bar(x=sector_debt_equity['sector'], y=sector_debt_equity['debt_to_equity'], name='Debt/Equity Ratio', marker_color='lightseagreen', text=sector_debt_equity['debt_to_equity'].apply(lambda x: f'{x:.2f}'), textposition='outside'))\n",
    "fig.update_layout(height=550,title='Debt-to-Equity Ratio by Sector', xaxis_tickangle=-45, template='plotly_dark')\n",
    "fig.show()\n"
   ]
  },
  {
   "cell_type": "markdown",
   "metadata": {},
   "source": [
    "#### Raking dos setore"
   ]
  },
  {
   "cell_type": "code",
   "execution_count": null,
   "metadata": {},
   "outputs": [],
   "source": [
    "df_fundamentals_book['investment_score'] = df_fundamentals_book[['profit_margins', 'operating_margins', 'return_on_equity']].mean(axis=1)\n",
    "investment_score_mean = df_fundamentals_book.groupby('sector')['investment_score'].mean().sort_values(ascending=True).reset_index()\n",
    "\n",
    "fig = px.bar(investment_score_mean, x='sector', y='investment_score', title='Investment Score by Sector', labels={'investment_score': 'Investment Score (%)', 'sector': 'Setor'}, template='plotly_dark', height=550)\n",
    "fig.update_traces(texttemplate='%{y:.2%}', textposition='outside', marker_color='lightseagreen')\n",
    "fig.show()"
   ]
  }
 ],
 "metadata": {
  "kernelspec": {
   "display_name": "Python 3",
   "language": "python",
   "name": "python3"
  },
  "language_info": {
   "codemirror_mode": {
    "name": "ipython",
    "version": 3
   },
   "file_extension": ".py",
   "mimetype": "text/x-python",
   "name": "python",
   "nbconvert_exporter": "python",
   "pygments_lexer": "ipython3",
   "version": "3.11.5"
  }
 },
 "nbformat": 4,
 "nbformat_minor": 2
}
