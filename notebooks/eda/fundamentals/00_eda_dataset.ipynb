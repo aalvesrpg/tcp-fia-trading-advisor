{
 "cells": [
  {
   "cell_type": "markdown",
   "metadata": {},
   "source": [
    "# **Exploratory Data Analisys: Dataset**"
   ]
  },
  {
   "cell_type": "markdown",
   "metadata": {},
   "source": [
    "\n",
    "This Jupyter notebook is designed as an initial step in an Exploratory Data Analysis (EDA) of a dataset encompassing the fundamentals of companies listed on the Brazilian stock exchange. It aims to provide a structured overview of the financial data, examining the characteristics and distribution of financial indicators through basic descriptive statistics, the identification of unique values, and the detection of outliers. By employing methods such as describe(), unique(), boxplots, correlation matrices, and histograms, the notebook allows users to understand the dataset's scope, including variances and patterns in the data, without venturing into complex analytic theories or models.\n",
    "\n",
    "The exploration sets the stage for more in-depth analyses in future notebooks by establishing a clear comprehension of the data's initial state and potential data quality issues."
   ]
  },
  {
   "cell_type": "markdown",
   "metadata": {},
   "source": [
    "## Initial Setup"
   ]
  },
  {
   "cell_type": "markdown",
   "metadata": {},
   "source": [
    "### Install Packages"
   ]
  },
  {
   "cell_type": "code",
   "execution_count": 1,
   "metadata": {},
   "outputs": [
    {
     "name": "stdout",
     "output_type": "stream",
     "text": [
      "Note: you may need to restart the kernel to use updated packages.\n",
      "Note: you may need to restart the kernel to use updated packages.\n"
     ]
    }
   ],
   "source": [
    "%pip install pandas -q\n",
    "%pip install plotly -q"
   ]
  },
  {
   "cell_type": "markdown",
   "metadata": {},
   "source": [
    "### Import libs"
   ]
  },
  {
   "cell_type": "code",
   "execution_count": 2,
   "metadata": {},
   "outputs": [],
   "source": [
    "import os\n",
    "from pathlib import Path\n",
    "import pandas as pd\n",
    "import plotly.express as px\n",
    "import plotly.graph_objects as go\n",
    "import plotly.subplots as sp"
   ]
  },
  {
   "cell_type": "markdown",
   "metadata": {},
   "source": [
    "### Pandas Config"
   ]
  },
  {
   "cell_type": "code",
   "execution_count": 3,
   "metadata": {},
   "outputs": [],
   "source": [
    "pd.set_option('display.max_columns', None)\n",
    "pd.set_option('display.max_rows', None)"
   ]
  },
  {
   "cell_type": "markdown",
   "metadata": {},
   "source": [
    "### Create a file path default"
   ]
  },
  {
   "cell_type": "code",
   "execution_count": 4,
   "metadata": {},
   "outputs": [],
   "source": [
    "file_path_book = str(Path(os.getcwd()).parent.parent.parent / \"data/book\")"
   ]
  },
  {
   "cell_type": "markdown",
   "metadata": {},
   "source": [
    "## Fundamentals Dataset Infos"
   ]
  },
  {
   "cell_type": "markdown",
   "metadata": {},
   "source": [
    "### Load data"
   ]
  },
  {
   "cell_type": "code",
   "execution_count": 5,
   "metadata": {},
   "outputs": [
    {
     "data": {
      "text/html": [
       "<div>\n",
       "<style scoped>\n",
       "    .dataframe tbody tr th:only-of-type {\n",
       "        vertical-align: middle;\n",
       "    }\n",
       "\n",
       "    .dataframe tbody tr th {\n",
       "        vertical-align: top;\n",
       "    }\n",
       "\n",
       "    .dataframe thead th {\n",
       "        text-align: right;\n",
       "    }\n",
       "</style>\n",
       "<table border=\"1\" class=\"dataframe\">\n",
       "  <thead>\n",
       "    <tr style=\"text-align: right;\">\n",
       "      <th></th>\n",
       "      <th>ticker</th>\n",
       "      <th>long_name</th>\n",
       "      <th>sector</th>\n",
       "      <th>industry</th>\n",
       "      <th>market_cap</th>\n",
       "      <th>enterprise_value</th>\n",
       "      <th>total_revenue</th>\n",
       "      <th>profit_margins</th>\n",
       "      <th>operating_margins</th>\n",
       "      <th>dividend_rate</th>\n",
       "      <th>beta</th>\n",
       "      <th>ebitda</th>\n",
       "      <th>trailing_pe</th>\n",
       "      <th>forward_pe</th>\n",
       "      <th>volume</th>\n",
       "      <th>average_volume</th>\n",
       "      <th>fifty_two_week_low</th>\n",
       "      <th>fifty_two_week_high</th>\n",
       "      <th>price_to_sales_trailing_12_months</th>\n",
       "      <th>fifty_day_average</th>\n",
       "      <th>two_hundred_day_average</th>\n",
       "      <th>trailing_annual_dividend_rate</th>\n",
       "      <th>trailing_annual_dividend_yield</th>\n",
       "      <th>book_value</th>\n",
       "      <th>price_to_book</th>\n",
       "      <th>total_cash</th>\n",
       "      <th>total_cash_per_share</th>\n",
       "      <th>total_debt</th>\n",
       "      <th>earnings_quarterly_growth</th>\n",
       "      <th>revenue_growth</th>\n",
       "      <th>gross_margins</th>\n",
       "      <th>ebitda_margins</th>\n",
       "      <th>return_on_assets</th>\n",
       "      <th>return_on_equity</th>\n",
       "      <th>gross_profits</th>\n",
       "      <th>total_assets_approx</th>\n",
       "      <th>asset_turnover</th>\n",
       "      <th>earnings_growth_rate</th>\n",
       "      <th>dividend_payout_ratio</th>\n",
       "      <th>equity</th>\n",
       "      <th>debt_to_equity</th>\n",
       "      <th>roi</th>\n",
       "      <th>roce</th>\n",
       "    </tr>\n",
       "  </thead>\n",
       "  <tbody>\n",
       "    <tr>\n",
       "      <th>0</th>\n",
       "      <td>ABCB4.SA</td>\n",
       "      <td>Banco ABC Brasil S.A.</td>\n",
       "      <td>Financial Services</td>\n",
       "      <td>Banks - Regional</td>\n",
       "      <td>4.265434e+09</td>\n",
       "      <td>1.477339e+10</td>\n",
       "      <td>1.941779e+09</td>\n",
       "      <td>0.41576</td>\n",
       "      <td>0.38826</td>\n",
       "      <td>1.56</td>\n",
       "      <td>0.679</td>\n",
       "      <td>0.000000e+00</td>\n",
       "      <td>4.069768</td>\n",
       "      <td>4.706601</td>\n",
       "      <td>92300.0</td>\n",
       "      <td>747165.0</td>\n",
       "      <td>15.85</td>\n",
       "      <td>21.99</td>\n",
       "      <td>2.196663</td>\n",
       "      <td>19.3382</td>\n",
       "      <td>18.14667</td>\n",
       "      <td>1.550</td>\n",
       "      <td>0.080687</td>\n",
       "      <td>24.518</td>\n",
       "      <td>0.785138</td>\n",
       "      <td>7.774306e+09</td>\n",
       "      <td>35.162</td>\n",
       "      <td>1.829846e+10</td>\n",
       "      <td>0.001</td>\n",
       "      <td>0.003</td>\n",
       "      <td>0.00000</td>\n",
       "      <td>0.00000</td>\n",
       "      <td>0.01530</td>\n",
       "      <td>0.15680</td>\n",
       "      <td>1.973086e+09</td>\n",
       "      <td>7.774306e+09</td>\n",
       "      <td>0.249769</td>\n",
       "      <td>0.1</td>\n",
       "      <td>155000.000000</td>\n",
       "      <td>-1.052416e+10</td>\n",
       "      <td>-1.738710</td>\n",
       "      <td>0.131438</td>\n",
       "      <td>0.000000</td>\n",
       "    </tr>\n",
       "    <tr>\n",
       "      <th>1</th>\n",
       "      <td>AGRO3.SA</td>\n",
       "      <td>BrasilAgro - Companhia Brasileira de Proprieda...</td>\n",
       "      <td>Consumer Defensive</td>\n",
       "      <td>Farm Products</td>\n",
       "      <td>2.466480e+09</td>\n",
       "      <td>2.912933e+09</td>\n",
       "      <td>1.249437e+09</td>\n",
       "      <td>0.21493</td>\n",
       "      <td>0.25031</td>\n",
       "      <td>3.21</td>\n",
       "      <td>0.432</td>\n",
       "      <td>2.648920e+08</td>\n",
       "      <td>9.450382</td>\n",
       "      <td>6.332481</td>\n",
       "      <td>298100.0</td>\n",
       "      <td>666692.0</td>\n",
       "      <td>22.29</td>\n",
       "      <td>32.71</td>\n",
       "      <td>1.974073</td>\n",
       "      <td>27.0106</td>\n",
       "      <td>25.58635</td>\n",
       "      <td>3.240</td>\n",
       "      <td>0.132029</td>\n",
       "      <td>22.237</td>\n",
       "      <td>1.113460</td>\n",
       "      <td>3.838370e+08</td>\n",
       "      <td>3.885</td>\n",
       "      <td>8.720750e+08</td>\n",
       "      <td>6.801</td>\n",
       "      <td>0.671</td>\n",
       "      <td>0.25252</td>\n",
       "      <td>0.21201</td>\n",
       "      <td>0.03839</td>\n",
       "      <td>0.12170</td>\n",
       "      <td>3.155040e+08</td>\n",
       "      <td>3.838370e+08</td>\n",
       "      <td>3.255124</td>\n",
       "      <td>680.1</td>\n",
       "      <td>47.640053</td>\n",
       "      <td>-4.882380e+08</td>\n",
       "      <td>-1.786168</td>\n",
       "      <td>0.428927</td>\n",
       "      <td>0.079343</td>\n",
       "    </tr>\n",
       "    <tr>\n",
       "      <th>2</th>\n",
       "      <td>RAIL3.SA</td>\n",
       "      <td>Rumo S.A.</td>\n",
       "      <td>Industrials</td>\n",
       "      <td>Railroads</td>\n",
       "      <td>4.228882e+10</td>\n",
       "      <td>5.524305e+10</td>\n",
       "      <td>1.031746e+10</td>\n",
       "      <td>0.07639</td>\n",
       "      <td>0.33544</td>\n",
       "      <td>0.07</td>\n",
       "      <td>0.227</td>\n",
       "      <td>4.522541e+09</td>\n",
       "      <td>54.309525</td>\n",
       "      <td>21.723810</td>\n",
       "      <td>5733400.0</td>\n",
       "      <td>14644522.0</td>\n",
       "      <td>16.21</td>\n",
       "      <td>24.44</td>\n",
       "      <td>4.098764</td>\n",
       "      <td>22.5852</td>\n",
       "      <td>20.95235</td>\n",
       "      <td>0.066</td>\n",
       "      <td>0.002993</td>\n",
       "      <td>8.334</td>\n",
       "      <td>2.736981</td>\n",
       "      <td>7.656040e+09</td>\n",
       "      <td>4.132</td>\n",
       "      <td>2.184320e+10</td>\n",
       "      <td>3.935</td>\n",
       "      <td>0.121</td>\n",
       "      <td>0.34493</td>\n",
       "      <td>0.43834</td>\n",
       "      <td>0.04252</td>\n",
       "      <td>0.05163</td>\n",
       "      <td>3.146360e+09</td>\n",
       "      <td>7.656040e+09</td>\n",
       "      <td>1.347623</td>\n",
       "      <td>393.5</td>\n",
       "      <td>1.677255</td>\n",
       "      <td>-1.418716e+10</td>\n",
       "      <td>-1.539646</td>\n",
       "      <td>0.186765</td>\n",
       "      <td>0.070519</td>\n",
       "    </tr>\n",
       "    <tr>\n",
       "      <th>3</th>\n",
       "      <td>ALPA3.SA</td>\n",
       "      <td>Alpargatas S.A.</td>\n",
       "      <td>Consumer Cyclical</td>\n",
       "      <td>Footwear &amp; Accessories</td>\n",
       "      <td>5.309793e+09</td>\n",
       "      <td>6.482982e+09</td>\n",
       "      <td>4.022153e+09</td>\n",
       "      <td>-0.05671</td>\n",
       "      <td>-0.06434</td>\n",
       "      <td>0.40</td>\n",
       "      <td>0.571</td>\n",
       "      <td>-1.980000e+05</td>\n",
       "      <td>0.000000</td>\n",
       "      <td>0.000000</td>\n",
       "      <td>1100.0</td>\n",
       "      <td>3953.0</td>\n",
       "      <td>7.27</td>\n",
       "      <td>17.80</td>\n",
       "      <td>1.320137</td>\n",
       "      <td>8.7146</td>\n",
       "      <td>9.63540</td>\n",
       "      <td>0.000</td>\n",
       "      <td>0.000000</td>\n",
       "      <td>7.867</td>\n",
       "      <td>1.008008</td>\n",
       "      <td>4.142880e+08</td>\n",
       "      <td>0.614</td>\n",
       "      <td>1.550341e+09</td>\n",
       "      <td>0.000</td>\n",
       "      <td>-0.127</td>\n",
       "      <td>0.43246</td>\n",
       "      <td>-0.00005</td>\n",
       "      <td>-0.00910</td>\n",
       "      <td>-0.04153</td>\n",
       "      <td>1.968303e+09</td>\n",
       "      <td>4.142880e+08</td>\n",
       "      <td>9.708591</td>\n",
       "      <td>0.0</td>\n",
       "      <td>0.000000</td>\n",
       "      <td>-1.136053e+09</td>\n",
       "      <td>-1.364673</td>\n",
       "      <td>0.620417</td>\n",
       "      <td>-0.000029</td>\n",
       "    </tr>\n",
       "    <tr>\n",
       "      <th>4</th>\n",
       "      <td>ALPA4.SA</td>\n",
       "      <td>Alpargatas S.A.</td>\n",
       "      <td>Consumer Cyclical</td>\n",
       "      <td>Footwear &amp; Accessories</td>\n",
       "      <td>5.350758e+09</td>\n",
       "      <td>6.395236e+09</td>\n",
       "      <td>4.022153e+09</td>\n",
       "      <td>-0.05671</td>\n",
       "      <td>-0.06434</td>\n",
       "      <td>0.43</td>\n",
       "      <td>0.571</td>\n",
       "      <td>-1.980000e+05</td>\n",
       "      <td>0.000000</td>\n",
       "      <td>14.555555</td>\n",
       "      <td>1132100.0</td>\n",
       "      <td>5605825.0</td>\n",
       "      <td>6.81</td>\n",
       "      <td>22.51</td>\n",
       "      <td>1.330322</td>\n",
       "      <td>8.3228</td>\n",
       "      <td>9.27290</td>\n",
       "      <td>0.000</td>\n",
       "      <td>0.000000</td>\n",
       "      <td>7.867</td>\n",
       "      <td>0.999110</td>\n",
       "      <td>4.142880e+08</td>\n",
       "      <td>0.614</td>\n",
       "      <td>1.550341e+09</td>\n",
       "      <td>0.000</td>\n",
       "      <td>-0.127</td>\n",
       "      <td>0.43246</td>\n",
       "      <td>-0.00005</td>\n",
       "      <td>-0.00910</td>\n",
       "      <td>-0.04153</td>\n",
       "      <td>1.968303e+09</td>\n",
       "      <td>4.142880e+08</td>\n",
       "      <td>9.708591</td>\n",
       "      <td>0.0</td>\n",
       "      <td>0.000000</td>\n",
       "      <td>-1.136053e+09</td>\n",
       "      <td>-1.364673</td>\n",
       "      <td>0.628930</td>\n",
       "      <td>-0.000029</td>\n",
       "    </tr>\n",
       "  </tbody>\n",
       "</table>\n",
       "</div>"
      ],
      "text/plain": [
       "     ticker                                          long_name  \\\n",
       "0  ABCB4.SA                              Banco ABC Brasil S.A.   \n",
       "1  AGRO3.SA  BrasilAgro - Companhia Brasileira de Proprieda...   \n",
       "2  RAIL3.SA                                          Rumo S.A.   \n",
       "3  ALPA3.SA                                    Alpargatas S.A.   \n",
       "4  ALPA4.SA                                    Alpargatas S.A.   \n",
       "\n",
       "               sector                industry    market_cap  enterprise_value  \\\n",
       "0  Financial Services        Banks - Regional  4.265434e+09      1.477339e+10   \n",
       "1  Consumer Defensive           Farm Products  2.466480e+09      2.912933e+09   \n",
       "2         Industrials               Railroads  4.228882e+10      5.524305e+10   \n",
       "3   Consumer Cyclical  Footwear & Accessories  5.309793e+09      6.482982e+09   \n",
       "4   Consumer Cyclical  Footwear & Accessories  5.350758e+09      6.395236e+09   \n",
       "\n",
       "   total_revenue  profit_margins  operating_margins  dividend_rate   beta  \\\n",
       "0   1.941779e+09         0.41576            0.38826           1.56  0.679   \n",
       "1   1.249437e+09         0.21493            0.25031           3.21  0.432   \n",
       "2   1.031746e+10         0.07639            0.33544           0.07  0.227   \n",
       "3   4.022153e+09        -0.05671           -0.06434           0.40  0.571   \n",
       "4   4.022153e+09        -0.05671           -0.06434           0.43  0.571   \n",
       "\n",
       "         ebitda  trailing_pe  forward_pe     volume  average_volume  \\\n",
       "0  0.000000e+00     4.069768    4.706601    92300.0        747165.0   \n",
       "1  2.648920e+08     9.450382    6.332481   298100.0        666692.0   \n",
       "2  4.522541e+09    54.309525   21.723810  5733400.0      14644522.0   \n",
       "3 -1.980000e+05     0.000000    0.000000     1100.0          3953.0   \n",
       "4 -1.980000e+05     0.000000   14.555555  1132100.0       5605825.0   \n",
       "\n",
       "   fifty_two_week_low  fifty_two_week_high  price_to_sales_trailing_12_months  \\\n",
       "0               15.85                21.99                           2.196663   \n",
       "1               22.29                32.71                           1.974073   \n",
       "2               16.21                24.44                           4.098764   \n",
       "3                7.27                17.80                           1.320137   \n",
       "4                6.81                22.51                           1.330322   \n",
       "\n",
       "   fifty_day_average  two_hundred_day_average  trailing_annual_dividend_rate  \\\n",
       "0            19.3382                 18.14667                          1.550   \n",
       "1            27.0106                 25.58635                          3.240   \n",
       "2            22.5852                 20.95235                          0.066   \n",
       "3             8.7146                  9.63540                          0.000   \n",
       "4             8.3228                  9.27290                          0.000   \n",
       "\n",
       "   trailing_annual_dividend_yield  book_value  price_to_book    total_cash  \\\n",
       "0                        0.080687      24.518       0.785138  7.774306e+09   \n",
       "1                        0.132029      22.237       1.113460  3.838370e+08   \n",
       "2                        0.002993       8.334       2.736981  7.656040e+09   \n",
       "3                        0.000000       7.867       1.008008  4.142880e+08   \n",
       "4                        0.000000       7.867       0.999110  4.142880e+08   \n",
       "\n",
       "   total_cash_per_share    total_debt  earnings_quarterly_growth  \\\n",
       "0                35.162  1.829846e+10                      0.001   \n",
       "1                 3.885  8.720750e+08                      6.801   \n",
       "2                 4.132  2.184320e+10                      3.935   \n",
       "3                 0.614  1.550341e+09                      0.000   \n",
       "4                 0.614  1.550341e+09                      0.000   \n",
       "\n",
       "   revenue_growth  gross_margins  ebitda_margins  return_on_assets  \\\n",
       "0           0.003        0.00000         0.00000           0.01530   \n",
       "1           0.671        0.25252         0.21201           0.03839   \n",
       "2           0.121        0.34493         0.43834           0.04252   \n",
       "3          -0.127        0.43246        -0.00005          -0.00910   \n",
       "4          -0.127        0.43246        -0.00005          -0.00910   \n",
       "\n",
       "   return_on_equity  gross_profits  total_assets_approx  asset_turnover  \\\n",
       "0           0.15680   1.973086e+09         7.774306e+09        0.249769   \n",
       "1           0.12170   3.155040e+08         3.838370e+08        3.255124   \n",
       "2           0.05163   3.146360e+09         7.656040e+09        1.347623   \n",
       "3          -0.04153   1.968303e+09         4.142880e+08        9.708591   \n",
       "4          -0.04153   1.968303e+09         4.142880e+08        9.708591   \n",
       "\n",
       "   earnings_growth_rate  dividend_payout_ratio        equity  debt_to_equity  \\\n",
       "0                   0.1          155000.000000 -1.052416e+10       -1.738710   \n",
       "1                 680.1              47.640053 -4.882380e+08       -1.786168   \n",
       "2                 393.5               1.677255 -1.418716e+10       -1.539646   \n",
       "3                   0.0               0.000000 -1.136053e+09       -1.364673   \n",
       "4                   0.0               0.000000 -1.136053e+09       -1.364673   \n",
       "\n",
       "        roi      roce  \n",
       "0  0.131438  0.000000  \n",
       "1  0.428927  0.079343  \n",
       "2  0.186765  0.070519  \n",
       "3  0.620417 -0.000029  \n",
       "4  0.628930 -0.000029  "
      ]
     },
     "execution_count": 5,
     "metadata": {},
     "output_type": "execute_result"
    }
   ],
   "source": [
    "df_fundamentals_book = pd.read_csv(file_path_book + \"/fundamentals_book.csv\")\n",
    "df_fundamentals_book.head(5)"
   ]
  },
  {
   "cell_type": "code",
   "execution_count": 7,
   "metadata": {},
   "outputs": [
    {
     "data": {
      "text/html": [
       "<div>\n",
       "<style scoped>\n",
       "    .dataframe tbody tr th:only-of-type {\n",
       "        vertical-align: middle;\n",
       "    }\n",
       "\n",
       "    .dataframe tbody tr th {\n",
       "        vertical-align: top;\n",
       "    }\n",
       "\n",
       "    .dataframe thead th {\n",
       "        text-align: right;\n",
       "    }\n",
       "</style>\n",
       "<table border=\"1\" class=\"dataframe\">\n",
       "  <thead>\n",
       "    <tr style=\"text-align: right;\">\n",
       "      <th></th>\n",
       "      <th>market_cap</th>\n",
       "      <th>enterprise_value</th>\n",
       "      <th>total_revenue</th>\n",
       "      <th>profit_margins</th>\n",
       "      <th>operating_margins</th>\n",
       "      <th>dividend_rate</th>\n",
       "      <th>beta</th>\n",
       "      <th>ebitda</th>\n",
       "      <th>trailing_pe</th>\n",
       "      <th>forward_pe</th>\n",
       "      <th>volume</th>\n",
       "      <th>average_volume</th>\n",
       "      <th>fifty_two_week_low</th>\n",
       "      <th>fifty_two_week_high</th>\n",
       "      <th>price_to_sales_trailing_12_months</th>\n",
       "      <th>fifty_day_average</th>\n",
       "      <th>two_hundred_day_average</th>\n",
       "      <th>trailing_annual_dividend_rate</th>\n",
       "      <th>trailing_annual_dividend_yield</th>\n",
       "      <th>book_value</th>\n",
       "      <th>price_to_book</th>\n",
       "      <th>total_cash</th>\n",
       "      <th>total_cash_per_share</th>\n",
       "      <th>total_debt</th>\n",
       "      <th>earnings_quarterly_growth</th>\n",
       "      <th>revenue_growth</th>\n",
       "      <th>gross_margins</th>\n",
       "      <th>ebitda_margins</th>\n",
       "      <th>return_on_assets</th>\n",
       "      <th>return_on_equity</th>\n",
       "      <th>gross_profits</th>\n",
       "      <th>total_assets_approx</th>\n",
       "      <th>asset_turnover</th>\n",
       "      <th>earnings_growth_rate</th>\n",
       "      <th>dividend_payout_ratio</th>\n",
       "      <th>equity</th>\n",
       "      <th>debt_to_equity</th>\n",
       "      <th>roi</th>\n",
       "      <th>roce</th>\n",
       "    </tr>\n",
       "  </thead>\n",
       "  <tbody>\n",
       "    <tr>\n",
       "      <th>0</th>\n",
       "      <td>4.265434e+09</td>\n",
       "      <td>1.477339e+10</td>\n",
       "      <td>1.941779e+09</td>\n",
       "      <td>0.41576</td>\n",
       "      <td>0.38826</td>\n",
       "      <td>1.56</td>\n",
       "      <td>0.679</td>\n",
       "      <td>0.000000e+00</td>\n",
       "      <td>4.069768</td>\n",
       "      <td>4.706601</td>\n",
       "      <td>92300.0</td>\n",
       "      <td>747165.0</td>\n",
       "      <td>15.85</td>\n",
       "      <td>21.99</td>\n",
       "      <td>2.196663</td>\n",
       "      <td>19.3382</td>\n",
       "      <td>18.14667</td>\n",
       "      <td>1.550</td>\n",
       "      <td>0.080687</td>\n",
       "      <td>24.518</td>\n",
       "      <td>0.785138</td>\n",
       "      <td>7.774306e+09</td>\n",
       "      <td>35.162</td>\n",
       "      <td>1.829846e+10</td>\n",
       "      <td>0.001</td>\n",
       "      <td>0.003</td>\n",
       "      <td>0.00000</td>\n",
       "      <td>0.00000</td>\n",
       "      <td>0.01530</td>\n",
       "      <td>0.15680</td>\n",
       "      <td>1.973086e+09</td>\n",
       "      <td>7.774306e+09</td>\n",
       "      <td>0.249769</td>\n",
       "      <td>0.1</td>\n",
       "      <td>155000.000000</td>\n",
       "      <td>-1.052416e+10</td>\n",
       "      <td>-1.738710</td>\n",
       "      <td>0.131438</td>\n",
       "      <td>0.000000</td>\n",
       "    </tr>\n",
       "    <tr>\n",
       "      <th>1</th>\n",
       "      <td>2.466480e+09</td>\n",
       "      <td>2.912933e+09</td>\n",
       "      <td>1.249437e+09</td>\n",
       "      <td>0.21493</td>\n",
       "      <td>0.25031</td>\n",
       "      <td>3.21</td>\n",
       "      <td>0.432</td>\n",
       "      <td>2.648920e+08</td>\n",
       "      <td>9.450382</td>\n",
       "      <td>6.332481</td>\n",
       "      <td>298100.0</td>\n",
       "      <td>666692.0</td>\n",
       "      <td>22.29</td>\n",
       "      <td>32.71</td>\n",
       "      <td>1.974073</td>\n",
       "      <td>27.0106</td>\n",
       "      <td>25.58635</td>\n",
       "      <td>3.240</td>\n",
       "      <td>0.132029</td>\n",
       "      <td>22.237</td>\n",
       "      <td>1.113460</td>\n",
       "      <td>3.838370e+08</td>\n",
       "      <td>3.885</td>\n",
       "      <td>8.720750e+08</td>\n",
       "      <td>6.801</td>\n",
       "      <td>0.671</td>\n",
       "      <td>0.25252</td>\n",
       "      <td>0.21201</td>\n",
       "      <td>0.03839</td>\n",
       "      <td>0.12170</td>\n",
       "      <td>3.155040e+08</td>\n",
       "      <td>3.838370e+08</td>\n",
       "      <td>3.255124</td>\n",
       "      <td>680.1</td>\n",
       "      <td>47.640053</td>\n",
       "      <td>-4.882380e+08</td>\n",
       "      <td>-1.786168</td>\n",
       "      <td>0.428927</td>\n",
       "      <td>0.079343</td>\n",
       "    </tr>\n",
       "    <tr>\n",
       "      <th>2</th>\n",
       "      <td>4.228882e+10</td>\n",
       "      <td>5.524305e+10</td>\n",
       "      <td>1.031746e+10</td>\n",
       "      <td>0.07639</td>\n",
       "      <td>0.33544</td>\n",
       "      <td>0.07</td>\n",
       "      <td>0.227</td>\n",
       "      <td>4.522541e+09</td>\n",
       "      <td>54.309525</td>\n",
       "      <td>21.723810</td>\n",
       "      <td>5733400.0</td>\n",
       "      <td>14644522.0</td>\n",
       "      <td>16.21</td>\n",
       "      <td>24.44</td>\n",
       "      <td>4.098764</td>\n",
       "      <td>22.5852</td>\n",
       "      <td>20.95235</td>\n",
       "      <td>0.066</td>\n",
       "      <td>0.002993</td>\n",
       "      <td>8.334</td>\n",
       "      <td>2.736981</td>\n",
       "      <td>7.656040e+09</td>\n",
       "      <td>4.132</td>\n",
       "      <td>2.184320e+10</td>\n",
       "      <td>3.935</td>\n",
       "      <td>0.121</td>\n",
       "      <td>0.34493</td>\n",
       "      <td>0.43834</td>\n",
       "      <td>0.04252</td>\n",
       "      <td>0.05163</td>\n",
       "      <td>3.146360e+09</td>\n",
       "      <td>7.656040e+09</td>\n",
       "      <td>1.347623</td>\n",
       "      <td>393.5</td>\n",
       "      <td>1.677255</td>\n",
       "      <td>-1.418716e+10</td>\n",
       "      <td>-1.539646</td>\n",
       "      <td>0.186765</td>\n",
       "      <td>0.070519</td>\n",
       "    </tr>\n",
       "    <tr>\n",
       "      <th>3</th>\n",
       "      <td>5.309793e+09</td>\n",
       "      <td>6.482982e+09</td>\n",
       "      <td>4.022153e+09</td>\n",
       "      <td>-0.05671</td>\n",
       "      <td>-0.06434</td>\n",
       "      <td>0.40</td>\n",
       "      <td>0.571</td>\n",
       "      <td>-1.980000e+05</td>\n",
       "      <td>0.000000</td>\n",
       "      <td>0.000000</td>\n",
       "      <td>1100.0</td>\n",
       "      <td>3953.0</td>\n",
       "      <td>7.27</td>\n",
       "      <td>17.80</td>\n",
       "      <td>1.320137</td>\n",
       "      <td>8.7146</td>\n",
       "      <td>9.63540</td>\n",
       "      <td>0.000</td>\n",
       "      <td>0.000000</td>\n",
       "      <td>7.867</td>\n",
       "      <td>1.008008</td>\n",
       "      <td>4.142880e+08</td>\n",
       "      <td>0.614</td>\n",
       "      <td>1.550341e+09</td>\n",
       "      <td>0.000</td>\n",
       "      <td>-0.127</td>\n",
       "      <td>0.43246</td>\n",
       "      <td>-0.00005</td>\n",
       "      <td>-0.00910</td>\n",
       "      <td>-0.04153</td>\n",
       "      <td>1.968303e+09</td>\n",
       "      <td>4.142880e+08</td>\n",
       "      <td>9.708591</td>\n",
       "      <td>0.0</td>\n",
       "      <td>0.000000</td>\n",
       "      <td>-1.136053e+09</td>\n",
       "      <td>-1.364673</td>\n",
       "      <td>0.620417</td>\n",
       "      <td>-0.000029</td>\n",
       "    </tr>\n",
       "    <tr>\n",
       "      <th>4</th>\n",
       "      <td>5.350758e+09</td>\n",
       "      <td>6.395236e+09</td>\n",
       "      <td>4.022153e+09</td>\n",
       "      <td>-0.05671</td>\n",
       "      <td>-0.06434</td>\n",
       "      <td>0.43</td>\n",
       "      <td>0.571</td>\n",
       "      <td>-1.980000e+05</td>\n",
       "      <td>0.000000</td>\n",
       "      <td>14.555555</td>\n",
       "      <td>1132100.0</td>\n",
       "      <td>5605825.0</td>\n",
       "      <td>6.81</td>\n",
       "      <td>22.51</td>\n",
       "      <td>1.330322</td>\n",
       "      <td>8.3228</td>\n",
       "      <td>9.27290</td>\n",
       "      <td>0.000</td>\n",
       "      <td>0.000000</td>\n",
       "      <td>7.867</td>\n",
       "      <td>0.999110</td>\n",
       "      <td>4.142880e+08</td>\n",
       "      <td>0.614</td>\n",
       "      <td>1.550341e+09</td>\n",
       "      <td>0.000</td>\n",
       "      <td>-0.127</td>\n",
       "      <td>0.43246</td>\n",
       "      <td>-0.00005</td>\n",
       "      <td>-0.00910</td>\n",
       "      <td>-0.04153</td>\n",
       "      <td>1.968303e+09</td>\n",
       "      <td>4.142880e+08</td>\n",
       "      <td>9.708591</td>\n",
       "      <td>0.0</td>\n",
       "      <td>0.000000</td>\n",
       "      <td>-1.136053e+09</td>\n",
       "      <td>-1.364673</td>\n",
       "      <td>0.628930</td>\n",
       "      <td>-0.000029</td>\n",
       "    </tr>\n",
       "  </tbody>\n",
       "</table>\n",
       "</div>"
      ],
      "text/plain": [
       "     market_cap  enterprise_value  total_revenue  profit_margins  \\\n",
       "0  4.265434e+09      1.477339e+10   1.941779e+09         0.41576   \n",
       "1  2.466480e+09      2.912933e+09   1.249437e+09         0.21493   \n",
       "2  4.228882e+10      5.524305e+10   1.031746e+10         0.07639   \n",
       "3  5.309793e+09      6.482982e+09   4.022153e+09        -0.05671   \n",
       "4  5.350758e+09      6.395236e+09   4.022153e+09        -0.05671   \n",
       "\n",
       "   operating_margins  dividend_rate   beta        ebitda  trailing_pe  \\\n",
       "0            0.38826           1.56  0.679  0.000000e+00     4.069768   \n",
       "1            0.25031           3.21  0.432  2.648920e+08     9.450382   \n",
       "2            0.33544           0.07  0.227  4.522541e+09    54.309525   \n",
       "3           -0.06434           0.40  0.571 -1.980000e+05     0.000000   \n",
       "4           -0.06434           0.43  0.571 -1.980000e+05     0.000000   \n",
       "\n",
       "   forward_pe     volume  average_volume  fifty_two_week_low  \\\n",
       "0    4.706601    92300.0        747165.0               15.85   \n",
       "1    6.332481   298100.0        666692.0               22.29   \n",
       "2   21.723810  5733400.0      14644522.0               16.21   \n",
       "3    0.000000     1100.0          3953.0                7.27   \n",
       "4   14.555555  1132100.0       5605825.0                6.81   \n",
       "\n",
       "   fifty_two_week_high  price_to_sales_trailing_12_months  fifty_day_average  \\\n",
       "0                21.99                           2.196663            19.3382   \n",
       "1                32.71                           1.974073            27.0106   \n",
       "2                24.44                           4.098764            22.5852   \n",
       "3                17.80                           1.320137             8.7146   \n",
       "4                22.51                           1.330322             8.3228   \n",
       "\n",
       "   two_hundred_day_average  trailing_annual_dividend_rate  \\\n",
       "0                 18.14667                          1.550   \n",
       "1                 25.58635                          3.240   \n",
       "2                 20.95235                          0.066   \n",
       "3                  9.63540                          0.000   \n",
       "4                  9.27290                          0.000   \n",
       "\n",
       "   trailing_annual_dividend_yield  book_value  price_to_book    total_cash  \\\n",
       "0                        0.080687      24.518       0.785138  7.774306e+09   \n",
       "1                        0.132029      22.237       1.113460  3.838370e+08   \n",
       "2                        0.002993       8.334       2.736981  7.656040e+09   \n",
       "3                        0.000000       7.867       1.008008  4.142880e+08   \n",
       "4                        0.000000       7.867       0.999110  4.142880e+08   \n",
       "\n",
       "   total_cash_per_share    total_debt  earnings_quarterly_growth  \\\n",
       "0                35.162  1.829846e+10                      0.001   \n",
       "1                 3.885  8.720750e+08                      6.801   \n",
       "2                 4.132  2.184320e+10                      3.935   \n",
       "3                 0.614  1.550341e+09                      0.000   \n",
       "4                 0.614  1.550341e+09                      0.000   \n",
       "\n",
       "   revenue_growth  gross_margins  ebitda_margins  return_on_assets  \\\n",
       "0           0.003        0.00000         0.00000           0.01530   \n",
       "1           0.671        0.25252         0.21201           0.03839   \n",
       "2           0.121        0.34493         0.43834           0.04252   \n",
       "3          -0.127        0.43246        -0.00005          -0.00910   \n",
       "4          -0.127        0.43246        -0.00005          -0.00910   \n",
       "\n",
       "   return_on_equity  gross_profits  total_assets_approx  asset_turnover  \\\n",
       "0           0.15680   1.973086e+09         7.774306e+09        0.249769   \n",
       "1           0.12170   3.155040e+08         3.838370e+08        3.255124   \n",
       "2           0.05163   3.146360e+09         7.656040e+09        1.347623   \n",
       "3          -0.04153   1.968303e+09         4.142880e+08        9.708591   \n",
       "4          -0.04153   1.968303e+09         4.142880e+08        9.708591   \n",
       "\n",
       "   earnings_growth_rate  dividend_payout_ratio        equity  debt_to_equity  \\\n",
       "0                   0.1          155000.000000 -1.052416e+10       -1.738710   \n",
       "1                 680.1              47.640053 -4.882380e+08       -1.786168   \n",
       "2                 393.5               1.677255 -1.418716e+10       -1.539646   \n",
       "3                   0.0               0.000000 -1.136053e+09       -1.364673   \n",
       "4                   0.0               0.000000 -1.136053e+09       -1.364673   \n",
       "\n",
       "        roi      roce  \n",
       "0  0.131438  0.000000  \n",
       "1  0.428927  0.079343  \n",
       "2  0.186765  0.070519  \n",
       "3  0.620417 -0.000029  \n",
       "4  0.628930 -0.000029  "
      ]
     },
     "execution_count": 7,
     "metadata": {},
     "output_type": "execute_result"
    }
   ],
   "source": [
    "df_fundamentals_numeric_cols = df_fundamentals_book.select_dtypes(include=[\"int\", \"number\", \"float64\"])\n",
    "df_fundamentals_numeric_cols.head(5)"
   ]
  },
  {
   "cell_type": "markdown",
   "metadata": {},
   "source": [
    "### Dataset Infos"
   ]
  },
  {
   "cell_type": "markdown",
   "metadata": {},
   "source": [
    "#### Data Table"
   ]
  },
  {
   "cell_type": "code",
   "execution_count": 7,
   "metadata": {},
   "outputs": [
    {
     "data": {
      "text/plain": [
       "(291, 43)"
      ]
     },
     "execution_count": 7,
     "metadata": {},
     "output_type": "execute_result"
    }
   ],
   "source": [
    "df_fundamentals_book.shape"
   ]
  },
  {
   "cell_type": "markdown",
   "metadata": {},
   "source": [
    "- The dataset contains 291 tickers, one ticker per row, and 43 columns. Each column represents a characteristic of the companies."
   ]
  },
  {
   "cell_type": "code",
   "execution_count": 8,
   "metadata": {},
   "outputs": [
    {
     "name": "stdout",
     "output_type": "stream",
     "text": [
      "<class 'pandas.core.frame.DataFrame'>\n",
      "RangeIndex: 291 entries, 0 to 290\n",
      "Data columns (total 43 columns):\n",
      " #   Column                             Non-Null Count  Dtype  \n",
      "---  ------                             --------------  -----  \n",
      " 0   ticker                             291 non-null    object \n",
      " 1   long_name                          291 non-null    object \n",
      " 2   sector                             291 non-null    object \n",
      " 3   industry                           291 non-null    object \n",
      " 4   market_cap                         291 non-null    float64\n",
      " 5   enterprise_value                   291 non-null    float64\n",
      " 6   total_revenue                      291 non-null    float64\n",
      " 7   profit_margins                     291 non-null    float64\n",
      " 8   operating_margins                  291 non-null    float64\n",
      " 9   dividend_rate                      291 non-null    float64\n",
      " 10  beta                               291 non-null    float64\n",
      " 11  ebitda                             291 non-null    float64\n",
      " 12  trailing_pe                        291 non-null    float64\n",
      " 13  forward_pe                         291 non-null    float64\n",
      " 14  volume                             291 non-null    float64\n",
      " 15  average_volume                     291 non-null    float64\n",
      " 16  fifty_two_week_low                 291 non-null    float64\n",
      " 17  fifty_two_week_high                291 non-null    float64\n",
      " 18  price_to_sales_trailing_12_months  291 non-null    float64\n",
      " 19  fifty_day_average                  291 non-null    float64\n",
      " 20  two_hundred_day_average            291 non-null    float64\n",
      " 21  trailing_annual_dividend_rate      291 non-null    float64\n",
      " 22  trailing_annual_dividend_yield     291 non-null    float64\n",
      " 23  book_value                         291 non-null    float64\n",
      " 24  price_to_book                      291 non-null    float64\n",
      " 25  total_cash                         291 non-null    float64\n",
      " 26  total_cash_per_share               291 non-null    float64\n",
      " 27  total_debt                         291 non-null    float64\n",
      " 28  earnings_quarterly_growth          291 non-null    float64\n",
      " 29  revenue_growth                     291 non-null    float64\n",
      " 30  gross_margins                      291 non-null    float64\n",
      " 31  ebitda_margins                     291 non-null    float64\n",
      " 32  return_on_assets                   291 non-null    float64\n",
      " 33  return_on_equity                   291 non-null    float64\n",
      " 34  gross_profits                      291 non-null    float64\n",
      " 35  total_assets_approx                291 non-null    float64\n",
      " 36  asset_turnover                     291 non-null    float64\n",
      " 37  earnings_growth_rate               291 non-null    float64\n",
      " 38  dividend_payout_ratio              291 non-null    float64\n",
      " 39  equity                             291 non-null    float64\n",
      " 40  debt_to_equity                     291 non-null    float64\n",
      " 41  roi                                291 non-null    float64\n",
      " 42  roce                               291 non-null    float64\n",
      "dtypes: float64(39), object(4)\n",
      "memory usage: 97.9+ KB\n"
     ]
    }
   ],
   "source": [
    "df_fundamentals_book.info()"
   ]
  },
  {
   "cell_type": "markdown",
   "metadata": {},
   "source": [
    "- The dataset contains numerical data typed as float64 and string data typed as objects."
   ]
  },
  {
   "cell_type": "code",
   "execution_count": 9,
   "metadata": {},
   "outputs": [
    {
     "data": {
      "text/html": [
       "<div>\n",
       "<style scoped>\n",
       "    .dataframe tbody tr th:only-of-type {\n",
       "        vertical-align: middle;\n",
       "    }\n",
       "\n",
       "    .dataframe tbody tr th {\n",
       "        vertical-align: top;\n",
       "    }\n",
       "\n",
       "    .dataframe thead th {\n",
       "        text-align: right;\n",
       "    }\n",
       "</style>\n",
       "<table border=\"1\" class=\"dataframe\">\n",
       "  <thead>\n",
       "    <tr style=\"text-align: right;\">\n",
       "      <th></th>\n",
       "      <th>market_cap</th>\n",
       "      <th>enterprise_value</th>\n",
       "      <th>total_revenue</th>\n",
       "      <th>profit_margins</th>\n",
       "      <th>operating_margins</th>\n",
       "      <th>dividend_rate</th>\n",
       "      <th>beta</th>\n",
       "      <th>ebitda</th>\n",
       "      <th>trailing_pe</th>\n",
       "      <th>forward_pe</th>\n",
       "      <th>volume</th>\n",
       "      <th>average_volume</th>\n",
       "      <th>fifty_two_week_low</th>\n",
       "      <th>fifty_two_week_high</th>\n",
       "      <th>price_to_sales_trailing_12_months</th>\n",
       "      <th>fifty_day_average</th>\n",
       "      <th>two_hundred_day_average</th>\n",
       "      <th>trailing_annual_dividend_rate</th>\n",
       "      <th>trailing_annual_dividend_yield</th>\n",
       "      <th>book_value</th>\n",
       "      <th>price_to_book</th>\n",
       "      <th>total_cash</th>\n",
       "      <th>total_cash_per_share</th>\n",
       "      <th>total_debt</th>\n",
       "      <th>earnings_quarterly_growth</th>\n",
       "      <th>revenue_growth</th>\n",
       "      <th>gross_margins</th>\n",
       "      <th>ebitda_margins</th>\n",
       "      <th>return_on_assets</th>\n",
       "      <th>return_on_equity</th>\n",
       "      <th>gross_profits</th>\n",
       "      <th>total_assets_approx</th>\n",
       "      <th>asset_turnover</th>\n",
       "      <th>earnings_growth_rate</th>\n",
       "      <th>dividend_payout_ratio</th>\n",
       "      <th>equity</th>\n",
       "      <th>debt_to_equity</th>\n",
       "      <th>roi</th>\n",
       "      <th>roce</th>\n",
       "    </tr>\n",
       "  </thead>\n",
       "  <tbody>\n",
       "    <tr>\n",
       "      <th>count</th>\n",
       "      <td>2.910000e+02</td>\n",
       "      <td>2.910000e+02</td>\n",
       "      <td>2.910000e+02</td>\n",
       "      <td>291.000000</td>\n",
       "      <td>291.000000</td>\n",
       "      <td>291.000000</td>\n",
       "      <td>291.000000</td>\n",
       "      <td>2.910000e+02</td>\n",
       "      <td>291.000000</td>\n",
       "      <td>291.000000</td>\n",
       "      <td>2.910000e+02</td>\n",
       "      <td>2.910000e+02</td>\n",
       "      <td>291.00000</td>\n",
       "      <td>291.000000</td>\n",
       "      <td>291.000000</td>\n",
       "      <td>291.000000</td>\n",
       "      <td>291.000000</td>\n",
       "      <td>291.000000</td>\n",
       "      <td>291.000000</td>\n",
       "      <td>291.000000</td>\n",
       "      <td>291.000000</td>\n",
       "      <td>2.910000e+02</td>\n",
       "      <td>291.000000</td>\n",
       "      <td>2.910000e+02</td>\n",
       "      <td>291.000000</td>\n",
       "      <td>291.000000</td>\n",
       "      <td>291.000000</td>\n",
       "      <td>291.000000</td>\n",
       "      <td>291.000000</td>\n",
       "      <td>291.000000</td>\n",
       "      <td>2.910000e+02</td>\n",
       "      <td>2.910000e+02</td>\n",
       "      <td>291.000000</td>\n",
       "      <td>291.000000</td>\n",
       "      <td>291.000000</td>\n",
       "      <td>2.910000e+02</td>\n",
       "      <td>291.000000</td>\n",
       "      <td>291.000000</td>\n",
       "      <td>291.000000</td>\n",
       "    </tr>\n",
       "    <tr>\n",
       "      <th>mean</th>\n",
       "      <td>1.787795e+10</td>\n",
       "      <td>3.405533e+10</td>\n",
       "      <td>1.721826e+10</td>\n",
       "      <td>0.286119</td>\n",
       "      <td>-0.092924</td>\n",
       "      <td>29.014124</td>\n",
       "      <td>0.744103</td>\n",
       "      <td>4.008850e+09</td>\n",
       "      <td>11.956751</td>\n",
       "      <td>4.730074</td>\n",
       "      <td>1.397870e+06</td>\n",
       "      <td>3.309691e+06</td>\n",
       "      <td>16.10192</td>\n",
       "      <td>49.003587</td>\n",
       "      <td>3.227017</td>\n",
       "      <td>23.392806</td>\n",
       "      <td>29.528437</td>\n",
       "      <td>1.023897</td>\n",
       "      <td>0.035842</td>\n",
       "      <td>-0.777076</td>\n",
       "      <td>5.480571</td>\n",
       "      <td>9.627440e+09</td>\n",
       "      <td>14.046144</td>\n",
       "      <td>2.586584e+10</td>\n",
       "      <td>0.406457</td>\n",
       "      <td>0.040990</td>\n",
       "      <td>0.303825</td>\n",
       "      <td>0.372809</td>\n",
       "      <td>0.043399</td>\n",
       "      <td>0.131033</td>\n",
       "      <td>7.152668e+09</td>\n",
       "      <td>9.627440e+09</td>\n",
       "      <td>3088.299716</td>\n",
       "      <td>40.645704</td>\n",
       "      <td>619.736455</td>\n",
       "      <td>-1.623840e+10</td>\n",
       "      <td>3.858880</td>\n",
       "      <td>1.162924</td>\n",
       "      <td>0.067012</td>\n",
       "    </tr>\n",
       "    <tr>\n",
       "      <th>std</th>\n",
       "      <td>5.377619e+10</td>\n",
       "      <td>1.138558e+11</td>\n",
       "      <td>5.712366e+10</td>\n",
       "      <td>1.559603</td>\n",
       "      <td>1.635946</td>\n",
       "      <td>462.561653</td>\n",
       "      <td>0.426138</td>\n",
       "      <td>2.469248e+10</td>\n",
       "      <td>21.802508</td>\n",
       "      <td>8.039842</td>\n",
       "      <td>6.385571e+06</td>\n",
       "      <td>9.698547e+06</td>\n",
       "      <td>22.40023</td>\n",
       "      <td>382.659743</td>\n",
       "      <td>16.152040</td>\n",
       "      <td>48.424500</td>\n",
       "      <td>157.775895</td>\n",
       "      <td>3.804884</td>\n",
       "      <td>0.053032</td>\n",
       "      <td>365.198328</td>\n",
       "      <td>39.448676</td>\n",
       "      <td>4.407336e+10</td>\n",
       "      <td>47.094185</td>\n",
       "      <td>1.092874e+11</td>\n",
       "      <td>2.792984</td>\n",
       "      <td>0.440188</td>\n",
       "      <td>0.279777</td>\n",
       "      <td>3.718641</td>\n",
       "      <td>0.064184</td>\n",
       "      <td>0.515619</td>\n",
       "      <td>3.130820e+10</td>\n",
       "      <td>4.407336e+10</td>\n",
       "      <td>51974.669936</td>\n",
       "      <td>279.298426</td>\n",
       "      <td>9088.898756</td>\n",
       "      <td>7.324077e+10</td>\n",
       "      <td>44.573718</td>\n",
       "      <td>2.947883</td>\n",
       "      <td>0.511509</td>\n",
       "    </tr>\n",
       "    <tr>\n",
       "      <th>min</th>\n",
       "      <td>1.257716e+06</td>\n",
       "      <td>-6.435227e+09</td>\n",
       "      <td>-4.242400e+07</td>\n",
       "      <td>-2.162070</td>\n",
       "      <td>-14.460840</td>\n",
       "      <td>0.000000</td>\n",
       "      <td>-0.190000</td>\n",
       "      <td>-1.011200e+09</td>\n",
       "      <td>0.000000</td>\n",
       "      <td>-10.142858</td>\n",
       "      <td>0.000000e+00</td>\n",
       "      <td>0.000000e+00</td>\n",
       "      <td>0.10000</td>\n",
       "      <td>1.570000</td>\n",
       "      <td>-1.871929</td>\n",
       "      <td>0.669600</td>\n",
       "      <td>1.088800</td>\n",
       "      <td>0.000000</td>\n",
       "      <td>0.000000</td>\n",
       "      <td>-3962.890000</td>\n",
       "      <td>0.000000</td>\n",
       "      <td>6.000000e+03</td>\n",
       "      <td>0.000000</td>\n",
       "      <td>0.000000e+00</td>\n",
       "      <td>-0.999000</td>\n",
       "      <td>-0.983000</td>\n",
       "      <td>-0.845000</td>\n",
       "      <td>-1.430190</td>\n",
       "      <td>-0.266230</td>\n",
       "      <td>-1.378740</td>\n",
       "      <td>-4.981650e+08</td>\n",
       "      <td>5.929602e+03</td>\n",
       "      <td>-4.214609</td>\n",
       "      <td>-99.900000</td>\n",
       "      <td>0.000000</td>\n",
       "      <td>-8.137106e+11</td>\n",
       "      <td>-43.154525</td>\n",
       "      <td>-8.232338</td>\n",
       "      <td>-6.593215</td>\n",
       "    </tr>\n",
       "    <tr>\n",
       "      <th>25%</th>\n",
       "      <td>2.799440e+08</td>\n",
       "      <td>6.108281e+08</td>\n",
       "      <td>5.333440e+08</td>\n",
       "      <td>0.006520</td>\n",
       "      <td>0.038240</td>\n",
       "      <td>0.085000</td>\n",
       "      <td>0.464000</td>\n",
       "      <td>7.221336e+06</td>\n",
       "      <td>0.315364</td>\n",
       "      <td>0.000000</td>\n",
       "      <td>2.000000e+02</td>\n",
       "      <td>3.320500e+03</td>\n",
       "      <td>4.01500</td>\n",
       "      <td>8.940000</td>\n",
       "      <td>0.339396</td>\n",
       "      <td>6.006700</td>\n",
       "      <td>6.008975</td>\n",
       "      <td>0.000000</td>\n",
       "      <td>0.000000</td>\n",
       "      <td>4.655000</td>\n",
       "      <td>0.579816</td>\n",
       "      <td>9.926100e+07</td>\n",
       "      <td>1.095000</td>\n",
       "      <td>2.301080e+08</td>\n",
       "      <td>-0.250000</td>\n",
       "      <td>-0.140000</td>\n",
       "      <td>0.137610</td>\n",
       "      <td>0.023655</td>\n",
       "      <td>0.008540</td>\n",
       "      <td>0.000000</td>\n",
       "      <td>9.024000e+06</td>\n",
       "      <td>9.926101e+07</td>\n",
       "      <td>2.403518</td>\n",
       "      <td>-25.000000</td>\n",
       "      <td>0.000000</td>\n",
       "      <td>-6.422202e+09</td>\n",
       "      <td>-1.454222</td>\n",
       "      <td>0.316042</td>\n",
       "      <td>0.012705</td>\n",
       "    </tr>\n",
       "    <tr>\n",
       "      <th>50%</th>\n",
       "      <td>2.451804e+09</td>\n",
       "      <td>4.040345e+09</td>\n",
       "      <td>2.344667e+09</td>\n",
       "      <td>0.080330</td>\n",
       "      <td>0.143200</td>\n",
       "      <td>0.370000</td>\n",
       "      <td>0.680000</td>\n",
       "      <td>2.535170e+08</td>\n",
       "      <td>7.008511</td>\n",
       "      <td>0.000000</td>\n",
       "      <td>2.900000e+04</td>\n",
       "      <td>1.291680e+05</td>\n",
       "      <td>9.08000</td>\n",
       "      <td>16.690000</td>\n",
       "      <td>0.830885</td>\n",
       "      <td>12.508200</td>\n",
       "      <td>12.016700</td>\n",
       "      <td>0.149000</td>\n",
       "      <td>0.014087</td>\n",
       "      <td>9.920000</td>\n",
       "      <td>0.968048</td>\n",
       "      <td>6.860560e+08</td>\n",
       "      <td>3.383000</td>\n",
       "      <td>1.625717e+09</td>\n",
       "      <td>0.000000</td>\n",
       "      <td>0.008000</td>\n",
       "      <td>0.270300</td>\n",
       "      <td>0.124250</td>\n",
       "      <td>0.037750</td>\n",
       "      <td>0.094270</td>\n",
       "      <td>5.433620e+08</td>\n",
       "      <td>6.860560e+08</td>\n",
       "      <td>5.042580</td>\n",
       "      <td>0.000000</td>\n",
       "      <td>0.000000</td>\n",
       "      <td>-1.021396e+09</td>\n",
       "      <td>-1.184640</td>\n",
       "      <td>0.630443</td>\n",
       "      <td>0.096003</td>\n",
       "    </tr>\n",
       "    <tr>\n",
       "      <th>75%</th>\n",
       "      <td>9.835650e+09</td>\n",
       "      <td>1.914586e+10</td>\n",
       "      <td>1.059748e+10</td>\n",
       "      <td>0.207180</td>\n",
       "      <td>0.239180</td>\n",
       "      <td>1.255000</td>\n",
       "      <td>1.029000</td>\n",
       "      <td>1.805205e+09</td>\n",
       "      <td>12.451811</td>\n",
       "      <td>7.758718</td>\n",
       "      <td>6.352000e+05</td>\n",
       "      <td>2.251468e+06</td>\n",
       "      <td>20.74000</td>\n",
       "      <td>33.775000</td>\n",
       "      <td>1.885794</td>\n",
       "      <td>26.488700</td>\n",
       "      <td>25.906325</td>\n",
       "      <td>0.754000</td>\n",
       "      <td>0.049804</td>\n",
       "      <td>21.277000</td>\n",
       "      <td>1.812316</td>\n",
       "      <td>2.513393e+09</td>\n",
       "      <td>7.845500</td>\n",
       "      <td>1.092528e+10</td>\n",
       "      <td>0.020500</td>\n",
       "      <td>0.143000</td>\n",
       "      <td>0.448135</td>\n",
       "      <td>0.271060</td>\n",
       "      <td>0.072580</td>\n",
       "      <td>0.183505</td>\n",
       "      <td>3.188546e+09</td>\n",
       "      <td>2.513393e+09</td>\n",
       "      <td>9.667814</td>\n",
       "      <td>2.050000</td>\n",
       "      <td>0.000000</td>\n",
       "      <td>-1.298000e+06</td>\n",
       "      <td>-1.000198</td>\n",
       "      <td>1.293370</td>\n",
       "      <td>0.163731</td>\n",
       "    </tr>\n",
       "    <tr>\n",
       "      <th>max</th>\n",
       "      <td>4.832119e+11</td>\n",
       "      <td>9.574406e+11</td>\n",
       "      <td>5.815630e+11</td>\n",
       "      <td>21.757490</td>\n",
       "      <td>1.008160</td>\n",
       "      <td>7891.550000</td>\n",
       "      <td>2.014000</td>\n",
       "      <td>2.910870e+11</td>\n",
       "      <td>220.238100</td>\n",
       "      <td>68.823524</td>\n",
       "      <td>9.450820e+07</td>\n",
       "      <td>1.063420e+08</td>\n",
       "      <td>242.05000</td>\n",
       "      <td>6530.000000</td>\n",
       "      <td>233.914550</td>\n",
       "      <td>711.948400</td>\n",
       "      <td>2670.774700</td>\n",
       "      <td>57.786000</td>\n",
       "      <td>0.267729</td>\n",
       "      <td>4005.665000</td>\n",
       "      <td>546.666700</td>\n",
       "      <td>3.943250e+11</td>\n",
       "      <td>542.057000</td>\n",
       "      <td>8.957765e+11</td>\n",
       "      <td>27.886000</td>\n",
       "      <td>3.683000</td>\n",
       "      <td>1.000000</td>\n",
       "      <td>63.405792</td>\n",
       "      <td>0.374920</td>\n",
       "      <td>5.296820</td>\n",
       "      <td>3.341000e+11</td>\n",
       "      <td>3.943250e+11</td>\n",
       "      <td>886654.941090</td>\n",
       "      <td>2788.600000</td>\n",
       "      <td>155000.000000</td>\n",
       "      <td>1.005227e+10</td>\n",
       "      <td>521.855886</td>\n",
       "      <td>34.366094</td>\n",
       "      <td>2.561582</td>\n",
       "    </tr>\n",
       "  </tbody>\n",
       "</table>\n",
       "</div>"
      ],
      "text/plain": [
       "         market_cap  enterprise_value  total_revenue  profit_margins  \\\n",
       "count  2.910000e+02      2.910000e+02   2.910000e+02      291.000000   \n",
       "mean   1.787795e+10      3.405533e+10   1.721826e+10        0.286119   \n",
       "std    5.377619e+10      1.138558e+11   5.712366e+10        1.559603   \n",
       "min    1.257716e+06     -6.435227e+09  -4.242400e+07       -2.162070   \n",
       "25%    2.799440e+08      6.108281e+08   5.333440e+08        0.006520   \n",
       "50%    2.451804e+09      4.040345e+09   2.344667e+09        0.080330   \n",
       "75%    9.835650e+09      1.914586e+10   1.059748e+10        0.207180   \n",
       "max    4.832119e+11      9.574406e+11   5.815630e+11       21.757490   \n",
       "\n",
       "       operating_margins  dividend_rate        beta        ebitda  \\\n",
       "count         291.000000     291.000000  291.000000  2.910000e+02   \n",
       "mean           -0.092924      29.014124    0.744103  4.008850e+09   \n",
       "std             1.635946     462.561653    0.426138  2.469248e+10   \n",
       "min           -14.460840       0.000000   -0.190000 -1.011200e+09   \n",
       "25%             0.038240       0.085000    0.464000  7.221336e+06   \n",
       "50%             0.143200       0.370000    0.680000  2.535170e+08   \n",
       "75%             0.239180       1.255000    1.029000  1.805205e+09   \n",
       "max             1.008160    7891.550000    2.014000  2.910870e+11   \n",
       "\n",
       "       trailing_pe  forward_pe        volume  average_volume  \\\n",
       "count   291.000000  291.000000  2.910000e+02    2.910000e+02   \n",
       "mean     11.956751    4.730074  1.397870e+06    3.309691e+06   \n",
       "std      21.802508    8.039842  6.385571e+06    9.698547e+06   \n",
       "min       0.000000  -10.142858  0.000000e+00    0.000000e+00   \n",
       "25%       0.315364    0.000000  2.000000e+02    3.320500e+03   \n",
       "50%       7.008511    0.000000  2.900000e+04    1.291680e+05   \n",
       "75%      12.451811    7.758718  6.352000e+05    2.251468e+06   \n",
       "max     220.238100   68.823524  9.450820e+07    1.063420e+08   \n",
       "\n",
       "       fifty_two_week_low  fifty_two_week_high  \\\n",
       "count           291.00000           291.000000   \n",
       "mean             16.10192            49.003587   \n",
       "std              22.40023           382.659743   \n",
       "min               0.10000             1.570000   \n",
       "25%               4.01500             8.940000   \n",
       "50%               9.08000            16.690000   \n",
       "75%              20.74000            33.775000   \n",
       "max             242.05000          6530.000000   \n",
       "\n",
       "       price_to_sales_trailing_12_months  fifty_day_average  \\\n",
       "count                         291.000000         291.000000   \n",
       "mean                            3.227017          23.392806   \n",
       "std                            16.152040          48.424500   \n",
       "min                            -1.871929           0.669600   \n",
       "25%                             0.339396           6.006700   \n",
       "50%                             0.830885          12.508200   \n",
       "75%                             1.885794          26.488700   \n",
       "max                           233.914550         711.948400   \n",
       "\n",
       "       two_hundred_day_average  trailing_annual_dividend_rate  \\\n",
       "count               291.000000                     291.000000   \n",
       "mean                 29.528437                       1.023897   \n",
       "std                 157.775895                       3.804884   \n",
       "min                   1.088800                       0.000000   \n",
       "25%                   6.008975                       0.000000   \n",
       "50%                  12.016700                       0.149000   \n",
       "75%                  25.906325                       0.754000   \n",
       "max                2670.774700                      57.786000   \n",
       "\n",
       "       trailing_annual_dividend_yield   book_value  price_to_book  \\\n",
       "count                      291.000000   291.000000     291.000000   \n",
       "mean                         0.035842    -0.777076       5.480571   \n",
       "std                          0.053032   365.198328      39.448676   \n",
       "min                          0.000000 -3962.890000       0.000000   \n",
       "25%                          0.000000     4.655000       0.579816   \n",
       "50%                          0.014087     9.920000       0.968048   \n",
       "75%                          0.049804    21.277000       1.812316   \n",
       "max                          0.267729  4005.665000     546.666700   \n",
       "\n",
       "         total_cash  total_cash_per_share    total_debt  \\\n",
       "count  2.910000e+02            291.000000  2.910000e+02   \n",
       "mean   9.627440e+09             14.046144  2.586584e+10   \n",
       "std    4.407336e+10             47.094185  1.092874e+11   \n",
       "min    6.000000e+03              0.000000  0.000000e+00   \n",
       "25%    9.926100e+07              1.095000  2.301080e+08   \n",
       "50%    6.860560e+08              3.383000  1.625717e+09   \n",
       "75%    2.513393e+09              7.845500  1.092528e+10   \n",
       "max    3.943250e+11            542.057000  8.957765e+11   \n",
       "\n",
       "       earnings_quarterly_growth  revenue_growth  gross_margins  \\\n",
       "count                 291.000000      291.000000     291.000000   \n",
       "mean                    0.406457        0.040990       0.303825   \n",
       "std                     2.792984        0.440188       0.279777   \n",
       "min                    -0.999000       -0.983000      -0.845000   \n",
       "25%                    -0.250000       -0.140000       0.137610   \n",
       "50%                     0.000000        0.008000       0.270300   \n",
       "75%                     0.020500        0.143000       0.448135   \n",
       "max                    27.886000        3.683000       1.000000   \n",
       "\n",
       "       ebitda_margins  return_on_assets  return_on_equity  gross_profits  \\\n",
       "count      291.000000        291.000000        291.000000   2.910000e+02   \n",
       "mean         0.372809          0.043399          0.131033   7.152668e+09   \n",
       "std          3.718641          0.064184          0.515619   3.130820e+10   \n",
       "min         -1.430190         -0.266230         -1.378740  -4.981650e+08   \n",
       "25%          0.023655          0.008540          0.000000   9.024000e+06   \n",
       "50%          0.124250          0.037750          0.094270   5.433620e+08   \n",
       "75%          0.271060          0.072580          0.183505   3.188546e+09   \n",
       "max         63.405792          0.374920          5.296820   3.341000e+11   \n",
       "\n",
       "       total_assets_approx  asset_turnover  earnings_growth_rate  \\\n",
       "count         2.910000e+02      291.000000            291.000000   \n",
       "mean          9.627440e+09     3088.299716             40.645704   \n",
       "std           4.407336e+10    51974.669936            279.298426   \n",
       "min           5.929602e+03       -4.214609            -99.900000   \n",
       "25%           9.926101e+07        2.403518            -25.000000   \n",
       "50%           6.860560e+08        5.042580              0.000000   \n",
       "75%           2.513393e+09        9.667814              2.050000   \n",
       "max           3.943250e+11   886654.941090           2788.600000   \n",
       "\n",
       "       dividend_payout_ratio        equity  debt_to_equity         roi  \\\n",
       "count             291.000000  2.910000e+02      291.000000  291.000000   \n",
       "mean              619.736455 -1.623840e+10        3.858880    1.162924   \n",
       "std              9088.898756  7.324077e+10       44.573718    2.947883   \n",
       "min                 0.000000 -8.137106e+11      -43.154525   -8.232338   \n",
       "25%                 0.000000 -6.422202e+09       -1.454222    0.316042   \n",
       "50%                 0.000000 -1.021396e+09       -1.184640    0.630443   \n",
       "75%                 0.000000 -1.298000e+06       -1.000198    1.293370   \n",
       "max            155000.000000  1.005227e+10      521.855886   34.366094   \n",
       "\n",
       "             roce  \n",
       "count  291.000000  \n",
       "mean     0.067012  \n",
       "std      0.511509  \n",
       "min     -6.593215  \n",
       "25%      0.012705  \n",
       "50%      0.096003  \n",
       "75%      0.163731  \n",
       "max      2.561582  "
      ]
     },
     "execution_count": 9,
     "metadata": {},
     "output_type": "execute_result"
    }
   ],
   "source": [
    "df_fundamentals_book.describe()"
   ]
  },
  {
   "cell_type": "code",
   "execution_count": 10,
   "metadata": {},
   "outputs": [
    {
     "data": {
      "text/plain": [
       "ticker                               290\n",
       "long_name                            228\n",
       "sector                                11\n",
       "industry                              78\n",
       "market_cap                           290\n",
       "enterprise_value                     290\n",
       "total_revenue                        227\n",
       "profit_margins                       222\n",
       "operating_margins                    228\n",
       "dividend_rate                        137\n",
       "beta                                 211\n",
       "ebitda                               210\n",
       "trailing_pe                          222\n",
       "forward_pe                           148\n",
       "volume                               197\n",
       "average_volume                       283\n",
       "fifty_two_week_low                   272\n",
       "fifty_two_week_high                  272\n",
       "price_to_sales_trailing_12_months    290\n",
       "fifty_day_average                    290\n",
       "two_hundred_day_average              290\n",
       "trailing_annual_dividend_rate        125\n",
       "trailing_annual_dividend_yield       167\n",
       "book_value                           228\n",
       "price_to_book                        259\n",
       "total_cash                           228\n",
       "total_cash_per_share                 227\n",
       "total_debt                           222\n",
       "earnings_quarterly_growth            135\n",
       "revenue_growth                       203\n",
       "gross_margins                        207\n",
       "ebitda_margins                       207\n",
       "return_on_assets                     226\n",
       "return_on_equity                     194\n",
       "gross_profits                        183\n",
       "total_assets_approx                  228\n",
       "asset_turnover                       228\n",
       "earnings_growth_rate                 135\n",
       "dividend_payout_ratio                 49\n",
       "equity                               228\n",
       "debt_to_equity                       223\n",
       "roi                                  290\n",
       "roce                                 260\n",
       "dtype: int64"
      ]
     },
     "execution_count": 10,
     "metadata": {},
     "output_type": "execute_result"
    }
   ],
   "source": [
    "df_fundamentals_book.nunique()"
   ]
  },
  {
   "cell_type": "markdown",
   "metadata": {},
   "source": [
    "- Analyzing the unique data, some points stand out. Out of 291 tickers, we have 228 companies related, so we assume that a company has more than one ticker, for example, Petrobras and Itaú (PETR3.SA, PETR4.SA, and ITUB3.SA, ITUB4.SA). Another point to note is the number of sectors compared to the number of companies; we have 11 sectors for 291 companies."
   ]
  },
  {
   "cell_type": "markdown",
   "metadata": {},
   "source": [
    "#### Coefficient of variation"
   ]
  },
  {
   "cell_type": "code",
   "execution_count": 50,
   "metadata": {},
   "outputs": [
    {
     "data": {
      "application/vnd.plotly.v1+json": {
       "config": {
        "plotlyServerURL": "https://plot.ly"
       },
       "data": [
        {
         "alignmentgroup": "True",
         "hovertemplate": "<b>%{hovertext}</b><br><br>column=%{x}<br>coefficient_variation=%{y}<extra></extra>",
         "hovertext": [
          "equity",
          "operating_margins",
          "book_value",
          "asset_turnover",
          "dividend_rate",
          "dividend_payout_ratio",
          "debt_to_equity",
          "revenue_growth",
          "ebitda_margins",
          "fifty_two_week_high",
          "roce",
          "price_to_book",
          "earnings_quarterly_growth",
          "earnings_growth_rate",
          "ebitda",
          "profit_margins",
          "two_hundred_day_average",
          "price_to_sales_trailing_12_months",
          "total_assets_approx",
          "total_cash",
          "volume",
          "gross_profits",
          "total_debt",
          "return_on_equity",
          "trailing_annual_dividend_rate",
          "total_cash_per_share",
          "enterprise_value",
          "total_revenue",
          "market_cap",
          "average_volume",
          "roi",
          "fifty_day_average",
          "trailing_pe",
          "forward_pe",
          "trailing_annual_dividend_yield",
          "return_on_assets",
          "fifty_two_week_low",
          "gross_margins",
          "beta"
         ],
         "legendgroup": "",
         "marker": {
          "color": "rgb(100, 195, 181)",
          "pattern": {
           "shape": ""
          }
         },
         "name": "",
         "offsetgroup": "",
         "orientation": "v",
         "showlegend": false,
         "text": [
          "-22%",
          "-6%",
          "-0%",
          "6%",
          "6%",
          "7%",
          "9%",
          "9%",
          "10%",
          "13%",
          "13%",
          "14%",
          "15%",
          "15%",
          "16%",
          "18%",
          "19%",
          "20%",
          "22%",
          "22%",
          "22%",
          "23%",
          "24%",
          "25%",
          "27%",
          "30%",
          "30%",
          "30%",
          "33%",
          "34%",
          "39%",
          "48%",
          "55%",
          "59%",
          "68%",
          "68%",
          "72%",
          "109%",
          "175%"
         ],
         "textposition": "outside",
         "type": "bar",
         "x": [
          "equity",
          "operating_margins",
          "book_value",
          "asset_turnover",
          "dividend_rate",
          "dividend_payout_ratio",
          "debt_to_equity",
          "revenue_growth",
          "ebitda_margins",
          "fifty_two_week_high",
          "roce",
          "price_to_book",
          "earnings_quarterly_growth",
          "earnings_growth_rate",
          "ebitda",
          "profit_margins",
          "two_hundred_day_average",
          "price_to_sales_trailing_12_months",
          "total_assets_approx",
          "total_cash",
          "volume",
          "gross_profits",
          "total_debt",
          "return_on_equity",
          "trailing_annual_dividend_rate",
          "total_cash_per_share",
          "enterprise_value",
          "total_revenue",
          "market_cap",
          "average_volume",
          "roi",
          "fifty_day_average",
          "trailing_pe",
          "forward_pe",
          "trailing_annual_dividend_yield",
          "return_on_assets",
          "fifty_two_week_low",
          "gross_margins",
          "beta"
         ],
         "xaxis": "x",
         "y": [
          -22.17126052399547,
          -5.680116757685735,
          -0.21278180696302867,
          5.941932328570592,
          6.272487905446153,
          6.8186088518501125,
          8.657297781792952,
          9.311850889455933,
          10.025420419811875,
          12.806047118294197,
          13.100798149261351,
          13.89291372700058,
          14.552786772781138,
          14.552786772781138,
          16.235105594793367,
          18.345596408046664,
          18.715429571439707,
          19.979005220559987,
          21.84412573942433,
          21.844125743228922,
          21.891075266903858,
          22.84598821786613,
          23.66773443458269,
          25.412765244100616,
          26.910065409492738,
          29.825644982838455,
          29.910944110205918,
          30.142080638555935,
          33.24509664173141,
          34.12563437886373,
          39.449462623243264,
          48.307789154423844,
          54.84117369261493,
          58.83292351339334,
          67.58648707567663,
          67.6169161479798,
          71.88283524238402,
          108.59505728132643,
          174.6153389781586
         ],
         "yaxis": "y"
        }
       ],
       "layout": {
        "barmode": "relative",
        "font": {
         "color": "white"
        },
        "height": 600,
        "legend": {
         "tracegroupgap": 0
        },
        "template": {
         "data": {
          "bar": [
           {
            "error_x": {
             "color": "#f2f5fa"
            },
            "error_y": {
             "color": "#f2f5fa"
            },
            "marker": {
             "line": {
              "color": "rgb(17,17,17)",
              "width": 0.5
             },
             "pattern": {
              "fillmode": "overlay",
              "size": 10,
              "solidity": 0.2
             }
            },
            "type": "bar"
           }
          ],
          "barpolar": [
           {
            "marker": {
             "line": {
              "color": "rgb(17,17,17)",
              "width": 0.5
             },
             "pattern": {
              "fillmode": "overlay",
              "size": 10,
              "solidity": 0.2
             }
            },
            "type": "barpolar"
           }
          ],
          "carpet": [
           {
            "aaxis": {
             "endlinecolor": "#A2B1C6",
             "gridcolor": "#506784",
             "linecolor": "#506784",
             "minorgridcolor": "#506784",
             "startlinecolor": "#A2B1C6"
            },
            "baxis": {
             "endlinecolor": "#A2B1C6",
             "gridcolor": "#506784",
             "linecolor": "#506784",
             "minorgridcolor": "#506784",
             "startlinecolor": "#A2B1C6"
            },
            "type": "carpet"
           }
          ],
          "choropleth": [
           {
            "colorbar": {
             "outlinewidth": 0,
             "ticks": ""
            },
            "type": "choropleth"
           }
          ],
          "contour": [
           {
            "colorbar": {
             "outlinewidth": 0,
             "ticks": ""
            },
            "colorscale": [
             [
              0,
              "#0d0887"
             ],
             [
              0.1111111111111111,
              "#46039f"
             ],
             [
              0.2222222222222222,
              "#7201a8"
             ],
             [
              0.3333333333333333,
              "#9c179e"
             ],
             [
              0.4444444444444444,
              "#bd3786"
             ],
             [
              0.5555555555555556,
              "#d8576b"
             ],
             [
              0.6666666666666666,
              "#ed7953"
             ],
             [
              0.7777777777777778,
              "#fb9f3a"
             ],
             [
              0.8888888888888888,
              "#fdca26"
             ],
             [
              1,
              "#f0f921"
             ]
            ],
            "type": "contour"
           }
          ],
          "contourcarpet": [
           {
            "colorbar": {
             "outlinewidth": 0,
             "ticks": ""
            },
            "type": "contourcarpet"
           }
          ],
          "heatmap": [
           {
            "colorbar": {
             "outlinewidth": 0,
             "ticks": ""
            },
            "colorscale": [
             [
              0,
              "#0d0887"
             ],
             [
              0.1111111111111111,
              "#46039f"
             ],
             [
              0.2222222222222222,
              "#7201a8"
             ],
             [
              0.3333333333333333,
              "#9c179e"
             ],
             [
              0.4444444444444444,
              "#bd3786"
             ],
             [
              0.5555555555555556,
              "#d8576b"
             ],
             [
              0.6666666666666666,
              "#ed7953"
             ],
             [
              0.7777777777777778,
              "#fb9f3a"
             ],
             [
              0.8888888888888888,
              "#fdca26"
             ],
             [
              1,
              "#f0f921"
             ]
            ],
            "type": "heatmap"
           }
          ],
          "heatmapgl": [
           {
            "colorbar": {
             "outlinewidth": 0,
             "ticks": ""
            },
            "colorscale": [
             [
              0,
              "#0d0887"
             ],
             [
              0.1111111111111111,
              "#46039f"
             ],
             [
              0.2222222222222222,
              "#7201a8"
             ],
             [
              0.3333333333333333,
              "#9c179e"
             ],
             [
              0.4444444444444444,
              "#bd3786"
             ],
             [
              0.5555555555555556,
              "#d8576b"
             ],
             [
              0.6666666666666666,
              "#ed7953"
             ],
             [
              0.7777777777777778,
              "#fb9f3a"
             ],
             [
              0.8888888888888888,
              "#fdca26"
             ],
             [
              1,
              "#f0f921"
             ]
            ],
            "type": "heatmapgl"
           }
          ],
          "histogram": [
           {
            "marker": {
             "pattern": {
              "fillmode": "overlay",
              "size": 10,
              "solidity": 0.2
             }
            },
            "type": "histogram"
           }
          ],
          "histogram2d": [
           {
            "colorbar": {
             "outlinewidth": 0,
             "ticks": ""
            },
            "colorscale": [
             [
              0,
              "#0d0887"
             ],
             [
              0.1111111111111111,
              "#46039f"
             ],
             [
              0.2222222222222222,
              "#7201a8"
             ],
             [
              0.3333333333333333,
              "#9c179e"
             ],
             [
              0.4444444444444444,
              "#bd3786"
             ],
             [
              0.5555555555555556,
              "#d8576b"
             ],
             [
              0.6666666666666666,
              "#ed7953"
             ],
             [
              0.7777777777777778,
              "#fb9f3a"
             ],
             [
              0.8888888888888888,
              "#fdca26"
             ],
             [
              1,
              "#f0f921"
             ]
            ],
            "type": "histogram2d"
           }
          ],
          "histogram2dcontour": [
           {
            "colorbar": {
             "outlinewidth": 0,
             "ticks": ""
            },
            "colorscale": [
             [
              0,
              "#0d0887"
             ],
             [
              0.1111111111111111,
              "#46039f"
             ],
             [
              0.2222222222222222,
              "#7201a8"
             ],
             [
              0.3333333333333333,
              "#9c179e"
             ],
             [
              0.4444444444444444,
              "#bd3786"
             ],
             [
              0.5555555555555556,
              "#d8576b"
             ],
             [
              0.6666666666666666,
              "#ed7953"
             ],
             [
              0.7777777777777778,
              "#fb9f3a"
             ],
             [
              0.8888888888888888,
              "#fdca26"
             ],
             [
              1,
              "#f0f921"
             ]
            ],
            "type": "histogram2dcontour"
           }
          ],
          "mesh3d": [
           {
            "colorbar": {
             "outlinewidth": 0,
             "ticks": ""
            },
            "type": "mesh3d"
           }
          ],
          "parcoords": [
           {
            "line": {
             "colorbar": {
              "outlinewidth": 0,
              "ticks": ""
             }
            },
            "type": "parcoords"
           }
          ],
          "pie": [
           {
            "automargin": true,
            "type": "pie"
           }
          ],
          "scatter": [
           {
            "marker": {
             "line": {
              "color": "#283442"
             }
            },
            "type": "scatter"
           }
          ],
          "scatter3d": [
           {
            "line": {
             "colorbar": {
              "outlinewidth": 0,
              "ticks": ""
             }
            },
            "marker": {
             "colorbar": {
              "outlinewidth": 0,
              "ticks": ""
             }
            },
            "type": "scatter3d"
           }
          ],
          "scattercarpet": [
           {
            "marker": {
             "colorbar": {
              "outlinewidth": 0,
              "ticks": ""
             }
            },
            "type": "scattercarpet"
           }
          ],
          "scattergeo": [
           {
            "marker": {
             "colorbar": {
              "outlinewidth": 0,
              "ticks": ""
             }
            },
            "type": "scattergeo"
           }
          ],
          "scattergl": [
           {
            "marker": {
             "line": {
              "color": "#283442"
             }
            },
            "type": "scattergl"
           }
          ],
          "scattermapbox": [
           {
            "marker": {
             "colorbar": {
              "outlinewidth": 0,
              "ticks": ""
             }
            },
            "type": "scattermapbox"
           }
          ],
          "scatterpolar": [
           {
            "marker": {
             "colorbar": {
              "outlinewidth": 0,
              "ticks": ""
             }
            },
            "type": "scatterpolar"
           }
          ],
          "scatterpolargl": [
           {
            "marker": {
             "colorbar": {
              "outlinewidth": 0,
              "ticks": ""
             }
            },
            "type": "scatterpolargl"
           }
          ],
          "scatterternary": [
           {
            "marker": {
             "colorbar": {
              "outlinewidth": 0,
              "ticks": ""
             }
            },
            "type": "scatterternary"
           }
          ],
          "surface": [
           {
            "colorbar": {
             "outlinewidth": 0,
             "ticks": ""
            },
            "colorscale": [
             [
              0,
              "#0d0887"
             ],
             [
              0.1111111111111111,
              "#46039f"
             ],
             [
              0.2222222222222222,
              "#7201a8"
             ],
             [
              0.3333333333333333,
              "#9c179e"
             ],
             [
              0.4444444444444444,
              "#bd3786"
             ],
             [
              0.5555555555555556,
              "#d8576b"
             ],
             [
              0.6666666666666666,
              "#ed7953"
             ],
             [
              0.7777777777777778,
              "#fb9f3a"
             ],
             [
              0.8888888888888888,
              "#fdca26"
             ],
             [
              1,
              "#f0f921"
             ]
            ],
            "type": "surface"
           }
          ],
          "table": [
           {
            "cells": {
             "fill": {
              "color": "#506784"
             },
             "line": {
              "color": "rgb(17,17,17)"
             }
            },
            "header": {
             "fill": {
              "color": "#2a3f5f"
             },
             "line": {
              "color": "rgb(17,17,17)"
             }
            },
            "type": "table"
           }
          ]
         },
         "layout": {
          "annotationdefaults": {
           "arrowcolor": "#f2f5fa",
           "arrowhead": 0,
           "arrowwidth": 1
          },
          "autotypenumbers": "strict",
          "coloraxis": {
           "colorbar": {
            "outlinewidth": 0,
            "ticks": ""
           }
          },
          "colorscale": {
           "diverging": [
            [
             0,
             "#8e0152"
            ],
            [
             0.1,
             "#c51b7d"
            ],
            [
             0.2,
             "#de77ae"
            ],
            [
             0.3,
             "#f1b6da"
            ],
            [
             0.4,
             "#fde0ef"
            ],
            [
             0.5,
             "#f7f7f7"
            ],
            [
             0.6,
             "#e6f5d0"
            ],
            [
             0.7,
             "#b8e186"
            ],
            [
             0.8,
             "#7fbc41"
            ],
            [
             0.9,
             "#4d9221"
            ],
            [
             1,
             "#276419"
            ]
           ],
           "sequential": [
            [
             0,
             "#0d0887"
            ],
            [
             0.1111111111111111,
             "#46039f"
            ],
            [
             0.2222222222222222,
             "#7201a8"
            ],
            [
             0.3333333333333333,
             "#9c179e"
            ],
            [
             0.4444444444444444,
             "#bd3786"
            ],
            [
             0.5555555555555556,
             "#d8576b"
            ],
            [
             0.6666666666666666,
             "#ed7953"
            ],
            [
             0.7777777777777778,
             "#fb9f3a"
            ],
            [
             0.8888888888888888,
             "#fdca26"
            ],
            [
             1,
             "#f0f921"
            ]
           ],
           "sequentialminus": [
            [
             0,
             "#0d0887"
            ],
            [
             0.1111111111111111,
             "#46039f"
            ],
            [
             0.2222222222222222,
             "#7201a8"
            ],
            [
             0.3333333333333333,
             "#9c179e"
            ],
            [
             0.4444444444444444,
             "#bd3786"
            ],
            [
             0.5555555555555556,
             "#d8576b"
            ],
            [
             0.6666666666666666,
             "#ed7953"
            ],
            [
             0.7777777777777778,
             "#fb9f3a"
            ],
            [
             0.8888888888888888,
             "#fdca26"
            ],
            [
             1,
             "#f0f921"
            ]
           ]
          },
          "colorway": [
           "#636efa",
           "#EF553B",
           "#00cc96",
           "#ab63fa",
           "#FFA15A",
           "#19d3f3",
           "#FF6692",
           "#B6E880",
           "#FF97FF",
           "#FECB52"
          ],
          "font": {
           "color": "#f2f5fa"
          },
          "geo": {
           "bgcolor": "rgb(17,17,17)",
           "lakecolor": "rgb(17,17,17)",
           "landcolor": "rgb(17,17,17)",
           "showlakes": true,
           "showland": true,
           "subunitcolor": "#506784"
          },
          "hoverlabel": {
           "align": "left"
          },
          "hovermode": "closest",
          "mapbox": {
           "style": "dark"
          },
          "paper_bgcolor": "rgb(17,17,17)",
          "plot_bgcolor": "rgb(17,17,17)",
          "polar": {
           "angularaxis": {
            "gridcolor": "#506784",
            "linecolor": "#506784",
            "ticks": ""
           },
           "bgcolor": "rgb(17,17,17)",
           "radialaxis": {
            "gridcolor": "#506784",
            "linecolor": "#506784",
            "ticks": ""
           }
          },
          "scene": {
           "xaxis": {
            "backgroundcolor": "rgb(17,17,17)",
            "gridcolor": "#506784",
            "gridwidth": 2,
            "linecolor": "#506784",
            "showbackground": true,
            "ticks": "",
            "zerolinecolor": "#C8D4E3"
           },
           "yaxis": {
            "backgroundcolor": "rgb(17,17,17)",
            "gridcolor": "#506784",
            "gridwidth": 2,
            "linecolor": "#506784",
            "showbackground": true,
            "ticks": "",
            "zerolinecolor": "#C8D4E3"
           },
           "zaxis": {
            "backgroundcolor": "rgb(17,17,17)",
            "gridcolor": "#506784",
            "gridwidth": 2,
            "linecolor": "#506784",
            "showbackground": true,
            "ticks": "",
            "zerolinecolor": "#C8D4E3"
           }
          },
          "shapedefaults": {
           "line": {
            "color": "#f2f5fa"
           }
          },
          "sliderdefaults": {
           "bgcolor": "#C8D4E3",
           "bordercolor": "rgb(17,17,17)",
           "borderwidth": 1,
           "tickwidth": 0
          },
          "ternary": {
           "aaxis": {
            "gridcolor": "#506784",
            "linecolor": "#506784",
            "ticks": ""
           },
           "baxis": {
            "gridcolor": "#506784",
            "linecolor": "#506784",
            "ticks": ""
           },
           "bgcolor": "rgb(17,17,17)",
           "caxis": {
            "gridcolor": "#506784",
            "linecolor": "#506784",
            "ticks": ""
           }
          },
          "title": {
           "x": 0.05
          },
          "updatemenudefaults": {
           "bgcolor": "#506784",
           "borderwidth": 0
          },
          "xaxis": {
           "automargin": true,
           "gridcolor": "#283442",
           "linecolor": "#506784",
           "ticks": "",
           "title": {
            "standoff": 15
           },
           "zerolinecolor": "#283442",
           "zerolinewidth": 2
          },
          "yaxis": {
           "automargin": true,
           "gridcolor": "#283442",
           "linecolor": "#506784",
           "ticks": "",
           "title": {
            "standoff": 15
           },
           "zerolinecolor": "#283442",
           "zerolinewidth": 2
          }
         }
        },
        "title": {
         "text": "Coefficient of Variation (%)"
        },
        "xaxis": {
         "anchor": "y",
         "domain": [
          0,
          1
         ],
         "title": {
          "text": "Columns"
         }
        },
        "yaxis": {
         "anchor": "x",
         "domain": [
          0,
          1
         ],
         "title": {
          "text": "Coefficient of Variation (%)"
         }
        }
       }
      }
     },
     "metadata": {},
     "output_type": "display_data"
    }
   ],
   "source": [
    "df_fundamentals_book_cvs = ((df_fundamentals_numeric_cols.mean() / df_fundamentals_numeric_cols.std())*100).sort_values(ascending=True).reset_index()\n",
    "df_fundamentals_book_cvs.columns = ['column', 'coefficient_variation']\n",
    "\n",
    "fig = px.bar(df_fundamentals_book_cvs, title='Coefficient of Variation (%)', x='column', y='coefficient_variation', color_discrete_sequence=['rgb(100, 195, 181)'], hover_name='column', height=600)\n",
    "\n",
    "fig.update_traces(text=[f'{x:.0f}%' for x in df_fundamentals_book_cvs['coefficient_variation']], textposition='outside')\n",
    "fig.update_layout(xaxis_title='Columns', yaxis_title='Coefficient of Variation (%)', template='plotly_dark', font=dict(color='white'))\n",
    "\n",
    "fig.show()"
   ]
  },
  {
   "cell_type": "markdown",
   "metadata": {},
   "source": [
    "The bar chart depicts the coefficient of variation (CV) for a range of financial metrics, likely related to one or more companies. The CV is a measure of relative dispersion indicating the data variation in relation to the mean. Observations from the chart suggest:\n",
    "\n",
    "- **High Variability**: The `beta` and `gross_margins` variables have the highest CVs, at **175%** and **109%**, respectively. This indicates very high variability in the data for these metrics. A high CV in `beta` implies that the asset's return is highly volatile compared to the market, while a high CV in `gross_margins` may point to significant inconsistencies in production efficiency or sales pricing over time.\n",
    "\n",
    "- **Moderate Variability**: Variables such as `fifty_two_week_high`, `total_assets`, `price_to_sales_trailing_12_months`, and `volume` exhibit moderate variability, with CVs ranging from approximately **48%** to **72%**. While there are some fluctuations in relation to the mean, it is not as pronounced as those variables with high variability.\n",
    "\n",
    "- **Low Variability or Possible Errors**: Some variables display very low or negative CVs, like `equity`, `operating_margins`, and `book_value`. Negative CVs are atypical and could suggest an error in the data or in the calculation of the CV. For instance, a negative CV value could occur if the mean of a metric is negative, which is feasible with metrics like net profit if a company is consistently incurring losses. However, it's more likely to be an error in visualization or computation.\n",
    "\n",
    "In terms of comparative analysis, a high coefficient of variation points to greater risk and uncertainty surrounding the corresponding metric. Investors and analysts might be more interested in metrics with high variability to understand the causes behind such uncertainty. Conversely, metrics with low variability are seen as more predictable and may be deemed more stable for long-term trend analysis.\n",
    "\n",
    "It's important to note that the interpretation of CV is context-dependent. For example, high variability in `beta` might be interpreted differently by conservative investors and speculators. Similarly, high variations in `gross_margins` could be a red flag for operational issues or opportunities for cost optimization."
   ]
  },
  {
   "cell_type": "markdown",
   "metadata": {},
   "source": [
    "#### Correlations"
   ]
  },
  {
   "cell_type": "code",
   "execution_count": 11,
   "metadata": {},
   "outputs": [
    {
     "data": {
      "text/html": [
       "<div>\n",
       "<style scoped>\n",
       "    .dataframe tbody tr th:only-of-type {\n",
       "        vertical-align: middle;\n",
       "    }\n",
       "\n",
       "    .dataframe tbody tr th {\n",
       "        vertical-align: top;\n",
       "    }\n",
       "\n",
       "    .dataframe thead th {\n",
       "        text-align: right;\n",
       "    }\n",
       "</style>\n",
       "<table border=\"1\" class=\"dataframe\">\n",
       "  <thead>\n",
       "    <tr style=\"text-align: right;\">\n",
       "      <th></th>\n",
       "      <th>market_cap</th>\n",
       "      <th>enterprise_value</th>\n",
       "      <th>total_revenue</th>\n",
       "      <th>profit_margins</th>\n",
       "      <th>operating_margins</th>\n",
       "      <th>dividend_rate</th>\n",
       "      <th>beta</th>\n",
       "      <th>ebitda</th>\n",
       "      <th>trailing_pe</th>\n",
       "      <th>forward_pe</th>\n",
       "      <th>volume</th>\n",
       "      <th>average_volume</th>\n",
       "      <th>fifty_two_week_low</th>\n",
       "      <th>fifty_two_week_high</th>\n",
       "      <th>price_to_sales_trailing_12_months</th>\n",
       "      <th>fifty_day_average</th>\n",
       "      <th>two_hundred_day_average</th>\n",
       "      <th>trailing_annual_dividend_rate</th>\n",
       "      <th>trailing_annual_dividend_yield</th>\n",
       "      <th>book_value</th>\n",
       "      <th>price_to_book</th>\n",
       "      <th>total_cash</th>\n",
       "      <th>total_cash_per_share</th>\n",
       "      <th>total_debt</th>\n",
       "      <th>earnings_quarterly_growth</th>\n",
       "      <th>revenue_growth</th>\n",
       "      <th>gross_margins</th>\n",
       "      <th>ebitda_margins</th>\n",
       "      <th>return_on_assets</th>\n",
       "      <th>return_on_equity</th>\n",
       "      <th>gross_profits</th>\n",
       "      <th>total_assets_approx</th>\n",
       "      <th>asset_turnover</th>\n",
       "      <th>earnings_growth_rate</th>\n",
       "      <th>dividend_payout_ratio</th>\n",
       "      <th>equity</th>\n",
       "      <th>debt_to_equity</th>\n",
       "      <th>roi</th>\n",
       "      <th>roce</th>\n",
       "    </tr>\n",
       "  </thead>\n",
       "  <tbody>\n",
       "    <tr>\n",
       "      <th>market_cap</th>\n",
       "      <td>1.000000</td>\n",
       "      <td>0.843670</td>\n",
       "      <td>0.821591</td>\n",
       "      <td>-0.003128</td>\n",
       "      <td>0.079604</td>\n",
       "      <td>-0.018939</td>\n",
       "      <td>0.019453</td>\n",
       "      <td>0.788431</td>\n",
       "      <td>-0.011830</td>\n",
       "      <td>0.088890</td>\n",
       "      <td>0.203687</td>\n",
       "      <td>0.385409</td>\n",
       "      <td>0.088372</td>\n",
       "      <td>-0.011959</td>\n",
       "      <td>-0.015582</td>\n",
       "      <td>0.036404</td>\n",
       "      <td>-0.003787</td>\n",
       "      <td>0.150759</td>\n",
       "      <td>0.296205</td>\n",
       "      <td>0.019246</td>\n",
       "      <td>-0.022667</td>\n",
       "      <td>0.588672</td>\n",
       "      <td>-0.008100</td>\n",
       "      <td>0.631356</td>\n",
       "      <td>0.021919</td>\n",
       "      <td>-0.063475</td>\n",
       "      <td>0.007572</td>\n",
       "      <td>-0.006035</td>\n",
       "      <td>0.147170</td>\n",
       "      <td>0.060959</td>\n",
       "      <td>0.928809</td>\n",
       "      <td>0.588672</td>\n",
       "      <td>-0.019620</td>\n",
       "      <td>0.021919</td>\n",
       "      <td>-0.009100</td>\n",
       "      <td>-0.587849</td>\n",
       "      <td>0.186278</td>\n",
       "      <td>-0.065699</td>\n",
       "      <td>0.047566</td>\n",
       "    </tr>\n",
       "    <tr>\n",
       "      <th>enterprise_value</th>\n",
       "      <td>0.843670</td>\n",
       "      <td>1.000000</td>\n",
       "      <td>0.675644</td>\n",
       "      <td>-0.010525</td>\n",
       "      <td>0.069891</td>\n",
       "      <td>-0.016805</td>\n",
       "      <td>-0.000411</td>\n",
       "      <td>0.531132</td>\n",
       "      <td>-0.031284</td>\n",
       "      <td>0.040925</td>\n",
       "      <td>0.166592</td>\n",
       "      <td>0.323804</td>\n",
       "      <td>0.066398</td>\n",
       "      <td>-0.011351</td>\n",
       "      <td>-0.023906</td>\n",
       "      <td>0.028148</td>\n",
       "      <td>-0.004601</td>\n",
       "      <td>0.114904</td>\n",
       "      <td>0.224523</td>\n",
       "      <td>0.017487</td>\n",
       "      <td>-0.024948</td>\n",
       "      <td>0.717299</td>\n",
       "      <td>0.010304</td>\n",
       "      <td>0.909718</td>\n",
       "      <td>0.007621</td>\n",
       "      <td>-0.059935</td>\n",
       "      <td>-0.080652</td>\n",
       "      <td>-0.012526</td>\n",
       "      <td>0.053299</td>\n",
       "      <td>0.037390</td>\n",
       "      <td>0.829091</td>\n",
       "      <td>0.717299</td>\n",
       "      <td>-0.017718</td>\n",
       "      <td>0.007621</td>\n",
       "      <td>0.006728</td>\n",
       "      <td>-0.925808</td>\n",
       "      <td>0.007676</td>\n",
       "      <td>-0.066926</td>\n",
       "      <td>0.024682</td>\n",
       "    </tr>\n",
       "    <tr>\n",
       "      <th>total_revenue</th>\n",
       "      <td>0.821591</td>\n",
       "      <td>0.675644</td>\n",
       "      <td>1.000000</td>\n",
       "      <td>-0.028594</td>\n",
       "      <td>0.057417</td>\n",
       "      <td>-0.016661</td>\n",
       "      <td>0.060641</td>\n",
       "      <td>0.880440</td>\n",
       "      <td>-0.043862</td>\n",
       "      <td>0.067601</td>\n",
       "      <td>0.206989</td>\n",
       "      <td>0.361693</td>\n",
       "      <td>0.052057</td>\n",
       "      <td>-0.012243</td>\n",
       "      <td>-0.040985</td>\n",
       "      <td>0.020596</td>\n",
       "      <td>-0.007690</td>\n",
       "      <td>0.162399</td>\n",
       "      <td>0.334236</td>\n",
       "      <td>0.016996</td>\n",
       "      <td>-0.022205</td>\n",
       "      <td>0.295011</td>\n",
       "      <td>-0.024416</td>\n",
       "      <td>0.408667</td>\n",
       "      <td>0.006072</td>\n",
       "      <td>-0.095971</td>\n",
       "      <td>-0.029990</td>\n",
       "      <td>-0.011383</td>\n",
       "      <td>0.131854</td>\n",
       "      <td>0.026344</td>\n",
       "      <td>0.875694</td>\n",
       "      <td>0.295011</td>\n",
       "      <td>-0.012492</td>\n",
       "      <td>0.006072</td>\n",
       "      <td>-0.013840</td>\n",
       "      <td>-0.432273</td>\n",
       "      <td>0.007080</td>\n",
       "      <td>0.004330</td>\n",
       "      <td>0.068016</td>\n",
       "    </tr>\n",
       "    <tr>\n",
       "      <th>profit_margins</th>\n",
       "      <td>-0.003128</td>\n",
       "      <td>-0.010525</td>\n",
       "      <td>-0.028594</td>\n",
       "      <td>1.000000</td>\n",
       "      <td>-0.311960</td>\n",
       "      <td>-0.014690</td>\n",
       "      <td>-0.248073</td>\n",
       "      <td>-0.005791</td>\n",
       "      <td>-0.011816</td>\n",
       "      <td>-0.064730</td>\n",
       "      <td>-0.029118</td>\n",
       "      <td>-0.033683</td>\n",
       "      <td>0.173645</td>\n",
       "      <td>-0.006242</td>\n",
       "      <td>0.391527</td>\n",
       "      <td>0.068329</td>\n",
       "      <td>0.010066</td>\n",
       "      <td>0.029786</td>\n",
       "      <td>-0.026300</td>\n",
       "      <td>0.053952</td>\n",
       "      <td>-0.029206</td>\n",
       "      <td>-0.007916</td>\n",
       "      <td>0.541173</td>\n",
       "      <td>-0.011993</td>\n",
       "      <td>-0.003671</td>\n",
       "      <td>0.001915</td>\n",
       "      <td>0.318591</td>\n",
       "      <td>0.133501</td>\n",
       "      <td>-0.051338</td>\n",
       "      <td>0.396223</td>\n",
       "      <td>-0.009257</td>\n",
       "      <td>-0.007916</td>\n",
       "      <td>-0.017640</td>\n",
       "      <td>-0.003671</td>\n",
       "      <td>0.005089</td>\n",
       "      <td>0.013132</td>\n",
       "      <td>0.000882</td>\n",
       "      <td>-0.054340</td>\n",
       "      <td>-0.219884</td>\n",
       "    </tr>\n",
       "    <tr>\n",
       "      <th>operating_margins</th>\n",
       "      <td>0.079604</td>\n",
       "      <td>0.069891</td>\n",
       "      <td>0.057417</td>\n",
       "      <td>-0.311960</td>\n",
       "      <td>1.000000</td>\n",
       "      <td>-0.072953</td>\n",
       "      <td>0.004847</td>\n",
       "      <td>0.041584</td>\n",
       "      <td>0.097417</td>\n",
       "      <td>0.104125</td>\n",
       "      <td>0.033193</td>\n",
       "      <td>0.057819</td>\n",
       "      <td>0.010835</td>\n",
       "      <td>-0.068402</td>\n",
       "      <td>-0.028166</td>\n",
       "      <td>-0.031043</td>\n",
       "      <td>-0.063439</td>\n",
       "      <td>0.081445</td>\n",
       "      <td>0.147257</td>\n",
       "      <td>-0.040640</td>\n",
       "      <td>0.014484</td>\n",
       "      <td>0.051835</td>\n",
       "      <td>-0.263964</td>\n",
       "      <td>0.055215</td>\n",
       "      <td>0.025746</td>\n",
       "      <td>0.222719</td>\n",
       "      <td>0.214595</td>\n",
       "      <td>0.011734</td>\n",
       "      <td>0.282369</td>\n",
       "      <td>-0.077433</td>\n",
       "      <td>0.056205</td>\n",
       "      <td>0.051835</td>\n",
       "      <td>-0.003603</td>\n",
       "      <td>0.025746</td>\n",
       "      <td>0.020007</td>\n",
       "      <td>-0.051198</td>\n",
       "      <td>0.027138</td>\n",
       "      <td>0.005628</td>\n",
       "      <td>0.219734</td>\n",
       "    </tr>\n",
       "  </tbody>\n",
       "</table>\n",
       "</div>"
      ],
      "text/plain": [
       "                   market_cap  enterprise_value  total_revenue  \\\n",
       "market_cap           1.000000          0.843670       0.821591   \n",
       "enterprise_value     0.843670          1.000000       0.675644   \n",
       "total_revenue        0.821591          0.675644       1.000000   \n",
       "profit_margins      -0.003128         -0.010525      -0.028594   \n",
       "operating_margins    0.079604          0.069891       0.057417   \n",
       "\n",
       "                   profit_margins  operating_margins  dividend_rate      beta  \\\n",
       "market_cap              -0.003128           0.079604      -0.018939  0.019453   \n",
       "enterprise_value        -0.010525           0.069891      -0.016805 -0.000411   \n",
       "total_revenue           -0.028594           0.057417      -0.016661  0.060641   \n",
       "profit_margins           1.000000          -0.311960      -0.014690 -0.248073   \n",
       "operating_margins       -0.311960           1.000000      -0.072953  0.004847   \n",
       "\n",
       "                     ebitda  trailing_pe  forward_pe    volume  \\\n",
       "market_cap         0.788431    -0.011830    0.088890  0.203687   \n",
       "enterprise_value   0.531132    -0.031284    0.040925  0.166592   \n",
       "total_revenue      0.880440    -0.043862    0.067601  0.206989   \n",
       "profit_margins    -0.005791    -0.011816   -0.064730 -0.029118   \n",
       "operating_margins  0.041584     0.097417    0.104125  0.033193   \n",
       "\n",
       "                   average_volume  fifty_two_week_low  fifty_two_week_high  \\\n",
       "market_cap               0.385409            0.088372            -0.011959   \n",
       "enterprise_value         0.323804            0.066398            -0.011351   \n",
       "total_revenue            0.361693            0.052057            -0.012243   \n",
       "profit_margins          -0.033683            0.173645            -0.006242   \n",
       "operating_margins        0.057819            0.010835            -0.068402   \n",
       "\n",
       "                   price_to_sales_trailing_12_months  fifty_day_average  \\\n",
       "market_cap                                 -0.015582           0.036404   \n",
       "enterprise_value                           -0.023906           0.028148   \n",
       "total_revenue                              -0.040985           0.020596   \n",
       "profit_margins                              0.391527           0.068329   \n",
       "operating_margins                          -0.028166          -0.031043   \n",
       "\n",
       "                   two_hundred_day_average  trailing_annual_dividend_rate  \\\n",
       "market_cap                       -0.003787                       0.150759   \n",
       "enterprise_value                 -0.004601                       0.114904   \n",
       "total_revenue                    -0.007690                       0.162399   \n",
       "profit_margins                    0.010066                       0.029786   \n",
       "operating_margins                -0.063439                       0.081445   \n",
       "\n",
       "                   trailing_annual_dividend_yield  book_value  price_to_book  \\\n",
       "market_cap                               0.296205    0.019246      -0.022667   \n",
       "enterprise_value                         0.224523    0.017487      -0.024948   \n",
       "total_revenue                            0.334236    0.016996      -0.022205   \n",
       "profit_margins                          -0.026300    0.053952      -0.029206   \n",
       "operating_margins                        0.147257   -0.040640       0.014484   \n",
       "\n",
       "                   total_cash  total_cash_per_share  total_debt  \\\n",
       "market_cap           0.588672             -0.008100    0.631356   \n",
       "enterprise_value     0.717299              0.010304    0.909718   \n",
       "total_revenue        0.295011             -0.024416    0.408667   \n",
       "profit_margins      -0.007916              0.541173   -0.011993   \n",
       "operating_margins    0.051835             -0.263964    0.055215   \n",
       "\n",
       "                   earnings_quarterly_growth  revenue_growth  gross_margins  \\\n",
       "market_cap                          0.021919       -0.063475       0.007572   \n",
       "enterprise_value                    0.007621       -0.059935      -0.080652   \n",
       "total_revenue                       0.006072       -0.095971      -0.029990   \n",
       "profit_margins                     -0.003671        0.001915       0.318591   \n",
       "operating_margins                   0.025746        0.222719       0.214595   \n",
       "\n",
       "                   ebitda_margins  return_on_assets  return_on_equity  \\\n",
       "market_cap              -0.006035          0.147170          0.060959   \n",
       "enterprise_value        -0.012526          0.053299          0.037390   \n",
       "total_revenue           -0.011383          0.131854          0.026344   \n",
       "profit_margins           0.133501         -0.051338          0.396223   \n",
       "operating_margins        0.011734          0.282369         -0.077433   \n",
       "\n",
       "                   gross_profits  total_assets_approx  asset_turnover  \\\n",
       "market_cap              0.928809             0.588672       -0.019620   \n",
       "enterprise_value        0.829091             0.717299       -0.017718   \n",
       "total_revenue           0.875694             0.295011       -0.012492   \n",
       "profit_margins         -0.009257            -0.007916       -0.017640   \n",
       "operating_margins       0.056205             0.051835       -0.003603   \n",
       "\n",
       "                   earnings_growth_rate  dividend_payout_ratio    equity  \\\n",
       "market_cap                     0.021919              -0.009100 -0.587849   \n",
       "enterprise_value               0.007621               0.006728 -0.925808   \n",
       "total_revenue                  0.006072              -0.013840 -0.432273   \n",
       "profit_margins                -0.003671               0.005089  0.013132   \n",
       "operating_margins              0.025746               0.020007 -0.051198   \n",
       "\n",
       "                   debt_to_equity       roi      roce  \n",
       "market_cap               0.186278 -0.065699  0.047566  \n",
       "enterprise_value         0.007676 -0.066926  0.024682  \n",
       "total_revenue            0.007080  0.004330  0.068016  \n",
       "profit_margins           0.000882 -0.054340 -0.219884  \n",
       "operating_margins        0.027138  0.005628  0.219734  "
      ]
     },
     "execution_count": 11,
     "metadata": {},
     "output_type": "execute_result"
    }
   ],
   "source": [
    "fundamentals_corr = df_fundamentals_numeric_cols.corr()\n",
    "fundamentals_corr.head(5)"
   ]
  },
  {
   "cell_type": "code",
   "execution_count": 12,
   "metadata": {},
   "outputs": [
    {
     "data": {
      "application/vnd.plotly.v1+json": {
       "config": {
        "plotlyServerURL": "https://plot.ly"
       },
       "data": [
        {
         "coloraxis": "coloraxis",
         "hovertemplate": "x: %{x}<br>y: %{y}<br>color: %{z}<extra></extra>",
         "name": "0",
         "texttemplate": "%{z}",
         "type": "heatmap",
         "x": [
          "market_cap",
          "enterprise_value",
          "total_revenue",
          "profit_margins",
          "operating_margins",
          "dividend_rate",
          "beta",
          "ebitda",
          "trailing_pe",
          "forward_pe",
          "volume",
          "average_volume",
          "fifty_two_week_low",
          "fifty_two_week_high",
          "price_to_sales_trailing_12_months",
          "fifty_day_average",
          "two_hundred_day_average",
          "trailing_annual_dividend_rate",
          "trailing_annual_dividend_yield",
          "book_value",
          "price_to_book",
          "total_cash",
          "total_cash_per_share",
          "total_debt",
          "earnings_quarterly_growth",
          "revenue_growth",
          "gross_margins",
          "ebitda_margins",
          "return_on_assets",
          "return_on_equity",
          "gross_profits",
          "total_assets_approx",
          "asset_turnover",
          "earnings_growth_rate",
          "dividend_payout_ratio",
          "equity",
          "debt_to_equity",
          "roi",
          "roce"
         ],
         "xaxis": "x",
         "y": [
          "market_cap",
          "enterprise_value",
          "total_revenue",
          "profit_margins",
          "operating_margins",
          "dividend_rate",
          "beta",
          "ebitda",
          "trailing_pe",
          "forward_pe",
          "volume",
          "average_volume",
          "fifty_two_week_low",
          "fifty_two_week_high",
          "price_to_sales_trailing_12_months",
          "fifty_day_average",
          "two_hundred_day_average",
          "trailing_annual_dividend_rate",
          "trailing_annual_dividend_yield",
          "book_value",
          "price_to_book",
          "total_cash",
          "total_cash_per_share",
          "total_debt",
          "earnings_quarterly_growth",
          "revenue_growth",
          "gross_margins",
          "ebitda_margins",
          "return_on_assets",
          "return_on_equity",
          "gross_profits",
          "total_assets_approx",
          "asset_turnover",
          "earnings_growth_rate",
          "dividend_payout_ratio",
          "equity",
          "debt_to_equity",
          "roi",
          "roce"
         ],
         "yaxis": "y",
         "z": [
          [
           1,
           0.8436697296334013,
           0.8215909234820797,
           -0.0031281332812480565,
           0.07960412867831625,
           -0.01893898268745032,
           0.019452955745764337,
           0.7884312852665565,
           -0.011829644868701835,
           0.0888900522542306,
           0.2036866756880407,
           0.3854087311624262,
           0.08837194337016725,
           -0.011959430097622644,
           -0.015582120645663125,
           0.03640377213342258,
           -0.003786985641597354,
           0.1507589520116664,
           0.296205042276866,
           0.019245594026626272,
           -0.02266665772371684,
           0.5886716718922872,
           -0.008099785219198857,
           0.6313560964846101,
           0.021918524364803623,
           -0.06347454605067923,
           0.007572172580432587,
           -0.0060348709962208934,
           0.14716969955840256,
           0.06095948667982184,
           0.9288091076057919,
           0.5886716719967449,
           -0.019619641773735107,
           0.021918524364803633,
           -0.009099510006165032,
           -0.587848849815842,
           0.18627752910664502,
           -0.06569921097284277,
           0.047566481209693694
          ],
          [
           0.8436697296334013,
           1,
           0.6756439702035416,
           -0.01052498015917362,
           0.06989078155908908,
           -0.01680506924221903,
           -0.0004110893806542421,
           0.5311324041763986,
           -0.03128430029081105,
           0.0409254589441384,
           0.16659230700398778,
           0.32380383274866953,
           0.06639818601292513,
           -0.011350927315156094,
           -0.023905770734598465,
           0.028147644811432386,
           -0.004600885595862219,
           0.11490398447939465,
           0.2245232566276579,
           0.01748688804537122,
           -0.02494790446686688,
           0.7172990644135909,
           0.010304288309552802,
           0.9097180826634328,
           0.007620893815759613,
           -0.05993474031558825,
           -0.08065171419430016,
           -0.012526450870897213,
           0.05329946302457553,
           0.03739004147671403,
           0.8290913724445987,
           0.7172990644914544,
           -0.017717672808035198,
           0.007620893815759601,
           0.0067277633315482544,
           -0.9258082266577268,
           0.007675652750633628,
           -0.06692627312637452,
           0.0246820879670088
          ],
          [
           0.8215909234820797,
           0.6756439702035416,
           1,
           -0.02859400888473661,
           0.05741688187383923,
           -0.016661209271585858,
           0.06064115959947109,
           0.8804397594836171,
           -0.043862085369729124,
           0.06760053070171791,
           0.206988515778976,
           0.36169272856936446,
           0.052057268628924125,
           -0.012243232570248199,
           -0.040985270959487584,
           0.020596142485037765,
           -0.007690123938035717,
           0.1623986955528004,
           0.33423552704977244,
           0.01699626102433572,
           -0.02220493475160232,
           0.2950106134710798,
           -0.024416390926960418,
           0.408666531139577,
           0.006072366326897878,
           -0.0959714187438649,
           -0.02998975963365535,
           -0.011382584653826331,
           0.13185423640724028,
           0.026343768204549395,
           0.8756937883287469,
           0.29501061358434294,
           -0.012492461776189472,
           0.006072366326897871,
           -0.013840426041409181,
           -0.4322725874261104,
           0.0070800670335740825,
           0.004329574732989708,
           0.06801554917817135
          ],
          [
           -0.0031281332812480565,
           -0.01052498015917362,
           -0.02859400888473661,
           1,
           -0.3119602012438581,
           -0.014690109001746858,
           -0.24807333449709082,
           -0.005790984381549932,
           -0.01181562316809665,
           -0.06472961267904688,
           -0.029117739445399585,
           -0.033682550829488705,
           0.17364539391840686,
           -0.006241583810391915,
           0.39152696814483395,
           0.06832902391389277,
           0.010065579074942543,
           0.02978613573384193,
           -0.02629950333851503,
           0.05395175472791924,
           -0.029205970331218196,
           -0.007915917455809935,
           0.541172659254127,
           -0.011992918683662757,
           -0.003671135622461201,
           0.001914818381114008,
           0.31859050206372175,
           0.13350119219426998,
           -0.05133817873372181,
           0.3962230184579735,
           -0.009257178751642524,
           -0.00791591700801795,
           -0.017639932986811557,
           -0.0036711356224612118,
           0.005088578589148689,
           0.013131939427184427,
           0.0008823493704140108,
           -0.05433970476321038,
           -0.21988405791903057
          ],
          [
           0.07960412867831625,
           0.06989078155908908,
           0.05741688187383923,
           -0.3119602012438581,
           1,
           -0.07295265419904974,
           0.004846573242213153,
           0.04158354289179399,
           0.09741749102486327,
           0.10412477582144991,
           0.033192956100890396,
           0.057818823745933924,
           0.010835161302797736,
           -0.06840152929476755,
           -0.028165565055210336,
           -0.031043032934822565,
           -0.06343927261939104,
           0.08144469869062668,
           0.1472568828578238,
           -0.04063955613692405,
           0.014484453599922741,
           0.05183486275802351,
           -0.2639639761034601,
           0.05521494234620703,
           0.025746059150231055,
           0.2227185990009122,
           0.21459496914836412,
           0.011733738303884049,
           0.2823694849638081,
           -0.07743303146325524,
           0.05620522302791943,
           0.05183486241643391,
           -0.0036032171113641576,
           0.025746059150231086,
           0.020007360852823026,
           -0.05119769662945882,
           0.027138388862501802,
           0.005628453904353625,
           0.21973355059338848
          ],
          [
           -0.01893898268745032,
           -0.01680506924221903,
           -0.016661209271585858,
           -0.014690109001746858,
           -0.07295265419904974,
           1,
           0.0053780947433901645,
           -0.008390433954322256,
           -0.03271611695396083,
           -0.034259427452291304,
           -0.013330338724796924,
           -0.02055933336031867,
           0.2927772451360842,
           0.996771594631888,
           -0.008989527097744846,
           0.8401904017665233,
           0.9858730993697253,
           -0.008041955406242767,
           -0.03713913015821416,
           0.6452008816714702,
           -0.0077847654439838,
           -0.01298689365408435,
           0.4338944072431696,
           -0.013482426180360293,
           -0.008826870170614853,
           -0.12497520182635737,
           0.14747333913258157,
           -0.005021761229078853,
           -0.03927660746060759,
           -0.016534725756445958,
           -0.012049018157102711,
           -0.01298688830664112,
           -0.0037383853433614013,
           -0.008826870170614873,
           -0.0040463268594424055,
           0.012303024107529457,
           -0.006637725124055903,
           -0.021353272348731706,
           -0.008399203959862206
          ],
          [
           0.019452955745764337,
           -0.0004110893806542421,
           0.06064115959947109,
           -0.24807333449709082,
           0.004846573242213153,
           0.0053780947433901645,
           1,
           0.0634608550657826,
           -0.0797075598882498,
           0.03708840934102312,
           0.0643407817585569,
           0.05992595974851913,
           -0.2732709691081864,
           -0.015079776147312889,
           -0.10208055055612582,
           -0.1465585590393241,
           -0.04014385896931709,
           -0.08834438308120034,
           -0.11863926272462973,
           -0.13201648075938,
           0.10332540061046694,
           0.005044617211034793,
           -0.15395323903004243,
           -0.004474325840777367,
           0.0014060404629342579,
           -0.10210282117952633,
           -0.16820738157429135,
           0.02411809359853342,
           -0.180938454862976,
           -0.27528327786067786,
           0.055229379323642885,
           0.005044616116655393,
           -0.022450985695185947,
           0.0014060404629342251,
           -0.011666888211871748,
           0.009712082857550056,
           0.06679201545323848,
           0.04285825032991469,
           -0.004672181670801194
          ],
          [
           0.7884312852665565,
           0.5311324041763986,
           0.8804397594836171,
           -0.005790984381549932,
           0.04158354289179399,
           -0.008390433954322256,
           0.0634608550657826,
           1,
           -0.03347023012928191,
           0.029578302789816657,
           0.15580324211495936,
           0.2998401484206302,
           0.06041818565732169,
           -0.0034405611760316072,
           -0.018813986566061272,
           0.03465887275227831,
           0.0018749594512552457,
           0.1973428371866854,
           0.37968660056860376,
           0.011658190332949975,
           -0.012381891610950702,
           0.09450678124425488,
           -0.030450006664215032,
           0.19416444962343252,
           0.017256920198874728,
           -0.07731612212339745,
           0.07682691687493133,
           0.003958866144372448,
           0.18624711707493652,
           0.05641104807704637,
           0.8931120968844933,
           0.09450678133202432,
           -0.012068623920827375,
           0.017256920198874738,
           -0.010284894188028587,
           -0.23285512366754996,
           -0.018011112893567795,
           -0.02013551264223539,
           0.07374533880480706
          ],
          [
           -0.011829644868701835,
           -0.03128430029081105,
           -0.043862085369729124,
           -0.01181562316809665,
           0.09741749102486327,
           -0.03271611695396083,
           -0.0797075598882498,
           -0.03347023012928191,
           1,
           0.24075365399494666,
           -0.04451781655460648,
           -0.0450550140045365,
           0.11273353086681204,
           -0.02434263439302826,
           0.11538689032021786,
           0.03416417248422849,
           -0.013882334410506167,
           -0.036603404922025136,
           -0.05318619300363974,
           0.03505922245344861,
           -0.0011408015358380418,
           -0.016641363970407733,
           -0.048526566034073106,
           -0.03236159062162368,
           -0.041891545780332044,
           0.10549078947527832,
           0.13431790399634758,
           0.13298221621388745,
           0.11418336229928519,
           -0.011459520357127299,
           -0.03897579592703178,
           -0.01664136367834664,
           -0.0326219403525584,
           -0.04189154578033204,
           -0.022229490645170574,
           0.03827474735635477,
           0.009182568184991424,
           -0.07168995037311854,
           0.09058329628025227
          ],
          [
           0.0888900522542306,
           0.0409254589441384,
           0.06760053070171791,
           -0.06472961267904688,
           0.10412477582144991,
           -0.034259427452291304,
           0.03708840934102312,
           0.029578302789816657,
           0.24075365399494666,
           1,
           0.33198350873483884,
           0.37622982699478225,
           0.005043101711716002,
           -0.030460461940825738,
           -0.053398519339420504,
           -0.011251226555067271,
           -0.028850792284222222,
           -0.07344372455025122,
           -0.08520611456899765,
           0.030740906904464356,
           -0.021005567707497584,
           -0.023836552704613653,
           -0.11119445835193188,
           -0.012433013169182897,
           0.11739435100887487,
           0.35315980583653495,
           0.1674300365291111,
           -0.021889319086782415,
           0.09892955065430328,
           -0.013158664811323996,
           0.01998682902080765,
           -0.023836552447662293,
           -0.034839240581426685,
           0.11739435100887499,
           -0.0008266375112020649,
           0.004208233278006859,
           -0.048353137243883224,
           -0.05587173773710113,
           0.04197354052932817
          ],
          [
           0.2036866756880407,
           0.16659230700398778,
           0.206988515778976,
           -0.029117739445399585,
           0.033192956100890396,
           -0.013330338724796924,
           0.0643407817585569,
           0.15580324211495936,
           -0.04451781655460648,
           0.33198350873483884,
           1,
           0.9020849905446555,
           -0.06828972486044792,
           -0.018263472191383856,
           -0.024127178732345354,
           -0.04862455301933595,
           -0.02373789766376265,
           -0.007791395322552889,
           0.002968426424053781,
           0.004284828369995234,
           -0.013476667045368707,
           0.09017184130698443,
           -0.04320875488179528,
           0.10841400892417877,
           -0.008813392801572523,
           -0.016797724990134422,
           0.017865832377981106,
           -0.012072307793760265,
           -0.018461403178357524,
           -0.034632046712267654,
           0.1919925999574652,
           0.09017184133406209,
           -0.012805865537189121,
           -0.00881339280157252,
           -0.013033848718381051,
           -0.10750985779573038,
           -0.024895119818522958,
           -0.0054730131279083615,
           0.009298493222776705
          ],
          [
           0.3854087311624262,
           0.32380383274866953,
           0.36169272856936446,
           -0.033682550829488705,
           0.057818823745933924,
           -0.02055933336031867,
           0.05992595974851913,
           0.2998401484206302,
           -0.0450550140045365,
           0.37622982699478225,
           0.9020849905446555,
           1,
           -0.06447369962166406,
           -0.0248093697324561,
           -0.032986500620437516,
           -0.05245617049197738,
           -0.029940966206769837,
           0.011472605193850401,
           0.06400661970913336,
           0.010349443909358073,
           -0.011790847527236808,
           0.1650152056086267,
           -0.06078381546949914,
           0.21013767459648952,
           0.009996947844092706,
           -0.01440260274391391,
           0.04438506531421345,
           -0.015774921440087894,
           0.004919897580267174,
           -0.022696399572885603,
           0.35396364897716404,
           0.1650152056789624,
           -0.02022334953910777,
           0.00999694784409269,
           -0.015385905547447686,
           -0.21426067824639095,
           -0.039126995311697714,
           -0.027697676455420806,
           0.0250499252226208
          ],
          [
           0.08837194337016725,
           0.06639818601292513,
           0.052057268628924125,
           0.17364539391840686,
           0.010835161302797736,
           0.2927772451360842,
           -0.2732709691081864,
           0.06041818565732169,
           0.11273353086681204,
           0.005043101711716002,
           -0.06828972486044792,
           -0.06447369962166406,
           1,
           0.36545845602598803,
           0.04629353817229037,
           0.7542292156529777,
           0.44607383758032465,
           0.6804096619470299,
           0.19001048608754628,
           0.284810364006195,
           0.08529645936400426,
           0.0013952498312761006,
           0.5449651021626198,
           0.02345378371326083,
           0.0018257643540802464,
           -0.08497771624401827,
           0.1077968095346114,
           0.06170018449928348,
           0.2094743235114451,
           0.13107615946005102,
           0.05797518376369701,
           0.0013952521911263821,
           -0.038675454943826154,
           0.0018257643540802882,
           0.003785740469720098,
           -0.034157322738037586,
           0.014605228973288762,
           -0.08583909712730997,
           0.013273172861677549
          ],
          [
           -0.011959430097622644,
           -0.011350927315156094,
           -0.012243232570248199,
           -0.006241583810391915,
           -0.06840152929476755,
           0.996771594631888,
           -0.015079776147312889,
           -0.0034405611760316072,
           -0.02434263439302826,
           -0.030460461940825738,
           -0.018263472191383856,
           -0.0248093697324561,
           0.36545845602598803,
           1,
           -0.007881302275589159,
           0.8799360314780463,
           0.9959250547068836,
           0.04951683689810841,
           -0.02227727421834762,
           0.649830618925736,
           -0.0010870937865898596,
           -0.013474315225334727,
           0.46217965261879973,
           -0.011635207199511544,
           -0.008579590530926258,
           -0.12872647076738297,
           0.14936033575840213,
           -0.0028937670703489773,
           -0.02210206164008661,
           -0.008793473170321026,
           -0.007431126787937228,
           -0.013474309839483271,
           -0.007039446926665236,
           -0.008579590530926247,
           -0.004279316773143318,
           0.009253356730704767,
           -0.005290803604529332,
           -0.02550301276396593,
           -0.005880428971376268
          ],
          [
           -0.015582120645663125,
           -0.023905770734598465,
           -0.040985270959487584,
           0.39152696814483395,
           -0.028165565055210336,
           -0.008989527097744846,
           -0.10208055055612582,
           -0.018813986566061272,
           0.11538689032021786,
           -0.053398519339420504,
           -0.024127178732345354,
           -0.032986500620437516,
           0.04629353817229037,
           -0.007881302275589159,
           1,
           0.014032654319968191,
           -0.0030542690926123385,
           -0.006464628167456514,
           -0.0586250788471084,
           0.009277889893685417,
           -0.004722276909989285,
           -0.011490490721790538,
           -0.015891097795412982,
           -0.020193850797092208,
           -0.033920148426339385,
           0.02838961670196228,
           0.1456284756748793,
           0.8374839195777622,
           0.21949569277059372,
           -0.005328550710985564,
           -0.02487938818358798,
           -0.01149049064383871,
           -0.01178567652397422,
           -0.033920148426339405,
           -0.004283624634939329,
           0.023218053246346536,
           0.010087359652654256,
           -0.06632884552731742,
           0.009262060915360608
          ],
          [
           0.03640377213342258,
           0.028147644811432386,
           0.020596142485037765,
           0.06832902391389277,
           -0.031043032934822565,
           0.8401904017665233,
           -0.1465585590393241,
           0.03465887275227831,
           0.03416417248422849,
           -0.011251226555067271,
           -0.04862455301933595,
           -0.05245617049197738,
           0.7542292156529777,
           0.8799360314780463,
           0.014032654319968191,
           1,
           0.9182972206712338,
           0.3944712377622061,
           0.08312212791093791,
           0.5970247979591844,
           0.027949082292447358,
           -0.01136622433574436,
           0.5901617884091219,
           0.0053993751301406176,
           0.004897095721122481,
           -0.12153573586508384,
           0.15420473039229884,
           0.025870952406912034,
           0.09849098089584946,
           0.05279116348428786,
           0.029238942336848775,
           -0.011366219387646714,
           -0.025866670044763465,
           0.00489709572112248,
           -0.0019838362465991258,
           -0.014896496956669954,
           0.0066705372164830926,
           -0.052984407482453706,
           0.010366851273157524
          ],
          [
           -0.003786985641597354,
           -0.004600885595862219,
           -0.007690123938035717,
           0.010065579074942543,
           -0.06343927261939104,
           0.9858730993697253,
           -0.04014385896931709,
           0.0018749594512552457,
           -0.013882334410506167,
           -0.028850792284222222,
           -0.02373789766376265,
           -0.029940966206769837,
           0.44607383758032465,
           0.9959250547068836,
           -0.0030542690926123385,
           0.9182972206712338,
           1,
           0.11880719727770017,
           -0.0026618263760621094,
           0.6529005562604694,
           0.003665551036080487,
           -0.012839372295042303,
           0.49832114287519785,
           -0.008587970057459078,
           -0.007455287515364779,
           -0.13026351410584255,
           0.15334839475556417,
           0.002657277811610333,
           -0.0034062386190911605,
           0.002875701767510494,
           -0.002007310815463588,
           -0.012839366883812217,
           -0.010325698985188573,
           -0.007455287515364769,
           -0.0038679731447472444,
           0.005088457461973045,
           -0.0039046287008946147,
           -0.03265727486925045,
           -0.0042852990813995505
          ],
          [
           0.1507589520116664,
           0.11490398447939465,
           0.1623986955528004,
           0.02978613573384193,
           0.08144469869062668,
           -0.008041955406242767,
           -0.08834438308120034,
           0.1973428371866854,
           -0.036603404922025136,
           -0.07344372455025122,
           -0.007791395322552889,
           0.011472605193850401,
           0.6804096619470299,
           0.04951683689810841,
           -0.006464628167456514,
           0.3944712377622061,
           0.11880719727770017,
           1,
           0.47317929977711826,
           0.07911668906620709,
           -0.026121492735614822,
           -0.0009166512559068388,
           0.3637271265913873,
           0.0423888664271475,
           -0.023312962874867036,
           -0.09820254881889222,
           0.024242809236972144,
           -0.014954743926301086,
           0.12780226620206978,
           0.04449657129365362,
           0.17759465310911066,
           -0.0009166506002486279,
           -0.01601716257650125,
           -0.023312962874867033,
           0.012597464637302186,
           -0.06380281244356467,
           0.017395747180493047,
           -0.07067535030486533,
           0.033091382371609225
          ],
          [
           0.296205042276866,
           0.2245232566276579,
           0.33423552704977244,
           -0.02629950333851503,
           0.1472568828578238,
           -0.03713913015821416,
           -0.11863926272462973,
           0.37968660056860376,
           -0.05318619300363974,
           -0.08520611456899765,
           0.002968426424053781,
           0.06400661970913336,
           0.19001048608754628,
           -0.02227727421834762,
           -0.0586250788471084,
           0.08312212791093791,
           -0.0026618263760621094,
           0.47317929977711826,
           1,
           0.0500200562392828,
           -0.06720213620811155,
           0.004620555672475226,
           0.00533726947012489,
           0.08167015458355266,
           0.014940843118676179,
           -0.14579632266059706,
           0.133909947829393,
           -0.020478704881294083,
           0.3036356421089378,
           0.09534864194151417,
           0.3349035918695671,
           0.004620556086516958,
           -0.04021558390469552,
           0.014940843118676212,
           0.056752252630314796,
           -0.1190849309283832,
           -0.030910801353910826,
           -0.08942504729035301,
           0.10803751314582612
          ],
          [
           0.019245594026626272,
           0.01748688804537122,
           0.01699626102433572,
           0.05395175472791924,
           -0.04063955613692405,
           0.6452008816714702,
           -0.13201648075938,
           0.011658190332949975,
           0.03505922245344861,
           0.030740906904464356,
           0.004284828369995234,
           0.010349443909358073,
           0.284810364006195,
           0.649830618925736,
           0.009277889893685417,
           0.5970247979591844,
           0.6529005562604694,
           0.07911668906620709,
           0.0500200562392828,
           1,
           0.0016893312138763397,
           0.01127848225996649,
           0.3445036356705672,
           0.013054771186525333,
           0.007524819592417492,
           -0.08354658291880927,
           0.06916812253835004,
           -0.002383799129744944,
           0.06658474655033081,
           0.02407294868309991,
           0.015775214300350084,
           0.011278490545059746,
           -0.0123395345673448,
           0.007524819592417517,
           0.005063476716783513,
           -0.01269293729936689,
           0.006406350876084212,
           -0.0046180051620881915,
           0.026373162729016218
          ],
          [
           -0.02266665772371684,
           -0.02494790446686688,
           -0.02220493475160232,
           -0.029205970331218196,
           0.014484453599922741,
           -0.0077847654439838,
           0.10332540061046694,
           -0.012381891610950702,
           -0.0011408015358380418,
           -0.021005567707497584,
           -0.013476667045368707,
           -0.011790847527236808,
           0.08529645936400426,
           -0.0010870937865898596,
           -0.004722276909989285,
           0.027949082292447358,
           0.003665551036080487,
           -0.026121492735614822,
           -0.06720213620811155,
           0.0016893312138763397,
           1,
           -0.021711480720182072,
           -0.021863537537402163,
           -0.023762509438785433,
           -0.01791005707091058,
           -0.07053987685289223,
           -0.052027341323522436,
           -0.0011592197839691792,
           0.07992753096062612,
           0.011897235523609821,
           -0.020739215043167513,
           -0.02171148070415497,
           -0.007908505222087333,
           -0.017910057070910586,
           -0.007935503607032466,
           0.022392500989567066,
           -0.012131961700797549,
           -0.02411468813600357,
           0.0054319694824932485
          ],
          [
           0.5886716718922872,
           0.7172990644135909,
           0.2950106134710798,
           -0.007915917455809935,
           0.05183486275802351,
           -0.01298689365408435,
           0.005044617211034793,
           0.09450678124425488,
           -0.016641363970407733,
           -0.023836552704613653,
           0.09017184130698443,
           0.1650152056086267,
           0.0013952498312761006,
           -0.013474315225334727,
           -0.011490490721790538,
           -0.01136622433574436,
           -0.012839372295042303,
           -0.0009166512559068388,
           0.004620555672475226,
           0.01127848225996649,
           -0.021711480720182072,
           1,
           0.07727893831832347,
           0.8846353715263224,
           -0.01409257480521071,
           -0.03525460404632019,
           -0.167183958094308,
           -0.01743058869437638,
           -0.05577634664284444,
           0.009429337234735337,
           0.4921438666693997,
           1,
           -0.013016846423079976,
           -0.014092574805210712,
           0.0015560140110532092,
           -0.7182625806278481,
           0.38206386018804067,
           -0.053584018058834386,
           -0.0057003442025101575
          ],
          [
           -0.008099785219198857,
           0.010304288309552802,
           -0.024416390926960418,
           0.541172659254127,
           -0.2639639761034601,
           0.4338944072431696,
           -0.15395323903004243,
           -0.030450006664215032,
           -0.048526566034073106,
           -0.11119445835193188,
           -0.04320875488179528,
           -0.06078381546949914,
           0.5449651021626198,
           0.46217965261879973,
           -0.015891097795412982,
           0.5901617884091219,
           0.49832114287519785,
           0.3637271265913873,
           0.00533726947012489,
           0.3445036356705672,
           -0.021863537537402163,
           0.07727893831832347,
           1,
           0.05019735865164319,
           -0.0335252330902471,
           -0.0972401674462779,
           0.07797435029704347,
           -0.022928109898378395,
           -0.16886036435375354,
           0.19219699268739246,
           0.0025392269970828094,
           0.07727894116570924,
           -0.017769100973788643,
           -0.03352523309024714,
           0.027319012304323237,
           -0.02839940446772938,
           0.0766110533091146,
           -0.053562955420108485,
           -0.13942723824486275
          ],
          [
           0.6313560964846101,
           0.9097180826634328,
           0.408666531139577,
           -0.011992918683662757,
           0.05521494234620703,
           -0.013482426180360293,
           -0.004474325840777367,
           0.19416444962343252,
           -0.03236159062162368,
           -0.012433013169182897,
           0.10841400892417877,
           0.21013767459648952,
           0.02345378371326083,
           -0.011635207199511544,
           -0.020193850797092208,
           0.0053993751301406176,
           -0.008587970057459078,
           0.0423888664271475,
           0.08167015458355266,
           0.013054771186525333,
           -0.023762509438785433,
           0.8846353715263224,
           0.05019735865164319,
           1,
           -0.00821862819567222,
           -0.043585528747357126,
           -0.1597845013209562,
           -0.01742979307464184,
           -0.043508717225453825,
           0.012972777074276227,
           0.6002384721408691,
           0.8846353715518227,
           -0.014087399139933725,
           -0.008218628195672179,
           0.011975248293799926,
           -0.9598275196280657,
           0.13584268753250864,
           -0.06024265111594542,
           -0.004064215818191951
          ],
          [
           0.021918524364803623,
           0.007620893815759613,
           0.006072366326897878,
           -0.003671135622461201,
           0.025746059150231055,
           -0.008826870170614853,
           0.0014060404629342579,
           0.017256920198874728,
           -0.041891545780332044,
           0.11739435100887487,
           -0.008813392801572523,
           0.009996947844092706,
           0.0018257643540802464,
           -0.008579590530926258,
           -0.033920148426339385,
           0.004897095721122481,
           -0.007455287515364779,
           -0.023312962874867036,
           0.014940843118676179,
           0.007524819592417492,
           -0.01791005707091058,
           -0.01409257480521071,
           -0.0335252330902471,
           -0.00821862819567222,
           1,
           0.12717438353561555,
           0.016932173730406057,
           -0.016176033339031812,
           0.05498490833586735,
           0.05738767989031658,
           -0.012026160772347713,
           -0.014092574741541929,
           -0.008655585616246977,
           0.9999999999999999,
           -0.008853629272230185,
           0.0037832079997824172,
           -0.01191859193428173,
           -0.029268135952880567,
           0.017369124189216132
          ],
          [
           -0.06347454605067923,
           -0.05993474031558825,
           -0.0959714187438649,
           0.001914818381114008,
           0.2227185990009122,
           -0.12497520182635737,
           -0.10210282117952633,
           -0.07731612212339745,
           0.10549078947527832,
           0.35315980583653495,
           -0.016797724990134422,
           -0.01440260274391391,
           -0.08497771624401827,
           -0.12872647076738297,
           0.02838961670196228,
           -0.12153573586508384,
           -0.13026351410584255,
           -0.09820254881889222,
           -0.14579632266059706,
           -0.08354658291880927,
           -0.07053987685289223,
           -0.03525460404632019,
           -0.0972401674462779,
           -0.043585528747357126,
           0.12717438353561555,
           1,
           0.054783732860856034,
           0.039376821918025905,
           0.060803987223281786,
           0.012660780645371043,
           -0.08542655725623577,
           -0.03525460473530471,
           -0.0245468733254552,
           0.1271743835356156,
           -0.004462567055001068,
           0.04382201977634377,
           -0.003730091160667197,
           -0.03403454335612239,
           0.07912909793407535
          ],
          [
           0.007572172580432587,
           -0.08065171419430016,
           -0.02998975963365535,
           0.31859050206372175,
           0.21459496914836412,
           0.14747333913258157,
           -0.16820738157429135,
           0.07682691687493133,
           0.13431790399634758,
           0.1674300365291111,
           0.017865832377981106,
           0.04438506531421345,
           0.1077968095346114,
           0.14936033575840213,
           0.1456284756748793,
           0.15420473039229884,
           0.15334839475556417,
           0.024242809236972144,
           0.133909947829393,
           0.06916812253835004,
           -0.052027341323522436,
           -0.167183958094308,
           0.07797435029704347,
           -0.1597845013209562,
           0.016932173730406057,
           0.054783732860856034,
           1,
           0.04721371567127208,
           0.29171036136080947,
           0.20635441123349774,
           -0.0066398885297887416,
           -0.1671839575055465,
           -0.09193423247137061,
           0.016932173730406078,
           -0.06448056112443258,
           0.1378203366798689,
           -0.10494200618319649,
           -0.12011695820836649,
           0.13248882646728838
          ],
          [
           -0.0060348709962208934,
           -0.012526450870897213,
           -0.011382584653826331,
           0.13350119219426998,
           0.011733738303884049,
           -0.005021761229078853,
           0.02411809359853342,
           0.003958866144372448,
           0.13298221621388745,
           -0.021889319086782415,
           -0.012072307793760265,
           -0.015774921440087894,
           0.06170018449928348,
           -0.0028937670703489773,
           0.8374839195777622,
           0.025870952406912034,
           0.002657277811610333,
           -0.014954743926301086,
           -0.020478704881294083,
           -0.002383799129744944,
           -0.0011592197839691792,
           -0.01743058869437638,
           -0.022928109898378395,
           -0.01742979307464184,
           -0.016176033339031812,
           0.039376821918025905,
           0.04721371567127208,
           1,
           0.341237644903942,
           0.004221350790707053,
           -0.006802788448829084,
           -0.017430588712499896,
           -0.009078576737798664,
           -0.01617603333903182,
           -0.006278363505268671,
           0.015519108533629256,
           -0.008653456701566491,
           -0.03635952990852219,
           0.04896332857599157
          ],
          [
           0.14716969955840256,
           0.05329946302457553,
           0.13185423640724028,
           -0.05133817873372181,
           0.2823694849638081,
           -0.03927660746060759,
           -0.180938454862976,
           0.18624711707493652,
           0.11418336229928519,
           0.09892955065430328,
           -0.018461403178357524,
           0.004919897580267174,
           0.2094743235114451,
           -0.02210206164008661,
           0.21949569277059372,
           0.09849098089584946,
           -0.0034062386190911605,
           0.12780226620206978,
           0.3036356421089378,
           0.06658474655033081,
           0.07992753096062612,
           -0.05577634664284444,
           -0.16886036435375354,
           -0.043508717225453825,
           0.05498490833586735,
           0.060803987223281786,
           0.29171036136080947,
           0.341237644903942,
           1,
           0.16697350033561584,
           0.1267152109518944,
           -0.055776346085900826,
           -0.15071851965485328,
           0.054984908335867326,
           -0.023248452780696788,
           0.03135824321981538,
           -0.0037118583007289536,
           -0.15223786264112302,
           0.39839267085782176
          ],
          [
           0.06095948667982184,
           0.03739004147671403,
           0.026343768204549395,
           0.3962230184579735,
           -0.07743303146325524,
           -0.016534725756445958,
           -0.27528327786067786,
           0.05641104807704637,
           -0.011459520357127299,
           -0.013158664811323996,
           -0.034632046712267654,
           -0.022696399572885603,
           0.13107615946005102,
           -0.008793473170321026,
           -0.005328550710985564,
           0.05279116348428786,
           0.002875701767510494,
           0.04449657129365362,
           0.09534864194151417,
           0.02407294868309991,
           0.011897235523609821,
           0.009429337234735337,
           0.19219699268739246,
           0.012972777074276227,
           0.05738767989031658,
           0.012660780645371043,
           0.20635441123349774,
           0.004221350790707053,
           0.16697350033561584,
           1,
           0.04974118763425601,
           0.009429337433326137,
           -0.015132034099088565,
           0.057387679890316595,
           0.004759945900241739,
           -0.01368333469814923,
           0.013646089907654625,
           -0.08502919731797855,
           -0.02471623332996429
          ],
          [
           0.9288091076057919,
           0.8290913724445987,
           0.8756937883287469,
           -0.009257178751642524,
           0.05620522302791943,
           -0.012049018157102711,
           0.055229379323642885,
           0.8931120968844933,
           -0.03897579592703178,
           0.01998682902080765,
           0.1919925999574652,
           0.35396364897716404,
           0.05797518376369701,
           -0.007431126787937228,
           -0.02487938818358798,
           0.029238942336848775,
           -0.002007310815463588,
           0.17759465310911066,
           0.3349035918695671,
           0.015775214300350084,
           -0.020739215043167513,
           0.4921438666693997,
           0.0025392269970828094,
           0.6002384721408691,
           -0.012026160772347713,
           -0.08542655725623577,
           -0.0066398885297887416,
           -0.006802788448829084,
           0.1267152109518944,
           0.04974118763425601,
           1,
           0.49214386675412247,
           -0.013596065163585112,
           -0.012026160772347657,
           -0.004435975085955263,
           -0.5995027633356839,
           0.045703335761607275,
           -0.03936984395493476,
           0.054397921337970036
          ],
          [
           0.5886716719967449,
           0.7172990644914544,
           0.29501061358434294,
           -0.00791591700801795,
           0.05183486241643391,
           -0.01298688830664112,
           0.005044616116655393,
           0.09450678133202432,
           -0.01664136367834664,
           -0.023836552447662293,
           0.09017184133406209,
           0.1650152056789624,
           0.0013952521911263821,
           -0.013474309839483271,
           -0.01149049064383871,
           -0.011366219387646714,
           -0.012839366883812217,
           -0.0009166506002486279,
           0.004620556086516958,
           0.011278490545059746,
           -0.02171148070415497,
           1,
           0.07727894116570924,
           0.8846353715518227,
           -0.014092574741541929,
           -0.03525460473530471,
           -0.1671839575055465,
           -0.017430588712499896,
           -0.055776346085900826,
           0.009429337433326137,
           0.49214386675412247,
           1,
           -0.013016846524110682,
           -0.014092574741541913,
           0.0015560140528644443,
           -0.718262580665898,
           0.38206386020541894,
           -0.053584018092092206,
           -0.005700343983445525
          ],
          [
           -0.019619641773735107,
           -0.017717672808035198,
           -0.012492461776189472,
           -0.017639932986811557,
           -0.0036032171113641576,
           -0.0037383853433614013,
           -0.022450985695185947,
           -0.012068623920827375,
           -0.0326219403525584,
           -0.034839240581426685,
           -0.012805865537189121,
           -0.02022334953910777,
           -0.038675454943826154,
           -0.007039446926665236,
           -0.01178567652397422,
           -0.025866670044763465,
           -0.010325698985188573,
           -0.01601716257650125,
           -0.04021558390469552,
           -0.0123395345673448,
           -0.007908505222087333,
           -0.013016846423079976,
           -0.017769100973788643,
           -0.014087399139933725,
           -0.008655585616246977,
           -0.0245468733254552,
           -0.09193423247137061,
           -0.009078576737798664,
           -0.15071851965485328,
           -0.015132034099088565,
           -0.013596065163585112,
           -0.013016846524110682,
           1,
           -0.008655585616246974,
           -0.00406471223389288,
           0.013187716300796268,
           -0.006496213707295653,
           0.6625552752351327,
           -0.7663209181204715
          ],
          [
           0.021918524364803633,
           0.007620893815759601,
           0.006072366326897871,
           -0.0036711356224612118,
           0.025746059150231086,
           -0.008826870170614873,
           0.0014060404629342251,
           0.017256920198874738,
           -0.04189154578033204,
           0.11739435100887499,
           -0.00881339280157252,
           0.00999694784409269,
           0.0018257643540802882,
           -0.008579590530926247,
           -0.033920148426339405,
           0.00489709572112248,
           -0.007455287515364769,
           -0.023312962874867033,
           0.014940843118676212,
           0.007524819592417517,
           -0.017910057070910586,
           -0.014092574805210712,
           -0.03352523309024714,
           -0.008218628195672179,
           0.9999999999999999,
           0.1271743835356156,
           0.016932173730406078,
           -0.01617603333903182,
           0.054984908335867326,
           0.057387679890316595,
           -0.012026160772347657,
           -0.014092574741541913,
           -0.008655585616246974,
           1,
           -0.00885362927223018,
           0.003783207999782413,
           -0.01191859193428173,
           -0.029268135952880588,
           0.01736912418921614
          ],
          [
           -0.009099510006165032,
           0.0067277633315482544,
           -0.013840426041409181,
           0.005088578589148689,
           0.020007360852823026,
           -0.0040463268594424055,
           -0.011666888211871748,
           -0.010284894188028587,
           -0.022229490645170574,
           -0.0008266375112020649,
           -0.013033848718381051,
           -0.015385905547447686,
           0.003785740469720098,
           -0.004279316773143318,
           -0.004283624634939329,
           -0.0019838362465991258,
           -0.0038679731447472444,
           0.012597464637302186,
           0.056752252630314796,
           0.005063476716783513,
           -0.007935503607032466,
           0.0015560140110532092,
           0.027319012304323237,
           0.011975248293799926,
           -0.008853629272230185,
           -0.004462567055001068,
           -0.06448056112443258,
           -0.006278363505268671,
           -0.023248452780696788,
           0.004759945900241739,
           -0.004435975085955263,
           0.0015560140528644443,
           -0.00406471223389288,
           -0.00885362927223018,
           1,
           -0.016932706852141006,
           -0.007093494614990927,
           -0.02278786861915674,
           -0.0077256728838622935
          ],
          [
           -0.587848849815842,
           -0.9258082266577268,
           -0.4322725874261104,
           0.013131939427184427,
           -0.05119769662945882,
           0.012303024107529457,
           0.009712082857550056,
           -0.23285512366754996,
           0.03827474735635477,
           0.004208233278006859,
           -0.10750985779573038,
           -0.21426067824639095,
           -0.034157322738037586,
           0.009253356730704767,
           0.023218053246346536,
           -0.014896496956669954,
           0.005088457461973045,
           -0.06380281244356467,
           -0.1190849309283832,
           -0.01269293729936689,
           0.022392500989567066,
           -0.7182625806278481,
           -0.02839940446772938,
           -0.9598275196280657,
           0.0037832079997824172,
           0.04382201977634377,
           0.1378203366798689,
           0.015519108533629256,
           0.03135824321981538,
           -0.01368333469814923,
           -0.5995027633356839,
           -0.718262580665898,
           0.013187716300796268,
           0.003783207999782413,
           -0.016932706852141006,
           1,
           0.027210923564886275,
           0.05764729902297925,
           0.002634244657385137
          ],
          [
           0.18627752910664502,
           0.007675652750633628,
           0.0070800670335740825,
           0.0008823493704140108,
           0.027138388862501802,
           -0.006637725124055903,
           0.06679201545323848,
           -0.018011112893567795,
           0.009182568184991424,
           -0.048353137243883224,
           -0.024895119818522958,
           -0.039126995311697714,
           0.014605228973288762,
           -0.005290803604529332,
           0.010087359652654256,
           0.0066705372164830926,
           -0.0039046287008946147,
           0.017395747180493047,
           -0.030910801353910826,
           0.006406350876084212,
           -0.012131961700797549,
           0.38206386018804067,
           0.0766110533091146,
           0.13584268753250864,
           -0.01191859193428173,
           -0.003730091160667197,
           -0.10494200618319649,
           -0.008653456701566491,
           -0.0037118583007289536,
           0.013646089907654625,
           0.045703335761607275,
           0.38206386020541894,
           -0.006496213707295653,
           -0.01191859193428173,
           -0.007093494614990927,
           0.027210923564886275,
           1,
           -0.015039690927712129,
           -0.008602828724104858
          ],
          [
           -0.06569921097284277,
           -0.06692627312637452,
           0.004329574732989708,
           -0.05433970476321038,
           0.005628453904353625,
           -0.021353272348731706,
           0.04285825032991469,
           -0.02013551264223539,
           -0.07168995037311854,
           -0.05587173773710113,
           -0.0054730131279083615,
           -0.027697676455420806,
           -0.08583909712730997,
           -0.02550301276396593,
           -0.06632884552731742,
           -0.052984407482453706,
           -0.03265727486925045,
           -0.07067535030486533,
           -0.08942504729035301,
           -0.0046180051620881915,
           -0.02411468813600357,
           -0.053584018058834386,
           -0.053562955420108485,
           -0.06024265111594542,
           -0.029268135952880567,
           -0.03403454335612239,
           -0.12011695820836649,
           -0.03635952990852219,
           -0.15223786264112302,
           -0.08502919731797855,
           -0.03936984395493476,
           -0.053584018092092206,
           0.6625552752351327,
           -0.029268135952880588,
           -0.02278786861915674,
           0.05764729902297925,
           -0.015039690927712129,
           1,
           -0.6245467846513783
          ],
          [
           0.047566481209693694,
           0.0246820879670088,
           0.06801554917817135,
           -0.21988405791903057,
           0.21973355059338848,
           -0.008399203959862206,
           -0.004672181670801194,
           0.07374533880480706,
           0.09058329628025227,
           0.04197354052932817,
           0.009298493222776705,
           0.0250499252226208,
           0.013273172861677549,
           -0.005880428971376268,
           0.009262060915360608,
           0.010366851273157524,
           -0.0042852990813995505,
           0.033091382371609225,
           0.10803751314582612,
           0.026373162729016218,
           0.0054319694824932485,
           -0.0057003442025101575,
           -0.13942723824486275,
           -0.004064215818191951,
           0.017369124189216132,
           0.07912909793407535,
           0.13248882646728838,
           0.04896332857599157,
           0.39839267085782176,
           -0.02471623332996429,
           0.054397921337970036,
           -0.005700343983445525,
           -0.7663209181204715,
           0.01736912418921614,
           -0.0077256728838622935,
           0.002634244657385137,
           -0.008602828724104858,
           -0.6245467846513783,
           1
          ]
         ]
        }
       ],
       "layout": {
        "coloraxis": {
         "colorscale": [
          [
           0,
           "rgb(150, 245, 231)"
          ],
          [
           0.5,
           "rgb(100, 195, 181)"
          ],
          [
           1,
           "rgb(50, 145, 131)"
          ]
         ]
        },
        "height": 1000,
        "template": {
         "data": {
          "bar": [
           {
            "error_x": {
             "color": "#f2f5fa"
            },
            "error_y": {
             "color": "#f2f5fa"
            },
            "marker": {
             "line": {
              "color": "rgb(17,17,17)",
              "width": 0.5
             },
             "pattern": {
              "fillmode": "overlay",
              "size": 10,
              "solidity": 0.2
             }
            },
            "type": "bar"
           }
          ],
          "barpolar": [
           {
            "marker": {
             "line": {
              "color": "rgb(17,17,17)",
              "width": 0.5
             },
             "pattern": {
              "fillmode": "overlay",
              "size": 10,
              "solidity": 0.2
             }
            },
            "type": "barpolar"
           }
          ],
          "carpet": [
           {
            "aaxis": {
             "endlinecolor": "#A2B1C6",
             "gridcolor": "#506784",
             "linecolor": "#506784",
             "minorgridcolor": "#506784",
             "startlinecolor": "#A2B1C6"
            },
            "baxis": {
             "endlinecolor": "#A2B1C6",
             "gridcolor": "#506784",
             "linecolor": "#506784",
             "minorgridcolor": "#506784",
             "startlinecolor": "#A2B1C6"
            },
            "type": "carpet"
           }
          ],
          "choropleth": [
           {
            "colorbar": {
             "outlinewidth": 0,
             "ticks": ""
            },
            "type": "choropleth"
           }
          ],
          "contour": [
           {
            "colorbar": {
             "outlinewidth": 0,
             "ticks": ""
            },
            "colorscale": [
             [
              0,
              "#0d0887"
             ],
             [
              0.1111111111111111,
              "#46039f"
             ],
             [
              0.2222222222222222,
              "#7201a8"
             ],
             [
              0.3333333333333333,
              "#9c179e"
             ],
             [
              0.4444444444444444,
              "#bd3786"
             ],
             [
              0.5555555555555556,
              "#d8576b"
             ],
             [
              0.6666666666666666,
              "#ed7953"
             ],
             [
              0.7777777777777778,
              "#fb9f3a"
             ],
             [
              0.8888888888888888,
              "#fdca26"
             ],
             [
              1,
              "#f0f921"
             ]
            ],
            "type": "contour"
           }
          ],
          "contourcarpet": [
           {
            "colorbar": {
             "outlinewidth": 0,
             "ticks": ""
            },
            "type": "contourcarpet"
           }
          ],
          "heatmap": [
           {
            "colorbar": {
             "outlinewidth": 0,
             "ticks": ""
            },
            "colorscale": [
             [
              0,
              "#0d0887"
             ],
             [
              0.1111111111111111,
              "#46039f"
             ],
             [
              0.2222222222222222,
              "#7201a8"
             ],
             [
              0.3333333333333333,
              "#9c179e"
             ],
             [
              0.4444444444444444,
              "#bd3786"
             ],
             [
              0.5555555555555556,
              "#d8576b"
             ],
             [
              0.6666666666666666,
              "#ed7953"
             ],
             [
              0.7777777777777778,
              "#fb9f3a"
             ],
             [
              0.8888888888888888,
              "#fdca26"
             ],
             [
              1,
              "#f0f921"
             ]
            ],
            "type": "heatmap"
           }
          ],
          "heatmapgl": [
           {
            "colorbar": {
             "outlinewidth": 0,
             "ticks": ""
            },
            "colorscale": [
             [
              0,
              "#0d0887"
             ],
             [
              0.1111111111111111,
              "#46039f"
             ],
             [
              0.2222222222222222,
              "#7201a8"
             ],
             [
              0.3333333333333333,
              "#9c179e"
             ],
             [
              0.4444444444444444,
              "#bd3786"
             ],
             [
              0.5555555555555556,
              "#d8576b"
             ],
             [
              0.6666666666666666,
              "#ed7953"
             ],
             [
              0.7777777777777778,
              "#fb9f3a"
             ],
             [
              0.8888888888888888,
              "#fdca26"
             ],
             [
              1,
              "#f0f921"
             ]
            ],
            "type": "heatmapgl"
           }
          ],
          "histogram": [
           {
            "marker": {
             "pattern": {
              "fillmode": "overlay",
              "size": 10,
              "solidity": 0.2
             }
            },
            "type": "histogram"
           }
          ],
          "histogram2d": [
           {
            "colorbar": {
             "outlinewidth": 0,
             "ticks": ""
            },
            "colorscale": [
             [
              0,
              "#0d0887"
             ],
             [
              0.1111111111111111,
              "#46039f"
             ],
             [
              0.2222222222222222,
              "#7201a8"
             ],
             [
              0.3333333333333333,
              "#9c179e"
             ],
             [
              0.4444444444444444,
              "#bd3786"
             ],
             [
              0.5555555555555556,
              "#d8576b"
             ],
             [
              0.6666666666666666,
              "#ed7953"
             ],
             [
              0.7777777777777778,
              "#fb9f3a"
             ],
             [
              0.8888888888888888,
              "#fdca26"
             ],
             [
              1,
              "#f0f921"
             ]
            ],
            "type": "histogram2d"
           }
          ],
          "histogram2dcontour": [
           {
            "colorbar": {
             "outlinewidth": 0,
             "ticks": ""
            },
            "colorscale": [
             [
              0,
              "#0d0887"
             ],
             [
              0.1111111111111111,
              "#46039f"
             ],
             [
              0.2222222222222222,
              "#7201a8"
             ],
             [
              0.3333333333333333,
              "#9c179e"
             ],
             [
              0.4444444444444444,
              "#bd3786"
             ],
             [
              0.5555555555555556,
              "#d8576b"
             ],
             [
              0.6666666666666666,
              "#ed7953"
             ],
             [
              0.7777777777777778,
              "#fb9f3a"
             ],
             [
              0.8888888888888888,
              "#fdca26"
             ],
             [
              1,
              "#f0f921"
             ]
            ],
            "type": "histogram2dcontour"
           }
          ],
          "mesh3d": [
           {
            "colorbar": {
             "outlinewidth": 0,
             "ticks": ""
            },
            "type": "mesh3d"
           }
          ],
          "parcoords": [
           {
            "line": {
             "colorbar": {
              "outlinewidth": 0,
              "ticks": ""
             }
            },
            "type": "parcoords"
           }
          ],
          "pie": [
           {
            "automargin": true,
            "type": "pie"
           }
          ],
          "scatter": [
           {
            "marker": {
             "line": {
              "color": "#283442"
             }
            },
            "type": "scatter"
           }
          ],
          "scatter3d": [
           {
            "line": {
             "colorbar": {
              "outlinewidth": 0,
              "ticks": ""
             }
            },
            "marker": {
             "colorbar": {
              "outlinewidth": 0,
              "ticks": ""
             }
            },
            "type": "scatter3d"
           }
          ],
          "scattercarpet": [
           {
            "marker": {
             "colorbar": {
              "outlinewidth": 0,
              "ticks": ""
             }
            },
            "type": "scattercarpet"
           }
          ],
          "scattergeo": [
           {
            "marker": {
             "colorbar": {
              "outlinewidth": 0,
              "ticks": ""
             }
            },
            "type": "scattergeo"
           }
          ],
          "scattergl": [
           {
            "marker": {
             "line": {
              "color": "#283442"
             }
            },
            "type": "scattergl"
           }
          ],
          "scattermapbox": [
           {
            "marker": {
             "colorbar": {
              "outlinewidth": 0,
              "ticks": ""
             }
            },
            "type": "scattermapbox"
           }
          ],
          "scatterpolar": [
           {
            "marker": {
             "colorbar": {
              "outlinewidth": 0,
              "ticks": ""
             }
            },
            "type": "scatterpolar"
           }
          ],
          "scatterpolargl": [
           {
            "marker": {
             "colorbar": {
              "outlinewidth": 0,
              "ticks": ""
             }
            },
            "type": "scatterpolargl"
           }
          ],
          "scatterternary": [
           {
            "marker": {
             "colorbar": {
              "outlinewidth": 0,
              "ticks": ""
             }
            },
            "type": "scatterternary"
           }
          ],
          "surface": [
           {
            "colorbar": {
             "outlinewidth": 0,
             "ticks": ""
            },
            "colorscale": [
             [
              0,
              "#0d0887"
             ],
             [
              0.1111111111111111,
              "#46039f"
             ],
             [
              0.2222222222222222,
              "#7201a8"
             ],
             [
              0.3333333333333333,
              "#9c179e"
             ],
             [
              0.4444444444444444,
              "#bd3786"
             ],
             [
              0.5555555555555556,
              "#d8576b"
             ],
             [
              0.6666666666666666,
              "#ed7953"
             ],
             [
              0.7777777777777778,
              "#fb9f3a"
             ],
             [
              0.8888888888888888,
              "#fdca26"
             ],
             [
              1,
              "#f0f921"
             ]
            ],
            "type": "surface"
           }
          ],
          "table": [
           {
            "cells": {
             "fill": {
              "color": "#506784"
             },
             "line": {
              "color": "rgb(17,17,17)"
             }
            },
            "header": {
             "fill": {
              "color": "#2a3f5f"
             },
             "line": {
              "color": "rgb(17,17,17)"
             }
            },
            "type": "table"
           }
          ]
         },
         "layout": {
          "annotationdefaults": {
           "arrowcolor": "#f2f5fa",
           "arrowhead": 0,
           "arrowwidth": 1
          },
          "autotypenumbers": "strict",
          "coloraxis": {
           "colorbar": {
            "outlinewidth": 0,
            "ticks": ""
           }
          },
          "colorscale": {
           "diverging": [
            [
             0,
             "#8e0152"
            ],
            [
             0.1,
             "#c51b7d"
            ],
            [
             0.2,
             "#de77ae"
            ],
            [
             0.3,
             "#f1b6da"
            ],
            [
             0.4,
             "#fde0ef"
            ],
            [
             0.5,
             "#f7f7f7"
            ],
            [
             0.6,
             "#e6f5d0"
            ],
            [
             0.7,
             "#b8e186"
            ],
            [
             0.8,
             "#7fbc41"
            ],
            [
             0.9,
             "#4d9221"
            ],
            [
             1,
             "#276419"
            ]
           ],
           "sequential": [
            [
             0,
             "#0d0887"
            ],
            [
             0.1111111111111111,
             "#46039f"
            ],
            [
             0.2222222222222222,
             "#7201a8"
            ],
            [
             0.3333333333333333,
             "#9c179e"
            ],
            [
             0.4444444444444444,
             "#bd3786"
            ],
            [
             0.5555555555555556,
             "#d8576b"
            ],
            [
             0.6666666666666666,
             "#ed7953"
            ],
            [
             0.7777777777777778,
             "#fb9f3a"
            ],
            [
             0.8888888888888888,
             "#fdca26"
            ],
            [
             1,
             "#f0f921"
            ]
           ],
           "sequentialminus": [
            [
             0,
             "#0d0887"
            ],
            [
             0.1111111111111111,
             "#46039f"
            ],
            [
             0.2222222222222222,
             "#7201a8"
            ],
            [
             0.3333333333333333,
             "#9c179e"
            ],
            [
             0.4444444444444444,
             "#bd3786"
            ],
            [
             0.5555555555555556,
             "#d8576b"
            ],
            [
             0.6666666666666666,
             "#ed7953"
            ],
            [
             0.7777777777777778,
             "#fb9f3a"
            ],
            [
             0.8888888888888888,
             "#fdca26"
            ],
            [
             1,
             "#f0f921"
            ]
           ]
          },
          "colorway": [
           "#636efa",
           "#EF553B",
           "#00cc96",
           "#ab63fa",
           "#FFA15A",
           "#19d3f3",
           "#FF6692",
           "#B6E880",
           "#FF97FF",
           "#FECB52"
          ],
          "font": {
           "color": "#f2f5fa"
          },
          "geo": {
           "bgcolor": "rgb(17,17,17)",
           "lakecolor": "rgb(17,17,17)",
           "landcolor": "rgb(17,17,17)",
           "showlakes": true,
           "showland": true,
           "subunitcolor": "#506784"
          },
          "hoverlabel": {
           "align": "left"
          },
          "hovermode": "closest",
          "mapbox": {
           "style": "dark"
          },
          "paper_bgcolor": "rgb(17,17,17)",
          "plot_bgcolor": "rgb(17,17,17)",
          "polar": {
           "angularaxis": {
            "gridcolor": "#506784",
            "linecolor": "#506784",
            "ticks": ""
           },
           "bgcolor": "rgb(17,17,17)",
           "radialaxis": {
            "gridcolor": "#506784",
            "linecolor": "#506784",
            "ticks": ""
           }
          },
          "scene": {
           "xaxis": {
            "backgroundcolor": "rgb(17,17,17)",
            "gridcolor": "#506784",
            "gridwidth": 2,
            "linecolor": "#506784",
            "showbackground": true,
            "ticks": "",
            "zerolinecolor": "#C8D4E3"
           },
           "yaxis": {
            "backgroundcolor": "rgb(17,17,17)",
            "gridcolor": "#506784",
            "gridwidth": 2,
            "linecolor": "#506784",
            "showbackground": true,
            "ticks": "",
            "zerolinecolor": "#C8D4E3"
           },
           "zaxis": {
            "backgroundcolor": "rgb(17,17,17)",
            "gridcolor": "#506784",
            "gridwidth": 2,
            "linecolor": "#506784",
            "showbackground": true,
            "ticks": "",
            "zerolinecolor": "#C8D4E3"
           }
          },
          "shapedefaults": {
           "line": {
            "color": "#f2f5fa"
           }
          },
          "sliderdefaults": {
           "bgcolor": "#C8D4E3",
           "bordercolor": "rgb(17,17,17)",
           "borderwidth": 1,
           "tickwidth": 0
          },
          "ternary": {
           "aaxis": {
            "gridcolor": "#506784",
            "linecolor": "#506784",
            "ticks": ""
           },
           "baxis": {
            "gridcolor": "#506784",
            "linecolor": "#506784",
            "ticks": ""
           },
           "bgcolor": "rgb(17,17,17)",
           "caxis": {
            "gridcolor": "#506784",
            "linecolor": "#506784",
            "ticks": ""
           }
          },
          "title": {
           "x": 0.05
          },
          "updatemenudefaults": {
           "bgcolor": "#506784",
           "borderwidth": 0
          },
          "xaxis": {
           "automargin": true,
           "gridcolor": "#283442",
           "linecolor": "#506784",
           "ticks": "",
           "title": {
            "standoff": 15
           },
           "zerolinecolor": "#283442",
           "zerolinewidth": 2
          },
          "yaxis": {
           "automargin": true,
           "gridcolor": "#283442",
           "linecolor": "#506784",
           "ticks": "",
           "title": {
            "standoff": 15
           },
           "zerolinecolor": "#283442",
           "zerolinewidth": 2
          }
         }
        },
        "title": {
         "text": "Heatmap: Correlation between the variables"
        },
        "width": 3000,
        "xaxis": {
         "anchor": "y",
         "domain": [
          0,
          1
         ]
        },
        "yaxis": {
         "anchor": "x",
         "autorange": "reversed",
         "domain": [
          0,
          1
         ]
        }
       }
      }
     },
     "metadata": {},
     "output_type": "display_data"
    }
   ],
   "source": [
    "color_scale = [[0, 'rgb(150, 245, 231)'], [0.5, 'rgb(100, 195, 181)'], [1, 'rgb(50, 145, 131)']]\n",
    "fig = px.imshow(fundamentals_corr, text_auto=True, aspect=\"auto\", width=3000, height=1000, template=\"plotly_dark\", title=\"Heatmap: Correlation between the variables\", color_continuous_scale=color_scale)\n",
    "fig.show()"
   ]
  },
  {
   "cell_type": "markdown",
   "metadata": {},
   "source": [
    "##### Dispertion Matrix"
   ]
  },
  {
   "cell_type": "code",
   "execution_count": null,
   "metadata": {},
   "outputs": [],
   "source": [
    "fig = px.scatter_matrix(fundamentals_corr, dimensions=fundamentals_corr.columns, title='Scatter Plots for All Columns', template=\"plotly_dark\",)\n",
    "fig.update_traces(marker=dict(color='rgb(100, 195, 181)'))\n",
    "\n",
    "fig.update_layout(width=4000, height=8000, grid=dict(xgap=0.1, ygap=0.1))\n",
    "\n",
    "fig.show()"
   ]
  },
  {
   "cell_type": "markdown",
   "metadata": {},
   "source": [
    "##### Strong positive correlation."
   ]
  },
  {
   "cell_type": "markdown",
   "metadata": {},
   "source": [
    "- **`total_cash`** & **`total_assets_approx`**: Correlation of **1.0**, indicating a perfect positive correlation. The total cash is an exact indicator of the total approximate assets, suggesting that cash might be a significant component of the assets.\n",
    "\n",
    "- **`earnings_growth_rate`** & **`earnings_quarterly_growth`**: Correlation of **1.0**, implying that the growth rate of earnings is perfectly mirrored on a quarterly basis, indicating consistent growth patterns.\n",
    "\n",
    "- **`fifty_two_week_high`** & **`dividend_rate`**: Correlation of **0.996772**, showing a nearly perfect positive relationship, suggesting that stocks hitting their annual high often have high dividend rates, indicating potentially profitable investments.\n",
    "\n",
    "- **`fifty_two_week_high`** & **`two_hundred_day_average`**: Correlation of **0.995925**, indicating that stocks at their annual highs typically also have high two hundred day averages, suggesting sustained stock performance.\n",
    "\n",
    "- **`dividend_rate`** & **`two_hundred_day_average`**: Correlation of **0.985873**, showing that stocks with higher dividend rates usually have higher long-term average prices, potentially indicating stable, profitable companies.\n",
    "\n",
    "- **`market_cap`** & **`gross_profits`**: Correlation of **0.928809**, indicating that companies with larger market capitalizations tend to have higher gross profits, suggesting a scale effect in profitability.\n",
    "\n",
    "- **`fifty_day_average`** & **`two_hundred_day_average`**: Correlation of **0.918297**, suggesting a strong relationship between the short-term and medium-term average stock prices, indicating consistent stock performance.\n",
    "\n",
    "- **`total_debt`** & **`enterprise_value`**: Correlation of **0.909718**, suggesting that companies with higher debt also tend to have higher enterprise values, which might indicate debt as a significant factor in the overall valuation.\n",
    "\n",
    "- **`volume`** & **`average_volume`**: Correlation of **0.902085**, indicating that trading volumes are consistent with their average values, suggesting stable trading interest.\n",
    "\n",
    "- **`ebitda`** & **`gross_profits`**: Correlation of **0.893112**, showing a strong positive relationship, suggesting that operational earnings are closely linked to overall profitability.\n",
    "\n",
    "- **`total_debt`** & **`total_assets_approx`**: Correlation of **0.884635**, indicating that companies with higher debt levels also tend to have higher total assets, possibly reflecting asset-backed borrowing.\n",
    "\n",
    "- **`ebitda`** & **`total_revenue`**: Correlation of **0.880440**, suggesting that companies with higher earnings before interest, taxes, depreciation, and amortization also report higher revenues, indicating operational efficiency.\n",
    "\n",
    "- **`fifty_two_week_high`** & **`fifty_day_average`**: Correlation of **0.879936**, indicating that stocks with a higher fifty-day average tend to reach their annual highs, suggesting positive short-term momentum.\n",
    "\n",
    "- **`total_revenue`** & **`gross_profits`**: Correlation of **0.875694**, indicating that companies with higher revenues also have higher gross profits, underlining the importance of sales volume in profitability.\n",
    "\n",
    "- **`market_cap`** & **`enterprise_value`**: Correlation of **0.843670**, suggesting that market capitalization is strongly related to enterprise value, indicating that the market valuation reflects the company's total worth including debt and cash.\n",
    "\n",
    "- **`dividend_rate`** & **`fifty_day_average`**: Correlation of **0.840190**, showing that stocks with higher dividend rates also tend to have higher short-term average prices, suggesting a reward for consistent performance.\n",
    "\n",
    "- **`ebitda_margins`** & **`price_to_sales_trailing_12_months`**: Correlation of **0.837484**, indicating that companies with higher profit margins tend to have higher price-to-sales ratios, suggesting that margins are a key factor in sales valuations.\n",
    "\n",
    "- **`gross_profits`** & **`enterprise_value`**: Correlation of **0.829091**, suggesting that companies with higher gross profits also tend to have higher enterprise values, implying that profitability is a key component of company valuation.\n",
    "\n",
    "- **`total_revenue`** & **`market_cap`**: Correlation of **0.821591**, indicating that companies with higher revenues generally have higher market capitalizations, suggesting that revenue is a primary driver of market valuation.\n",
    "\n",
    "- **`ebitda`** & **`market_cap`**: Correlation of **0.788431**, showing that companies with higher operational earnings (EBITDA) also tend to have higher market capitalizations, indicating that operational efficiency translates to market value.\n",
    "\n",
    "- **`fifty_two_week_low`** & **`fifty_day_average`**: Correlation of **0.754229**, suggesting that there is a relationship between the fifty-day average price of a stock and its annual low, which might indicate recovery or decline trends.\n",
    "\n",
    "- **`enterprise_value`** & **`total_assets_approx`**: Correlation of **0.717299**, indicating that there is a positive relationship between the value of a company including its debt and cash and its total approximate assets.\n",
    "\n",
    "- **`total_cash`** & **`enterprise_value`**: Correlation of **0.717299**, indicating that companies with higher cash reserves tend to have higher enterprise values, suggesting that liquidity is an important factor in a company's total valuation.\n"
   ]
  },
  {
   "cell_type": "markdown",
   "metadata": {},
   "source": [
    "##### Strong negative correlation"
   ]
  },
  {
   "cell_type": "markdown",
   "metadata": {},
   "source": [
    "- **`ebitda_margins`** & **`price_to_sales_trailing_12_months`**: With a correlation of **0.837484**, this suggests that companies with higher EBITDA margins typically also have a higher price to sales ratio over the trailing twelve months, indicating that operational efficiency is valued in the market pricing.\n",
    "\n",
    "- **`gross_profits`** & **`enterprise_value`**: The correlation of **0.829091** indicates that entities with substantial gross profits often have a high enterprise value, suggesting that profitability is a key component of a company's overall valuation.\n",
    "\n",
    "- **`total_revenue`** & **`market_cap`**: A correlation of **0.821591** shows that companies with larger total revenues often have a larger market capitalization, suggesting a direct relationship between the size of a company's revenue and its perceived value in the stock market.\n",
    "\n",
    "- **`ebitda`** & **`market_cap`**: The correlation of **0.788431** suggests a strong relationship between a company's earnings before interest, taxes, depreciation, and amortization and its market capitalization, indicating that companies with better operational profitability are often valued higher in the market.\n",
    "\n",
    "- **`fifty_two_week_low`** & **`fifty_day_average`**: With a correlation of **0.754229**, this suggests that stocks with higher fifty-day averages are less likely to hit their fifty-two-week low, indicating a potential resistance to long-term lows when the short-term average is higher.\n",
    "\n",
    "- **`enterprise_value`** & **`total_assets_approx`**: The correlation of **0.717299** implies a substantial relationship between the enterprise value and the total approximate assets of a company, suggesting that the total assets are a significant determinant of the enterprise value.\n",
    "\n",
    "- **`total_cash`** & **`enterprise_value`**: The same correlation of **0.717299** here suggests that companies with higher cash reserves are likely to have a higher enterprise value, indicating that liquidity is a valued aspect of a company's worth.\n"
   ]
  },
  {
   "cell_type": "markdown",
   "metadata": {},
   "source": [
    "#### Outliers"
   ]
  },
  {
   "cell_type": "code",
   "execution_count": null,
   "metadata": {},
   "outputs": [],
   "source": [
    "df = df_fundamentals_numeric_cols\n",
    "\n",
    "fig = sp.make_subplots(rows=5, cols=8, subplot_titles=df.columns, shared_yaxes=True, horizontal_spacing=0.01, vertical_spacing=0.1)\n",
    "\n",
    "for row in range(1, 6):\n",
    "\n",
    "    for col in range(1, 9):\n",
    "\n",
    "        col_name = df.columns[col]\n",
    "        trace = go.Box(y=df[col_name], name=col_name, marker=dict(color='rgb(100, 195, 181)'))\n",
    "        fig.add_trace(trace, row=row, col=col)\n",
    "\n",
    "fig.update_layout(title_text=\"Boxplot: Outliers\", height=800, width=2500, template=\"plotly_dark\")\n",
    "fig.show()"
   ]
  },
  {
   "cell_type": "markdown",
   "metadata": {},
   "source": [
    "##### Detailed View of Outliers by Column"
   ]
  },
  {
   "cell_type": "markdown",
   "metadata": {},
   "source": [
    "**`market_cap`**: Outliers may indicate companies with market capitalizations significantly larger or smaller than the majority, reflecting the presence of market giants or very small companies.\n",
    "\n",
    "**`enterprise_value`**: Outliers may suggest companies with exceptional enterprise values, possibly due to substantial debt or valuable assets.\n",
    "\n",
    "**`total_revenue`**: Discrepant values may indicate revenues significantly above or below the average, representing extraordinary variations in financial performance.\n",
    "\n",
    "**`profit_margins` and `operating_margins`**: Outliers in these columns may represent companies with exceptionally high or low profit or operating margins, reflecting notable financial efficiency or inefficiency.\n",
    "\n",
    "**`dividend_rate`**: Outliers may indicate the presence or absence of dividends, with extremely high or low values reflecting unusual dividend payment strategies.\n",
    "\n",
    "**`beta`**: Outliers may point to stocks with exceptionally high or low betas, reflecting notable volatility or stability relative to the market.\n",
    "\n",
    "**`ebitda`**: Discrepant values may represent profits before interest, taxes, depreciation, and amortization significantly different from the average, suggesting extraordinary financial events.\n",
    "\n",
    "**`trailing_pe` and `forward_pe`**: Outliers in these columns may indicate stocks with very high or low pricetoearnings ratios, reflecting possible market deviations.\n",
    "\n",
    "**`volume` and `average_volume`**: Discrepant values may represent stocks traded in volumes much above or below the average, reflecting unusual investor interest.\n",
    "\n",
    "**`fifty_two_week_low` and `fifty_two_week_high`**: Outliers in these columns may indicate stocks that have reached notable price extremes in the past 52 weeks, reflecting volatility or exceptional performance.\n",
    "\n",
    "**`price_to_sales_trailing_12_months`**: Discrepant values may suggest stocks being notably evaluated in relation to sales, reflecting market distortions.\n",
    "\n",
    "**`fifty_day_average` and `two_hundred_day_average`**: Outliers in these columns may indicate exceptionally high or low moving averages, reflecting unusual price trends.\n",
    "\n",
    "**`trailing_annual_dividend_rate` and `trailing_annual_dividend_yield`**: Outliers may represent companies paying exceptionally high or low dividends compared to the market average.\n",
    "\n",
    "**`book_value`**: Discrepant values may suggest companies with exceptional book values, reflecting the presence of significant assets or high liabilities.\n",
    "\n",
    "**`price_to_book`**: Outliers may indicate stocks that are notably evaluated in relation to book value.\n",
    "\n",
    "**`total_cash` and `total_cash_per_share`**: Outliers may represent companies with large cash reserves or substantially different cash values compared to the average.\n",
    "\n",
    "**`total_debt`**: Discrepant values may suggest substantial debt or the absence of debt, reflecting different financial strategies.\n",
    "\n",
    "**`earnings_quarterly_growth` and `revenue_growth`**: Outliers may indicate exceptional earnings or revenue growth rates, suggesting remarkable performance.\n",
    "\n",
    "**`gross_margins` and `ebitda_margins`**: Discrepant values in these columns may represent significantly high or low gross or EBITDA margins, reflecting operational efficiency or notable inefficiency.\n",
    "\n",
    "**`return_on_assets` and `return_on_equity`**: Outliers may indicate exceptional returns on assets or equity, reflecting remarkable financial performance.\n",
    "\n",
    "**`gross_profits` and `earnings_growth_rate`**: Outliers may represent exceptional gross profits or earnings growth rates.\n",
    "\n",
    "**`dividend_payout_ratio` and `roi`**: Discrepant values in these columns may indicate notable dividend payout policies or returns on investment."
   ]
  },
  {
   "cell_type": "markdown",
   "metadata": {},
   "source": [
    "##### Macro View of Outliers in Financial Data"
   ]
  },
  {
   "cell_type": "markdown",
   "metadata": {},
   "source": [
    "**`Company Size`:** Outliers in market values, enterprise value, and revenue may reflect large conglomerates in diversified sectors or small startups.\n",
    "\n",
    "**`Financial Efficiency`:** Outliers in profit margins and operating margins may indicate exceptionally efficient or inefficient companies in various sectors.\n",
    "\n",
    "**`Dividend Policies`:** Outliers in dividend rates may represent distinct dividend payment strategies among companies in different sectors.\n",
    "\n",
    "**`Market Volatility`:** Exceptional betas may suggest the unique volatility of stocks in specific sectors.\n",
    "\n",
    "**`Financial Events`:** Outliers in metrics such as EBITDA may reflect nonrecurring financial events, such as mergers, acquisitions, or restructurings.\n",
    "\n",
    "**`Investor Interest`:** Stock volume and moving averages may be influenced by investor interest in specific sectors.\n",
    "\n",
    "**`Business Cycles`:** Sectors with distinct economic cycles may lead to significant variations in financial performance.\n",
    "\n",
    "**`Debt Policies`:** Different sectors have varied approaches to debt, resulting in varying debt values.\n",
    "\n",
    "**`Operational Performance`:** Outliers in profit growth metrics, margins, and returns may reflect the unique performance of companies in different sectors.\n"
   ]
  },
  {
   "cell_type": "markdown",
   "metadata": {},
   "source": [
    "#### Histograms and Distribution"
   ]
  },
  {
   "cell_type": "code",
   "execution_count": null,
   "metadata": {},
   "outputs": [],
   "source": [
    "import plotly.subplots as sp\n",
    "import plotly.graph_objects as go\n",
    "\n",
    "df = df_fundamentals_book.select_dtypes(include=[\"float64\"])\n",
    "fig = sp.make_subplots(rows=5, cols=8, subplot_titles=df.columns, shared_yaxes=True, horizontal_spacing=0.01, vertical_spacing=0.1)\n",
    "\n",
    "for row in range(1, 6):\n",
    "    for col in range(1, 9):\n",
    "        subplot_num = (row - 1) * 8 + col\n",
    "        if subplot_num <= len(df.columns):\n",
    "            col_name = df.columns[subplot_num - 1]\n",
    "            trace = go.Histogram(x=df[col_name], name=col_name, marker=dict(color = 'rgb(100, 195, 181)'), showlegend=False)\n",
    "            fig.add_trace(trace, row=row, col=col)\n",
    "\n",
    "fig.update_layout(title_text=\"Histogram: Distribution\", height=800, width=2500, template=\"plotly_dark\")\n",
    "\n",
    "fig.show()\n"
   ]
  },
  {
   "cell_type": "markdown",
   "metadata": {},
   "source": [
    "**`market_cap`:** Most companies have a market capitalization between **1.257716e+06** and **4.832232e+10**.\n",
    "\n",
    "**`enterprise_value`:** Most companies have an enterprise value between **-6.435227e+09** and **8.995235e+10**.\n",
    "\n",
    "**`total_revenue`:** Most companies have total revenue between **-4.242400e+07** and **5.811812e+10**.\n",
    "\n",
    "**`profit_margins`:** Most companies have profit margins between **-2.162070** and **0.229886**.\n",
    "\n",
    "**`operating_margins`:** Most companies have operating margins close to **0**.\n",
    "\n",
    "**`dividend_rate`:** Most companies do not pay dividends.\n",
    "\n",
    "**`beta`:** Most companies have a beta below **0.25**.\n",
    "\n",
    "**`ebitda`:** Most companies have an EBITDA between **-1.011200e+09** and **2.910870e+11**.\n",
    "\n",
    "**`trailing_pe`:** Most companies have a P/E ratio between **0** and **22**.\n",
    "\n",
    "**`forward_pe`:** Most companies have a future P/E ratio between **-10.142858** and **68.823524**.\n",
    "\n",
    "**`volume`:** Most companies have trading volumes below **9450820.0**.\n",
    "\n",
    "**`average_volume`:** Most companies have average trading volumes below **10634197.9**.\n",
    "\n",
    "**`fifty_two_week_low`:** Most companies have a 52-week low stock price between **0.100** and **24.295**.\n",
    "\n",
    "**f`ifty_two_week_high`:** Most companies have a 52-week high stock price between **1.570** and **6530.000**.\n",
    "\n",
    "**`price_to_sales_trailing_12_months`:** Most companies have a Price/Sales ratio between **-1.871929** and **21.706719**.\n",
    "\n",
    "**`fifty_day_average`:** Most companies have a 50-day average stock price below **71.79748**.\n",
    "\n",
    "**`two_hundred_day_average`:** Most companies have a 200-day average stock price below **268.05739**.\n",
    "\n",
    "**`trailing_annual_dividend_rate`:** Most companies have a trailing annual dividend rate below **5.7786**.\n",
    "\n",
    "**`trailing_annual_dividend_yield`:** Most companies have a yield of dividend yield retroativo inferior to **0.026773**.\n",
    "\n",
    "**`book_value`:** Most companies have a book value between **-3962.8900** and **21.3875**.\n",
    "\n",
    "**`price_to_book`:** Most companies have a Price/Book ratio below **54.66667**.\n",
    "\n",
    "**`total_cash`:** Most companies have total cash between **6.000** and **3.943251e+10**.\n",
    "\n",
    "**`total_cash_per_share`:** Most companies have total cash per share below **54.2057**.\n",
    "\n",
    "**`total_debt`:** Most companies have total debt between **0** and **8.957765e+11**.\n",
    "\n",
    "**`earnings_quarterly_growth`:** Most companies have quarterly earnings growth between **-0.9990** and **1.8895**.\n",
    "\n",
    "**`revenue_growth`:** Most companies have revenue growth between **-0.9830** and **3.6830**.\n",
    "\n",
    "**`gross_margins`:** Most companies have gross margins close to **0**.\n",
    "\n",
    "**`ebitda_margins`:** Most companies have EBITDA margins close to **0**.\n",
    "\n",
    "**`return_on_assets`:** Most companies have a positive **ROA**.\n",
    "\n",
    "**`return_on_equity`:** Most companies have a positive **ROE**.\n",
    "\n",
    "**`gross_profits`:** Most companies have gross profits between **-4.981650e+08** and **3.296165e+11**.\n",
    "\n",
    "**`earnings_growth_rate`:** Most companies have an earnings growth rate between **-99.90** and **2788.60**.\n",
    "\n",
    "**`dividend_payout_ratio`:** Most companies have a dividend payout ratio close to **0**.\n",
    "\n",
    "**`roi`:** Most companies have an **ROI** between **-8.232338** and **34.366094**.\n"
   ]
  }
 ],
 "metadata": {
  "kernelspec": {
   "display_name": "Python 3",
   "language": "python",
   "name": "python3"
  },
  "language_info": {
   "codemirror_mode": {
    "name": "ipython",
    "version": 3
   },
   "file_extension": ".py",
   "mimetype": "text/x-python",
   "name": "python",
   "nbconvert_exporter": "python",
   "pygments_lexer": "ipython3",
   "version": "3.11.5"
  }
 },
 "nbformat": 4,
 "nbformat_minor": 2
}
