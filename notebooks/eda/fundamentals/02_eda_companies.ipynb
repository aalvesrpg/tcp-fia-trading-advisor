{
 "cells": [
  {
   "cell_type": "markdown",
   "metadata": {},
   "source": [
    "# **Exploratory Data Analisys: Companies**"
   ]
  },
  {
   "cell_type": "markdown",
   "metadata": {},
   "source": [
    "In the notebook dedicated to the exploratory data analysis (EDA) of companies listed on B3, the filters are specifically designed to meet the needs of investors with a Buy and Hold strategy. These filters allow for better visualization and interpretation of data, facilitating the identification of companies that offer good long-term appreciation and stability, which is essential for this type of investment.\n",
    "\n",
    "Here are the fundamental metrics that are used to filter and assess the companies:\n",
    "\n",
    "- **`market_cap`**: to filter companies by their market capitalization, allowing the identification of companies with greater market stability and solidity.\n",
    "- **`dividend_rate`**: to select companies based on the dividend rate paid, which can be an indicator of consistent cash generation.\n",
    "- **`trailing_annual_dividend_yield`**: for companies based on past annual dividend yields, a metric that reflects profitability over the stock price.\n",
    "- **`debt_to_equity`**: to analyze the ratio between the company's total debt and its equity, which helps to understand the level of indebtedness and financial risk.\n",
    "- **`trailing_pe`**: (Price to Earnings) to compare the current stock price with the earnings per share over the last 12 months, a classic metric for evaluating the price-earnings ratio.\n",
    "- **`forward_pe`**: for projecting the stock price relative to expected earnings, providing a future estimate of the price-earnings ratio.\n",
    "- **`price_to_book`**: for comparison between the market value of the company and its book value, which can signal stocks traded below their net asset value.\n",
    "- **`earnings_quarterly_growth`**: to assess the company's earnings growth compared to the same quarter of the previous year, showing growth or decline trends.\n",
    "\n",
    "These columns would be at the core of Buy and Hold analysis, as they reflect the fundamental aspects long-term investors generally seek: sustainable growth, financial solidity, and dividend return. The \n",
    "visualization of data filtered by these columns offers clear and precise insights, making the investment analysis process more efficient and well-founded."
   ]
  },
  {
   "cell_type": "markdown",
   "metadata": {},
   "source": [
    "## **Initial Setup**"
   ]
  },
  {
   "cell_type": "markdown",
   "metadata": {},
   "source": [
    "### Install Packages"
   ]
  },
  {
   "cell_type": "code",
   "execution_count": 2,
   "metadata": {},
   "outputs": [
    {
     "name": "stdout",
     "output_type": "stream",
     "text": [
      "Note: you may need to restart the kernel to use updated packages.\n",
      "Note: you may need to restart the kernel to use updated packages.\n"
     ]
    }
   ],
   "source": [
    "%pip install pandas -q\n",
    "%pip install plotly -q"
   ]
  },
  {
   "cell_type": "markdown",
   "metadata": {},
   "source": [
    "### Import libs"
   ]
  },
  {
   "cell_type": "code",
   "execution_count": 3,
   "metadata": {},
   "outputs": [],
   "source": [
    "import os\n",
    "import itertools\n",
    "import pandas as pd\n",
    "from pathlib import Path\n",
    "import plotly.express as px\n",
    "import plotly.graph_objects as go\n",
    "import plotly.subplots as sp"
   ]
  },
  {
   "cell_type": "markdown",
   "metadata": {},
   "source": [
    "### Pandas Config"
   ]
  },
  {
   "cell_type": "code",
   "execution_count": 4,
   "metadata": {},
   "outputs": [],
   "source": [
    "pd.set_option('display.max_columns', None)\n",
    "pd.set_option('display.max_rows', None)"
   ]
  },
  {
   "cell_type": "markdown",
   "metadata": {},
   "source": [
    "### Create a file path default"
   ]
  },
  {
   "cell_type": "code",
   "execution_count": 5,
   "metadata": {},
   "outputs": [],
   "source": [
    "file_path_book = str(Path(os.getcwd()).parent.parent.parent / \"data/book\")"
   ]
  },
  {
   "cell_type": "markdown",
   "metadata": {},
   "source": [
    "## Companies"
   ]
  },
  {
   "cell_type": "markdown",
   "metadata": {},
   "source": [
    "### Load data"
   ]
  },
  {
   "cell_type": "code",
   "execution_count": 6,
   "metadata": {},
   "outputs": [
    {
     "data": {
      "text/html": [
       "<div>\n",
       "<style scoped>\n",
       "    .dataframe tbody tr th:only-of-type {\n",
       "        vertical-align: middle;\n",
       "    }\n",
       "\n",
       "    .dataframe tbody tr th {\n",
       "        vertical-align: top;\n",
       "    }\n",
       "\n",
       "    .dataframe thead th {\n",
       "        text-align: right;\n",
       "    }\n",
       "</style>\n",
       "<table border=\"1\" class=\"dataframe\">\n",
       "  <thead>\n",
       "    <tr style=\"text-align: right;\">\n",
       "      <th></th>\n",
       "      <th>ticker</th>\n",
       "      <th>long_name</th>\n",
       "      <th>sector</th>\n",
       "      <th>industry</th>\n",
       "      <th>market_cap</th>\n",
       "      <th>enterprise_value</th>\n",
       "      <th>total_revenue</th>\n",
       "      <th>profit_margins</th>\n",
       "      <th>operating_margins</th>\n",
       "      <th>dividend_rate</th>\n",
       "      <th>beta</th>\n",
       "      <th>ebitda</th>\n",
       "      <th>trailing_pe</th>\n",
       "      <th>forward_pe</th>\n",
       "      <th>volume</th>\n",
       "      <th>average_volume</th>\n",
       "      <th>fifty_two_week_low</th>\n",
       "      <th>fifty_two_week_high</th>\n",
       "      <th>price_to_sales_trailing_12_months</th>\n",
       "      <th>fifty_day_average</th>\n",
       "      <th>two_hundred_day_average</th>\n",
       "      <th>trailing_annual_dividend_rate</th>\n",
       "      <th>trailing_annual_dividend_yield</th>\n",
       "      <th>book_value</th>\n",
       "      <th>price_to_book</th>\n",
       "      <th>total_cash</th>\n",
       "      <th>total_cash_per_share</th>\n",
       "      <th>total_debt</th>\n",
       "      <th>earnings_quarterly_growth</th>\n",
       "      <th>revenue_growth</th>\n",
       "      <th>gross_margins</th>\n",
       "      <th>ebitda_margins</th>\n",
       "      <th>return_on_assets</th>\n",
       "      <th>return_on_equity</th>\n",
       "      <th>gross_profits</th>\n",
       "      <th>total_assets_approx</th>\n",
       "      <th>asset_turnover</th>\n",
       "      <th>earnings_growth_rate</th>\n",
       "      <th>dividend_payout_ratio</th>\n",
       "      <th>equity</th>\n",
       "      <th>debt_to_equity</th>\n",
       "      <th>roi</th>\n",
       "      <th>roce</th>\n",
       "    </tr>\n",
       "  </thead>\n",
       "  <tbody>\n",
       "    <tr>\n",
       "      <th>0</th>\n",
       "      <td>ABCB4.SA</td>\n",
       "      <td>Banco ABC Brasil S.A.</td>\n",
       "      <td>Financial Services</td>\n",
       "      <td>Banks - Regional</td>\n",
       "      <td>4.265434e+09</td>\n",
       "      <td>1.477339e+10</td>\n",
       "      <td>1.941779e+09</td>\n",
       "      <td>0.41576</td>\n",
       "      <td>0.38826</td>\n",
       "      <td>1.56</td>\n",
       "      <td>0.679</td>\n",
       "      <td>0.000000e+00</td>\n",
       "      <td>4.069768</td>\n",
       "      <td>4.706601</td>\n",
       "      <td>92300.0</td>\n",
       "      <td>747165.0</td>\n",
       "      <td>15.85</td>\n",
       "      <td>21.99</td>\n",
       "      <td>2.196663</td>\n",
       "      <td>19.3382</td>\n",
       "      <td>18.14667</td>\n",
       "      <td>1.550</td>\n",
       "      <td>0.080687</td>\n",
       "      <td>24.518</td>\n",
       "      <td>0.785138</td>\n",
       "      <td>7.774306e+09</td>\n",
       "      <td>35.162</td>\n",
       "      <td>1.829846e+10</td>\n",
       "      <td>0.001</td>\n",
       "      <td>0.003</td>\n",
       "      <td>0.00000</td>\n",
       "      <td>0.00000</td>\n",
       "      <td>0.01530</td>\n",
       "      <td>0.15680</td>\n",
       "      <td>1.973086e+09</td>\n",
       "      <td>7.774306e+09</td>\n",
       "      <td>0.249769</td>\n",
       "      <td>0.1</td>\n",
       "      <td>155000.000000</td>\n",
       "      <td>-1.052416e+10</td>\n",
       "      <td>-1.738710</td>\n",
       "      <td>0.131438</td>\n",
       "      <td>0.000000</td>\n",
       "    </tr>\n",
       "    <tr>\n",
       "      <th>1</th>\n",
       "      <td>AGRO3.SA</td>\n",
       "      <td>BrasilAgro - Companhia Brasileira de Proprieda...</td>\n",
       "      <td>Consumer Defensive</td>\n",
       "      <td>Farm Products</td>\n",
       "      <td>2.466480e+09</td>\n",
       "      <td>2.912933e+09</td>\n",
       "      <td>1.249437e+09</td>\n",
       "      <td>0.21493</td>\n",
       "      <td>0.25031</td>\n",
       "      <td>3.21</td>\n",
       "      <td>0.432</td>\n",
       "      <td>2.648920e+08</td>\n",
       "      <td>9.450382</td>\n",
       "      <td>6.332481</td>\n",
       "      <td>298100.0</td>\n",
       "      <td>666692.0</td>\n",
       "      <td>22.29</td>\n",
       "      <td>32.71</td>\n",
       "      <td>1.974073</td>\n",
       "      <td>27.0106</td>\n",
       "      <td>25.58635</td>\n",
       "      <td>3.240</td>\n",
       "      <td>0.132029</td>\n",
       "      <td>22.237</td>\n",
       "      <td>1.113460</td>\n",
       "      <td>3.838370e+08</td>\n",
       "      <td>3.885</td>\n",
       "      <td>8.720750e+08</td>\n",
       "      <td>6.801</td>\n",
       "      <td>0.671</td>\n",
       "      <td>0.25252</td>\n",
       "      <td>0.21201</td>\n",
       "      <td>0.03839</td>\n",
       "      <td>0.12170</td>\n",
       "      <td>3.155040e+08</td>\n",
       "      <td>3.838370e+08</td>\n",
       "      <td>3.255124</td>\n",
       "      <td>680.1</td>\n",
       "      <td>47.640053</td>\n",
       "      <td>-4.882380e+08</td>\n",
       "      <td>-1.786168</td>\n",
       "      <td>0.428927</td>\n",
       "      <td>0.079343</td>\n",
       "    </tr>\n",
       "    <tr>\n",
       "      <th>2</th>\n",
       "      <td>RAIL3.SA</td>\n",
       "      <td>Rumo S.A.</td>\n",
       "      <td>Industrials</td>\n",
       "      <td>Railroads</td>\n",
       "      <td>4.228882e+10</td>\n",
       "      <td>5.524305e+10</td>\n",
       "      <td>1.031746e+10</td>\n",
       "      <td>0.07639</td>\n",
       "      <td>0.33544</td>\n",
       "      <td>0.07</td>\n",
       "      <td>0.227</td>\n",
       "      <td>4.522541e+09</td>\n",
       "      <td>54.309525</td>\n",
       "      <td>21.723810</td>\n",
       "      <td>5733400.0</td>\n",
       "      <td>14644522.0</td>\n",
       "      <td>16.21</td>\n",
       "      <td>24.44</td>\n",
       "      <td>4.098764</td>\n",
       "      <td>22.5852</td>\n",
       "      <td>20.95235</td>\n",
       "      <td>0.066</td>\n",
       "      <td>0.002993</td>\n",
       "      <td>8.334</td>\n",
       "      <td>2.736981</td>\n",
       "      <td>7.656040e+09</td>\n",
       "      <td>4.132</td>\n",
       "      <td>2.184320e+10</td>\n",
       "      <td>3.935</td>\n",
       "      <td>0.121</td>\n",
       "      <td>0.34493</td>\n",
       "      <td>0.43834</td>\n",
       "      <td>0.04252</td>\n",
       "      <td>0.05163</td>\n",
       "      <td>3.146360e+09</td>\n",
       "      <td>7.656040e+09</td>\n",
       "      <td>1.347623</td>\n",
       "      <td>393.5</td>\n",
       "      <td>1.677255</td>\n",
       "      <td>-1.418716e+10</td>\n",
       "      <td>-1.539646</td>\n",
       "      <td>0.186765</td>\n",
       "      <td>0.070519</td>\n",
       "    </tr>\n",
       "    <tr>\n",
       "      <th>3</th>\n",
       "      <td>ALPA3.SA</td>\n",
       "      <td>Alpargatas S.A.</td>\n",
       "      <td>Consumer Cyclical</td>\n",
       "      <td>Footwear &amp; Accessories</td>\n",
       "      <td>5.309793e+09</td>\n",
       "      <td>6.482982e+09</td>\n",
       "      <td>4.022153e+09</td>\n",
       "      <td>-0.05671</td>\n",
       "      <td>-0.06434</td>\n",
       "      <td>0.40</td>\n",
       "      <td>0.571</td>\n",
       "      <td>-1.980000e+05</td>\n",
       "      <td>0.000000</td>\n",
       "      <td>0.000000</td>\n",
       "      <td>1100.0</td>\n",
       "      <td>3953.0</td>\n",
       "      <td>7.27</td>\n",
       "      <td>17.80</td>\n",
       "      <td>1.320137</td>\n",
       "      <td>8.7146</td>\n",
       "      <td>9.63540</td>\n",
       "      <td>0.000</td>\n",
       "      <td>0.000000</td>\n",
       "      <td>7.867</td>\n",
       "      <td>1.008008</td>\n",
       "      <td>4.142880e+08</td>\n",
       "      <td>0.614</td>\n",
       "      <td>1.550341e+09</td>\n",
       "      <td>0.000</td>\n",
       "      <td>-0.127</td>\n",
       "      <td>0.43246</td>\n",
       "      <td>-0.00005</td>\n",
       "      <td>-0.00910</td>\n",
       "      <td>-0.04153</td>\n",
       "      <td>1.968303e+09</td>\n",
       "      <td>4.142880e+08</td>\n",
       "      <td>9.708591</td>\n",
       "      <td>0.0</td>\n",
       "      <td>0.000000</td>\n",
       "      <td>-1.136053e+09</td>\n",
       "      <td>-1.364673</td>\n",
       "      <td>0.620417</td>\n",
       "      <td>-0.000029</td>\n",
       "    </tr>\n",
       "    <tr>\n",
       "      <th>4</th>\n",
       "      <td>ALPA4.SA</td>\n",
       "      <td>Alpargatas S.A.</td>\n",
       "      <td>Consumer Cyclical</td>\n",
       "      <td>Footwear &amp; Accessories</td>\n",
       "      <td>5.350758e+09</td>\n",
       "      <td>6.395236e+09</td>\n",
       "      <td>4.022153e+09</td>\n",
       "      <td>-0.05671</td>\n",
       "      <td>-0.06434</td>\n",
       "      <td>0.43</td>\n",
       "      <td>0.571</td>\n",
       "      <td>-1.980000e+05</td>\n",
       "      <td>0.000000</td>\n",
       "      <td>14.555555</td>\n",
       "      <td>1132100.0</td>\n",
       "      <td>5605825.0</td>\n",
       "      <td>6.81</td>\n",
       "      <td>22.51</td>\n",
       "      <td>1.330322</td>\n",
       "      <td>8.3228</td>\n",
       "      <td>9.27290</td>\n",
       "      <td>0.000</td>\n",
       "      <td>0.000000</td>\n",
       "      <td>7.867</td>\n",
       "      <td>0.999110</td>\n",
       "      <td>4.142880e+08</td>\n",
       "      <td>0.614</td>\n",
       "      <td>1.550341e+09</td>\n",
       "      <td>0.000</td>\n",
       "      <td>-0.127</td>\n",
       "      <td>0.43246</td>\n",
       "      <td>-0.00005</td>\n",
       "      <td>-0.00910</td>\n",
       "      <td>-0.04153</td>\n",
       "      <td>1.968303e+09</td>\n",
       "      <td>4.142880e+08</td>\n",
       "      <td>9.708591</td>\n",
       "      <td>0.0</td>\n",
       "      <td>0.000000</td>\n",
       "      <td>-1.136053e+09</td>\n",
       "      <td>-1.364673</td>\n",
       "      <td>0.628930</td>\n",
       "      <td>-0.000029</td>\n",
       "    </tr>\n",
       "  </tbody>\n",
       "</table>\n",
       "</div>"
      ],
      "text/plain": [
       "     ticker                                          long_name  \\\n",
       "0  ABCB4.SA                              Banco ABC Brasil S.A.   \n",
       "1  AGRO3.SA  BrasilAgro - Companhia Brasileira de Proprieda...   \n",
       "2  RAIL3.SA                                          Rumo S.A.   \n",
       "3  ALPA3.SA                                    Alpargatas S.A.   \n",
       "4  ALPA4.SA                                    Alpargatas S.A.   \n",
       "\n",
       "               sector                industry    market_cap  enterprise_value  \\\n",
       "0  Financial Services        Banks - Regional  4.265434e+09      1.477339e+10   \n",
       "1  Consumer Defensive           Farm Products  2.466480e+09      2.912933e+09   \n",
       "2         Industrials               Railroads  4.228882e+10      5.524305e+10   \n",
       "3   Consumer Cyclical  Footwear & Accessories  5.309793e+09      6.482982e+09   \n",
       "4   Consumer Cyclical  Footwear & Accessories  5.350758e+09      6.395236e+09   \n",
       "\n",
       "   total_revenue  profit_margins  operating_margins  dividend_rate   beta  \\\n",
       "0   1.941779e+09         0.41576            0.38826           1.56  0.679   \n",
       "1   1.249437e+09         0.21493            0.25031           3.21  0.432   \n",
       "2   1.031746e+10         0.07639            0.33544           0.07  0.227   \n",
       "3   4.022153e+09        -0.05671           -0.06434           0.40  0.571   \n",
       "4   4.022153e+09        -0.05671           -0.06434           0.43  0.571   \n",
       "\n",
       "         ebitda  trailing_pe  forward_pe     volume  average_volume  \\\n",
       "0  0.000000e+00     4.069768    4.706601    92300.0        747165.0   \n",
       "1  2.648920e+08     9.450382    6.332481   298100.0        666692.0   \n",
       "2  4.522541e+09    54.309525   21.723810  5733400.0      14644522.0   \n",
       "3 -1.980000e+05     0.000000    0.000000     1100.0          3953.0   \n",
       "4 -1.980000e+05     0.000000   14.555555  1132100.0       5605825.0   \n",
       "\n",
       "   fifty_two_week_low  fifty_two_week_high  price_to_sales_trailing_12_months  \\\n",
       "0               15.85                21.99                           2.196663   \n",
       "1               22.29                32.71                           1.974073   \n",
       "2               16.21                24.44                           4.098764   \n",
       "3                7.27                17.80                           1.320137   \n",
       "4                6.81                22.51                           1.330322   \n",
       "\n",
       "   fifty_day_average  two_hundred_day_average  trailing_annual_dividend_rate  \\\n",
       "0            19.3382                 18.14667                          1.550   \n",
       "1            27.0106                 25.58635                          3.240   \n",
       "2            22.5852                 20.95235                          0.066   \n",
       "3             8.7146                  9.63540                          0.000   \n",
       "4             8.3228                  9.27290                          0.000   \n",
       "\n",
       "   trailing_annual_dividend_yield  book_value  price_to_book    total_cash  \\\n",
       "0                        0.080687      24.518       0.785138  7.774306e+09   \n",
       "1                        0.132029      22.237       1.113460  3.838370e+08   \n",
       "2                        0.002993       8.334       2.736981  7.656040e+09   \n",
       "3                        0.000000       7.867       1.008008  4.142880e+08   \n",
       "4                        0.000000       7.867       0.999110  4.142880e+08   \n",
       "\n",
       "   total_cash_per_share    total_debt  earnings_quarterly_growth  \\\n",
       "0                35.162  1.829846e+10                      0.001   \n",
       "1                 3.885  8.720750e+08                      6.801   \n",
       "2                 4.132  2.184320e+10                      3.935   \n",
       "3                 0.614  1.550341e+09                      0.000   \n",
       "4                 0.614  1.550341e+09                      0.000   \n",
       "\n",
       "   revenue_growth  gross_margins  ebitda_margins  return_on_assets  \\\n",
       "0           0.003        0.00000         0.00000           0.01530   \n",
       "1           0.671        0.25252         0.21201           0.03839   \n",
       "2           0.121        0.34493         0.43834           0.04252   \n",
       "3          -0.127        0.43246        -0.00005          -0.00910   \n",
       "4          -0.127        0.43246        -0.00005          -0.00910   \n",
       "\n",
       "   return_on_equity  gross_profits  total_assets_approx  asset_turnover  \\\n",
       "0           0.15680   1.973086e+09         7.774306e+09        0.249769   \n",
       "1           0.12170   3.155040e+08         3.838370e+08        3.255124   \n",
       "2           0.05163   3.146360e+09         7.656040e+09        1.347623   \n",
       "3          -0.04153   1.968303e+09         4.142880e+08        9.708591   \n",
       "4          -0.04153   1.968303e+09         4.142880e+08        9.708591   \n",
       "\n",
       "   earnings_growth_rate  dividend_payout_ratio        equity  debt_to_equity  \\\n",
       "0                   0.1          155000.000000 -1.052416e+10       -1.738710   \n",
       "1                 680.1              47.640053 -4.882380e+08       -1.786168   \n",
       "2                 393.5               1.677255 -1.418716e+10       -1.539646   \n",
       "3                   0.0               0.000000 -1.136053e+09       -1.364673   \n",
       "4                   0.0               0.000000 -1.136053e+09       -1.364673   \n",
       "\n",
       "        roi      roce  \n",
       "0  0.131438  0.000000  \n",
       "1  0.428927  0.079343  \n",
       "2  0.186765  0.070519  \n",
       "3  0.620417 -0.000029  \n",
       "4  0.628930 -0.000029  "
      ]
     },
     "execution_count": 6,
     "metadata": {},
     "output_type": "execute_result"
    }
   ],
   "source": [
    "df_fundamentals_book = pd.read_csv(file_path_book + \"/fundamentals_book.csv\")\n",
    "df_fundamentals_book.head(5)"
   ]
  },
  {
   "cell_type": "code",
   "execution_count": 7,
   "metadata": {},
   "outputs": [
    {
     "data": {
      "text/html": [
       "<div>\n",
       "<style scoped>\n",
       "    .dataframe tbody tr th:only-of-type {\n",
       "        vertical-align: middle;\n",
       "    }\n",
       "\n",
       "    .dataframe tbody tr th {\n",
       "        vertical-align: top;\n",
       "    }\n",
       "\n",
       "    .dataframe thead th {\n",
       "        text-align: right;\n",
       "    }\n",
       "</style>\n",
       "<table border=\"1\" class=\"dataframe\">\n",
       "  <thead>\n",
       "    <tr style=\"text-align: right;\">\n",
       "      <th></th>\n",
       "      <th>market_cap</th>\n",
       "      <th>enterprise_value</th>\n",
       "      <th>total_revenue</th>\n",
       "      <th>profit_margins</th>\n",
       "      <th>operating_margins</th>\n",
       "      <th>dividend_rate</th>\n",
       "      <th>beta</th>\n",
       "      <th>ebitda</th>\n",
       "      <th>trailing_pe</th>\n",
       "      <th>forward_pe</th>\n",
       "      <th>volume</th>\n",
       "      <th>average_volume</th>\n",
       "      <th>fifty_two_week_low</th>\n",
       "      <th>fifty_two_week_high</th>\n",
       "      <th>price_to_sales_trailing_12_months</th>\n",
       "      <th>fifty_day_average</th>\n",
       "      <th>two_hundred_day_average</th>\n",
       "      <th>trailing_annual_dividend_rate</th>\n",
       "      <th>trailing_annual_dividend_yield</th>\n",
       "      <th>book_value</th>\n",
       "      <th>price_to_book</th>\n",
       "      <th>total_cash</th>\n",
       "      <th>total_cash_per_share</th>\n",
       "      <th>total_debt</th>\n",
       "      <th>earnings_quarterly_growth</th>\n",
       "      <th>revenue_growth</th>\n",
       "      <th>gross_margins</th>\n",
       "      <th>ebitda_margins</th>\n",
       "      <th>return_on_assets</th>\n",
       "      <th>return_on_equity</th>\n",
       "      <th>gross_profits</th>\n",
       "      <th>total_assets_approx</th>\n",
       "      <th>asset_turnover</th>\n",
       "      <th>earnings_growth_rate</th>\n",
       "      <th>dividend_payout_ratio</th>\n",
       "      <th>equity</th>\n",
       "      <th>debt_to_equity</th>\n",
       "      <th>roi</th>\n",
       "      <th>roce</th>\n",
       "    </tr>\n",
       "  </thead>\n",
       "  <tbody>\n",
       "    <tr>\n",
       "      <th>0</th>\n",
       "      <td>4.265434e+09</td>\n",
       "      <td>1.477339e+10</td>\n",
       "      <td>1.941779e+09</td>\n",
       "      <td>0.41576</td>\n",
       "      <td>0.38826</td>\n",
       "      <td>1.56</td>\n",
       "      <td>0.679</td>\n",
       "      <td>0.000000e+00</td>\n",
       "      <td>4.069768</td>\n",
       "      <td>4.706601</td>\n",
       "      <td>92300.0</td>\n",
       "      <td>747165.0</td>\n",
       "      <td>15.85</td>\n",
       "      <td>21.99</td>\n",
       "      <td>2.196663</td>\n",
       "      <td>19.3382</td>\n",
       "      <td>18.14667</td>\n",
       "      <td>1.550</td>\n",
       "      <td>0.080687</td>\n",
       "      <td>24.518</td>\n",
       "      <td>0.785138</td>\n",
       "      <td>7.774306e+09</td>\n",
       "      <td>35.162</td>\n",
       "      <td>1.829846e+10</td>\n",
       "      <td>0.001</td>\n",
       "      <td>0.003</td>\n",
       "      <td>0.00000</td>\n",
       "      <td>0.00000</td>\n",
       "      <td>0.01530</td>\n",
       "      <td>0.15680</td>\n",
       "      <td>1.973086e+09</td>\n",
       "      <td>7.774306e+09</td>\n",
       "      <td>0.249769</td>\n",
       "      <td>0.1</td>\n",
       "      <td>155000.000000</td>\n",
       "      <td>-1.052416e+10</td>\n",
       "      <td>-1.738710</td>\n",
       "      <td>0.131438</td>\n",
       "      <td>0.000000</td>\n",
       "    </tr>\n",
       "    <tr>\n",
       "      <th>1</th>\n",
       "      <td>2.466480e+09</td>\n",
       "      <td>2.912933e+09</td>\n",
       "      <td>1.249437e+09</td>\n",
       "      <td>0.21493</td>\n",
       "      <td>0.25031</td>\n",
       "      <td>3.21</td>\n",
       "      <td>0.432</td>\n",
       "      <td>2.648920e+08</td>\n",
       "      <td>9.450382</td>\n",
       "      <td>6.332481</td>\n",
       "      <td>298100.0</td>\n",
       "      <td>666692.0</td>\n",
       "      <td>22.29</td>\n",
       "      <td>32.71</td>\n",
       "      <td>1.974073</td>\n",
       "      <td>27.0106</td>\n",
       "      <td>25.58635</td>\n",
       "      <td>3.240</td>\n",
       "      <td>0.132029</td>\n",
       "      <td>22.237</td>\n",
       "      <td>1.113460</td>\n",
       "      <td>3.838370e+08</td>\n",
       "      <td>3.885</td>\n",
       "      <td>8.720750e+08</td>\n",
       "      <td>6.801</td>\n",
       "      <td>0.671</td>\n",
       "      <td>0.25252</td>\n",
       "      <td>0.21201</td>\n",
       "      <td>0.03839</td>\n",
       "      <td>0.12170</td>\n",
       "      <td>3.155040e+08</td>\n",
       "      <td>3.838370e+08</td>\n",
       "      <td>3.255124</td>\n",
       "      <td>680.1</td>\n",
       "      <td>47.640053</td>\n",
       "      <td>-4.882380e+08</td>\n",
       "      <td>-1.786168</td>\n",
       "      <td>0.428927</td>\n",
       "      <td>0.079343</td>\n",
       "    </tr>\n",
       "    <tr>\n",
       "      <th>2</th>\n",
       "      <td>4.228882e+10</td>\n",
       "      <td>5.524305e+10</td>\n",
       "      <td>1.031746e+10</td>\n",
       "      <td>0.07639</td>\n",
       "      <td>0.33544</td>\n",
       "      <td>0.07</td>\n",
       "      <td>0.227</td>\n",
       "      <td>4.522541e+09</td>\n",
       "      <td>54.309525</td>\n",
       "      <td>21.723810</td>\n",
       "      <td>5733400.0</td>\n",
       "      <td>14644522.0</td>\n",
       "      <td>16.21</td>\n",
       "      <td>24.44</td>\n",
       "      <td>4.098764</td>\n",
       "      <td>22.5852</td>\n",
       "      <td>20.95235</td>\n",
       "      <td>0.066</td>\n",
       "      <td>0.002993</td>\n",
       "      <td>8.334</td>\n",
       "      <td>2.736981</td>\n",
       "      <td>7.656040e+09</td>\n",
       "      <td>4.132</td>\n",
       "      <td>2.184320e+10</td>\n",
       "      <td>3.935</td>\n",
       "      <td>0.121</td>\n",
       "      <td>0.34493</td>\n",
       "      <td>0.43834</td>\n",
       "      <td>0.04252</td>\n",
       "      <td>0.05163</td>\n",
       "      <td>3.146360e+09</td>\n",
       "      <td>7.656040e+09</td>\n",
       "      <td>1.347623</td>\n",
       "      <td>393.5</td>\n",
       "      <td>1.677255</td>\n",
       "      <td>-1.418716e+10</td>\n",
       "      <td>-1.539646</td>\n",
       "      <td>0.186765</td>\n",
       "      <td>0.070519</td>\n",
       "    </tr>\n",
       "    <tr>\n",
       "      <th>3</th>\n",
       "      <td>5.309793e+09</td>\n",
       "      <td>6.482982e+09</td>\n",
       "      <td>4.022153e+09</td>\n",
       "      <td>-0.05671</td>\n",
       "      <td>-0.06434</td>\n",
       "      <td>0.40</td>\n",
       "      <td>0.571</td>\n",
       "      <td>-1.980000e+05</td>\n",
       "      <td>0.000000</td>\n",
       "      <td>0.000000</td>\n",
       "      <td>1100.0</td>\n",
       "      <td>3953.0</td>\n",
       "      <td>7.27</td>\n",
       "      <td>17.80</td>\n",
       "      <td>1.320137</td>\n",
       "      <td>8.7146</td>\n",
       "      <td>9.63540</td>\n",
       "      <td>0.000</td>\n",
       "      <td>0.000000</td>\n",
       "      <td>7.867</td>\n",
       "      <td>1.008008</td>\n",
       "      <td>4.142880e+08</td>\n",
       "      <td>0.614</td>\n",
       "      <td>1.550341e+09</td>\n",
       "      <td>0.000</td>\n",
       "      <td>-0.127</td>\n",
       "      <td>0.43246</td>\n",
       "      <td>-0.00005</td>\n",
       "      <td>-0.00910</td>\n",
       "      <td>-0.04153</td>\n",
       "      <td>1.968303e+09</td>\n",
       "      <td>4.142880e+08</td>\n",
       "      <td>9.708591</td>\n",
       "      <td>0.0</td>\n",
       "      <td>0.000000</td>\n",
       "      <td>-1.136053e+09</td>\n",
       "      <td>-1.364673</td>\n",
       "      <td>0.620417</td>\n",
       "      <td>-0.000029</td>\n",
       "    </tr>\n",
       "    <tr>\n",
       "      <th>4</th>\n",
       "      <td>5.350758e+09</td>\n",
       "      <td>6.395236e+09</td>\n",
       "      <td>4.022153e+09</td>\n",
       "      <td>-0.05671</td>\n",
       "      <td>-0.06434</td>\n",
       "      <td>0.43</td>\n",
       "      <td>0.571</td>\n",
       "      <td>-1.980000e+05</td>\n",
       "      <td>0.000000</td>\n",
       "      <td>14.555555</td>\n",
       "      <td>1132100.0</td>\n",
       "      <td>5605825.0</td>\n",
       "      <td>6.81</td>\n",
       "      <td>22.51</td>\n",
       "      <td>1.330322</td>\n",
       "      <td>8.3228</td>\n",
       "      <td>9.27290</td>\n",
       "      <td>0.000</td>\n",
       "      <td>0.000000</td>\n",
       "      <td>7.867</td>\n",
       "      <td>0.999110</td>\n",
       "      <td>4.142880e+08</td>\n",
       "      <td>0.614</td>\n",
       "      <td>1.550341e+09</td>\n",
       "      <td>0.000</td>\n",
       "      <td>-0.127</td>\n",
       "      <td>0.43246</td>\n",
       "      <td>-0.00005</td>\n",
       "      <td>-0.00910</td>\n",
       "      <td>-0.04153</td>\n",
       "      <td>1.968303e+09</td>\n",
       "      <td>4.142880e+08</td>\n",
       "      <td>9.708591</td>\n",
       "      <td>0.0</td>\n",
       "      <td>0.000000</td>\n",
       "      <td>-1.136053e+09</td>\n",
       "      <td>-1.364673</td>\n",
       "      <td>0.628930</td>\n",
       "      <td>-0.000029</td>\n",
       "    </tr>\n",
       "  </tbody>\n",
       "</table>\n",
       "</div>"
      ],
      "text/plain": [
       "     market_cap  enterprise_value  total_revenue  profit_margins  \\\n",
       "0  4.265434e+09      1.477339e+10   1.941779e+09         0.41576   \n",
       "1  2.466480e+09      2.912933e+09   1.249437e+09         0.21493   \n",
       "2  4.228882e+10      5.524305e+10   1.031746e+10         0.07639   \n",
       "3  5.309793e+09      6.482982e+09   4.022153e+09        -0.05671   \n",
       "4  5.350758e+09      6.395236e+09   4.022153e+09        -0.05671   \n",
       "\n",
       "   operating_margins  dividend_rate   beta        ebitda  trailing_pe  \\\n",
       "0            0.38826           1.56  0.679  0.000000e+00     4.069768   \n",
       "1            0.25031           3.21  0.432  2.648920e+08     9.450382   \n",
       "2            0.33544           0.07  0.227  4.522541e+09    54.309525   \n",
       "3           -0.06434           0.40  0.571 -1.980000e+05     0.000000   \n",
       "4           -0.06434           0.43  0.571 -1.980000e+05     0.000000   \n",
       "\n",
       "   forward_pe     volume  average_volume  fifty_two_week_low  \\\n",
       "0    4.706601    92300.0        747165.0               15.85   \n",
       "1    6.332481   298100.0        666692.0               22.29   \n",
       "2   21.723810  5733400.0      14644522.0               16.21   \n",
       "3    0.000000     1100.0          3953.0                7.27   \n",
       "4   14.555555  1132100.0       5605825.0                6.81   \n",
       "\n",
       "   fifty_two_week_high  price_to_sales_trailing_12_months  fifty_day_average  \\\n",
       "0                21.99                           2.196663            19.3382   \n",
       "1                32.71                           1.974073            27.0106   \n",
       "2                24.44                           4.098764            22.5852   \n",
       "3                17.80                           1.320137             8.7146   \n",
       "4                22.51                           1.330322             8.3228   \n",
       "\n",
       "   two_hundred_day_average  trailing_annual_dividend_rate  \\\n",
       "0                 18.14667                          1.550   \n",
       "1                 25.58635                          3.240   \n",
       "2                 20.95235                          0.066   \n",
       "3                  9.63540                          0.000   \n",
       "4                  9.27290                          0.000   \n",
       "\n",
       "   trailing_annual_dividend_yield  book_value  price_to_book    total_cash  \\\n",
       "0                        0.080687      24.518       0.785138  7.774306e+09   \n",
       "1                        0.132029      22.237       1.113460  3.838370e+08   \n",
       "2                        0.002993       8.334       2.736981  7.656040e+09   \n",
       "3                        0.000000       7.867       1.008008  4.142880e+08   \n",
       "4                        0.000000       7.867       0.999110  4.142880e+08   \n",
       "\n",
       "   total_cash_per_share    total_debt  earnings_quarterly_growth  \\\n",
       "0                35.162  1.829846e+10                      0.001   \n",
       "1                 3.885  8.720750e+08                      6.801   \n",
       "2                 4.132  2.184320e+10                      3.935   \n",
       "3                 0.614  1.550341e+09                      0.000   \n",
       "4                 0.614  1.550341e+09                      0.000   \n",
       "\n",
       "   revenue_growth  gross_margins  ebitda_margins  return_on_assets  \\\n",
       "0           0.003        0.00000         0.00000           0.01530   \n",
       "1           0.671        0.25252         0.21201           0.03839   \n",
       "2           0.121        0.34493         0.43834           0.04252   \n",
       "3          -0.127        0.43246        -0.00005          -0.00910   \n",
       "4          -0.127        0.43246        -0.00005          -0.00910   \n",
       "\n",
       "   return_on_equity  gross_profits  total_assets_approx  asset_turnover  \\\n",
       "0           0.15680   1.973086e+09         7.774306e+09        0.249769   \n",
       "1           0.12170   3.155040e+08         3.838370e+08        3.255124   \n",
       "2           0.05163   3.146360e+09         7.656040e+09        1.347623   \n",
       "3          -0.04153   1.968303e+09         4.142880e+08        9.708591   \n",
       "4          -0.04153   1.968303e+09         4.142880e+08        9.708591   \n",
       "\n",
       "   earnings_growth_rate  dividend_payout_ratio        equity  debt_to_equity  \\\n",
       "0                   0.1          155000.000000 -1.052416e+10       -1.738710   \n",
       "1                 680.1              47.640053 -4.882380e+08       -1.786168   \n",
       "2                 393.5               1.677255 -1.418716e+10       -1.539646   \n",
       "3                   0.0               0.000000 -1.136053e+09       -1.364673   \n",
       "4                   0.0               0.000000 -1.136053e+09       -1.364673   \n",
       "\n",
       "        roi      roce  \n",
       "0  0.131438  0.000000  \n",
       "1  0.428927  0.079343  \n",
       "2  0.186765  0.070519  \n",
       "3  0.620417 -0.000029  \n",
       "4  0.628930 -0.000029  "
      ]
     },
     "execution_count": 7,
     "metadata": {},
     "output_type": "execute_result"
    }
   ],
   "source": [
    "df_fundamentals_numeric_cols = df_fundamentals_book.select_dtypes(include=[\"int\", \"number\", \"float64\"])\n",
    "df_fundamentals_numeric_cols.head(5)"
   ]
  },
  {
   "cell_type": "code",
   "execution_count": 52,
   "metadata": {},
   "outputs": [
    {
     "data": {
      "text/html": [
       "<div>\n",
       "<style scoped>\n",
       "    .dataframe tbody tr th:only-of-type {\n",
       "        vertical-align: middle;\n",
       "    }\n",
       "\n",
       "    .dataframe tbody tr th {\n",
       "        vertical-align: top;\n",
       "    }\n",
       "\n",
       "    .dataframe thead th {\n",
       "        text-align: right;\n",
       "    }\n",
       "</style>\n",
       "<table border=\"1\" class=\"dataframe\">\n",
       "  <thead>\n",
       "    <tr style=\"text-align: right;\">\n",
       "      <th></th>\n",
       "      <th>ticker</th>\n",
       "      <th>long_name</th>\n",
       "      <th>sector</th>\n",
       "      <th>industry</th>\n",
       "      <th>market_cap</th>\n",
       "      <th>enterprise_value</th>\n",
       "      <th>total_revenue</th>\n",
       "      <th>profit_margins</th>\n",
       "      <th>operating_margins</th>\n",
       "      <th>dividend_rate</th>\n",
       "      <th>beta</th>\n",
       "      <th>ebitda</th>\n",
       "      <th>trailing_pe</th>\n",
       "      <th>forward_pe</th>\n",
       "      <th>volume</th>\n",
       "      <th>average_volume</th>\n",
       "      <th>fifty_two_week_low</th>\n",
       "      <th>fifty_two_week_high</th>\n",
       "      <th>price_to_sales_trailing_12_months</th>\n",
       "      <th>fifty_day_average</th>\n",
       "      <th>two_hundred_day_average</th>\n",
       "      <th>trailing_annual_dividend_rate</th>\n",
       "      <th>trailing_annual_dividend_yield</th>\n",
       "      <th>book_value</th>\n",
       "      <th>price_to_book</th>\n",
       "      <th>total_cash</th>\n",
       "      <th>total_cash_per_share</th>\n",
       "      <th>total_debt</th>\n",
       "      <th>earnings_quarterly_growth</th>\n",
       "      <th>revenue_growth</th>\n",
       "      <th>gross_margins</th>\n",
       "      <th>ebitda_margins</th>\n",
       "      <th>return_on_assets</th>\n",
       "      <th>return_on_equity</th>\n",
       "      <th>gross_profits</th>\n",
       "      <th>total_assets_approx</th>\n",
       "      <th>asset_turnover</th>\n",
       "      <th>earnings_growth_rate</th>\n",
       "      <th>dividend_payout_ratio</th>\n",
       "      <th>equity</th>\n",
       "      <th>debt_to_equity</th>\n",
       "      <th>roi</th>\n",
       "      <th>roce</th>\n",
       "    </tr>\n",
       "  </thead>\n",
       "  <tbody>\n",
       "    <tr>\n",
       "      <th>0</th>\n",
       "      <td>PETR3.SA</td>\n",
       "      <td>Petróleo Brasileiro S.A. - Petrobras</td>\n",
       "      <td>Energy</td>\n",
       "      <td>Oil &amp; Gas Integrated</td>\n",
       "      <td>4.832119e+11</td>\n",
       "      <td>7.293640e+11</td>\n",
       "      <td>5.815630e+11</td>\n",
       "      <td>0.26889</td>\n",
       "      <td>0.39067</td>\n",
       "      <td>9.28</td>\n",
       "      <td>1.097</td>\n",
       "      <td>2.910870e+11</td>\n",
       "      <td>2.914199</td>\n",
       "      <td>4.821608</td>\n",
       "      <td>2993300.0</td>\n",
       "      <td>13234123.0</td>\n",
       "      <td>23.61</td>\n",
       "      <td>41.86</td>\n",
       "      <td>0.830885</td>\n",
       "      <td>37.03880</td>\n",
       "      <td>31.980750</td>\n",
       "      <td>9.657</td>\n",
       "      <td>0.247298</td>\n",
       "      <td>28.417</td>\n",
       "      <td>1.350600</td>\n",
       "      <td>6.098500e+10</td>\n",
       "      <td>4.675</td>\n",
       "      <td>2.793750e+11</td>\n",
       "      <td>-0.470</td>\n",
       "      <td>-0.334</td>\n",
       "      <td>0.50633</td>\n",
       "      <td>0.50053</td>\n",
       "      <td>0.15427</td>\n",
       "      <td>0.39988</td>\n",
       "      <td>3.341000e+11</td>\n",
       "      <td>6.098500e+10</td>\n",
       "      <td>9.536164</td>\n",
       "      <td>-47.0</td>\n",
       "      <td>0.000000</td>\n",
       "      <td>-2.183900e+11</td>\n",
       "      <td>-1.279248</td>\n",
       "      <td>0.797356</td>\n",
       "      <td>0.381710</td>\n",
       "    </tr>\n",
       "    <tr>\n",
       "      <th>1</th>\n",
       "      <td>VALE3.SA</td>\n",
       "      <td>Vale S.A.</td>\n",
       "      <td>Basic Materials</td>\n",
       "      <td>Other Industrial Metals &amp; Mining</td>\n",
       "      <td>2.776947e+11</td>\n",
       "      <td>3.399071e+11</td>\n",
       "      <td>2.064140e+11</td>\n",
       "      <td>0.27585</td>\n",
       "      <td>0.33672</td>\n",
       "      <td>3.84</td>\n",
       "      <td>0.821</td>\n",
       "      <td>8.536400e+10</td>\n",
       "      <td>5.319043</td>\n",
       "      <td>5.421849</td>\n",
       "      <td>4387500.0</td>\n",
       "      <td>25978987.0</td>\n",
       "      <td>61.00</td>\n",
       "      <td>98.29</td>\n",
       "      <td>1.345329</td>\n",
       "      <td>66.07960</td>\n",
       "      <td>73.074950</td>\n",
       "      <td>4.037</td>\n",
       "      <td>0.063147</td>\n",
       "      <td>43.051</td>\n",
       "      <td>1.498688</td>\n",
       "      <td>2.423800e+10</td>\n",
       "      <td>5.580</td>\n",
       "      <td>7.934600e+10</td>\n",
       "      <td>-0.848</td>\n",
       "      <td>-0.131</td>\n",
       "      <td>0.39091</td>\n",
       "      <td>0.41356</td>\n",
       "      <td>0.09975</td>\n",
       "      <td>0.29588</td>\n",
       "      <td>1.023130e+11</td>\n",
       "      <td>2.423800e+10</td>\n",
       "      <td>8.516132</td>\n",
       "      <td>-84.8</td>\n",
       "      <td>0.000000</td>\n",
       "      <td>-5.510800e+10</td>\n",
       "      <td>-1.439827</td>\n",
       "      <td>0.607266</td>\n",
       "      <td>0.239088</td>\n",
       "    </tr>\n",
       "    <tr>\n",
       "      <th>2</th>\n",
       "      <td>ITUB4.SA</td>\n",
       "      <td>Itaú Unibanco Holding S.A.</td>\n",
       "      <td>Financial Services</td>\n",
       "      <td>Banks - Regional</td>\n",
       "      <td>2.486832e+11</td>\n",
       "      <td>7.077875e+11</td>\n",
       "      <td>1.189380e+11</td>\n",
       "      <td>0.26661</td>\n",
       "      <td>0.35896</td>\n",
       "      <td>1.50</td>\n",
       "      <td>0.499</td>\n",
       "      <td>0.000000e+00</td>\n",
       "      <td>8.557632</td>\n",
       "      <td>6.867500</td>\n",
       "      <td>10480300.0</td>\n",
       "      <td>24528203.0</td>\n",
       "      <td>22.62</td>\n",
       "      <td>31.29</td>\n",
       "      <td>2.090864</td>\n",
       "      <td>27.27700</td>\n",
       "      <td>26.668950</td>\n",
       "      <td>0.503</td>\n",
       "      <td>0.018602</td>\n",
       "      <td>18.250</td>\n",
       "      <td>1.505205</td>\n",
       "      <td>3.943250e+11</td>\n",
       "      <td>40.237</td>\n",
       "      <td>8.270340e+11</td>\n",
       "      <td>0.181</td>\n",
       "      <td>0.135</td>\n",
       "      <td>0.00000</td>\n",
       "      <td>0.00000</td>\n",
       "      <td>0.01419</td>\n",
       "      <td>0.18295</td>\n",
       "      <td>1.155700e+11</td>\n",
       "      <td>3.943250e+11</td>\n",
       "      <td>0.301624</td>\n",
       "      <td>18.1</td>\n",
       "      <td>277.900552</td>\n",
       "      <td>-4.327090e+11</td>\n",
       "      <td>-1.911294</td>\n",
       "      <td>0.168042</td>\n",
       "      <td>0.000000</td>\n",
       "    </tr>\n",
       "    <tr>\n",
       "      <th>3</th>\n",
       "      <td>ABEV3.SA</td>\n",
       "      <td>Ambev S.A.</td>\n",
       "      <td>Consumer Defensive</td>\n",
       "      <td>Beverages - Brewers</td>\n",
       "      <td>2.007233e+11</td>\n",
       "      <td>1.888459e+11</td>\n",
       "      <td>8.271054e+10</td>\n",
       "      <td>0.17263</td>\n",
       "      <td>0.18666</td>\n",
       "      <td>0.76</td>\n",
       "      <td>0.604</td>\n",
       "      <td>2.225154e+10</td>\n",
       "      <td>14.166667</td>\n",
       "      <td>12.750000</td>\n",
       "      <td>8618800.0</td>\n",
       "      <td>24680549.0</td>\n",
       "      <td>12.33</td>\n",
       "      <td>16.88</td>\n",
       "      <td>2.426816</td>\n",
       "      <td>13.44340</td>\n",
       "      <td>14.103700</td>\n",
       "      <td>0.762</td>\n",
       "      <td>0.061254</td>\n",
       "      <td>5.403</td>\n",
       "      <td>2.359800</td>\n",
       "      <td>1.243052e+10</td>\n",
       "      <td>0.789</td>\n",
       "      <td>4.096231e+09</td>\n",
       "      <td>-0.157</td>\n",
       "      <td>0.051</td>\n",
       "      <td>0.49945</td>\n",
       "      <td>0.26903</td>\n",
       "      <td>0.08271</td>\n",
       "      <td>0.16919</td>\n",
       "      <td>3.928676e+10</td>\n",
       "      <td>1.243052e+10</td>\n",
       "      <td>6.653829</td>\n",
       "      <td>-15.7</td>\n",
       "      <td>0.000000</td>\n",
       "      <td>8.334286e+09</td>\n",
       "      <td>0.491492</td>\n",
       "      <td>0.437979</td>\n",
       "      <td>0.108640</td>\n",
       "    </tr>\n",
       "    <tr>\n",
       "      <th>4</th>\n",
       "      <td>BPAC5.SA</td>\n",
       "      <td>Banco BTG Pactual S.A.</td>\n",
       "      <td>Financial Services</td>\n",
       "      <td>Capital Markets</td>\n",
       "      <td>1.483266e+11</td>\n",
       "      <td>4.345411e+10</td>\n",
       "      <td>2.775135e+10</td>\n",
       "      <td>0.30292</td>\n",
       "      <td>0.34960</td>\n",
       "      <td>0.35</td>\n",
       "      <td>1.291</td>\n",
       "      <td>0.000000e+00</td>\n",
       "      <td>11.260274</td>\n",
       "      <td>0.000000</td>\n",
       "      <td>2600.0</td>\n",
       "      <td>6184.0</td>\n",
       "      <td>4.55</td>\n",
       "      <td>9.08</td>\n",
       "      <td>5.344842</td>\n",
       "      <td>8.36500</td>\n",
       "      <td>6.876900</td>\n",
       "      <td>0.000</td>\n",
       "      <td>0.000000</td>\n",
       "      <td>9.808</td>\n",
       "      <td>0.838091</td>\n",
       "      <td>2.211434e+11</td>\n",
       "      <td>46.436</td>\n",
       "      <td>2.207205e+11</td>\n",
       "      <td>0.181</td>\n",
       "      <td>0.021</td>\n",
       "      <td>0.00000</td>\n",
       "      <td>0.00000</td>\n",
       "      <td>0.01910</td>\n",
       "      <td>0.18284</td>\n",
       "      <td>2.663930e+10</td>\n",
       "      <td>2.211434e+11</td>\n",
       "      <td>0.125490</td>\n",
       "      <td>18.1</td>\n",
       "      <td>0.000000</td>\n",
       "      <td>4.229530e+08</td>\n",
       "      <td>521.855886</td>\n",
       "      <td>0.638636</td>\n",
       "      <td>0.000000</td>\n",
       "    </tr>\n",
       "    <tr>\n",
       "      <th>5</th>\n",
       "      <td>BBDC4.SA</td>\n",
       "      <td>Banco Bradesco S.A.</td>\n",
       "      <td>Financial Services</td>\n",
       "      <td>Banks - Regional</td>\n",
       "      <td>1.423388e+11</td>\n",
       "      <td>5.421110e+11</td>\n",
       "      <td>7.289319e+10</td>\n",
       "      <td>0.20718</td>\n",
       "      <td>0.22324</td>\n",
       "      <td>0.23</td>\n",
       "      <td>0.675</td>\n",
       "      <td>0.000000e+00</td>\n",
       "      <td>10.649254</td>\n",
       "      <td>6.150862</td>\n",
       "      <td>14450200.0</td>\n",
       "      <td>33278303.0</td>\n",
       "      <td>12.39</td>\n",
       "      <td>20.56</td>\n",
       "      <td>1.952704</td>\n",
       "      <td>14.61200</td>\n",
       "      <td>14.785800</td>\n",
       "      <td>0.401</td>\n",
       "      <td>0.028359</td>\n",
       "      <td>15.641</td>\n",
       "      <td>0.912346</td>\n",
       "      <td>2.315534e+11</td>\n",
       "      <td>21.758</td>\n",
       "      <td>6.225786e+11</td>\n",
       "      <td>-0.447</td>\n",
       "      <td>-0.270</td>\n",
       "      <td>0.00000</td>\n",
       "      <td>0.00000</td>\n",
       "      <td>0.00853</td>\n",
       "      <td>0.09476</td>\n",
       "      <td>8.447166e+10</td>\n",
       "      <td>2.315534e+11</td>\n",
       "      <td>0.314801</td>\n",
       "      <td>-44.7</td>\n",
       "      <td>0.000000</td>\n",
       "      <td>-3.910252e+11</td>\n",
       "      <td>-1.592170</td>\n",
       "      <td>0.134462</td>\n",
       "      <td>0.000000</td>\n",
       "    </tr>\n",
       "    <tr>\n",
       "      <th>6</th>\n",
       "      <td>BBAS3.SA</td>\n",
       "      <td>Banco do Brasil S.A.</td>\n",
       "      <td>Financial Services</td>\n",
       "      <td>Banks - Regional</td>\n",
       "      <td>1.404060e+11</td>\n",
       "      <td>9.574406e+11</td>\n",
       "      <td>9.532893e+10</td>\n",
       "      <td>0.34830</td>\n",
       "      <td>0.45908</td>\n",
       "      <td>0.94</td>\n",
       "      <td>0.803</td>\n",
       "      <td>0.000000e+00</td>\n",
       "      <td>3.770115</td>\n",
       "      <td>3.805105</td>\n",
       "      <td>1529200.0</td>\n",
       "      <td>8738341.0</td>\n",
       "      <td>30.25</td>\n",
       "      <td>51.99</td>\n",
       "      <td>1.472858</td>\n",
       "      <td>47.75040</td>\n",
       "      <td>44.664150</td>\n",
       "      <td>4.500</td>\n",
       "      <td>0.091743</td>\n",
       "      <td>54.955</td>\n",
       "      <td>0.895278</td>\n",
       "      <td>8.206587e+10</td>\n",
       "      <td>28.757</td>\n",
       "      <td>8.957765e+11</td>\n",
       "      <td>0.087</td>\n",
       "      <td>0.091</td>\n",
       "      <td>0.00000</td>\n",
       "      <td>0.00000</td>\n",
       "      <td>0.01734</td>\n",
       "      <td>0.22474</td>\n",
       "      <td>8.925053e+10</td>\n",
       "      <td>8.206587e+10</td>\n",
       "      <td>1.161615</td>\n",
       "      <td>8.7</td>\n",
       "      <td>5172.413793</td>\n",
       "      <td>-8.137106e+11</td>\n",
       "      <td>-1.100854</td>\n",
       "      <td>0.099566</td>\n",
       "      <td>0.000000</td>\n",
       "    </tr>\n",
       "    <tr>\n",
       "      <th>7</th>\n",
       "      <td>WEGE3.SA</td>\n",
       "      <td>WEG S.A.</td>\n",
       "      <td>Industrials</td>\n",
       "      <td>Specialty Industrial Machinery</td>\n",
       "      <td>1.384426e+11</td>\n",
       "      <td>1.303664e+11</td>\n",
       "      <td>3.175831e+10</td>\n",
       "      <td>0.15827</td>\n",
       "      <td>0.20575</td>\n",
       "      <td>0.32</td>\n",
       "      <td>0.513</td>\n",
       "      <td>6.480928e+09</td>\n",
       "      <td>26.829268</td>\n",
       "      <td>24.444445</td>\n",
       "      <td>8227600.0</td>\n",
       "      <td>7064393.0</td>\n",
       "      <td>31.47</td>\n",
       "      <td>42.42</td>\n",
       "      <td>4.359256</td>\n",
       "      <td>35.49900</td>\n",
       "      <td>38.036150</td>\n",
       "      <td>0.670</td>\n",
       "      <td>0.021290</td>\n",
       "      <td>3.666</td>\n",
       "      <td>9.001637</td>\n",
       "      <td>5.480459e+09</td>\n",
       "      <td>1.306</td>\n",
       "      <td>3.346563e+09</td>\n",
       "      <td>0.499</td>\n",
       "      <td>0.137</td>\n",
       "      <td>0.31911</td>\n",
       "      <td>0.20407</td>\n",
       "      <td>0.13783</td>\n",
       "      <td>0.34605</td>\n",
       "      <td>8.695487e+09</td>\n",
       "      <td>5.480459e+09</td>\n",
       "      <td>5.794826</td>\n",
       "      <td>49.9</td>\n",
       "      <td>134.268537</td>\n",
       "      <td>2.133896e+09</td>\n",
       "      <td>1.568288</td>\n",
       "      <td>0.243608</td>\n",
       "      <td>0.045708</td>\n",
       "    </tr>\n",
       "    <tr>\n",
       "      <th>8</th>\n",
       "      <td>ITSA4.SA</td>\n",
       "      <td>Itaúsa S.A.</td>\n",
       "      <td>Industrials</td>\n",
       "      <td>Conglomerates</td>\n",
       "      <td>8.658098e+10</td>\n",
       "      <td>9.397528e+10</td>\n",
       "      <td>7.807000e+09</td>\n",
       "      <td>1.69976</td>\n",
       "      <td>0.20113</td>\n",
       "      <td>0.74</td>\n",
       "      <td>0.647</td>\n",
       "      <td>2.240000e+09</td>\n",
       "      <td>6.740458</td>\n",
       "      <td>5.553459</td>\n",
       "      <td>2919900.0</td>\n",
       "      <td>22110422.0</td>\n",
       "      <td>7.65</td>\n",
       "      <td>10.09</td>\n",
       "      <td>11.090173</td>\n",
       "      <td>9.11561</td>\n",
       "      <td>8.937748</td>\n",
       "      <td>0.515</td>\n",
       "      <td>0.059127</td>\n",
       "      <td>7.923</td>\n",
       "      <td>1.114477</td>\n",
       "      <td>7.606000e+09</td>\n",
       "      <td>0.784</td>\n",
       "      <td>1.323700e+10</td>\n",
       "      <td>0.168</td>\n",
       "      <td>-0.117</td>\n",
       "      <td>0.34546</td>\n",
       "      <td>0.28692</td>\n",
       "      <td>0.00854</td>\n",
       "      <td>0.18054</td>\n",
       "      <td>2.875000e+09</td>\n",
       "      <td>7.606000e+09</td>\n",
       "      <td>1.026426</td>\n",
       "      <td>16.8</td>\n",
       "      <td>306.547619</td>\n",
       "      <td>-5.631000e+09</td>\n",
       "      <td>-2.350737</td>\n",
       "      <td>0.083075</td>\n",
       "      <td>0.022441</td>\n",
       "    </tr>\n",
       "    <tr>\n",
       "      <th>9</th>\n",
       "      <td>ELET3.SA</td>\n",
       "      <td>Centrais Elétricas Brasileiras S.A. - Eletrobrás</td>\n",
       "      <td>Utilities</td>\n",
       "      <td>Utilities - Renewable</td>\n",
       "      <td>7.929263e+10</td>\n",
       "      <td>1.201184e+11</td>\n",
       "      <td>3.551173e+10</td>\n",
       "      <td>0.04797</td>\n",
       "      <td>0.42603</td>\n",
       "      <td>0.22</td>\n",
       "      <td>0.629</td>\n",
       "      <td>1.274860e+10</td>\n",
       "      <td>34.700000</td>\n",
       "      <td>8.361445</td>\n",
       "      <td>867000.0</td>\n",
       "      <td>8876606.0</td>\n",
       "      <td>29.81</td>\n",
       "      <td>52.49</td>\n",
       "      <td>2.232858</td>\n",
       "      <td>35.41580</td>\n",
       "      <td>35.994950</td>\n",
       "      <td>1.494</td>\n",
       "      <td>0.043646</td>\n",
       "      <td>49.431</td>\n",
       "      <td>0.701989</td>\n",
       "      <td>1.580123e+10</td>\n",
       "      <td>7.011</td>\n",
       "      <td>5.871339e+10</td>\n",
       "      <td>0.206</td>\n",
       "      <td>0.044</td>\n",
       "      <td>0.58912</td>\n",
       "      <td>0.35900</td>\n",
       "      <td>0.02306</td>\n",
       "      <td>0.01719</td>\n",
       "      <td>2.069732e+10</td>\n",
       "      <td>1.580123e+10</td>\n",
       "      <td>2.247404</td>\n",
       "      <td>20.6</td>\n",
       "      <td>725.242718</td>\n",
       "      <td>-4.291217e+10</td>\n",
       "      <td>-1.368223</td>\n",
       "      <td>0.295639</td>\n",
       "      <td>0.092377</td>\n",
       "    </tr>\n",
       "    <tr>\n",
       "      <th>10</th>\n",
       "      <td>VIVT3.SA</td>\n",
       "      <td>Telefônica Brasil S.A.</td>\n",
       "      <td>Communication Services</td>\n",
       "      <td>Telecom Services</td>\n",
       "      <td>7.645024e+10</td>\n",
       "      <td>8.845781e+10</td>\n",
       "      <td>5.031185e+10</td>\n",
       "      <td>0.08991</td>\n",
       "      <td>0.16545</td>\n",
       "      <td>2.58</td>\n",
       "      <td>0.061</td>\n",
       "      <td>1.510794e+10</td>\n",
       "      <td>17.029520</td>\n",
       "      <td>13.613569</td>\n",
       "      <td>518500.0</td>\n",
       "      <td>2252017.0</td>\n",
       "      <td>35.63</td>\n",
       "      <td>46.83</td>\n",
       "      <td>1.519528</td>\n",
       "      <td>43.66480</td>\n",
       "      <td>41.602700</td>\n",
       "      <td>1.902</td>\n",
       "      <td>0.041811</td>\n",
       "      <td>41.399</td>\n",
       "      <td>1.114761</td>\n",
       "      <td>5.405903e+09</td>\n",
       "      <td>3.260</td>\n",
       "      <td>1.837770e+10</td>\n",
       "      <td>0.472</td>\n",
       "      <td>0.076</td>\n",
       "      <td>0.47107</td>\n",
       "      <td>0.30029</td>\n",
       "      <td>0.03836</td>\n",
       "      <td>0.06606</td>\n",
       "      <td>2.251504e+10</td>\n",
       "      <td>5.405903e+09</td>\n",
       "      <td>9.306836</td>\n",
       "      <td>47.2</td>\n",
       "      <td>402.966102</td>\n",
       "      <td>-1.297179e+10</td>\n",
       "      <td>-1.416743</td>\n",
       "      <td>0.568767</td>\n",
       "      <td>0.159320</td>\n",
       "    </tr>\n",
       "  </tbody>\n",
       "</table>\n",
       "</div>"
      ],
      "text/plain": [
       "      ticker                                         long_name  \\\n",
       "0   PETR3.SA              Petróleo Brasileiro S.A. - Petrobras   \n",
       "1   VALE3.SA                                         Vale S.A.   \n",
       "2   ITUB4.SA                        Itaú Unibanco Holding S.A.   \n",
       "3   ABEV3.SA                                        Ambev S.A.   \n",
       "4   BPAC5.SA                            Banco BTG Pactual S.A.   \n",
       "5   BBDC4.SA                               Banco Bradesco S.A.   \n",
       "6   BBAS3.SA                              Banco do Brasil S.A.   \n",
       "7   WEGE3.SA                                          WEG S.A.   \n",
       "8   ITSA4.SA                                       Itaúsa S.A.   \n",
       "9   ELET3.SA  Centrais Elétricas Brasileiras S.A. - Eletrobrás   \n",
       "10  VIVT3.SA                            Telefônica Brasil S.A.   \n",
       "\n",
       "                    sector                          industry    market_cap  \\\n",
       "0                   Energy              Oil & Gas Integrated  4.832119e+11   \n",
       "1          Basic Materials  Other Industrial Metals & Mining  2.776947e+11   \n",
       "2       Financial Services                  Banks - Regional  2.486832e+11   \n",
       "3       Consumer Defensive               Beverages - Brewers  2.007233e+11   \n",
       "4       Financial Services                   Capital Markets  1.483266e+11   \n",
       "5       Financial Services                  Banks - Regional  1.423388e+11   \n",
       "6       Financial Services                  Banks - Regional  1.404060e+11   \n",
       "7              Industrials    Specialty Industrial Machinery  1.384426e+11   \n",
       "8              Industrials                     Conglomerates  8.658098e+10   \n",
       "9                Utilities             Utilities - Renewable  7.929263e+10   \n",
       "10  Communication Services                  Telecom Services  7.645024e+10   \n",
       "\n",
       "    enterprise_value  total_revenue  profit_margins  operating_margins  \\\n",
       "0       7.293640e+11   5.815630e+11         0.26889            0.39067   \n",
       "1       3.399071e+11   2.064140e+11         0.27585            0.33672   \n",
       "2       7.077875e+11   1.189380e+11         0.26661            0.35896   \n",
       "3       1.888459e+11   8.271054e+10         0.17263            0.18666   \n",
       "4       4.345411e+10   2.775135e+10         0.30292            0.34960   \n",
       "5       5.421110e+11   7.289319e+10         0.20718            0.22324   \n",
       "6       9.574406e+11   9.532893e+10         0.34830            0.45908   \n",
       "7       1.303664e+11   3.175831e+10         0.15827            0.20575   \n",
       "8       9.397528e+10   7.807000e+09         1.69976            0.20113   \n",
       "9       1.201184e+11   3.551173e+10         0.04797            0.42603   \n",
       "10      8.845781e+10   5.031185e+10         0.08991            0.16545   \n",
       "\n",
       "    dividend_rate   beta        ebitda  trailing_pe  forward_pe      volume  \\\n",
       "0            9.28  1.097  2.910870e+11     2.914199    4.821608   2993300.0   \n",
       "1            3.84  0.821  8.536400e+10     5.319043    5.421849   4387500.0   \n",
       "2            1.50  0.499  0.000000e+00     8.557632    6.867500  10480300.0   \n",
       "3            0.76  0.604  2.225154e+10    14.166667   12.750000   8618800.0   \n",
       "4            0.35  1.291  0.000000e+00    11.260274    0.000000      2600.0   \n",
       "5            0.23  0.675  0.000000e+00    10.649254    6.150862  14450200.0   \n",
       "6            0.94  0.803  0.000000e+00     3.770115    3.805105   1529200.0   \n",
       "7            0.32  0.513  6.480928e+09    26.829268   24.444445   8227600.0   \n",
       "8            0.74  0.647  2.240000e+09     6.740458    5.553459   2919900.0   \n",
       "9            0.22  0.629  1.274860e+10    34.700000    8.361445    867000.0   \n",
       "10           2.58  0.061  1.510794e+10    17.029520   13.613569    518500.0   \n",
       "\n",
       "    average_volume  fifty_two_week_low  fifty_two_week_high  \\\n",
       "0       13234123.0               23.61                41.86   \n",
       "1       25978987.0               61.00                98.29   \n",
       "2       24528203.0               22.62                31.29   \n",
       "3       24680549.0               12.33                16.88   \n",
       "4           6184.0                4.55                 9.08   \n",
       "5       33278303.0               12.39                20.56   \n",
       "6        8738341.0               30.25                51.99   \n",
       "7        7064393.0               31.47                42.42   \n",
       "8       22110422.0                7.65                10.09   \n",
       "9        8876606.0               29.81                52.49   \n",
       "10       2252017.0               35.63                46.83   \n",
       "\n",
       "    price_to_sales_trailing_12_months  fifty_day_average  \\\n",
       "0                            0.830885           37.03880   \n",
       "1                            1.345329           66.07960   \n",
       "2                            2.090864           27.27700   \n",
       "3                            2.426816           13.44340   \n",
       "4                            5.344842            8.36500   \n",
       "5                            1.952704           14.61200   \n",
       "6                            1.472858           47.75040   \n",
       "7                            4.359256           35.49900   \n",
       "8                           11.090173            9.11561   \n",
       "9                            2.232858           35.41580   \n",
       "10                           1.519528           43.66480   \n",
       "\n",
       "    two_hundred_day_average  trailing_annual_dividend_rate  \\\n",
       "0                 31.980750                          9.657   \n",
       "1                 73.074950                          4.037   \n",
       "2                 26.668950                          0.503   \n",
       "3                 14.103700                          0.762   \n",
       "4                  6.876900                          0.000   \n",
       "5                 14.785800                          0.401   \n",
       "6                 44.664150                          4.500   \n",
       "7                 38.036150                          0.670   \n",
       "8                  8.937748                          0.515   \n",
       "9                 35.994950                          1.494   \n",
       "10                41.602700                          1.902   \n",
       "\n",
       "    trailing_annual_dividend_yield  book_value  price_to_book    total_cash  \\\n",
       "0                         0.247298      28.417       1.350600  6.098500e+10   \n",
       "1                         0.063147      43.051       1.498688  2.423800e+10   \n",
       "2                         0.018602      18.250       1.505205  3.943250e+11   \n",
       "3                         0.061254       5.403       2.359800  1.243052e+10   \n",
       "4                         0.000000       9.808       0.838091  2.211434e+11   \n",
       "5                         0.028359      15.641       0.912346  2.315534e+11   \n",
       "6                         0.091743      54.955       0.895278  8.206587e+10   \n",
       "7                         0.021290       3.666       9.001637  5.480459e+09   \n",
       "8                         0.059127       7.923       1.114477  7.606000e+09   \n",
       "9                         0.043646      49.431       0.701989  1.580123e+10   \n",
       "10                        0.041811      41.399       1.114761  5.405903e+09   \n",
       "\n",
       "    total_cash_per_share    total_debt  earnings_quarterly_growth  \\\n",
       "0                  4.675  2.793750e+11                     -0.470   \n",
       "1                  5.580  7.934600e+10                     -0.848   \n",
       "2                 40.237  8.270340e+11                      0.181   \n",
       "3                  0.789  4.096231e+09                     -0.157   \n",
       "4                 46.436  2.207205e+11                      0.181   \n",
       "5                 21.758  6.225786e+11                     -0.447   \n",
       "6                 28.757  8.957765e+11                      0.087   \n",
       "7                  1.306  3.346563e+09                      0.499   \n",
       "8                  0.784  1.323700e+10                      0.168   \n",
       "9                  7.011  5.871339e+10                      0.206   \n",
       "10                 3.260  1.837770e+10                      0.472   \n",
       "\n",
       "    revenue_growth  gross_margins  ebitda_margins  return_on_assets  \\\n",
       "0           -0.334        0.50633         0.50053           0.15427   \n",
       "1           -0.131        0.39091         0.41356           0.09975   \n",
       "2            0.135        0.00000         0.00000           0.01419   \n",
       "3            0.051        0.49945         0.26903           0.08271   \n",
       "4            0.021        0.00000         0.00000           0.01910   \n",
       "5           -0.270        0.00000         0.00000           0.00853   \n",
       "6            0.091        0.00000         0.00000           0.01734   \n",
       "7            0.137        0.31911         0.20407           0.13783   \n",
       "8           -0.117        0.34546         0.28692           0.00854   \n",
       "9            0.044        0.58912         0.35900           0.02306   \n",
       "10           0.076        0.47107         0.30029           0.03836   \n",
       "\n",
       "    return_on_equity  gross_profits  total_assets_approx  asset_turnover  \\\n",
       "0            0.39988   3.341000e+11         6.098500e+10        9.536164   \n",
       "1            0.29588   1.023130e+11         2.423800e+10        8.516132   \n",
       "2            0.18295   1.155700e+11         3.943250e+11        0.301624   \n",
       "3            0.16919   3.928676e+10         1.243052e+10        6.653829   \n",
       "4            0.18284   2.663930e+10         2.211434e+11        0.125490   \n",
       "5            0.09476   8.447166e+10         2.315534e+11        0.314801   \n",
       "6            0.22474   8.925053e+10         8.206587e+10        1.161615   \n",
       "7            0.34605   8.695487e+09         5.480459e+09        5.794826   \n",
       "8            0.18054   2.875000e+09         7.606000e+09        1.026426   \n",
       "9            0.01719   2.069732e+10         1.580123e+10        2.247404   \n",
       "10           0.06606   2.251504e+10         5.405903e+09        9.306836   \n",
       "\n",
       "    earnings_growth_rate  dividend_payout_ratio        equity  debt_to_equity  \\\n",
       "0                  -47.0               0.000000 -2.183900e+11       -1.279248   \n",
       "1                  -84.8               0.000000 -5.510800e+10       -1.439827   \n",
       "2                   18.1             277.900552 -4.327090e+11       -1.911294   \n",
       "3                  -15.7               0.000000  8.334286e+09        0.491492   \n",
       "4                   18.1               0.000000  4.229530e+08      521.855886   \n",
       "5                  -44.7               0.000000 -3.910252e+11       -1.592170   \n",
       "6                    8.7            5172.413793 -8.137106e+11       -1.100854   \n",
       "7                   49.9             134.268537  2.133896e+09        1.568288   \n",
       "8                   16.8             306.547619 -5.631000e+09       -2.350737   \n",
       "9                   20.6             725.242718 -4.291217e+10       -1.368223   \n",
       "10                  47.2             402.966102 -1.297179e+10       -1.416743   \n",
       "\n",
       "         roi      roce  \n",
       "0   0.797356  0.381710  \n",
       "1   0.607266  0.239088  \n",
       "2   0.168042  0.000000  \n",
       "3   0.437979  0.108640  \n",
       "4   0.638636  0.000000  \n",
       "5   0.134462  0.000000  \n",
       "6   0.099566  0.000000  \n",
       "7   0.243608  0.045708  \n",
       "8   0.083075  0.022441  \n",
       "9   0.295639  0.092377  \n",
       "10  0.568767  0.159320  "
      ]
     },
     "execution_count": 52,
     "metadata": {},
     "output_type": "execute_result"
    }
   ],
   "source": [
    "df_top_companies = df_fundamentals_book.nlargest(18, ['market_cap', 'dividend_rate', 'trailing_annual_dividend_yield', 'trailing_annual_dividend_rate', 'debt_to_equity', 'return_on_equity', 'trailing_pe', 'forward_pe', 'price_to_book', 'earnings_quarterly_growth']).drop_duplicates(subset='long_name', keep='first').reset_index(drop=True)\n",
    "df_top_companies"
   ]
  },
  {
   "cell_type": "markdown",
   "metadata": {},
   "source": [
    "To promote effective portfolio diversification, we refine the dataset to include only one ticker per company, choosing the 10 companies with the best financial metrics."
   ]
  },
  {
   "cell_type": "markdown",
   "metadata": {},
   "source": [
    "### Companies Analisys"
   ]
  },
  {
   "cell_type": "markdown",
   "metadata": {},
   "source": [
    "#### Outlier Analysis"
   ]
  },
  {
   "cell_type": "code",
   "execution_count": 48,
   "metadata": {},
   "outputs": [
    {
     "data": {
      "application/vnd.plotly.v1+json": {
       "config": {
        "plotlyServerURL": "https://plot.ly"
       },
       "data": [
        {
         "boxpoints": "outliers",
         "hoverinfo": "y+text",
         "jitter": 0.7,
         "marker": {
          "color": "lightseagreen"
         },
         "name": "market_cap",
         "text": [
          "PETR3.SA - Petróleo Brasileiro S.A. - Petrobras",
          "VALE3.SA - Vale S.A.",
          "ITUB4.SA - Itaú Unibanco Holding S.A.",
          "ABEV3.SA - Ambev S.A.",
          "BPAC5.SA - Banco BTG Pactual S.A.",
          "BBDC4.SA - Banco Bradesco S.A.",
          "BBAS3.SA - Banco do Brasil S.A.",
          "WEGE3.SA - WEG S.A.",
          "ITSA4.SA - Itaúsa S.A.",
          "ELET3.SA - Centrais Elétricas Brasileiras S.A. - Eletrobrás",
          "VIVT3.SA - Telefônica Brasil S.A."
         ],
         "type": "box",
         "xaxis": "x",
         "y": [
          483211870208,
          277694742528,
          248683167744,
          200723251200,
          148326612992,
          142338834432,
          140405981184,
          138442588160,
          86580977664,
          79292628992,
          76450242560
         ],
         "yaxis": "y"
        },
        {
         "boxpoints": "outliers",
         "hoverinfo": "y+text",
         "jitter": 0.7,
         "marker": {
          "color": "lightseagreen"
         },
         "name": "enterprise_value",
         "text": [
          "PETR3.SA - Petróleo Brasileiro S.A. - Petrobras",
          "VALE3.SA - Vale S.A.",
          "ITUB4.SA - Itaú Unibanco Holding S.A.",
          "ABEV3.SA - Ambev S.A.",
          "BPAC5.SA - Banco BTG Pactual S.A.",
          "BBDC4.SA - Banco Bradesco S.A.",
          "BBAS3.SA - Banco do Brasil S.A.",
          "WEGE3.SA - WEG S.A.",
          "ITSA4.SA - Itaúsa S.A.",
          "ELET3.SA - Centrais Elétricas Brasileiras S.A. - Eletrobrás",
          "VIVT3.SA - Telefônica Brasil S.A."
         ],
         "type": "box",
         "xaxis": "x2",
         "y": [
          729364037632,
          339907117056,
          707787489280,
          188845899776,
          43454111744,
          542111039488,
          957440589824,
          130366398464,
          93975281664,
          120118444032,
          88457805824
         ],
         "yaxis": "y2"
        },
        {
         "boxpoints": "outliers",
         "hoverinfo": "y+text",
         "jitter": 0.7,
         "marker": {
          "color": "lightseagreen"
         },
         "name": "total_revenue",
         "text": [
          "PETR3.SA - Petróleo Brasileiro S.A. - Petrobras",
          "VALE3.SA - Vale S.A.",
          "ITUB4.SA - Itaú Unibanco Holding S.A.",
          "ABEV3.SA - Ambev S.A.",
          "BPAC5.SA - Banco BTG Pactual S.A.",
          "BBDC4.SA - Banco Bradesco S.A.",
          "BBAS3.SA - Banco do Brasil S.A.",
          "WEGE3.SA - WEG S.A.",
          "ITSA4.SA - Itaúsa S.A.",
          "ELET3.SA - Centrais Elétricas Brasileiras S.A. - Eletrobrás",
          "VIVT3.SA - Telefônica Brasil S.A."
         ],
         "type": "box",
         "xaxis": "x3",
         "y": [
          581562990592,
          206414004224,
          118938001408,
          82710536192,
          27751354368,
          72893186048,
          95328927744,
          31758307328,
          7807000064,
          35511730176,
          50311852032
         ],
         "yaxis": "y3"
        },
        {
         "boxpoints": "outliers",
         "hoverinfo": "y+text",
         "jitter": 0.7,
         "marker": {
          "color": "lightseagreen"
         },
         "name": "profit_margins",
         "text": [
          "PETR3.SA - Petróleo Brasileiro S.A. - Petrobras",
          "VALE3.SA - Vale S.A.",
          "ITUB4.SA - Itaú Unibanco Holding S.A.",
          "ABEV3.SA - Ambev S.A.",
          "BPAC5.SA - Banco BTG Pactual S.A.",
          "BBDC4.SA - Banco Bradesco S.A.",
          "BBAS3.SA - Banco do Brasil S.A.",
          "WEGE3.SA - WEG S.A.",
          "ITSA4.SA - Itaúsa S.A.",
          "ELET3.SA - Centrais Elétricas Brasileiras S.A. - Eletrobrás",
          "VIVT3.SA - Telefônica Brasil S.A."
         ],
         "type": "box",
         "xaxis": "x4",
         "y": [
          0.26889,
          0.27585,
          0.26661,
          0.17263001,
          0.30291998,
          0.20718001,
          0.3483,
          0.15827,
          1.69976,
          0.04797,
          0.08991
         ],
         "yaxis": "y4"
        },
        {
         "boxpoints": "outliers",
         "hoverinfo": "y+text",
         "jitter": 0.7,
         "marker": {
          "color": "lightseagreen"
         },
         "name": "operating_margins",
         "text": [
          "PETR3.SA - Petróleo Brasileiro S.A. - Petrobras",
          "VALE3.SA - Vale S.A.",
          "ITUB4.SA - Itaú Unibanco Holding S.A.",
          "ABEV3.SA - Ambev S.A.",
          "BPAC5.SA - Banco BTG Pactual S.A.",
          "BBDC4.SA - Banco Bradesco S.A.",
          "BBAS3.SA - Banco do Brasil S.A.",
          "WEGE3.SA - WEG S.A.",
          "ITSA4.SA - Itaúsa S.A.",
          "ELET3.SA - Centrais Elétricas Brasileiras S.A. - Eletrobrás",
          "VIVT3.SA - Telefônica Brasil S.A."
         ],
         "type": "box",
         "xaxis": "x5",
         "y": [
          0.39067,
          0.33672002,
          0.35896,
          0.18666,
          0.3496,
          0.22323999,
          0.45908,
          0.20575,
          0.20113,
          0.42603,
          0.16545
         ],
         "yaxis": "y5"
        },
        {
         "boxpoints": "outliers",
         "hoverinfo": "y+text",
         "jitter": 0.7,
         "marker": {
          "color": "lightseagreen"
         },
         "name": "dividend_rate",
         "text": [
          "PETR3.SA - Petróleo Brasileiro S.A. - Petrobras",
          "VALE3.SA - Vale S.A.",
          "ITUB4.SA - Itaú Unibanco Holding S.A.",
          "ABEV3.SA - Ambev S.A.",
          "BPAC5.SA - Banco BTG Pactual S.A.",
          "BBDC4.SA - Banco Bradesco S.A.",
          "BBAS3.SA - Banco do Brasil S.A.",
          "WEGE3.SA - WEG S.A.",
          "ITSA4.SA - Itaúsa S.A.",
          "ELET3.SA - Centrais Elétricas Brasileiras S.A. - Eletrobrás",
          "VIVT3.SA - Telefônica Brasil S.A."
         ],
         "type": "box",
         "xaxis": "x6",
         "y": [
          9.28,
          3.84,
          1.5,
          0.76,
          0.35,
          0.23,
          0.94,
          0.32,
          0.74,
          0.22,
          2.58
         ],
         "yaxis": "y6"
        },
        {
         "boxpoints": "outliers",
         "hoverinfo": "y+text",
         "jitter": 0.7,
         "marker": {
          "color": "lightseagreen"
         },
         "name": "beta",
         "text": [
          "PETR3.SA - Petróleo Brasileiro S.A. - Petrobras",
          "VALE3.SA - Vale S.A.",
          "ITUB4.SA - Itaú Unibanco Holding S.A.",
          "ABEV3.SA - Ambev S.A.",
          "BPAC5.SA - Banco BTG Pactual S.A.",
          "BBDC4.SA - Banco Bradesco S.A.",
          "BBAS3.SA - Banco do Brasil S.A.",
          "WEGE3.SA - WEG S.A.",
          "ITSA4.SA - Itaúsa S.A.",
          "ELET3.SA - Centrais Elétricas Brasileiras S.A. - Eletrobrás",
          "VIVT3.SA - Telefônica Brasil S.A."
         ],
         "type": "box",
         "xaxis": "x7",
         "y": [
          1.097,
          0.821,
          0.499,
          0.604,
          1.291,
          0.675,
          0.803,
          0.513,
          0.647,
          0.629,
          0.061
         ],
         "yaxis": "y7"
        },
        {
         "boxpoints": "outliers",
         "hoverinfo": "y+text",
         "jitter": 0.7,
         "marker": {
          "color": "lightseagreen"
         },
         "name": "ebitda",
         "text": [
          "PETR3.SA - Petróleo Brasileiro S.A. - Petrobras",
          "VALE3.SA - Vale S.A.",
          "ITUB4.SA - Itaú Unibanco Holding S.A.",
          "ABEV3.SA - Ambev S.A.",
          "BPAC5.SA - Banco BTG Pactual S.A.",
          "BBDC4.SA - Banco Bradesco S.A.",
          "BBAS3.SA - Banco do Brasil S.A.",
          "WEGE3.SA - WEG S.A.",
          "ITSA4.SA - Itaúsa S.A.",
          "ELET3.SA - Centrais Elétricas Brasileiras S.A. - Eletrobrás",
          "VIVT3.SA - Telefônica Brasil S.A."
         ],
         "type": "box",
         "xaxis": "x8",
         "y": [
          291086991360,
          85363998720,
          0,
          22251536384,
          0,
          0,
          0,
          6480927744,
          2240000000,
          12748603392,
          15107942400
         ],
         "yaxis": "y8"
        },
        {
         "boxpoints": "outliers",
         "hoverinfo": "y+text",
         "jitter": 0.7,
         "marker": {
          "color": "lightseagreen"
         },
         "name": "trailing_pe",
         "text": [
          "PETR3.SA - Petróleo Brasileiro S.A. - Petrobras",
          "VALE3.SA - Vale S.A.",
          "ITUB4.SA - Itaú Unibanco Holding S.A.",
          "ABEV3.SA - Ambev S.A.",
          "BPAC5.SA - Banco BTG Pactual S.A.",
          "BBDC4.SA - Banco Bradesco S.A.",
          "BBAS3.SA - Banco do Brasil S.A.",
          "WEGE3.SA - WEG S.A.",
          "ITSA4.SA - Itaúsa S.A.",
          "ELET3.SA - Centrais Elétricas Brasileiras S.A. - Eletrobrás",
          "VIVT3.SA - Telefônica Brasil S.A."
         ],
         "type": "box",
         "xaxis": "x9",
         "y": [
          2.914199,
          5.319043,
          8.557632,
          14.166667,
          11.260274,
          10.649254,
          3.770115,
          26.829268,
          6.7404585,
          34.7,
          17.02952
         ],
         "yaxis": "y9"
        },
        {
         "boxpoints": "outliers",
         "hoverinfo": "y+text",
         "jitter": 0.7,
         "marker": {
          "color": "lightseagreen"
         },
         "name": "forward_pe",
         "text": [
          "PETR3.SA - Petróleo Brasileiro S.A. - Petrobras",
          "VALE3.SA - Vale S.A.",
          "ITUB4.SA - Itaú Unibanco Holding S.A.",
          "ABEV3.SA - Ambev S.A.",
          "BPAC5.SA - Banco BTG Pactual S.A.",
          "BBDC4.SA - Banco Bradesco S.A.",
          "BBAS3.SA - Banco do Brasil S.A.",
          "WEGE3.SA - WEG S.A.",
          "ITSA4.SA - Itaúsa S.A.",
          "ELET3.SA - Centrais Elétricas Brasileiras S.A. - Eletrobrás",
          "VIVT3.SA - Telefônica Brasil S.A."
         ],
         "type": "box",
         "xaxis": "x10",
         "y": [
          4.821608,
          5.421849,
          6.8675,
          12.75,
          0,
          6.150862,
          3.8051045,
          24.444445,
          5.553459,
          8.361445,
          13.613569
         ],
         "yaxis": "y10"
        },
        {
         "boxpoints": "outliers",
         "hoverinfo": "y+text",
         "jitter": 0.7,
         "marker": {
          "color": "lightseagreen"
         },
         "name": "volume",
         "text": [
          "PETR3.SA - Petróleo Brasileiro S.A. - Petrobras",
          "VALE3.SA - Vale S.A.",
          "ITUB4.SA - Itaú Unibanco Holding S.A.",
          "ABEV3.SA - Ambev S.A.",
          "BPAC5.SA - Banco BTG Pactual S.A.",
          "BBDC4.SA - Banco Bradesco S.A.",
          "BBAS3.SA - Banco do Brasil S.A.",
          "WEGE3.SA - WEG S.A.",
          "ITSA4.SA - Itaúsa S.A.",
          "ELET3.SA - Centrais Elétricas Brasileiras S.A. - Eletrobrás",
          "VIVT3.SA - Telefônica Brasil S.A."
         ],
         "type": "box",
         "xaxis": "x11",
         "y": [
          2993300,
          4387500,
          10480300,
          8618800,
          2600,
          14450200,
          1529200,
          8227600,
          2919900,
          867000,
          518500
         ],
         "yaxis": "y11"
        },
        {
         "boxpoints": "outliers",
         "hoverinfo": "y+text",
         "jitter": 0.7,
         "marker": {
          "color": "lightseagreen"
         },
         "name": "average_volume",
         "text": [
          "PETR3.SA - Petróleo Brasileiro S.A. - Petrobras",
          "VALE3.SA - Vale S.A.",
          "ITUB4.SA - Itaú Unibanco Holding S.A.",
          "ABEV3.SA - Ambev S.A.",
          "BPAC5.SA - Banco BTG Pactual S.A.",
          "BBDC4.SA - Banco Bradesco S.A.",
          "BBAS3.SA - Banco do Brasil S.A.",
          "WEGE3.SA - WEG S.A.",
          "ITSA4.SA - Itaúsa S.A.",
          "ELET3.SA - Centrais Elétricas Brasileiras S.A. - Eletrobrás",
          "VIVT3.SA - Telefônica Brasil S.A."
         ],
         "type": "box",
         "xaxis": "x12",
         "y": [
          13234123,
          25978987,
          24528203,
          24680549,
          6184,
          33278303,
          8738341,
          7064393,
          22110422,
          8876606,
          2252017
         ],
         "yaxis": "y12"
        },
        {
         "boxpoints": "outliers",
         "hoverinfo": "y+text",
         "jitter": 0.7,
         "marker": {
          "color": "lightseagreen"
         },
         "name": "fifty_two_week_low",
         "text": [
          "PETR3.SA - Petróleo Brasileiro S.A. - Petrobras",
          "VALE3.SA - Vale S.A.",
          "ITUB4.SA - Itaú Unibanco Holding S.A.",
          "ABEV3.SA - Ambev S.A.",
          "BPAC5.SA - Banco BTG Pactual S.A.",
          "BBDC4.SA - Banco Bradesco S.A.",
          "BBAS3.SA - Banco do Brasil S.A.",
          "WEGE3.SA - WEG S.A.",
          "ITSA4.SA - Itaúsa S.A.",
          "ELET3.SA - Centrais Elétricas Brasileiras S.A. - Eletrobrás",
          "VIVT3.SA - Telefônica Brasil S.A."
         ],
         "type": "box",
         "xaxis": "x13",
         "y": [
          23.61,
          61,
          22.62,
          12.33,
          4.55,
          12.39,
          30.25,
          31.47,
          7.65,
          29.81,
          35.63
         ],
         "yaxis": "y13"
        },
        {
         "boxpoints": "outliers",
         "hoverinfo": "y+text",
         "jitter": 0.7,
         "marker": {
          "color": "lightseagreen"
         },
         "name": "fifty_two_week_high",
         "text": [
          "PETR3.SA - Petróleo Brasileiro S.A. - Petrobras",
          "VALE3.SA - Vale S.A.",
          "ITUB4.SA - Itaú Unibanco Holding S.A.",
          "ABEV3.SA - Ambev S.A.",
          "BPAC5.SA - Banco BTG Pactual S.A.",
          "BBDC4.SA - Banco Bradesco S.A.",
          "BBAS3.SA - Banco do Brasil S.A.",
          "WEGE3.SA - WEG S.A.",
          "ITSA4.SA - Itaúsa S.A.",
          "ELET3.SA - Centrais Elétricas Brasileiras S.A. - Eletrobrás",
          "VIVT3.SA - Telefônica Brasil S.A."
         ],
         "type": "box",
         "xaxis": "x14",
         "y": [
          41.86,
          98.29,
          31.29,
          16.88,
          9.08,
          20.56,
          51.99,
          42.42,
          10.09,
          52.49,
          46.83
         ],
         "yaxis": "y14"
        },
        {
         "boxpoints": "outliers",
         "hoverinfo": "y+text",
         "jitter": 0.7,
         "marker": {
          "color": "lightseagreen"
         },
         "name": "price_to_sales_trailing_12_months",
         "text": [
          "PETR3.SA - Petróleo Brasileiro S.A. - Petrobras",
          "VALE3.SA - Vale S.A.",
          "ITUB4.SA - Itaú Unibanco Holding S.A.",
          "ABEV3.SA - Ambev S.A.",
          "BPAC5.SA - Banco BTG Pactual S.A.",
          "BBDC4.SA - Banco Bradesco S.A.",
          "BBAS3.SA - Banco do Brasil S.A.",
          "WEGE3.SA - WEG S.A.",
          "ITSA4.SA - Itaúsa S.A.",
          "ELET3.SA - Centrais Elétricas Brasileiras S.A. - Eletrobrás",
          "VIVT3.SA - Telefônica Brasil S.A."
         ],
         "type": "box",
         "xaxis": "x15",
         "y": [
          0.8308848,
          1.3453289,
          2.090864,
          2.426816,
          5.3448424,
          1.9527043,
          1.4728581,
          4.359256,
          11.090173,
          2.2328575,
          1.5195276
         ],
         "yaxis": "y15"
        },
        {
         "boxpoints": "outliers",
         "hoverinfo": "y+text",
         "jitter": 0.7,
         "marker": {
          "color": "lightseagreen"
         },
         "name": "fifty_day_average",
         "text": [
          "PETR3.SA - Petróleo Brasileiro S.A. - Petrobras",
          "VALE3.SA - Vale S.A.",
          "ITUB4.SA - Itaú Unibanco Holding S.A.",
          "ABEV3.SA - Ambev S.A.",
          "BPAC5.SA - Banco BTG Pactual S.A.",
          "BBDC4.SA - Banco Bradesco S.A.",
          "BBAS3.SA - Banco do Brasil S.A.",
          "WEGE3.SA - WEG S.A.",
          "ITSA4.SA - Itaúsa S.A.",
          "ELET3.SA - Centrais Elétricas Brasileiras S.A. - Eletrobrás",
          "VIVT3.SA - Telefônica Brasil S.A."
         ],
         "type": "box",
         "xaxis": "x16",
         "y": [
          37.0388,
          66.0796,
          27.277,
          13.4434,
          8.365,
          14.612,
          47.7504,
          35.499,
          9.11561,
          35.4158,
          43.6648
         ],
         "yaxis": "y16"
        },
        {
         "boxpoints": "outliers",
         "hoverinfo": "y+text",
         "jitter": 0.7,
         "marker": {
          "color": "lightseagreen"
         },
         "name": "two_hundred_day_average",
         "text": [
          "PETR3.SA - Petróleo Brasileiro S.A. - Petrobras",
          "VALE3.SA - Vale S.A.",
          "ITUB4.SA - Itaú Unibanco Holding S.A.",
          "ABEV3.SA - Ambev S.A.",
          "BPAC5.SA - Banco BTG Pactual S.A.",
          "BBDC4.SA - Banco Bradesco S.A.",
          "BBAS3.SA - Banco do Brasil S.A.",
          "WEGE3.SA - WEG S.A.",
          "ITSA4.SA - Itaúsa S.A.",
          "ELET3.SA - Centrais Elétricas Brasileiras S.A. - Eletrobrás",
          "VIVT3.SA - Telefônica Brasil S.A."
         ],
         "type": "box",
         "xaxis": "x17",
         "y": [
          31.98075,
          73.07495,
          26.66895,
          14.1037,
          6.8769,
          14.7858,
          44.66415,
          38.03615,
          8.937748,
          35.99495,
          41.6027
         ],
         "yaxis": "y17"
        },
        {
         "boxpoints": "outliers",
         "hoverinfo": "y+text",
         "jitter": 0.7,
         "marker": {
          "color": "lightseagreen"
         },
         "name": "trailing_annual_dividend_rate",
         "text": [
          "PETR3.SA - Petróleo Brasileiro S.A. - Petrobras",
          "VALE3.SA - Vale S.A.",
          "ITUB4.SA - Itaú Unibanco Holding S.A.",
          "ABEV3.SA - Ambev S.A.",
          "BPAC5.SA - Banco BTG Pactual S.A.",
          "BBDC4.SA - Banco Bradesco S.A.",
          "BBAS3.SA - Banco do Brasil S.A.",
          "WEGE3.SA - WEG S.A.",
          "ITSA4.SA - Itaúsa S.A.",
          "ELET3.SA - Centrais Elétricas Brasileiras S.A. - Eletrobrás",
          "VIVT3.SA - Telefônica Brasil S.A."
         ],
         "type": "box",
         "xaxis": "x18",
         "y": [
          9.657,
          4.037,
          0.503,
          0.762,
          0,
          0.401,
          4.5,
          0.67,
          0.515,
          1.494,
          1.902
         ],
         "yaxis": "y18"
        },
        {
         "boxpoints": "outliers",
         "hoverinfo": "y+text",
         "jitter": 0.7,
         "marker": {
          "color": "lightseagreen"
         },
         "name": "trailing_annual_dividend_yield",
         "text": [
          "PETR3.SA - Petróleo Brasileiro S.A. - Petrobras",
          "VALE3.SA - Vale S.A.",
          "ITUB4.SA - Itaú Unibanco Holding S.A.",
          "ABEV3.SA - Ambev S.A.",
          "BPAC5.SA - Banco BTG Pactual S.A.",
          "BBDC4.SA - Banco Bradesco S.A.",
          "BBAS3.SA - Banco do Brasil S.A.",
          "WEGE3.SA - WEG S.A.",
          "ITSA4.SA - Itaúsa S.A.",
          "ELET3.SA - Centrais Elétricas Brasileiras S.A. - Eletrobrás",
          "VIVT3.SA - Telefônica Brasil S.A."
         ],
         "type": "box",
         "xaxis": "x19",
         "y": [
          0.24729833,
          0.063147195,
          0.018602071,
          0.061254025,
          0,
          0.028359264,
          0.09174312,
          0.021290118,
          0.05912744,
          0.043645926,
          0.041811384
         ],
         "yaxis": "y19"
        },
        {
         "boxpoints": "outliers",
         "hoverinfo": "y+text",
         "jitter": 0.7,
         "marker": {
          "color": "lightseagreen"
         },
         "name": "book_value",
         "text": [
          "PETR3.SA - Petróleo Brasileiro S.A. - Petrobras",
          "VALE3.SA - Vale S.A.",
          "ITUB4.SA - Itaú Unibanco Holding S.A.",
          "ABEV3.SA - Ambev S.A.",
          "BPAC5.SA - Banco BTG Pactual S.A.",
          "BBDC4.SA - Banco Bradesco S.A.",
          "BBAS3.SA - Banco do Brasil S.A.",
          "WEGE3.SA - WEG S.A.",
          "ITSA4.SA - Itaúsa S.A.",
          "ELET3.SA - Centrais Elétricas Brasileiras S.A. - Eletrobrás",
          "VIVT3.SA - Telefônica Brasil S.A."
         ],
         "type": "box",
         "xaxis": "x20",
         "y": [
          28.417,
          43.051,
          18.25,
          5.403,
          9.808,
          15.641,
          54.955,
          3.666,
          7.923,
          49.431,
          41.399
         ],
         "yaxis": "y20"
        },
        {
         "boxpoints": "outliers",
         "hoverinfo": "y+text",
         "jitter": 0.7,
         "marker": {
          "color": "lightseagreen"
         },
         "name": "price_to_book",
         "text": [
          "PETR3.SA - Petróleo Brasileiro S.A. - Petrobras",
          "VALE3.SA - Vale S.A.",
          "ITUB4.SA - Itaú Unibanco Holding S.A.",
          "ABEV3.SA - Ambev S.A.",
          "BPAC5.SA - Banco BTG Pactual S.A.",
          "BBDC4.SA - Banco Bradesco S.A.",
          "BBAS3.SA - Banco do Brasil S.A.",
          "WEGE3.SA - WEG S.A.",
          "ITSA4.SA - Itaúsa S.A.",
          "ELET3.SA - Centrais Elétricas Brasileiras S.A. - Eletrobrás",
          "VIVT3.SA - Telefônica Brasil S.A."
         ],
         "type": "box",
         "xaxis": "x21",
         "y": [
          1.3506,
          1.4986876,
          1.5052054,
          2.3598,
          0.83809143,
          0.9123458,
          0.8952779,
          9.0016365,
          1.1144768,
          0.70198864,
          1.1147614
         ],
         "yaxis": "y21"
        },
        {
         "boxpoints": "outliers",
         "hoverinfo": "y+text",
         "jitter": 0.7,
         "marker": {
          "color": "lightseagreen"
         },
         "name": "total_cash",
         "text": [
          "PETR3.SA - Petróleo Brasileiro S.A. - Petrobras",
          "VALE3.SA - Vale S.A.",
          "ITUB4.SA - Itaú Unibanco Holding S.A.",
          "ABEV3.SA - Ambev S.A.",
          "BPAC5.SA - Banco BTG Pactual S.A.",
          "BBDC4.SA - Banco Bradesco S.A.",
          "BBAS3.SA - Banco do Brasil S.A.",
          "WEGE3.SA - WEG S.A.",
          "ITSA4.SA - Itaúsa S.A.",
          "ELET3.SA - Centrais Elétricas Brasileiras S.A. - Eletrobrás",
          "VIVT3.SA - Telefônica Brasil S.A."
         ],
         "type": "box",
         "xaxis": "x22",
         "y": [
          60984999936,
          24238000128,
          394325000192,
          12430517248,
          221143449600,
          231553384448,
          82065874944,
          5480458752,
          7606000128,
          15801225216,
          5405902848
         ],
         "yaxis": "y22"
        },
        {
         "boxpoints": "outliers",
         "hoverinfo": "y+text",
         "jitter": 0.7,
         "marker": {
          "color": "lightseagreen"
         },
         "name": "total_cash_per_share",
         "text": [
          "PETR3.SA - Petróleo Brasileiro S.A. - Petrobras",
          "VALE3.SA - Vale S.A.",
          "ITUB4.SA - Itaú Unibanco Holding S.A.",
          "ABEV3.SA - Ambev S.A.",
          "BPAC5.SA - Banco BTG Pactual S.A.",
          "BBDC4.SA - Banco Bradesco S.A.",
          "BBAS3.SA - Banco do Brasil S.A.",
          "WEGE3.SA - WEG S.A.",
          "ITSA4.SA - Itaúsa S.A.",
          "ELET3.SA - Centrais Elétricas Brasileiras S.A. - Eletrobrás",
          "VIVT3.SA - Telefônica Brasil S.A."
         ],
         "type": "box",
         "xaxis": "x23",
         "y": [
          4.675,
          5.58,
          40.237,
          0.789,
          46.436,
          21.758,
          28.757,
          1.306,
          0.784,
          7.011,
          3.26
         ],
         "yaxis": "y23"
        },
        {
         "boxpoints": "outliers",
         "hoverinfo": "y+text",
         "jitter": 0.7,
         "marker": {
          "color": "lightseagreen"
         },
         "name": "total_debt",
         "text": [
          "PETR3.SA - Petróleo Brasileiro S.A. - Petrobras",
          "VALE3.SA - Vale S.A.",
          "ITUB4.SA - Itaú Unibanco Holding S.A.",
          "ABEV3.SA - Ambev S.A.",
          "BPAC5.SA - Banco BTG Pactual S.A.",
          "BBDC4.SA - Banco Bradesco S.A.",
          "BBAS3.SA - Banco do Brasil S.A.",
          "WEGE3.SA - WEG S.A.",
          "ITSA4.SA - Itaúsa S.A.",
          "ELET3.SA - Centrais Elétricas Brasileiras S.A. - Eletrobrás",
          "VIVT3.SA - Telefônica Brasil S.A."
         ],
         "type": "box",
         "xaxis": "x24",
         "y": [
          279374987264,
          79345999872,
          827033976832,
          4096230912,
          220720496640,
          622578565120,
          895776522240,
          3346563072,
          13237000192,
          58713391104,
          18377697280
         ],
         "yaxis": "y24"
        },
        {
         "boxpoints": "outliers",
         "hoverinfo": "y+text",
         "jitter": 0.7,
         "marker": {
          "color": "lightseagreen"
         },
         "name": "earnings_quarterly_growth",
         "text": [
          "PETR3.SA - Petróleo Brasileiro S.A. - Petrobras",
          "VALE3.SA - Vale S.A.",
          "ITUB4.SA - Itaú Unibanco Holding S.A.",
          "ABEV3.SA - Ambev S.A.",
          "BPAC5.SA - Banco BTG Pactual S.A.",
          "BBDC4.SA - Banco Bradesco S.A.",
          "BBAS3.SA - Banco do Brasil S.A.",
          "WEGE3.SA - WEG S.A.",
          "ITSA4.SA - Itaúsa S.A.",
          "ELET3.SA - Centrais Elétricas Brasileiras S.A. - Eletrobrás",
          "VIVT3.SA - Telefônica Brasil S.A."
         ],
         "type": "box",
         "xaxis": "x25",
         "y": [
          -0.47,
          -0.848,
          0.181,
          -0.157,
          0.181,
          -0.447,
          0.087,
          0.499,
          0.168,
          0.206,
          0.472
         ],
         "yaxis": "y25"
        },
        {
         "boxpoints": "outliers",
         "hoverinfo": "y+text",
         "jitter": 0.7,
         "marker": {
          "color": "lightseagreen"
         },
         "name": "revenue_growth",
         "text": [
          "PETR3.SA - Petróleo Brasileiro S.A. - Petrobras",
          "VALE3.SA - Vale S.A.",
          "ITUB4.SA - Itaú Unibanco Holding S.A.",
          "ABEV3.SA - Ambev S.A.",
          "BPAC5.SA - Banco BTG Pactual S.A.",
          "BBDC4.SA - Banco Bradesco S.A.",
          "BBAS3.SA - Banco do Brasil S.A.",
          "WEGE3.SA - WEG S.A.",
          "ITSA4.SA - Itaúsa S.A.",
          "ELET3.SA - Centrais Elétricas Brasileiras S.A. - Eletrobrás",
          "VIVT3.SA - Telefônica Brasil S.A."
         ],
         "type": "box",
         "xaxis": "x26",
         "y": [
          -0.334,
          -0.131,
          0.135,
          0.051,
          0.021,
          -0.27,
          0.091,
          0.137,
          -0.117,
          0.044,
          0.076
         ],
         "yaxis": "y26"
        },
        {
         "boxpoints": "outliers",
         "hoverinfo": "y+text",
         "jitter": 0.7,
         "marker": {
          "color": "lightseagreen"
         },
         "name": "gross_margins",
         "text": [
          "PETR3.SA - Petróleo Brasileiro S.A. - Petrobras",
          "VALE3.SA - Vale S.A.",
          "ITUB4.SA - Itaú Unibanco Holding S.A.",
          "ABEV3.SA - Ambev S.A.",
          "BPAC5.SA - Banco BTG Pactual S.A.",
          "BBDC4.SA - Banco Bradesco S.A.",
          "BBAS3.SA - Banco do Brasil S.A.",
          "WEGE3.SA - WEG S.A.",
          "ITSA4.SA - Itaúsa S.A.",
          "ELET3.SA - Centrais Elétricas Brasileiras S.A. - Eletrobrás",
          "VIVT3.SA - Telefônica Brasil S.A."
         ],
         "type": "box",
         "xaxis": "x27",
         "y": [
          0.50633,
          0.39091,
          0,
          0.49945,
          0,
          0,
          0,
          0.31911,
          0.34546003,
          0.58912,
          0.47107
         ],
         "yaxis": "y27"
        },
        {
         "boxpoints": "outliers",
         "hoverinfo": "y+text",
         "jitter": 0.7,
         "marker": {
          "color": "lightseagreen"
         },
         "name": "ebitda_margins",
         "text": [
          "PETR3.SA - Petróleo Brasileiro S.A. - Petrobras",
          "VALE3.SA - Vale S.A.",
          "ITUB4.SA - Itaú Unibanco Holding S.A.",
          "ABEV3.SA - Ambev S.A.",
          "BPAC5.SA - Banco BTG Pactual S.A.",
          "BBDC4.SA - Banco Bradesco S.A.",
          "BBAS3.SA - Banco do Brasil S.A.",
          "WEGE3.SA - WEG S.A.",
          "ITSA4.SA - Itaúsa S.A.",
          "ELET3.SA - Centrais Elétricas Brasileiras S.A. - Eletrobrás",
          "VIVT3.SA - Telefônica Brasil S.A."
         ],
         "type": "box",
         "xaxis": "x28",
         "y": [
          0.50053,
          0.41356,
          0,
          0.26903,
          0,
          0,
          0,
          0.20407,
          0.28691998,
          0.35900003,
          0.30029
         ],
         "yaxis": "y28"
        },
        {
         "boxpoints": "outliers",
         "hoverinfo": "y+text",
         "jitter": 0.7,
         "marker": {
          "color": "lightseagreen"
         },
         "name": "return_on_assets",
         "text": [
          "PETR3.SA - Petróleo Brasileiro S.A. - Petrobras",
          "VALE3.SA - Vale S.A.",
          "ITUB4.SA - Itaú Unibanco Holding S.A.",
          "ABEV3.SA - Ambev S.A.",
          "BPAC5.SA - Banco BTG Pactual S.A.",
          "BBDC4.SA - Banco Bradesco S.A.",
          "BBAS3.SA - Banco do Brasil S.A.",
          "WEGE3.SA - WEG S.A.",
          "ITSA4.SA - Itaúsa S.A.",
          "ELET3.SA - Centrais Elétricas Brasileiras S.A. - Eletrobrás",
          "VIVT3.SA - Telefônica Brasil S.A."
         ],
         "type": "box",
         "xaxis": "x29",
         "y": [
          0.15427,
          0.099750005,
          0.0141900005,
          0.08271,
          0.0191,
          0.00853,
          0.017339999,
          0.13783,
          0.00854,
          0.02306,
          0.03836
         ],
         "yaxis": "y29"
        },
        {
         "boxpoints": "outliers",
         "hoverinfo": "y+text",
         "jitter": 0.7,
         "marker": {
          "color": "lightseagreen"
         },
         "name": "return_on_equity",
         "text": [
          "PETR3.SA - Petróleo Brasileiro S.A. - Petrobras",
          "VALE3.SA - Vale S.A.",
          "ITUB4.SA - Itaú Unibanco Holding S.A.",
          "ABEV3.SA - Ambev S.A.",
          "BPAC5.SA - Banco BTG Pactual S.A.",
          "BBDC4.SA - Banco Bradesco S.A.",
          "BBAS3.SA - Banco do Brasil S.A.",
          "WEGE3.SA - WEG S.A.",
          "ITSA4.SA - Itaúsa S.A.",
          "ELET3.SA - Centrais Elétricas Brasileiras S.A. - Eletrobrás",
          "VIVT3.SA - Telefônica Brasil S.A."
         ],
         "type": "box",
         "xaxis": "x30",
         "y": [
          0.39988,
          0.29588,
          0.18295,
          0.16919,
          0.18284,
          0.09476,
          0.22474001,
          0.34605,
          0.18054001,
          0.01719,
          0.06606
         ],
         "yaxis": "y30"
        },
        {
         "boxpoints": "outliers",
         "hoverinfo": "y+text",
         "jitter": 0.7,
         "marker": {
          "color": "lightseagreen"
         },
         "name": "gross_profits",
         "text": [
          "PETR3.SA - Petróleo Brasileiro S.A. - Petrobras",
          "VALE3.SA - Vale S.A.",
          "ITUB4.SA - Itaú Unibanco Holding S.A.",
          "ABEV3.SA - Ambev S.A.",
          "BPAC5.SA - Banco BTG Pactual S.A.",
          "BBDC4.SA - Banco Bradesco S.A.",
          "BBAS3.SA - Banco do Brasil S.A.",
          "WEGE3.SA - WEG S.A.",
          "ITSA4.SA - Itaúsa S.A.",
          "ELET3.SA - Centrais Elétricas Brasileiras S.A. - Eletrobrás",
          "VIVT3.SA - Telefônica Brasil S.A."
         ],
         "type": "box",
         "xaxis": "x31",
         "y": [
          334100000000,
          102313000000,
          115570000000,
          39286758000,
          26639299000,
          84471655000,
          89250526000,
          8695487000,
          2875000000,
          20697315000,
          22515040000
         ],
         "yaxis": "y31"
        },
        {
         "boxpoints": "outliers",
         "hoverinfo": "y+text",
         "jitter": 0.7,
         "marker": {
          "color": "lightseagreen"
         },
         "name": "total_assets_approx",
         "text": [
          "PETR3.SA - Petróleo Brasileiro S.A. - Petrobras",
          "VALE3.SA - Vale S.A.",
          "ITUB4.SA - Itaú Unibanco Holding S.A.",
          "ABEV3.SA - Ambev S.A.",
          "BPAC5.SA - Banco BTG Pactual S.A.",
          "BBDC4.SA - Banco Bradesco S.A.",
          "BBAS3.SA - Banco do Brasil S.A.",
          "WEGE3.SA - WEG S.A.",
          "ITSA4.SA - Itaúsa S.A.",
          "ELET3.SA - Centrais Elétricas Brasileiras S.A. - Eletrobrás",
          "VIVT3.SA - Telefônica Brasil S.A."
         ],
         "type": "box",
         "xaxis": "x32",
         "y": [
          60984999964.417,
          24238000171.051,
          394325000210.25,
          12430517253.403,
          221143449609.808,
          231553384463.641,
          82065874998.955,
          5480458755.666,
          7606000135.923,
          15801225265.431,
          5405902889.399
         ],
         "yaxis": "y32"
        },
        {
         "boxpoints": "outliers",
         "hoverinfo": "y+text",
         "jitter": 0.7,
         "marker": {
          "color": "lightseagreen"
         },
         "name": "asset_turnover",
         "text": [
          "PETR3.SA - Petróleo Brasileiro S.A. - Petrobras",
          "VALE3.SA - Vale S.A.",
          "ITUB4.SA - Itaú Unibanco Holding S.A.",
          "ABEV3.SA - Ambev S.A.",
          "BPAC5.SA - Banco BTG Pactual S.A.",
          "BBDC4.SA - Banco Bradesco S.A.",
          "BBAS3.SA - Banco do Brasil S.A.",
          "WEGE3.SA - WEG S.A.",
          "ITSA4.SA - Itaúsa S.A.",
          "ELET3.SA - Centrais Elétricas Brasileiras S.A. - Eletrobrás",
          "VIVT3.SA - Telefônica Brasil S.A."
         ],
         "type": "box",
         "xaxis": "x33",
         "y": [
          9.536164481943516,
          8.516131808206417,
          0.3016242980906194,
          6.653829000507362,
          0.1254902843243392,
          0.3148007800311199,
          1.1616147119032592,
          5.794826444988115,
          1.0264264954621392,
          2.2474035765878546,
          9.30683607555396
         ],
         "yaxis": "y33"
        },
        {
         "boxpoints": "outliers",
         "hoverinfo": "y+text",
         "jitter": 0.7,
         "marker": {
          "color": "lightseagreen"
         },
         "name": "earnings_growth_rate",
         "text": [
          "PETR3.SA - Petróleo Brasileiro S.A. - Petrobras",
          "VALE3.SA - Vale S.A.",
          "ITUB4.SA - Itaú Unibanco Holding S.A.",
          "ABEV3.SA - Ambev S.A.",
          "BPAC5.SA - Banco BTG Pactual S.A.",
          "BBDC4.SA - Banco Bradesco S.A.",
          "BBAS3.SA - Banco do Brasil S.A.",
          "WEGE3.SA - WEG S.A.",
          "ITSA4.SA - Itaúsa S.A.",
          "ELET3.SA - Centrais Elétricas Brasileiras S.A. - Eletrobrás",
          "VIVT3.SA - Telefônica Brasil S.A."
         ],
         "type": "box",
         "xaxis": "x34",
         "y": [
          -47,
          -84.8,
          18.1,
          -15.7,
          18.1,
          -44.7,
          8.7,
          49.9,
          16.8,
          20.6,
          47.2
         ],
         "yaxis": "y34"
        },
        {
         "boxpoints": "outliers",
         "hoverinfo": "y+text",
         "jitter": 0.7,
         "marker": {
          "color": "lightseagreen"
         },
         "name": "dividend_payout_ratio",
         "text": [
          "PETR3.SA - Petróleo Brasileiro S.A. - Petrobras",
          "VALE3.SA - Vale S.A.",
          "ITUB4.SA - Itaú Unibanco Holding S.A.",
          "ABEV3.SA - Ambev S.A.",
          "BPAC5.SA - Banco BTG Pactual S.A.",
          "BBDC4.SA - Banco Bradesco S.A.",
          "BBAS3.SA - Banco do Brasil S.A.",
          "WEGE3.SA - WEG S.A.",
          "ITSA4.SA - Itaúsa S.A.",
          "ELET3.SA - Centrais Elétricas Brasileiras S.A. - Eletrobrás",
          "VIVT3.SA - Telefônica Brasil S.A."
         ],
         "type": "box",
         "xaxis": "x35",
         "y": [
          0,
          0,
          277.90055248618785,
          0,
          0,
          0,
          5172.413793103448,
          134.2685370741483,
          306.54761904761904,
          725.242718446602,
          402.9661016949152
         ],
         "yaxis": "y35"
        },
        {
         "boxpoints": "outliers",
         "hoverinfo": "y+text",
         "jitter": 0.7,
         "marker": {
          "color": "lightseagreen"
         },
         "name": "equity",
         "text": [
          "PETR3.SA - Petróleo Brasileiro S.A. - Petrobras",
          "VALE3.SA - Vale S.A.",
          "ITUB4.SA - Itaú Unibanco Holding S.A.",
          "ABEV3.SA - Ambev S.A.",
          "BPAC5.SA - Banco BTG Pactual S.A.",
          "BBDC4.SA - Banco Bradesco S.A.",
          "BBAS3.SA - Banco do Brasil S.A.",
          "WEGE3.SA - WEG S.A.",
          "ITSA4.SA - Itaúsa S.A.",
          "ELET3.SA - Centrais Elétricas Brasileiras S.A. - Eletrobrás",
          "VIVT3.SA - Telefônica Brasil S.A."
         ],
         "type": "box",
         "xaxis": "x36",
         "y": [
          -218389987299.583,
          -55107999700.949005,
          -432708976621.75,
          8334286341.403,
          422952969.8080139,
          -391025180656.359,
          -813710647241.045,
          2133895683.6660004,
          -5631000056.077,
          -42912165838.569,
          -12971794390.601
         ],
         "yaxis": "y36"
        },
        {
         "boxpoints": "outliers",
         "hoverinfo": "y+text",
         "jitter": 0.7,
         "marker": {
          "color": "lightseagreen"
         },
         "name": "debt_to_equity",
         "text": [
          "PETR3.SA - Petróleo Brasileiro S.A. - Petrobras",
          "VALE3.SA - Vale S.A.",
          "ITUB4.SA - Itaú Unibanco Holding S.A.",
          "ABEV3.SA - Ambev S.A.",
          "BPAC5.SA - Banco BTG Pactual S.A.",
          "BBDC4.SA - Banco Bradesco S.A.",
          "BBAS3.SA - Banco do Brasil S.A.",
          "WEGE3.SA - WEG S.A.",
          "ITSA4.SA - Itaúsa S.A.",
          "ELET3.SA - Centrais Elétricas Brasileiras S.A. - Eletrobrás",
          "VIVT3.SA - Telefônica Brasil S.A."
         ],
         "type": "box",
         "xaxis": "x37",
         "y": [
          -1.2792481501487474,
          -1.4398272538031098,
          -1.911293782922712,
          0.491491501995891,
          521.8558856323649,
          -1.5921700082715002,
          -1.1008538788047155,
          1.5682880365785528,
          -2.35073700234021,
          -1.3682225065235236,
          -1.416742875088736
         ],
         "yaxis": "y37"
        },
        {
         "boxpoints": "outliers",
         "hoverinfo": "y+text",
         "jitter": 0.7,
         "marker": {
          "color": "lightseagreen"
         },
         "name": "roi",
         "text": [
          "PETR3.SA - Petróleo Brasileiro S.A. - Petrobras",
          "VALE3.SA - Vale S.A.",
          "ITUB4.SA - Itaú Unibanco Holding S.A.",
          "ABEV3.SA - Ambev S.A.",
          "BPAC5.SA - Banco BTG Pactual S.A.",
          "BBDC4.SA - Banco Bradesco S.A.",
          "BBAS3.SA - Banco do Brasil S.A.",
          "WEGE3.SA - WEG S.A.",
          "ITSA4.SA - Itaúsa S.A.",
          "ELET3.SA - Centrais Elétricas Brasileiras S.A. - Eletrobrás",
          "VIVT3.SA - Telefônica Brasil S.A."
         ],
         "type": "box",
         "xaxis": "x38",
         "y": [
          0.7973562728430369,
          0.6072659084393137,
          0.168041966281419,
          0.4379789886362759,
          0.6386358679125874,
          0.1344617259903882,
          0.099566415668176,
          0.2436080746433283,
          0.0830750376669602,
          0.2956392788982476,
          0.5687666742729628
         ],
         "yaxis": "y38"
        },
        {
         "boxpoints": "outliers",
         "hoverinfo": "y+text",
         "jitter": 0.7,
         "marker": {
          "color": "lightseagreen"
         },
         "name": "roce",
         "text": [
          "PETR3.SA - Petróleo Brasileiro S.A. - Petrobras",
          "VALE3.SA - Vale S.A.",
          "ITUB4.SA - Itaú Unibanco Holding S.A.",
          "ABEV3.SA - Ambev S.A.",
          "BPAC5.SA - Banco BTG Pactual S.A.",
          "BBDC4.SA - Banco Bradesco S.A.",
          "BBAS3.SA - Banco do Brasil S.A.",
          "WEGE3.SA - WEG S.A.",
          "ITSA4.SA - Itaúsa S.A.",
          "ELET3.SA - Centrais Elétricas Brasileiras S.A. - Eletrobrás",
          "VIVT3.SA - Telefônica Brasil S.A."
         ],
         "type": "box",
         "xaxis": "x39",
         "y": [
          0.3817099501622186,
          0.2390875566362255,
          0,
          0.108639745372622,
          0,
          0,
          0,
          0.045708206077034,
          0.0224408473114079,
          0.0923771541497377,
          0.159319525716694
         ],
         "yaxis": "y39"
        }
       ],
       "layout": {
        "annotations": [
         {
          "font": {
           "size": 16
          },
          "showarrow": false,
          "text": "market_cap",
          "x": 0.14444444444444446,
          "xanchor": "center",
          "xref": "paper",
          "y": 1,
          "yanchor": "bottom",
          "yref": "paper"
         },
         {
          "font": {
           "size": 16
          },
          "showarrow": false,
          "text": "enterprise_value",
          "x": 0.5,
          "xanchor": "center",
          "xref": "paper",
          "y": 1,
          "yanchor": "bottom",
          "yref": "paper"
         },
         {
          "font": {
           "size": 16
          },
          "showarrow": false,
          "text": "total_revenue",
          "x": 0.8555555555555556,
          "xanchor": "center",
          "xref": "paper",
          "y": 1,
          "yanchor": "bottom",
          "yref": "paper"
         },
         {
          "font": {
           "size": 16
          },
          "showarrow": false,
          "text": "profit_margins",
          "x": 0.14444444444444446,
          "xanchor": "center",
          "xref": "paper",
          "y": 0.9201183431952662,
          "yanchor": "bottom",
          "yref": "paper"
         },
         {
          "font": {
           "size": 16
          },
          "showarrow": false,
          "text": "operating_margins",
          "x": 0.5,
          "xanchor": "center",
          "xref": "paper",
          "y": 0.9201183431952662,
          "yanchor": "bottom",
          "yref": "paper"
         },
         {
          "font": {
           "size": 16
          },
          "showarrow": false,
          "text": "dividend_rate",
          "x": 0.8555555555555556,
          "xanchor": "center",
          "xref": "paper",
          "y": 0.9201183431952662,
          "yanchor": "bottom",
          "yref": "paper"
         },
         {
          "font": {
           "size": 16
          },
          "showarrow": false,
          "text": "beta",
          "x": 0.14444444444444446,
          "xanchor": "center",
          "xref": "paper",
          "y": 0.8402366863905325,
          "yanchor": "bottom",
          "yref": "paper"
         },
         {
          "font": {
           "size": 16
          },
          "showarrow": false,
          "text": "ebitda",
          "x": 0.5,
          "xanchor": "center",
          "xref": "paper",
          "y": 0.8402366863905325,
          "yanchor": "bottom",
          "yref": "paper"
         },
         {
          "font": {
           "size": 16
          },
          "showarrow": false,
          "text": "trailing_pe",
          "x": 0.8555555555555556,
          "xanchor": "center",
          "xref": "paper",
          "y": 0.8402366863905325,
          "yanchor": "bottom",
          "yref": "paper"
         },
         {
          "font": {
           "size": 16
          },
          "showarrow": false,
          "text": "forward_pe",
          "x": 0.14444444444444446,
          "xanchor": "center",
          "xref": "paper",
          "y": 0.7603550295857988,
          "yanchor": "bottom",
          "yref": "paper"
         },
         {
          "font": {
           "size": 16
          },
          "showarrow": false,
          "text": "volume",
          "x": 0.5,
          "xanchor": "center",
          "xref": "paper",
          "y": 0.7603550295857988,
          "yanchor": "bottom",
          "yref": "paper"
         },
         {
          "font": {
           "size": 16
          },
          "showarrow": false,
          "text": "average_volume",
          "x": 0.8555555555555556,
          "xanchor": "center",
          "xref": "paper",
          "y": 0.7603550295857988,
          "yanchor": "bottom",
          "yref": "paper"
         },
         {
          "font": {
           "size": 16
          },
          "showarrow": false,
          "text": "fifty_two_week_low",
          "x": 0.14444444444444446,
          "xanchor": "center",
          "xref": "paper",
          "y": 0.680473372781065,
          "yanchor": "bottom",
          "yref": "paper"
         },
         {
          "font": {
           "size": 16
          },
          "showarrow": false,
          "text": "fifty_two_week_high",
          "x": 0.5,
          "xanchor": "center",
          "xref": "paper",
          "y": 0.680473372781065,
          "yanchor": "bottom",
          "yref": "paper"
         },
         {
          "font": {
           "size": 16
          },
          "showarrow": false,
          "text": "price_to_sales_trailing_12_months",
          "x": 0.8555555555555556,
          "xanchor": "center",
          "xref": "paper",
          "y": 0.680473372781065,
          "yanchor": "bottom",
          "yref": "paper"
         },
         {
          "font": {
           "size": 16
          },
          "showarrow": false,
          "text": "fifty_day_average",
          "x": 0.14444444444444446,
          "xanchor": "center",
          "xref": "paper",
          "y": 0.6005917159763314,
          "yanchor": "bottom",
          "yref": "paper"
         },
         {
          "font": {
           "size": 16
          },
          "showarrow": false,
          "text": "two_hundred_day_average",
          "x": 0.5,
          "xanchor": "center",
          "xref": "paper",
          "y": 0.6005917159763314,
          "yanchor": "bottom",
          "yref": "paper"
         },
         {
          "font": {
           "size": 16
          },
          "showarrow": false,
          "text": "trailing_annual_dividend_rate",
          "x": 0.8555555555555556,
          "xanchor": "center",
          "xref": "paper",
          "y": 0.6005917159763314,
          "yanchor": "bottom",
          "yref": "paper"
         },
         {
          "font": {
           "size": 16
          },
          "showarrow": false,
          "text": "trailing_annual_dividend_yield",
          "x": 0.14444444444444446,
          "xanchor": "center",
          "xref": "paper",
          "y": 0.5207100591715976,
          "yanchor": "bottom",
          "yref": "paper"
         },
         {
          "font": {
           "size": 16
          },
          "showarrow": false,
          "text": "book_value",
          "x": 0.5,
          "xanchor": "center",
          "xref": "paper",
          "y": 0.5207100591715976,
          "yanchor": "bottom",
          "yref": "paper"
         },
         {
          "font": {
           "size": 16
          },
          "showarrow": false,
          "text": "price_to_book",
          "x": 0.8555555555555556,
          "xanchor": "center",
          "xref": "paper",
          "y": 0.5207100591715976,
          "yanchor": "bottom",
          "yref": "paper"
         },
         {
          "font": {
           "size": 16
          },
          "showarrow": false,
          "text": "total_cash",
          "x": 0.14444444444444446,
          "xanchor": "center",
          "xref": "paper",
          "y": 0.4408284023668639,
          "yanchor": "bottom",
          "yref": "paper"
         },
         {
          "font": {
           "size": 16
          },
          "showarrow": false,
          "text": "total_cash_per_share",
          "x": 0.5,
          "xanchor": "center",
          "xref": "paper",
          "y": 0.4408284023668639,
          "yanchor": "bottom",
          "yref": "paper"
         },
         {
          "font": {
           "size": 16
          },
          "showarrow": false,
          "text": "total_debt",
          "x": 0.8555555555555556,
          "xanchor": "center",
          "xref": "paper",
          "y": 0.4408284023668639,
          "yanchor": "bottom",
          "yref": "paper"
         },
         {
          "font": {
           "size": 16
          },
          "showarrow": false,
          "text": "earnings_quarterly_growth",
          "x": 0.14444444444444446,
          "xanchor": "center",
          "xref": "paper",
          "y": 0.36094674556213013,
          "yanchor": "bottom",
          "yref": "paper"
         },
         {
          "font": {
           "size": 16
          },
          "showarrow": false,
          "text": "revenue_growth",
          "x": 0.5,
          "xanchor": "center",
          "xref": "paper",
          "y": 0.36094674556213013,
          "yanchor": "bottom",
          "yref": "paper"
         },
         {
          "font": {
           "size": 16
          },
          "showarrow": false,
          "text": "gross_margins",
          "x": 0.8555555555555556,
          "xanchor": "center",
          "xref": "paper",
          "y": 0.36094674556213013,
          "yanchor": "bottom",
          "yref": "paper"
         },
         {
          "font": {
           "size": 16
          },
          "showarrow": false,
          "text": "ebitda_margins",
          "x": 0.14444444444444446,
          "xanchor": "center",
          "xref": "paper",
          "y": 0.28106508875739644,
          "yanchor": "bottom",
          "yref": "paper"
         },
         {
          "font": {
           "size": 16
          },
          "showarrow": false,
          "text": "return_on_assets",
          "x": 0.5,
          "xanchor": "center",
          "xref": "paper",
          "y": 0.28106508875739644,
          "yanchor": "bottom",
          "yref": "paper"
         },
         {
          "font": {
           "size": 16
          },
          "showarrow": false,
          "text": "return_on_equity",
          "x": 0.8555555555555556,
          "xanchor": "center",
          "xref": "paper",
          "y": 0.28106508875739644,
          "yanchor": "bottom",
          "yref": "paper"
         },
         {
          "font": {
           "size": 16
          },
          "showarrow": false,
          "text": "gross_profits",
          "x": 0.14444444444444446,
          "xanchor": "center",
          "xref": "paper",
          "y": 0.2011834319526627,
          "yanchor": "bottom",
          "yref": "paper"
         },
         {
          "font": {
           "size": 16
          },
          "showarrow": false,
          "text": "total_assets_approx",
          "x": 0.5,
          "xanchor": "center",
          "xref": "paper",
          "y": 0.2011834319526627,
          "yanchor": "bottom",
          "yref": "paper"
         },
         {
          "font": {
           "size": 16
          },
          "showarrow": false,
          "text": "asset_turnover",
          "x": 0.8555555555555556,
          "xanchor": "center",
          "xref": "paper",
          "y": 0.2011834319526627,
          "yanchor": "bottom",
          "yref": "paper"
         },
         {
          "font": {
           "size": 16
          },
          "showarrow": false,
          "text": "earnings_growth_rate",
          "x": 0.14444444444444446,
          "xanchor": "center",
          "xref": "paper",
          "y": 0.12130177514792898,
          "yanchor": "bottom",
          "yref": "paper"
         },
         {
          "font": {
           "size": 16
          },
          "showarrow": false,
          "text": "dividend_payout_ratio",
          "x": 0.5,
          "xanchor": "center",
          "xref": "paper",
          "y": 0.12130177514792898,
          "yanchor": "bottom",
          "yref": "paper"
         },
         {
          "font": {
           "size": 16
          },
          "showarrow": false,
          "text": "equity",
          "x": 0.8555555555555556,
          "xanchor": "center",
          "xref": "paper",
          "y": 0.12130177514792898,
          "yanchor": "bottom",
          "yref": "paper"
         },
         {
          "font": {
           "size": 16
          },
          "showarrow": false,
          "text": "debt_to_equity",
          "x": 0.14444444444444446,
          "xanchor": "center",
          "xref": "paper",
          "y": 0.04142011834319526,
          "yanchor": "bottom",
          "yref": "paper"
         },
         {
          "font": {
           "size": 16
          },
          "showarrow": false,
          "text": "roi",
          "x": 0.5,
          "xanchor": "center",
          "xref": "paper",
          "y": 0.04142011834319526,
          "yanchor": "bottom",
          "yref": "paper"
         },
         {
          "font": {
           "size": 16
          },
          "showarrow": false,
          "text": "roce",
          "x": 0.8555555555555556,
          "xanchor": "center",
          "xref": "paper",
          "y": 0.04142011834319526,
          "yanchor": "bottom",
          "yref": "paper"
         }
        ],
        "height": 3900,
        "showlegend": false,
        "template": {
         "data": {
          "bar": [
           {
            "error_x": {
             "color": "#f2f5fa"
            },
            "error_y": {
             "color": "#f2f5fa"
            },
            "marker": {
             "line": {
              "color": "rgb(17,17,17)",
              "width": 0.5
             },
             "pattern": {
              "fillmode": "overlay",
              "size": 10,
              "solidity": 0.2
             }
            },
            "type": "bar"
           }
          ],
          "barpolar": [
           {
            "marker": {
             "line": {
              "color": "rgb(17,17,17)",
              "width": 0.5
             },
             "pattern": {
              "fillmode": "overlay",
              "size": 10,
              "solidity": 0.2
             }
            },
            "type": "barpolar"
           }
          ],
          "carpet": [
           {
            "aaxis": {
             "endlinecolor": "#A2B1C6",
             "gridcolor": "#506784",
             "linecolor": "#506784",
             "minorgridcolor": "#506784",
             "startlinecolor": "#A2B1C6"
            },
            "baxis": {
             "endlinecolor": "#A2B1C6",
             "gridcolor": "#506784",
             "linecolor": "#506784",
             "minorgridcolor": "#506784",
             "startlinecolor": "#A2B1C6"
            },
            "type": "carpet"
           }
          ],
          "choropleth": [
           {
            "colorbar": {
             "outlinewidth": 0,
             "ticks": ""
            },
            "type": "choropleth"
           }
          ],
          "contour": [
           {
            "colorbar": {
             "outlinewidth": 0,
             "ticks": ""
            },
            "colorscale": [
             [
              0,
              "#0d0887"
             ],
             [
              0.1111111111111111,
              "#46039f"
             ],
             [
              0.2222222222222222,
              "#7201a8"
             ],
             [
              0.3333333333333333,
              "#9c179e"
             ],
             [
              0.4444444444444444,
              "#bd3786"
             ],
             [
              0.5555555555555556,
              "#d8576b"
             ],
             [
              0.6666666666666666,
              "#ed7953"
             ],
             [
              0.7777777777777778,
              "#fb9f3a"
             ],
             [
              0.8888888888888888,
              "#fdca26"
             ],
             [
              1,
              "#f0f921"
             ]
            ],
            "type": "contour"
           }
          ],
          "contourcarpet": [
           {
            "colorbar": {
             "outlinewidth": 0,
             "ticks": ""
            },
            "type": "contourcarpet"
           }
          ],
          "heatmap": [
           {
            "colorbar": {
             "outlinewidth": 0,
             "ticks": ""
            },
            "colorscale": [
             [
              0,
              "#0d0887"
             ],
             [
              0.1111111111111111,
              "#46039f"
             ],
             [
              0.2222222222222222,
              "#7201a8"
             ],
             [
              0.3333333333333333,
              "#9c179e"
             ],
             [
              0.4444444444444444,
              "#bd3786"
             ],
             [
              0.5555555555555556,
              "#d8576b"
             ],
             [
              0.6666666666666666,
              "#ed7953"
             ],
             [
              0.7777777777777778,
              "#fb9f3a"
             ],
             [
              0.8888888888888888,
              "#fdca26"
             ],
             [
              1,
              "#f0f921"
             ]
            ],
            "type": "heatmap"
           }
          ],
          "heatmapgl": [
           {
            "colorbar": {
             "outlinewidth": 0,
             "ticks": ""
            },
            "colorscale": [
             [
              0,
              "#0d0887"
             ],
             [
              0.1111111111111111,
              "#46039f"
             ],
             [
              0.2222222222222222,
              "#7201a8"
             ],
             [
              0.3333333333333333,
              "#9c179e"
             ],
             [
              0.4444444444444444,
              "#bd3786"
             ],
             [
              0.5555555555555556,
              "#d8576b"
             ],
             [
              0.6666666666666666,
              "#ed7953"
             ],
             [
              0.7777777777777778,
              "#fb9f3a"
             ],
             [
              0.8888888888888888,
              "#fdca26"
             ],
             [
              1,
              "#f0f921"
             ]
            ],
            "type": "heatmapgl"
           }
          ],
          "histogram": [
           {
            "marker": {
             "pattern": {
              "fillmode": "overlay",
              "size": 10,
              "solidity": 0.2
             }
            },
            "type": "histogram"
           }
          ],
          "histogram2d": [
           {
            "colorbar": {
             "outlinewidth": 0,
             "ticks": ""
            },
            "colorscale": [
             [
              0,
              "#0d0887"
             ],
             [
              0.1111111111111111,
              "#46039f"
             ],
             [
              0.2222222222222222,
              "#7201a8"
             ],
             [
              0.3333333333333333,
              "#9c179e"
             ],
             [
              0.4444444444444444,
              "#bd3786"
             ],
             [
              0.5555555555555556,
              "#d8576b"
             ],
             [
              0.6666666666666666,
              "#ed7953"
             ],
             [
              0.7777777777777778,
              "#fb9f3a"
             ],
             [
              0.8888888888888888,
              "#fdca26"
             ],
             [
              1,
              "#f0f921"
             ]
            ],
            "type": "histogram2d"
           }
          ],
          "histogram2dcontour": [
           {
            "colorbar": {
             "outlinewidth": 0,
             "ticks": ""
            },
            "colorscale": [
             [
              0,
              "#0d0887"
             ],
             [
              0.1111111111111111,
              "#46039f"
             ],
             [
              0.2222222222222222,
              "#7201a8"
             ],
             [
              0.3333333333333333,
              "#9c179e"
             ],
             [
              0.4444444444444444,
              "#bd3786"
             ],
             [
              0.5555555555555556,
              "#d8576b"
             ],
             [
              0.6666666666666666,
              "#ed7953"
             ],
             [
              0.7777777777777778,
              "#fb9f3a"
             ],
             [
              0.8888888888888888,
              "#fdca26"
             ],
             [
              1,
              "#f0f921"
             ]
            ],
            "type": "histogram2dcontour"
           }
          ],
          "mesh3d": [
           {
            "colorbar": {
             "outlinewidth": 0,
             "ticks": ""
            },
            "type": "mesh3d"
           }
          ],
          "parcoords": [
           {
            "line": {
             "colorbar": {
              "outlinewidth": 0,
              "ticks": ""
             }
            },
            "type": "parcoords"
           }
          ],
          "pie": [
           {
            "automargin": true,
            "type": "pie"
           }
          ],
          "scatter": [
           {
            "marker": {
             "line": {
              "color": "#283442"
             }
            },
            "type": "scatter"
           }
          ],
          "scatter3d": [
           {
            "line": {
             "colorbar": {
              "outlinewidth": 0,
              "ticks": ""
             }
            },
            "marker": {
             "colorbar": {
              "outlinewidth": 0,
              "ticks": ""
             }
            },
            "type": "scatter3d"
           }
          ],
          "scattercarpet": [
           {
            "marker": {
             "colorbar": {
              "outlinewidth": 0,
              "ticks": ""
             }
            },
            "type": "scattercarpet"
           }
          ],
          "scattergeo": [
           {
            "marker": {
             "colorbar": {
              "outlinewidth": 0,
              "ticks": ""
             }
            },
            "type": "scattergeo"
           }
          ],
          "scattergl": [
           {
            "marker": {
             "line": {
              "color": "#283442"
             }
            },
            "type": "scattergl"
           }
          ],
          "scattermapbox": [
           {
            "marker": {
             "colorbar": {
              "outlinewidth": 0,
              "ticks": ""
             }
            },
            "type": "scattermapbox"
           }
          ],
          "scatterpolar": [
           {
            "marker": {
             "colorbar": {
              "outlinewidth": 0,
              "ticks": ""
             }
            },
            "type": "scatterpolar"
           }
          ],
          "scatterpolargl": [
           {
            "marker": {
             "colorbar": {
              "outlinewidth": 0,
              "ticks": ""
             }
            },
            "type": "scatterpolargl"
           }
          ],
          "scatterternary": [
           {
            "marker": {
             "colorbar": {
              "outlinewidth": 0,
              "ticks": ""
             }
            },
            "type": "scatterternary"
           }
          ],
          "surface": [
           {
            "colorbar": {
             "outlinewidth": 0,
             "ticks": ""
            },
            "colorscale": [
             [
              0,
              "#0d0887"
             ],
             [
              0.1111111111111111,
              "#46039f"
             ],
             [
              0.2222222222222222,
              "#7201a8"
             ],
             [
              0.3333333333333333,
              "#9c179e"
             ],
             [
              0.4444444444444444,
              "#bd3786"
             ],
             [
              0.5555555555555556,
              "#d8576b"
             ],
             [
              0.6666666666666666,
              "#ed7953"
             ],
             [
              0.7777777777777778,
              "#fb9f3a"
             ],
             [
              0.8888888888888888,
              "#fdca26"
             ],
             [
              1,
              "#f0f921"
             ]
            ],
            "type": "surface"
           }
          ],
          "table": [
           {
            "cells": {
             "fill": {
              "color": "#506784"
             },
             "line": {
              "color": "rgb(17,17,17)"
             }
            },
            "header": {
             "fill": {
              "color": "#2a3f5f"
             },
             "line": {
              "color": "rgb(17,17,17)"
             }
            },
            "type": "table"
           }
          ]
         },
         "layout": {
          "annotationdefaults": {
           "arrowcolor": "#f2f5fa",
           "arrowhead": 0,
           "arrowwidth": 1
          },
          "autotypenumbers": "strict",
          "coloraxis": {
           "colorbar": {
            "outlinewidth": 0,
            "ticks": ""
           }
          },
          "colorscale": {
           "diverging": [
            [
             0,
             "#8e0152"
            ],
            [
             0.1,
             "#c51b7d"
            ],
            [
             0.2,
             "#de77ae"
            ],
            [
             0.3,
             "#f1b6da"
            ],
            [
             0.4,
             "#fde0ef"
            ],
            [
             0.5,
             "#f7f7f7"
            ],
            [
             0.6,
             "#e6f5d0"
            ],
            [
             0.7,
             "#b8e186"
            ],
            [
             0.8,
             "#7fbc41"
            ],
            [
             0.9,
             "#4d9221"
            ],
            [
             1,
             "#276419"
            ]
           ],
           "sequential": [
            [
             0,
             "#0d0887"
            ],
            [
             0.1111111111111111,
             "#46039f"
            ],
            [
             0.2222222222222222,
             "#7201a8"
            ],
            [
             0.3333333333333333,
             "#9c179e"
            ],
            [
             0.4444444444444444,
             "#bd3786"
            ],
            [
             0.5555555555555556,
             "#d8576b"
            ],
            [
             0.6666666666666666,
             "#ed7953"
            ],
            [
             0.7777777777777778,
             "#fb9f3a"
            ],
            [
             0.8888888888888888,
             "#fdca26"
            ],
            [
             1,
             "#f0f921"
            ]
           ],
           "sequentialminus": [
            [
             0,
             "#0d0887"
            ],
            [
             0.1111111111111111,
             "#46039f"
            ],
            [
             0.2222222222222222,
             "#7201a8"
            ],
            [
             0.3333333333333333,
             "#9c179e"
            ],
            [
             0.4444444444444444,
             "#bd3786"
            ],
            [
             0.5555555555555556,
             "#d8576b"
            ],
            [
             0.6666666666666666,
             "#ed7953"
            ],
            [
             0.7777777777777778,
             "#fb9f3a"
            ],
            [
             0.8888888888888888,
             "#fdca26"
            ],
            [
             1,
             "#f0f921"
            ]
           ]
          },
          "colorway": [
           "#636efa",
           "#EF553B",
           "#00cc96",
           "#ab63fa",
           "#FFA15A",
           "#19d3f3",
           "#FF6692",
           "#B6E880",
           "#FF97FF",
           "#FECB52"
          ],
          "font": {
           "color": "#f2f5fa"
          },
          "geo": {
           "bgcolor": "rgb(17,17,17)",
           "lakecolor": "rgb(17,17,17)",
           "landcolor": "rgb(17,17,17)",
           "showlakes": true,
           "showland": true,
           "subunitcolor": "#506784"
          },
          "hoverlabel": {
           "align": "left"
          },
          "hovermode": "closest",
          "mapbox": {
           "style": "dark"
          },
          "paper_bgcolor": "rgb(17,17,17)",
          "plot_bgcolor": "rgb(17,17,17)",
          "polar": {
           "angularaxis": {
            "gridcolor": "#506784",
            "linecolor": "#506784",
            "ticks": ""
           },
           "bgcolor": "rgb(17,17,17)",
           "radialaxis": {
            "gridcolor": "#506784",
            "linecolor": "#506784",
            "ticks": ""
           }
          },
          "scene": {
           "xaxis": {
            "backgroundcolor": "rgb(17,17,17)",
            "gridcolor": "#506784",
            "gridwidth": 2,
            "linecolor": "#506784",
            "showbackground": true,
            "ticks": "",
            "zerolinecolor": "#C8D4E3"
           },
           "yaxis": {
            "backgroundcolor": "rgb(17,17,17)",
            "gridcolor": "#506784",
            "gridwidth": 2,
            "linecolor": "#506784",
            "showbackground": true,
            "ticks": "",
            "zerolinecolor": "#C8D4E3"
           },
           "zaxis": {
            "backgroundcolor": "rgb(17,17,17)",
            "gridcolor": "#506784",
            "gridwidth": 2,
            "linecolor": "#506784",
            "showbackground": true,
            "ticks": "",
            "zerolinecolor": "#C8D4E3"
           }
          },
          "shapedefaults": {
           "line": {
            "color": "#f2f5fa"
           }
          },
          "sliderdefaults": {
           "bgcolor": "#C8D4E3",
           "bordercolor": "rgb(17,17,17)",
           "borderwidth": 1,
           "tickwidth": 0
          },
          "ternary": {
           "aaxis": {
            "gridcolor": "#506784",
            "linecolor": "#506784",
            "ticks": ""
           },
           "baxis": {
            "gridcolor": "#506784",
            "linecolor": "#506784",
            "ticks": ""
           },
           "bgcolor": "rgb(17,17,17)",
           "caxis": {
            "gridcolor": "#506784",
            "linecolor": "#506784",
            "ticks": ""
           }
          },
          "title": {
           "x": 0.05
          },
          "updatemenudefaults": {
           "bgcolor": "#506784",
           "borderwidth": 0
          },
          "xaxis": {
           "automargin": true,
           "gridcolor": "#283442",
           "linecolor": "#506784",
           "ticks": "",
           "title": {
            "standoff": 15
           },
           "zerolinecolor": "#283442",
           "zerolinewidth": 2
          },
          "yaxis": {
           "automargin": true,
           "gridcolor": "#283442",
           "linecolor": "#506784",
           "ticks": "",
           "title": {
            "standoff": 15
           },
           "zerolinecolor": "#283442",
           "zerolinewidth": 2
          }
         }
        },
        "title": {
         "text": "Boxplot of Numerical Variables"
        },
        "xaxis": {
         "anchor": "y",
         "domain": [
          0,
          0.2888888888888889
         ]
        },
        "xaxis10": {
         "anchor": "y10",
         "domain": [
          0,
          0.2888888888888889
         ]
        },
        "xaxis11": {
         "anchor": "y11",
         "domain": [
          0.35555555555555557,
          0.6444444444444445
         ]
        },
        "xaxis12": {
         "anchor": "y12",
         "domain": [
          0.7111111111111111,
          1
         ]
        },
        "xaxis13": {
         "anchor": "y13",
         "domain": [
          0,
          0.2888888888888889
         ]
        },
        "xaxis14": {
         "anchor": "y14",
         "domain": [
          0.35555555555555557,
          0.6444444444444445
         ]
        },
        "xaxis15": {
         "anchor": "y15",
         "domain": [
          0.7111111111111111,
          1
         ]
        },
        "xaxis16": {
         "anchor": "y16",
         "domain": [
          0,
          0.2888888888888889
         ]
        },
        "xaxis17": {
         "anchor": "y17",
         "domain": [
          0.35555555555555557,
          0.6444444444444445
         ]
        },
        "xaxis18": {
         "anchor": "y18",
         "domain": [
          0.7111111111111111,
          1
         ]
        },
        "xaxis19": {
         "anchor": "y19",
         "domain": [
          0,
          0.2888888888888889
         ]
        },
        "xaxis2": {
         "anchor": "y2",
         "domain": [
          0.35555555555555557,
          0.6444444444444445
         ]
        },
        "xaxis20": {
         "anchor": "y20",
         "domain": [
          0.35555555555555557,
          0.6444444444444445
         ]
        },
        "xaxis21": {
         "anchor": "y21",
         "domain": [
          0.7111111111111111,
          1
         ]
        },
        "xaxis22": {
         "anchor": "y22",
         "domain": [
          0,
          0.2888888888888889
         ]
        },
        "xaxis23": {
         "anchor": "y23",
         "domain": [
          0.35555555555555557,
          0.6444444444444445
         ]
        },
        "xaxis24": {
         "anchor": "y24",
         "domain": [
          0.7111111111111111,
          1
         ]
        },
        "xaxis25": {
         "anchor": "y25",
         "domain": [
          0,
          0.2888888888888889
         ]
        },
        "xaxis26": {
         "anchor": "y26",
         "domain": [
          0.35555555555555557,
          0.6444444444444445
         ]
        },
        "xaxis27": {
         "anchor": "y27",
         "domain": [
          0.7111111111111111,
          1
         ]
        },
        "xaxis28": {
         "anchor": "y28",
         "domain": [
          0,
          0.2888888888888889
         ]
        },
        "xaxis29": {
         "anchor": "y29",
         "domain": [
          0.35555555555555557,
          0.6444444444444445
         ]
        },
        "xaxis3": {
         "anchor": "y3",
         "domain": [
          0.7111111111111111,
          1
         ]
        },
        "xaxis30": {
         "anchor": "y30",
         "domain": [
          0.7111111111111111,
          1
         ]
        },
        "xaxis31": {
         "anchor": "y31",
         "domain": [
          0,
          0.2888888888888889
         ]
        },
        "xaxis32": {
         "anchor": "y32",
         "domain": [
          0.35555555555555557,
          0.6444444444444445
         ]
        },
        "xaxis33": {
         "anchor": "y33",
         "domain": [
          0.7111111111111111,
          1
         ]
        },
        "xaxis34": {
         "anchor": "y34",
         "domain": [
          0,
          0.2888888888888889
         ]
        },
        "xaxis35": {
         "anchor": "y35",
         "domain": [
          0.35555555555555557,
          0.6444444444444445
         ]
        },
        "xaxis36": {
         "anchor": "y36",
         "domain": [
          0.7111111111111111,
          1
         ]
        },
        "xaxis37": {
         "anchor": "y37",
         "domain": [
          0,
          0.2888888888888889
         ]
        },
        "xaxis38": {
         "anchor": "y38",
         "domain": [
          0.35555555555555557,
          0.6444444444444445
         ]
        },
        "xaxis39": {
         "anchor": "y39",
         "domain": [
          0.7111111111111111,
          1
         ]
        },
        "xaxis4": {
         "anchor": "y4",
         "domain": [
          0,
          0.2888888888888889
         ]
        },
        "xaxis5": {
         "anchor": "y5",
         "domain": [
          0.35555555555555557,
          0.6444444444444445
         ]
        },
        "xaxis6": {
         "anchor": "y6",
         "domain": [
          0.7111111111111111,
          1
         ]
        },
        "xaxis7": {
         "anchor": "y7",
         "domain": [
          0,
          0.2888888888888889
         ]
        },
        "xaxis8": {
         "anchor": "y8",
         "domain": [
          0.35555555555555557,
          0.6444444444444445
         ]
        },
        "xaxis9": {
         "anchor": "y9",
         "domain": [
          0.7111111111111111,
          1
         ]
        },
        "yaxis": {
         "anchor": "x",
         "domain": [
          0.9585798816568047,
          1
         ]
        },
        "yaxis10": {
         "anchor": "x10",
         "domain": [
          0.7189349112426036,
          0.7603550295857988
         ]
        },
        "yaxis11": {
         "anchor": "x11",
         "domain": [
          0.7189349112426036,
          0.7603550295857988
         ]
        },
        "yaxis12": {
         "anchor": "x12",
         "domain": [
          0.7189349112426036,
          0.7603550295857988
         ]
        },
        "yaxis13": {
         "anchor": "x13",
         "domain": [
          0.6390532544378698,
          0.680473372781065
         ]
        },
        "yaxis14": {
         "anchor": "x14",
         "domain": [
          0.6390532544378698,
          0.680473372781065
         ]
        },
        "yaxis15": {
         "anchor": "x15",
         "domain": [
          0.6390532544378698,
          0.680473372781065
         ]
        },
        "yaxis16": {
         "anchor": "x16",
         "domain": [
          0.5591715976331362,
          0.6005917159763314
         ]
        },
        "yaxis17": {
         "anchor": "x17",
         "domain": [
          0.5591715976331362,
          0.6005917159763314
         ]
        },
        "yaxis18": {
         "anchor": "x18",
         "domain": [
          0.5591715976331362,
          0.6005917159763314
         ]
        },
        "yaxis19": {
         "anchor": "x19",
         "domain": [
          0.47928994082840237,
          0.5207100591715976
         ]
        },
        "yaxis2": {
         "anchor": "x2",
         "domain": [
          0.9585798816568047,
          1
         ]
        },
        "yaxis20": {
         "anchor": "x20",
         "domain": [
          0.47928994082840237,
          0.5207100591715976
         ]
        },
        "yaxis21": {
         "anchor": "x21",
         "domain": [
          0.47928994082840237,
          0.5207100591715976
         ]
        },
        "yaxis22": {
         "anchor": "x22",
         "domain": [
          0.3994082840236686,
          0.4408284023668639
         ]
        },
        "yaxis23": {
         "anchor": "x23",
         "domain": [
          0.3994082840236686,
          0.4408284023668639
         ]
        },
        "yaxis24": {
         "anchor": "x24",
         "domain": [
          0.3994082840236686,
          0.4408284023668639
         ]
        },
        "yaxis25": {
         "anchor": "x25",
         "domain": [
          0.3195266272189349,
          0.36094674556213013
         ]
        },
        "yaxis26": {
         "anchor": "x26",
         "domain": [
          0.3195266272189349,
          0.36094674556213013
         ]
        },
        "yaxis27": {
         "anchor": "x27",
         "domain": [
          0.3195266272189349,
          0.36094674556213013
         ]
        },
        "yaxis28": {
         "anchor": "x28",
         "domain": [
          0.23964497041420119,
          0.28106508875739644
         ]
        },
        "yaxis29": {
         "anchor": "x29",
         "domain": [
          0.23964497041420119,
          0.28106508875739644
         ]
        },
        "yaxis3": {
         "anchor": "x3",
         "domain": [
          0.9585798816568047,
          1
         ]
        },
        "yaxis30": {
         "anchor": "x30",
         "domain": [
          0.23964497041420119,
          0.28106508875739644
         ]
        },
        "yaxis31": {
         "anchor": "x31",
         "domain": [
          0.15976331360946744,
          0.2011834319526627
         ]
        },
        "yaxis32": {
         "anchor": "x32",
         "domain": [
          0.15976331360946744,
          0.2011834319526627
         ]
        },
        "yaxis33": {
         "anchor": "x33",
         "domain": [
          0.15976331360946744,
          0.2011834319526627
         ]
        },
        "yaxis34": {
         "anchor": "x34",
         "domain": [
          0.07988165680473372,
          0.12130177514792898
         ]
        },
        "yaxis35": {
         "anchor": "x35",
         "domain": [
          0.07988165680473372,
          0.12130177514792898
         ]
        },
        "yaxis36": {
         "anchor": "x36",
         "domain": [
          0.07988165680473372,
          0.12130177514792898
         ]
        },
        "yaxis37": {
         "anchor": "x37",
         "domain": [
          0,
          0.04142011834319526
         ]
        },
        "yaxis38": {
         "anchor": "x38",
         "domain": [
          0,
          0.04142011834319526
         ]
        },
        "yaxis39": {
         "anchor": "x39",
         "domain": [
          0,
          0.04142011834319526
         ]
        },
        "yaxis4": {
         "anchor": "x4",
         "domain": [
          0.8786982248520709,
          0.9201183431952662
         ]
        },
        "yaxis5": {
         "anchor": "x5",
         "domain": [
          0.8786982248520709,
          0.9201183431952662
         ]
        },
        "yaxis6": {
         "anchor": "x6",
         "domain": [
          0.8786982248520709,
          0.9201183431952662
         ]
        },
        "yaxis7": {
         "anchor": "x7",
         "domain": [
          0.7988165680473372,
          0.8402366863905325
         ]
        },
        "yaxis8": {
         "anchor": "x8",
         "domain": [
          0.7988165680473372,
          0.8402366863905325
         ]
        },
        "yaxis9": {
         "anchor": "x9",
         "domain": [
          0.7988165680473372,
          0.8402366863905325
         ]
        }
       }
      }
     },
     "metadata": {},
     "output_type": "display_data"
    }
   ],
   "source": [
    "df_top_companies_cols_num = df_top_companies.select_dtypes(include= ['number', 'float64'])\n",
    "\n",
    "top_companies_cols = df_top_companies_cols_num.columns\n",
    "num_columns = len(top_companies_cols)\n",
    "num_rows = (num_columns + 2) // 3\n",
    "\n",
    "subplot_titles = [str(col) for col in top_companies_cols]\n",
    "\n",
    "fig = sp.make_subplots(rows=num_rows, cols=3, subplot_titles=subplot_titles)\n",
    "\n",
    "for i, column in enumerate(top_companies_cols, start=1):\n",
    "    row = (i - 1) // 3 + 1\n",
    "    col = (i - 1) % 3 + 1\n",
    "\n",
    "    trace = go.Box(y=df_top_companies[column], name=column, \n",
    "                   marker_color='lightseagreen', boxpoints='outliers', \n",
    "                   jitter=0.7, hoverinfo='y+text', \n",
    "                   text=(df_top_companies['ticker']+ ' - ' + df_top_companies['long_name']))\n",
    "\n",
    "    fig.add_trace(trace, row=row, col=col)\n",
    "\n",
    "fig.update_layout(title_text='Boxplot of Numerical Variables', height=300*num_rows, showlegend=False, template='plotly_dark')\n",
    "fig.show()"
   ]
  },
  {
   "cell_type": "markdown",
   "metadata": {},
   "source": [
    "**Petróleo Brasileiro S.A. - Petrobras: (PETR3.SA)**\n",
    "\n",
    "- **`market_cap`**:  Petrobras has an atypical market capitalization of **R$ 483,211,900,000**, reflecting its significant size in the energy sector.\n",
    "- **`total_revenue`**: **R$ 581.563 billion**. This metric reflects the total amount of revenue generated by Petrobras in its financial operations.\n",
    "- **`dividend_rate`**: The dividend rate of Petrobras at **9.28%** of the current stock value is relatively high, which may be seen as positive for investors seeking to receive significant dividends.\n",
    "- **``**\n",
    "- **`trailing_annual_dividend_rate`**: O valor incomum de **9.65%** para a Petrobras pode ser considerado um outlier, indicando uma taxa de dividendos significativamente alta em comparação com outras empresas.\n",
    "- **`trailing_annual_dividend_yield`**: The value of **0.24%** for Petrobras does not appear to be an outlier, as it represents a dividend rate relative to the stock price within a reasonable range when compared to other companies in the same sector.\n",
    "- **`gross_profits`**: The field is **R$ 334.1 billion**, representing the company's total revenue before the deduction of operating expenses, taxes, and other charges.\n",
    "- **`roce`**: Return on Capital Employed is **0.38171**, indicating the company's efficiency in generating a return on invested capital. The higher the value, the better the efficiency in using its financial resources.\n",
    "\n",
    "**Itaúsa S.A. (ITSA4.SA)**\n",
    "\n",
    "- **`profit_margins`**:The field for Itaúsa represents the company's profit margin, which is **1.69976%**. This metric indicates the percentage of profit earned by Itaúsa in relation to its total revenue. That margin could be considered relatively low.\n",
    "- **`price_to_sales_trailing_12_months`**: The value of 11.09017 for Itaúsa indicates that the market is willing to pay **11.09x**  the company's sales revenue over the past 12 months for each share, which may reflect optimism regarding the company's financial performance.\n",
    "\n",
    "**Banco BTG Pactual S.A. (BPAC5.SA)**\n",
    "\n",
    "- **`beta`**:The beta value of 1.291 for Banco BTG Pactual S.A. indicates a relatively high level of volatility in its shares in relation to the market."
   ]
  },
  {
   "cell_type": "code",
   "execution_count": 41,
   "metadata": {},
   "outputs": [
    {
     "data": {
      "application/vnd.plotly.v1+json": {
       "config": {
        "plotlyServerURL": "https://plot.ly"
       },
       "data": [
        {
         "alignmentgroup": "True",
         "hovertemplate": "Tipo de Margem=profit_margins<br>long_name=%{x}<br>Margem=%{y}<extra></extra>",
         "legendgroup": "profit_margins",
         "marker": {
          "color": "#636efa",
          "pattern": {
           "shape": ""
          }
         },
         "name": "profit_margins",
         "offsetgroup": "profit_margins",
         "orientation": "v",
         "showlegend": true,
         "textposition": "auto",
         "type": "bar",
         "x": [
          "Petróleo Brasileiro S.A. - Petrobras",
          "Vale S.A.",
          "Itaú Unibanco Holding S.A.",
          "Ambev S.A.",
          "Banco BTG Pactual S.A.",
          "Banco Bradesco S.A.",
          "Banco do Brasil S.A.",
          "WEG S.A.",
          "Itaúsa S.A.",
          "Centrais Elétricas Brasileiras S.A. - Eletrobrás",
          "Telefônica Brasil S.A."
         ],
         "xaxis": "x",
         "y": [
          0.26889,
          0.27585,
          0.26661,
          0.17263001,
          0.30291998,
          0.20718001,
          0.3483,
          0.15827,
          1.69976,
          0.04797,
          0.08991
         ],
         "yaxis": "y"
        },
        {
         "alignmentgroup": "True",
         "hovertemplate": "Tipo de Margem=operating_margins<br>long_name=%{x}<br>Margem=%{y}<extra></extra>",
         "legendgroup": "operating_margins",
         "marker": {
          "color": "#EF553B",
          "pattern": {
           "shape": ""
          }
         },
         "name": "operating_margins",
         "offsetgroup": "operating_margins",
         "orientation": "v",
         "showlegend": true,
         "textposition": "auto",
         "type": "bar",
         "x": [
          "Petróleo Brasileiro S.A. - Petrobras",
          "Vale S.A.",
          "Itaú Unibanco Holding S.A.",
          "Ambev S.A.",
          "Banco BTG Pactual S.A.",
          "Banco Bradesco S.A.",
          "Banco do Brasil S.A.",
          "WEG S.A.",
          "Itaúsa S.A.",
          "Centrais Elétricas Brasileiras S.A. - Eletrobrás",
          "Telefônica Brasil S.A."
         ],
         "xaxis": "x",
         "y": [
          0.39067,
          0.33672002,
          0.35896,
          0.18666,
          0.3496,
          0.22323999,
          0.45908,
          0.20575,
          0.20113,
          0.42603,
          0.16545
         ],
         "yaxis": "y"
        }
       ],
       "layout": {
        "barmode": "group",
        "legend": {
         "title": {
          "text": "Tipo de Margem"
         },
         "tracegroupgap": 0
        },
        "template": {
         "data": {
          "bar": [
           {
            "error_x": {
             "color": "#2a3f5f"
            },
            "error_y": {
             "color": "#2a3f5f"
            },
            "marker": {
             "line": {
              "color": "#E5ECF6",
              "width": 0.5
             },
             "pattern": {
              "fillmode": "overlay",
              "size": 10,
              "solidity": 0.2
             }
            },
            "type": "bar"
           }
          ],
          "barpolar": [
           {
            "marker": {
             "line": {
              "color": "#E5ECF6",
              "width": 0.5
             },
             "pattern": {
              "fillmode": "overlay",
              "size": 10,
              "solidity": 0.2
             }
            },
            "type": "barpolar"
           }
          ],
          "carpet": [
           {
            "aaxis": {
             "endlinecolor": "#2a3f5f",
             "gridcolor": "white",
             "linecolor": "white",
             "minorgridcolor": "white",
             "startlinecolor": "#2a3f5f"
            },
            "baxis": {
             "endlinecolor": "#2a3f5f",
             "gridcolor": "white",
             "linecolor": "white",
             "minorgridcolor": "white",
             "startlinecolor": "#2a3f5f"
            },
            "type": "carpet"
           }
          ],
          "choropleth": [
           {
            "colorbar": {
             "outlinewidth": 0,
             "ticks": ""
            },
            "type": "choropleth"
           }
          ],
          "contour": [
           {
            "colorbar": {
             "outlinewidth": 0,
             "ticks": ""
            },
            "colorscale": [
             [
              0,
              "#0d0887"
             ],
             [
              0.1111111111111111,
              "#46039f"
             ],
             [
              0.2222222222222222,
              "#7201a8"
             ],
             [
              0.3333333333333333,
              "#9c179e"
             ],
             [
              0.4444444444444444,
              "#bd3786"
             ],
             [
              0.5555555555555556,
              "#d8576b"
             ],
             [
              0.6666666666666666,
              "#ed7953"
             ],
             [
              0.7777777777777778,
              "#fb9f3a"
             ],
             [
              0.8888888888888888,
              "#fdca26"
             ],
             [
              1,
              "#f0f921"
             ]
            ],
            "type": "contour"
           }
          ],
          "contourcarpet": [
           {
            "colorbar": {
             "outlinewidth": 0,
             "ticks": ""
            },
            "type": "contourcarpet"
           }
          ],
          "heatmap": [
           {
            "colorbar": {
             "outlinewidth": 0,
             "ticks": ""
            },
            "colorscale": [
             [
              0,
              "#0d0887"
             ],
             [
              0.1111111111111111,
              "#46039f"
             ],
             [
              0.2222222222222222,
              "#7201a8"
             ],
             [
              0.3333333333333333,
              "#9c179e"
             ],
             [
              0.4444444444444444,
              "#bd3786"
             ],
             [
              0.5555555555555556,
              "#d8576b"
             ],
             [
              0.6666666666666666,
              "#ed7953"
             ],
             [
              0.7777777777777778,
              "#fb9f3a"
             ],
             [
              0.8888888888888888,
              "#fdca26"
             ],
             [
              1,
              "#f0f921"
             ]
            ],
            "type": "heatmap"
           }
          ],
          "heatmapgl": [
           {
            "colorbar": {
             "outlinewidth": 0,
             "ticks": ""
            },
            "colorscale": [
             [
              0,
              "#0d0887"
             ],
             [
              0.1111111111111111,
              "#46039f"
             ],
             [
              0.2222222222222222,
              "#7201a8"
             ],
             [
              0.3333333333333333,
              "#9c179e"
             ],
             [
              0.4444444444444444,
              "#bd3786"
             ],
             [
              0.5555555555555556,
              "#d8576b"
             ],
             [
              0.6666666666666666,
              "#ed7953"
             ],
             [
              0.7777777777777778,
              "#fb9f3a"
             ],
             [
              0.8888888888888888,
              "#fdca26"
             ],
             [
              1,
              "#f0f921"
             ]
            ],
            "type": "heatmapgl"
           }
          ],
          "histogram": [
           {
            "marker": {
             "pattern": {
              "fillmode": "overlay",
              "size": 10,
              "solidity": 0.2
             }
            },
            "type": "histogram"
           }
          ],
          "histogram2d": [
           {
            "colorbar": {
             "outlinewidth": 0,
             "ticks": ""
            },
            "colorscale": [
             [
              0,
              "#0d0887"
             ],
             [
              0.1111111111111111,
              "#46039f"
             ],
             [
              0.2222222222222222,
              "#7201a8"
             ],
             [
              0.3333333333333333,
              "#9c179e"
             ],
             [
              0.4444444444444444,
              "#bd3786"
             ],
             [
              0.5555555555555556,
              "#d8576b"
             ],
             [
              0.6666666666666666,
              "#ed7953"
             ],
             [
              0.7777777777777778,
              "#fb9f3a"
             ],
             [
              0.8888888888888888,
              "#fdca26"
             ],
             [
              1,
              "#f0f921"
             ]
            ],
            "type": "histogram2d"
           }
          ],
          "histogram2dcontour": [
           {
            "colorbar": {
             "outlinewidth": 0,
             "ticks": ""
            },
            "colorscale": [
             [
              0,
              "#0d0887"
             ],
             [
              0.1111111111111111,
              "#46039f"
             ],
             [
              0.2222222222222222,
              "#7201a8"
             ],
             [
              0.3333333333333333,
              "#9c179e"
             ],
             [
              0.4444444444444444,
              "#bd3786"
             ],
             [
              0.5555555555555556,
              "#d8576b"
             ],
             [
              0.6666666666666666,
              "#ed7953"
             ],
             [
              0.7777777777777778,
              "#fb9f3a"
             ],
             [
              0.8888888888888888,
              "#fdca26"
             ],
             [
              1,
              "#f0f921"
             ]
            ],
            "type": "histogram2dcontour"
           }
          ],
          "mesh3d": [
           {
            "colorbar": {
             "outlinewidth": 0,
             "ticks": ""
            },
            "type": "mesh3d"
           }
          ],
          "parcoords": [
           {
            "line": {
             "colorbar": {
              "outlinewidth": 0,
              "ticks": ""
             }
            },
            "type": "parcoords"
           }
          ],
          "pie": [
           {
            "automargin": true,
            "type": "pie"
           }
          ],
          "scatter": [
           {
            "fillpattern": {
             "fillmode": "overlay",
             "size": 10,
             "solidity": 0.2
            },
            "type": "scatter"
           }
          ],
          "scatter3d": [
           {
            "line": {
             "colorbar": {
              "outlinewidth": 0,
              "ticks": ""
             }
            },
            "marker": {
             "colorbar": {
              "outlinewidth": 0,
              "ticks": ""
             }
            },
            "type": "scatter3d"
           }
          ],
          "scattercarpet": [
           {
            "marker": {
             "colorbar": {
              "outlinewidth": 0,
              "ticks": ""
             }
            },
            "type": "scattercarpet"
           }
          ],
          "scattergeo": [
           {
            "marker": {
             "colorbar": {
              "outlinewidth": 0,
              "ticks": ""
             }
            },
            "type": "scattergeo"
           }
          ],
          "scattergl": [
           {
            "marker": {
             "colorbar": {
              "outlinewidth": 0,
              "ticks": ""
             }
            },
            "type": "scattergl"
           }
          ],
          "scattermapbox": [
           {
            "marker": {
             "colorbar": {
              "outlinewidth": 0,
              "ticks": ""
             }
            },
            "type": "scattermapbox"
           }
          ],
          "scatterpolar": [
           {
            "marker": {
             "colorbar": {
              "outlinewidth": 0,
              "ticks": ""
             }
            },
            "type": "scatterpolar"
           }
          ],
          "scatterpolargl": [
           {
            "marker": {
             "colorbar": {
              "outlinewidth": 0,
              "ticks": ""
             }
            },
            "type": "scatterpolargl"
           }
          ],
          "scatterternary": [
           {
            "marker": {
             "colorbar": {
              "outlinewidth": 0,
              "ticks": ""
             }
            },
            "type": "scatterternary"
           }
          ],
          "surface": [
           {
            "colorbar": {
             "outlinewidth": 0,
             "ticks": ""
            },
            "colorscale": [
             [
              0,
              "#0d0887"
             ],
             [
              0.1111111111111111,
              "#46039f"
             ],
             [
              0.2222222222222222,
              "#7201a8"
             ],
             [
              0.3333333333333333,
              "#9c179e"
             ],
             [
              0.4444444444444444,
              "#bd3786"
             ],
             [
              0.5555555555555556,
              "#d8576b"
             ],
             [
              0.6666666666666666,
              "#ed7953"
             ],
             [
              0.7777777777777778,
              "#fb9f3a"
             ],
             [
              0.8888888888888888,
              "#fdca26"
             ],
             [
              1,
              "#f0f921"
             ]
            ],
            "type": "surface"
           }
          ],
          "table": [
           {
            "cells": {
             "fill": {
              "color": "#EBF0F8"
             },
             "line": {
              "color": "white"
             }
            },
            "header": {
             "fill": {
              "color": "#C8D4E3"
             },
             "line": {
              "color": "white"
             }
            },
            "type": "table"
           }
          ]
         },
         "layout": {
          "annotationdefaults": {
           "arrowcolor": "#2a3f5f",
           "arrowhead": 0,
           "arrowwidth": 1
          },
          "autotypenumbers": "strict",
          "coloraxis": {
           "colorbar": {
            "outlinewidth": 0,
            "ticks": ""
           }
          },
          "colorscale": {
           "diverging": [
            [
             0,
             "#8e0152"
            ],
            [
             0.1,
             "#c51b7d"
            ],
            [
             0.2,
             "#de77ae"
            ],
            [
             0.3,
             "#f1b6da"
            ],
            [
             0.4,
             "#fde0ef"
            ],
            [
             0.5,
             "#f7f7f7"
            ],
            [
             0.6,
             "#e6f5d0"
            ],
            [
             0.7,
             "#b8e186"
            ],
            [
             0.8,
             "#7fbc41"
            ],
            [
             0.9,
             "#4d9221"
            ],
            [
             1,
             "#276419"
            ]
           ],
           "sequential": [
            [
             0,
             "#0d0887"
            ],
            [
             0.1111111111111111,
             "#46039f"
            ],
            [
             0.2222222222222222,
             "#7201a8"
            ],
            [
             0.3333333333333333,
             "#9c179e"
            ],
            [
             0.4444444444444444,
             "#bd3786"
            ],
            [
             0.5555555555555556,
             "#d8576b"
            ],
            [
             0.6666666666666666,
             "#ed7953"
            ],
            [
             0.7777777777777778,
             "#fb9f3a"
            ],
            [
             0.8888888888888888,
             "#fdca26"
            ],
            [
             1,
             "#f0f921"
            ]
           ],
           "sequentialminus": [
            [
             0,
             "#0d0887"
            ],
            [
             0.1111111111111111,
             "#46039f"
            ],
            [
             0.2222222222222222,
             "#7201a8"
            ],
            [
             0.3333333333333333,
             "#9c179e"
            ],
            [
             0.4444444444444444,
             "#bd3786"
            ],
            [
             0.5555555555555556,
             "#d8576b"
            ],
            [
             0.6666666666666666,
             "#ed7953"
            ],
            [
             0.7777777777777778,
             "#fb9f3a"
            ],
            [
             0.8888888888888888,
             "#fdca26"
            ],
            [
             1,
             "#f0f921"
            ]
           ]
          },
          "colorway": [
           "#636efa",
           "#EF553B",
           "#00cc96",
           "#ab63fa",
           "#FFA15A",
           "#19d3f3",
           "#FF6692",
           "#B6E880",
           "#FF97FF",
           "#FECB52"
          ],
          "font": {
           "color": "#2a3f5f"
          },
          "geo": {
           "bgcolor": "white",
           "lakecolor": "white",
           "landcolor": "#E5ECF6",
           "showlakes": true,
           "showland": true,
           "subunitcolor": "white"
          },
          "hoverlabel": {
           "align": "left"
          },
          "hovermode": "closest",
          "mapbox": {
           "style": "light"
          },
          "paper_bgcolor": "white",
          "plot_bgcolor": "#E5ECF6",
          "polar": {
           "angularaxis": {
            "gridcolor": "white",
            "linecolor": "white",
            "ticks": ""
           },
           "bgcolor": "#E5ECF6",
           "radialaxis": {
            "gridcolor": "white",
            "linecolor": "white",
            "ticks": ""
           }
          },
          "scene": {
           "xaxis": {
            "backgroundcolor": "#E5ECF6",
            "gridcolor": "white",
            "gridwidth": 2,
            "linecolor": "white",
            "showbackground": true,
            "ticks": "",
            "zerolinecolor": "white"
           },
           "yaxis": {
            "backgroundcolor": "#E5ECF6",
            "gridcolor": "white",
            "gridwidth": 2,
            "linecolor": "white",
            "showbackground": true,
            "ticks": "",
            "zerolinecolor": "white"
           },
           "zaxis": {
            "backgroundcolor": "#E5ECF6",
            "gridcolor": "white",
            "gridwidth": 2,
            "linecolor": "white",
            "showbackground": true,
            "ticks": "",
            "zerolinecolor": "white"
           }
          },
          "shapedefaults": {
           "line": {
            "color": "#2a3f5f"
           }
          },
          "ternary": {
           "aaxis": {
            "gridcolor": "white",
            "linecolor": "white",
            "ticks": ""
           },
           "baxis": {
            "gridcolor": "white",
            "linecolor": "white",
            "ticks": ""
           },
           "bgcolor": "#E5ECF6",
           "caxis": {
            "gridcolor": "white",
            "linecolor": "white",
            "ticks": ""
           }
          },
          "title": {
           "x": 0.05
          },
          "xaxis": {
           "automargin": true,
           "gridcolor": "white",
           "linecolor": "white",
           "ticks": "",
           "title": {
            "standoff": 15
           },
           "zerolinecolor": "white",
           "zerolinewidth": 2
          },
          "yaxis": {
           "automargin": true,
           "gridcolor": "white",
           "linecolor": "white",
           "ticks": "",
           "title": {
            "standoff": 15
           },
           "zerolinecolor": "white",
           "zerolinewidth": 2
          }
         }
        },
        "title": {
         "text": "Margens de Lucro das Top 10 Empresas por Market Cap"
        },
        "xaxis": {
         "anchor": "y",
         "categoryorder": "total descending",
         "domain": [
          0,
          1
         ],
         "title": {
          "text": "Empresa"
         }
        },
        "yaxis": {
         "anchor": "x",
         "domain": [
          0,
          1
         ],
         "title": {
          "text": "Margem"
         }
        }
       }
      }
     },
     "metadata": {},
     "output_type": "display_data"
    }
   ],
   "source": [
    "fig = px.bar(top_companies, x='long_name', y=['profit_margins', 'operating_margins'],\n",
    "             title='Margens de Lucro das Top 10 Empresas por Market Cap',\n",
    "             labels={'value': 'Margem', 'variable': 'Tipo de Margem'},\n",
    "             barmode='group')\n",
    "\n",
    "fig.update_layout(xaxis={'categoryorder':'total descending'}, xaxis_title='Empresa', yaxis_title='Margem')\n",
    "fig.show()\n"
   ]
  }
 ],
 "metadata": {
  "kernelspec": {
   "display_name": "Python 3",
   "language": "python",
   "name": "python3"
  },
  "language_info": {
   "codemirror_mode": {
    "name": "ipython",
    "version": 3
   },
   "file_extension": ".py",
   "mimetype": "text/x-python",
   "name": "python",
   "nbconvert_exporter": "python",
   "pygments_lexer": "ipython3",
   "version": "3.11.5"
  }
 },
 "nbformat": 4,
 "nbformat_minor": 2
}
