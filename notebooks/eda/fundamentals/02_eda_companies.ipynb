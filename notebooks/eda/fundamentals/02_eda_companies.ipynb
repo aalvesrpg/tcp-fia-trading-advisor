{
 "cells": [
  {
   "cell_type": "markdown",
   "metadata": {},
   "source": [
    "# **Exploratory Data Analisys: Companies**"
   ]
  },
  {
   "cell_type": "markdown",
   "metadata": {},
   "source": [
    "In the notebook dedicated to the exploratory data analysis (EDA) of companies listed on B3, the filters are specifically designed to meet the needs of investors with a Buy and Hold strategy. These filters allow for better visualization and interpretation of data, facilitating the identification of companies that offer good long-term appreciation and stability, which is essential for this type of investment.\n",
    "\n",
    "Here are the fundamental metrics that are used to filter and assess the companies:\n",
    "\n",
    "- **`market_cap`**: to filter companies by their market capitalization, allowing the identification of companies with greater market stability and solidity.\n",
    "- **`dividend_rate`**: to select companies based on the dividend rate paid, which can be an indicator of consistent cash generation.\n",
    "- **`trailing_annual_dividend_yield`**: for companies based on past annual dividend yields, a metric that reflects profitability over the stock price.\n",
    "- **`debt_to_equity`**: to analyze the ratio between the company's total debt and its equity, which helps to understand the level of indebtedness and financial risk.\n",
    "- **`trailing_pe`**: (Price to Earnings) to compare the current stock price with the earnings per share over the last 12 months, a classic metric for evaluating the price-earnings ratio.\n",
    "- **`forward_pe`**: for projecting the stock price relative to expected earnings, providing a future estimate of the price-earnings ratio.\n",
    "- **`price_to_book`**: for comparison between the market value of the company and its book value, which can signal stocks traded below their net asset value.\n",
    "- **`earnings_quarterly_growth`**: to assess the company's earnings growth compared to the same quarter of the previous year, showing growth or decline trends.\n",
    "\n",
    "These columns would be at the core of Buy and Hold analysis, as they reflect the fundamental aspects long-term investors generally seek: sustainable growth, financial solidity, and dividend return. The \n",
    "visualization of data filtered by these columns offers clear and precise insights, making the investment analysis process more efficient and well-founded."
   ]
  },
  {
   "cell_type": "markdown",
   "metadata": {},
   "source": [
    "## **Initial Setup**"
   ]
  },
  {
   "cell_type": "markdown",
   "metadata": {},
   "source": [
    "### Install Packages"
   ]
  },
  {
   "cell_type": "code",
   "execution_count": null,
   "metadata": {},
   "outputs": [],
   "source": [
    "%pip install pandas -q\n",
    "%pip install plotly -q"
   ]
  },
  {
   "cell_type": "markdown",
   "metadata": {},
   "source": [
    "### Import libs"
   ]
  },
  {
   "cell_type": "code",
   "execution_count": 1,
   "metadata": {},
   "outputs": [],
   "source": [
    "import os\n",
    "import itertools\n",
    "import pandas as pd\n",
    "from pathlib import Path\n",
    "import plotly.express as px\n",
    "import plotly.graph_objects as go\n",
    "import plotly.subplots as sp"
   ]
  },
  {
   "cell_type": "markdown",
   "metadata": {},
   "source": [
    "### Pandas Config"
   ]
  },
  {
   "cell_type": "code",
   "execution_count": 2,
   "metadata": {},
   "outputs": [],
   "source": [
    "pd.set_option('display.max_columns', None)\n",
    "pd.set_option('display.max_rows', None)"
   ]
  },
  {
   "cell_type": "markdown",
   "metadata": {},
   "source": [
    "### Create a file path default"
   ]
  },
  {
   "cell_type": "code",
   "execution_count": 3,
   "metadata": {},
   "outputs": [],
   "source": [
    "file_path_book = str(Path(os.getcwd()).parent.parent.parent / \"data/book\")"
   ]
  },
  {
   "cell_type": "markdown",
   "metadata": {},
   "source": [
    "## Companies"
   ]
  },
  {
   "cell_type": "markdown",
   "metadata": {},
   "source": [
    "### Load data"
   ]
  },
  {
   "cell_type": "code",
   "execution_count": 4,
   "metadata": {},
   "outputs": [
    {
     "data": {
      "text/html": [
       "<div>\n",
       "<style scoped>\n",
       "    .dataframe tbody tr th:only-of-type {\n",
       "        vertical-align: middle;\n",
       "    }\n",
       "\n",
       "    .dataframe tbody tr th {\n",
       "        vertical-align: top;\n",
       "    }\n",
       "\n",
       "    .dataframe thead th {\n",
       "        text-align: right;\n",
       "    }\n",
       "</style>\n",
       "<table border=\"1\" class=\"dataframe\">\n",
       "  <thead>\n",
       "    <tr style=\"text-align: right;\">\n",
       "      <th></th>\n",
       "      <th>ticker</th>\n",
       "      <th>long_name</th>\n",
       "      <th>sector</th>\n",
       "      <th>industry</th>\n",
       "      <th>market_cap</th>\n",
       "      <th>enterprise_value</th>\n",
       "      <th>total_revenue</th>\n",
       "      <th>profit_margins</th>\n",
       "      <th>operating_margins</th>\n",
       "      <th>dividend_rate</th>\n",
       "      <th>beta</th>\n",
       "      <th>ebitda</th>\n",
       "      <th>trailing_pe</th>\n",
       "      <th>forward_pe</th>\n",
       "      <th>volume</th>\n",
       "      <th>average_volume</th>\n",
       "      <th>fifty_two_week_low</th>\n",
       "      <th>fifty_two_week_high</th>\n",
       "      <th>price_to_sales_trailing_12_months</th>\n",
       "      <th>fifty_day_average</th>\n",
       "      <th>two_hundred_day_average</th>\n",
       "      <th>trailing_annual_dividend_rate</th>\n",
       "      <th>trailing_annual_dividend_yield</th>\n",
       "      <th>book_value</th>\n",
       "      <th>price_to_book</th>\n",
       "      <th>total_cash</th>\n",
       "      <th>total_cash_per_share</th>\n",
       "      <th>total_debt</th>\n",
       "      <th>earnings_quarterly_growth</th>\n",
       "      <th>revenue_growth</th>\n",
       "      <th>gross_margins</th>\n",
       "      <th>ebitda_margins</th>\n",
       "      <th>return_on_assets</th>\n",
       "      <th>return_on_equity</th>\n",
       "      <th>gross_profits</th>\n",
       "      <th>total_assets_approx</th>\n",
       "      <th>asset_turnover</th>\n",
       "      <th>earnings_growth_rate</th>\n",
       "      <th>dividend_payout_ratio</th>\n",
       "      <th>equity</th>\n",
       "      <th>debt_to_equity</th>\n",
       "      <th>roi</th>\n",
       "      <th>roce</th>\n",
       "    </tr>\n",
       "  </thead>\n",
       "  <tbody>\n",
       "    <tr>\n",
       "      <th>0</th>\n",
       "      <td>ABCB4.SA</td>\n",
       "      <td>Banco ABC Brasil S.A.</td>\n",
       "      <td>Financial Services</td>\n",
       "      <td>Banks - Regional</td>\n",
       "      <td>4.265434e+09</td>\n",
       "      <td>1.477339e+10</td>\n",
       "      <td>1.941779e+09</td>\n",
       "      <td>0.41576</td>\n",
       "      <td>0.38826</td>\n",
       "      <td>1.56</td>\n",
       "      <td>0.679</td>\n",
       "      <td>0.000000e+00</td>\n",
       "      <td>4.069768</td>\n",
       "      <td>4.706601</td>\n",
       "      <td>92300.0</td>\n",
       "      <td>747165.0</td>\n",
       "      <td>15.85</td>\n",
       "      <td>21.99</td>\n",
       "      <td>2.196663</td>\n",
       "      <td>19.3382</td>\n",
       "      <td>18.14667</td>\n",
       "      <td>1.550</td>\n",
       "      <td>0.080687</td>\n",
       "      <td>24.518</td>\n",
       "      <td>0.785138</td>\n",
       "      <td>7.774306e+09</td>\n",
       "      <td>35.162</td>\n",
       "      <td>1.829846e+10</td>\n",
       "      <td>0.001</td>\n",
       "      <td>0.003</td>\n",
       "      <td>0.00000</td>\n",
       "      <td>0.00000</td>\n",
       "      <td>0.01530</td>\n",
       "      <td>0.15680</td>\n",
       "      <td>1.973086e+09</td>\n",
       "      <td>7.774306e+09</td>\n",
       "      <td>0.249769</td>\n",
       "      <td>0.1</td>\n",
       "      <td>155000.000000</td>\n",
       "      <td>-1.052416e+10</td>\n",
       "      <td>-1.738710</td>\n",
       "      <td>0.131438</td>\n",
       "      <td>0.000000</td>\n",
       "    </tr>\n",
       "    <tr>\n",
       "      <th>1</th>\n",
       "      <td>AGRO3.SA</td>\n",
       "      <td>BrasilAgro - Companhia Brasileira de Proprieda...</td>\n",
       "      <td>Consumer Defensive</td>\n",
       "      <td>Farm Products</td>\n",
       "      <td>2.466480e+09</td>\n",
       "      <td>2.912933e+09</td>\n",
       "      <td>1.249437e+09</td>\n",
       "      <td>0.21493</td>\n",
       "      <td>0.25031</td>\n",
       "      <td>3.21</td>\n",
       "      <td>0.432</td>\n",
       "      <td>2.648920e+08</td>\n",
       "      <td>9.450382</td>\n",
       "      <td>6.332481</td>\n",
       "      <td>298100.0</td>\n",
       "      <td>666692.0</td>\n",
       "      <td>22.29</td>\n",
       "      <td>32.71</td>\n",
       "      <td>1.974073</td>\n",
       "      <td>27.0106</td>\n",
       "      <td>25.58635</td>\n",
       "      <td>3.240</td>\n",
       "      <td>0.132029</td>\n",
       "      <td>22.237</td>\n",
       "      <td>1.113460</td>\n",
       "      <td>3.838370e+08</td>\n",
       "      <td>3.885</td>\n",
       "      <td>8.720750e+08</td>\n",
       "      <td>6.801</td>\n",
       "      <td>0.671</td>\n",
       "      <td>0.25252</td>\n",
       "      <td>0.21201</td>\n",
       "      <td>0.03839</td>\n",
       "      <td>0.12170</td>\n",
       "      <td>3.155040e+08</td>\n",
       "      <td>3.838370e+08</td>\n",
       "      <td>3.255124</td>\n",
       "      <td>680.1</td>\n",
       "      <td>47.640053</td>\n",
       "      <td>-4.882380e+08</td>\n",
       "      <td>-1.786168</td>\n",
       "      <td>0.428927</td>\n",
       "      <td>0.079343</td>\n",
       "    </tr>\n",
       "    <tr>\n",
       "      <th>2</th>\n",
       "      <td>RAIL3.SA</td>\n",
       "      <td>Rumo S.A.</td>\n",
       "      <td>Industrials</td>\n",
       "      <td>Railroads</td>\n",
       "      <td>4.228882e+10</td>\n",
       "      <td>5.524305e+10</td>\n",
       "      <td>1.031746e+10</td>\n",
       "      <td>0.07639</td>\n",
       "      <td>0.33544</td>\n",
       "      <td>0.07</td>\n",
       "      <td>0.227</td>\n",
       "      <td>4.522541e+09</td>\n",
       "      <td>54.309525</td>\n",
       "      <td>21.723810</td>\n",
       "      <td>5733400.0</td>\n",
       "      <td>14644522.0</td>\n",
       "      <td>16.21</td>\n",
       "      <td>24.44</td>\n",
       "      <td>4.098764</td>\n",
       "      <td>22.5852</td>\n",
       "      <td>20.95235</td>\n",
       "      <td>0.066</td>\n",
       "      <td>0.002993</td>\n",
       "      <td>8.334</td>\n",
       "      <td>2.736981</td>\n",
       "      <td>7.656040e+09</td>\n",
       "      <td>4.132</td>\n",
       "      <td>2.184320e+10</td>\n",
       "      <td>3.935</td>\n",
       "      <td>0.121</td>\n",
       "      <td>0.34493</td>\n",
       "      <td>0.43834</td>\n",
       "      <td>0.04252</td>\n",
       "      <td>0.05163</td>\n",
       "      <td>3.146360e+09</td>\n",
       "      <td>7.656040e+09</td>\n",
       "      <td>1.347623</td>\n",
       "      <td>393.5</td>\n",
       "      <td>1.677255</td>\n",
       "      <td>-1.418716e+10</td>\n",
       "      <td>-1.539646</td>\n",
       "      <td>0.186765</td>\n",
       "      <td>0.070519</td>\n",
       "    </tr>\n",
       "    <tr>\n",
       "      <th>3</th>\n",
       "      <td>ALPA3.SA</td>\n",
       "      <td>Alpargatas S.A.</td>\n",
       "      <td>Consumer Cyclical</td>\n",
       "      <td>Footwear &amp; Accessories</td>\n",
       "      <td>5.309793e+09</td>\n",
       "      <td>6.482982e+09</td>\n",
       "      <td>4.022153e+09</td>\n",
       "      <td>-0.05671</td>\n",
       "      <td>-0.06434</td>\n",
       "      <td>0.40</td>\n",
       "      <td>0.571</td>\n",
       "      <td>-1.980000e+05</td>\n",
       "      <td>0.000000</td>\n",
       "      <td>0.000000</td>\n",
       "      <td>1100.0</td>\n",
       "      <td>3953.0</td>\n",
       "      <td>7.27</td>\n",
       "      <td>17.80</td>\n",
       "      <td>1.320137</td>\n",
       "      <td>8.7146</td>\n",
       "      <td>9.63540</td>\n",
       "      <td>0.000</td>\n",
       "      <td>0.000000</td>\n",
       "      <td>7.867</td>\n",
       "      <td>1.008008</td>\n",
       "      <td>4.142880e+08</td>\n",
       "      <td>0.614</td>\n",
       "      <td>1.550341e+09</td>\n",
       "      <td>0.000</td>\n",
       "      <td>-0.127</td>\n",
       "      <td>0.43246</td>\n",
       "      <td>-0.00005</td>\n",
       "      <td>-0.00910</td>\n",
       "      <td>-0.04153</td>\n",
       "      <td>1.968303e+09</td>\n",
       "      <td>4.142880e+08</td>\n",
       "      <td>9.708591</td>\n",
       "      <td>0.0</td>\n",
       "      <td>0.000000</td>\n",
       "      <td>-1.136053e+09</td>\n",
       "      <td>-1.364673</td>\n",
       "      <td>0.620417</td>\n",
       "      <td>-0.000029</td>\n",
       "    </tr>\n",
       "    <tr>\n",
       "      <th>4</th>\n",
       "      <td>ALPA4.SA</td>\n",
       "      <td>Alpargatas S.A.</td>\n",
       "      <td>Consumer Cyclical</td>\n",
       "      <td>Footwear &amp; Accessories</td>\n",
       "      <td>5.350758e+09</td>\n",
       "      <td>6.395236e+09</td>\n",
       "      <td>4.022153e+09</td>\n",
       "      <td>-0.05671</td>\n",
       "      <td>-0.06434</td>\n",
       "      <td>0.43</td>\n",
       "      <td>0.571</td>\n",
       "      <td>-1.980000e+05</td>\n",
       "      <td>0.000000</td>\n",
       "      <td>14.555555</td>\n",
       "      <td>1132100.0</td>\n",
       "      <td>5605825.0</td>\n",
       "      <td>6.81</td>\n",
       "      <td>22.51</td>\n",
       "      <td>1.330322</td>\n",
       "      <td>8.3228</td>\n",
       "      <td>9.27290</td>\n",
       "      <td>0.000</td>\n",
       "      <td>0.000000</td>\n",
       "      <td>7.867</td>\n",
       "      <td>0.999110</td>\n",
       "      <td>4.142880e+08</td>\n",
       "      <td>0.614</td>\n",
       "      <td>1.550341e+09</td>\n",
       "      <td>0.000</td>\n",
       "      <td>-0.127</td>\n",
       "      <td>0.43246</td>\n",
       "      <td>-0.00005</td>\n",
       "      <td>-0.00910</td>\n",
       "      <td>-0.04153</td>\n",
       "      <td>1.968303e+09</td>\n",
       "      <td>4.142880e+08</td>\n",
       "      <td>9.708591</td>\n",
       "      <td>0.0</td>\n",
       "      <td>0.000000</td>\n",
       "      <td>-1.136053e+09</td>\n",
       "      <td>-1.364673</td>\n",
       "      <td>0.628930</td>\n",
       "      <td>-0.000029</td>\n",
       "    </tr>\n",
       "  </tbody>\n",
       "</table>\n",
       "</div>"
      ],
      "text/plain": [
       "     ticker                                          long_name  \\\n",
       "0  ABCB4.SA                              Banco ABC Brasil S.A.   \n",
       "1  AGRO3.SA  BrasilAgro - Companhia Brasileira de Proprieda...   \n",
       "2  RAIL3.SA                                          Rumo S.A.   \n",
       "3  ALPA3.SA                                    Alpargatas S.A.   \n",
       "4  ALPA4.SA                                    Alpargatas S.A.   \n",
       "\n",
       "               sector                industry    market_cap  enterprise_value  \\\n",
       "0  Financial Services        Banks - Regional  4.265434e+09      1.477339e+10   \n",
       "1  Consumer Defensive           Farm Products  2.466480e+09      2.912933e+09   \n",
       "2         Industrials               Railroads  4.228882e+10      5.524305e+10   \n",
       "3   Consumer Cyclical  Footwear & Accessories  5.309793e+09      6.482982e+09   \n",
       "4   Consumer Cyclical  Footwear & Accessories  5.350758e+09      6.395236e+09   \n",
       "\n",
       "   total_revenue  profit_margins  operating_margins  dividend_rate   beta  \\\n",
       "0   1.941779e+09         0.41576            0.38826           1.56  0.679   \n",
       "1   1.249437e+09         0.21493            0.25031           3.21  0.432   \n",
       "2   1.031746e+10         0.07639            0.33544           0.07  0.227   \n",
       "3   4.022153e+09        -0.05671           -0.06434           0.40  0.571   \n",
       "4   4.022153e+09        -0.05671           -0.06434           0.43  0.571   \n",
       "\n",
       "         ebitda  trailing_pe  forward_pe     volume  average_volume  \\\n",
       "0  0.000000e+00     4.069768    4.706601    92300.0        747165.0   \n",
       "1  2.648920e+08     9.450382    6.332481   298100.0        666692.0   \n",
       "2  4.522541e+09    54.309525   21.723810  5733400.0      14644522.0   \n",
       "3 -1.980000e+05     0.000000    0.000000     1100.0          3953.0   \n",
       "4 -1.980000e+05     0.000000   14.555555  1132100.0       5605825.0   \n",
       "\n",
       "   fifty_two_week_low  fifty_two_week_high  price_to_sales_trailing_12_months  \\\n",
       "0               15.85                21.99                           2.196663   \n",
       "1               22.29                32.71                           1.974073   \n",
       "2               16.21                24.44                           4.098764   \n",
       "3                7.27                17.80                           1.320137   \n",
       "4                6.81                22.51                           1.330322   \n",
       "\n",
       "   fifty_day_average  two_hundred_day_average  trailing_annual_dividend_rate  \\\n",
       "0            19.3382                 18.14667                          1.550   \n",
       "1            27.0106                 25.58635                          3.240   \n",
       "2            22.5852                 20.95235                          0.066   \n",
       "3             8.7146                  9.63540                          0.000   \n",
       "4             8.3228                  9.27290                          0.000   \n",
       "\n",
       "   trailing_annual_dividend_yield  book_value  price_to_book    total_cash  \\\n",
       "0                        0.080687      24.518       0.785138  7.774306e+09   \n",
       "1                        0.132029      22.237       1.113460  3.838370e+08   \n",
       "2                        0.002993       8.334       2.736981  7.656040e+09   \n",
       "3                        0.000000       7.867       1.008008  4.142880e+08   \n",
       "4                        0.000000       7.867       0.999110  4.142880e+08   \n",
       "\n",
       "   total_cash_per_share    total_debt  earnings_quarterly_growth  \\\n",
       "0                35.162  1.829846e+10                      0.001   \n",
       "1                 3.885  8.720750e+08                      6.801   \n",
       "2                 4.132  2.184320e+10                      3.935   \n",
       "3                 0.614  1.550341e+09                      0.000   \n",
       "4                 0.614  1.550341e+09                      0.000   \n",
       "\n",
       "   revenue_growth  gross_margins  ebitda_margins  return_on_assets  \\\n",
       "0           0.003        0.00000         0.00000           0.01530   \n",
       "1           0.671        0.25252         0.21201           0.03839   \n",
       "2           0.121        0.34493         0.43834           0.04252   \n",
       "3          -0.127        0.43246        -0.00005          -0.00910   \n",
       "4          -0.127        0.43246        -0.00005          -0.00910   \n",
       "\n",
       "   return_on_equity  gross_profits  total_assets_approx  asset_turnover  \\\n",
       "0           0.15680   1.973086e+09         7.774306e+09        0.249769   \n",
       "1           0.12170   3.155040e+08         3.838370e+08        3.255124   \n",
       "2           0.05163   3.146360e+09         7.656040e+09        1.347623   \n",
       "3          -0.04153   1.968303e+09         4.142880e+08        9.708591   \n",
       "4          -0.04153   1.968303e+09         4.142880e+08        9.708591   \n",
       "\n",
       "   earnings_growth_rate  dividend_payout_ratio        equity  debt_to_equity  \\\n",
       "0                   0.1          155000.000000 -1.052416e+10       -1.738710   \n",
       "1                 680.1              47.640053 -4.882380e+08       -1.786168   \n",
       "2                 393.5               1.677255 -1.418716e+10       -1.539646   \n",
       "3                   0.0               0.000000 -1.136053e+09       -1.364673   \n",
       "4                   0.0               0.000000 -1.136053e+09       -1.364673   \n",
       "\n",
       "        roi      roce  \n",
       "0  0.131438  0.000000  \n",
       "1  0.428927  0.079343  \n",
       "2  0.186765  0.070519  \n",
       "3  0.620417 -0.000029  \n",
       "4  0.628930 -0.000029  "
      ]
     },
     "execution_count": 4,
     "metadata": {},
     "output_type": "execute_result"
    }
   ],
   "source": [
    "df_fundamentals_book = pd.read_csv(file_path_book + \"/fundamentals_book.csv\")\n",
    "df_fundamentals_book.head(5)"
   ]
  },
  {
   "cell_type": "code",
   "execution_count": 5,
   "metadata": {},
   "outputs": [
    {
     "data": {
      "text/html": [
       "<div>\n",
       "<style scoped>\n",
       "    .dataframe tbody tr th:only-of-type {\n",
       "        vertical-align: middle;\n",
       "    }\n",
       "\n",
       "    .dataframe tbody tr th {\n",
       "        vertical-align: top;\n",
       "    }\n",
       "\n",
       "    .dataframe thead th {\n",
       "        text-align: right;\n",
       "    }\n",
       "</style>\n",
       "<table border=\"1\" class=\"dataframe\">\n",
       "  <thead>\n",
       "    <tr style=\"text-align: right;\">\n",
       "      <th></th>\n",
       "      <th>market_cap</th>\n",
       "      <th>enterprise_value</th>\n",
       "      <th>total_revenue</th>\n",
       "      <th>profit_margins</th>\n",
       "      <th>operating_margins</th>\n",
       "      <th>dividend_rate</th>\n",
       "      <th>beta</th>\n",
       "      <th>ebitda</th>\n",
       "      <th>trailing_pe</th>\n",
       "      <th>forward_pe</th>\n",
       "      <th>volume</th>\n",
       "      <th>average_volume</th>\n",
       "      <th>fifty_two_week_low</th>\n",
       "      <th>fifty_two_week_high</th>\n",
       "      <th>price_to_sales_trailing_12_months</th>\n",
       "      <th>fifty_day_average</th>\n",
       "      <th>two_hundred_day_average</th>\n",
       "      <th>trailing_annual_dividend_rate</th>\n",
       "      <th>trailing_annual_dividend_yield</th>\n",
       "      <th>book_value</th>\n",
       "      <th>price_to_book</th>\n",
       "      <th>total_cash</th>\n",
       "      <th>total_cash_per_share</th>\n",
       "      <th>total_debt</th>\n",
       "      <th>earnings_quarterly_growth</th>\n",
       "      <th>revenue_growth</th>\n",
       "      <th>gross_margins</th>\n",
       "      <th>ebitda_margins</th>\n",
       "      <th>return_on_assets</th>\n",
       "      <th>return_on_equity</th>\n",
       "      <th>gross_profits</th>\n",
       "      <th>total_assets_approx</th>\n",
       "      <th>asset_turnover</th>\n",
       "      <th>earnings_growth_rate</th>\n",
       "      <th>dividend_payout_ratio</th>\n",
       "      <th>equity</th>\n",
       "      <th>debt_to_equity</th>\n",
       "      <th>roi</th>\n",
       "      <th>roce</th>\n",
       "    </tr>\n",
       "  </thead>\n",
       "  <tbody>\n",
       "    <tr>\n",
       "      <th>0</th>\n",
       "      <td>4.265434e+09</td>\n",
       "      <td>1.477339e+10</td>\n",
       "      <td>1.941779e+09</td>\n",
       "      <td>0.41576</td>\n",
       "      <td>0.38826</td>\n",
       "      <td>1.56</td>\n",
       "      <td>0.679</td>\n",
       "      <td>0.000000e+00</td>\n",
       "      <td>4.069768</td>\n",
       "      <td>4.706601</td>\n",
       "      <td>92300.0</td>\n",
       "      <td>747165.0</td>\n",
       "      <td>15.85</td>\n",
       "      <td>21.99</td>\n",
       "      <td>2.196663</td>\n",
       "      <td>19.3382</td>\n",
       "      <td>18.14667</td>\n",
       "      <td>1.550</td>\n",
       "      <td>0.080687</td>\n",
       "      <td>24.518</td>\n",
       "      <td>0.785138</td>\n",
       "      <td>7.774306e+09</td>\n",
       "      <td>35.162</td>\n",
       "      <td>1.829846e+10</td>\n",
       "      <td>0.001</td>\n",
       "      <td>0.003</td>\n",
       "      <td>0.00000</td>\n",
       "      <td>0.00000</td>\n",
       "      <td>0.01530</td>\n",
       "      <td>0.15680</td>\n",
       "      <td>1.973086e+09</td>\n",
       "      <td>7.774306e+09</td>\n",
       "      <td>0.249769</td>\n",
       "      <td>0.1</td>\n",
       "      <td>155000.000000</td>\n",
       "      <td>-1.052416e+10</td>\n",
       "      <td>-1.738710</td>\n",
       "      <td>0.131438</td>\n",
       "      <td>0.000000</td>\n",
       "    </tr>\n",
       "    <tr>\n",
       "      <th>1</th>\n",
       "      <td>2.466480e+09</td>\n",
       "      <td>2.912933e+09</td>\n",
       "      <td>1.249437e+09</td>\n",
       "      <td>0.21493</td>\n",
       "      <td>0.25031</td>\n",
       "      <td>3.21</td>\n",
       "      <td>0.432</td>\n",
       "      <td>2.648920e+08</td>\n",
       "      <td>9.450382</td>\n",
       "      <td>6.332481</td>\n",
       "      <td>298100.0</td>\n",
       "      <td>666692.0</td>\n",
       "      <td>22.29</td>\n",
       "      <td>32.71</td>\n",
       "      <td>1.974073</td>\n",
       "      <td>27.0106</td>\n",
       "      <td>25.58635</td>\n",
       "      <td>3.240</td>\n",
       "      <td>0.132029</td>\n",
       "      <td>22.237</td>\n",
       "      <td>1.113460</td>\n",
       "      <td>3.838370e+08</td>\n",
       "      <td>3.885</td>\n",
       "      <td>8.720750e+08</td>\n",
       "      <td>6.801</td>\n",
       "      <td>0.671</td>\n",
       "      <td>0.25252</td>\n",
       "      <td>0.21201</td>\n",
       "      <td>0.03839</td>\n",
       "      <td>0.12170</td>\n",
       "      <td>3.155040e+08</td>\n",
       "      <td>3.838370e+08</td>\n",
       "      <td>3.255124</td>\n",
       "      <td>680.1</td>\n",
       "      <td>47.640053</td>\n",
       "      <td>-4.882380e+08</td>\n",
       "      <td>-1.786168</td>\n",
       "      <td>0.428927</td>\n",
       "      <td>0.079343</td>\n",
       "    </tr>\n",
       "    <tr>\n",
       "      <th>2</th>\n",
       "      <td>4.228882e+10</td>\n",
       "      <td>5.524305e+10</td>\n",
       "      <td>1.031746e+10</td>\n",
       "      <td>0.07639</td>\n",
       "      <td>0.33544</td>\n",
       "      <td>0.07</td>\n",
       "      <td>0.227</td>\n",
       "      <td>4.522541e+09</td>\n",
       "      <td>54.309525</td>\n",
       "      <td>21.723810</td>\n",
       "      <td>5733400.0</td>\n",
       "      <td>14644522.0</td>\n",
       "      <td>16.21</td>\n",
       "      <td>24.44</td>\n",
       "      <td>4.098764</td>\n",
       "      <td>22.5852</td>\n",
       "      <td>20.95235</td>\n",
       "      <td>0.066</td>\n",
       "      <td>0.002993</td>\n",
       "      <td>8.334</td>\n",
       "      <td>2.736981</td>\n",
       "      <td>7.656040e+09</td>\n",
       "      <td>4.132</td>\n",
       "      <td>2.184320e+10</td>\n",
       "      <td>3.935</td>\n",
       "      <td>0.121</td>\n",
       "      <td>0.34493</td>\n",
       "      <td>0.43834</td>\n",
       "      <td>0.04252</td>\n",
       "      <td>0.05163</td>\n",
       "      <td>3.146360e+09</td>\n",
       "      <td>7.656040e+09</td>\n",
       "      <td>1.347623</td>\n",
       "      <td>393.5</td>\n",
       "      <td>1.677255</td>\n",
       "      <td>-1.418716e+10</td>\n",
       "      <td>-1.539646</td>\n",
       "      <td>0.186765</td>\n",
       "      <td>0.070519</td>\n",
       "    </tr>\n",
       "    <tr>\n",
       "      <th>3</th>\n",
       "      <td>5.309793e+09</td>\n",
       "      <td>6.482982e+09</td>\n",
       "      <td>4.022153e+09</td>\n",
       "      <td>-0.05671</td>\n",
       "      <td>-0.06434</td>\n",
       "      <td>0.40</td>\n",
       "      <td>0.571</td>\n",
       "      <td>-1.980000e+05</td>\n",
       "      <td>0.000000</td>\n",
       "      <td>0.000000</td>\n",
       "      <td>1100.0</td>\n",
       "      <td>3953.0</td>\n",
       "      <td>7.27</td>\n",
       "      <td>17.80</td>\n",
       "      <td>1.320137</td>\n",
       "      <td>8.7146</td>\n",
       "      <td>9.63540</td>\n",
       "      <td>0.000</td>\n",
       "      <td>0.000000</td>\n",
       "      <td>7.867</td>\n",
       "      <td>1.008008</td>\n",
       "      <td>4.142880e+08</td>\n",
       "      <td>0.614</td>\n",
       "      <td>1.550341e+09</td>\n",
       "      <td>0.000</td>\n",
       "      <td>-0.127</td>\n",
       "      <td>0.43246</td>\n",
       "      <td>-0.00005</td>\n",
       "      <td>-0.00910</td>\n",
       "      <td>-0.04153</td>\n",
       "      <td>1.968303e+09</td>\n",
       "      <td>4.142880e+08</td>\n",
       "      <td>9.708591</td>\n",
       "      <td>0.0</td>\n",
       "      <td>0.000000</td>\n",
       "      <td>-1.136053e+09</td>\n",
       "      <td>-1.364673</td>\n",
       "      <td>0.620417</td>\n",
       "      <td>-0.000029</td>\n",
       "    </tr>\n",
       "    <tr>\n",
       "      <th>4</th>\n",
       "      <td>5.350758e+09</td>\n",
       "      <td>6.395236e+09</td>\n",
       "      <td>4.022153e+09</td>\n",
       "      <td>-0.05671</td>\n",
       "      <td>-0.06434</td>\n",
       "      <td>0.43</td>\n",
       "      <td>0.571</td>\n",
       "      <td>-1.980000e+05</td>\n",
       "      <td>0.000000</td>\n",
       "      <td>14.555555</td>\n",
       "      <td>1132100.0</td>\n",
       "      <td>5605825.0</td>\n",
       "      <td>6.81</td>\n",
       "      <td>22.51</td>\n",
       "      <td>1.330322</td>\n",
       "      <td>8.3228</td>\n",
       "      <td>9.27290</td>\n",
       "      <td>0.000</td>\n",
       "      <td>0.000000</td>\n",
       "      <td>7.867</td>\n",
       "      <td>0.999110</td>\n",
       "      <td>4.142880e+08</td>\n",
       "      <td>0.614</td>\n",
       "      <td>1.550341e+09</td>\n",
       "      <td>0.000</td>\n",
       "      <td>-0.127</td>\n",
       "      <td>0.43246</td>\n",
       "      <td>-0.00005</td>\n",
       "      <td>-0.00910</td>\n",
       "      <td>-0.04153</td>\n",
       "      <td>1.968303e+09</td>\n",
       "      <td>4.142880e+08</td>\n",
       "      <td>9.708591</td>\n",
       "      <td>0.0</td>\n",
       "      <td>0.000000</td>\n",
       "      <td>-1.136053e+09</td>\n",
       "      <td>-1.364673</td>\n",
       "      <td>0.628930</td>\n",
       "      <td>-0.000029</td>\n",
       "    </tr>\n",
       "  </tbody>\n",
       "</table>\n",
       "</div>"
      ],
      "text/plain": [
       "     market_cap  enterprise_value  total_revenue  profit_margins  \\\n",
       "0  4.265434e+09      1.477339e+10   1.941779e+09         0.41576   \n",
       "1  2.466480e+09      2.912933e+09   1.249437e+09         0.21493   \n",
       "2  4.228882e+10      5.524305e+10   1.031746e+10         0.07639   \n",
       "3  5.309793e+09      6.482982e+09   4.022153e+09        -0.05671   \n",
       "4  5.350758e+09      6.395236e+09   4.022153e+09        -0.05671   \n",
       "\n",
       "   operating_margins  dividend_rate   beta        ebitda  trailing_pe  \\\n",
       "0            0.38826           1.56  0.679  0.000000e+00     4.069768   \n",
       "1            0.25031           3.21  0.432  2.648920e+08     9.450382   \n",
       "2            0.33544           0.07  0.227  4.522541e+09    54.309525   \n",
       "3           -0.06434           0.40  0.571 -1.980000e+05     0.000000   \n",
       "4           -0.06434           0.43  0.571 -1.980000e+05     0.000000   \n",
       "\n",
       "   forward_pe     volume  average_volume  fifty_two_week_low  \\\n",
       "0    4.706601    92300.0        747165.0               15.85   \n",
       "1    6.332481   298100.0        666692.0               22.29   \n",
       "2   21.723810  5733400.0      14644522.0               16.21   \n",
       "3    0.000000     1100.0          3953.0                7.27   \n",
       "4   14.555555  1132100.0       5605825.0                6.81   \n",
       "\n",
       "   fifty_two_week_high  price_to_sales_trailing_12_months  fifty_day_average  \\\n",
       "0                21.99                           2.196663            19.3382   \n",
       "1                32.71                           1.974073            27.0106   \n",
       "2                24.44                           4.098764            22.5852   \n",
       "3                17.80                           1.320137             8.7146   \n",
       "4                22.51                           1.330322             8.3228   \n",
       "\n",
       "   two_hundred_day_average  trailing_annual_dividend_rate  \\\n",
       "0                 18.14667                          1.550   \n",
       "1                 25.58635                          3.240   \n",
       "2                 20.95235                          0.066   \n",
       "3                  9.63540                          0.000   \n",
       "4                  9.27290                          0.000   \n",
       "\n",
       "   trailing_annual_dividend_yield  book_value  price_to_book    total_cash  \\\n",
       "0                        0.080687      24.518       0.785138  7.774306e+09   \n",
       "1                        0.132029      22.237       1.113460  3.838370e+08   \n",
       "2                        0.002993       8.334       2.736981  7.656040e+09   \n",
       "3                        0.000000       7.867       1.008008  4.142880e+08   \n",
       "4                        0.000000       7.867       0.999110  4.142880e+08   \n",
       "\n",
       "   total_cash_per_share    total_debt  earnings_quarterly_growth  \\\n",
       "0                35.162  1.829846e+10                      0.001   \n",
       "1                 3.885  8.720750e+08                      6.801   \n",
       "2                 4.132  2.184320e+10                      3.935   \n",
       "3                 0.614  1.550341e+09                      0.000   \n",
       "4                 0.614  1.550341e+09                      0.000   \n",
       "\n",
       "   revenue_growth  gross_margins  ebitda_margins  return_on_assets  \\\n",
       "0           0.003        0.00000         0.00000           0.01530   \n",
       "1           0.671        0.25252         0.21201           0.03839   \n",
       "2           0.121        0.34493         0.43834           0.04252   \n",
       "3          -0.127        0.43246        -0.00005          -0.00910   \n",
       "4          -0.127        0.43246        -0.00005          -0.00910   \n",
       "\n",
       "   return_on_equity  gross_profits  total_assets_approx  asset_turnover  \\\n",
       "0           0.15680   1.973086e+09         7.774306e+09        0.249769   \n",
       "1           0.12170   3.155040e+08         3.838370e+08        3.255124   \n",
       "2           0.05163   3.146360e+09         7.656040e+09        1.347623   \n",
       "3          -0.04153   1.968303e+09         4.142880e+08        9.708591   \n",
       "4          -0.04153   1.968303e+09         4.142880e+08        9.708591   \n",
       "\n",
       "   earnings_growth_rate  dividend_payout_ratio        equity  debt_to_equity  \\\n",
       "0                   0.1          155000.000000 -1.052416e+10       -1.738710   \n",
       "1                 680.1              47.640053 -4.882380e+08       -1.786168   \n",
       "2                 393.5               1.677255 -1.418716e+10       -1.539646   \n",
       "3                   0.0               0.000000 -1.136053e+09       -1.364673   \n",
       "4                   0.0               0.000000 -1.136053e+09       -1.364673   \n",
       "\n",
       "        roi      roce  \n",
       "0  0.131438  0.000000  \n",
       "1  0.428927  0.079343  \n",
       "2  0.186765  0.070519  \n",
       "3  0.620417 -0.000029  \n",
       "4  0.628930 -0.000029  "
      ]
     },
     "execution_count": 5,
     "metadata": {},
     "output_type": "execute_result"
    }
   ],
   "source": [
    "df_fundamentals_numeric_cols = df_fundamentals_book.select_dtypes(include=[\"int\", \"number\", \"float64\"])\n",
    "df_fundamentals_numeric_cols.head(5)"
   ]
  },
  {
   "cell_type": "code",
   "execution_count": 6,
   "metadata": {},
   "outputs": [
    {
     "data": {
      "text/html": [
       "<div>\n",
       "<style scoped>\n",
       "    .dataframe tbody tr th:only-of-type {\n",
       "        vertical-align: middle;\n",
       "    }\n",
       "\n",
       "    .dataframe tbody tr th {\n",
       "        vertical-align: top;\n",
       "    }\n",
       "\n",
       "    .dataframe thead th {\n",
       "        text-align: right;\n",
       "    }\n",
       "</style>\n",
       "<table border=\"1\" class=\"dataframe\">\n",
       "  <thead>\n",
       "    <tr style=\"text-align: right;\">\n",
       "      <th></th>\n",
       "      <th>ticker</th>\n",
       "      <th>long_name</th>\n",
       "      <th>sector</th>\n",
       "      <th>industry</th>\n",
       "      <th>market_cap</th>\n",
       "      <th>enterprise_value</th>\n",
       "      <th>total_revenue</th>\n",
       "      <th>profit_margins</th>\n",
       "      <th>operating_margins</th>\n",
       "      <th>dividend_rate</th>\n",
       "      <th>beta</th>\n",
       "      <th>ebitda</th>\n",
       "      <th>trailing_pe</th>\n",
       "      <th>forward_pe</th>\n",
       "      <th>volume</th>\n",
       "      <th>average_volume</th>\n",
       "      <th>fifty_two_week_low</th>\n",
       "      <th>fifty_two_week_high</th>\n",
       "      <th>price_to_sales_trailing_12_months</th>\n",
       "      <th>fifty_day_average</th>\n",
       "      <th>two_hundred_day_average</th>\n",
       "      <th>trailing_annual_dividend_rate</th>\n",
       "      <th>trailing_annual_dividend_yield</th>\n",
       "      <th>book_value</th>\n",
       "      <th>price_to_book</th>\n",
       "      <th>total_cash</th>\n",
       "      <th>total_cash_per_share</th>\n",
       "      <th>total_debt</th>\n",
       "      <th>earnings_quarterly_growth</th>\n",
       "      <th>revenue_growth</th>\n",
       "      <th>gross_margins</th>\n",
       "      <th>ebitda_margins</th>\n",
       "      <th>return_on_assets</th>\n",
       "      <th>return_on_equity</th>\n",
       "      <th>gross_profits</th>\n",
       "      <th>total_assets_approx</th>\n",
       "      <th>asset_turnover</th>\n",
       "      <th>earnings_growth_rate</th>\n",
       "      <th>dividend_payout_ratio</th>\n",
       "      <th>equity</th>\n",
       "      <th>debt_to_equity</th>\n",
       "      <th>roi</th>\n",
       "      <th>roce</th>\n",
       "    </tr>\n",
       "  </thead>\n",
       "  <tbody>\n",
       "    <tr>\n",
       "      <th>0</th>\n",
       "      <td>PETR3.SA</td>\n",
       "      <td>Petróleo Brasileiro S.A. - Petrobras</td>\n",
       "      <td>Energy</td>\n",
       "      <td>Oil &amp; Gas Integrated</td>\n",
       "      <td>4.832119e+11</td>\n",
       "      <td>7.293640e+11</td>\n",
       "      <td>5.815630e+11</td>\n",
       "      <td>0.26889</td>\n",
       "      <td>0.39067</td>\n",
       "      <td>9.28</td>\n",
       "      <td>1.097</td>\n",
       "      <td>2.910870e+11</td>\n",
       "      <td>2.914199</td>\n",
       "      <td>4.821608</td>\n",
       "      <td>2993300.0</td>\n",
       "      <td>13234123.0</td>\n",
       "      <td>23.61</td>\n",
       "      <td>41.86</td>\n",
       "      <td>0.830885</td>\n",
       "      <td>37.0388</td>\n",
       "      <td>31.98075</td>\n",
       "      <td>9.657</td>\n",
       "      <td>0.247298</td>\n",
       "      <td>28.417</td>\n",
       "      <td>1.350600</td>\n",
       "      <td>6.098500e+10</td>\n",
       "      <td>4.675</td>\n",
       "      <td>2.793750e+11</td>\n",
       "      <td>-0.470</td>\n",
       "      <td>-0.334</td>\n",
       "      <td>0.50633</td>\n",
       "      <td>0.50053</td>\n",
       "      <td>0.15427</td>\n",
       "      <td>0.39988</td>\n",
       "      <td>3.341000e+11</td>\n",
       "      <td>6.098500e+10</td>\n",
       "      <td>9.536164</td>\n",
       "      <td>-47.0</td>\n",
       "      <td>0.000000</td>\n",
       "      <td>-2.183900e+11</td>\n",
       "      <td>-1.279248</td>\n",
       "      <td>0.797356</td>\n",
       "      <td>0.381710</td>\n",
       "    </tr>\n",
       "    <tr>\n",
       "      <th>1</th>\n",
       "      <td>VALE3.SA</td>\n",
       "      <td>Vale S.A.</td>\n",
       "      <td>Basic Materials</td>\n",
       "      <td>Other Industrial Metals &amp; Mining</td>\n",
       "      <td>2.776947e+11</td>\n",
       "      <td>3.399071e+11</td>\n",
       "      <td>2.064140e+11</td>\n",
       "      <td>0.27585</td>\n",
       "      <td>0.33672</td>\n",
       "      <td>3.84</td>\n",
       "      <td>0.821</td>\n",
       "      <td>8.536400e+10</td>\n",
       "      <td>5.319043</td>\n",
       "      <td>5.421849</td>\n",
       "      <td>4387500.0</td>\n",
       "      <td>25978987.0</td>\n",
       "      <td>61.00</td>\n",
       "      <td>98.29</td>\n",
       "      <td>1.345329</td>\n",
       "      <td>66.0796</td>\n",
       "      <td>73.07495</td>\n",
       "      <td>4.037</td>\n",
       "      <td>0.063147</td>\n",
       "      <td>43.051</td>\n",
       "      <td>1.498688</td>\n",
       "      <td>2.423800e+10</td>\n",
       "      <td>5.580</td>\n",
       "      <td>7.934600e+10</td>\n",
       "      <td>-0.848</td>\n",
       "      <td>-0.131</td>\n",
       "      <td>0.39091</td>\n",
       "      <td>0.41356</td>\n",
       "      <td>0.09975</td>\n",
       "      <td>0.29588</td>\n",
       "      <td>1.023130e+11</td>\n",
       "      <td>2.423800e+10</td>\n",
       "      <td>8.516132</td>\n",
       "      <td>-84.8</td>\n",
       "      <td>0.000000</td>\n",
       "      <td>-5.510800e+10</td>\n",
       "      <td>-1.439827</td>\n",
       "      <td>0.607266</td>\n",
       "      <td>0.239088</td>\n",
       "    </tr>\n",
       "    <tr>\n",
       "      <th>2</th>\n",
       "      <td>ITUB4.SA</td>\n",
       "      <td>Itaú Unibanco Holding S.A.</td>\n",
       "      <td>Financial Services</td>\n",
       "      <td>Banks - Regional</td>\n",
       "      <td>2.486832e+11</td>\n",
       "      <td>7.077875e+11</td>\n",
       "      <td>1.189380e+11</td>\n",
       "      <td>0.26661</td>\n",
       "      <td>0.35896</td>\n",
       "      <td>1.50</td>\n",
       "      <td>0.499</td>\n",
       "      <td>0.000000e+00</td>\n",
       "      <td>8.557632</td>\n",
       "      <td>6.867500</td>\n",
       "      <td>10480300.0</td>\n",
       "      <td>24528203.0</td>\n",
       "      <td>22.62</td>\n",
       "      <td>31.29</td>\n",
       "      <td>2.090864</td>\n",
       "      <td>27.2770</td>\n",
       "      <td>26.66895</td>\n",
       "      <td>0.503</td>\n",
       "      <td>0.018602</td>\n",
       "      <td>18.250</td>\n",
       "      <td>1.505205</td>\n",
       "      <td>3.943250e+11</td>\n",
       "      <td>40.237</td>\n",
       "      <td>8.270340e+11</td>\n",
       "      <td>0.181</td>\n",
       "      <td>0.135</td>\n",
       "      <td>0.00000</td>\n",
       "      <td>0.00000</td>\n",
       "      <td>0.01419</td>\n",
       "      <td>0.18295</td>\n",
       "      <td>1.155700e+11</td>\n",
       "      <td>3.943250e+11</td>\n",
       "      <td>0.301624</td>\n",
       "      <td>18.1</td>\n",
       "      <td>277.900552</td>\n",
       "      <td>-4.327090e+11</td>\n",
       "      <td>-1.911294</td>\n",
       "      <td>0.168042</td>\n",
       "      <td>0.000000</td>\n",
       "    </tr>\n",
       "    <tr>\n",
       "      <th>3</th>\n",
       "      <td>ABEV3.SA</td>\n",
       "      <td>Ambev S.A.</td>\n",
       "      <td>Consumer Defensive</td>\n",
       "      <td>Beverages - Brewers</td>\n",
       "      <td>2.007233e+11</td>\n",
       "      <td>1.888459e+11</td>\n",
       "      <td>8.271054e+10</td>\n",
       "      <td>0.17263</td>\n",
       "      <td>0.18666</td>\n",
       "      <td>0.76</td>\n",
       "      <td>0.604</td>\n",
       "      <td>2.225154e+10</td>\n",
       "      <td>14.166667</td>\n",
       "      <td>12.750000</td>\n",
       "      <td>8618800.0</td>\n",
       "      <td>24680549.0</td>\n",
       "      <td>12.33</td>\n",
       "      <td>16.88</td>\n",
       "      <td>2.426816</td>\n",
       "      <td>13.4434</td>\n",
       "      <td>14.10370</td>\n",
       "      <td>0.762</td>\n",
       "      <td>0.061254</td>\n",
       "      <td>5.403</td>\n",
       "      <td>2.359800</td>\n",
       "      <td>1.243052e+10</td>\n",
       "      <td>0.789</td>\n",
       "      <td>4.096231e+09</td>\n",
       "      <td>-0.157</td>\n",
       "      <td>0.051</td>\n",
       "      <td>0.49945</td>\n",
       "      <td>0.26903</td>\n",
       "      <td>0.08271</td>\n",
       "      <td>0.16919</td>\n",
       "      <td>3.928676e+10</td>\n",
       "      <td>1.243052e+10</td>\n",
       "      <td>6.653829</td>\n",
       "      <td>-15.7</td>\n",
       "      <td>0.000000</td>\n",
       "      <td>8.334286e+09</td>\n",
       "      <td>0.491492</td>\n",
       "      <td>0.437979</td>\n",
       "      <td>0.108640</td>\n",
       "    </tr>\n",
       "    <tr>\n",
       "      <th>4</th>\n",
       "      <td>BPAC5.SA</td>\n",
       "      <td>Banco BTG Pactual S.A.</td>\n",
       "      <td>Financial Services</td>\n",
       "      <td>Capital Markets</td>\n",
       "      <td>1.483266e+11</td>\n",
       "      <td>4.345411e+10</td>\n",
       "      <td>2.775135e+10</td>\n",
       "      <td>0.30292</td>\n",
       "      <td>0.34960</td>\n",
       "      <td>0.35</td>\n",
       "      <td>1.291</td>\n",
       "      <td>0.000000e+00</td>\n",
       "      <td>11.260274</td>\n",
       "      <td>0.000000</td>\n",
       "      <td>2600.0</td>\n",
       "      <td>6184.0</td>\n",
       "      <td>4.55</td>\n",
       "      <td>9.08</td>\n",
       "      <td>5.344842</td>\n",
       "      <td>8.3650</td>\n",
       "      <td>6.87690</td>\n",
       "      <td>0.000</td>\n",
       "      <td>0.000000</td>\n",
       "      <td>9.808</td>\n",
       "      <td>0.838091</td>\n",
       "      <td>2.211434e+11</td>\n",
       "      <td>46.436</td>\n",
       "      <td>2.207205e+11</td>\n",
       "      <td>0.181</td>\n",
       "      <td>0.021</td>\n",
       "      <td>0.00000</td>\n",
       "      <td>0.00000</td>\n",
       "      <td>0.01910</td>\n",
       "      <td>0.18284</td>\n",
       "      <td>2.663930e+10</td>\n",
       "      <td>2.211434e+11</td>\n",
       "      <td>0.125490</td>\n",
       "      <td>18.1</td>\n",
       "      <td>0.000000</td>\n",
       "      <td>4.229530e+08</td>\n",
       "      <td>521.855886</td>\n",
       "      <td>0.638636</td>\n",
       "      <td>0.000000</td>\n",
       "    </tr>\n",
       "  </tbody>\n",
       "</table>\n",
       "</div>"
      ],
      "text/plain": [
       "     ticker                             long_name              sector  \\\n",
       "0  PETR3.SA  Petróleo Brasileiro S.A. - Petrobras              Energy   \n",
       "1  VALE3.SA                             Vale S.A.     Basic Materials   \n",
       "2  ITUB4.SA            Itaú Unibanco Holding S.A.  Financial Services   \n",
       "3  ABEV3.SA                            Ambev S.A.  Consumer Defensive   \n",
       "4  BPAC5.SA                Banco BTG Pactual S.A.  Financial Services   \n",
       "\n",
       "                           industry    market_cap  enterprise_value  \\\n",
       "0              Oil & Gas Integrated  4.832119e+11      7.293640e+11   \n",
       "1  Other Industrial Metals & Mining  2.776947e+11      3.399071e+11   \n",
       "2                  Banks - Regional  2.486832e+11      7.077875e+11   \n",
       "3               Beverages - Brewers  2.007233e+11      1.888459e+11   \n",
       "4                   Capital Markets  1.483266e+11      4.345411e+10   \n",
       "\n",
       "   total_revenue  profit_margins  operating_margins  dividend_rate   beta  \\\n",
       "0   5.815630e+11         0.26889            0.39067           9.28  1.097   \n",
       "1   2.064140e+11         0.27585            0.33672           3.84  0.821   \n",
       "2   1.189380e+11         0.26661            0.35896           1.50  0.499   \n",
       "3   8.271054e+10         0.17263            0.18666           0.76  0.604   \n",
       "4   2.775135e+10         0.30292            0.34960           0.35  1.291   \n",
       "\n",
       "         ebitda  trailing_pe  forward_pe      volume  average_volume  \\\n",
       "0  2.910870e+11     2.914199    4.821608   2993300.0      13234123.0   \n",
       "1  8.536400e+10     5.319043    5.421849   4387500.0      25978987.0   \n",
       "2  0.000000e+00     8.557632    6.867500  10480300.0      24528203.0   \n",
       "3  2.225154e+10    14.166667   12.750000   8618800.0      24680549.0   \n",
       "4  0.000000e+00    11.260274    0.000000      2600.0          6184.0   \n",
       "\n",
       "   fifty_two_week_low  fifty_two_week_high  price_to_sales_trailing_12_months  \\\n",
       "0               23.61                41.86                           0.830885   \n",
       "1               61.00                98.29                           1.345329   \n",
       "2               22.62                31.29                           2.090864   \n",
       "3               12.33                16.88                           2.426816   \n",
       "4                4.55                 9.08                           5.344842   \n",
       "\n",
       "   fifty_day_average  two_hundred_day_average  trailing_annual_dividend_rate  \\\n",
       "0            37.0388                 31.98075                          9.657   \n",
       "1            66.0796                 73.07495                          4.037   \n",
       "2            27.2770                 26.66895                          0.503   \n",
       "3            13.4434                 14.10370                          0.762   \n",
       "4             8.3650                  6.87690                          0.000   \n",
       "\n",
       "   trailing_annual_dividend_yield  book_value  price_to_book    total_cash  \\\n",
       "0                        0.247298      28.417       1.350600  6.098500e+10   \n",
       "1                        0.063147      43.051       1.498688  2.423800e+10   \n",
       "2                        0.018602      18.250       1.505205  3.943250e+11   \n",
       "3                        0.061254       5.403       2.359800  1.243052e+10   \n",
       "4                        0.000000       9.808       0.838091  2.211434e+11   \n",
       "\n",
       "   total_cash_per_share    total_debt  earnings_quarterly_growth  \\\n",
       "0                 4.675  2.793750e+11                     -0.470   \n",
       "1                 5.580  7.934600e+10                     -0.848   \n",
       "2                40.237  8.270340e+11                      0.181   \n",
       "3                 0.789  4.096231e+09                     -0.157   \n",
       "4                46.436  2.207205e+11                      0.181   \n",
       "\n",
       "   revenue_growth  gross_margins  ebitda_margins  return_on_assets  \\\n",
       "0          -0.334        0.50633         0.50053           0.15427   \n",
       "1          -0.131        0.39091         0.41356           0.09975   \n",
       "2           0.135        0.00000         0.00000           0.01419   \n",
       "3           0.051        0.49945         0.26903           0.08271   \n",
       "4           0.021        0.00000         0.00000           0.01910   \n",
       "\n",
       "   return_on_equity  gross_profits  total_assets_approx  asset_turnover  \\\n",
       "0           0.39988   3.341000e+11         6.098500e+10        9.536164   \n",
       "1           0.29588   1.023130e+11         2.423800e+10        8.516132   \n",
       "2           0.18295   1.155700e+11         3.943250e+11        0.301624   \n",
       "3           0.16919   3.928676e+10         1.243052e+10        6.653829   \n",
       "4           0.18284   2.663930e+10         2.211434e+11        0.125490   \n",
       "\n",
       "   earnings_growth_rate  dividend_payout_ratio        equity  debt_to_equity  \\\n",
       "0                 -47.0               0.000000 -2.183900e+11       -1.279248   \n",
       "1                 -84.8               0.000000 -5.510800e+10       -1.439827   \n",
       "2                  18.1             277.900552 -4.327090e+11       -1.911294   \n",
       "3                 -15.7               0.000000  8.334286e+09        0.491492   \n",
       "4                  18.1               0.000000  4.229530e+08      521.855886   \n",
       "\n",
       "        roi      roce  \n",
       "0  0.797356  0.381710  \n",
       "1  0.607266  0.239088  \n",
       "2  0.168042  0.000000  \n",
       "3  0.437979  0.108640  \n",
       "4  0.638636  0.000000  "
      ]
     },
     "execution_count": 6,
     "metadata": {},
     "output_type": "execute_result"
    }
   ],
   "source": [
    "df_top_companies = df_fundamentals_book.nlargest(18, ['market_cap', 'dividend_rate', 'trailing_annual_dividend_yield', 'trailing_annual_dividend_rate', 'debt_to_equity', 'return_on_equity', 'trailing_pe', 'forward_pe', 'price_to_book', 'earnings_quarterly_growth']).drop_duplicates(subset='long_name', keep='first').reset_index(drop=True)\n",
    "df_top_companies.head(5)"
   ]
  },
  {
   "cell_type": "code",
   "execution_count": 7,
   "metadata": {},
   "outputs": [
    {
     "data": {
      "text/html": [
       "<div>\n",
       "<style scoped>\n",
       "    .dataframe tbody tr th:only-of-type {\n",
       "        vertical-align: middle;\n",
       "    }\n",
       "\n",
       "    .dataframe tbody tr th {\n",
       "        vertical-align: top;\n",
       "    }\n",
       "\n",
       "    .dataframe thead th {\n",
       "        text-align: right;\n",
       "    }\n",
       "</style>\n",
       "<table border=\"1\" class=\"dataframe\">\n",
       "  <thead>\n",
       "    <tr style=\"text-align: right;\">\n",
       "      <th></th>\n",
       "      <th>market_cap</th>\n",
       "      <th>enterprise_value</th>\n",
       "      <th>total_revenue</th>\n",
       "      <th>profit_margins</th>\n",
       "      <th>operating_margins</th>\n",
       "      <th>dividend_rate</th>\n",
       "      <th>beta</th>\n",
       "      <th>ebitda</th>\n",
       "      <th>trailing_pe</th>\n",
       "      <th>forward_pe</th>\n",
       "      <th>volume</th>\n",
       "      <th>average_volume</th>\n",
       "      <th>fifty_two_week_low</th>\n",
       "      <th>fifty_two_week_high</th>\n",
       "      <th>price_to_sales_trailing_12_months</th>\n",
       "      <th>fifty_day_average</th>\n",
       "      <th>two_hundred_day_average</th>\n",
       "      <th>trailing_annual_dividend_rate</th>\n",
       "      <th>trailing_annual_dividend_yield</th>\n",
       "      <th>book_value</th>\n",
       "      <th>price_to_book</th>\n",
       "      <th>total_cash</th>\n",
       "      <th>total_cash_per_share</th>\n",
       "      <th>total_debt</th>\n",
       "      <th>earnings_quarterly_growth</th>\n",
       "      <th>revenue_growth</th>\n",
       "      <th>gross_margins</th>\n",
       "      <th>ebitda_margins</th>\n",
       "      <th>return_on_assets</th>\n",
       "      <th>return_on_equity</th>\n",
       "      <th>gross_profits</th>\n",
       "      <th>total_assets_approx</th>\n",
       "      <th>asset_turnover</th>\n",
       "      <th>earnings_growth_rate</th>\n",
       "      <th>dividend_payout_ratio</th>\n",
       "      <th>equity</th>\n",
       "      <th>debt_to_equity</th>\n",
       "      <th>roi</th>\n",
       "      <th>roce</th>\n",
       "    </tr>\n",
       "  </thead>\n",
       "  <tbody>\n",
       "    <tr>\n",
       "      <th>0</th>\n",
       "      <td>4.832119e+11</td>\n",
       "      <td>7.293640e+11</td>\n",
       "      <td>5.815630e+11</td>\n",
       "      <td>0.26889</td>\n",
       "      <td>0.39067</td>\n",
       "      <td>9.28</td>\n",
       "      <td>1.097</td>\n",
       "      <td>2.910870e+11</td>\n",
       "      <td>2.914199</td>\n",
       "      <td>4.821608</td>\n",
       "      <td>2993300.0</td>\n",
       "      <td>13234123.0</td>\n",
       "      <td>23.61</td>\n",
       "      <td>41.86</td>\n",
       "      <td>0.830885</td>\n",
       "      <td>37.0388</td>\n",
       "      <td>31.98075</td>\n",
       "      <td>9.657</td>\n",
       "      <td>0.247298</td>\n",
       "      <td>28.417</td>\n",
       "      <td>1.350600</td>\n",
       "      <td>6.098500e+10</td>\n",
       "      <td>4.675</td>\n",
       "      <td>2.793750e+11</td>\n",
       "      <td>-0.470</td>\n",
       "      <td>-0.334</td>\n",
       "      <td>0.50633</td>\n",
       "      <td>0.50053</td>\n",
       "      <td>0.15427</td>\n",
       "      <td>0.39988</td>\n",
       "      <td>3.341000e+11</td>\n",
       "      <td>6.098500e+10</td>\n",
       "      <td>9.536164</td>\n",
       "      <td>-47.0</td>\n",
       "      <td>0.000000</td>\n",
       "      <td>-2.183900e+11</td>\n",
       "      <td>-1.279248</td>\n",
       "      <td>0.797356</td>\n",
       "      <td>0.381710</td>\n",
       "    </tr>\n",
       "    <tr>\n",
       "      <th>1</th>\n",
       "      <td>2.776947e+11</td>\n",
       "      <td>3.399071e+11</td>\n",
       "      <td>2.064140e+11</td>\n",
       "      <td>0.27585</td>\n",
       "      <td>0.33672</td>\n",
       "      <td>3.84</td>\n",
       "      <td>0.821</td>\n",
       "      <td>8.536400e+10</td>\n",
       "      <td>5.319043</td>\n",
       "      <td>5.421849</td>\n",
       "      <td>4387500.0</td>\n",
       "      <td>25978987.0</td>\n",
       "      <td>61.00</td>\n",
       "      <td>98.29</td>\n",
       "      <td>1.345329</td>\n",
       "      <td>66.0796</td>\n",
       "      <td>73.07495</td>\n",
       "      <td>4.037</td>\n",
       "      <td>0.063147</td>\n",
       "      <td>43.051</td>\n",
       "      <td>1.498688</td>\n",
       "      <td>2.423800e+10</td>\n",
       "      <td>5.580</td>\n",
       "      <td>7.934600e+10</td>\n",
       "      <td>-0.848</td>\n",
       "      <td>-0.131</td>\n",
       "      <td>0.39091</td>\n",
       "      <td>0.41356</td>\n",
       "      <td>0.09975</td>\n",
       "      <td>0.29588</td>\n",
       "      <td>1.023130e+11</td>\n",
       "      <td>2.423800e+10</td>\n",
       "      <td>8.516132</td>\n",
       "      <td>-84.8</td>\n",
       "      <td>0.000000</td>\n",
       "      <td>-5.510800e+10</td>\n",
       "      <td>-1.439827</td>\n",
       "      <td>0.607266</td>\n",
       "      <td>0.239088</td>\n",
       "    </tr>\n",
       "    <tr>\n",
       "      <th>2</th>\n",
       "      <td>2.486832e+11</td>\n",
       "      <td>7.077875e+11</td>\n",
       "      <td>1.189380e+11</td>\n",
       "      <td>0.26661</td>\n",
       "      <td>0.35896</td>\n",
       "      <td>1.50</td>\n",
       "      <td>0.499</td>\n",
       "      <td>0.000000e+00</td>\n",
       "      <td>8.557632</td>\n",
       "      <td>6.867500</td>\n",
       "      <td>10480300.0</td>\n",
       "      <td>24528203.0</td>\n",
       "      <td>22.62</td>\n",
       "      <td>31.29</td>\n",
       "      <td>2.090864</td>\n",
       "      <td>27.2770</td>\n",
       "      <td>26.66895</td>\n",
       "      <td>0.503</td>\n",
       "      <td>0.018602</td>\n",
       "      <td>18.250</td>\n",
       "      <td>1.505205</td>\n",
       "      <td>3.943250e+11</td>\n",
       "      <td>40.237</td>\n",
       "      <td>8.270340e+11</td>\n",
       "      <td>0.181</td>\n",
       "      <td>0.135</td>\n",
       "      <td>0.00000</td>\n",
       "      <td>0.00000</td>\n",
       "      <td>0.01419</td>\n",
       "      <td>0.18295</td>\n",
       "      <td>1.155700e+11</td>\n",
       "      <td>3.943250e+11</td>\n",
       "      <td>0.301624</td>\n",
       "      <td>18.1</td>\n",
       "      <td>277.900552</td>\n",
       "      <td>-4.327090e+11</td>\n",
       "      <td>-1.911294</td>\n",
       "      <td>0.168042</td>\n",
       "      <td>0.000000</td>\n",
       "    </tr>\n",
       "    <tr>\n",
       "      <th>3</th>\n",
       "      <td>2.007233e+11</td>\n",
       "      <td>1.888459e+11</td>\n",
       "      <td>8.271054e+10</td>\n",
       "      <td>0.17263</td>\n",
       "      <td>0.18666</td>\n",
       "      <td>0.76</td>\n",
       "      <td>0.604</td>\n",
       "      <td>2.225154e+10</td>\n",
       "      <td>14.166667</td>\n",
       "      <td>12.750000</td>\n",
       "      <td>8618800.0</td>\n",
       "      <td>24680549.0</td>\n",
       "      <td>12.33</td>\n",
       "      <td>16.88</td>\n",
       "      <td>2.426816</td>\n",
       "      <td>13.4434</td>\n",
       "      <td>14.10370</td>\n",
       "      <td>0.762</td>\n",
       "      <td>0.061254</td>\n",
       "      <td>5.403</td>\n",
       "      <td>2.359800</td>\n",
       "      <td>1.243052e+10</td>\n",
       "      <td>0.789</td>\n",
       "      <td>4.096231e+09</td>\n",
       "      <td>-0.157</td>\n",
       "      <td>0.051</td>\n",
       "      <td>0.49945</td>\n",
       "      <td>0.26903</td>\n",
       "      <td>0.08271</td>\n",
       "      <td>0.16919</td>\n",
       "      <td>3.928676e+10</td>\n",
       "      <td>1.243052e+10</td>\n",
       "      <td>6.653829</td>\n",
       "      <td>-15.7</td>\n",
       "      <td>0.000000</td>\n",
       "      <td>8.334286e+09</td>\n",
       "      <td>0.491492</td>\n",
       "      <td>0.437979</td>\n",
       "      <td>0.108640</td>\n",
       "    </tr>\n",
       "    <tr>\n",
       "      <th>4</th>\n",
       "      <td>1.483266e+11</td>\n",
       "      <td>4.345411e+10</td>\n",
       "      <td>2.775135e+10</td>\n",
       "      <td>0.30292</td>\n",
       "      <td>0.34960</td>\n",
       "      <td>0.35</td>\n",
       "      <td>1.291</td>\n",
       "      <td>0.000000e+00</td>\n",
       "      <td>11.260274</td>\n",
       "      <td>0.000000</td>\n",
       "      <td>2600.0</td>\n",
       "      <td>6184.0</td>\n",
       "      <td>4.55</td>\n",
       "      <td>9.08</td>\n",
       "      <td>5.344842</td>\n",
       "      <td>8.3650</td>\n",
       "      <td>6.87690</td>\n",
       "      <td>0.000</td>\n",
       "      <td>0.000000</td>\n",
       "      <td>9.808</td>\n",
       "      <td>0.838091</td>\n",
       "      <td>2.211434e+11</td>\n",
       "      <td>46.436</td>\n",
       "      <td>2.207205e+11</td>\n",
       "      <td>0.181</td>\n",
       "      <td>0.021</td>\n",
       "      <td>0.00000</td>\n",
       "      <td>0.00000</td>\n",
       "      <td>0.01910</td>\n",
       "      <td>0.18284</td>\n",
       "      <td>2.663930e+10</td>\n",
       "      <td>2.211434e+11</td>\n",
       "      <td>0.125490</td>\n",
       "      <td>18.1</td>\n",
       "      <td>0.000000</td>\n",
       "      <td>4.229530e+08</td>\n",
       "      <td>521.855886</td>\n",
       "      <td>0.638636</td>\n",
       "      <td>0.000000</td>\n",
       "    </tr>\n",
       "  </tbody>\n",
       "</table>\n",
       "</div>"
      ],
      "text/plain": [
       "     market_cap  enterprise_value  total_revenue  profit_margins  \\\n",
       "0  4.832119e+11      7.293640e+11   5.815630e+11         0.26889   \n",
       "1  2.776947e+11      3.399071e+11   2.064140e+11         0.27585   \n",
       "2  2.486832e+11      7.077875e+11   1.189380e+11         0.26661   \n",
       "3  2.007233e+11      1.888459e+11   8.271054e+10         0.17263   \n",
       "4  1.483266e+11      4.345411e+10   2.775135e+10         0.30292   \n",
       "\n",
       "   operating_margins  dividend_rate   beta        ebitda  trailing_pe  \\\n",
       "0            0.39067           9.28  1.097  2.910870e+11     2.914199   \n",
       "1            0.33672           3.84  0.821  8.536400e+10     5.319043   \n",
       "2            0.35896           1.50  0.499  0.000000e+00     8.557632   \n",
       "3            0.18666           0.76  0.604  2.225154e+10    14.166667   \n",
       "4            0.34960           0.35  1.291  0.000000e+00    11.260274   \n",
       "\n",
       "   forward_pe      volume  average_volume  fifty_two_week_low  \\\n",
       "0    4.821608   2993300.0      13234123.0               23.61   \n",
       "1    5.421849   4387500.0      25978987.0               61.00   \n",
       "2    6.867500  10480300.0      24528203.0               22.62   \n",
       "3   12.750000   8618800.0      24680549.0               12.33   \n",
       "4    0.000000      2600.0          6184.0                4.55   \n",
       "\n",
       "   fifty_two_week_high  price_to_sales_trailing_12_months  fifty_day_average  \\\n",
       "0                41.86                           0.830885            37.0388   \n",
       "1                98.29                           1.345329            66.0796   \n",
       "2                31.29                           2.090864            27.2770   \n",
       "3                16.88                           2.426816            13.4434   \n",
       "4                 9.08                           5.344842             8.3650   \n",
       "\n",
       "   two_hundred_day_average  trailing_annual_dividend_rate  \\\n",
       "0                 31.98075                          9.657   \n",
       "1                 73.07495                          4.037   \n",
       "2                 26.66895                          0.503   \n",
       "3                 14.10370                          0.762   \n",
       "4                  6.87690                          0.000   \n",
       "\n",
       "   trailing_annual_dividend_yield  book_value  price_to_book    total_cash  \\\n",
       "0                        0.247298      28.417       1.350600  6.098500e+10   \n",
       "1                        0.063147      43.051       1.498688  2.423800e+10   \n",
       "2                        0.018602      18.250       1.505205  3.943250e+11   \n",
       "3                        0.061254       5.403       2.359800  1.243052e+10   \n",
       "4                        0.000000       9.808       0.838091  2.211434e+11   \n",
       "\n",
       "   total_cash_per_share    total_debt  earnings_quarterly_growth  \\\n",
       "0                 4.675  2.793750e+11                     -0.470   \n",
       "1                 5.580  7.934600e+10                     -0.848   \n",
       "2                40.237  8.270340e+11                      0.181   \n",
       "3                 0.789  4.096231e+09                     -0.157   \n",
       "4                46.436  2.207205e+11                      0.181   \n",
       "\n",
       "   revenue_growth  gross_margins  ebitda_margins  return_on_assets  \\\n",
       "0          -0.334        0.50633         0.50053           0.15427   \n",
       "1          -0.131        0.39091         0.41356           0.09975   \n",
       "2           0.135        0.00000         0.00000           0.01419   \n",
       "3           0.051        0.49945         0.26903           0.08271   \n",
       "4           0.021        0.00000         0.00000           0.01910   \n",
       "\n",
       "   return_on_equity  gross_profits  total_assets_approx  asset_turnover  \\\n",
       "0           0.39988   3.341000e+11         6.098500e+10        9.536164   \n",
       "1           0.29588   1.023130e+11         2.423800e+10        8.516132   \n",
       "2           0.18295   1.155700e+11         3.943250e+11        0.301624   \n",
       "3           0.16919   3.928676e+10         1.243052e+10        6.653829   \n",
       "4           0.18284   2.663930e+10         2.211434e+11        0.125490   \n",
       "\n",
       "   earnings_growth_rate  dividend_payout_ratio        equity  debt_to_equity  \\\n",
       "0                 -47.0               0.000000 -2.183900e+11       -1.279248   \n",
       "1                 -84.8               0.000000 -5.510800e+10       -1.439827   \n",
       "2                  18.1             277.900552 -4.327090e+11       -1.911294   \n",
       "3                 -15.7               0.000000  8.334286e+09        0.491492   \n",
       "4                  18.1               0.000000  4.229530e+08      521.855886   \n",
       "\n",
       "        roi      roce  \n",
       "0  0.797356  0.381710  \n",
       "1  0.607266  0.239088  \n",
       "2  0.168042  0.000000  \n",
       "3  0.437979  0.108640  \n",
       "4  0.638636  0.000000  "
      ]
     },
     "execution_count": 7,
     "metadata": {},
     "output_type": "execute_result"
    }
   ],
   "source": [
    "df_top_companies_cols_num = df_top_companies.select_dtypes(include=[\"int\", \"number\", \"float64\"])\n",
    "df_top_companies_cols_num.head(5)"
   ]
  },
  {
   "cell_type": "markdown",
   "metadata": {},
   "source": [
    "To promote effective portfolio diversification, we refine the dataset to include only one ticker per company, choosing the 10 companies with the best financial metrics."
   ]
  },
  {
   "cell_type": "markdown",
   "metadata": {},
   "source": [
    "### Companies Analisys"
   ]
  },
  {
   "cell_type": "markdown",
   "metadata": {},
   "source": [
    "#### Outlier Analysis"
   ]
  },
  {
   "cell_type": "code",
   "execution_count": null,
   "metadata": {},
   "outputs": [],
   "source": [
    "top_companies_cols = df_top_companies_cols_num.columns\n",
    "num_columns = len(top_companies_cols)\n",
    "num_rows = (num_columns + 2) // 3\n",
    "\n",
    "subplot_titles = [str(col) for col in top_companies_cols]\n",
    "\n",
    "fig = sp.make_subplots(rows=num_rows, cols=3, subplot_titles=subplot_titles)\n",
    "\n",
    "for i, column in enumerate(top_companies_cols, start=1):\n",
    "    row = (i - 1) // 3 + 1\n",
    "    col = (i - 1) % 3 + 1\n",
    "\n",
    "    trace = go.Box(y=df_top_companies[column], name=column, \n",
    "                   marker_color='lightseagreen', boxpoints='outliers', \n",
    "                   jitter=0.7, hoverinfo='y+text', \n",
    "                   text=(df_top_companies['ticker']+ ' - ' + df_top_companies['long_name']))\n",
    "\n",
    "    fig.add_trace(trace, row=row, col=col)\n",
    "\n",
    "fig.update_layout(title_text='Boxplot of Numerical Variables', height=300*num_rows, showlegend=False, template='plotly_dark')\n",
    "fig.show()"
   ]
  },
  {
   "cell_type": "markdown",
   "metadata": {},
   "source": [
    "**Petróleo Brasileiro S.A. - Petrobras: (PETR3.SA)**\n",
    "\n",
    "- **`market_cap`**:  Petrobras has an atypical market capitalization of **R$ 483,211,900,000**, reflecting its **significant size** in the energy sector.\n",
    "- **`total_revenue`**: **R$ 581.563 billion**. This metric reflects the total amount of revenue generated by Petrobras in its financial operations.\n",
    "- **`dividend_rate`**: The dividend rate of Petrobras at **9.28%** of the current stock value is **relatively high**, which may be seen as **positive** for investors seeking to receive **significant dividends**.\n",
    "- **`ebitda`**: Petrobras recorded an impressive EBITDA of **R$ 291 billion**, highlighting its **solid operational** and **financial performance** in the energy sector.\n",
    "- **`trailing_annual_dividend_rate`**: The unusual value of **9.65%** for Petrobras may be considered an **outlier**, indicating a **significantly high dividend rate** compared to other companies.\n",
    "- **`trailing_annual_dividend_yield`**: Petrobras's dividend yield is **0.24%**, showing the **dividends paid to investors** as a percentage of the stock price.\n",
    "- **`gross_profits`**: The field is **R$ 334.1 billion**, representing the company's total revenue before the deduction of operating expenses, taxes, and other charges.\n",
    "- **`roce`**: Return on Capital Employed is **0.38171**, indicating the company's efficiency in generating a return on invested capital. The higher the value, the better the efficiency in using its financial resources.\n",
    "\n",
    "**Itaúsa S.A. (ITSA4.SA)**\n",
    "\n",
    "- **`profit_margins`**:The field for Itaúsa represents the company's profit margin, which is **1.69976%**. This metric indicates the percentage of profit earned by Itaúsa in relation to its total revenue. That margin could be considered relatively low.\n",
    "- **`price_to_sales_trailing_12_months`**: The value of 11.09017 for Itaúsa indicates that the market is willing to pay **11.09x**  the company's sales revenue over the past 12 months for each share, which may reflect optimism regarding the company's financial performance.\n",
    "\n",
    "**Banco BTG Pactual S.A. (BPAC5.SA)**\n",
    "\n",
    "- **`beta`**:The beta value of 1.291 for Banco BTG Pactual S.A. indicates a relatively high level of volatility in its shares in relation to the market.\n",
    "- **`debt_to_equity`**: Banco BTG has a debt-to-equity ratio of **521.86**, reflecting a high-leverage strategy with intensive use of debt compared to its equity. This means that for every real of net equity, the bank has approximately **R$ 521,86 in debt**.\n",
    "\n",
    "**Telefônica Brasil S.A. (VIVT3.SA)**\n",
    "\n",
    "- **`beta`**: The company Vivo has a beta of **0.061**, indicating that its shares have very low volatility relative to the market, suggesting a less risky investment profile.\n",
    "\n",
    "**Vale S.A. (VALE3.SA)**\n",
    "\n",
    "- **`ebitda`**: Vale recorded an EBITDA of **R$ 85.364 billion**, highlighting its solid operational and financial performance in the banking sector.\n",
    "- **`fifty_two_week_low`**: Vale stock hits 52-week low. Closing value was **R$ 61.00**.\n",
    "\n",
    "**Centrais Elétricas Brasileiras S.A. - Eletrobrás (ELET3.SA)**\n",
    "\n",
    "- **`trailing_pe`**: Eletronbrás has a P/E ratio of **34.7**, which is considered relatively high. This means that investors are willing to pay a relatively high price for the company's shares.\n",
    "\n",
    "**WEG S.A. (WEGE3.SA)**\n",
    "\n",
    "- **`forward_pe`**: Investors are willing to pay **24.44x times** the company's expected earnings.\n",
    "_ **`price_to_book`**: Investors are willing to pay a relatively high price of **9x times** the company's book value.\n",
    "\n",
    "**Banco do Brasil S.A. (BBAS3.SA)**\n",
    "\n",
    "- **`dividend_payout_ratio`**: The dividend payout ratio (DPR) of **5.17%** is an unusually high number. This means that the company is distributing a very large portion of its profits to shareholders in the form of dividends."
   ]
  },
  {
   "cell_type": "markdown",
   "metadata": {},
   "source": [
    "### Histogram"
   ]
  },
  {
   "cell_type": "code",
   "execution_count": null,
   "metadata": {},
   "outputs": [],
   "source": [
    "numeric_cols = df_top_companies_cols_num.columns\n",
    "subplot_titles = [str(col) for col in numeric_cols]\n",
    "columns_per_row = 3\n",
    "\n",
    "num_rows = len(numeric_cols) // columns_per_row + (len(numeric_cols) % columns_per_row > 0)\n",
    "fig = sp.make_subplots(rows=num_rows, cols=columns_per_row, subplot_titles=subplot_titles)\n",
    "\n",
    "for i, column in enumerate(numeric_cols):\n",
    "    row = i // columns_per_row + 1\n",
    "    col = i % columns_per_row + 1\n",
    "    \n",
    "    fig.add_trace(go.Histogram(x=df_top_companies_cols_num[column], name=column, marker_color='lightseagreen'), row=row, col=col)\n",
    "\n",
    "fig.update_layout(title='Histograms by Column', height=300 * num_rows, showlegend=False, template='plotly_dark')\n",
    "fig.show()"
   ]
  },
  {
   "cell_type": "markdown",
   "metadata": {},
   "source": [
    "- **`market_cap`**: Market capitalization ranges from approximately **R$ 74 billion** to **R$ 483 billion** Brazilian reais, with some extremely high values. The market capitalization distribution is positively skewed, with a long right tail in the histogram.\n",
    "- **`enterprise_value`**: Enterprise value ranges from about **R$ 34 billion** to **R$ 957 billion** Brazilian reais, with significantly different values. The long tail occurs because the exponential distribution is more likely to produce extreme values that are higher than the mean.\n",
    "- **`total_revenue`**: Total revenue ranges from about **R$ 7.8 billion** to **R$ 581.6 billion** Brazilian reais, with a wide distribution of values. The graph shown has different mean and median, suggesting a lognormal distribution is likely.\n",
    "- **`profit_margins`**: Profit margins vary from approximately **4.8%** to **27.9%**, showing diversity in margins.\n",
    "- **`operating_margins`**: Operating margins vary from approximately **0.2%** to **0.46%**, with most values concentrated in the lower range.\n",
    "- **`dividend_rate`**: Dividend rate varies from **0.22%** to **9.28%**, with most values concentrated around **0.2%** to **0.3%**.\n",
    "- **`beta`**: Beta values range from about **0.06** to **2.91**, with most values below **1**, suggesting lower volatility compared to the market.\n",
    "- **`ebitda:`**: EBITDA ranges from approximately **R$ 0** to **R$ 291 billion** Brazilian reais, with highly dispersed values.\n",
    "- **`trailing_pe`**: Trailing P/E varies from approximately **3.8** to **34.7**, with most values below **10**.\n",
    "- **`forward_pe`**: Forward P/E varies from approximately **0** to **73.1**, with dispersed values.\n",
    "- **`volume:`**: Trading volume varies significantly, with some very high values. The distribution is positively skewed.\n",
    "- **`average_volume`**: Average trading volume ranges from approximately **4.2 million** to **13.2 million**, with most values concentrated in the lower range.\n",
    "- **`fifty_two_week_low`**: Fifty-two-week lows range from **0** to approximately **66** Brazilian reais.\n",
    "- **`fifty_two_week_high`**: Fifty-two-week highs range from **0** to approximately **73** Brazilian reais.\n",
    "- **`price_to_sales_trailing_12_months`**: Price-to-sales ratio for the trailing 12 months ranges from approximately **0.83** to **4.36**, with dispersed values.\n",
    "- **`fifty_day_average`**: Fifty-day average ranges from approximately **8.36** to **66.08**.\n",
    "- **`two_hundred_day_average`**: Two-hundred-day average ranges from approximately **6.88** to **73.07**.\n",
    "- **`trailing_annual_dividend_rate`**: Trailing annual dividend rate ranges from **0** to **9.66** Brazilian reais.\n",
    "- **`trailing_annual_dividend_yield`**: Trailing annual dividend yield ranges from **0.06%** to **2.47%**.\n",
    "- **`book_value:`**: Book value ranges from approximately **0.15** to **28.42** Brazilian reais.\n",
    "- **`price_to_book`**: Price-to-book ratio ranges from approximately **0.39** to **37.04**.\n",
    "- **`total_cash`**: Total cash ranges from approximately **R$ 4.6 billion** to **R$ 309.8 billion** Brazilian reais.\n",
    "- **`total_cash_per_share`**: Total cash per share ranges from approximately **0.02** to **46.44** Brazilian reais.\n",
    "- **`total_debt`**: Total debt ranges from approximately **R$ 1.3 billion** to **R$ 957 billion** Brazilian reais.\n",
    "- **`earnings_quarterly_growth`**: Quarterly earnings growth ranges from **-84.8%** to **47.2%**.\n",
    "- **`revenue_growth`**: Revenue growth ranges from **-0.27%** to **0.5%**.\n",
    "- **`gross_margins`**: Gross margins vary from **0.13%** to **4.5%**.\n",
    "- **`ebitda_margins`**: EBITDA margins vary from **0.08%** to **0.91%**.\n",
    "- **`return_on_assets`**: Return on assets varies from **0.08%** to **0.68%**.\n",
    "- **`return_on_equity`**: Return on equity varies from **0.17%** to **0.68%**.\n",
    "- **`gross_profits`**: Gross profits vary from approximately **R$ 3.5 billion** to **R$ 581.6 billion** Brazilian reais.\n",
    "- **`total_assets_approx`**: Total assets approximate range from approximately **R$ 4.1 billion** to **R$ 30.6 billion** Brazilian reais.\n",
    "- **`asset_turnover`**: Asset turnover varies from **0.02** to **0.08**.\n",
    "- **`earnings_growth_rate`**: Earnings growth rate varies from **-47%** to **277.9%**.\n",
    "- **`dividend_payout_ratio`**: Dividend payout ratio varies from **0%** to **134.3%**.\n",
    "- **`equity`**: Equity varies from approximately **R$ 2.1 billion** to **R$ 30.6 billion** Brazilian reais.\n",
    "- **`debt_to_equity`**: Debt-to-equity ratio varies from **0.01** to **2.87**.\n",
    "- **`roi`**: ROI varies from **0.01** to **2.66**.\n",
    "- **`roce`**: ROCE varies from **-2.35** to **0.80**.\n"
   ]
  },
  {
   "cell_type": "markdown",
   "metadata": {},
   "source": [
    "### Correlation and Dispersion"
   ]
  },
  {
   "cell_type": "code",
   "execution_count": null,
   "metadata": {},
   "outputs": [],
   "source": [
    "df_top_companies_corr = df_top_companies_cols_num.corr()\n",
    "color_scale = [[0, 'rgb(150, 245, 231)'], [0.5, 'rgb(100, 195, 181)'], [1, 'rgb(50, 145, 131)']]\n",
    "fig = px.imshow(df_top_companies_corr, text_auto=True, aspect=\"auto\", width=3000, height=1000, template=\"plotly_dark\", title=\"Mapa de Calor: Correlação entre as variaveis\", color_continuous_scale=color_scale)\n",
    "fig.show()"
   ]
  },
  {
   "cell_type": "markdown",
   "metadata": {},
   "source": [
    "**Correlações de Crescimento dos Lucros**:\n",
    "\n",
    "- A correlação perfeita **(1.000000)** entre **`earnings_growth_rate`** e **`earnings_quarterly_growth`** significa que qualquer variação nos lucros de um trimestre para o outro é refletida igualmente na taxa anual de crescimento dos lucros. Isso pode ser útil para prever tendências futuras de lucratividade baseadas em dados históricos de crescimento.\n",
    "\n",
    "**Correlações de Médias Móveis de Ações**:\n",
    "\n",
    "- A alta correlação entre **`two_hundred_day_average`**, **`fifty_day_average`**, e os extremos do mercado (`fifty_two_week_low` e `fifty_two_week_high`) com valores acima de **0.980** indica que as médias móveis de ações são **indicadores confiáveis** para identificar **tendências de longo prazo** e podem ser usadas para sinalizar pontos de **entrada** e **saída** de investimentos.\n",
    "\n",
    "**Correlações de Rendimento Corporativo**:\n",
    "\n",
    "- **`total_revenue`** tem uma **correlação forte** com **`ebitda`** e **`gross_profits`**, ilustrando que empresas com **maiores receitas** geralmente relatam **maiores lucros brutos e EBITDA**, que é um indicador de eficiência operacional e capacidade de **geração de lucro**.\n",
    "\n",
    "**Dinâmica de Valor de Mercado**:\n",
    "\n",
    "- A correlação entre **`market_cap`** e variáveis como **`total_revenue`**, gross_profits, e dividend_rate (variando de 0.870635 a 0.943719) mostra como o valor de mercado de uma empresa é influenciado por sua performance financeira e política de dividendos. Isso sugere que investidores valorizam a capacidade de uma empresa de sustentar crescimento de receita e lucros, assim como recompensar acionistas com dividendos.\n",
    "\n",
    "**Relações de Dividendos e Desempenho**:\n",
    "\n",
    "- A correlação entre trailing_annual_dividend_rate, trailing_annual_dividend_yield, e dividend_rate indica que as empresas que oferecem maiores dividendos tendem a ter um rendimento anual acumulado mais alto, o que pode atrair investidores que buscam renda regular de dividendos.\n",
    "\n",
    "**Indicadores de Eficiência e Retorno**:\n",
    "\n",
    "- roce está correlacionado com dividend_rate e ebitda, sugerindo que o retorno sobre o capital empregado é uma métrica importante que pode impactar tanto a capacidade de uma empresa de pagar dividendos quanto sua eficiência operacional geral.\n",
    "\n",
    "**Correlações Negativas de Patrimônio e Dívida**:\n",
    "\n",
    "- Uma forte correlação negativa entre equity e total_debt (-0.941708) indica que empresas com alto patrimônio líquido tendem a ter menos dívida. Isso pode ser interpretado como um sinal de solidez financeira e menor alavancagem, o que é frequentemente visto como um ponto positivo pelos investidores.\n",
    "\n",
    "**Correlações Negativas de Liquidez e Margens**:\n",
    "\n",
    "- total_cash_per_share demonstra uma correlação negativa com gross_margins e ebitda_margins, destacando que uma liquidez por ação maior não necessariamente se traduz em margens de lucro maiores. Isso pode ocorrer em cenários onde a liquidez é mantida como uma reserva estratégica ou usada em investimentos que não geram retorno imediato.\n",
    "\n",
    "**Inter-relações de Dívida, Ativos e Rentabilidade**:\n",
    "\n",
    "- total_debt está fortemente relacionado com total_assets_approx (0.722928), o que pode indicar que empresas maiores com mais ativos tendem a ter mais dívida, o que é normal dada a necessidade de financiamento para expansão e crescimento.\n",
    "\n",
    "**Correlações Diversas**:\n",
    "\n",
    "- Outras correlações notáveis incluem a relação entre roi e roce, e return_on_assets e return_on_equity, sugerindo que diferentes métricas de retorno estão alinhadas e que melhorias em uma área de desempenho financeiro podem levar a melhorias em outras."
   ]
  },
  {
   "cell_type": "markdown",
   "metadata": {},
   "source": [
    "### Análise de Valor de Mercado e Valor da Empresa"
   ]
  },
  {
   "cell_type": "code",
   "execution_count": null,
   "metadata": {},
   "outputs": [],
   "source": [
    "df_top_companies.sort_values(by = 'market_cap', ascending=True, inplace=True)\n",
    "\n",
    "fig = px.bar(df_top_companies, title='Market Cap', x='long_name', y='market_cap', color_discrete_sequence=['rgb(100, 195, 181)'], template='plotly_dark', hover_name='ticker', height=600)\n",
    "formatted_market_cap = [f'R${x:.2f}B' for x in (df_top_companies['market_cap'] / 1e9)]\n",
    "fig.update_traces(text=formatted_market_cap, textposition='outside', textfont=dict(color='white'))\n",
    "fig.update_xaxes(title='Companies')\n",
    "fig.update_yaxes(title='Market Cap (R$)')\n",
    "fig.show()"
   ]
  },
  {
   "cell_type": "markdown",
   "metadata": {},
   "source": []
  },
  {
   "cell_type": "code",
   "execution_count": null,
   "metadata": {},
   "outputs": [],
   "source": [
    "df_top_companies.sort_values(by = 'enterprise_value', ascending=True, inplace=True)\n",
    "\n",
    "fig = px.bar(df_top_companies, title='Enterprise Value', x='long_name', y='enterprise_value', color_discrete_sequence=['rgb(100, 195, 181)'], template='plotly_dark', hover_name='ticker', height=600)\n",
    "formatted_enterprise_value = [f'R${x:.2f}B' for x in (df_top_companies['enterprise_value'] / 1e9)]\n",
    "fig.update_traces(text=formatted_enterprise_value, textposition='outside', textfont=dict(color='white'))\n",
    "fig.update_xaxes(title='Companies')\n",
    "fig.update_yaxes(title='Enterprise Value (R$)')\n",
    "fig.show()"
   ]
  },
  {
   "cell_type": "markdown",
   "metadata": {},
   "source": []
  },
  {
   "cell_type": "markdown",
   "metadata": {},
   "source": [
    "### Rentabilidade e Margens:"
   ]
  },
  {
   "cell_type": "code",
   "execution_count": null,
   "metadata": {},
   "outputs": [],
   "source": [
    "df_top_companies.sort_values(by = 'total_revenue', ascending=True, inplace=True)\n",
    "\n",
    "fig = px.bar(df_top_companies, title='Total Revenue', x='long_name', y='total_revenue', color_discrete_sequence=['rgb(100, 195, 181)'], template='plotly_dark', hover_name='ticker', height=600)\n",
    "formatted_total_revenue = [f'R${x:.2f}B' for x in (df_top_companies['total_revenue'] / 1e9)]\n",
    "fig.update_traces(text=formatted_total_revenue, textposition='outside', textfont=dict(color='white'))\n",
    "fig.update_xaxes(title='Companies')\n",
    "fig.update_yaxes(title='Total Revenue (R$)')\n",
    "fig.show()"
   ]
  },
  {
   "cell_type": "markdown",
   "metadata": {},
   "source": []
  },
  {
   "cell_type": "code",
   "execution_count": null,
   "metadata": {},
   "outputs": [],
   "source": [
    "df_top_companies.sort_values(by = 'profit_margins', ascending=True, inplace=True)\n",
    "\n",
    "fig_op_margin = px.bar(df_top_companies, title='Profit Margin', x='long_name', y='profit_margins', color_discrete_sequence=['rgb(100, 195, 181)'], hover_name=df_top_companies.ticker, height=600)\n",
    "fig_op_margin.update_traces(text=[f'{x:.2f}%' for x in (df_top_companies['profit_margins']*100)], textposition='outside',textfont=dict(color='white'))\n",
    "fig_op_margin.update_layout(title='Profit Margin', xaxis_title='Sector', yaxis_title='Profit Margins (%)', template = 'plotly_dark')\n",
    "fig_op_margin.show()"
   ]
  },
  {
   "cell_type": "markdown",
   "metadata": {},
   "source": []
  },
  {
   "cell_type": "code",
   "execution_count": null,
   "metadata": {},
   "outputs": [],
   "source": [
    "df_top_companies.sort_values(by = 'operating_margins', ascending=True, inplace=True)\n",
    "\n",
    "fig_op_margin = px.bar(df_top_companies, title='Operating Margin', x='long_name', y='operating_margins', color_discrete_sequence=['rgb(100, 195, 181)'], hover_name=df_top_companies.ticker, height=600)\n",
    "fig_op_margin.update_traces(text=[f'{x:.2f}%' for x in (df_top_companies['operating_margins']*100)], textposition='outside',textfont=dict(color='white'))\n",
    "fig_op_margin.update_layout(xaxis_title='Sector', yaxis_title='Profit Margins (%)', template = 'plotly_dark')\n",
    "fig_op_margin.show()"
   ]
  },
  {
   "cell_type": "markdown",
   "metadata": {},
   "source": [
    "### Avaliação de Desempenho e Crescimento:"
   ]
  },
  {
   "cell_type": "code",
   "execution_count": null,
   "metadata": {},
   "outputs": [],
   "source": [
    "df_top_companies.sort_values(by = 'trailing_pe', ascending=True, inplace=True)\n",
    "\n",
    "fig_op_margin = px.bar(df_top_companies, title='Trailing PE', x='long_name', y='trailing_pe', color_discrete_sequence=['rgb(100, 195, 181)'], hover_name=df_top_companies.ticker, height=600)\n",
    "fig_op_margin.update_traces(text=[f'{x:.2f}' for x in (df_top_companies['trailing_pe'])], textposition='outside',textfont=dict(color='white'))\n",
    "fig_op_margin.update_layout(xaxis_title='Sector', yaxis_title='Trailing P/E', template = 'plotly_dark')\n",
    "fig_op_margin.show()"
   ]
  },
  {
   "cell_type": "markdown",
   "metadata": {},
   "source": []
  },
  {
   "cell_type": "code",
   "execution_count": null,
   "metadata": {},
   "outputs": [],
   "source": [
    "df_top_companies.sort_values(by = 'forward_pe', ascending=True, inplace=True)\n",
    "\n",
    "fig_op_margin = px.bar(df_top_companies, title='Forward P/E', x='long_name', y='forward_pe', color_discrete_sequence=['rgb(100, 195, 181)'], hover_name=df_top_companies.ticker, height=600)\n",
    "fig_op_margin.update_traces(text=[f'{x:.2f}%' for x in (df_top_companies['forward_pe'])], textposition='outside',textfont=dict(color='white'))\n",
    "fig_op_margin.update_layout(xaxis_title='Companies', yaxis_title='Forward P/E', template = 'plotly_dark')\n",
    "fig_op_margin.show()"
   ]
  },
  {
   "cell_type": "markdown",
   "metadata": {},
   "source": []
  },
  {
   "cell_type": "code",
   "execution_count": null,
   "metadata": {},
   "outputs": [],
   "source": [
    "df_top_companies.sort_values(by = 'earnings_quarterly_growth', ascending=True, inplace=True)\n",
    "\n",
    "fig_op_margin = px.bar(df_top_companies, title='Earnings Quarterly Growth', x='long_name', y='earnings_quarterly_growth', color_discrete_sequence=['rgb(100, 195, 181)'], hover_name=df_top_companies.ticker, height=600)\n",
    "fig_op_margin.update_traces(text=[f'{x:.2f}%' for x in (df_top_companies['earnings_quarterly_growth']*10)], textposition='outside',textfont=dict(color='white'))\n",
    "fig_op_margin.update_layout(xaxis_title='Companies', yaxis_title='Earnings Quarterly Growth (%)', template = 'plotly_dark')\n",
    "fig_op_margin.show()"
   ]
  },
  {
   "cell_type": "markdown",
   "metadata": {},
   "source": []
  },
  {
   "cell_type": "code",
   "execution_count": null,
   "metadata": {},
   "outputs": [],
   "source": [
    "df_top_companies.sort_values(by = 'revenue_growth', ascending=True, inplace=True)\n",
    "\n",
    "fig_op_margin = px.bar(df_top_companies, title='Revenue Growth', x='long_name', y='revenue_growth', color_discrete_sequence=['rgb(100, 195, 181)'], hover_name=df_top_companies.ticker, height=600)\n",
    "fig_op_margin.update_traces(text=[f'{x:.2f}%' for x in (df_top_companies['revenue_growth']*100)], textposition='outside',textfont=dict(color='white'))\n",
    "fig_op_margin.update_layout(xaxis_title='Companies', yaxis_title='Revenue Growth (%)', template = 'plotly_dark')\n",
    "fig_op_margin.show()"
   ]
  },
  {
   "cell_type": "markdown",
   "metadata": {},
   "source": []
  },
  {
   "cell_type": "markdown",
   "metadata": {},
   "source": [
    "### Eficiência e Uso de Capital:"
   ]
  },
  {
   "cell_type": "code",
   "execution_count": null,
   "metadata": {},
   "outputs": [],
   "source": [
    "df_top_companies.sort_values(by = 'return_on_assets', ascending=True, inplace=True)\n",
    "\n",
    "fig_op_margin = px.bar(df_top_companies, title='Return on Assets', x='long_name', y='return_on_assets', color_discrete_sequence=['rgb(100, 195, 181)'], hover_name=df_top_companies.ticker, height=600)\n",
    "fig_op_margin.update_traces(text=[f'{x:.2f}%' for x in (df_top_companies['return_on_assets']*100)], textposition='outside',textfont=dict(color='white'))\n",
    "fig_op_margin.update_layout(xaxis_title='Companies', yaxis_title='Return on Assets (%)', template = 'plotly_dark')\n",
    "fig_op_margin.show()"
   ]
  },
  {
   "cell_type": "markdown",
   "metadata": {},
   "source": []
  },
  {
   "cell_type": "code",
   "execution_count": null,
   "metadata": {},
   "outputs": [],
   "source": [
    "df_top_companies.sort_values(by = 'return_on_equity', ascending=True, inplace=True)\n",
    "\n",
    "fig_op_margin = px.bar(df_top_companies, title='Return on Equity', x='long_name', y='return_on_equity', color_discrete_sequence=['rgb(100, 195, 181)'], hover_name=df_top_companies.ticker, height=600)\n",
    "fig_op_margin.update_traces(text=[f'{x:.2f}%' for x in (df_top_companies['return_on_equity']*100)], textposition='outside',textfont=dict(color='white'))\n",
    "fig_op_margin.update_layout(xaxis_title='Companies', yaxis_title='Return on Equity (%)', template = 'plotly_dark')\n",
    "fig_op_margin.show()"
   ]
  },
  {
   "cell_type": "markdown",
   "metadata": {},
   "source": []
  },
  {
   "cell_type": "code",
   "execution_count": null,
   "metadata": {},
   "outputs": [],
   "source": [
    "df_top_companies.sort_values(by = 'debt_to_equity', ascending=True, inplace=True)\n",
    "\n",
    "fig_op_margin = px.bar(df_top_companies, title='Debt to Equity', x='long_name', y='debt_to_equity', color_discrete_sequence=['rgb(100, 195, 181)'], hover_name=df_top_companies.ticker, height=600)\n",
    "fig_op_margin.update_traces(text=[f'{x:.2f}%' for x in (df_top_companies['debt_to_equity']*10)], textposition='outside',textfont=dict(color='white'))\n",
    "fig_op_margin.update_layout(xaxis_title='Companies', yaxis_title='Debt to Equity (%)', template = 'plotly_dark')\n",
    "fig_op_margin.show()"
   ]
  },
  {
   "cell_type": "markdown",
   "metadata": {},
   "source": []
  },
  {
   "cell_type": "code",
   "execution_count": 8,
   "metadata": {},
   "outputs": [
    {
     "data": {
      "application/vnd.plotly.v1+json": {
       "config": {
        "plotlyServerURL": "https://plot.ly"
       },
       "data": [
        {
         "alignmentgroup": "True",
         "hovertemplate": "<b>%{hovertext}</b><br><br>long_name=%{x}<br>roi=%{y}<extra></extra>",
         "hovertext": [
          "ITSA4.SA",
          "BBAS3.SA",
          "BBDC4.SA",
          "ITUB4.SA",
          "WEGE3.SA",
          "ELET3.SA",
          "ABEV3.SA",
          "VIVT3.SA",
          "VALE3.SA",
          "BPAC5.SA",
          "PETR3.SA"
         ],
         "legendgroup": "",
         "marker": {
          "color": "rgb(100, 195, 181)",
          "pattern": {
           "shape": ""
          }
         },
         "name": "",
         "offsetgroup": "",
         "orientation": "v",
         "showlegend": false,
         "text": [
          "0.83%",
          "1.00%",
          "1.34%",
          "1.68%",
          "2.44%",
          "2.96%",
          "4.38%",
          "5.69%",
          "6.07%",
          "6.39%",
          "7.97%"
         ],
         "textfont": {
          "color": "white"
         },
         "textposition": "outside",
         "type": "bar",
         "x": [
          "Itaúsa S.A.",
          "Banco do Brasil S.A.",
          "Banco Bradesco S.A.",
          "Itaú Unibanco Holding S.A.",
          "WEG S.A.",
          "Centrais Elétricas Brasileiras S.A. - Eletrobrás",
          "Ambev S.A.",
          "Telefônica Brasil S.A.",
          "Vale S.A.",
          "Banco BTG Pactual S.A.",
          "Petróleo Brasileiro S.A. - Petrobras"
         ],
         "xaxis": "x",
         "y": [
          0.0830750376669602,
          0.099566415668176,
          0.1344617259903882,
          0.168041966281419,
          0.2436080746433283,
          0.2956392788982476,
          0.4379789886362759,
          0.5687666742729628,
          0.6072659084393137,
          0.6386358679125874,
          0.7973562728430369
         ],
         "yaxis": "y"
        }
       ],
       "layout": {
        "barmode": "relative",
        "height": 600,
        "legend": {
         "tracegroupgap": 0
        },
        "template": {
         "data": {
          "bar": [
           {
            "error_x": {
             "color": "#f2f5fa"
            },
            "error_y": {
             "color": "#f2f5fa"
            },
            "marker": {
             "line": {
              "color": "rgb(17,17,17)",
              "width": 0.5
             },
             "pattern": {
              "fillmode": "overlay",
              "size": 10,
              "solidity": 0.2
             }
            },
            "type": "bar"
           }
          ],
          "barpolar": [
           {
            "marker": {
             "line": {
              "color": "rgb(17,17,17)",
              "width": 0.5
             },
             "pattern": {
              "fillmode": "overlay",
              "size": 10,
              "solidity": 0.2
             }
            },
            "type": "barpolar"
           }
          ],
          "carpet": [
           {
            "aaxis": {
             "endlinecolor": "#A2B1C6",
             "gridcolor": "#506784",
             "linecolor": "#506784",
             "minorgridcolor": "#506784",
             "startlinecolor": "#A2B1C6"
            },
            "baxis": {
             "endlinecolor": "#A2B1C6",
             "gridcolor": "#506784",
             "linecolor": "#506784",
             "minorgridcolor": "#506784",
             "startlinecolor": "#A2B1C6"
            },
            "type": "carpet"
           }
          ],
          "choropleth": [
           {
            "colorbar": {
             "outlinewidth": 0,
             "ticks": ""
            },
            "type": "choropleth"
           }
          ],
          "contour": [
           {
            "colorbar": {
             "outlinewidth": 0,
             "ticks": ""
            },
            "colorscale": [
             [
              0,
              "#0d0887"
             ],
             [
              0.1111111111111111,
              "#46039f"
             ],
             [
              0.2222222222222222,
              "#7201a8"
             ],
             [
              0.3333333333333333,
              "#9c179e"
             ],
             [
              0.4444444444444444,
              "#bd3786"
             ],
             [
              0.5555555555555556,
              "#d8576b"
             ],
             [
              0.6666666666666666,
              "#ed7953"
             ],
             [
              0.7777777777777778,
              "#fb9f3a"
             ],
             [
              0.8888888888888888,
              "#fdca26"
             ],
             [
              1,
              "#f0f921"
             ]
            ],
            "type": "contour"
           }
          ],
          "contourcarpet": [
           {
            "colorbar": {
             "outlinewidth": 0,
             "ticks": ""
            },
            "type": "contourcarpet"
           }
          ],
          "heatmap": [
           {
            "colorbar": {
             "outlinewidth": 0,
             "ticks": ""
            },
            "colorscale": [
             [
              0,
              "#0d0887"
             ],
             [
              0.1111111111111111,
              "#46039f"
             ],
             [
              0.2222222222222222,
              "#7201a8"
             ],
             [
              0.3333333333333333,
              "#9c179e"
             ],
             [
              0.4444444444444444,
              "#bd3786"
             ],
             [
              0.5555555555555556,
              "#d8576b"
             ],
             [
              0.6666666666666666,
              "#ed7953"
             ],
             [
              0.7777777777777778,
              "#fb9f3a"
             ],
             [
              0.8888888888888888,
              "#fdca26"
             ],
             [
              1,
              "#f0f921"
             ]
            ],
            "type": "heatmap"
           }
          ],
          "heatmapgl": [
           {
            "colorbar": {
             "outlinewidth": 0,
             "ticks": ""
            },
            "colorscale": [
             [
              0,
              "#0d0887"
             ],
             [
              0.1111111111111111,
              "#46039f"
             ],
             [
              0.2222222222222222,
              "#7201a8"
             ],
             [
              0.3333333333333333,
              "#9c179e"
             ],
             [
              0.4444444444444444,
              "#bd3786"
             ],
             [
              0.5555555555555556,
              "#d8576b"
             ],
             [
              0.6666666666666666,
              "#ed7953"
             ],
             [
              0.7777777777777778,
              "#fb9f3a"
             ],
             [
              0.8888888888888888,
              "#fdca26"
             ],
             [
              1,
              "#f0f921"
             ]
            ],
            "type": "heatmapgl"
           }
          ],
          "histogram": [
           {
            "marker": {
             "pattern": {
              "fillmode": "overlay",
              "size": 10,
              "solidity": 0.2
             }
            },
            "type": "histogram"
           }
          ],
          "histogram2d": [
           {
            "colorbar": {
             "outlinewidth": 0,
             "ticks": ""
            },
            "colorscale": [
             [
              0,
              "#0d0887"
             ],
             [
              0.1111111111111111,
              "#46039f"
             ],
             [
              0.2222222222222222,
              "#7201a8"
             ],
             [
              0.3333333333333333,
              "#9c179e"
             ],
             [
              0.4444444444444444,
              "#bd3786"
             ],
             [
              0.5555555555555556,
              "#d8576b"
             ],
             [
              0.6666666666666666,
              "#ed7953"
             ],
             [
              0.7777777777777778,
              "#fb9f3a"
             ],
             [
              0.8888888888888888,
              "#fdca26"
             ],
             [
              1,
              "#f0f921"
             ]
            ],
            "type": "histogram2d"
           }
          ],
          "histogram2dcontour": [
           {
            "colorbar": {
             "outlinewidth": 0,
             "ticks": ""
            },
            "colorscale": [
             [
              0,
              "#0d0887"
             ],
             [
              0.1111111111111111,
              "#46039f"
             ],
             [
              0.2222222222222222,
              "#7201a8"
             ],
             [
              0.3333333333333333,
              "#9c179e"
             ],
             [
              0.4444444444444444,
              "#bd3786"
             ],
             [
              0.5555555555555556,
              "#d8576b"
             ],
             [
              0.6666666666666666,
              "#ed7953"
             ],
             [
              0.7777777777777778,
              "#fb9f3a"
             ],
             [
              0.8888888888888888,
              "#fdca26"
             ],
             [
              1,
              "#f0f921"
             ]
            ],
            "type": "histogram2dcontour"
           }
          ],
          "mesh3d": [
           {
            "colorbar": {
             "outlinewidth": 0,
             "ticks": ""
            },
            "type": "mesh3d"
           }
          ],
          "parcoords": [
           {
            "line": {
             "colorbar": {
              "outlinewidth": 0,
              "ticks": ""
             }
            },
            "type": "parcoords"
           }
          ],
          "pie": [
           {
            "automargin": true,
            "type": "pie"
           }
          ],
          "scatter": [
           {
            "marker": {
             "line": {
              "color": "#283442"
             }
            },
            "type": "scatter"
           }
          ],
          "scatter3d": [
           {
            "line": {
             "colorbar": {
              "outlinewidth": 0,
              "ticks": ""
             }
            },
            "marker": {
             "colorbar": {
              "outlinewidth": 0,
              "ticks": ""
             }
            },
            "type": "scatter3d"
           }
          ],
          "scattercarpet": [
           {
            "marker": {
             "colorbar": {
              "outlinewidth": 0,
              "ticks": ""
             }
            },
            "type": "scattercarpet"
           }
          ],
          "scattergeo": [
           {
            "marker": {
             "colorbar": {
              "outlinewidth": 0,
              "ticks": ""
             }
            },
            "type": "scattergeo"
           }
          ],
          "scattergl": [
           {
            "marker": {
             "line": {
              "color": "#283442"
             }
            },
            "type": "scattergl"
           }
          ],
          "scattermapbox": [
           {
            "marker": {
             "colorbar": {
              "outlinewidth": 0,
              "ticks": ""
             }
            },
            "type": "scattermapbox"
           }
          ],
          "scatterpolar": [
           {
            "marker": {
             "colorbar": {
              "outlinewidth": 0,
              "ticks": ""
             }
            },
            "type": "scatterpolar"
           }
          ],
          "scatterpolargl": [
           {
            "marker": {
             "colorbar": {
              "outlinewidth": 0,
              "ticks": ""
             }
            },
            "type": "scatterpolargl"
           }
          ],
          "scatterternary": [
           {
            "marker": {
             "colorbar": {
              "outlinewidth": 0,
              "ticks": ""
             }
            },
            "type": "scatterternary"
           }
          ],
          "surface": [
           {
            "colorbar": {
             "outlinewidth": 0,
             "ticks": ""
            },
            "colorscale": [
             [
              0,
              "#0d0887"
             ],
             [
              0.1111111111111111,
              "#46039f"
             ],
             [
              0.2222222222222222,
              "#7201a8"
             ],
             [
              0.3333333333333333,
              "#9c179e"
             ],
             [
              0.4444444444444444,
              "#bd3786"
             ],
             [
              0.5555555555555556,
              "#d8576b"
             ],
             [
              0.6666666666666666,
              "#ed7953"
             ],
             [
              0.7777777777777778,
              "#fb9f3a"
             ],
             [
              0.8888888888888888,
              "#fdca26"
             ],
             [
              1,
              "#f0f921"
             ]
            ],
            "type": "surface"
           }
          ],
          "table": [
           {
            "cells": {
             "fill": {
              "color": "#506784"
             },
             "line": {
              "color": "rgb(17,17,17)"
             }
            },
            "header": {
             "fill": {
              "color": "#2a3f5f"
             },
             "line": {
              "color": "rgb(17,17,17)"
             }
            },
            "type": "table"
           }
          ]
         },
         "layout": {
          "annotationdefaults": {
           "arrowcolor": "#f2f5fa",
           "arrowhead": 0,
           "arrowwidth": 1
          },
          "autotypenumbers": "strict",
          "coloraxis": {
           "colorbar": {
            "outlinewidth": 0,
            "ticks": ""
           }
          },
          "colorscale": {
           "diverging": [
            [
             0,
             "#8e0152"
            ],
            [
             0.1,
             "#c51b7d"
            ],
            [
             0.2,
             "#de77ae"
            ],
            [
             0.3,
             "#f1b6da"
            ],
            [
             0.4,
             "#fde0ef"
            ],
            [
             0.5,
             "#f7f7f7"
            ],
            [
             0.6,
             "#e6f5d0"
            ],
            [
             0.7,
             "#b8e186"
            ],
            [
             0.8,
             "#7fbc41"
            ],
            [
             0.9,
             "#4d9221"
            ],
            [
             1,
             "#276419"
            ]
           ],
           "sequential": [
            [
             0,
             "#0d0887"
            ],
            [
             0.1111111111111111,
             "#46039f"
            ],
            [
             0.2222222222222222,
             "#7201a8"
            ],
            [
             0.3333333333333333,
             "#9c179e"
            ],
            [
             0.4444444444444444,
             "#bd3786"
            ],
            [
             0.5555555555555556,
             "#d8576b"
            ],
            [
             0.6666666666666666,
             "#ed7953"
            ],
            [
             0.7777777777777778,
             "#fb9f3a"
            ],
            [
             0.8888888888888888,
             "#fdca26"
            ],
            [
             1,
             "#f0f921"
            ]
           ],
           "sequentialminus": [
            [
             0,
             "#0d0887"
            ],
            [
             0.1111111111111111,
             "#46039f"
            ],
            [
             0.2222222222222222,
             "#7201a8"
            ],
            [
             0.3333333333333333,
             "#9c179e"
            ],
            [
             0.4444444444444444,
             "#bd3786"
            ],
            [
             0.5555555555555556,
             "#d8576b"
            ],
            [
             0.6666666666666666,
             "#ed7953"
            ],
            [
             0.7777777777777778,
             "#fb9f3a"
            ],
            [
             0.8888888888888888,
             "#fdca26"
            ],
            [
             1,
             "#f0f921"
            ]
           ]
          },
          "colorway": [
           "#636efa",
           "#EF553B",
           "#00cc96",
           "#ab63fa",
           "#FFA15A",
           "#19d3f3",
           "#FF6692",
           "#B6E880",
           "#FF97FF",
           "#FECB52"
          ],
          "font": {
           "color": "#f2f5fa"
          },
          "geo": {
           "bgcolor": "rgb(17,17,17)",
           "lakecolor": "rgb(17,17,17)",
           "landcolor": "rgb(17,17,17)",
           "showlakes": true,
           "showland": true,
           "subunitcolor": "#506784"
          },
          "hoverlabel": {
           "align": "left"
          },
          "hovermode": "closest",
          "mapbox": {
           "style": "dark"
          },
          "paper_bgcolor": "rgb(17,17,17)",
          "plot_bgcolor": "rgb(17,17,17)",
          "polar": {
           "angularaxis": {
            "gridcolor": "#506784",
            "linecolor": "#506784",
            "ticks": ""
           },
           "bgcolor": "rgb(17,17,17)",
           "radialaxis": {
            "gridcolor": "#506784",
            "linecolor": "#506784",
            "ticks": ""
           }
          },
          "scene": {
           "xaxis": {
            "backgroundcolor": "rgb(17,17,17)",
            "gridcolor": "#506784",
            "gridwidth": 2,
            "linecolor": "#506784",
            "showbackground": true,
            "ticks": "",
            "zerolinecolor": "#C8D4E3"
           },
           "yaxis": {
            "backgroundcolor": "rgb(17,17,17)",
            "gridcolor": "#506784",
            "gridwidth": 2,
            "linecolor": "#506784",
            "showbackground": true,
            "ticks": "",
            "zerolinecolor": "#C8D4E3"
           },
           "zaxis": {
            "backgroundcolor": "rgb(17,17,17)",
            "gridcolor": "#506784",
            "gridwidth": 2,
            "linecolor": "#506784",
            "showbackground": true,
            "ticks": "",
            "zerolinecolor": "#C8D4E3"
           }
          },
          "shapedefaults": {
           "line": {
            "color": "#f2f5fa"
           }
          },
          "sliderdefaults": {
           "bgcolor": "#C8D4E3",
           "bordercolor": "rgb(17,17,17)",
           "borderwidth": 1,
           "tickwidth": 0
          },
          "ternary": {
           "aaxis": {
            "gridcolor": "#506784",
            "linecolor": "#506784",
            "ticks": ""
           },
           "baxis": {
            "gridcolor": "#506784",
            "linecolor": "#506784",
            "ticks": ""
           },
           "bgcolor": "rgb(17,17,17)",
           "caxis": {
            "gridcolor": "#506784",
            "linecolor": "#506784",
            "ticks": ""
           }
          },
          "title": {
           "x": 0.05
          },
          "updatemenudefaults": {
           "bgcolor": "#506784",
           "borderwidth": 0
          },
          "xaxis": {
           "automargin": true,
           "gridcolor": "#283442",
           "linecolor": "#506784",
           "ticks": "",
           "title": {
            "standoff": 15
           },
           "zerolinecolor": "#283442",
           "zerolinewidth": 2
          },
          "yaxis": {
           "automargin": true,
           "gridcolor": "#283442",
           "linecolor": "#506784",
           "ticks": "",
           "title": {
            "standoff": 15
           },
           "zerolinecolor": "#283442",
           "zerolinewidth": 2
          }
         }
        },
        "title": {
         "text": "ROI"
        },
        "xaxis": {
         "anchor": "y",
         "domain": [
          0,
          1
         ],
         "title": {
          "text": "Companies"
         }
        },
        "yaxis": {
         "anchor": "x",
         "domain": [
          0,
          1
         ],
         "title": {
          "text": "ROI (%)"
         }
        }
       }
      }
     },
     "metadata": {},
     "output_type": "display_data"
    }
   ],
   "source": [
    "df_top_companies.sort_values(by = 'roi', ascending=True, inplace=True)\n",
    "\n",
    "fig_op_margin = px.bar(df_top_companies, title='ROI', x='long_name', y='roi', color_discrete_sequence=['rgb(100, 195, 181)'], hover_name=df_top_companies.ticker, height=600)\n",
    "fig_op_margin.update_traces(text=[f'{x:.2f}%' for x in (df_top_companies['roi']*10)], textposition='outside',textfont=dict(color='white'))\n",
    "fig_op_margin.update_layout(xaxis_title='Companies', yaxis_title='ROI (%)', template = 'plotly_dark')\n",
    "fig_op_margin.show()"
   ]
  },
  {
   "cell_type": "markdown",
   "metadata": {},
   "source": []
  },
  {
   "cell_type": "code",
   "execution_count": 9,
   "metadata": {},
   "outputs": [
    {
     "data": {
      "application/vnd.plotly.v1+json": {
       "config": {
        "plotlyServerURL": "https://plot.ly"
       },
       "data": [
        {
         "alignmentgroup": "True",
         "hovertemplate": "<b>%{hovertext}</b><br><br>long_name=%{x}<br>roce=%{y}<extra></extra>",
         "hovertext": [
          "BBAS3.SA",
          "BBDC4.SA",
          "ITUB4.SA",
          "BPAC5.SA",
          "ITSA4.SA",
          "WEGE3.SA",
          "ELET3.SA",
          "ABEV3.SA",
          "VIVT3.SA",
          "VALE3.SA",
          "PETR3.SA"
         ],
         "legendgroup": "",
         "marker": {
          "color": "rgb(100, 195, 181)",
          "pattern": {
           "shape": ""
          }
         },
         "name": "",
         "offsetgroup": "",
         "orientation": "v",
         "showlegend": false,
         "text": [
          "0.00%",
          "0.00%",
          "0.00%",
          "0.00%",
          "0.22%",
          "0.46%",
          "0.92%",
          "1.09%",
          "1.59%",
          "2.39%",
          "3.82%"
         ],
         "textfont": {
          "color": "white"
         },
         "textposition": "outside",
         "type": "bar",
         "x": [
          "Banco do Brasil S.A.",
          "Banco Bradesco S.A.",
          "Itaú Unibanco Holding S.A.",
          "Banco BTG Pactual S.A.",
          "Itaúsa S.A.",
          "WEG S.A.",
          "Centrais Elétricas Brasileiras S.A. - Eletrobrás",
          "Ambev S.A.",
          "Telefônica Brasil S.A.",
          "Vale S.A.",
          "Petróleo Brasileiro S.A. - Petrobras"
         ],
         "xaxis": "x",
         "y": [
          0,
          0,
          0,
          0,
          0.0224408473114079,
          0.045708206077034,
          0.0923771541497377,
          0.108639745372622,
          0.159319525716694,
          0.2390875566362255,
          0.3817099501622186
         ],
         "yaxis": "y"
        }
       ],
       "layout": {
        "barmode": "relative",
        "height": 600,
        "legend": {
         "tracegroupgap": 0
        },
        "template": {
         "data": {
          "bar": [
           {
            "error_x": {
             "color": "#f2f5fa"
            },
            "error_y": {
             "color": "#f2f5fa"
            },
            "marker": {
             "line": {
              "color": "rgb(17,17,17)",
              "width": 0.5
             },
             "pattern": {
              "fillmode": "overlay",
              "size": 10,
              "solidity": 0.2
             }
            },
            "type": "bar"
           }
          ],
          "barpolar": [
           {
            "marker": {
             "line": {
              "color": "rgb(17,17,17)",
              "width": 0.5
             },
             "pattern": {
              "fillmode": "overlay",
              "size": 10,
              "solidity": 0.2
             }
            },
            "type": "barpolar"
           }
          ],
          "carpet": [
           {
            "aaxis": {
             "endlinecolor": "#A2B1C6",
             "gridcolor": "#506784",
             "linecolor": "#506784",
             "minorgridcolor": "#506784",
             "startlinecolor": "#A2B1C6"
            },
            "baxis": {
             "endlinecolor": "#A2B1C6",
             "gridcolor": "#506784",
             "linecolor": "#506784",
             "minorgridcolor": "#506784",
             "startlinecolor": "#A2B1C6"
            },
            "type": "carpet"
           }
          ],
          "choropleth": [
           {
            "colorbar": {
             "outlinewidth": 0,
             "ticks": ""
            },
            "type": "choropleth"
           }
          ],
          "contour": [
           {
            "colorbar": {
             "outlinewidth": 0,
             "ticks": ""
            },
            "colorscale": [
             [
              0,
              "#0d0887"
             ],
             [
              0.1111111111111111,
              "#46039f"
             ],
             [
              0.2222222222222222,
              "#7201a8"
             ],
             [
              0.3333333333333333,
              "#9c179e"
             ],
             [
              0.4444444444444444,
              "#bd3786"
             ],
             [
              0.5555555555555556,
              "#d8576b"
             ],
             [
              0.6666666666666666,
              "#ed7953"
             ],
             [
              0.7777777777777778,
              "#fb9f3a"
             ],
             [
              0.8888888888888888,
              "#fdca26"
             ],
             [
              1,
              "#f0f921"
             ]
            ],
            "type": "contour"
           }
          ],
          "contourcarpet": [
           {
            "colorbar": {
             "outlinewidth": 0,
             "ticks": ""
            },
            "type": "contourcarpet"
           }
          ],
          "heatmap": [
           {
            "colorbar": {
             "outlinewidth": 0,
             "ticks": ""
            },
            "colorscale": [
             [
              0,
              "#0d0887"
             ],
             [
              0.1111111111111111,
              "#46039f"
             ],
             [
              0.2222222222222222,
              "#7201a8"
             ],
             [
              0.3333333333333333,
              "#9c179e"
             ],
             [
              0.4444444444444444,
              "#bd3786"
             ],
             [
              0.5555555555555556,
              "#d8576b"
             ],
             [
              0.6666666666666666,
              "#ed7953"
             ],
             [
              0.7777777777777778,
              "#fb9f3a"
             ],
             [
              0.8888888888888888,
              "#fdca26"
             ],
             [
              1,
              "#f0f921"
             ]
            ],
            "type": "heatmap"
           }
          ],
          "heatmapgl": [
           {
            "colorbar": {
             "outlinewidth": 0,
             "ticks": ""
            },
            "colorscale": [
             [
              0,
              "#0d0887"
             ],
             [
              0.1111111111111111,
              "#46039f"
             ],
             [
              0.2222222222222222,
              "#7201a8"
             ],
             [
              0.3333333333333333,
              "#9c179e"
             ],
             [
              0.4444444444444444,
              "#bd3786"
             ],
             [
              0.5555555555555556,
              "#d8576b"
             ],
             [
              0.6666666666666666,
              "#ed7953"
             ],
             [
              0.7777777777777778,
              "#fb9f3a"
             ],
             [
              0.8888888888888888,
              "#fdca26"
             ],
             [
              1,
              "#f0f921"
             ]
            ],
            "type": "heatmapgl"
           }
          ],
          "histogram": [
           {
            "marker": {
             "pattern": {
              "fillmode": "overlay",
              "size": 10,
              "solidity": 0.2
             }
            },
            "type": "histogram"
           }
          ],
          "histogram2d": [
           {
            "colorbar": {
             "outlinewidth": 0,
             "ticks": ""
            },
            "colorscale": [
             [
              0,
              "#0d0887"
             ],
             [
              0.1111111111111111,
              "#46039f"
             ],
             [
              0.2222222222222222,
              "#7201a8"
             ],
             [
              0.3333333333333333,
              "#9c179e"
             ],
             [
              0.4444444444444444,
              "#bd3786"
             ],
             [
              0.5555555555555556,
              "#d8576b"
             ],
             [
              0.6666666666666666,
              "#ed7953"
             ],
             [
              0.7777777777777778,
              "#fb9f3a"
             ],
             [
              0.8888888888888888,
              "#fdca26"
             ],
             [
              1,
              "#f0f921"
             ]
            ],
            "type": "histogram2d"
           }
          ],
          "histogram2dcontour": [
           {
            "colorbar": {
             "outlinewidth": 0,
             "ticks": ""
            },
            "colorscale": [
             [
              0,
              "#0d0887"
             ],
             [
              0.1111111111111111,
              "#46039f"
             ],
             [
              0.2222222222222222,
              "#7201a8"
             ],
             [
              0.3333333333333333,
              "#9c179e"
             ],
             [
              0.4444444444444444,
              "#bd3786"
             ],
             [
              0.5555555555555556,
              "#d8576b"
             ],
             [
              0.6666666666666666,
              "#ed7953"
             ],
             [
              0.7777777777777778,
              "#fb9f3a"
             ],
             [
              0.8888888888888888,
              "#fdca26"
             ],
             [
              1,
              "#f0f921"
             ]
            ],
            "type": "histogram2dcontour"
           }
          ],
          "mesh3d": [
           {
            "colorbar": {
             "outlinewidth": 0,
             "ticks": ""
            },
            "type": "mesh3d"
           }
          ],
          "parcoords": [
           {
            "line": {
             "colorbar": {
              "outlinewidth": 0,
              "ticks": ""
             }
            },
            "type": "parcoords"
           }
          ],
          "pie": [
           {
            "automargin": true,
            "type": "pie"
           }
          ],
          "scatter": [
           {
            "marker": {
             "line": {
              "color": "#283442"
             }
            },
            "type": "scatter"
           }
          ],
          "scatter3d": [
           {
            "line": {
             "colorbar": {
              "outlinewidth": 0,
              "ticks": ""
             }
            },
            "marker": {
             "colorbar": {
              "outlinewidth": 0,
              "ticks": ""
             }
            },
            "type": "scatter3d"
           }
          ],
          "scattercarpet": [
           {
            "marker": {
             "colorbar": {
              "outlinewidth": 0,
              "ticks": ""
             }
            },
            "type": "scattercarpet"
           }
          ],
          "scattergeo": [
           {
            "marker": {
             "colorbar": {
              "outlinewidth": 0,
              "ticks": ""
             }
            },
            "type": "scattergeo"
           }
          ],
          "scattergl": [
           {
            "marker": {
             "line": {
              "color": "#283442"
             }
            },
            "type": "scattergl"
           }
          ],
          "scattermapbox": [
           {
            "marker": {
             "colorbar": {
              "outlinewidth": 0,
              "ticks": ""
             }
            },
            "type": "scattermapbox"
           }
          ],
          "scatterpolar": [
           {
            "marker": {
             "colorbar": {
              "outlinewidth": 0,
              "ticks": ""
             }
            },
            "type": "scatterpolar"
           }
          ],
          "scatterpolargl": [
           {
            "marker": {
             "colorbar": {
              "outlinewidth": 0,
              "ticks": ""
             }
            },
            "type": "scatterpolargl"
           }
          ],
          "scatterternary": [
           {
            "marker": {
             "colorbar": {
              "outlinewidth": 0,
              "ticks": ""
             }
            },
            "type": "scatterternary"
           }
          ],
          "surface": [
           {
            "colorbar": {
             "outlinewidth": 0,
             "ticks": ""
            },
            "colorscale": [
             [
              0,
              "#0d0887"
             ],
             [
              0.1111111111111111,
              "#46039f"
             ],
             [
              0.2222222222222222,
              "#7201a8"
             ],
             [
              0.3333333333333333,
              "#9c179e"
             ],
             [
              0.4444444444444444,
              "#bd3786"
             ],
             [
              0.5555555555555556,
              "#d8576b"
             ],
             [
              0.6666666666666666,
              "#ed7953"
             ],
             [
              0.7777777777777778,
              "#fb9f3a"
             ],
             [
              0.8888888888888888,
              "#fdca26"
             ],
             [
              1,
              "#f0f921"
             ]
            ],
            "type": "surface"
           }
          ],
          "table": [
           {
            "cells": {
             "fill": {
              "color": "#506784"
             },
             "line": {
              "color": "rgb(17,17,17)"
             }
            },
            "header": {
             "fill": {
              "color": "#2a3f5f"
             },
             "line": {
              "color": "rgb(17,17,17)"
             }
            },
            "type": "table"
           }
          ]
         },
         "layout": {
          "annotationdefaults": {
           "arrowcolor": "#f2f5fa",
           "arrowhead": 0,
           "arrowwidth": 1
          },
          "autotypenumbers": "strict",
          "coloraxis": {
           "colorbar": {
            "outlinewidth": 0,
            "ticks": ""
           }
          },
          "colorscale": {
           "diverging": [
            [
             0,
             "#8e0152"
            ],
            [
             0.1,
             "#c51b7d"
            ],
            [
             0.2,
             "#de77ae"
            ],
            [
             0.3,
             "#f1b6da"
            ],
            [
             0.4,
             "#fde0ef"
            ],
            [
             0.5,
             "#f7f7f7"
            ],
            [
             0.6,
             "#e6f5d0"
            ],
            [
             0.7,
             "#b8e186"
            ],
            [
             0.8,
             "#7fbc41"
            ],
            [
             0.9,
             "#4d9221"
            ],
            [
             1,
             "#276419"
            ]
           ],
           "sequential": [
            [
             0,
             "#0d0887"
            ],
            [
             0.1111111111111111,
             "#46039f"
            ],
            [
             0.2222222222222222,
             "#7201a8"
            ],
            [
             0.3333333333333333,
             "#9c179e"
            ],
            [
             0.4444444444444444,
             "#bd3786"
            ],
            [
             0.5555555555555556,
             "#d8576b"
            ],
            [
             0.6666666666666666,
             "#ed7953"
            ],
            [
             0.7777777777777778,
             "#fb9f3a"
            ],
            [
             0.8888888888888888,
             "#fdca26"
            ],
            [
             1,
             "#f0f921"
            ]
           ],
           "sequentialminus": [
            [
             0,
             "#0d0887"
            ],
            [
             0.1111111111111111,
             "#46039f"
            ],
            [
             0.2222222222222222,
             "#7201a8"
            ],
            [
             0.3333333333333333,
             "#9c179e"
            ],
            [
             0.4444444444444444,
             "#bd3786"
            ],
            [
             0.5555555555555556,
             "#d8576b"
            ],
            [
             0.6666666666666666,
             "#ed7953"
            ],
            [
             0.7777777777777778,
             "#fb9f3a"
            ],
            [
             0.8888888888888888,
             "#fdca26"
            ],
            [
             1,
             "#f0f921"
            ]
           ]
          },
          "colorway": [
           "#636efa",
           "#EF553B",
           "#00cc96",
           "#ab63fa",
           "#FFA15A",
           "#19d3f3",
           "#FF6692",
           "#B6E880",
           "#FF97FF",
           "#FECB52"
          ],
          "font": {
           "color": "#f2f5fa"
          },
          "geo": {
           "bgcolor": "rgb(17,17,17)",
           "lakecolor": "rgb(17,17,17)",
           "landcolor": "rgb(17,17,17)",
           "showlakes": true,
           "showland": true,
           "subunitcolor": "#506784"
          },
          "hoverlabel": {
           "align": "left"
          },
          "hovermode": "closest",
          "mapbox": {
           "style": "dark"
          },
          "paper_bgcolor": "rgb(17,17,17)",
          "plot_bgcolor": "rgb(17,17,17)",
          "polar": {
           "angularaxis": {
            "gridcolor": "#506784",
            "linecolor": "#506784",
            "ticks": ""
           },
           "bgcolor": "rgb(17,17,17)",
           "radialaxis": {
            "gridcolor": "#506784",
            "linecolor": "#506784",
            "ticks": ""
           }
          },
          "scene": {
           "xaxis": {
            "backgroundcolor": "rgb(17,17,17)",
            "gridcolor": "#506784",
            "gridwidth": 2,
            "linecolor": "#506784",
            "showbackground": true,
            "ticks": "",
            "zerolinecolor": "#C8D4E3"
           },
           "yaxis": {
            "backgroundcolor": "rgb(17,17,17)",
            "gridcolor": "#506784",
            "gridwidth": 2,
            "linecolor": "#506784",
            "showbackground": true,
            "ticks": "",
            "zerolinecolor": "#C8D4E3"
           },
           "zaxis": {
            "backgroundcolor": "rgb(17,17,17)",
            "gridcolor": "#506784",
            "gridwidth": 2,
            "linecolor": "#506784",
            "showbackground": true,
            "ticks": "",
            "zerolinecolor": "#C8D4E3"
           }
          },
          "shapedefaults": {
           "line": {
            "color": "#f2f5fa"
           }
          },
          "sliderdefaults": {
           "bgcolor": "#C8D4E3",
           "bordercolor": "rgb(17,17,17)",
           "borderwidth": 1,
           "tickwidth": 0
          },
          "ternary": {
           "aaxis": {
            "gridcolor": "#506784",
            "linecolor": "#506784",
            "ticks": ""
           },
           "baxis": {
            "gridcolor": "#506784",
            "linecolor": "#506784",
            "ticks": ""
           },
           "bgcolor": "rgb(17,17,17)",
           "caxis": {
            "gridcolor": "#506784",
            "linecolor": "#506784",
            "ticks": ""
           }
          },
          "title": {
           "x": 0.05
          },
          "updatemenudefaults": {
           "bgcolor": "#506784",
           "borderwidth": 0
          },
          "xaxis": {
           "automargin": true,
           "gridcolor": "#283442",
           "linecolor": "#506784",
           "ticks": "",
           "title": {
            "standoff": 15
           },
           "zerolinecolor": "#283442",
           "zerolinewidth": 2
          },
          "yaxis": {
           "automargin": true,
           "gridcolor": "#283442",
           "linecolor": "#506784",
           "ticks": "",
           "title": {
            "standoff": 15
           },
           "zerolinecolor": "#283442",
           "zerolinewidth": 2
          }
         }
        },
        "title": {
         "text": "ROCE"
        },
        "xaxis": {
         "anchor": "y",
         "domain": [
          0,
          1
         ],
         "title": {
          "text": "Companies"
         }
        },
        "yaxis": {
         "anchor": "x",
         "domain": [
          0,
          1
         ],
         "title": {
          "text": "ROCE (%)"
         }
        }
       }
      }
     },
     "metadata": {},
     "output_type": "display_data"
    }
   ],
   "source": [
    "df_top_companies.sort_values(by = 'roce', ascending=True, inplace=True)\n",
    "\n",
    "fig_op_margin = px.bar(df_top_companies, title='ROCE', x='long_name', y='roce', color_discrete_sequence=['rgb(100, 195, 181)'], hover_name=df_top_companies.ticker, height=600)\n",
    "fig_op_margin.update_traces(text=[f'{x:.2f}%' for x in (df_top_companies['roce']*10)], textposition='outside',textfont=dict(color='white'))\n",
    "fig_op_margin.update_layout(xaxis_title='Companies', yaxis_title='ROCE (%)', template = 'plotly_dark')\n",
    "fig_op_margin.show()"
   ]
  },
  {
   "cell_type": "markdown",
   "metadata": {},
   "source": []
  },
  {
   "cell_type": "markdown",
   "metadata": {},
   "source": [
    "### Liquidez e Saúde Financeira:"
   ]
  },
  {
   "cell_type": "code",
   "execution_count": 17,
   "metadata": {},
   "outputs": [
    {
     "data": {
      "application/vnd.plotly.v1+json": {
       "config": {
        "plotlyServerURL": "https://plot.ly"
       },
       "data": [
        {
         "alignmentgroup": "True",
         "hovertemplate": "<b>%{hovertext}</b><br><br>long_name=%{x}<br>total_cash=%{y}<extra></extra>",
         "hovertext": [
          "VIVT3.SA",
          "WEGE3.SA",
          "ITSA4.SA",
          "ABEV3.SA",
          "ELET3.SA",
          "VALE3.SA",
          "PETR3.SA",
          "BBAS3.SA",
          "BPAC5.SA",
          "BBDC4.SA",
          "ITUB4.SA"
         ],
         "legendgroup": "",
         "marker": {
          "color": "rgb(100, 195, 181)",
          "pattern": {
           "shape": ""
          }
         },
         "name": "",
         "offsetgroup": "",
         "orientation": "v",
         "showlegend": false,
         "text": [
          "R$5.41B",
          "R$5.48B",
          "R$7.61B",
          "R$12.43B",
          "R$15.80B",
          "R$24.24B",
          "R$60.98B",
          "R$82.07B",
          "R$221.14B",
          "R$231.55B",
          "R$394.33B"
         ],
         "textfont": {
          "color": "white"
         },
         "textposition": "outside",
         "type": "bar",
         "x": [
          "Telefônica Brasil S.A.",
          "WEG S.A.",
          "Itaúsa S.A.",
          "Ambev S.A.",
          "Centrais Elétricas Brasileiras S.A. - Eletrobrás",
          "Vale S.A.",
          "Petróleo Brasileiro S.A. - Petrobras",
          "Banco do Brasil S.A.",
          "Banco BTG Pactual S.A.",
          "Banco Bradesco S.A.",
          "Itaú Unibanco Holding S.A."
         ],
         "xaxis": "x",
         "y": [
          5405902848,
          5480458752,
          7606000128,
          12430517248,
          15801225216,
          24238000128,
          60984999936,
          82065874944,
          221143449600,
          231553384448,
          394325000192
         ],
         "yaxis": "y"
        }
       ],
       "layout": {
        "barmode": "relative",
        "height": 600,
        "legend": {
         "tracegroupgap": 0
        },
        "template": {
         "data": {
          "bar": [
           {
            "error_x": {
             "color": "#f2f5fa"
            },
            "error_y": {
             "color": "#f2f5fa"
            },
            "marker": {
             "line": {
              "color": "rgb(17,17,17)",
              "width": 0.5
             },
             "pattern": {
              "fillmode": "overlay",
              "size": 10,
              "solidity": 0.2
             }
            },
            "type": "bar"
           }
          ],
          "barpolar": [
           {
            "marker": {
             "line": {
              "color": "rgb(17,17,17)",
              "width": 0.5
             },
             "pattern": {
              "fillmode": "overlay",
              "size": 10,
              "solidity": 0.2
             }
            },
            "type": "barpolar"
           }
          ],
          "carpet": [
           {
            "aaxis": {
             "endlinecolor": "#A2B1C6",
             "gridcolor": "#506784",
             "linecolor": "#506784",
             "minorgridcolor": "#506784",
             "startlinecolor": "#A2B1C6"
            },
            "baxis": {
             "endlinecolor": "#A2B1C6",
             "gridcolor": "#506784",
             "linecolor": "#506784",
             "minorgridcolor": "#506784",
             "startlinecolor": "#A2B1C6"
            },
            "type": "carpet"
           }
          ],
          "choropleth": [
           {
            "colorbar": {
             "outlinewidth": 0,
             "ticks": ""
            },
            "type": "choropleth"
           }
          ],
          "contour": [
           {
            "colorbar": {
             "outlinewidth": 0,
             "ticks": ""
            },
            "colorscale": [
             [
              0,
              "#0d0887"
             ],
             [
              0.1111111111111111,
              "#46039f"
             ],
             [
              0.2222222222222222,
              "#7201a8"
             ],
             [
              0.3333333333333333,
              "#9c179e"
             ],
             [
              0.4444444444444444,
              "#bd3786"
             ],
             [
              0.5555555555555556,
              "#d8576b"
             ],
             [
              0.6666666666666666,
              "#ed7953"
             ],
             [
              0.7777777777777778,
              "#fb9f3a"
             ],
             [
              0.8888888888888888,
              "#fdca26"
             ],
             [
              1,
              "#f0f921"
             ]
            ],
            "type": "contour"
           }
          ],
          "contourcarpet": [
           {
            "colorbar": {
             "outlinewidth": 0,
             "ticks": ""
            },
            "type": "contourcarpet"
           }
          ],
          "heatmap": [
           {
            "colorbar": {
             "outlinewidth": 0,
             "ticks": ""
            },
            "colorscale": [
             [
              0,
              "#0d0887"
             ],
             [
              0.1111111111111111,
              "#46039f"
             ],
             [
              0.2222222222222222,
              "#7201a8"
             ],
             [
              0.3333333333333333,
              "#9c179e"
             ],
             [
              0.4444444444444444,
              "#bd3786"
             ],
             [
              0.5555555555555556,
              "#d8576b"
             ],
             [
              0.6666666666666666,
              "#ed7953"
             ],
             [
              0.7777777777777778,
              "#fb9f3a"
             ],
             [
              0.8888888888888888,
              "#fdca26"
             ],
             [
              1,
              "#f0f921"
             ]
            ],
            "type": "heatmap"
           }
          ],
          "heatmapgl": [
           {
            "colorbar": {
             "outlinewidth": 0,
             "ticks": ""
            },
            "colorscale": [
             [
              0,
              "#0d0887"
             ],
             [
              0.1111111111111111,
              "#46039f"
             ],
             [
              0.2222222222222222,
              "#7201a8"
             ],
             [
              0.3333333333333333,
              "#9c179e"
             ],
             [
              0.4444444444444444,
              "#bd3786"
             ],
             [
              0.5555555555555556,
              "#d8576b"
             ],
             [
              0.6666666666666666,
              "#ed7953"
             ],
             [
              0.7777777777777778,
              "#fb9f3a"
             ],
             [
              0.8888888888888888,
              "#fdca26"
             ],
             [
              1,
              "#f0f921"
             ]
            ],
            "type": "heatmapgl"
           }
          ],
          "histogram": [
           {
            "marker": {
             "pattern": {
              "fillmode": "overlay",
              "size": 10,
              "solidity": 0.2
             }
            },
            "type": "histogram"
           }
          ],
          "histogram2d": [
           {
            "colorbar": {
             "outlinewidth": 0,
             "ticks": ""
            },
            "colorscale": [
             [
              0,
              "#0d0887"
             ],
             [
              0.1111111111111111,
              "#46039f"
             ],
             [
              0.2222222222222222,
              "#7201a8"
             ],
             [
              0.3333333333333333,
              "#9c179e"
             ],
             [
              0.4444444444444444,
              "#bd3786"
             ],
             [
              0.5555555555555556,
              "#d8576b"
             ],
             [
              0.6666666666666666,
              "#ed7953"
             ],
             [
              0.7777777777777778,
              "#fb9f3a"
             ],
             [
              0.8888888888888888,
              "#fdca26"
             ],
             [
              1,
              "#f0f921"
             ]
            ],
            "type": "histogram2d"
           }
          ],
          "histogram2dcontour": [
           {
            "colorbar": {
             "outlinewidth": 0,
             "ticks": ""
            },
            "colorscale": [
             [
              0,
              "#0d0887"
             ],
             [
              0.1111111111111111,
              "#46039f"
             ],
             [
              0.2222222222222222,
              "#7201a8"
             ],
             [
              0.3333333333333333,
              "#9c179e"
             ],
             [
              0.4444444444444444,
              "#bd3786"
             ],
             [
              0.5555555555555556,
              "#d8576b"
             ],
             [
              0.6666666666666666,
              "#ed7953"
             ],
             [
              0.7777777777777778,
              "#fb9f3a"
             ],
             [
              0.8888888888888888,
              "#fdca26"
             ],
             [
              1,
              "#f0f921"
             ]
            ],
            "type": "histogram2dcontour"
           }
          ],
          "mesh3d": [
           {
            "colorbar": {
             "outlinewidth": 0,
             "ticks": ""
            },
            "type": "mesh3d"
           }
          ],
          "parcoords": [
           {
            "line": {
             "colorbar": {
              "outlinewidth": 0,
              "ticks": ""
             }
            },
            "type": "parcoords"
           }
          ],
          "pie": [
           {
            "automargin": true,
            "type": "pie"
           }
          ],
          "scatter": [
           {
            "marker": {
             "line": {
              "color": "#283442"
             }
            },
            "type": "scatter"
           }
          ],
          "scatter3d": [
           {
            "line": {
             "colorbar": {
              "outlinewidth": 0,
              "ticks": ""
             }
            },
            "marker": {
             "colorbar": {
              "outlinewidth": 0,
              "ticks": ""
             }
            },
            "type": "scatter3d"
           }
          ],
          "scattercarpet": [
           {
            "marker": {
             "colorbar": {
              "outlinewidth": 0,
              "ticks": ""
             }
            },
            "type": "scattercarpet"
           }
          ],
          "scattergeo": [
           {
            "marker": {
             "colorbar": {
              "outlinewidth": 0,
              "ticks": ""
             }
            },
            "type": "scattergeo"
           }
          ],
          "scattergl": [
           {
            "marker": {
             "line": {
              "color": "#283442"
             }
            },
            "type": "scattergl"
           }
          ],
          "scattermapbox": [
           {
            "marker": {
             "colorbar": {
              "outlinewidth": 0,
              "ticks": ""
             }
            },
            "type": "scattermapbox"
           }
          ],
          "scatterpolar": [
           {
            "marker": {
             "colorbar": {
              "outlinewidth": 0,
              "ticks": ""
             }
            },
            "type": "scatterpolar"
           }
          ],
          "scatterpolargl": [
           {
            "marker": {
             "colorbar": {
              "outlinewidth": 0,
              "ticks": ""
             }
            },
            "type": "scatterpolargl"
           }
          ],
          "scatterternary": [
           {
            "marker": {
             "colorbar": {
              "outlinewidth": 0,
              "ticks": ""
             }
            },
            "type": "scatterternary"
           }
          ],
          "surface": [
           {
            "colorbar": {
             "outlinewidth": 0,
             "ticks": ""
            },
            "colorscale": [
             [
              0,
              "#0d0887"
             ],
             [
              0.1111111111111111,
              "#46039f"
             ],
             [
              0.2222222222222222,
              "#7201a8"
             ],
             [
              0.3333333333333333,
              "#9c179e"
             ],
             [
              0.4444444444444444,
              "#bd3786"
             ],
             [
              0.5555555555555556,
              "#d8576b"
             ],
             [
              0.6666666666666666,
              "#ed7953"
             ],
             [
              0.7777777777777778,
              "#fb9f3a"
             ],
             [
              0.8888888888888888,
              "#fdca26"
             ],
             [
              1,
              "#f0f921"
             ]
            ],
            "type": "surface"
           }
          ],
          "table": [
           {
            "cells": {
             "fill": {
              "color": "#506784"
             },
             "line": {
              "color": "rgb(17,17,17)"
             }
            },
            "header": {
             "fill": {
              "color": "#2a3f5f"
             },
             "line": {
              "color": "rgb(17,17,17)"
             }
            },
            "type": "table"
           }
          ]
         },
         "layout": {
          "annotationdefaults": {
           "arrowcolor": "#f2f5fa",
           "arrowhead": 0,
           "arrowwidth": 1
          },
          "autotypenumbers": "strict",
          "coloraxis": {
           "colorbar": {
            "outlinewidth": 0,
            "ticks": ""
           }
          },
          "colorscale": {
           "diverging": [
            [
             0,
             "#8e0152"
            ],
            [
             0.1,
             "#c51b7d"
            ],
            [
             0.2,
             "#de77ae"
            ],
            [
             0.3,
             "#f1b6da"
            ],
            [
             0.4,
             "#fde0ef"
            ],
            [
             0.5,
             "#f7f7f7"
            ],
            [
             0.6,
             "#e6f5d0"
            ],
            [
             0.7,
             "#b8e186"
            ],
            [
             0.8,
             "#7fbc41"
            ],
            [
             0.9,
             "#4d9221"
            ],
            [
             1,
             "#276419"
            ]
           ],
           "sequential": [
            [
             0,
             "#0d0887"
            ],
            [
             0.1111111111111111,
             "#46039f"
            ],
            [
             0.2222222222222222,
             "#7201a8"
            ],
            [
             0.3333333333333333,
             "#9c179e"
            ],
            [
             0.4444444444444444,
             "#bd3786"
            ],
            [
             0.5555555555555556,
             "#d8576b"
            ],
            [
             0.6666666666666666,
             "#ed7953"
            ],
            [
             0.7777777777777778,
             "#fb9f3a"
            ],
            [
             0.8888888888888888,
             "#fdca26"
            ],
            [
             1,
             "#f0f921"
            ]
           ],
           "sequentialminus": [
            [
             0,
             "#0d0887"
            ],
            [
             0.1111111111111111,
             "#46039f"
            ],
            [
             0.2222222222222222,
             "#7201a8"
            ],
            [
             0.3333333333333333,
             "#9c179e"
            ],
            [
             0.4444444444444444,
             "#bd3786"
            ],
            [
             0.5555555555555556,
             "#d8576b"
            ],
            [
             0.6666666666666666,
             "#ed7953"
            ],
            [
             0.7777777777777778,
             "#fb9f3a"
            ],
            [
             0.8888888888888888,
             "#fdca26"
            ],
            [
             1,
             "#f0f921"
            ]
           ]
          },
          "colorway": [
           "#636efa",
           "#EF553B",
           "#00cc96",
           "#ab63fa",
           "#FFA15A",
           "#19d3f3",
           "#FF6692",
           "#B6E880",
           "#FF97FF",
           "#FECB52"
          ],
          "font": {
           "color": "#f2f5fa"
          },
          "geo": {
           "bgcolor": "rgb(17,17,17)",
           "lakecolor": "rgb(17,17,17)",
           "landcolor": "rgb(17,17,17)",
           "showlakes": true,
           "showland": true,
           "subunitcolor": "#506784"
          },
          "hoverlabel": {
           "align": "left"
          },
          "hovermode": "closest",
          "mapbox": {
           "style": "dark"
          },
          "paper_bgcolor": "rgb(17,17,17)",
          "plot_bgcolor": "rgb(17,17,17)",
          "polar": {
           "angularaxis": {
            "gridcolor": "#506784",
            "linecolor": "#506784",
            "ticks": ""
           },
           "bgcolor": "rgb(17,17,17)",
           "radialaxis": {
            "gridcolor": "#506784",
            "linecolor": "#506784",
            "ticks": ""
           }
          },
          "scene": {
           "xaxis": {
            "backgroundcolor": "rgb(17,17,17)",
            "gridcolor": "#506784",
            "gridwidth": 2,
            "linecolor": "#506784",
            "showbackground": true,
            "ticks": "",
            "zerolinecolor": "#C8D4E3"
           },
           "yaxis": {
            "backgroundcolor": "rgb(17,17,17)",
            "gridcolor": "#506784",
            "gridwidth": 2,
            "linecolor": "#506784",
            "showbackground": true,
            "ticks": "",
            "zerolinecolor": "#C8D4E3"
           },
           "zaxis": {
            "backgroundcolor": "rgb(17,17,17)",
            "gridcolor": "#506784",
            "gridwidth": 2,
            "linecolor": "#506784",
            "showbackground": true,
            "ticks": "",
            "zerolinecolor": "#C8D4E3"
           }
          },
          "shapedefaults": {
           "line": {
            "color": "#f2f5fa"
           }
          },
          "sliderdefaults": {
           "bgcolor": "#C8D4E3",
           "bordercolor": "rgb(17,17,17)",
           "borderwidth": 1,
           "tickwidth": 0
          },
          "ternary": {
           "aaxis": {
            "gridcolor": "#506784",
            "linecolor": "#506784",
            "ticks": ""
           },
           "baxis": {
            "gridcolor": "#506784",
            "linecolor": "#506784",
            "ticks": ""
           },
           "bgcolor": "rgb(17,17,17)",
           "caxis": {
            "gridcolor": "#506784",
            "linecolor": "#506784",
            "ticks": ""
           }
          },
          "title": {
           "x": 0.05
          },
          "updatemenudefaults": {
           "bgcolor": "#506784",
           "borderwidth": 0
          },
          "xaxis": {
           "automargin": true,
           "gridcolor": "#283442",
           "linecolor": "#506784",
           "ticks": "",
           "title": {
            "standoff": 15
           },
           "zerolinecolor": "#283442",
           "zerolinewidth": 2
          },
          "yaxis": {
           "automargin": true,
           "gridcolor": "#283442",
           "linecolor": "#506784",
           "ticks": "",
           "title": {
            "standoff": 15
           },
           "zerolinecolor": "#283442",
           "zerolinewidth": 2
          }
         }
        },
        "title": {
         "text": "Total Cash"
        },
        "xaxis": {
         "anchor": "y",
         "domain": [
          0,
          1
         ],
         "title": {
          "text": "Companies"
         }
        },
        "yaxis": {
         "anchor": "x",
         "domain": [
          0,
          1
         ],
         "title": {
          "text": "Total Cash"
         }
        }
       }
      }
     },
     "metadata": {},
     "output_type": "display_data"
    }
   ],
   "source": [
    "df_top_companies.sort_values(by = 'total_cash', ascending=True, inplace=True)\n",
    "\n",
    "fig_op_margin = px.bar(df_top_companies, title='Total Cash', x='long_name', y='total_cash', color_discrete_sequence=['rgb(100, 195, 181)'], hover_name=df_top_companies.ticker, height=600)\n",
    "fig_op_margin.update_traces(text=[f'R${x:.2f}B' for x in (df_top_companies['total_cash']/1000000000)], textposition='outside',textfont=dict(color='white'))\n",
    "fig_op_margin.update_layout(xaxis_title='Companies', yaxis_title='Total Cash', template = 'plotly_dark')\n",
    "fig_op_margin.show()"
   ]
  },
  {
   "cell_type": "markdown",
   "metadata": {},
   "source": []
  },
  {
   "cell_type": "code",
   "execution_count": 18,
   "metadata": {},
   "outputs": [
    {
     "data": {
      "application/vnd.plotly.v1+json": {
       "config": {
        "plotlyServerURL": "https://plot.ly"
       },
       "data": [
        {
         "alignmentgroup": "True",
         "hovertemplate": "<b>%{hovertext}</b><br><br>long_name=%{x}<br>total_debt=%{y}<extra></extra>",
         "hovertext": [
          "WEGE3.SA",
          "ABEV3.SA",
          "ITSA4.SA",
          "VIVT3.SA",
          "ELET3.SA",
          "VALE3.SA",
          "BPAC5.SA",
          "PETR3.SA",
          "BBDC4.SA",
          "ITUB4.SA",
          "BBAS3.SA"
         ],
         "legendgroup": "",
         "marker": {
          "color": "rgb(100, 195, 181)",
          "pattern": {
           "shape": ""
          }
         },
         "name": "",
         "offsetgroup": "",
         "orientation": "v",
         "showlegend": false,
         "text": [
          "R$3.35B",
          "R$4.10B",
          "R$13.24B",
          "R$18.38B",
          "R$58.71B",
          "R$79.35B",
          "R$220.72B",
          "R$279.37B",
          "R$622.58B",
          "R$827.03B",
          "R$895.78B"
         ],
         "textfont": {
          "color": "white"
         },
         "textposition": "outside",
         "type": "bar",
         "x": [
          "WEG S.A.",
          "Ambev S.A.",
          "Itaúsa S.A.",
          "Telefônica Brasil S.A.",
          "Centrais Elétricas Brasileiras S.A. - Eletrobrás",
          "Vale S.A.",
          "Banco BTG Pactual S.A.",
          "Petróleo Brasileiro S.A. - Petrobras",
          "Banco Bradesco S.A.",
          "Itaú Unibanco Holding S.A.",
          "Banco do Brasil S.A."
         ],
         "xaxis": "x",
         "y": [
          3346563072,
          4096230912,
          13237000192,
          18377697280,
          58713391104,
          79345999872,
          220720496640,
          279374987264,
          622578565120,
          827033976832,
          895776522240
         ],
         "yaxis": "y"
        }
       ],
       "layout": {
        "barmode": "relative",
        "height": 600,
        "legend": {
         "tracegroupgap": 0
        },
        "template": {
         "data": {
          "bar": [
           {
            "error_x": {
             "color": "#f2f5fa"
            },
            "error_y": {
             "color": "#f2f5fa"
            },
            "marker": {
             "line": {
              "color": "rgb(17,17,17)",
              "width": 0.5
             },
             "pattern": {
              "fillmode": "overlay",
              "size": 10,
              "solidity": 0.2
             }
            },
            "type": "bar"
           }
          ],
          "barpolar": [
           {
            "marker": {
             "line": {
              "color": "rgb(17,17,17)",
              "width": 0.5
             },
             "pattern": {
              "fillmode": "overlay",
              "size": 10,
              "solidity": 0.2
             }
            },
            "type": "barpolar"
           }
          ],
          "carpet": [
           {
            "aaxis": {
             "endlinecolor": "#A2B1C6",
             "gridcolor": "#506784",
             "linecolor": "#506784",
             "minorgridcolor": "#506784",
             "startlinecolor": "#A2B1C6"
            },
            "baxis": {
             "endlinecolor": "#A2B1C6",
             "gridcolor": "#506784",
             "linecolor": "#506784",
             "minorgridcolor": "#506784",
             "startlinecolor": "#A2B1C6"
            },
            "type": "carpet"
           }
          ],
          "choropleth": [
           {
            "colorbar": {
             "outlinewidth": 0,
             "ticks": ""
            },
            "type": "choropleth"
           }
          ],
          "contour": [
           {
            "colorbar": {
             "outlinewidth": 0,
             "ticks": ""
            },
            "colorscale": [
             [
              0,
              "#0d0887"
             ],
             [
              0.1111111111111111,
              "#46039f"
             ],
             [
              0.2222222222222222,
              "#7201a8"
             ],
             [
              0.3333333333333333,
              "#9c179e"
             ],
             [
              0.4444444444444444,
              "#bd3786"
             ],
             [
              0.5555555555555556,
              "#d8576b"
             ],
             [
              0.6666666666666666,
              "#ed7953"
             ],
             [
              0.7777777777777778,
              "#fb9f3a"
             ],
             [
              0.8888888888888888,
              "#fdca26"
             ],
             [
              1,
              "#f0f921"
             ]
            ],
            "type": "contour"
           }
          ],
          "contourcarpet": [
           {
            "colorbar": {
             "outlinewidth": 0,
             "ticks": ""
            },
            "type": "contourcarpet"
           }
          ],
          "heatmap": [
           {
            "colorbar": {
             "outlinewidth": 0,
             "ticks": ""
            },
            "colorscale": [
             [
              0,
              "#0d0887"
             ],
             [
              0.1111111111111111,
              "#46039f"
             ],
             [
              0.2222222222222222,
              "#7201a8"
             ],
             [
              0.3333333333333333,
              "#9c179e"
             ],
             [
              0.4444444444444444,
              "#bd3786"
             ],
             [
              0.5555555555555556,
              "#d8576b"
             ],
             [
              0.6666666666666666,
              "#ed7953"
             ],
             [
              0.7777777777777778,
              "#fb9f3a"
             ],
             [
              0.8888888888888888,
              "#fdca26"
             ],
             [
              1,
              "#f0f921"
             ]
            ],
            "type": "heatmap"
           }
          ],
          "heatmapgl": [
           {
            "colorbar": {
             "outlinewidth": 0,
             "ticks": ""
            },
            "colorscale": [
             [
              0,
              "#0d0887"
             ],
             [
              0.1111111111111111,
              "#46039f"
             ],
             [
              0.2222222222222222,
              "#7201a8"
             ],
             [
              0.3333333333333333,
              "#9c179e"
             ],
             [
              0.4444444444444444,
              "#bd3786"
             ],
             [
              0.5555555555555556,
              "#d8576b"
             ],
             [
              0.6666666666666666,
              "#ed7953"
             ],
             [
              0.7777777777777778,
              "#fb9f3a"
             ],
             [
              0.8888888888888888,
              "#fdca26"
             ],
             [
              1,
              "#f0f921"
             ]
            ],
            "type": "heatmapgl"
           }
          ],
          "histogram": [
           {
            "marker": {
             "pattern": {
              "fillmode": "overlay",
              "size": 10,
              "solidity": 0.2
             }
            },
            "type": "histogram"
           }
          ],
          "histogram2d": [
           {
            "colorbar": {
             "outlinewidth": 0,
             "ticks": ""
            },
            "colorscale": [
             [
              0,
              "#0d0887"
             ],
             [
              0.1111111111111111,
              "#46039f"
             ],
             [
              0.2222222222222222,
              "#7201a8"
             ],
             [
              0.3333333333333333,
              "#9c179e"
             ],
             [
              0.4444444444444444,
              "#bd3786"
             ],
             [
              0.5555555555555556,
              "#d8576b"
             ],
             [
              0.6666666666666666,
              "#ed7953"
             ],
             [
              0.7777777777777778,
              "#fb9f3a"
             ],
             [
              0.8888888888888888,
              "#fdca26"
             ],
             [
              1,
              "#f0f921"
             ]
            ],
            "type": "histogram2d"
           }
          ],
          "histogram2dcontour": [
           {
            "colorbar": {
             "outlinewidth": 0,
             "ticks": ""
            },
            "colorscale": [
             [
              0,
              "#0d0887"
             ],
             [
              0.1111111111111111,
              "#46039f"
             ],
             [
              0.2222222222222222,
              "#7201a8"
             ],
             [
              0.3333333333333333,
              "#9c179e"
             ],
             [
              0.4444444444444444,
              "#bd3786"
             ],
             [
              0.5555555555555556,
              "#d8576b"
             ],
             [
              0.6666666666666666,
              "#ed7953"
             ],
             [
              0.7777777777777778,
              "#fb9f3a"
             ],
             [
              0.8888888888888888,
              "#fdca26"
             ],
             [
              1,
              "#f0f921"
             ]
            ],
            "type": "histogram2dcontour"
           }
          ],
          "mesh3d": [
           {
            "colorbar": {
             "outlinewidth": 0,
             "ticks": ""
            },
            "type": "mesh3d"
           }
          ],
          "parcoords": [
           {
            "line": {
             "colorbar": {
              "outlinewidth": 0,
              "ticks": ""
             }
            },
            "type": "parcoords"
           }
          ],
          "pie": [
           {
            "automargin": true,
            "type": "pie"
           }
          ],
          "scatter": [
           {
            "marker": {
             "line": {
              "color": "#283442"
             }
            },
            "type": "scatter"
           }
          ],
          "scatter3d": [
           {
            "line": {
             "colorbar": {
              "outlinewidth": 0,
              "ticks": ""
             }
            },
            "marker": {
             "colorbar": {
              "outlinewidth": 0,
              "ticks": ""
             }
            },
            "type": "scatter3d"
           }
          ],
          "scattercarpet": [
           {
            "marker": {
             "colorbar": {
              "outlinewidth": 0,
              "ticks": ""
             }
            },
            "type": "scattercarpet"
           }
          ],
          "scattergeo": [
           {
            "marker": {
             "colorbar": {
              "outlinewidth": 0,
              "ticks": ""
             }
            },
            "type": "scattergeo"
           }
          ],
          "scattergl": [
           {
            "marker": {
             "line": {
              "color": "#283442"
             }
            },
            "type": "scattergl"
           }
          ],
          "scattermapbox": [
           {
            "marker": {
             "colorbar": {
              "outlinewidth": 0,
              "ticks": ""
             }
            },
            "type": "scattermapbox"
           }
          ],
          "scatterpolar": [
           {
            "marker": {
             "colorbar": {
              "outlinewidth": 0,
              "ticks": ""
             }
            },
            "type": "scatterpolar"
           }
          ],
          "scatterpolargl": [
           {
            "marker": {
             "colorbar": {
              "outlinewidth": 0,
              "ticks": ""
             }
            },
            "type": "scatterpolargl"
           }
          ],
          "scatterternary": [
           {
            "marker": {
             "colorbar": {
              "outlinewidth": 0,
              "ticks": ""
             }
            },
            "type": "scatterternary"
           }
          ],
          "surface": [
           {
            "colorbar": {
             "outlinewidth": 0,
             "ticks": ""
            },
            "colorscale": [
             [
              0,
              "#0d0887"
             ],
             [
              0.1111111111111111,
              "#46039f"
             ],
             [
              0.2222222222222222,
              "#7201a8"
             ],
             [
              0.3333333333333333,
              "#9c179e"
             ],
             [
              0.4444444444444444,
              "#bd3786"
             ],
             [
              0.5555555555555556,
              "#d8576b"
             ],
             [
              0.6666666666666666,
              "#ed7953"
             ],
             [
              0.7777777777777778,
              "#fb9f3a"
             ],
             [
              0.8888888888888888,
              "#fdca26"
             ],
             [
              1,
              "#f0f921"
             ]
            ],
            "type": "surface"
           }
          ],
          "table": [
           {
            "cells": {
             "fill": {
              "color": "#506784"
             },
             "line": {
              "color": "rgb(17,17,17)"
             }
            },
            "header": {
             "fill": {
              "color": "#2a3f5f"
             },
             "line": {
              "color": "rgb(17,17,17)"
             }
            },
            "type": "table"
           }
          ]
         },
         "layout": {
          "annotationdefaults": {
           "arrowcolor": "#f2f5fa",
           "arrowhead": 0,
           "arrowwidth": 1
          },
          "autotypenumbers": "strict",
          "coloraxis": {
           "colorbar": {
            "outlinewidth": 0,
            "ticks": ""
           }
          },
          "colorscale": {
           "diverging": [
            [
             0,
             "#8e0152"
            ],
            [
             0.1,
             "#c51b7d"
            ],
            [
             0.2,
             "#de77ae"
            ],
            [
             0.3,
             "#f1b6da"
            ],
            [
             0.4,
             "#fde0ef"
            ],
            [
             0.5,
             "#f7f7f7"
            ],
            [
             0.6,
             "#e6f5d0"
            ],
            [
             0.7,
             "#b8e186"
            ],
            [
             0.8,
             "#7fbc41"
            ],
            [
             0.9,
             "#4d9221"
            ],
            [
             1,
             "#276419"
            ]
           ],
           "sequential": [
            [
             0,
             "#0d0887"
            ],
            [
             0.1111111111111111,
             "#46039f"
            ],
            [
             0.2222222222222222,
             "#7201a8"
            ],
            [
             0.3333333333333333,
             "#9c179e"
            ],
            [
             0.4444444444444444,
             "#bd3786"
            ],
            [
             0.5555555555555556,
             "#d8576b"
            ],
            [
             0.6666666666666666,
             "#ed7953"
            ],
            [
             0.7777777777777778,
             "#fb9f3a"
            ],
            [
             0.8888888888888888,
             "#fdca26"
            ],
            [
             1,
             "#f0f921"
            ]
           ],
           "sequentialminus": [
            [
             0,
             "#0d0887"
            ],
            [
             0.1111111111111111,
             "#46039f"
            ],
            [
             0.2222222222222222,
             "#7201a8"
            ],
            [
             0.3333333333333333,
             "#9c179e"
            ],
            [
             0.4444444444444444,
             "#bd3786"
            ],
            [
             0.5555555555555556,
             "#d8576b"
            ],
            [
             0.6666666666666666,
             "#ed7953"
            ],
            [
             0.7777777777777778,
             "#fb9f3a"
            ],
            [
             0.8888888888888888,
             "#fdca26"
            ],
            [
             1,
             "#f0f921"
            ]
           ]
          },
          "colorway": [
           "#636efa",
           "#EF553B",
           "#00cc96",
           "#ab63fa",
           "#FFA15A",
           "#19d3f3",
           "#FF6692",
           "#B6E880",
           "#FF97FF",
           "#FECB52"
          ],
          "font": {
           "color": "#f2f5fa"
          },
          "geo": {
           "bgcolor": "rgb(17,17,17)",
           "lakecolor": "rgb(17,17,17)",
           "landcolor": "rgb(17,17,17)",
           "showlakes": true,
           "showland": true,
           "subunitcolor": "#506784"
          },
          "hoverlabel": {
           "align": "left"
          },
          "hovermode": "closest",
          "mapbox": {
           "style": "dark"
          },
          "paper_bgcolor": "rgb(17,17,17)",
          "plot_bgcolor": "rgb(17,17,17)",
          "polar": {
           "angularaxis": {
            "gridcolor": "#506784",
            "linecolor": "#506784",
            "ticks": ""
           },
           "bgcolor": "rgb(17,17,17)",
           "radialaxis": {
            "gridcolor": "#506784",
            "linecolor": "#506784",
            "ticks": ""
           }
          },
          "scene": {
           "xaxis": {
            "backgroundcolor": "rgb(17,17,17)",
            "gridcolor": "#506784",
            "gridwidth": 2,
            "linecolor": "#506784",
            "showbackground": true,
            "ticks": "",
            "zerolinecolor": "#C8D4E3"
           },
           "yaxis": {
            "backgroundcolor": "rgb(17,17,17)",
            "gridcolor": "#506784",
            "gridwidth": 2,
            "linecolor": "#506784",
            "showbackground": true,
            "ticks": "",
            "zerolinecolor": "#C8D4E3"
           },
           "zaxis": {
            "backgroundcolor": "rgb(17,17,17)",
            "gridcolor": "#506784",
            "gridwidth": 2,
            "linecolor": "#506784",
            "showbackground": true,
            "ticks": "",
            "zerolinecolor": "#C8D4E3"
           }
          },
          "shapedefaults": {
           "line": {
            "color": "#f2f5fa"
           }
          },
          "sliderdefaults": {
           "bgcolor": "#C8D4E3",
           "bordercolor": "rgb(17,17,17)",
           "borderwidth": 1,
           "tickwidth": 0
          },
          "ternary": {
           "aaxis": {
            "gridcolor": "#506784",
            "linecolor": "#506784",
            "ticks": ""
           },
           "baxis": {
            "gridcolor": "#506784",
            "linecolor": "#506784",
            "ticks": ""
           },
           "bgcolor": "rgb(17,17,17)",
           "caxis": {
            "gridcolor": "#506784",
            "linecolor": "#506784",
            "ticks": ""
           }
          },
          "title": {
           "x": 0.05
          },
          "updatemenudefaults": {
           "bgcolor": "#506784",
           "borderwidth": 0
          },
          "xaxis": {
           "automargin": true,
           "gridcolor": "#283442",
           "linecolor": "#506784",
           "ticks": "",
           "title": {
            "standoff": 15
           },
           "zerolinecolor": "#283442",
           "zerolinewidth": 2
          },
          "yaxis": {
           "automargin": true,
           "gridcolor": "#283442",
           "linecolor": "#506784",
           "ticks": "",
           "title": {
            "standoff": 15
           },
           "zerolinecolor": "#283442",
           "zerolinewidth": 2
          }
         }
        },
        "title": {
         "text": "Total Debt"
        },
        "xaxis": {
         "anchor": "y",
         "domain": [
          0,
          1
         ],
         "title": {
          "text": "Companies"
         }
        },
        "yaxis": {
         "anchor": "x",
         "domain": [
          0,
          1
         ],
         "title": {
          "text": "Total Debt"
         }
        }
       }
      }
     },
     "metadata": {},
     "output_type": "display_data"
    }
   ],
   "source": [
    "df_top_companies.sort_values(by = 'total_debt', ascending=True, inplace=True)\n",
    "\n",
    "fig_op_margin = px.bar(df_top_companies, title='Total Debt', x='long_name', y='total_debt', color_discrete_sequence=['rgb(100, 195, 181)'], hover_name=df_top_companies.ticker, height=600)\n",
    "fig_op_margin.update_traces(text=[f'R${x:.2f}B' for x in (df_top_companies['total_debt']/1000000000)], textposition='outside',textfont=dict(color='white'))\n",
    "fig_op_margin.update_layout(xaxis_title='Companies', yaxis_title='Total Debt', template = 'plotly_dark')\n",
    "fig_op_margin.show()"
   ]
  },
  {
   "cell_type": "markdown",
   "metadata": {},
   "source": []
  },
  {
   "cell_type": "markdown",
   "metadata": {},
   "source": [
    "### Valuation de Ações"
   ]
  },
  {
   "cell_type": "code",
   "execution_count": 21,
   "metadata": {},
   "outputs": [
    {
     "data": {
      "application/vnd.plotly.v1+json": {
       "config": {
        "plotlyServerURL": "https://plot.ly"
       },
       "data": [
        {
         "alignmentgroup": "True",
         "hovertemplate": "<b>%{hovertext}</b><br><br>long_name=%{x}<br>price_to_book=%{y}<extra></extra>",
         "hovertext": [
          "ELET3.SA",
          "BPAC5.SA",
          "BBAS3.SA",
          "BBDC4.SA",
          "ITSA4.SA",
          "VIVT3.SA",
          "PETR3.SA",
          "VALE3.SA",
          "ITUB4.SA",
          "ABEV3.SA",
          "WEGE3.SA"
         ],
         "legendgroup": "",
         "marker": {
          "color": "rgb(100, 195, 181)",
          "pattern": {
           "shape": ""
          }
         },
         "name": "",
         "offsetgroup": "",
         "orientation": "v",
         "showlegend": false,
         "text": [
          "0.70x",
          "0.84x",
          "0.90x",
          "0.91x",
          "1.11x",
          "1.11x",
          "1.35x",
          "1.50x",
          "1.51x",
          "2.36x",
          "9.00x"
         ],
         "textfont": {
          "color": "white"
         },
         "textposition": "outside",
         "type": "bar",
         "x": [
          "Centrais Elétricas Brasileiras S.A. - Eletrobrás",
          "Banco BTG Pactual S.A.",
          "Banco do Brasil S.A.",
          "Banco Bradesco S.A.",
          "Itaúsa S.A.",
          "Telefônica Brasil S.A.",
          "Petróleo Brasileiro S.A. - Petrobras",
          "Vale S.A.",
          "Itaú Unibanco Holding S.A.",
          "Ambev S.A.",
          "WEG S.A."
         ],
         "xaxis": "x",
         "y": [
          0.70198864,
          0.83809143,
          0.8952779,
          0.9123458,
          1.1144768,
          1.1147614,
          1.3506,
          1.4986876,
          1.5052054,
          2.3598,
          9.0016365
         ],
         "yaxis": "y"
        }
       ],
       "layout": {
        "barmode": "relative",
        "height": 600,
        "legend": {
         "tracegroupgap": 0
        },
        "template": {
         "data": {
          "bar": [
           {
            "error_x": {
             "color": "#f2f5fa"
            },
            "error_y": {
             "color": "#f2f5fa"
            },
            "marker": {
             "line": {
              "color": "rgb(17,17,17)",
              "width": 0.5
             },
             "pattern": {
              "fillmode": "overlay",
              "size": 10,
              "solidity": 0.2
             }
            },
            "type": "bar"
           }
          ],
          "barpolar": [
           {
            "marker": {
             "line": {
              "color": "rgb(17,17,17)",
              "width": 0.5
             },
             "pattern": {
              "fillmode": "overlay",
              "size": 10,
              "solidity": 0.2
             }
            },
            "type": "barpolar"
           }
          ],
          "carpet": [
           {
            "aaxis": {
             "endlinecolor": "#A2B1C6",
             "gridcolor": "#506784",
             "linecolor": "#506784",
             "minorgridcolor": "#506784",
             "startlinecolor": "#A2B1C6"
            },
            "baxis": {
             "endlinecolor": "#A2B1C6",
             "gridcolor": "#506784",
             "linecolor": "#506784",
             "minorgridcolor": "#506784",
             "startlinecolor": "#A2B1C6"
            },
            "type": "carpet"
           }
          ],
          "choropleth": [
           {
            "colorbar": {
             "outlinewidth": 0,
             "ticks": ""
            },
            "type": "choropleth"
           }
          ],
          "contour": [
           {
            "colorbar": {
             "outlinewidth": 0,
             "ticks": ""
            },
            "colorscale": [
             [
              0,
              "#0d0887"
             ],
             [
              0.1111111111111111,
              "#46039f"
             ],
             [
              0.2222222222222222,
              "#7201a8"
             ],
             [
              0.3333333333333333,
              "#9c179e"
             ],
             [
              0.4444444444444444,
              "#bd3786"
             ],
             [
              0.5555555555555556,
              "#d8576b"
             ],
             [
              0.6666666666666666,
              "#ed7953"
             ],
             [
              0.7777777777777778,
              "#fb9f3a"
             ],
             [
              0.8888888888888888,
              "#fdca26"
             ],
             [
              1,
              "#f0f921"
             ]
            ],
            "type": "contour"
           }
          ],
          "contourcarpet": [
           {
            "colorbar": {
             "outlinewidth": 0,
             "ticks": ""
            },
            "type": "contourcarpet"
           }
          ],
          "heatmap": [
           {
            "colorbar": {
             "outlinewidth": 0,
             "ticks": ""
            },
            "colorscale": [
             [
              0,
              "#0d0887"
             ],
             [
              0.1111111111111111,
              "#46039f"
             ],
             [
              0.2222222222222222,
              "#7201a8"
             ],
             [
              0.3333333333333333,
              "#9c179e"
             ],
             [
              0.4444444444444444,
              "#bd3786"
             ],
             [
              0.5555555555555556,
              "#d8576b"
             ],
             [
              0.6666666666666666,
              "#ed7953"
             ],
             [
              0.7777777777777778,
              "#fb9f3a"
             ],
             [
              0.8888888888888888,
              "#fdca26"
             ],
             [
              1,
              "#f0f921"
             ]
            ],
            "type": "heatmap"
           }
          ],
          "heatmapgl": [
           {
            "colorbar": {
             "outlinewidth": 0,
             "ticks": ""
            },
            "colorscale": [
             [
              0,
              "#0d0887"
             ],
             [
              0.1111111111111111,
              "#46039f"
             ],
             [
              0.2222222222222222,
              "#7201a8"
             ],
             [
              0.3333333333333333,
              "#9c179e"
             ],
             [
              0.4444444444444444,
              "#bd3786"
             ],
             [
              0.5555555555555556,
              "#d8576b"
             ],
             [
              0.6666666666666666,
              "#ed7953"
             ],
             [
              0.7777777777777778,
              "#fb9f3a"
             ],
             [
              0.8888888888888888,
              "#fdca26"
             ],
             [
              1,
              "#f0f921"
             ]
            ],
            "type": "heatmapgl"
           }
          ],
          "histogram": [
           {
            "marker": {
             "pattern": {
              "fillmode": "overlay",
              "size": 10,
              "solidity": 0.2
             }
            },
            "type": "histogram"
           }
          ],
          "histogram2d": [
           {
            "colorbar": {
             "outlinewidth": 0,
             "ticks": ""
            },
            "colorscale": [
             [
              0,
              "#0d0887"
             ],
             [
              0.1111111111111111,
              "#46039f"
             ],
             [
              0.2222222222222222,
              "#7201a8"
             ],
             [
              0.3333333333333333,
              "#9c179e"
             ],
             [
              0.4444444444444444,
              "#bd3786"
             ],
             [
              0.5555555555555556,
              "#d8576b"
             ],
             [
              0.6666666666666666,
              "#ed7953"
             ],
             [
              0.7777777777777778,
              "#fb9f3a"
             ],
             [
              0.8888888888888888,
              "#fdca26"
             ],
             [
              1,
              "#f0f921"
             ]
            ],
            "type": "histogram2d"
           }
          ],
          "histogram2dcontour": [
           {
            "colorbar": {
             "outlinewidth": 0,
             "ticks": ""
            },
            "colorscale": [
             [
              0,
              "#0d0887"
             ],
             [
              0.1111111111111111,
              "#46039f"
             ],
             [
              0.2222222222222222,
              "#7201a8"
             ],
             [
              0.3333333333333333,
              "#9c179e"
             ],
             [
              0.4444444444444444,
              "#bd3786"
             ],
             [
              0.5555555555555556,
              "#d8576b"
             ],
             [
              0.6666666666666666,
              "#ed7953"
             ],
             [
              0.7777777777777778,
              "#fb9f3a"
             ],
             [
              0.8888888888888888,
              "#fdca26"
             ],
             [
              1,
              "#f0f921"
             ]
            ],
            "type": "histogram2dcontour"
           }
          ],
          "mesh3d": [
           {
            "colorbar": {
             "outlinewidth": 0,
             "ticks": ""
            },
            "type": "mesh3d"
           }
          ],
          "parcoords": [
           {
            "line": {
             "colorbar": {
              "outlinewidth": 0,
              "ticks": ""
             }
            },
            "type": "parcoords"
           }
          ],
          "pie": [
           {
            "automargin": true,
            "type": "pie"
           }
          ],
          "scatter": [
           {
            "marker": {
             "line": {
              "color": "#283442"
             }
            },
            "type": "scatter"
           }
          ],
          "scatter3d": [
           {
            "line": {
             "colorbar": {
              "outlinewidth": 0,
              "ticks": ""
             }
            },
            "marker": {
             "colorbar": {
              "outlinewidth": 0,
              "ticks": ""
             }
            },
            "type": "scatter3d"
           }
          ],
          "scattercarpet": [
           {
            "marker": {
             "colorbar": {
              "outlinewidth": 0,
              "ticks": ""
             }
            },
            "type": "scattercarpet"
           }
          ],
          "scattergeo": [
           {
            "marker": {
             "colorbar": {
              "outlinewidth": 0,
              "ticks": ""
             }
            },
            "type": "scattergeo"
           }
          ],
          "scattergl": [
           {
            "marker": {
             "line": {
              "color": "#283442"
             }
            },
            "type": "scattergl"
           }
          ],
          "scattermapbox": [
           {
            "marker": {
             "colorbar": {
              "outlinewidth": 0,
              "ticks": ""
             }
            },
            "type": "scattermapbox"
           }
          ],
          "scatterpolar": [
           {
            "marker": {
             "colorbar": {
              "outlinewidth": 0,
              "ticks": ""
             }
            },
            "type": "scatterpolar"
           }
          ],
          "scatterpolargl": [
           {
            "marker": {
             "colorbar": {
              "outlinewidth": 0,
              "ticks": ""
             }
            },
            "type": "scatterpolargl"
           }
          ],
          "scatterternary": [
           {
            "marker": {
             "colorbar": {
              "outlinewidth": 0,
              "ticks": ""
             }
            },
            "type": "scatterternary"
           }
          ],
          "surface": [
           {
            "colorbar": {
             "outlinewidth": 0,
             "ticks": ""
            },
            "colorscale": [
             [
              0,
              "#0d0887"
             ],
             [
              0.1111111111111111,
              "#46039f"
             ],
             [
              0.2222222222222222,
              "#7201a8"
             ],
             [
              0.3333333333333333,
              "#9c179e"
             ],
             [
              0.4444444444444444,
              "#bd3786"
             ],
             [
              0.5555555555555556,
              "#d8576b"
             ],
             [
              0.6666666666666666,
              "#ed7953"
             ],
             [
              0.7777777777777778,
              "#fb9f3a"
             ],
             [
              0.8888888888888888,
              "#fdca26"
             ],
             [
              1,
              "#f0f921"
             ]
            ],
            "type": "surface"
           }
          ],
          "table": [
           {
            "cells": {
             "fill": {
              "color": "#506784"
             },
             "line": {
              "color": "rgb(17,17,17)"
             }
            },
            "header": {
             "fill": {
              "color": "#2a3f5f"
             },
             "line": {
              "color": "rgb(17,17,17)"
             }
            },
            "type": "table"
           }
          ]
         },
         "layout": {
          "annotationdefaults": {
           "arrowcolor": "#f2f5fa",
           "arrowhead": 0,
           "arrowwidth": 1
          },
          "autotypenumbers": "strict",
          "coloraxis": {
           "colorbar": {
            "outlinewidth": 0,
            "ticks": ""
           }
          },
          "colorscale": {
           "diverging": [
            [
             0,
             "#8e0152"
            ],
            [
             0.1,
             "#c51b7d"
            ],
            [
             0.2,
             "#de77ae"
            ],
            [
             0.3,
             "#f1b6da"
            ],
            [
             0.4,
             "#fde0ef"
            ],
            [
             0.5,
             "#f7f7f7"
            ],
            [
             0.6,
             "#e6f5d0"
            ],
            [
             0.7,
             "#b8e186"
            ],
            [
             0.8,
             "#7fbc41"
            ],
            [
             0.9,
             "#4d9221"
            ],
            [
             1,
             "#276419"
            ]
           ],
           "sequential": [
            [
             0,
             "#0d0887"
            ],
            [
             0.1111111111111111,
             "#46039f"
            ],
            [
             0.2222222222222222,
             "#7201a8"
            ],
            [
             0.3333333333333333,
             "#9c179e"
            ],
            [
             0.4444444444444444,
             "#bd3786"
            ],
            [
             0.5555555555555556,
             "#d8576b"
            ],
            [
             0.6666666666666666,
             "#ed7953"
            ],
            [
             0.7777777777777778,
             "#fb9f3a"
            ],
            [
             0.8888888888888888,
             "#fdca26"
            ],
            [
             1,
             "#f0f921"
            ]
           ],
           "sequentialminus": [
            [
             0,
             "#0d0887"
            ],
            [
             0.1111111111111111,
             "#46039f"
            ],
            [
             0.2222222222222222,
             "#7201a8"
            ],
            [
             0.3333333333333333,
             "#9c179e"
            ],
            [
             0.4444444444444444,
             "#bd3786"
            ],
            [
             0.5555555555555556,
             "#d8576b"
            ],
            [
             0.6666666666666666,
             "#ed7953"
            ],
            [
             0.7777777777777778,
             "#fb9f3a"
            ],
            [
             0.8888888888888888,
             "#fdca26"
            ],
            [
             1,
             "#f0f921"
            ]
           ]
          },
          "colorway": [
           "#636efa",
           "#EF553B",
           "#00cc96",
           "#ab63fa",
           "#FFA15A",
           "#19d3f3",
           "#FF6692",
           "#B6E880",
           "#FF97FF",
           "#FECB52"
          ],
          "font": {
           "color": "#f2f5fa"
          },
          "geo": {
           "bgcolor": "rgb(17,17,17)",
           "lakecolor": "rgb(17,17,17)",
           "landcolor": "rgb(17,17,17)",
           "showlakes": true,
           "showland": true,
           "subunitcolor": "#506784"
          },
          "hoverlabel": {
           "align": "left"
          },
          "hovermode": "closest",
          "mapbox": {
           "style": "dark"
          },
          "paper_bgcolor": "rgb(17,17,17)",
          "plot_bgcolor": "rgb(17,17,17)",
          "polar": {
           "angularaxis": {
            "gridcolor": "#506784",
            "linecolor": "#506784",
            "ticks": ""
           },
           "bgcolor": "rgb(17,17,17)",
           "radialaxis": {
            "gridcolor": "#506784",
            "linecolor": "#506784",
            "ticks": ""
           }
          },
          "scene": {
           "xaxis": {
            "backgroundcolor": "rgb(17,17,17)",
            "gridcolor": "#506784",
            "gridwidth": 2,
            "linecolor": "#506784",
            "showbackground": true,
            "ticks": "",
            "zerolinecolor": "#C8D4E3"
           },
           "yaxis": {
            "backgroundcolor": "rgb(17,17,17)",
            "gridcolor": "#506784",
            "gridwidth": 2,
            "linecolor": "#506784",
            "showbackground": true,
            "ticks": "",
            "zerolinecolor": "#C8D4E3"
           },
           "zaxis": {
            "backgroundcolor": "rgb(17,17,17)",
            "gridcolor": "#506784",
            "gridwidth": 2,
            "linecolor": "#506784",
            "showbackground": true,
            "ticks": "",
            "zerolinecolor": "#C8D4E3"
           }
          },
          "shapedefaults": {
           "line": {
            "color": "#f2f5fa"
           }
          },
          "sliderdefaults": {
           "bgcolor": "#C8D4E3",
           "bordercolor": "rgb(17,17,17)",
           "borderwidth": 1,
           "tickwidth": 0
          },
          "ternary": {
           "aaxis": {
            "gridcolor": "#506784",
            "linecolor": "#506784",
            "ticks": ""
           },
           "baxis": {
            "gridcolor": "#506784",
            "linecolor": "#506784",
            "ticks": ""
           },
           "bgcolor": "rgb(17,17,17)",
           "caxis": {
            "gridcolor": "#506784",
            "linecolor": "#506784",
            "ticks": ""
           }
          },
          "title": {
           "x": 0.05
          },
          "updatemenudefaults": {
           "bgcolor": "#506784",
           "borderwidth": 0
          },
          "xaxis": {
           "automargin": true,
           "gridcolor": "#283442",
           "linecolor": "#506784",
           "ticks": "",
           "title": {
            "standoff": 15
           },
           "zerolinecolor": "#283442",
           "zerolinewidth": 2
          },
          "yaxis": {
           "automargin": true,
           "gridcolor": "#283442",
           "linecolor": "#506784",
           "ticks": "",
           "title": {
            "standoff": 15
           },
           "zerolinecolor": "#283442",
           "zerolinewidth": 2
          }
         }
        },
        "title": {
         "text": "Total Debt"
        },
        "xaxis": {
         "anchor": "y",
         "domain": [
          0,
          1
         ],
         "title": {
          "text": "Companies"
         }
        },
        "yaxis": {
         "anchor": "x",
         "domain": [
          0,
          1
         ],
         "title": {
          "text": "Price To Book"
         }
        }
       }
      }
     },
     "metadata": {},
     "output_type": "display_data"
    }
   ],
   "source": [
    "df_top_companies.sort_values(by = 'price_to_book', ascending=True, inplace=True)\n",
    "\n",
    "fig_op_margin = px.bar(df_top_companies, title='Total Debt', x='long_name', y='price_to_book', color_discrete_sequence=['rgb(100, 195, 181)'], hover_name=df_top_companies.ticker, height=600)\n",
    "fig_op_margin.update_traces(text=[f'{x:.2f}x' for x in (df_top_companies['price_to_book'])], textposition='outside',textfont=dict(color='white'))\n",
    "fig_op_margin.update_layout(xaxis_title='Companies', yaxis_title='Price To Book', template = 'plotly_dark')\n",
    "fig_op_margin.show()"
   ]
  },
  {
   "cell_type": "markdown",
   "metadata": {},
   "source": []
  },
  {
   "cell_type": "code",
   "execution_count": 24,
   "metadata": {},
   "outputs": [
    {
     "data": {
      "application/vnd.plotly.v1+json": {
       "config": {
        "plotlyServerURL": "https://plot.ly"
       },
       "data": [
        {
         "alignmentgroup": "True",
         "hovertemplate": "<b>%{hovertext}</b><br><br>long_name=%{x}<br>price_to_sales_trailing_12_months=%{y}<extra></extra>",
         "hovertext": [
          "PETR3.SA",
          "VALE3.SA",
          "BBAS3.SA",
          "VIVT3.SA",
          "BBDC4.SA",
          "ITUB4.SA",
          "ELET3.SA",
          "ABEV3.SA",
          "WEGE3.SA",
          "BPAC5.SA",
          "ITSA4.SA"
         ],
         "legendgroup": "",
         "marker": {
          "color": "rgb(100, 195, 181)",
          "pattern": {
           "shape": ""
          }
         },
         "name": "",
         "offsetgroup": "",
         "orientation": "v",
         "showlegend": false,
         "text": [
          "0.83x",
          "1.35x",
          "1.47x",
          "1.52x",
          "1.95x",
          "2.09x",
          "2.23x",
          "2.43x",
          "4.36x",
          "5.34x",
          "11.09x"
         ],
         "textfont": {
          "color": "white"
         },
         "textposition": "outside",
         "type": "bar",
         "x": [
          "Petróleo Brasileiro S.A. - Petrobras",
          "Vale S.A.",
          "Banco do Brasil S.A.",
          "Telefônica Brasil S.A.",
          "Banco Bradesco S.A.",
          "Itaú Unibanco Holding S.A.",
          "Centrais Elétricas Brasileiras S.A. - Eletrobrás",
          "Ambev S.A.",
          "WEG S.A.",
          "Banco BTG Pactual S.A.",
          "Itaúsa S.A."
         ],
         "xaxis": "x",
         "y": [
          0.8308848,
          1.3453289,
          1.4728581,
          1.5195276,
          1.9527043,
          2.090864,
          2.2328575,
          2.426816,
          4.359256,
          5.3448424,
          11.090173
         ],
         "yaxis": "y"
        }
       ],
       "layout": {
        "barmode": "relative",
        "height": 600,
        "legend": {
         "tracegroupgap": 0
        },
        "template": {
         "data": {
          "bar": [
           {
            "error_x": {
             "color": "#f2f5fa"
            },
            "error_y": {
             "color": "#f2f5fa"
            },
            "marker": {
             "line": {
              "color": "rgb(17,17,17)",
              "width": 0.5
             },
             "pattern": {
              "fillmode": "overlay",
              "size": 10,
              "solidity": 0.2
             }
            },
            "type": "bar"
           }
          ],
          "barpolar": [
           {
            "marker": {
             "line": {
              "color": "rgb(17,17,17)",
              "width": 0.5
             },
             "pattern": {
              "fillmode": "overlay",
              "size": 10,
              "solidity": 0.2
             }
            },
            "type": "barpolar"
           }
          ],
          "carpet": [
           {
            "aaxis": {
             "endlinecolor": "#A2B1C6",
             "gridcolor": "#506784",
             "linecolor": "#506784",
             "minorgridcolor": "#506784",
             "startlinecolor": "#A2B1C6"
            },
            "baxis": {
             "endlinecolor": "#A2B1C6",
             "gridcolor": "#506784",
             "linecolor": "#506784",
             "minorgridcolor": "#506784",
             "startlinecolor": "#A2B1C6"
            },
            "type": "carpet"
           }
          ],
          "choropleth": [
           {
            "colorbar": {
             "outlinewidth": 0,
             "ticks": ""
            },
            "type": "choropleth"
           }
          ],
          "contour": [
           {
            "colorbar": {
             "outlinewidth": 0,
             "ticks": ""
            },
            "colorscale": [
             [
              0,
              "#0d0887"
             ],
             [
              0.1111111111111111,
              "#46039f"
             ],
             [
              0.2222222222222222,
              "#7201a8"
             ],
             [
              0.3333333333333333,
              "#9c179e"
             ],
             [
              0.4444444444444444,
              "#bd3786"
             ],
             [
              0.5555555555555556,
              "#d8576b"
             ],
             [
              0.6666666666666666,
              "#ed7953"
             ],
             [
              0.7777777777777778,
              "#fb9f3a"
             ],
             [
              0.8888888888888888,
              "#fdca26"
             ],
             [
              1,
              "#f0f921"
             ]
            ],
            "type": "contour"
           }
          ],
          "contourcarpet": [
           {
            "colorbar": {
             "outlinewidth": 0,
             "ticks": ""
            },
            "type": "contourcarpet"
           }
          ],
          "heatmap": [
           {
            "colorbar": {
             "outlinewidth": 0,
             "ticks": ""
            },
            "colorscale": [
             [
              0,
              "#0d0887"
             ],
             [
              0.1111111111111111,
              "#46039f"
             ],
             [
              0.2222222222222222,
              "#7201a8"
             ],
             [
              0.3333333333333333,
              "#9c179e"
             ],
             [
              0.4444444444444444,
              "#bd3786"
             ],
             [
              0.5555555555555556,
              "#d8576b"
             ],
             [
              0.6666666666666666,
              "#ed7953"
             ],
             [
              0.7777777777777778,
              "#fb9f3a"
             ],
             [
              0.8888888888888888,
              "#fdca26"
             ],
             [
              1,
              "#f0f921"
             ]
            ],
            "type": "heatmap"
           }
          ],
          "heatmapgl": [
           {
            "colorbar": {
             "outlinewidth": 0,
             "ticks": ""
            },
            "colorscale": [
             [
              0,
              "#0d0887"
             ],
             [
              0.1111111111111111,
              "#46039f"
             ],
             [
              0.2222222222222222,
              "#7201a8"
             ],
             [
              0.3333333333333333,
              "#9c179e"
             ],
             [
              0.4444444444444444,
              "#bd3786"
             ],
             [
              0.5555555555555556,
              "#d8576b"
             ],
             [
              0.6666666666666666,
              "#ed7953"
             ],
             [
              0.7777777777777778,
              "#fb9f3a"
             ],
             [
              0.8888888888888888,
              "#fdca26"
             ],
             [
              1,
              "#f0f921"
             ]
            ],
            "type": "heatmapgl"
           }
          ],
          "histogram": [
           {
            "marker": {
             "pattern": {
              "fillmode": "overlay",
              "size": 10,
              "solidity": 0.2
             }
            },
            "type": "histogram"
           }
          ],
          "histogram2d": [
           {
            "colorbar": {
             "outlinewidth": 0,
             "ticks": ""
            },
            "colorscale": [
             [
              0,
              "#0d0887"
             ],
             [
              0.1111111111111111,
              "#46039f"
             ],
             [
              0.2222222222222222,
              "#7201a8"
             ],
             [
              0.3333333333333333,
              "#9c179e"
             ],
             [
              0.4444444444444444,
              "#bd3786"
             ],
             [
              0.5555555555555556,
              "#d8576b"
             ],
             [
              0.6666666666666666,
              "#ed7953"
             ],
             [
              0.7777777777777778,
              "#fb9f3a"
             ],
             [
              0.8888888888888888,
              "#fdca26"
             ],
             [
              1,
              "#f0f921"
             ]
            ],
            "type": "histogram2d"
           }
          ],
          "histogram2dcontour": [
           {
            "colorbar": {
             "outlinewidth": 0,
             "ticks": ""
            },
            "colorscale": [
             [
              0,
              "#0d0887"
             ],
             [
              0.1111111111111111,
              "#46039f"
             ],
             [
              0.2222222222222222,
              "#7201a8"
             ],
             [
              0.3333333333333333,
              "#9c179e"
             ],
             [
              0.4444444444444444,
              "#bd3786"
             ],
             [
              0.5555555555555556,
              "#d8576b"
             ],
             [
              0.6666666666666666,
              "#ed7953"
             ],
             [
              0.7777777777777778,
              "#fb9f3a"
             ],
             [
              0.8888888888888888,
              "#fdca26"
             ],
             [
              1,
              "#f0f921"
             ]
            ],
            "type": "histogram2dcontour"
           }
          ],
          "mesh3d": [
           {
            "colorbar": {
             "outlinewidth": 0,
             "ticks": ""
            },
            "type": "mesh3d"
           }
          ],
          "parcoords": [
           {
            "line": {
             "colorbar": {
              "outlinewidth": 0,
              "ticks": ""
             }
            },
            "type": "parcoords"
           }
          ],
          "pie": [
           {
            "automargin": true,
            "type": "pie"
           }
          ],
          "scatter": [
           {
            "marker": {
             "line": {
              "color": "#283442"
             }
            },
            "type": "scatter"
           }
          ],
          "scatter3d": [
           {
            "line": {
             "colorbar": {
              "outlinewidth": 0,
              "ticks": ""
             }
            },
            "marker": {
             "colorbar": {
              "outlinewidth": 0,
              "ticks": ""
             }
            },
            "type": "scatter3d"
           }
          ],
          "scattercarpet": [
           {
            "marker": {
             "colorbar": {
              "outlinewidth": 0,
              "ticks": ""
             }
            },
            "type": "scattercarpet"
           }
          ],
          "scattergeo": [
           {
            "marker": {
             "colorbar": {
              "outlinewidth": 0,
              "ticks": ""
             }
            },
            "type": "scattergeo"
           }
          ],
          "scattergl": [
           {
            "marker": {
             "line": {
              "color": "#283442"
             }
            },
            "type": "scattergl"
           }
          ],
          "scattermapbox": [
           {
            "marker": {
             "colorbar": {
              "outlinewidth": 0,
              "ticks": ""
             }
            },
            "type": "scattermapbox"
           }
          ],
          "scatterpolar": [
           {
            "marker": {
             "colorbar": {
              "outlinewidth": 0,
              "ticks": ""
             }
            },
            "type": "scatterpolar"
           }
          ],
          "scatterpolargl": [
           {
            "marker": {
             "colorbar": {
              "outlinewidth": 0,
              "ticks": ""
             }
            },
            "type": "scatterpolargl"
           }
          ],
          "scatterternary": [
           {
            "marker": {
             "colorbar": {
              "outlinewidth": 0,
              "ticks": ""
             }
            },
            "type": "scatterternary"
           }
          ],
          "surface": [
           {
            "colorbar": {
             "outlinewidth": 0,
             "ticks": ""
            },
            "colorscale": [
             [
              0,
              "#0d0887"
             ],
             [
              0.1111111111111111,
              "#46039f"
             ],
             [
              0.2222222222222222,
              "#7201a8"
             ],
             [
              0.3333333333333333,
              "#9c179e"
             ],
             [
              0.4444444444444444,
              "#bd3786"
             ],
             [
              0.5555555555555556,
              "#d8576b"
             ],
             [
              0.6666666666666666,
              "#ed7953"
             ],
             [
              0.7777777777777778,
              "#fb9f3a"
             ],
             [
              0.8888888888888888,
              "#fdca26"
             ],
             [
              1,
              "#f0f921"
             ]
            ],
            "type": "surface"
           }
          ],
          "table": [
           {
            "cells": {
             "fill": {
              "color": "#506784"
             },
             "line": {
              "color": "rgb(17,17,17)"
             }
            },
            "header": {
             "fill": {
              "color": "#2a3f5f"
             },
             "line": {
              "color": "rgb(17,17,17)"
             }
            },
            "type": "table"
           }
          ]
         },
         "layout": {
          "annotationdefaults": {
           "arrowcolor": "#f2f5fa",
           "arrowhead": 0,
           "arrowwidth": 1
          },
          "autotypenumbers": "strict",
          "coloraxis": {
           "colorbar": {
            "outlinewidth": 0,
            "ticks": ""
           }
          },
          "colorscale": {
           "diverging": [
            [
             0,
             "#8e0152"
            ],
            [
             0.1,
             "#c51b7d"
            ],
            [
             0.2,
             "#de77ae"
            ],
            [
             0.3,
             "#f1b6da"
            ],
            [
             0.4,
             "#fde0ef"
            ],
            [
             0.5,
             "#f7f7f7"
            ],
            [
             0.6,
             "#e6f5d0"
            ],
            [
             0.7,
             "#b8e186"
            ],
            [
             0.8,
             "#7fbc41"
            ],
            [
             0.9,
             "#4d9221"
            ],
            [
             1,
             "#276419"
            ]
           ],
           "sequential": [
            [
             0,
             "#0d0887"
            ],
            [
             0.1111111111111111,
             "#46039f"
            ],
            [
             0.2222222222222222,
             "#7201a8"
            ],
            [
             0.3333333333333333,
             "#9c179e"
            ],
            [
             0.4444444444444444,
             "#bd3786"
            ],
            [
             0.5555555555555556,
             "#d8576b"
            ],
            [
             0.6666666666666666,
             "#ed7953"
            ],
            [
             0.7777777777777778,
             "#fb9f3a"
            ],
            [
             0.8888888888888888,
             "#fdca26"
            ],
            [
             1,
             "#f0f921"
            ]
           ],
           "sequentialminus": [
            [
             0,
             "#0d0887"
            ],
            [
             0.1111111111111111,
             "#46039f"
            ],
            [
             0.2222222222222222,
             "#7201a8"
            ],
            [
             0.3333333333333333,
             "#9c179e"
            ],
            [
             0.4444444444444444,
             "#bd3786"
            ],
            [
             0.5555555555555556,
             "#d8576b"
            ],
            [
             0.6666666666666666,
             "#ed7953"
            ],
            [
             0.7777777777777778,
             "#fb9f3a"
            ],
            [
             0.8888888888888888,
             "#fdca26"
            ],
            [
             1,
             "#f0f921"
            ]
           ]
          },
          "colorway": [
           "#636efa",
           "#EF553B",
           "#00cc96",
           "#ab63fa",
           "#FFA15A",
           "#19d3f3",
           "#FF6692",
           "#B6E880",
           "#FF97FF",
           "#FECB52"
          ],
          "font": {
           "color": "#f2f5fa"
          },
          "geo": {
           "bgcolor": "rgb(17,17,17)",
           "lakecolor": "rgb(17,17,17)",
           "landcolor": "rgb(17,17,17)",
           "showlakes": true,
           "showland": true,
           "subunitcolor": "#506784"
          },
          "hoverlabel": {
           "align": "left"
          },
          "hovermode": "closest",
          "mapbox": {
           "style": "dark"
          },
          "paper_bgcolor": "rgb(17,17,17)",
          "plot_bgcolor": "rgb(17,17,17)",
          "polar": {
           "angularaxis": {
            "gridcolor": "#506784",
            "linecolor": "#506784",
            "ticks": ""
           },
           "bgcolor": "rgb(17,17,17)",
           "radialaxis": {
            "gridcolor": "#506784",
            "linecolor": "#506784",
            "ticks": ""
           }
          },
          "scene": {
           "xaxis": {
            "backgroundcolor": "rgb(17,17,17)",
            "gridcolor": "#506784",
            "gridwidth": 2,
            "linecolor": "#506784",
            "showbackground": true,
            "ticks": "",
            "zerolinecolor": "#C8D4E3"
           },
           "yaxis": {
            "backgroundcolor": "rgb(17,17,17)",
            "gridcolor": "#506784",
            "gridwidth": 2,
            "linecolor": "#506784",
            "showbackground": true,
            "ticks": "",
            "zerolinecolor": "#C8D4E3"
           },
           "zaxis": {
            "backgroundcolor": "rgb(17,17,17)",
            "gridcolor": "#506784",
            "gridwidth": 2,
            "linecolor": "#506784",
            "showbackground": true,
            "ticks": "",
            "zerolinecolor": "#C8D4E3"
           }
          },
          "shapedefaults": {
           "line": {
            "color": "#f2f5fa"
           }
          },
          "sliderdefaults": {
           "bgcolor": "#C8D4E3",
           "bordercolor": "rgb(17,17,17)",
           "borderwidth": 1,
           "tickwidth": 0
          },
          "ternary": {
           "aaxis": {
            "gridcolor": "#506784",
            "linecolor": "#506784",
            "ticks": ""
           },
           "baxis": {
            "gridcolor": "#506784",
            "linecolor": "#506784",
            "ticks": ""
           },
           "bgcolor": "rgb(17,17,17)",
           "caxis": {
            "gridcolor": "#506784",
            "linecolor": "#506784",
            "ticks": ""
           }
          },
          "title": {
           "x": 0.05
          },
          "updatemenudefaults": {
           "bgcolor": "#506784",
           "borderwidth": 0
          },
          "xaxis": {
           "automargin": true,
           "gridcolor": "#283442",
           "linecolor": "#506784",
           "ticks": "",
           "title": {
            "standoff": 15
           },
           "zerolinecolor": "#283442",
           "zerolinewidth": 2
          },
          "yaxis": {
           "automargin": true,
           "gridcolor": "#283442",
           "linecolor": "#506784",
           "ticks": "",
           "title": {
            "standoff": 15
           },
           "zerolinecolor": "#283442",
           "zerolinewidth": 2
          }
         }
        },
        "title": {
         "text": "Total Debt"
        },
        "xaxis": {
         "anchor": "y",
         "domain": [
          0,
          1
         ],
         "title": {
          "text": "Companies"
         }
        },
        "yaxis": {
         "anchor": "x",
         "domain": [
          0,
          1
         ],
         "title": {
          "text": "Price To Sale"
         }
        }
       }
      }
     },
     "metadata": {},
     "output_type": "display_data"
    }
   ],
   "source": [
    "df_top_companies.sort_values(by = 'price_to_sales_trailing_12_months', ascending=True, inplace=True)\n",
    "\n",
    "fig_op_margin = px.bar(df_top_companies, title='Total Debt', x='long_name', y='price_to_sales_trailing_12_months', color_discrete_sequence=['rgb(100, 195, 181)'], hover_name=df_top_companies.ticker, height=600)\n",
    "fig_op_margin.update_traces(text=[f'{x:.2f}x' for x in (df_top_companies['price_to_sales_trailing_12_months'])], textposition='outside',textfont=dict(color='white'))\n",
    "fig_op_margin.update_layout(xaxis_title='Companies', yaxis_title='Price To Sale', template = 'plotly_dark')\n",
    "fig_op_margin.show()"
   ]
  },
  {
   "cell_type": "markdown",
   "metadata": {},
   "source": []
  },
  {
   "cell_type": "markdown",
   "metadata": {},
   "source": [
    "### Dividendos:"
   ]
  },
  {
   "cell_type": "code",
   "execution_count": 25,
   "metadata": {},
   "outputs": [
    {
     "data": {
      "application/vnd.plotly.v1+json": {
       "config": {
        "plotlyServerURL": "https://plot.ly"
       },
       "data": [
        {
         "alignmentgroup": "True",
         "hovertemplate": "<b>%{hovertext}</b><br><br>long_name=%{x}<br>dividend_rate=%{y}<extra></extra>",
         "hovertext": [
          "ELET3.SA",
          "BBDC4.SA",
          "WEGE3.SA",
          "BPAC5.SA",
          "ITSA4.SA",
          "ABEV3.SA",
          "BBAS3.SA",
          "ITUB4.SA",
          "VIVT3.SA",
          "VALE3.SA",
          "PETR3.SA"
         ],
         "legendgroup": "",
         "marker": {
          "color": "rgb(100, 195, 181)",
          "pattern": {
           "shape": ""
          }
         },
         "name": "",
         "offsetgroup": "",
         "orientation": "v",
         "showlegend": false,
         "text": [
          "0.22x",
          "0.23x",
          "0.32x",
          "0.35x",
          "0.74x",
          "0.76x",
          "0.94x",
          "1.50x",
          "2.58x",
          "3.84x",
          "9.28x"
         ],
         "textfont": {
          "color": "white"
         },
         "textposition": "outside",
         "type": "bar",
         "x": [
          "Centrais Elétricas Brasileiras S.A. - Eletrobrás",
          "Banco Bradesco S.A.",
          "WEG S.A.",
          "Banco BTG Pactual S.A.",
          "Itaúsa S.A.",
          "Ambev S.A.",
          "Banco do Brasil S.A.",
          "Itaú Unibanco Holding S.A.",
          "Telefônica Brasil S.A.",
          "Vale S.A.",
          "Petróleo Brasileiro S.A. - Petrobras"
         ],
         "xaxis": "x",
         "y": [
          0.22,
          0.23,
          0.32,
          0.35,
          0.74,
          0.76,
          0.94,
          1.5,
          2.58,
          3.84,
          9.28
         ],
         "yaxis": "y"
        }
       ],
       "layout": {
        "barmode": "relative",
        "height": 600,
        "legend": {
         "tracegroupgap": 0
        },
        "template": {
         "data": {
          "bar": [
           {
            "error_x": {
             "color": "#f2f5fa"
            },
            "error_y": {
             "color": "#f2f5fa"
            },
            "marker": {
             "line": {
              "color": "rgb(17,17,17)",
              "width": 0.5
             },
             "pattern": {
              "fillmode": "overlay",
              "size": 10,
              "solidity": 0.2
             }
            },
            "type": "bar"
           }
          ],
          "barpolar": [
           {
            "marker": {
             "line": {
              "color": "rgb(17,17,17)",
              "width": 0.5
             },
             "pattern": {
              "fillmode": "overlay",
              "size": 10,
              "solidity": 0.2
             }
            },
            "type": "barpolar"
           }
          ],
          "carpet": [
           {
            "aaxis": {
             "endlinecolor": "#A2B1C6",
             "gridcolor": "#506784",
             "linecolor": "#506784",
             "minorgridcolor": "#506784",
             "startlinecolor": "#A2B1C6"
            },
            "baxis": {
             "endlinecolor": "#A2B1C6",
             "gridcolor": "#506784",
             "linecolor": "#506784",
             "minorgridcolor": "#506784",
             "startlinecolor": "#A2B1C6"
            },
            "type": "carpet"
           }
          ],
          "choropleth": [
           {
            "colorbar": {
             "outlinewidth": 0,
             "ticks": ""
            },
            "type": "choropleth"
           }
          ],
          "contour": [
           {
            "colorbar": {
             "outlinewidth": 0,
             "ticks": ""
            },
            "colorscale": [
             [
              0,
              "#0d0887"
             ],
             [
              0.1111111111111111,
              "#46039f"
             ],
             [
              0.2222222222222222,
              "#7201a8"
             ],
             [
              0.3333333333333333,
              "#9c179e"
             ],
             [
              0.4444444444444444,
              "#bd3786"
             ],
             [
              0.5555555555555556,
              "#d8576b"
             ],
             [
              0.6666666666666666,
              "#ed7953"
             ],
             [
              0.7777777777777778,
              "#fb9f3a"
             ],
             [
              0.8888888888888888,
              "#fdca26"
             ],
             [
              1,
              "#f0f921"
             ]
            ],
            "type": "contour"
           }
          ],
          "contourcarpet": [
           {
            "colorbar": {
             "outlinewidth": 0,
             "ticks": ""
            },
            "type": "contourcarpet"
           }
          ],
          "heatmap": [
           {
            "colorbar": {
             "outlinewidth": 0,
             "ticks": ""
            },
            "colorscale": [
             [
              0,
              "#0d0887"
             ],
             [
              0.1111111111111111,
              "#46039f"
             ],
             [
              0.2222222222222222,
              "#7201a8"
             ],
             [
              0.3333333333333333,
              "#9c179e"
             ],
             [
              0.4444444444444444,
              "#bd3786"
             ],
             [
              0.5555555555555556,
              "#d8576b"
             ],
             [
              0.6666666666666666,
              "#ed7953"
             ],
             [
              0.7777777777777778,
              "#fb9f3a"
             ],
             [
              0.8888888888888888,
              "#fdca26"
             ],
             [
              1,
              "#f0f921"
             ]
            ],
            "type": "heatmap"
           }
          ],
          "heatmapgl": [
           {
            "colorbar": {
             "outlinewidth": 0,
             "ticks": ""
            },
            "colorscale": [
             [
              0,
              "#0d0887"
             ],
             [
              0.1111111111111111,
              "#46039f"
             ],
             [
              0.2222222222222222,
              "#7201a8"
             ],
             [
              0.3333333333333333,
              "#9c179e"
             ],
             [
              0.4444444444444444,
              "#bd3786"
             ],
             [
              0.5555555555555556,
              "#d8576b"
             ],
             [
              0.6666666666666666,
              "#ed7953"
             ],
             [
              0.7777777777777778,
              "#fb9f3a"
             ],
             [
              0.8888888888888888,
              "#fdca26"
             ],
             [
              1,
              "#f0f921"
             ]
            ],
            "type": "heatmapgl"
           }
          ],
          "histogram": [
           {
            "marker": {
             "pattern": {
              "fillmode": "overlay",
              "size": 10,
              "solidity": 0.2
             }
            },
            "type": "histogram"
           }
          ],
          "histogram2d": [
           {
            "colorbar": {
             "outlinewidth": 0,
             "ticks": ""
            },
            "colorscale": [
             [
              0,
              "#0d0887"
             ],
             [
              0.1111111111111111,
              "#46039f"
             ],
             [
              0.2222222222222222,
              "#7201a8"
             ],
             [
              0.3333333333333333,
              "#9c179e"
             ],
             [
              0.4444444444444444,
              "#bd3786"
             ],
             [
              0.5555555555555556,
              "#d8576b"
             ],
             [
              0.6666666666666666,
              "#ed7953"
             ],
             [
              0.7777777777777778,
              "#fb9f3a"
             ],
             [
              0.8888888888888888,
              "#fdca26"
             ],
             [
              1,
              "#f0f921"
             ]
            ],
            "type": "histogram2d"
           }
          ],
          "histogram2dcontour": [
           {
            "colorbar": {
             "outlinewidth": 0,
             "ticks": ""
            },
            "colorscale": [
             [
              0,
              "#0d0887"
             ],
             [
              0.1111111111111111,
              "#46039f"
             ],
             [
              0.2222222222222222,
              "#7201a8"
             ],
             [
              0.3333333333333333,
              "#9c179e"
             ],
             [
              0.4444444444444444,
              "#bd3786"
             ],
             [
              0.5555555555555556,
              "#d8576b"
             ],
             [
              0.6666666666666666,
              "#ed7953"
             ],
             [
              0.7777777777777778,
              "#fb9f3a"
             ],
             [
              0.8888888888888888,
              "#fdca26"
             ],
             [
              1,
              "#f0f921"
             ]
            ],
            "type": "histogram2dcontour"
           }
          ],
          "mesh3d": [
           {
            "colorbar": {
             "outlinewidth": 0,
             "ticks": ""
            },
            "type": "mesh3d"
           }
          ],
          "parcoords": [
           {
            "line": {
             "colorbar": {
              "outlinewidth": 0,
              "ticks": ""
             }
            },
            "type": "parcoords"
           }
          ],
          "pie": [
           {
            "automargin": true,
            "type": "pie"
           }
          ],
          "scatter": [
           {
            "marker": {
             "line": {
              "color": "#283442"
             }
            },
            "type": "scatter"
           }
          ],
          "scatter3d": [
           {
            "line": {
             "colorbar": {
              "outlinewidth": 0,
              "ticks": ""
             }
            },
            "marker": {
             "colorbar": {
              "outlinewidth": 0,
              "ticks": ""
             }
            },
            "type": "scatter3d"
           }
          ],
          "scattercarpet": [
           {
            "marker": {
             "colorbar": {
              "outlinewidth": 0,
              "ticks": ""
             }
            },
            "type": "scattercarpet"
           }
          ],
          "scattergeo": [
           {
            "marker": {
             "colorbar": {
              "outlinewidth": 0,
              "ticks": ""
             }
            },
            "type": "scattergeo"
           }
          ],
          "scattergl": [
           {
            "marker": {
             "line": {
              "color": "#283442"
             }
            },
            "type": "scattergl"
           }
          ],
          "scattermapbox": [
           {
            "marker": {
             "colorbar": {
              "outlinewidth": 0,
              "ticks": ""
             }
            },
            "type": "scattermapbox"
           }
          ],
          "scatterpolar": [
           {
            "marker": {
             "colorbar": {
              "outlinewidth": 0,
              "ticks": ""
             }
            },
            "type": "scatterpolar"
           }
          ],
          "scatterpolargl": [
           {
            "marker": {
             "colorbar": {
              "outlinewidth": 0,
              "ticks": ""
             }
            },
            "type": "scatterpolargl"
           }
          ],
          "scatterternary": [
           {
            "marker": {
             "colorbar": {
              "outlinewidth": 0,
              "ticks": ""
             }
            },
            "type": "scatterternary"
           }
          ],
          "surface": [
           {
            "colorbar": {
             "outlinewidth": 0,
             "ticks": ""
            },
            "colorscale": [
             [
              0,
              "#0d0887"
             ],
             [
              0.1111111111111111,
              "#46039f"
             ],
             [
              0.2222222222222222,
              "#7201a8"
             ],
             [
              0.3333333333333333,
              "#9c179e"
             ],
             [
              0.4444444444444444,
              "#bd3786"
             ],
             [
              0.5555555555555556,
              "#d8576b"
             ],
             [
              0.6666666666666666,
              "#ed7953"
             ],
             [
              0.7777777777777778,
              "#fb9f3a"
             ],
             [
              0.8888888888888888,
              "#fdca26"
             ],
             [
              1,
              "#f0f921"
             ]
            ],
            "type": "surface"
           }
          ],
          "table": [
           {
            "cells": {
             "fill": {
              "color": "#506784"
             },
             "line": {
              "color": "rgb(17,17,17)"
             }
            },
            "header": {
             "fill": {
              "color": "#2a3f5f"
             },
             "line": {
              "color": "rgb(17,17,17)"
             }
            },
            "type": "table"
           }
          ]
         },
         "layout": {
          "annotationdefaults": {
           "arrowcolor": "#f2f5fa",
           "arrowhead": 0,
           "arrowwidth": 1
          },
          "autotypenumbers": "strict",
          "coloraxis": {
           "colorbar": {
            "outlinewidth": 0,
            "ticks": ""
           }
          },
          "colorscale": {
           "diverging": [
            [
             0,
             "#8e0152"
            ],
            [
             0.1,
             "#c51b7d"
            ],
            [
             0.2,
             "#de77ae"
            ],
            [
             0.3,
             "#f1b6da"
            ],
            [
             0.4,
             "#fde0ef"
            ],
            [
             0.5,
             "#f7f7f7"
            ],
            [
             0.6,
             "#e6f5d0"
            ],
            [
             0.7,
             "#b8e186"
            ],
            [
             0.8,
             "#7fbc41"
            ],
            [
             0.9,
             "#4d9221"
            ],
            [
             1,
             "#276419"
            ]
           ],
           "sequential": [
            [
             0,
             "#0d0887"
            ],
            [
             0.1111111111111111,
             "#46039f"
            ],
            [
             0.2222222222222222,
             "#7201a8"
            ],
            [
             0.3333333333333333,
             "#9c179e"
            ],
            [
             0.4444444444444444,
             "#bd3786"
            ],
            [
             0.5555555555555556,
             "#d8576b"
            ],
            [
             0.6666666666666666,
             "#ed7953"
            ],
            [
             0.7777777777777778,
             "#fb9f3a"
            ],
            [
             0.8888888888888888,
             "#fdca26"
            ],
            [
             1,
             "#f0f921"
            ]
           ],
           "sequentialminus": [
            [
             0,
             "#0d0887"
            ],
            [
             0.1111111111111111,
             "#46039f"
            ],
            [
             0.2222222222222222,
             "#7201a8"
            ],
            [
             0.3333333333333333,
             "#9c179e"
            ],
            [
             0.4444444444444444,
             "#bd3786"
            ],
            [
             0.5555555555555556,
             "#d8576b"
            ],
            [
             0.6666666666666666,
             "#ed7953"
            ],
            [
             0.7777777777777778,
             "#fb9f3a"
            ],
            [
             0.8888888888888888,
             "#fdca26"
            ],
            [
             1,
             "#f0f921"
            ]
           ]
          },
          "colorway": [
           "#636efa",
           "#EF553B",
           "#00cc96",
           "#ab63fa",
           "#FFA15A",
           "#19d3f3",
           "#FF6692",
           "#B6E880",
           "#FF97FF",
           "#FECB52"
          ],
          "font": {
           "color": "#f2f5fa"
          },
          "geo": {
           "bgcolor": "rgb(17,17,17)",
           "lakecolor": "rgb(17,17,17)",
           "landcolor": "rgb(17,17,17)",
           "showlakes": true,
           "showland": true,
           "subunitcolor": "#506784"
          },
          "hoverlabel": {
           "align": "left"
          },
          "hovermode": "closest",
          "mapbox": {
           "style": "dark"
          },
          "paper_bgcolor": "rgb(17,17,17)",
          "plot_bgcolor": "rgb(17,17,17)",
          "polar": {
           "angularaxis": {
            "gridcolor": "#506784",
            "linecolor": "#506784",
            "ticks": ""
           },
           "bgcolor": "rgb(17,17,17)",
           "radialaxis": {
            "gridcolor": "#506784",
            "linecolor": "#506784",
            "ticks": ""
           }
          },
          "scene": {
           "xaxis": {
            "backgroundcolor": "rgb(17,17,17)",
            "gridcolor": "#506784",
            "gridwidth": 2,
            "linecolor": "#506784",
            "showbackground": true,
            "ticks": "",
            "zerolinecolor": "#C8D4E3"
           },
           "yaxis": {
            "backgroundcolor": "rgb(17,17,17)",
            "gridcolor": "#506784",
            "gridwidth": 2,
            "linecolor": "#506784",
            "showbackground": true,
            "ticks": "",
            "zerolinecolor": "#C8D4E3"
           },
           "zaxis": {
            "backgroundcolor": "rgb(17,17,17)",
            "gridcolor": "#506784",
            "gridwidth": 2,
            "linecolor": "#506784",
            "showbackground": true,
            "ticks": "",
            "zerolinecolor": "#C8D4E3"
           }
          },
          "shapedefaults": {
           "line": {
            "color": "#f2f5fa"
           }
          },
          "sliderdefaults": {
           "bgcolor": "#C8D4E3",
           "bordercolor": "rgb(17,17,17)",
           "borderwidth": 1,
           "tickwidth": 0
          },
          "ternary": {
           "aaxis": {
            "gridcolor": "#506784",
            "linecolor": "#506784",
            "ticks": ""
           },
           "baxis": {
            "gridcolor": "#506784",
            "linecolor": "#506784",
            "ticks": ""
           },
           "bgcolor": "rgb(17,17,17)",
           "caxis": {
            "gridcolor": "#506784",
            "linecolor": "#506784",
            "ticks": ""
           }
          },
          "title": {
           "x": 0.05
          },
          "updatemenudefaults": {
           "bgcolor": "#506784",
           "borderwidth": 0
          },
          "xaxis": {
           "automargin": true,
           "gridcolor": "#283442",
           "linecolor": "#506784",
           "ticks": "",
           "title": {
            "standoff": 15
           },
           "zerolinecolor": "#283442",
           "zerolinewidth": 2
          },
          "yaxis": {
           "automargin": true,
           "gridcolor": "#283442",
           "linecolor": "#506784",
           "ticks": "",
           "title": {
            "standoff": 15
           },
           "zerolinecolor": "#283442",
           "zerolinewidth": 2
          }
         }
        },
        "title": {
         "text": "Dividend Rate"
        },
        "xaxis": {
         "anchor": "y",
         "domain": [
          0,
          1
         ],
         "title": {
          "text": "Companies"
         }
        },
        "yaxis": {
         "anchor": "x",
         "domain": [
          0,
          1
         ],
         "title": {
          "text": "Dividend Rate"
         }
        }
       }
      }
     },
     "metadata": {},
     "output_type": "display_data"
    }
   ],
   "source": [
    "df_top_companies.sort_values(by = 'dividend_rate', ascending=True, inplace=True)\n",
    "\n",
    "fig_op_margin = px.bar(df_top_companies, title='Dividend Rate', x='long_name', y='dividend_rate', color_discrete_sequence=['rgb(100, 195, 181)'], hover_name=df_top_companies.ticker, height=600)\n",
    "fig_op_margin.update_traces(text=[f'{x:.2f}x' for x in (df_top_companies['dividend_rate'])], textposition='outside',textfont=dict(color='white'))\n",
    "fig_op_margin.update_layout(xaxis_title='Companies', yaxis_title='Dividend Rate', template = 'plotly_dark')\n",
    "fig_op_margin.show()"
   ]
  },
  {
   "cell_type": "markdown",
   "metadata": {},
   "source": []
  },
  {
   "cell_type": "code",
   "execution_count": 37,
   "metadata": {},
   "outputs": [
    {
     "data": {
      "application/vnd.plotly.v1+json": {
       "config": {
        "plotlyServerURL": "https://plot.ly"
       },
       "data": [
        {
         "alignmentgroup": "True",
         "hovertemplate": "<b>%{hovertext}</b><br><br>long_name=%{x}<br>dividend_payout_ratio=%{y}<extra></extra>",
         "hovertext": [
          "BBDC4.SA",
          "BPAC5.SA",
          "ABEV3.SA",
          "VALE3.SA",
          "PETR3.SA",
          "WEGE3.SA",
          "ITUB4.SA",
          "ITSA4.SA",
          "VIVT3.SA",
          "ELET3.SA",
          "BBAS3.SA"
         ],
         "legendgroup": "",
         "marker": {
          "color": "rgb(100, 195, 181)",
          "pattern": {
           "shape": ""
          }
         },
         "name": "",
         "offsetgroup": "",
         "orientation": "v",
         "showlegend": false,
         "text": [
          "0.00%",
          "0.00%",
          "0.00%",
          "0.00%",
          "0.00%",
          "13.43%",
          "27.79%",
          "30.65%",
          "40.30%",
          "72.52%",
          "517.24%"
         ],
         "textfont": {
          "color": "white"
         },
         "textposition": "outside",
         "type": "bar",
         "x": [
          "Banco Bradesco S.A.",
          "Banco BTG Pactual S.A.",
          "Ambev S.A.",
          "Vale S.A.",
          "Petróleo Brasileiro S.A. - Petrobras",
          "WEG S.A.",
          "Itaú Unibanco Holding S.A.",
          "Itaúsa S.A.",
          "Telefônica Brasil S.A.",
          "Centrais Elétricas Brasileiras S.A. - Eletrobrás",
          "Banco do Brasil S.A."
         ],
         "xaxis": "x",
         "y": [
          0,
          0,
          0,
          0,
          0,
          134.2685370741483,
          277.90055248618785,
          306.54761904761904,
          402.9661016949152,
          725.242718446602,
          5172.413793103448
         ],
         "yaxis": "y"
        }
       ],
       "layout": {
        "barmode": "relative",
        "height": 600,
        "legend": {
         "tracegroupgap": 0
        },
        "template": {
         "data": {
          "bar": [
           {
            "error_x": {
             "color": "#f2f5fa"
            },
            "error_y": {
             "color": "#f2f5fa"
            },
            "marker": {
             "line": {
              "color": "rgb(17,17,17)",
              "width": 0.5
             },
             "pattern": {
              "fillmode": "overlay",
              "size": 10,
              "solidity": 0.2
             }
            },
            "type": "bar"
           }
          ],
          "barpolar": [
           {
            "marker": {
             "line": {
              "color": "rgb(17,17,17)",
              "width": 0.5
             },
             "pattern": {
              "fillmode": "overlay",
              "size": 10,
              "solidity": 0.2
             }
            },
            "type": "barpolar"
           }
          ],
          "carpet": [
           {
            "aaxis": {
             "endlinecolor": "#A2B1C6",
             "gridcolor": "#506784",
             "linecolor": "#506784",
             "minorgridcolor": "#506784",
             "startlinecolor": "#A2B1C6"
            },
            "baxis": {
             "endlinecolor": "#A2B1C6",
             "gridcolor": "#506784",
             "linecolor": "#506784",
             "minorgridcolor": "#506784",
             "startlinecolor": "#A2B1C6"
            },
            "type": "carpet"
           }
          ],
          "choropleth": [
           {
            "colorbar": {
             "outlinewidth": 0,
             "ticks": ""
            },
            "type": "choropleth"
           }
          ],
          "contour": [
           {
            "colorbar": {
             "outlinewidth": 0,
             "ticks": ""
            },
            "colorscale": [
             [
              0,
              "#0d0887"
             ],
             [
              0.1111111111111111,
              "#46039f"
             ],
             [
              0.2222222222222222,
              "#7201a8"
             ],
             [
              0.3333333333333333,
              "#9c179e"
             ],
             [
              0.4444444444444444,
              "#bd3786"
             ],
             [
              0.5555555555555556,
              "#d8576b"
             ],
             [
              0.6666666666666666,
              "#ed7953"
             ],
             [
              0.7777777777777778,
              "#fb9f3a"
             ],
             [
              0.8888888888888888,
              "#fdca26"
             ],
             [
              1,
              "#f0f921"
             ]
            ],
            "type": "contour"
           }
          ],
          "contourcarpet": [
           {
            "colorbar": {
             "outlinewidth": 0,
             "ticks": ""
            },
            "type": "contourcarpet"
           }
          ],
          "heatmap": [
           {
            "colorbar": {
             "outlinewidth": 0,
             "ticks": ""
            },
            "colorscale": [
             [
              0,
              "#0d0887"
             ],
             [
              0.1111111111111111,
              "#46039f"
             ],
             [
              0.2222222222222222,
              "#7201a8"
             ],
             [
              0.3333333333333333,
              "#9c179e"
             ],
             [
              0.4444444444444444,
              "#bd3786"
             ],
             [
              0.5555555555555556,
              "#d8576b"
             ],
             [
              0.6666666666666666,
              "#ed7953"
             ],
             [
              0.7777777777777778,
              "#fb9f3a"
             ],
             [
              0.8888888888888888,
              "#fdca26"
             ],
             [
              1,
              "#f0f921"
             ]
            ],
            "type": "heatmap"
           }
          ],
          "heatmapgl": [
           {
            "colorbar": {
             "outlinewidth": 0,
             "ticks": ""
            },
            "colorscale": [
             [
              0,
              "#0d0887"
             ],
             [
              0.1111111111111111,
              "#46039f"
             ],
             [
              0.2222222222222222,
              "#7201a8"
             ],
             [
              0.3333333333333333,
              "#9c179e"
             ],
             [
              0.4444444444444444,
              "#bd3786"
             ],
             [
              0.5555555555555556,
              "#d8576b"
             ],
             [
              0.6666666666666666,
              "#ed7953"
             ],
             [
              0.7777777777777778,
              "#fb9f3a"
             ],
             [
              0.8888888888888888,
              "#fdca26"
             ],
             [
              1,
              "#f0f921"
             ]
            ],
            "type": "heatmapgl"
           }
          ],
          "histogram": [
           {
            "marker": {
             "pattern": {
              "fillmode": "overlay",
              "size": 10,
              "solidity": 0.2
             }
            },
            "type": "histogram"
           }
          ],
          "histogram2d": [
           {
            "colorbar": {
             "outlinewidth": 0,
             "ticks": ""
            },
            "colorscale": [
             [
              0,
              "#0d0887"
             ],
             [
              0.1111111111111111,
              "#46039f"
             ],
             [
              0.2222222222222222,
              "#7201a8"
             ],
             [
              0.3333333333333333,
              "#9c179e"
             ],
             [
              0.4444444444444444,
              "#bd3786"
             ],
             [
              0.5555555555555556,
              "#d8576b"
             ],
             [
              0.6666666666666666,
              "#ed7953"
             ],
             [
              0.7777777777777778,
              "#fb9f3a"
             ],
             [
              0.8888888888888888,
              "#fdca26"
             ],
             [
              1,
              "#f0f921"
             ]
            ],
            "type": "histogram2d"
           }
          ],
          "histogram2dcontour": [
           {
            "colorbar": {
             "outlinewidth": 0,
             "ticks": ""
            },
            "colorscale": [
             [
              0,
              "#0d0887"
             ],
             [
              0.1111111111111111,
              "#46039f"
             ],
             [
              0.2222222222222222,
              "#7201a8"
             ],
             [
              0.3333333333333333,
              "#9c179e"
             ],
             [
              0.4444444444444444,
              "#bd3786"
             ],
             [
              0.5555555555555556,
              "#d8576b"
             ],
             [
              0.6666666666666666,
              "#ed7953"
             ],
             [
              0.7777777777777778,
              "#fb9f3a"
             ],
             [
              0.8888888888888888,
              "#fdca26"
             ],
             [
              1,
              "#f0f921"
             ]
            ],
            "type": "histogram2dcontour"
           }
          ],
          "mesh3d": [
           {
            "colorbar": {
             "outlinewidth": 0,
             "ticks": ""
            },
            "type": "mesh3d"
           }
          ],
          "parcoords": [
           {
            "line": {
             "colorbar": {
              "outlinewidth": 0,
              "ticks": ""
             }
            },
            "type": "parcoords"
           }
          ],
          "pie": [
           {
            "automargin": true,
            "type": "pie"
           }
          ],
          "scatter": [
           {
            "marker": {
             "line": {
              "color": "#283442"
             }
            },
            "type": "scatter"
           }
          ],
          "scatter3d": [
           {
            "line": {
             "colorbar": {
              "outlinewidth": 0,
              "ticks": ""
             }
            },
            "marker": {
             "colorbar": {
              "outlinewidth": 0,
              "ticks": ""
             }
            },
            "type": "scatter3d"
           }
          ],
          "scattercarpet": [
           {
            "marker": {
             "colorbar": {
              "outlinewidth": 0,
              "ticks": ""
             }
            },
            "type": "scattercarpet"
           }
          ],
          "scattergeo": [
           {
            "marker": {
             "colorbar": {
              "outlinewidth": 0,
              "ticks": ""
             }
            },
            "type": "scattergeo"
           }
          ],
          "scattergl": [
           {
            "marker": {
             "line": {
              "color": "#283442"
             }
            },
            "type": "scattergl"
           }
          ],
          "scattermapbox": [
           {
            "marker": {
             "colorbar": {
              "outlinewidth": 0,
              "ticks": ""
             }
            },
            "type": "scattermapbox"
           }
          ],
          "scatterpolar": [
           {
            "marker": {
             "colorbar": {
              "outlinewidth": 0,
              "ticks": ""
             }
            },
            "type": "scatterpolar"
           }
          ],
          "scatterpolargl": [
           {
            "marker": {
             "colorbar": {
              "outlinewidth": 0,
              "ticks": ""
             }
            },
            "type": "scatterpolargl"
           }
          ],
          "scatterternary": [
           {
            "marker": {
             "colorbar": {
              "outlinewidth": 0,
              "ticks": ""
             }
            },
            "type": "scatterternary"
           }
          ],
          "surface": [
           {
            "colorbar": {
             "outlinewidth": 0,
             "ticks": ""
            },
            "colorscale": [
             [
              0,
              "#0d0887"
             ],
             [
              0.1111111111111111,
              "#46039f"
             ],
             [
              0.2222222222222222,
              "#7201a8"
             ],
             [
              0.3333333333333333,
              "#9c179e"
             ],
             [
              0.4444444444444444,
              "#bd3786"
             ],
             [
              0.5555555555555556,
              "#d8576b"
             ],
             [
              0.6666666666666666,
              "#ed7953"
             ],
             [
              0.7777777777777778,
              "#fb9f3a"
             ],
             [
              0.8888888888888888,
              "#fdca26"
             ],
             [
              1,
              "#f0f921"
             ]
            ],
            "type": "surface"
           }
          ],
          "table": [
           {
            "cells": {
             "fill": {
              "color": "#506784"
             },
             "line": {
              "color": "rgb(17,17,17)"
             }
            },
            "header": {
             "fill": {
              "color": "#2a3f5f"
             },
             "line": {
              "color": "rgb(17,17,17)"
             }
            },
            "type": "table"
           }
          ]
         },
         "layout": {
          "annotationdefaults": {
           "arrowcolor": "#f2f5fa",
           "arrowhead": 0,
           "arrowwidth": 1
          },
          "autotypenumbers": "strict",
          "coloraxis": {
           "colorbar": {
            "outlinewidth": 0,
            "ticks": ""
           }
          },
          "colorscale": {
           "diverging": [
            [
             0,
             "#8e0152"
            ],
            [
             0.1,
             "#c51b7d"
            ],
            [
             0.2,
             "#de77ae"
            ],
            [
             0.3,
             "#f1b6da"
            ],
            [
             0.4,
             "#fde0ef"
            ],
            [
             0.5,
             "#f7f7f7"
            ],
            [
             0.6,
             "#e6f5d0"
            ],
            [
             0.7,
             "#b8e186"
            ],
            [
             0.8,
             "#7fbc41"
            ],
            [
             0.9,
             "#4d9221"
            ],
            [
             1,
             "#276419"
            ]
           ],
           "sequential": [
            [
             0,
             "#0d0887"
            ],
            [
             0.1111111111111111,
             "#46039f"
            ],
            [
             0.2222222222222222,
             "#7201a8"
            ],
            [
             0.3333333333333333,
             "#9c179e"
            ],
            [
             0.4444444444444444,
             "#bd3786"
            ],
            [
             0.5555555555555556,
             "#d8576b"
            ],
            [
             0.6666666666666666,
             "#ed7953"
            ],
            [
             0.7777777777777778,
             "#fb9f3a"
            ],
            [
             0.8888888888888888,
             "#fdca26"
            ],
            [
             1,
             "#f0f921"
            ]
           ],
           "sequentialminus": [
            [
             0,
             "#0d0887"
            ],
            [
             0.1111111111111111,
             "#46039f"
            ],
            [
             0.2222222222222222,
             "#7201a8"
            ],
            [
             0.3333333333333333,
             "#9c179e"
            ],
            [
             0.4444444444444444,
             "#bd3786"
            ],
            [
             0.5555555555555556,
             "#d8576b"
            ],
            [
             0.6666666666666666,
             "#ed7953"
            ],
            [
             0.7777777777777778,
             "#fb9f3a"
            ],
            [
             0.8888888888888888,
             "#fdca26"
            ],
            [
             1,
             "#f0f921"
            ]
           ]
          },
          "colorway": [
           "#636efa",
           "#EF553B",
           "#00cc96",
           "#ab63fa",
           "#FFA15A",
           "#19d3f3",
           "#FF6692",
           "#B6E880",
           "#FF97FF",
           "#FECB52"
          ],
          "font": {
           "color": "#f2f5fa"
          },
          "geo": {
           "bgcolor": "rgb(17,17,17)",
           "lakecolor": "rgb(17,17,17)",
           "landcolor": "rgb(17,17,17)",
           "showlakes": true,
           "showland": true,
           "subunitcolor": "#506784"
          },
          "hoverlabel": {
           "align": "left"
          },
          "hovermode": "closest",
          "mapbox": {
           "style": "dark"
          },
          "paper_bgcolor": "rgb(17,17,17)",
          "plot_bgcolor": "rgb(17,17,17)",
          "polar": {
           "angularaxis": {
            "gridcolor": "#506784",
            "linecolor": "#506784",
            "ticks": ""
           },
           "bgcolor": "rgb(17,17,17)",
           "radialaxis": {
            "gridcolor": "#506784",
            "linecolor": "#506784",
            "ticks": ""
           }
          },
          "scene": {
           "xaxis": {
            "backgroundcolor": "rgb(17,17,17)",
            "gridcolor": "#506784",
            "gridwidth": 2,
            "linecolor": "#506784",
            "showbackground": true,
            "ticks": "",
            "zerolinecolor": "#C8D4E3"
           },
           "yaxis": {
            "backgroundcolor": "rgb(17,17,17)",
            "gridcolor": "#506784",
            "gridwidth": 2,
            "linecolor": "#506784",
            "showbackground": true,
            "ticks": "",
            "zerolinecolor": "#C8D4E3"
           },
           "zaxis": {
            "backgroundcolor": "rgb(17,17,17)",
            "gridcolor": "#506784",
            "gridwidth": 2,
            "linecolor": "#506784",
            "showbackground": true,
            "ticks": "",
            "zerolinecolor": "#C8D4E3"
           }
          },
          "shapedefaults": {
           "line": {
            "color": "#f2f5fa"
           }
          },
          "sliderdefaults": {
           "bgcolor": "#C8D4E3",
           "bordercolor": "rgb(17,17,17)",
           "borderwidth": 1,
           "tickwidth": 0
          },
          "ternary": {
           "aaxis": {
            "gridcolor": "#506784",
            "linecolor": "#506784",
            "ticks": ""
           },
           "baxis": {
            "gridcolor": "#506784",
            "linecolor": "#506784",
            "ticks": ""
           },
           "bgcolor": "rgb(17,17,17)",
           "caxis": {
            "gridcolor": "#506784",
            "linecolor": "#506784",
            "ticks": ""
           }
          },
          "title": {
           "x": 0.05
          },
          "updatemenudefaults": {
           "bgcolor": "#506784",
           "borderwidth": 0
          },
          "xaxis": {
           "automargin": true,
           "gridcolor": "#283442",
           "linecolor": "#506784",
           "ticks": "",
           "title": {
            "standoff": 15
           },
           "zerolinecolor": "#283442",
           "zerolinewidth": 2
          },
          "yaxis": {
           "automargin": true,
           "gridcolor": "#283442",
           "linecolor": "#506784",
           "ticks": "",
           "title": {
            "standoff": 15
           },
           "zerolinecolor": "#283442",
           "zerolinewidth": 2
          }
         }
        },
        "title": {
         "text": "Dividend Payout Ratio"
        },
        "xaxis": {
         "anchor": "y",
         "domain": [
          0,
          1
         ],
         "title": {
          "text": "Companies"
         }
        },
        "yaxis": {
         "anchor": "x",
         "domain": [
          0,
          1
         ],
         "title": {
          "text": "Dividend Rate"
         }
        }
       }
      }
     },
     "metadata": {},
     "output_type": "display_data"
    }
   ],
   "source": [
    "df_top_companies.sort_values(by = 'dividend_payout_ratio', ascending=True, inplace=True)\n",
    "\n",
    "fig_op_margin = px.bar(df_top_companies, title='Dividend Payout Ratio', x='long_name', y='dividend_payout_ratio', color_discrete_sequence=['rgb(100, 195, 181)'], hover_name=df_top_companies.ticker, height=600)\n",
    "fig_op_margin.update_traces(text=[f'{x:.2f}%' for x in (df_top_companies['dividend_payout_ratio']/10)], textposition='outside',textfont=dict(color='white'))\n",
    "fig_op_margin.update_layout(xaxis_title='Companies', yaxis_title='Dividend Rate', template = 'plotly_dark')\n",
    "fig_op_margin.show()"
   ]
  },
  {
   "cell_type": "markdown",
   "metadata": {},
   "source": []
  },
  {
   "cell_type": "markdown",
   "metadata": {},
   "source": [
    "### Análise de Tendências de Mercado:"
   ]
  },
  {
   "cell_type": "code",
   "execution_count": 42,
   "metadata": {},
   "outputs": [
    {
     "data": {
      "application/vnd.plotly.v1+json": {
       "config": {
        "plotlyServerURL": "https://plot.ly"
       },
       "data": [
        {
         "alignmentgroup": "True",
         "hovertemplate": "<b>%{hovertext}</b><br><br>long_name=%{x}<br>beta=%{y}<extra></extra>",
         "hovertext": [
          "VIVT3.SA",
          "ITUB4.SA",
          "WEGE3.SA",
          "ABEV3.SA",
          "ELET3.SA",
          "ITSA4.SA",
          "BBDC4.SA",
          "BBAS3.SA",
          "VALE3.SA",
          "PETR3.SA",
          "BPAC5.SA"
         ],
         "legendgroup": "",
         "marker": {
          "color": "rgb(100, 195, 181)",
          "pattern": {
           "shape": ""
          }
         },
         "name": "",
         "offsetgroup": "",
         "orientation": "v",
         "showlegend": false,
         "text": [
          "0.06",
          "0.50",
          "0.51",
          "0.60",
          "0.63",
          "0.65",
          "0.68",
          "0.80",
          "0.82",
          "1.10",
          "1.29"
         ],
         "textfont": {
          "color": "white"
         },
         "textposition": "outside",
         "type": "bar",
         "x": [
          "Telefônica Brasil S.A.",
          "Itaú Unibanco Holding S.A.",
          "WEG S.A.",
          "Ambev S.A.",
          "Centrais Elétricas Brasileiras S.A. - Eletrobrás",
          "Itaúsa S.A.",
          "Banco Bradesco S.A.",
          "Banco do Brasil S.A.",
          "Vale S.A.",
          "Petróleo Brasileiro S.A. - Petrobras",
          "Banco BTG Pactual S.A."
         ],
         "xaxis": "x",
         "y": [
          0.061,
          0.499,
          0.513,
          0.604,
          0.629,
          0.647,
          0.675,
          0.803,
          0.821,
          1.097,
          1.291
         ],
         "yaxis": "y"
        }
       ],
       "layout": {
        "barmode": "relative",
        "height": 600,
        "legend": {
         "tracegroupgap": 0
        },
        "template": {
         "data": {
          "bar": [
           {
            "error_x": {
             "color": "#f2f5fa"
            },
            "error_y": {
             "color": "#f2f5fa"
            },
            "marker": {
             "line": {
              "color": "rgb(17,17,17)",
              "width": 0.5
             },
             "pattern": {
              "fillmode": "overlay",
              "size": 10,
              "solidity": 0.2
             }
            },
            "type": "bar"
           }
          ],
          "barpolar": [
           {
            "marker": {
             "line": {
              "color": "rgb(17,17,17)",
              "width": 0.5
             },
             "pattern": {
              "fillmode": "overlay",
              "size": 10,
              "solidity": 0.2
             }
            },
            "type": "barpolar"
           }
          ],
          "carpet": [
           {
            "aaxis": {
             "endlinecolor": "#A2B1C6",
             "gridcolor": "#506784",
             "linecolor": "#506784",
             "minorgridcolor": "#506784",
             "startlinecolor": "#A2B1C6"
            },
            "baxis": {
             "endlinecolor": "#A2B1C6",
             "gridcolor": "#506784",
             "linecolor": "#506784",
             "minorgridcolor": "#506784",
             "startlinecolor": "#A2B1C6"
            },
            "type": "carpet"
           }
          ],
          "choropleth": [
           {
            "colorbar": {
             "outlinewidth": 0,
             "ticks": ""
            },
            "type": "choropleth"
           }
          ],
          "contour": [
           {
            "colorbar": {
             "outlinewidth": 0,
             "ticks": ""
            },
            "colorscale": [
             [
              0,
              "#0d0887"
             ],
             [
              0.1111111111111111,
              "#46039f"
             ],
             [
              0.2222222222222222,
              "#7201a8"
             ],
             [
              0.3333333333333333,
              "#9c179e"
             ],
             [
              0.4444444444444444,
              "#bd3786"
             ],
             [
              0.5555555555555556,
              "#d8576b"
             ],
             [
              0.6666666666666666,
              "#ed7953"
             ],
             [
              0.7777777777777778,
              "#fb9f3a"
             ],
             [
              0.8888888888888888,
              "#fdca26"
             ],
             [
              1,
              "#f0f921"
             ]
            ],
            "type": "contour"
           }
          ],
          "contourcarpet": [
           {
            "colorbar": {
             "outlinewidth": 0,
             "ticks": ""
            },
            "type": "contourcarpet"
           }
          ],
          "heatmap": [
           {
            "colorbar": {
             "outlinewidth": 0,
             "ticks": ""
            },
            "colorscale": [
             [
              0,
              "#0d0887"
             ],
             [
              0.1111111111111111,
              "#46039f"
             ],
             [
              0.2222222222222222,
              "#7201a8"
             ],
             [
              0.3333333333333333,
              "#9c179e"
             ],
             [
              0.4444444444444444,
              "#bd3786"
             ],
             [
              0.5555555555555556,
              "#d8576b"
             ],
             [
              0.6666666666666666,
              "#ed7953"
             ],
             [
              0.7777777777777778,
              "#fb9f3a"
             ],
             [
              0.8888888888888888,
              "#fdca26"
             ],
             [
              1,
              "#f0f921"
             ]
            ],
            "type": "heatmap"
           }
          ],
          "heatmapgl": [
           {
            "colorbar": {
             "outlinewidth": 0,
             "ticks": ""
            },
            "colorscale": [
             [
              0,
              "#0d0887"
             ],
             [
              0.1111111111111111,
              "#46039f"
             ],
             [
              0.2222222222222222,
              "#7201a8"
             ],
             [
              0.3333333333333333,
              "#9c179e"
             ],
             [
              0.4444444444444444,
              "#bd3786"
             ],
             [
              0.5555555555555556,
              "#d8576b"
             ],
             [
              0.6666666666666666,
              "#ed7953"
             ],
             [
              0.7777777777777778,
              "#fb9f3a"
             ],
             [
              0.8888888888888888,
              "#fdca26"
             ],
             [
              1,
              "#f0f921"
             ]
            ],
            "type": "heatmapgl"
           }
          ],
          "histogram": [
           {
            "marker": {
             "pattern": {
              "fillmode": "overlay",
              "size": 10,
              "solidity": 0.2
             }
            },
            "type": "histogram"
           }
          ],
          "histogram2d": [
           {
            "colorbar": {
             "outlinewidth": 0,
             "ticks": ""
            },
            "colorscale": [
             [
              0,
              "#0d0887"
             ],
             [
              0.1111111111111111,
              "#46039f"
             ],
             [
              0.2222222222222222,
              "#7201a8"
             ],
             [
              0.3333333333333333,
              "#9c179e"
             ],
             [
              0.4444444444444444,
              "#bd3786"
             ],
             [
              0.5555555555555556,
              "#d8576b"
             ],
             [
              0.6666666666666666,
              "#ed7953"
             ],
             [
              0.7777777777777778,
              "#fb9f3a"
             ],
             [
              0.8888888888888888,
              "#fdca26"
             ],
             [
              1,
              "#f0f921"
             ]
            ],
            "type": "histogram2d"
           }
          ],
          "histogram2dcontour": [
           {
            "colorbar": {
             "outlinewidth": 0,
             "ticks": ""
            },
            "colorscale": [
             [
              0,
              "#0d0887"
             ],
             [
              0.1111111111111111,
              "#46039f"
             ],
             [
              0.2222222222222222,
              "#7201a8"
             ],
             [
              0.3333333333333333,
              "#9c179e"
             ],
             [
              0.4444444444444444,
              "#bd3786"
             ],
             [
              0.5555555555555556,
              "#d8576b"
             ],
             [
              0.6666666666666666,
              "#ed7953"
             ],
             [
              0.7777777777777778,
              "#fb9f3a"
             ],
             [
              0.8888888888888888,
              "#fdca26"
             ],
             [
              1,
              "#f0f921"
             ]
            ],
            "type": "histogram2dcontour"
           }
          ],
          "mesh3d": [
           {
            "colorbar": {
             "outlinewidth": 0,
             "ticks": ""
            },
            "type": "mesh3d"
           }
          ],
          "parcoords": [
           {
            "line": {
             "colorbar": {
              "outlinewidth": 0,
              "ticks": ""
             }
            },
            "type": "parcoords"
           }
          ],
          "pie": [
           {
            "automargin": true,
            "type": "pie"
           }
          ],
          "scatter": [
           {
            "marker": {
             "line": {
              "color": "#283442"
             }
            },
            "type": "scatter"
           }
          ],
          "scatter3d": [
           {
            "line": {
             "colorbar": {
              "outlinewidth": 0,
              "ticks": ""
             }
            },
            "marker": {
             "colorbar": {
              "outlinewidth": 0,
              "ticks": ""
             }
            },
            "type": "scatter3d"
           }
          ],
          "scattercarpet": [
           {
            "marker": {
             "colorbar": {
              "outlinewidth": 0,
              "ticks": ""
             }
            },
            "type": "scattercarpet"
           }
          ],
          "scattergeo": [
           {
            "marker": {
             "colorbar": {
              "outlinewidth": 0,
              "ticks": ""
             }
            },
            "type": "scattergeo"
           }
          ],
          "scattergl": [
           {
            "marker": {
             "line": {
              "color": "#283442"
             }
            },
            "type": "scattergl"
           }
          ],
          "scattermapbox": [
           {
            "marker": {
             "colorbar": {
              "outlinewidth": 0,
              "ticks": ""
             }
            },
            "type": "scattermapbox"
           }
          ],
          "scatterpolar": [
           {
            "marker": {
             "colorbar": {
              "outlinewidth": 0,
              "ticks": ""
             }
            },
            "type": "scatterpolar"
           }
          ],
          "scatterpolargl": [
           {
            "marker": {
             "colorbar": {
              "outlinewidth": 0,
              "ticks": ""
             }
            },
            "type": "scatterpolargl"
           }
          ],
          "scatterternary": [
           {
            "marker": {
             "colorbar": {
              "outlinewidth": 0,
              "ticks": ""
             }
            },
            "type": "scatterternary"
           }
          ],
          "surface": [
           {
            "colorbar": {
             "outlinewidth": 0,
             "ticks": ""
            },
            "colorscale": [
             [
              0,
              "#0d0887"
             ],
             [
              0.1111111111111111,
              "#46039f"
             ],
             [
              0.2222222222222222,
              "#7201a8"
             ],
             [
              0.3333333333333333,
              "#9c179e"
             ],
             [
              0.4444444444444444,
              "#bd3786"
             ],
             [
              0.5555555555555556,
              "#d8576b"
             ],
             [
              0.6666666666666666,
              "#ed7953"
             ],
             [
              0.7777777777777778,
              "#fb9f3a"
             ],
             [
              0.8888888888888888,
              "#fdca26"
             ],
             [
              1,
              "#f0f921"
             ]
            ],
            "type": "surface"
           }
          ],
          "table": [
           {
            "cells": {
             "fill": {
              "color": "#506784"
             },
             "line": {
              "color": "rgb(17,17,17)"
             }
            },
            "header": {
             "fill": {
              "color": "#2a3f5f"
             },
             "line": {
              "color": "rgb(17,17,17)"
             }
            },
            "type": "table"
           }
          ]
         },
         "layout": {
          "annotationdefaults": {
           "arrowcolor": "#f2f5fa",
           "arrowhead": 0,
           "arrowwidth": 1
          },
          "autotypenumbers": "strict",
          "coloraxis": {
           "colorbar": {
            "outlinewidth": 0,
            "ticks": ""
           }
          },
          "colorscale": {
           "diverging": [
            [
             0,
             "#8e0152"
            ],
            [
             0.1,
             "#c51b7d"
            ],
            [
             0.2,
             "#de77ae"
            ],
            [
             0.3,
             "#f1b6da"
            ],
            [
             0.4,
             "#fde0ef"
            ],
            [
             0.5,
             "#f7f7f7"
            ],
            [
             0.6,
             "#e6f5d0"
            ],
            [
             0.7,
             "#b8e186"
            ],
            [
             0.8,
             "#7fbc41"
            ],
            [
             0.9,
             "#4d9221"
            ],
            [
             1,
             "#276419"
            ]
           ],
           "sequential": [
            [
             0,
             "#0d0887"
            ],
            [
             0.1111111111111111,
             "#46039f"
            ],
            [
             0.2222222222222222,
             "#7201a8"
            ],
            [
             0.3333333333333333,
             "#9c179e"
            ],
            [
             0.4444444444444444,
             "#bd3786"
            ],
            [
             0.5555555555555556,
             "#d8576b"
            ],
            [
             0.6666666666666666,
             "#ed7953"
            ],
            [
             0.7777777777777778,
             "#fb9f3a"
            ],
            [
             0.8888888888888888,
             "#fdca26"
            ],
            [
             1,
             "#f0f921"
            ]
           ],
           "sequentialminus": [
            [
             0,
             "#0d0887"
            ],
            [
             0.1111111111111111,
             "#46039f"
            ],
            [
             0.2222222222222222,
             "#7201a8"
            ],
            [
             0.3333333333333333,
             "#9c179e"
            ],
            [
             0.4444444444444444,
             "#bd3786"
            ],
            [
             0.5555555555555556,
             "#d8576b"
            ],
            [
             0.6666666666666666,
             "#ed7953"
            ],
            [
             0.7777777777777778,
             "#fb9f3a"
            ],
            [
             0.8888888888888888,
             "#fdca26"
            ],
            [
             1,
             "#f0f921"
            ]
           ]
          },
          "colorway": [
           "#636efa",
           "#EF553B",
           "#00cc96",
           "#ab63fa",
           "#FFA15A",
           "#19d3f3",
           "#FF6692",
           "#B6E880",
           "#FF97FF",
           "#FECB52"
          ],
          "font": {
           "color": "#f2f5fa"
          },
          "geo": {
           "bgcolor": "rgb(17,17,17)",
           "lakecolor": "rgb(17,17,17)",
           "landcolor": "rgb(17,17,17)",
           "showlakes": true,
           "showland": true,
           "subunitcolor": "#506784"
          },
          "hoverlabel": {
           "align": "left"
          },
          "hovermode": "closest",
          "mapbox": {
           "style": "dark"
          },
          "paper_bgcolor": "rgb(17,17,17)",
          "plot_bgcolor": "rgb(17,17,17)",
          "polar": {
           "angularaxis": {
            "gridcolor": "#506784",
            "linecolor": "#506784",
            "ticks": ""
           },
           "bgcolor": "rgb(17,17,17)",
           "radialaxis": {
            "gridcolor": "#506784",
            "linecolor": "#506784",
            "ticks": ""
           }
          },
          "scene": {
           "xaxis": {
            "backgroundcolor": "rgb(17,17,17)",
            "gridcolor": "#506784",
            "gridwidth": 2,
            "linecolor": "#506784",
            "showbackground": true,
            "ticks": "",
            "zerolinecolor": "#C8D4E3"
           },
           "yaxis": {
            "backgroundcolor": "rgb(17,17,17)",
            "gridcolor": "#506784",
            "gridwidth": 2,
            "linecolor": "#506784",
            "showbackground": true,
            "ticks": "",
            "zerolinecolor": "#C8D4E3"
           },
           "zaxis": {
            "backgroundcolor": "rgb(17,17,17)",
            "gridcolor": "#506784",
            "gridwidth": 2,
            "linecolor": "#506784",
            "showbackground": true,
            "ticks": "",
            "zerolinecolor": "#C8D4E3"
           }
          },
          "shapedefaults": {
           "line": {
            "color": "#f2f5fa"
           }
          },
          "sliderdefaults": {
           "bgcolor": "#C8D4E3",
           "bordercolor": "rgb(17,17,17)",
           "borderwidth": 1,
           "tickwidth": 0
          },
          "ternary": {
           "aaxis": {
            "gridcolor": "#506784",
            "linecolor": "#506784",
            "ticks": ""
           },
           "baxis": {
            "gridcolor": "#506784",
            "linecolor": "#506784",
            "ticks": ""
           },
           "bgcolor": "rgb(17,17,17)",
           "caxis": {
            "gridcolor": "#506784",
            "linecolor": "#506784",
            "ticks": ""
           }
          },
          "title": {
           "x": 0.05
          },
          "updatemenudefaults": {
           "bgcolor": "#506784",
           "borderwidth": 0
          },
          "xaxis": {
           "automargin": true,
           "gridcolor": "#283442",
           "linecolor": "#506784",
           "ticks": "",
           "title": {
            "standoff": 15
           },
           "zerolinecolor": "#283442",
           "zerolinewidth": 2
          },
          "yaxis": {
           "automargin": true,
           "gridcolor": "#283442",
           "linecolor": "#506784",
           "ticks": "",
           "title": {
            "standoff": 15
           },
           "zerolinecolor": "#283442",
           "zerolinewidth": 2
          }
         }
        },
        "title": {
         "text": "beta"
        },
        "xaxis": {
         "anchor": "y",
         "domain": [
          0,
          1
         ],
         "title": {
          "text": "Companies"
         }
        },
        "yaxis": {
         "anchor": "x",
         "domain": [
          0,
          1
         ],
         "title": {
          "text": "Beta"
         }
        }
       }
      }
     },
     "metadata": {},
     "output_type": "display_data"
    }
   ],
   "source": [
    "df_top_companies.sort_values(by = 'beta', ascending=True, inplace=True)\n",
    "\n",
    "fig_op_margin = px.bar(df_top_companies, title='beta', x='long_name', y='beta', color_discrete_sequence=['rgb(100, 195, 181)'], hover_name=df_top_companies.ticker, height=600)\n",
    "fig_op_margin.update_traces(text=[f'{x:.2f}' for x in (df_top_companies['beta'])], textposition='outside',textfont=dict(color='white'))\n",
    "fig_op_margin.update_layout(xaxis_title='Companies', yaxis_title='Beta', template = 'plotly_dark')\n",
    "fig_op_margin.show()"
   ]
  },
  {
   "cell_type": "markdown",
   "metadata": {},
   "source": []
  },
  {
   "cell_type": "code",
   "execution_count": 52,
   "metadata": {},
   "outputs": [
    {
     "data": {
      "application/vnd.plotly.v1+json": {
       "config": {
        "plotlyServerURL": "https://plot.ly"
       },
       "data": [
        {
         "alignmentgroup": "True",
         "hovertemplate": "<b>%{hovertext}</b><br><br>long_name=%{x}<br>average_volume=%{y}<extra></extra>",
         "hovertext": [
          "BPAC5.SA",
          "VIVT3.SA",
          "WEGE3.SA",
          "BBAS3.SA",
          "ELET3.SA",
          "PETR3.SA",
          "ITSA4.SA",
          "ITUB4.SA",
          "ABEV3.SA",
          "VALE3.SA",
          "BBDC4.SA"
         ],
         "legendgroup": "",
         "marker": {
          "color": "rgb(100, 195, 181)",
          "pattern": {
           "shape": ""
          }
         },
         "name": "",
         "offsetgroup": "",
         "orientation": "v",
         "showlegend": false,
         "text": [
          "0.01M",
          "2.25M",
          "7.06M",
          "8.74M",
          "8.88M",
          "13.23M",
          "22.11M",
          "24.53M",
          "24.68M",
          "25.98M",
          "33.28M"
         ],
         "textfont": {
          "color": "white"
         },
         "textposition": "outside",
         "type": "bar",
         "x": [
          "Banco BTG Pactual S.A.",
          "Telefônica Brasil S.A.",
          "WEG S.A.",
          "Banco do Brasil S.A.",
          "Centrais Elétricas Brasileiras S.A. - Eletrobrás",
          "Petróleo Brasileiro S.A. - Petrobras",
          "Itaúsa S.A.",
          "Itaú Unibanco Holding S.A.",
          "Ambev S.A.",
          "Vale S.A.",
          "Banco Bradesco S.A."
         ],
         "xaxis": "x",
         "y": [
          6184,
          2252017,
          7064393,
          8738341,
          8876606,
          13234123,
          22110422,
          24528203,
          24680549,
          25978987,
          33278303
         ],
         "yaxis": "y"
        }
       ],
       "layout": {
        "barmode": "relative",
        "height": 600,
        "legend": {
         "tracegroupgap": 0
        },
        "template": {
         "data": {
          "bar": [
           {
            "error_x": {
             "color": "#f2f5fa"
            },
            "error_y": {
             "color": "#f2f5fa"
            },
            "marker": {
             "line": {
              "color": "rgb(17,17,17)",
              "width": 0.5
             },
             "pattern": {
              "fillmode": "overlay",
              "size": 10,
              "solidity": 0.2
             }
            },
            "type": "bar"
           }
          ],
          "barpolar": [
           {
            "marker": {
             "line": {
              "color": "rgb(17,17,17)",
              "width": 0.5
             },
             "pattern": {
              "fillmode": "overlay",
              "size": 10,
              "solidity": 0.2
             }
            },
            "type": "barpolar"
           }
          ],
          "carpet": [
           {
            "aaxis": {
             "endlinecolor": "#A2B1C6",
             "gridcolor": "#506784",
             "linecolor": "#506784",
             "minorgridcolor": "#506784",
             "startlinecolor": "#A2B1C6"
            },
            "baxis": {
             "endlinecolor": "#A2B1C6",
             "gridcolor": "#506784",
             "linecolor": "#506784",
             "minorgridcolor": "#506784",
             "startlinecolor": "#A2B1C6"
            },
            "type": "carpet"
           }
          ],
          "choropleth": [
           {
            "colorbar": {
             "outlinewidth": 0,
             "ticks": ""
            },
            "type": "choropleth"
           }
          ],
          "contour": [
           {
            "colorbar": {
             "outlinewidth": 0,
             "ticks": ""
            },
            "colorscale": [
             [
              0,
              "#0d0887"
             ],
             [
              0.1111111111111111,
              "#46039f"
             ],
             [
              0.2222222222222222,
              "#7201a8"
             ],
             [
              0.3333333333333333,
              "#9c179e"
             ],
             [
              0.4444444444444444,
              "#bd3786"
             ],
             [
              0.5555555555555556,
              "#d8576b"
             ],
             [
              0.6666666666666666,
              "#ed7953"
             ],
             [
              0.7777777777777778,
              "#fb9f3a"
             ],
             [
              0.8888888888888888,
              "#fdca26"
             ],
             [
              1,
              "#f0f921"
             ]
            ],
            "type": "contour"
           }
          ],
          "contourcarpet": [
           {
            "colorbar": {
             "outlinewidth": 0,
             "ticks": ""
            },
            "type": "contourcarpet"
           }
          ],
          "heatmap": [
           {
            "colorbar": {
             "outlinewidth": 0,
             "ticks": ""
            },
            "colorscale": [
             [
              0,
              "#0d0887"
             ],
             [
              0.1111111111111111,
              "#46039f"
             ],
             [
              0.2222222222222222,
              "#7201a8"
             ],
             [
              0.3333333333333333,
              "#9c179e"
             ],
             [
              0.4444444444444444,
              "#bd3786"
             ],
             [
              0.5555555555555556,
              "#d8576b"
             ],
             [
              0.6666666666666666,
              "#ed7953"
             ],
             [
              0.7777777777777778,
              "#fb9f3a"
             ],
             [
              0.8888888888888888,
              "#fdca26"
             ],
             [
              1,
              "#f0f921"
             ]
            ],
            "type": "heatmap"
           }
          ],
          "heatmapgl": [
           {
            "colorbar": {
             "outlinewidth": 0,
             "ticks": ""
            },
            "colorscale": [
             [
              0,
              "#0d0887"
             ],
             [
              0.1111111111111111,
              "#46039f"
             ],
             [
              0.2222222222222222,
              "#7201a8"
             ],
             [
              0.3333333333333333,
              "#9c179e"
             ],
             [
              0.4444444444444444,
              "#bd3786"
             ],
             [
              0.5555555555555556,
              "#d8576b"
             ],
             [
              0.6666666666666666,
              "#ed7953"
             ],
             [
              0.7777777777777778,
              "#fb9f3a"
             ],
             [
              0.8888888888888888,
              "#fdca26"
             ],
             [
              1,
              "#f0f921"
             ]
            ],
            "type": "heatmapgl"
           }
          ],
          "histogram": [
           {
            "marker": {
             "pattern": {
              "fillmode": "overlay",
              "size": 10,
              "solidity": 0.2
             }
            },
            "type": "histogram"
           }
          ],
          "histogram2d": [
           {
            "colorbar": {
             "outlinewidth": 0,
             "ticks": ""
            },
            "colorscale": [
             [
              0,
              "#0d0887"
             ],
             [
              0.1111111111111111,
              "#46039f"
             ],
             [
              0.2222222222222222,
              "#7201a8"
             ],
             [
              0.3333333333333333,
              "#9c179e"
             ],
             [
              0.4444444444444444,
              "#bd3786"
             ],
             [
              0.5555555555555556,
              "#d8576b"
             ],
             [
              0.6666666666666666,
              "#ed7953"
             ],
             [
              0.7777777777777778,
              "#fb9f3a"
             ],
             [
              0.8888888888888888,
              "#fdca26"
             ],
             [
              1,
              "#f0f921"
             ]
            ],
            "type": "histogram2d"
           }
          ],
          "histogram2dcontour": [
           {
            "colorbar": {
             "outlinewidth": 0,
             "ticks": ""
            },
            "colorscale": [
             [
              0,
              "#0d0887"
             ],
             [
              0.1111111111111111,
              "#46039f"
             ],
             [
              0.2222222222222222,
              "#7201a8"
             ],
             [
              0.3333333333333333,
              "#9c179e"
             ],
             [
              0.4444444444444444,
              "#bd3786"
             ],
             [
              0.5555555555555556,
              "#d8576b"
             ],
             [
              0.6666666666666666,
              "#ed7953"
             ],
             [
              0.7777777777777778,
              "#fb9f3a"
             ],
             [
              0.8888888888888888,
              "#fdca26"
             ],
             [
              1,
              "#f0f921"
             ]
            ],
            "type": "histogram2dcontour"
           }
          ],
          "mesh3d": [
           {
            "colorbar": {
             "outlinewidth": 0,
             "ticks": ""
            },
            "type": "mesh3d"
           }
          ],
          "parcoords": [
           {
            "line": {
             "colorbar": {
              "outlinewidth": 0,
              "ticks": ""
             }
            },
            "type": "parcoords"
           }
          ],
          "pie": [
           {
            "automargin": true,
            "type": "pie"
           }
          ],
          "scatter": [
           {
            "marker": {
             "line": {
              "color": "#283442"
             }
            },
            "type": "scatter"
           }
          ],
          "scatter3d": [
           {
            "line": {
             "colorbar": {
              "outlinewidth": 0,
              "ticks": ""
             }
            },
            "marker": {
             "colorbar": {
              "outlinewidth": 0,
              "ticks": ""
             }
            },
            "type": "scatter3d"
           }
          ],
          "scattercarpet": [
           {
            "marker": {
             "colorbar": {
              "outlinewidth": 0,
              "ticks": ""
             }
            },
            "type": "scattercarpet"
           }
          ],
          "scattergeo": [
           {
            "marker": {
             "colorbar": {
              "outlinewidth": 0,
              "ticks": ""
             }
            },
            "type": "scattergeo"
           }
          ],
          "scattergl": [
           {
            "marker": {
             "line": {
              "color": "#283442"
             }
            },
            "type": "scattergl"
           }
          ],
          "scattermapbox": [
           {
            "marker": {
             "colorbar": {
              "outlinewidth": 0,
              "ticks": ""
             }
            },
            "type": "scattermapbox"
           }
          ],
          "scatterpolar": [
           {
            "marker": {
             "colorbar": {
              "outlinewidth": 0,
              "ticks": ""
             }
            },
            "type": "scatterpolar"
           }
          ],
          "scatterpolargl": [
           {
            "marker": {
             "colorbar": {
              "outlinewidth": 0,
              "ticks": ""
             }
            },
            "type": "scatterpolargl"
           }
          ],
          "scatterternary": [
           {
            "marker": {
             "colorbar": {
              "outlinewidth": 0,
              "ticks": ""
             }
            },
            "type": "scatterternary"
           }
          ],
          "surface": [
           {
            "colorbar": {
             "outlinewidth": 0,
             "ticks": ""
            },
            "colorscale": [
             [
              0,
              "#0d0887"
             ],
             [
              0.1111111111111111,
              "#46039f"
             ],
             [
              0.2222222222222222,
              "#7201a8"
             ],
             [
              0.3333333333333333,
              "#9c179e"
             ],
             [
              0.4444444444444444,
              "#bd3786"
             ],
             [
              0.5555555555555556,
              "#d8576b"
             ],
             [
              0.6666666666666666,
              "#ed7953"
             ],
             [
              0.7777777777777778,
              "#fb9f3a"
             ],
             [
              0.8888888888888888,
              "#fdca26"
             ],
             [
              1,
              "#f0f921"
             ]
            ],
            "type": "surface"
           }
          ],
          "table": [
           {
            "cells": {
             "fill": {
              "color": "#506784"
             },
             "line": {
              "color": "rgb(17,17,17)"
             }
            },
            "header": {
             "fill": {
              "color": "#2a3f5f"
             },
             "line": {
              "color": "rgb(17,17,17)"
             }
            },
            "type": "table"
           }
          ]
         },
         "layout": {
          "annotationdefaults": {
           "arrowcolor": "#f2f5fa",
           "arrowhead": 0,
           "arrowwidth": 1
          },
          "autotypenumbers": "strict",
          "coloraxis": {
           "colorbar": {
            "outlinewidth": 0,
            "ticks": ""
           }
          },
          "colorscale": {
           "diverging": [
            [
             0,
             "#8e0152"
            ],
            [
             0.1,
             "#c51b7d"
            ],
            [
             0.2,
             "#de77ae"
            ],
            [
             0.3,
             "#f1b6da"
            ],
            [
             0.4,
             "#fde0ef"
            ],
            [
             0.5,
             "#f7f7f7"
            ],
            [
             0.6,
             "#e6f5d0"
            ],
            [
             0.7,
             "#b8e186"
            ],
            [
             0.8,
             "#7fbc41"
            ],
            [
             0.9,
             "#4d9221"
            ],
            [
             1,
             "#276419"
            ]
           ],
           "sequential": [
            [
             0,
             "#0d0887"
            ],
            [
             0.1111111111111111,
             "#46039f"
            ],
            [
             0.2222222222222222,
             "#7201a8"
            ],
            [
             0.3333333333333333,
             "#9c179e"
            ],
            [
             0.4444444444444444,
             "#bd3786"
            ],
            [
             0.5555555555555556,
             "#d8576b"
            ],
            [
             0.6666666666666666,
             "#ed7953"
            ],
            [
             0.7777777777777778,
             "#fb9f3a"
            ],
            [
             0.8888888888888888,
             "#fdca26"
            ],
            [
             1,
             "#f0f921"
            ]
           ],
           "sequentialminus": [
            [
             0,
             "#0d0887"
            ],
            [
             0.1111111111111111,
             "#46039f"
            ],
            [
             0.2222222222222222,
             "#7201a8"
            ],
            [
             0.3333333333333333,
             "#9c179e"
            ],
            [
             0.4444444444444444,
             "#bd3786"
            ],
            [
             0.5555555555555556,
             "#d8576b"
            ],
            [
             0.6666666666666666,
             "#ed7953"
            ],
            [
             0.7777777777777778,
             "#fb9f3a"
            ],
            [
             0.8888888888888888,
             "#fdca26"
            ],
            [
             1,
             "#f0f921"
            ]
           ]
          },
          "colorway": [
           "#636efa",
           "#EF553B",
           "#00cc96",
           "#ab63fa",
           "#FFA15A",
           "#19d3f3",
           "#FF6692",
           "#B6E880",
           "#FF97FF",
           "#FECB52"
          ],
          "font": {
           "color": "#f2f5fa"
          },
          "geo": {
           "bgcolor": "rgb(17,17,17)",
           "lakecolor": "rgb(17,17,17)",
           "landcolor": "rgb(17,17,17)",
           "showlakes": true,
           "showland": true,
           "subunitcolor": "#506784"
          },
          "hoverlabel": {
           "align": "left"
          },
          "hovermode": "closest",
          "mapbox": {
           "style": "dark"
          },
          "paper_bgcolor": "rgb(17,17,17)",
          "plot_bgcolor": "rgb(17,17,17)",
          "polar": {
           "angularaxis": {
            "gridcolor": "#506784",
            "linecolor": "#506784",
            "ticks": ""
           },
           "bgcolor": "rgb(17,17,17)",
           "radialaxis": {
            "gridcolor": "#506784",
            "linecolor": "#506784",
            "ticks": ""
           }
          },
          "scene": {
           "xaxis": {
            "backgroundcolor": "rgb(17,17,17)",
            "gridcolor": "#506784",
            "gridwidth": 2,
            "linecolor": "#506784",
            "showbackground": true,
            "ticks": "",
            "zerolinecolor": "#C8D4E3"
           },
           "yaxis": {
            "backgroundcolor": "rgb(17,17,17)",
            "gridcolor": "#506784",
            "gridwidth": 2,
            "linecolor": "#506784",
            "showbackground": true,
            "ticks": "",
            "zerolinecolor": "#C8D4E3"
           },
           "zaxis": {
            "backgroundcolor": "rgb(17,17,17)",
            "gridcolor": "#506784",
            "gridwidth": 2,
            "linecolor": "#506784",
            "showbackground": true,
            "ticks": "",
            "zerolinecolor": "#C8D4E3"
           }
          },
          "shapedefaults": {
           "line": {
            "color": "#f2f5fa"
           }
          },
          "sliderdefaults": {
           "bgcolor": "#C8D4E3",
           "bordercolor": "rgb(17,17,17)",
           "borderwidth": 1,
           "tickwidth": 0
          },
          "ternary": {
           "aaxis": {
            "gridcolor": "#506784",
            "linecolor": "#506784",
            "ticks": ""
           },
           "baxis": {
            "gridcolor": "#506784",
            "linecolor": "#506784",
            "ticks": ""
           },
           "bgcolor": "rgb(17,17,17)",
           "caxis": {
            "gridcolor": "#506784",
            "linecolor": "#506784",
            "ticks": ""
           }
          },
          "title": {
           "x": 0.05
          },
          "updatemenudefaults": {
           "bgcolor": "#506784",
           "borderwidth": 0
          },
          "xaxis": {
           "automargin": true,
           "gridcolor": "#283442",
           "linecolor": "#506784",
           "ticks": "",
           "title": {
            "standoff": 15
           },
           "zerolinecolor": "#283442",
           "zerolinewidth": 2
          },
          "yaxis": {
           "automargin": true,
           "gridcolor": "#283442",
           "linecolor": "#506784",
           "ticks": "",
           "title": {
            "standoff": 15
           },
           "zerolinecolor": "#283442",
           "zerolinewidth": 2
          }
         }
        },
        "title": {
         "text": "Volume"
        },
        "xaxis": {
         "anchor": "y",
         "domain": [
          0,
          1
         ],
         "title": {
          "text": "Companies"
         }
        },
        "yaxis": {
         "anchor": "x",
         "domain": [
          0,
          1
         ],
         "title": {
          "text": "average_volume"
         }
        }
       }
      }
     },
     "metadata": {},
     "output_type": "display_data"
    }
   ],
   "source": [
    "df_top_companies.sort_values(by = 'average_volume', ascending=True, inplace=True)\n",
    "\n",
    "fig_op_margin = px.bar(df_top_companies, title='Volume', x='long_name', y='average_volume', color_discrete_sequence=['rgb(100, 195, 181)'], hover_name=df_top_companies.ticker, height=600)\n",
    "fig_op_margin.update_traces(text=[f'{x:.2f}M' for x in (df_top_companies['average_volume']/1000000)], textposition='outside',textfont=dict(color='white'))\n",
    "fig_op_margin.update_layout(xaxis_title='Companies', yaxis_title='average_volume', template = 'plotly_dark')\n",
    "fig_op_margin.show()"
   ]
  },
  {
   "cell_type": "markdown",
   "metadata": {},
   "source": []
  },
  {
   "cell_type": "markdown",
   "metadata": {},
   "source": [
    "### Comparação de Preço de Ações"
   ]
  },
  {
   "cell_type": "code",
   "execution_count": 53,
   "metadata": {},
   "outputs": [
    {
     "data": {
      "text/html": [
       "<div>\n",
       "<style scoped>\n",
       "    .dataframe tbody tr th:only-of-type {\n",
       "        vertical-align: middle;\n",
       "    }\n",
       "\n",
       "    .dataframe tbody tr th {\n",
       "        vertical-align: top;\n",
       "    }\n",
       "\n",
       "    .dataframe thead th {\n",
       "        text-align: right;\n",
       "    }\n",
       "</style>\n",
       "<table border=\"1\" class=\"dataframe\">\n",
       "  <thead>\n",
       "    <tr style=\"text-align: right;\">\n",
       "      <th></th>\n",
       "      <th>ticker</th>\n",
       "      <th>long_name</th>\n",
       "      <th>sector</th>\n",
       "      <th>industry</th>\n",
       "      <th>market_cap</th>\n",
       "      <th>enterprise_value</th>\n",
       "      <th>total_revenue</th>\n",
       "      <th>profit_margins</th>\n",
       "      <th>operating_margins</th>\n",
       "      <th>dividend_rate</th>\n",
       "      <th>beta</th>\n",
       "      <th>ebitda</th>\n",
       "      <th>trailing_pe</th>\n",
       "      <th>forward_pe</th>\n",
       "      <th>volume</th>\n",
       "      <th>average_volume</th>\n",
       "      <th>fifty_two_week_low</th>\n",
       "      <th>fifty_two_week_high</th>\n",
       "      <th>price_to_sales_trailing_12_months</th>\n",
       "      <th>fifty_day_average</th>\n",
       "      <th>two_hundred_day_average</th>\n",
       "      <th>trailing_annual_dividend_rate</th>\n",
       "      <th>trailing_annual_dividend_yield</th>\n",
       "      <th>book_value</th>\n",
       "      <th>price_to_book</th>\n",
       "      <th>total_cash</th>\n",
       "      <th>total_cash_per_share</th>\n",
       "      <th>total_debt</th>\n",
       "      <th>earnings_quarterly_growth</th>\n",
       "      <th>revenue_growth</th>\n",
       "      <th>gross_margins</th>\n",
       "      <th>ebitda_margins</th>\n",
       "      <th>return_on_assets</th>\n",
       "      <th>return_on_equity</th>\n",
       "      <th>gross_profits</th>\n",
       "      <th>total_assets_approx</th>\n",
       "      <th>asset_turnover</th>\n",
       "      <th>earnings_growth_rate</th>\n",
       "      <th>dividend_payout_ratio</th>\n",
       "      <th>equity</th>\n",
       "      <th>debt_to_equity</th>\n",
       "      <th>roi</th>\n",
       "      <th>roce</th>\n",
       "    </tr>\n",
       "  </thead>\n",
       "  <tbody>\n",
       "    <tr>\n",
       "      <th>4</th>\n",
       "      <td>BPAC5.SA</td>\n",
       "      <td>Banco BTG Pactual S.A.</td>\n",
       "      <td>Financial Services</td>\n",
       "      <td>Capital Markets</td>\n",
       "      <td>1.483266e+11</td>\n",
       "      <td>4.345411e+10</td>\n",
       "      <td>2.775135e+10</td>\n",
       "      <td>0.30292</td>\n",
       "      <td>0.34960</td>\n",
       "      <td>0.35</td>\n",
       "      <td>1.291</td>\n",
       "      <td>0.000000e+00</td>\n",
       "      <td>11.260274</td>\n",
       "      <td>0.000000</td>\n",
       "      <td>2600.0</td>\n",
       "      <td>6184.0</td>\n",
       "      <td>4.55</td>\n",
       "      <td>9.08</td>\n",
       "      <td>5.344842</td>\n",
       "      <td>8.36500</td>\n",
       "      <td>6.876900</td>\n",
       "      <td>0.000</td>\n",
       "      <td>0.000000</td>\n",
       "      <td>9.808</td>\n",
       "      <td>0.838091</td>\n",
       "      <td>2.211434e+11</td>\n",
       "      <td>46.436</td>\n",
       "      <td>2.207205e+11</td>\n",
       "      <td>0.181</td>\n",
       "      <td>0.021</td>\n",
       "      <td>0.00000</td>\n",
       "      <td>0.00000</td>\n",
       "      <td>0.01910</td>\n",
       "      <td>0.18284</td>\n",
       "      <td>2.663930e+10</td>\n",
       "      <td>2.211434e+11</td>\n",
       "      <td>0.125490</td>\n",
       "      <td>18.1</td>\n",
       "      <td>0.000000</td>\n",
       "      <td>4.229530e+08</td>\n",
       "      <td>521.855886</td>\n",
       "      <td>0.638636</td>\n",
       "      <td>0.000000</td>\n",
       "    </tr>\n",
       "    <tr>\n",
       "      <th>10</th>\n",
       "      <td>VIVT3.SA</td>\n",
       "      <td>Telefônica Brasil S.A.</td>\n",
       "      <td>Communication Services</td>\n",
       "      <td>Telecom Services</td>\n",
       "      <td>7.645024e+10</td>\n",
       "      <td>8.845781e+10</td>\n",
       "      <td>5.031185e+10</td>\n",
       "      <td>0.08991</td>\n",
       "      <td>0.16545</td>\n",
       "      <td>2.58</td>\n",
       "      <td>0.061</td>\n",
       "      <td>1.510794e+10</td>\n",
       "      <td>17.029520</td>\n",
       "      <td>13.613569</td>\n",
       "      <td>518500.0</td>\n",
       "      <td>2252017.0</td>\n",
       "      <td>35.63</td>\n",
       "      <td>46.83</td>\n",
       "      <td>1.519528</td>\n",
       "      <td>43.66480</td>\n",
       "      <td>41.602700</td>\n",
       "      <td>1.902</td>\n",
       "      <td>0.041811</td>\n",
       "      <td>41.399</td>\n",
       "      <td>1.114761</td>\n",
       "      <td>5.405903e+09</td>\n",
       "      <td>3.260</td>\n",
       "      <td>1.837770e+10</td>\n",
       "      <td>0.472</td>\n",
       "      <td>0.076</td>\n",
       "      <td>0.47107</td>\n",
       "      <td>0.30029</td>\n",
       "      <td>0.03836</td>\n",
       "      <td>0.06606</td>\n",
       "      <td>2.251504e+10</td>\n",
       "      <td>5.405903e+09</td>\n",
       "      <td>9.306836</td>\n",
       "      <td>47.2</td>\n",
       "      <td>402.966102</td>\n",
       "      <td>-1.297179e+10</td>\n",
       "      <td>-1.416743</td>\n",
       "      <td>0.568767</td>\n",
       "      <td>0.159320</td>\n",
       "    </tr>\n",
       "    <tr>\n",
       "      <th>7</th>\n",
       "      <td>WEGE3.SA</td>\n",
       "      <td>WEG S.A.</td>\n",
       "      <td>Industrials</td>\n",
       "      <td>Specialty Industrial Machinery</td>\n",
       "      <td>1.384426e+11</td>\n",
       "      <td>1.303664e+11</td>\n",
       "      <td>3.175831e+10</td>\n",
       "      <td>0.15827</td>\n",
       "      <td>0.20575</td>\n",
       "      <td>0.32</td>\n",
       "      <td>0.513</td>\n",
       "      <td>6.480928e+09</td>\n",
       "      <td>26.829268</td>\n",
       "      <td>24.444445</td>\n",
       "      <td>8227600.0</td>\n",
       "      <td>7064393.0</td>\n",
       "      <td>31.47</td>\n",
       "      <td>42.42</td>\n",
       "      <td>4.359256</td>\n",
       "      <td>35.49900</td>\n",
       "      <td>38.036150</td>\n",
       "      <td>0.670</td>\n",
       "      <td>0.021290</td>\n",
       "      <td>3.666</td>\n",
       "      <td>9.001637</td>\n",
       "      <td>5.480459e+09</td>\n",
       "      <td>1.306</td>\n",
       "      <td>3.346563e+09</td>\n",
       "      <td>0.499</td>\n",
       "      <td>0.137</td>\n",
       "      <td>0.31911</td>\n",
       "      <td>0.20407</td>\n",
       "      <td>0.13783</td>\n",
       "      <td>0.34605</td>\n",
       "      <td>8.695487e+09</td>\n",
       "      <td>5.480459e+09</td>\n",
       "      <td>5.794826</td>\n",
       "      <td>49.9</td>\n",
       "      <td>134.268537</td>\n",
       "      <td>2.133896e+09</td>\n",
       "      <td>1.568288</td>\n",
       "      <td>0.243608</td>\n",
       "      <td>0.045708</td>\n",
       "    </tr>\n",
       "    <tr>\n",
       "      <th>6</th>\n",
       "      <td>BBAS3.SA</td>\n",
       "      <td>Banco do Brasil S.A.</td>\n",
       "      <td>Financial Services</td>\n",
       "      <td>Banks - Regional</td>\n",
       "      <td>1.404060e+11</td>\n",
       "      <td>9.574406e+11</td>\n",
       "      <td>9.532893e+10</td>\n",
       "      <td>0.34830</td>\n",
       "      <td>0.45908</td>\n",
       "      <td>0.94</td>\n",
       "      <td>0.803</td>\n",
       "      <td>0.000000e+00</td>\n",
       "      <td>3.770115</td>\n",
       "      <td>3.805105</td>\n",
       "      <td>1529200.0</td>\n",
       "      <td>8738341.0</td>\n",
       "      <td>30.25</td>\n",
       "      <td>51.99</td>\n",
       "      <td>1.472858</td>\n",
       "      <td>47.75040</td>\n",
       "      <td>44.664150</td>\n",
       "      <td>4.500</td>\n",
       "      <td>0.091743</td>\n",
       "      <td>54.955</td>\n",
       "      <td>0.895278</td>\n",
       "      <td>8.206587e+10</td>\n",
       "      <td>28.757</td>\n",
       "      <td>8.957765e+11</td>\n",
       "      <td>0.087</td>\n",
       "      <td>0.091</td>\n",
       "      <td>0.00000</td>\n",
       "      <td>0.00000</td>\n",
       "      <td>0.01734</td>\n",
       "      <td>0.22474</td>\n",
       "      <td>8.925053e+10</td>\n",
       "      <td>8.206587e+10</td>\n",
       "      <td>1.161615</td>\n",
       "      <td>8.7</td>\n",
       "      <td>5172.413793</td>\n",
       "      <td>-8.137106e+11</td>\n",
       "      <td>-1.100854</td>\n",
       "      <td>0.099566</td>\n",
       "      <td>0.000000</td>\n",
       "    </tr>\n",
       "    <tr>\n",
       "      <th>9</th>\n",
       "      <td>ELET3.SA</td>\n",
       "      <td>Centrais Elétricas Brasileiras S.A. - Eletrobrás</td>\n",
       "      <td>Utilities</td>\n",
       "      <td>Utilities - Renewable</td>\n",
       "      <td>7.929263e+10</td>\n",
       "      <td>1.201184e+11</td>\n",
       "      <td>3.551173e+10</td>\n",
       "      <td>0.04797</td>\n",
       "      <td>0.42603</td>\n",
       "      <td>0.22</td>\n",
       "      <td>0.629</td>\n",
       "      <td>1.274860e+10</td>\n",
       "      <td>34.700000</td>\n",
       "      <td>8.361445</td>\n",
       "      <td>867000.0</td>\n",
       "      <td>8876606.0</td>\n",
       "      <td>29.81</td>\n",
       "      <td>52.49</td>\n",
       "      <td>2.232858</td>\n",
       "      <td>35.41580</td>\n",
       "      <td>35.994950</td>\n",
       "      <td>1.494</td>\n",
       "      <td>0.043646</td>\n",
       "      <td>49.431</td>\n",
       "      <td>0.701989</td>\n",
       "      <td>1.580123e+10</td>\n",
       "      <td>7.011</td>\n",
       "      <td>5.871339e+10</td>\n",
       "      <td>0.206</td>\n",
       "      <td>0.044</td>\n",
       "      <td>0.58912</td>\n",
       "      <td>0.35900</td>\n",
       "      <td>0.02306</td>\n",
       "      <td>0.01719</td>\n",
       "      <td>2.069732e+10</td>\n",
       "      <td>1.580123e+10</td>\n",
       "      <td>2.247404</td>\n",
       "      <td>20.6</td>\n",
       "      <td>725.242718</td>\n",
       "      <td>-4.291217e+10</td>\n",
       "      <td>-1.368223</td>\n",
       "      <td>0.295639</td>\n",
       "      <td>0.092377</td>\n",
       "    </tr>\n",
       "    <tr>\n",
       "      <th>0</th>\n",
       "      <td>PETR3.SA</td>\n",
       "      <td>Petróleo Brasileiro S.A. - Petrobras</td>\n",
       "      <td>Energy</td>\n",
       "      <td>Oil &amp; Gas Integrated</td>\n",
       "      <td>4.832119e+11</td>\n",
       "      <td>7.293640e+11</td>\n",
       "      <td>5.815630e+11</td>\n",
       "      <td>0.26889</td>\n",
       "      <td>0.39067</td>\n",
       "      <td>9.28</td>\n",
       "      <td>1.097</td>\n",
       "      <td>2.910870e+11</td>\n",
       "      <td>2.914199</td>\n",
       "      <td>4.821608</td>\n",
       "      <td>2993300.0</td>\n",
       "      <td>13234123.0</td>\n",
       "      <td>23.61</td>\n",
       "      <td>41.86</td>\n",
       "      <td>0.830885</td>\n",
       "      <td>37.03880</td>\n",
       "      <td>31.980750</td>\n",
       "      <td>9.657</td>\n",
       "      <td>0.247298</td>\n",
       "      <td>28.417</td>\n",
       "      <td>1.350600</td>\n",
       "      <td>6.098500e+10</td>\n",
       "      <td>4.675</td>\n",
       "      <td>2.793750e+11</td>\n",
       "      <td>-0.470</td>\n",
       "      <td>-0.334</td>\n",
       "      <td>0.50633</td>\n",
       "      <td>0.50053</td>\n",
       "      <td>0.15427</td>\n",
       "      <td>0.39988</td>\n",
       "      <td>3.341000e+11</td>\n",
       "      <td>6.098500e+10</td>\n",
       "      <td>9.536164</td>\n",
       "      <td>-47.0</td>\n",
       "      <td>0.000000</td>\n",
       "      <td>-2.183900e+11</td>\n",
       "      <td>-1.279248</td>\n",
       "      <td>0.797356</td>\n",
       "      <td>0.381710</td>\n",
       "    </tr>\n",
       "    <tr>\n",
       "      <th>8</th>\n",
       "      <td>ITSA4.SA</td>\n",
       "      <td>Itaúsa S.A.</td>\n",
       "      <td>Industrials</td>\n",
       "      <td>Conglomerates</td>\n",
       "      <td>8.658098e+10</td>\n",
       "      <td>9.397528e+10</td>\n",
       "      <td>7.807000e+09</td>\n",
       "      <td>1.69976</td>\n",
       "      <td>0.20113</td>\n",
       "      <td>0.74</td>\n",
       "      <td>0.647</td>\n",
       "      <td>2.240000e+09</td>\n",
       "      <td>6.740458</td>\n",
       "      <td>5.553459</td>\n",
       "      <td>2919900.0</td>\n",
       "      <td>22110422.0</td>\n",
       "      <td>7.65</td>\n",
       "      <td>10.09</td>\n",
       "      <td>11.090173</td>\n",
       "      <td>9.11561</td>\n",
       "      <td>8.937748</td>\n",
       "      <td>0.515</td>\n",
       "      <td>0.059127</td>\n",
       "      <td>7.923</td>\n",
       "      <td>1.114477</td>\n",
       "      <td>7.606000e+09</td>\n",
       "      <td>0.784</td>\n",
       "      <td>1.323700e+10</td>\n",
       "      <td>0.168</td>\n",
       "      <td>-0.117</td>\n",
       "      <td>0.34546</td>\n",
       "      <td>0.28692</td>\n",
       "      <td>0.00854</td>\n",
       "      <td>0.18054</td>\n",
       "      <td>2.875000e+09</td>\n",
       "      <td>7.606000e+09</td>\n",
       "      <td>1.026426</td>\n",
       "      <td>16.8</td>\n",
       "      <td>306.547619</td>\n",
       "      <td>-5.631000e+09</td>\n",
       "      <td>-2.350737</td>\n",
       "      <td>0.083075</td>\n",
       "      <td>0.022441</td>\n",
       "    </tr>\n",
       "    <tr>\n",
       "      <th>2</th>\n",
       "      <td>ITUB4.SA</td>\n",
       "      <td>Itaú Unibanco Holding S.A.</td>\n",
       "      <td>Financial Services</td>\n",
       "      <td>Banks - Regional</td>\n",
       "      <td>2.486832e+11</td>\n",
       "      <td>7.077875e+11</td>\n",
       "      <td>1.189380e+11</td>\n",
       "      <td>0.26661</td>\n",
       "      <td>0.35896</td>\n",
       "      <td>1.50</td>\n",
       "      <td>0.499</td>\n",
       "      <td>0.000000e+00</td>\n",
       "      <td>8.557632</td>\n",
       "      <td>6.867500</td>\n",
       "      <td>10480300.0</td>\n",
       "      <td>24528203.0</td>\n",
       "      <td>22.62</td>\n",
       "      <td>31.29</td>\n",
       "      <td>2.090864</td>\n",
       "      <td>27.27700</td>\n",
       "      <td>26.668950</td>\n",
       "      <td>0.503</td>\n",
       "      <td>0.018602</td>\n",
       "      <td>18.250</td>\n",
       "      <td>1.505205</td>\n",
       "      <td>3.943250e+11</td>\n",
       "      <td>40.237</td>\n",
       "      <td>8.270340e+11</td>\n",
       "      <td>0.181</td>\n",
       "      <td>0.135</td>\n",
       "      <td>0.00000</td>\n",
       "      <td>0.00000</td>\n",
       "      <td>0.01419</td>\n",
       "      <td>0.18295</td>\n",
       "      <td>1.155700e+11</td>\n",
       "      <td>3.943250e+11</td>\n",
       "      <td>0.301624</td>\n",
       "      <td>18.1</td>\n",
       "      <td>277.900552</td>\n",
       "      <td>-4.327090e+11</td>\n",
       "      <td>-1.911294</td>\n",
       "      <td>0.168042</td>\n",
       "      <td>0.000000</td>\n",
       "    </tr>\n",
       "    <tr>\n",
       "      <th>3</th>\n",
       "      <td>ABEV3.SA</td>\n",
       "      <td>Ambev S.A.</td>\n",
       "      <td>Consumer Defensive</td>\n",
       "      <td>Beverages - Brewers</td>\n",
       "      <td>2.007233e+11</td>\n",
       "      <td>1.888459e+11</td>\n",
       "      <td>8.271054e+10</td>\n",
       "      <td>0.17263</td>\n",
       "      <td>0.18666</td>\n",
       "      <td>0.76</td>\n",
       "      <td>0.604</td>\n",
       "      <td>2.225154e+10</td>\n",
       "      <td>14.166667</td>\n",
       "      <td>12.750000</td>\n",
       "      <td>8618800.0</td>\n",
       "      <td>24680549.0</td>\n",
       "      <td>12.33</td>\n",
       "      <td>16.88</td>\n",
       "      <td>2.426816</td>\n",
       "      <td>13.44340</td>\n",
       "      <td>14.103700</td>\n",
       "      <td>0.762</td>\n",
       "      <td>0.061254</td>\n",
       "      <td>5.403</td>\n",
       "      <td>2.359800</td>\n",
       "      <td>1.243052e+10</td>\n",
       "      <td>0.789</td>\n",
       "      <td>4.096231e+09</td>\n",
       "      <td>-0.157</td>\n",
       "      <td>0.051</td>\n",
       "      <td>0.49945</td>\n",
       "      <td>0.26903</td>\n",
       "      <td>0.08271</td>\n",
       "      <td>0.16919</td>\n",
       "      <td>3.928676e+10</td>\n",
       "      <td>1.243052e+10</td>\n",
       "      <td>6.653829</td>\n",
       "      <td>-15.7</td>\n",
       "      <td>0.000000</td>\n",
       "      <td>8.334286e+09</td>\n",
       "      <td>0.491492</td>\n",
       "      <td>0.437979</td>\n",
       "      <td>0.108640</td>\n",
       "    </tr>\n",
       "    <tr>\n",
       "      <th>1</th>\n",
       "      <td>VALE3.SA</td>\n",
       "      <td>Vale S.A.</td>\n",
       "      <td>Basic Materials</td>\n",
       "      <td>Other Industrial Metals &amp; Mining</td>\n",
       "      <td>2.776947e+11</td>\n",
       "      <td>3.399071e+11</td>\n",
       "      <td>2.064140e+11</td>\n",
       "      <td>0.27585</td>\n",
       "      <td>0.33672</td>\n",
       "      <td>3.84</td>\n",
       "      <td>0.821</td>\n",
       "      <td>8.536400e+10</td>\n",
       "      <td>5.319043</td>\n",
       "      <td>5.421849</td>\n",
       "      <td>4387500.0</td>\n",
       "      <td>25978987.0</td>\n",
       "      <td>61.00</td>\n",
       "      <td>98.29</td>\n",
       "      <td>1.345329</td>\n",
       "      <td>66.07960</td>\n",
       "      <td>73.074950</td>\n",
       "      <td>4.037</td>\n",
       "      <td>0.063147</td>\n",
       "      <td>43.051</td>\n",
       "      <td>1.498688</td>\n",
       "      <td>2.423800e+10</td>\n",
       "      <td>5.580</td>\n",
       "      <td>7.934600e+10</td>\n",
       "      <td>-0.848</td>\n",
       "      <td>-0.131</td>\n",
       "      <td>0.39091</td>\n",
       "      <td>0.41356</td>\n",
       "      <td>0.09975</td>\n",
       "      <td>0.29588</td>\n",
       "      <td>1.023130e+11</td>\n",
       "      <td>2.423800e+10</td>\n",
       "      <td>8.516132</td>\n",
       "      <td>-84.8</td>\n",
       "      <td>0.000000</td>\n",
       "      <td>-5.510800e+10</td>\n",
       "      <td>-1.439827</td>\n",
       "      <td>0.607266</td>\n",
       "      <td>0.239088</td>\n",
       "    </tr>\n",
       "    <tr>\n",
       "      <th>5</th>\n",
       "      <td>BBDC4.SA</td>\n",
       "      <td>Banco Bradesco S.A.</td>\n",
       "      <td>Financial Services</td>\n",
       "      <td>Banks - Regional</td>\n",
       "      <td>1.423388e+11</td>\n",
       "      <td>5.421110e+11</td>\n",
       "      <td>7.289319e+10</td>\n",
       "      <td>0.20718</td>\n",
       "      <td>0.22324</td>\n",
       "      <td>0.23</td>\n",
       "      <td>0.675</td>\n",
       "      <td>0.000000e+00</td>\n",
       "      <td>10.649254</td>\n",
       "      <td>6.150862</td>\n",
       "      <td>14450200.0</td>\n",
       "      <td>33278303.0</td>\n",
       "      <td>12.39</td>\n",
       "      <td>20.56</td>\n",
       "      <td>1.952704</td>\n",
       "      <td>14.61200</td>\n",
       "      <td>14.785800</td>\n",
       "      <td>0.401</td>\n",
       "      <td>0.028359</td>\n",
       "      <td>15.641</td>\n",
       "      <td>0.912346</td>\n",
       "      <td>2.315534e+11</td>\n",
       "      <td>21.758</td>\n",
       "      <td>6.225786e+11</td>\n",
       "      <td>-0.447</td>\n",
       "      <td>-0.270</td>\n",
       "      <td>0.00000</td>\n",
       "      <td>0.00000</td>\n",
       "      <td>0.00853</td>\n",
       "      <td>0.09476</td>\n",
       "      <td>8.447166e+10</td>\n",
       "      <td>2.315534e+11</td>\n",
       "      <td>0.314801</td>\n",
       "      <td>-44.7</td>\n",
       "      <td>0.000000</td>\n",
       "      <td>-3.910252e+11</td>\n",
       "      <td>-1.592170</td>\n",
       "      <td>0.134462</td>\n",
       "      <td>0.000000</td>\n",
       "    </tr>\n",
       "  </tbody>\n",
       "</table>\n",
       "</div>"
      ],
      "text/plain": [
       "      ticker                                         long_name  \\\n",
       "4   BPAC5.SA                            Banco BTG Pactual S.A.   \n",
       "10  VIVT3.SA                            Telefônica Brasil S.A.   \n",
       "7   WEGE3.SA                                          WEG S.A.   \n",
       "6   BBAS3.SA                              Banco do Brasil S.A.   \n",
       "9   ELET3.SA  Centrais Elétricas Brasileiras S.A. - Eletrobrás   \n",
       "0   PETR3.SA              Petróleo Brasileiro S.A. - Petrobras   \n",
       "8   ITSA4.SA                                       Itaúsa S.A.   \n",
       "2   ITUB4.SA                        Itaú Unibanco Holding S.A.   \n",
       "3   ABEV3.SA                                        Ambev S.A.   \n",
       "1   VALE3.SA                                         Vale S.A.   \n",
       "5   BBDC4.SA                               Banco Bradesco S.A.   \n",
       "\n",
       "                    sector                          industry    market_cap  \\\n",
       "4       Financial Services                   Capital Markets  1.483266e+11   \n",
       "10  Communication Services                  Telecom Services  7.645024e+10   \n",
       "7              Industrials    Specialty Industrial Machinery  1.384426e+11   \n",
       "6       Financial Services                  Banks - Regional  1.404060e+11   \n",
       "9                Utilities             Utilities - Renewable  7.929263e+10   \n",
       "0                   Energy              Oil & Gas Integrated  4.832119e+11   \n",
       "8              Industrials                     Conglomerates  8.658098e+10   \n",
       "2       Financial Services                  Banks - Regional  2.486832e+11   \n",
       "3       Consumer Defensive               Beverages - Brewers  2.007233e+11   \n",
       "1          Basic Materials  Other Industrial Metals & Mining  2.776947e+11   \n",
       "5       Financial Services                  Banks - Regional  1.423388e+11   \n",
       "\n",
       "    enterprise_value  total_revenue  profit_margins  operating_margins  \\\n",
       "4       4.345411e+10   2.775135e+10         0.30292            0.34960   \n",
       "10      8.845781e+10   5.031185e+10         0.08991            0.16545   \n",
       "7       1.303664e+11   3.175831e+10         0.15827            0.20575   \n",
       "6       9.574406e+11   9.532893e+10         0.34830            0.45908   \n",
       "9       1.201184e+11   3.551173e+10         0.04797            0.42603   \n",
       "0       7.293640e+11   5.815630e+11         0.26889            0.39067   \n",
       "8       9.397528e+10   7.807000e+09         1.69976            0.20113   \n",
       "2       7.077875e+11   1.189380e+11         0.26661            0.35896   \n",
       "3       1.888459e+11   8.271054e+10         0.17263            0.18666   \n",
       "1       3.399071e+11   2.064140e+11         0.27585            0.33672   \n",
       "5       5.421110e+11   7.289319e+10         0.20718            0.22324   \n",
       "\n",
       "    dividend_rate   beta        ebitda  trailing_pe  forward_pe      volume  \\\n",
       "4            0.35  1.291  0.000000e+00    11.260274    0.000000      2600.0   \n",
       "10           2.58  0.061  1.510794e+10    17.029520   13.613569    518500.0   \n",
       "7            0.32  0.513  6.480928e+09    26.829268   24.444445   8227600.0   \n",
       "6            0.94  0.803  0.000000e+00     3.770115    3.805105   1529200.0   \n",
       "9            0.22  0.629  1.274860e+10    34.700000    8.361445    867000.0   \n",
       "0            9.28  1.097  2.910870e+11     2.914199    4.821608   2993300.0   \n",
       "8            0.74  0.647  2.240000e+09     6.740458    5.553459   2919900.0   \n",
       "2            1.50  0.499  0.000000e+00     8.557632    6.867500  10480300.0   \n",
       "3            0.76  0.604  2.225154e+10    14.166667   12.750000   8618800.0   \n",
       "1            3.84  0.821  8.536400e+10     5.319043    5.421849   4387500.0   \n",
       "5            0.23  0.675  0.000000e+00    10.649254    6.150862  14450200.0   \n",
       "\n",
       "    average_volume  fifty_two_week_low  fifty_two_week_high  \\\n",
       "4           6184.0                4.55                 9.08   \n",
       "10       2252017.0               35.63                46.83   \n",
       "7        7064393.0               31.47                42.42   \n",
       "6        8738341.0               30.25                51.99   \n",
       "9        8876606.0               29.81                52.49   \n",
       "0       13234123.0               23.61                41.86   \n",
       "8       22110422.0                7.65                10.09   \n",
       "2       24528203.0               22.62                31.29   \n",
       "3       24680549.0               12.33                16.88   \n",
       "1       25978987.0               61.00                98.29   \n",
       "5       33278303.0               12.39                20.56   \n",
       "\n",
       "    price_to_sales_trailing_12_months  fifty_day_average  \\\n",
       "4                            5.344842            8.36500   \n",
       "10                           1.519528           43.66480   \n",
       "7                            4.359256           35.49900   \n",
       "6                            1.472858           47.75040   \n",
       "9                            2.232858           35.41580   \n",
       "0                            0.830885           37.03880   \n",
       "8                           11.090173            9.11561   \n",
       "2                            2.090864           27.27700   \n",
       "3                            2.426816           13.44340   \n",
       "1                            1.345329           66.07960   \n",
       "5                            1.952704           14.61200   \n",
       "\n",
       "    two_hundred_day_average  trailing_annual_dividend_rate  \\\n",
       "4                  6.876900                          0.000   \n",
       "10                41.602700                          1.902   \n",
       "7                 38.036150                          0.670   \n",
       "6                 44.664150                          4.500   \n",
       "9                 35.994950                          1.494   \n",
       "0                 31.980750                          9.657   \n",
       "8                  8.937748                          0.515   \n",
       "2                 26.668950                          0.503   \n",
       "3                 14.103700                          0.762   \n",
       "1                 73.074950                          4.037   \n",
       "5                 14.785800                          0.401   \n",
       "\n",
       "    trailing_annual_dividend_yield  book_value  price_to_book    total_cash  \\\n",
       "4                         0.000000       9.808       0.838091  2.211434e+11   \n",
       "10                        0.041811      41.399       1.114761  5.405903e+09   \n",
       "7                         0.021290       3.666       9.001637  5.480459e+09   \n",
       "6                         0.091743      54.955       0.895278  8.206587e+10   \n",
       "9                         0.043646      49.431       0.701989  1.580123e+10   \n",
       "0                         0.247298      28.417       1.350600  6.098500e+10   \n",
       "8                         0.059127       7.923       1.114477  7.606000e+09   \n",
       "2                         0.018602      18.250       1.505205  3.943250e+11   \n",
       "3                         0.061254       5.403       2.359800  1.243052e+10   \n",
       "1                         0.063147      43.051       1.498688  2.423800e+10   \n",
       "5                         0.028359      15.641       0.912346  2.315534e+11   \n",
       "\n",
       "    total_cash_per_share    total_debt  earnings_quarterly_growth  \\\n",
       "4                 46.436  2.207205e+11                      0.181   \n",
       "10                 3.260  1.837770e+10                      0.472   \n",
       "7                  1.306  3.346563e+09                      0.499   \n",
       "6                 28.757  8.957765e+11                      0.087   \n",
       "9                  7.011  5.871339e+10                      0.206   \n",
       "0                  4.675  2.793750e+11                     -0.470   \n",
       "8                  0.784  1.323700e+10                      0.168   \n",
       "2                 40.237  8.270340e+11                      0.181   \n",
       "3                  0.789  4.096231e+09                     -0.157   \n",
       "1                  5.580  7.934600e+10                     -0.848   \n",
       "5                 21.758  6.225786e+11                     -0.447   \n",
       "\n",
       "    revenue_growth  gross_margins  ebitda_margins  return_on_assets  \\\n",
       "4            0.021        0.00000         0.00000           0.01910   \n",
       "10           0.076        0.47107         0.30029           0.03836   \n",
       "7            0.137        0.31911         0.20407           0.13783   \n",
       "6            0.091        0.00000         0.00000           0.01734   \n",
       "9            0.044        0.58912         0.35900           0.02306   \n",
       "0           -0.334        0.50633         0.50053           0.15427   \n",
       "8           -0.117        0.34546         0.28692           0.00854   \n",
       "2            0.135        0.00000         0.00000           0.01419   \n",
       "3            0.051        0.49945         0.26903           0.08271   \n",
       "1           -0.131        0.39091         0.41356           0.09975   \n",
       "5           -0.270        0.00000         0.00000           0.00853   \n",
       "\n",
       "    return_on_equity  gross_profits  total_assets_approx  asset_turnover  \\\n",
       "4            0.18284   2.663930e+10         2.211434e+11        0.125490   \n",
       "10           0.06606   2.251504e+10         5.405903e+09        9.306836   \n",
       "7            0.34605   8.695487e+09         5.480459e+09        5.794826   \n",
       "6            0.22474   8.925053e+10         8.206587e+10        1.161615   \n",
       "9            0.01719   2.069732e+10         1.580123e+10        2.247404   \n",
       "0            0.39988   3.341000e+11         6.098500e+10        9.536164   \n",
       "8            0.18054   2.875000e+09         7.606000e+09        1.026426   \n",
       "2            0.18295   1.155700e+11         3.943250e+11        0.301624   \n",
       "3            0.16919   3.928676e+10         1.243052e+10        6.653829   \n",
       "1            0.29588   1.023130e+11         2.423800e+10        8.516132   \n",
       "5            0.09476   8.447166e+10         2.315534e+11        0.314801   \n",
       "\n",
       "    earnings_growth_rate  dividend_payout_ratio        equity  debt_to_equity  \\\n",
       "4                   18.1               0.000000  4.229530e+08      521.855886   \n",
       "10                  47.2             402.966102 -1.297179e+10       -1.416743   \n",
       "7                   49.9             134.268537  2.133896e+09        1.568288   \n",
       "6                    8.7            5172.413793 -8.137106e+11       -1.100854   \n",
       "9                   20.6             725.242718 -4.291217e+10       -1.368223   \n",
       "0                  -47.0               0.000000 -2.183900e+11       -1.279248   \n",
       "8                   16.8             306.547619 -5.631000e+09       -2.350737   \n",
       "2                   18.1             277.900552 -4.327090e+11       -1.911294   \n",
       "3                  -15.7               0.000000  8.334286e+09        0.491492   \n",
       "1                  -84.8               0.000000 -5.510800e+10       -1.439827   \n",
       "5                  -44.7               0.000000 -3.910252e+11       -1.592170   \n",
       "\n",
       "         roi      roce  \n",
       "4   0.638636  0.000000  \n",
       "10  0.568767  0.159320  \n",
       "7   0.243608  0.045708  \n",
       "6   0.099566  0.000000  \n",
       "9   0.295639  0.092377  \n",
       "0   0.797356  0.381710  \n",
       "8   0.083075  0.022441  \n",
       "2   0.168042  0.000000  \n",
       "3   0.437979  0.108640  \n",
       "1   0.607266  0.239088  \n",
       "5   0.134462  0.000000  "
      ]
     },
     "execution_count": 53,
     "metadata": {},
     "output_type": "execute_result"
    }
   ],
   "source": [
    "df_top_companies"
   ]
  },
  {
   "cell_type": "code",
   "execution_count": 54,
   "metadata": {},
   "outputs": [
    {
     "data": {
      "application/vnd.plotly.v1+json": {
       "config": {
        "plotlyServerURL": "https://plot.ly"
       },
       "data": [
        {
         "alignmentgroup": "True",
         "hovertemplate": "<b>%{hovertext}</b><br><br>long_name=%{x}<br>fifty_two_week_low=%{y}<extra></extra>",
         "hovertext": [
          "BPAC5.SA",
          "ITSA4.SA",
          "ABEV3.SA",
          "BBDC4.SA",
          "ITUB4.SA",
          "PETR3.SA",
          "ELET3.SA",
          "BBAS3.SA",
          "WEGE3.SA",
          "VIVT3.SA",
          "VALE3.SA"
         ],
         "legendgroup": "",
         "marker": {
          "color": "rgb(100, 195, 181)",
          "pattern": {
           "shape": ""
          }
         },
         "name": "",
         "offsetgroup": "",
         "orientation": "v",
         "showlegend": false,
         "text": [
          "4.55M",
          "7.65M",
          "12.33M",
          "12.39M",
          "22.62M",
          "23.61M",
          "29.81M",
          "30.25M",
          "31.47M",
          "35.63M",
          "61.00M"
         ],
         "textfont": {
          "color": "white"
         },
         "textposition": "outside",
         "type": "bar",
         "x": [
          "Banco BTG Pactual S.A.",
          "Itaúsa S.A.",
          "Ambev S.A.",
          "Banco Bradesco S.A.",
          "Itaú Unibanco Holding S.A.",
          "Petróleo Brasileiro S.A. - Petrobras",
          "Centrais Elétricas Brasileiras S.A. - Eletrobrás",
          "Banco do Brasil S.A.",
          "WEG S.A.",
          "Telefônica Brasil S.A.",
          "Vale S.A."
         ],
         "xaxis": "x",
         "y": [
          4.55,
          7.65,
          12.33,
          12.39,
          22.62,
          23.61,
          29.81,
          30.25,
          31.47,
          35.63,
          61
         ],
         "yaxis": "y"
        }
       ],
       "layout": {
        "barmode": "relative",
        "height": 600,
        "legend": {
         "tracegroupgap": 0
        },
        "template": {
         "data": {
          "bar": [
           {
            "error_x": {
             "color": "#f2f5fa"
            },
            "error_y": {
             "color": "#f2f5fa"
            },
            "marker": {
             "line": {
              "color": "rgb(17,17,17)",
              "width": 0.5
             },
             "pattern": {
              "fillmode": "overlay",
              "size": 10,
              "solidity": 0.2
             }
            },
            "type": "bar"
           }
          ],
          "barpolar": [
           {
            "marker": {
             "line": {
              "color": "rgb(17,17,17)",
              "width": 0.5
             },
             "pattern": {
              "fillmode": "overlay",
              "size": 10,
              "solidity": 0.2
             }
            },
            "type": "barpolar"
           }
          ],
          "carpet": [
           {
            "aaxis": {
             "endlinecolor": "#A2B1C6",
             "gridcolor": "#506784",
             "linecolor": "#506784",
             "minorgridcolor": "#506784",
             "startlinecolor": "#A2B1C6"
            },
            "baxis": {
             "endlinecolor": "#A2B1C6",
             "gridcolor": "#506784",
             "linecolor": "#506784",
             "minorgridcolor": "#506784",
             "startlinecolor": "#A2B1C6"
            },
            "type": "carpet"
           }
          ],
          "choropleth": [
           {
            "colorbar": {
             "outlinewidth": 0,
             "ticks": ""
            },
            "type": "choropleth"
           }
          ],
          "contour": [
           {
            "colorbar": {
             "outlinewidth": 0,
             "ticks": ""
            },
            "colorscale": [
             [
              0,
              "#0d0887"
             ],
             [
              0.1111111111111111,
              "#46039f"
             ],
             [
              0.2222222222222222,
              "#7201a8"
             ],
             [
              0.3333333333333333,
              "#9c179e"
             ],
             [
              0.4444444444444444,
              "#bd3786"
             ],
             [
              0.5555555555555556,
              "#d8576b"
             ],
             [
              0.6666666666666666,
              "#ed7953"
             ],
             [
              0.7777777777777778,
              "#fb9f3a"
             ],
             [
              0.8888888888888888,
              "#fdca26"
             ],
             [
              1,
              "#f0f921"
             ]
            ],
            "type": "contour"
           }
          ],
          "contourcarpet": [
           {
            "colorbar": {
             "outlinewidth": 0,
             "ticks": ""
            },
            "type": "contourcarpet"
           }
          ],
          "heatmap": [
           {
            "colorbar": {
             "outlinewidth": 0,
             "ticks": ""
            },
            "colorscale": [
             [
              0,
              "#0d0887"
             ],
             [
              0.1111111111111111,
              "#46039f"
             ],
             [
              0.2222222222222222,
              "#7201a8"
             ],
             [
              0.3333333333333333,
              "#9c179e"
             ],
             [
              0.4444444444444444,
              "#bd3786"
             ],
             [
              0.5555555555555556,
              "#d8576b"
             ],
             [
              0.6666666666666666,
              "#ed7953"
             ],
             [
              0.7777777777777778,
              "#fb9f3a"
             ],
             [
              0.8888888888888888,
              "#fdca26"
             ],
             [
              1,
              "#f0f921"
             ]
            ],
            "type": "heatmap"
           }
          ],
          "heatmapgl": [
           {
            "colorbar": {
             "outlinewidth": 0,
             "ticks": ""
            },
            "colorscale": [
             [
              0,
              "#0d0887"
             ],
             [
              0.1111111111111111,
              "#46039f"
             ],
             [
              0.2222222222222222,
              "#7201a8"
             ],
             [
              0.3333333333333333,
              "#9c179e"
             ],
             [
              0.4444444444444444,
              "#bd3786"
             ],
             [
              0.5555555555555556,
              "#d8576b"
             ],
             [
              0.6666666666666666,
              "#ed7953"
             ],
             [
              0.7777777777777778,
              "#fb9f3a"
             ],
             [
              0.8888888888888888,
              "#fdca26"
             ],
             [
              1,
              "#f0f921"
             ]
            ],
            "type": "heatmapgl"
           }
          ],
          "histogram": [
           {
            "marker": {
             "pattern": {
              "fillmode": "overlay",
              "size": 10,
              "solidity": 0.2
             }
            },
            "type": "histogram"
           }
          ],
          "histogram2d": [
           {
            "colorbar": {
             "outlinewidth": 0,
             "ticks": ""
            },
            "colorscale": [
             [
              0,
              "#0d0887"
             ],
             [
              0.1111111111111111,
              "#46039f"
             ],
             [
              0.2222222222222222,
              "#7201a8"
             ],
             [
              0.3333333333333333,
              "#9c179e"
             ],
             [
              0.4444444444444444,
              "#bd3786"
             ],
             [
              0.5555555555555556,
              "#d8576b"
             ],
             [
              0.6666666666666666,
              "#ed7953"
             ],
             [
              0.7777777777777778,
              "#fb9f3a"
             ],
             [
              0.8888888888888888,
              "#fdca26"
             ],
             [
              1,
              "#f0f921"
             ]
            ],
            "type": "histogram2d"
           }
          ],
          "histogram2dcontour": [
           {
            "colorbar": {
             "outlinewidth": 0,
             "ticks": ""
            },
            "colorscale": [
             [
              0,
              "#0d0887"
             ],
             [
              0.1111111111111111,
              "#46039f"
             ],
             [
              0.2222222222222222,
              "#7201a8"
             ],
             [
              0.3333333333333333,
              "#9c179e"
             ],
             [
              0.4444444444444444,
              "#bd3786"
             ],
             [
              0.5555555555555556,
              "#d8576b"
             ],
             [
              0.6666666666666666,
              "#ed7953"
             ],
             [
              0.7777777777777778,
              "#fb9f3a"
             ],
             [
              0.8888888888888888,
              "#fdca26"
             ],
             [
              1,
              "#f0f921"
             ]
            ],
            "type": "histogram2dcontour"
           }
          ],
          "mesh3d": [
           {
            "colorbar": {
             "outlinewidth": 0,
             "ticks": ""
            },
            "type": "mesh3d"
           }
          ],
          "parcoords": [
           {
            "line": {
             "colorbar": {
              "outlinewidth": 0,
              "ticks": ""
             }
            },
            "type": "parcoords"
           }
          ],
          "pie": [
           {
            "automargin": true,
            "type": "pie"
           }
          ],
          "scatter": [
           {
            "marker": {
             "line": {
              "color": "#283442"
             }
            },
            "type": "scatter"
           }
          ],
          "scatter3d": [
           {
            "line": {
             "colorbar": {
              "outlinewidth": 0,
              "ticks": ""
             }
            },
            "marker": {
             "colorbar": {
              "outlinewidth": 0,
              "ticks": ""
             }
            },
            "type": "scatter3d"
           }
          ],
          "scattercarpet": [
           {
            "marker": {
             "colorbar": {
              "outlinewidth": 0,
              "ticks": ""
             }
            },
            "type": "scattercarpet"
           }
          ],
          "scattergeo": [
           {
            "marker": {
             "colorbar": {
              "outlinewidth": 0,
              "ticks": ""
             }
            },
            "type": "scattergeo"
           }
          ],
          "scattergl": [
           {
            "marker": {
             "line": {
              "color": "#283442"
             }
            },
            "type": "scattergl"
           }
          ],
          "scattermapbox": [
           {
            "marker": {
             "colorbar": {
              "outlinewidth": 0,
              "ticks": ""
             }
            },
            "type": "scattermapbox"
           }
          ],
          "scatterpolar": [
           {
            "marker": {
             "colorbar": {
              "outlinewidth": 0,
              "ticks": ""
             }
            },
            "type": "scatterpolar"
           }
          ],
          "scatterpolargl": [
           {
            "marker": {
             "colorbar": {
              "outlinewidth": 0,
              "ticks": ""
             }
            },
            "type": "scatterpolargl"
           }
          ],
          "scatterternary": [
           {
            "marker": {
             "colorbar": {
              "outlinewidth": 0,
              "ticks": ""
             }
            },
            "type": "scatterternary"
           }
          ],
          "surface": [
           {
            "colorbar": {
             "outlinewidth": 0,
             "ticks": ""
            },
            "colorscale": [
             [
              0,
              "#0d0887"
             ],
             [
              0.1111111111111111,
              "#46039f"
             ],
             [
              0.2222222222222222,
              "#7201a8"
             ],
             [
              0.3333333333333333,
              "#9c179e"
             ],
             [
              0.4444444444444444,
              "#bd3786"
             ],
             [
              0.5555555555555556,
              "#d8576b"
             ],
             [
              0.6666666666666666,
              "#ed7953"
             ],
             [
              0.7777777777777778,
              "#fb9f3a"
             ],
             [
              0.8888888888888888,
              "#fdca26"
             ],
             [
              1,
              "#f0f921"
             ]
            ],
            "type": "surface"
           }
          ],
          "table": [
           {
            "cells": {
             "fill": {
              "color": "#506784"
             },
             "line": {
              "color": "rgb(17,17,17)"
             }
            },
            "header": {
             "fill": {
              "color": "#2a3f5f"
             },
             "line": {
              "color": "rgb(17,17,17)"
             }
            },
            "type": "table"
           }
          ]
         },
         "layout": {
          "annotationdefaults": {
           "arrowcolor": "#f2f5fa",
           "arrowhead": 0,
           "arrowwidth": 1
          },
          "autotypenumbers": "strict",
          "coloraxis": {
           "colorbar": {
            "outlinewidth": 0,
            "ticks": ""
           }
          },
          "colorscale": {
           "diverging": [
            [
             0,
             "#8e0152"
            ],
            [
             0.1,
             "#c51b7d"
            ],
            [
             0.2,
             "#de77ae"
            ],
            [
             0.3,
             "#f1b6da"
            ],
            [
             0.4,
             "#fde0ef"
            ],
            [
             0.5,
             "#f7f7f7"
            ],
            [
             0.6,
             "#e6f5d0"
            ],
            [
             0.7,
             "#b8e186"
            ],
            [
             0.8,
             "#7fbc41"
            ],
            [
             0.9,
             "#4d9221"
            ],
            [
             1,
             "#276419"
            ]
           ],
           "sequential": [
            [
             0,
             "#0d0887"
            ],
            [
             0.1111111111111111,
             "#46039f"
            ],
            [
             0.2222222222222222,
             "#7201a8"
            ],
            [
             0.3333333333333333,
             "#9c179e"
            ],
            [
             0.4444444444444444,
             "#bd3786"
            ],
            [
             0.5555555555555556,
             "#d8576b"
            ],
            [
             0.6666666666666666,
             "#ed7953"
            ],
            [
             0.7777777777777778,
             "#fb9f3a"
            ],
            [
             0.8888888888888888,
             "#fdca26"
            ],
            [
             1,
             "#f0f921"
            ]
           ],
           "sequentialminus": [
            [
             0,
             "#0d0887"
            ],
            [
             0.1111111111111111,
             "#46039f"
            ],
            [
             0.2222222222222222,
             "#7201a8"
            ],
            [
             0.3333333333333333,
             "#9c179e"
            ],
            [
             0.4444444444444444,
             "#bd3786"
            ],
            [
             0.5555555555555556,
             "#d8576b"
            ],
            [
             0.6666666666666666,
             "#ed7953"
            ],
            [
             0.7777777777777778,
             "#fb9f3a"
            ],
            [
             0.8888888888888888,
             "#fdca26"
            ],
            [
             1,
             "#f0f921"
            ]
           ]
          },
          "colorway": [
           "#636efa",
           "#EF553B",
           "#00cc96",
           "#ab63fa",
           "#FFA15A",
           "#19d3f3",
           "#FF6692",
           "#B6E880",
           "#FF97FF",
           "#FECB52"
          ],
          "font": {
           "color": "#f2f5fa"
          },
          "geo": {
           "bgcolor": "rgb(17,17,17)",
           "lakecolor": "rgb(17,17,17)",
           "landcolor": "rgb(17,17,17)",
           "showlakes": true,
           "showland": true,
           "subunitcolor": "#506784"
          },
          "hoverlabel": {
           "align": "left"
          },
          "hovermode": "closest",
          "mapbox": {
           "style": "dark"
          },
          "paper_bgcolor": "rgb(17,17,17)",
          "plot_bgcolor": "rgb(17,17,17)",
          "polar": {
           "angularaxis": {
            "gridcolor": "#506784",
            "linecolor": "#506784",
            "ticks": ""
           },
           "bgcolor": "rgb(17,17,17)",
           "radialaxis": {
            "gridcolor": "#506784",
            "linecolor": "#506784",
            "ticks": ""
           }
          },
          "scene": {
           "xaxis": {
            "backgroundcolor": "rgb(17,17,17)",
            "gridcolor": "#506784",
            "gridwidth": 2,
            "linecolor": "#506784",
            "showbackground": true,
            "ticks": "",
            "zerolinecolor": "#C8D4E3"
           },
           "yaxis": {
            "backgroundcolor": "rgb(17,17,17)",
            "gridcolor": "#506784",
            "gridwidth": 2,
            "linecolor": "#506784",
            "showbackground": true,
            "ticks": "",
            "zerolinecolor": "#C8D4E3"
           },
           "zaxis": {
            "backgroundcolor": "rgb(17,17,17)",
            "gridcolor": "#506784",
            "gridwidth": 2,
            "linecolor": "#506784",
            "showbackground": true,
            "ticks": "",
            "zerolinecolor": "#C8D4E3"
           }
          },
          "shapedefaults": {
           "line": {
            "color": "#f2f5fa"
           }
          },
          "sliderdefaults": {
           "bgcolor": "#C8D4E3",
           "bordercolor": "rgb(17,17,17)",
           "borderwidth": 1,
           "tickwidth": 0
          },
          "ternary": {
           "aaxis": {
            "gridcolor": "#506784",
            "linecolor": "#506784",
            "ticks": ""
           },
           "baxis": {
            "gridcolor": "#506784",
            "linecolor": "#506784",
            "ticks": ""
           },
           "bgcolor": "rgb(17,17,17)",
           "caxis": {
            "gridcolor": "#506784",
            "linecolor": "#506784",
            "ticks": ""
           }
          },
          "title": {
           "x": 0.05
          },
          "updatemenudefaults": {
           "bgcolor": "#506784",
           "borderwidth": 0
          },
          "xaxis": {
           "automargin": true,
           "gridcolor": "#283442",
           "linecolor": "#506784",
           "ticks": "",
           "title": {
            "standoff": 15
           },
           "zerolinecolor": "#283442",
           "zerolinewidth": 2
          },
          "yaxis": {
           "automargin": true,
           "gridcolor": "#283442",
           "linecolor": "#506784",
           "ticks": "",
           "title": {
            "standoff": 15
           },
           "zerolinecolor": "#283442",
           "zerolinewidth": 2
          }
         }
        },
        "title": {
         "text": "fifty_two_week_low"
        },
        "xaxis": {
         "anchor": "y",
         "domain": [
          0,
          1
         ],
         "title": {
          "text": "Companies"
         }
        },
        "yaxis": {
         "anchor": "x",
         "domain": [
          0,
          1
         ],
         "title": {
          "text": "fifty_two_week_low"
         }
        }
       }
      }
     },
     "metadata": {},
     "output_type": "display_data"
    }
   ],
   "source": [
    "df_top_companies.sort_values(by = 'fifty_two_week_low', ascending=True, inplace=True)\n",
    "\n",
    "fig_op_margin = px.bar(df_top_companies, title='fifty_two_week_low', x='long_name', y='fifty_two_week_low', color_discrete_sequence=['rgb(100, 195, 181)'], hover_name=df_top_companies.ticker, height=600)\n",
    "fig_op_margin.update_traces(text=[f'{x:.2f}M' for x in (df_top_companies['fifty_two_week_low'])], textposition='outside',textfont=dict(color='white'))\n",
    "fig_op_margin.update_layout(xaxis_title='Companies', yaxis_title='fifty_two_week_low', template = 'plotly_dark')\n",
    "fig_op_margin.show()"
   ]
  },
  {
   "cell_type": "markdown",
   "metadata": {},
   "source": []
  },
  {
   "cell_type": "code",
   "execution_count": 55,
   "metadata": {},
   "outputs": [
    {
     "data": {
      "application/vnd.plotly.v1+json": {
       "config": {
        "plotlyServerURL": "https://plot.ly"
       },
       "data": [
        {
         "alignmentgroup": "True",
         "hovertemplate": "<b>%{hovertext}</b><br><br>long_name=%{x}<br>fifty_two_week_high=%{y}<extra></extra>",
         "hovertext": [
          "BPAC5.SA",
          "ITSA4.SA",
          "ABEV3.SA",
          "BBDC4.SA",
          "ITUB4.SA",
          "PETR3.SA",
          "WEGE3.SA",
          "VIVT3.SA",
          "BBAS3.SA",
          "ELET3.SA",
          "VALE3.SA"
         ],
         "legendgroup": "",
         "marker": {
          "color": "rgb(100, 195, 181)",
          "pattern": {
           "shape": ""
          }
         },
         "name": "",
         "offsetgroup": "",
         "orientation": "v",
         "showlegend": false,
         "text": [
          "9.08M",
          "10.09M",
          "16.88M",
          "20.56M",
          "31.29M",
          "41.86M",
          "42.42M",
          "46.83M",
          "51.99M",
          "52.49M",
          "98.29M"
         ],
         "textfont": {
          "color": "white"
         },
         "textposition": "outside",
         "type": "bar",
         "x": [
          "Banco BTG Pactual S.A.",
          "Itaúsa S.A.",
          "Ambev S.A.",
          "Banco Bradesco S.A.",
          "Itaú Unibanco Holding S.A.",
          "Petróleo Brasileiro S.A. - Petrobras",
          "WEG S.A.",
          "Telefônica Brasil S.A.",
          "Banco do Brasil S.A.",
          "Centrais Elétricas Brasileiras S.A. - Eletrobrás",
          "Vale S.A."
         ],
         "xaxis": "x",
         "y": [
          9.08,
          10.09,
          16.88,
          20.56,
          31.29,
          41.86,
          42.42,
          46.83,
          51.99,
          52.49,
          98.29
         ],
         "yaxis": "y"
        }
       ],
       "layout": {
        "barmode": "relative",
        "height": 600,
        "legend": {
         "tracegroupgap": 0
        },
        "template": {
         "data": {
          "bar": [
           {
            "error_x": {
             "color": "#f2f5fa"
            },
            "error_y": {
             "color": "#f2f5fa"
            },
            "marker": {
             "line": {
              "color": "rgb(17,17,17)",
              "width": 0.5
             },
             "pattern": {
              "fillmode": "overlay",
              "size": 10,
              "solidity": 0.2
             }
            },
            "type": "bar"
           }
          ],
          "barpolar": [
           {
            "marker": {
             "line": {
              "color": "rgb(17,17,17)",
              "width": 0.5
             },
             "pattern": {
              "fillmode": "overlay",
              "size": 10,
              "solidity": 0.2
             }
            },
            "type": "barpolar"
           }
          ],
          "carpet": [
           {
            "aaxis": {
             "endlinecolor": "#A2B1C6",
             "gridcolor": "#506784",
             "linecolor": "#506784",
             "minorgridcolor": "#506784",
             "startlinecolor": "#A2B1C6"
            },
            "baxis": {
             "endlinecolor": "#A2B1C6",
             "gridcolor": "#506784",
             "linecolor": "#506784",
             "minorgridcolor": "#506784",
             "startlinecolor": "#A2B1C6"
            },
            "type": "carpet"
           }
          ],
          "choropleth": [
           {
            "colorbar": {
             "outlinewidth": 0,
             "ticks": ""
            },
            "type": "choropleth"
           }
          ],
          "contour": [
           {
            "colorbar": {
             "outlinewidth": 0,
             "ticks": ""
            },
            "colorscale": [
             [
              0,
              "#0d0887"
             ],
             [
              0.1111111111111111,
              "#46039f"
             ],
             [
              0.2222222222222222,
              "#7201a8"
             ],
             [
              0.3333333333333333,
              "#9c179e"
             ],
             [
              0.4444444444444444,
              "#bd3786"
             ],
             [
              0.5555555555555556,
              "#d8576b"
             ],
             [
              0.6666666666666666,
              "#ed7953"
             ],
             [
              0.7777777777777778,
              "#fb9f3a"
             ],
             [
              0.8888888888888888,
              "#fdca26"
             ],
             [
              1,
              "#f0f921"
             ]
            ],
            "type": "contour"
           }
          ],
          "contourcarpet": [
           {
            "colorbar": {
             "outlinewidth": 0,
             "ticks": ""
            },
            "type": "contourcarpet"
           }
          ],
          "heatmap": [
           {
            "colorbar": {
             "outlinewidth": 0,
             "ticks": ""
            },
            "colorscale": [
             [
              0,
              "#0d0887"
             ],
             [
              0.1111111111111111,
              "#46039f"
             ],
             [
              0.2222222222222222,
              "#7201a8"
             ],
             [
              0.3333333333333333,
              "#9c179e"
             ],
             [
              0.4444444444444444,
              "#bd3786"
             ],
             [
              0.5555555555555556,
              "#d8576b"
             ],
             [
              0.6666666666666666,
              "#ed7953"
             ],
             [
              0.7777777777777778,
              "#fb9f3a"
             ],
             [
              0.8888888888888888,
              "#fdca26"
             ],
             [
              1,
              "#f0f921"
             ]
            ],
            "type": "heatmap"
           }
          ],
          "heatmapgl": [
           {
            "colorbar": {
             "outlinewidth": 0,
             "ticks": ""
            },
            "colorscale": [
             [
              0,
              "#0d0887"
             ],
             [
              0.1111111111111111,
              "#46039f"
             ],
             [
              0.2222222222222222,
              "#7201a8"
             ],
             [
              0.3333333333333333,
              "#9c179e"
             ],
             [
              0.4444444444444444,
              "#bd3786"
             ],
             [
              0.5555555555555556,
              "#d8576b"
             ],
             [
              0.6666666666666666,
              "#ed7953"
             ],
             [
              0.7777777777777778,
              "#fb9f3a"
             ],
             [
              0.8888888888888888,
              "#fdca26"
             ],
             [
              1,
              "#f0f921"
             ]
            ],
            "type": "heatmapgl"
           }
          ],
          "histogram": [
           {
            "marker": {
             "pattern": {
              "fillmode": "overlay",
              "size": 10,
              "solidity": 0.2
             }
            },
            "type": "histogram"
           }
          ],
          "histogram2d": [
           {
            "colorbar": {
             "outlinewidth": 0,
             "ticks": ""
            },
            "colorscale": [
             [
              0,
              "#0d0887"
             ],
             [
              0.1111111111111111,
              "#46039f"
             ],
             [
              0.2222222222222222,
              "#7201a8"
             ],
             [
              0.3333333333333333,
              "#9c179e"
             ],
             [
              0.4444444444444444,
              "#bd3786"
             ],
             [
              0.5555555555555556,
              "#d8576b"
             ],
             [
              0.6666666666666666,
              "#ed7953"
             ],
             [
              0.7777777777777778,
              "#fb9f3a"
             ],
             [
              0.8888888888888888,
              "#fdca26"
             ],
             [
              1,
              "#f0f921"
             ]
            ],
            "type": "histogram2d"
           }
          ],
          "histogram2dcontour": [
           {
            "colorbar": {
             "outlinewidth": 0,
             "ticks": ""
            },
            "colorscale": [
             [
              0,
              "#0d0887"
             ],
             [
              0.1111111111111111,
              "#46039f"
             ],
             [
              0.2222222222222222,
              "#7201a8"
             ],
             [
              0.3333333333333333,
              "#9c179e"
             ],
             [
              0.4444444444444444,
              "#bd3786"
             ],
             [
              0.5555555555555556,
              "#d8576b"
             ],
             [
              0.6666666666666666,
              "#ed7953"
             ],
             [
              0.7777777777777778,
              "#fb9f3a"
             ],
             [
              0.8888888888888888,
              "#fdca26"
             ],
             [
              1,
              "#f0f921"
             ]
            ],
            "type": "histogram2dcontour"
           }
          ],
          "mesh3d": [
           {
            "colorbar": {
             "outlinewidth": 0,
             "ticks": ""
            },
            "type": "mesh3d"
           }
          ],
          "parcoords": [
           {
            "line": {
             "colorbar": {
              "outlinewidth": 0,
              "ticks": ""
             }
            },
            "type": "parcoords"
           }
          ],
          "pie": [
           {
            "automargin": true,
            "type": "pie"
           }
          ],
          "scatter": [
           {
            "marker": {
             "line": {
              "color": "#283442"
             }
            },
            "type": "scatter"
           }
          ],
          "scatter3d": [
           {
            "line": {
             "colorbar": {
              "outlinewidth": 0,
              "ticks": ""
             }
            },
            "marker": {
             "colorbar": {
              "outlinewidth": 0,
              "ticks": ""
             }
            },
            "type": "scatter3d"
           }
          ],
          "scattercarpet": [
           {
            "marker": {
             "colorbar": {
              "outlinewidth": 0,
              "ticks": ""
             }
            },
            "type": "scattercarpet"
           }
          ],
          "scattergeo": [
           {
            "marker": {
             "colorbar": {
              "outlinewidth": 0,
              "ticks": ""
             }
            },
            "type": "scattergeo"
           }
          ],
          "scattergl": [
           {
            "marker": {
             "line": {
              "color": "#283442"
             }
            },
            "type": "scattergl"
           }
          ],
          "scattermapbox": [
           {
            "marker": {
             "colorbar": {
              "outlinewidth": 0,
              "ticks": ""
             }
            },
            "type": "scattermapbox"
           }
          ],
          "scatterpolar": [
           {
            "marker": {
             "colorbar": {
              "outlinewidth": 0,
              "ticks": ""
             }
            },
            "type": "scatterpolar"
           }
          ],
          "scatterpolargl": [
           {
            "marker": {
             "colorbar": {
              "outlinewidth": 0,
              "ticks": ""
             }
            },
            "type": "scatterpolargl"
           }
          ],
          "scatterternary": [
           {
            "marker": {
             "colorbar": {
              "outlinewidth": 0,
              "ticks": ""
             }
            },
            "type": "scatterternary"
           }
          ],
          "surface": [
           {
            "colorbar": {
             "outlinewidth": 0,
             "ticks": ""
            },
            "colorscale": [
             [
              0,
              "#0d0887"
             ],
             [
              0.1111111111111111,
              "#46039f"
             ],
             [
              0.2222222222222222,
              "#7201a8"
             ],
             [
              0.3333333333333333,
              "#9c179e"
             ],
             [
              0.4444444444444444,
              "#bd3786"
             ],
             [
              0.5555555555555556,
              "#d8576b"
             ],
             [
              0.6666666666666666,
              "#ed7953"
             ],
             [
              0.7777777777777778,
              "#fb9f3a"
             ],
             [
              0.8888888888888888,
              "#fdca26"
             ],
             [
              1,
              "#f0f921"
             ]
            ],
            "type": "surface"
           }
          ],
          "table": [
           {
            "cells": {
             "fill": {
              "color": "#506784"
             },
             "line": {
              "color": "rgb(17,17,17)"
             }
            },
            "header": {
             "fill": {
              "color": "#2a3f5f"
             },
             "line": {
              "color": "rgb(17,17,17)"
             }
            },
            "type": "table"
           }
          ]
         },
         "layout": {
          "annotationdefaults": {
           "arrowcolor": "#f2f5fa",
           "arrowhead": 0,
           "arrowwidth": 1
          },
          "autotypenumbers": "strict",
          "coloraxis": {
           "colorbar": {
            "outlinewidth": 0,
            "ticks": ""
           }
          },
          "colorscale": {
           "diverging": [
            [
             0,
             "#8e0152"
            ],
            [
             0.1,
             "#c51b7d"
            ],
            [
             0.2,
             "#de77ae"
            ],
            [
             0.3,
             "#f1b6da"
            ],
            [
             0.4,
             "#fde0ef"
            ],
            [
             0.5,
             "#f7f7f7"
            ],
            [
             0.6,
             "#e6f5d0"
            ],
            [
             0.7,
             "#b8e186"
            ],
            [
             0.8,
             "#7fbc41"
            ],
            [
             0.9,
             "#4d9221"
            ],
            [
             1,
             "#276419"
            ]
           ],
           "sequential": [
            [
             0,
             "#0d0887"
            ],
            [
             0.1111111111111111,
             "#46039f"
            ],
            [
             0.2222222222222222,
             "#7201a8"
            ],
            [
             0.3333333333333333,
             "#9c179e"
            ],
            [
             0.4444444444444444,
             "#bd3786"
            ],
            [
             0.5555555555555556,
             "#d8576b"
            ],
            [
             0.6666666666666666,
             "#ed7953"
            ],
            [
             0.7777777777777778,
             "#fb9f3a"
            ],
            [
             0.8888888888888888,
             "#fdca26"
            ],
            [
             1,
             "#f0f921"
            ]
           ],
           "sequentialminus": [
            [
             0,
             "#0d0887"
            ],
            [
             0.1111111111111111,
             "#46039f"
            ],
            [
             0.2222222222222222,
             "#7201a8"
            ],
            [
             0.3333333333333333,
             "#9c179e"
            ],
            [
             0.4444444444444444,
             "#bd3786"
            ],
            [
             0.5555555555555556,
             "#d8576b"
            ],
            [
             0.6666666666666666,
             "#ed7953"
            ],
            [
             0.7777777777777778,
             "#fb9f3a"
            ],
            [
             0.8888888888888888,
             "#fdca26"
            ],
            [
             1,
             "#f0f921"
            ]
           ]
          },
          "colorway": [
           "#636efa",
           "#EF553B",
           "#00cc96",
           "#ab63fa",
           "#FFA15A",
           "#19d3f3",
           "#FF6692",
           "#B6E880",
           "#FF97FF",
           "#FECB52"
          ],
          "font": {
           "color": "#f2f5fa"
          },
          "geo": {
           "bgcolor": "rgb(17,17,17)",
           "lakecolor": "rgb(17,17,17)",
           "landcolor": "rgb(17,17,17)",
           "showlakes": true,
           "showland": true,
           "subunitcolor": "#506784"
          },
          "hoverlabel": {
           "align": "left"
          },
          "hovermode": "closest",
          "mapbox": {
           "style": "dark"
          },
          "paper_bgcolor": "rgb(17,17,17)",
          "plot_bgcolor": "rgb(17,17,17)",
          "polar": {
           "angularaxis": {
            "gridcolor": "#506784",
            "linecolor": "#506784",
            "ticks": ""
           },
           "bgcolor": "rgb(17,17,17)",
           "radialaxis": {
            "gridcolor": "#506784",
            "linecolor": "#506784",
            "ticks": ""
           }
          },
          "scene": {
           "xaxis": {
            "backgroundcolor": "rgb(17,17,17)",
            "gridcolor": "#506784",
            "gridwidth": 2,
            "linecolor": "#506784",
            "showbackground": true,
            "ticks": "",
            "zerolinecolor": "#C8D4E3"
           },
           "yaxis": {
            "backgroundcolor": "rgb(17,17,17)",
            "gridcolor": "#506784",
            "gridwidth": 2,
            "linecolor": "#506784",
            "showbackground": true,
            "ticks": "",
            "zerolinecolor": "#C8D4E3"
           },
           "zaxis": {
            "backgroundcolor": "rgb(17,17,17)",
            "gridcolor": "#506784",
            "gridwidth": 2,
            "linecolor": "#506784",
            "showbackground": true,
            "ticks": "",
            "zerolinecolor": "#C8D4E3"
           }
          },
          "shapedefaults": {
           "line": {
            "color": "#f2f5fa"
           }
          },
          "sliderdefaults": {
           "bgcolor": "#C8D4E3",
           "bordercolor": "rgb(17,17,17)",
           "borderwidth": 1,
           "tickwidth": 0
          },
          "ternary": {
           "aaxis": {
            "gridcolor": "#506784",
            "linecolor": "#506784",
            "ticks": ""
           },
           "baxis": {
            "gridcolor": "#506784",
            "linecolor": "#506784",
            "ticks": ""
           },
           "bgcolor": "rgb(17,17,17)",
           "caxis": {
            "gridcolor": "#506784",
            "linecolor": "#506784",
            "ticks": ""
           }
          },
          "title": {
           "x": 0.05
          },
          "updatemenudefaults": {
           "bgcolor": "#506784",
           "borderwidth": 0
          },
          "xaxis": {
           "automargin": true,
           "gridcolor": "#283442",
           "linecolor": "#506784",
           "ticks": "",
           "title": {
            "standoff": 15
           },
           "zerolinecolor": "#283442",
           "zerolinewidth": 2
          },
          "yaxis": {
           "automargin": true,
           "gridcolor": "#283442",
           "linecolor": "#506784",
           "ticks": "",
           "title": {
            "standoff": 15
           },
           "zerolinecolor": "#283442",
           "zerolinewidth": 2
          }
         }
        },
        "title": {
         "text": "fifty_two_week_high"
        },
        "xaxis": {
         "anchor": "y",
         "domain": [
          0,
          1
         ],
         "title": {
          "text": "Companies"
         }
        },
        "yaxis": {
         "anchor": "x",
         "domain": [
          0,
          1
         ],
         "title": {
          "text": "fifty_two_week_low"
         }
        }
       }
      }
     },
     "metadata": {},
     "output_type": "display_data"
    }
   ],
   "source": [
    "df_top_companies.sort_values(by = 'fifty_two_week_high', ascending=True, inplace=True)\n",
    "\n",
    "fig_op_margin = px.bar(df_top_companies, title='fifty_two_week_high', x='long_name', y='fifty_two_week_high', color_discrete_sequence=['rgb(100, 195, 181)'], hover_name=df_top_companies.ticker, height=600)\n",
    "fig_op_margin.update_traces(text=[f'{x:.2f}M' for x in (df_top_companies['fifty_two_week_high'])], textposition='outside',textfont=dict(color='white'))\n",
    "fig_op_margin.update_layout(xaxis_title='Companies', yaxis_title='fifty_two_week_low', template = 'plotly_dark')\n",
    "fig_op_margin.show()"
   ]
  },
  {
   "cell_type": "markdown",
   "metadata": {},
   "source": []
  },
  {
   "cell_type": "code",
   "execution_count": 56,
   "metadata": {},
   "outputs": [
    {
     "data": {
      "application/vnd.plotly.v1+json": {
       "config": {
        "plotlyServerURL": "https://plot.ly"
       },
       "data": [
        {
         "alignmentgroup": "True",
         "hovertemplate": "<b>%{hovertext}</b><br><br>long_name=%{x}<br>fifty_day_average=%{y}<extra></extra>",
         "hovertext": [
          "BPAC5.SA",
          "ITSA4.SA",
          "ABEV3.SA",
          "BBDC4.SA",
          "ITUB4.SA",
          "ELET3.SA",
          "WEGE3.SA",
          "PETR3.SA",
          "VIVT3.SA",
          "BBAS3.SA",
          "VALE3.SA"
         ],
         "legendgroup": "",
         "marker": {
          "color": "rgb(100, 195, 181)",
          "pattern": {
           "shape": ""
          }
         },
         "name": "",
         "offsetgroup": "",
         "orientation": "v",
         "showlegend": false,
         "text": [
          "8.37M",
          "9.12M",
          "13.44M",
          "14.61M",
          "27.28M",
          "35.42M",
          "35.50M",
          "37.04M",
          "43.66M",
          "47.75M",
          "66.08M"
         ],
         "textfont": {
          "color": "white"
         },
         "textposition": "outside",
         "type": "bar",
         "x": [
          "Banco BTG Pactual S.A.",
          "Itaúsa S.A.",
          "Ambev S.A.",
          "Banco Bradesco S.A.",
          "Itaú Unibanco Holding S.A.",
          "Centrais Elétricas Brasileiras S.A. - Eletrobrás",
          "WEG S.A.",
          "Petróleo Brasileiro S.A. - Petrobras",
          "Telefônica Brasil S.A.",
          "Banco do Brasil S.A.",
          "Vale S.A."
         ],
         "xaxis": "x",
         "y": [
          8.365,
          9.11561,
          13.4434,
          14.612,
          27.277,
          35.4158,
          35.499,
          37.0388,
          43.6648,
          47.7504,
          66.0796
         ],
         "yaxis": "y"
        }
       ],
       "layout": {
        "barmode": "relative",
        "height": 600,
        "legend": {
         "tracegroupgap": 0
        },
        "template": {
         "data": {
          "bar": [
           {
            "error_x": {
             "color": "#f2f5fa"
            },
            "error_y": {
             "color": "#f2f5fa"
            },
            "marker": {
             "line": {
              "color": "rgb(17,17,17)",
              "width": 0.5
             },
             "pattern": {
              "fillmode": "overlay",
              "size": 10,
              "solidity": 0.2
             }
            },
            "type": "bar"
           }
          ],
          "barpolar": [
           {
            "marker": {
             "line": {
              "color": "rgb(17,17,17)",
              "width": 0.5
             },
             "pattern": {
              "fillmode": "overlay",
              "size": 10,
              "solidity": 0.2
             }
            },
            "type": "barpolar"
           }
          ],
          "carpet": [
           {
            "aaxis": {
             "endlinecolor": "#A2B1C6",
             "gridcolor": "#506784",
             "linecolor": "#506784",
             "minorgridcolor": "#506784",
             "startlinecolor": "#A2B1C6"
            },
            "baxis": {
             "endlinecolor": "#A2B1C6",
             "gridcolor": "#506784",
             "linecolor": "#506784",
             "minorgridcolor": "#506784",
             "startlinecolor": "#A2B1C6"
            },
            "type": "carpet"
           }
          ],
          "choropleth": [
           {
            "colorbar": {
             "outlinewidth": 0,
             "ticks": ""
            },
            "type": "choropleth"
           }
          ],
          "contour": [
           {
            "colorbar": {
             "outlinewidth": 0,
             "ticks": ""
            },
            "colorscale": [
             [
              0,
              "#0d0887"
             ],
             [
              0.1111111111111111,
              "#46039f"
             ],
             [
              0.2222222222222222,
              "#7201a8"
             ],
             [
              0.3333333333333333,
              "#9c179e"
             ],
             [
              0.4444444444444444,
              "#bd3786"
             ],
             [
              0.5555555555555556,
              "#d8576b"
             ],
             [
              0.6666666666666666,
              "#ed7953"
             ],
             [
              0.7777777777777778,
              "#fb9f3a"
             ],
             [
              0.8888888888888888,
              "#fdca26"
             ],
             [
              1,
              "#f0f921"
             ]
            ],
            "type": "contour"
           }
          ],
          "contourcarpet": [
           {
            "colorbar": {
             "outlinewidth": 0,
             "ticks": ""
            },
            "type": "contourcarpet"
           }
          ],
          "heatmap": [
           {
            "colorbar": {
             "outlinewidth": 0,
             "ticks": ""
            },
            "colorscale": [
             [
              0,
              "#0d0887"
             ],
             [
              0.1111111111111111,
              "#46039f"
             ],
             [
              0.2222222222222222,
              "#7201a8"
             ],
             [
              0.3333333333333333,
              "#9c179e"
             ],
             [
              0.4444444444444444,
              "#bd3786"
             ],
             [
              0.5555555555555556,
              "#d8576b"
             ],
             [
              0.6666666666666666,
              "#ed7953"
             ],
             [
              0.7777777777777778,
              "#fb9f3a"
             ],
             [
              0.8888888888888888,
              "#fdca26"
             ],
             [
              1,
              "#f0f921"
             ]
            ],
            "type": "heatmap"
           }
          ],
          "heatmapgl": [
           {
            "colorbar": {
             "outlinewidth": 0,
             "ticks": ""
            },
            "colorscale": [
             [
              0,
              "#0d0887"
             ],
             [
              0.1111111111111111,
              "#46039f"
             ],
             [
              0.2222222222222222,
              "#7201a8"
             ],
             [
              0.3333333333333333,
              "#9c179e"
             ],
             [
              0.4444444444444444,
              "#bd3786"
             ],
             [
              0.5555555555555556,
              "#d8576b"
             ],
             [
              0.6666666666666666,
              "#ed7953"
             ],
             [
              0.7777777777777778,
              "#fb9f3a"
             ],
             [
              0.8888888888888888,
              "#fdca26"
             ],
             [
              1,
              "#f0f921"
             ]
            ],
            "type": "heatmapgl"
           }
          ],
          "histogram": [
           {
            "marker": {
             "pattern": {
              "fillmode": "overlay",
              "size": 10,
              "solidity": 0.2
             }
            },
            "type": "histogram"
           }
          ],
          "histogram2d": [
           {
            "colorbar": {
             "outlinewidth": 0,
             "ticks": ""
            },
            "colorscale": [
             [
              0,
              "#0d0887"
             ],
             [
              0.1111111111111111,
              "#46039f"
             ],
             [
              0.2222222222222222,
              "#7201a8"
             ],
             [
              0.3333333333333333,
              "#9c179e"
             ],
             [
              0.4444444444444444,
              "#bd3786"
             ],
             [
              0.5555555555555556,
              "#d8576b"
             ],
             [
              0.6666666666666666,
              "#ed7953"
             ],
             [
              0.7777777777777778,
              "#fb9f3a"
             ],
             [
              0.8888888888888888,
              "#fdca26"
             ],
             [
              1,
              "#f0f921"
             ]
            ],
            "type": "histogram2d"
           }
          ],
          "histogram2dcontour": [
           {
            "colorbar": {
             "outlinewidth": 0,
             "ticks": ""
            },
            "colorscale": [
             [
              0,
              "#0d0887"
             ],
             [
              0.1111111111111111,
              "#46039f"
             ],
             [
              0.2222222222222222,
              "#7201a8"
             ],
             [
              0.3333333333333333,
              "#9c179e"
             ],
             [
              0.4444444444444444,
              "#bd3786"
             ],
             [
              0.5555555555555556,
              "#d8576b"
             ],
             [
              0.6666666666666666,
              "#ed7953"
             ],
             [
              0.7777777777777778,
              "#fb9f3a"
             ],
             [
              0.8888888888888888,
              "#fdca26"
             ],
             [
              1,
              "#f0f921"
             ]
            ],
            "type": "histogram2dcontour"
           }
          ],
          "mesh3d": [
           {
            "colorbar": {
             "outlinewidth": 0,
             "ticks": ""
            },
            "type": "mesh3d"
           }
          ],
          "parcoords": [
           {
            "line": {
             "colorbar": {
              "outlinewidth": 0,
              "ticks": ""
             }
            },
            "type": "parcoords"
           }
          ],
          "pie": [
           {
            "automargin": true,
            "type": "pie"
           }
          ],
          "scatter": [
           {
            "marker": {
             "line": {
              "color": "#283442"
             }
            },
            "type": "scatter"
           }
          ],
          "scatter3d": [
           {
            "line": {
             "colorbar": {
              "outlinewidth": 0,
              "ticks": ""
             }
            },
            "marker": {
             "colorbar": {
              "outlinewidth": 0,
              "ticks": ""
             }
            },
            "type": "scatter3d"
           }
          ],
          "scattercarpet": [
           {
            "marker": {
             "colorbar": {
              "outlinewidth": 0,
              "ticks": ""
             }
            },
            "type": "scattercarpet"
           }
          ],
          "scattergeo": [
           {
            "marker": {
             "colorbar": {
              "outlinewidth": 0,
              "ticks": ""
             }
            },
            "type": "scattergeo"
           }
          ],
          "scattergl": [
           {
            "marker": {
             "line": {
              "color": "#283442"
             }
            },
            "type": "scattergl"
           }
          ],
          "scattermapbox": [
           {
            "marker": {
             "colorbar": {
              "outlinewidth": 0,
              "ticks": ""
             }
            },
            "type": "scattermapbox"
           }
          ],
          "scatterpolar": [
           {
            "marker": {
             "colorbar": {
              "outlinewidth": 0,
              "ticks": ""
             }
            },
            "type": "scatterpolar"
           }
          ],
          "scatterpolargl": [
           {
            "marker": {
             "colorbar": {
              "outlinewidth": 0,
              "ticks": ""
             }
            },
            "type": "scatterpolargl"
           }
          ],
          "scatterternary": [
           {
            "marker": {
             "colorbar": {
              "outlinewidth": 0,
              "ticks": ""
             }
            },
            "type": "scatterternary"
           }
          ],
          "surface": [
           {
            "colorbar": {
             "outlinewidth": 0,
             "ticks": ""
            },
            "colorscale": [
             [
              0,
              "#0d0887"
             ],
             [
              0.1111111111111111,
              "#46039f"
             ],
             [
              0.2222222222222222,
              "#7201a8"
             ],
             [
              0.3333333333333333,
              "#9c179e"
             ],
             [
              0.4444444444444444,
              "#bd3786"
             ],
             [
              0.5555555555555556,
              "#d8576b"
             ],
             [
              0.6666666666666666,
              "#ed7953"
             ],
             [
              0.7777777777777778,
              "#fb9f3a"
             ],
             [
              0.8888888888888888,
              "#fdca26"
             ],
             [
              1,
              "#f0f921"
             ]
            ],
            "type": "surface"
           }
          ],
          "table": [
           {
            "cells": {
             "fill": {
              "color": "#506784"
             },
             "line": {
              "color": "rgb(17,17,17)"
             }
            },
            "header": {
             "fill": {
              "color": "#2a3f5f"
             },
             "line": {
              "color": "rgb(17,17,17)"
             }
            },
            "type": "table"
           }
          ]
         },
         "layout": {
          "annotationdefaults": {
           "arrowcolor": "#f2f5fa",
           "arrowhead": 0,
           "arrowwidth": 1
          },
          "autotypenumbers": "strict",
          "coloraxis": {
           "colorbar": {
            "outlinewidth": 0,
            "ticks": ""
           }
          },
          "colorscale": {
           "diverging": [
            [
             0,
             "#8e0152"
            ],
            [
             0.1,
             "#c51b7d"
            ],
            [
             0.2,
             "#de77ae"
            ],
            [
             0.3,
             "#f1b6da"
            ],
            [
             0.4,
             "#fde0ef"
            ],
            [
             0.5,
             "#f7f7f7"
            ],
            [
             0.6,
             "#e6f5d0"
            ],
            [
             0.7,
             "#b8e186"
            ],
            [
             0.8,
             "#7fbc41"
            ],
            [
             0.9,
             "#4d9221"
            ],
            [
             1,
             "#276419"
            ]
           ],
           "sequential": [
            [
             0,
             "#0d0887"
            ],
            [
             0.1111111111111111,
             "#46039f"
            ],
            [
             0.2222222222222222,
             "#7201a8"
            ],
            [
             0.3333333333333333,
             "#9c179e"
            ],
            [
             0.4444444444444444,
             "#bd3786"
            ],
            [
             0.5555555555555556,
             "#d8576b"
            ],
            [
             0.6666666666666666,
             "#ed7953"
            ],
            [
             0.7777777777777778,
             "#fb9f3a"
            ],
            [
             0.8888888888888888,
             "#fdca26"
            ],
            [
             1,
             "#f0f921"
            ]
           ],
           "sequentialminus": [
            [
             0,
             "#0d0887"
            ],
            [
             0.1111111111111111,
             "#46039f"
            ],
            [
             0.2222222222222222,
             "#7201a8"
            ],
            [
             0.3333333333333333,
             "#9c179e"
            ],
            [
             0.4444444444444444,
             "#bd3786"
            ],
            [
             0.5555555555555556,
             "#d8576b"
            ],
            [
             0.6666666666666666,
             "#ed7953"
            ],
            [
             0.7777777777777778,
             "#fb9f3a"
            ],
            [
             0.8888888888888888,
             "#fdca26"
            ],
            [
             1,
             "#f0f921"
            ]
           ]
          },
          "colorway": [
           "#636efa",
           "#EF553B",
           "#00cc96",
           "#ab63fa",
           "#FFA15A",
           "#19d3f3",
           "#FF6692",
           "#B6E880",
           "#FF97FF",
           "#FECB52"
          ],
          "font": {
           "color": "#f2f5fa"
          },
          "geo": {
           "bgcolor": "rgb(17,17,17)",
           "lakecolor": "rgb(17,17,17)",
           "landcolor": "rgb(17,17,17)",
           "showlakes": true,
           "showland": true,
           "subunitcolor": "#506784"
          },
          "hoverlabel": {
           "align": "left"
          },
          "hovermode": "closest",
          "mapbox": {
           "style": "dark"
          },
          "paper_bgcolor": "rgb(17,17,17)",
          "plot_bgcolor": "rgb(17,17,17)",
          "polar": {
           "angularaxis": {
            "gridcolor": "#506784",
            "linecolor": "#506784",
            "ticks": ""
           },
           "bgcolor": "rgb(17,17,17)",
           "radialaxis": {
            "gridcolor": "#506784",
            "linecolor": "#506784",
            "ticks": ""
           }
          },
          "scene": {
           "xaxis": {
            "backgroundcolor": "rgb(17,17,17)",
            "gridcolor": "#506784",
            "gridwidth": 2,
            "linecolor": "#506784",
            "showbackground": true,
            "ticks": "",
            "zerolinecolor": "#C8D4E3"
           },
           "yaxis": {
            "backgroundcolor": "rgb(17,17,17)",
            "gridcolor": "#506784",
            "gridwidth": 2,
            "linecolor": "#506784",
            "showbackground": true,
            "ticks": "",
            "zerolinecolor": "#C8D4E3"
           },
           "zaxis": {
            "backgroundcolor": "rgb(17,17,17)",
            "gridcolor": "#506784",
            "gridwidth": 2,
            "linecolor": "#506784",
            "showbackground": true,
            "ticks": "",
            "zerolinecolor": "#C8D4E3"
           }
          },
          "shapedefaults": {
           "line": {
            "color": "#f2f5fa"
           }
          },
          "sliderdefaults": {
           "bgcolor": "#C8D4E3",
           "bordercolor": "rgb(17,17,17)",
           "borderwidth": 1,
           "tickwidth": 0
          },
          "ternary": {
           "aaxis": {
            "gridcolor": "#506784",
            "linecolor": "#506784",
            "ticks": ""
           },
           "baxis": {
            "gridcolor": "#506784",
            "linecolor": "#506784",
            "ticks": ""
           },
           "bgcolor": "rgb(17,17,17)",
           "caxis": {
            "gridcolor": "#506784",
            "linecolor": "#506784",
            "ticks": ""
           }
          },
          "title": {
           "x": 0.05
          },
          "updatemenudefaults": {
           "bgcolor": "#506784",
           "borderwidth": 0
          },
          "xaxis": {
           "automargin": true,
           "gridcolor": "#283442",
           "linecolor": "#506784",
           "ticks": "",
           "title": {
            "standoff": 15
           },
           "zerolinecolor": "#283442",
           "zerolinewidth": 2
          },
          "yaxis": {
           "automargin": true,
           "gridcolor": "#283442",
           "linecolor": "#506784",
           "ticks": "",
           "title": {
            "standoff": 15
           },
           "zerolinecolor": "#283442",
           "zerolinewidth": 2
          }
         }
        },
        "title": {
         "text": "fifty_day_average"
        },
        "xaxis": {
         "anchor": "y",
         "domain": [
          0,
          1
         ],
         "title": {
          "text": "Companies"
         }
        },
        "yaxis": {
         "anchor": "x",
         "domain": [
          0,
          1
         ],
         "title": {
          "text": "fifty_day_average"
         }
        }
       }
      }
     },
     "metadata": {},
     "output_type": "display_data"
    }
   ],
   "source": [
    "\n",
    "df_top_companies.sort_values(by = 'fifty_day_average', ascending=True, inplace=True)\n",
    "\n",
    "fig_op_margin = px.bar(df_top_companies, title='fifty_day_average', x='long_name', y='fifty_day_average', color_discrete_sequence=['rgb(100, 195, 181)'], hover_name=df_top_companies.ticker, height=600)\n",
    "fig_op_margin.update_traces(text=[f'{x:.2f}M' for x in (df_top_companies['fifty_day_average'])], textposition='outside',textfont=dict(color='white'))\n",
    "fig_op_margin.update_layout(xaxis_title='Companies', yaxis_title='fifty_day_average', template = 'plotly_dark')\n",
    "fig_op_margin.show()"
   ]
  },
  {
   "cell_type": "code",
   "execution_count": 57,
   "metadata": {},
   "outputs": [
    {
     "data": {
      "application/vnd.plotly.v1+json": {
       "config": {
        "plotlyServerURL": "https://plot.ly"
       },
       "data": [
        {
         "alignmentgroup": "True",
         "hovertemplate": "<b>%{hovertext}</b><br><br>long_name=%{x}<br>two_hundred_day_average=%{y}<extra></extra>",
         "hovertext": [
          "BPAC5.SA",
          "ITSA4.SA",
          "ABEV3.SA",
          "BBDC4.SA",
          "ITUB4.SA",
          "PETR3.SA",
          "ELET3.SA",
          "WEGE3.SA",
          "VIVT3.SA",
          "BBAS3.SA",
          "VALE3.SA"
         ],
         "legendgroup": "",
         "marker": {
          "color": "rgb(100, 195, 181)",
          "pattern": {
           "shape": ""
          }
         },
         "name": "",
         "offsetgroup": "",
         "orientation": "v",
         "showlegend": false,
         "text": [
          "6.88M",
          "8.94M",
          "14.10M",
          "14.79M",
          "26.67M",
          "31.98M",
          "35.99M",
          "38.04M",
          "41.60M",
          "44.66M",
          "73.07M"
         ],
         "textfont": {
          "color": "white"
         },
         "textposition": "outside",
         "type": "bar",
         "x": [
          "Banco BTG Pactual S.A.",
          "Itaúsa S.A.",
          "Ambev S.A.",
          "Banco Bradesco S.A.",
          "Itaú Unibanco Holding S.A.",
          "Petróleo Brasileiro S.A. - Petrobras",
          "Centrais Elétricas Brasileiras S.A. - Eletrobrás",
          "WEG S.A.",
          "Telefônica Brasil S.A.",
          "Banco do Brasil S.A.",
          "Vale S.A."
         ],
         "xaxis": "x",
         "y": [
          6.8769,
          8.937748,
          14.1037,
          14.7858,
          26.66895,
          31.98075,
          35.99495,
          38.03615,
          41.6027,
          44.66415,
          73.07495
         ],
         "yaxis": "y"
        }
       ],
       "layout": {
        "barmode": "relative",
        "height": 600,
        "legend": {
         "tracegroupgap": 0
        },
        "template": {
         "data": {
          "bar": [
           {
            "error_x": {
             "color": "#f2f5fa"
            },
            "error_y": {
             "color": "#f2f5fa"
            },
            "marker": {
             "line": {
              "color": "rgb(17,17,17)",
              "width": 0.5
             },
             "pattern": {
              "fillmode": "overlay",
              "size": 10,
              "solidity": 0.2
             }
            },
            "type": "bar"
           }
          ],
          "barpolar": [
           {
            "marker": {
             "line": {
              "color": "rgb(17,17,17)",
              "width": 0.5
             },
             "pattern": {
              "fillmode": "overlay",
              "size": 10,
              "solidity": 0.2
             }
            },
            "type": "barpolar"
           }
          ],
          "carpet": [
           {
            "aaxis": {
             "endlinecolor": "#A2B1C6",
             "gridcolor": "#506784",
             "linecolor": "#506784",
             "minorgridcolor": "#506784",
             "startlinecolor": "#A2B1C6"
            },
            "baxis": {
             "endlinecolor": "#A2B1C6",
             "gridcolor": "#506784",
             "linecolor": "#506784",
             "minorgridcolor": "#506784",
             "startlinecolor": "#A2B1C6"
            },
            "type": "carpet"
           }
          ],
          "choropleth": [
           {
            "colorbar": {
             "outlinewidth": 0,
             "ticks": ""
            },
            "type": "choropleth"
           }
          ],
          "contour": [
           {
            "colorbar": {
             "outlinewidth": 0,
             "ticks": ""
            },
            "colorscale": [
             [
              0,
              "#0d0887"
             ],
             [
              0.1111111111111111,
              "#46039f"
             ],
             [
              0.2222222222222222,
              "#7201a8"
             ],
             [
              0.3333333333333333,
              "#9c179e"
             ],
             [
              0.4444444444444444,
              "#bd3786"
             ],
             [
              0.5555555555555556,
              "#d8576b"
             ],
             [
              0.6666666666666666,
              "#ed7953"
             ],
             [
              0.7777777777777778,
              "#fb9f3a"
             ],
             [
              0.8888888888888888,
              "#fdca26"
             ],
             [
              1,
              "#f0f921"
             ]
            ],
            "type": "contour"
           }
          ],
          "contourcarpet": [
           {
            "colorbar": {
             "outlinewidth": 0,
             "ticks": ""
            },
            "type": "contourcarpet"
           }
          ],
          "heatmap": [
           {
            "colorbar": {
             "outlinewidth": 0,
             "ticks": ""
            },
            "colorscale": [
             [
              0,
              "#0d0887"
             ],
             [
              0.1111111111111111,
              "#46039f"
             ],
             [
              0.2222222222222222,
              "#7201a8"
             ],
             [
              0.3333333333333333,
              "#9c179e"
             ],
             [
              0.4444444444444444,
              "#bd3786"
             ],
             [
              0.5555555555555556,
              "#d8576b"
             ],
             [
              0.6666666666666666,
              "#ed7953"
             ],
             [
              0.7777777777777778,
              "#fb9f3a"
             ],
             [
              0.8888888888888888,
              "#fdca26"
             ],
             [
              1,
              "#f0f921"
             ]
            ],
            "type": "heatmap"
           }
          ],
          "heatmapgl": [
           {
            "colorbar": {
             "outlinewidth": 0,
             "ticks": ""
            },
            "colorscale": [
             [
              0,
              "#0d0887"
             ],
             [
              0.1111111111111111,
              "#46039f"
             ],
             [
              0.2222222222222222,
              "#7201a8"
             ],
             [
              0.3333333333333333,
              "#9c179e"
             ],
             [
              0.4444444444444444,
              "#bd3786"
             ],
             [
              0.5555555555555556,
              "#d8576b"
             ],
             [
              0.6666666666666666,
              "#ed7953"
             ],
             [
              0.7777777777777778,
              "#fb9f3a"
             ],
             [
              0.8888888888888888,
              "#fdca26"
             ],
             [
              1,
              "#f0f921"
             ]
            ],
            "type": "heatmapgl"
           }
          ],
          "histogram": [
           {
            "marker": {
             "pattern": {
              "fillmode": "overlay",
              "size": 10,
              "solidity": 0.2
             }
            },
            "type": "histogram"
           }
          ],
          "histogram2d": [
           {
            "colorbar": {
             "outlinewidth": 0,
             "ticks": ""
            },
            "colorscale": [
             [
              0,
              "#0d0887"
             ],
             [
              0.1111111111111111,
              "#46039f"
             ],
             [
              0.2222222222222222,
              "#7201a8"
             ],
             [
              0.3333333333333333,
              "#9c179e"
             ],
             [
              0.4444444444444444,
              "#bd3786"
             ],
             [
              0.5555555555555556,
              "#d8576b"
             ],
             [
              0.6666666666666666,
              "#ed7953"
             ],
             [
              0.7777777777777778,
              "#fb9f3a"
             ],
             [
              0.8888888888888888,
              "#fdca26"
             ],
             [
              1,
              "#f0f921"
             ]
            ],
            "type": "histogram2d"
           }
          ],
          "histogram2dcontour": [
           {
            "colorbar": {
             "outlinewidth": 0,
             "ticks": ""
            },
            "colorscale": [
             [
              0,
              "#0d0887"
             ],
             [
              0.1111111111111111,
              "#46039f"
             ],
             [
              0.2222222222222222,
              "#7201a8"
             ],
             [
              0.3333333333333333,
              "#9c179e"
             ],
             [
              0.4444444444444444,
              "#bd3786"
             ],
             [
              0.5555555555555556,
              "#d8576b"
             ],
             [
              0.6666666666666666,
              "#ed7953"
             ],
             [
              0.7777777777777778,
              "#fb9f3a"
             ],
             [
              0.8888888888888888,
              "#fdca26"
             ],
             [
              1,
              "#f0f921"
             ]
            ],
            "type": "histogram2dcontour"
           }
          ],
          "mesh3d": [
           {
            "colorbar": {
             "outlinewidth": 0,
             "ticks": ""
            },
            "type": "mesh3d"
           }
          ],
          "parcoords": [
           {
            "line": {
             "colorbar": {
              "outlinewidth": 0,
              "ticks": ""
             }
            },
            "type": "parcoords"
           }
          ],
          "pie": [
           {
            "automargin": true,
            "type": "pie"
           }
          ],
          "scatter": [
           {
            "marker": {
             "line": {
              "color": "#283442"
             }
            },
            "type": "scatter"
           }
          ],
          "scatter3d": [
           {
            "line": {
             "colorbar": {
              "outlinewidth": 0,
              "ticks": ""
             }
            },
            "marker": {
             "colorbar": {
              "outlinewidth": 0,
              "ticks": ""
             }
            },
            "type": "scatter3d"
           }
          ],
          "scattercarpet": [
           {
            "marker": {
             "colorbar": {
              "outlinewidth": 0,
              "ticks": ""
             }
            },
            "type": "scattercarpet"
           }
          ],
          "scattergeo": [
           {
            "marker": {
             "colorbar": {
              "outlinewidth": 0,
              "ticks": ""
             }
            },
            "type": "scattergeo"
           }
          ],
          "scattergl": [
           {
            "marker": {
             "line": {
              "color": "#283442"
             }
            },
            "type": "scattergl"
           }
          ],
          "scattermapbox": [
           {
            "marker": {
             "colorbar": {
              "outlinewidth": 0,
              "ticks": ""
             }
            },
            "type": "scattermapbox"
           }
          ],
          "scatterpolar": [
           {
            "marker": {
             "colorbar": {
              "outlinewidth": 0,
              "ticks": ""
             }
            },
            "type": "scatterpolar"
           }
          ],
          "scatterpolargl": [
           {
            "marker": {
             "colorbar": {
              "outlinewidth": 0,
              "ticks": ""
             }
            },
            "type": "scatterpolargl"
           }
          ],
          "scatterternary": [
           {
            "marker": {
             "colorbar": {
              "outlinewidth": 0,
              "ticks": ""
             }
            },
            "type": "scatterternary"
           }
          ],
          "surface": [
           {
            "colorbar": {
             "outlinewidth": 0,
             "ticks": ""
            },
            "colorscale": [
             [
              0,
              "#0d0887"
             ],
             [
              0.1111111111111111,
              "#46039f"
             ],
             [
              0.2222222222222222,
              "#7201a8"
             ],
             [
              0.3333333333333333,
              "#9c179e"
             ],
             [
              0.4444444444444444,
              "#bd3786"
             ],
             [
              0.5555555555555556,
              "#d8576b"
             ],
             [
              0.6666666666666666,
              "#ed7953"
             ],
             [
              0.7777777777777778,
              "#fb9f3a"
             ],
             [
              0.8888888888888888,
              "#fdca26"
             ],
             [
              1,
              "#f0f921"
             ]
            ],
            "type": "surface"
           }
          ],
          "table": [
           {
            "cells": {
             "fill": {
              "color": "#506784"
             },
             "line": {
              "color": "rgb(17,17,17)"
             }
            },
            "header": {
             "fill": {
              "color": "#2a3f5f"
             },
             "line": {
              "color": "rgb(17,17,17)"
             }
            },
            "type": "table"
           }
          ]
         },
         "layout": {
          "annotationdefaults": {
           "arrowcolor": "#f2f5fa",
           "arrowhead": 0,
           "arrowwidth": 1
          },
          "autotypenumbers": "strict",
          "coloraxis": {
           "colorbar": {
            "outlinewidth": 0,
            "ticks": ""
           }
          },
          "colorscale": {
           "diverging": [
            [
             0,
             "#8e0152"
            ],
            [
             0.1,
             "#c51b7d"
            ],
            [
             0.2,
             "#de77ae"
            ],
            [
             0.3,
             "#f1b6da"
            ],
            [
             0.4,
             "#fde0ef"
            ],
            [
             0.5,
             "#f7f7f7"
            ],
            [
             0.6,
             "#e6f5d0"
            ],
            [
             0.7,
             "#b8e186"
            ],
            [
             0.8,
             "#7fbc41"
            ],
            [
             0.9,
             "#4d9221"
            ],
            [
             1,
             "#276419"
            ]
           ],
           "sequential": [
            [
             0,
             "#0d0887"
            ],
            [
             0.1111111111111111,
             "#46039f"
            ],
            [
             0.2222222222222222,
             "#7201a8"
            ],
            [
             0.3333333333333333,
             "#9c179e"
            ],
            [
             0.4444444444444444,
             "#bd3786"
            ],
            [
             0.5555555555555556,
             "#d8576b"
            ],
            [
             0.6666666666666666,
             "#ed7953"
            ],
            [
             0.7777777777777778,
             "#fb9f3a"
            ],
            [
             0.8888888888888888,
             "#fdca26"
            ],
            [
             1,
             "#f0f921"
            ]
           ],
           "sequentialminus": [
            [
             0,
             "#0d0887"
            ],
            [
             0.1111111111111111,
             "#46039f"
            ],
            [
             0.2222222222222222,
             "#7201a8"
            ],
            [
             0.3333333333333333,
             "#9c179e"
            ],
            [
             0.4444444444444444,
             "#bd3786"
            ],
            [
             0.5555555555555556,
             "#d8576b"
            ],
            [
             0.6666666666666666,
             "#ed7953"
            ],
            [
             0.7777777777777778,
             "#fb9f3a"
            ],
            [
             0.8888888888888888,
             "#fdca26"
            ],
            [
             1,
             "#f0f921"
            ]
           ]
          },
          "colorway": [
           "#636efa",
           "#EF553B",
           "#00cc96",
           "#ab63fa",
           "#FFA15A",
           "#19d3f3",
           "#FF6692",
           "#B6E880",
           "#FF97FF",
           "#FECB52"
          ],
          "font": {
           "color": "#f2f5fa"
          },
          "geo": {
           "bgcolor": "rgb(17,17,17)",
           "lakecolor": "rgb(17,17,17)",
           "landcolor": "rgb(17,17,17)",
           "showlakes": true,
           "showland": true,
           "subunitcolor": "#506784"
          },
          "hoverlabel": {
           "align": "left"
          },
          "hovermode": "closest",
          "mapbox": {
           "style": "dark"
          },
          "paper_bgcolor": "rgb(17,17,17)",
          "plot_bgcolor": "rgb(17,17,17)",
          "polar": {
           "angularaxis": {
            "gridcolor": "#506784",
            "linecolor": "#506784",
            "ticks": ""
           },
           "bgcolor": "rgb(17,17,17)",
           "radialaxis": {
            "gridcolor": "#506784",
            "linecolor": "#506784",
            "ticks": ""
           }
          },
          "scene": {
           "xaxis": {
            "backgroundcolor": "rgb(17,17,17)",
            "gridcolor": "#506784",
            "gridwidth": 2,
            "linecolor": "#506784",
            "showbackground": true,
            "ticks": "",
            "zerolinecolor": "#C8D4E3"
           },
           "yaxis": {
            "backgroundcolor": "rgb(17,17,17)",
            "gridcolor": "#506784",
            "gridwidth": 2,
            "linecolor": "#506784",
            "showbackground": true,
            "ticks": "",
            "zerolinecolor": "#C8D4E3"
           },
           "zaxis": {
            "backgroundcolor": "rgb(17,17,17)",
            "gridcolor": "#506784",
            "gridwidth": 2,
            "linecolor": "#506784",
            "showbackground": true,
            "ticks": "",
            "zerolinecolor": "#C8D4E3"
           }
          },
          "shapedefaults": {
           "line": {
            "color": "#f2f5fa"
           }
          },
          "sliderdefaults": {
           "bgcolor": "#C8D4E3",
           "bordercolor": "rgb(17,17,17)",
           "borderwidth": 1,
           "tickwidth": 0
          },
          "ternary": {
           "aaxis": {
            "gridcolor": "#506784",
            "linecolor": "#506784",
            "ticks": ""
           },
           "baxis": {
            "gridcolor": "#506784",
            "linecolor": "#506784",
            "ticks": ""
           },
           "bgcolor": "rgb(17,17,17)",
           "caxis": {
            "gridcolor": "#506784",
            "linecolor": "#506784",
            "ticks": ""
           }
          },
          "title": {
           "x": 0.05
          },
          "updatemenudefaults": {
           "bgcolor": "#506784",
           "borderwidth": 0
          },
          "xaxis": {
           "automargin": true,
           "gridcolor": "#283442",
           "linecolor": "#506784",
           "ticks": "",
           "title": {
            "standoff": 15
           },
           "zerolinecolor": "#283442",
           "zerolinewidth": 2
          },
          "yaxis": {
           "automargin": true,
           "gridcolor": "#283442",
           "linecolor": "#506784",
           "ticks": "",
           "title": {
            "standoff": 15
           },
           "zerolinecolor": "#283442",
           "zerolinewidth": 2
          }
         }
        },
        "title": {
         "text": "two_hundred_day_average"
        },
        "xaxis": {
         "anchor": "y",
         "domain": [
          0,
          1
         ],
         "title": {
          "text": "Companies"
         }
        },
        "yaxis": {
         "anchor": "x",
         "domain": [
          0,
          1
         ],
         "title": {
          "text": "two_hundred_day_average"
         }
        }
       }
      }
     },
     "metadata": {},
     "output_type": "display_data"
    }
   ],
   "source": [
    "\n",
    "\n",
    "df_top_companies.sort_values(by = 'two_hundred_day_average', ascending=True, inplace=True)\n",
    "\n",
    "fig_op_margin = px.bar(df_top_companies, title='two_hundred_day_average', x='long_name', y='two_hundred_day_average', color_discrete_sequence=['rgb(100, 195, 181)'], hover_name=df_top_companies.ticker, height=600)\n",
    "fig_op_margin.update_traces(text=[f'{x:.2f}M' for x in (df_top_companies['two_hundred_day_average'])], textposition='outside',textfont=dict(color='white'))\n",
    "fig_op_margin.update_layout(xaxis_title='Companies', yaxis_title='two_hundred_day_average', template = 'plotly_dark')\n",
    "fig_op_margin.show()"
   ]
  },
  {
   "cell_type": "markdown",
   "metadata": {},
   "source": []
  },
  {
   "cell_type": "markdown",
   "metadata": {},
   "source": [
    "## TL / DR"
   ]
  },
  {
   "cell_type": "markdown",
   "metadata": {},
   "source": []
  }
 ],
 "metadata": {
  "kernelspec": {
   "display_name": "Python 3",
   "language": "python",
   "name": "python3"
  },
  "language_info": {
   "codemirror_mode": {
    "name": "ipython",
    "version": 3
   },
   "file_extension": ".py",
   "mimetype": "text/x-python",
   "name": "python",
   "nbconvert_exporter": "python",
   "pygments_lexer": "ipython3",
   "version": "3.11.5"
  }
 },
 "nbformat": 4,
 "nbformat_minor": 2
}
