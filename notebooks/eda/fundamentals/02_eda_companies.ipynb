{
 "cells": [
  {
   "cell_type": "markdown",
   "metadata": {},
   "source": [
    "# **Exploratory Data Analisys: Companies**"
   ]
  },
  {
   "cell_type": "markdown",
   "metadata": {},
   "source": [
    "In the notebook dedicated to the exploratory data analysis (EDA) of companies listed on B3, the filters are specifically designed to meet the needs of investors with a Buy and Hold strategy. These filters allow for better visualization and interpretation of data, facilitating the identification of companies that offer good long-term appreciation and stability, which is essential for this type of investment.\n",
    "\n",
    "Here are the fundamental metrics that are used to filter and assess the companies:\n",
    "\n",
    "- **`market_cap`**: to filter companies by their market capitalization, allowing the identification of companies with greater market stability and solidity.\n",
    "- **`dividend_rate`**: to select companies based on the dividend rate paid, which can be an indicator of consistent cash generation.\n",
    "- **`trailing_annual_dividend_yield`**: for companies based on past annual dividend yields, a metric that reflects profitability over the stock price.\n",
    "- **`debt_to_equity`**: to analyze the ratio between the company's total debt and its equity, which helps to understand the level of indebtedness and financial risk.\n",
    "- **`trailing_pe`**: (Price to Earnings) to compare the current stock price with the earnings per share over the last 12 months, a classic metric for evaluating the price-earnings ratio.\n",
    "- **`forward_pe`**: for projecting the stock price relative to expected earnings, providing a future estimate of the price-earnings ratio.\n",
    "- **`price_to_book`**: for comparison between the market value of the company and its book value, which can signal stocks traded below their net asset value.\n",
    "- **`earnings_quarterly_growth`**: to assess the company's earnings growth compared to the same quarter of the previous year, showing growth or decline trends.\n",
    "\n",
    "These columns would be at the core of Buy and Hold analysis, as they reflect the fundamental aspects long-term investors generally seek: sustainable growth, financial solidity, and dividend return. The \n",
    "visualization of data filtered by these columns offers clear and precise insights, making the investment analysis process more efficient and well-founded."
   ]
  },
  {
   "cell_type": "markdown",
   "metadata": {},
   "source": [
    "## **Initial Setup**"
   ]
  },
  {
   "cell_type": "markdown",
   "metadata": {},
   "source": [
    "### Install Packages"
   ]
  },
  {
   "cell_type": "code",
   "execution_count": 1,
   "metadata": {},
   "outputs": [
    {
     "name": "stdout",
     "output_type": "stream",
     "text": [
      "Note: you may need to restart the kernel to use updated packages.\n",
      "Note: you may need to restart the kernel to use updated packages.\n"
     ]
    }
   ],
   "source": [
    "%pip install pandas -q\n",
    "%pip install plotly -q"
   ]
  },
  {
   "cell_type": "markdown",
   "metadata": {},
   "source": [
    "### Import libs"
   ]
  },
  {
   "cell_type": "code",
   "execution_count": 2,
   "metadata": {},
   "outputs": [],
   "source": [
    "import os\n",
    "import pandas as pd\n",
    "from pathlib import Path\n",
    "import plotly.express as px\n",
    "import plotly.graph_objects as go\n",
    "import plotly.subplots as sp\n",
    "import warnings\n",
    "warnings.filterwarnings('ignore')"
   ]
  },
  {
   "cell_type": "markdown",
   "metadata": {},
   "source": [
    "### Pandas Config"
   ]
  },
  {
   "cell_type": "code",
   "execution_count": 3,
   "metadata": {},
   "outputs": [],
   "source": [
    "pd.set_option('display.max_columns', None)\n",
    "pd.set_option('display.max_rows', None)"
   ]
  },
  {
   "cell_type": "markdown",
   "metadata": {},
   "source": [
    "### Create a file path default"
   ]
  },
  {
   "cell_type": "code",
   "execution_count": 4,
   "metadata": {},
   "outputs": [],
   "source": [
    "file_path_book = str(Path(os.getcwd()).parent.parent.parent / \"data/book\")"
   ]
  },
  {
   "cell_type": "markdown",
   "metadata": {},
   "source": [
    "### Utils"
   ]
  },
  {
   "cell_type": "code",
   "execution_count": 5,
   "metadata": {},
   "outputs": [],
   "source": [
    "def remove_outliers_iqr(series):\n",
    "    Q1 = series.quantile(0.25)\n",
    "    Q3 = series.quantile(0.75)\n",
    "    IQR = Q3 - Q1\n",
    "    lower_bound = Q1 - 1.5 * IQR\n",
    "    upper_bound = Q3 + 1.5 * IQR\n",
    "    return series[(series >= lower_bound) & (series <= upper_bound)]"
   ]
  },
  {
   "cell_type": "markdown",
   "metadata": {},
   "source": [
    "## Companies"
   ]
  },
  {
   "cell_type": "markdown",
   "metadata": {},
   "source": [
    "### Load data"
   ]
  },
  {
   "cell_type": "code",
   "execution_count": 6,
   "metadata": {},
   "outputs": [
    {
     "data": {
      "text/html": [
       "<div>\n",
       "<style scoped>\n",
       "    .dataframe tbody tr th:only-of-type {\n",
       "        vertical-align: middle;\n",
       "    }\n",
       "\n",
       "    .dataframe tbody tr th {\n",
       "        vertical-align: top;\n",
       "    }\n",
       "\n",
       "    .dataframe thead th {\n",
       "        text-align: right;\n",
       "    }\n",
       "</style>\n",
       "<table border=\"1\" class=\"dataframe\">\n",
       "  <thead>\n",
       "    <tr style=\"text-align: right;\">\n",
       "      <th></th>\n",
       "      <th>ticker</th>\n",
       "      <th>long_name</th>\n",
       "      <th>sector</th>\n",
       "      <th>industry</th>\n",
       "      <th>market_cap</th>\n",
       "      <th>enterprise_value</th>\n",
       "      <th>total_revenue</th>\n",
       "      <th>profit_margins</th>\n",
       "      <th>operating_margins</th>\n",
       "      <th>dividend_rate</th>\n",
       "      <th>beta</th>\n",
       "      <th>ebitda</th>\n",
       "      <th>trailing_pe</th>\n",
       "      <th>forward_pe</th>\n",
       "      <th>volume</th>\n",
       "      <th>average_volume</th>\n",
       "      <th>fifty_two_week_low</th>\n",
       "      <th>fifty_two_week_high</th>\n",
       "      <th>price_to_sales_trailing_12_months</th>\n",
       "      <th>fifty_day_average</th>\n",
       "      <th>two_hundred_day_average</th>\n",
       "      <th>trailing_annual_dividend_rate</th>\n",
       "      <th>trailing_annual_dividend_yield</th>\n",
       "      <th>book_value</th>\n",
       "      <th>price_to_book</th>\n",
       "      <th>total_cash</th>\n",
       "      <th>total_cash_per_share</th>\n",
       "      <th>total_debt</th>\n",
       "      <th>earnings_quarterly_growth</th>\n",
       "      <th>revenue_growth</th>\n",
       "      <th>gross_margins</th>\n",
       "      <th>ebitda_margins</th>\n",
       "      <th>return_on_assets</th>\n",
       "      <th>return_on_equity</th>\n",
       "      <th>gross_profits</th>\n",
       "      <th>total_assets_approx</th>\n",
       "      <th>asset_turnover</th>\n",
       "      <th>earnings_growth_rate</th>\n",
       "      <th>dividend_payout_ratio</th>\n",
       "      <th>equity</th>\n",
       "      <th>debt_to_equity</th>\n",
       "      <th>roi</th>\n",
       "      <th>roce</th>\n",
       "    </tr>\n",
       "  </thead>\n",
       "  <tbody>\n",
       "    <tr>\n",
       "      <th>0</th>\n",
       "      <td>ABCB4.SA</td>\n",
       "      <td>Banco ABC Brasil S.A.</td>\n",
       "      <td>Financial Services</td>\n",
       "      <td>Banks - Regional</td>\n",
       "      <td>4.265434e+09</td>\n",
       "      <td>1.477339e+10</td>\n",
       "      <td>1.941779e+09</td>\n",
       "      <td>0.41576</td>\n",
       "      <td>0.38826</td>\n",
       "      <td>1.56</td>\n",
       "      <td>0.679</td>\n",
       "      <td>0.000000e+00</td>\n",
       "      <td>4.069768</td>\n",
       "      <td>4.706601</td>\n",
       "      <td>92300.0</td>\n",
       "      <td>747165.0</td>\n",
       "      <td>15.85</td>\n",
       "      <td>21.99</td>\n",
       "      <td>2.196663</td>\n",
       "      <td>19.3382</td>\n",
       "      <td>18.14667</td>\n",
       "      <td>1.550</td>\n",
       "      <td>0.080687</td>\n",
       "      <td>24.518</td>\n",
       "      <td>0.785138</td>\n",
       "      <td>7.774306e+09</td>\n",
       "      <td>35.162</td>\n",
       "      <td>1.829846e+10</td>\n",
       "      <td>0.001</td>\n",
       "      <td>0.003</td>\n",
       "      <td>0.00000</td>\n",
       "      <td>0.00000</td>\n",
       "      <td>0.01530</td>\n",
       "      <td>0.15680</td>\n",
       "      <td>1.973086e+09</td>\n",
       "      <td>7.774306e+09</td>\n",
       "      <td>0.249769</td>\n",
       "      <td>0.1</td>\n",
       "      <td>155000.000000</td>\n",
       "      <td>-1.052416e+10</td>\n",
       "      <td>-1.738710</td>\n",
       "      <td>0.131438</td>\n",
       "      <td>0.000000</td>\n",
       "    </tr>\n",
       "    <tr>\n",
       "      <th>1</th>\n",
       "      <td>AGRO3.SA</td>\n",
       "      <td>BrasilAgro - Companhia Brasileira de Proprieda...</td>\n",
       "      <td>Consumer Defensive</td>\n",
       "      <td>Farm Products</td>\n",
       "      <td>2.466480e+09</td>\n",
       "      <td>2.912933e+09</td>\n",
       "      <td>1.249437e+09</td>\n",
       "      <td>0.21493</td>\n",
       "      <td>0.25031</td>\n",
       "      <td>3.21</td>\n",
       "      <td>0.432</td>\n",
       "      <td>2.648920e+08</td>\n",
       "      <td>9.450382</td>\n",
       "      <td>6.332481</td>\n",
       "      <td>298100.0</td>\n",
       "      <td>666692.0</td>\n",
       "      <td>22.29</td>\n",
       "      <td>32.71</td>\n",
       "      <td>1.974073</td>\n",
       "      <td>27.0106</td>\n",
       "      <td>25.58635</td>\n",
       "      <td>3.240</td>\n",
       "      <td>0.132029</td>\n",
       "      <td>22.237</td>\n",
       "      <td>1.113460</td>\n",
       "      <td>3.838370e+08</td>\n",
       "      <td>3.885</td>\n",
       "      <td>8.720750e+08</td>\n",
       "      <td>6.801</td>\n",
       "      <td>0.671</td>\n",
       "      <td>0.25252</td>\n",
       "      <td>0.21201</td>\n",
       "      <td>0.03839</td>\n",
       "      <td>0.12170</td>\n",
       "      <td>3.155040e+08</td>\n",
       "      <td>3.838370e+08</td>\n",
       "      <td>3.255124</td>\n",
       "      <td>680.1</td>\n",
       "      <td>47.640053</td>\n",
       "      <td>-4.882380e+08</td>\n",
       "      <td>-1.786168</td>\n",
       "      <td>0.428927</td>\n",
       "      <td>0.079343</td>\n",
       "    </tr>\n",
       "    <tr>\n",
       "      <th>2</th>\n",
       "      <td>RAIL3.SA</td>\n",
       "      <td>Rumo S.A.</td>\n",
       "      <td>Industrials</td>\n",
       "      <td>Railroads</td>\n",
       "      <td>4.228882e+10</td>\n",
       "      <td>5.524305e+10</td>\n",
       "      <td>1.031746e+10</td>\n",
       "      <td>0.07639</td>\n",
       "      <td>0.33544</td>\n",
       "      <td>0.07</td>\n",
       "      <td>0.227</td>\n",
       "      <td>4.522541e+09</td>\n",
       "      <td>54.309525</td>\n",
       "      <td>21.723810</td>\n",
       "      <td>5733400.0</td>\n",
       "      <td>14644522.0</td>\n",
       "      <td>16.21</td>\n",
       "      <td>24.44</td>\n",
       "      <td>4.098764</td>\n",
       "      <td>22.5852</td>\n",
       "      <td>20.95235</td>\n",
       "      <td>0.066</td>\n",
       "      <td>0.002993</td>\n",
       "      <td>8.334</td>\n",
       "      <td>2.736981</td>\n",
       "      <td>7.656040e+09</td>\n",
       "      <td>4.132</td>\n",
       "      <td>2.184320e+10</td>\n",
       "      <td>3.935</td>\n",
       "      <td>0.121</td>\n",
       "      <td>0.34493</td>\n",
       "      <td>0.43834</td>\n",
       "      <td>0.04252</td>\n",
       "      <td>0.05163</td>\n",
       "      <td>3.146360e+09</td>\n",
       "      <td>7.656040e+09</td>\n",
       "      <td>1.347623</td>\n",
       "      <td>393.5</td>\n",
       "      <td>1.677255</td>\n",
       "      <td>-1.418716e+10</td>\n",
       "      <td>-1.539646</td>\n",
       "      <td>0.186765</td>\n",
       "      <td>0.070519</td>\n",
       "    </tr>\n",
       "    <tr>\n",
       "      <th>3</th>\n",
       "      <td>ALPA3.SA</td>\n",
       "      <td>Alpargatas S.A.</td>\n",
       "      <td>Consumer Cyclical</td>\n",
       "      <td>Footwear &amp; Accessories</td>\n",
       "      <td>5.309793e+09</td>\n",
       "      <td>6.482982e+09</td>\n",
       "      <td>4.022153e+09</td>\n",
       "      <td>-0.05671</td>\n",
       "      <td>-0.06434</td>\n",
       "      <td>0.40</td>\n",
       "      <td>0.571</td>\n",
       "      <td>-1.980000e+05</td>\n",
       "      <td>0.000000</td>\n",
       "      <td>0.000000</td>\n",
       "      <td>1100.0</td>\n",
       "      <td>3953.0</td>\n",
       "      <td>7.27</td>\n",
       "      <td>17.80</td>\n",
       "      <td>1.320137</td>\n",
       "      <td>8.7146</td>\n",
       "      <td>9.63540</td>\n",
       "      <td>0.000</td>\n",
       "      <td>0.000000</td>\n",
       "      <td>7.867</td>\n",
       "      <td>1.008008</td>\n",
       "      <td>4.142880e+08</td>\n",
       "      <td>0.614</td>\n",
       "      <td>1.550341e+09</td>\n",
       "      <td>0.000</td>\n",
       "      <td>-0.127</td>\n",
       "      <td>0.43246</td>\n",
       "      <td>-0.00005</td>\n",
       "      <td>-0.00910</td>\n",
       "      <td>-0.04153</td>\n",
       "      <td>1.968303e+09</td>\n",
       "      <td>4.142880e+08</td>\n",
       "      <td>9.708591</td>\n",
       "      <td>0.0</td>\n",
       "      <td>0.000000</td>\n",
       "      <td>-1.136053e+09</td>\n",
       "      <td>-1.364673</td>\n",
       "      <td>0.620417</td>\n",
       "      <td>-0.000029</td>\n",
       "    </tr>\n",
       "    <tr>\n",
       "      <th>4</th>\n",
       "      <td>ALPA4.SA</td>\n",
       "      <td>Alpargatas S.A.</td>\n",
       "      <td>Consumer Cyclical</td>\n",
       "      <td>Footwear &amp; Accessories</td>\n",
       "      <td>5.350758e+09</td>\n",
       "      <td>6.395236e+09</td>\n",
       "      <td>4.022153e+09</td>\n",
       "      <td>-0.05671</td>\n",
       "      <td>-0.06434</td>\n",
       "      <td>0.43</td>\n",
       "      <td>0.571</td>\n",
       "      <td>-1.980000e+05</td>\n",
       "      <td>0.000000</td>\n",
       "      <td>14.555555</td>\n",
       "      <td>1132100.0</td>\n",
       "      <td>5605825.0</td>\n",
       "      <td>6.81</td>\n",
       "      <td>22.51</td>\n",
       "      <td>1.330322</td>\n",
       "      <td>8.3228</td>\n",
       "      <td>9.27290</td>\n",
       "      <td>0.000</td>\n",
       "      <td>0.000000</td>\n",
       "      <td>7.867</td>\n",
       "      <td>0.999110</td>\n",
       "      <td>4.142880e+08</td>\n",
       "      <td>0.614</td>\n",
       "      <td>1.550341e+09</td>\n",
       "      <td>0.000</td>\n",
       "      <td>-0.127</td>\n",
       "      <td>0.43246</td>\n",
       "      <td>-0.00005</td>\n",
       "      <td>-0.00910</td>\n",
       "      <td>-0.04153</td>\n",
       "      <td>1.968303e+09</td>\n",
       "      <td>4.142880e+08</td>\n",
       "      <td>9.708591</td>\n",
       "      <td>0.0</td>\n",
       "      <td>0.000000</td>\n",
       "      <td>-1.136053e+09</td>\n",
       "      <td>-1.364673</td>\n",
       "      <td>0.628930</td>\n",
       "      <td>-0.000029</td>\n",
       "    </tr>\n",
       "  </tbody>\n",
       "</table>\n",
       "</div>"
      ],
      "text/plain": [
       "     ticker                                          long_name  \\\n",
       "0  ABCB4.SA                              Banco ABC Brasil S.A.   \n",
       "1  AGRO3.SA  BrasilAgro - Companhia Brasileira de Proprieda...   \n",
       "2  RAIL3.SA                                          Rumo S.A.   \n",
       "3  ALPA3.SA                                    Alpargatas S.A.   \n",
       "4  ALPA4.SA                                    Alpargatas S.A.   \n",
       "\n",
       "               sector                industry    market_cap  enterprise_value  \\\n",
       "0  Financial Services        Banks - Regional  4.265434e+09      1.477339e+10   \n",
       "1  Consumer Defensive           Farm Products  2.466480e+09      2.912933e+09   \n",
       "2         Industrials               Railroads  4.228882e+10      5.524305e+10   \n",
       "3   Consumer Cyclical  Footwear & Accessories  5.309793e+09      6.482982e+09   \n",
       "4   Consumer Cyclical  Footwear & Accessories  5.350758e+09      6.395236e+09   \n",
       "\n",
       "   total_revenue  profit_margins  operating_margins  dividend_rate   beta  \\\n",
       "0   1.941779e+09         0.41576            0.38826           1.56  0.679   \n",
       "1   1.249437e+09         0.21493            0.25031           3.21  0.432   \n",
       "2   1.031746e+10         0.07639            0.33544           0.07  0.227   \n",
       "3   4.022153e+09        -0.05671           -0.06434           0.40  0.571   \n",
       "4   4.022153e+09        -0.05671           -0.06434           0.43  0.571   \n",
       "\n",
       "         ebitda  trailing_pe  forward_pe     volume  average_volume  \\\n",
       "0  0.000000e+00     4.069768    4.706601    92300.0        747165.0   \n",
       "1  2.648920e+08     9.450382    6.332481   298100.0        666692.0   \n",
       "2  4.522541e+09    54.309525   21.723810  5733400.0      14644522.0   \n",
       "3 -1.980000e+05     0.000000    0.000000     1100.0          3953.0   \n",
       "4 -1.980000e+05     0.000000   14.555555  1132100.0       5605825.0   \n",
       "\n",
       "   fifty_two_week_low  fifty_two_week_high  price_to_sales_trailing_12_months  \\\n",
       "0               15.85                21.99                           2.196663   \n",
       "1               22.29                32.71                           1.974073   \n",
       "2               16.21                24.44                           4.098764   \n",
       "3                7.27                17.80                           1.320137   \n",
       "4                6.81                22.51                           1.330322   \n",
       "\n",
       "   fifty_day_average  two_hundred_day_average  trailing_annual_dividend_rate  \\\n",
       "0            19.3382                 18.14667                          1.550   \n",
       "1            27.0106                 25.58635                          3.240   \n",
       "2            22.5852                 20.95235                          0.066   \n",
       "3             8.7146                  9.63540                          0.000   \n",
       "4             8.3228                  9.27290                          0.000   \n",
       "\n",
       "   trailing_annual_dividend_yield  book_value  price_to_book    total_cash  \\\n",
       "0                        0.080687      24.518       0.785138  7.774306e+09   \n",
       "1                        0.132029      22.237       1.113460  3.838370e+08   \n",
       "2                        0.002993       8.334       2.736981  7.656040e+09   \n",
       "3                        0.000000       7.867       1.008008  4.142880e+08   \n",
       "4                        0.000000       7.867       0.999110  4.142880e+08   \n",
       "\n",
       "   total_cash_per_share    total_debt  earnings_quarterly_growth  \\\n",
       "0                35.162  1.829846e+10                      0.001   \n",
       "1                 3.885  8.720750e+08                      6.801   \n",
       "2                 4.132  2.184320e+10                      3.935   \n",
       "3                 0.614  1.550341e+09                      0.000   \n",
       "4                 0.614  1.550341e+09                      0.000   \n",
       "\n",
       "   revenue_growth  gross_margins  ebitda_margins  return_on_assets  \\\n",
       "0           0.003        0.00000         0.00000           0.01530   \n",
       "1           0.671        0.25252         0.21201           0.03839   \n",
       "2           0.121        0.34493         0.43834           0.04252   \n",
       "3          -0.127        0.43246        -0.00005          -0.00910   \n",
       "4          -0.127        0.43246        -0.00005          -0.00910   \n",
       "\n",
       "   return_on_equity  gross_profits  total_assets_approx  asset_turnover  \\\n",
       "0           0.15680   1.973086e+09         7.774306e+09        0.249769   \n",
       "1           0.12170   3.155040e+08         3.838370e+08        3.255124   \n",
       "2           0.05163   3.146360e+09         7.656040e+09        1.347623   \n",
       "3          -0.04153   1.968303e+09         4.142880e+08        9.708591   \n",
       "4          -0.04153   1.968303e+09         4.142880e+08        9.708591   \n",
       "\n",
       "   earnings_growth_rate  dividend_payout_ratio        equity  debt_to_equity  \\\n",
       "0                   0.1          155000.000000 -1.052416e+10       -1.738710   \n",
       "1                 680.1              47.640053 -4.882380e+08       -1.786168   \n",
       "2                 393.5               1.677255 -1.418716e+10       -1.539646   \n",
       "3                   0.0               0.000000 -1.136053e+09       -1.364673   \n",
       "4                   0.0               0.000000 -1.136053e+09       -1.364673   \n",
       "\n",
       "        roi      roce  \n",
       "0  0.131438  0.000000  \n",
       "1  0.428927  0.079343  \n",
       "2  0.186765  0.070519  \n",
       "3  0.620417 -0.000029  \n",
       "4  0.628930 -0.000029  "
      ]
     },
     "execution_count": 6,
     "metadata": {},
     "output_type": "execute_result"
    }
   ],
   "source": [
    "df_fundamentals_book = pd.read_csv(file_path_book + \"/fundamentals_book.csv\")\n",
    "df_fundamentals_book.head(5)"
   ]
  },
  {
   "cell_type": "code",
   "execution_count": 7,
   "metadata": {},
   "outputs": [
    {
     "data": {
      "text/html": [
       "<div>\n",
       "<style scoped>\n",
       "    .dataframe tbody tr th:only-of-type {\n",
       "        vertical-align: middle;\n",
       "    }\n",
       "\n",
       "    .dataframe tbody tr th {\n",
       "        vertical-align: top;\n",
       "    }\n",
       "\n",
       "    .dataframe thead th {\n",
       "        text-align: right;\n",
       "    }\n",
       "</style>\n",
       "<table border=\"1\" class=\"dataframe\">\n",
       "  <thead>\n",
       "    <tr style=\"text-align: right;\">\n",
       "      <th></th>\n",
       "      <th>market_cap</th>\n",
       "      <th>enterprise_value</th>\n",
       "      <th>total_revenue</th>\n",
       "      <th>profit_margins</th>\n",
       "      <th>operating_margins</th>\n",
       "      <th>dividend_rate</th>\n",
       "      <th>beta</th>\n",
       "      <th>ebitda</th>\n",
       "      <th>trailing_pe</th>\n",
       "      <th>forward_pe</th>\n",
       "      <th>volume</th>\n",
       "      <th>average_volume</th>\n",
       "      <th>fifty_two_week_low</th>\n",
       "      <th>fifty_two_week_high</th>\n",
       "      <th>price_to_sales_trailing_12_months</th>\n",
       "      <th>fifty_day_average</th>\n",
       "      <th>two_hundred_day_average</th>\n",
       "      <th>trailing_annual_dividend_rate</th>\n",
       "      <th>trailing_annual_dividend_yield</th>\n",
       "      <th>book_value</th>\n",
       "      <th>price_to_book</th>\n",
       "      <th>total_cash</th>\n",
       "      <th>total_cash_per_share</th>\n",
       "      <th>total_debt</th>\n",
       "      <th>earnings_quarterly_growth</th>\n",
       "      <th>revenue_growth</th>\n",
       "      <th>gross_margins</th>\n",
       "      <th>ebitda_margins</th>\n",
       "      <th>return_on_assets</th>\n",
       "      <th>return_on_equity</th>\n",
       "      <th>gross_profits</th>\n",
       "      <th>total_assets_approx</th>\n",
       "      <th>asset_turnover</th>\n",
       "      <th>earnings_growth_rate</th>\n",
       "      <th>dividend_payout_ratio</th>\n",
       "      <th>equity</th>\n",
       "      <th>debt_to_equity</th>\n",
       "      <th>roi</th>\n",
       "      <th>roce</th>\n",
       "    </tr>\n",
       "  </thead>\n",
       "  <tbody>\n",
       "    <tr>\n",
       "      <th>0</th>\n",
       "      <td>4.265434e+09</td>\n",
       "      <td>1.477339e+10</td>\n",
       "      <td>1.941779e+09</td>\n",
       "      <td>0.41576</td>\n",
       "      <td>0.38826</td>\n",
       "      <td>1.56</td>\n",
       "      <td>0.679</td>\n",
       "      <td>0.000000e+00</td>\n",
       "      <td>4.069768</td>\n",
       "      <td>4.706601</td>\n",
       "      <td>92300.0</td>\n",
       "      <td>747165.0</td>\n",
       "      <td>15.85</td>\n",
       "      <td>21.99</td>\n",
       "      <td>2.196663</td>\n",
       "      <td>19.3382</td>\n",
       "      <td>18.14667</td>\n",
       "      <td>1.550</td>\n",
       "      <td>0.080687</td>\n",
       "      <td>24.518</td>\n",
       "      <td>0.785138</td>\n",
       "      <td>7.774306e+09</td>\n",
       "      <td>35.162</td>\n",
       "      <td>1.829846e+10</td>\n",
       "      <td>0.001</td>\n",
       "      <td>0.003</td>\n",
       "      <td>0.00000</td>\n",
       "      <td>0.00000</td>\n",
       "      <td>0.01530</td>\n",
       "      <td>0.15680</td>\n",
       "      <td>1.973086e+09</td>\n",
       "      <td>7.774306e+09</td>\n",
       "      <td>0.249769</td>\n",
       "      <td>0.1</td>\n",
       "      <td>155000.000000</td>\n",
       "      <td>-1.052416e+10</td>\n",
       "      <td>-1.738710</td>\n",
       "      <td>0.131438</td>\n",
       "      <td>0.000000</td>\n",
       "    </tr>\n",
       "    <tr>\n",
       "      <th>1</th>\n",
       "      <td>2.466480e+09</td>\n",
       "      <td>2.912933e+09</td>\n",
       "      <td>1.249437e+09</td>\n",
       "      <td>0.21493</td>\n",
       "      <td>0.25031</td>\n",
       "      <td>3.21</td>\n",
       "      <td>0.432</td>\n",
       "      <td>2.648920e+08</td>\n",
       "      <td>9.450382</td>\n",
       "      <td>6.332481</td>\n",
       "      <td>298100.0</td>\n",
       "      <td>666692.0</td>\n",
       "      <td>22.29</td>\n",
       "      <td>32.71</td>\n",
       "      <td>1.974073</td>\n",
       "      <td>27.0106</td>\n",
       "      <td>25.58635</td>\n",
       "      <td>3.240</td>\n",
       "      <td>0.132029</td>\n",
       "      <td>22.237</td>\n",
       "      <td>1.113460</td>\n",
       "      <td>3.838370e+08</td>\n",
       "      <td>3.885</td>\n",
       "      <td>8.720750e+08</td>\n",
       "      <td>6.801</td>\n",
       "      <td>0.671</td>\n",
       "      <td>0.25252</td>\n",
       "      <td>0.21201</td>\n",
       "      <td>0.03839</td>\n",
       "      <td>0.12170</td>\n",
       "      <td>3.155040e+08</td>\n",
       "      <td>3.838370e+08</td>\n",
       "      <td>3.255124</td>\n",
       "      <td>680.1</td>\n",
       "      <td>47.640053</td>\n",
       "      <td>-4.882380e+08</td>\n",
       "      <td>-1.786168</td>\n",
       "      <td>0.428927</td>\n",
       "      <td>0.079343</td>\n",
       "    </tr>\n",
       "    <tr>\n",
       "      <th>2</th>\n",
       "      <td>4.228882e+10</td>\n",
       "      <td>5.524305e+10</td>\n",
       "      <td>1.031746e+10</td>\n",
       "      <td>0.07639</td>\n",
       "      <td>0.33544</td>\n",
       "      <td>0.07</td>\n",
       "      <td>0.227</td>\n",
       "      <td>4.522541e+09</td>\n",
       "      <td>54.309525</td>\n",
       "      <td>21.723810</td>\n",
       "      <td>5733400.0</td>\n",
       "      <td>14644522.0</td>\n",
       "      <td>16.21</td>\n",
       "      <td>24.44</td>\n",
       "      <td>4.098764</td>\n",
       "      <td>22.5852</td>\n",
       "      <td>20.95235</td>\n",
       "      <td>0.066</td>\n",
       "      <td>0.002993</td>\n",
       "      <td>8.334</td>\n",
       "      <td>2.736981</td>\n",
       "      <td>7.656040e+09</td>\n",
       "      <td>4.132</td>\n",
       "      <td>2.184320e+10</td>\n",
       "      <td>3.935</td>\n",
       "      <td>0.121</td>\n",
       "      <td>0.34493</td>\n",
       "      <td>0.43834</td>\n",
       "      <td>0.04252</td>\n",
       "      <td>0.05163</td>\n",
       "      <td>3.146360e+09</td>\n",
       "      <td>7.656040e+09</td>\n",
       "      <td>1.347623</td>\n",
       "      <td>393.5</td>\n",
       "      <td>1.677255</td>\n",
       "      <td>-1.418716e+10</td>\n",
       "      <td>-1.539646</td>\n",
       "      <td>0.186765</td>\n",
       "      <td>0.070519</td>\n",
       "    </tr>\n",
       "    <tr>\n",
       "      <th>3</th>\n",
       "      <td>5.309793e+09</td>\n",
       "      <td>6.482982e+09</td>\n",
       "      <td>4.022153e+09</td>\n",
       "      <td>-0.05671</td>\n",
       "      <td>-0.06434</td>\n",
       "      <td>0.40</td>\n",
       "      <td>0.571</td>\n",
       "      <td>-1.980000e+05</td>\n",
       "      <td>0.000000</td>\n",
       "      <td>0.000000</td>\n",
       "      <td>1100.0</td>\n",
       "      <td>3953.0</td>\n",
       "      <td>7.27</td>\n",
       "      <td>17.80</td>\n",
       "      <td>1.320137</td>\n",
       "      <td>8.7146</td>\n",
       "      <td>9.63540</td>\n",
       "      <td>0.000</td>\n",
       "      <td>0.000000</td>\n",
       "      <td>7.867</td>\n",
       "      <td>1.008008</td>\n",
       "      <td>4.142880e+08</td>\n",
       "      <td>0.614</td>\n",
       "      <td>1.550341e+09</td>\n",
       "      <td>0.000</td>\n",
       "      <td>-0.127</td>\n",
       "      <td>0.43246</td>\n",
       "      <td>-0.00005</td>\n",
       "      <td>-0.00910</td>\n",
       "      <td>-0.04153</td>\n",
       "      <td>1.968303e+09</td>\n",
       "      <td>4.142880e+08</td>\n",
       "      <td>9.708591</td>\n",
       "      <td>0.0</td>\n",
       "      <td>0.000000</td>\n",
       "      <td>-1.136053e+09</td>\n",
       "      <td>-1.364673</td>\n",
       "      <td>0.620417</td>\n",
       "      <td>-0.000029</td>\n",
       "    </tr>\n",
       "    <tr>\n",
       "      <th>4</th>\n",
       "      <td>5.350758e+09</td>\n",
       "      <td>6.395236e+09</td>\n",
       "      <td>4.022153e+09</td>\n",
       "      <td>-0.05671</td>\n",
       "      <td>-0.06434</td>\n",
       "      <td>0.43</td>\n",
       "      <td>0.571</td>\n",
       "      <td>-1.980000e+05</td>\n",
       "      <td>0.000000</td>\n",
       "      <td>14.555555</td>\n",
       "      <td>1132100.0</td>\n",
       "      <td>5605825.0</td>\n",
       "      <td>6.81</td>\n",
       "      <td>22.51</td>\n",
       "      <td>1.330322</td>\n",
       "      <td>8.3228</td>\n",
       "      <td>9.27290</td>\n",
       "      <td>0.000</td>\n",
       "      <td>0.000000</td>\n",
       "      <td>7.867</td>\n",
       "      <td>0.999110</td>\n",
       "      <td>4.142880e+08</td>\n",
       "      <td>0.614</td>\n",
       "      <td>1.550341e+09</td>\n",
       "      <td>0.000</td>\n",
       "      <td>-0.127</td>\n",
       "      <td>0.43246</td>\n",
       "      <td>-0.00005</td>\n",
       "      <td>-0.00910</td>\n",
       "      <td>-0.04153</td>\n",
       "      <td>1.968303e+09</td>\n",
       "      <td>4.142880e+08</td>\n",
       "      <td>9.708591</td>\n",
       "      <td>0.0</td>\n",
       "      <td>0.000000</td>\n",
       "      <td>-1.136053e+09</td>\n",
       "      <td>-1.364673</td>\n",
       "      <td>0.628930</td>\n",
       "      <td>-0.000029</td>\n",
       "    </tr>\n",
       "  </tbody>\n",
       "</table>\n",
       "</div>"
      ],
      "text/plain": [
       "     market_cap  enterprise_value  total_revenue  profit_margins  \\\n",
       "0  4.265434e+09      1.477339e+10   1.941779e+09         0.41576   \n",
       "1  2.466480e+09      2.912933e+09   1.249437e+09         0.21493   \n",
       "2  4.228882e+10      5.524305e+10   1.031746e+10         0.07639   \n",
       "3  5.309793e+09      6.482982e+09   4.022153e+09        -0.05671   \n",
       "4  5.350758e+09      6.395236e+09   4.022153e+09        -0.05671   \n",
       "\n",
       "   operating_margins  dividend_rate   beta        ebitda  trailing_pe  \\\n",
       "0            0.38826           1.56  0.679  0.000000e+00     4.069768   \n",
       "1            0.25031           3.21  0.432  2.648920e+08     9.450382   \n",
       "2            0.33544           0.07  0.227  4.522541e+09    54.309525   \n",
       "3           -0.06434           0.40  0.571 -1.980000e+05     0.000000   \n",
       "4           -0.06434           0.43  0.571 -1.980000e+05     0.000000   \n",
       "\n",
       "   forward_pe     volume  average_volume  fifty_two_week_low  \\\n",
       "0    4.706601    92300.0        747165.0               15.85   \n",
       "1    6.332481   298100.0        666692.0               22.29   \n",
       "2   21.723810  5733400.0      14644522.0               16.21   \n",
       "3    0.000000     1100.0          3953.0                7.27   \n",
       "4   14.555555  1132100.0       5605825.0                6.81   \n",
       "\n",
       "   fifty_two_week_high  price_to_sales_trailing_12_months  fifty_day_average  \\\n",
       "0                21.99                           2.196663            19.3382   \n",
       "1                32.71                           1.974073            27.0106   \n",
       "2                24.44                           4.098764            22.5852   \n",
       "3                17.80                           1.320137             8.7146   \n",
       "4                22.51                           1.330322             8.3228   \n",
       "\n",
       "   two_hundred_day_average  trailing_annual_dividend_rate  \\\n",
       "0                 18.14667                          1.550   \n",
       "1                 25.58635                          3.240   \n",
       "2                 20.95235                          0.066   \n",
       "3                  9.63540                          0.000   \n",
       "4                  9.27290                          0.000   \n",
       "\n",
       "   trailing_annual_dividend_yield  book_value  price_to_book    total_cash  \\\n",
       "0                        0.080687      24.518       0.785138  7.774306e+09   \n",
       "1                        0.132029      22.237       1.113460  3.838370e+08   \n",
       "2                        0.002993       8.334       2.736981  7.656040e+09   \n",
       "3                        0.000000       7.867       1.008008  4.142880e+08   \n",
       "4                        0.000000       7.867       0.999110  4.142880e+08   \n",
       "\n",
       "   total_cash_per_share    total_debt  earnings_quarterly_growth  \\\n",
       "0                35.162  1.829846e+10                      0.001   \n",
       "1                 3.885  8.720750e+08                      6.801   \n",
       "2                 4.132  2.184320e+10                      3.935   \n",
       "3                 0.614  1.550341e+09                      0.000   \n",
       "4                 0.614  1.550341e+09                      0.000   \n",
       "\n",
       "   revenue_growth  gross_margins  ebitda_margins  return_on_assets  \\\n",
       "0           0.003        0.00000         0.00000           0.01530   \n",
       "1           0.671        0.25252         0.21201           0.03839   \n",
       "2           0.121        0.34493         0.43834           0.04252   \n",
       "3          -0.127        0.43246        -0.00005          -0.00910   \n",
       "4          -0.127        0.43246        -0.00005          -0.00910   \n",
       "\n",
       "   return_on_equity  gross_profits  total_assets_approx  asset_turnover  \\\n",
       "0           0.15680   1.973086e+09         7.774306e+09        0.249769   \n",
       "1           0.12170   3.155040e+08         3.838370e+08        3.255124   \n",
       "2           0.05163   3.146360e+09         7.656040e+09        1.347623   \n",
       "3          -0.04153   1.968303e+09         4.142880e+08        9.708591   \n",
       "4          -0.04153   1.968303e+09         4.142880e+08        9.708591   \n",
       "\n",
       "   earnings_growth_rate  dividend_payout_ratio        equity  debt_to_equity  \\\n",
       "0                   0.1          155000.000000 -1.052416e+10       -1.738710   \n",
       "1                 680.1              47.640053 -4.882380e+08       -1.786168   \n",
       "2                 393.5               1.677255 -1.418716e+10       -1.539646   \n",
       "3                   0.0               0.000000 -1.136053e+09       -1.364673   \n",
       "4                   0.0               0.000000 -1.136053e+09       -1.364673   \n",
       "\n",
       "        roi      roce  \n",
       "0  0.131438  0.000000  \n",
       "1  0.428927  0.079343  \n",
       "2  0.186765  0.070519  \n",
       "3  0.620417 -0.000029  \n",
       "4  0.628930 -0.000029  "
      ]
     },
     "execution_count": 7,
     "metadata": {},
     "output_type": "execute_result"
    }
   ],
   "source": [
    "df_fundamentals_numeric_cols = df_fundamentals_book.select_dtypes(include=[\"int\", \"number\", \"float64\"])\n",
    "df_fundamentals_numeric_cols.head(5)"
   ]
  },
  {
   "cell_type": "code",
   "execution_count": 8,
   "metadata": {},
   "outputs": [
    {
     "data": {
      "text/html": [
       "<div>\n",
       "<style scoped>\n",
       "    .dataframe tbody tr th:only-of-type {\n",
       "        vertical-align: middle;\n",
       "    }\n",
       "\n",
       "    .dataframe tbody tr th {\n",
       "        vertical-align: top;\n",
       "    }\n",
       "\n",
       "    .dataframe thead th {\n",
       "        text-align: right;\n",
       "    }\n",
       "</style>\n",
       "<table border=\"1\" class=\"dataframe\">\n",
       "  <thead>\n",
       "    <tr style=\"text-align: right;\">\n",
       "      <th></th>\n",
       "      <th>ticker</th>\n",
       "      <th>long_name</th>\n",
       "      <th>sector</th>\n",
       "      <th>industry</th>\n",
       "      <th>market_cap</th>\n",
       "      <th>enterprise_value</th>\n",
       "      <th>total_revenue</th>\n",
       "      <th>profit_margins</th>\n",
       "      <th>operating_margins</th>\n",
       "      <th>dividend_rate</th>\n",
       "      <th>beta</th>\n",
       "      <th>ebitda</th>\n",
       "      <th>trailing_pe</th>\n",
       "      <th>forward_pe</th>\n",
       "      <th>volume</th>\n",
       "      <th>average_volume</th>\n",
       "      <th>fifty_two_week_low</th>\n",
       "      <th>fifty_two_week_high</th>\n",
       "      <th>price_to_sales_trailing_12_months</th>\n",
       "      <th>fifty_day_average</th>\n",
       "      <th>two_hundred_day_average</th>\n",
       "      <th>trailing_annual_dividend_rate</th>\n",
       "      <th>trailing_annual_dividend_yield</th>\n",
       "      <th>book_value</th>\n",
       "      <th>price_to_book</th>\n",
       "      <th>total_cash</th>\n",
       "      <th>total_cash_per_share</th>\n",
       "      <th>total_debt</th>\n",
       "      <th>earnings_quarterly_growth</th>\n",
       "      <th>revenue_growth</th>\n",
       "      <th>gross_margins</th>\n",
       "      <th>ebitda_margins</th>\n",
       "      <th>return_on_assets</th>\n",
       "      <th>return_on_equity</th>\n",
       "      <th>gross_profits</th>\n",
       "      <th>total_assets_approx</th>\n",
       "      <th>asset_turnover</th>\n",
       "      <th>earnings_growth_rate</th>\n",
       "      <th>dividend_payout_ratio</th>\n",
       "      <th>equity</th>\n",
       "      <th>debt_to_equity</th>\n",
       "      <th>roi</th>\n",
       "      <th>roce</th>\n",
       "    </tr>\n",
       "  </thead>\n",
       "  <tbody>\n",
       "    <tr>\n",
       "      <th>0</th>\n",
       "      <td>PETR3.SA</td>\n",
       "      <td>Petróleo Brasileiro S.A. - Petrobras</td>\n",
       "      <td>Energy</td>\n",
       "      <td>Oil &amp; Gas Integrated</td>\n",
       "      <td>4.832119e+11</td>\n",
       "      <td>7.293640e+11</td>\n",
       "      <td>5.815630e+11</td>\n",
       "      <td>0.26889</td>\n",
       "      <td>0.39067</td>\n",
       "      <td>9.28</td>\n",
       "      <td>1.097</td>\n",
       "      <td>2.910870e+11</td>\n",
       "      <td>2.914199</td>\n",
       "      <td>4.821608</td>\n",
       "      <td>2993300.0</td>\n",
       "      <td>13234123.0</td>\n",
       "      <td>23.61</td>\n",
       "      <td>41.86</td>\n",
       "      <td>0.830885</td>\n",
       "      <td>37.0388</td>\n",
       "      <td>31.98075</td>\n",
       "      <td>9.657</td>\n",
       "      <td>0.247298</td>\n",
       "      <td>28.417</td>\n",
       "      <td>1.350600</td>\n",
       "      <td>6.098500e+10</td>\n",
       "      <td>4.675</td>\n",
       "      <td>2.793750e+11</td>\n",
       "      <td>-0.470</td>\n",
       "      <td>-0.334</td>\n",
       "      <td>0.50633</td>\n",
       "      <td>0.50053</td>\n",
       "      <td>0.15427</td>\n",
       "      <td>0.39988</td>\n",
       "      <td>3.341000e+11</td>\n",
       "      <td>6.098500e+10</td>\n",
       "      <td>9.536164</td>\n",
       "      <td>-47.0</td>\n",
       "      <td>0.000000</td>\n",
       "      <td>-2.183900e+11</td>\n",
       "      <td>-1.279248</td>\n",
       "      <td>0.797356</td>\n",
       "      <td>0.381710</td>\n",
       "    </tr>\n",
       "    <tr>\n",
       "      <th>1</th>\n",
       "      <td>VALE3.SA</td>\n",
       "      <td>Vale S.A.</td>\n",
       "      <td>Basic Materials</td>\n",
       "      <td>Other Industrial Metals &amp; Mining</td>\n",
       "      <td>2.776947e+11</td>\n",
       "      <td>3.399071e+11</td>\n",
       "      <td>2.064140e+11</td>\n",
       "      <td>0.27585</td>\n",
       "      <td>0.33672</td>\n",
       "      <td>3.84</td>\n",
       "      <td>0.821</td>\n",
       "      <td>8.536400e+10</td>\n",
       "      <td>5.319043</td>\n",
       "      <td>5.421849</td>\n",
       "      <td>4387500.0</td>\n",
       "      <td>25978987.0</td>\n",
       "      <td>61.00</td>\n",
       "      <td>98.29</td>\n",
       "      <td>1.345329</td>\n",
       "      <td>66.0796</td>\n",
       "      <td>73.07495</td>\n",
       "      <td>4.037</td>\n",
       "      <td>0.063147</td>\n",
       "      <td>43.051</td>\n",
       "      <td>1.498688</td>\n",
       "      <td>2.423800e+10</td>\n",
       "      <td>5.580</td>\n",
       "      <td>7.934600e+10</td>\n",
       "      <td>-0.848</td>\n",
       "      <td>-0.131</td>\n",
       "      <td>0.39091</td>\n",
       "      <td>0.41356</td>\n",
       "      <td>0.09975</td>\n",
       "      <td>0.29588</td>\n",
       "      <td>1.023130e+11</td>\n",
       "      <td>2.423800e+10</td>\n",
       "      <td>8.516132</td>\n",
       "      <td>-84.8</td>\n",
       "      <td>0.000000</td>\n",
       "      <td>-5.510800e+10</td>\n",
       "      <td>-1.439827</td>\n",
       "      <td>0.607266</td>\n",
       "      <td>0.239088</td>\n",
       "    </tr>\n",
       "    <tr>\n",
       "      <th>2</th>\n",
       "      <td>ITUB4.SA</td>\n",
       "      <td>Itaú Unibanco Holding S.A.</td>\n",
       "      <td>Financial Services</td>\n",
       "      <td>Banks - Regional</td>\n",
       "      <td>2.486832e+11</td>\n",
       "      <td>7.077875e+11</td>\n",
       "      <td>1.189380e+11</td>\n",
       "      <td>0.26661</td>\n",
       "      <td>0.35896</td>\n",
       "      <td>1.50</td>\n",
       "      <td>0.499</td>\n",
       "      <td>0.000000e+00</td>\n",
       "      <td>8.557632</td>\n",
       "      <td>6.867500</td>\n",
       "      <td>10480300.0</td>\n",
       "      <td>24528203.0</td>\n",
       "      <td>22.62</td>\n",
       "      <td>31.29</td>\n",
       "      <td>2.090864</td>\n",
       "      <td>27.2770</td>\n",
       "      <td>26.66895</td>\n",
       "      <td>0.503</td>\n",
       "      <td>0.018602</td>\n",
       "      <td>18.250</td>\n",
       "      <td>1.505205</td>\n",
       "      <td>3.943250e+11</td>\n",
       "      <td>40.237</td>\n",
       "      <td>8.270340e+11</td>\n",
       "      <td>0.181</td>\n",
       "      <td>0.135</td>\n",
       "      <td>0.00000</td>\n",
       "      <td>0.00000</td>\n",
       "      <td>0.01419</td>\n",
       "      <td>0.18295</td>\n",
       "      <td>1.155700e+11</td>\n",
       "      <td>3.943250e+11</td>\n",
       "      <td>0.301624</td>\n",
       "      <td>18.1</td>\n",
       "      <td>277.900552</td>\n",
       "      <td>-4.327090e+11</td>\n",
       "      <td>-1.911294</td>\n",
       "      <td>0.168042</td>\n",
       "      <td>0.000000</td>\n",
       "    </tr>\n",
       "    <tr>\n",
       "      <th>3</th>\n",
       "      <td>ABEV3.SA</td>\n",
       "      <td>Ambev S.A.</td>\n",
       "      <td>Consumer Defensive</td>\n",
       "      <td>Beverages - Brewers</td>\n",
       "      <td>2.007233e+11</td>\n",
       "      <td>1.888459e+11</td>\n",
       "      <td>8.271054e+10</td>\n",
       "      <td>0.17263</td>\n",
       "      <td>0.18666</td>\n",
       "      <td>0.76</td>\n",
       "      <td>0.604</td>\n",
       "      <td>2.225154e+10</td>\n",
       "      <td>14.166667</td>\n",
       "      <td>12.750000</td>\n",
       "      <td>8618800.0</td>\n",
       "      <td>24680549.0</td>\n",
       "      <td>12.33</td>\n",
       "      <td>16.88</td>\n",
       "      <td>2.426816</td>\n",
       "      <td>13.4434</td>\n",
       "      <td>14.10370</td>\n",
       "      <td>0.762</td>\n",
       "      <td>0.061254</td>\n",
       "      <td>5.403</td>\n",
       "      <td>2.359800</td>\n",
       "      <td>1.243052e+10</td>\n",
       "      <td>0.789</td>\n",
       "      <td>4.096231e+09</td>\n",
       "      <td>-0.157</td>\n",
       "      <td>0.051</td>\n",
       "      <td>0.49945</td>\n",
       "      <td>0.26903</td>\n",
       "      <td>0.08271</td>\n",
       "      <td>0.16919</td>\n",
       "      <td>3.928676e+10</td>\n",
       "      <td>1.243052e+10</td>\n",
       "      <td>6.653829</td>\n",
       "      <td>-15.7</td>\n",
       "      <td>0.000000</td>\n",
       "      <td>8.334286e+09</td>\n",
       "      <td>0.491492</td>\n",
       "      <td>0.437979</td>\n",
       "      <td>0.108640</td>\n",
       "    </tr>\n",
       "    <tr>\n",
       "      <th>4</th>\n",
       "      <td>BPAC5.SA</td>\n",
       "      <td>Banco BTG Pactual S.A.</td>\n",
       "      <td>Financial Services</td>\n",
       "      <td>Capital Markets</td>\n",
       "      <td>1.483266e+11</td>\n",
       "      <td>4.345411e+10</td>\n",
       "      <td>2.775135e+10</td>\n",
       "      <td>0.30292</td>\n",
       "      <td>0.34960</td>\n",
       "      <td>0.35</td>\n",
       "      <td>1.291</td>\n",
       "      <td>0.000000e+00</td>\n",
       "      <td>11.260274</td>\n",
       "      <td>0.000000</td>\n",
       "      <td>2600.0</td>\n",
       "      <td>6184.0</td>\n",
       "      <td>4.55</td>\n",
       "      <td>9.08</td>\n",
       "      <td>5.344842</td>\n",
       "      <td>8.3650</td>\n",
       "      <td>6.87690</td>\n",
       "      <td>0.000</td>\n",
       "      <td>0.000000</td>\n",
       "      <td>9.808</td>\n",
       "      <td>0.838091</td>\n",
       "      <td>2.211434e+11</td>\n",
       "      <td>46.436</td>\n",
       "      <td>2.207205e+11</td>\n",
       "      <td>0.181</td>\n",
       "      <td>0.021</td>\n",
       "      <td>0.00000</td>\n",
       "      <td>0.00000</td>\n",
       "      <td>0.01910</td>\n",
       "      <td>0.18284</td>\n",
       "      <td>2.663930e+10</td>\n",
       "      <td>2.211434e+11</td>\n",
       "      <td>0.125490</td>\n",
       "      <td>18.1</td>\n",
       "      <td>0.000000</td>\n",
       "      <td>4.229530e+08</td>\n",
       "      <td>521.855886</td>\n",
       "      <td>0.638636</td>\n",
       "      <td>0.000000</td>\n",
       "    </tr>\n",
       "  </tbody>\n",
       "</table>\n",
       "</div>"
      ],
      "text/plain": [
       "     ticker                             long_name              sector  \\\n",
       "0  PETR3.SA  Petróleo Brasileiro S.A. - Petrobras              Energy   \n",
       "1  VALE3.SA                             Vale S.A.     Basic Materials   \n",
       "2  ITUB4.SA            Itaú Unibanco Holding S.A.  Financial Services   \n",
       "3  ABEV3.SA                            Ambev S.A.  Consumer Defensive   \n",
       "4  BPAC5.SA                Banco BTG Pactual S.A.  Financial Services   \n",
       "\n",
       "                           industry    market_cap  enterprise_value  \\\n",
       "0              Oil & Gas Integrated  4.832119e+11      7.293640e+11   \n",
       "1  Other Industrial Metals & Mining  2.776947e+11      3.399071e+11   \n",
       "2                  Banks - Regional  2.486832e+11      7.077875e+11   \n",
       "3               Beverages - Brewers  2.007233e+11      1.888459e+11   \n",
       "4                   Capital Markets  1.483266e+11      4.345411e+10   \n",
       "\n",
       "   total_revenue  profit_margins  operating_margins  dividend_rate   beta  \\\n",
       "0   5.815630e+11         0.26889            0.39067           9.28  1.097   \n",
       "1   2.064140e+11         0.27585            0.33672           3.84  0.821   \n",
       "2   1.189380e+11         0.26661            0.35896           1.50  0.499   \n",
       "3   8.271054e+10         0.17263            0.18666           0.76  0.604   \n",
       "4   2.775135e+10         0.30292            0.34960           0.35  1.291   \n",
       "\n",
       "         ebitda  trailing_pe  forward_pe      volume  average_volume  \\\n",
       "0  2.910870e+11     2.914199    4.821608   2993300.0      13234123.0   \n",
       "1  8.536400e+10     5.319043    5.421849   4387500.0      25978987.0   \n",
       "2  0.000000e+00     8.557632    6.867500  10480300.0      24528203.0   \n",
       "3  2.225154e+10    14.166667   12.750000   8618800.0      24680549.0   \n",
       "4  0.000000e+00    11.260274    0.000000      2600.0          6184.0   \n",
       "\n",
       "   fifty_two_week_low  fifty_two_week_high  price_to_sales_trailing_12_months  \\\n",
       "0               23.61                41.86                           0.830885   \n",
       "1               61.00                98.29                           1.345329   \n",
       "2               22.62                31.29                           2.090864   \n",
       "3               12.33                16.88                           2.426816   \n",
       "4                4.55                 9.08                           5.344842   \n",
       "\n",
       "   fifty_day_average  two_hundred_day_average  trailing_annual_dividend_rate  \\\n",
       "0            37.0388                 31.98075                          9.657   \n",
       "1            66.0796                 73.07495                          4.037   \n",
       "2            27.2770                 26.66895                          0.503   \n",
       "3            13.4434                 14.10370                          0.762   \n",
       "4             8.3650                  6.87690                          0.000   \n",
       "\n",
       "   trailing_annual_dividend_yield  book_value  price_to_book    total_cash  \\\n",
       "0                        0.247298      28.417       1.350600  6.098500e+10   \n",
       "1                        0.063147      43.051       1.498688  2.423800e+10   \n",
       "2                        0.018602      18.250       1.505205  3.943250e+11   \n",
       "3                        0.061254       5.403       2.359800  1.243052e+10   \n",
       "4                        0.000000       9.808       0.838091  2.211434e+11   \n",
       "\n",
       "   total_cash_per_share    total_debt  earnings_quarterly_growth  \\\n",
       "0                 4.675  2.793750e+11                     -0.470   \n",
       "1                 5.580  7.934600e+10                     -0.848   \n",
       "2                40.237  8.270340e+11                      0.181   \n",
       "3                 0.789  4.096231e+09                     -0.157   \n",
       "4                46.436  2.207205e+11                      0.181   \n",
       "\n",
       "   revenue_growth  gross_margins  ebitda_margins  return_on_assets  \\\n",
       "0          -0.334        0.50633         0.50053           0.15427   \n",
       "1          -0.131        0.39091         0.41356           0.09975   \n",
       "2           0.135        0.00000         0.00000           0.01419   \n",
       "3           0.051        0.49945         0.26903           0.08271   \n",
       "4           0.021        0.00000         0.00000           0.01910   \n",
       "\n",
       "   return_on_equity  gross_profits  total_assets_approx  asset_turnover  \\\n",
       "0           0.39988   3.341000e+11         6.098500e+10        9.536164   \n",
       "1           0.29588   1.023130e+11         2.423800e+10        8.516132   \n",
       "2           0.18295   1.155700e+11         3.943250e+11        0.301624   \n",
       "3           0.16919   3.928676e+10         1.243052e+10        6.653829   \n",
       "4           0.18284   2.663930e+10         2.211434e+11        0.125490   \n",
       "\n",
       "   earnings_growth_rate  dividend_payout_ratio        equity  debt_to_equity  \\\n",
       "0                 -47.0               0.000000 -2.183900e+11       -1.279248   \n",
       "1                 -84.8               0.000000 -5.510800e+10       -1.439827   \n",
       "2                  18.1             277.900552 -4.327090e+11       -1.911294   \n",
       "3                 -15.7               0.000000  8.334286e+09        0.491492   \n",
       "4                  18.1               0.000000  4.229530e+08      521.855886   \n",
       "\n",
       "        roi      roce  \n",
       "0  0.797356  0.381710  \n",
       "1  0.607266  0.239088  \n",
       "2  0.168042  0.000000  \n",
       "3  0.437979  0.108640  \n",
       "4  0.638636  0.000000  "
      ]
     },
     "execution_count": 8,
     "metadata": {},
     "output_type": "execute_result"
    }
   ],
   "source": [
    "df_top_companies = df_fundamentals_book.nlargest(18, ['market_cap', 'dividend_rate', 'trailing_annual_dividend_yield', 'trailing_annual_dividend_rate', 'debt_to_equity', 'return_on_equity', 'trailing_pe', 'forward_pe', 'price_to_book', 'earnings_quarterly_growth']).drop_duplicates(subset='long_name', keep='first').reset_index(drop=True)\n",
    "df_top_companies.head(5)"
   ]
  },
  {
   "cell_type": "code",
   "execution_count": 9,
   "metadata": {},
   "outputs": [
    {
     "data": {
      "text/html": [
       "<div>\n",
       "<style scoped>\n",
       "    .dataframe tbody tr th:only-of-type {\n",
       "        vertical-align: middle;\n",
       "    }\n",
       "\n",
       "    .dataframe tbody tr th {\n",
       "        vertical-align: top;\n",
       "    }\n",
       "\n",
       "    .dataframe thead th {\n",
       "        text-align: right;\n",
       "    }\n",
       "</style>\n",
       "<table border=\"1\" class=\"dataframe\">\n",
       "  <thead>\n",
       "    <tr style=\"text-align: right;\">\n",
       "      <th></th>\n",
       "      <th>market_cap</th>\n",
       "      <th>enterprise_value</th>\n",
       "      <th>total_revenue</th>\n",
       "      <th>profit_margins</th>\n",
       "      <th>operating_margins</th>\n",
       "      <th>dividend_rate</th>\n",
       "      <th>beta</th>\n",
       "      <th>ebitda</th>\n",
       "      <th>trailing_pe</th>\n",
       "      <th>forward_pe</th>\n",
       "      <th>volume</th>\n",
       "      <th>average_volume</th>\n",
       "      <th>fifty_two_week_low</th>\n",
       "      <th>fifty_two_week_high</th>\n",
       "      <th>price_to_sales_trailing_12_months</th>\n",
       "      <th>fifty_day_average</th>\n",
       "      <th>two_hundred_day_average</th>\n",
       "      <th>trailing_annual_dividend_rate</th>\n",
       "      <th>trailing_annual_dividend_yield</th>\n",
       "      <th>book_value</th>\n",
       "      <th>price_to_book</th>\n",
       "      <th>total_cash</th>\n",
       "      <th>total_cash_per_share</th>\n",
       "      <th>total_debt</th>\n",
       "      <th>earnings_quarterly_growth</th>\n",
       "      <th>revenue_growth</th>\n",
       "      <th>gross_margins</th>\n",
       "      <th>ebitda_margins</th>\n",
       "      <th>return_on_assets</th>\n",
       "      <th>return_on_equity</th>\n",
       "      <th>gross_profits</th>\n",
       "      <th>total_assets_approx</th>\n",
       "      <th>asset_turnover</th>\n",
       "      <th>earnings_growth_rate</th>\n",
       "      <th>dividend_payout_ratio</th>\n",
       "      <th>equity</th>\n",
       "      <th>debt_to_equity</th>\n",
       "      <th>roi</th>\n",
       "      <th>roce</th>\n",
       "    </tr>\n",
       "  </thead>\n",
       "  <tbody>\n",
       "    <tr>\n",
       "      <th>0</th>\n",
       "      <td>4.832119e+11</td>\n",
       "      <td>7.293640e+11</td>\n",
       "      <td>5.815630e+11</td>\n",
       "      <td>0.26889</td>\n",
       "      <td>0.39067</td>\n",
       "      <td>9.28</td>\n",
       "      <td>1.097</td>\n",
       "      <td>2.910870e+11</td>\n",
       "      <td>2.914199</td>\n",
       "      <td>4.821608</td>\n",
       "      <td>2993300.0</td>\n",
       "      <td>13234123.0</td>\n",
       "      <td>23.61</td>\n",
       "      <td>41.86</td>\n",
       "      <td>0.830885</td>\n",
       "      <td>37.0388</td>\n",
       "      <td>31.98075</td>\n",
       "      <td>9.657</td>\n",
       "      <td>0.247298</td>\n",
       "      <td>28.417</td>\n",
       "      <td>1.350600</td>\n",
       "      <td>6.098500e+10</td>\n",
       "      <td>4.675</td>\n",
       "      <td>2.793750e+11</td>\n",
       "      <td>-0.470</td>\n",
       "      <td>-0.334</td>\n",
       "      <td>0.50633</td>\n",
       "      <td>0.50053</td>\n",
       "      <td>0.15427</td>\n",
       "      <td>0.39988</td>\n",
       "      <td>3.341000e+11</td>\n",
       "      <td>6.098500e+10</td>\n",
       "      <td>9.536164</td>\n",
       "      <td>-47.0</td>\n",
       "      <td>0.000000</td>\n",
       "      <td>-2.183900e+11</td>\n",
       "      <td>-1.279248</td>\n",
       "      <td>0.797356</td>\n",
       "      <td>0.381710</td>\n",
       "    </tr>\n",
       "    <tr>\n",
       "      <th>1</th>\n",
       "      <td>2.776947e+11</td>\n",
       "      <td>3.399071e+11</td>\n",
       "      <td>2.064140e+11</td>\n",
       "      <td>0.27585</td>\n",
       "      <td>0.33672</td>\n",
       "      <td>3.84</td>\n",
       "      <td>0.821</td>\n",
       "      <td>8.536400e+10</td>\n",
       "      <td>5.319043</td>\n",
       "      <td>5.421849</td>\n",
       "      <td>4387500.0</td>\n",
       "      <td>25978987.0</td>\n",
       "      <td>61.00</td>\n",
       "      <td>98.29</td>\n",
       "      <td>1.345329</td>\n",
       "      <td>66.0796</td>\n",
       "      <td>73.07495</td>\n",
       "      <td>4.037</td>\n",
       "      <td>0.063147</td>\n",
       "      <td>43.051</td>\n",
       "      <td>1.498688</td>\n",
       "      <td>2.423800e+10</td>\n",
       "      <td>5.580</td>\n",
       "      <td>7.934600e+10</td>\n",
       "      <td>-0.848</td>\n",
       "      <td>-0.131</td>\n",
       "      <td>0.39091</td>\n",
       "      <td>0.41356</td>\n",
       "      <td>0.09975</td>\n",
       "      <td>0.29588</td>\n",
       "      <td>1.023130e+11</td>\n",
       "      <td>2.423800e+10</td>\n",
       "      <td>8.516132</td>\n",
       "      <td>-84.8</td>\n",
       "      <td>0.000000</td>\n",
       "      <td>-5.510800e+10</td>\n",
       "      <td>-1.439827</td>\n",
       "      <td>0.607266</td>\n",
       "      <td>0.239088</td>\n",
       "    </tr>\n",
       "    <tr>\n",
       "      <th>2</th>\n",
       "      <td>2.486832e+11</td>\n",
       "      <td>7.077875e+11</td>\n",
       "      <td>1.189380e+11</td>\n",
       "      <td>0.26661</td>\n",
       "      <td>0.35896</td>\n",
       "      <td>1.50</td>\n",
       "      <td>0.499</td>\n",
       "      <td>0.000000e+00</td>\n",
       "      <td>8.557632</td>\n",
       "      <td>6.867500</td>\n",
       "      <td>10480300.0</td>\n",
       "      <td>24528203.0</td>\n",
       "      <td>22.62</td>\n",
       "      <td>31.29</td>\n",
       "      <td>2.090864</td>\n",
       "      <td>27.2770</td>\n",
       "      <td>26.66895</td>\n",
       "      <td>0.503</td>\n",
       "      <td>0.018602</td>\n",
       "      <td>18.250</td>\n",
       "      <td>1.505205</td>\n",
       "      <td>3.943250e+11</td>\n",
       "      <td>40.237</td>\n",
       "      <td>8.270340e+11</td>\n",
       "      <td>0.181</td>\n",
       "      <td>0.135</td>\n",
       "      <td>0.00000</td>\n",
       "      <td>0.00000</td>\n",
       "      <td>0.01419</td>\n",
       "      <td>0.18295</td>\n",
       "      <td>1.155700e+11</td>\n",
       "      <td>3.943250e+11</td>\n",
       "      <td>0.301624</td>\n",
       "      <td>18.1</td>\n",
       "      <td>277.900552</td>\n",
       "      <td>-4.327090e+11</td>\n",
       "      <td>-1.911294</td>\n",
       "      <td>0.168042</td>\n",
       "      <td>0.000000</td>\n",
       "    </tr>\n",
       "    <tr>\n",
       "      <th>3</th>\n",
       "      <td>2.007233e+11</td>\n",
       "      <td>1.888459e+11</td>\n",
       "      <td>8.271054e+10</td>\n",
       "      <td>0.17263</td>\n",
       "      <td>0.18666</td>\n",
       "      <td>0.76</td>\n",
       "      <td>0.604</td>\n",
       "      <td>2.225154e+10</td>\n",
       "      <td>14.166667</td>\n",
       "      <td>12.750000</td>\n",
       "      <td>8618800.0</td>\n",
       "      <td>24680549.0</td>\n",
       "      <td>12.33</td>\n",
       "      <td>16.88</td>\n",
       "      <td>2.426816</td>\n",
       "      <td>13.4434</td>\n",
       "      <td>14.10370</td>\n",
       "      <td>0.762</td>\n",
       "      <td>0.061254</td>\n",
       "      <td>5.403</td>\n",
       "      <td>2.359800</td>\n",
       "      <td>1.243052e+10</td>\n",
       "      <td>0.789</td>\n",
       "      <td>4.096231e+09</td>\n",
       "      <td>-0.157</td>\n",
       "      <td>0.051</td>\n",
       "      <td>0.49945</td>\n",
       "      <td>0.26903</td>\n",
       "      <td>0.08271</td>\n",
       "      <td>0.16919</td>\n",
       "      <td>3.928676e+10</td>\n",
       "      <td>1.243052e+10</td>\n",
       "      <td>6.653829</td>\n",
       "      <td>-15.7</td>\n",
       "      <td>0.000000</td>\n",
       "      <td>8.334286e+09</td>\n",
       "      <td>0.491492</td>\n",
       "      <td>0.437979</td>\n",
       "      <td>0.108640</td>\n",
       "    </tr>\n",
       "    <tr>\n",
       "      <th>4</th>\n",
       "      <td>1.483266e+11</td>\n",
       "      <td>4.345411e+10</td>\n",
       "      <td>2.775135e+10</td>\n",
       "      <td>0.30292</td>\n",
       "      <td>0.34960</td>\n",
       "      <td>0.35</td>\n",
       "      <td>1.291</td>\n",
       "      <td>0.000000e+00</td>\n",
       "      <td>11.260274</td>\n",
       "      <td>0.000000</td>\n",
       "      <td>2600.0</td>\n",
       "      <td>6184.0</td>\n",
       "      <td>4.55</td>\n",
       "      <td>9.08</td>\n",
       "      <td>5.344842</td>\n",
       "      <td>8.3650</td>\n",
       "      <td>6.87690</td>\n",
       "      <td>0.000</td>\n",
       "      <td>0.000000</td>\n",
       "      <td>9.808</td>\n",
       "      <td>0.838091</td>\n",
       "      <td>2.211434e+11</td>\n",
       "      <td>46.436</td>\n",
       "      <td>2.207205e+11</td>\n",
       "      <td>0.181</td>\n",
       "      <td>0.021</td>\n",
       "      <td>0.00000</td>\n",
       "      <td>0.00000</td>\n",
       "      <td>0.01910</td>\n",
       "      <td>0.18284</td>\n",
       "      <td>2.663930e+10</td>\n",
       "      <td>2.211434e+11</td>\n",
       "      <td>0.125490</td>\n",
       "      <td>18.1</td>\n",
       "      <td>0.000000</td>\n",
       "      <td>4.229530e+08</td>\n",
       "      <td>521.855886</td>\n",
       "      <td>0.638636</td>\n",
       "      <td>0.000000</td>\n",
       "    </tr>\n",
       "  </tbody>\n",
       "</table>\n",
       "</div>"
      ],
      "text/plain": [
       "     market_cap  enterprise_value  total_revenue  profit_margins  \\\n",
       "0  4.832119e+11      7.293640e+11   5.815630e+11         0.26889   \n",
       "1  2.776947e+11      3.399071e+11   2.064140e+11         0.27585   \n",
       "2  2.486832e+11      7.077875e+11   1.189380e+11         0.26661   \n",
       "3  2.007233e+11      1.888459e+11   8.271054e+10         0.17263   \n",
       "4  1.483266e+11      4.345411e+10   2.775135e+10         0.30292   \n",
       "\n",
       "   operating_margins  dividend_rate   beta        ebitda  trailing_pe  \\\n",
       "0            0.39067           9.28  1.097  2.910870e+11     2.914199   \n",
       "1            0.33672           3.84  0.821  8.536400e+10     5.319043   \n",
       "2            0.35896           1.50  0.499  0.000000e+00     8.557632   \n",
       "3            0.18666           0.76  0.604  2.225154e+10    14.166667   \n",
       "4            0.34960           0.35  1.291  0.000000e+00    11.260274   \n",
       "\n",
       "   forward_pe      volume  average_volume  fifty_two_week_low  \\\n",
       "0    4.821608   2993300.0      13234123.0               23.61   \n",
       "1    5.421849   4387500.0      25978987.0               61.00   \n",
       "2    6.867500  10480300.0      24528203.0               22.62   \n",
       "3   12.750000   8618800.0      24680549.0               12.33   \n",
       "4    0.000000      2600.0          6184.0                4.55   \n",
       "\n",
       "   fifty_two_week_high  price_to_sales_trailing_12_months  fifty_day_average  \\\n",
       "0                41.86                           0.830885            37.0388   \n",
       "1                98.29                           1.345329            66.0796   \n",
       "2                31.29                           2.090864            27.2770   \n",
       "3                16.88                           2.426816            13.4434   \n",
       "4                 9.08                           5.344842             8.3650   \n",
       "\n",
       "   two_hundred_day_average  trailing_annual_dividend_rate  \\\n",
       "0                 31.98075                          9.657   \n",
       "1                 73.07495                          4.037   \n",
       "2                 26.66895                          0.503   \n",
       "3                 14.10370                          0.762   \n",
       "4                  6.87690                          0.000   \n",
       "\n",
       "   trailing_annual_dividend_yield  book_value  price_to_book    total_cash  \\\n",
       "0                        0.247298      28.417       1.350600  6.098500e+10   \n",
       "1                        0.063147      43.051       1.498688  2.423800e+10   \n",
       "2                        0.018602      18.250       1.505205  3.943250e+11   \n",
       "3                        0.061254       5.403       2.359800  1.243052e+10   \n",
       "4                        0.000000       9.808       0.838091  2.211434e+11   \n",
       "\n",
       "   total_cash_per_share    total_debt  earnings_quarterly_growth  \\\n",
       "0                 4.675  2.793750e+11                     -0.470   \n",
       "1                 5.580  7.934600e+10                     -0.848   \n",
       "2                40.237  8.270340e+11                      0.181   \n",
       "3                 0.789  4.096231e+09                     -0.157   \n",
       "4                46.436  2.207205e+11                      0.181   \n",
       "\n",
       "   revenue_growth  gross_margins  ebitda_margins  return_on_assets  \\\n",
       "0          -0.334        0.50633         0.50053           0.15427   \n",
       "1          -0.131        0.39091         0.41356           0.09975   \n",
       "2           0.135        0.00000         0.00000           0.01419   \n",
       "3           0.051        0.49945         0.26903           0.08271   \n",
       "4           0.021        0.00000         0.00000           0.01910   \n",
       "\n",
       "   return_on_equity  gross_profits  total_assets_approx  asset_turnover  \\\n",
       "0           0.39988   3.341000e+11         6.098500e+10        9.536164   \n",
       "1           0.29588   1.023130e+11         2.423800e+10        8.516132   \n",
       "2           0.18295   1.155700e+11         3.943250e+11        0.301624   \n",
       "3           0.16919   3.928676e+10         1.243052e+10        6.653829   \n",
       "4           0.18284   2.663930e+10         2.211434e+11        0.125490   \n",
       "\n",
       "   earnings_growth_rate  dividend_payout_ratio        equity  debt_to_equity  \\\n",
       "0                 -47.0               0.000000 -2.183900e+11       -1.279248   \n",
       "1                 -84.8               0.000000 -5.510800e+10       -1.439827   \n",
       "2                  18.1             277.900552 -4.327090e+11       -1.911294   \n",
       "3                 -15.7               0.000000  8.334286e+09        0.491492   \n",
       "4                  18.1               0.000000  4.229530e+08      521.855886   \n",
       "\n",
       "        roi      roce  \n",
       "0  0.797356  0.381710  \n",
       "1  0.607266  0.239088  \n",
       "2  0.168042  0.000000  \n",
       "3  0.437979  0.108640  \n",
       "4  0.638636  0.000000  "
      ]
     },
     "execution_count": 9,
     "metadata": {},
     "output_type": "execute_result"
    }
   ],
   "source": [
    "df_top_companies_cols_num = df_top_companies.select_dtypes(include=[\"int\", \"number\", \"float64\"])\n",
    "df_top_companies_cols_num.head(5)"
   ]
  },
  {
   "cell_type": "markdown",
   "metadata": {},
   "source": [
    "To promote effective portfolio diversification, we refine the dataset to include only one ticker per company, choosing the 11 companies with the best financial metrics."
   ]
  },
  {
   "cell_type": "markdown",
   "metadata": {},
   "source": [
    "### Companies Analisys"
   ]
  },
  {
   "cell_type": "markdown",
   "metadata": {},
   "source": [
    "#### Coefficient of variation"
   ]
  },
  {
   "cell_type": "code",
   "execution_count": 10,
   "metadata": {},
   "outputs": [
    {
     "data": {
      "application/vnd.plotly.v1+json": {
       "config": {
        "plotlyServerURL": "https://plot.ly"
       },
       "data": [
        {
         "alignmentgroup": "True",
         "hovertemplate": "<b>%{hovertext}</b><br><br>coefficient_variation=%{x}<br>column=%{y}<extra></extra>",
         "hovertext": [
          "earnings_growth_rate",
          "earnings_quarterly_growth",
          "revenue_growth",
          "debt_to_equity",
          "dividend_payout_ratio",
          "ebitda",
          "equity",
          "dividend_rate",
          "total_revenue",
          "total_cash",
          "total_assets_approx",
          "profit_margins",
          "trailing_annual_dividend_rate",
          "roce",
          "total_debt",
          "price_to_book",
          "gross_profits",
          "total_cash_per_share",
          "trailing_annual_dividend_yield",
          "return_on_assets",
          "asset_turnover",
          "volume",
          "price_to_sales_trailing_12_months",
          "enterprise_value",
          "ebitda_margins",
          "gross_margins",
          "forward_pe",
          "trailing_pe",
          "book_value",
          "average_volume",
          "roi",
          "fifty_two_week_high",
          "market_cap",
          "fifty_two_week_low",
          "two_hundred_day_average",
          "fifty_day_average",
          "return_on_equity",
          "beta",
          "operating_margins"
         ],
         "legendgroup": "",
         "marker": {
          "color": "rgb(100, 195, 181)",
          "pattern": {
           "shape": ""
          }
         },
         "name": "",
         "offsetgroup": "",
         "orientation": "h",
         "showlegend": false,
         "text": [
          "3624%",
          "3624%",
          "601%",
          "339%",
          "238%",
          "220%",
          "149%",
          "143%",
          "137%",
          "134%",
          "134%",
          "131%",
          "130%",
          "129%",
          "125%",
          "123%",
          "122%",
          "116%",
          "108%",
          "99%",
          "95%",
          "95%",
          "94%",
          "90%",
          "87%",
          "84%",
          "79%",
          "77%",
          "75%",
          "71%",
          "68%",
          "67%",
          "65%",
          "65%",
          "64%",
          "59%",
          "59%",
          "46%",
          "35%"
         ],
         "textposition": "outside",
         "type": "bar",
         "x": [
          3624.1877962679,
          3624.187796267898,
          601.0005375126839,
          339.0889069302788,
          238.4476938419804,
          219.9124322716119,
          148.92961236506056,
          143.08871897944186,
          136.7434408667525,
          134.0670136366004,
          134.06701359716465,
          131.03520081367012,
          129.7069628812963,
          128.8584816194229,
          125.0388235882314,
          123.37106596175104,
          122.39157067784726,
          115.57096379629755,
          108.4897701121033,
          98.92347790843372,
          95.21538037603118,
          95.03888978119555,
          93.7828417662226,
          89.65260445578257,
          87.17792900426393,
          83.61665399408322,
          78.79837989137238,
          77.22831729530657,
          75.03429435113034,
          71.06376923035786,
          67.68076320874246,
          66.80864344600262,
          64.77073703638979,
          64.70147241957703,
          63.5043268198125,
          59.33318523170254,
          59.232074584126046,
          46.27968743750105,
          35.27221029899084
         ],
         "xaxis": "x",
         "y": [
          "earnings_growth_rate",
          "earnings_quarterly_growth",
          "revenue_growth",
          "debt_to_equity",
          "dividend_payout_ratio",
          "ebitda",
          "equity",
          "dividend_rate",
          "total_revenue",
          "total_cash",
          "total_assets_approx",
          "profit_margins",
          "trailing_annual_dividend_rate",
          "roce",
          "total_debt",
          "price_to_book",
          "gross_profits",
          "total_cash_per_share",
          "trailing_annual_dividend_yield",
          "return_on_assets",
          "asset_turnover",
          "volume",
          "price_to_sales_trailing_12_months",
          "enterprise_value",
          "ebitda_margins",
          "gross_margins",
          "forward_pe",
          "trailing_pe",
          "book_value",
          "average_volume",
          "roi",
          "fifty_two_week_high",
          "market_cap",
          "fifty_two_week_low",
          "two_hundred_day_average",
          "fifty_day_average",
          "return_on_equity",
          "beta",
          "operating_margins"
         ],
         "yaxis": "y"
        }
       ],
       "layout": {
        "barmode": "relative",
        "font": {
         "color": "white"
        },
        "height": 800,
        "hovermode": "y",
        "legend": {
         "tracegroupgap": 0
        },
        "template": {
         "data": {
          "bar": [
           {
            "error_x": {
             "color": "#f2f5fa"
            },
            "error_y": {
             "color": "#f2f5fa"
            },
            "marker": {
             "line": {
              "color": "rgb(17,17,17)",
              "width": 0.5
             },
             "pattern": {
              "fillmode": "overlay",
              "size": 10,
              "solidity": 0.2
             }
            },
            "type": "bar"
           }
          ],
          "barpolar": [
           {
            "marker": {
             "line": {
              "color": "rgb(17,17,17)",
              "width": 0.5
             },
             "pattern": {
              "fillmode": "overlay",
              "size": 10,
              "solidity": 0.2
             }
            },
            "type": "barpolar"
           }
          ],
          "carpet": [
           {
            "aaxis": {
             "endlinecolor": "#A2B1C6",
             "gridcolor": "#506784",
             "linecolor": "#506784",
             "minorgridcolor": "#506784",
             "startlinecolor": "#A2B1C6"
            },
            "baxis": {
             "endlinecolor": "#A2B1C6",
             "gridcolor": "#506784",
             "linecolor": "#506784",
             "minorgridcolor": "#506784",
             "startlinecolor": "#A2B1C6"
            },
            "type": "carpet"
           }
          ],
          "choropleth": [
           {
            "colorbar": {
             "outlinewidth": 0,
             "ticks": ""
            },
            "type": "choropleth"
           }
          ],
          "contour": [
           {
            "colorbar": {
             "outlinewidth": 0,
             "ticks": ""
            },
            "colorscale": [
             [
              0,
              "#0d0887"
             ],
             [
              0.1111111111111111,
              "#46039f"
             ],
             [
              0.2222222222222222,
              "#7201a8"
             ],
             [
              0.3333333333333333,
              "#9c179e"
             ],
             [
              0.4444444444444444,
              "#bd3786"
             ],
             [
              0.5555555555555556,
              "#d8576b"
             ],
             [
              0.6666666666666666,
              "#ed7953"
             ],
             [
              0.7777777777777778,
              "#fb9f3a"
             ],
             [
              0.8888888888888888,
              "#fdca26"
             ],
             [
              1,
              "#f0f921"
             ]
            ],
            "type": "contour"
           }
          ],
          "contourcarpet": [
           {
            "colorbar": {
             "outlinewidth": 0,
             "ticks": ""
            },
            "type": "contourcarpet"
           }
          ],
          "heatmap": [
           {
            "colorbar": {
             "outlinewidth": 0,
             "ticks": ""
            },
            "colorscale": [
             [
              0,
              "#0d0887"
             ],
             [
              0.1111111111111111,
              "#46039f"
             ],
             [
              0.2222222222222222,
              "#7201a8"
             ],
             [
              0.3333333333333333,
              "#9c179e"
             ],
             [
              0.4444444444444444,
              "#bd3786"
             ],
             [
              0.5555555555555556,
              "#d8576b"
             ],
             [
              0.6666666666666666,
              "#ed7953"
             ],
             [
              0.7777777777777778,
              "#fb9f3a"
             ],
             [
              0.8888888888888888,
              "#fdca26"
             ],
             [
              1,
              "#f0f921"
             ]
            ],
            "type": "heatmap"
           }
          ],
          "heatmapgl": [
           {
            "colorbar": {
             "outlinewidth": 0,
             "ticks": ""
            },
            "colorscale": [
             [
              0,
              "#0d0887"
             ],
             [
              0.1111111111111111,
              "#46039f"
             ],
             [
              0.2222222222222222,
              "#7201a8"
             ],
             [
              0.3333333333333333,
              "#9c179e"
             ],
             [
              0.4444444444444444,
              "#bd3786"
             ],
             [
              0.5555555555555556,
              "#d8576b"
             ],
             [
              0.6666666666666666,
              "#ed7953"
             ],
             [
              0.7777777777777778,
              "#fb9f3a"
             ],
             [
              0.8888888888888888,
              "#fdca26"
             ],
             [
              1,
              "#f0f921"
             ]
            ],
            "type": "heatmapgl"
           }
          ],
          "histogram": [
           {
            "marker": {
             "pattern": {
              "fillmode": "overlay",
              "size": 10,
              "solidity": 0.2
             }
            },
            "type": "histogram"
           }
          ],
          "histogram2d": [
           {
            "colorbar": {
             "outlinewidth": 0,
             "ticks": ""
            },
            "colorscale": [
             [
              0,
              "#0d0887"
             ],
             [
              0.1111111111111111,
              "#46039f"
             ],
             [
              0.2222222222222222,
              "#7201a8"
             ],
             [
              0.3333333333333333,
              "#9c179e"
             ],
             [
              0.4444444444444444,
              "#bd3786"
             ],
             [
              0.5555555555555556,
              "#d8576b"
             ],
             [
              0.6666666666666666,
              "#ed7953"
             ],
             [
              0.7777777777777778,
              "#fb9f3a"
             ],
             [
              0.8888888888888888,
              "#fdca26"
             ],
             [
              1,
              "#f0f921"
             ]
            ],
            "type": "histogram2d"
           }
          ],
          "histogram2dcontour": [
           {
            "colorbar": {
             "outlinewidth": 0,
             "ticks": ""
            },
            "colorscale": [
             [
              0,
              "#0d0887"
             ],
             [
              0.1111111111111111,
              "#46039f"
             ],
             [
              0.2222222222222222,
              "#7201a8"
             ],
             [
              0.3333333333333333,
              "#9c179e"
             ],
             [
              0.4444444444444444,
              "#bd3786"
             ],
             [
              0.5555555555555556,
              "#d8576b"
             ],
             [
              0.6666666666666666,
              "#ed7953"
             ],
             [
              0.7777777777777778,
              "#fb9f3a"
             ],
             [
              0.8888888888888888,
              "#fdca26"
             ],
             [
              1,
              "#f0f921"
             ]
            ],
            "type": "histogram2dcontour"
           }
          ],
          "mesh3d": [
           {
            "colorbar": {
             "outlinewidth": 0,
             "ticks": ""
            },
            "type": "mesh3d"
           }
          ],
          "parcoords": [
           {
            "line": {
             "colorbar": {
              "outlinewidth": 0,
              "ticks": ""
             }
            },
            "type": "parcoords"
           }
          ],
          "pie": [
           {
            "automargin": true,
            "type": "pie"
           }
          ],
          "scatter": [
           {
            "marker": {
             "line": {
              "color": "#283442"
             }
            },
            "type": "scatter"
           }
          ],
          "scatter3d": [
           {
            "line": {
             "colorbar": {
              "outlinewidth": 0,
              "ticks": ""
             }
            },
            "marker": {
             "colorbar": {
              "outlinewidth": 0,
              "ticks": ""
             }
            },
            "type": "scatter3d"
           }
          ],
          "scattercarpet": [
           {
            "marker": {
             "colorbar": {
              "outlinewidth": 0,
              "ticks": ""
             }
            },
            "type": "scattercarpet"
           }
          ],
          "scattergeo": [
           {
            "marker": {
             "colorbar": {
              "outlinewidth": 0,
              "ticks": ""
             }
            },
            "type": "scattergeo"
           }
          ],
          "scattergl": [
           {
            "marker": {
             "line": {
              "color": "#283442"
             }
            },
            "type": "scattergl"
           }
          ],
          "scattermapbox": [
           {
            "marker": {
             "colorbar": {
              "outlinewidth": 0,
              "ticks": ""
             }
            },
            "type": "scattermapbox"
           }
          ],
          "scatterpolar": [
           {
            "marker": {
             "colorbar": {
              "outlinewidth": 0,
              "ticks": ""
             }
            },
            "type": "scatterpolar"
           }
          ],
          "scatterpolargl": [
           {
            "marker": {
             "colorbar": {
              "outlinewidth": 0,
              "ticks": ""
             }
            },
            "type": "scatterpolargl"
           }
          ],
          "scatterternary": [
           {
            "marker": {
             "colorbar": {
              "outlinewidth": 0,
              "ticks": ""
             }
            },
            "type": "scatterternary"
           }
          ],
          "surface": [
           {
            "colorbar": {
             "outlinewidth": 0,
             "ticks": ""
            },
            "colorscale": [
             [
              0,
              "#0d0887"
             ],
             [
              0.1111111111111111,
              "#46039f"
             ],
             [
              0.2222222222222222,
              "#7201a8"
             ],
             [
              0.3333333333333333,
              "#9c179e"
             ],
             [
              0.4444444444444444,
              "#bd3786"
             ],
             [
              0.5555555555555556,
              "#d8576b"
             ],
             [
              0.6666666666666666,
              "#ed7953"
             ],
             [
              0.7777777777777778,
              "#fb9f3a"
             ],
             [
              0.8888888888888888,
              "#fdca26"
             ],
             [
              1,
              "#f0f921"
             ]
            ],
            "type": "surface"
           }
          ],
          "table": [
           {
            "cells": {
             "fill": {
              "color": "#506784"
             },
             "line": {
              "color": "rgb(17,17,17)"
             }
            },
            "header": {
             "fill": {
              "color": "#2a3f5f"
             },
             "line": {
              "color": "rgb(17,17,17)"
             }
            },
            "type": "table"
           }
          ]
         },
         "layout": {
          "annotationdefaults": {
           "arrowcolor": "#f2f5fa",
           "arrowhead": 0,
           "arrowwidth": 1
          },
          "autotypenumbers": "strict",
          "coloraxis": {
           "colorbar": {
            "outlinewidth": 0,
            "ticks": ""
           }
          },
          "colorscale": {
           "diverging": [
            [
             0,
             "#8e0152"
            ],
            [
             0.1,
             "#c51b7d"
            ],
            [
             0.2,
             "#de77ae"
            ],
            [
             0.3,
             "#f1b6da"
            ],
            [
             0.4,
             "#fde0ef"
            ],
            [
             0.5,
             "#f7f7f7"
            ],
            [
             0.6,
             "#e6f5d0"
            ],
            [
             0.7,
             "#b8e186"
            ],
            [
             0.8,
             "#7fbc41"
            ],
            [
             0.9,
             "#4d9221"
            ],
            [
             1,
             "#276419"
            ]
           ],
           "sequential": [
            [
             0,
             "#0d0887"
            ],
            [
             0.1111111111111111,
             "#46039f"
            ],
            [
             0.2222222222222222,
             "#7201a8"
            ],
            [
             0.3333333333333333,
             "#9c179e"
            ],
            [
             0.4444444444444444,
             "#bd3786"
            ],
            [
             0.5555555555555556,
             "#d8576b"
            ],
            [
             0.6666666666666666,
             "#ed7953"
            ],
            [
             0.7777777777777778,
             "#fb9f3a"
            ],
            [
             0.8888888888888888,
             "#fdca26"
            ],
            [
             1,
             "#f0f921"
            ]
           ],
           "sequentialminus": [
            [
             0,
             "#0d0887"
            ],
            [
             0.1111111111111111,
             "#46039f"
            ],
            [
             0.2222222222222222,
             "#7201a8"
            ],
            [
             0.3333333333333333,
             "#9c179e"
            ],
            [
             0.4444444444444444,
             "#bd3786"
            ],
            [
             0.5555555555555556,
             "#d8576b"
            ],
            [
             0.6666666666666666,
             "#ed7953"
            ],
            [
             0.7777777777777778,
             "#fb9f3a"
            ],
            [
             0.8888888888888888,
             "#fdca26"
            ],
            [
             1,
             "#f0f921"
            ]
           ]
          },
          "colorway": [
           "#636efa",
           "#EF553B",
           "#00cc96",
           "#ab63fa",
           "#FFA15A",
           "#19d3f3",
           "#FF6692",
           "#B6E880",
           "#FF97FF",
           "#FECB52"
          ],
          "font": {
           "color": "#f2f5fa"
          },
          "geo": {
           "bgcolor": "rgb(17,17,17)",
           "lakecolor": "rgb(17,17,17)",
           "landcolor": "rgb(17,17,17)",
           "showlakes": true,
           "showland": true,
           "subunitcolor": "#506784"
          },
          "hoverlabel": {
           "align": "left"
          },
          "hovermode": "closest",
          "mapbox": {
           "style": "dark"
          },
          "paper_bgcolor": "rgb(17,17,17)",
          "plot_bgcolor": "rgb(17,17,17)",
          "polar": {
           "angularaxis": {
            "gridcolor": "#506784",
            "linecolor": "#506784",
            "ticks": ""
           },
           "bgcolor": "rgb(17,17,17)",
           "radialaxis": {
            "gridcolor": "#506784",
            "linecolor": "#506784",
            "ticks": ""
           }
          },
          "scene": {
           "xaxis": {
            "backgroundcolor": "rgb(17,17,17)",
            "gridcolor": "#506784",
            "gridwidth": 2,
            "linecolor": "#506784",
            "showbackground": true,
            "ticks": "",
            "zerolinecolor": "#C8D4E3"
           },
           "yaxis": {
            "backgroundcolor": "rgb(17,17,17)",
            "gridcolor": "#506784",
            "gridwidth": 2,
            "linecolor": "#506784",
            "showbackground": true,
            "ticks": "",
            "zerolinecolor": "#C8D4E3"
           },
           "zaxis": {
            "backgroundcolor": "rgb(17,17,17)",
            "gridcolor": "#506784",
            "gridwidth": 2,
            "linecolor": "#506784",
            "showbackground": true,
            "ticks": "",
            "zerolinecolor": "#C8D4E3"
           }
          },
          "shapedefaults": {
           "line": {
            "color": "#f2f5fa"
           }
          },
          "sliderdefaults": {
           "bgcolor": "#C8D4E3",
           "bordercolor": "rgb(17,17,17)",
           "borderwidth": 1,
           "tickwidth": 0
          },
          "ternary": {
           "aaxis": {
            "gridcolor": "#506784",
            "linecolor": "#506784",
            "ticks": ""
           },
           "baxis": {
            "gridcolor": "#506784",
            "linecolor": "#506784",
            "ticks": ""
           },
           "bgcolor": "rgb(17,17,17)",
           "caxis": {
            "gridcolor": "#506784",
            "linecolor": "#506784",
            "ticks": ""
           }
          },
          "title": {
           "x": 0.05
          },
          "updatemenudefaults": {
           "bgcolor": "#506784",
           "borderwidth": 0
          },
          "xaxis": {
           "automargin": true,
           "gridcolor": "#283442",
           "linecolor": "#506784",
           "ticks": "",
           "title": {
            "standoff": 15
           },
           "zerolinecolor": "#283442",
           "zerolinewidth": 2
          },
          "yaxis": {
           "automargin": true,
           "gridcolor": "#283442",
           "linecolor": "#506784",
           "ticks": "",
           "title": {
            "standoff": 15
           },
           "zerolinecolor": "#283442",
           "zerolinewidth": 2
          }
         }
        },
        "title": {
         "text": "Coefficient of Variation (%)"
        },
        "xaxis": {
         "anchor": "y",
         "domain": [
          0,
          1
         ],
         "title": {
          "text": "Coefficient of Variation (Log Scale)"
         },
         "type": "log"
        },
        "yaxis": {
         "anchor": "x",
         "domain": [
          0,
          1
         ],
         "title": {
          "text": "Columns"
         }
        }
       }
      }
     },
     "metadata": {},
     "output_type": "display_data"
    }
   ],
   "source": [
    "df_fundamentals_book_cvs = ((df_top_companies_cols_num.std(ddof=1) / df_top_companies_cols_num.mean().sort_values(ascending=True)) * 100).sort_values(ascending=True).reset_index()\n",
    "df_fundamentals_book_cvs.columns = ['column', 'coefficient_variation']\n",
    "df_fundamentals_book_cvs['coefficient_variation'] = df_fundamentals_book_cvs['coefficient_variation'].abs().sort_values(ascending=True)\n",
    "df_fundamentals_book_cvs.fillna(method='ffill', inplace=True)\n",
    "df_fundamentals_book_cvs = df_fundamentals_book_cvs.sort_values(by='coefficient_variation', ascending=False)\n",
    "\n",
    "\n",
    "fig = px.bar(df_fundamentals_book_cvs, title='Coefficient of Variation (%)',y='column', x='coefficient_variation', orientation='h', color_discrete_sequence=['rgb(100, 195, 181)'],hover_name='column', height=800)\n",
    "fig.update_traces(text=[f'{x:.0f}%' for x in df_fundamentals_book_cvs['coefficient_variation']], textposition='outside')\n",
    "fig.update_layout(xaxis_title='Coefficient of Variation (%)', yaxis_title='Columns', template='plotly_dark', font=dict(color='white'), xaxis={'type':'log', 'title':'Coefficient of Variation (Log Scale)'}, hovermode='y')\n",
    "\n",
    "fig.show()"
   ]
  },
  {
   "cell_type": "markdown",
   "metadata": {},
   "source": [
    "Metrics at the top of the chart, such as ``operating_margins`` and ``beta``, show relatively lower variability, with CVs of **35%** and **46%**, respectively, suggesting that they are more stable over time or across different companies. Metrics like ``return_on_equity``, ``fifty_day_average``, and ``two_hundred_day_average`` are in the mid-range of variability, displaying CVs ranging from **59%** to **64%**.\n",
    "\n",
    "Metrics at the bottom of the chart, like ``earnings_quarterly_growth``, ``earnings_growth_rate``, and ``revenue_growth``, exhibit the highest variability, with CVs above **300%**, indicating that these metrics are subject to significant changes and may be more affected by specific events or volatile market conditions.\n",
    "\n",
    "This type of analysis is vital for investors and financial analysts, as metrics with high variability may indicate greater risk and might require additional investigation to understand the causes of volatility. Conversely, metrics with low variability might be considered more predictable and potentially more reliable for financial forecasts and assessments of stability.\n"
   ]
  },
  {
   "cell_type": "code",
   "execution_count": 11,
   "metadata": {},
   "outputs": [
    {
     "data": {
      "application/vnd.plotly.v1+json": {
       "config": {
        "plotlyServerURL": "https://plot.ly"
       },
       "data": [
        {
         "alignmentgroup": "True",
         "hovertemplate": "<b>%{hovertext}</b><br><br>coefficient_variation=%{x}<br>column=%{y}<extra></extra>",
         "hovertext": [
          "earnings_growth_rate",
          "earnings_quarterly_growth",
          "revenue_growth",
          "equity",
          "dividend_payout_ratio",
          "total_cash",
          "total_assets_approx",
          "ebitda",
          "total_debt",
          "roce",
          "total_cash_per_share",
          "trailing_annual_dividend_rate",
          "dividend_rate",
          "return_on_assets",
          "asset_turnover",
          "volume",
          "enterprise_value",
          "ebitda_margins",
          "gross_margins",
          "gross_profits",
          "total_revenue",
          "book_value",
          "average_volume",
          "roi",
          "trailing_pe",
          "two_hundred_day_average",
          "trailing_annual_dividend_yield",
          "forward_pe",
          "price_to_sales_trailing_12_months",
          "fifty_day_average",
          "return_on_equity",
          "debt_to_equity",
          "fifty_two_week_high",
          "fifty_two_week_low",
          "market_cap",
          "profit_margins",
          "price_to_book",
          "operating_margins",
          "beta"
         ],
         "legendgroup": "",
         "marker": {
          "color": "rgb(100, 195, 181)",
          "pattern": {
           "shape": ""
          }
         },
         "name": "",
         "offsetgroup": "",
         "orientation": "h",
         "showlegend": false,
         "text": [
          "3624%",
          "3624%",
          "601%",
          "148%",
          "132%",
          "132%",
          "132%",
          "127%",
          "125%",
          "123%",
          "116%",
          "106%",
          "104%",
          "99%",
          "95%",
          "95%",
          "90%",
          "87%",
          "84%",
          "82%",
          "80%",
          "75%",
          "71%",
          "68%",
          "67%",
          "64%",
          "63%",
          "60%",
          "60%",
          "59%",
          "59%",
          "59%",
          "53%",
          "52%",
          "45%",
          "45%",
          "39%",
          "35%",
          "27%"
         ],
         "textposition": "outside",
         "type": "bar",
         "x": [
          3624.1877962679,
          3624.187796267898,
          601.0005375126839,
          148.42275129409143,
          132.19148870362142,
          131.93270134953423,
          131.93270129230018,
          126.66311558763212,
          125.0388235882314,
          123.23136631554735,
          115.57096379629755,
          106.35092756298911,
          103.91466419634072,
          98.92347790843372,
          95.21538037603118,
          95.03888978119555,
          89.65260445578257,
          87.17792900426393,
          83.61665399408322,
          82.17490253254411,
          79.70490099783444,
          75.03429435113034,
          71.06376923035786,
          67.68076320874246,
          67.41775646991489,
          63.5043268198125,
          62.679215056092296,
          60.05672398097316,
          60.029381984196206,
          59.33318523170254,
          59.232074584126046,
          58.50933723871097,
          52.63577620913582,
          52.43300387163742,
          45.0108661127541,
          45.007749267963874,
          39.40163519184098,
          35.27221029899084,
          26.5805511192518
         ],
         "xaxis": "x",
         "y": [
          "earnings_growth_rate",
          "earnings_quarterly_growth",
          "revenue_growth",
          "equity",
          "dividend_payout_ratio",
          "total_cash",
          "total_assets_approx",
          "ebitda",
          "total_debt",
          "roce",
          "total_cash_per_share",
          "trailing_annual_dividend_rate",
          "dividend_rate",
          "return_on_assets",
          "asset_turnover",
          "volume",
          "enterprise_value",
          "ebitda_margins",
          "gross_margins",
          "gross_profits",
          "total_revenue",
          "book_value",
          "average_volume",
          "roi",
          "trailing_pe",
          "two_hundred_day_average",
          "trailing_annual_dividend_yield",
          "forward_pe",
          "price_to_sales_trailing_12_months",
          "fifty_day_average",
          "return_on_equity",
          "debt_to_equity",
          "fifty_two_week_high",
          "fifty_two_week_low",
          "market_cap",
          "profit_margins",
          "price_to_book",
          "operating_margins",
          "beta"
         ],
         "yaxis": "y"
        }
       ],
       "layout": {
        "barmode": "relative",
        "font": {
         "color": "white"
        },
        "height": 800,
        "hovermode": "y",
        "legend": {
         "tracegroupgap": 0
        },
        "template": {
         "data": {
          "bar": [
           {
            "error_x": {
             "color": "#f2f5fa"
            },
            "error_y": {
             "color": "#f2f5fa"
            },
            "marker": {
             "line": {
              "color": "rgb(17,17,17)",
              "width": 0.5
             },
             "pattern": {
              "fillmode": "overlay",
              "size": 10,
              "solidity": 0.2
             }
            },
            "type": "bar"
           }
          ],
          "barpolar": [
           {
            "marker": {
             "line": {
              "color": "rgb(17,17,17)",
              "width": 0.5
             },
             "pattern": {
              "fillmode": "overlay",
              "size": 10,
              "solidity": 0.2
             }
            },
            "type": "barpolar"
           }
          ],
          "carpet": [
           {
            "aaxis": {
             "endlinecolor": "#A2B1C6",
             "gridcolor": "#506784",
             "linecolor": "#506784",
             "minorgridcolor": "#506784",
             "startlinecolor": "#A2B1C6"
            },
            "baxis": {
             "endlinecolor": "#A2B1C6",
             "gridcolor": "#506784",
             "linecolor": "#506784",
             "minorgridcolor": "#506784",
             "startlinecolor": "#A2B1C6"
            },
            "type": "carpet"
           }
          ],
          "choropleth": [
           {
            "colorbar": {
             "outlinewidth": 0,
             "ticks": ""
            },
            "type": "choropleth"
           }
          ],
          "contour": [
           {
            "colorbar": {
             "outlinewidth": 0,
             "ticks": ""
            },
            "colorscale": [
             [
              0,
              "#0d0887"
             ],
             [
              0.1111111111111111,
              "#46039f"
             ],
             [
              0.2222222222222222,
              "#7201a8"
             ],
             [
              0.3333333333333333,
              "#9c179e"
             ],
             [
              0.4444444444444444,
              "#bd3786"
             ],
             [
              0.5555555555555556,
              "#d8576b"
             ],
             [
              0.6666666666666666,
              "#ed7953"
             ],
             [
              0.7777777777777778,
              "#fb9f3a"
             ],
             [
              0.8888888888888888,
              "#fdca26"
             ],
             [
              1,
              "#f0f921"
             ]
            ],
            "type": "contour"
           }
          ],
          "contourcarpet": [
           {
            "colorbar": {
             "outlinewidth": 0,
             "ticks": ""
            },
            "type": "contourcarpet"
           }
          ],
          "heatmap": [
           {
            "colorbar": {
             "outlinewidth": 0,
             "ticks": ""
            },
            "colorscale": [
             [
              0,
              "#0d0887"
             ],
             [
              0.1111111111111111,
              "#46039f"
             ],
             [
              0.2222222222222222,
              "#7201a8"
             ],
             [
              0.3333333333333333,
              "#9c179e"
             ],
             [
              0.4444444444444444,
              "#bd3786"
             ],
             [
              0.5555555555555556,
              "#d8576b"
             ],
             [
              0.6666666666666666,
              "#ed7953"
             ],
             [
              0.7777777777777778,
              "#fb9f3a"
             ],
             [
              0.8888888888888888,
              "#fdca26"
             ],
             [
              1,
              "#f0f921"
             ]
            ],
            "type": "heatmap"
           }
          ],
          "heatmapgl": [
           {
            "colorbar": {
             "outlinewidth": 0,
             "ticks": ""
            },
            "colorscale": [
             [
              0,
              "#0d0887"
             ],
             [
              0.1111111111111111,
              "#46039f"
             ],
             [
              0.2222222222222222,
              "#7201a8"
             ],
             [
              0.3333333333333333,
              "#9c179e"
             ],
             [
              0.4444444444444444,
              "#bd3786"
             ],
             [
              0.5555555555555556,
              "#d8576b"
             ],
             [
              0.6666666666666666,
              "#ed7953"
             ],
             [
              0.7777777777777778,
              "#fb9f3a"
             ],
             [
              0.8888888888888888,
              "#fdca26"
             ],
             [
              1,
              "#f0f921"
             ]
            ],
            "type": "heatmapgl"
           }
          ],
          "histogram": [
           {
            "marker": {
             "pattern": {
              "fillmode": "overlay",
              "size": 10,
              "solidity": 0.2
             }
            },
            "type": "histogram"
           }
          ],
          "histogram2d": [
           {
            "colorbar": {
             "outlinewidth": 0,
             "ticks": ""
            },
            "colorscale": [
             [
              0,
              "#0d0887"
             ],
             [
              0.1111111111111111,
              "#46039f"
             ],
             [
              0.2222222222222222,
              "#7201a8"
             ],
             [
              0.3333333333333333,
              "#9c179e"
             ],
             [
              0.4444444444444444,
              "#bd3786"
             ],
             [
              0.5555555555555556,
              "#d8576b"
             ],
             [
              0.6666666666666666,
              "#ed7953"
             ],
             [
              0.7777777777777778,
              "#fb9f3a"
             ],
             [
              0.8888888888888888,
              "#fdca26"
             ],
             [
              1,
              "#f0f921"
             ]
            ],
            "type": "histogram2d"
           }
          ],
          "histogram2dcontour": [
           {
            "colorbar": {
             "outlinewidth": 0,
             "ticks": ""
            },
            "colorscale": [
             [
              0,
              "#0d0887"
             ],
             [
              0.1111111111111111,
              "#46039f"
             ],
             [
              0.2222222222222222,
              "#7201a8"
             ],
             [
              0.3333333333333333,
              "#9c179e"
             ],
             [
              0.4444444444444444,
              "#bd3786"
             ],
             [
              0.5555555555555556,
              "#d8576b"
             ],
             [
              0.6666666666666666,
              "#ed7953"
             ],
             [
              0.7777777777777778,
              "#fb9f3a"
             ],
             [
              0.8888888888888888,
              "#fdca26"
             ],
             [
              1,
              "#f0f921"
             ]
            ],
            "type": "histogram2dcontour"
           }
          ],
          "mesh3d": [
           {
            "colorbar": {
             "outlinewidth": 0,
             "ticks": ""
            },
            "type": "mesh3d"
           }
          ],
          "parcoords": [
           {
            "line": {
             "colorbar": {
              "outlinewidth": 0,
              "ticks": ""
             }
            },
            "type": "parcoords"
           }
          ],
          "pie": [
           {
            "automargin": true,
            "type": "pie"
           }
          ],
          "scatter": [
           {
            "marker": {
             "line": {
              "color": "#283442"
             }
            },
            "type": "scatter"
           }
          ],
          "scatter3d": [
           {
            "line": {
             "colorbar": {
              "outlinewidth": 0,
              "ticks": ""
             }
            },
            "marker": {
             "colorbar": {
              "outlinewidth": 0,
              "ticks": ""
             }
            },
            "type": "scatter3d"
           }
          ],
          "scattercarpet": [
           {
            "marker": {
             "colorbar": {
              "outlinewidth": 0,
              "ticks": ""
             }
            },
            "type": "scattercarpet"
           }
          ],
          "scattergeo": [
           {
            "marker": {
             "colorbar": {
              "outlinewidth": 0,
              "ticks": ""
             }
            },
            "type": "scattergeo"
           }
          ],
          "scattergl": [
           {
            "marker": {
             "line": {
              "color": "#283442"
             }
            },
            "type": "scattergl"
           }
          ],
          "scattermapbox": [
           {
            "marker": {
             "colorbar": {
              "outlinewidth": 0,
              "ticks": ""
             }
            },
            "type": "scattermapbox"
           }
          ],
          "scatterpolar": [
           {
            "marker": {
             "colorbar": {
              "outlinewidth": 0,
              "ticks": ""
             }
            },
            "type": "scatterpolar"
           }
          ],
          "scatterpolargl": [
           {
            "marker": {
             "colorbar": {
              "outlinewidth": 0,
              "ticks": ""
             }
            },
            "type": "scatterpolargl"
           }
          ],
          "scatterternary": [
           {
            "marker": {
             "colorbar": {
              "outlinewidth": 0,
              "ticks": ""
             }
            },
            "type": "scatterternary"
           }
          ],
          "surface": [
           {
            "colorbar": {
             "outlinewidth": 0,
             "ticks": ""
            },
            "colorscale": [
             [
              0,
              "#0d0887"
             ],
             [
              0.1111111111111111,
              "#46039f"
             ],
             [
              0.2222222222222222,
              "#7201a8"
             ],
             [
              0.3333333333333333,
              "#9c179e"
             ],
             [
              0.4444444444444444,
              "#bd3786"
             ],
             [
              0.5555555555555556,
              "#d8576b"
             ],
             [
              0.6666666666666666,
              "#ed7953"
             ],
             [
              0.7777777777777778,
              "#fb9f3a"
             ],
             [
              0.8888888888888888,
              "#fdca26"
             ],
             [
              1,
              "#f0f921"
             ]
            ],
            "type": "surface"
           }
          ],
          "table": [
           {
            "cells": {
             "fill": {
              "color": "#506784"
             },
             "line": {
              "color": "rgb(17,17,17)"
             }
            },
            "header": {
             "fill": {
              "color": "#2a3f5f"
             },
             "line": {
              "color": "rgb(17,17,17)"
             }
            },
            "type": "table"
           }
          ]
         },
         "layout": {
          "annotationdefaults": {
           "arrowcolor": "#f2f5fa",
           "arrowhead": 0,
           "arrowwidth": 1
          },
          "autotypenumbers": "strict",
          "coloraxis": {
           "colorbar": {
            "outlinewidth": 0,
            "ticks": ""
           }
          },
          "colorscale": {
           "diverging": [
            [
             0,
             "#8e0152"
            ],
            [
             0.1,
             "#c51b7d"
            ],
            [
             0.2,
             "#de77ae"
            ],
            [
             0.3,
             "#f1b6da"
            ],
            [
             0.4,
             "#fde0ef"
            ],
            [
             0.5,
             "#f7f7f7"
            ],
            [
             0.6,
             "#e6f5d0"
            ],
            [
             0.7,
             "#b8e186"
            ],
            [
             0.8,
             "#7fbc41"
            ],
            [
             0.9,
             "#4d9221"
            ],
            [
             1,
             "#276419"
            ]
           ],
           "sequential": [
            [
             0,
             "#0d0887"
            ],
            [
             0.1111111111111111,
             "#46039f"
            ],
            [
             0.2222222222222222,
             "#7201a8"
            ],
            [
             0.3333333333333333,
             "#9c179e"
            ],
            [
             0.4444444444444444,
             "#bd3786"
            ],
            [
             0.5555555555555556,
             "#d8576b"
            ],
            [
             0.6666666666666666,
             "#ed7953"
            ],
            [
             0.7777777777777778,
             "#fb9f3a"
            ],
            [
             0.8888888888888888,
             "#fdca26"
            ],
            [
             1,
             "#f0f921"
            ]
           ],
           "sequentialminus": [
            [
             0,
             "#0d0887"
            ],
            [
             0.1111111111111111,
             "#46039f"
            ],
            [
             0.2222222222222222,
             "#7201a8"
            ],
            [
             0.3333333333333333,
             "#9c179e"
            ],
            [
             0.4444444444444444,
             "#bd3786"
            ],
            [
             0.5555555555555556,
             "#d8576b"
            ],
            [
             0.6666666666666666,
             "#ed7953"
            ],
            [
             0.7777777777777778,
             "#fb9f3a"
            ],
            [
             0.8888888888888888,
             "#fdca26"
            ],
            [
             1,
             "#f0f921"
            ]
           ]
          },
          "colorway": [
           "#636efa",
           "#EF553B",
           "#00cc96",
           "#ab63fa",
           "#FFA15A",
           "#19d3f3",
           "#FF6692",
           "#B6E880",
           "#FF97FF",
           "#FECB52"
          ],
          "font": {
           "color": "#f2f5fa"
          },
          "geo": {
           "bgcolor": "rgb(17,17,17)",
           "lakecolor": "rgb(17,17,17)",
           "landcolor": "rgb(17,17,17)",
           "showlakes": true,
           "showland": true,
           "subunitcolor": "#506784"
          },
          "hoverlabel": {
           "align": "left"
          },
          "hovermode": "closest",
          "mapbox": {
           "style": "dark"
          },
          "paper_bgcolor": "rgb(17,17,17)",
          "plot_bgcolor": "rgb(17,17,17)",
          "polar": {
           "angularaxis": {
            "gridcolor": "#506784",
            "linecolor": "#506784",
            "ticks": ""
           },
           "bgcolor": "rgb(17,17,17)",
           "radialaxis": {
            "gridcolor": "#506784",
            "linecolor": "#506784",
            "ticks": ""
           }
          },
          "scene": {
           "xaxis": {
            "backgroundcolor": "rgb(17,17,17)",
            "gridcolor": "#506784",
            "gridwidth": 2,
            "linecolor": "#506784",
            "showbackground": true,
            "ticks": "",
            "zerolinecolor": "#C8D4E3"
           },
           "yaxis": {
            "backgroundcolor": "rgb(17,17,17)",
            "gridcolor": "#506784",
            "gridwidth": 2,
            "linecolor": "#506784",
            "showbackground": true,
            "ticks": "",
            "zerolinecolor": "#C8D4E3"
           },
           "zaxis": {
            "backgroundcolor": "rgb(17,17,17)",
            "gridcolor": "#506784",
            "gridwidth": 2,
            "linecolor": "#506784",
            "showbackground": true,
            "ticks": "",
            "zerolinecolor": "#C8D4E3"
           }
          },
          "shapedefaults": {
           "line": {
            "color": "#f2f5fa"
           }
          },
          "sliderdefaults": {
           "bgcolor": "#C8D4E3",
           "bordercolor": "rgb(17,17,17)",
           "borderwidth": 1,
           "tickwidth": 0
          },
          "ternary": {
           "aaxis": {
            "gridcolor": "#506784",
            "linecolor": "#506784",
            "ticks": ""
           },
           "baxis": {
            "gridcolor": "#506784",
            "linecolor": "#506784",
            "ticks": ""
           },
           "bgcolor": "rgb(17,17,17)",
           "caxis": {
            "gridcolor": "#506784",
            "linecolor": "#506784",
            "ticks": ""
           }
          },
          "title": {
           "x": 0.05
          },
          "updatemenudefaults": {
           "bgcolor": "#506784",
           "borderwidth": 0
          },
          "xaxis": {
           "automargin": true,
           "gridcolor": "#283442",
           "linecolor": "#506784",
           "ticks": "",
           "title": {
            "standoff": 15
           },
           "zerolinecolor": "#283442",
           "zerolinewidth": 2
          },
          "yaxis": {
           "automargin": true,
           "gridcolor": "#283442",
           "linecolor": "#506784",
           "ticks": "",
           "title": {
            "standoff": 15
           },
           "zerolinecolor": "#283442",
           "zerolinewidth": 2
          }
         }
        },
        "title": {
         "text": "Coefficient of Variation Without Outliers (%)"
        },
        "xaxis": {
         "anchor": "y",
         "domain": [
          0,
          1
         ],
         "title": {
          "text": "Coefficient of Variation (Log Scale)"
         },
         "type": "log"
        },
        "yaxis": {
         "anchor": "x",
         "domain": [
          0,
          1
         ],
         "title": {
          "text": "Columns"
         }
        }
       }
      }
     },
     "metadata": {},
     "output_type": "display_data"
    }
   ],
   "source": [
    "aux = df_top_companies_cols_num.copy(deep=True)\n",
    "aux = remove_outliers_iqr(aux)\n",
    "df_fundamentals_book_cvs_clean_out = ((aux.std(ddof=1) / aux.mean()) * 100).sort_values(ascending=True).reset_index()\n",
    "df_fundamentals_book_cvs_clean_out.columns = ['column', 'coefficient_variation']\n",
    "df_fundamentals_book_cvs_clean_out['coefficient_variation'] = df_fundamentals_book_cvs_clean_out['coefficient_variation'].abs().sort_values(ascending=True)\n",
    "df_fundamentals_book_cvs_clean_out.fillna(method='ffill', inplace=True)\n",
    "df_fundamentals_book_cvs_clean_out = df_fundamentals_book_cvs_clean_out.sort_values(by='coefficient_variation', ascending=False)\n",
    "\n",
    "\n",
    "fig = px.bar(df_fundamentals_book_cvs_clean_out, title='Coefficient of Variation Without Outliers (%)',y='column', x='coefficient_variation', orientation='h', color_discrete_sequence=['rgb(100, 195, 181)'],hover_name='column', height=800)\n",
    "fig.update_traces(text=[f'{x:.0f}%' for x in df_fundamentals_book_cvs_clean_out['coefficient_variation']], textposition='outside')\n",
    "fig.update_layout(xaxis_title='Coefficient of Variation (%)', yaxis_title='Columns', template='plotly_dark', font=dict(color='white'), xaxis={'type':'log', 'title':'Coefficient of Variation (Log Scale)'}, hovermode='y')\n",
    "\n",
    "fig.show()"
   ]
  },
  {
   "cell_type": "markdown",
   "metadata": {},
   "source": [
    "Comparing the provided data for financial metrics with and without outliers, we can perform an analysis of the most significant changes:\n",
    "\n",
    "- **`earnings_growth_rate` & `Earnings_quarterly_growth`**: There was no change in the coefficient of variation (CV), remaining at **3624.19%**. This suggests that if outliers were present, they were not removed, or these metrics are consistently volatile.\n",
    "\n",
    "- **`revenue_growth`**: The variation for revenue growth remained unchanged at **601.00%**, indicating that this metric may also be naturally volatile or that outliers were not removed.\n",
    "- **`debt_to_equity`**: The CV for debt to equity decreased significantly from **339.09%** to **58.51%**, suggesting that outliers had a substantial effect on the variability of this metric.\n",
    "- **`dividend_payout_ratio`**: The CV decreased from **238.45%** to **132.19%**, showing that the removal of outliers halved the variability of this metric.\n",
    "- **`ebitda`**: The CV reduction from **219.91%** to **126.66%** demonstrates that outliers had a significant impact on this metric.\n",
    "- **`equity`**: The CV change from **148.93%** to **148.42%** is minimal, suggesting that equity was less affected by outliers.\n",
    "- **`trailing_annual_dividend_yield`**: The CV dropped from **108.49%** to **62.68%**, again showing a significant outlier influence.\n",
    "- **`market_cap`**: There was a reduction in the CV from **64.77%** to **45.01%**, indicating that market cap values are more stable when extreme values are excluded.\n",
    "\n",
    "These changes indicate that the removal of outliers has a substantial effect on the interpretation of variability and risk of financial metrics. Metrics like `debt_to_equity`, `dividend_payout_ratio`, and `trailing_annual_dividend_yield` were particularly impacted, with outlier removal resulting in a significant drop in their CV, suggesting that atypical values were skewing the perception of variability for these metrics.\n"
   ]
  },
  {
   "cell_type": "markdown",
   "metadata": {},
   "source": [
    "#### Outlier Analysis"
   ]
  },
  {
   "cell_type": "code",
   "execution_count": 12,
   "metadata": {},
   "outputs": [
    {
     "data": {
      "application/vnd.plotly.v1+json": {
       "config": {
        "plotlyServerURL": "https://plot.ly"
       },
       "data": [
        {
         "boxpoints": "outliers",
         "hoverinfo": "y+text",
         "jitter": 0.7,
         "marker": {
          "color": "lightseagreen"
         },
         "name": "market_cap",
         "text": [
          "PETR3.SA - Petróleo Brasileiro S.A. - Petrobras",
          "VALE3.SA - Vale S.A.",
          "ITUB4.SA - Itaú Unibanco Holding S.A.",
          "ABEV3.SA - Ambev S.A.",
          "BPAC5.SA - Banco BTG Pactual S.A.",
          "BBDC4.SA - Banco Bradesco S.A.",
          "BBAS3.SA - Banco do Brasil S.A.",
          "WEGE3.SA - WEG S.A.",
          "ITSA4.SA - Itaúsa S.A.",
          "ELET3.SA - Centrais Elétricas Brasileiras S.A. - Eletrobrás",
          "VIVT3.SA - Telefônica Brasil S.A."
         ],
         "type": "box",
         "xaxis": "x",
         "y": [
          483211870208,
          277694742528,
          248683167744,
          200723251200,
          148326612992,
          142338834432,
          140405981184,
          138442588160,
          86580977664,
          79292628992,
          76450242560
         ],
         "yaxis": "y"
        },
        {
         "boxpoints": "outliers",
         "hoverinfo": "y+text",
         "jitter": 0.7,
         "marker": {
          "color": "lightseagreen"
         },
         "name": "enterprise_value",
         "text": [
          "PETR3.SA - Petróleo Brasileiro S.A. - Petrobras",
          "VALE3.SA - Vale S.A.",
          "ITUB4.SA - Itaú Unibanco Holding S.A.",
          "ABEV3.SA - Ambev S.A.",
          "BPAC5.SA - Banco BTG Pactual S.A.",
          "BBDC4.SA - Banco Bradesco S.A.",
          "BBAS3.SA - Banco do Brasil S.A.",
          "WEGE3.SA - WEG S.A.",
          "ITSA4.SA - Itaúsa S.A.",
          "ELET3.SA - Centrais Elétricas Brasileiras S.A. - Eletrobrás",
          "VIVT3.SA - Telefônica Brasil S.A."
         ],
         "type": "box",
         "xaxis": "x2",
         "y": [
          729364037632,
          339907117056,
          707787489280,
          188845899776,
          43454111744,
          542111039488,
          957440589824,
          130366398464,
          93975281664,
          120118444032,
          88457805824
         ],
         "yaxis": "y2"
        },
        {
         "boxpoints": "outliers",
         "hoverinfo": "y+text",
         "jitter": 0.7,
         "marker": {
          "color": "lightseagreen"
         },
         "name": "total_revenue",
         "text": [
          "PETR3.SA - Petróleo Brasileiro S.A. - Petrobras",
          "VALE3.SA - Vale S.A.",
          "ITUB4.SA - Itaú Unibanco Holding S.A.",
          "ABEV3.SA - Ambev S.A.",
          "BPAC5.SA - Banco BTG Pactual S.A.",
          "BBDC4.SA - Banco Bradesco S.A.",
          "BBAS3.SA - Banco do Brasil S.A.",
          "WEGE3.SA - WEG S.A.",
          "ITSA4.SA - Itaúsa S.A.",
          "ELET3.SA - Centrais Elétricas Brasileiras S.A. - Eletrobrás",
          "VIVT3.SA - Telefônica Brasil S.A."
         ],
         "type": "box",
         "xaxis": "x3",
         "y": [
          581562990592,
          206414004224,
          118938001408,
          82710536192,
          27751354368,
          72893186048,
          95328927744,
          31758307328,
          7807000064,
          35511730176,
          50311852032
         ],
         "yaxis": "y3"
        },
        {
         "boxpoints": "outliers",
         "hoverinfo": "y+text",
         "jitter": 0.7,
         "marker": {
          "color": "lightseagreen"
         },
         "name": "profit_margins",
         "text": [
          "PETR3.SA - Petróleo Brasileiro S.A. - Petrobras",
          "VALE3.SA - Vale S.A.",
          "ITUB4.SA - Itaú Unibanco Holding S.A.",
          "ABEV3.SA - Ambev S.A.",
          "BPAC5.SA - Banco BTG Pactual S.A.",
          "BBDC4.SA - Banco Bradesco S.A.",
          "BBAS3.SA - Banco do Brasil S.A.",
          "WEGE3.SA - WEG S.A.",
          "ITSA4.SA - Itaúsa S.A.",
          "ELET3.SA - Centrais Elétricas Brasileiras S.A. - Eletrobrás",
          "VIVT3.SA - Telefônica Brasil S.A."
         ],
         "type": "box",
         "xaxis": "x4",
         "y": [
          0.26889,
          0.27585,
          0.26661,
          0.17263001,
          0.30291998,
          0.20718001,
          0.3483,
          0.15827,
          1.69976,
          0.04797,
          0.08991
         ],
         "yaxis": "y4"
        },
        {
         "boxpoints": "outliers",
         "hoverinfo": "y+text",
         "jitter": 0.7,
         "marker": {
          "color": "lightseagreen"
         },
         "name": "operating_margins",
         "text": [
          "PETR3.SA - Petróleo Brasileiro S.A. - Petrobras",
          "VALE3.SA - Vale S.A.",
          "ITUB4.SA - Itaú Unibanco Holding S.A.",
          "ABEV3.SA - Ambev S.A.",
          "BPAC5.SA - Banco BTG Pactual S.A.",
          "BBDC4.SA - Banco Bradesco S.A.",
          "BBAS3.SA - Banco do Brasil S.A.",
          "WEGE3.SA - WEG S.A.",
          "ITSA4.SA - Itaúsa S.A.",
          "ELET3.SA - Centrais Elétricas Brasileiras S.A. - Eletrobrás",
          "VIVT3.SA - Telefônica Brasil S.A."
         ],
         "type": "box",
         "xaxis": "x5",
         "y": [
          0.39067,
          0.33672002,
          0.35896,
          0.18666,
          0.3496,
          0.22323999,
          0.45908,
          0.20575,
          0.20113,
          0.42603,
          0.16545
         ],
         "yaxis": "y5"
        },
        {
         "boxpoints": "outliers",
         "hoverinfo": "y+text",
         "jitter": 0.7,
         "marker": {
          "color": "lightseagreen"
         },
         "name": "dividend_rate",
         "text": [
          "PETR3.SA - Petróleo Brasileiro S.A. - Petrobras",
          "VALE3.SA - Vale S.A.",
          "ITUB4.SA - Itaú Unibanco Holding S.A.",
          "ABEV3.SA - Ambev S.A.",
          "BPAC5.SA - Banco BTG Pactual S.A.",
          "BBDC4.SA - Banco Bradesco S.A.",
          "BBAS3.SA - Banco do Brasil S.A.",
          "WEGE3.SA - WEG S.A.",
          "ITSA4.SA - Itaúsa S.A.",
          "ELET3.SA - Centrais Elétricas Brasileiras S.A. - Eletrobrás",
          "VIVT3.SA - Telefônica Brasil S.A."
         ],
         "type": "box",
         "xaxis": "x6",
         "y": [
          9.28,
          3.84,
          1.5,
          0.76,
          0.35,
          0.23,
          0.94,
          0.32,
          0.74,
          0.22,
          2.58
         ],
         "yaxis": "y6"
        },
        {
         "boxpoints": "outliers",
         "hoverinfo": "y+text",
         "jitter": 0.7,
         "marker": {
          "color": "lightseagreen"
         },
         "name": "beta",
         "text": [
          "PETR3.SA - Petróleo Brasileiro S.A. - Petrobras",
          "VALE3.SA - Vale S.A.",
          "ITUB4.SA - Itaú Unibanco Holding S.A.",
          "ABEV3.SA - Ambev S.A.",
          "BPAC5.SA - Banco BTG Pactual S.A.",
          "BBDC4.SA - Banco Bradesco S.A.",
          "BBAS3.SA - Banco do Brasil S.A.",
          "WEGE3.SA - WEG S.A.",
          "ITSA4.SA - Itaúsa S.A.",
          "ELET3.SA - Centrais Elétricas Brasileiras S.A. - Eletrobrás",
          "VIVT3.SA - Telefônica Brasil S.A."
         ],
         "type": "box",
         "xaxis": "x7",
         "y": [
          1.097,
          0.821,
          0.499,
          0.604,
          1.291,
          0.675,
          0.803,
          0.513,
          0.647,
          0.629,
          0.061
         ],
         "yaxis": "y7"
        },
        {
         "boxpoints": "outliers",
         "hoverinfo": "y+text",
         "jitter": 0.7,
         "marker": {
          "color": "lightseagreen"
         },
         "name": "ebitda",
         "text": [
          "PETR3.SA - Petróleo Brasileiro S.A. - Petrobras",
          "VALE3.SA - Vale S.A.",
          "ITUB4.SA - Itaú Unibanco Holding S.A.",
          "ABEV3.SA - Ambev S.A.",
          "BPAC5.SA - Banco BTG Pactual S.A.",
          "BBDC4.SA - Banco Bradesco S.A.",
          "BBAS3.SA - Banco do Brasil S.A.",
          "WEGE3.SA - WEG S.A.",
          "ITSA4.SA - Itaúsa S.A.",
          "ELET3.SA - Centrais Elétricas Brasileiras S.A. - Eletrobrás",
          "VIVT3.SA - Telefônica Brasil S.A."
         ],
         "type": "box",
         "xaxis": "x8",
         "y": [
          291086991360,
          85363998720,
          0,
          22251536384,
          0,
          0,
          0,
          6480927744,
          2240000000,
          12748603392,
          15107942400
         ],
         "yaxis": "y8"
        },
        {
         "boxpoints": "outliers",
         "hoverinfo": "y+text",
         "jitter": 0.7,
         "marker": {
          "color": "lightseagreen"
         },
         "name": "trailing_pe",
         "text": [
          "PETR3.SA - Petróleo Brasileiro S.A. - Petrobras",
          "VALE3.SA - Vale S.A.",
          "ITUB4.SA - Itaú Unibanco Holding S.A.",
          "ABEV3.SA - Ambev S.A.",
          "BPAC5.SA - Banco BTG Pactual S.A.",
          "BBDC4.SA - Banco Bradesco S.A.",
          "BBAS3.SA - Banco do Brasil S.A.",
          "WEGE3.SA - WEG S.A.",
          "ITSA4.SA - Itaúsa S.A.",
          "ELET3.SA - Centrais Elétricas Brasileiras S.A. - Eletrobrás",
          "VIVT3.SA - Telefônica Brasil S.A."
         ],
         "type": "box",
         "xaxis": "x9",
         "y": [
          2.914199,
          5.319043,
          8.557632,
          14.166667,
          11.260274,
          10.649254,
          3.770115,
          26.829268,
          6.7404585,
          34.7,
          17.02952
         ],
         "yaxis": "y9"
        },
        {
         "boxpoints": "outliers",
         "hoverinfo": "y+text",
         "jitter": 0.7,
         "marker": {
          "color": "lightseagreen"
         },
         "name": "forward_pe",
         "text": [
          "PETR3.SA - Petróleo Brasileiro S.A. - Petrobras",
          "VALE3.SA - Vale S.A.",
          "ITUB4.SA - Itaú Unibanco Holding S.A.",
          "ABEV3.SA - Ambev S.A.",
          "BPAC5.SA - Banco BTG Pactual S.A.",
          "BBDC4.SA - Banco Bradesco S.A.",
          "BBAS3.SA - Banco do Brasil S.A.",
          "WEGE3.SA - WEG S.A.",
          "ITSA4.SA - Itaúsa S.A.",
          "ELET3.SA - Centrais Elétricas Brasileiras S.A. - Eletrobrás",
          "VIVT3.SA - Telefônica Brasil S.A."
         ],
         "type": "box",
         "xaxis": "x10",
         "y": [
          4.821608,
          5.421849,
          6.8675,
          12.75,
          0,
          6.150862,
          3.8051045,
          24.444445,
          5.553459,
          8.361445,
          13.613569
         ],
         "yaxis": "y10"
        },
        {
         "boxpoints": "outliers",
         "hoverinfo": "y+text",
         "jitter": 0.7,
         "marker": {
          "color": "lightseagreen"
         },
         "name": "volume",
         "text": [
          "PETR3.SA - Petróleo Brasileiro S.A. - Petrobras",
          "VALE3.SA - Vale S.A.",
          "ITUB4.SA - Itaú Unibanco Holding S.A.",
          "ABEV3.SA - Ambev S.A.",
          "BPAC5.SA - Banco BTG Pactual S.A.",
          "BBDC4.SA - Banco Bradesco S.A.",
          "BBAS3.SA - Banco do Brasil S.A.",
          "WEGE3.SA - WEG S.A.",
          "ITSA4.SA - Itaúsa S.A.",
          "ELET3.SA - Centrais Elétricas Brasileiras S.A. - Eletrobrás",
          "VIVT3.SA - Telefônica Brasil S.A."
         ],
         "type": "box",
         "xaxis": "x11",
         "y": [
          2993300,
          4387500,
          10480300,
          8618800,
          2600,
          14450200,
          1529200,
          8227600,
          2919900,
          867000,
          518500
         ],
         "yaxis": "y11"
        },
        {
         "boxpoints": "outliers",
         "hoverinfo": "y+text",
         "jitter": 0.7,
         "marker": {
          "color": "lightseagreen"
         },
         "name": "average_volume",
         "text": [
          "PETR3.SA - Petróleo Brasileiro S.A. - Petrobras",
          "VALE3.SA - Vale S.A.",
          "ITUB4.SA - Itaú Unibanco Holding S.A.",
          "ABEV3.SA - Ambev S.A.",
          "BPAC5.SA - Banco BTG Pactual S.A.",
          "BBDC4.SA - Banco Bradesco S.A.",
          "BBAS3.SA - Banco do Brasil S.A.",
          "WEGE3.SA - WEG S.A.",
          "ITSA4.SA - Itaúsa S.A.",
          "ELET3.SA - Centrais Elétricas Brasileiras S.A. - Eletrobrás",
          "VIVT3.SA - Telefônica Brasil S.A."
         ],
         "type": "box",
         "xaxis": "x12",
         "y": [
          13234123,
          25978987,
          24528203,
          24680549,
          6184,
          33278303,
          8738341,
          7064393,
          22110422,
          8876606,
          2252017
         ],
         "yaxis": "y12"
        },
        {
         "boxpoints": "outliers",
         "hoverinfo": "y+text",
         "jitter": 0.7,
         "marker": {
          "color": "lightseagreen"
         },
         "name": "fifty_two_week_low",
         "text": [
          "PETR3.SA - Petróleo Brasileiro S.A. - Petrobras",
          "VALE3.SA - Vale S.A.",
          "ITUB4.SA - Itaú Unibanco Holding S.A.",
          "ABEV3.SA - Ambev S.A.",
          "BPAC5.SA - Banco BTG Pactual S.A.",
          "BBDC4.SA - Banco Bradesco S.A.",
          "BBAS3.SA - Banco do Brasil S.A.",
          "WEGE3.SA - WEG S.A.",
          "ITSA4.SA - Itaúsa S.A.",
          "ELET3.SA - Centrais Elétricas Brasileiras S.A. - Eletrobrás",
          "VIVT3.SA - Telefônica Brasil S.A."
         ],
         "type": "box",
         "xaxis": "x13",
         "y": [
          23.61,
          61,
          22.62,
          12.33,
          4.55,
          12.39,
          30.25,
          31.47,
          7.65,
          29.81,
          35.63
         ],
         "yaxis": "y13"
        },
        {
         "boxpoints": "outliers",
         "hoverinfo": "y+text",
         "jitter": 0.7,
         "marker": {
          "color": "lightseagreen"
         },
         "name": "fifty_two_week_high",
         "text": [
          "PETR3.SA - Petróleo Brasileiro S.A. - Petrobras",
          "VALE3.SA - Vale S.A.",
          "ITUB4.SA - Itaú Unibanco Holding S.A.",
          "ABEV3.SA - Ambev S.A.",
          "BPAC5.SA - Banco BTG Pactual S.A.",
          "BBDC4.SA - Banco Bradesco S.A.",
          "BBAS3.SA - Banco do Brasil S.A.",
          "WEGE3.SA - WEG S.A.",
          "ITSA4.SA - Itaúsa S.A.",
          "ELET3.SA - Centrais Elétricas Brasileiras S.A. - Eletrobrás",
          "VIVT3.SA - Telefônica Brasil S.A."
         ],
         "type": "box",
         "xaxis": "x14",
         "y": [
          41.86,
          98.29,
          31.29,
          16.88,
          9.08,
          20.56,
          51.99,
          42.42,
          10.09,
          52.49,
          46.83
         ],
         "yaxis": "y14"
        },
        {
         "boxpoints": "outliers",
         "hoverinfo": "y+text",
         "jitter": 0.7,
         "marker": {
          "color": "lightseagreen"
         },
         "name": "price_to_sales_trailing_12_months",
         "text": [
          "PETR3.SA - Petróleo Brasileiro S.A. - Petrobras",
          "VALE3.SA - Vale S.A.",
          "ITUB4.SA - Itaú Unibanco Holding S.A.",
          "ABEV3.SA - Ambev S.A.",
          "BPAC5.SA - Banco BTG Pactual S.A.",
          "BBDC4.SA - Banco Bradesco S.A.",
          "BBAS3.SA - Banco do Brasil S.A.",
          "WEGE3.SA - WEG S.A.",
          "ITSA4.SA - Itaúsa S.A.",
          "ELET3.SA - Centrais Elétricas Brasileiras S.A. - Eletrobrás",
          "VIVT3.SA - Telefônica Brasil S.A."
         ],
         "type": "box",
         "xaxis": "x15",
         "y": [
          0.8308848,
          1.3453289,
          2.090864,
          2.426816,
          5.3448424,
          1.9527043,
          1.4728581,
          4.359256,
          11.090173,
          2.2328575,
          1.5195276
         ],
         "yaxis": "y15"
        },
        {
         "boxpoints": "outliers",
         "hoverinfo": "y+text",
         "jitter": 0.7,
         "marker": {
          "color": "lightseagreen"
         },
         "name": "fifty_day_average",
         "text": [
          "PETR3.SA - Petróleo Brasileiro S.A. - Petrobras",
          "VALE3.SA - Vale S.A.",
          "ITUB4.SA - Itaú Unibanco Holding S.A.",
          "ABEV3.SA - Ambev S.A.",
          "BPAC5.SA - Banco BTG Pactual S.A.",
          "BBDC4.SA - Banco Bradesco S.A.",
          "BBAS3.SA - Banco do Brasil S.A.",
          "WEGE3.SA - WEG S.A.",
          "ITSA4.SA - Itaúsa S.A.",
          "ELET3.SA - Centrais Elétricas Brasileiras S.A. - Eletrobrás",
          "VIVT3.SA - Telefônica Brasil S.A."
         ],
         "type": "box",
         "xaxis": "x16",
         "y": [
          37.0388,
          66.0796,
          27.277,
          13.4434,
          8.365,
          14.612,
          47.7504,
          35.499,
          9.11561,
          35.4158,
          43.6648
         ],
         "yaxis": "y16"
        },
        {
         "boxpoints": "outliers",
         "hoverinfo": "y+text",
         "jitter": 0.7,
         "marker": {
          "color": "lightseagreen"
         },
         "name": "two_hundred_day_average",
         "text": [
          "PETR3.SA - Petróleo Brasileiro S.A. - Petrobras",
          "VALE3.SA - Vale S.A.",
          "ITUB4.SA - Itaú Unibanco Holding S.A.",
          "ABEV3.SA - Ambev S.A.",
          "BPAC5.SA - Banco BTG Pactual S.A.",
          "BBDC4.SA - Banco Bradesco S.A.",
          "BBAS3.SA - Banco do Brasil S.A.",
          "WEGE3.SA - WEG S.A.",
          "ITSA4.SA - Itaúsa S.A.",
          "ELET3.SA - Centrais Elétricas Brasileiras S.A. - Eletrobrás",
          "VIVT3.SA - Telefônica Brasil S.A."
         ],
         "type": "box",
         "xaxis": "x17",
         "y": [
          31.98075,
          73.07495,
          26.66895,
          14.1037,
          6.8769,
          14.7858,
          44.66415,
          38.03615,
          8.937748,
          35.99495,
          41.6027
         ],
         "yaxis": "y17"
        },
        {
         "boxpoints": "outliers",
         "hoverinfo": "y+text",
         "jitter": 0.7,
         "marker": {
          "color": "lightseagreen"
         },
         "name": "trailing_annual_dividend_rate",
         "text": [
          "PETR3.SA - Petróleo Brasileiro S.A. - Petrobras",
          "VALE3.SA - Vale S.A.",
          "ITUB4.SA - Itaú Unibanco Holding S.A.",
          "ABEV3.SA - Ambev S.A.",
          "BPAC5.SA - Banco BTG Pactual S.A.",
          "BBDC4.SA - Banco Bradesco S.A.",
          "BBAS3.SA - Banco do Brasil S.A.",
          "WEGE3.SA - WEG S.A.",
          "ITSA4.SA - Itaúsa S.A.",
          "ELET3.SA - Centrais Elétricas Brasileiras S.A. - Eletrobrás",
          "VIVT3.SA - Telefônica Brasil S.A."
         ],
         "type": "box",
         "xaxis": "x18",
         "y": [
          9.657,
          4.037,
          0.503,
          0.762,
          0,
          0.401,
          4.5,
          0.67,
          0.515,
          1.494,
          1.902
         ],
         "yaxis": "y18"
        },
        {
         "boxpoints": "outliers",
         "hoverinfo": "y+text",
         "jitter": 0.7,
         "marker": {
          "color": "lightseagreen"
         },
         "name": "trailing_annual_dividend_yield",
         "text": [
          "PETR3.SA - Petróleo Brasileiro S.A. - Petrobras",
          "VALE3.SA - Vale S.A.",
          "ITUB4.SA - Itaú Unibanco Holding S.A.",
          "ABEV3.SA - Ambev S.A.",
          "BPAC5.SA - Banco BTG Pactual S.A.",
          "BBDC4.SA - Banco Bradesco S.A.",
          "BBAS3.SA - Banco do Brasil S.A.",
          "WEGE3.SA - WEG S.A.",
          "ITSA4.SA - Itaúsa S.A.",
          "ELET3.SA - Centrais Elétricas Brasileiras S.A. - Eletrobrás",
          "VIVT3.SA - Telefônica Brasil S.A."
         ],
         "type": "box",
         "xaxis": "x19",
         "y": [
          0.24729833,
          0.063147195,
          0.018602071,
          0.061254025,
          0,
          0.028359264,
          0.09174312,
          0.021290118,
          0.05912744,
          0.043645926,
          0.041811384
         ],
         "yaxis": "y19"
        },
        {
         "boxpoints": "outliers",
         "hoverinfo": "y+text",
         "jitter": 0.7,
         "marker": {
          "color": "lightseagreen"
         },
         "name": "book_value",
         "text": [
          "PETR3.SA - Petróleo Brasileiro S.A. - Petrobras",
          "VALE3.SA - Vale S.A.",
          "ITUB4.SA - Itaú Unibanco Holding S.A.",
          "ABEV3.SA - Ambev S.A.",
          "BPAC5.SA - Banco BTG Pactual S.A.",
          "BBDC4.SA - Banco Bradesco S.A.",
          "BBAS3.SA - Banco do Brasil S.A.",
          "WEGE3.SA - WEG S.A.",
          "ITSA4.SA - Itaúsa S.A.",
          "ELET3.SA - Centrais Elétricas Brasileiras S.A. - Eletrobrás",
          "VIVT3.SA - Telefônica Brasil S.A."
         ],
         "type": "box",
         "xaxis": "x20",
         "y": [
          28.417,
          43.051,
          18.25,
          5.403,
          9.808,
          15.641,
          54.955,
          3.666,
          7.923,
          49.431,
          41.399
         ],
         "yaxis": "y20"
        },
        {
         "boxpoints": "outliers",
         "hoverinfo": "y+text",
         "jitter": 0.7,
         "marker": {
          "color": "lightseagreen"
         },
         "name": "price_to_book",
         "text": [
          "PETR3.SA - Petróleo Brasileiro S.A. - Petrobras",
          "VALE3.SA - Vale S.A.",
          "ITUB4.SA - Itaú Unibanco Holding S.A.",
          "ABEV3.SA - Ambev S.A.",
          "BPAC5.SA - Banco BTG Pactual S.A.",
          "BBDC4.SA - Banco Bradesco S.A.",
          "BBAS3.SA - Banco do Brasil S.A.",
          "WEGE3.SA - WEG S.A.",
          "ITSA4.SA - Itaúsa S.A.",
          "ELET3.SA - Centrais Elétricas Brasileiras S.A. - Eletrobrás",
          "VIVT3.SA - Telefônica Brasil S.A."
         ],
         "type": "box",
         "xaxis": "x21",
         "y": [
          1.3506,
          1.4986876,
          1.5052054,
          2.3598,
          0.83809143,
          0.9123458,
          0.8952779,
          9.0016365,
          1.1144768,
          0.70198864,
          1.1147614
         ],
         "yaxis": "y21"
        },
        {
         "boxpoints": "outliers",
         "hoverinfo": "y+text",
         "jitter": 0.7,
         "marker": {
          "color": "lightseagreen"
         },
         "name": "total_cash",
         "text": [
          "PETR3.SA - Petróleo Brasileiro S.A. - Petrobras",
          "VALE3.SA - Vale S.A.",
          "ITUB4.SA - Itaú Unibanco Holding S.A.",
          "ABEV3.SA - Ambev S.A.",
          "BPAC5.SA - Banco BTG Pactual S.A.",
          "BBDC4.SA - Banco Bradesco S.A.",
          "BBAS3.SA - Banco do Brasil S.A.",
          "WEGE3.SA - WEG S.A.",
          "ITSA4.SA - Itaúsa S.A.",
          "ELET3.SA - Centrais Elétricas Brasileiras S.A. - Eletrobrás",
          "VIVT3.SA - Telefônica Brasil S.A."
         ],
         "type": "box",
         "xaxis": "x22",
         "y": [
          60984999936,
          24238000128,
          394325000192,
          12430517248,
          221143449600,
          231553384448,
          82065874944,
          5480458752,
          7606000128,
          15801225216,
          5405902848
         ],
         "yaxis": "y22"
        },
        {
         "boxpoints": "outliers",
         "hoverinfo": "y+text",
         "jitter": 0.7,
         "marker": {
          "color": "lightseagreen"
         },
         "name": "total_cash_per_share",
         "text": [
          "PETR3.SA - Petróleo Brasileiro S.A. - Petrobras",
          "VALE3.SA - Vale S.A.",
          "ITUB4.SA - Itaú Unibanco Holding S.A.",
          "ABEV3.SA - Ambev S.A.",
          "BPAC5.SA - Banco BTG Pactual S.A.",
          "BBDC4.SA - Banco Bradesco S.A.",
          "BBAS3.SA - Banco do Brasil S.A.",
          "WEGE3.SA - WEG S.A.",
          "ITSA4.SA - Itaúsa S.A.",
          "ELET3.SA - Centrais Elétricas Brasileiras S.A. - Eletrobrás",
          "VIVT3.SA - Telefônica Brasil S.A."
         ],
         "type": "box",
         "xaxis": "x23",
         "y": [
          4.675,
          5.58,
          40.237,
          0.789,
          46.436,
          21.758,
          28.757,
          1.306,
          0.784,
          7.011,
          3.26
         ],
         "yaxis": "y23"
        },
        {
         "boxpoints": "outliers",
         "hoverinfo": "y+text",
         "jitter": 0.7,
         "marker": {
          "color": "lightseagreen"
         },
         "name": "total_debt",
         "text": [
          "PETR3.SA - Petróleo Brasileiro S.A. - Petrobras",
          "VALE3.SA - Vale S.A.",
          "ITUB4.SA - Itaú Unibanco Holding S.A.",
          "ABEV3.SA - Ambev S.A.",
          "BPAC5.SA - Banco BTG Pactual S.A.",
          "BBDC4.SA - Banco Bradesco S.A.",
          "BBAS3.SA - Banco do Brasil S.A.",
          "WEGE3.SA - WEG S.A.",
          "ITSA4.SA - Itaúsa S.A.",
          "ELET3.SA - Centrais Elétricas Brasileiras S.A. - Eletrobrás",
          "VIVT3.SA - Telefônica Brasil S.A."
         ],
         "type": "box",
         "xaxis": "x24",
         "y": [
          279374987264,
          79345999872,
          827033976832,
          4096230912,
          220720496640,
          622578565120,
          895776522240,
          3346563072,
          13237000192,
          58713391104,
          18377697280
         ],
         "yaxis": "y24"
        },
        {
         "boxpoints": "outliers",
         "hoverinfo": "y+text",
         "jitter": 0.7,
         "marker": {
          "color": "lightseagreen"
         },
         "name": "earnings_quarterly_growth",
         "text": [
          "PETR3.SA - Petróleo Brasileiro S.A. - Petrobras",
          "VALE3.SA - Vale S.A.",
          "ITUB4.SA - Itaú Unibanco Holding S.A.",
          "ABEV3.SA - Ambev S.A.",
          "BPAC5.SA - Banco BTG Pactual S.A.",
          "BBDC4.SA - Banco Bradesco S.A.",
          "BBAS3.SA - Banco do Brasil S.A.",
          "WEGE3.SA - WEG S.A.",
          "ITSA4.SA - Itaúsa S.A.",
          "ELET3.SA - Centrais Elétricas Brasileiras S.A. - Eletrobrás",
          "VIVT3.SA - Telefônica Brasil S.A."
         ],
         "type": "box",
         "xaxis": "x25",
         "y": [
          -0.47,
          -0.848,
          0.181,
          -0.157,
          0.181,
          -0.447,
          0.087,
          0.499,
          0.168,
          0.206,
          0.472
         ],
         "yaxis": "y25"
        },
        {
         "boxpoints": "outliers",
         "hoverinfo": "y+text",
         "jitter": 0.7,
         "marker": {
          "color": "lightseagreen"
         },
         "name": "revenue_growth",
         "text": [
          "PETR3.SA - Petróleo Brasileiro S.A. - Petrobras",
          "VALE3.SA - Vale S.A.",
          "ITUB4.SA - Itaú Unibanco Holding S.A.",
          "ABEV3.SA - Ambev S.A.",
          "BPAC5.SA - Banco BTG Pactual S.A.",
          "BBDC4.SA - Banco Bradesco S.A.",
          "BBAS3.SA - Banco do Brasil S.A.",
          "WEGE3.SA - WEG S.A.",
          "ITSA4.SA - Itaúsa S.A.",
          "ELET3.SA - Centrais Elétricas Brasileiras S.A. - Eletrobrás",
          "VIVT3.SA - Telefônica Brasil S.A."
         ],
         "type": "box",
         "xaxis": "x26",
         "y": [
          -0.334,
          -0.131,
          0.135,
          0.051,
          0.021,
          -0.27,
          0.091,
          0.137,
          -0.117,
          0.044,
          0.076
         ],
         "yaxis": "y26"
        },
        {
         "boxpoints": "outliers",
         "hoverinfo": "y+text",
         "jitter": 0.7,
         "marker": {
          "color": "lightseagreen"
         },
         "name": "gross_margins",
         "text": [
          "PETR3.SA - Petróleo Brasileiro S.A. - Petrobras",
          "VALE3.SA - Vale S.A.",
          "ITUB4.SA - Itaú Unibanco Holding S.A.",
          "ABEV3.SA - Ambev S.A.",
          "BPAC5.SA - Banco BTG Pactual S.A.",
          "BBDC4.SA - Banco Bradesco S.A.",
          "BBAS3.SA - Banco do Brasil S.A.",
          "WEGE3.SA - WEG S.A.",
          "ITSA4.SA - Itaúsa S.A.",
          "ELET3.SA - Centrais Elétricas Brasileiras S.A. - Eletrobrás",
          "VIVT3.SA - Telefônica Brasil S.A."
         ],
         "type": "box",
         "xaxis": "x27",
         "y": [
          0.50633,
          0.39091,
          0,
          0.49945,
          0,
          0,
          0,
          0.31911,
          0.34546003,
          0.58912,
          0.47107
         ],
         "yaxis": "y27"
        },
        {
         "boxpoints": "outliers",
         "hoverinfo": "y+text",
         "jitter": 0.7,
         "marker": {
          "color": "lightseagreen"
         },
         "name": "ebitda_margins",
         "text": [
          "PETR3.SA - Petróleo Brasileiro S.A. - Petrobras",
          "VALE3.SA - Vale S.A.",
          "ITUB4.SA - Itaú Unibanco Holding S.A.",
          "ABEV3.SA - Ambev S.A.",
          "BPAC5.SA - Banco BTG Pactual S.A.",
          "BBDC4.SA - Banco Bradesco S.A.",
          "BBAS3.SA - Banco do Brasil S.A.",
          "WEGE3.SA - WEG S.A.",
          "ITSA4.SA - Itaúsa S.A.",
          "ELET3.SA - Centrais Elétricas Brasileiras S.A. - Eletrobrás",
          "VIVT3.SA - Telefônica Brasil S.A."
         ],
         "type": "box",
         "xaxis": "x28",
         "y": [
          0.50053,
          0.41356,
          0,
          0.26903,
          0,
          0,
          0,
          0.20407,
          0.28691998,
          0.35900003,
          0.30029
         ],
         "yaxis": "y28"
        },
        {
         "boxpoints": "outliers",
         "hoverinfo": "y+text",
         "jitter": 0.7,
         "marker": {
          "color": "lightseagreen"
         },
         "name": "return_on_assets",
         "text": [
          "PETR3.SA - Petróleo Brasileiro S.A. - Petrobras",
          "VALE3.SA - Vale S.A.",
          "ITUB4.SA - Itaú Unibanco Holding S.A.",
          "ABEV3.SA - Ambev S.A.",
          "BPAC5.SA - Banco BTG Pactual S.A.",
          "BBDC4.SA - Banco Bradesco S.A.",
          "BBAS3.SA - Banco do Brasil S.A.",
          "WEGE3.SA - WEG S.A.",
          "ITSA4.SA - Itaúsa S.A.",
          "ELET3.SA - Centrais Elétricas Brasileiras S.A. - Eletrobrás",
          "VIVT3.SA - Telefônica Brasil S.A."
         ],
         "type": "box",
         "xaxis": "x29",
         "y": [
          0.15427,
          0.099750005,
          0.0141900005,
          0.08271,
          0.0191,
          0.00853,
          0.017339999,
          0.13783,
          0.00854,
          0.02306,
          0.03836
         ],
         "yaxis": "y29"
        },
        {
         "boxpoints": "outliers",
         "hoverinfo": "y+text",
         "jitter": 0.7,
         "marker": {
          "color": "lightseagreen"
         },
         "name": "return_on_equity",
         "text": [
          "PETR3.SA - Petróleo Brasileiro S.A. - Petrobras",
          "VALE3.SA - Vale S.A.",
          "ITUB4.SA - Itaú Unibanco Holding S.A.",
          "ABEV3.SA - Ambev S.A.",
          "BPAC5.SA - Banco BTG Pactual S.A.",
          "BBDC4.SA - Banco Bradesco S.A.",
          "BBAS3.SA - Banco do Brasil S.A.",
          "WEGE3.SA - WEG S.A.",
          "ITSA4.SA - Itaúsa S.A.",
          "ELET3.SA - Centrais Elétricas Brasileiras S.A. - Eletrobrás",
          "VIVT3.SA - Telefônica Brasil S.A."
         ],
         "type": "box",
         "xaxis": "x30",
         "y": [
          0.39988,
          0.29588,
          0.18295,
          0.16919,
          0.18284,
          0.09476,
          0.22474001,
          0.34605,
          0.18054001,
          0.01719,
          0.06606
         ],
         "yaxis": "y30"
        },
        {
         "boxpoints": "outliers",
         "hoverinfo": "y+text",
         "jitter": 0.7,
         "marker": {
          "color": "lightseagreen"
         },
         "name": "gross_profits",
         "text": [
          "PETR3.SA - Petróleo Brasileiro S.A. - Petrobras",
          "VALE3.SA - Vale S.A.",
          "ITUB4.SA - Itaú Unibanco Holding S.A.",
          "ABEV3.SA - Ambev S.A.",
          "BPAC5.SA - Banco BTG Pactual S.A.",
          "BBDC4.SA - Banco Bradesco S.A.",
          "BBAS3.SA - Banco do Brasil S.A.",
          "WEGE3.SA - WEG S.A.",
          "ITSA4.SA - Itaúsa S.A.",
          "ELET3.SA - Centrais Elétricas Brasileiras S.A. - Eletrobrás",
          "VIVT3.SA - Telefônica Brasil S.A."
         ],
         "type": "box",
         "xaxis": "x31",
         "y": [
          334100000000,
          102313000000,
          115570000000,
          39286758000,
          26639299000,
          84471655000,
          89250526000,
          8695487000,
          2875000000,
          20697315000,
          22515040000
         ],
         "yaxis": "y31"
        },
        {
         "boxpoints": "outliers",
         "hoverinfo": "y+text",
         "jitter": 0.7,
         "marker": {
          "color": "lightseagreen"
         },
         "name": "total_assets_approx",
         "text": [
          "PETR3.SA - Petróleo Brasileiro S.A. - Petrobras",
          "VALE3.SA - Vale S.A.",
          "ITUB4.SA - Itaú Unibanco Holding S.A.",
          "ABEV3.SA - Ambev S.A.",
          "BPAC5.SA - Banco BTG Pactual S.A.",
          "BBDC4.SA - Banco Bradesco S.A.",
          "BBAS3.SA - Banco do Brasil S.A.",
          "WEGE3.SA - WEG S.A.",
          "ITSA4.SA - Itaúsa S.A.",
          "ELET3.SA - Centrais Elétricas Brasileiras S.A. - Eletrobrás",
          "VIVT3.SA - Telefônica Brasil S.A."
         ],
         "type": "box",
         "xaxis": "x32",
         "y": [
          60984999964.417,
          24238000171.051,
          394325000210.25,
          12430517253.403,
          221143449609.808,
          231553384463.641,
          82065874998.955,
          5480458755.666,
          7606000135.923,
          15801225265.431,
          5405902889.399
         ],
         "yaxis": "y32"
        },
        {
         "boxpoints": "outliers",
         "hoverinfo": "y+text",
         "jitter": 0.7,
         "marker": {
          "color": "lightseagreen"
         },
         "name": "asset_turnover",
         "text": [
          "PETR3.SA - Petróleo Brasileiro S.A. - Petrobras",
          "VALE3.SA - Vale S.A.",
          "ITUB4.SA - Itaú Unibanco Holding S.A.",
          "ABEV3.SA - Ambev S.A.",
          "BPAC5.SA - Banco BTG Pactual S.A.",
          "BBDC4.SA - Banco Bradesco S.A.",
          "BBAS3.SA - Banco do Brasil S.A.",
          "WEGE3.SA - WEG S.A.",
          "ITSA4.SA - Itaúsa S.A.",
          "ELET3.SA - Centrais Elétricas Brasileiras S.A. - Eletrobrás",
          "VIVT3.SA - Telefônica Brasil S.A."
         ],
         "type": "box",
         "xaxis": "x33",
         "y": [
          9.536164481943516,
          8.516131808206417,
          0.3016242980906194,
          6.653829000507362,
          0.1254902843243392,
          0.3148007800311199,
          1.1616147119032592,
          5.794826444988115,
          1.0264264954621392,
          2.2474035765878546,
          9.30683607555396
         ],
         "yaxis": "y33"
        },
        {
         "boxpoints": "outliers",
         "hoverinfo": "y+text",
         "jitter": 0.7,
         "marker": {
          "color": "lightseagreen"
         },
         "name": "earnings_growth_rate",
         "text": [
          "PETR3.SA - Petróleo Brasileiro S.A. - Petrobras",
          "VALE3.SA - Vale S.A.",
          "ITUB4.SA - Itaú Unibanco Holding S.A.",
          "ABEV3.SA - Ambev S.A.",
          "BPAC5.SA - Banco BTG Pactual S.A.",
          "BBDC4.SA - Banco Bradesco S.A.",
          "BBAS3.SA - Banco do Brasil S.A.",
          "WEGE3.SA - WEG S.A.",
          "ITSA4.SA - Itaúsa S.A.",
          "ELET3.SA - Centrais Elétricas Brasileiras S.A. - Eletrobrás",
          "VIVT3.SA - Telefônica Brasil S.A."
         ],
         "type": "box",
         "xaxis": "x34",
         "y": [
          -47,
          -84.8,
          18.1,
          -15.7,
          18.1,
          -44.7,
          8.7,
          49.9,
          16.8,
          20.6,
          47.2
         ],
         "yaxis": "y34"
        },
        {
         "boxpoints": "outliers",
         "hoverinfo": "y+text",
         "jitter": 0.7,
         "marker": {
          "color": "lightseagreen"
         },
         "name": "dividend_payout_ratio",
         "text": [
          "PETR3.SA - Petróleo Brasileiro S.A. - Petrobras",
          "VALE3.SA - Vale S.A.",
          "ITUB4.SA - Itaú Unibanco Holding S.A.",
          "ABEV3.SA - Ambev S.A.",
          "BPAC5.SA - Banco BTG Pactual S.A.",
          "BBDC4.SA - Banco Bradesco S.A.",
          "BBAS3.SA - Banco do Brasil S.A.",
          "WEGE3.SA - WEG S.A.",
          "ITSA4.SA - Itaúsa S.A.",
          "ELET3.SA - Centrais Elétricas Brasileiras S.A. - Eletrobrás",
          "VIVT3.SA - Telefônica Brasil S.A."
         ],
         "type": "box",
         "xaxis": "x35",
         "y": [
          0,
          0,
          277.90055248618785,
          0,
          0,
          0,
          5172.413793103448,
          134.2685370741483,
          306.54761904761904,
          725.242718446602,
          402.9661016949152
         ],
         "yaxis": "y35"
        },
        {
         "boxpoints": "outliers",
         "hoverinfo": "y+text",
         "jitter": 0.7,
         "marker": {
          "color": "lightseagreen"
         },
         "name": "equity",
         "text": [
          "PETR3.SA - Petróleo Brasileiro S.A. - Petrobras",
          "VALE3.SA - Vale S.A.",
          "ITUB4.SA - Itaú Unibanco Holding S.A.",
          "ABEV3.SA - Ambev S.A.",
          "BPAC5.SA - Banco BTG Pactual S.A.",
          "BBDC4.SA - Banco Bradesco S.A.",
          "BBAS3.SA - Banco do Brasil S.A.",
          "WEGE3.SA - WEG S.A.",
          "ITSA4.SA - Itaúsa S.A.",
          "ELET3.SA - Centrais Elétricas Brasileiras S.A. - Eletrobrás",
          "VIVT3.SA - Telefônica Brasil S.A."
         ],
         "type": "box",
         "xaxis": "x36",
         "y": [
          -218389987299.583,
          -55107999700.949005,
          -432708976621.75,
          8334286341.403,
          422952969.8080139,
          -391025180656.359,
          -813710647241.045,
          2133895683.6660004,
          -5631000056.077,
          -42912165838.569,
          -12971794390.601
         ],
         "yaxis": "y36"
        },
        {
         "boxpoints": "outliers",
         "hoverinfo": "y+text",
         "jitter": 0.7,
         "marker": {
          "color": "lightseagreen"
         },
         "name": "debt_to_equity",
         "text": [
          "PETR3.SA - Petróleo Brasileiro S.A. - Petrobras",
          "VALE3.SA - Vale S.A.",
          "ITUB4.SA - Itaú Unibanco Holding S.A.",
          "ABEV3.SA - Ambev S.A.",
          "BPAC5.SA - Banco BTG Pactual S.A.",
          "BBDC4.SA - Banco Bradesco S.A.",
          "BBAS3.SA - Banco do Brasil S.A.",
          "WEGE3.SA - WEG S.A.",
          "ITSA4.SA - Itaúsa S.A.",
          "ELET3.SA - Centrais Elétricas Brasileiras S.A. - Eletrobrás",
          "VIVT3.SA - Telefônica Brasil S.A."
         ],
         "type": "box",
         "xaxis": "x37",
         "y": [
          -1.2792481501487474,
          -1.4398272538031098,
          -1.911293782922712,
          0.491491501995891,
          521.8558856323649,
          -1.5921700082715002,
          -1.1008538788047155,
          1.5682880365785528,
          -2.35073700234021,
          -1.3682225065235236,
          -1.416742875088736
         ],
         "yaxis": "y37"
        },
        {
         "boxpoints": "outliers",
         "hoverinfo": "y+text",
         "jitter": 0.7,
         "marker": {
          "color": "lightseagreen"
         },
         "name": "roi",
         "text": [
          "PETR3.SA - Petróleo Brasileiro S.A. - Petrobras",
          "VALE3.SA - Vale S.A.",
          "ITUB4.SA - Itaú Unibanco Holding S.A.",
          "ABEV3.SA - Ambev S.A.",
          "BPAC5.SA - Banco BTG Pactual S.A.",
          "BBDC4.SA - Banco Bradesco S.A.",
          "BBAS3.SA - Banco do Brasil S.A.",
          "WEGE3.SA - WEG S.A.",
          "ITSA4.SA - Itaúsa S.A.",
          "ELET3.SA - Centrais Elétricas Brasileiras S.A. - Eletrobrás",
          "VIVT3.SA - Telefônica Brasil S.A."
         ],
         "type": "box",
         "xaxis": "x38",
         "y": [
          0.7973562728430369,
          0.6072659084393137,
          0.168041966281419,
          0.4379789886362759,
          0.6386358679125874,
          0.1344617259903882,
          0.099566415668176,
          0.2436080746433283,
          0.0830750376669602,
          0.2956392788982476,
          0.5687666742729628
         ],
         "yaxis": "y38"
        },
        {
         "boxpoints": "outliers",
         "hoverinfo": "y+text",
         "jitter": 0.7,
         "marker": {
          "color": "lightseagreen"
         },
         "name": "roce",
         "text": [
          "PETR3.SA - Petróleo Brasileiro S.A. - Petrobras",
          "VALE3.SA - Vale S.A.",
          "ITUB4.SA - Itaú Unibanco Holding S.A.",
          "ABEV3.SA - Ambev S.A.",
          "BPAC5.SA - Banco BTG Pactual S.A.",
          "BBDC4.SA - Banco Bradesco S.A.",
          "BBAS3.SA - Banco do Brasil S.A.",
          "WEGE3.SA - WEG S.A.",
          "ITSA4.SA - Itaúsa S.A.",
          "ELET3.SA - Centrais Elétricas Brasileiras S.A. - Eletrobrás",
          "VIVT3.SA - Telefônica Brasil S.A."
         ],
         "type": "box",
         "xaxis": "x39",
         "y": [
          0.3817099501622186,
          0.2390875566362255,
          0,
          0.108639745372622,
          0,
          0,
          0,
          0.045708206077034,
          0.0224408473114079,
          0.0923771541497377,
          0.159319525716694
         ],
         "yaxis": "y39"
        }
       ],
       "layout": {
        "annotations": [
         {
          "font": {
           "size": 16
          },
          "showarrow": false,
          "text": "market_cap",
          "x": 0.14444444444444446,
          "xanchor": "center",
          "xref": "paper",
          "y": 1,
          "yanchor": "bottom",
          "yref": "paper"
         },
         {
          "font": {
           "size": 16
          },
          "showarrow": false,
          "text": "enterprise_value",
          "x": 0.5,
          "xanchor": "center",
          "xref": "paper",
          "y": 1,
          "yanchor": "bottom",
          "yref": "paper"
         },
         {
          "font": {
           "size": 16
          },
          "showarrow": false,
          "text": "total_revenue",
          "x": 0.8555555555555556,
          "xanchor": "center",
          "xref": "paper",
          "y": 1,
          "yanchor": "bottom",
          "yref": "paper"
         },
         {
          "font": {
           "size": 16
          },
          "showarrow": false,
          "text": "profit_margins",
          "x": 0.14444444444444446,
          "xanchor": "center",
          "xref": "paper",
          "y": 0.9201183431952662,
          "yanchor": "bottom",
          "yref": "paper"
         },
         {
          "font": {
           "size": 16
          },
          "showarrow": false,
          "text": "operating_margins",
          "x": 0.5,
          "xanchor": "center",
          "xref": "paper",
          "y": 0.9201183431952662,
          "yanchor": "bottom",
          "yref": "paper"
         },
         {
          "font": {
           "size": 16
          },
          "showarrow": false,
          "text": "dividend_rate",
          "x": 0.8555555555555556,
          "xanchor": "center",
          "xref": "paper",
          "y": 0.9201183431952662,
          "yanchor": "bottom",
          "yref": "paper"
         },
         {
          "font": {
           "size": 16
          },
          "showarrow": false,
          "text": "beta",
          "x": 0.14444444444444446,
          "xanchor": "center",
          "xref": "paper",
          "y": 0.8402366863905325,
          "yanchor": "bottom",
          "yref": "paper"
         },
         {
          "font": {
           "size": 16
          },
          "showarrow": false,
          "text": "ebitda",
          "x": 0.5,
          "xanchor": "center",
          "xref": "paper",
          "y": 0.8402366863905325,
          "yanchor": "bottom",
          "yref": "paper"
         },
         {
          "font": {
           "size": 16
          },
          "showarrow": false,
          "text": "trailing_pe",
          "x": 0.8555555555555556,
          "xanchor": "center",
          "xref": "paper",
          "y": 0.8402366863905325,
          "yanchor": "bottom",
          "yref": "paper"
         },
         {
          "font": {
           "size": 16
          },
          "showarrow": false,
          "text": "forward_pe",
          "x": 0.14444444444444446,
          "xanchor": "center",
          "xref": "paper",
          "y": 0.7603550295857988,
          "yanchor": "bottom",
          "yref": "paper"
         },
         {
          "font": {
           "size": 16
          },
          "showarrow": false,
          "text": "volume",
          "x": 0.5,
          "xanchor": "center",
          "xref": "paper",
          "y": 0.7603550295857988,
          "yanchor": "bottom",
          "yref": "paper"
         },
         {
          "font": {
           "size": 16
          },
          "showarrow": false,
          "text": "average_volume",
          "x": 0.8555555555555556,
          "xanchor": "center",
          "xref": "paper",
          "y": 0.7603550295857988,
          "yanchor": "bottom",
          "yref": "paper"
         },
         {
          "font": {
           "size": 16
          },
          "showarrow": false,
          "text": "fifty_two_week_low",
          "x": 0.14444444444444446,
          "xanchor": "center",
          "xref": "paper",
          "y": 0.680473372781065,
          "yanchor": "bottom",
          "yref": "paper"
         },
         {
          "font": {
           "size": 16
          },
          "showarrow": false,
          "text": "fifty_two_week_high",
          "x": 0.5,
          "xanchor": "center",
          "xref": "paper",
          "y": 0.680473372781065,
          "yanchor": "bottom",
          "yref": "paper"
         },
         {
          "font": {
           "size": 16
          },
          "showarrow": false,
          "text": "price_to_sales_trailing_12_months",
          "x": 0.8555555555555556,
          "xanchor": "center",
          "xref": "paper",
          "y": 0.680473372781065,
          "yanchor": "bottom",
          "yref": "paper"
         },
         {
          "font": {
           "size": 16
          },
          "showarrow": false,
          "text": "fifty_day_average",
          "x": 0.14444444444444446,
          "xanchor": "center",
          "xref": "paper",
          "y": 0.6005917159763314,
          "yanchor": "bottom",
          "yref": "paper"
         },
         {
          "font": {
           "size": 16
          },
          "showarrow": false,
          "text": "two_hundred_day_average",
          "x": 0.5,
          "xanchor": "center",
          "xref": "paper",
          "y": 0.6005917159763314,
          "yanchor": "bottom",
          "yref": "paper"
         },
         {
          "font": {
           "size": 16
          },
          "showarrow": false,
          "text": "trailing_annual_dividend_rate",
          "x": 0.8555555555555556,
          "xanchor": "center",
          "xref": "paper",
          "y": 0.6005917159763314,
          "yanchor": "bottom",
          "yref": "paper"
         },
         {
          "font": {
           "size": 16
          },
          "showarrow": false,
          "text": "trailing_annual_dividend_yield",
          "x": 0.14444444444444446,
          "xanchor": "center",
          "xref": "paper",
          "y": 0.5207100591715976,
          "yanchor": "bottom",
          "yref": "paper"
         },
         {
          "font": {
           "size": 16
          },
          "showarrow": false,
          "text": "book_value",
          "x": 0.5,
          "xanchor": "center",
          "xref": "paper",
          "y": 0.5207100591715976,
          "yanchor": "bottom",
          "yref": "paper"
         },
         {
          "font": {
           "size": 16
          },
          "showarrow": false,
          "text": "price_to_book",
          "x": 0.8555555555555556,
          "xanchor": "center",
          "xref": "paper",
          "y": 0.5207100591715976,
          "yanchor": "bottom",
          "yref": "paper"
         },
         {
          "font": {
           "size": 16
          },
          "showarrow": false,
          "text": "total_cash",
          "x": 0.14444444444444446,
          "xanchor": "center",
          "xref": "paper",
          "y": 0.4408284023668639,
          "yanchor": "bottom",
          "yref": "paper"
         },
         {
          "font": {
           "size": 16
          },
          "showarrow": false,
          "text": "total_cash_per_share",
          "x": 0.5,
          "xanchor": "center",
          "xref": "paper",
          "y": 0.4408284023668639,
          "yanchor": "bottom",
          "yref": "paper"
         },
         {
          "font": {
           "size": 16
          },
          "showarrow": false,
          "text": "total_debt",
          "x": 0.8555555555555556,
          "xanchor": "center",
          "xref": "paper",
          "y": 0.4408284023668639,
          "yanchor": "bottom",
          "yref": "paper"
         },
         {
          "font": {
           "size": 16
          },
          "showarrow": false,
          "text": "earnings_quarterly_growth",
          "x": 0.14444444444444446,
          "xanchor": "center",
          "xref": "paper",
          "y": 0.36094674556213013,
          "yanchor": "bottom",
          "yref": "paper"
         },
         {
          "font": {
           "size": 16
          },
          "showarrow": false,
          "text": "revenue_growth",
          "x": 0.5,
          "xanchor": "center",
          "xref": "paper",
          "y": 0.36094674556213013,
          "yanchor": "bottom",
          "yref": "paper"
         },
         {
          "font": {
           "size": 16
          },
          "showarrow": false,
          "text": "gross_margins",
          "x": 0.8555555555555556,
          "xanchor": "center",
          "xref": "paper",
          "y": 0.36094674556213013,
          "yanchor": "bottom",
          "yref": "paper"
         },
         {
          "font": {
           "size": 16
          },
          "showarrow": false,
          "text": "ebitda_margins",
          "x": 0.14444444444444446,
          "xanchor": "center",
          "xref": "paper",
          "y": 0.28106508875739644,
          "yanchor": "bottom",
          "yref": "paper"
         },
         {
          "font": {
           "size": 16
          },
          "showarrow": false,
          "text": "return_on_assets",
          "x": 0.5,
          "xanchor": "center",
          "xref": "paper",
          "y": 0.28106508875739644,
          "yanchor": "bottom",
          "yref": "paper"
         },
         {
          "font": {
           "size": 16
          },
          "showarrow": false,
          "text": "return_on_equity",
          "x": 0.8555555555555556,
          "xanchor": "center",
          "xref": "paper",
          "y": 0.28106508875739644,
          "yanchor": "bottom",
          "yref": "paper"
         },
         {
          "font": {
           "size": 16
          },
          "showarrow": false,
          "text": "gross_profits",
          "x": 0.14444444444444446,
          "xanchor": "center",
          "xref": "paper",
          "y": 0.2011834319526627,
          "yanchor": "bottom",
          "yref": "paper"
         },
         {
          "font": {
           "size": 16
          },
          "showarrow": false,
          "text": "total_assets_approx",
          "x": 0.5,
          "xanchor": "center",
          "xref": "paper",
          "y": 0.2011834319526627,
          "yanchor": "bottom",
          "yref": "paper"
         },
         {
          "font": {
           "size": 16
          },
          "showarrow": false,
          "text": "asset_turnover",
          "x": 0.8555555555555556,
          "xanchor": "center",
          "xref": "paper",
          "y": 0.2011834319526627,
          "yanchor": "bottom",
          "yref": "paper"
         },
         {
          "font": {
           "size": 16
          },
          "showarrow": false,
          "text": "earnings_growth_rate",
          "x": 0.14444444444444446,
          "xanchor": "center",
          "xref": "paper",
          "y": 0.12130177514792898,
          "yanchor": "bottom",
          "yref": "paper"
         },
         {
          "font": {
           "size": 16
          },
          "showarrow": false,
          "text": "dividend_payout_ratio",
          "x": 0.5,
          "xanchor": "center",
          "xref": "paper",
          "y": 0.12130177514792898,
          "yanchor": "bottom",
          "yref": "paper"
         },
         {
          "font": {
           "size": 16
          },
          "showarrow": false,
          "text": "equity",
          "x": 0.8555555555555556,
          "xanchor": "center",
          "xref": "paper",
          "y": 0.12130177514792898,
          "yanchor": "bottom",
          "yref": "paper"
         },
         {
          "font": {
           "size": 16
          },
          "showarrow": false,
          "text": "debt_to_equity",
          "x": 0.14444444444444446,
          "xanchor": "center",
          "xref": "paper",
          "y": 0.04142011834319526,
          "yanchor": "bottom",
          "yref": "paper"
         },
         {
          "font": {
           "size": 16
          },
          "showarrow": false,
          "text": "roi",
          "x": 0.5,
          "xanchor": "center",
          "xref": "paper",
          "y": 0.04142011834319526,
          "yanchor": "bottom",
          "yref": "paper"
         },
         {
          "font": {
           "size": 16
          },
          "showarrow": false,
          "text": "roce",
          "x": 0.8555555555555556,
          "xanchor": "center",
          "xref": "paper",
          "y": 0.04142011834319526,
          "yanchor": "bottom",
          "yref": "paper"
         }
        ],
        "height": 3900,
        "showlegend": false,
        "template": {
         "data": {
          "bar": [
           {
            "error_x": {
             "color": "#f2f5fa"
            },
            "error_y": {
             "color": "#f2f5fa"
            },
            "marker": {
             "line": {
              "color": "rgb(17,17,17)",
              "width": 0.5
             },
             "pattern": {
              "fillmode": "overlay",
              "size": 10,
              "solidity": 0.2
             }
            },
            "type": "bar"
           }
          ],
          "barpolar": [
           {
            "marker": {
             "line": {
              "color": "rgb(17,17,17)",
              "width": 0.5
             },
             "pattern": {
              "fillmode": "overlay",
              "size": 10,
              "solidity": 0.2
             }
            },
            "type": "barpolar"
           }
          ],
          "carpet": [
           {
            "aaxis": {
             "endlinecolor": "#A2B1C6",
             "gridcolor": "#506784",
             "linecolor": "#506784",
             "minorgridcolor": "#506784",
             "startlinecolor": "#A2B1C6"
            },
            "baxis": {
             "endlinecolor": "#A2B1C6",
             "gridcolor": "#506784",
             "linecolor": "#506784",
             "minorgridcolor": "#506784",
             "startlinecolor": "#A2B1C6"
            },
            "type": "carpet"
           }
          ],
          "choropleth": [
           {
            "colorbar": {
             "outlinewidth": 0,
             "ticks": ""
            },
            "type": "choropleth"
           }
          ],
          "contour": [
           {
            "colorbar": {
             "outlinewidth": 0,
             "ticks": ""
            },
            "colorscale": [
             [
              0,
              "#0d0887"
             ],
             [
              0.1111111111111111,
              "#46039f"
             ],
             [
              0.2222222222222222,
              "#7201a8"
             ],
             [
              0.3333333333333333,
              "#9c179e"
             ],
             [
              0.4444444444444444,
              "#bd3786"
             ],
             [
              0.5555555555555556,
              "#d8576b"
             ],
             [
              0.6666666666666666,
              "#ed7953"
             ],
             [
              0.7777777777777778,
              "#fb9f3a"
             ],
             [
              0.8888888888888888,
              "#fdca26"
             ],
             [
              1,
              "#f0f921"
             ]
            ],
            "type": "contour"
           }
          ],
          "contourcarpet": [
           {
            "colorbar": {
             "outlinewidth": 0,
             "ticks": ""
            },
            "type": "contourcarpet"
           }
          ],
          "heatmap": [
           {
            "colorbar": {
             "outlinewidth": 0,
             "ticks": ""
            },
            "colorscale": [
             [
              0,
              "#0d0887"
             ],
             [
              0.1111111111111111,
              "#46039f"
             ],
             [
              0.2222222222222222,
              "#7201a8"
             ],
             [
              0.3333333333333333,
              "#9c179e"
             ],
             [
              0.4444444444444444,
              "#bd3786"
             ],
             [
              0.5555555555555556,
              "#d8576b"
             ],
             [
              0.6666666666666666,
              "#ed7953"
             ],
             [
              0.7777777777777778,
              "#fb9f3a"
             ],
             [
              0.8888888888888888,
              "#fdca26"
             ],
             [
              1,
              "#f0f921"
             ]
            ],
            "type": "heatmap"
           }
          ],
          "heatmapgl": [
           {
            "colorbar": {
             "outlinewidth": 0,
             "ticks": ""
            },
            "colorscale": [
             [
              0,
              "#0d0887"
             ],
             [
              0.1111111111111111,
              "#46039f"
             ],
             [
              0.2222222222222222,
              "#7201a8"
             ],
             [
              0.3333333333333333,
              "#9c179e"
             ],
             [
              0.4444444444444444,
              "#bd3786"
             ],
             [
              0.5555555555555556,
              "#d8576b"
             ],
             [
              0.6666666666666666,
              "#ed7953"
             ],
             [
              0.7777777777777778,
              "#fb9f3a"
             ],
             [
              0.8888888888888888,
              "#fdca26"
             ],
             [
              1,
              "#f0f921"
             ]
            ],
            "type": "heatmapgl"
           }
          ],
          "histogram": [
           {
            "marker": {
             "pattern": {
              "fillmode": "overlay",
              "size": 10,
              "solidity": 0.2
             }
            },
            "type": "histogram"
           }
          ],
          "histogram2d": [
           {
            "colorbar": {
             "outlinewidth": 0,
             "ticks": ""
            },
            "colorscale": [
             [
              0,
              "#0d0887"
             ],
             [
              0.1111111111111111,
              "#46039f"
             ],
             [
              0.2222222222222222,
              "#7201a8"
             ],
             [
              0.3333333333333333,
              "#9c179e"
             ],
             [
              0.4444444444444444,
              "#bd3786"
             ],
             [
              0.5555555555555556,
              "#d8576b"
             ],
             [
              0.6666666666666666,
              "#ed7953"
             ],
             [
              0.7777777777777778,
              "#fb9f3a"
             ],
             [
              0.8888888888888888,
              "#fdca26"
             ],
             [
              1,
              "#f0f921"
             ]
            ],
            "type": "histogram2d"
           }
          ],
          "histogram2dcontour": [
           {
            "colorbar": {
             "outlinewidth": 0,
             "ticks": ""
            },
            "colorscale": [
             [
              0,
              "#0d0887"
             ],
             [
              0.1111111111111111,
              "#46039f"
             ],
             [
              0.2222222222222222,
              "#7201a8"
             ],
             [
              0.3333333333333333,
              "#9c179e"
             ],
             [
              0.4444444444444444,
              "#bd3786"
             ],
             [
              0.5555555555555556,
              "#d8576b"
             ],
             [
              0.6666666666666666,
              "#ed7953"
             ],
             [
              0.7777777777777778,
              "#fb9f3a"
             ],
             [
              0.8888888888888888,
              "#fdca26"
             ],
             [
              1,
              "#f0f921"
             ]
            ],
            "type": "histogram2dcontour"
           }
          ],
          "mesh3d": [
           {
            "colorbar": {
             "outlinewidth": 0,
             "ticks": ""
            },
            "type": "mesh3d"
           }
          ],
          "parcoords": [
           {
            "line": {
             "colorbar": {
              "outlinewidth": 0,
              "ticks": ""
             }
            },
            "type": "parcoords"
           }
          ],
          "pie": [
           {
            "automargin": true,
            "type": "pie"
           }
          ],
          "scatter": [
           {
            "marker": {
             "line": {
              "color": "#283442"
             }
            },
            "type": "scatter"
           }
          ],
          "scatter3d": [
           {
            "line": {
             "colorbar": {
              "outlinewidth": 0,
              "ticks": ""
             }
            },
            "marker": {
             "colorbar": {
              "outlinewidth": 0,
              "ticks": ""
             }
            },
            "type": "scatter3d"
           }
          ],
          "scattercarpet": [
           {
            "marker": {
             "colorbar": {
              "outlinewidth": 0,
              "ticks": ""
             }
            },
            "type": "scattercarpet"
           }
          ],
          "scattergeo": [
           {
            "marker": {
             "colorbar": {
              "outlinewidth": 0,
              "ticks": ""
             }
            },
            "type": "scattergeo"
           }
          ],
          "scattergl": [
           {
            "marker": {
             "line": {
              "color": "#283442"
             }
            },
            "type": "scattergl"
           }
          ],
          "scattermapbox": [
           {
            "marker": {
             "colorbar": {
              "outlinewidth": 0,
              "ticks": ""
             }
            },
            "type": "scattermapbox"
           }
          ],
          "scatterpolar": [
           {
            "marker": {
             "colorbar": {
              "outlinewidth": 0,
              "ticks": ""
             }
            },
            "type": "scatterpolar"
           }
          ],
          "scatterpolargl": [
           {
            "marker": {
             "colorbar": {
              "outlinewidth": 0,
              "ticks": ""
             }
            },
            "type": "scatterpolargl"
           }
          ],
          "scatterternary": [
           {
            "marker": {
             "colorbar": {
              "outlinewidth": 0,
              "ticks": ""
             }
            },
            "type": "scatterternary"
           }
          ],
          "surface": [
           {
            "colorbar": {
             "outlinewidth": 0,
             "ticks": ""
            },
            "colorscale": [
             [
              0,
              "#0d0887"
             ],
             [
              0.1111111111111111,
              "#46039f"
             ],
             [
              0.2222222222222222,
              "#7201a8"
             ],
             [
              0.3333333333333333,
              "#9c179e"
             ],
             [
              0.4444444444444444,
              "#bd3786"
             ],
             [
              0.5555555555555556,
              "#d8576b"
             ],
             [
              0.6666666666666666,
              "#ed7953"
             ],
             [
              0.7777777777777778,
              "#fb9f3a"
             ],
             [
              0.8888888888888888,
              "#fdca26"
             ],
             [
              1,
              "#f0f921"
             ]
            ],
            "type": "surface"
           }
          ],
          "table": [
           {
            "cells": {
             "fill": {
              "color": "#506784"
             },
             "line": {
              "color": "rgb(17,17,17)"
             }
            },
            "header": {
             "fill": {
              "color": "#2a3f5f"
             },
             "line": {
              "color": "rgb(17,17,17)"
             }
            },
            "type": "table"
           }
          ]
         },
         "layout": {
          "annotationdefaults": {
           "arrowcolor": "#f2f5fa",
           "arrowhead": 0,
           "arrowwidth": 1
          },
          "autotypenumbers": "strict",
          "coloraxis": {
           "colorbar": {
            "outlinewidth": 0,
            "ticks": ""
           }
          },
          "colorscale": {
           "diverging": [
            [
             0,
             "#8e0152"
            ],
            [
             0.1,
             "#c51b7d"
            ],
            [
             0.2,
             "#de77ae"
            ],
            [
             0.3,
             "#f1b6da"
            ],
            [
             0.4,
             "#fde0ef"
            ],
            [
             0.5,
             "#f7f7f7"
            ],
            [
             0.6,
             "#e6f5d0"
            ],
            [
             0.7,
             "#b8e186"
            ],
            [
             0.8,
             "#7fbc41"
            ],
            [
             0.9,
             "#4d9221"
            ],
            [
             1,
             "#276419"
            ]
           ],
           "sequential": [
            [
             0,
             "#0d0887"
            ],
            [
             0.1111111111111111,
             "#46039f"
            ],
            [
             0.2222222222222222,
             "#7201a8"
            ],
            [
             0.3333333333333333,
             "#9c179e"
            ],
            [
             0.4444444444444444,
             "#bd3786"
            ],
            [
             0.5555555555555556,
             "#d8576b"
            ],
            [
             0.6666666666666666,
             "#ed7953"
            ],
            [
             0.7777777777777778,
             "#fb9f3a"
            ],
            [
             0.8888888888888888,
             "#fdca26"
            ],
            [
             1,
             "#f0f921"
            ]
           ],
           "sequentialminus": [
            [
             0,
             "#0d0887"
            ],
            [
             0.1111111111111111,
             "#46039f"
            ],
            [
             0.2222222222222222,
             "#7201a8"
            ],
            [
             0.3333333333333333,
             "#9c179e"
            ],
            [
             0.4444444444444444,
             "#bd3786"
            ],
            [
             0.5555555555555556,
             "#d8576b"
            ],
            [
             0.6666666666666666,
             "#ed7953"
            ],
            [
             0.7777777777777778,
             "#fb9f3a"
            ],
            [
             0.8888888888888888,
             "#fdca26"
            ],
            [
             1,
             "#f0f921"
            ]
           ]
          },
          "colorway": [
           "#636efa",
           "#EF553B",
           "#00cc96",
           "#ab63fa",
           "#FFA15A",
           "#19d3f3",
           "#FF6692",
           "#B6E880",
           "#FF97FF",
           "#FECB52"
          ],
          "font": {
           "color": "#f2f5fa"
          },
          "geo": {
           "bgcolor": "rgb(17,17,17)",
           "lakecolor": "rgb(17,17,17)",
           "landcolor": "rgb(17,17,17)",
           "showlakes": true,
           "showland": true,
           "subunitcolor": "#506784"
          },
          "hoverlabel": {
           "align": "left"
          },
          "hovermode": "closest",
          "mapbox": {
           "style": "dark"
          },
          "paper_bgcolor": "rgb(17,17,17)",
          "plot_bgcolor": "rgb(17,17,17)",
          "polar": {
           "angularaxis": {
            "gridcolor": "#506784",
            "linecolor": "#506784",
            "ticks": ""
           },
           "bgcolor": "rgb(17,17,17)",
           "radialaxis": {
            "gridcolor": "#506784",
            "linecolor": "#506784",
            "ticks": ""
           }
          },
          "scene": {
           "xaxis": {
            "backgroundcolor": "rgb(17,17,17)",
            "gridcolor": "#506784",
            "gridwidth": 2,
            "linecolor": "#506784",
            "showbackground": true,
            "ticks": "",
            "zerolinecolor": "#C8D4E3"
           },
           "yaxis": {
            "backgroundcolor": "rgb(17,17,17)",
            "gridcolor": "#506784",
            "gridwidth": 2,
            "linecolor": "#506784",
            "showbackground": true,
            "ticks": "",
            "zerolinecolor": "#C8D4E3"
           },
           "zaxis": {
            "backgroundcolor": "rgb(17,17,17)",
            "gridcolor": "#506784",
            "gridwidth": 2,
            "linecolor": "#506784",
            "showbackground": true,
            "ticks": "",
            "zerolinecolor": "#C8D4E3"
           }
          },
          "shapedefaults": {
           "line": {
            "color": "#f2f5fa"
           }
          },
          "sliderdefaults": {
           "bgcolor": "#C8D4E3",
           "bordercolor": "rgb(17,17,17)",
           "borderwidth": 1,
           "tickwidth": 0
          },
          "ternary": {
           "aaxis": {
            "gridcolor": "#506784",
            "linecolor": "#506784",
            "ticks": ""
           },
           "baxis": {
            "gridcolor": "#506784",
            "linecolor": "#506784",
            "ticks": ""
           },
           "bgcolor": "rgb(17,17,17)",
           "caxis": {
            "gridcolor": "#506784",
            "linecolor": "#506784",
            "ticks": ""
           }
          },
          "title": {
           "x": 0.05
          },
          "updatemenudefaults": {
           "bgcolor": "#506784",
           "borderwidth": 0
          },
          "xaxis": {
           "automargin": true,
           "gridcolor": "#283442",
           "linecolor": "#506784",
           "ticks": "",
           "title": {
            "standoff": 15
           },
           "zerolinecolor": "#283442",
           "zerolinewidth": 2
          },
          "yaxis": {
           "automargin": true,
           "gridcolor": "#283442",
           "linecolor": "#506784",
           "ticks": "",
           "title": {
            "standoff": 15
           },
           "zerolinecolor": "#283442",
           "zerolinewidth": 2
          }
         }
        },
        "title": {
         "text": "Boxplot of Numerical Variables"
        },
        "xaxis": {
         "anchor": "y",
         "domain": [
          0,
          0.2888888888888889
         ]
        },
        "xaxis10": {
         "anchor": "y10",
         "domain": [
          0,
          0.2888888888888889
         ]
        },
        "xaxis11": {
         "anchor": "y11",
         "domain": [
          0.35555555555555557,
          0.6444444444444445
         ]
        },
        "xaxis12": {
         "anchor": "y12",
         "domain": [
          0.7111111111111111,
          1
         ]
        },
        "xaxis13": {
         "anchor": "y13",
         "domain": [
          0,
          0.2888888888888889
         ]
        },
        "xaxis14": {
         "anchor": "y14",
         "domain": [
          0.35555555555555557,
          0.6444444444444445
         ]
        },
        "xaxis15": {
         "anchor": "y15",
         "domain": [
          0.7111111111111111,
          1
         ]
        },
        "xaxis16": {
         "anchor": "y16",
         "domain": [
          0,
          0.2888888888888889
         ]
        },
        "xaxis17": {
         "anchor": "y17",
         "domain": [
          0.35555555555555557,
          0.6444444444444445
         ]
        },
        "xaxis18": {
         "anchor": "y18",
         "domain": [
          0.7111111111111111,
          1
         ]
        },
        "xaxis19": {
         "anchor": "y19",
         "domain": [
          0,
          0.2888888888888889
         ]
        },
        "xaxis2": {
         "anchor": "y2",
         "domain": [
          0.35555555555555557,
          0.6444444444444445
         ]
        },
        "xaxis20": {
         "anchor": "y20",
         "domain": [
          0.35555555555555557,
          0.6444444444444445
         ]
        },
        "xaxis21": {
         "anchor": "y21",
         "domain": [
          0.7111111111111111,
          1
         ]
        },
        "xaxis22": {
         "anchor": "y22",
         "domain": [
          0,
          0.2888888888888889
         ]
        },
        "xaxis23": {
         "anchor": "y23",
         "domain": [
          0.35555555555555557,
          0.6444444444444445
         ]
        },
        "xaxis24": {
         "anchor": "y24",
         "domain": [
          0.7111111111111111,
          1
         ]
        },
        "xaxis25": {
         "anchor": "y25",
         "domain": [
          0,
          0.2888888888888889
         ]
        },
        "xaxis26": {
         "anchor": "y26",
         "domain": [
          0.35555555555555557,
          0.6444444444444445
         ]
        },
        "xaxis27": {
         "anchor": "y27",
         "domain": [
          0.7111111111111111,
          1
         ]
        },
        "xaxis28": {
         "anchor": "y28",
         "domain": [
          0,
          0.2888888888888889
         ]
        },
        "xaxis29": {
         "anchor": "y29",
         "domain": [
          0.35555555555555557,
          0.6444444444444445
         ]
        },
        "xaxis3": {
         "anchor": "y3",
         "domain": [
          0.7111111111111111,
          1
         ]
        },
        "xaxis30": {
         "anchor": "y30",
         "domain": [
          0.7111111111111111,
          1
         ]
        },
        "xaxis31": {
         "anchor": "y31",
         "domain": [
          0,
          0.2888888888888889
         ]
        },
        "xaxis32": {
         "anchor": "y32",
         "domain": [
          0.35555555555555557,
          0.6444444444444445
         ]
        },
        "xaxis33": {
         "anchor": "y33",
         "domain": [
          0.7111111111111111,
          1
         ]
        },
        "xaxis34": {
         "anchor": "y34",
         "domain": [
          0,
          0.2888888888888889
         ]
        },
        "xaxis35": {
         "anchor": "y35",
         "domain": [
          0.35555555555555557,
          0.6444444444444445
         ]
        },
        "xaxis36": {
         "anchor": "y36",
         "domain": [
          0.7111111111111111,
          1
         ]
        },
        "xaxis37": {
         "anchor": "y37",
         "domain": [
          0,
          0.2888888888888889
         ]
        },
        "xaxis38": {
         "anchor": "y38",
         "domain": [
          0.35555555555555557,
          0.6444444444444445
         ]
        },
        "xaxis39": {
         "anchor": "y39",
         "domain": [
          0.7111111111111111,
          1
         ]
        },
        "xaxis4": {
         "anchor": "y4",
         "domain": [
          0,
          0.2888888888888889
         ]
        },
        "xaxis5": {
         "anchor": "y5",
         "domain": [
          0.35555555555555557,
          0.6444444444444445
         ]
        },
        "xaxis6": {
         "anchor": "y6",
         "domain": [
          0.7111111111111111,
          1
         ]
        },
        "xaxis7": {
         "anchor": "y7",
         "domain": [
          0,
          0.2888888888888889
         ]
        },
        "xaxis8": {
         "anchor": "y8",
         "domain": [
          0.35555555555555557,
          0.6444444444444445
         ]
        },
        "xaxis9": {
         "anchor": "y9",
         "domain": [
          0.7111111111111111,
          1
         ]
        },
        "yaxis": {
         "anchor": "x",
         "domain": [
          0.9585798816568047,
          1
         ]
        },
        "yaxis10": {
         "anchor": "x10",
         "domain": [
          0.7189349112426036,
          0.7603550295857988
         ]
        },
        "yaxis11": {
         "anchor": "x11",
         "domain": [
          0.7189349112426036,
          0.7603550295857988
         ]
        },
        "yaxis12": {
         "anchor": "x12",
         "domain": [
          0.7189349112426036,
          0.7603550295857988
         ]
        },
        "yaxis13": {
         "anchor": "x13",
         "domain": [
          0.6390532544378698,
          0.680473372781065
         ]
        },
        "yaxis14": {
         "anchor": "x14",
         "domain": [
          0.6390532544378698,
          0.680473372781065
         ]
        },
        "yaxis15": {
         "anchor": "x15",
         "domain": [
          0.6390532544378698,
          0.680473372781065
         ]
        },
        "yaxis16": {
         "anchor": "x16",
         "domain": [
          0.5591715976331362,
          0.6005917159763314
         ]
        },
        "yaxis17": {
         "anchor": "x17",
         "domain": [
          0.5591715976331362,
          0.6005917159763314
         ]
        },
        "yaxis18": {
         "anchor": "x18",
         "domain": [
          0.5591715976331362,
          0.6005917159763314
         ]
        },
        "yaxis19": {
         "anchor": "x19",
         "domain": [
          0.47928994082840237,
          0.5207100591715976
         ]
        },
        "yaxis2": {
         "anchor": "x2",
         "domain": [
          0.9585798816568047,
          1
         ]
        },
        "yaxis20": {
         "anchor": "x20",
         "domain": [
          0.47928994082840237,
          0.5207100591715976
         ]
        },
        "yaxis21": {
         "anchor": "x21",
         "domain": [
          0.47928994082840237,
          0.5207100591715976
         ]
        },
        "yaxis22": {
         "anchor": "x22",
         "domain": [
          0.3994082840236686,
          0.4408284023668639
         ]
        },
        "yaxis23": {
         "anchor": "x23",
         "domain": [
          0.3994082840236686,
          0.4408284023668639
         ]
        },
        "yaxis24": {
         "anchor": "x24",
         "domain": [
          0.3994082840236686,
          0.4408284023668639
         ]
        },
        "yaxis25": {
         "anchor": "x25",
         "domain": [
          0.3195266272189349,
          0.36094674556213013
         ]
        },
        "yaxis26": {
         "anchor": "x26",
         "domain": [
          0.3195266272189349,
          0.36094674556213013
         ]
        },
        "yaxis27": {
         "anchor": "x27",
         "domain": [
          0.3195266272189349,
          0.36094674556213013
         ]
        },
        "yaxis28": {
         "anchor": "x28",
         "domain": [
          0.23964497041420119,
          0.28106508875739644
         ]
        },
        "yaxis29": {
         "anchor": "x29",
         "domain": [
          0.23964497041420119,
          0.28106508875739644
         ]
        },
        "yaxis3": {
         "anchor": "x3",
         "domain": [
          0.9585798816568047,
          1
         ]
        },
        "yaxis30": {
         "anchor": "x30",
         "domain": [
          0.23964497041420119,
          0.28106508875739644
         ]
        },
        "yaxis31": {
         "anchor": "x31",
         "domain": [
          0.15976331360946744,
          0.2011834319526627
         ]
        },
        "yaxis32": {
         "anchor": "x32",
         "domain": [
          0.15976331360946744,
          0.2011834319526627
         ]
        },
        "yaxis33": {
         "anchor": "x33",
         "domain": [
          0.15976331360946744,
          0.2011834319526627
         ]
        },
        "yaxis34": {
         "anchor": "x34",
         "domain": [
          0.07988165680473372,
          0.12130177514792898
         ]
        },
        "yaxis35": {
         "anchor": "x35",
         "domain": [
          0.07988165680473372,
          0.12130177514792898
         ]
        },
        "yaxis36": {
         "anchor": "x36",
         "domain": [
          0.07988165680473372,
          0.12130177514792898
         ]
        },
        "yaxis37": {
         "anchor": "x37",
         "domain": [
          0,
          0.04142011834319526
         ]
        },
        "yaxis38": {
         "anchor": "x38",
         "domain": [
          0,
          0.04142011834319526
         ]
        },
        "yaxis39": {
         "anchor": "x39",
         "domain": [
          0,
          0.04142011834319526
         ]
        },
        "yaxis4": {
         "anchor": "x4",
         "domain": [
          0.8786982248520709,
          0.9201183431952662
         ]
        },
        "yaxis5": {
         "anchor": "x5",
         "domain": [
          0.8786982248520709,
          0.9201183431952662
         ]
        },
        "yaxis6": {
         "anchor": "x6",
         "domain": [
          0.8786982248520709,
          0.9201183431952662
         ]
        },
        "yaxis7": {
         "anchor": "x7",
         "domain": [
          0.7988165680473372,
          0.8402366863905325
         ]
        },
        "yaxis8": {
         "anchor": "x8",
         "domain": [
          0.7988165680473372,
          0.8402366863905325
         ]
        },
        "yaxis9": {
         "anchor": "x9",
         "domain": [
          0.7988165680473372,
          0.8402366863905325
         ]
        }
       }
      }
     },
     "metadata": {},
     "output_type": "display_data"
    }
   ],
   "source": [
    "top_companies_cols = df_top_companies_cols_num.columns\n",
    "num_columns = len(top_companies_cols)\n",
    "num_rows = (num_columns + 2) // 3\n",
    "\n",
    "subplot_titles = [str(col) for col in top_companies_cols]\n",
    "\n",
    "fig = sp.make_subplots(rows=num_rows, cols=3, subplot_titles=subplot_titles)\n",
    "\n",
    "for i, column in enumerate(top_companies_cols, start=1):\n",
    "    row = (i - 1) // 3 + 1\n",
    "    col = (i - 1) % 3 + 1\n",
    "\n",
    "    trace = go.Box(y=df_top_companies[column], name=column, \n",
    "                   marker_color='lightseagreen', boxpoints='outliers', \n",
    "                   jitter=0.7, hoverinfo='y+text', \n",
    "                   text=(df_top_companies['ticker']+ ' - ' + df_top_companies['long_name']))\n",
    "\n",
    "    fig.add_trace(trace, row=row, col=col)\n",
    "\n",
    "fig.update_layout(title_text='Boxplot of Numerical Variables', height=300*num_rows, showlegend=False, template='plotly_dark')\n",
    "fig.show()"
   ]
  },
  {
   "cell_type": "markdown",
   "metadata": {},
   "source": [
    "**Petróleo Brasileiro S.A. - Petrobras: (PETR3.SA)**\n",
    "\n",
    "- **`market_cap`**:  Petrobras has an atypical market capitalization of **R$ 483,211,900,000**, reflecting its **significant size** in the energy sector.\n",
    "- **`total_revenue`**: **R$ 581.563 billion**. This metric reflects the total amount of revenue generated by Petrobras in its financial operations.\n",
    "- **`dividend_rate`**: The dividend rate of Petrobras at **9.28%** of the current stock value is **relatively high**, which may be seen as **positive** for investors seeking to receive **significant dividends**.\n",
    "- **`ebitda`**: Petrobras recorded an impressive EBITDA of **R$ 291 billion**, highlighting its **solid operational** and **financial performance** in the energy sector.\n",
    "- **`trailing_annual_dividend_rate`**: The unusual value of **9.65%** for Petrobras may be considered an **outlier**, indicating a **significantly high dividend rate** compared to other companies.\n",
    "- **`trailing_annual_dividend_yield`**: Petrobras's dividend yield is **0.24%**, showing the **dividends paid to investors** as a percentage of the stock price.\n",
    "- **`gross_profits`**: The field is **R$ 334.1 billion**, representing the company's total revenue before the deduction of operating expenses, taxes, and other charges.\n",
    "- **`roce`**: Return on Capital Employed is **0.38171**, indicating the company's efficiency in generating a return on invested capital. The higher the value, the better the efficiency in using its financial resources.\n",
    "\n",
    "**Itaúsa S.A. (ITSA4.SA)**\n",
    "\n",
    "- **`profit_margins`**:The field for Itaúsa represents the company's profit margin, which is **1.69976%**. This metric indicates the percentage of profit earned by Itaúsa in relation to its total revenue. That margin could be considered relatively low.\n",
    "- **`price_to_sales_trailing_12_months`**: The value of 11.09017 for Itaúsa indicates that the market is willing to pay **11.09x**  the company's sales revenue over the past 12 months for each share, which may reflect optimism regarding the company's financial performance.\n",
    "\n",
    "**Banco BTG Pactual S.A. (BPAC5.SA)**\n",
    "\n",
    "- **`beta`**:The beta value of 1.291 for Banco BTG Pactual S.A. indicates a relatively high level of volatility in its shares in relation to the market.\n",
    "- **`debt_to_equity`**: Banco BTG has a debt-to-equity ratio of **521.86**, reflecting a high-leverage strategy with intensive use of debt compared to its equity. This means that for every real of net equity, the bank has approximately **R$ 521,86 in debt**.\n",
    "\n",
    "**Telefônica Brasil S.A. (VIVT3.SA)**\n",
    "\n",
    "- **`beta`**: The company Vivo has a beta of **0.061**, indicating that its shares have very low volatility relative to the market, suggesting a less risky investment profile.\n",
    "\n",
    "**Vale S.A. (VALE3.SA)**\n",
    "\n",
    "- **`ebitda`**: Vale recorded an EBITDA of **R$ 85.364 billion**, highlighting its solid operational and financial performance in the banking sector.\n",
    "- **`fifty_two_week_low`**: Vale stock hits 52-week low. Closing value was **R$ 61.00**.\n",
    "\n",
    "**Centrais Elétricas Brasileiras S.A. - Eletrobrás (ELET3.SA)**\n",
    "\n",
    "- **`trailing_pe`**: Eletronbrás has a P/E ratio of **34.7**, which is considered relatively high. This means that investors are willing to pay a relatively high price for the company's shares.\n",
    "\n",
    "**WEG S.A. (WEGE3.SA)**\n",
    "\n",
    "- **`forward_pe`**: Investors are willing to pay **24.44x times** the company's expected earnings.\n",
    "_ **`price_to_book`**: Investors are willing to pay a relatively high price of **9x times** the company's book value.\n",
    "\n",
    "**Banco do Brasil S.A. (BBAS3.SA)**\n",
    "\n",
    "- **`dividend_payout_ratio`**: The dividend payout ratio (DPR) of **5.17%** is an unusually high number. This means that the company is distributing a very large portion of its profits to shareholders in the form of dividends."
   ]
  },
  {
   "cell_type": "markdown",
   "metadata": {},
   "source": [
    "### Histogram"
   ]
  },
  {
   "cell_type": "code",
   "execution_count": 13,
   "metadata": {},
   "outputs": [
    {
     "data": {
      "application/vnd.plotly.v1+json": {
       "config": {
        "plotlyServerURL": "https://plot.ly"
       },
       "data": [
        {
         "marker": {
          "color": "lightseagreen"
         },
         "name": "market_cap",
         "type": "histogram",
         "x": [
          483211870208,
          277694742528,
          248683167744,
          200723251200,
          148326612992,
          142338834432,
          140405981184,
          138442588160,
          86580977664,
          79292628992,
          76450242560
         ],
         "xaxis": "x",
         "yaxis": "y"
        },
        {
         "marker": {
          "color": "lightseagreen"
         },
         "name": "enterprise_value",
         "type": "histogram",
         "x": [
          729364037632,
          339907117056,
          707787489280,
          188845899776,
          43454111744,
          542111039488,
          957440589824,
          130366398464,
          93975281664,
          120118444032,
          88457805824
         ],
         "xaxis": "x2",
         "yaxis": "y2"
        },
        {
         "marker": {
          "color": "lightseagreen"
         },
         "name": "total_revenue",
         "type": "histogram",
         "x": [
          581562990592,
          206414004224,
          118938001408,
          82710536192,
          27751354368,
          72893186048,
          95328927744,
          31758307328,
          7807000064,
          35511730176,
          50311852032
         ],
         "xaxis": "x3",
         "yaxis": "y3"
        },
        {
         "marker": {
          "color": "lightseagreen"
         },
         "name": "profit_margins",
         "type": "histogram",
         "x": [
          0.26889,
          0.27585,
          0.26661,
          0.17263001,
          0.30291998,
          0.20718001,
          0.3483,
          0.15827,
          1.69976,
          0.04797,
          0.08991
         ],
         "xaxis": "x4",
         "yaxis": "y4"
        },
        {
         "marker": {
          "color": "lightseagreen"
         },
         "name": "operating_margins",
         "type": "histogram",
         "x": [
          0.39067,
          0.33672002,
          0.35896,
          0.18666,
          0.3496,
          0.22323999,
          0.45908,
          0.20575,
          0.20113,
          0.42603,
          0.16545
         ],
         "xaxis": "x5",
         "yaxis": "y5"
        },
        {
         "marker": {
          "color": "lightseagreen"
         },
         "name": "dividend_rate",
         "type": "histogram",
         "x": [
          9.28,
          3.84,
          1.5,
          0.76,
          0.35,
          0.23,
          0.94,
          0.32,
          0.74,
          0.22,
          2.58
         ],
         "xaxis": "x6",
         "yaxis": "y6"
        },
        {
         "marker": {
          "color": "lightseagreen"
         },
         "name": "beta",
         "type": "histogram",
         "x": [
          1.097,
          0.821,
          0.499,
          0.604,
          1.291,
          0.675,
          0.803,
          0.513,
          0.647,
          0.629,
          0.061
         ],
         "xaxis": "x7",
         "yaxis": "y7"
        },
        {
         "marker": {
          "color": "lightseagreen"
         },
         "name": "ebitda",
         "type": "histogram",
         "x": [
          291086991360,
          85363998720,
          0,
          22251536384,
          0,
          0,
          0,
          6480927744,
          2240000000,
          12748603392,
          15107942400
         ],
         "xaxis": "x8",
         "yaxis": "y8"
        },
        {
         "marker": {
          "color": "lightseagreen"
         },
         "name": "trailing_pe",
         "type": "histogram",
         "x": [
          2.914199,
          5.319043,
          8.557632,
          14.166667,
          11.260274,
          10.649254,
          3.770115,
          26.829268,
          6.7404585,
          34.7,
          17.02952
         ],
         "xaxis": "x9",
         "yaxis": "y9"
        },
        {
         "marker": {
          "color": "lightseagreen"
         },
         "name": "forward_pe",
         "type": "histogram",
         "x": [
          4.821608,
          5.421849,
          6.8675,
          12.75,
          0,
          6.150862,
          3.8051045,
          24.444445,
          5.553459,
          8.361445,
          13.613569
         ],
         "xaxis": "x10",
         "yaxis": "y10"
        },
        {
         "marker": {
          "color": "lightseagreen"
         },
         "name": "volume",
         "type": "histogram",
         "x": [
          2993300,
          4387500,
          10480300,
          8618800,
          2600,
          14450200,
          1529200,
          8227600,
          2919900,
          867000,
          518500
         ],
         "xaxis": "x11",
         "yaxis": "y11"
        },
        {
         "marker": {
          "color": "lightseagreen"
         },
         "name": "average_volume",
         "type": "histogram",
         "x": [
          13234123,
          25978987,
          24528203,
          24680549,
          6184,
          33278303,
          8738341,
          7064393,
          22110422,
          8876606,
          2252017
         ],
         "xaxis": "x12",
         "yaxis": "y12"
        },
        {
         "marker": {
          "color": "lightseagreen"
         },
         "name": "fifty_two_week_low",
         "type": "histogram",
         "x": [
          23.61,
          61,
          22.62,
          12.33,
          4.55,
          12.39,
          30.25,
          31.47,
          7.65,
          29.81,
          35.63
         ],
         "xaxis": "x13",
         "yaxis": "y13"
        },
        {
         "marker": {
          "color": "lightseagreen"
         },
         "name": "fifty_two_week_high",
         "type": "histogram",
         "x": [
          41.86,
          98.29,
          31.29,
          16.88,
          9.08,
          20.56,
          51.99,
          42.42,
          10.09,
          52.49,
          46.83
         ],
         "xaxis": "x14",
         "yaxis": "y14"
        },
        {
         "marker": {
          "color": "lightseagreen"
         },
         "name": "price_to_sales_trailing_12_months",
         "type": "histogram",
         "x": [
          0.8308848,
          1.3453289,
          2.090864,
          2.426816,
          5.3448424,
          1.9527043,
          1.4728581,
          4.359256,
          11.090173,
          2.2328575,
          1.5195276
         ],
         "xaxis": "x15",
         "yaxis": "y15"
        },
        {
         "marker": {
          "color": "lightseagreen"
         },
         "name": "fifty_day_average",
         "type": "histogram",
         "x": [
          37.0388,
          66.0796,
          27.277,
          13.4434,
          8.365,
          14.612,
          47.7504,
          35.499,
          9.11561,
          35.4158,
          43.6648
         ],
         "xaxis": "x16",
         "yaxis": "y16"
        },
        {
         "marker": {
          "color": "lightseagreen"
         },
         "name": "two_hundred_day_average",
         "type": "histogram",
         "x": [
          31.98075,
          73.07495,
          26.66895,
          14.1037,
          6.8769,
          14.7858,
          44.66415,
          38.03615,
          8.937748,
          35.99495,
          41.6027
         ],
         "xaxis": "x17",
         "yaxis": "y17"
        },
        {
         "marker": {
          "color": "lightseagreen"
         },
         "name": "trailing_annual_dividend_rate",
         "type": "histogram",
         "x": [
          9.657,
          4.037,
          0.503,
          0.762,
          0,
          0.401,
          4.5,
          0.67,
          0.515,
          1.494,
          1.902
         ],
         "xaxis": "x18",
         "yaxis": "y18"
        },
        {
         "marker": {
          "color": "lightseagreen"
         },
         "name": "trailing_annual_dividend_yield",
         "type": "histogram",
         "x": [
          0.24729833,
          0.063147195,
          0.018602071,
          0.061254025,
          0,
          0.028359264,
          0.09174312,
          0.021290118,
          0.05912744,
          0.043645926,
          0.041811384
         ],
         "xaxis": "x19",
         "yaxis": "y19"
        },
        {
         "marker": {
          "color": "lightseagreen"
         },
         "name": "book_value",
         "type": "histogram",
         "x": [
          28.417,
          43.051,
          18.25,
          5.403,
          9.808,
          15.641,
          54.955,
          3.666,
          7.923,
          49.431,
          41.399
         ],
         "xaxis": "x20",
         "yaxis": "y20"
        },
        {
         "marker": {
          "color": "lightseagreen"
         },
         "name": "price_to_book",
         "type": "histogram",
         "x": [
          1.3506,
          1.4986876,
          1.5052054,
          2.3598,
          0.83809143,
          0.9123458,
          0.8952779,
          9.0016365,
          1.1144768,
          0.70198864,
          1.1147614
         ],
         "xaxis": "x21",
         "yaxis": "y21"
        },
        {
         "marker": {
          "color": "lightseagreen"
         },
         "name": "total_cash",
         "type": "histogram",
         "x": [
          60984999936,
          24238000128,
          394325000192,
          12430517248,
          221143449600,
          231553384448,
          82065874944,
          5480458752,
          7606000128,
          15801225216,
          5405902848
         ],
         "xaxis": "x22",
         "yaxis": "y22"
        },
        {
         "marker": {
          "color": "lightseagreen"
         },
         "name": "total_cash_per_share",
         "type": "histogram",
         "x": [
          4.675,
          5.58,
          40.237,
          0.789,
          46.436,
          21.758,
          28.757,
          1.306,
          0.784,
          7.011,
          3.26
         ],
         "xaxis": "x23",
         "yaxis": "y23"
        },
        {
         "marker": {
          "color": "lightseagreen"
         },
         "name": "total_debt",
         "type": "histogram",
         "x": [
          279374987264,
          79345999872,
          827033976832,
          4096230912,
          220720496640,
          622578565120,
          895776522240,
          3346563072,
          13237000192,
          58713391104,
          18377697280
         ],
         "xaxis": "x24",
         "yaxis": "y24"
        },
        {
         "marker": {
          "color": "lightseagreen"
         },
         "name": "earnings_quarterly_growth",
         "type": "histogram",
         "x": [
          -0.47,
          -0.848,
          0.181,
          -0.157,
          0.181,
          -0.447,
          0.087,
          0.499,
          0.168,
          0.206,
          0.472
         ],
         "xaxis": "x25",
         "yaxis": "y25"
        },
        {
         "marker": {
          "color": "lightseagreen"
         },
         "name": "revenue_growth",
         "type": "histogram",
         "x": [
          -0.334,
          -0.131,
          0.135,
          0.051,
          0.021,
          -0.27,
          0.091,
          0.137,
          -0.117,
          0.044,
          0.076
         ],
         "xaxis": "x26",
         "yaxis": "y26"
        },
        {
         "marker": {
          "color": "lightseagreen"
         },
         "name": "gross_margins",
         "type": "histogram",
         "x": [
          0.50633,
          0.39091,
          0,
          0.49945,
          0,
          0,
          0,
          0.31911,
          0.34546003,
          0.58912,
          0.47107
         ],
         "xaxis": "x27",
         "yaxis": "y27"
        },
        {
         "marker": {
          "color": "lightseagreen"
         },
         "name": "ebitda_margins",
         "type": "histogram",
         "x": [
          0.50053,
          0.41356,
          0,
          0.26903,
          0,
          0,
          0,
          0.20407,
          0.28691998,
          0.35900003,
          0.30029
         ],
         "xaxis": "x28",
         "yaxis": "y28"
        },
        {
         "marker": {
          "color": "lightseagreen"
         },
         "name": "return_on_assets",
         "type": "histogram",
         "x": [
          0.15427,
          0.099750005,
          0.0141900005,
          0.08271,
          0.0191,
          0.00853,
          0.017339999,
          0.13783,
          0.00854,
          0.02306,
          0.03836
         ],
         "xaxis": "x29",
         "yaxis": "y29"
        },
        {
         "marker": {
          "color": "lightseagreen"
         },
         "name": "return_on_equity",
         "type": "histogram",
         "x": [
          0.39988,
          0.29588,
          0.18295,
          0.16919,
          0.18284,
          0.09476,
          0.22474001,
          0.34605,
          0.18054001,
          0.01719,
          0.06606
         ],
         "xaxis": "x30",
         "yaxis": "y30"
        },
        {
         "marker": {
          "color": "lightseagreen"
         },
         "name": "gross_profits",
         "type": "histogram",
         "x": [
          334100000000,
          102313000000,
          115570000000,
          39286758000,
          26639299000,
          84471655000,
          89250526000,
          8695487000,
          2875000000,
          20697315000,
          22515040000
         ],
         "xaxis": "x31",
         "yaxis": "y31"
        },
        {
         "marker": {
          "color": "lightseagreen"
         },
         "name": "total_assets_approx",
         "type": "histogram",
         "x": [
          60984999964.417,
          24238000171.051,
          394325000210.25,
          12430517253.403,
          221143449609.808,
          231553384463.641,
          82065874998.955,
          5480458755.666,
          7606000135.923,
          15801225265.431,
          5405902889.399
         ],
         "xaxis": "x32",
         "yaxis": "y32"
        },
        {
         "marker": {
          "color": "lightseagreen"
         },
         "name": "asset_turnover",
         "type": "histogram",
         "x": [
          9.536164481943516,
          8.516131808206417,
          0.3016242980906194,
          6.653829000507362,
          0.1254902843243392,
          0.3148007800311199,
          1.1616147119032592,
          5.794826444988115,
          1.0264264954621392,
          2.2474035765878546,
          9.30683607555396
         ],
         "xaxis": "x33",
         "yaxis": "y33"
        },
        {
         "marker": {
          "color": "lightseagreen"
         },
         "name": "earnings_growth_rate",
         "type": "histogram",
         "x": [
          -47,
          -84.8,
          18.1,
          -15.7,
          18.1,
          -44.7,
          8.7,
          49.9,
          16.8,
          20.6,
          47.2
         ],
         "xaxis": "x34",
         "yaxis": "y34"
        },
        {
         "marker": {
          "color": "lightseagreen"
         },
         "name": "dividend_payout_ratio",
         "type": "histogram",
         "x": [
          0,
          0,
          277.90055248618785,
          0,
          0,
          0,
          5172.413793103448,
          134.2685370741483,
          306.54761904761904,
          725.242718446602,
          402.9661016949152
         ],
         "xaxis": "x35",
         "yaxis": "y35"
        },
        {
         "marker": {
          "color": "lightseagreen"
         },
         "name": "equity",
         "type": "histogram",
         "x": [
          -218389987299.583,
          -55107999700.949005,
          -432708976621.75,
          8334286341.403,
          422952969.8080139,
          -391025180656.359,
          -813710647241.045,
          2133895683.6660004,
          -5631000056.077,
          -42912165838.569,
          -12971794390.601
         ],
         "xaxis": "x36",
         "yaxis": "y36"
        },
        {
         "marker": {
          "color": "lightseagreen"
         },
         "name": "debt_to_equity",
         "type": "histogram",
         "x": [
          -1.2792481501487474,
          -1.4398272538031098,
          -1.911293782922712,
          0.491491501995891,
          521.8558856323649,
          -1.5921700082715002,
          -1.1008538788047155,
          1.5682880365785528,
          -2.35073700234021,
          -1.3682225065235236,
          -1.416742875088736
         ],
         "xaxis": "x37",
         "yaxis": "y37"
        },
        {
         "marker": {
          "color": "lightseagreen"
         },
         "name": "roi",
         "type": "histogram",
         "x": [
          0.7973562728430369,
          0.6072659084393137,
          0.168041966281419,
          0.4379789886362759,
          0.6386358679125874,
          0.1344617259903882,
          0.099566415668176,
          0.2436080746433283,
          0.0830750376669602,
          0.2956392788982476,
          0.5687666742729628
         ],
         "xaxis": "x38",
         "yaxis": "y38"
        },
        {
         "marker": {
          "color": "lightseagreen"
         },
         "name": "roce",
         "type": "histogram",
         "x": [
          0.3817099501622186,
          0.2390875566362255,
          0,
          0.108639745372622,
          0,
          0,
          0,
          0.045708206077034,
          0.0224408473114079,
          0.0923771541497377,
          0.159319525716694
         ],
         "xaxis": "x39",
         "yaxis": "y39"
        }
       ],
       "layout": {
        "annotations": [
         {
          "font": {
           "size": 16
          },
          "showarrow": false,
          "text": "market_cap",
          "x": 0.14444444444444446,
          "xanchor": "center",
          "xref": "paper",
          "y": 1,
          "yanchor": "bottom",
          "yref": "paper"
         },
         {
          "font": {
           "size": 16
          },
          "showarrow": false,
          "text": "enterprise_value",
          "x": 0.5,
          "xanchor": "center",
          "xref": "paper",
          "y": 1,
          "yanchor": "bottom",
          "yref": "paper"
         },
         {
          "font": {
           "size": 16
          },
          "showarrow": false,
          "text": "total_revenue",
          "x": 0.8555555555555556,
          "xanchor": "center",
          "xref": "paper",
          "y": 1,
          "yanchor": "bottom",
          "yref": "paper"
         },
         {
          "font": {
           "size": 16
          },
          "showarrow": false,
          "text": "profit_margins",
          "x": 0.14444444444444446,
          "xanchor": "center",
          "xref": "paper",
          "y": 0.9201183431952662,
          "yanchor": "bottom",
          "yref": "paper"
         },
         {
          "font": {
           "size": 16
          },
          "showarrow": false,
          "text": "operating_margins",
          "x": 0.5,
          "xanchor": "center",
          "xref": "paper",
          "y": 0.9201183431952662,
          "yanchor": "bottom",
          "yref": "paper"
         },
         {
          "font": {
           "size": 16
          },
          "showarrow": false,
          "text": "dividend_rate",
          "x": 0.8555555555555556,
          "xanchor": "center",
          "xref": "paper",
          "y": 0.9201183431952662,
          "yanchor": "bottom",
          "yref": "paper"
         },
         {
          "font": {
           "size": 16
          },
          "showarrow": false,
          "text": "beta",
          "x": 0.14444444444444446,
          "xanchor": "center",
          "xref": "paper",
          "y": 0.8402366863905325,
          "yanchor": "bottom",
          "yref": "paper"
         },
         {
          "font": {
           "size": 16
          },
          "showarrow": false,
          "text": "ebitda",
          "x": 0.5,
          "xanchor": "center",
          "xref": "paper",
          "y": 0.8402366863905325,
          "yanchor": "bottom",
          "yref": "paper"
         },
         {
          "font": {
           "size": 16
          },
          "showarrow": false,
          "text": "trailing_pe",
          "x": 0.8555555555555556,
          "xanchor": "center",
          "xref": "paper",
          "y": 0.8402366863905325,
          "yanchor": "bottom",
          "yref": "paper"
         },
         {
          "font": {
           "size": 16
          },
          "showarrow": false,
          "text": "forward_pe",
          "x": 0.14444444444444446,
          "xanchor": "center",
          "xref": "paper",
          "y": 0.7603550295857988,
          "yanchor": "bottom",
          "yref": "paper"
         },
         {
          "font": {
           "size": 16
          },
          "showarrow": false,
          "text": "volume",
          "x": 0.5,
          "xanchor": "center",
          "xref": "paper",
          "y": 0.7603550295857988,
          "yanchor": "bottom",
          "yref": "paper"
         },
         {
          "font": {
           "size": 16
          },
          "showarrow": false,
          "text": "average_volume",
          "x": 0.8555555555555556,
          "xanchor": "center",
          "xref": "paper",
          "y": 0.7603550295857988,
          "yanchor": "bottom",
          "yref": "paper"
         },
         {
          "font": {
           "size": 16
          },
          "showarrow": false,
          "text": "fifty_two_week_low",
          "x": 0.14444444444444446,
          "xanchor": "center",
          "xref": "paper",
          "y": 0.680473372781065,
          "yanchor": "bottom",
          "yref": "paper"
         },
         {
          "font": {
           "size": 16
          },
          "showarrow": false,
          "text": "fifty_two_week_high",
          "x": 0.5,
          "xanchor": "center",
          "xref": "paper",
          "y": 0.680473372781065,
          "yanchor": "bottom",
          "yref": "paper"
         },
         {
          "font": {
           "size": 16
          },
          "showarrow": false,
          "text": "price_to_sales_trailing_12_months",
          "x": 0.8555555555555556,
          "xanchor": "center",
          "xref": "paper",
          "y": 0.680473372781065,
          "yanchor": "bottom",
          "yref": "paper"
         },
         {
          "font": {
           "size": 16
          },
          "showarrow": false,
          "text": "fifty_day_average",
          "x": 0.14444444444444446,
          "xanchor": "center",
          "xref": "paper",
          "y": 0.6005917159763314,
          "yanchor": "bottom",
          "yref": "paper"
         },
         {
          "font": {
           "size": 16
          },
          "showarrow": false,
          "text": "two_hundred_day_average",
          "x": 0.5,
          "xanchor": "center",
          "xref": "paper",
          "y": 0.6005917159763314,
          "yanchor": "bottom",
          "yref": "paper"
         },
         {
          "font": {
           "size": 16
          },
          "showarrow": false,
          "text": "trailing_annual_dividend_rate",
          "x": 0.8555555555555556,
          "xanchor": "center",
          "xref": "paper",
          "y": 0.6005917159763314,
          "yanchor": "bottom",
          "yref": "paper"
         },
         {
          "font": {
           "size": 16
          },
          "showarrow": false,
          "text": "trailing_annual_dividend_yield",
          "x": 0.14444444444444446,
          "xanchor": "center",
          "xref": "paper",
          "y": 0.5207100591715976,
          "yanchor": "bottom",
          "yref": "paper"
         },
         {
          "font": {
           "size": 16
          },
          "showarrow": false,
          "text": "book_value",
          "x": 0.5,
          "xanchor": "center",
          "xref": "paper",
          "y": 0.5207100591715976,
          "yanchor": "bottom",
          "yref": "paper"
         },
         {
          "font": {
           "size": 16
          },
          "showarrow": false,
          "text": "price_to_book",
          "x": 0.8555555555555556,
          "xanchor": "center",
          "xref": "paper",
          "y": 0.5207100591715976,
          "yanchor": "bottom",
          "yref": "paper"
         },
         {
          "font": {
           "size": 16
          },
          "showarrow": false,
          "text": "total_cash",
          "x": 0.14444444444444446,
          "xanchor": "center",
          "xref": "paper",
          "y": 0.4408284023668639,
          "yanchor": "bottom",
          "yref": "paper"
         },
         {
          "font": {
           "size": 16
          },
          "showarrow": false,
          "text": "total_cash_per_share",
          "x": 0.5,
          "xanchor": "center",
          "xref": "paper",
          "y": 0.4408284023668639,
          "yanchor": "bottom",
          "yref": "paper"
         },
         {
          "font": {
           "size": 16
          },
          "showarrow": false,
          "text": "total_debt",
          "x": 0.8555555555555556,
          "xanchor": "center",
          "xref": "paper",
          "y": 0.4408284023668639,
          "yanchor": "bottom",
          "yref": "paper"
         },
         {
          "font": {
           "size": 16
          },
          "showarrow": false,
          "text": "earnings_quarterly_growth",
          "x": 0.14444444444444446,
          "xanchor": "center",
          "xref": "paper",
          "y": 0.36094674556213013,
          "yanchor": "bottom",
          "yref": "paper"
         },
         {
          "font": {
           "size": 16
          },
          "showarrow": false,
          "text": "revenue_growth",
          "x": 0.5,
          "xanchor": "center",
          "xref": "paper",
          "y": 0.36094674556213013,
          "yanchor": "bottom",
          "yref": "paper"
         },
         {
          "font": {
           "size": 16
          },
          "showarrow": false,
          "text": "gross_margins",
          "x": 0.8555555555555556,
          "xanchor": "center",
          "xref": "paper",
          "y": 0.36094674556213013,
          "yanchor": "bottom",
          "yref": "paper"
         },
         {
          "font": {
           "size": 16
          },
          "showarrow": false,
          "text": "ebitda_margins",
          "x": 0.14444444444444446,
          "xanchor": "center",
          "xref": "paper",
          "y": 0.28106508875739644,
          "yanchor": "bottom",
          "yref": "paper"
         },
         {
          "font": {
           "size": 16
          },
          "showarrow": false,
          "text": "return_on_assets",
          "x": 0.5,
          "xanchor": "center",
          "xref": "paper",
          "y": 0.28106508875739644,
          "yanchor": "bottom",
          "yref": "paper"
         },
         {
          "font": {
           "size": 16
          },
          "showarrow": false,
          "text": "return_on_equity",
          "x": 0.8555555555555556,
          "xanchor": "center",
          "xref": "paper",
          "y": 0.28106508875739644,
          "yanchor": "bottom",
          "yref": "paper"
         },
         {
          "font": {
           "size": 16
          },
          "showarrow": false,
          "text": "gross_profits",
          "x": 0.14444444444444446,
          "xanchor": "center",
          "xref": "paper",
          "y": 0.2011834319526627,
          "yanchor": "bottom",
          "yref": "paper"
         },
         {
          "font": {
           "size": 16
          },
          "showarrow": false,
          "text": "total_assets_approx",
          "x": 0.5,
          "xanchor": "center",
          "xref": "paper",
          "y": 0.2011834319526627,
          "yanchor": "bottom",
          "yref": "paper"
         },
         {
          "font": {
           "size": 16
          },
          "showarrow": false,
          "text": "asset_turnover",
          "x": 0.8555555555555556,
          "xanchor": "center",
          "xref": "paper",
          "y": 0.2011834319526627,
          "yanchor": "bottom",
          "yref": "paper"
         },
         {
          "font": {
           "size": 16
          },
          "showarrow": false,
          "text": "earnings_growth_rate",
          "x": 0.14444444444444446,
          "xanchor": "center",
          "xref": "paper",
          "y": 0.12130177514792898,
          "yanchor": "bottom",
          "yref": "paper"
         },
         {
          "font": {
           "size": 16
          },
          "showarrow": false,
          "text": "dividend_payout_ratio",
          "x": 0.5,
          "xanchor": "center",
          "xref": "paper",
          "y": 0.12130177514792898,
          "yanchor": "bottom",
          "yref": "paper"
         },
         {
          "font": {
           "size": 16
          },
          "showarrow": false,
          "text": "equity",
          "x": 0.8555555555555556,
          "xanchor": "center",
          "xref": "paper",
          "y": 0.12130177514792898,
          "yanchor": "bottom",
          "yref": "paper"
         },
         {
          "font": {
           "size": 16
          },
          "showarrow": false,
          "text": "debt_to_equity",
          "x": 0.14444444444444446,
          "xanchor": "center",
          "xref": "paper",
          "y": 0.04142011834319526,
          "yanchor": "bottom",
          "yref": "paper"
         },
         {
          "font": {
           "size": 16
          },
          "showarrow": false,
          "text": "roi",
          "x": 0.5,
          "xanchor": "center",
          "xref": "paper",
          "y": 0.04142011834319526,
          "yanchor": "bottom",
          "yref": "paper"
         },
         {
          "font": {
           "size": 16
          },
          "showarrow": false,
          "text": "roce",
          "x": 0.8555555555555556,
          "xanchor": "center",
          "xref": "paper",
          "y": 0.04142011834319526,
          "yanchor": "bottom",
          "yref": "paper"
         }
        ],
        "height": 3900,
        "showlegend": false,
        "template": {
         "data": {
          "bar": [
           {
            "error_x": {
             "color": "#f2f5fa"
            },
            "error_y": {
             "color": "#f2f5fa"
            },
            "marker": {
             "line": {
              "color": "rgb(17,17,17)",
              "width": 0.5
             },
             "pattern": {
              "fillmode": "overlay",
              "size": 10,
              "solidity": 0.2
             }
            },
            "type": "bar"
           }
          ],
          "barpolar": [
           {
            "marker": {
             "line": {
              "color": "rgb(17,17,17)",
              "width": 0.5
             },
             "pattern": {
              "fillmode": "overlay",
              "size": 10,
              "solidity": 0.2
             }
            },
            "type": "barpolar"
           }
          ],
          "carpet": [
           {
            "aaxis": {
             "endlinecolor": "#A2B1C6",
             "gridcolor": "#506784",
             "linecolor": "#506784",
             "minorgridcolor": "#506784",
             "startlinecolor": "#A2B1C6"
            },
            "baxis": {
             "endlinecolor": "#A2B1C6",
             "gridcolor": "#506784",
             "linecolor": "#506784",
             "minorgridcolor": "#506784",
             "startlinecolor": "#A2B1C6"
            },
            "type": "carpet"
           }
          ],
          "choropleth": [
           {
            "colorbar": {
             "outlinewidth": 0,
             "ticks": ""
            },
            "type": "choropleth"
           }
          ],
          "contour": [
           {
            "colorbar": {
             "outlinewidth": 0,
             "ticks": ""
            },
            "colorscale": [
             [
              0,
              "#0d0887"
             ],
             [
              0.1111111111111111,
              "#46039f"
             ],
             [
              0.2222222222222222,
              "#7201a8"
             ],
             [
              0.3333333333333333,
              "#9c179e"
             ],
             [
              0.4444444444444444,
              "#bd3786"
             ],
             [
              0.5555555555555556,
              "#d8576b"
             ],
             [
              0.6666666666666666,
              "#ed7953"
             ],
             [
              0.7777777777777778,
              "#fb9f3a"
             ],
             [
              0.8888888888888888,
              "#fdca26"
             ],
             [
              1,
              "#f0f921"
             ]
            ],
            "type": "contour"
           }
          ],
          "contourcarpet": [
           {
            "colorbar": {
             "outlinewidth": 0,
             "ticks": ""
            },
            "type": "contourcarpet"
           }
          ],
          "heatmap": [
           {
            "colorbar": {
             "outlinewidth": 0,
             "ticks": ""
            },
            "colorscale": [
             [
              0,
              "#0d0887"
             ],
             [
              0.1111111111111111,
              "#46039f"
             ],
             [
              0.2222222222222222,
              "#7201a8"
             ],
             [
              0.3333333333333333,
              "#9c179e"
             ],
             [
              0.4444444444444444,
              "#bd3786"
             ],
             [
              0.5555555555555556,
              "#d8576b"
             ],
             [
              0.6666666666666666,
              "#ed7953"
             ],
             [
              0.7777777777777778,
              "#fb9f3a"
             ],
             [
              0.8888888888888888,
              "#fdca26"
             ],
             [
              1,
              "#f0f921"
             ]
            ],
            "type": "heatmap"
           }
          ],
          "heatmapgl": [
           {
            "colorbar": {
             "outlinewidth": 0,
             "ticks": ""
            },
            "colorscale": [
             [
              0,
              "#0d0887"
             ],
             [
              0.1111111111111111,
              "#46039f"
             ],
             [
              0.2222222222222222,
              "#7201a8"
             ],
             [
              0.3333333333333333,
              "#9c179e"
             ],
             [
              0.4444444444444444,
              "#bd3786"
             ],
             [
              0.5555555555555556,
              "#d8576b"
             ],
             [
              0.6666666666666666,
              "#ed7953"
             ],
             [
              0.7777777777777778,
              "#fb9f3a"
             ],
             [
              0.8888888888888888,
              "#fdca26"
             ],
             [
              1,
              "#f0f921"
             ]
            ],
            "type": "heatmapgl"
           }
          ],
          "histogram": [
           {
            "marker": {
             "pattern": {
              "fillmode": "overlay",
              "size": 10,
              "solidity": 0.2
             }
            },
            "type": "histogram"
           }
          ],
          "histogram2d": [
           {
            "colorbar": {
             "outlinewidth": 0,
             "ticks": ""
            },
            "colorscale": [
             [
              0,
              "#0d0887"
             ],
             [
              0.1111111111111111,
              "#46039f"
             ],
             [
              0.2222222222222222,
              "#7201a8"
             ],
             [
              0.3333333333333333,
              "#9c179e"
             ],
             [
              0.4444444444444444,
              "#bd3786"
             ],
             [
              0.5555555555555556,
              "#d8576b"
             ],
             [
              0.6666666666666666,
              "#ed7953"
             ],
             [
              0.7777777777777778,
              "#fb9f3a"
             ],
             [
              0.8888888888888888,
              "#fdca26"
             ],
             [
              1,
              "#f0f921"
             ]
            ],
            "type": "histogram2d"
           }
          ],
          "histogram2dcontour": [
           {
            "colorbar": {
             "outlinewidth": 0,
             "ticks": ""
            },
            "colorscale": [
             [
              0,
              "#0d0887"
             ],
             [
              0.1111111111111111,
              "#46039f"
             ],
             [
              0.2222222222222222,
              "#7201a8"
             ],
             [
              0.3333333333333333,
              "#9c179e"
             ],
             [
              0.4444444444444444,
              "#bd3786"
             ],
             [
              0.5555555555555556,
              "#d8576b"
             ],
             [
              0.6666666666666666,
              "#ed7953"
             ],
             [
              0.7777777777777778,
              "#fb9f3a"
             ],
             [
              0.8888888888888888,
              "#fdca26"
             ],
             [
              1,
              "#f0f921"
             ]
            ],
            "type": "histogram2dcontour"
           }
          ],
          "mesh3d": [
           {
            "colorbar": {
             "outlinewidth": 0,
             "ticks": ""
            },
            "type": "mesh3d"
           }
          ],
          "parcoords": [
           {
            "line": {
             "colorbar": {
              "outlinewidth": 0,
              "ticks": ""
             }
            },
            "type": "parcoords"
           }
          ],
          "pie": [
           {
            "automargin": true,
            "type": "pie"
           }
          ],
          "scatter": [
           {
            "marker": {
             "line": {
              "color": "#283442"
             }
            },
            "type": "scatter"
           }
          ],
          "scatter3d": [
           {
            "line": {
             "colorbar": {
              "outlinewidth": 0,
              "ticks": ""
             }
            },
            "marker": {
             "colorbar": {
              "outlinewidth": 0,
              "ticks": ""
             }
            },
            "type": "scatter3d"
           }
          ],
          "scattercarpet": [
           {
            "marker": {
             "colorbar": {
              "outlinewidth": 0,
              "ticks": ""
             }
            },
            "type": "scattercarpet"
           }
          ],
          "scattergeo": [
           {
            "marker": {
             "colorbar": {
              "outlinewidth": 0,
              "ticks": ""
             }
            },
            "type": "scattergeo"
           }
          ],
          "scattergl": [
           {
            "marker": {
             "line": {
              "color": "#283442"
             }
            },
            "type": "scattergl"
           }
          ],
          "scattermapbox": [
           {
            "marker": {
             "colorbar": {
              "outlinewidth": 0,
              "ticks": ""
             }
            },
            "type": "scattermapbox"
           }
          ],
          "scatterpolar": [
           {
            "marker": {
             "colorbar": {
              "outlinewidth": 0,
              "ticks": ""
             }
            },
            "type": "scatterpolar"
           }
          ],
          "scatterpolargl": [
           {
            "marker": {
             "colorbar": {
              "outlinewidth": 0,
              "ticks": ""
             }
            },
            "type": "scatterpolargl"
           }
          ],
          "scatterternary": [
           {
            "marker": {
             "colorbar": {
              "outlinewidth": 0,
              "ticks": ""
             }
            },
            "type": "scatterternary"
           }
          ],
          "surface": [
           {
            "colorbar": {
             "outlinewidth": 0,
             "ticks": ""
            },
            "colorscale": [
             [
              0,
              "#0d0887"
             ],
             [
              0.1111111111111111,
              "#46039f"
             ],
             [
              0.2222222222222222,
              "#7201a8"
             ],
             [
              0.3333333333333333,
              "#9c179e"
             ],
             [
              0.4444444444444444,
              "#bd3786"
             ],
             [
              0.5555555555555556,
              "#d8576b"
             ],
             [
              0.6666666666666666,
              "#ed7953"
             ],
             [
              0.7777777777777778,
              "#fb9f3a"
             ],
             [
              0.8888888888888888,
              "#fdca26"
             ],
             [
              1,
              "#f0f921"
             ]
            ],
            "type": "surface"
           }
          ],
          "table": [
           {
            "cells": {
             "fill": {
              "color": "#506784"
             },
             "line": {
              "color": "rgb(17,17,17)"
             }
            },
            "header": {
             "fill": {
              "color": "#2a3f5f"
             },
             "line": {
              "color": "rgb(17,17,17)"
             }
            },
            "type": "table"
           }
          ]
         },
         "layout": {
          "annotationdefaults": {
           "arrowcolor": "#f2f5fa",
           "arrowhead": 0,
           "arrowwidth": 1
          },
          "autotypenumbers": "strict",
          "coloraxis": {
           "colorbar": {
            "outlinewidth": 0,
            "ticks": ""
           }
          },
          "colorscale": {
           "diverging": [
            [
             0,
             "#8e0152"
            ],
            [
             0.1,
             "#c51b7d"
            ],
            [
             0.2,
             "#de77ae"
            ],
            [
             0.3,
             "#f1b6da"
            ],
            [
             0.4,
             "#fde0ef"
            ],
            [
             0.5,
             "#f7f7f7"
            ],
            [
             0.6,
             "#e6f5d0"
            ],
            [
             0.7,
             "#b8e186"
            ],
            [
             0.8,
             "#7fbc41"
            ],
            [
             0.9,
             "#4d9221"
            ],
            [
             1,
             "#276419"
            ]
           ],
           "sequential": [
            [
             0,
             "#0d0887"
            ],
            [
             0.1111111111111111,
             "#46039f"
            ],
            [
             0.2222222222222222,
             "#7201a8"
            ],
            [
             0.3333333333333333,
             "#9c179e"
            ],
            [
             0.4444444444444444,
             "#bd3786"
            ],
            [
             0.5555555555555556,
             "#d8576b"
            ],
            [
             0.6666666666666666,
             "#ed7953"
            ],
            [
             0.7777777777777778,
             "#fb9f3a"
            ],
            [
             0.8888888888888888,
             "#fdca26"
            ],
            [
             1,
             "#f0f921"
            ]
           ],
           "sequentialminus": [
            [
             0,
             "#0d0887"
            ],
            [
             0.1111111111111111,
             "#46039f"
            ],
            [
             0.2222222222222222,
             "#7201a8"
            ],
            [
             0.3333333333333333,
             "#9c179e"
            ],
            [
             0.4444444444444444,
             "#bd3786"
            ],
            [
             0.5555555555555556,
             "#d8576b"
            ],
            [
             0.6666666666666666,
             "#ed7953"
            ],
            [
             0.7777777777777778,
             "#fb9f3a"
            ],
            [
             0.8888888888888888,
             "#fdca26"
            ],
            [
             1,
             "#f0f921"
            ]
           ]
          },
          "colorway": [
           "#636efa",
           "#EF553B",
           "#00cc96",
           "#ab63fa",
           "#FFA15A",
           "#19d3f3",
           "#FF6692",
           "#B6E880",
           "#FF97FF",
           "#FECB52"
          ],
          "font": {
           "color": "#f2f5fa"
          },
          "geo": {
           "bgcolor": "rgb(17,17,17)",
           "lakecolor": "rgb(17,17,17)",
           "landcolor": "rgb(17,17,17)",
           "showlakes": true,
           "showland": true,
           "subunitcolor": "#506784"
          },
          "hoverlabel": {
           "align": "left"
          },
          "hovermode": "closest",
          "mapbox": {
           "style": "dark"
          },
          "paper_bgcolor": "rgb(17,17,17)",
          "plot_bgcolor": "rgb(17,17,17)",
          "polar": {
           "angularaxis": {
            "gridcolor": "#506784",
            "linecolor": "#506784",
            "ticks": ""
           },
           "bgcolor": "rgb(17,17,17)",
           "radialaxis": {
            "gridcolor": "#506784",
            "linecolor": "#506784",
            "ticks": ""
           }
          },
          "scene": {
           "xaxis": {
            "backgroundcolor": "rgb(17,17,17)",
            "gridcolor": "#506784",
            "gridwidth": 2,
            "linecolor": "#506784",
            "showbackground": true,
            "ticks": "",
            "zerolinecolor": "#C8D4E3"
           },
           "yaxis": {
            "backgroundcolor": "rgb(17,17,17)",
            "gridcolor": "#506784",
            "gridwidth": 2,
            "linecolor": "#506784",
            "showbackground": true,
            "ticks": "",
            "zerolinecolor": "#C8D4E3"
           },
           "zaxis": {
            "backgroundcolor": "rgb(17,17,17)",
            "gridcolor": "#506784",
            "gridwidth": 2,
            "linecolor": "#506784",
            "showbackground": true,
            "ticks": "",
            "zerolinecolor": "#C8D4E3"
           }
          },
          "shapedefaults": {
           "line": {
            "color": "#f2f5fa"
           }
          },
          "sliderdefaults": {
           "bgcolor": "#C8D4E3",
           "bordercolor": "rgb(17,17,17)",
           "borderwidth": 1,
           "tickwidth": 0
          },
          "ternary": {
           "aaxis": {
            "gridcolor": "#506784",
            "linecolor": "#506784",
            "ticks": ""
           },
           "baxis": {
            "gridcolor": "#506784",
            "linecolor": "#506784",
            "ticks": ""
           },
           "bgcolor": "rgb(17,17,17)",
           "caxis": {
            "gridcolor": "#506784",
            "linecolor": "#506784",
            "ticks": ""
           }
          },
          "title": {
           "x": 0.05
          },
          "updatemenudefaults": {
           "bgcolor": "#506784",
           "borderwidth": 0
          },
          "xaxis": {
           "automargin": true,
           "gridcolor": "#283442",
           "linecolor": "#506784",
           "ticks": "",
           "title": {
            "standoff": 15
           },
           "zerolinecolor": "#283442",
           "zerolinewidth": 2
          },
          "yaxis": {
           "automargin": true,
           "gridcolor": "#283442",
           "linecolor": "#506784",
           "ticks": "",
           "title": {
            "standoff": 15
           },
           "zerolinecolor": "#283442",
           "zerolinewidth": 2
          }
         }
        },
        "title": {
         "text": "Histograms by Column"
        },
        "xaxis": {
         "anchor": "y",
         "domain": [
          0,
          0.2888888888888889
         ]
        },
        "xaxis10": {
         "anchor": "y10",
         "domain": [
          0,
          0.2888888888888889
         ]
        },
        "xaxis11": {
         "anchor": "y11",
         "domain": [
          0.35555555555555557,
          0.6444444444444445
         ]
        },
        "xaxis12": {
         "anchor": "y12",
         "domain": [
          0.7111111111111111,
          1
         ]
        },
        "xaxis13": {
         "anchor": "y13",
         "domain": [
          0,
          0.2888888888888889
         ]
        },
        "xaxis14": {
         "anchor": "y14",
         "domain": [
          0.35555555555555557,
          0.6444444444444445
         ]
        },
        "xaxis15": {
         "anchor": "y15",
         "domain": [
          0.7111111111111111,
          1
         ]
        },
        "xaxis16": {
         "anchor": "y16",
         "domain": [
          0,
          0.2888888888888889
         ]
        },
        "xaxis17": {
         "anchor": "y17",
         "domain": [
          0.35555555555555557,
          0.6444444444444445
         ]
        },
        "xaxis18": {
         "anchor": "y18",
         "domain": [
          0.7111111111111111,
          1
         ]
        },
        "xaxis19": {
         "anchor": "y19",
         "domain": [
          0,
          0.2888888888888889
         ]
        },
        "xaxis2": {
         "anchor": "y2",
         "domain": [
          0.35555555555555557,
          0.6444444444444445
         ]
        },
        "xaxis20": {
         "anchor": "y20",
         "domain": [
          0.35555555555555557,
          0.6444444444444445
         ]
        },
        "xaxis21": {
         "anchor": "y21",
         "domain": [
          0.7111111111111111,
          1
         ]
        },
        "xaxis22": {
         "anchor": "y22",
         "domain": [
          0,
          0.2888888888888889
         ]
        },
        "xaxis23": {
         "anchor": "y23",
         "domain": [
          0.35555555555555557,
          0.6444444444444445
         ]
        },
        "xaxis24": {
         "anchor": "y24",
         "domain": [
          0.7111111111111111,
          1
         ]
        },
        "xaxis25": {
         "anchor": "y25",
         "domain": [
          0,
          0.2888888888888889
         ]
        },
        "xaxis26": {
         "anchor": "y26",
         "domain": [
          0.35555555555555557,
          0.6444444444444445
         ]
        },
        "xaxis27": {
         "anchor": "y27",
         "domain": [
          0.7111111111111111,
          1
         ]
        },
        "xaxis28": {
         "anchor": "y28",
         "domain": [
          0,
          0.2888888888888889
         ]
        },
        "xaxis29": {
         "anchor": "y29",
         "domain": [
          0.35555555555555557,
          0.6444444444444445
         ]
        },
        "xaxis3": {
         "anchor": "y3",
         "domain": [
          0.7111111111111111,
          1
         ]
        },
        "xaxis30": {
         "anchor": "y30",
         "domain": [
          0.7111111111111111,
          1
         ]
        },
        "xaxis31": {
         "anchor": "y31",
         "domain": [
          0,
          0.2888888888888889
         ]
        },
        "xaxis32": {
         "anchor": "y32",
         "domain": [
          0.35555555555555557,
          0.6444444444444445
         ]
        },
        "xaxis33": {
         "anchor": "y33",
         "domain": [
          0.7111111111111111,
          1
         ]
        },
        "xaxis34": {
         "anchor": "y34",
         "domain": [
          0,
          0.2888888888888889
         ]
        },
        "xaxis35": {
         "anchor": "y35",
         "domain": [
          0.35555555555555557,
          0.6444444444444445
         ]
        },
        "xaxis36": {
         "anchor": "y36",
         "domain": [
          0.7111111111111111,
          1
         ]
        },
        "xaxis37": {
         "anchor": "y37",
         "domain": [
          0,
          0.2888888888888889
         ]
        },
        "xaxis38": {
         "anchor": "y38",
         "domain": [
          0.35555555555555557,
          0.6444444444444445
         ]
        },
        "xaxis39": {
         "anchor": "y39",
         "domain": [
          0.7111111111111111,
          1
         ]
        },
        "xaxis4": {
         "anchor": "y4",
         "domain": [
          0,
          0.2888888888888889
         ]
        },
        "xaxis5": {
         "anchor": "y5",
         "domain": [
          0.35555555555555557,
          0.6444444444444445
         ]
        },
        "xaxis6": {
         "anchor": "y6",
         "domain": [
          0.7111111111111111,
          1
         ]
        },
        "xaxis7": {
         "anchor": "y7",
         "domain": [
          0,
          0.2888888888888889
         ]
        },
        "xaxis8": {
         "anchor": "y8",
         "domain": [
          0.35555555555555557,
          0.6444444444444445
         ]
        },
        "xaxis9": {
         "anchor": "y9",
         "domain": [
          0.7111111111111111,
          1
         ]
        },
        "yaxis": {
         "anchor": "x",
         "domain": [
          0.9585798816568047,
          1
         ]
        },
        "yaxis10": {
         "anchor": "x10",
         "domain": [
          0.7189349112426036,
          0.7603550295857988
         ]
        },
        "yaxis11": {
         "anchor": "x11",
         "domain": [
          0.7189349112426036,
          0.7603550295857988
         ]
        },
        "yaxis12": {
         "anchor": "x12",
         "domain": [
          0.7189349112426036,
          0.7603550295857988
         ]
        },
        "yaxis13": {
         "anchor": "x13",
         "domain": [
          0.6390532544378698,
          0.680473372781065
         ]
        },
        "yaxis14": {
         "anchor": "x14",
         "domain": [
          0.6390532544378698,
          0.680473372781065
         ]
        },
        "yaxis15": {
         "anchor": "x15",
         "domain": [
          0.6390532544378698,
          0.680473372781065
         ]
        },
        "yaxis16": {
         "anchor": "x16",
         "domain": [
          0.5591715976331362,
          0.6005917159763314
         ]
        },
        "yaxis17": {
         "anchor": "x17",
         "domain": [
          0.5591715976331362,
          0.6005917159763314
         ]
        },
        "yaxis18": {
         "anchor": "x18",
         "domain": [
          0.5591715976331362,
          0.6005917159763314
         ]
        },
        "yaxis19": {
         "anchor": "x19",
         "domain": [
          0.47928994082840237,
          0.5207100591715976
         ]
        },
        "yaxis2": {
         "anchor": "x2",
         "domain": [
          0.9585798816568047,
          1
         ]
        },
        "yaxis20": {
         "anchor": "x20",
         "domain": [
          0.47928994082840237,
          0.5207100591715976
         ]
        },
        "yaxis21": {
         "anchor": "x21",
         "domain": [
          0.47928994082840237,
          0.5207100591715976
         ]
        },
        "yaxis22": {
         "anchor": "x22",
         "domain": [
          0.3994082840236686,
          0.4408284023668639
         ]
        },
        "yaxis23": {
         "anchor": "x23",
         "domain": [
          0.3994082840236686,
          0.4408284023668639
         ]
        },
        "yaxis24": {
         "anchor": "x24",
         "domain": [
          0.3994082840236686,
          0.4408284023668639
         ]
        },
        "yaxis25": {
         "anchor": "x25",
         "domain": [
          0.3195266272189349,
          0.36094674556213013
         ]
        },
        "yaxis26": {
         "anchor": "x26",
         "domain": [
          0.3195266272189349,
          0.36094674556213013
         ]
        },
        "yaxis27": {
         "anchor": "x27",
         "domain": [
          0.3195266272189349,
          0.36094674556213013
         ]
        },
        "yaxis28": {
         "anchor": "x28",
         "domain": [
          0.23964497041420119,
          0.28106508875739644
         ]
        },
        "yaxis29": {
         "anchor": "x29",
         "domain": [
          0.23964497041420119,
          0.28106508875739644
         ]
        },
        "yaxis3": {
         "anchor": "x3",
         "domain": [
          0.9585798816568047,
          1
         ]
        },
        "yaxis30": {
         "anchor": "x30",
         "domain": [
          0.23964497041420119,
          0.28106508875739644
         ]
        },
        "yaxis31": {
         "anchor": "x31",
         "domain": [
          0.15976331360946744,
          0.2011834319526627
         ]
        },
        "yaxis32": {
         "anchor": "x32",
         "domain": [
          0.15976331360946744,
          0.2011834319526627
         ]
        },
        "yaxis33": {
         "anchor": "x33",
         "domain": [
          0.15976331360946744,
          0.2011834319526627
         ]
        },
        "yaxis34": {
         "anchor": "x34",
         "domain": [
          0.07988165680473372,
          0.12130177514792898
         ]
        },
        "yaxis35": {
         "anchor": "x35",
         "domain": [
          0.07988165680473372,
          0.12130177514792898
         ]
        },
        "yaxis36": {
         "anchor": "x36",
         "domain": [
          0.07988165680473372,
          0.12130177514792898
         ]
        },
        "yaxis37": {
         "anchor": "x37",
         "domain": [
          0,
          0.04142011834319526
         ]
        },
        "yaxis38": {
         "anchor": "x38",
         "domain": [
          0,
          0.04142011834319526
         ]
        },
        "yaxis39": {
         "anchor": "x39",
         "domain": [
          0,
          0.04142011834319526
         ]
        },
        "yaxis4": {
         "anchor": "x4",
         "domain": [
          0.8786982248520709,
          0.9201183431952662
         ]
        },
        "yaxis5": {
         "anchor": "x5",
         "domain": [
          0.8786982248520709,
          0.9201183431952662
         ]
        },
        "yaxis6": {
         "anchor": "x6",
         "domain": [
          0.8786982248520709,
          0.9201183431952662
         ]
        },
        "yaxis7": {
         "anchor": "x7",
         "domain": [
          0.7988165680473372,
          0.8402366863905325
         ]
        },
        "yaxis8": {
         "anchor": "x8",
         "domain": [
          0.7988165680473372,
          0.8402366863905325
         ]
        },
        "yaxis9": {
         "anchor": "x9",
         "domain": [
          0.7988165680473372,
          0.8402366863905325
         ]
        }
       }
      }
     },
     "metadata": {},
     "output_type": "display_data"
    }
   ],
   "source": [
    "numeric_cols = df_top_companies_cols_num.columns\n",
    "subplot_titles = [str(col) for col in numeric_cols]\n",
    "columns_per_row = 3\n",
    "\n",
    "num_rows = len(numeric_cols) // columns_per_row + (len(numeric_cols) % columns_per_row > 0)\n",
    "fig = sp.make_subplots(rows=num_rows, cols=columns_per_row, subplot_titles=subplot_titles)\n",
    "\n",
    "for i, column in enumerate(numeric_cols):\n",
    "    row = i // columns_per_row + 1\n",
    "    col = i % columns_per_row + 1\n",
    "    \n",
    "    fig.add_trace(go.Histogram(x=df_top_companies_cols_num[column], name=column, marker_color='lightseagreen'), row=row, col=col)\n",
    "\n",
    "fig.update_layout(title='Histograms by Column', height=300 * num_rows, showlegend=False, template='plotly_dark')\n",
    "fig.show()"
   ]
  },
  {
   "cell_type": "markdown",
   "metadata": {},
   "source": [
    "- **`market_cap`**: Market capitalization ranges from approximately **R$ 74 billion** to **R$ 483 billion** Brazilian reais, with some extremely high values. The market capitalization distribution is positively skewed, with a long right tail in the histogram.\n",
    "- **`enterprise_value`**: Enterprise value ranges from about **R$ 34 billion** to **R$ 957 billion** Brazilian reais, with significantly different values. The long tail occurs because the exponential distribution is more likely to produce extreme values that are higher than the mean.\n",
    "- **`total_revenue`**: Total revenue ranges from about **R$ 7.8 billion** to **R$ 581.6 billion** Brazilian reais, with a wide distribution of values. The graph shown has different mean and median, suggesting a lognormal distribution is likely.\n",
    "- **`profit_margins`**: Profit margins vary from approximately **4.8%** to **27.9%**, showing diversity in margins.\n",
    "- **`operating_margins`**: Operating margins vary from approximately **0.2%** to **0.46%**, with most values concentrated in the lower range.\n",
    "- **`dividend_rate`**: Dividend rate varies from **0.22%** to **9.28%**, with most values concentrated around **0.2%** to **0.3%**.\n",
    "- **`beta`**: Beta values range from about **0.06** to **2.91**, with most values below **1**, suggesting lower volatility compared to the market.\n",
    "- **`ebitda:`**: EBITDA ranges from approximately **R$ 0** to **R$ 291 billion** Brazilian reais, with highly dispersed values.\n",
    "- **`trailing_pe`**: Trailing P/E varies from approximately **3.8** to **34.7**, with most values below **10**.\n",
    "- **`forward_pe`**: Forward P/E varies from approximately **0** to **73.1**, with dispersed values.\n",
    "- **`volume:`**: Trading volume varies significantly, with some very high values. The distribution is positively skewed.\n",
    "- **`average_volume`**: Average trading volume ranges from approximately **4.2 million** to **13.2 million**, with most values concentrated in the lower range.\n",
    "- **`fifty_two_week_low`**: Fifty-two-week lows range from **0** to approximately **66** Brazilian reais.\n",
    "- **`fifty_two_week_high`**: Fifty-two-week highs range from **0** to approximately **73** Brazilian reais.\n",
    "- **`price_to_sales_trailing_12_months`**: Price-to-sales ratio for the trailing 12 months ranges from approximately **0.83** to **4.36**, with dispersed values.\n",
    "- **`fifty_day_average`**: Fifty-day average ranges from approximately **8.36** to **66.08**.\n",
    "- **`two_hundred_day_average`**: Two-hundred-day average ranges from approximately **6.88** to **73.07**.\n",
    "- **`trailing_annual_dividend_rate`**: Trailing annual dividend rate ranges from **0** to **9.66** Brazilian reais.\n",
    "- **`trailing_annual_dividend_yield`**: Trailing annual dividend yield ranges from **0.06%** to **2.47%**.\n",
    "- **`book_value:`**: Book value ranges from approximately **0.15** to **28.42** Brazilian reais.\n",
    "- **`price_to_book`**: Price-to-book ratio ranges from approximately **0.39** to **37.04**.\n",
    "- **`total_cash`**: Total cash ranges from approximately **R$ 4.6 billion** to **R$ 309.8 billion** Brazilian reais.\n",
    "- **`total_cash_per_share`**: Total cash per share ranges from approximately **0.02** to **46.44** Brazilian reais.\n",
    "- **`total_debt`**: Total debt ranges from approximately **R$ 1.3 billion** to **R$ 957 billion** Brazilian reais.\n",
    "- **`earnings_quarterly_growth`**: Quarterly earnings growth ranges from **-84.8%** to **47.2%**.\n",
    "- **`revenue_growth`**: Revenue growth ranges from **-0.27%** to **0.5%**.\n",
    "- **`gross_margins`**: Gross margins vary from **0.13%** to **4.5%**.\n",
    "- **`ebitda_margins`**: EBITDA margins vary from **0.08%** to **0.91%**.\n",
    "- **`return_on_assets`**: Return on assets varies from **0.08%** to **0.68%**.\n",
    "- **`return_on_equity`**: Return on equity varies from **0.17%** to **0.68%**.\n",
    "- **`gross_profits`**: Gross profits vary from approximately **R$ 3.5 billion** to **R$ 581.6 billion** Brazilian reais.\n",
    "- **`total_assets_approx`**: Total assets approximate range from approximately **R$ 4.1 billion** to **R$ 30.6 billion** Brazilian reais.\n",
    "- **`asset_turnover`**: Asset turnover varies from **0.02** to **0.08**.\n",
    "- **`earnings_growth_rate`**: Earnings growth rate varies from **-47%** to **277.9%**.\n",
    "- **`dividend_payout_ratio`**: Dividend payout ratio varies from **0%** to **134.3%**.\n",
    "- **`equity`**: Equity varies from approximately **R$ 2.1 billion** to **R$ 30.6 billion** Brazilian reais.\n",
    "- **`debt_to_equity`**: Debt-to-equity ratio varies from **0.01** to **2.87**.\n",
    "- **`roi`**: ROI varies from **0.01** to **2.66**.\n",
    "- **`roce`**: ROCE varies from **-2.35** to **0.80**.\n"
   ]
  },
  {
   "cell_type": "markdown",
   "metadata": {},
   "source": [
    "### Correlation and Dispersion"
   ]
  },
  {
   "cell_type": "code",
   "execution_count": 14,
   "metadata": {},
   "outputs": [
    {
     "data": {
      "application/vnd.plotly.v1+json": {
       "config": {
        "plotlyServerURL": "https://plot.ly"
       },
       "data": [
        {
         "coloraxis": "coloraxis",
         "hovertemplate": "x: %{x}<br>y: %{y}<br>color: %{z}<extra></extra>",
         "name": "0",
         "texttemplate": "%{z}",
         "type": "heatmap",
         "x": [
          "market_cap",
          "enterprise_value",
          "total_revenue",
          "profit_margins",
          "operating_margins",
          "dividend_rate",
          "beta",
          "ebitda",
          "trailing_pe",
          "forward_pe",
          "volume",
          "average_volume",
          "fifty_two_week_low",
          "fifty_two_week_high",
          "price_to_sales_trailing_12_months",
          "fifty_day_average",
          "two_hundred_day_average",
          "trailing_annual_dividend_rate",
          "trailing_annual_dividend_yield",
          "book_value",
          "price_to_book",
          "total_cash",
          "total_cash_per_share",
          "total_debt",
          "earnings_quarterly_growth",
          "revenue_growth",
          "gross_margins",
          "ebitda_margins",
          "return_on_assets",
          "return_on_equity",
          "gross_profits",
          "total_assets_approx",
          "asset_turnover",
          "earnings_growth_rate",
          "dividend_payout_ratio",
          "equity",
          "debt_to_equity",
          "roi",
          "roce"
         ],
         "xaxis": "x",
         "y": [
          "market_cap",
          "enterprise_value",
          "total_revenue",
          "profit_margins",
          "operating_margins",
          "dividend_rate",
          "beta",
          "ebitda",
          "trailing_pe",
          "forward_pe",
          "volume",
          "average_volume",
          "fifty_two_week_low",
          "fifty_two_week_high",
          "price_to_sales_trailing_12_months",
          "fifty_day_average",
          "two_hundred_day_average",
          "trailing_annual_dividend_rate",
          "trailing_annual_dividend_yield",
          "book_value",
          "price_to_book",
          "total_cash",
          "total_cash_per_share",
          "total_debt",
          "earnings_quarterly_growth",
          "revenue_growth",
          "gross_margins",
          "ebitda_margins",
          "return_on_assets",
          "return_on_equity",
          "gross_profits",
          "total_assets_approx",
          "asset_turnover",
          "earnings_growth_rate",
          "dividend_payout_ratio",
          "equity",
          "debt_to_equity",
          "roi",
          "roce"
         ],
         "yaxis": "y",
         "z": [
          [
           1,
           0.5140113044554234,
           0.9437186285010734,
           -0.1745627511752208,
           0.3344621352512192,
           0.8706347108095059,
           0.4724411085455824,
           0.8885423464682658,
           -0.5199089489788866,
           -0.22899664689037183,
           0.11725821592971054,
           0.2289304479096874,
           0.17710338587066615,
           0.23658664837680546,
           -0.41377358796866254,
           0.24954345601457553,
           0.20642375913212901,
           0.775906645335151,
           0.7715407127782613,
           -0.004891334967721352,
           -0.04714418202210737,
           0.14333858049974435,
           -0.02353083749280778,
           0.15318989037596203,
           -0.6254825861117723,
           -0.5370603394029931,
           0.12905932171777054,
           0.39179234440354627,
           0.656913240090285,
           0.7211244123401169,
           0.9292582743472385,
           0.14333858050364207,
           0.4574874596643902,
           -0.6254825861117722,
           -0.199580564591289,
           -0.12838943865245422,
           -0.09905790293505304,
           0.5705733764106862,
           0.7347167312967273
          ],
          [
           0.5140113044554234,
           1,
           0.5155481173926096,
           -0.14379161657639905,
           0.5650166133127866,
           0.3740804562062664,
           0.20154233867921126,
           0.3343244145330051,
           -0.5784650289292914,
           -0.34887091265991,
           0.24942800531463497,
           0.2818588747489068,
           0.12680000183100057,
           0.19896461333648935,
           -0.4957151466603162,
           0.3021215743621712,
           0.22285837281247503,
           0.5580085649434195,
           0.48865557099794976,
           0.3618436489802602,
           -0.23140518472675256,
           0.41270353780255137,
           0.35248943355532014,
           0.85959137299714,
           -0.3620561054078069,
           -0.22247427358805308,
           -0.4402146344866914,
           -0.2633674437200377,
           0.01576973992633784,
           0.33207049230764957,
           0.6697840970910047,
           0.41270353786888836,
           -0.12525042182233728,
           -0.3620561054078069,
           0.5733355345928858,
           -0.9111158493774361,
           -0.3267550644754408,
           -0.18508396962285759,
           0.09480440037253242
          ],
          [
           0.9437186285010734,
           0.5155481173926096,
           1,
           -0.15689529432807417,
           0.3617300659355967,
           0.9602914486547691,
           0.40953855856499694,
           0.9752156318604316,
           -0.46132212923366395,
           -0.23631847059965347,
           -0.05273898524251705,
           0.09746419645398266,
           0.212273706155856,
           0.2834903840758038,
           -0.4379320584746538,
           0.32703506162460994,
           0.2545729405740336,
           0.9137410733381063,
           0.9120204252064309,
           0.18033818895704853,
           -0.13309117182069793,
           -0.029187694140081124,
           -0.1578824665499888,
           0.10258277238543755,
           -0.575624516645061,
           -0.6322843207797753,
           0.26350892858736624,
           0.5215574355192996,
           0.6429627617920649,
           0.6419178921286053,
           0.9715159732806558,
           -0.02918769411458118,
           0.536697141919152,
           -0.5756245166450611,
           -0.10394176276787065,
           -0.14692619056268155,
           -0.1868516061979678,
           0.5977171885497705,
           0.8396228752585893
          ],
          [
           -0.1745627511752208,
           -0.14379161657639905,
           -0.15689529432807417,
           1,
           -0.2167633697170533,
           -0.09120655399923827,
           0.08170541305774437,
           -0.09907907364636327,
           -0.3669466795380935,
           -0.2551702493699194,
           -0.13863029250969655,
           0.22233197628247545,
           -0.3595699206013898,
           -0.3571975316376804,
           0.8728728451190414,
           -0.37543968899180963,
           -0.35790386099033855,
           -0.12733241891459887,
           0.036154254186575537,
           -0.3019612157887088,
           -0.1499142139474854,
           -0.13747526462966606,
           -0.150590039042921,
           -0.1280346309974189,
           0.05958544937246412,
           -0.22055863485603552,
           -0.04670133270364534,
           0.05336005402954042,
           -0.2784090590654717,
           0.06600050335364759,
           -0.17128141607446057,
           -0.1374752646783627,
           -0.3055643719545038,
           0.05958544937246408,
           0.005702797613863956,
           0.09870050575437675,
           -0.0363506129716043,
           -0.3649382865783032,
           -0.2040047254712421
          ],
          [
           0.3344621352512192,
           0.5650166133127866,
           0.3617300659355967,
           -0.2167633697170533,
           1,
           0.2464757215705934,
           0.5492384564468955,
           0.27791615870345515,
           -0.13797473625048107,
           -0.5641348416493338,
           -0.36426648850846727,
           -0.20955692828085143,
           0.21078690498586652,
           0.3564390690932645,
           -0.3572146958639894,
           0.362147210107491,
           0.30293559611885545,
           0.47932501842591474,
           0.3274389404786729,
           0.6023603913935991,
           -0.36122939284966554,
           0.2495901748225302,
           0.4653017322554863,
           0.5072371802815465,
           -0.19992469673872407,
           -0.015172619321876829,
           -0.20151059884404507,
           -0.06831430827137572,
           -0.0714147003531394,
           0.14972152256010288,
           0.43776276842848083,
           0.24959017491887803,
           -0.24784861389729568,
           -0.19992469673872415,
           0.5158124026812587,
           -0.5346917239356953,
           0.15235756880833637,
           0.07681068484382747,
           0.11091691874462081
          ],
          [
           0.8706347108095059,
           0.3740804562062664,
           0.9602914486547691,
           -0.09120655399923827,
           0.2464757215705934,
           1,
           0.27904753956745476,
           0.9659698841802004,
           -0.452329213883647,
           -0.1903012331766024,
           -0.2011475999952168,
           -0.006281583415551974,
           0.3055985576609738,
           0.346689711920093,
           -0.3739904460361105,
           0.4057754866416176,
           0.3323046752135846,
           0.9055919338011701,
           0.8862707296269615,
           0.2331261041804875,
           -0.1514207267046864,
           -0.14601333019251755,
           -0.259144040293821,
           -0.046327784741677064,
           -0.49477538554627315,
           -0.5949183288111853,
           0.37316741998861047,
           0.6337765907483509,
           0.6404316495391296,
           0.6013958751476415,
           0.896241782177612,
           -0.1460133301630394,
           0.6669857070636095,
           -0.49477538554627304,
           -0.15817624309328882,
           -0.011163052857849604,
           -0.1900338420737358,
           0.6863905771164022,
           0.911397723571846
          ],
          [
           0.4724411085455824,
           0.20154233867921126,
           0.40953855856499694,
           0.08170541305774437,
           0.5492384564468955,
           0.27904753956745476,
           1,
           0.40841072547643514,
           -0.3886347426014699,
           -0.6365387896063943,
           -0.2097273988194297,
           -0.06941269235795995,
           -0.25685790123295843,
           -0.10940895858730611,
           0.07975870648724365,
           -0.17510093813675565,
           -0.18837187482750598,
           0.3520010571138951,
           0.33441604272453984,
           -0.10146256738590102,
           -0.2130280593980662,
           0.19206081678978182,
           0.4100495911187427,
           0.14512891329231264,
           -0.44450170624239316,
           -0.4307439994929759,
           -0.2667301433614828,
           -0.05903262886901512,
           0.15071390723866393,
           0.43984281773851747,
           0.422256590825571,
           0.1920608167810897,
           -0.21543470122101332,
           -0.44450170624239327,
           0.033704530405425585,
           -0.09423639043426034,
           0.6149034211848011,
           0.3553847391360946,
           0.1459428818485765
          ],
          [
           0.8885423464682658,
           0.3343244145330051,
           0.9752156318604316,
           -0.09907907364636327,
           0.27791615870345515,
           0.9659698841802004,
           0.40841072547643514,
           1,
           -0.3586786160551203,
           -0.17459570137647962,
           -0.1595768159407342,
           0.010935393846123938,
           0.19856981230011145,
           0.2662336814175015,
           -0.33303592221566597,
           0.2958788918768969,
           0.22997136415096917,
           0.9006321107862061,
           0.9206389157732972,
           0.14338624317791882,
           -0.08775350711052074,
           -0.19152259070594155,
           -0.29634969309424797,
           -0.10148354338894242,
           -0.5293351471191655,
           -0.6598939161965783,
           0.4156290967212485,
           0.6570138420092735,
           0.7018836125991547,
           0.63041919770765,
           0.9033615194891788,
           -0.19152259069108538,
           0.6138065766111893,
           -0.5293351471191656,
           -0.19701679909374675,
           0.03803340600077781,
           -0.15129031133532028,
           0.6719295884135774,
           0.9007470634205308
          ],
          [
           -0.5199089489788866,
           -0.5784650289292914,
           -0.46132212923366395,
           -0.3669466795380935,
           -0.13797473625048107,
           -0.452329213883647,
           -0.3886347426014699,
           -0.3586786160551203,
           1,
           0.5997447321835718,
           -0.05650558633198775,
           -0.35896207648398054,
           0.05973393457696661,
           0.02019188740824315,
           -0.013106580339676542,
           -0.0358607718458018,
           0.003370996867503396,
           -0.43086723191991505,
           -0.42104972855084977,
           0.007589060163020602,
           0.4133234299556626,
           -0.2894148611949107,
           -0.28027285246287226,
           -0.4558654361334069,
           0.5332182488214194,
           0.4608586748819447,
           0.4105744146762232,
           0.12704364302199617,
           0.011828922307963903,
           -0.43419758411302184,
           -0.5293558836651635,
           -0.28941486120311566,
           -0.006482573346310444,
           0.5332182488214193,
           -0.20443106365970304,
           0.448838989185446,
           -0.051587744659907266,
           -0.1336174898340047,
           -0.18939652985781746
          ],
          [
           -0.22899664689037183,
           -0.34887091265991,
           -0.23631847059965347,
           -0.2551702493699194,
           -0.5641348416493338,
           -0.1903012331766024,
           -0.6365387896063943,
           -0.17459570137647962,
           0.5997447321835718,
           1,
           0.2801283488767246,
           -0.13611950440166928,
           0.21970202591445365,
           0.08250201065768187,
           -0.03885754882234669,
           0.12791805757040145,
           0.16521385578573677,
           -0.23808083641069763,
           -0.20367982007691365,
           -0.27179239080113987,
           0.8512949213270548,
           -0.4049595591580593,
           -0.5573615695066306,
           -0.42398961968635773,
           0.44377892359105686,
           0.42383113540309036,
           0.3806945513135763,
           0.1880128560558634,
           0.46203158739875083,
           0.11292881182177751,
           -0.3286994401387095,
           -0.4049595592109444,
           0.40181405130142384,
           0.44377892359105675,
           -0.20438471266808556,
           0.35133818134115274,
           -0.41556564312472066,
           -0.1387170386183553,
           -0.006262540927991092
          ],
          [
           0.11725821592971054,
           0.24942800531463497,
           -0.05273898524251705,
           -0.13863029250969655,
           -0.36426648850846727,
           -0.2011475999952168,
           -0.2097273988194297,
           -0.1595768159407342,
           -0.05650558633198775,
           0.2801283488767246,
           1,
           0.7545821645797265,
           -0.16339158753131255,
           -0.20855806418350464,
           -0.1469770147075041,
           -0.2680681161878289,
           -0.20816783397885663,
           -0.30497436489327057,
           -0.2156582159039735,
           -0.49965167155087337,
           0.29377369123619534,
           0.452409840494791,
           0.05411992790357763,
           0.32275111594908845,
           -0.26199968706139337,
           -0.14714116059343751,
           -0.3265134084208467,
           -0.3471924038809706,
           0.03548704613129522,
           0.03767999816202215,
           0.052255983947026775,
           0.4524098404361016,
           -0.18761576122123325,
           -0.2619996870613934,
           -0.29646343189431607,
           -0.19725848312451003,
           -0.34736040116945643,
           -0.41035772768155815,
           -0.25918054806522123
          ],
          [
           0.2289304479096874,
           0.2818588747489068,
           0.09746419645398266,
           0.22233197628247545,
           -0.20955692828085143,
           -0.006281583415551974,
           -0.06941269235795995,
           0.010935393846123938,
           -0.35896207648398054,
           -0.13611950440166928,
           0.7545821645797265,
           1,
           -0.023925198011706495,
           -0.008078793674945217,
           -0.011802674111276544,
           -0.13632266528244386,
           -0.06579052390748348,
           -0.09194909234815264,
           0.009311586072584463,
           -0.241487522186755,
           -0.1646966151083896,
           0.26142236457200013,
           -0.11164080550164163,
           0.22831027022147007,
           -0.6380356577305533,
           -0.44080886770077676,
           -0.11794500252928478,
           -0.027651425010086418,
           -0.07667016526953119,
           -0.002483227832653593,
           0.163247921650979,
           0.26142236454501183,
           -0.12584709900441263,
           -0.6380356577305534,
           -0.24946705051257906,
           -0.16807582025644027,
           -0.4682592925943328,
           -0.33173910823569935,
           -0.025485423775088563
          ],
          [
           0.17710338587066615,
           0.12680000183100057,
           0.212273706155856,
           -0.3595699206013898,
           0.21078690498586652,
           0.3055985576609738,
           -0.25685790123295843,
           0.19856981230011145,
           0.05973393457696661,
           0.21970202591445365,
           -0.16339158753131255,
           -0.023925198011706495,
           1,
           0.9811782705204666,
           -0.5095452039977554,
           0.9640470412847103,
           0.9898770443403584,
           0.37100041641788933,
           0.11521612579656122,
           0.6433364220138704,
           0.14674415405790392,
           -0.3356461451520576,
           -0.32210401945506684,
           -0.10815260989230302,
           -0.29190638035293504,
           0.07993714564794878,
           0.31691338871244834,
           0.43466902300520505,
           0.38696374229331704,
           0.23590080886070927,
           0.12867516614058913,
           -0.33564614506854357,
           0.5670786261679686,
           -0.291906380352935,
           0.1324871859954438,
           -0.023516892790118395,
           -0.41766196807859074,
           0.23848417620465295,
           0.46373340397901364
          ],
          [
           0.23658664837680546,
           0.19896461333648935,
           0.2834903840758038,
           -0.3571975316376804,
           0.3564390690932645,
           0.346689711920093,
           -0.10940895858730611,
           0.2662336814175015,
           0.02019188740824315,
           0.08250201065768187,
           -0.20855806418350464,
           -0.008078793674945217,
           0.9811782705204666,
           1,
           -0.5354398559943032,
           0.9662548277646988,
           0.9864394456513066,
           0.4548351646834004,
           0.1957824890610276,
           0.71290312035209,
           0.048036267935755286,
           -0.3252123222591896,
           -0.2760579043173066,
           -0.055253267872919176,
           -0.3919854029554723,
           -0.0123632013948273,
           0.30215571264914404,
           0.44602281555491635,
           0.3699582550332034,
           0.2472065067604533,
           0.20824574606378338,
           -0.32521232216514045,
           0.5123622582086041,
           -0.3919854029554724,
           0.1903366277526103,
           -0.08687349011556379,
           -0.37893535015371893,
           0.25778748118812594,
           0.49397261149787103
          ],
          [
           -0.41377358796866254,
           -0.4957151466603162,
           -0.4379320584746538,
           0.8728728451190414,
           -0.3572146958639894,
           -0.3739904460361105,
           0.07975870648724365,
           -0.33303592221566597,
           -0.013106580339676542,
           -0.03885754882234669,
           -0.1469770147075041,
           -0.011802674111276544,
           -0.5095452039977554,
           -0.5354398559943032,
           1,
           -0.5782891786965281,
           -0.5332590725614682,
           -0.4508227031115104,
           -0.2806537048251643,
           -0.539123030793152,
           0.1041324504002141,
           -0.1305967113610556,
           -0.08148753004227037,
           -0.33603979677560336,
           0.34561179894026406,
           0.025168112886733693,
           -0.0605953040473975,
           -0.07300264245557643,
           -0.28674982852535386,
           -0.04106992662444092,
           -0.47647168572953175,
           -0.1305967114443014,
           -0.40673823572738604,
           0.3456117989402641,
           -0.1713383823675358,
           0.3711511660442332,
           0.24516707528459614,
           -0.35311779410443106,
           -0.41505555754935886
          ],
          [
           0.24954345601457553,
           0.3021215743621712,
           0.32703506162460994,
           -0.37543968899180963,
           0.362147210107491,
           0.4057754866416176,
           -0.17510093813675565,
           0.2958788918768969,
           -0.0358607718458018,
           0.12791805757040145,
           -0.2680681161878289,
           -0.13632266528244386,
           0.9640470412847103,
           0.9662548277646988,
           -0.5782891786965281,
           1,
           0.9882039258274694,
           0.5362965247618341,
           0.27349325546311065,
           0.7562598460523225,
           0.07664902271069761,
           -0.3234956255457402,
           -0.24839648778145107,
           0.033422919347512944,
           -0.2650360129526347,
           0.05819708641123529,
           0.25921297619008526,
           0.3975918403507192,
           0.385178996331421,
           0.2955290466369783,
           0.26525078705491023,
           -0.32349562544527916,
           0.5523828212693696,
           -0.26503601295263474,
           0.3225765984328948,
           -0.20076009064920533,
           -0.4068083030420382,
           0.2538821712440879,
           0.4987862888571089
          ],
          [
           0.20642375913212901,
           0.22285837281247503,
           0.2545729405740336,
           -0.35790386099033855,
           0.30293559611885545,
           0.3323046752135846,
           -0.18837187482750598,
           0.22997136415096917,
           0.003370996867503396,
           0.16521385578573677,
           -0.20816783397885663,
           -0.06579052390748348,
           0.9898770443403584,
           0.9864394456513066,
           -0.5332590725614682,
           0.9882039258274694,
           1,
           0.44576351777517675,
           0.1810137596620886,
           0.6985034484619879,
           0.12398822069763198,
           -0.3336184677703646,
           -0.27573409622233086,
           -0.027306862027982118,
           -0.29778857008846255,
           0.07241575619502212,
           0.26620140888065763,
           0.3987583183025729,
           0.3851760559204354,
           0.28265651552271037,
           0.18266143805684398,
           -0.33361846767869724,
           0.5379227370768516,
           -0.2977885700884626,
           0.2511116951701622,
           -0.127121639702796,
           -0.4045839419815523,
           0.22469960334111394,
           0.45964721239963874
          ],
          [
           0.775906645335151,
           0.5580085649434195,
           0.9137410733381063,
           -0.12733241891459887,
           0.47932501842591474,
           0.9055919338011701,
           0.3520010571138951,
           0.9006321107862061,
           -0.43086723191991505,
           -0.23808083641069763,
           -0.30497436489327057,
           -0.09194909234815264,
           0.37100041641788933,
           0.4548351646834004,
           -0.4508227031115104,
           0.5362965247618341,
           0.44576351777517675,
           1,
           0.941679810930565,
           0.4697023348285039,
           -0.1670023885033697,
           -0.2573976835911254,
           -0.23078915956823945,
           0.11450195609779885,
           -0.48278462262496913,
           -0.522723644461941,
           0.3042541588492221,
           0.5470503808564809,
           0.5796525013655905,
           0.5975392633558212,
           0.870777528448822,
           -0.25739768353054865,
           0.5575017111860037,
           -0.48278462262496913,
           0.22615092203674994,
           -0.2734688493049615,
           -0.2565372644522811,
           0.5188214502810293,
           0.8146814314151837
          ],
          [
           0.7715407127782613,
           0.48865557099794976,
           0.9120204252064309,
           0.036154254186575537,
           0.3274389404786729,
           0.8862707296269615,
           0.33441604272453984,
           0.9206389157732972,
           -0.42104972855084977,
           -0.20367982007691365,
           -0.2156582159039735,
           0.009311586072584463,
           0.11521612579656122,
           0.1957824890610276,
           -0.2806537048251643,
           0.27349325546311065,
           0.1810137596620886,
           0.941679810930565,
           1,
           0.2569025967797321,
           -0.166428976330955,
           -0.2892125269078852,
           -0.33731955256741253,
           0.03459372291900968,
           -0.43930638407164463,
           -0.6022792324240963,
           0.3867947663699756,
           0.5873828590663439,
           0.5674640965329691,
           0.5594053108624074,
           0.8658045712890038,
           -0.2892125268795314,
           0.5122175099679065,
           -0.4393063840716448,
           0.11591519534497553,
           -0.18558128296617915,
           -0.3064630463832564,
           0.4468861363570364,
           0.788338612202201
          ],
          [
           -0.004891334967721352,
           0.3618436489802602,
           0.18033818895704853,
           -0.3019612157887088,
           0.6023603913935991,
           0.2331261041804875,
           -0.10146256738590102,
           0.14338624317791882,
           0.007589060163020602,
           -0.27179239080113987,
           -0.49965167155087337,
           -0.241487522186755,
           0.6433364220138704,
           0.71290312035209,
           -0.539123030793152,
           0.7562598460523225,
           0.6985034484619879,
           0.4697023348285039,
           0.2569025967797321,
           1,
           -0.4428954481277544,
           -0.21959109616192396,
           -0.024233048540511604,
           0.2303699275821347,
           -0.14665125039888208,
           0.032282138496483835,
           0.16835911791605945,
           0.22020381617854304,
           -0.12580777206034857,
           -0.19572479077242397,
           0.1865243189718594,
           -0.21959109602238286,
           0.18713866774433838,
           -0.1466512503988821,
           0.5803187936512104,
           -0.40496082671533756,
           -0.27298532445445395,
           0.1017185546929317,
           0.2884188162914701
          ],
          [
           -0.04714418202210737,
           -0.23140518472675256,
           -0.13309117182069793,
           -0.1499142139474854,
           -0.36122939284966554,
           -0.1514207267046864,
           -0.2130280593980662,
           -0.08775350711052074,
           0.4133234299556626,
           0.8512949213270548,
           0.29377369123619534,
           -0.1646966151083896,
           0.14674415405790392,
           0.048036267935755286,
           0.1041324504002141,
           0.07664902271069761,
           0.12398822069763198,
           -0.1670023885033697,
           -0.166428976330955,
           -0.4428954481277544,
           1,
           -0.24845748103398563,
           -0.31781421630283924,
           -0.2972021421496125,
           0.3391486853420567,
           0.3411979078444665,
           0.10628684750945185,
           0.03563317302969345,
           0.5818131935212592,
           0.47509000282458824,
           -0.20754542401955922,
           -0.24845748110691776,
           0.23025559227450512,
           0.3391486853420567,
           -0.16594008978348848,
           0.26351589377383255,
           -0.14654183877716886,
           -0.12348932262857913,
           -0.07562194045930434
          ],
          [
           0.14333858049974435,
           0.41270353780255137,
           -0.029187694140081124,
           -0.13747526462966606,
           0.2495901748225302,
           -0.14601333019251755,
           0.19206081678978182,
           -0.19152259070594155,
           -0.2894148611949107,
           -0.4049595591580593,
           0.452409840494791,
           0.26142236457200013,
           -0.3356461451520576,
           -0.3252123222591896,
           -0.1305967113610556,
           -0.3234956255457402,
           -0.3336184677703646,
           -0.2573976835911254,
           -0.2892125269078852,
           -0.21959109616192396,
           -0.24845748103398563,
           1,
           0.8531346810589477,
           0.7229282906113021,
           -0.02561117432515838,
           0.045420403197777084,
           -0.7766015217711448,
           -0.7133103813158175,
           -0.4382266525280439,
           -0.11857466703397572,
           0.1688669923166073,
           1,
           -0.601365796361646,
           -0.025611174325158352,
           -0.0641881348122763,
           -0.4483386676746041,
           0.3173972647592661,
           -0.20884429794182677,
           -0.4280811817381416
          ],
          [
           -0.02353083749280778,
           0.35248943355532014,
           -0.1578824665499888,
           -0.150590039042921,
           0.4653017322554863,
           -0.259144040293821,
           0.4100495911187427,
           -0.29634969309424797,
           -0.28027285246287226,
           -0.5573615695066306,
           0.05411992790357763,
           -0.11164080550164163,
           -0.32210401945506684,
           -0.2760579043173066,
           -0.08148753004227037,
           -0.24839648778145107,
           -0.27573409622233086,
           -0.23078915956823945,
           -0.33731955256741253,
           -0.024233048540511604,
           -0.31781421630283924,
           0.8531346810589477,
           1,
           0.7062581154889243,
           0.09902197904349487,
           0.21463844120570671,
           -0.8561307530626217,
           -0.8082399173156711,
           -0.5299890400614641,
           -0.13126614058823696,
           0.020802796247964144,
           0.8531346810828612,
           -0.6799313235216536,
           0.09902197904349487,
           0.2503047274883066,
           -0.4982853422386204,
           0.6238326959086165,
           -0.13016266751903882,
           -0.5241343726277243
          ],
          [
           0.15318989037596203,
           0.85959137299714,
           0.10258277238543755,
           -0.1280346309974189,
           0.5072371802815465,
           -0.046327784741677064,
           0.14512891329231264,
           -0.10148354338894242,
           -0.4558654361334069,
           -0.42398961968635773,
           0.32275111594908845,
           0.22831027022147007,
           -0.10815260989230302,
           -0.055253267872919176,
           -0.33603979677560336,
           0.033422919347512944,
           -0.027306862027982118,
           0.11450195609779885,
           0.03459372291900968,
           0.2303699275821347,
           -0.2972021421496125,
           0.7229282906113021,
           0.7062581154889243,
           1,
           -0.10360160332740137,
           0.019205247984154704,
           -0.7780604735613748,
           -0.6867450179605998,
           -0.4026165252083862,
           0.00020363577004909206,
           0.3236777741548648,
           0.722928290668351,
           -0.5340026642799353,
           -0.10360160332740136,
           0.5717112732271531,
           -0.9417078053606645,
           -0.05448479083696624,
           -0.42291259388876656,
           -0.363385323700961
          ],
          [
           -0.6254825861117723,
           -0.3620561054078069,
           -0.575624516645061,
           0.05958544937246412,
           -0.19992469673872407,
           -0.49477538554627315,
           -0.44450170624239316,
           -0.5293351471191655,
           0.5332182488214194,
           0.44377892359105686,
           -0.26199968706139337,
           -0.6380356577305533,
           -0.29190638035293504,
           -0.3919854029554723,
           0.34561179894026406,
           -0.2650360129526347,
           -0.29778857008846255,
           -0.48278462262496913,
           -0.43930638407164463,
           -0.14665125039888208,
           0.3391486853420567,
           -0.02561117432515838,
           0.09902197904349487,
           -0.10360160332740137,
           1,
           0.7410018631048455,
           -0.05054804731376188,
           -0.3017223977926035,
           -0.28943559794972085,
           -0.32443416737765013,
           -0.5656321350883924,
           -0.025611174347483622,
           -0.2598651223571967,
           1.0000000000000002,
           0.16208466036786023,
           0.12156100733723608,
           0.15319482186696676,
           -0.33259736254293776,
           -0.5135113933639153
          ],
          [
           -0.5370603394029931,
           -0.22247427358805308,
           -0.6322843207797753,
           -0.22055863485603552,
           -0.015172619321876829,
           -0.5949183288111853,
           -0.4307439994929759,
           -0.6598939161965783,
           0.4608586748819447,
           0.42383113540309036,
           -0.14714116059343751,
           -0.44080886770077676,
           0.07993714564794878,
           -0.0123632013948273,
           0.025168112886733693,
           0.05819708641123529,
           0.07241575619502212,
           -0.522723644461941,
           -0.6022792324240963,
           0.032282138496483835,
           0.3411979078444665,
           0.045420403197777084,
           0.21463844120570671,
           0.019205247984154704,
           0.7410018631048455,
           1,
           -0.11830357601491137,
           -0.37198035753035663,
           -0.23464101513560637,
           -0.2643939902743273,
           -0.6228439435414409,
           0.04542040320397216,
           -0.19033873059758222,
           0.7410018631048457,
           0.30083795220427106,
           -0.0027296870620087924,
           0.10085586291954232,
           -0.3067434887790872,
           -0.5270832598489323
          ],
          [
           0.12905932171777054,
           -0.4402146344866914,
           0.26350892858736624,
           -0.04670133270364534,
           -0.20151059884404507,
           0.37316741998861047,
           -0.2667301433614828,
           0.4156290967212485,
           0.4105744146762232,
           0.3806945513135763,
           -0.3265134084208467,
           -0.11794500252928478,
           0.31691338871244834,
           0.30215571264914404,
           -0.0605953040473975,
           0.25921297619008526,
           0.26620140888065763,
           0.3042541588492221,
           0.3867947663699756,
           0.16835911791605945,
           0.10628684750945185,
           -0.7766015217711448,
           -0.8561307530626217,
           -0.7780604735613748,
           -0.05054804731376188,
           -0.11830357601491137,
           1,
           0.9218753492149842,
           0.5100113518636462,
           0.013467532718385928,
           0.06785932546526306,
           -0.7766015217714636,
           0.7172958221161566,
           -0.05054804731376184,
           -0.3395869285358561,
           0.628444147434265,
           -0.3953108399095076,
           0.4240025510688615,
           0.6687700924637221
          ],
          [
           0.39179234440354627,
           -0.2633674437200377,
           0.5215574355192996,
           0.05336005402954042,
           -0.06831430827137572,
           0.6337765907483509,
           -0.05903262886901512,
           0.6570138420092735,
           0.12704364302199617,
           0.1880128560558634,
           -0.3471924038809706,
           -0.027651425010086418,
           0.43466902300520505,
           0.44602281555491635,
           -0.07300264245557643,
           0.3975918403507192,
           0.3987583183025729,
           0.5470503808564809,
           0.5873828590663439,
           0.22020381617854304,
           0.03563317302969345,
           -0.7133103813158175,
           -0.8082399173156711,
           -0.6867450179605998,
           -0.3017223977926035,
           -0.37198035753035663,
           0.9218753492149842,
           1,
           0.6279011496048554,
           0.27080024781800727,
           0.32931032644666264,
           -0.7133103813064977,
           0.7806236536033064,
           -0.3017223977926034,
           -0.35263869898299827,
           0.5411255691184668,
           -0.3802553789892167,
           0.5484505105772923,
           0.8506142777168353
          ],
          [
           0.656913240090285,
           0.01576973992633784,
           0.6429627617920649,
           -0.2784090590654717,
           -0.0714147003531394,
           0.6404316495391296,
           0.15071390723866393,
           0.7018836125991547,
           0.011828922307963903,
           0.46203158739875083,
           0.03548704613129522,
           -0.07667016526953119,
           0.38696374229331704,
           0.3699582550332034,
           -0.28674982852535386,
           0.385178996331421,
           0.3851760559204354,
           0.5796525013655905,
           0.5674640965329691,
           -0.12580777206034857,
           0.5818131935212592,
           -0.4382266525280439,
           -0.5299890400614641,
           -0.4026165252083862,
           -0.28943559794972085,
           -0.23464101513560637,
           0.5100113518636462,
           0.6279011496048554,
           1,
           0.7856994647900438,
           0.4992694691966811,
           -0.43822665256059706,
           0.779573391554938,
           -0.2894355979497208,
           -0.2884573101470218,
           0.3074885157048513,
           -0.2143984976990737,
           0.5627043011968517,
           0.7323399501954346
          ],
          [
           0.7211244123401169,
           0.33207049230764957,
           0.6419178921286053,
           0.06600050335364759,
           0.14972152256010288,
           0.6013958751476415,
           0.43984281773851747,
           0.63041919770765,
           -0.43419758411302184,
           0.11292881182177751,
           0.03767999816202215,
           -0.002483227832653593,
           0.23590080886070927,
           0.2472065067604533,
           -0.04106992662444092,
           0.2955290466369783,
           0.28265651552271037,
           0.5975392633558212,
           0.5594053108624074,
           -0.19572479077242397,
           0.47509000282458824,
           -0.11857466703397572,
           -0.13126614058823696,
           0.00020363577004909206,
           -0.32443416737765013,
           -0.2643939902743273,
           0.013467532718385928,
           0.27080024781800727,
           0.7856994647900438,
           1,
           0.5820327418007021,
           -0.1185746670664884,
           0.4058441671665863,
           -0.32443416737765013,
           -0.013678865031621521,
           -0.05800113287405885,
           -0.03610015251393837,
           0.3330613409004379,
           0.4734739990039021
          ],
          [
           0.9292582743472385,
           0.6697840970910047,
           0.9715159732806558,
           -0.17128141607446057,
           0.43776276842848083,
           0.896241782177612,
           0.422256590825571,
           0.9033615194891788,
           -0.5293558836651635,
           -0.3286994401387095,
           0.052255983947026775,
           0.163247921650979,
           0.12867516614058913,
           0.20824574606378338,
           -0.47647168572953175,
           0.26525078705491023,
           0.18266143805684398,
           0.870777528448822,
           0.8658045712890038,
           0.1865243189718594,
           -0.20754542401955922,
           0.1688669923166073,
           0.020802796247964144,
           0.3236777741548648,
           -0.5656321350883924,
           -0.6228439435414409,
           0.06785932546526306,
           0.32931032644666264,
           0.4992694691966811,
           0.5820327418007021,
           1,
           0.16886699234939043,
           0.36408876221054803,
           -0.5656321350883926,
           -0.014114274247164427,
           -0.3365231332640859,
           -0.17857760037657125,
           0.46669953188800367,
           0.703887396551748
          ],
          [
           0.14333858050364207,
           0.41270353786888836,
           -0.02918769411458118,
           -0.1374752646783627,
           0.24959017491887803,
           -0.1460133301630394,
           0.1920608167810897,
           -0.19152259069108538,
           -0.28941486120311566,
           -0.4049595592109444,
           0.4524098404361016,
           0.26142236454501183,
           -0.33564614506854357,
           -0.32521232216514045,
           -0.1305967114443014,
           -0.32349562544527916,
           -0.33361846767869724,
           -0.25739768353054865,
           -0.2892125268795314,
           -0.21959109602238286,
           -0.24845748110691776,
           1,
           0.8531346810828612,
           0.722928290668351,
           -0.025611174347483622,
           0.04542040320397216,
           -0.7766015217714636,
           -0.7133103813064977,
           -0.43822665256059706,
           -0.1185746670664884,
           0.16886699234939043,
           1,
           -0.6013657963535699,
           -0.02561117434748359,
           -0.0641881347292619,
           -0.4483386677484097,
           0.317397264729462,
           -0.2088442979336373,
           -0.428081181709638
          ],
          [
           0.4574874596643902,
           -0.12525042182233728,
           0.536697141919152,
           -0.3055643719545038,
           -0.24784861389729568,
           0.6669857070636095,
           -0.21543470122101332,
           0.6138065766111893,
           -0.006482573346310444,
           0.40181405130142384,
           -0.18761576122123325,
           -0.12584709900441263,
           0.5670786261679686,
           0.5123622582086041,
           -0.40673823572738604,
           0.5523828212693696,
           0.5379227370768516,
           0.5575017111860037,
           0.5122175099679065,
           0.18713866774433838,
           0.23025559227450512,
           -0.601365796361646,
           -0.6799313235216536,
           -0.5340026642799353,
           -0.2598651223571967,
           -0.19033873059758222,
           0.7172958221161566,
           0.7806236536033064,
           0.779573391554938,
           0.4058441671665863,
           0.36408876221054803,
           -0.6013657963535699,
           1,
           -0.2598651223571968,
           -0.27242472934608275,
           0.3980284089498422,
           -0.3354295905484919,
           0.6936000972085969,
           0.8537329556567973
          ],
          [
           -0.6254825861117722,
           -0.3620561054078069,
           -0.5756245166450611,
           0.05958544937246408,
           -0.19992469673872415,
           -0.49477538554627304,
           -0.44450170624239327,
           -0.5293351471191656,
           0.5332182488214193,
           0.44377892359105675,
           -0.2619996870613934,
           -0.6380356577305534,
           -0.291906380352935,
           -0.3919854029554724,
           0.3456117989402641,
           -0.26503601295263474,
           -0.2977885700884626,
           -0.48278462262496913,
           -0.4393063840716448,
           -0.1466512503988821,
           0.3391486853420567,
           -0.025611174325158352,
           0.09902197904349487,
           -0.10360160332740136,
           1.0000000000000002,
           0.7410018631048457,
           -0.05054804731376184,
           -0.3017223977926034,
           -0.2894355979497208,
           -0.32443416737765013,
           -0.5656321350883926,
           -0.02561117434748359,
           -0.2598651223571968,
           1,
           0.1620846603678603,
           0.12156100733723615,
           0.15319482186696676,
           -0.3325973625429378,
           -0.5135113933639154
          ],
          [
           -0.199580564591289,
           0.5733355345928858,
           -0.10394176276787065,
           0.005702797613863956,
           0.5158124026812587,
           -0.15817624309328882,
           0.033704530405425585,
           -0.19701679909374675,
           -0.20443106365970304,
           -0.20438471266808556,
           -0.29646343189431607,
           -0.24946705051257906,
           0.1324871859954438,
           0.1903366277526103,
           -0.1713383823675358,
           0.3225765984328948,
           0.2511116951701622,
           0.22615092203674994,
           0.11591519534497553,
           0.5803187936512104,
           -0.16594008978348848,
           -0.0641881348122763,
           0.2503047274883066,
           0.5717112732271531,
           0.16208466036786023,
           0.30083795220427106,
           -0.3395869285358561,
           -0.35263869898299827,
           -0.2884573101470218,
           -0.013678865031621521,
           -0.014114274247164427,
           -0.0641881347292619,
           -0.27242472934608275,
           0.1620846603678603,
           1,
           -0.7708918011664915,
           -0.13950522449343664,
           -0.40280562135026177,
           -0.28089595097216585
          ],
          [
           -0.12838943865245422,
           -0.9111158493774361,
           -0.14692619056268155,
           0.09870050575437675,
           -0.5346917239356953,
           -0.011163052857849604,
           -0.09423639043426034,
           0.03803340600077781,
           0.448838989185446,
           0.35133818134115274,
           -0.19725848312451003,
           -0.16807582025644027,
           -0.023516892790118395,
           -0.08687349011556379,
           0.3711511660442332,
           -0.20076009064920533,
           -0.127121639702796,
           -0.2734688493049615,
           -0.18558128296617915,
           -0.40496082671533756,
           0.26351589377383255,
           -0.4483386676746041,
           -0.4982853422386204,
           -0.9417078053606645,
           0.12156100733723608,
           -0.0027296870620087924,
           0.628444147434265,
           0.5411255691184668,
           0.3074885157048513,
           -0.05800113287405885,
           -0.3365231332640859,
           -0.4483386677484097,
           0.3980284089498422,
           0.12156100733723615,
           -0.7708918011664915,
           1,
           0.22503885866112497,
           0.4454394127409946,
           0.26167431251073126
          ],
          [
           -0.09905790293505304,
           -0.3267550644754408,
           -0.1868516061979678,
           -0.0363506129716043,
           0.15235756880833637,
           -0.1900338420737358,
           0.6149034211848011,
           -0.15129031133532028,
           -0.051587744659907266,
           -0.41556564312472066,
           -0.34736040116945643,
           -0.4682592925943328,
           -0.41766196807859074,
           -0.37893535015371893,
           0.24516707528459614,
           -0.4068083030420382,
           -0.4045839419815523,
           -0.2565372644522811,
           -0.3064630463832564,
           -0.27298532445445395,
           -0.14654183877716886,
           0.3173972647592661,
           0.6238326959086165,
           -0.05448479083696624,
           0.15319482186696676,
           0.10085586291954232,
           -0.3953108399095076,
           -0.3802553789892167,
           -0.2143984976990737,
           -0.03610015251393837,
           -0.17857760037657125,
           0.317397264729462,
           -0.3354295905484919,
           0.15319482186696676,
           -0.13950522449343664,
           0.22503885866112497,
           1,
           0.3554385815736712,
           -0.2574877472106521
          ],
          [
           0.5705733764106862,
           -0.18508396962285759,
           0.5977171885497705,
           -0.3649382865783032,
           0.07681068484382747,
           0.6863905771164022,
           0.3553847391360946,
           0.6719295884135774,
           -0.1336174898340047,
           -0.1387170386183553,
           -0.41035772768155815,
           -0.33173910823569935,
           0.23848417620465295,
           0.25778748118812594,
           -0.35311779410443106,
           0.2538821712440879,
           0.22469960334111394,
           0.5188214502810293,
           0.4468861363570364,
           0.1017185546929317,
           -0.12348932262857913,
           -0.20884429794182677,
           -0.13016266751903882,
           -0.42291259388876656,
           -0.33259736254293776,
           -0.3067434887790872,
           0.4240025510688615,
           0.5484505105772923,
           0.5627043011968517,
           0.3330613409004379,
           0.46669953188800367,
           -0.2088442979336373,
           0.6936000972085969,
           -0.3325973625429378,
           -0.40280562135026177,
           0.4454394127409946,
           0.3554385815736712,
           1,
           0.7769232951850813
          ],
          [
           0.7347167312967273,
           0.09480440037253242,
           0.8396228752585893,
           -0.2040047254712421,
           0.11091691874462081,
           0.911397723571846,
           0.1459428818485765,
           0.9007470634205308,
           -0.18939652985781746,
           -0.006262540927991092,
           -0.25918054806522123,
           -0.025485423775088563,
           0.46373340397901364,
           0.49397261149787103,
           -0.41505555754935886,
           0.4987862888571089,
           0.45964721239963874,
           0.8146814314151837,
           0.788338612202201,
           0.2884188162914701,
           -0.07562194045930434,
           -0.4280811817381416,
           -0.5241343726277243,
           -0.363385323700961,
           -0.5135113933639153,
           -0.5270832598489323,
           0.6687700924637221,
           0.8506142777168353,
           0.7323399501954346,
           0.4734739990039021,
           0.703887396551748,
           -0.428081181709638,
           0.8537329556567973,
           -0.5135113933639154,
           -0.28089595097216585,
           0.26167431251073126,
           -0.2574877472106521,
           0.7769232951850813,
           1
          ]
         ]
        }
       ],
       "layout": {
        "coloraxis": {
         "colorscale": [
          [
           0,
           "rgb(150, 245, 231)"
          ],
          [
           0.5,
           "rgb(100, 195, 181)"
          ],
          [
           1,
           "rgb(50, 145, 131)"
          ]
         ]
        },
        "height": 1000,
        "template": {
         "data": {
          "bar": [
           {
            "error_x": {
             "color": "#f2f5fa"
            },
            "error_y": {
             "color": "#f2f5fa"
            },
            "marker": {
             "line": {
              "color": "rgb(17,17,17)",
              "width": 0.5
             },
             "pattern": {
              "fillmode": "overlay",
              "size": 10,
              "solidity": 0.2
             }
            },
            "type": "bar"
           }
          ],
          "barpolar": [
           {
            "marker": {
             "line": {
              "color": "rgb(17,17,17)",
              "width": 0.5
             },
             "pattern": {
              "fillmode": "overlay",
              "size": 10,
              "solidity": 0.2
             }
            },
            "type": "barpolar"
           }
          ],
          "carpet": [
           {
            "aaxis": {
             "endlinecolor": "#A2B1C6",
             "gridcolor": "#506784",
             "linecolor": "#506784",
             "minorgridcolor": "#506784",
             "startlinecolor": "#A2B1C6"
            },
            "baxis": {
             "endlinecolor": "#A2B1C6",
             "gridcolor": "#506784",
             "linecolor": "#506784",
             "minorgridcolor": "#506784",
             "startlinecolor": "#A2B1C6"
            },
            "type": "carpet"
           }
          ],
          "choropleth": [
           {
            "colorbar": {
             "outlinewidth": 0,
             "ticks": ""
            },
            "type": "choropleth"
           }
          ],
          "contour": [
           {
            "colorbar": {
             "outlinewidth": 0,
             "ticks": ""
            },
            "colorscale": [
             [
              0,
              "#0d0887"
             ],
             [
              0.1111111111111111,
              "#46039f"
             ],
             [
              0.2222222222222222,
              "#7201a8"
             ],
             [
              0.3333333333333333,
              "#9c179e"
             ],
             [
              0.4444444444444444,
              "#bd3786"
             ],
             [
              0.5555555555555556,
              "#d8576b"
             ],
             [
              0.6666666666666666,
              "#ed7953"
             ],
             [
              0.7777777777777778,
              "#fb9f3a"
             ],
             [
              0.8888888888888888,
              "#fdca26"
             ],
             [
              1,
              "#f0f921"
             ]
            ],
            "type": "contour"
           }
          ],
          "contourcarpet": [
           {
            "colorbar": {
             "outlinewidth": 0,
             "ticks": ""
            },
            "type": "contourcarpet"
           }
          ],
          "heatmap": [
           {
            "colorbar": {
             "outlinewidth": 0,
             "ticks": ""
            },
            "colorscale": [
             [
              0,
              "#0d0887"
             ],
             [
              0.1111111111111111,
              "#46039f"
             ],
             [
              0.2222222222222222,
              "#7201a8"
             ],
             [
              0.3333333333333333,
              "#9c179e"
             ],
             [
              0.4444444444444444,
              "#bd3786"
             ],
             [
              0.5555555555555556,
              "#d8576b"
             ],
             [
              0.6666666666666666,
              "#ed7953"
             ],
             [
              0.7777777777777778,
              "#fb9f3a"
             ],
             [
              0.8888888888888888,
              "#fdca26"
             ],
             [
              1,
              "#f0f921"
             ]
            ],
            "type": "heatmap"
           }
          ],
          "heatmapgl": [
           {
            "colorbar": {
             "outlinewidth": 0,
             "ticks": ""
            },
            "colorscale": [
             [
              0,
              "#0d0887"
             ],
             [
              0.1111111111111111,
              "#46039f"
             ],
             [
              0.2222222222222222,
              "#7201a8"
             ],
             [
              0.3333333333333333,
              "#9c179e"
             ],
             [
              0.4444444444444444,
              "#bd3786"
             ],
             [
              0.5555555555555556,
              "#d8576b"
             ],
             [
              0.6666666666666666,
              "#ed7953"
             ],
             [
              0.7777777777777778,
              "#fb9f3a"
             ],
             [
              0.8888888888888888,
              "#fdca26"
             ],
             [
              1,
              "#f0f921"
             ]
            ],
            "type": "heatmapgl"
           }
          ],
          "histogram": [
           {
            "marker": {
             "pattern": {
              "fillmode": "overlay",
              "size": 10,
              "solidity": 0.2
             }
            },
            "type": "histogram"
           }
          ],
          "histogram2d": [
           {
            "colorbar": {
             "outlinewidth": 0,
             "ticks": ""
            },
            "colorscale": [
             [
              0,
              "#0d0887"
             ],
             [
              0.1111111111111111,
              "#46039f"
             ],
             [
              0.2222222222222222,
              "#7201a8"
             ],
             [
              0.3333333333333333,
              "#9c179e"
             ],
             [
              0.4444444444444444,
              "#bd3786"
             ],
             [
              0.5555555555555556,
              "#d8576b"
             ],
             [
              0.6666666666666666,
              "#ed7953"
             ],
             [
              0.7777777777777778,
              "#fb9f3a"
             ],
             [
              0.8888888888888888,
              "#fdca26"
             ],
             [
              1,
              "#f0f921"
             ]
            ],
            "type": "histogram2d"
           }
          ],
          "histogram2dcontour": [
           {
            "colorbar": {
             "outlinewidth": 0,
             "ticks": ""
            },
            "colorscale": [
             [
              0,
              "#0d0887"
             ],
             [
              0.1111111111111111,
              "#46039f"
             ],
             [
              0.2222222222222222,
              "#7201a8"
             ],
             [
              0.3333333333333333,
              "#9c179e"
             ],
             [
              0.4444444444444444,
              "#bd3786"
             ],
             [
              0.5555555555555556,
              "#d8576b"
             ],
             [
              0.6666666666666666,
              "#ed7953"
             ],
             [
              0.7777777777777778,
              "#fb9f3a"
             ],
             [
              0.8888888888888888,
              "#fdca26"
             ],
             [
              1,
              "#f0f921"
             ]
            ],
            "type": "histogram2dcontour"
           }
          ],
          "mesh3d": [
           {
            "colorbar": {
             "outlinewidth": 0,
             "ticks": ""
            },
            "type": "mesh3d"
           }
          ],
          "parcoords": [
           {
            "line": {
             "colorbar": {
              "outlinewidth": 0,
              "ticks": ""
             }
            },
            "type": "parcoords"
           }
          ],
          "pie": [
           {
            "automargin": true,
            "type": "pie"
           }
          ],
          "scatter": [
           {
            "marker": {
             "line": {
              "color": "#283442"
             }
            },
            "type": "scatter"
           }
          ],
          "scatter3d": [
           {
            "line": {
             "colorbar": {
              "outlinewidth": 0,
              "ticks": ""
             }
            },
            "marker": {
             "colorbar": {
              "outlinewidth": 0,
              "ticks": ""
             }
            },
            "type": "scatter3d"
           }
          ],
          "scattercarpet": [
           {
            "marker": {
             "colorbar": {
              "outlinewidth": 0,
              "ticks": ""
             }
            },
            "type": "scattercarpet"
           }
          ],
          "scattergeo": [
           {
            "marker": {
             "colorbar": {
              "outlinewidth": 0,
              "ticks": ""
             }
            },
            "type": "scattergeo"
           }
          ],
          "scattergl": [
           {
            "marker": {
             "line": {
              "color": "#283442"
             }
            },
            "type": "scattergl"
           }
          ],
          "scattermapbox": [
           {
            "marker": {
             "colorbar": {
              "outlinewidth": 0,
              "ticks": ""
             }
            },
            "type": "scattermapbox"
           }
          ],
          "scatterpolar": [
           {
            "marker": {
             "colorbar": {
              "outlinewidth": 0,
              "ticks": ""
             }
            },
            "type": "scatterpolar"
           }
          ],
          "scatterpolargl": [
           {
            "marker": {
             "colorbar": {
              "outlinewidth": 0,
              "ticks": ""
             }
            },
            "type": "scatterpolargl"
           }
          ],
          "scatterternary": [
           {
            "marker": {
             "colorbar": {
              "outlinewidth": 0,
              "ticks": ""
             }
            },
            "type": "scatterternary"
           }
          ],
          "surface": [
           {
            "colorbar": {
             "outlinewidth": 0,
             "ticks": ""
            },
            "colorscale": [
             [
              0,
              "#0d0887"
             ],
             [
              0.1111111111111111,
              "#46039f"
             ],
             [
              0.2222222222222222,
              "#7201a8"
             ],
             [
              0.3333333333333333,
              "#9c179e"
             ],
             [
              0.4444444444444444,
              "#bd3786"
             ],
             [
              0.5555555555555556,
              "#d8576b"
             ],
             [
              0.6666666666666666,
              "#ed7953"
             ],
             [
              0.7777777777777778,
              "#fb9f3a"
             ],
             [
              0.8888888888888888,
              "#fdca26"
             ],
             [
              1,
              "#f0f921"
             ]
            ],
            "type": "surface"
           }
          ],
          "table": [
           {
            "cells": {
             "fill": {
              "color": "#506784"
             },
             "line": {
              "color": "rgb(17,17,17)"
             }
            },
            "header": {
             "fill": {
              "color": "#2a3f5f"
             },
             "line": {
              "color": "rgb(17,17,17)"
             }
            },
            "type": "table"
           }
          ]
         },
         "layout": {
          "annotationdefaults": {
           "arrowcolor": "#f2f5fa",
           "arrowhead": 0,
           "arrowwidth": 1
          },
          "autotypenumbers": "strict",
          "coloraxis": {
           "colorbar": {
            "outlinewidth": 0,
            "ticks": ""
           }
          },
          "colorscale": {
           "diverging": [
            [
             0,
             "#8e0152"
            ],
            [
             0.1,
             "#c51b7d"
            ],
            [
             0.2,
             "#de77ae"
            ],
            [
             0.3,
             "#f1b6da"
            ],
            [
             0.4,
             "#fde0ef"
            ],
            [
             0.5,
             "#f7f7f7"
            ],
            [
             0.6,
             "#e6f5d0"
            ],
            [
             0.7,
             "#b8e186"
            ],
            [
             0.8,
             "#7fbc41"
            ],
            [
             0.9,
             "#4d9221"
            ],
            [
             1,
             "#276419"
            ]
           ],
           "sequential": [
            [
             0,
             "#0d0887"
            ],
            [
             0.1111111111111111,
             "#46039f"
            ],
            [
             0.2222222222222222,
             "#7201a8"
            ],
            [
             0.3333333333333333,
             "#9c179e"
            ],
            [
             0.4444444444444444,
             "#bd3786"
            ],
            [
             0.5555555555555556,
             "#d8576b"
            ],
            [
             0.6666666666666666,
             "#ed7953"
            ],
            [
             0.7777777777777778,
             "#fb9f3a"
            ],
            [
             0.8888888888888888,
             "#fdca26"
            ],
            [
             1,
             "#f0f921"
            ]
           ],
           "sequentialminus": [
            [
             0,
             "#0d0887"
            ],
            [
             0.1111111111111111,
             "#46039f"
            ],
            [
             0.2222222222222222,
             "#7201a8"
            ],
            [
             0.3333333333333333,
             "#9c179e"
            ],
            [
             0.4444444444444444,
             "#bd3786"
            ],
            [
             0.5555555555555556,
             "#d8576b"
            ],
            [
             0.6666666666666666,
             "#ed7953"
            ],
            [
             0.7777777777777778,
             "#fb9f3a"
            ],
            [
             0.8888888888888888,
             "#fdca26"
            ],
            [
             1,
             "#f0f921"
            ]
           ]
          },
          "colorway": [
           "#636efa",
           "#EF553B",
           "#00cc96",
           "#ab63fa",
           "#FFA15A",
           "#19d3f3",
           "#FF6692",
           "#B6E880",
           "#FF97FF",
           "#FECB52"
          ],
          "font": {
           "color": "#f2f5fa"
          },
          "geo": {
           "bgcolor": "rgb(17,17,17)",
           "lakecolor": "rgb(17,17,17)",
           "landcolor": "rgb(17,17,17)",
           "showlakes": true,
           "showland": true,
           "subunitcolor": "#506784"
          },
          "hoverlabel": {
           "align": "left"
          },
          "hovermode": "closest",
          "mapbox": {
           "style": "dark"
          },
          "paper_bgcolor": "rgb(17,17,17)",
          "plot_bgcolor": "rgb(17,17,17)",
          "polar": {
           "angularaxis": {
            "gridcolor": "#506784",
            "linecolor": "#506784",
            "ticks": ""
           },
           "bgcolor": "rgb(17,17,17)",
           "radialaxis": {
            "gridcolor": "#506784",
            "linecolor": "#506784",
            "ticks": ""
           }
          },
          "scene": {
           "xaxis": {
            "backgroundcolor": "rgb(17,17,17)",
            "gridcolor": "#506784",
            "gridwidth": 2,
            "linecolor": "#506784",
            "showbackground": true,
            "ticks": "",
            "zerolinecolor": "#C8D4E3"
           },
           "yaxis": {
            "backgroundcolor": "rgb(17,17,17)",
            "gridcolor": "#506784",
            "gridwidth": 2,
            "linecolor": "#506784",
            "showbackground": true,
            "ticks": "",
            "zerolinecolor": "#C8D4E3"
           },
           "zaxis": {
            "backgroundcolor": "rgb(17,17,17)",
            "gridcolor": "#506784",
            "gridwidth": 2,
            "linecolor": "#506784",
            "showbackground": true,
            "ticks": "",
            "zerolinecolor": "#C8D4E3"
           }
          },
          "shapedefaults": {
           "line": {
            "color": "#f2f5fa"
           }
          },
          "sliderdefaults": {
           "bgcolor": "#C8D4E3",
           "bordercolor": "rgb(17,17,17)",
           "borderwidth": 1,
           "tickwidth": 0
          },
          "ternary": {
           "aaxis": {
            "gridcolor": "#506784",
            "linecolor": "#506784",
            "ticks": ""
           },
           "baxis": {
            "gridcolor": "#506784",
            "linecolor": "#506784",
            "ticks": ""
           },
           "bgcolor": "rgb(17,17,17)",
           "caxis": {
            "gridcolor": "#506784",
            "linecolor": "#506784",
            "ticks": ""
           }
          },
          "title": {
           "x": 0.05
          },
          "updatemenudefaults": {
           "bgcolor": "#506784",
           "borderwidth": 0
          },
          "xaxis": {
           "automargin": true,
           "gridcolor": "#283442",
           "linecolor": "#506784",
           "ticks": "",
           "title": {
            "standoff": 15
           },
           "zerolinecolor": "#283442",
           "zerolinewidth": 2
          },
          "yaxis": {
           "automargin": true,
           "gridcolor": "#283442",
           "linecolor": "#506784",
           "ticks": "",
           "title": {
            "standoff": 15
           },
           "zerolinecolor": "#283442",
           "zerolinewidth": 2
          }
         }
        },
        "title": {
         "text": "Mapa de Calor: Correlação entre as variaveis"
        },
        "width": 3000,
        "xaxis": {
         "anchor": "y",
         "domain": [
          0,
          1
         ]
        },
        "yaxis": {
         "anchor": "x",
         "autorange": "reversed",
         "domain": [
          0,
          1
         ]
        }
       }
      }
     },
     "metadata": {},
     "output_type": "display_data"
    }
   ],
   "source": [
    "df_top_companies_corr = df_top_companies_cols_num.corr()\n",
    "color_scale = [[0, 'rgb(150, 245, 231)'], [0.5, 'rgb(100, 195, 181)'], [1, 'rgb(50, 145, 131)']]\n",
    "fig = px.imshow(df_top_companies_corr, text_auto=True, aspect=\"auto\", width=3000, height=1000, template=\"plotly_dark\", title=\"Mapa de Calor: Correlação entre as variaveis\", color_continuous_scale=color_scale)\n",
    "fig.show()"
   ]
  },
  {
   "cell_type": "markdown",
   "metadata": {},
   "source": [
    "**Correlations of Profit Growth**:\n",
    "\n",
    "- The perfect correlation **(1.000000)** between **`earnings_growth_rate`** and **`earnings_quarterly_growth`** means that any variation in quarterly profits is equally reflected in the annual profit growth rate. This can be useful for predicting future profitability trends based on historical growth data.\n",
    "\n",
    "**Stock Moving Averages Correlations**:\n",
    "\n",
    "- The high correlation between **`two_hundred_day_average`**, **`fifty_day_average`**, and market extremes (`fifty_two_week_low` and `fifty_two_week_high`) with values above **0.980** indicates that stock moving averages are **reliable indicators** for identifying **long-term trends** and can be used to signal **entry** and **exit** points in investments.\n",
    "\n",
    "**Corporate Earnings Correlations**:\n",
    "\n",
    "- **`total_revenue`** has a **strong correlation** with **`ebitda`** and **`gross_profits`**, illustrating that companies with **higher revenues** generally report **higher gross profits and EBITDA**, which is an indicator of operational efficiency and **profit generation** capability.\n",
    "\n",
    "**Market Value Dynamics**:\n",
    "\n",
    "- The correlation between **`market_cap`** and variables like **`total_revenue`**, **`gross_profits`**, and **`dividend_rate`** (ranging from **0.870635** to **0.943719**) shows how a company's `market value` is `influenced` by its `financial performance` and `dividend policy`. This suggests that `investors value` a company's ability to sustain growth in `revenue` and `profits`, as well as reward shareholders with `dividends`.\n",
    "\n",
    "**Dividends and Performance Relations**:\n",
    "\n",
    "- The correlation between **`trailing_annual_dividend_rate`**, **`trailing_annual_dividend_yield`**, and **`dividend_rate`** indicates that companies offering `higher dividends` tend to have a `higher annual yield`, which can attract `investors` seeking `regular income` from `dividends`.\n",
    "\n",
    "**Efficiency and Return Indicators**:\n",
    "\n",
    "- **`roce is correlated`** with **`dividend_rate and ebitda`**, suggesting that `return on capital employed` is an important metric that `can impact` both a company's ability to `pay dividends` and its overall `operational efficiency`.\n",
    "\n",
    "**Negative Correlations of Equity and Debt**:\n",
    "\n",
    "- A strong negative correlation between equity and **`total_debt`** (**-0.941708**) indicates that companies with `high equity` tend to have `less debt`. This can be interpreted as a `sign of financial solidity` and `lower leverage`, which is often seen as a positive point by investors.\n",
    "\n",
    "**Negative Liquidity and Margin Correlations**:\n",
    "\n",
    "- **`total_cash_per_share`** shows a `negative correlation` with **`gross_margins`** and **`ebitda_margins`**, highlighting that `higher liquidity per share does not` necessarily translate into `higher profit margins`. This can occur in scenarios where `liquidity is maintained` as a `strategic reserve` or used in investments that `do not generate immediate return`.\n",
    "\n",
    "**Inter-Relations of Debt, Assets, and Profitability**:\n",
    "\n",
    "- **`total_debt`** is `strongly related` to **`total_assets_approx`** (**0.722928**), which may indicate that `larger companies` with `more assets` tend to have `more debt`, which is `normal` given the `need for financing` for expansion and growth.\n",
    "\n",
    "**Various Correlations**:\n",
    "\n",
    "- Other `notable correlations` include the relationship between **`roi`** and **`roce`**, and **`return_on_assets`** and **`return_on_equity`**, suggesting that `different return metrics` are `aligned` and that `improvements` in one area of `financial performance` can lead to `improvements in others`.\n"
   ]
  },
  {
   "cell_type": "markdown",
   "metadata": {},
   "source": [
    "### Market Value and Enterprise Value Analysis."
   ]
  },
  {
   "cell_type": "code",
   "execution_count": 15,
   "metadata": {},
   "outputs": [
    {
     "data": {
      "application/vnd.plotly.v1+json": {
       "config": {
        "plotlyServerURL": "https://plot.ly"
       },
       "data": [
        {
         "alignmentgroup": "True",
         "hovertemplate": "<b>%{hovertext}</b><br><br>long_name=%{x}<br>market_cap=%{y}<extra></extra>",
         "hovertext": [
          "VIVT3.SA",
          "ELET3.SA",
          "ITSA4.SA",
          "WEGE3.SA",
          "BBAS3.SA",
          "BBDC4.SA",
          "BPAC5.SA",
          "ABEV3.SA",
          "ITUB4.SA",
          "VALE3.SA",
          "PETR3.SA"
         ],
         "legendgroup": "",
         "marker": {
          "color": "rgb(100, 195, 181)",
          "pattern": {
           "shape": ""
          }
         },
         "name": "",
         "offsetgroup": "",
         "orientation": "v",
         "showlegend": false,
         "text": [
          "R$76.45B",
          "R$79.29B",
          "R$86.58B",
          "R$138.44B",
          "R$140.41B",
          "R$142.34B",
          "R$148.33B",
          "R$200.72B",
          "R$248.68B",
          "R$277.69B",
          "R$483.21B"
         ],
         "textfont": {
          "color": "white"
         },
         "textposition": "outside",
         "type": "bar",
         "x": [
          "Telefônica Brasil S.A.",
          "Centrais Elétricas Brasileiras S.A. - Eletrobrás",
          "Itaúsa S.A.",
          "WEG S.A.",
          "Banco do Brasil S.A.",
          "Banco Bradesco S.A.",
          "Banco BTG Pactual S.A.",
          "Ambev S.A.",
          "Itaú Unibanco Holding S.A.",
          "Vale S.A.",
          "Petróleo Brasileiro S.A. - Petrobras"
         ],
         "xaxis": "x",
         "y": [
          76450242560,
          79292628992,
          86580977664,
          138442588160,
          140405981184,
          142338834432,
          148326612992,
          200723251200,
          248683167744,
          277694742528,
          483211870208
         ],
         "yaxis": "y"
        }
       ],
       "layout": {
        "barmode": "relative",
        "height": 600,
        "legend": {
         "tracegroupgap": 0
        },
        "template": {
         "data": {
          "bar": [
           {
            "error_x": {
             "color": "#f2f5fa"
            },
            "error_y": {
             "color": "#f2f5fa"
            },
            "marker": {
             "line": {
              "color": "rgb(17,17,17)",
              "width": 0.5
             },
             "pattern": {
              "fillmode": "overlay",
              "size": 10,
              "solidity": 0.2
             }
            },
            "type": "bar"
           }
          ],
          "barpolar": [
           {
            "marker": {
             "line": {
              "color": "rgb(17,17,17)",
              "width": 0.5
             },
             "pattern": {
              "fillmode": "overlay",
              "size": 10,
              "solidity": 0.2
             }
            },
            "type": "barpolar"
           }
          ],
          "carpet": [
           {
            "aaxis": {
             "endlinecolor": "#A2B1C6",
             "gridcolor": "#506784",
             "linecolor": "#506784",
             "minorgridcolor": "#506784",
             "startlinecolor": "#A2B1C6"
            },
            "baxis": {
             "endlinecolor": "#A2B1C6",
             "gridcolor": "#506784",
             "linecolor": "#506784",
             "minorgridcolor": "#506784",
             "startlinecolor": "#A2B1C6"
            },
            "type": "carpet"
           }
          ],
          "choropleth": [
           {
            "colorbar": {
             "outlinewidth": 0,
             "ticks": ""
            },
            "type": "choropleth"
           }
          ],
          "contour": [
           {
            "colorbar": {
             "outlinewidth": 0,
             "ticks": ""
            },
            "colorscale": [
             [
              0,
              "#0d0887"
             ],
             [
              0.1111111111111111,
              "#46039f"
             ],
             [
              0.2222222222222222,
              "#7201a8"
             ],
             [
              0.3333333333333333,
              "#9c179e"
             ],
             [
              0.4444444444444444,
              "#bd3786"
             ],
             [
              0.5555555555555556,
              "#d8576b"
             ],
             [
              0.6666666666666666,
              "#ed7953"
             ],
             [
              0.7777777777777778,
              "#fb9f3a"
             ],
             [
              0.8888888888888888,
              "#fdca26"
             ],
             [
              1,
              "#f0f921"
             ]
            ],
            "type": "contour"
           }
          ],
          "contourcarpet": [
           {
            "colorbar": {
             "outlinewidth": 0,
             "ticks": ""
            },
            "type": "contourcarpet"
           }
          ],
          "heatmap": [
           {
            "colorbar": {
             "outlinewidth": 0,
             "ticks": ""
            },
            "colorscale": [
             [
              0,
              "#0d0887"
             ],
             [
              0.1111111111111111,
              "#46039f"
             ],
             [
              0.2222222222222222,
              "#7201a8"
             ],
             [
              0.3333333333333333,
              "#9c179e"
             ],
             [
              0.4444444444444444,
              "#bd3786"
             ],
             [
              0.5555555555555556,
              "#d8576b"
             ],
             [
              0.6666666666666666,
              "#ed7953"
             ],
             [
              0.7777777777777778,
              "#fb9f3a"
             ],
             [
              0.8888888888888888,
              "#fdca26"
             ],
             [
              1,
              "#f0f921"
             ]
            ],
            "type": "heatmap"
           }
          ],
          "heatmapgl": [
           {
            "colorbar": {
             "outlinewidth": 0,
             "ticks": ""
            },
            "colorscale": [
             [
              0,
              "#0d0887"
             ],
             [
              0.1111111111111111,
              "#46039f"
             ],
             [
              0.2222222222222222,
              "#7201a8"
             ],
             [
              0.3333333333333333,
              "#9c179e"
             ],
             [
              0.4444444444444444,
              "#bd3786"
             ],
             [
              0.5555555555555556,
              "#d8576b"
             ],
             [
              0.6666666666666666,
              "#ed7953"
             ],
             [
              0.7777777777777778,
              "#fb9f3a"
             ],
             [
              0.8888888888888888,
              "#fdca26"
             ],
             [
              1,
              "#f0f921"
             ]
            ],
            "type": "heatmapgl"
           }
          ],
          "histogram": [
           {
            "marker": {
             "pattern": {
              "fillmode": "overlay",
              "size": 10,
              "solidity": 0.2
             }
            },
            "type": "histogram"
           }
          ],
          "histogram2d": [
           {
            "colorbar": {
             "outlinewidth": 0,
             "ticks": ""
            },
            "colorscale": [
             [
              0,
              "#0d0887"
             ],
             [
              0.1111111111111111,
              "#46039f"
             ],
             [
              0.2222222222222222,
              "#7201a8"
             ],
             [
              0.3333333333333333,
              "#9c179e"
             ],
             [
              0.4444444444444444,
              "#bd3786"
             ],
             [
              0.5555555555555556,
              "#d8576b"
             ],
             [
              0.6666666666666666,
              "#ed7953"
             ],
             [
              0.7777777777777778,
              "#fb9f3a"
             ],
             [
              0.8888888888888888,
              "#fdca26"
             ],
             [
              1,
              "#f0f921"
             ]
            ],
            "type": "histogram2d"
           }
          ],
          "histogram2dcontour": [
           {
            "colorbar": {
             "outlinewidth": 0,
             "ticks": ""
            },
            "colorscale": [
             [
              0,
              "#0d0887"
             ],
             [
              0.1111111111111111,
              "#46039f"
             ],
             [
              0.2222222222222222,
              "#7201a8"
             ],
             [
              0.3333333333333333,
              "#9c179e"
             ],
             [
              0.4444444444444444,
              "#bd3786"
             ],
             [
              0.5555555555555556,
              "#d8576b"
             ],
             [
              0.6666666666666666,
              "#ed7953"
             ],
             [
              0.7777777777777778,
              "#fb9f3a"
             ],
             [
              0.8888888888888888,
              "#fdca26"
             ],
             [
              1,
              "#f0f921"
             ]
            ],
            "type": "histogram2dcontour"
           }
          ],
          "mesh3d": [
           {
            "colorbar": {
             "outlinewidth": 0,
             "ticks": ""
            },
            "type": "mesh3d"
           }
          ],
          "parcoords": [
           {
            "line": {
             "colorbar": {
              "outlinewidth": 0,
              "ticks": ""
             }
            },
            "type": "parcoords"
           }
          ],
          "pie": [
           {
            "automargin": true,
            "type": "pie"
           }
          ],
          "scatter": [
           {
            "marker": {
             "line": {
              "color": "#283442"
             }
            },
            "type": "scatter"
           }
          ],
          "scatter3d": [
           {
            "line": {
             "colorbar": {
              "outlinewidth": 0,
              "ticks": ""
             }
            },
            "marker": {
             "colorbar": {
              "outlinewidth": 0,
              "ticks": ""
             }
            },
            "type": "scatter3d"
           }
          ],
          "scattercarpet": [
           {
            "marker": {
             "colorbar": {
              "outlinewidth": 0,
              "ticks": ""
             }
            },
            "type": "scattercarpet"
           }
          ],
          "scattergeo": [
           {
            "marker": {
             "colorbar": {
              "outlinewidth": 0,
              "ticks": ""
             }
            },
            "type": "scattergeo"
           }
          ],
          "scattergl": [
           {
            "marker": {
             "line": {
              "color": "#283442"
             }
            },
            "type": "scattergl"
           }
          ],
          "scattermapbox": [
           {
            "marker": {
             "colorbar": {
              "outlinewidth": 0,
              "ticks": ""
             }
            },
            "type": "scattermapbox"
           }
          ],
          "scatterpolar": [
           {
            "marker": {
             "colorbar": {
              "outlinewidth": 0,
              "ticks": ""
             }
            },
            "type": "scatterpolar"
           }
          ],
          "scatterpolargl": [
           {
            "marker": {
             "colorbar": {
              "outlinewidth": 0,
              "ticks": ""
             }
            },
            "type": "scatterpolargl"
           }
          ],
          "scatterternary": [
           {
            "marker": {
             "colorbar": {
              "outlinewidth": 0,
              "ticks": ""
             }
            },
            "type": "scatterternary"
           }
          ],
          "surface": [
           {
            "colorbar": {
             "outlinewidth": 0,
             "ticks": ""
            },
            "colorscale": [
             [
              0,
              "#0d0887"
             ],
             [
              0.1111111111111111,
              "#46039f"
             ],
             [
              0.2222222222222222,
              "#7201a8"
             ],
             [
              0.3333333333333333,
              "#9c179e"
             ],
             [
              0.4444444444444444,
              "#bd3786"
             ],
             [
              0.5555555555555556,
              "#d8576b"
             ],
             [
              0.6666666666666666,
              "#ed7953"
             ],
             [
              0.7777777777777778,
              "#fb9f3a"
             ],
             [
              0.8888888888888888,
              "#fdca26"
             ],
             [
              1,
              "#f0f921"
             ]
            ],
            "type": "surface"
           }
          ],
          "table": [
           {
            "cells": {
             "fill": {
              "color": "#506784"
             },
             "line": {
              "color": "rgb(17,17,17)"
             }
            },
            "header": {
             "fill": {
              "color": "#2a3f5f"
             },
             "line": {
              "color": "rgb(17,17,17)"
             }
            },
            "type": "table"
           }
          ]
         },
         "layout": {
          "annotationdefaults": {
           "arrowcolor": "#f2f5fa",
           "arrowhead": 0,
           "arrowwidth": 1
          },
          "autotypenumbers": "strict",
          "coloraxis": {
           "colorbar": {
            "outlinewidth": 0,
            "ticks": ""
           }
          },
          "colorscale": {
           "diverging": [
            [
             0,
             "#8e0152"
            ],
            [
             0.1,
             "#c51b7d"
            ],
            [
             0.2,
             "#de77ae"
            ],
            [
             0.3,
             "#f1b6da"
            ],
            [
             0.4,
             "#fde0ef"
            ],
            [
             0.5,
             "#f7f7f7"
            ],
            [
             0.6,
             "#e6f5d0"
            ],
            [
             0.7,
             "#b8e186"
            ],
            [
             0.8,
             "#7fbc41"
            ],
            [
             0.9,
             "#4d9221"
            ],
            [
             1,
             "#276419"
            ]
           ],
           "sequential": [
            [
             0,
             "#0d0887"
            ],
            [
             0.1111111111111111,
             "#46039f"
            ],
            [
             0.2222222222222222,
             "#7201a8"
            ],
            [
             0.3333333333333333,
             "#9c179e"
            ],
            [
             0.4444444444444444,
             "#bd3786"
            ],
            [
             0.5555555555555556,
             "#d8576b"
            ],
            [
             0.6666666666666666,
             "#ed7953"
            ],
            [
             0.7777777777777778,
             "#fb9f3a"
            ],
            [
             0.8888888888888888,
             "#fdca26"
            ],
            [
             1,
             "#f0f921"
            ]
           ],
           "sequentialminus": [
            [
             0,
             "#0d0887"
            ],
            [
             0.1111111111111111,
             "#46039f"
            ],
            [
             0.2222222222222222,
             "#7201a8"
            ],
            [
             0.3333333333333333,
             "#9c179e"
            ],
            [
             0.4444444444444444,
             "#bd3786"
            ],
            [
             0.5555555555555556,
             "#d8576b"
            ],
            [
             0.6666666666666666,
             "#ed7953"
            ],
            [
             0.7777777777777778,
             "#fb9f3a"
            ],
            [
             0.8888888888888888,
             "#fdca26"
            ],
            [
             1,
             "#f0f921"
            ]
           ]
          },
          "colorway": [
           "#636efa",
           "#EF553B",
           "#00cc96",
           "#ab63fa",
           "#FFA15A",
           "#19d3f3",
           "#FF6692",
           "#B6E880",
           "#FF97FF",
           "#FECB52"
          ],
          "font": {
           "color": "#f2f5fa"
          },
          "geo": {
           "bgcolor": "rgb(17,17,17)",
           "lakecolor": "rgb(17,17,17)",
           "landcolor": "rgb(17,17,17)",
           "showlakes": true,
           "showland": true,
           "subunitcolor": "#506784"
          },
          "hoverlabel": {
           "align": "left"
          },
          "hovermode": "closest",
          "mapbox": {
           "style": "dark"
          },
          "paper_bgcolor": "rgb(17,17,17)",
          "plot_bgcolor": "rgb(17,17,17)",
          "polar": {
           "angularaxis": {
            "gridcolor": "#506784",
            "linecolor": "#506784",
            "ticks": ""
           },
           "bgcolor": "rgb(17,17,17)",
           "radialaxis": {
            "gridcolor": "#506784",
            "linecolor": "#506784",
            "ticks": ""
           }
          },
          "scene": {
           "xaxis": {
            "backgroundcolor": "rgb(17,17,17)",
            "gridcolor": "#506784",
            "gridwidth": 2,
            "linecolor": "#506784",
            "showbackground": true,
            "ticks": "",
            "zerolinecolor": "#C8D4E3"
           },
           "yaxis": {
            "backgroundcolor": "rgb(17,17,17)",
            "gridcolor": "#506784",
            "gridwidth": 2,
            "linecolor": "#506784",
            "showbackground": true,
            "ticks": "",
            "zerolinecolor": "#C8D4E3"
           },
           "zaxis": {
            "backgroundcolor": "rgb(17,17,17)",
            "gridcolor": "#506784",
            "gridwidth": 2,
            "linecolor": "#506784",
            "showbackground": true,
            "ticks": "",
            "zerolinecolor": "#C8D4E3"
           }
          },
          "shapedefaults": {
           "line": {
            "color": "#f2f5fa"
           }
          },
          "sliderdefaults": {
           "bgcolor": "#C8D4E3",
           "bordercolor": "rgb(17,17,17)",
           "borderwidth": 1,
           "tickwidth": 0
          },
          "ternary": {
           "aaxis": {
            "gridcolor": "#506784",
            "linecolor": "#506784",
            "ticks": ""
           },
           "baxis": {
            "gridcolor": "#506784",
            "linecolor": "#506784",
            "ticks": ""
           },
           "bgcolor": "rgb(17,17,17)",
           "caxis": {
            "gridcolor": "#506784",
            "linecolor": "#506784",
            "ticks": ""
           }
          },
          "title": {
           "x": 0.05
          },
          "updatemenudefaults": {
           "bgcolor": "#506784",
           "borderwidth": 0
          },
          "xaxis": {
           "automargin": true,
           "gridcolor": "#283442",
           "linecolor": "#506784",
           "ticks": "",
           "title": {
            "standoff": 15
           },
           "zerolinecolor": "#283442",
           "zerolinewidth": 2
          },
          "yaxis": {
           "automargin": true,
           "gridcolor": "#283442",
           "linecolor": "#506784",
           "ticks": "",
           "title": {
            "standoff": 15
           },
           "zerolinecolor": "#283442",
           "zerolinewidth": 2
          }
         }
        },
        "title": {
         "text": "Market Cap (R$)"
        },
        "xaxis": {
         "anchor": "y",
         "domain": [
          0,
          1
         ],
         "title": {
          "text": "Companies"
         }
        },
        "yaxis": {
         "anchor": "x",
         "domain": [
          0,
          1
         ],
         "title": {
          "text": "Market Cap (R$)"
         }
        }
       }
      }
     },
     "metadata": {},
     "output_type": "display_data"
    }
   ],
   "source": [
    "df_top_companies.sort_values(by = 'market_cap', ascending=True, inplace=True)\n",
    "\n",
    "fig = px.bar(df_top_companies, title='Market Cap (R$)', x='long_name', y='market_cap', color_discrete_sequence=['rgb(100, 195, 181)'], template='plotly_dark', hover_name='ticker', height=600)\n",
    "formatted_market_cap = [f'R${x:.2f}B' for x in (df_top_companies['market_cap'] / 1e9)]\n",
    "fig.update_traces(text=formatted_market_cap, textfont=dict(color='white'), textposition='outside')\n",
    "fig.update_xaxes(title='Companies')\n",
    "fig.update_yaxes(title='Market Cap (R$)')\n",
    "fig.show()"
   ]
  },
  {
   "cell_type": "markdown",
   "metadata": {},
   "source": [
    "- `Market capitalization` is calculated by `multiplying` the `total number of a company's shares` by the `current price per share` and represents the total market value of the company's shares in circulation.\n",
    "\n",
    "- The market capitalization values `vary significantly`, with the company `Petróleo Brasileiro S.A. - Petrobras` having the `highest listed capitalization`, exceeding `R$ 483 billion reais`. Other companies have values ranging from approximately **R$ 76 billion** to **R$ 277 billion reais**.\n",
    "\n",
    "The chart is useful for quickly comparing the relative size of companies in terms of their market capitalization. This may be an indicator of their size, but it is important to note that market capitalization is not necessarily a measure of the financial health or operational performance of a company. Other factors such as revenues, profits, debts, and future prospects are also important when evaluating companies.\n"
   ]
  },
  {
   "cell_type": "code",
   "execution_count": 16,
   "metadata": {},
   "outputs": [
    {
     "data": {
      "application/vnd.plotly.v1+json": {
       "config": {
        "plotlyServerURL": "https://plot.ly"
       },
       "data": [
        {
         "alignmentgroup": "True",
         "hovertemplate": "<b>%{hovertext}</b><br><br>long_name=%{x}<br>enterprise_value=%{y}<extra></extra>",
         "hovertext": [
          "BPAC5.SA",
          "VIVT3.SA",
          "ITSA4.SA",
          "ELET3.SA",
          "WEGE3.SA",
          "ABEV3.SA",
          "VALE3.SA",
          "BBDC4.SA",
          "ITUB4.SA",
          "PETR3.SA",
          "BBAS3.SA"
         ],
         "legendgroup": "",
         "marker": {
          "color": "rgb(100, 195, 181)",
          "pattern": {
           "shape": ""
          }
         },
         "name": "",
         "offsetgroup": "",
         "orientation": "v",
         "showlegend": false,
         "text": [
          "R$43.45B",
          "R$88.46B",
          "R$93.98B",
          "R$120.12B",
          "R$130.37B",
          "R$188.85B",
          "R$339.91B",
          "R$542.11B",
          "R$707.79B",
          "R$729.36B",
          "R$957.44B"
         ],
         "textfont": {
          "color": "white"
         },
         "textposition": "outside",
         "type": "bar",
         "x": [
          "Banco BTG Pactual S.A.",
          "Telefônica Brasil S.A.",
          "Itaúsa S.A.",
          "Centrais Elétricas Brasileiras S.A. - Eletrobrás",
          "WEG S.A.",
          "Ambev S.A.",
          "Vale S.A.",
          "Banco Bradesco S.A.",
          "Itaú Unibanco Holding S.A.",
          "Petróleo Brasileiro S.A. - Petrobras",
          "Banco do Brasil S.A."
         ],
         "xaxis": "x",
         "y": [
          43454111744,
          88457805824,
          93975281664,
          120118444032,
          130366398464,
          188845899776,
          339907117056,
          542111039488,
          707787489280,
          729364037632,
          957440589824
         ],
         "yaxis": "y"
        }
       ],
       "layout": {
        "barmode": "relative",
        "height": 600,
        "legend": {
         "tracegroupgap": 0
        },
        "template": {
         "data": {
          "bar": [
           {
            "error_x": {
             "color": "#f2f5fa"
            },
            "error_y": {
             "color": "#f2f5fa"
            },
            "marker": {
             "line": {
              "color": "rgb(17,17,17)",
              "width": 0.5
             },
             "pattern": {
              "fillmode": "overlay",
              "size": 10,
              "solidity": 0.2
             }
            },
            "type": "bar"
           }
          ],
          "barpolar": [
           {
            "marker": {
             "line": {
              "color": "rgb(17,17,17)",
              "width": 0.5
             },
             "pattern": {
              "fillmode": "overlay",
              "size": 10,
              "solidity": 0.2
             }
            },
            "type": "barpolar"
           }
          ],
          "carpet": [
           {
            "aaxis": {
             "endlinecolor": "#A2B1C6",
             "gridcolor": "#506784",
             "linecolor": "#506784",
             "minorgridcolor": "#506784",
             "startlinecolor": "#A2B1C6"
            },
            "baxis": {
             "endlinecolor": "#A2B1C6",
             "gridcolor": "#506784",
             "linecolor": "#506784",
             "minorgridcolor": "#506784",
             "startlinecolor": "#A2B1C6"
            },
            "type": "carpet"
           }
          ],
          "choropleth": [
           {
            "colorbar": {
             "outlinewidth": 0,
             "ticks": ""
            },
            "type": "choropleth"
           }
          ],
          "contour": [
           {
            "colorbar": {
             "outlinewidth": 0,
             "ticks": ""
            },
            "colorscale": [
             [
              0,
              "#0d0887"
             ],
             [
              0.1111111111111111,
              "#46039f"
             ],
             [
              0.2222222222222222,
              "#7201a8"
             ],
             [
              0.3333333333333333,
              "#9c179e"
             ],
             [
              0.4444444444444444,
              "#bd3786"
             ],
             [
              0.5555555555555556,
              "#d8576b"
             ],
             [
              0.6666666666666666,
              "#ed7953"
             ],
             [
              0.7777777777777778,
              "#fb9f3a"
             ],
             [
              0.8888888888888888,
              "#fdca26"
             ],
             [
              1,
              "#f0f921"
             ]
            ],
            "type": "contour"
           }
          ],
          "contourcarpet": [
           {
            "colorbar": {
             "outlinewidth": 0,
             "ticks": ""
            },
            "type": "contourcarpet"
           }
          ],
          "heatmap": [
           {
            "colorbar": {
             "outlinewidth": 0,
             "ticks": ""
            },
            "colorscale": [
             [
              0,
              "#0d0887"
             ],
             [
              0.1111111111111111,
              "#46039f"
             ],
             [
              0.2222222222222222,
              "#7201a8"
             ],
             [
              0.3333333333333333,
              "#9c179e"
             ],
             [
              0.4444444444444444,
              "#bd3786"
             ],
             [
              0.5555555555555556,
              "#d8576b"
             ],
             [
              0.6666666666666666,
              "#ed7953"
             ],
             [
              0.7777777777777778,
              "#fb9f3a"
             ],
             [
              0.8888888888888888,
              "#fdca26"
             ],
             [
              1,
              "#f0f921"
             ]
            ],
            "type": "heatmap"
           }
          ],
          "heatmapgl": [
           {
            "colorbar": {
             "outlinewidth": 0,
             "ticks": ""
            },
            "colorscale": [
             [
              0,
              "#0d0887"
             ],
             [
              0.1111111111111111,
              "#46039f"
             ],
             [
              0.2222222222222222,
              "#7201a8"
             ],
             [
              0.3333333333333333,
              "#9c179e"
             ],
             [
              0.4444444444444444,
              "#bd3786"
             ],
             [
              0.5555555555555556,
              "#d8576b"
             ],
             [
              0.6666666666666666,
              "#ed7953"
             ],
             [
              0.7777777777777778,
              "#fb9f3a"
             ],
             [
              0.8888888888888888,
              "#fdca26"
             ],
             [
              1,
              "#f0f921"
             ]
            ],
            "type": "heatmapgl"
           }
          ],
          "histogram": [
           {
            "marker": {
             "pattern": {
              "fillmode": "overlay",
              "size": 10,
              "solidity": 0.2
             }
            },
            "type": "histogram"
           }
          ],
          "histogram2d": [
           {
            "colorbar": {
             "outlinewidth": 0,
             "ticks": ""
            },
            "colorscale": [
             [
              0,
              "#0d0887"
             ],
             [
              0.1111111111111111,
              "#46039f"
             ],
             [
              0.2222222222222222,
              "#7201a8"
             ],
             [
              0.3333333333333333,
              "#9c179e"
             ],
             [
              0.4444444444444444,
              "#bd3786"
             ],
             [
              0.5555555555555556,
              "#d8576b"
             ],
             [
              0.6666666666666666,
              "#ed7953"
             ],
             [
              0.7777777777777778,
              "#fb9f3a"
             ],
             [
              0.8888888888888888,
              "#fdca26"
             ],
             [
              1,
              "#f0f921"
             ]
            ],
            "type": "histogram2d"
           }
          ],
          "histogram2dcontour": [
           {
            "colorbar": {
             "outlinewidth": 0,
             "ticks": ""
            },
            "colorscale": [
             [
              0,
              "#0d0887"
             ],
             [
              0.1111111111111111,
              "#46039f"
             ],
             [
              0.2222222222222222,
              "#7201a8"
             ],
             [
              0.3333333333333333,
              "#9c179e"
             ],
             [
              0.4444444444444444,
              "#bd3786"
             ],
             [
              0.5555555555555556,
              "#d8576b"
             ],
             [
              0.6666666666666666,
              "#ed7953"
             ],
             [
              0.7777777777777778,
              "#fb9f3a"
             ],
             [
              0.8888888888888888,
              "#fdca26"
             ],
             [
              1,
              "#f0f921"
             ]
            ],
            "type": "histogram2dcontour"
           }
          ],
          "mesh3d": [
           {
            "colorbar": {
             "outlinewidth": 0,
             "ticks": ""
            },
            "type": "mesh3d"
           }
          ],
          "parcoords": [
           {
            "line": {
             "colorbar": {
              "outlinewidth": 0,
              "ticks": ""
             }
            },
            "type": "parcoords"
           }
          ],
          "pie": [
           {
            "automargin": true,
            "type": "pie"
           }
          ],
          "scatter": [
           {
            "marker": {
             "line": {
              "color": "#283442"
             }
            },
            "type": "scatter"
           }
          ],
          "scatter3d": [
           {
            "line": {
             "colorbar": {
              "outlinewidth": 0,
              "ticks": ""
             }
            },
            "marker": {
             "colorbar": {
              "outlinewidth": 0,
              "ticks": ""
             }
            },
            "type": "scatter3d"
           }
          ],
          "scattercarpet": [
           {
            "marker": {
             "colorbar": {
              "outlinewidth": 0,
              "ticks": ""
             }
            },
            "type": "scattercarpet"
           }
          ],
          "scattergeo": [
           {
            "marker": {
             "colorbar": {
              "outlinewidth": 0,
              "ticks": ""
             }
            },
            "type": "scattergeo"
           }
          ],
          "scattergl": [
           {
            "marker": {
             "line": {
              "color": "#283442"
             }
            },
            "type": "scattergl"
           }
          ],
          "scattermapbox": [
           {
            "marker": {
             "colorbar": {
              "outlinewidth": 0,
              "ticks": ""
             }
            },
            "type": "scattermapbox"
           }
          ],
          "scatterpolar": [
           {
            "marker": {
             "colorbar": {
              "outlinewidth": 0,
              "ticks": ""
             }
            },
            "type": "scatterpolar"
           }
          ],
          "scatterpolargl": [
           {
            "marker": {
             "colorbar": {
              "outlinewidth": 0,
              "ticks": ""
             }
            },
            "type": "scatterpolargl"
           }
          ],
          "scatterternary": [
           {
            "marker": {
             "colorbar": {
              "outlinewidth": 0,
              "ticks": ""
             }
            },
            "type": "scatterternary"
           }
          ],
          "surface": [
           {
            "colorbar": {
             "outlinewidth": 0,
             "ticks": ""
            },
            "colorscale": [
             [
              0,
              "#0d0887"
             ],
             [
              0.1111111111111111,
              "#46039f"
             ],
             [
              0.2222222222222222,
              "#7201a8"
             ],
             [
              0.3333333333333333,
              "#9c179e"
             ],
             [
              0.4444444444444444,
              "#bd3786"
             ],
             [
              0.5555555555555556,
              "#d8576b"
             ],
             [
              0.6666666666666666,
              "#ed7953"
             ],
             [
              0.7777777777777778,
              "#fb9f3a"
             ],
             [
              0.8888888888888888,
              "#fdca26"
             ],
             [
              1,
              "#f0f921"
             ]
            ],
            "type": "surface"
           }
          ],
          "table": [
           {
            "cells": {
             "fill": {
              "color": "#506784"
             },
             "line": {
              "color": "rgb(17,17,17)"
             }
            },
            "header": {
             "fill": {
              "color": "#2a3f5f"
             },
             "line": {
              "color": "rgb(17,17,17)"
             }
            },
            "type": "table"
           }
          ]
         },
         "layout": {
          "annotationdefaults": {
           "arrowcolor": "#f2f5fa",
           "arrowhead": 0,
           "arrowwidth": 1
          },
          "autotypenumbers": "strict",
          "coloraxis": {
           "colorbar": {
            "outlinewidth": 0,
            "ticks": ""
           }
          },
          "colorscale": {
           "diverging": [
            [
             0,
             "#8e0152"
            ],
            [
             0.1,
             "#c51b7d"
            ],
            [
             0.2,
             "#de77ae"
            ],
            [
             0.3,
             "#f1b6da"
            ],
            [
             0.4,
             "#fde0ef"
            ],
            [
             0.5,
             "#f7f7f7"
            ],
            [
             0.6,
             "#e6f5d0"
            ],
            [
             0.7,
             "#b8e186"
            ],
            [
             0.8,
             "#7fbc41"
            ],
            [
             0.9,
             "#4d9221"
            ],
            [
             1,
             "#276419"
            ]
           ],
           "sequential": [
            [
             0,
             "#0d0887"
            ],
            [
             0.1111111111111111,
             "#46039f"
            ],
            [
             0.2222222222222222,
             "#7201a8"
            ],
            [
             0.3333333333333333,
             "#9c179e"
            ],
            [
             0.4444444444444444,
             "#bd3786"
            ],
            [
             0.5555555555555556,
             "#d8576b"
            ],
            [
             0.6666666666666666,
             "#ed7953"
            ],
            [
             0.7777777777777778,
             "#fb9f3a"
            ],
            [
             0.8888888888888888,
             "#fdca26"
            ],
            [
             1,
             "#f0f921"
            ]
           ],
           "sequentialminus": [
            [
             0,
             "#0d0887"
            ],
            [
             0.1111111111111111,
             "#46039f"
            ],
            [
             0.2222222222222222,
             "#7201a8"
            ],
            [
             0.3333333333333333,
             "#9c179e"
            ],
            [
             0.4444444444444444,
             "#bd3786"
            ],
            [
             0.5555555555555556,
             "#d8576b"
            ],
            [
             0.6666666666666666,
             "#ed7953"
            ],
            [
             0.7777777777777778,
             "#fb9f3a"
            ],
            [
             0.8888888888888888,
             "#fdca26"
            ],
            [
             1,
             "#f0f921"
            ]
           ]
          },
          "colorway": [
           "#636efa",
           "#EF553B",
           "#00cc96",
           "#ab63fa",
           "#FFA15A",
           "#19d3f3",
           "#FF6692",
           "#B6E880",
           "#FF97FF",
           "#FECB52"
          ],
          "font": {
           "color": "#f2f5fa"
          },
          "geo": {
           "bgcolor": "rgb(17,17,17)",
           "lakecolor": "rgb(17,17,17)",
           "landcolor": "rgb(17,17,17)",
           "showlakes": true,
           "showland": true,
           "subunitcolor": "#506784"
          },
          "hoverlabel": {
           "align": "left"
          },
          "hovermode": "closest",
          "mapbox": {
           "style": "dark"
          },
          "paper_bgcolor": "rgb(17,17,17)",
          "plot_bgcolor": "rgb(17,17,17)",
          "polar": {
           "angularaxis": {
            "gridcolor": "#506784",
            "linecolor": "#506784",
            "ticks": ""
           },
           "bgcolor": "rgb(17,17,17)",
           "radialaxis": {
            "gridcolor": "#506784",
            "linecolor": "#506784",
            "ticks": ""
           }
          },
          "scene": {
           "xaxis": {
            "backgroundcolor": "rgb(17,17,17)",
            "gridcolor": "#506784",
            "gridwidth": 2,
            "linecolor": "#506784",
            "showbackground": true,
            "ticks": "",
            "zerolinecolor": "#C8D4E3"
           },
           "yaxis": {
            "backgroundcolor": "rgb(17,17,17)",
            "gridcolor": "#506784",
            "gridwidth": 2,
            "linecolor": "#506784",
            "showbackground": true,
            "ticks": "",
            "zerolinecolor": "#C8D4E3"
           },
           "zaxis": {
            "backgroundcolor": "rgb(17,17,17)",
            "gridcolor": "#506784",
            "gridwidth": 2,
            "linecolor": "#506784",
            "showbackground": true,
            "ticks": "",
            "zerolinecolor": "#C8D4E3"
           }
          },
          "shapedefaults": {
           "line": {
            "color": "#f2f5fa"
           }
          },
          "sliderdefaults": {
           "bgcolor": "#C8D4E3",
           "bordercolor": "rgb(17,17,17)",
           "borderwidth": 1,
           "tickwidth": 0
          },
          "ternary": {
           "aaxis": {
            "gridcolor": "#506784",
            "linecolor": "#506784",
            "ticks": ""
           },
           "baxis": {
            "gridcolor": "#506784",
            "linecolor": "#506784",
            "ticks": ""
           },
           "bgcolor": "rgb(17,17,17)",
           "caxis": {
            "gridcolor": "#506784",
            "linecolor": "#506784",
            "ticks": ""
           }
          },
          "title": {
           "x": 0.05
          },
          "updatemenudefaults": {
           "bgcolor": "#506784",
           "borderwidth": 0
          },
          "xaxis": {
           "automargin": true,
           "gridcolor": "#283442",
           "linecolor": "#506784",
           "ticks": "",
           "title": {
            "standoff": 15
           },
           "zerolinecolor": "#283442",
           "zerolinewidth": 2
          },
          "yaxis": {
           "automargin": true,
           "gridcolor": "#283442",
           "linecolor": "#506784",
           "ticks": "",
           "title": {
            "standoff": 15
           },
           "zerolinecolor": "#283442",
           "zerolinewidth": 2
          }
         }
        },
        "title": {
         "text": "Enterprise Value (R$)"
        },
        "xaxis": {
         "anchor": "y",
         "domain": [
          0,
          1
         ],
         "title": {
          "text": "Companies"
         }
        },
        "yaxis": {
         "anchor": "x",
         "domain": [
          0,
          1
         ],
         "title": {
          "text": "Enterprise Value (R$)"
         }
        }
       }
      }
     },
     "metadata": {},
     "output_type": "display_data"
    }
   ],
   "source": [
    "df_top_companies.sort_values(by = 'enterprise_value', ascending=True, inplace=True)\n",
    "\n",
    "fig = px.bar(df_top_companies, title='Enterprise Value (R$)', x='long_name', y='enterprise_value', color_discrete_sequence=['rgb(100, 195, 181)'], template='plotly_dark', hover_name='ticker', height=600)\n",
    "formatted_enterprise_value = [f'R${x:.2f}B' for x in (df_top_companies['enterprise_value'] / 1e9)]\n",
    "fig.update_traces(text=formatted_enterprise_value, textposition='outside', textfont=dict(color='white'))\n",
    "fig.update_xaxes(title='Companies')\n",
    "fig.update_yaxes(title='Enterprise Value (R$)')\n",
    "fig.show()"
   ]
  },
  {
   "cell_type": "markdown",
   "metadata": {},
   "source": [
    "- **`Banco BTG Pactual S.A.`**: **EV of BRL 43.45 billion**. A prominent financial institution in investments and wealth management.\n",
    "\n",
    "- **`Telefônica Brasil S.A.`**: **EV of BRL 58.46 billion**. A major telecommunications operator offering services such as telephony and internet.\n",
    "\n",
    "- **`Itaúsa S.A.`**: **EV of BRL 93.98 billion**. A holding company controlling businesses in the financial and industrial sectors. **Centrais Elétricas Brasileiras S.A. - Eletrobrás**: Leads the electric energy sector in Latin America with an **EV of BRL 120.12 billion**.\n",
    "\n",
    "- **`WEG S.A.`**: **EV of BRL 130.37 billion**. A multinational in electrical equipment like motors and generators.\n",
    "\n",
    "- **`Ambev S.A.`**: **EV of BRL 188.85 billion**. One of the world's largest breweries.\n",
    "\n",
    "- **`Vale S.A.`**: A mining giant with an **EV of BRL 339.91 billion**, focused on iron ore and nickel.\n",
    "\n",
    "- **`Banco Bradesco S.A.`**: One of Brazil's largest private banks with an **EV of BRL 542.11 billion**.\n",
    "\n",
    "- **`Itaú Unibanco Holding S.A.`**: A financial conglomerate with an **EV of BRL 707.79 billion**.\n",
    "\n",
    "- **`Petróleo Brasileiro S.A. - Petrobras`**: The state oil company with an **EV of BRL 729.36 billion**, involved in oil exploration and production.\n",
    "\n",
    "- **`Banco do Brasil S.A.`**: With a value of **BRL 957.44 billion**, one of the largest financial institutions in Latin America, essential to the Brazilian economy, offering various financial services.\n",
    "\n",
    "These values highlight the significant economic and market value of these companies, reflecting their operations, debts, and cash reserves.\n"
   ]
  },
  {
   "cell_type": "markdown",
   "metadata": {},
   "source": [
    "### Profitability and Margins:"
   ]
  },
  {
   "cell_type": "code",
   "execution_count": 17,
   "metadata": {},
   "outputs": [
    {
     "data": {
      "application/vnd.plotly.v1+json": {
       "config": {
        "plotlyServerURL": "https://plot.ly"
       },
       "data": [
        {
         "alignmentgroup": "True",
         "hovertemplate": "<b>%{hovertext}</b><br><br>long_name=%{x}<br>total_revenue=%{y}<extra></extra>",
         "hovertext": [
          "ITSA4.SA",
          "BPAC5.SA",
          "WEGE3.SA",
          "ELET3.SA",
          "VIVT3.SA",
          "BBDC4.SA",
          "ABEV3.SA",
          "BBAS3.SA",
          "ITUB4.SA",
          "VALE3.SA",
          "PETR3.SA"
         ],
         "legendgroup": "",
         "marker": {
          "color": "rgb(100, 195, 181)",
          "pattern": {
           "shape": ""
          }
         },
         "name": "",
         "offsetgroup": "",
         "orientation": "v",
         "showlegend": false,
         "text": [
          "R$7.81B",
          "R$27.75B",
          "R$31.76B",
          "R$35.51B",
          "R$50.31B",
          "R$72.89B",
          "R$82.71B",
          "R$95.33B",
          "R$118.94B",
          "R$206.41B",
          "R$581.56B"
         ],
         "textfont": {
          "color": "white"
         },
         "textposition": "outside",
         "type": "bar",
         "x": [
          "Itaúsa S.A.",
          "Banco BTG Pactual S.A.",
          "WEG S.A.",
          "Centrais Elétricas Brasileiras S.A. - Eletrobrás",
          "Telefônica Brasil S.A.",
          "Banco Bradesco S.A.",
          "Ambev S.A.",
          "Banco do Brasil S.A.",
          "Itaú Unibanco Holding S.A.",
          "Vale S.A.",
          "Petróleo Brasileiro S.A. - Petrobras"
         ],
         "xaxis": "x",
         "y": [
          7807000064,
          27751354368,
          31758307328,
          35511730176,
          50311852032,
          72893186048,
          82710536192,
          95328927744,
          118938001408,
          206414004224,
          581562990592
         ],
         "yaxis": "y"
        }
       ],
       "layout": {
        "barmode": "relative",
        "height": 600,
        "legend": {
         "tracegroupgap": 0
        },
        "template": {
         "data": {
          "bar": [
           {
            "error_x": {
             "color": "#f2f5fa"
            },
            "error_y": {
             "color": "#f2f5fa"
            },
            "marker": {
             "line": {
              "color": "rgb(17,17,17)",
              "width": 0.5
             },
             "pattern": {
              "fillmode": "overlay",
              "size": 10,
              "solidity": 0.2
             }
            },
            "type": "bar"
           }
          ],
          "barpolar": [
           {
            "marker": {
             "line": {
              "color": "rgb(17,17,17)",
              "width": 0.5
             },
             "pattern": {
              "fillmode": "overlay",
              "size": 10,
              "solidity": 0.2
             }
            },
            "type": "barpolar"
           }
          ],
          "carpet": [
           {
            "aaxis": {
             "endlinecolor": "#A2B1C6",
             "gridcolor": "#506784",
             "linecolor": "#506784",
             "minorgridcolor": "#506784",
             "startlinecolor": "#A2B1C6"
            },
            "baxis": {
             "endlinecolor": "#A2B1C6",
             "gridcolor": "#506784",
             "linecolor": "#506784",
             "minorgridcolor": "#506784",
             "startlinecolor": "#A2B1C6"
            },
            "type": "carpet"
           }
          ],
          "choropleth": [
           {
            "colorbar": {
             "outlinewidth": 0,
             "ticks": ""
            },
            "type": "choropleth"
           }
          ],
          "contour": [
           {
            "colorbar": {
             "outlinewidth": 0,
             "ticks": ""
            },
            "colorscale": [
             [
              0,
              "#0d0887"
             ],
             [
              0.1111111111111111,
              "#46039f"
             ],
             [
              0.2222222222222222,
              "#7201a8"
             ],
             [
              0.3333333333333333,
              "#9c179e"
             ],
             [
              0.4444444444444444,
              "#bd3786"
             ],
             [
              0.5555555555555556,
              "#d8576b"
             ],
             [
              0.6666666666666666,
              "#ed7953"
             ],
             [
              0.7777777777777778,
              "#fb9f3a"
             ],
             [
              0.8888888888888888,
              "#fdca26"
             ],
             [
              1,
              "#f0f921"
             ]
            ],
            "type": "contour"
           }
          ],
          "contourcarpet": [
           {
            "colorbar": {
             "outlinewidth": 0,
             "ticks": ""
            },
            "type": "contourcarpet"
           }
          ],
          "heatmap": [
           {
            "colorbar": {
             "outlinewidth": 0,
             "ticks": ""
            },
            "colorscale": [
             [
              0,
              "#0d0887"
             ],
             [
              0.1111111111111111,
              "#46039f"
             ],
             [
              0.2222222222222222,
              "#7201a8"
             ],
             [
              0.3333333333333333,
              "#9c179e"
             ],
             [
              0.4444444444444444,
              "#bd3786"
             ],
             [
              0.5555555555555556,
              "#d8576b"
             ],
             [
              0.6666666666666666,
              "#ed7953"
             ],
             [
              0.7777777777777778,
              "#fb9f3a"
             ],
             [
              0.8888888888888888,
              "#fdca26"
             ],
             [
              1,
              "#f0f921"
             ]
            ],
            "type": "heatmap"
           }
          ],
          "heatmapgl": [
           {
            "colorbar": {
             "outlinewidth": 0,
             "ticks": ""
            },
            "colorscale": [
             [
              0,
              "#0d0887"
             ],
             [
              0.1111111111111111,
              "#46039f"
             ],
             [
              0.2222222222222222,
              "#7201a8"
             ],
             [
              0.3333333333333333,
              "#9c179e"
             ],
             [
              0.4444444444444444,
              "#bd3786"
             ],
             [
              0.5555555555555556,
              "#d8576b"
             ],
             [
              0.6666666666666666,
              "#ed7953"
             ],
             [
              0.7777777777777778,
              "#fb9f3a"
             ],
             [
              0.8888888888888888,
              "#fdca26"
             ],
             [
              1,
              "#f0f921"
             ]
            ],
            "type": "heatmapgl"
           }
          ],
          "histogram": [
           {
            "marker": {
             "pattern": {
              "fillmode": "overlay",
              "size": 10,
              "solidity": 0.2
             }
            },
            "type": "histogram"
           }
          ],
          "histogram2d": [
           {
            "colorbar": {
             "outlinewidth": 0,
             "ticks": ""
            },
            "colorscale": [
             [
              0,
              "#0d0887"
             ],
             [
              0.1111111111111111,
              "#46039f"
             ],
             [
              0.2222222222222222,
              "#7201a8"
             ],
             [
              0.3333333333333333,
              "#9c179e"
             ],
             [
              0.4444444444444444,
              "#bd3786"
             ],
             [
              0.5555555555555556,
              "#d8576b"
             ],
             [
              0.6666666666666666,
              "#ed7953"
             ],
             [
              0.7777777777777778,
              "#fb9f3a"
             ],
             [
              0.8888888888888888,
              "#fdca26"
             ],
             [
              1,
              "#f0f921"
             ]
            ],
            "type": "histogram2d"
           }
          ],
          "histogram2dcontour": [
           {
            "colorbar": {
             "outlinewidth": 0,
             "ticks": ""
            },
            "colorscale": [
             [
              0,
              "#0d0887"
             ],
             [
              0.1111111111111111,
              "#46039f"
             ],
             [
              0.2222222222222222,
              "#7201a8"
             ],
             [
              0.3333333333333333,
              "#9c179e"
             ],
             [
              0.4444444444444444,
              "#bd3786"
             ],
             [
              0.5555555555555556,
              "#d8576b"
             ],
             [
              0.6666666666666666,
              "#ed7953"
             ],
             [
              0.7777777777777778,
              "#fb9f3a"
             ],
             [
              0.8888888888888888,
              "#fdca26"
             ],
             [
              1,
              "#f0f921"
             ]
            ],
            "type": "histogram2dcontour"
           }
          ],
          "mesh3d": [
           {
            "colorbar": {
             "outlinewidth": 0,
             "ticks": ""
            },
            "type": "mesh3d"
           }
          ],
          "parcoords": [
           {
            "line": {
             "colorbar": {
              "outlinewidth": 0,
              "ticks": ""
             }
            },
            "type": "parcoords"
           }
          ],
          "pie": [
           {
            "automargin": true,
            "type": "pie"
           }
          ],
          "scatter": [
           {
            "marker": {
             "line": {
              "color": "#283442"
             }
            },
            "type": "scatter"
           }
          ],
          "scatter3d": [
           {
            "line": {
             "colorbar": {
              "outlinewidth": 0,
              "ticks": ""
             }
            },
            "marker": {
             "colorbar": {
              "outlinewidth": 0,
              "ticks": ""
             }
            },
            "type": "scatter3d"
           }
          ],
          "scattercarpet": [
           {
            "marker": {
             "colorbar": {
              "outlinewidth": 0,
              "ticks": ""
             }
            },
            "type": "scattercarpet"
           }
          ],
          "scattergeo": [
           {
            "marker": {
             "colorbar": {
              "outlinewidth": 0,
              "ticks": ""
             }
            },
            "type": "scattergeo"
           }
          ],
          "scattergl": [
           {
            "marker": {
             "line": {
              "color": "#283442"
             }
            },
            "type": "scattergl"
           }
          ],
          "scattermapbox": [
           {
            "marker": {
             "colorbar": {
              "outlinewidth": 0,
              "ticks": ""
             }
            },
            "type": "scattermapbox"
           }
          ],
          "scatterpolar": [
           {
            "marker": {
             "colorbar": {
              "outlinewidth": 0,
              "ticks": ""
             }
            },
            "type": "scatterpolar"
           }
          ],
          "scatterpolargl": [
           {
            "marker": {
             "colorbar": {
              "outlinewidth": 0,
              "ticks": ""
             }
            },
            "type": "scatterpolargl"
           }
          ],
          "scatterternary": [
           {
            "marker": {
             "colorbar": {
              "outlinewidth": 0,
              "ticks": ""
             }
            },
            "type": "scatterternary"
           }
          ],
          "surface": [
           {
            "colorbar": {
             "outlinewidth": 0,
             "ticks": ""
            },
            "colorscale": [
             [
              0,
              "#0d0887"
             ],
             [
              0.1111111111111111,
              "#46039f"
             ],
             [
              0.2222222222222222,
              "#7201a8"
             ],
             [
              0.3333333333333333,
              "#9c179e"
             ],
             [
              0.4444444444444444,
              "#bd3786"
             ],
             [
              0.5555555555555556,
              "#d8576b"
             ],
             [
              0.6666666666666666,
              "#ed7953"
             ],
             [
              0.7777777777777778,
              "#fb9f3a"
             ],
             [
              0.8888888888888888,
              "#fdca26"
             ],
             [
              1,
              "#f0f921"
             ]
            ],
            "type": "surface"
           }
          ],
          "table": [
           {
            "cells": {
             "fill": {
              "color": "#506784"
             },
             "line": {
              "color": "rgb(17,17,17)"
             }
            },
            "header": {
             "fill": {
              "color": "#2a3f5f"
             },
             "line": {
              "color": "rgb(17,17,17)"
             }
            },
            "type": "table"
           }
          ]
         },
         "layout": {
          "annotationdefaults": {
           "arrowcolor": "#f2f5fa",
           "arrowhead": 0,
           "arrowwidth": 1
          },
          "autotypenumbers": "strict",
          "coloraxis": {
           "colorbar": {
            "outlinewidth": 0,
            "ticks": ""
           }
          },
          "colorscale": {
           "diverging": [
            [
             0,
             "#8e0152"
            ],
            [
             0.1,
             "#c51b7d"
            ],
            [
             0.2,
             "#de77ae"
            ],
            [
             0.3,
             "#f1b6da"
            ],
            [
             0.4,
             "#fde0ef"
            ],
            [
             0.5,
             "#f7f7f7"
            ],
            [
             0.6,
             "#e6f5d0"
            ],
            [
             0.7,
             "#b8e186"
            ],
            [
             0.8,
             "#7fbc41"
            ],
            [
             0.9,
             "#4d9221"
            ],
            [
             1,
             "#276419"
            ]
           ],
           "sequential": [
            [
             0,
             "#0d0887"
            ],
            [
             0.1111111111111111,
             "#46039f"
            ],
            [
             0.2222222222222222,
             "#7201a8"
            ],
            [
             0.3333333333333333,
             "#9c179e"
            ],
            [
             0.4444444444444444,
             "#bd3786"
            ],
            [
             0.5555555555555556,
             "#d8576b"
            ],
            [
             0.6666666666666666,
             "#ed7953"
            ],
            [
             0.7777777777777778,
             "#fb9f3a"
            ],
            [
             0.8888888888888888,
             "#fdca26"
            ],
            [
             1,
             "#f0f921"
            ]
           ],
           "sequentialminus": [
            [
             0,
             "#0d0887"
            ],
            [
             0.1111111111111111,
             "#46039f"
            ],
            [
             0.2222222222222222,
             "#7201a8"
            ],
            [
             0.3333333333333333,
             "#9c179e"
            ],
            [
             0.4444444444444444,
             "#bd3786"
            ],
            [
             0.5555555555555556,
             "#d8576b"
            ],
            [
             0.6666666666666666,
             "#ed7953"
            ],
            [
             0.7777777777777778,
             "#fb9f3a"
            ],
            [
             0.8888888888888888,
             "#fdca26"
            ],
            [
             1,
             "#f0f921"
            ]
           ]
          },
          "colorway": [
           "#636efa",
           "#EF553B",
           "#00cc96",
           "#ab63fa",
           "#FFA15A",
           "#19d3f3",
           "#FF6692",
           "#B6E880",
           "#FF97FF",
           "#FECB52"
          ],
          "font": {
           "color": "#f2f5fa"
          },
          "geo": {
           "bgcolor": "rgb(17,17,17)",
           "lakecolor": "rgb(17,17,17)",
           "landcolor": "rgb(17,17,17)",
           "showlakes": true,
           "showland": true,
           "subunitcolor": "#506784"
          },
          "hoverlabel": {
           "align": "left"
          },
          "hovermode": "closest",
          "mapbox": {
           "style": "dark"
          },
          "paper_bgcolor": "rgb(17,17,17)",
          "plot_bgcolor": "rgb(17,17,17)",
          "polar": {
           "angularaxis": {
            "gridcolor": "#506784",
            "linecolor": "#506784",
            "ticks": ""
           },
           "bgcolor": "rgb(17,17,17)",
           "radialaxis": {
            "gridcolor": "#506784",
            "linecolor": "#506784",
            "ticks": ""
           }
          },
          "scene": {
           "xaxis": {
            "backgroundcolor": "rgb(17,17,17)",
            "gridcolor": "#506784",
            "gridwidth": 2,
            "linecolor": "#506784",
            "showbackground": true,
            "ticks": "",
            "zerolinecolor": "#C8D4E3"
           },
           "yaxis": {
            "backgroundcolor": "rgb(17,17,17)",
            "gridcolor": "#506784",
            "gridwidth": 2,
            "linecolor": "#506784",
            "showbackground": true,
            "ticks": "",
            "zerolinecolor": "#C8D4E3"
           },
           "zaxis": {
            "backgroundcolor": "rgb(17,17,17)",
            "gridcolor": "#506784",
            "gridwidth": 2,
            "linecolor": "#506784",
            "showbackground": true,
            "ticks": "",
            "zerolinecolor": "#C8D4E3"
           }
          },
          "shapedefaults": {
           "line": {
            "color": "#f2f5fa"
           }
          },
          "sliderdefaults": {
           "bgcolor": "#C8D4E3",
           "bordercolor": "rgb(17,17,17)",
           "borderwidth": 1,
           "tickwidth": 0
          },
          "ternary": {
           "aaxis": {
            "gridcolor": "#506784",
            "linecolor": "#506784",
            "ticks": ""
           },
           "baxis": {
            "gridcolor": "#506784",
            "linecolor": "#506784",
            "ticks": ""
           },
           "bgcolor": "rgb(17,17,17)",
           "caxis": {
            "gridcolor": "#506784",
            "linecolor": "#506784",
            "ticks": ""
           }
          },
          "title": {
           "x": 0.05
          },
          "updatemenudefaults": {
           "bgcolor": "#506784",
           "borderwidth": 0
          },
          "xaxis": {
           "automargin": true,
           "gridcolor": "#283442",
           "linecolor": "#506784",
           "ticks": "",
           "title": {
            "standoff": 15
           },
           "zerolinecolor": "#283442",
           "zerolinewidth": 2
          },
          "yaxis": {
           "automargin": true,
           "gridcolor": "#283442",
           "linecolor": "#506784",
           "ticks": "",
           "title": {
            "standoff": 15
           },
           "zerolinecolor": "#283442",
           "zerolinewidth": 2
          }
         }
        },
        "title": {
         "text": "Total Revenue"
        },
        "xaxis": {
         "anchor": "y",
         "domain": [
          0,
          1
         ],
         "title": {
          "text": "Companies"
         }
        },
        "yaxis": {
         "anchor": "x",
         "domain": [
          0,
          1
         ],
         "title": {
          "text": "Total Revenue (R$)"
         }
        }
       }
      }
     },
     "metadata": {},
     "output_type": "display_data"
    }
   ],
   "source": [
    "df_top_companies.sort_values(by = 'total_revenue', ascending=True, inplace=True)\n",
    "\n",
    "fig = px.bar(df_top_companies, title='Total Revenue', x='long_name', y='total_revenue', color_discrete_sequence=['rgb(100, 195, 181)'], template='plotly_dark', hover_name='ticker', height=600)\n",
    "formatted_total_revenue = [f'R${x:.2f}B' for x in (df_top_companies['total_revenue'] / 1e9)]\n",
    "fig.update_traces(text=formatted_total_revenue, textposition='outside', textfont=dict(color='white'))\n",
    "fig.update_xaxes(title='Companies')\n",
    "fig.update_yaxes(title='Total Revenue (R$)')\n",
    "fig.show()"
   ]
  },
  {
   "cell_type": "markdown",
   "metadata": {},
   "source": [
    "- **`Itaúsa S.A.`**: A holding company with revenues of **BRL 57.81 billion**, reflecting its involvement in various sectors through its controlled companies.\n",
    "\n",
    "- **`Banco BTG Pactual S.A.`**: An investment bank with **BRL 27.75 billion** in revenue, demonstrating its strong position in the financial sector.\n",
    "\n",
    "- **`WEG S.A.`**: An electrical equipment company with **BRL 31.76 billion** in revenue, highlighting its significant role in industrial manufacturing.\n",
    "\n",
    "- **`Centrais Elétricas Brasileiras S.A. - Eletrobrás`**: The largest electric energy company in Latin America generated **BRL 35.51 billion** in revenues.\n",
    "\n",
    "- **`Telefônica Brasil S.A.`**: The telecommunications operator had a revenue of **BRL 50.31 billion**, emphasizing its importance in the communications sector.\n",
    "\n",
    "- **`Banco Bradesco S.A.`**: This private bank collected **BRL 72.89 billion**, reflecting its vast operation in financial services.\n",
    "\n",
    "- **`Ambev S.A.`**: The beverage giant recorded **BRL 82.71 billion** in revenue, evidencing its dominant position in the beer and beverage market.\n",
    "\n",
    "- **`Banco do Brasil S.A.`**: One of the largest banks in Latin America, with revenues of **BRL 95.33 billion**, illustrating its influence in the banking sector.\n",
    "\n",
    "- **`Itaú Unibanco Holding S.A.`**: With **BRL 118.94 billion** in revenue, the financial conglomerate shows its strength in the banking market.\n",
    "\n",
    "- **`Vale S.A.`**: The mining company had a revenue of **BRL 206.41 billion**, standing out in the global mining and metals industry.\n",
    "\n",
    "- **`Petróleo Brasileiro S.A. - Petrobras`**: The state-owned oil company leads the chart with an impressive revenue of **BRL 581.56 billion**, highlighting its position as one of the world's largest energy companies.\n",
    "\n",
    "Revenue is a key indicator of the size and economic activity of companies, with Petrobras standing out as the largest in terms of revenue, reflecting the scale and importance of the oil and gas industry in the energy sector to the Brazilian economy.\n"
   ]
  },
  {
   "cell_type": "code",
   "execution_count": 18,
   "metadata": {},
   "outputs": [
    {
     "data": {
      "application/vnd.plotly.v1+json": {
       "config": {
        "plotlyServerURL": "https://plot.ly"
       },
       "data": [
        {
         "alignmentgroup": "True",
         "hovertemplate": "<b>%{hovertext}</b><br><br>long_name=%{x}<br>profit_margins=%{y}<extra></extra>",
         "hovertext": [
          "ELET3.SA",
          "VIVT3.SA",
          "WEGE3.SA",
          "ABEV3.SA",
          "BBDC4.SA",
          "ITUB4.SA",
          "PETR3.SA",
          "VALE3.SA",
          "BPAC5.SA",
          "BBAS3.SA",
          "ITSA4.SA"
         ],
         "legendgroup": "",
         "marker": {
          "color": "rgb(100, 195, 181)",
          "pattern": {
           "shape": ""
          }
         },
         "name": "",
         "offsetgroup": "",
         "orientation": "v",
         "showlegend": false,
         "text": [
          "4.80%",
          "8.99%",
          "15.83%",
          "17.26%",
          "20.72%",
          "26.66%",
          "26.89%",
          "27.58%",
          "30.29%",
          "34.83%",
          "169.98%"
         ],
         "textfont": {
          "color": "white"
         },
         "textposition": "outside",
         "type": "bar",
         "x": [
          "Centrais Elétricas Brasileiras S.A. - Eletrobrás",
          "Telefônica Brasil S.A.",
          "WEG S.A.",
          "Ambev S.A.",
          "Banco Bradesco S.A.",
          "Itaú Unibanco Holding S.A.",
          "Petróleo Brasileiro S.A. - Petrobras",
          "Vale S.A.",
          "Banco BTG Pactual S.A.",
          "Banco do Brasil S.A.",
          "Itaúsa S.A."
         ],
         "xaxis": "x",
         "y": [
          0.04797,
          0.08991,
          0.15827,
          0.17263001,
          0.20718001,
          0.26661,
          0.26889,
          0.27585,
          0.30291998,
          0.3483,
          1.69976
         ],
         "yaxis": "y"
        }
       ],
       "layout": {
        "barmode": "relative",
        "height": 600,
        "legend": {
         "tracegroupgap": 0
        },
        "template": {
         "data": {
          "bar": [
           {
            "error_x": {
             "color": "#f2f5fa"
            },
            "error_y": {
             "color": "#f2f5fa"
            },
            "marker": {
             "line": {
              "color": "rgb(17,17,17)",
              "width": 0.5
             },
             "pattern": {
              "fillmode": "overlay",
              "size": 10,
              "solidity": 0.2
             }
            },
            "type": "bar"
           }
          ],
          "barpolar": [
           {
            "marker": {
             "line": {
              "color": "rgb(17,17,17)",
              "width": 0.5
             },
             "pattern": {
              "fillmode": "overlay",
              "size": 10,
              "solidity": 0.2
             }
            },
            "type": "barpolar"
           }
          ],
          "carpet": [
           {
            "aaxis": {
             "endlinecolor": "#A2B1C6",
             "gridcolor": "#506784",
             "linecolor": "#506784",
             "minorgridcolor": "#506784",
             "startlinecolor": "#A2B1C6"
            },
            "baxis": {
             "endlinecolor": "#A2B1C6",
             "gridcolor": "#506784",
             "linecolor": "#506784",
             "minorgridcolor": "#506784",
             "startlinecolor": "#A2B1C6"
            },
            "type": "carpet"
           }
          ],
          "choropleth": [
           {
            "colorbar": {
             "outlinewidth": 0,
             "ticks": ""
            },
            "type": "choropleth"
           }
          ],
          "contour": [
           {
            "colorbar": {
             "outlinewidth": 0,
             "ticks": ""
            },
            "colorscale": [
             [
              0,
              "#0d0887"
             ],
             [
              0.1111111111111111,
              "#46039f"
             ],
             [
              0.2222222222222222,
              "#7201a8"
             ],
             [
              0.3333333333333333,
              "#9c179e"
             ],
             [
              0.4444444444444444,
              "#bd3786"
             ],
             [
              0.5555555555555556,
              "#d8576b"
             ],
             [
              0.6666666666666666,
              "#ed7953"
             ],
             [
              0.7777777777777778,
              "#fb9f3a"
             ],
             [
              0.8888888888888888,
              "#fdca26"
             ],
             [
              1,
              "#f0f921"
             ]
            ],
            "type": "contour"
           }
          ],
          "contourcarpet": [
           {
            "colorbar": {
             "outlinewidth": 0,
             "ticks": ""
            },
            "type": "contourcarpet"
           }
          ],
          "heatmap": [
           {
            "colorbar": {
             "outlinewidth": 0,
             "ticks": ""
            },
            "colorscale": [
             [
              0,
              "#0d0887"
             ],
             [
              0.1111111111111111,
              "#46039f"
             ],
             [
              0.2222222222222222,
              "#7201a8"
             ],
             [
              0.3333333333333333,
              "#9c179e"
             ],
             [
              0.4444444444444444,
              "#bd3786"
             ],
             [
              0.5555555555555556,
              "#d8576b"
             ],
             [
              0.6666666666666666,
              "#ed7953"
             ],
             [
              0.7777777777777778,
              "#fb9f3a"
             ],
             [
              0.8888888888888888,
              "#fdca26"
             ],
             [
              1,
              "#f0f921"
             ]
            ],
            "type": "heatmap"
           }
          ],
          "heatmapgl": [
           {
            "colorbar": {
             "outlinewidth": 0,
             "ticks": ""
            },
            "colorscale": [
             [
              0,
              "#0d0887"
             ],
             [
              0.1111111111111111,
              "#46039f"
             ],
             [
              0.2222222222222222,
              "#7201a8"
             ],
             [
              0.3333333333333333,
              "#9c179e"
             ],
             [
              0.4444444444444444,
              "#bd3786"
             ],
             [
              0.5555555555555556,
              "#d8576b"
             ],
             [
              0.6666666666666666,
              "#ed7953"
             ],
             [
              0.7777777777777778,
              "#fb9f3a"
             ],
             [
              0.8888888888888888,
              "#fdca26"
             ],
             [
              1,
              "#f0f921"
             ]
            ],
            "type": "heatmapgl"
           }
          ],
          "histogram": [
           {
            "marker": {
             "pattern": {
              "fillmode": "overlay",
              "size": 10,
              "solidity": 0.2
             }
            },
            "type": "histogram"
           }
          ],
          "histogram2d": [
           {
            "colorbar": {
             "outlinewidth": 0,
             "ticks": ""
            },
            "colorscale": [
             [
              0,
              "#0d0887"
             ],
             [
              0.1111111111111111,
              "#46039f"
             ],
             [
              0.2222222222222222,
              "#7201a8"
             ],
             [
              0.3333333333333333,
              "#9c179e"
             ],
             [
              0.4444444444444444,
              "#bd3786"
             ],
             [
              0.5555555555555556,
              "#d8576b"
             ],
             [
              0.6666666666666666,
              "#ed7953"
             ],
             [
              0.7777777777777778,
              "#fb9f3a"
             ],
             [
              0.8888888888888888,
              "#fdca26"
             ],
             [
              1,
              "#f0f921"
             ]
            ],
            "type": "histogram2d"
           }
          ],
          "histogram2dcontour": [
           {
            "colorbar": {
             "outlinewidth": 0,
             "ticks": ""
            },
            "colorscale": [
             [
              0,
              "#0d0887"
             ],
             [
              0.1111111111111111,
              "#46039f"
             ],
             [
              0.2222222222222222,
              "#7201a8"
             ],
             [
              0.3333333333333333,
              "#9c179e"
             ],
             [
              0.4444444444444444,
              "#bd3786"
             ],
             [
              0.5555555555555556,
              "#d8576b"
             ],
             [
              0.6666666666666666,
              "#ed7953"
             ],
             [
              0.7777777777777778,
              "#fb9f3a"
             ],
             [
              0.8888888888888888,
              "#fdca26"
             ],
             [
              1,
              "#f0f921"
             ]
            ],
            "type": "histogram2dcontour"
           }
          ],
          "mesh3d": [
           {
            "colorbar": {
             "outlinewidth": 0,
             "ticks": ""
            },
            "type": "mesh3d"
           }
          ],
          "parcoords": [
           {
            "line": {
             "colorbar": {
              "outlinewidth": 0,
              "ticks": ""
             }
            },
            "type": "parcoords"
           }
          ],
          "pie": [
           {
            "automargin": true,
            "type": "pie"
           }
          ],
          "scatter": [
           {
            "marker": {
             "line": {
              "color": "#283442"
             }
            },
            "type": "scatter"
           }
          ],
          "scatter3d": [
           {
            "line": {
             "colorbar": {
              "outlinewidth": 0,
              "ticks": ""
             }
            },
            "marker": {
             "colorbar": {
              "outlinewidth": 0,
              "ticks": ""
             }
            },
            "type": "scatter3d"
           }
          ],
          "scattercarpet": [
           {
            "marker": {
             "colorbar": {
              "outlinewidth": 0,
              "ticks": ""
             }
            },
            "type": "scattercarpet"
           }
          ],
          "scattergeo": [
           {
            "marker": {
             "colorbar": {
              "outlinewidth": 0,
              "ticks": ""
             }
            },
            "type": "scattergeo"
           }
          ],
          "scattergl": [
           {
            "marker": {
             "line": {
              "color": "#283442"
             }
            },
            "type": "scattergl"
           }
          ],
          "scattermapbox": [
           {
            "marker": {
             "colorbar": {
              "outlinewidth": 0,
              "ticks": ""
             }
            },
            "type": "scattermapbox"
           }
          ],
          "scatterpolar": [
           {
            "marker": {
             "colorbar": {
              "outlinewidth": 0,
              "ticks": ""
             }
            },
            "type": "scatterpolar"
           }
          ],
          "scatterpolargl": [
           {
            "marker": {
             "colorbar": {
              "outlinewidth": 0,
              "ticks": ""
             }
            },
            "type": "scatterpolargl"
           }
          ],
          "scatterternary": [
           {
            "marker": {
             "colorbar": {
              "outlinewidth": 0,
              "ticks": ""
             }
            },
            "type": "scatterternary"
           }
          ],
          "surface": [
           {
            "colorbar": {
             "outlinewidth": 0,
             "ticks": ""
            },
            "colorscale": [
             [
              0,
              "#0d0887"
             ],
             [
              0.1111111111111111,
              "#46039f"
             ],
             [
              0.2222222222222222,
              "#7201a8"
             ],
             [
              0.3333333333333333,
              "#9c179e"
             ],
             [
              0.4444444444444444,
              "#bd3786"
             ],
             [
              0.5555555555555556,
              "#d8576b"
             ],
             [
              0.6666666666666666,
              "#ed7953"
             ],
             [
              0.7777777777777778,
              "#fb9f3a"
             ],
             [
              0.8888888888888888,
              "#fdca26"
             ],
             [
              1,
              "#f0f921"
             ]
            ],
            "type": "surface"
           }
          ],
          "table": [
           {
            "cells": {
             "fill": {
              "color": "#506784"
             },
             "line": {
              "color": "rgb(17,17,17)"
             }
            },
            "header": {
             "fill": {
              "color": "#2a3f5f"
             },
             "line": {
              "color": "rgb(17,17,17)"
             }
            },
            "type": "table"
           }
          ]
         },
         "layout": {
          "annotationdefaults": {
           "arrowcolor": "#f2f5fa",
           "arrowhead": 0,
           "arrowwidth": 1
          },
          "autotypenumbers": "strict",
          "coloraxis": {
           "colorbar": {
            "outlinewidth": 0,
            "ticks": ""
           }
          },
          "colorscale": {
           "diverging": [
            [
             0,
             "#8e0152"
            ],
            [
             0.1,
             "#c51b7d"
            ],
            [
             0.2,
             "#de77ae"
            ],
            [
             0.3,
             "#f1b6da"
            ],
            [
             0.4,
             "#fde0ef"
            ],
            [
             0.5,
             "#f7f7f7"
            ],
            [
             0.6,
             "#e6f5d0"
            ],
            [
             0.7,
             "#b8e186"
            ],
            [
             0.8,
             "#7fbc41"
            ],
            [
             0.9,
             "#4d9221"
            ],
            [
             1,
             "#276419"
            ]
           ],
           "sequential": [
            [
             0,
             "#0d0887"
            ],
            [
             0.1111111111111111,
             "#46039f"
            ],
            [
             0.2222222222222222,
             "#7201a8"
            ],
            [
             0.3333333333333333,
             "#9c179e"
            ],
            [
             0.4444444444444444,
             "#bd3786"
            ],
            [
             0.5555555555555556,
             "#d8576b"
            ],
            [
             0.6666666666666666,
             "#ed7953"
            ],
            [
             0.7777777777777778,
             "#fb9f3a"
            ],
            [
             0.8888888888888888,
             "#fdca26"
            ],
            [
             1,
             "#f0f921"
            ]
           ],
           "sequentialminus": [
            [
             0,
             "#0d0887"
            ],
            [
             0.1111111111111111,
             "#46039f"
            ],
            [
             0.2222222222222222,
             "#7201a8"
            ],
            [
             0.3333333333333333,
             "#9c179e"
            ],
            [
             0.4444444444444444,
             "#bd3786"
            ],
            [
             0.5555555555555556,
             "#d8576b"
            ],
            [
             0.6666666666666666,
             "#ed7953"
            ],
            [
             0.7777777777777778,
             "#fb9f3a"
            ],
            [
             0.8888888888888888,
             "#fdca26"
            ],
            [
             1,
             "#f0f921"
            ]
           ]
          },
          "colorway": [
           "#636efa",
           "#EF553B",
           "#00cc96",
           "#ab63fa",
           "#FFA15A",
           "#19d3f3",
           "#FF6692",
           "#B6E880",
           "#FF97FF",
           "#FECB52"
          ],
          "font": {
           "color": "#f2f5fa"
          },
          "geo": {
           "bgcolor": "rgb(17,17,17)",
           "lakecolor": "rgb(17,17,17)",
           "landcolor": "rgb(17,17,17)",
           "showlakes": true,
           "showland": true,
           "subunitcolor": "#506784"
          },
          "hoverlabel": {
           "align": "left"
          },
          "hovermode": "closest",
          "mapbox": {
           "style": "dark"
          },
          "paper_bgcolor": "rgb(17,17,17)",
          "plot_bgcolor": "rgb(17,17,17)",
          "polar": {
           "angularaxis": {
            "gridcolor": "#506784",
            "linecolor": "#506784",
            "ticks": ""
           },
           "bgcolor": "rgb(17,17,17)",
           "radialaxis": {
            "gridcolor": "#506784",
            "linecolor": "#506784",
            "ticks": ""
           }
          },
          "scene": {
           "xaxis": {
            "backgroundcolor": "rgb(17,17,17)",
            "gridcolor": "#506784",
            "gridwidth": 2,
            "linecolor": "#506784",
            "showbackground": true,
            "ticks": "",
            "zerolinecolor": "#C8D4E3"
           },
           "yaxis": {
            "backgroundcolor": "rgb(17,17,17)",
            "gridcolor": "#506784",
            "gridwidth": 2,
            "linecolor": "#506784",
            "showbackground": true,
            "ticks": "",
            "zerolinecolor": "#C8D4E3"
           },
           "zaxis": {
            "backgroundcolor": "rgb(17,17,17)",
            "gridcolor": "#506784",
            "gridwidth": 2,
            "linecolor": "#506784",
            "showbackground": true,
            "ticks": "",
            "zerolinecolor": "#C8D4E3"
           }
          },
          "shapedefaults": {
           "line": {
            "color": "#f2f5fa"
           }
          },
          "sliderdefaults": {
           "bgcolor": "#C8D4E3",
           "bordercolor": "rgb(17,17,17)",
           "borderwidth": 1,
           "tickwidth": 0
          },
          "ternary": {
           "aaxis": {
            "gridcolor": "#506784",
            "linecolor": "#506784",
            "ticks": ""
           },
           "baxis": {
            "gridcolor": "#506784",
            "linecolor": "#506784",
            "ticks": ""
           },
           "bgcolor": "rgb(17,17,17)",
           "caxis": {
            "gridcolor": "#506784",
            "linecolor": "#506784",
            "ticks": ""
           }
          },
          "title": {
           "x": 0.05
          },
          "updatemenudefaults": {
           "bgcolor": "#506784",
           "borderwidth": 0
          },
          "xaxis": {
           "automargin": true,
           "gridcolor": "#283442",
           "linecolor": "#506784",
           "ticks": "",
           "title": {
            "standoff": 15
           },
           "zerolinecolor": "#283442",
           "zerolinewidth": 2
          },
          "yaxis": {
           "automargin": true,
           "gridcolor": "#283442",
           "linecolor": "#506784",
           "ticks": "",
           "title": {
            "standoff": 15
           },
           "zerolinecolor": "#283442",
           "zerolinewidth": 2
          }
         }
        },
        "title": {
         "text": "Profit Margin"
        },
        "xaxis": {
         "anchor": "y",
         "domain": [
          0,
          1
         ],
         "title": {
          "text": "Sector"
         }
        },
        "yaxis": {
         "anchor": "x",
         "domain": [
          0,
          1
         ],
         "title": {
          "text": "Profit Margins (%)"
         }
        }
       }
      }
     },
     "metadata": {},
     "output_type": "display_data"
    }
   ],
   "source": [
    "df_top_companies.sort_values(by = 'profit_margins', ascending=True, inplace=True)\n",
    "\n",
    "fig_op_margin = px.bar(df_top_companies, title='Profit Margin', x='long_name', y='profit_margins', color_discrete_sequence=['rgb(100, 195, 181)'], hover_name=df_top_companies.ticker, height=600)\n",
    "fig_op_margin.update_traces(text=[f'{x:.2f}%' for x in (df_top_companies['profit_margins']*100)], textposition='outside',textfont=dict(color='white'))\n",
    "fig_op_margin.update_layout(title='Profit Margin', xaxis_title='Sector', yaxis_title='Profit Margins (%)', template = 'plotly_dark')\n",
    "fig_op_margin.show()"
   ]
  },
  {
   "cell_type": "markdown",
   "metadata": {},
   "source": [
    "- **`Centrais Elétricas Brasileiras S.A. - Eletrobrás`**: The energy sector company has a profit margin of **4.80%**, the lowest among the listed, which could indicate high operational costs or significant investments in the period.\n",
    "\n",
    "- **`Telefônica Brasil S.A.`**: With a margin of **8.99%**, the telecommunications operator shows moderate profitability, reflecting the competitive environment and the large investments necessary in telecommunications infrastructure.\n",
    "\n",
    "- **`WEG S.A.`**: The electrical equipment manufacturer has a margin of **15.83%**, suggesting efficient cost management relative to its revenue in the industrial market.\n",
    "\n",
    "- **`Ambev S.A.`**: The beverage giant presents a margin of **17.26%**, indicating profitable operation in the consumer goods sector, where scale and distribution efficiency are critical.\n",
    "\n",
    "- **`Banco Bradesco S.A.`**: With a margin of **20.72%**, the bank demonstrates strong profitability, common in the financial sector, where margins tend to be higher due to lower physical operational costs.\n",
    "\n",
    "- **`Itaú Unibanco Holding S.A.`**: Presents a margin of **26.66%**, standing out as one of the most profitable in the banking sector, which can be attributed to its operational efficiency and diversification of services.\n",
    "\n",
    "- **`Petróleo Brasileiro S.A. - Petrobras`**: With a margin of **26.89%**, the oil and gas company reflects a highly profitable operation, benefiting from production scales and commodity prices.\n",
    "\n",
    "- **`Vale S.A.`**: The mining company's margin of **27.58%** points to good profitability, driven by global iron ore demand and operational efficiency.\n",
    "\n",
    "- **`Banco do Brasil S.A.`**: Has a profit margin of **30.29%**, showing a profitable operation benefiting from the diversification of its financial services.\n",
    "\n",
    "- **`Banco BTG Pactual S.A.`**: With an impressive margin of **34.83%**, it proves to be highly efficient in its banking operation and investment services.\n",
    "\n",
    "- **`Itaúsa S.A.`**: The abnormally high margin of **169.98%** stands out significantly and may indicate non-recurring events or asset sales that temporarily inflated profits.\n",
    "\n",
    "In conclusion, the analysis of these companies' profit margins reveals a variety of operational performances that reflect the unique characteristics of each sector.\n",
    "Financial sector companies, like Banco BTG Pactual and Banco do Brasil, generally exhibit higher margins due to the nature of the sector which requires less physical infrastructure and can scale operations with less cost. Conversely, companies like Eletrobrás and Telefônica Brasil have lower margins, possibly due to the large investments needed in assets and infrastructure.\n",
    "Itaúsa, with an unusually high margin, likely reflects extraordinary events that are not typical of regular operational performance.\n",
    "These figures highlight the importance of considering sector-specificities when assessing the financial health and profitability of companies.\n"
   ]
  },
  {
   "cell_type": "code",
   "execution_count": 19,
   "metadata": {},
   "outputs": [
    {
     "data": {
      "application/vnd.plotly.v1+json": {
       "config": {
        "plotlyServerURL": "https://plot.ly"
       },
       "data": [
        {
         "alignmentgroup": "True",
         "hovertemplate": "<b>%{hovertext}</b><br><br>long_name=%{x}<br>operating_margins=%{y}<extra></extra>",
         "hovertext": [
          "VIVT3.SA",
          "ABEV3.SA",
          "ITSA4.SA",
          "WEGE3.SA",
          "BBDC4.SA",
          "VALE3.SA",
          "BPAC5.SA",
          "ITUB4.SA",
          "PETR3.SA",
          "ELET3.SA",
          "BBAS3.SA"
         ],
         "legendgroup": "",
         "marker": {
          "color": "rgb(100, 195, 181)",
          "pattern": {
           "shape": ""
          }
         },
         "name": "",
         "offsetgroup": "",
         "orientation": "v",
         "showlegend": false,
         "text": [
          "16.55%",
          "18.67%",
          "20.11%",
          "20.57%",
          "22.32%",
          "33.67%",
          "34.96%",
          "35.90%",
          "39.07%",
          "42.60%",
          "45.91%"
         ],
         "textfont": {
          "color": "white"
         },
         "textposition": "outside",
         "type": "bar",
         "x": [
          "Telefônica Brasil S.A.",
          "Ambev S.A.",
          "Itaúsa S.A.",
          "WEG S.A.",
          "Banco Bradesco S.A.",
          "Vale S.A.",
          "Banco BTG Pactual S.A.",
          "Itaú Unibanco Holding S.A.",
          "Petróleo Brasileiro S.A. - Petrobras",
          "Centrais Elétricas Brasileiras S.A. - Eletrobrás",
          "Banco do Brasil S.A."
         ],
         "xaxis": "x",
         "y": [
          0.16545,
          0.18666,
          0.20113,
          0.20575,
          0.22323999,
          0.33672002,
          0.3496,
          0.35896,
          0.39067,
          0.42603,
          0.45908
         ],
         "yaxis": "y"
        }
       ],
       "layout": {
        "barmode": "relative",
        "height": 600,
        "legend": {
         "tracegroupgap": 0
        },
        "template": {
         "data": {
          "bar": [
           {
            "error_x": {
             "color": "#f2f5fa"
            },
            "error_y": {
             "color": "#f2f5fa"
            },
            "marker": {
             "line": {
              "color": "rgb(17,17,17)",
              "width": 0.5
             },
             "pattern": {
              "fillmode": "overlay",
              "size": 10,
              "solidity": 0.2
             }
            },
            "type": "bar"
           }
          ],
          "barpolar": [
           {
            "marker": {
             "line": {
              "color": "rgb(17,17,17)",
              "width": 0.5
             },
             "pattern": {
              "fillmode": "overlay",
              "size": 10,
              "solidity": 0.2
             }
            },
            "type": "barpolar"
           }
          ],
          "carpet": [
           {
            "aaxis": {
             "endlinecolor": "#A2B1C6",
             "gridcolor": "#506784",
             "linecolor": "#506784",
             "minorgridcolor": "#506784",
             "startlinecolor": "#A2B1C6"
            },
            "baxis": {
             "endlinecolor": "#A2B1C6",
             "gridcolor": "#506784",
             "linecolor": "#506784",
             "minorgridcolor": "#506784",
             "startlinecolor": "#A2B1C6"
            },
            "type": "carpet"
           }
          ],
          "choropleth": [
           {
            "colorbar": {
             "outlinewidth": 0,
             "ticks": ""
            },
            "type": "choropleth"
           }
          ],
          "contour": [
           {
            "colorbar": {
             "outlinewidth": 0,
             "ticks": ""
            },
            "colorscale": [
             [
              0,
              "#0d0887"
             ],
             [
              0.1111111111111111,
              "#46039f"
             ],
             [
              0.2222222222222222,
              "#7201a8"
             ],
             [
              0.3333333333333333,
              "#9c179e"
             ],
             [
              0.4444444444444444,
              "#bd3786"
             ],
             [
              0.5555555555555556,
              "#d8576b"
             ],
             [
              0.6666666666666666,
              "#ed7953"
             ],
             [
              0.7777777777777778,
              "#fb9f3a"
             ],
             [
              0.8888888888888888,
              "#fdca26"
             ],
             [
              1,
              "#f0f921"
             ]
            ],
            "type": "contour"
           }
          ],
          "contourcarpet": [
           {
            "colorbar": {
             "outlinewidth": 0,
             "ticks": ""
            },
            "type": "contourcarpet"
           }
          ],
          "heatmap": [
           {
            "colorbar": {
             "outlinewidth": 0,
             "ticks": ""
            },
            "colorscale": [
             [
              0,
              "#0d0887"
             ],
             [
              0.1111111111111111,
              "#46039f"
             ],
             [
              0.2222222222222222,
              "#7201a8"
             ],
             [
              0.3333333333333333,
              "#9c179e"
             ],
             [
              0.4444444444444444,
              "#bd3786"
             ],
             [
              0.5555555555555556,
              "#d8576b"
             ],
             [
              0.6666666666666666,
              "#ed7953"
             ],
             [
              0.7777777777777778,
              "#fb9f3a"
             ],
             [
              0.8888888888888888,
              "#fdca26"
             ],
             [
              1,
              "#f0f921"
             ]
            ],
            "type": "heatmap"
           }
          ],
          "heatmapgl": [
           {
            "colorbar": {
             "outlinewidth": 0,
             "ticks": ""
            },
            "colorscale": [
             [
              0,
              "#0d0887"
             ],
             [
              0.1111111111111111,
              "#46039f"
             ],
             [
              0.2222222222222222,
              "#7201a8"
             ],
             [
              0.3333333333333333,
              "#9c179e"
             ],
             [
              0.4444444444444444,
              "#bd3786"
             ],
             [
              0.5555555555555556,
              "#d8576b"
             ],
             [
              0.6666666666666666,
              "#ed7953"
             ],
             [
              0.7777777777777778,
              "#fb9f3a"
             ],
             [
              0.8888888888888888,
              "#fdca26"
             ],
             [
              1,
              "#f0f921"
             ]
            ],
            "type": "heatmapgl"
           }
          ],
          "histogram": [
           {
            "marker": {
             "pattern": {
              "fillmode": "overlay",
              "size": 10,
              "solidity": 0.2
             }
            },
            "type": "histogram"
           }
          ],
          "histogram2d": [
           {
            "colorbar": {
             "outlinewidth": 0,
             "ticks": ""
            },
            "colorscale": [
             [
              0,
              "#0d0887"
             ],
             [
              0.1111111111111111,
              "#46039f"
             ],
             [
              0.2222222222222222,
              "#7201a8"
             ],
             [
              0.3333333333333333,
              "#9c179e"
             ],
             [
              0.4444444444444444,
              "#bd3786"
             ],
             [
              0.5555555555555556,
              "#d8576b"
             ],
             [
              0.6666666666666666,
              "#ed7953"
             ],
             [
              0.7777777777777778,
              "#fb9f3a"
             ],
             [
              0.8888888888888888,
              "#fdca26"
             ],
             [
              1,
              "#f0f921"
             ]
            ],
            "type": "histogram2d"
           }
          ],
          "histogram2dcontour": [
           {
            "colorbar": {
             "outlinewidth": 0,
             "ticks": ""
            },
            "colorscale": [
             [
              0,
              "#0d0887"
             ],
             [
              0.1111111111111111,
              "#46039f"
             ],
             [
              0.2222222222222222,
              "#7201a8"
             ],
             [
              0.3333333333333333,
              "#9c179e"
             ],
             [
              0.4444444444444444,
              "#bd3786"
             ],
             [
              0.5555555555555556,
              "#d8576b"
             ],
             [
              0.6666666666666666,
              "#ed7953"
             ],
             [
              0.7777777777777778,
              "#fb9f3a"
             ],
             [
              0.8888888888888888,
              "#fdca26"
             ],
             [
              1,
              "#f0f921"
             ]
            ],
            "type": "histogram2dcontour"
           }
          ],
          "mesh3d": [
           {
            "colorbar": {
             "outlinewidth": 0,
             "ticks": ""
            },
            "type": "mesh3d"
           }
          ],
          "parcoords": [
           {
            "line": {
             "colorbar": {
              "outlinewidth": 0,
              "ticks": ""
             }
            },
            "type": "parcoords"
           }
          ],
          "pie": [
           {
            "automargin": true,
            "type": "pie"
           }
          ],
          "scatter": [
           {
            "marker": {
             "line": {
              "color": "#283442"
             }
            },
            "type": "scatter"
           }
          ],
          "scatter3d": [
           {
            "line": {
             "colorbar": {
              "outlinewidth": 0,
              "ticks": ""
             }
            },
            "marker": {
             "colorbar": {
              "outlinewidth": 0,
              "ticks": ""
             }
            },
            "type": "scatter3d"
           }
          ],
          "scattercarpet": [
           {
            "marker": {
             "colorbar": {
              "outlinewidth": 0,
              "ticks": ""
             }
            },
            "type": "scattercarpet"
           }
          ],
          "scattergeo": [
           {
            "marker": {
             "colorbar": {
              "outlinewidth": 0,
              "ticks": ""
             }
            },
            "type": "scattergeo"
           }
          ],
          "scattergl": [
           {
            "marker": {
             "line": {
              "color": "#283442"
             }
            },
            "type": "scattergl"
           }
          ],
          "scattermapbox": [
           {
            "marker": {
             "colorbar": {
              "outlinewidth": 0,
              "ticks": ""
             }
            },
            "type": "scattermapbox"
           }
          ],
          "scatterpolar": [
           {
            "marker": {
             "colorbar": {
              "outlinewidth": 0,
              "ticks": ""
             }
            },
            "type": "scatterpolar"
           }
          ],
          "scatterpolargl": [
           {
            "marker": {
             "colorbar": {
              "outlinewidth": 0,
              "ticks": ""
             }
            },
            "type": "scatterpolargl"
           }
          ],
          "scatterternary": [
           {
            "marker": {
             "colorbar": {
              "outlinewidth": 0,
              "ticks": ""
             }
            },
            "type": "scatterternary"
           }
          ],
          "surface": [
           {
            "colorbar": {
             "outlinewidth": 0,
             "ticks": ""
            },
            "colorscale": [
             [
              0,
              "#0d0887"
             ],
             [
              0.1111111111111111,
              "#46039f"
             ],
             [
              0.2222222222222222,
              "#7201a8"
             ],
             [
              0.3333333333333333,
              "#9c179e"
             ],
             [
              0.4444444444444444,
              "#bd3786"
             ],
             [
              0.5555555555555556,
              "#d8576b"
             ],
             [
              0.6666666666666666,
              "#ed7953"
             ],
             [
              0.7777777777777778,
              "#fb9f3a"
             ],
             [
              0.8888888888888888,
              "#fdca26"
             ],
             [
              1,
              "#f0f921"
             ]
            ],
            "type": "surface"
           }
          ],
          "table": [
           {
            "cells": {
             "fill": {
              "color": "#506784"
             },
             "line": {
              "color": "rgb(17,17,17)"
             }
            },
            "header": {
             "fill": {
              "color": "#2a3f5f"
             },
             "line": {
              "color": "rgb(17,17,17)"
             }
            },
            "type": "table"
           }
          ]
         },
         "layout": {
          "annotationdefaults": {
           "arrowcolor": "#f2f5fa",
           "arrowhead": 0,
           "arrowwidth": 1
          },
          "autotypenumbers": "strict",
          "coloraxis": {
           "colorbar": {
            "outlinewidth": 0,
            "ticks": ""
           }
          },
          "colorscale": {
           "diverging": [
            [
             0,
             "#8e0152"
            ],
            [
             0.1,
             "#c51b7d"
            ],
            [
             0.2,
             "#de77ae"
            ],
            [
             0.3,
             "#f1b6da"
            ],
            [
             0.4,
             "#fde0ef"
            ],
            [
             0.5,
             "#f7f7f7"
            ],
            [
             0.6,
             "#e6f5d0"
            ],
            [
             0.7,
             "#b8e186"
            ],
            [
             0.8,
             "#7fbc41"
            ],
            [
             0.9,
             "#4d9221"
            ],
            [
             1,
             "#276419"
            ]
           ],
           "sequential": [
            [
             0,
             "#0d0887"
            ],
            [
             0.1111111111111111,
             "#46039f"
            ],
            [
             0.2222222222222222,
             "#7201a8"
            ],
            [
             0.3333333333333333,
             "#9c179e"
            ],
            [
             0.4444444444444444,
             "#bd3786"
            ],
            [
             0.5555555555555556,
             "#d8576b"
            ],
            [
             0.6666666666666666,
             "#ed7953"
            ],
            [
             0.7777777777777778,
             "#fb9f3a"
            ],
            [
             0.8888888888888888,
             "#fdca26"
            ],
            [
             1,
             "#f0f921"
            ]
           ],
           "sequentialminus": [
            [
             0,
             "#0d0887"
            ],
            [
             0.1111111111111111,
             "#46039f"
            ],
            [
             0.2222222222222222,
             "#7201a8"
            ],
            [
             0.3333333333333333,
             "#9c179e"
            ],
            [
             0.4444444444444444,
             "#bd3786"
            ],
            [
             0.5555555555555556,
             "#d8576b"
            ],
            [
             0.6666666666666666,
             "#ed7953"
            ],
            [
             0.7777777777777778,
             "#fb9f3a"
            ],
            [
             0.8888888888888888,
             "#fdca26"
            ],
            [
             1,
             "#f0f921"
            ]
           ]
          },
          "colorway": [
           "#636efa",
           "#EF553B",
           "#00cc96",
           "#ab63fa",
           "#FFA15A",
           "#19d3f3",
           "#FF6692",
           "#B6E880",
           "#FF97FF",
           "#FECB52"
          ],
          "font": {
           "color": "#f2f5fa"
          },
          "geo": {
           "bgcolor": "rgb(17,17,17)",
           "lakecolor": "rgb(17,17,17)",
           "landcolor": "rgb(17,17,17)",
           "showlakes": true,
           "showland": true,
           "subunitcolor": "#506784"
          },
          "hoverlabel": {
           "align": "left"
          },
          "hovermode": "closest",
          "mapbox": {
           "style": "dark"
          },
          "paper_bgcolor": "rgb(17,17,17)",
          "plot_bgcolor": "rgb(17,17,17)",
          "polar": {
           "angularaxis": {
            "gridcolor": "#506784",
            "linecolor": "#506784",
            "ticks": ""
           },
           "bgcolor": "rgb(17,17,17)",
           "radialaxis": {
            "gridcolor": "#506784",
            "linecolor": "#506784",
            "ticks": ""
           }
          },
          "scene": {
           "xaxis": {
            "backgroundcolor": "rgb(17,17,17)",
            "gridcolor": "#506784",
            "gridwidth": 2,
            "linecolor": "#506784",
            "showbackground": true,
            "ticks": "",
            "zerolinecolor": "#C8D4E3"
           },
           "yaxis": {
            "backgroundcolor": "rgb(17,17,17)",
            "gridcolor": "#506784",
            "gridwidth": 2,
            "linecolor": "#506784",
            "showbackground": true,
            "ticks": "",
            "zerolinecolor": "#C8D4E3"
           },
           "zaxis": {
            "backgroundcolor": "rgb(17,17,17)",
            "gridcolor": "#506784",
            "gridwidth": 2,
            "linecolor": "#506784",
            "showbackground": true,
            "ticks": "",
            "zerolinecolor": "#C8D4E3"
           }
          },
          "shapedefaults": {
           "line": {
            "color": "#f2f5fa"
           }
          },
          "sliderdefaults": {
           "bgcolor": "#C8D4E3",
           "bordercolor": "rgb(17,17,17)",
           "borderwidth": 1,
           "tickwidth": 0
          },
          "ternary": {
           "aaxis": {
            "gridcolor": "#506784",
            "linecolor": "#506784",
            "ticks": ""
           },
           "baxis": {
            "gridcolor": "#506784",
            "linecolor": "#506784",
            "ticks": ""
           },
           "bgcolor": "rgb(17,17,17)",
           "caxis": {
            "gridcolor": "#506784",
            "linecolor": "#506784",
            "ticks": ""
           }
          },
          "title": {
           "x": 0.05
          },
          "updatemenudefaults": {
           "bgcolor": "#506784",
           "borderwidth": 0
          },
          "xaxis": {
           "automargin": true,
           "gridcolor": "#283442",
           "linecolor": "#506784",
           "ticks": "",
           "title": {
            "standoff": 15
           },
           "zerolinecolor": "#283442",
           "zerolinewidth": 2
          },
          "yaxis": {
           "automargin": true,
           "gridcolor": "#283442",
           "linecolor": "#506784",
           "ticks": "",
           "title": {
            "standoff": 15
           },
           "zerolinecolor": "#283442",
           "zerolinewidth": 2
          }
         }
        },
        "title": {
         "text": "Operating Margin"
        },
        "xaxis": {
         "anchor": "y",
         "domain": [
          0,
          1
         ],
         "title": {
          "text": "Sector"
         }
        },
        "yaxis": {
         "anchor": "x",
         "domain": [
          0,
          1
         ],
         "title": {
          "text": "Profit Margins (%)"
         }
        }
       }
      }
     },
     "metadata": {},
     "output_type": "display_data"
    }
   ],
   "source": [
    "df_top_companies.sort_values(by = 'operating_margins', ascending=True, inplace=True)\n",
    "\n",
    "fig_op_margin = px.bar(df_top_companies, title='Operating Margin', x='long_name', y='operating_margins', color_discrete_sequence=['rgb(100, 195, 181)'], hover_name=df_top_companies.ticker, height=600)\n",
    "fig_op_margin.update_traces(text=[f'{x:.2f}%' for x in (df_top_companies['operating_margins']*100)], textposition='outside',textfont=dict(color='white'))\n",
    "fig_op_margin.update_layout(xaxis_title='Sector', yaxis_title='Profit Margins (%)', template = 'plotly_dark')\n",
    "fig_op_margin.show()"
   ]
  },
  {
   "cell_type": "markdown",
   "metadata": {},
   "source": [
    "- **`Telefônica Brasil S.A.`**: Operational margin of **16.55%**, indicating efficiency in converting revenues into operating profit in the telecommunications sector.\n",
    "\n",
    "- **`Ambev S.A.`**: With **18.67%**, it demonstrates effective operational management in the beverage industry, despite logistics and distribution challenges.\n",
    "\n",
    "- **`Itaúsa S.A.`**: A margin of **20.11%** reflects the profitability of its diversified operations, mainly in the financial sector.\n",
    "\n",
    "- **`WEG S.A.`**: Presents **20.57%**, signaling good cost management in the manufacturing of electrical equipment.\n",
    "\n",
    "- **`Banco Bradesco S.A.`**: With a margin of **22.32%**, the bank shows operational efficiency in the competitive banking sector.\n",
    "\n",
    "- **`Vale S.A.`**: A robust operational margin of **33.67%** highlights the mining giant's efficiency in generating profit from its operations.\n",
    "\n",
    "- **`Banco BTG Pactual S.A.`**: A margin of **34.96%** indicates highly profitable operations in the financial and banking services sector.\n",
    "\n",
    "- **`Itaú Unibanco Holding S.A.`**: With **35.90%**, the financial conglomerate exhibits a strong capacity to generate operational profits.\n",
    "\n",
    "- **`Petróleo Brasileiro S.A. - Petrobras`**: A margin of **39.07%** reflects operational efficiency in the oil and gas industry, despite the volatility of commodity prices.\n",
    "\n",
    "- **`Centrais Elétricas Brasileiras S.A. - Eletrobrás`**: With an operational margin of **42.60%**, the company shows a remarkable ability to translate revenues into profits in the energy sector.\n",
    "\n",
    "- **`Banco do Brasil S.A.`**: Leading with a margin of **45.91%**, it illustrates its superior efficiency in managing banking operations.\n",
    "\n",
    "In conclusion, the chart of the operational margins of Brazilian companies reveals significant differences between sectors in terms of operational efficiency. Financial institutions like Banco do Brasil, BTG Pactual, and Itaú Unibanco show the highest margins, consistent with the banking sector's nature, where services can be scaled at a relatively low cost. On the other hand, telecommunications and beverage companies, like Telefônica Brasil and Ambev, have lower margins, reflecting the high operational costs and investments needed to maintain and expand their networks and operations. The variation in these companies' margins highlights the importance of cost management and operational structure in determining profitability.\n"
   ]
  },
  {
   "cell_type": "markdown",
   "metadata": {},
   "source": [
    "### Performance Evaluation and Growth:"
   ]
  },
  {
   "cell_type": "code",
   "execution_count": 20,
   "metadata": {},
   "outputs": [
    {
     "data": {
      "application/vnd.plotly.v1+json": {
       "config": {
        "plotlyServerURL": "https://plot.ly"
       },
       "data": [
        {
         "alignmentgroup": "True",
         "hovertemplate": "<b>%{hovertext}</b><br><br>long_name=%{x}<br>trailing_pe=%{y}<extra></extra>",
         "hovertext": [
          "PETR3.SA",
          "BBAS3.SA",
          "VALE3.SA",
          "ITSA4.SA",
          "ITUB4.SA",
          "BBDC4.SA",
          "BPAC5.SA",
          "ABEV3.SA",
          "VIVT3.SA",
          "WEGE3.SA",
          "ELET3.SA"
         ],
         "legendgroup": "",
         "marker": {
          "color": "rgb(100, 195, 181)",
          "pattern": {
           "shape": ""
          }
         },
         "name": "",
         "offsetgroup": "",
         "orientation": "v",
         "showlegend": false,
         "text": [
          "R$2.91",
          "R$3.77",
          "R$5.32",
          "R$6.74",
          "R$8.56",
          "R$10.65",
          "R$11.26",
          "R$14.17",
          "R$17.03",
          "R$26.83",
          "R$34.70"
         ],
         "textfont": {
          "color": "white"
         },
         "textposition": "outside",
         "type": "bar",
         "x": [
          "Petróleo Brasileiro S.A. - Petrobras",
          "Banco do Brasil S.A.",
          "Vale S.A.",
          "Itaúsa S.A.",
          "Itaú Unibanco Holding S.A.",
          "Banco Bradesco S.A.",
          "Banco BTG Pactual S.A.",
          "Ambev S.A.",
          "Telefônica Brasil S.A.",
          "WEG S.A.",
          "Centrais Elétricas Brasileiras S.A. - Eletrobrás"
         ],
         "xaxis": "x",
         "y": [
          2.914199,
          3.770115,
          5.319043,
          6.7404585,
          8.557632,
          10.649254,
          11.260274,
          14.166667,
          17.02952,
          26.829268,
          34.7
         ],
         "yaxis": "y"
        }
       ],
       "layout": {
        "barmode": "relative",
        "height": 600,
        "legend": {
         "tracegroupgap": 0
        },
        "template": {
         "data": {
          "bar": [
           {
            "error_x": {
             "color": "#f2f5fa"
            },
            "error_y": {
             "color": "#f2f5fa"
            },
            "marker": {
             "line": {
              "color": "rgb(17,17,17)",
              "width": 0.5
             },
             "pattern": {
              "fillmode": "overlay",
              "size": 10,
              "solidity": 0.2
             }
            },
            "type": "bar"
           }
          ],
          "barpolar": [
           {
            "marker": {
             "line": {
              "color": "rgb(17,17,17)",
              "width": 0.5
             },
             "pattern": {
              "fillmode": "overlay",
              "size": 10,
              "solidity": 0.2
             }
            },
            "type": "barpolar"
           }
          ],
          "carpet": [
           {
            "aaxis": {
             "endlinecolor": "#A2B1C6",
             "gridcolor": "#506784",
             "linecolor": "#506784",
             "minorgridcolor": "#506784",
             "startlinecolor": "#A2B1C6"
            },
            "baxis": {
             "endlinecolor": "#A2B1C6",
             "gridcolor": "#506784",
             "linecolor": "#506784",
             "minorgridcolor": "#506784",
             "startlinecolor": "#A2B1C6"
            },
            "type": "carpet"
           }
          ],
          "choropleth": [
           {
            "colorbar": {
             "outlinewidth": 0,
             "ticks": ""
            },
            "type": "choropleth"
           }
          ],
          "contour": [
           {
            "colorbar": {
             "outlinewidth": 0,
             "ticks": ""
            },
            "colorscale": [
             [
              0,
              "#0d0887"
             ],
             [
              0.1111111111111111,
              "#46039f"
             ],
             [
              0.2222222222222222,
              "#7201a8"
             ],
             [
              0.3333333333333333,
              "#9c179e"
             ],
             [
              0.4444444444444444,
              "#bd3786"
             ],
             [
              0.5555555555555556,
              "#d8576b"
             ],
             [
              0.6666666666666666,
              "#ed7953"
             ],
             [
              0.7777777777777778,
              "#fb9f3a"
             ],
             [
              0.8888888888888888,
              "#fdca26"
             ],
             [
              1,
              "#f0f921"
             ]
            ],
            "type": "contour"
           }
          ],
          "contourcarpet": [
           {
            "colorbar": {
             "outlinewidth": 0,
             "ticks": ""
            },
            "type": "contourcarpet"
           }
          ],
          "heatmap": [
           {
            "colorbar": {
             "outlinewidth": 0,
             "ticks": ""
            },
            "colorscale": [
             [
              0,
              "#0d0887"
             ],
             [
              0.1111111111111111,
              "#46039f"
             ],
             [
              0.2222222222222222,
              "#7201a8"
             ],
             [
              0.3333333333333333,
              "#9c179e"
             ],
             [
              0.4444444444444444,
              "#bd3786"
             ],
             [
              0.5555555555555556,
              "#d8576b"
             ],
             [
              0.6666666666666666,
              "#ed7953"
             ],
             [
              0.7777777777777778,
              "#fb9f3a"
             ],
             [
              0.8888888888888888,
              "#fdca26"
             ],
             [
              1,
              "#f0f921"
             ]
            ],
            "type": "heatmap"
           }
          ],
          "heatmapgl": [
           {
            "colorbar": {
             "outlinewidth": 0,
             "ticks": ""
            },
            "colorscale": [
             [
              0,
              "#0d0887"
             ],
             [
              0.1111111111111111,
              "#46039f"
             ],
             [
              0.2222222222222222,
              "#7201a8"
             ],
             [
              0.3333333333333333,
              "#9c179e"
             ],
             [
              0.4444444444444444,
              "#bd3786"
             ],
             [
              0.5555555555555556,
              "#d8576b"
             ],
             [
              0.6666666666666666,
              "#ed7953"
             ],
             [
              0.7777777777777778,
              "#fb9f3a"
             ],
             [
              0.8888888888888888,
              "#fdca26"
             ],
             [
              1,
              "#f0f921"
             ]
            ],
            "type": "heatmapgl"
           }
          ],
          "histogram": [
           {
            "marker": {
             "pattern": {
              "fillmode": "overlay",
              "size": 10,
              "solidity": 0.2
             }
            },
            "type": "histogram"
           }
          ],
          "histogram2d": [
           {
            "colorbar": {
             "outlinewidth": 0,
             "ticks": ""
            },
            "colorscale": [
             [
              0,
              "#0d0887"
             ],
             [
              0.1111111111111111,
              "#46039f"
             ],
             [
              0.2222222222222222,
              "#7201a8"
             ],
             [
              0.3333333333333333,
              "#9c179e"
             ],
             [
              0.4444444444444444,
              "#bd3786"
             ],
             [
              0.5555555555555556,
              "#d8576b"
             ],
             [
              0.6666666666666666,
              "#ed7953"
             ],
             [
              0.7777777777777778,
              "#fb9f3a"
             ],
             [
              0.8888888888888888,
              "#fdca26"
             ],
             [
              1,
              "#f0f921"
             ]
            ],
            "type": "histogram2d"
           }
          ],
          "histogram2dcontour": [
           {
            "colorbar": {
             "outlinewidth": 0,
             "ticks": ""
            },
            "colorscale": [
             [
              0,
              "#0d0887"
             ],
             [
              0.1111111111111111,
              "#46039f"
             ],
             [
              0.2222222222222222,
              "#7201a8"
             ],
             [
              0.3333333333333333,
              "#9c179e"
             ],
             [
              0.4444444444444444,
              "#bd3786"
             ],
             [
              0.5555555555555556,
              "#d8576b"
             ],
             [
              0.6666666666666666,
              "#ed7953"
             ],
             [
              0.7777777777777778,
              "#fb9f3a"
             ],
             [
              0.8888888888888888,
              "#fdca26"
             ],
             [
              1,
              "#f0f921"
             ]
            ],
            "type": "histogram2dcontour"
           }
          ],
          "mesh3d": [
           {
            "colorbar": {
             "outlinewidth": 0,
             "ticks": ""
            },
            "type": "mesh3d"
           }
          ],
          "parcoords": [
           {
            "line": {
             "colorbar": {
              "outlinewidth": 0,
              "ticks": ""
             }
            },
            "type": "parcoords"
           }
          ],
          "pie": [
           {
            "automargin": true,
            "type": "pie"
           }
          ],
          "scatter": [
           {
            "marker": {
             "line": {
              "color": "#283442"
             }
            },
            "type": "scatter"
           }
          ],
          "scatter3d": [
           {
            "line": {
             "colorbar": {
              "outlinewidth": 0,
              "ticks": ""
             }
            },
            "marker": {
             "colorbar": {
              "outlinewidth": 0,
              "ticks": ""
             }
            },
            "type": "scatter3d"
           }
          ],
          "scattercarpet": [
           {
            "marker": {
             "colorbar": {
              "outlinewidth": 0,
              "ticks": ""
             }
            },
            "type": "scattercarpet"
           }
          ],
          "scattergeo": [
           {
            "marker": {
             "colorbar": {
              "outlinewidth": 0,
              "ticks": ""
             }
            },
            "type": "scattergeo"
           }
          ],
          "scattergl": [
           {
            "marker": {
             "line": {
              "color": "#283442"
             }
            },
            "type": "scattergl"
           }
          ],
          "scattermapbox": [
           {
            "marker": {
             "colorbar": {
              "outlinewidth": 0,
              "ticks": ""
             }
            },
            "type": "scattermapbox"
           }
          ],
          "scatterpolar": [
           {
            "marker": {
             "colorbar": {
              "outlinewidth": 0,
              "ticks": ""
             }
            },
            "type": "scatterpolar"
           }
          ],
          "scatterpolargl": [
           {
            "marker": {
             "colorbar": {
              "outlinewidth": 0,
              "ticks": ""
             }
            },
            "type": "scatterpolargl"
           }
          ],
          "scatterternary": [
           {
            "marker": {
             "colorbar": {
              "outlinewidth": 0,
              "ticks": ""
             }
            },
            "type": "scatterternary"
           }
          ],
          "surface": [
           {
            "colorbar": {
             "outlinewidth": 0,
             "ticks": ""
            },
            "colorscale": [
             [
              0,
              "#0d0887"
             ],
             [
              0.1111111111111111,
              "#46039f"
             ],
             [
              0.2222222222222222,
              "#7201a8"
             ],
             [
              0.3333333333333333,
              "#9c179e"
             ],
             [
              0.4444444444444444,
              "#bd3786"
             ],
             [
              0.5555555555555556,
              "#d8576b"
             ],
             [
              0.6666666666666666,
              "#ed7953"
             ],
             [
              0.7777777777777778,
              "#fb9f3a"
             ],
             [
              0.8888888888888888,
              "#fdca26"
             ],
             [
              1,
              "#f0f921"
             ]
            ],
            "type": "surface"
           }
          ],
          "table": [
           {
            "cells": {
             "fill": {
              "color": "#506784"
             },
             "line": {
              "color": "rgb(17,17,17)"
             }
            },
            "header": {
             "fill": {
              "color": "#2a3f5f"
             },
             "line": {
              "color": "rgb(17,17,17)"
             }
            },
            "type": "table"
           }
          ]
         },
         "layout": {
          "annotationdefaults": {
           "arrowcolor": "#f2f5fa",
           "arrowhead": 0,
           "arrowwidth": 1
          },
          "autotypenumbers": "strict",
          "coloraxis": {
           "colorbar": {
            "outlinewidth": 0,
            "ticks": ""
           }
          },
          "colorscale": {
           "diverging": [
            [
             0,
             "#8e0152"
            ],
            [
             0.1,
             "#c51b7d"
            ],
            [
             0.2,
             "#de77ae"
            ],
            [
             0.3,
             "#f1b6da"
            ],
            [
             0.4,
             "#fde0ef"
            ],
            [
             0.5,
             "#f7f7f7"
            ],
            [
             0.6,
             "#e6f5d0"
            ],
            [
             0.7,
             "#b8e186"
            ],
            [
             0.8,
             "#7fbc41"
            ],
            [
             0.9,
             "#4d9221"
            ],
            [
             1,
             "#276419"
            ]
           ],
           "sequential": [
            [
             0,
             "#0d0887"
            ],
            [
             0.1111111111111111,
             "#46039f"
            ],
            [
             0.2222222222222222,
             "#7201a8"
            ],
            [
             0.3333333333333333,
             "#9c179e"
            ],
            [
             0.4444444444444444,
             "#bd3786"
            ],
            [
             0.5555555555555556,
             "#d8576b"
            ],
            [
             0.6666666666666666,
             "#ed7953"
            ],
            [
             0.7777777777777778,
             "#fb9f3a"
            ],
            [
             0.8888888888888888,
             "#fdca26"
            ],
            [
             1,
             "#f0f921"
            ]
           ],
           "sequentialminus": [
            [
             0,
             "#0d0887"
            ],
            [
             0.1111111111111111,
             "#46039f"
            ],
            [
             0.2222222222222222,
             "#7201a8"
            ],
            [
             0.3333333333333333,
             "#9c179e"
            ],
            [
             0.4444444444444444,
             "#bd3786"
            ],
            [
             0.5555555555555556,
             "#d8576b"
            ],
            [
             0.6666666666666666,
             "#ed7953"
            ],
            [
             0.7777777777777778,
             "#fb9f3a"
            ],
            [
             0.8888888888888888,
             "#fdca26"
            ],
            [
             1,
             "#f0f921"
            ]
           ]
          },
          "colorway": [
           "#636efa",
           "#EF553B",
           "#00cc96",
           "#ab63fa",
           "#FFA15A",
           "#19d3f3",
           "#FF6692",
           "#B6E880",
           "#FF97FF",
           "#FECB52"
          ],
          "font": {
           "color": "#f2f5fa"
          },
          "geo": {
           "bgcolor": "rgb(17,17,17)",
           "lakecolor": "rgb(17,17,17)",
           "landcolor": "rgb(17,17,17)",
           "showlakes": true,
           "showland": true,
           "subunitcolor": "#506784"
          },
          "hoverlabel": {
           "align": "left"
          },
          "hovermode": "closest",
          "mapbox": {
           "style": "dark"
          },
          "paper_bgcolor": "rgb(17,17,17)",
          "plot_bgcolor": "rgb(17,17,17)",
          "polar": {
           "angularaxis": {
            "gridcolor": "#506784",
            "linecolor": "#506784",
            "ticks": ""
           },
           "bgcolor": "rgb(17,17,17)",
           "radialaxis": {
            "gridcolor": "#506784",
            "linecolor": "#506784",
            "ticks": ""
           }
          },
          "scene": {
           "xaxis": {
            "backgroundcolor": "rgb(17,17,17)",
            "gridcolor": "#506784",
            "gridwidth": 2,
            "linecolor": "#506784",
            "showbackground": true,
            "ticks": "",
            "zerolinecolor": "#C8D4E3"
           },
           "yaxis": {
            "backgroundcolor": "rgb(17,17,17)",
            "gridcolor": "#506784",
            "gridwidth": 2,
            "linecolor": "#506784",
            "showbackground": true,
            "ticks": "",
            "zerolinecolor": "#C8D4E3"
           },
           "zaxis": {
            "backgroundcolor": "rgb(17,17,17)",
            "gridcolor": "#506784",
            "gridwidth": 2,
            "linecolor": "#506784",
            "showbackground": true,
            "ticks": "",
            "zerolinecolor": "#C8D4E3"
           }
          },
          "shapedefaults": {
           "line": {
            "color": "#f2f5fa"
           }
          },
          "sliderdefaults": {
           "bgcolor": "#C8D4E3",
           "bordercolor": "rgb(17,17,17)",
           "borderwidth": 1,
           "tickwidth": 0
          },
          "ternary": {
           "aaxis": {
            "gridcolor": "#506784",
            "linecolor": "#506784",
            "ticks": ""
           },
           "baxis": {
            "gridcolor": "#506784",
            "linecolor": "#506784",
            "ticks": ""
           },
           "bgcolor": "rgb(17,17,17)",
           "caxis": {
            "gridcolor": "#506784",
            "linecolor": "#506784",
            "ticks": ""
           }
          },
          "title": {
           "x": 0.05
          },
          "updatemenudefaults": {
           "bgcolor": "#506784",
           "borderwidth": 0
          },
          "xaxis": {
           "automargin": true,
           "gridcolor": "#283442",
           "linecolor": "#506784",
           "ticks": "",
           "title": {
            "standoff": 15
           },
           "zerolinecolor": "#283442",
           "zerolinewidth": 2
          },
          "yaxis": {
           "automargin": true,
           "gridcolor": "#283442",
           "linecolor": "#506784",
           "ticks": "",
           "title": {
            "standoff": 15
           },
           "zerolinecolor": "#283442",
           "zerolinewidth": 2
          }
         }
        },
        "title": {
         "text": "Trailing PE"
        },
        "xaxis": {
         "anchor": "y",
         "domain": [
          0,
          1
         ],
         "title": {
          "text": "Sector"
         }
        },
        "yaxis": {
         "anchor": "x",
         "domain": [
          0,
          1
         ],
         "title": {
          "text": "Trailing P/E (R$)"
         }
        }
       }
      }
     },
     "metadata": {},
     "output_type": "display_data"
    }
   ],
   "source": [
    "df_top_companies.sort_values(by = 'trailing_pe', ascending=True, inplace=True)\n",
    "\n",
    "fig_op_margin = px.bar(df_top_companies, title='Trailing PE', x='long_name', y='trailing_pe', color_discrete_sequence=['rgb(100, 195, 181)'], hover_name=df_top_companies.ticker, height=600)\n",
    "fig_op_margin.update_traces(text=[f'R${x:.2f}' for x in (df_top_companies['trailing_pe'])], textposition='outside',textfont=dict(color='white'))\n",
    "fig_op_margin.update_layout(xaxis_title='Sector', yaxis_title='Trailing P/E (R$)', template = 'plotly_dark')\n",
    "fig_op_margin.show()"
   ]
  },
  {
   "cell_type": "markdown",
   "metadata": {},
   "source": [
    "- **`Petróleo Brasileiro S.A. - Petrobras` (P/E de R$2.91**):\n",
    "A Petrobras, uma das maiores empresas de energia do mundo, tem o menor P/E do grupo, o que pode indicar uma avaliação de mercado mais baixa em relação aos seus lucros passados ou uma percepção de menor crescimento futuro.\n",
    "\n",
    "- **`Banco do Brasil S.A.` (P/E de 3.77)**:\n",
    "Um dos principais bancos do Brasil, o Banco do Brasil apresenta um P/E baixo, o que sugere que suas ações podem estar subvalorizadas ou que o mercado espera um crescimento mais lento dos lucros.\n",
    "\n",
    "- **`Vale S.A.`` (P/E de 5.32)**:\n",
    "Vale é uma das maiores mineradoras do mundo, e seu P/E moderado reflete uma avaliação equilibrada que pode ser justificada pela volatilidade dos preços das commodities e pelo desempenho da empresa no mercado global.\n",
    "\n",
    "- **`Itaúsa S.A.` (P/E de 6.74)**:\n",
    "Itaúsa é um conglomerado que detém participações em empresas que atuam em setores como o financeiro e industrial. Seu P/E sugere que a empresa pode estar sendo negociada a uma avaliação que reflete uma expectativa estável de crescimento dos lucros.\n",
    "\n",
    "- **`Itaú Unibanco Holding S.A.` (P/E de 8.56)**:\n",
    "Itaú Unibanco é um dos maiores bancos privados do Brasil. Seu P/E mais elevado pode indicar uma expectativa de crescimento dos lucros ou uma avaliação de mercado mais otimista.\n",
    "\n",
    "- **`Banco Bradesco S.A.` (P/E de 10.65)**:\n",
    "O Banco Bradesco é outro grande banco privado brasileiro, com um P/E que indica que o mercado pode estar esperando um crescimento razoável dos lucros ou uma avaliação justa com base nos lucros passados.\n",
    "\n",
    "- **`Banco BTG Pactual S.A.` (P/E de 11.17)**:\n",
    "O Banco BTG Pactual é um banco de investimentos brasileiro com forte atuação em mercados emergentes. O P/E deste banco indica que ele está sendo negociado por um preço que reflete as expectativas dos investidores de um desempenho de lucro sólido, talvez devido à sua reputação em operações de mercado de capitais e investimentos estratégicos.\n",
    "\n",
    "- **`Ambev S.A.` (P/E de 11.26)**:\n",
    "Ambev, uma das maiores cervejarias do mundo, tem um P/E acima da média do grupo, o que pode ser um sinal de que os investidores esperam um bom crescimento dos lucros ou confiam na estabilidade do seu mercado.\n",
    "\n",
    "- **`Telefônica Brasil S.A.` (P/E de 14.17)**:\n",
    "Telefônica Brasil, uma importante operadora de telecomunicações, possui um P/E que sugere uma avaliação de mercado que pode estar refletindo expectativas de crescimento estável no setor de telecomunicações.\n",
    "\n",
    "- **`WEG S.A.` (P/E de 17.03)**:\n",
    "WEG é uma empresa de equipamentos elétricos, e seu P/E mais alto pode indicar uma expectativa de crescimento dos lucros superior à média do setor ou uma avaliação de mercado otimista quanto à sua estratégia de expansão e inovação.\n",
    "\n",
    "- **`Centrais Elétricas Brasileiras S.A. - Eletrobrás` (P/E de 34.70)**:\n",
    "Eletrobrás, a maior companhia de energia elétrica da América Latina, tem o P/E mais alto, o que pode refletir expectativas de crescimento significativo dos lucros ou uma avaliação de mercado que antecipa mudanças estratégicas ou reformas no setor energético.\n",
    "\n",
    "The analysis of the P/E ratios of Brazilian listed companies indicates a diversity of sectorial evaluations and market expectations. While Petrobras, with the lowest P/E, can be seen as undervalued or with lower profit growth expectations, Eletrobrás, with the highest P/E, seems to reflect a perspective of significant profit growth or anticipated positive changes in the energy sector. Banks like Banco do Brasil and Itaú display low to moderate P/Es, which may indicate a conservative valuation perception by the market. Banco BTG Pactual, with an intermediate P/E, might suggest a balanced evaluation, reflecting both the solidity of its performance in the investment market and growth expectations."
   ]
  },
  {
   "cell_type": "code",
   "execution_count": 21,
   "metadata": {},
   "outputs": [
    {
     "data": {
      "application/vnd.plotly.v1+json": {
       "config": {
        "plotlyServerURL": "https://plot.ly"
       },
       "data": [
        {
         "alignmentgroup": "True",
         "hovertemplate": "<b>%{hovertext}</b><br><br>long_name=%{x}<br>forward_pe=%{y}<extra></extra>",
         "hovertext": [
          "BPAC5.SA",
          "BBAS3.SA",
          "PETR3.SA",
          "VALE3.SA",
          "ITSA4.SA",
          "BBDC4.SA",
          "ITUB4.SA",
          "ELET3.SA",
          "ABEV3.SA",
          "VIVT3.SA",
          "WEGE3.SA"
         ],
         "legendgroup": "",
         "marker": {
          "color": "rgb(100, 195, 181)",
          "pattern": {
           "shape": ""
          }
         },
         "name": "",
         "offsetgroup": "",
         "orientation": "v",
         "showlegend": false,
         "text": [
          "0.00x",
          "3.81x",
          "4.82x",
          "5.42x",
          "5.55x",
          "6.15x",
          "6.87x",
          "8.36x",
          "12.75x",
          "13.61x",
          "24.44x"
         ],
         "textfont": {
          "color": "white"
         },
         "textposition": "outside",
         "type": "bar",
         "x": [
          "Banco BTG Pactual S.A.",
          "Banco do Brasil S.A.",
          "Petróleo Brasileiro S.A. - Petrobras",
          "Vale S.A.",
          "Itaúsa S.A.",
          "Banco Bradesco S.A.",
          "Itaú Unibanco Holding S.A.",
          "Centrais Elétricas Brasileiras S.A. - Eletrobrás",
          "Ambev S.A.",
          "Telefônica Brasil S.A.",
          "WEG S.A."
         ],
         "xaxis": "x",
         "y": [
          0,
          3.8051045,
          4.821608,
          5.421849,
          5.553459,
          6.150862,
          6.8675,
          8.361445,
          12.75,
          13.613569,
          24.444445
         ],
         "yaxis": "y"
        }
       ],
       "layout": {
        "barmode": "relative",
        "height": 600,
        "legend": {
         "tracegroupgap": 0
        },
        "template": {
         "data": {
          "bar": [
           {
            "error_x": {
             "color": "#f2f5fa"
            },
            "error_y": {
             "color": "#f2f5fa"
            },
            "marker": {
             "line": {
              "color": "rgb(17,17,17)",
              "width": 0.5
             },
             "pattern": {
              "fillmode": "overlay",
              "size": 10,
              "solidity": 0.2
             }
            },
            "type": "bar"
           }
          ],
          "barpolar": [
           {
            "marker": {
             "line": {
              "color": "rgb(17,17,17)",
              "width": 0.5
             },
             "pattern": {
              "fillmode": "overlay",
              "size": 10,
              "solidity": 0.2
             }
            },
            "type": "barpolar"
           }
          ],
          "carpet": [
           {
            "aaxis": {
             "endlinecolor": "#A2B1C6",
             "gridcolor": "#506784",
             "linecolor": "#506784",
             "minorgridcolor": "#506784",
             "startlinecolor": "#A2B1C6"
            },
            "baxis": {
             "endlinecolor": "#A2B1C6",
             "gridcolor": "#506784",
             "linecolor": "#506784",
             "minorgridcolor": "#506784",
             "startlinecolor": "#A2B1C6"
            },
            "type": "carpet"
           }
          ],
          "choropleth": [
           {
            "colorbar": {
             "outlinewidth": 0,
             "ticks": ""
            },
            "type": "choropleth"
           }
          ],
          "contour": [
           {
            "colorbar": {
             "outlinewidth": 0,
             "ticks": ""
            },
            "colorscale": [
             [
              0,
              "#0d0887"
             ],
             [
              0.1111111111111111,
              "#46039f"
             ],
             [
              0.2222222222222222,
              "#7201a8"
             ],
             [
              0.3333333333333333,
              "#9c179e"
             ],
             [
              0.4444444444444444,
              "#bd3786"
             ],
             [
              0.5555555555555556,
              "#d8576b"
             ],
             [
              0.6666666666666666,
              "#ed7953"
             ],
             [
              0.7777777777777778,
              "#fb9f3a"
             ],
             [
              0.8888888888888888,
              "#fdca26"
             ],
             [
              1,
              "#f0f921"
             ]
            ],
            "type": "contour"
           }
          ],
          "contourcarpet": [
           {
            "colorbar": {
             "outlinewidth": 0,
             "ticks": ""
            },
            "type": "contourcarpet"
           }
          ],
          "heatmap": [
           {
            "colorbar": {
             "outlinewidth": 0,
             "ticks": ""
            },
            "colorscale": [
             [
              0,
              "#0d0887"
             ],
             [
              0.1111111111111111,
              "#46039f"
             ],
             [
              0.2222222222222222,
              "#7201a8"
             ],
             [
              0.3333333333333333,
              "#9c179e"
             ],
             [
              0.4444444444444444,
              "#bd3786"
             ],
             [
              0.5555555555555556,
              "#d8576b"
             ],
             [
              0.6666666666666666,
              "#ed7953"
             ],
             [
              0.7777777777777778,
              "#fb9f3a"
             ],
             [
              0.8888888888888888,
              "#fdca26"
             ],
             [
              1,
              "#f0f921"
             ]
            ],
            "type": "heatmap"
           }
          ],
          "heatmapgl": [
           {
            "colorbar": {
             "outlinewidth": 0,
             "ticks": ""
            },
            "colorscale": [
             [
              0,
              "#0d0887"
             ],
             [
              0.1111111111111111,
              "#46039f"
             ],
             [
              0.2222222222222222,
              "#7201a8"
             ],
             [
              0.3333333333333333,
              "#9c179e"
             ],
             [
              0.4444444444444444,
              "#bd3786"
             ],
             [
              0.5555555555555556,
              "#d8576b"
             ],
             [
              0.6666666666666666,
              "#ed7953"
             ],
             [
              0.7777777777777778,
              "#fb9f3a"
             ],
             [
              0.8888888888888888,
              "#fdca26"
             ],
             [
              1,
              "#f0f921"
             ]
            ],
            "type": "heatmapgl"
           }
          ],
          "histogram": [
           {
            "marker": {
             "pattern": {
              "fillmode": "overlay",
              "size": 10,
              "solidity": 0.2
             }
            },
            "type": "histogram"
           }
          ],
          "histogram2d": [
           {
            "colorbar": {
             "outlinewidth": 0,
             "ticks": ""
            },
            "colorscale": [
             [
              0,
              "#0d0887"
             ],
             [
              0.1111111111111111,
              "#46039f"
             ],
             [
              0.2222222222222222,
              "#7201a8"
             ],
             [
              0.3333333333333333,
              "#9c179e"
             ],
             [
              0.4444444444444444,
              "#bd3786"
             ],
             [
              0.5555555555555556,
              "#d8576b"
             ],
             [
              0.6666666666666666,
              "#ed7953"
             ],
             [
              0.7777777777777778,
              "#fb9f3a"
             ],
             [
              0.8888888888888888,
              "#fdca26"
             ],
             [
              1,
              "#f0f921"
             ]
            ],
            "type": "histogram2d"
           }
          ],
          "histogram2dcontour": [
           {
            "colorbar": {
             "outlinewidth": 0,
             "ticks": ""
            },
            "colorscale": [
             [
              0,
              "#0d0887"
             ],
             [
              0.1111111111111111,
              "#46039f"
             ],
             [
              0.2222222222222222,
              "#7201a8"
             ],
             [
              0.3333333333333333,
              "#9c179e"
             ],
             [
              0.4444444444444444,
              "#bd3786"
             ],
             [
              0.5555555555555556,
              "#d8576b"
             ],
             [
              0.6666666666666666,
              "#ed7953"
             ],
             [
              0.7777777777777778,
              "#fb9f3a"
             ],
             [
              0.8888888888888888,
              "#fdca26"
             ],
             [
              1,
              "#f0f921"
             ]
            ],
            "type": "histogram2dcontour"
           }
          ],
          "mesh3d": [
           {
            "colorbar": {
             "outlinewidth": 0,
             "ticks": ""
            },
            "type": "mesh3d"
           }
          ],
          "parcoords": [
           {
            "line": {
             "colorbar": {
              "outlinewidth": 0,
              "ticks": ""
             }
            },
            "type": "parcoords"
           }
          ],
          "pie": [
           {
            "automargin": true,
            "type": "pie"
           }
          ],
          "scatter": [
           {
            "marker": {
             "line": {
              "color": "#283442"
             }
            },
            "type": "scatter"
           }
          ],
          "scatter3d": [
           {
            "line": {
             "colorbar": {
              "outlinewidth": 0,
              "ticks": ""
             }
            },
            "marker": {
             "colorbar": {
              "outlinewidth": 0,
              "ticks": ""
             }
            },
            "type": "scatter3d"
           }
          ],
          "scattercarpet": [
           {
            "marker": {
             "colorbar": {
              "outlinewidth": 0,
              "ticks": ""
             }
            },
            "type": "scattercarpet"
           }
          ],
          "scattergeo": [
           {
            "marker": {
             "colorbar": {
              "outlinewidth": 0,
              "ticks": ""
             }
            },
            "type": "scattergeo"
           }
          ],
          "scattergl": [
           {
            "marker": {
             "line": {
              "color": "#283442"
             }
            },
            "type": "scattergl"
           }
          ],
          "scattermapbox": [
           {
            "marker": {
             "colorbar": {
              "outlinewidth": 0,
              "ticks": ""
             }
            },
            "type": "scattermapbox"
           }
          ],
          "scatterpolar": [
           {
            "marker": {
             "colorbar": {
              "outlinewidth": 0,
              "ticks": ""
             }
            },
            "type": "scatterpolar"
           }
          ],
          "scatterpolargl": [
           {
            "marker": {
             "colorbar": {
              "outlinewidth": 0,
              "ticks": ""
             }
            },
            "type": "scatterpolargl"
           }
          ],
          "scatterternary": [
           {
            "marker": {
             "colorbar": {
              "outlinewidth": 0,
              "ticks": ""
             }
            },
            "type": "scatterternary"
           }
          ],
          "surface": [
           {
            "colorbar": {
             "outlinewidth": 0,
             "ticks": ""
            },
            "colorscale": [
             [
              0,
              "#0d0887"
             ],
             [
              0.1111111111111111,
              "#46039f"
             ],
             [
              0.2222222222222222,
              "#7201a8"
             ],
             [
              0.3333333333333333,
              "#9c179e"
             ],
             [
              0.4444444444444444,
              "#bd3786"
             ],
             [
              0.5555555555555556,
              "#d8576b"
             ],
             [
              0.6666666666666666,
              "#ed7953"
             ],
             [
              0.7777777777777778,
              "#fb9f3a"
             ],
             [
              0.8888888888888888,
              "#fdca26"
             ],
             [
              1,
              "#f0f921"
             ]
            ],
            "type": "surface"
           }
          ],
          "table": [
           {
            "cells": {
             "fill": {
              "color": "#506784"
             },
             "line": {
              "color": "rgb(17,17,17)"
             }
            },
            "header": {
             "fill": {
              "color": "#2a3f5f"
             },
             "line": {
              "color": "rgb(17,17,17)"
             }
            },
            "type": "table"
           }
          ]
         },
         "layout": {
          "annotationdefaults": {
           "arrowcolor": "#f2f5fa",
           "arrowhead": 0,
           "arrowwidth": 1
          },
          "autotypenumbers": "strict",
          "coloraxis": {
           "colorbar": {
            "outlinewidth": 0,
            "ticks": ""
           }
          },
          "colorscale": {
           "diverging": [
            [
             0,
             "#8e0152"
            ],
            [
             0.1,
             "#c51b7d"
            ],
            [
             0.2,
             "#de77ae"
            ],
            [
             0.3,
             "#f1b6da"
            ],
            [
             0.4,
             "#fde0ef"
            ],
            [
             0.5,
             "#f7f7f7"
            ],
            [
             0.6,
             "#e6f5d0"
            ],
            [
             0.7,
             "#b8e186"
            ],
            [
             0.8,
             "#7fbc41"
            ],
            [
             0.9,
             "#4d9221"
            ],
            [
             1,
             "#276419"
            ]
           ],
           "sequential": [
            [
             0,
             "#0d0887"
            ],
            [
             0.1111111111111111,
             "#46039f"
            ],
            [
             0.2222222222222222,
             "#7201a8"
            ],
            [
             0.3333333333333333,
             "#9c179e"
            ],
            [
             0.4444444444444444,
             "#bd3786"
            ],
            [
             0.5555555555555556,
             "#d8576b"
            ],
            [
             0.6666666666666666,
             "#ed7953"
            ],
            [
             0.7777777777777778,
             "#fb9f3a"
            ],
            [
             0.8888888888888888,
             "#fdca26"
            ],
            [
             1,
             "#f0f921"
            ]
           ],
           "sequentialminus": [
            [
             0,
             "#0d0887"
            ],
            [
             0.1111111111111111,
             "#46039f"
            ],
            [
             0.2222222222222222,
             "#7201a8"
            ],
            [
             0.3333333333333333,
             "#9c179e"
            ],
            [
             0.4444444444444444,
             "#bd3786"
            ],
            [
             0.5555555555555556,
             "#d8576b"
            ],
            [
             0.6666666666666666,
             "#ed7953"
            ],
            [
             0.7777777777777778,
             "#fb9f3a"
            ],
            [
             0.8888888888888888,
             "#fdca26"
            ],
            [
             1,
             "#f0f921"
            ]
           ]
          },
          "colorway": [
           "#636efa",
           "#EF553B",
           "#00cc96",
           "#ab63fa",
           "#FFA15A",
           "#19d3f3",
           "#FF6692",
           "#B6E880",
           "#FF97FF",
           "#FECB52"
          ],
          "font": {
           "color": "#f2f5fa"
          },
          "geo": {
           "bgcolor": "rgb(17,17,17)",
           "lakecolor": "rgb(17,17,17)",
           "landcolor": "rgb(17,17,17)",
           "showlakes": true,
           "showland": true,
           "subunitcolor": "#506784"
          },
          "hoverlabel": {
           "align": "left"
          },
          "hovermode": "closest",
          "mapbox": {
           "style": "dark"
          },
          "paper_bgcolor": "rgb(17,17,17)",
          "plot_bgcolor": "rgb(17,17,17)",
          "polar": {
           "angularaxis": {
            "gridcolor": "#506784",
            "linecolor": "#506784",
            "ticks": ""
           },
           "bgcolor": "rgb(17,17,17)",
           "radialaxis": {
            "gridcolor": "#506784",
            "linecolor": "#506784",
            "ticks": ""
           }
          },
          "scene": {
           "xaxis": {
            "backgroundcolor": "rgb(17,17,17)",
            "gridcolor": "#506784",
            "gridwidth": 2,
            "linecolor": "#506784",
            "showbackground": true,
            "ticks": "",
            "zerolinecolor": "#C8D4E3"
           },
           "yaxis": {
            "backgroundcolor": "rgb(17,17,17)",
            "gridcolor": "#506784",
            "gridwidth": 2,
            "linecolor": "#506784",
            "showbackground": true,
            "ticks": "",
            "zerolinecolor": "#C8D4E3"
           },
           "zaxis": {
            "backgroundcolor": "rgb(17,17,17)",
            "gridcolor": "#506784",
            "gridwidth": 2,
            "linecolor": "#506784",
            "showbackground": true,
            "ticks": "",
            "zerolinecolor": "#C8D4E3"
           }
          },
          "shapedefaults": {
           "line": {
            "color": "#f2f5fa"
           }
          },
          "sliderdefaults": {
           "bgcolor": "#C8D4E3",
           "bordercolor": "rgb(17,17,17)",
           "borderwidth": 1,
           "tickwidth": 0
          },
          "ternary": {
           "aaxis": {
            "gridcolor": "#506784",
            "linecolor": "#506784",
            "ticks": ""
           },
           "baxis": {
            "gridcolor": "#506784",
            "linecolor": "#506784",
            "ticks": ""
           },
           "bgcolor": "rgb(17,17,17)",
           "caxis": {
            "gridcolor": "#506784",
            "linecolor": "#506784",
            "ticks": ""
           }
          },
          "title": {
           "x": 0.05
          },
          "updatemenudefaults": {
           "bgcolor": "#506784",
           "borderwidth": 0
          },
          "xaxis": {
           "automargin": true,
           "gridcolor": "#283442",
           "linecolor": "#506784",
           "ticks": "",
           "title": {
            "standoff": 15
           },
           "zerolinecolor": "#283442",
           "zerolinewidth": 2
          },
          "yaxis": {
           "automargin": true,
           "gridcolor": "#283442",
           "linecolor": "#506784",
           "ticks": "",
           "title": {
            "standoff": 15
           },
           "zerolinecolor": "#283442",
           "zerolinewidth": 2
          }
         }
        },
        "title": {
         "text": "Forward P/E (x)"
        },
        "xaxis": {
         "anchor": "y",
         "domain": [
          0,
          1
         ],
         "title": {
          "text": "Companies"
         }
        },
        "yaxis": {
         "anchor": "x",
         "domain": [
          0,
          1
         ],
         "title": {
          "text": "Forward P/E (x)"
         }
        }
       }
      }
     },
     "metadata": {},
     "output_type": "display_data"
    }
   ],
   "source": [
    "df_top_companies.sort_values(by = 'forward_pe', ascending=True, inplace=True)\n",
    "\n",
    "fig_op_margin = px.bar(df_top_companies, title='Forward P/E (x)', x='long_name', y='forward_pe', color_discrete_sequence=['rgb(100, 195, 181)'], hover_name=df_top_companies.ticker, height=600)\n",
    "fig_op_margin.update_traces(text=[f'{x:.2f}x' for x in (df_top_companies['forward_pe'])], textposition='outside',textfont=dict(color='white'))\n",
    "fig_op_margin.update_layout(xaxis_title='Companies', yaxis_title='Forward P/E (x)', template = 'plotly_dark')\n",
    "fig_op_margin.show()"
   ]
  },
  {
   "cell_type": "markdown",
   "metadata": {},
   "source": [
    "- **`Banco BTG Pactual S.A.`**: P/E ratio of **0.00x**, indicating either a projected absence of profit or unavailable data.\n",
    "- **`Banco do Brasil S.A.`**: P/E ratio of **3.81x**, suggesting a relatively low valuation relative to expected earnings.\n",
    "- **`Petróleo Brasileiro S.A. - Petrobras`**: P/E ratio of **4.82x**, placing it at the lower end of the valuation spectrum among listed companies.\n",
    "- **`Vale S.A.`**: P/E ratio of **6.15x**, indicating a moderate valuation in the market context.\n",
    "- **`Itaúsa S.A.`**: P/E ratio of **6.87x**, also reflecting a moderate valuation.\n",
    "- **`Banco Bradesco S.A.`**: P/E ratio of **8.36x**, slightly above the average of the presented companies.\n",
    "- **`Itaú Unibanco Holding S.A.`**: P/E ratio of **12.75x**, pointing to an expectation of stable profits.\n",
    "- **`Centrais Elétricas Brasileiras S.A. - Eletrobrás`**: P/E ratio of **13.61x**, which is higher compared to other companies in the energy sector.\n",
    "- **`Ambev S.A.`**: P/E ratio of **24.44x**, significantly higher than many of the other companies, which may indicate higher growth or stability expectations.\n",
    "\n",
    "- **`Conclusion`**: The Forward P/E (Price to Earnings) ratios for the listed Brazilian companies vary widely, reflecting diverse market valuations and expectations of future profitability. Banco BTG Pactual S.A. stands out with a P/E of 0.00x, which is an outlier and suggests either an absence of expected profit or lack of data. The financial institutions generally show lower P/E ratios, indicating conservative estimates of future earnings. In contrast, Ambev S.A. has the highest P/E ratio, which could signal investor confidence in its growth prospects. Overall, these figures provide a snapshot of investor sentiment and valuation metrics within the Brazilian market context."
   ]
  },
  {
   "cell_type": "code",
   "execution_count": 50,
   "metadata": {},
   "outputs": [
    {
     "data": {
      "application/vnd.plotly.v1+json": {
       "config": {
        "plotlyServerURL": "https://plot.ly"
       },
       "data": [
        {
         "alignmentgroup": "True",
         "hovertemplate": "<b>%{hovertext}</b><br><br>long_name=%{x}<br>earnings_quarterly_growth=%{y}<extra></extra>",
         "hovertext": [
          "VALE3.SA",
          "PETR3.SA",
          "BBDC4.SA",
          "ABEV3.SA",
          "BBAS3.SA",
          "ITSA4.SA",
          "BPAC5.SA",
          "ITUB4.SA",
          "ELET3.SA",
          "VIVT3.SA",
          "WEGE3.SA"
         ],
         "legendgroup": "",
         "marker": {
          "color": "rgb(100, 195, 181)",
          "pattern": {
           "shape": ""
          }
         },
         "name": "",
         "offsetgroup": "",
         "orientation": "v",
         "showlegend": false,
         "text": [
          "-0.85%",
          "-0.47%",
          "-0.45%",
          "-0.16%",
          "0.09%",
          "0.17%",
          "0.18%",
          "0.18%",
          "0.21%",
          "0.47%",
          "0.50%"
         ],
         "textfont": {
          "color": "white"
         },
         "textposition": "outside",
         "type": "bar",
         "x": [
          "Vale S.A.",
          "Petróleo Brasileiro S.A. - Petrobras",
          "Banco Bradesco S.A.",
          "Ambev S.A.",
          "Banco do Brasil S.A.",
          "Itaúsa S.A.",
          "Banco BTG Pactual S.A.",
          "Itaú Unibanco Holding S.A.",
          "Centrais Elétricas Brasileiras S.A. - Eletrobrás",
          "Telefônica Brasil S.A.",
          "WEG S.A."
         ],
         "xaxis": "x",
         "y": [
          -0.848,
          -0.47,
          -0.447,
          -0.157,
          0.087,
          0.168,
          0.181,
          0.181,
          0.206,
          0.472,
          0.499
         ],
         "yaxis": "y"
        }
       ],
       "layout": {
        "barmode": "relative",
        "height": 600,
        "legend": {
         "tracegroupgap": 0
        },
        "template": {
         "data": {
          "bar": [
           {
            "error_x": {
             "color": "#f2f5fa"
            },
            "error_y": {
             "color": "#f2f5fa"
            },
            "marker": {
             "line": {
              "color": "rgb(17,17,17)",
              "width": 0.5
             },
             "pattern": {
              "fillmode": "overlay",
              "size": 10,
              "solidity": 0.2
             }
            },
            "type": "bar"
           }
          ],
          "barpolar": [
           {
            "marker": {
             "line": {
              "color": "rgb(17,17,17)",
              "width": 0.5
             },
             "pattern": {
              "fillmode": "overlay",
              "size": 10,
              "solidity": 0.2
             }
            },
            "type": "barpolar"
           }
          ],
          "carpet": [
           {
            "aaxis": {
             "endlinecolor": "#A2B1C6",
             "gridcolor": "#506784",
             "linecolor": "#506784",
             "minorgridcolor": "#506784",
             "startlinecolor": "#A2B1C6"
            },
            "baxis": {
             "endlinecolor": "#A2B1C6",
             "gridcolor": "#506784",
             "linecolor": "#506784",
             "minorgridcolor": "#506784",
             "startlinecolor": "#A2B1C6"
            },
            "type": "carpet"
           }
          ],
          "choropleth": [
           {
            "colorbar": {
             "outlinewidth": 0,
             "ticks": ""
            },
            "type": "choropleth"
           }
          ],
          "contour": [
           {
            "colorbar": {
             "outlinewidth": 0,
             "ticks": ""
            },
            "colorscale": [
             [
              0,
              "#0d0887"
             ],
             [
              0.1111111111111111,
              "#46039f"
             ],
             [
              0.2222222222222222,
              "#7201a8"
             ],
             [
              0.3333333333333333,
              "#9c179e"
             ],
             [
              0.4444444444444444,
              "#bd3786"
             ],
             [
              0.5555555555555556,
              "#d8576b"
             ],
             [
              0.6666666666666666,
              "#ed7953"
             ],
             [
              0.7777777777777778,
              "#fb9f3a"
             ],
             [
              0.8888888888888888,
              "#fdca26"
             ],
             [
              1,
              "#f0f921"
             ]
            ],
            "type": "contour"
           }
          ],
          "contourcarpet": [
           {
            "colorbar": {
             "outlinewidth": 0,
             "ticks": ""
            },
            "type": "contourcarpet"
           }
          ],
          "heatmap": [
           {
            "colorbar": {
             "outlinewidth": 0,
             "ticks": ""
            },
            "colorscale": [
             [
              0,
              "#0d0887"
             ],
             [
              0.1111111111111111,
              "#46039f"
             ],
             [
              0.2222222222222222,
              "#7201a8"
             ],
             [
              0.3333333333333333,
              "#9c179e"
             ],
             [
              0.4444444444444444,
              "#bd3786"
             ],
             [
              0.5555555555555556,
              "#d8576b"
             ],
             [
              0.6666666666666666,
              "#ed7953"
             ],
             [
              0.7777777777777778,
              "#fb9f3a"
             ],
             [
              0.8888888888888888,
              "#fdca26"
             ],
             [
              1,
              "#f0f921"
             ]
            ],
            "type": "heatmap"
           }
          ],
          "heatmapgl": [
           {
            "colorbar": {
             "outlinewidth": 0,
             "ticks": ""
            },
            "colorscale": [
             [
              0,
              "#0d0887"
             ],
             [
              0.1111111111111111,
              "#46039f"
             ],
             [
              0.2222222222222222,
              "#7201a8"
             ],
             [
              0.3333333333333333,
              "#9c179e"
             ],
             [
              0.4444444444444444,
              "#bd3786"
             ],
             [
              0.5555555555555556,
              "#d8576b"
             ],
             [
              0.6666666666666666,
              "#ed7953"
             ],
             [
              0.7777777777777778,
              "#fb9f3a"
             ],
             [
              0.8888888888888888,
              "#fdca26"
             ],
             [
              1,
              "#f0f921"
             ]
            ],
            "type": "heatmapgl"
           }
          ],
          "histogram": [
           {
            "marker": {
             "pattern": {
              "fillmode": "overlay",
              "size": 10,
              "solidity": 0.2
             }
            },
            "type": "histogram"
           }
          ],
          "histogram2d": [
           {
            "colorbar": {
             "outlinewidth": 0,
             "ticks": ""
            },
            "colorscale": [
             [
              0,
              "#0d0887"
             ],
             [
              0.1111111111111111,
              "#46039f"
             ],
             [
              0.2222222222222222,
              "#7201a8"
             ],
             [
              0.3333333333333333,
              "#9c179e"
             ],
             [
              0.4444444444444444,
              "#bd3786"
             ],
             [
              0.5555555555555556,
              "#d8576b"
             ],
             [
              0.6666666666666666,
              "#ed7953"
             ],
             [
              0.7777777777777778,
              "#fb9f3a"
             ],
             [
              0.8888888888888888,
              "#fdca26"
             ],
             [
              1,
              "#f0f921"
             ]
            ],
            "type": "histogram2d"
           }
          ],
          "histogram2dcontour": [
           {
            "colorbar": {
             "outlinewidth": 0,
             "ticks": ""
            },
            "colorscale": [
             [
              0,
              "#0d0887"
             ],
             [
              0.1111111111111111,
              "#46039f"
             ],
             [
              0.2222222222222222,
              "#7201a8"
             ],
             [
              0.3333333333333333,
              "#9c179e"
             ],
             [
              0.4444444444444444,
              "#bd3786"
             ],
             [
              0.5555555555555556,
              "#d8576b"
             ],
             [
              0.6666666666666666,
              "#ed7953"
             ],
             [
              0.7777777777777778,
              "#fb9f3a"
             ],
             [
              0.8888888888888888,
              "#fdca26"
             ],
             [
              1,
              "#f0f921"
             ]
            ],
            "type": "histogram2dcontour"
           }
          ],
          "mesh3d": [
           {
            "colorbar": {
             "outlinewidth": 0,
             "ticks": ""
            },
            "type": "mesh3d"
           }
          ],
          "parcoords": [
           {
            "line": {
             "colorbar": {
              "outlinewidth": 0,
              "ticks": ""
             }
            },
            "type": "parcoords"
           }
          ],
          "pie": [
           {
            "automargin": true,
            "type": "pie"
           }
          ],
          "scatter": [
           {
            "marker": {
             "line": {
              "color": "#283442"
             }
            },
            "type": "scatter"
           }
          ],
          "scatter3d": [
           {
            "line": {
             "colorbar": {
              "outlinewidth": 0,
              "ticks": ""
             }
            },
            "marker": {
             "colorbar": {
              "outlinewidth": 0,
              "ticks": ""
             }
            },
            "type": "scatter3d"
           }
          ],
          "scattercarpet": [
           {
            "marker": {
             "colorbar": {
              "outlinewidth": 0,
              "ticks": ""
             }
            },
            "type": "scattercarpet"
           }
          ],
          "scattergeo": [
           {
            "marker": {
             "colorbar": {
              "outlinewidth": 0,
              "ticks": ""
             }
            },
            "type": "scattergeo"
           }
          ],
          "scattergl": [
           {
            "marker": {
             "line": {
              "color": "#283442"
             }
            },
            "type": "scattergl"
           }
          ],
          "scattermapbox": [
           {
            "marker": {
             "colorbar": {
              "outlinewidth": 0,
              "ticks": ""
             }
            },
            "type": "scattermapbox"
           }
          ],
          "scatterpolar": [
           {
            "marker": {
             "colorbar": {
              "outlinewidth": 0,
              "ticks": ""
             }
            },
            "type": "scatterpolar"
           }
          ],
          "scatterpolargl": [
           {
            "marker": {
             "colorbar": {
              "outlinewidth": 0,
              "ticks": ""
             }
            },
            "type": "scatterpolargl"
           }
          ],
          "scatterternary": [
           {
            "marker": {
             "colorbar": {
              "outlinewidth": 0,
              "ticks": ""
             }
            },
            "type": "scatterternary"
           }
          ],
          "surface": [
           {
            "colorbar": {
             "outlinewidth": 0,
             "ticks": ""
            },
            "colorscale": [
             [
              0,
              "#0d0887"
             ],
             [
              0.1111111111111111,
              "#46039f"
             ],
             [
              0.2222222222222222,
              "#7201a8"
             ],
             [
              0.3333333333333333,
              "#9c179e"
             ],
             [
              0.4444444444444444,
              "#bd3786"
             ],
             [
              0.5555555555555556,
              "#d8576b"
             ],
             [
              0.6666666666666666,
              "#ed7953"
             ],
             [
              0.7777777777777778,
              "#fb9f3a"
             ],
             [
              0.8888888888888888,
              "#fdca26"
             ],
             [
              1,
              "#f0f921"
             ]
            ],
            "type": "surface"
           }
          ],
          "table": [
           {
            "cells": {
             "fill": {
              "color": "#506784"
             },
             "line": {
              "color": "rgb(17,17,17)"
             }
            },
            "header": {
             "fill": {
              "color": "#2a3f5f"
             },
             "line": {
              "color": "rgb(17,17,17)"
             }
            },
            "type": "table"
           }
          ]
         },
         "layout": {
          "annotationdefaults": {
           "arrowcolor": "#f2f5fa",
           "arrowhead": 0,
           "arrowwidth": 1
          },
          "autotypenumbers": "strict",
          "coloraxis": {
           "colorbar": {
            "outlinewidth": 0,
            "ticks": ""
           }
          },
          "colorscale": {
           "diverging": [
            [
             0,
             "#8e0152"
            ],
            [
             0.1,
             "#c51b7d"
            ],
            [
             0.2,
             "#de77ae"
            ],
            [
             0.3,
             "#f1b6da"
            ],
            [
             0.4,
             "#fde0ef"
            ],
            [
             0.5,
             "#f7f7f7"
            ],
            [
             0.6,
             "#e6f5d0"
            ],
            [
             0.7,
             "#b8e186"
            ],
            [
             0.8,
             "#7fbc41"
            ],
            [
             0.9,
             "#4d9221"
            ],
            [
             1,
             "#276419"
            ]
           ],
           "sequential": [
            [
             0,
             "#0d0887"
            ],
            [
             0.1111111111111111,
             "#46039f"
            ],
            [
             0.2222222222222222,
             "#7201a8"
            ],
            [
             0.3333333333333333,
             "#9c179e"
            ],
            [
             0.4444444444444444,
             "#bd3786"
            ],
            [
             0.5555555555555556,
             "#d8576b"
            ],
            [
             0.6666666666666666,
             "#ed7953"
            ],
            [
             0.7777777777777778,
             "#fb9f3a"
            ],
            [
             0.8888888888888888,
             "#fdca26"
            ],
            [
             1,
             "#f0f921"
            ]
           ],
           "sequentialminus": [
            [
             0,
             "#0d0887"
            ],
            [
             0.1111111111111111,
             "#46039f"
            ],
            [
             0.2222222222222222,
             "#7201a8"
            ],
            [
             0.3333333333333333,
             "#9c179e"
            ],
            [
             0.4444444444444444,
             "#bd3786"
            ],
            [
             0.5555555555555556,
             "#d8576b"
            ],
            [
             0.6666666666666666,
             "#ed7953"
            ],
            [
             0.7777777777777778,
             "#fb9f3a"
            ],
            [
             0.8888888888888888,
             "#fdca26"
            ],
            [
             1,
             "#f0f921"
            ]
           ]
          },
          "colorway": [
           "#636efa",
           "#EF553B",
           "#00cc96",
           "#ab63fa",
           "#FFA15A",
           "#19d3f3",
           "#FF6692",
           "#B6E880",
           "#FF97FF",
           "#FECB52"
          ],
          "font": {
           "color": "#f2f5fa"
          },
          "geo": {
           "bgcolor": "rgb(17,17,17)",
           "lakecolor": "rgb(17,17,17)",
           "landcolor": "rgb(17,17,17)",
           "showlakes": true,
           "showland": true,
           "subunitcolor": "#506784"
          },
          "hoverlabel": {
           "align": "left"
          },
          "hovermode": "closest",
          "mapbox": {
           "style": "dark"
          },
          "paper_bgcolor": "rgb(17,17,17)",
          "plot_bgcolor": "rgb(17,17,17)",
          "polar": {
           "angularaxis": {
            "gridcolor": "#506784",
            "linecolor": "#506784",
            "ticks": ""
           },
           "bgcolor": "rgb(17,17,17)",
           "radialaxis": {
            "gridcolor": "#506784",
            "linecolor": "#506784",
            "ticks": ""
           }
          },
          "scene": {
           "xaxis": {
            "backgroundcolor": "rgb(17,17,17)",
            "gridcolor": "#506784",
            "gridwidth": 2,
            "linecolor": "#506784",
            "showbackground": true,
            "ticks": "",
            "zerolinecolor": "#C8D4E3"
           },
           "yaxis": {
            "backgroundcolor": "rgb(17,17,17)",
            "gridcolor": "#506784",
            "gridwidth": 2,
            "linecolor": "#506784",
            "showbackground": true,
            "ticks": "",
            "zerolinecolor": "#C8D4E3"
           },
           "zaxis": {
            "backgroundcolor": "rgb(17,17,17)",
            "gridcolor": "#506784",
            "gridwidth": 2,
            "linecolor": "#506784",
            "showbackground": true,
            "ticks": "",
            "zerolinecolor": "#C8D4E3"
           }
          },
          "shapedefaults": {
           "line": {
            "color": "#f2f5fa"
           }
          },
          "sliderdefaults": {
           "bgcolor": "#C8D4E3",
           "bordercolor": "rgb(17,17,17)",
           "borderwidth": 1,
           "tickwidth": 0
          },
          "ternary": {
           "aaxis": {
            "gridcolor": "#506784",
            "linecolor": "#506784",
            "ticks": ""
           },
           "baxis": {
            "gridcolor": "#506784",
            "linecolor": "#506784",
            "ticks": ""
           },
           "bgcolor": "rgb(17,17,17)",
           "caxis": {
            "gridcolor": "#506784",
            "linecolor": "#506784",
            "ticks": ""
           }
          },
          "title": {
           "x": 0.05
          },
          "updatemenudefaults": {
           "bgcolor": "#506784",
           "borderwidth": 0
          },
          "xaxis": {
           "automargin": true,
           "gridcolor": "#283442",
           "linecolor": "#506784",
           "ticks": "",
           "title": {
            "standoff": 15
           },
           "zerolinecolor": "#283442",
           "zerolinewidth": 2
          },
          "yaxis": {
           "automargin": true,
           "gridcolor": "#283442",
           "linecolor": "#506784",
           "ticks": "",
           "title": {
            "standoff": 15
           },
           "zerolinecolor": "#283442",
           "zerolinewidth": 2
          }
         }
        },
        "title": {
         "text": "Earnings Quarterly Growth"
        },
        "xaxis": {
         "anchor": "y",
         "domain": [
          0,
          1
         ],
         "title": {
          "text": "Companies"
         }
        },
        "yaxis": {
         "anchor": "x",
         "domain": [
          0,
          1
         ],
         "title": {
          "text": "Earnings Quarterly Growth (%)"
         }
        }
       }
      }
     },
     "metadata": {},
     "output_type": "display_data"
    }
   ],
   "source": [
    "df_top_companies.sort_values(by = 'earnings_quarterly_growth', ascending=True, inplace=True)\n",
    "\n",
    "fig_op_margin = px.bar(df_top_companies, title='Earnings Quarterly Growth', x='long_name', y='earnings_quarterly_growth', color_discrete_sequence=['rgb(100, 195, 181)'], hover_name=df_top_companies.ticker, height=600)\n",
    "fig_op_margin.update_traces(text=[f'{x:.2f}%' for x in (df_top_companies['earnings_quarterly_growth'])], textposition='outside',textfont=dict(color='white'))\n",
    "fig_op_margin.update_layout(xaxis_title='Companies', yaxis_title='Earnings Quarterly Growth (%)', template = 'plotly_dark')\n",
    "fig_op_margin.show()"
   ]
  },
  {
   "cell_type": "markdown",
   "metadata": {},
   "source": [
    "- **`Vale S.A.`**: Profit growth of **-0.85%**, indicating a significant reduction in profits compared to the previous quarter.\n",
    "- **`Petróleo Brasileiro S.A. - Petrobras`**: **-0.47%**, also showing a contraction in profits.\n",
    "- **`Banco Bradesco S.A.`**: **-0.45%**, reflecting a decrease in profits.\n",
    "- **`Ambev S.A.`**: **-0.16%**, meaning there was a decline in profits compared to the previous quarter.\n",
    "- **`Banco do Brasil S.A.`**: **-0.09%**, showing a slight growth in profits.\n",
    "- **`Itaúsa S.A.`**: **0.17%**, indicating modest profit growth.\n",
    "- **`Banco BTG Pactual S.A.`**: **0.18%**, with a similar growth rate to Itaúsa S.A.\n",
    "- **`Itaú Unibanco Holding S.A.`**: **0.18%**, identical growth rate to Banco BTG Pactual S.A.\n",
    "- **`Centrais Elétricas Brasileiras S.A. - Eletrobrás`**: **0.21%**, showing slightly stronger growth.\n",
    "- **`Telefônica Brasil S.A.`**: **0.47%**, one of the highest profit growth rates among the listed companies.\n",
    "- **`WEG S.A.`**: **0.50%**, presenting the highest quarterly profit growth, indicating a strong improvement in financial performance.\n",
    "\n",
    "**`Conclusion`**:\n",
    "\n",
    "- The chart reveals significant variation in profit growth among the companies, with some experiencing a decrease in profits, while others, especially WEG S.A. and Telefônica Brasil S.A., show robust increases. This may reflect different economic conditions, business strategies, or specific industry events that impacted individual companies in the analyzed period.\n"
   ]
  },
  {
   "cell_type": "code",
   "execution_count": 52,
   "metadata": {},
   "outputs": [
    {
     "data": {
      "application/vnd.plotly.v1+json": {
       "config": {
        "plotlyServerURL": "https://plot.ly"
       },
       "data": [
        {
         "alignmentgroup": "True",
         "hovertemplate": "<b>%{hovertext}</b><br><br>long_name=%{x}<br>revenue_growth=%{y}<extra></extra>",
         "hovertext": [
          "PETR3.SA",
          "BBDC4.SA",
          "VALE3.SA",
          "ITSA4.SA",
          "BPAC5.SA",
          "ELET3.SA",
          "ABEV3.SA",
          "VIVT3.SA",
          "BBAS3.SA",
          "ITUB4.SA",
          "WEGE3.SA"
         ],
         "legendgroup": "",
         "marker": {
          "color": "rgb(100, 195, 181)",
          "pattern": {
           "shape": ""
          }
         },
         "name": "",
         "offsetgroup": "",
         "orientation": "v",
         "showlegend": false,
         "text": [
          "-33.40%",
          "-27.00%",
          "-13.10%",
          "-11.70%",
          "2.10%",
          "4.40%",
          "5.10%",
          "7.60%",
          "9.10%",
          "13.50%",
          "13.70%"
         ],
         "textfont": {
          "color": "white"
         },
         "textposition": "outside",
         "type": "bar",
         "x": [
          "Petróleo Brasileiro S.A. - Petrobras",
          "Banco Bradesco S.A.",
          "Vale S.A.",
          "Itaúsa S.A.",
          "Banco BTG Pactual S.A.",
          "Centrais Elétricas Brasileiras S.A. - Eletrobrás",
          "Ambev S.A.",
          "Telefônica Brasil S.A.",
          "Banco do Brasil S.A.",
          "Itaú Unibanco Holding S.A.",
          "WEG S.A."
         ],
         "xaxis": "x",
         "y": [
          -0.334,
          -0.27,
          -0.131,
          -0.117,
          0.021,
          0.044,
          0.051,
          0.076,
          0.091,
          0.135,
          0.137
         ],
         "yaxis": "y"
        }
       ],
       "layout": {
        "barmode": "relative",
        "height": 600,
        "legend": {
         "tracegroupgap": 0
        },
        "template": {
         "data": {
          "bar": [
           {
            "error_x": {
             "color": "#f2f5fa"
            },
            "error_y": {
             "color": "#f2f5fa"
            },
            "marker": {
             "line": {
              "color": "rgb(17,17,17)",
              "width": 0.5
             },
             "pattern": {
              "fillmode": "overlay",
              "size": 10,
              "solidity": 0.2
             }
            },
            "type": "bar"
           }
          ],
          "barpolar": [
           {
            "marker": {
             "line": {
              "color": "rgb(17,17,17)",
              "width": 0.5
             },
             "pattern": {
              "fillmode": "overlay",
              "size": 10,
              "solidity": 0.2
             }
            },
            "type": "barpolar"
           }
          ],
          "carpet": [
           {
            "aaxis": {
             "endlinecolor": "#A2B1C6",
             "gridcolor": "#506784",
             "linecolor": "#506784",
             "minorgridcolor": "#506784",
             "startlinecolor": "#A2B1C6"
            },
            "baxis": {
             "endlinecolor": "#A2B1C6",
             "gridcolor": "#506784",
             "linecolor": "#506784",
             "minorgridcolor": "#506784",
             "startlinecolor": "#A2B1C6"
            },
            "type": "carpet"
           }
          ],
          "choropleth": [
           {
            "colorbar": {
             "outlinewidth": 0,
             "ticks": ""
            },
            "type": "choropleth"
           }
          ],
          "contour": [
           {
            "colorbar": {
             "outlinewidth": 0,
             "ticks": ""
            },
            "colorscale": [
             [
              0,
              "#0d0887"
             ],
             [
              0.1111111111111111,
              "#46039f"
             ],
             [
              0.2222222222222222,
              "#7201a8"
             ],
             [
              0.3333333333333333,
              "#9c179e"
             ],
             [
              0.4444444444444444,
              "#bd3786"
             ],
             [
              0.5555555555555556,
              "#d8576b"
             ],
             [
              0.6666666666666666,
              "#ed7953"
             ],
             [
              0.7777777777777778,
              "#fb9f3a"
             ],
             [
              0.8888888888888888,
              "#fdca26"
             ],
             [
              1,
              "#f0f921"
             ]
            ],
            "type": "contour"
           }
          ],
          "contourcarpet": [
           {
            "colorbar": {
             "outlinewidth": 0,
             "ticks": ""
            },
            "type": "contourcarpet"
           }
          ],
          "heatmap": [
           {
            "colorbar": {
             "outlinewidth": 0,
             "ticks": ""
            },
            "colorscale": [
             [
              0,
              "#0d0887"
             ],
             [
              0.1111111111111111,
              "#46039f"
             ],
             [
              0.2222222222222222,
              "#7201a8"
             ],
             [
              0.3333333333333333,
              "#9c179e"
             ],
             [
              0.4444444444444444,
              "#bd3786"
             ],
             [
              0.5555555555555556,
              "#d8576b"
             ],
             [
              0.6666666666666666,
              "#ed7953"
             ],
             [
              0.7777777777777778,
              "#fb9f3a"
             ],
             [
              0.8888888888888888,
              "#fdca26"
             ],
             [
              1,
              "#f0f921"
             ]
            ],
            "type": "heatmap"
           }
          ],
          "heatmapgl": [
           {
            "colorbar": {
             "outlinewidth": 0,
             "ticks": ""
            },
            "colorscale": [
             [
              0,
              "#0d0887"
             ],
             [
              0.1111111111111111,
              "#46039f"
             ],
             [
              0.2222222222222222,
              "#7201a8"
             ],
             [
              0.3333333333333333,
              "#9c179e"
             ],
             [
              0.4444444444444444,
              "#bd3786"
             ],
             [
              0.5555555555555556,
              "#d8576b"
             ],
             [
              0.6666666666666666,
              "#ed7953"
             ],
             [
              0.7777777777777778,
              "#fb9f3a"
             ],
             [
              0.8888888888888888,
              "#fdca26"
             ],
             [
              1,
              "#f0f921"
             ]
            ],
            "type": "heatmapgl"
           }
          ],
          "histogram": [
           {
            "marker": {
             "pattern": {
              "fillmode": "overlay",
              "size": 10,
              "solidity": 0.2
             }
            },
            "type": "histogram"
           }
          ],
          "histogram2d": [
           {
            "colorbar": {
             "outlinewidth": 0,
             "ticks": ""
            },
            "colorscale": [
             [
              0,
              "#0d0887"
             ],
             [
              0.1111111111111111,
              "#46039f"
             ],
             [
              0.2222222222222222,
              "#7201a8"
             ],
             [
              0.3333333333333333,
              "#9c179e"
             ],
             [
              0.4444444444444444,
              "#bd3786"
             ],
             [
              0.5555555555555556,
              "#d8576b"
             ],
             [
              0.6666666666666666,
              "#ed7953"
             ],
             [
              0.7777777777777778,
              "#fb9f3a"
             ],
             [
              0.8888888888888888,
              "#fdca26"
             ],
             [
              1,
              "#f0f921"
             ]
            ],
            "type": "histogram2d"
           }
          ],
          "histogram2dcontour": [
           {
            "colorbar": {
             "outlinewidth": 0,
             "ticks": ""
            },
            "colorscale": [
             [
              0,
              "#0d0887"
             ],
             [
              0.1111111111111111,
              "#46039f"
             ],
             [
              0.2222222222222222,
              "#7201a8"
             ],
             [
              0.3333333333333333,
              "#9c179e"
             ],
             [
              0.4444444444444444,
              "#bd3786"
             ],
             [
              0.5555555555555556,
              "#d8576b"
             ],
             [
              0.6666666666666666,
              "#ed7953"
             ],
             [
              0.7777777777777778,
              "#fb9f3a"
             ],
             [
              0.8888888888888888,
              "#fdca26"
             ],
             [
              1,
              "#f0f921"
             ]
            ],
            "type": "histogram2dcontour"
           }
          ],
          "mesh3d": [
           {
            "colorbar": {
             "outlinewidth": 0,
             "ticks": ""
            },
            "type": "mesh3d"
           }
          ],
          "parcoords": [
           {
            "line": {
             "colorbar": {
              "outlinewidth": 0,
              "ticks": ""
             }
            },
            "type": "parcoords"
           }
          ],
          "pie": [
           {
            "automargin": true,
            "type": "pie"
           }
          ],
          "scatter": [
           {
            "marker": {
             "line": {
              "color": "#283442"
             }
            },
            "type": "scatter"
           }
          ],
          "scatter3d": [
           {
            "line": {
             "colorbar": {
              "outlinewidth": 0,
              "ticks": ""
             }
            },
            "marker": {
             "colorbar": {
              "outlinewidth": 0,
              "ticks": ""
             }
            },
            "type": "scatter3d"
           }
          ],
          "scattercarpet": [
           {
            "marker": {
             "colorbar": {
              "outlinewidth": 0,
              "ticks": ""
             }
            },
            "type": "scattercarpet"
           }
          ],
          "scattergeo": [
           {
            "marker": {
             "colorbar": {
              "outlinewidth": 0,
              "ticks": ""
             }
            },
            "type": "scattergeo"
           }
          ],
          "scattergl": [
           {
            "marker": {
             "line": {
              "color": "#283442"
             }
            },
            "type": "scattergl"
           }
          ],
          "scattermapbox": [
           {
            "marker": {
             "colorbar": {
              "outlinewidth": 0,
              "ticks": ""
             }
            },
            "type": "scattermapbox"
           }
          ],
          "scatterpolar": [
           {
            "marker": {
             "colorbar": {
              "outlinewidth": 0,
              "ticks": ""
             }
            },
            "type": "scatterpolar"
           }
          ],
          "scatterpolargl": [
           {
            "marker": {
             "colorbar": {
              "outlinewidth": 0,
              "ticks": ""
             }
            },
            "type": "scatterpolargl"
           }
          ],
          "scatterternary": [
           {
            "marker": {
             "colorbar": {
              "outlinewidth": 0,
              "ticks": ""
             }
            },
            "type": "scatterternary"
           }
          ],
          "surface": [
           {
            "colorbar": {
             "outlinewidth": 0,
             "ticks": ""
            },
            "colorscale": [
             [
              0,
              "#0d0887"
             ],
             [
              0.1111111111111111,
              "#46039f"
             ],
             [
              0.2222222222222222,
              "#7201a8"
             ],
             [
              0.3333333333333333,
              "#9c179e"
             ],
             [
              0.4444444444444444,
              "#bd3786"
             ],
             [
              0.5555555555555556,
              "#d8576b"
             ],
             [
              0.6666666666666666,
              "#ed7953"
             ],
             [
              0.7777777777777778,
              "#fb9f3a"
             ],
             [
              0.8888888888888888,
              "#fdca26"
             ],
             [
              1,
              "#f0f921"
             ]
            ],
            "type": "surface"
           }
          ],
          "table": [
           {
            "cells": {
             "fill": {
              "color": "#506784"
             },
             "line": {
              "color": "rgb(17,17,17)"
             }
            },
            "header": {
             "fill": {
              "color": "#2a3f5f"
             },
             "line": {
              "color": "rgb(17,17,17)"
             }
            },
            "type": "table"
           }
          ]
         },
         "layout": {
          "annotationdefaults": {
           "arrowcolor": "#f2f5fa",
           "arrowhead": 0,
           "arrowwidth": 1
          },
          "autotypenumbers": "strict",
          "coloraxis": {
           "colorbar": {
            "outlinewidth": 0,
            "ticks": ""
           }
          },
          "colorscale": {
           "diverging": [
            [
             0,
             "#8e0152"
            ],
            [
             0.1,
             "#c51b7d"
            ],
            [
             0.2,
             "#de77ae"
            ],
            [
             0.3,
             "#f1b6da"
            ],
            [
             0.4,
             "#fde0ef"
            ],
            [
             0.5,
             "#f7f7f7"
            ],
            [
             0.6,
             "#e6f5d0"
            ],
            [
             0.7,
             "#b8e186"
            ],
            [
             0.8,
             "#7fbc41"
            ],
            [
             0.9,
             "#4d9221"
            ],
            [
             1,
             "#276419"
            ]
           ],
           "sequential": [
            [
             0,
             "#0d0887"
            ],
            [
             0.1111111111111111,
             "#46039f"
            ],
            [
             0.2222222222222222,
             "#7201a8"
            ],
            [
             0.3333333333333333,
             "#9c179e"
            ],
            [
             0.4444444444444444,
             "#bd3786"
            ],
            [
             0.5555555555555556,
             "#d8576b"
            ],
            [
             0.6666666666666666,
             "#ed7953"
            ],
            [
             0.7777777777777778,
             "#fb9f3a"
            ],
            [
             0.8888888888888888,
             "#fdca26"
            ],
            [
             1,
             "#f0f921"
            ]
           ],
           "sequentialminus": [
            [
             0,
             "#0d0887"
            ],
            [
             0.1111111111111111,
             "#46039f"
            ],
            [
             0.2222222222222222,
             "#7201a8"
            ],
            [
             0.3333333333333333,
             "#9c179e"
            ],
            [
             0.4444444444444444,
             "#bd3786"
            ],
            [
             0.5555555555555556,
             "#d8576b"
            ],
            [
             0.6666666666666666,
             "#ed7953"
            ],
            [
             0.7777777777777778,
             "#fb9f3a"
            ],
            [
             0.8888888888888888,
             "#fdca26"
            ],
            [
             1,
             "#f0f921"
            ]
           ]
          },
          "colorway": [
           "#636efa",
           "#EF553B",
           "#00cc96",
           "#ab63fa",
           "#FFA15A",
           "#19d3f3",
           "#FF6692",
           "#B6E880",
           "#FF97FF",
           "#FECB52"
          ],
          "font": {
           "color": "#f2f5fa"
          },
          "geo": {
           "bgcolor": "rgb(17,17,17)",
           "lakecolor": "rgb(17,17,17)",
           "landcolor": "rgb(17,17,17)",
           "showlakes": true,
           "showland": true,
           "subunitcolor": "#506784"
          },
          "hoverlabel": {
           "align": "left"
          },
          "hovermode": "closest",
          "mapbox": {
           "style": "dark"
          },
          "paper_bgcolor": "rgb(17,17,17)",
          "plot_bgcolor": "rgb(17,17,17)",
          "polar": {
           "angularaxis": {
            "gridcolor": "#506784",
            "linecolor": "#506784",
            "ticks": ""
           },
           "bgcolor": "rgb(17,17,17)",
           "radialaxis": {
            "gridcolor": "#506784",
            "linecolor": "#506784",
            "ticks": ""
           }
          },
          "scene": {
           "xaxis": {
            "backgroundcolor": "rgb(17,17,17)",
            "gridcolor": "#506784",
            "gridwidth": 2,
            "linecolor": "#506784",
            "showbackground": true,
            "ticks": "",
            "zerolinecolor": "#C8D4E3"
           },
           "yaxis": {
            "backgroundcolor": "rgb(17,17,17)",
            "gridcolor": "#506784",
            "gridwidth": 2,
            "linecolor": "#506784",
            "showbackground": true,
            "ticks": "",
            "zerolinecolor": "#C8D4E3"
           },
           "zaxis": {
            "backgroundcolor": "rgb(17,17,17)",
            "gridcolor": "#506784",
            "gridwidth": 2,
            "linecolor": "#506784",
            "showbackground": true,
            "ticks": "",
            "zerolinecolor": "#C8D4E3"
           }
          },
          "shapedefaults": {
           "line": {
            "color": "#f2f5fa"
           }
          },
          "sliderdefaults": {
           "bgcolor": "#C8D4E3",
           "bordercolor": "rgb(17,17,17)",
           "borderwidth": 1,
           "tickwidth": 0
          },
          "ternary": {
           "aaxis": {
            "gridcolor": "#506784",
            "linecolor": "#506784",
            "ticks": ""
           },
           "baxis": {
            "gridcolor": "#506784",
            "linecolor": "#506784",
            "ticks": ""
           },
           "bgcolor": "rgb(17,17,17)",
           "caxis": {
            "gridcolor": "#506784",
            "linecolor": "#506784",
            "ticks": ""
           }
          },
          "title": {
           "x": 0.05
          },
          "updatemenudefaults": {
           "bgcolor": "#506784",
           "borderwidth": 0
          },
          "xaxis": {
           "automargin": true,
           "gridcolor": "#283442",
           "linecolor": "#506784",
           "ticks": "",
           "title": {
            "standoff": 15
           },
           "zerolinecolor": "#283442",
           "zerolinewidth": 2
          },
          "yaxis": {
           "automargin": true,
           "gridcolor": "#283442",
           "linecolor": "#506784",
           "ticks": "",
           "title": {
            "standoff": 15
           },
           "zerolinecolor": "#283442",
           "zerolinewidth": 2
          }
         }
        },
        "title": {
         "text": "Revenue Growth"
        },
        "xaxis": {
         "anchor": "y",
         "domain": [
          0,
          1
         ],
         "title": {
          "text": "Companies"
         }
        },
        "yaxis": {
         "anchor": "x",
         "domain": [
          0,
          1
         ],
         "title": {
          "text": "Revenue Growth (%)"
         }
        }
       }
      }
     },
     "metadata": {},
     "output_type": "display_data"
    }
   ],
   "source": [
    "df_top_companies.sort_values(by = 'revenue_growth', ascending=True, inplace=True)\n",
    "\n",
    "fig_op_margin = px.bar(df_top_companies, title='Revenue Growth', x='long_name', y='revenue_growth', color_discrete_sequence=['rgb(100, 195, 181)'], hover_name=df_top_companies.ticker, height=600)\n",
    "fig_op_margin.update_traces(text=[f'{x:.2f}%' for x in (df_top_companies['revenue_growth']*100)], textposition='outside',textfont=dict(color='white'))\n",
    "fig_op_margin.update_layout(xaxis_title='Companies', yaxis_title='Revenue Growth (%)', template = 'plotly_dark')\n",
    "fig_op_margin.show()"
   ]
  },
  {
   "cell_type": "markdown",
   "metadata": {},
   "source": [
    "- **`Petróleo Brasileiro S.A. - Petrobras`**: Revenue growth of **-33.40%**, indicating a significant decline in revenue.\n",
    "- **`Banco Bradesco S.A.`**: Revenue growth of **-27.00%**, also showing a substantial decrease in revenue.\n",
    "- **`Vale S.A.`**: Revenue growth of **-13.10%**, suggesting a downturn in revenue.\n",
    "- **`Itaúsa S.A.`**: Revenue growth of **-11.70%**, indicating a reduction in revenue.\n",
    "- **`Banco BTG Pactual S.A.`**: Revenue growth of **2.10%**, showing a slight increase in revenue.\n",
    "- **`Centrais Elétricas Brasileiras S.A. - Eletrobrás`**: Revenue growth of **4.40%**, reflecting modest revenue improvement.\n",
    "- **`Ambev S.A.`**: Revenue growth of **5.10%**, also indicating a modest increase in revenue.\n",
    "- **`Telefônica Brasil S.A.`**: Revenue growth of **7.60%**, representing a healthier revenue increase.\n",
    "- **`Banco do Brasil S.A.`**: Revenue growth of **9.10%**, showing a more robust growth in revenue.\n",
    "- **`Itaú Unibanco Holding S.A.`**: Revenue growth of **13.50%**, suggesting strong revenue growth.\n",
    "- **`WEG S.A.`**: Revenue growth of **13.70%**, the highest among the listed companies, indicating very strong growth.\n",
    "\n",
    "**`Conclusion`**:\n",
    "\n",
    "- The revenue growth rates present a contrasting financial landscape for these Brazilian companies. The energy and banking sectors, represented by Petrobras, Bradesco, and Vale, have experienced significant revenue contractions. In contrast, Itaú Unibanco Holding S.A. and WEG S.A. exhibit the strongest growth, which may reflect effective strategies or favorable market conditions in their respective sectors. This mixed performance could highlight the varying impacts of economic factors on different industry segments within Brazil.\n"
   ]
  },
  {
   "cell_type": "markdown",
   "metadata": {},
   "source": []
  },
  {
   "cell_type": "markdown",
   "metadata": {},
   "source": [
    "### Efficiency and Capital Utilization:"
   ]
  },
  {
   "cell_type": "code",
   "execution_count": 53,
   "metadata": {},
   "outputs": [
    {
     "data": {
      "application/vnd.plotly.v1+json": {
       "config": {
        "plotlyServerURL": "https://plot.ly"
       },
       "data": [
        {
         "alignmentgroup": "True",
         "hovertemplate": "<b>%{hovertext}</b><br><br>long_name=%{x}<br>return_on_assets=%{y}<extra></extra>",
         "hovertext": [
          "BBDC4.SA",
          "ITSA4.SA",
          "ITUB4.SA",
          "BBAS3.SA",
          "BPAC5.SA",
          "ELET3.SA",
          "VIVT3.SA",
          "ABEV3.SA",
          "VALE3.SA",
          "WEGE3.SA",
          "PETR3.SA"
         ],
         "legendgroup": "",
         "marker": {
          "color": "rgb(100, 195, 181)",
          "pattern": {
           "shape": ""
          }
         },
         "name": "",
         "offsetgroup": "",
         "orientation": "v",
         "showlegend": false,
         "text": [
          "0.85%",
          "0.85%",
          "1.42%",
          "1.73%",
          "1.91%",
          "2.31%",
          "3.84%",
          "8.27%",
          "9.98%",
          "13.78%",
          "15.43%"
         ],
         "textfont": {
          "color": "white"
         },
         "textposition": "outside",
         "type": "bar",
         "x": [
          "Banco Bradesco S.A.",
          "Itaúsa S.A.",
          "Itaú Unibanco Holding S.A.",
          "Banco do Brasil S.A.",
          "Banco BTG Pactual S.A.",
          "Centrais Elétricas Brasileiras S.A. - Eletrobrás",
          "Telefônica Brasil S.A.",
          "Ambev S.A.",
          "Vale S.A.",
          "WEG S.A.",
          "Petróleo Brasileiro S.A. - Petrobras"
         ],
         "xaxis": "x",
         "y": [
          0.00853,
          0.00854,
          0.0141900005,
          0.017339999,
          0.0191,
          0.02306,
          0.03836,
          0.08271,
          0.099750005,
          0.13783,
          0.15427
         ],
         "yaxis": "y"
        }
       ],
       "layout": {
        "barmode": "relative",
        "height": 600,
        "legend": {
         "tracegroupgap": 0
        },
        "template": {
         "data": {
          "bar": [
           {
            "error_x": {
             "color": "#f2f5fa"
            },
            "error_y": {
             "color": "#f2f5fa"
            },
            "marker": {
             "line": {
              "color": "rgb(17,17,17)",
              "width": 0.5
             },
             "pattern": {
              "fillmode": "overlay",
              "size": 10,
              "solidity": 0.2
             }
            },
            "type": "bar"
           }
          ],
          "barpolar": [
           {
            "marker": {
             "line": {
              "color": "rgb(17,17,17)",
              "width": 0.5
             },
             "pattern": {
              "fillmode": "overlay",
              "size": 10,
              "solidity": 0.2
             }
            },
            "type": "barpolar"
           }
          ],
          "carpet": [
           {
            "aaxis": {
             "endlinecolor": "#A2B1C6",
             "gridcolor": "#506784",
             "linecolor": "#506784",
             "minorgridcolor": "#506784",
             "startlinecolor": "#A2B1C6"
            },
            "baxis": {
             "endlinecolor": "#A2B1C6",
             "gridcolor": "#506784",
             "linecolor": "#506784",
             "minorgridcolor": "#506784",
             "startlinecolor": "#A2B1C6"
            },
            "type": "carpet"
           }
          ],
          "choropleth": [
           {
            "colorbar": {
             "outlinewidth": 0,
             "ticks": ""
            },
            "type": "choropleth"
           }
          ],
          "contour": [
           {
            "colorbar": {
             "outlinewidth": 0,
             "ticks": ""
            },
            "colorscale": [
             [
              0,
              "#0d0887"
             ],
             [
              0.1111111111111111,
              "#46039f"
             ],
             [
              0.2222222222222222,
              "#7201a8"
             ],
             [
              0.3333333333333333,
              "#9c179e"
             ],
             [
              0.4444444444444444,
              "#bd3786"
             ],
             [
              0.5555555555555556,
              "#d8576b"
             ],
             [
              0.6666666666666666,
              "#ed7953"
             ],
             [
              0.7777777777777778,
              "#fb9f3a"
             ],
             [
              0.8888888888888888,
              "#fdca26"
             ],
             [
              1,
              "#f0f921"
             ]
            ],
            "type": "contour"
           }
          ],
          "contourcarpet": [
           {
            "colorbar": {
             "outlinewidth": 0,
             "ticks": ""
            },
            "type": "contourcarpet"
           }
          ],
          "heatmap": [
           {
            "colorbar": {
             "outlinewidth": 0,
             "ticks": ""
            },
            "colorscale": [
             [
              0,
              "#0d0887"
             ],
             [
              0.1111111111111111,
              "#46039f"
             ],
             [
              0.2222222222222222,
              "#7201a8"
             ],
             [
              0.3333333333333333,
              "#9c179e"
             ],
             [
              0.4444444444444444,
              "#bd3786"
             ],
             [
              0.5555555555555556,
              "#d8576b"
             ],
             [
              0.6666666666666666,
              "#ed7953"
             ],
             [
              0.7777777777777778,
              "#fb9f3a"
             ],
             [
              0.8888888888888888,
              "#fdca26"
             ],
             [
              1,
              "#f0f921"
             ]
            ],
            "type": "heatmap"
           }
          ],
          "heatmapgl": [
           {
            "colorbar": {
             "outlinewidth": 0,
             "ticks": ""
            },
            "colorscale": [
             [
              0,
              "#0d0887"
             ],
             [
              0.1111111111111111,
              "#46039f"
             ],
             [
              0.2222222222222222,
              "#7201a8"
             ],
             [
              0.3333333333333333,
              "#9c179e"
             ],
             [
              0.4444444444444444,
              "#bd3786"
             ],
             [
              0.5555555555555556,
              "#d8576b"
             ],
             [
              0.6666666666666666,
              "#ed7953"
             ],
             [
              0.7777777777777778,
              "#fb9f3a"
             ],
             [
              0.8888888888888888,
              "#fdca26"
             ],
             [
              1,
              "#f0f921"
             ]
            ],
            "type": "heatmapgl"
           }
          ],
          "histogram": [
           {
            "marker": {
             "pattern": {
              "fillmode": "overlay",
              "size": 10,
              "solidity": 0.2
             }
            },
            "type": "histogram"
           }
          ],
          "histogram2d": [
           {
            "colorbar": {
             "outlinewidth": 0,
             "ticks": ""
            },
            "colorscale": [
             [
              0,
              "#0d0887"
             ],
             [
              0.1111111111111111,
              "#46039f"
             ],
             [
              0.2222222222222222,
              "#7201a8"
             ],
             [
              0.3333333333333333,
              "#9c179e"
             ],
             [
              0.4444444444444444,
              "#bd3786"
             ],
             [
              0.5555555555555556,
              "#d8576b"
             ],
             [
              0.6666666666666666,
              "#ed7953"
             ],
             [
              0.7777777777777778,
              "#fb9f3a"
             ],
             [
              0.8888888888888888,
              "#fdca26"
             ],
             [
              1,
              "#f0f921"
             ]
            ],
            "type": "histogram2d"
           }
          ],
          "histogram2dcontour": [
           {
            "colorbar": {
             "outlinewidth": 0,
             "ticks": ""
            },
            "colorscale": [
             [
              0,
              "#0d0887"
             ],
             [
              0.1111111111111111,
              "#46039f"
             ],
             [
              0.2222222222222222,
              "#7201a8"
             ],
             [
              0.3333333333333333,
              "#9c179e"
             ],
             [
              0.4444444444444444,
              "#bd3786"
             ],
             [
              0.5555555555555556,
              "#d8576b"
             ],
             [
              0.6666666666666666,
              "#ed7953"
             ],
             [
              0.7777777777777778,
              "#fb9f3a"
             ],
             [
              0.8888888888888888,
              "#fdca26"
             ],
             [
              1,
              "#f0f921"
             ]
            ],
            "type": "histogram2dcontour"
           }
          ],
          "mesh3d": [
           {
            "colorbar": {
             "outlinewidth": 0,
             "ticks": ""
            },
            "type": "mesh3d"
           }
          ],
          "parcoords": [
           {
            "line": {
             "colorbar": {
              "outlinewidth": 0,
              "ticks": ""
             }
            },
            "type": "parcoords"
           }
          ],
          "pie": [
           {
            "automargin": true,
            "type": "pie"
           }
          ],
          "scatter": [
           {
            "marker": {
             "line": {
              "color": "#283442"
             }
            },
            "type": "scatter"
           }
          ],
          "scatter3d": [
           {
            "line": {
             "colorbar": {
              "outlinewidth": 0,
              "ticks": ""
             }
            },
            "marker": {
             "colorbar": {
              "outlinewidth": 0,
              "ticks": ""
             }
            },
            "type": "scatter3d"
           }
          ],
          "scattercarpet": [
           {
            "marker": {
             "colorbar": {
              "outlinewidth": 0,
              "ticks": ""
             }
            },
            "type": "scattercarpet"
           }
          ],
          "scattergeo": [
           {
            "marker": {
             "colorbar": {
              "outlinewidth": 0,
              "ticks": ""
             }
            },
            "type": "scattergeo"
           }
          ],
          "scattergl": [
           {
            "marker": {
             "line": {
              "color": "#283442"
             }
            },
            "type": "scattergl"
           }
          ],
          "scattermapbox": [
           {
            "marker": {
             "colorbar": {
              "outlinewidth": 0,
              "ticks": ""
             }
            },
            "type": "scattermapbox"
           }
          ],
          "scatterpolar": [
           {
            "marker": {
             "colorbar": {
              "outlinewidth": 0,
              "ticks": ""
             }
            },
            "type": "scatterpolar"
           }
          ],
          "scatterpolargl": [
           {
            "marker": {
             "colorbar": {
              "outlinewidth": 0,
              "ticks": ""
             }
            },
            "type": "scatterpolargl"
           }
          ],
          "scatterternary": [
           {
            "marker": {
             "colorbar": {
              "outlinewidth": 0,
              "ticks": ""
             }
            },
            "type": "scatterternary"
           }
          ],
          "surface": [
           {
            "colorbar": {
             "outlinewidth": 0,
             "ticks": ""
            },
            "colorscale": [
             [
              0,
              "#0d0887"
             ],
             [
              0.1111111111111111,
              "#46039f"
             ],
             [
              0.2222222222222222,
              "#7201a8"
             ],
             [
              0.3333333333333333,
              "#9c179e"
             ],
             [
              0.4444444444444444,
              "#bd3786"
             ],
             [
              0.5555555555555556,
              "#d8576b"
             ],
             [
              0.6666666666666666,
              "#ed7953"
             ],
             [
              0.7777777777777778,
              "#fb9f3a"
             ],
             [
              0.8888888888888888,
              "#fdca26"
             ],
             [
              1,
              "#f0f921"
             ]
            ],
            "type": "surface"
           }
          ],
          "table": [
           {
            "cells": {
             "fill": {
              "color": "#506784"
             },
             "line": {
              "color": "rgb(17,17,17)"
             }
            },
            "header": {
             "fill": {
              "color": "#2a3f5f"
             },
             "line": {
              "color": "rgb(17,17,17)"
             }
            },
            "type": "table"
           }
          ]
         },
         "layout": {
          "annotationdefaults": {
           "arrowcolor": "#f2f5fa",
           "arrowhead": 0,
           "arrowwidth": 1
          },
          "autotypenumbers": "strict",
          "coloraxis": {
           "colorbar": {
            "outlinewidth": 0,
            "ticks": ""
           }
          },
          "colorscale": {
           "diverging": [
            [
             0,
             "#8e0152"
            ],
            [
             0.1,
             "#c51b7d"
            ],
            [
             0.2,
             "#de77ae"
            ],
            [
             0.3,
             "#f1b6da"
            ],
            [
             0.4,
             "#fde0ef"
            ],
            [
             0.5,
             "#f7f7f7"
            ],
            [
             0.6,
             "#e6f5d0"
            ],
            [
             0.7,
             "#b8e186"
            ],
            [
             0.8,
             "#7fbc41"
            ],
            [
             0.9,
             "#4d9221"
            ],
            [
             1,
             "#276419"
            ]
           ],
           "sequential": [
            [
             0,
             "#0d0887"
            ],
            [
             0.1111111111111111,
             "#46039f"
            ],
            [
             0.2222222222222222,
             "#7201a8"
            ],
            [
             0.3333333333333333,
             "#9c179e"
            ],
            [
             0.4444444444444444,
             "#bd3786"
            ],
            [
             0.5555555555555556,
             "#d8576b"
            ],
            [
             0.6666666666666666,
             "#ed7953"
            ],
            [
             0.7777777777777778,
             "#fb9f3a"
            ],
            [
             0.8888888888888888,
             "#fdca26"
            ],
            [
             1,
             "#f0f921"
            ]
           ],
           "sequentialminus": [
            [
             0,
             "#0d0887"
            ],
            [
             0.1111111111111111,
             "#46039f"
            ],
            [
             0.2222222222222222,
             "#7201a8"
            ],
            [
             0.3333333333333333,
             "#9c179e"
            ],
            [
             0.4444444444444444,
             "#bd3786"
            ],
            [
             0.5555555555555556,
             "#d8576b"
            ],
            [
             0.6666666666666666,
             "#ed7953"
            ],
            [
             0.7777777777777778,
             "#fb9f3a"
            ],
            [
             0.8888888888888888,
             "#fdca26"
            ],
            [
             1,
             "#f0f921"
            ]
           ]
          },
          "colorway": [
           "#636efa",
           "#EF553B",
           "#00cc96",
           "#ab63fa",
           "#FFA15A",
           "#19d3f3",
           "#FF6692",
           "#B6E880",
           "#FF97FF",
           "#FECB52"
          ],
          "font": {
           "color": "#f2f5fa"
          },
          "geo": {
           "bgcolor": "rgb(17,17,17)",
           "lakecolor": "rgb(17,17,17)",
           "landcolor": "rgb(17,17,17)",
           "showlakes": true,
           "showland": true,
           "subunitcolor": "#506784"
          },
          "hoverlabel": {
           "align": "left"
          },
          "hovermode": "closest",
          "mapbox": {
           "style": "dark"
          },
          "paper_bgcolor": "rgb(17,17,17)",
          "plot_bgcolor": "rgb(17,17,17)",
          "polar": {
           "angularaxis": {
            "gridcolor": "#506784",
            "linecolor": "#506784",
            "ticks": ""
           },
           "bgcolor": "rgb(17,17,17)",
           "radialaxis": {
            "gridcolor": "#506784",
            "linecolor": "#506784",
            "ticks": ""
           }
          },
          "scene": {
           "xaxis": {
            "backgroundcolor": "rgb(17,17,17)",
            "gridcolor": "#506784",
            "gridwidth": 2,
            "linecolor": "#506784",
            "showbackground": true,
            "ticks": "",
            "zerolinecolor": "#C8D4E3"
           },
           "yaxis": {
            "backgroundcolor": "rgb(17,17,17)",
            "gridcolor": "#506784",
            "gridwidth": 2,
            "linecolor": "#506784",
            "showbackground": true,
            "ticks": "",
            "zerolinecolor": "#C8D4E3"
           },
           "zaxis": {
            "backgroundcolor": "rgb(17,17,17)",
            "gridcolor": "#506784",
            "gridwidth": 2,
            "linecolor": "#506784",
            "showbackground": true,
            "ticks": "",
            "zerolinecolor": "#C8D4E3"
           }
          },
          "shapedefaults": {
           "line": {
            "color": "#f2f5fa"
           }
          },
          "sliderdefaults": {
           "bgcolor": "#C8D4E3",
           "bordercolor": "rgb(17,17,17)",
           "borderwidth": 1,
           "tickwidth": 0
          },
          "ternary": {
           "aaxis": {
            "gridcolor": "#506784",
            "linecolor": "#506784",
            "ticks": ""
           },
           "baxis": {
            "gridcolor": "#506784",
            "linecolor": "#506784",
            "ticks": ""
           },
           "bgcolor": "rgb(17,17,17)",
           "caxis": {
            "gridcolor": "#506784",
            "linecolor": "#506784",
            "ticks": ""
           }
          },
          "title": {
           "x": 0.05
          },
          "updatemenudefaults": {
           "bgcolor": "#506784",
           "borderwidth": 0
          },
          "xaxis": {
           "automargin": true,
           "gridcolor": "#283442",
           "linecolor": "#506784",
           "ticks": "",
           "title": {
            "standoff": 15
           },
           "zerolinecolor": "#283442",
           "zerolinewidth": 2
          },
          "yaxis": {
           "automargin": true,
           "gridcolor": "#283442",
           "linecolor": "#506784",
           "ticks": "",
           "title": {
            "standoff": 15
           },
           "zerolinecolor": "#283442",
           "zerolinewidth": 2
          }
         }
        },
        "title": {
         "text": "Return on Assets"
        },
        "xaxis": {
         "anchor": "y",
         "domain": [
          0,
          1
         ],
         "title": {
          "text": "Companies"
         }
        },
        "yaxis": {
         "anchor": "x",
         "domain": [
          0,
          1
         ],
         "title": {
          "text": "Return on Assets (%)"
         }
        }
       }
      }
     },
     "metadata": {},
     "output_type": "display_data"
    }
   ],
   "source": [
    "df_top_companies.sort_values(by = 'return_on_assets', ascending=True, inplace=True)\n",
    "\n",
    "fig_op_margin = px.bar(df_top_companies, title='Return on Assets', x='long_name', y='return_on_assets', color_discrete_sequence=['rgb(100, 195, 181)'], hover_name=df_top_companies.ticker, height=600)\n",
    "fig_op_margin.update_traces(text=[f'{x:.2f}%' for x in (df_top_companies['return_on_assets']*100)], textposition='outside',textfont=dict(color='white'))\n",
    "fig_op_margin.update_layout(xaxis_title='Companies', yaxis_title='Return on Assets (%)', template = 'plotly_dark')\n",
    "fig_op_margin.show()"
   ]
  },
  {
   "cell_type": "markdown",
   "metadata": {},
   "source": [
    "- **`Banco Bradesco S.A.`**: Return on Assets (ROA) of **0.85%**, indicating modest efficiency in utilizing assets to generate profit.\n",
    "- **`Itaúsa S.A.`**: ROA of **0.85%**, mirroring Banco Bradesco in terms of asset profitability.\n",
    "- **`Itaú Unibanco Holding S.A.`**: ROA of **1.42%**, showing slightly better asset utilization for generating earnings.\n",
    "- **`Banco do Brasil S.A.`**: ROA of **1.73%**, suggesting improved profitability from its assets compared to some peers.\n",
    "- **`Banco BTG Pactual S.A.`**: ROA of **1.91%**, indicating relatively efficient asset use in creating profit.\n",
    "- **`Centrais Elétricas Brasileiras S.A. - Eletrobrás`**: ROA of **2.31%**, demonstrating a better return on assets within the energy sector.\n",
    "- **`Telefônica Brasil S.A.`**: ROA of **3.84%**, showing a good level of efficiency in asset utilization.\n",
    "- **`Ambev S.A.`**: ROA of **8.27%**, reflecting a high level of efficiency in generating profit from its assets.\n",
    "- **`Vale S.A.`**: ROA of **9.98%**, indicating a strong performance in terms of asset profitability.\n",
    "- **`WEG S.A.`**: ROA of **13.78%**, showing a very high efficiency in turning assets into profit.\n",
    "- **`Petróleo Brasileiro S.A. - Petrobras`**: ROA of **15.43%**, the highest among the listed companies, signaling exceptional effectiveness in using assets for profit generation.\n",
    "\n",
    "**`Conclusion`**\n",
    "- The Return on Assets figures for these companies indicate a wide range of asset utilization efficiencies. Financial institutions such as Banco Bradesco S.A. and Itaúsa S.A. show modest ROA percentages, which could reflect conservative asset management or industry norms. Conversely, Petrobras leads with a remarkable 15.43% ROA, highlighting exceptional asset profitability, which may be indicative of strategic asset utilization or industry-specific factors. Overall, companies like WEG S.A. and Vale S.A. also demonstrate strong ROA, suggesting robust financial management practices.\n"
   ]
  },
  {
   "cell_type": "code",
   "execution_count": 54,
   "metadata": {},
   "outputs": [
    {
     "data": {
      "application/vnd.plotly.v1+json": {
       "config": {
        "plotlyServerURL": "https://plot.ly"
       },
       "data": [
        {
         "alignmentgroup": "True",
         "hovertemplate": "<b>%{hovertext}</b><br><br>long_name=%{x}<br>return_on_equity=%{y}<extra></extra>",
         "hovertext": [
          "ELET3.SA",
          "VIVT3.SA",
          "BBDC4.SA",
          "ABEV3.SA",
          "ITSA4.SA",
          "BPAC5.SA",
          "ITUB4.SA",
          "BBAS3.SA",
          "VALE3.SA",
          "WEGE3.SA",
          "PETR3.SA"
         ],
         "legendgroup": "",
         "marker": {
          "color": "rgb(100, 195, 181)",
          "pattern": {
           "shape": ""
          }
         },
         "name": "",
         "offsetgroup": "",
         "orientation": "v",
         "showlegend": false,
         "text": [
          "1.72%",
          "6.61%",
          "9.48%",
          "16.92%",
          "18.05%",
          "18.28%",
          "18.30%",
          "22.47%",
          "29.59%",
          "34.61%",
          "39.99%"
         ],
         "textfont": {
          "color": "white"
         },
         "textposition": "outside",
         "type": "bar",
         "x": [
          "Centrais Elétricas Brasileiras S.A. - Eletrobrás",
          "Telefônica Brasil S.A.",
          "Banco Bradesco S.A.",
          "Ambev S.A.",
          "Itaúsa S.A.",
          "Banco BTG Pactual S.A.",
          "Itaú Unibanco Holding S.A.",
          "Banco do Brasil S.A.",
          "Vale S.A.",
          "WEG S.A.",
          "Petróleo Brasileiro S.A. - Petrobras"
         ],
         "xaxis": "x",
         "y": [
          0.01719,
          0.06606,
          0.09476,
          0.16919,
          0.18054001,
          0.18284,
          0.18295,
          0.22474001,
          0.29588,
          0.34605,
          0.39988
         ],
         "yaxis": "y"
        }
       ],
       "layout": {
        "barmode": "relative",
        "height": 600,
        "legend": {
         "tracegroupgap": 0
        },
        "template": {
         "data": {
          "bar": [
           {
            "error_x": {
             "color": "#f2f5fa"
            },
            "error_y": {
             "color": "#f2f5fa"
            },
            "marker": {
             "line": {
              "color": "rgb(17,17,17)",
              "width": 0.5
             },
             "pattern": {
              "fillmode": "overlay",
              "size": 10,
              "solidity": 0.2
             }
            },
            "type": "bar"
           }
          ],
          "barpolar": [
           {
            "marker": {
             "line": {
              "color": "rgb(17,17,17)",
              "width": 0.5
             },
             "pattern": {
              "fillmode": "overlay",
              "size": 10,
              "solidity": 0.2
             }
            },
            "type": "barpolar"
           }
          ],
          "carpet": [
           {
            "aaxis": {
             "endlinecolor": "#A2B1C6",
             "gridcolor": "#506784",
             "linecolor": "#506784",
             "minorgridcolor": "#506784",
             "startlinecolor": "#A2B1C6"
            },
            "baxis": {
             "endlinecolor": "#A2B1C6",
             "gridcolor": "#506784",
             "linecolor": "#506784",
             "minorgridcolor": "#506784",
             "startlinecolor": "#A2B1C6"
            },
            "type": "carpet"
           }
          ],
          "choropleth": [
           {
            "colorbar": {
             "outlinewidth": 0,
             "ticks": ""
            },
            "type": "choropleth"
           }
          ],
          "contour": [
           {
            "colorbar": {
             "outlinewidth": 0,
             "ticks": ""
            },
            "colorscale": [
             [
              0,
              "#0d0887"
             ],
             [
              0.1111111111111111,
              "#46039f"
             ],
             [
              0.2222222222222222,
              "#7201a8"
             ],
             [
              0.3333333333333333,
              "#9c179e"
             ],
             [
              0.4444444444444444,
              "#bd3786"
             ],
             [
              0.5555555555555556,
              "#d8576b"
             ],
             [
              0.6666666666666666,
              "#ed7953"
             ],
             [
              0.7777777777777778,
              "#fb9f3a"
             ],
             [
              0.8888888888888888,
              "#fdca26"
             ],
             [
              1,
              "#f0f921"
             ]
            ],
            "type": "contour"
           }
          ],
          "contourcarpet": [
           {
            "colorbar": {
             "outlinewidth": 0,
             "ticks": ""
            },
            "type": "contourcarpet"
           }
          ],
          "heatmap": [
           {
            "colorbar": {
             "outlinewidth": 0,
             "ticks": ""
            },
            "colorscale": [
             [
              0,
              "#0d0887"
             ],
             [
              0.1111111111111111,
              "#46039f"
             ],
             [
              0.2222222222222222,
              "#7201a8"
             ],
             [
              0.3333333333333333,
              "#9c179e"
             ],
             [
              0.4444444444444444,
              "#bd3786"
             ],
             [
              0.5555555555555556,
              "#d8576b"
             ],
             [
              0.6666666666666666,
              "#ed7953"
             ],
             [
              0.7777777777777778,
              "#fb9f3a"
             ],
             [
              0.8888888888888888,
              "#fdca26"
             ],
             [
              1,
              "#f0f921"
             ]
            ],
            "type": "heatmap"
           }
          ],
          "heatmapgl": [
           {
            "colorbar": {
             "outlinewidth": 0,
             "ticks": ""
            },
            "colorscale": [
             [
              0,
              "#0d0887"
             ],
             [
              0.1111111111111111,
              "#46039f"
             ],
             [
              0.2222222222222222,
              "#7201a8"
             ],
             [
              0.3333333333333333,
              "#9c179e"
             ],
             [
              0.4444444444444444,
              "#bd3786"
             ],
             [
              0.5555555555555556,
              "#d8576b"
             ],
             [
              0.6666666666666666,
              "#ed7953"
             ],
             [
              0.7777777777777778,
              "#fb9f3a"
             ],
             [
              0.8888888888888888,
              "#fdca26"
             ],
             [
              1,
              "#f0f921"
             ]
            ],
            "type": "heatmapgl"
           }
          ],
          "histogram": [
           {
            "marker": {
             "pattern": {
              "fillmode": "overlay",
              "size": 10,
              "solidity": 0.2
             }
            },
            "type": "histogram"
           }
          ],
          "histogram2d": [
           {
            "colorbar": {
             "outlinewidth": 0,
             "ticks": ""
            },
            "colorscale": [
             [
              0,
              "#0d0887"
             ],
             [
              0.1111111111111111,
              "#46039f"
             ],
             [
              0.2222222222222222,
              "#7201a8"
             ],
             [
              0.3333333333333333,
              "#9c179e"
             ],
             [
              0.4444444444444444,
              "#bd3786"
             ],
             [
              0.5555555555555556,
              "#d8576b"
             ],
             [
              0.6666666666666666,
              "#ed7953"
             ],
             [
              0.7777777777777778,
              "#fb9f3a"
             ],
             [
              0.8888888888888888,
              "#fdca26"
             ],
             [
              1,
              "#f0f921"
             ]
            ],
            "type": "histogram2d"
           }
          ],
          "histogram2dcontour": [
           {
            "colorbar": {
             "outlinewidth": 0,
             "ticks": ""
            },
            "colorscale": [
             [
              0,
              "#0d0887"
             ],
             [
              0.1111111111111111,
              "#46039f"
             ],
             [
              0.2222222222222222,
              "#7201a8"
             ],
             [
              0.3333333333333333,
              "#9c179e"
             ],
             [
              0.4444444444444444,
              "#bd3786"
             ],
             [
              0.5555555555555556,
              "#d8576b"
             ],
             [
              0.6666666666666666,
              "#ed7953"
             ],
             [
              0.7777777777777778,
              "#fb9f3a"
             ],
             [
              0.8888888888888888,
              "#fdca26"
             ],
             [
              1,
              "#f0f921"
             ]
            ],
            "type": "histogram2dcontour"
           }
          ],
          "mesh3d": [
           {
            "colorbar": {
             "outlinewidth": 0,
             "ticks": ""
            },
            "type": "mesh3d"
           }
          ],
          "parcoords": [
           {
            "line": {
             "colorbar": {
              "outlinewidth": 0,
              "ticks": ""
             }
            },
            "type": "parcoords"
           }
          ],
          "pie": [
           {
            "automargin": true,
            "type": "pie"
           }
          ],
          "scatter": [
           {
            "marker": {
             "line": {
              "color": "#283442"
             }
            },
            "type": "scatter"
           }
          ],
          "scatter3d": [
           {
            "line": {
             "colorbar": {
              "outlinewidth": 0,
              "ticks": ""
             }
            },
            "marker": {
             "colorbar": {
              "outlinewidth": 0,
              "ticks": ""
             }
            },
            "type": "scatter3d"
           }
          ],
          "scattercarpet": [
           {
            "marker": {
             "colorbar": {
              "outlinewidth": 0,
              "ticks": ""
             }
            },
            "type": "scattercarpet"
           }
          ],
          "scattergeo": [
           {
            "marker": {
             "colorbar": {
              "outlinewidth": 0,
              "ticks": ""
             }
            },
            "type": "scattergeo"
           }
          ],
          "scattergl": [
           {
            "marker": {
             "line": {
              "color": "#283442"
             }
            },
            "type": "scattergl"
           }
          ],
          "scattermapbox": [
           {
            "marker": {
             "colorbar": {
              "outlinewidth": 0,
              "ticks": ""
             }
            },
            "type": "scattermapbox"
           }
          ],
          "scatterpolar": [
           {
            "marker": {
             "colorbar": {
              "outlinewidth": 0,
              "ticks": ""
             }
            },
            "type": "scatterpolar"
           }
          ],
          "scatterpolargl": [
           {
            "marker": {
             "colorbar": {
              "outlinewidth": 0,
              "ticks": ""
             }
            },
            "type": "scatterpolargl"
           }
          ],
          "scatterternary": [
           {
            "marker": {
             "colorbar": {
              "outlinewidth": 0,
              "ticks": ""
             }
            },
            "type": "scatterternary"
           }
          ],
          "surface": [
           {
            "colorbar": {
             "outlinewidth": 0,
             "ticks": ""
            },
            "colorscale": [
             [
              0,
              "#0d0887"
             ],
             [
              0.1111111111111111,
              "#46039f"
             ],
             [
              0.2222222222222222,
              "#7201a8"
             ],
             [
              0.3333333333333333,
              "#9c179e"
             ],
             [
              0.4444444444444444,
              "#bd3786"
             ],
             [
              0.5555555555555556,
              "#d8576b"
             ],
             [
              0.6666666666666666,
              "#ed7953"
             ],
             [
              0.7777777777777778,
              "#fb9f3a"
             ],
             [
              0.8888888888888888,
              "#fdca26"
             ],
             [
              1,
              "#f0f921"
             ]
            ],
            "type": "surface"
           }
          ],
          "table": [
           {
            "cells": {
             "fill": {
              "color": "#506784"
             },
             "line": {
              "color": "rgb(17,17,17)"
             }
            },
            "header": {
             "fill": {
              "color": "#2a3f5f"
             },
             "line": {
              "color": "rgb(17,17,17)"
             }
            },
            "type": "table"
           }
          ]
         },
         "layout": {
          "annotationdefaults": {
           "arrowcolor": "#f2f5fa",
           "arrowhead": 0,
           "arrowwidth": 1
          },
          "autotypenumbers": "strict",
          "coloraxis": {
           "colorbar": {
            "outlinewidth": 0,
            "ticks": ""
           }
          },
          "colorscale": {
           "diverging": [
            [
             0,
             "#8e0152"
            ],
            [
             0.1,
             "#c51b7d"
            ],
            [
             0.2,
             "#de77ae"
            ],
            [
             0.3,
             "#f1b6da"
            ],
            [
             0.4,
             "#fde0ef"
            ],
            [
             0.5,
             "#f7f7f7"
            ],
            [
             0.6,
             "#e6f5d0"
            ],
            [
             0.7,
             "#b8e186"
            ],
            [
             0.8,
             "#7fbc41"
            ],
            [
             0.9,
             "#4d9221"
            ],
            [
             1,
             "#276419"
            ]
           ],
           "sequential": [
            [
             0,
             "#0d0887"
            ],
            [
             0.1111111111111111,
             "#46039f"
            ],
            [
             0.2222222222222222,
             "#7201a8"
            ],
            [
             0.3333333333333333,
             "#9c179e"
            ],
            [
             0.4444444444444444,
             "#bd3786"
            ],
            [
             0.5555555555555556,
             "#d8576b"
            ],
            [
             0.6666666666666666,
             "#ed7953"
            ],
            [
             0.7777777777777778,
             "#fb9f3a"
            ],
            [
             0.8888888888888888,
             "#fdca26"
            ],
            [
             1,
             "#f0f921"
            ]
           ],
           "sequentialminus": [
            [
             0,
             "#0d0887"
            ],
            [
             0.1111111111111111,
             "#46039f"
            ],
            [
             0.2222222222222222,
             "#7201a8"
            ],
            [
             0.3333333333333333,
             "#9c179e"
            ],
            [
             0.4444444444444444,
             "#bd3786"
            ],
            [
             0.5555555555555556,
             "#d8576b"
            ],
            [
             0.6666666666666666,
             "#ed7953"
            ],
            [
             0.7777777777777778,
             "#fb9f3a"
            ],
            [
             0.8888888888888888,
             "#fdca26"
            ],
            [
             1,
             "#f0f921"
            ]
           ]
          },
          "colorway": [
           "#636efa",
           "#EF553B",
           "#00cc96",
           "#ab63fa",
           "#FFA15A",
           "#19d3f3",
           "#FF6692",
           "#B6E880",
           "#FF97FF",
           "#FECB52"
          ],
          "font": {
           "color": "#f2f5fa"
          },
          "geo": {
           "bgcolor": "rgb(17,17,17)",
           "lakecolor": "rgb(17,17,17)",
           "landcolor": "rgb(17,17,17)",
           "showlakes": true,
           "showland": true,
           "subunitcolor": "#506784"
          },
          "hoverlabel": {
           "align": "left"
          },
          "hovermode": "closest",
          "mapbox": {
           "style": "dark"
          },
          "paper_bgcolor": "rgb(17,17,17)",
          "plot_bgcolor": "rgb(17,17,17)",
          "polar": {
           "angularaxis": {
            "gridcolor": "#506784",
            "linecolor": "#506784",
            "ticks": ""
           },
           "bgcolor": "rgb(17,17,17)",
           "radialaxis": {
            "gridcolor": "#506784",
            "linecolor": "#506784",
            "ticks": ""
           }
          },
          "scene": {
           "xaxis": {
            "backgroundcolor": "rgb(17,17,17)",
            "gridcolor": "#506784",
            "gridwidth": 2,
            "linecolor": "#506784",
            "showbackground": true,
            "ticks": "",
            "zerolinecolor": "#C8D4E3"
           },
           "yaxis": {
            "backgroundcolor": "rgb(17,17,17)",
            "gridcolor": "#506784",
            "gridwidth": 2,
            "linecolor": "#506784",
            "showbackground": true,
            "ticks": "",
            "zerolinecolor": "#C8D4E3"
           },
           "zaxis": {
            "backgroundcolor": "rgb(17,17,17)",
            "gridcolor": "#506784",
            "gridwidth": 2,
            "linecolor": "#506784",
            "showbackground": true,
            "ticks": "",
            "zerolinecolor": "#C8D4E3"
           }
          },
          "shapedefaults": {
           "line": {
            "color": "#f2f5fa"
           }
          },
          "sliderdefaults": {
           "bgcolor": "#C8D4E3",
           "bordercolor": "rgb(17,17,17)",
           "borderwidth": 1,
           "tickwidth": 0
          },
          "ternary": {
           "aaxis": {
            "gridcolor": "#506784",
            "linecolor": "#506784",
            "ticks": ""
           },
           "baxis": {
            "gridcolor": "#506784",
            "linecolor": "#506784",
            "ticks": ""
           },
           "bgcolor": "rgb(17,17,17)",
           "caxis": {
            "gridcolor": "#506784",
            "linecolor": "#506784",
            "ticks": ""
           }
          },
          "title": {
           "x": 0.05
          },
          "updatemenudefaults": {
           "bgcolor": "#506784",
           "borderwidth": 0
          },
          "xaxis": {
           "automargin": true,
           "gridcolor": "#283442",
           "linecolor": "#506784",
           "ticks": "",
           "title": {
            "standoff": 15
           },
           "zerolinecolor": "#283442",
           "zerolinewidth": 2
          },
          "yaxis": {
           "automargin": true,
           "gridcolor": "#283442",
           "linecolor": "#506784",
           "ticks": "",
           "title": {
            "standoff": 15
           },
           "zerolinecolor": "#283442",
           "zerolinewidth": 2
          }
         }
        },
        "title": {
         "text": "Return on Equity"
        },
        "xaxis": {
         "anchor": "y",
         "domain": [
          0,
          1
         ],
         "title": {
          "text": "Companies"
         }
        },
        "yaxis": {
         "anchor": "x",
         "domain": [
          0,
          1
         ],
         "title": {
          "text": "Return on Equity (%)"
         }
        }
       }
      }
     },
     "metadata": {},
     "output_type": "display_data"
    }
   ],
   "source": [
    "df_top_companies.sort_values(by = 'return_on_equity', ascending=True, inplace=True)\n",
    "\n",
    "fig_op_margin = px.bar(df_top_companies, title='Return on Equity', x='long_name', y='return_on_equity', color_discrete_sequence=['rgb(100, 195, 181)'], hover_name=df_top_companies.ticker, height=600)\n",
    "fig_op_margin.update_traces(text=[f'{x:.2f}%' for x in (df_top_companies['return_on_equity']*100)], textposition='outside',textfont=dict(color='white'))\n",
    "fig_op_margin.update_layout(xaxis_title='Companies', yaxis_title='Return on Equity (%)', template = 'plotly_dark')\n",
    "fig_op_margin.show()"
   ]
  },
  {
   "cell_type": "markdown",
   "metadata": {},
   "source": [
    "- **`Centrais Elétricas Brasileiras S.A. - Eletrobrás`**: Return on Equity (ROE) of **1.72%**, showing low profitability relative to shareholder equity.\n",
    "- **`Telefônica Brasil S.A.`**: ROE of **6.61%**, indicating modest profitability from shareholders' perspective.\n",
    "- **`Banco Bradesco S.A.`**: ROE of **9.48%**, suggesting a moderate return on shareholder investment.\n",
    "- **`Ambev S.A.`**: ROE of **16.92%**, representing a strong return on equity, reflecting efficient use of investment capital.\n",
    "- **`Itaúsa S.A.`**: ROE of **18.05%**, indicating a strong performance in generating profit relative to shareholder equity.\n",
    "- **`Banco BTG Pactual S.A.`**: ROE of **18.28%**, which is a robust indicator of profitability from shareholders' equity.\n",
    "- **`Itaú Unibanco Holding S.A.`**: ROE of **18.30%**, demonstrating similar profitability levels to Banco BTG Pactual S.A.\n",
    "- **`Banco do Brasil S.A.`**: ROE of **22.47%**, showing a higher return on equity, which may suggest effective use of equity capital.\n",
    "- **`Vale S.A.`**: ROE of **29.59%**, indicating a very high level of profitability from shareholders' equity.\n",
    "- **`WEG S.A.`**: ROE of **34.61%**, reflecting a very efficient generation of profit from shareholders' investment.\n",
    "- **`Petróleo Brasileiro S.A. - Petrobras`**: ROE of **39.99%**, the highest among the listed companies, showcasing exceptional profitability in relation to shareholder equity.\n",
    "\n",
    "**`Conclusion`**\n",
    "\n",
    "- The Return on Equity figures indicate varying levels of profitability across these companies, with Petrobras leading significantly, demonstrating its capacity to generate earnings from shareholders' equity. This metric is crucial as it indicates how effectively a company can convert the money it has raised from shareholders into net income. The financial sector, represented by Banco do Brasil S.A., Itaú Unibanco Holding S.A., and Banco BTG Pactual S.A., shows strong returns, whereas Eletrobrás presents the lowest ROE, which may reflect industry challenges or operational inefficiencies.\n"
   ]
  },
  {
   "cell_type": "code",
   "execution_count": 62,
   "metadata": {},
   "outputs": [
    {
     "data": {
      "application/vnd.plotly.v1+json": {
       "config": {
        "plotlyServerURL": "https://plot.ly"
       },
       "data": [
        {
         "alignmentgroup": "True",
         "hovertemplate": "<b>%{hovertext}</b><br><br>long_name=%{x}<br>debt_to_equity=%{y}<extra></extra>",
         "hovertext": [
          "ITSA4.SA",
          "ITUB4.SA",
          "BBDC4.SA",
          "VALE3.SA",
          "VIVT3.SA",
          "ELET3.SA",
          "PETR3.SA",
          "BBAS3.SA",
          "ABEV3.SA",
          "WEGE3.SA",
          "BPAC5.SA"
         ],
         "legendgroup": "",
         "marker": {
          "color": "rgb(100, 195, 181)",
          "pattern": {
           "shape": ""
          }
         },
         "name": "",
         "offsetgroup": "",
         "orientation": "v",
         "showlegend": false,
         "text": [
          "R$-2.35",
          "R$-1.91",
          "R$-1.59",
          "R$-1.44",
          "R$-1.42",
          "R$-1.37",
          "R$-1.28",
          "R$-1.10",
          "R$0.49",
          "R$1.57",
          "R$521.86"
         ],
         "textfont": {
          "color": "white"
         },
         "textposition": "outside",
         "type": "bar",
         "x": [
          "Itaúsa S.A.",
          "Itaú Unibanco Holding S.A.",
          "Banco Bradesco S.A.",
          "Vale S.A.",
          "Telefônica Brasil S.A.",
          "Centrais Elétricas Brasileiras S.A. - Eletrobrás",
          "Petróleo Brasileiro S.A. - Petrobras",
          "Banco do Brasil S.A.",
          "Ambev S.A.",
          "WEG S.A.",
          "Banco BTG Pactual S.A."
         ],
         "xaxis": "x",
         "y": [
          -2.35073700234021,
          -1.911293782922712,
          -1.5921700082715002,
          -1.4398272538031098,
          -1.416742875088736,
          -1.3682225065235236,
          -1.2792481501487474,
          -1.1008538788047155,
          0.491491501995891,
          1.5682880365785528,
          521.8558856323649
         ],
         "yaxis": "y"
        }
       ],
       "layout": {
        "barmode": "relative",
        "height": 600,
        "legend": {
         "tracegroupgap": 0
        },
        "template": {
         "data": {
          "bar": [
           {
            "error_x": {
             "color": "#f2f5fa"
            },
            "error_y": {
             "color": "#f2f5fa"
            },
            "marker": {
             "line": {
              "color": "rgb(17,17,17)",
              "width": 0.5
             },
             "pattern": {
              "fillmode": "overlay",
              "size": 10,
              "solidity": 0.2
             }
            },
            "type": "bar"
           }
          ],
          "barpolar": [
           {
            "marker": {
             "line": {
              "color": "rgb(17,17,17)",
              "width": 0.5
             },
             "pattern": {
              "fillmode": "overlay",
              "size": 10,
              "solidity": 0.2
             }
            },
            "type": "barpolar"
           }
          ],
          "carpet": [
           {
            "aaxis": {
             "endlinecolor": "#A2B1C6",
             "gridcolor": "#506784",
             "linecolor": "#506784",
             "minorgridcolor": "#506784",
             "startlinecolor": "#A2B1C6"
            },
            "baxis": {
             "endlinecolor": "#A2B1C6",
             "gridcolor": "#506784",
             "linecolor": "#506784",
             "minorgridcolor": "#506784",
             "startlinecolor": "#A2B1C6"
            },
            "type": "carpet"
           }
          ],
          "choropleth": [
           {
            "colorbar": {
             "outlinewidth": 0,
             "ticks": ""
            },
            "type": "choropleth"
           }
          ],
          "contour": [
           {
            "colorbar": {
             "outlinewidth": 0,
             "ticks": ""
            },
            "colorscale": [
             [
              0,
              "#0d0887"
             ],
             [
              0.1111111111111111,
              "#46039f"
             ],
             [
              0.2222222222222222,
              "#7201a8"
             ],
             [
              0.3333333333333333,
              "#9c179e"
             ],
             [
              0.4444444444444444,
              "#bd3786"
             ],
             [
              0.5555555555555556,
              "#d8576b"
             ],
             [
              0.6666666666666666,
              "#ed7953"
             ],
             [
              0.7777777777777778,
              "#fb9f3a"
             ],
             [
              0.8888888888888888,
              "#fdca26"
             ],
             [
              1,
              "#f0f921"
             ]
            ],
            "type": "contour"
           }
          ],
          "contourcarpet": [
           {
            "colorbar": {
             "outlinewidth": 0,
             "ticks": ""
            },
            "type": "contourcarpet"
           }
          ],
          "heatmap": [
           {
            "colorbar": {
             "outlinewidth": 0,
             "ticks": ""
            },
            "colorscale": [
             [
              0,
              "#0d0887"
             ],
             [
              0.1111111111111111,
              "#46039f"
             ],
             [
              0.2222222222222222,
              "#7201a8"
             ],
             [
              0.3333333333333333,
              "#9c179e"
             ],
             [
              0.4444444444444444,
              "#bd3786"
             ],
             [
              0.5555555555555556,
              "#d8576b"
             ],
             [
              0.6666666666666666,
              "#ed7953"
             ],
             [
              0.7777777777777778,
              "#fb9f3a"
             ],
             [
              0.8888888888888888,
              "#fdca26"
             ],
             [
              1,
              "#f0f921"
             ]
            ],
            "type": "heatmap"
           }
          ],
          "heatmapgl": [
           {
            "colorbar": {
             "outlinewidth": 0,
             "ticks": ""
            },
            "colorscale": [
             [
              0,
              "#0d0887"
             ],
             [
              0.1111111111111111,
              "#46039f"
             ],
             [
              0.2222222222222222,
              "#7201a8"
             ],
             [
              0.3333333333333333,
              "#9c179e"
             ],
             [
              0.4444444444444444,
              "#bd3786"
             ],
             [
              0.5555555555555556,
              "#d8576b"
             ],
             [
              0.6666666666666666,
              "#ed7953"
             ],
             [
              0.7777777777777778,
              "#fb9f3a"
             ],
             [
              0.8888888888888888,
              "#fdca26"
             ],
             [
              1,
              "#f0f921"
             ]
            ],
            "type": "heatmapgl"
           }
          ],
          "histogram": [
           {
            "marker": {
             "pattern": {
              "fillmode": "overlay",
              "size": 10,
              "solidity": 0.2
             }
            },
            "type": "histogram"
           }
          ],
          "histogram2d": [
           {
            "colorbar": {
             "outlinewidth": 0,
             "ticks": ""
            },
            "colorscale": [
             [
              0,
              "#0d0887"
             ],
             [
              0.1111111111111111,
              "#46039f"
             ],
             [
              0.2222222222222222,
              "#7201a8"
             ],
             [
              0.3333333333333333,
              "#9c179e"
             ],
             [
              0.4444444444444444,
              "#bd3786"
             ],
             [
              0.5555555555555556,
              "#d8576b"
             ],
             [
              0.6666666666666666,
              "#ed7953"
             ],
             [
              0.7777777777777778,
              "#fb9f3a"
             ],
             [
              0.8888888888888888,
              "#fdca26"
             ],
             [
              1,
              "#f0f921"
             ]
            ],
            "type": "histogram2d"
           }
          ],
          "histogram2dcontour": [
           {
            "colorbar": {
             "outlinewidth": 0,
             "ticks": ""
            },
            "colorscale": [
             [
              0,
              "#0d0887"
             ],
             [
              0.1111111111111111,
              "#46039f"
             ],
             [
              0.2222222222222222,
              "#7201a8"
             ],
             [
              0.3333333333333333,
              "#9c179e"
             ],
             [
              0.4444444444444444,
              "#bd3786"
             ],
             [
              0.5555555555555556,
              "#d8576b"
             ],
             [
              0.6666666666666666,
              "#ed7953"
             ],
             [
              0.7777777777777778,
              "#fb9f3a"
             ],
             [
              0.8888888888888888,
              "#fdca26"
             ],
             [
              1,
              "#f0f921"
             ]
            ],
            "type": "histogram2dcontour"
           }
          ],
          "mesh3d": [
           {
            "colorbar": {
             "outlinewidth": 0,
             "ticks": ""
            },
            "type": "mesh3d"
           }
          ],
          "parcoords": [
           {
            "line": {
             "colorbar": {
              "outlinewidth": 0,
              "ticks": ""
             }
            },
            "type": "parcoords"
           }
          ],
          "pie": [
           {
            "automargin": true,
            "type": "pie"
           }
          ],
          "scatter": [
           {
            "marker": {
             "line": {
              "color": "#283442"
             }
            },
            "type": "scatter"
           }
          ],
          "scatter3d": [
           {
            "line": {
             "colorbar": {
              "outlinewidth": 0,
              "ticks": ""
             }
            },
            "marker": {
             "colorbar": {
              "outlinewidth": 0,
              "ticks": ""
             }
            },
            "type": "scatter3d"
           }
          ],
          "scattercarpet": [
           {
            "marker": {
             "colorbar": {
              "outlinewidth": 0,
              "ticks": ""
             }
            },
            "type": "scattercarpet"
           }
          ],
          "scattergeo": [
           {
            "marker": {
             "colorbar": {
              "outlinewidth": 0,
              "ticks": ""
             }
            },
            "type": "scattergeo"
           }
          ],
          "scattergl": [
           {
            "marker": {
             "line": {
              "color": "#283442"
             }
            },
            "type": "scattergl"
           }
          ],
          "scattermapbox": [
           {
            "marker": {
             "colorbar": {
              "outlinewidth": 0,
              "ticks": ""
             }
            },
            "type": "scattermapbox"
           }
          ],
          "scatterpolar": [
           {
            "marker": {
             "colorbar": {
              "outlinewidth": 0,
              "ticks": ""
             }
            },
            "type": "scatterpolar"
           }
          ],
          "scatterpolargl": [
           {
            "marker": {
             "colorbar": {
              "outlinewidth": 0,
              "ticks": ""
             }
            },
            "type": "scatterpolargl"
           }
          ],
          "scatterternary": [
           {
            "marker": {
             "colorbar": {
              "outlinewidth": 0,
              "ticks": ""
             }
            },
            "type": "scatterternary"
           }
          ],
          "surface": [
           {
            "colorbar": {
             "outlinewidth": 0,
             "ticks": ""
            },
            "colorscale": [
             [
              0,
              "#0d0887"
             ],
             [
              0.1111111111111111,
              "#46039f"
             ],
             [
              0.2222222222222222,
              "#7201a8"
             ],
             [
              0.3333333333333333,
              "#9c179e"
             ],
             [
              0.4444444444444444,
              "#bd3786"
             ],
             [
              0.5555555555555556,
              "#d8576b"
             ],
             [
              0.6666666666666666,
              "#ed7953"
             ],
             [
              0.7777777777777778,
              "#fb9f3a"
             ],
             [
              0.8888888888888888,
              "#fdca26"
             ],
             [
              1,
              "#f0f921"
             ]
            ],
            "type": "surface"
           }
          ],
          "table": [
           {
            "cells": {
             "fill": {
              "color": "#506784"
             },
             "line": {
              "color": "rgb(17,17,17)"
             }
            },
            "header": {
             "fill": {
              "color": "#2a3f5f"
             },
             "line": {
              "color": "rgb(17,17,17)"
             }
            },
            "type": "table"
           }
          ]
         },
         "layout": {
          "annotationdefaults": {
           "arrowcolor": "#f2f5fa",
           "arrowhead": 0,
           "arrowwidth": 1
          },
          "autotypenumbers": "strict",
          "coloraxis": {
           "colorbar": {
            "outlinewidth": 0,
            "ticks": ""
           }
          },
          "colorscale": {
           "diverging": [
            [
             0,
             "#8e0152"
            ],
            [
             0.1,
             "#c51b7d"
            ],
            [
             0.2,
             "#de77ae"
            ],
            [
             0.3,
             "#f1b6da"
            ],
            [
             0.4,
             "#fde0ef"
            ],
            [
             0.5,
             "#f7f7f7"
            ],
            [
             0.6,
             "#e6f5d0"
            ],
            [
             0.7,
             "#b8e186"
            ],
            [
             0.8,
             "#7fbc41"
            ],
            [
             0.9,
             "#4d9221"
            ],
            [
             1,
             "#276419"
            ]
           ],
           "sequential": [
            [
             0,
             "#0d0887"
            ],
            [
             0.1111111111111111,
             "#46039f"
            ],
            [
             0.2222222222222222,
             "#7201a8"
            ],
            [
             0.3333333333333333,
             "#9c179e"
            ],
            [
             0.4444444444444444,
             "#bd3786"
            ],
            [
             0.5555555555555556,
             "#d8576b"
            ],
            [
             0.6666666666666666,
             "#ed7953"
            ],
            [
             0.7777777777777778,
             "#fb9f3a"
            ],
            [
             0.8888888888888888,
             "#fdca26"
            ],
            [
             1,
             "#f0f921"
            ]
           ],
           "sequentialminus": [
            [
             0,
             "#0d0887"
            ],
            [
             0.1111111111111111,
             "#46039f"
            ],
            [
             0.2222222222222222,
             "#7201a8"
            ],
            [
             0.3333333333333333,
             "#9c179e"
            ],
            [
             0.4444444444444444,
             "#bd3786"
            ],
            [
             0.5555555555555556,
             "#d8576b"
            ],
            [
             0.6666666666666666,
             "#ed7953"
            ],
            [
             0.7777777777777778,
             "#fb9f3a"
            ],
            [
             0.8888888888888888,
             "#fdca26"
            ],
            [
             1,
             "#f0f921"
            ]
           ]
          },
          "colorway": [
           "#636efa",
           "#EF553B",
           "#00cc96",
           "#ab63fa",
           "#FFA15A",
           "#19d3f3",
           "#FF6692",
           "#B6E880",
           "#FF97FF",
           "#FECB52"
          ],
          "font": {
           "color": "#f2f5fa"
          },
          "geo": {
           "bgcolor": "rgb(17,17,17)",
           "lakecolor": "rgb(17,17,17)",
           "landcolor": "rgb(17,17,17)",
           "showlakes": true,
           "showland": true,
           "subunitcolor": "#506784"
          },
          "hoverlabel": {
           "align": "left"
          },
          "hovermode": "closest",
          "mapbox": {
           "style": "dark"
          },
          "paper_bgcolor": "rgb(17,17,17)",
          "plot_bgcolor": "rgb(17,17,17)",
          "polar": {
           "angularaxis": {
            "gridcolor": "#506784",
            "linecolor": "#506784",
            "ticks": ""
           },
           "bgcolor": "rgb(17,17,17)",
           "radialaxis": {
            "gridcolor": "#506784",
            "linecolor": "#506784",
            "ticks": ""
           }
          },
          "scene": {
           "xaxis": {
            "backgroundcolor": "rgb(17,17,17)",
            "gridcolor": "#506784",
            "gridwidth": 2,
            "linecolor": "#506784",
            "showbackground": true,
            "ticks": "",
            "zerolinecolor": "#C8D4E3"
           },
           "yaxis": {
            "backgroundcolor": "rgb(17,17,17)",
            "gridcolor": "#506784",
            "gridwidth": 2,
            "linecolor": "#506784",
            "showbackground": true,
            "ticks": "",
            "zerolinecolor": "#C8D4E3"
           },
           "zaxis": {
            "backgroundcolor": "rgb(17,17,17)",
            "gridcolor": "#506784",
            "gridwidth": 2,
            "linecolor": "#506784",
            "showbackground": true,
            "ticks": "",
            "zerolinecolor": "#C8D4E3"
           }
          },
          "shapedefaults": {
           "line": {
            "color": "#f2f5fa"
           }
          },
          "sliderdefaults": {
           "bgcolor": "#C8D4E3",
           "bordercolor": "rgb(17,17,17)",
           "borderwidth": 1,
           "tickwidth": 0
          },
          "ternary": {
           "aaxis": {
            "gridcolor": "#506784",
            "linecolor": "#506784",
            "ticks": ""
           },
           "baxis": {
            "gridcolor": "#506784",
            "linecolor": "#506784",
            "ticks": ""
           },
           "bgcolor": "rgb(17,17,17)",
           "caxis": {
            "gridcolor": "#506784",
            "linecolor": "#506784",
            "ticks": ""
           }
          },
          "title": {
           "x": 0.05
          },
          "updatemenudefaults": {
           "bgcolor": "#506784",
           "borderwidth": 0
          },
          "xaxis": {
           "automargin": true,
           "gridcolor": "#283442",
           "linecolor": "#506784",
           "ticks": "",
           "title": {
            "standoff": 15
           },
           "zerolinecolor": "#283442",
           "zerolinewidth": 2
          },
          "yaxis": {
           "automargin": true,
           "gridcolor": "#283442",
           "linecolor": "#506784",
           "ticks": "",
           "title": {
            "standoff": 15
           },
           "zerolinecolor": "#283442",
           "zerolinewidth": 2
          }
         }
        },
        "title": {
         "text": "Debt to Equity"
        },
        "xaxis": {
         "anchor": "y",
         "domain": [
          0,
          1
         ],
         "title": {
          "text": "Companies"
         }
        },
        "yaxis": {
         "anchor": "x",
         "domain": [
          0,
          1
         ],
         "title": {
          "text": "Debt to Equity (%)"
         }
        }
       }
      }
     },
     "metadata": {},
     "output_type": "display_data"
    }
   ],
   "source": [
    "df_top_companies.sort_values(by = 'debt_to_equity', ascending=True, inplace=True)\n",
    "\n",
    "fig_op_margin = px.bar(df_top_companies, title='Debt to Equity', x='long_name', y='debt_to_equity', color_discrete_sequence=['rgb(100, 195, 181)'], hover_name=df_top_companies.ticker, height=600)\n",
    "fig_op_margin.update_traces(text=[f'R${x:.2f}' for x in (df_top_companies['debt_to_equity'])], textposition='outside',textfont=dict(color='white'))\n",
    "fig_op_margin.update_layout(xaxis_title='Companies', yaxis_title='Debt to Equity (%)', template = 'plotly_dark')\n",
    "fig_op_margin.show()"
   ]
  },
  {
   "cell_type": "markdown",
   "metadata": {},
   "source": [
    "- **`Itaúsa S.A.`**: Debt to Equity ratio of **R\\$ -2.35**, which typically indicates negative debt or that the company has more equity than debt.\n",
    "- **`Itaú Unibanco Holding S.A.`**: Debt to Equity ratio of **R\\$ -1.91**, suggesting that the company's equity exceeds its debt significantly.\n",
    "- **`Banco Bradesco S.A.`**: Debt to Equity ratio of **R\\$ -1.59**, also indicating that equity surpasses debt.\n",
    "- **`Vale S.A.`**: Debt to Equity ratio of **R\\$ -1.44**, pointing towards a more equity-heavy capital structure.\n",
    "- **`Telefônica Brasil S.A.`**: Debt to Equity ratio of **R\\$ -1.42**, showing a strong equity position relative to debt.\n",
    "- **`Centrais Elétricas Brasileiras S.A. - Eletrobrás`**: Debt to Equity ratio of **R\\$ -1.37**, which also suggests a higher proportion of equity in the company's capital structure.\n",
    "- **`Petróleo Brasileiro S.A. - Petrobras`**: Debt to Equity ratio of **R\\$ -1.28**, indicating a solid equity base.\n",
    "- **`Banco do Brasil S.A.`**: Debt to Equity ratio of **R\\$ -1.10**, suggesting that the company's financial structure is more reliant on equity.\n",
    "- **`Ambev S.A.`**: Debt to Equity ratio of **R\\$ 0.49**, showing that the company has a balanced proportion of debt and equity.\n",
    "- **`WEG S.A.`**: Debt to Equity ratio of **R\\$ 1.57**, indicating the company has slightly more debt than equity.\n",
    "- **`Banco BTG Pactual S.A.`**: Debt to Equity ratio of **R\\$ 521.86**, which is extraordinarily high, suggesting that the company is highly leveraged, using much more debt to finance its growth compared to equity.\n",
    "\n",
    "**`Conclusion`**:\n",
    "\n",
    "- The Debt to Equity ratios of these companies show a diverse range of financing strategies. Most companies, particularly those in the banking and financial sectors like Itaúsa S.A. and Itaú Unibanco Holding S.A., report negative ratios, which implies they have more equity than debt. Ambev S.A. maintains a balanced capital structure, while Banco BTG Pactual S.A. stands out with a highly leveraged position. This may reflect aggressive growth strategies, potentially higher risk, and the financial industry's unique leverage dynamics.\n"
   ]
  },
  {
   "cell_type": "code",
   "execution_count": 64,
   "metadata": {},
   "outputs": [
    {
     "data": {
      "application/vnd.plotly.v1+json": {
       "config": {
        "plotlyServerURL": "https://plot.ly"
       },
       "data": [
        {
         "alignmentgroup": "True",
         "hovertemplate": "<b>%{hovertext}</b><br><br>long_name=%{x}<br>roce=%{y}<extra></extra>",
         "hovertext": [
          "BBAS3.SA",
          "BBDC4.SA",
          "ITUB4.SA",
          "BPAC5.SA",
          "ITSA4.SA",
          "WEGE3.SA",
          "ELET3.SA",
          "ABEV3.SA",
          "VIVT3.SA",
          "VALE3.SA",
          "PETR3.SA"
         ],
         "legendgroup": "",
         "marker": {
          "color": "rgb(100, 195, 181)",
          "pattern": {
           "shape": ""
          }
         },
         "name": "",
         "offsetgroup": "",
         "orientation": "v",
         "showlegend": false,
         "text": [
          "0.00%",
          "0.00%",
          "0.00%",
          "0.00%",
          "2.24%",
          "4.57%",
          "9.24%",
          "10.86%",
          "15.93%",
          "23.91%",
          "38.17%"
         ],
         "textfont": {
          "color": "white"
         },
         "textposition": "outside",
         "type": "bar",
         "x": [
          "Banco do Brasil S.A.",
          "Banco Bradesco S.A.",
          "Itaú Unibanco Holding S.A.",
          "Banco BTG Pactual S.A.",
          "Itaúsa S.A.",
          "WEG S.A.",
          "Centrais Elétricas Brasileiras S.A. - Eletrobrás",
          "Ambev S.A.",
          "Telefônica Brasil S.A.",
          "Vale S.A.",
          "Petróleo Brasileiro S.A. - Petrobras"
         ],
         "xaxis": "x",
         "y": [
          0,
          0,
          0,
          0,
          0.0224408473114079,
          0.045708206077034,
          0.0923771541497377,
          0.108639745372622,
          0.159319525716694,
          0.2390875566362255,
          0.3817099501622186
         ],
         "yaxis": "y"
        }
       ],
       "layout": {
        "barmode": "relative",
        "height": 600,
        "legend": {
         "tracegroupgap": 0
        },
        "template": {
         "data": {
          "bar": [
           {
            "error_x": {
             "color": "#f2f5fa"
            },
            "error_y": {
             "color": "#f2f5fa"
            },
            "marker": {
             "line": {
              "color": "rgb(17,17,17)",
              "width": 0.5
             },
             "pattern": {
              "fillmode": "overlay",
              "size": 10,
              "solidity": 0.2
             }
            },
            "type": "bar"
           }
          ],
          "barpolar": [
           {
            "marker": {
             "line": {
              "color": "rgb(17,17,17)",
              "width": 0.5
             },
             "pattern": {
              "fillmode": "overlay",
              "size": 10,
              "solidity": 0.2
             }
            },
            "type": "barpolar"
           }
          ],
          "carpet": [
           {
            "aaxis": {
             "endlinecolor": "#A2B1C6",
             "gridcolor": "#506784",
             "linecolor": "#506784",
             "minorgridcolor": "#506784",
             "startlinecolor": "#A2B1C6"
            },
            "baxis": {
             "endlinecolor": "#A2B1C6",
             "gridcolor": "#506784",
             "linecolor": "#506784",
             "minorgridcolor": "#506784",
             "startlinecolor": "#A2B1C6"
            },
            "type": "carpet"
           }
          ],
          "choropleth": [
           {
            "colorbar": {
             "outlinewidth": 0,
             "ticks": ""
            },
            "type": "choropleth"
           }
          ],
          "contour": [
           {
            "colorbar": {
             "outlinewidth": 0,
             "ticks": ""
            },
            "colorscale": [
             [
              0,
              "#0d0887"
             ],
             [
              0.1111111111111111,
              "#46039f"
             ],
             [
              0.2222222222222222,
              "#7201a8"
             ],
             [
              0.3333333333333333,
              "#9c179e"
             ],
             [
              0.4444444444444444,
              "#bd3786"
             ],
             [
              0.5555555555555556,
              "#d8576b"
             ],
             [
              0.6666666666666666,
              "#ed7953"
             ],
             [
              0.7777777777777778,
              "#fb9f3a"
             ],
             [
              0.8888888888888888,
              "#fdca26"
             ],
             [
              1,
              "#f0f921"
             ]
            ],
            "type": "contour"
           }
          ],
          "contourcarpet": [
           {
            "colorbar": {
             "outlinewidth": 0,
             "ticks": ""
            },
            "type": "contourcarpet"
           }
          ],
          "heatmap": [
           {
            "colorbar": {
             "outlinewidth": 0,
             "ticks": ""
            },
            "colorscale": [
             [
              0,
              "#0d0887"
             ],
             [
              0.1111111111111111,
              "#46039f"
             ],
             [
              0.2222222222222222,
              "#7201a8"
             ],
             [
              0.3333333333333333,
              "#9c179e"
             ],
             [
              0.4444444444444444,
              "#bd3786"
             ],
             [
              0.5555555555555556,
              "#d8576b"
             ],
             [
              0.6666666666666666,
              "#ed7953"
             ],
             [
              0.7777777777777778,
              "#fb9f3a"
             ],
             [
              0.8888888888888888,
              "#fdca26"
             ],
             [
              1,
              "#f0f921"
             ]
            ],
            "type": "heatmap"
           }
          ],
          "heatmapgl": [
           {
            "colorbar": {
             "outlinewidth": 0,
             "ticks": ""
            },
            "colorscale": [
             [
              0,
              "#0d0887"
             ],
             [
              0.1111111111111111,
              "#46039f"
             ],
             [
              0.2222222222222222,
              "#7201a8"
             ],
             [
              0.3333333333333333,
              "#9c179e"
             ],
             [
              0.4444444444444444,
              "#bd3786"
             ],
             [
              0.5555555555555556,
              "#d8576b"
             ],
             [
              0.6666666666666666,
              "#ed7953"
             ],
             [
              0.7777777777777778,
              "#fb9f3a"
             ],
             [
              0.8888888888888888,
              "#fdca26"
             ],
             [
              1,
              "#f0f921"
             ]
            ],
            "type": "heatmapgl"
           }
          ],
          "histogram": [
           {
            "marker": {
             "pattern": {
              "fillmode": "overlay",
              "size": 10,
              "solidity": 0.2
             }
            },
            "type": "histogram"
           }
          ],
          "histogram2d": [
           {
            "colorbar": {
             "outlinewidth": 0,
             "ticks": ""
            },
            "colorscale": [
             [
              0,
              "#0d0887"
             ],
             [
              0.1111111111111111,
              "#46039f"
             ],
             [
              0.2222222222222222,
              "#7201a8"
             ],
             [
              0.3333333333333333,
              "#9c179e"
             ],
             [
              0.4444444444444444,
              "#bd3786"
             ],
             [
              0.5555555555555556,
              "#d8576b"
             ],
             [
              0.6666666666666666,
              "#ed7953"
             ],
             [
              0.7777777777777778,
              "#fb9f3a"
             ],
             [
              0.8888888888888888,
              "#fdca26"
             ],
             [
              1,
              "#f0f921"
             ]
            ],
            "type": "histogram2d"
           }
          ],
          "histogram2dcontour": [
           {
            "colorbar": {
             "outlinewidth": 0,
             "ticks": ""
            },
            "colorscale": [
             [
              0,
              "#0d0887"
             ],
             [
              0.1111111111111111,
              "#46039f"
             ],
             [
              0.2222222222222222,
              "#7201a8"
             ],
             [
              0.3333333333333333,
              "#9c179e"
             ],
             [
              0.4444444444444444,
              "#bd3786"
             ],
             [
              0.5555555555555556,
              "#d8576b"
             ],
             [
              0.6666666666666666,
              "#ed7953"
             ],
             [
              0.7777777777777778,
              "#fb9f3a"
             ],
             [
              0.8888888888888888,
              "#fdca26"
             ],
             [
              1,
              "#f0f921"
             ]
            ],
            "type": "histogram2dcontour"
           }
          ],
          "mesh3d": [
           {
            "colorbar": {
             "outlinewidth": 0,
             "ticks": ""
            },
            "type": "mesh3d"
           }
          ],
          "parcoords": [
           {
            "line": {
             "colorbar": {
              "outlinewidth": 0,
              "ticks": ""
             }
            },
            "type": "parcoords"
           }
          ],
          "pie": [
           {
            "automargin": true,
            "type": "pie"
           }
          ],
          "scatter": [
           {
            "marker": {
             "line": {
              "color": "#283442"
             }
            },
            "type": "scatter"
           }
          ],
          "scatter3d": [
           {
            "line": {
             "colorbar": {
              "outlinewidth": 0,
              "ticks": ""
             }
            },
            "marker": {
             "colorbar": {
              "outlinewidth": 0,
              "ticks": ""
             }
            },
            "type": "scatter3d"
           }
          ],
          "scattercarpet": [
           {
            "marker": {
             "colorbar": {
              "outlinewidth": 0,
              "ticks": ""
             }
            },
            "type": "scattercarpet"
           }
          ],
          "scattergeo": [
           {
            "marker": {
             "colorbar": {
              "outlinewidth": 0,
              "ticks": ""
             }
            },
            "type": "scattergeo"
           }
          ],
          "scattergl": [
           {
            "marker": {
             "line": {
              "color": "#283442"
             }
            },
            "type": "scattergl"
           }
          ],
          "scattermapbox": [
           {
            "marker": {
             "colorbar": {
              "outlinewidth": 0,
              "ticks": ""
             }
            },
            "type": "scattermapbox"
           }
          ],
          "scatterpolar": [
           {
            "marker": {
             "colorbar": {
              "outlinewidth": 0,
              "ticks": ""
             }
            },
            "type": "scatterpolar"
           }
          ],
          "scatterpolargl": [
           {
            "marker": {
             "colorbar": {
              "outlinewidth": 0,
              "ticks": ""
             }
            },
            "type": "scatterpolargl"
           }
          ],
          "scatterternary": [
           {
            "marker": {
             "colorbar": {
              "outlinewidth": 0,
              "ticks": ""
             }
            },
            "type": "scatterternary"
           }
          ],
          "surface": [
           {
            "colorbar": {
             "outlinewidth": 0,
             "ticks": ""
            },
            "colorscale": [
             [
              0,
              "#0d0887"
             ],
             [
              0.1111111111111111,
              "#46039f"
             ],
             [
              0.2222222222222222,
              "#7201a8"
             ],
             [
              0.3333333333333333,
              "#9c179e"
             ],
             [
              0.4444444444444444,
              "#bd3786"
             ],
             [
              0.5555555555555556,
              "#d8576b"
             ],
             [
              0.6666666666666666,
              "#ed7953"
             ],
             [
              0.7777777777777778,
              "#fb9f3a"
             ],
             [
              0.8888888888888888,
              "#fdca26"
             ],
             [
              1,
              "#f0f921"
             ]
            ],
            "type": "surface"
           }
          ],
          "table": [
           {
            "cells": {
             "fill": {
              "color": "#506784"
             },
             "line": {
              "color": "rgb(17,17,17)"
             }
            },
            "header": {
             "fill": {
              "color": "#2a3f5f"
             },
             "line": {
              "color": "rgb(17,17,17)"
             }
            },
            "type": "table"
           }
          ]
         },
         "layout": {
          "annotationdefaults": {
           "arrowcolor": "#f2f5fa",
           "arrowhead": 0,
           "arrowwidth": 1
          },
          "autotypenumbers": "strict",
          "coloraxis": {
           "colorbar": {
            "outlinewidth": 0,
            "ticks": ""
           }
          },
          "colorscale": {
           "diverging": [
            [
             0,
             "#8e0152"
            ],
            [
             0.1,
             "#c51b7d"
            ],
            [
             0.2,
             "#de77ae"
            ],
            [
             0.3,
             "#f1b6da"
            ],
            [
             0.4,
             "#fde0ef"
            ],
            [
             0.5,
             "#f7f7f7"
            ],
            [
             0.6,
             "#e6f5d0"
            ],
            [
             0.7,
             "#b8e186"
            ],
            [
             0.8,
             "#7fbc41"
            ],
            [
             0.9,
             "#4d9221"
            ],
            [
             1,
             "#276419"
            ]
           ],
           "sequential": [
            [
             0,
             "#0d0887"
            ],
            [
             0.1111111111111111,
             "#46039f"
            ],
            [
             0.2222222222222222,
             "#7201a8"
            ],
            [
             0.3333333333333333,
             "#9c179e"
            ],
            [
             0.4444444444444444,
             "#bd3786"
            ],
            [
             0.5555555555555556,
             "#d8576b"
            ],
            [
             0.6666666666666666,
             "#ed7953"
            ],
            [
             0.7777777777777778,
             "#fb9f3a"
            ],
            [
             0.8888888888888888,
             "#fdca26"
            ],
            [
             1,
             "#f0f921"
            ]
           ],
           "sequentialminus": [
            [
             0,
             "#0d0887"
            ],
            [
             0.1111111111111111,
             "#46039f"
            ],
            [
             0.2222222222222222,
             "#7201a8"
            ],
            [
             0.3333333333333333,
             "#9c179e"
            ],
            [
             0.4444444444444444,
             "#bd3786"
            ],
            [
             0.5555555555555556,
             "#d8576b"
            ],
            [
             0.6666666666666666,
             "#ed7953"
            ],
            [
             0.7777777777777778,
             "#fb9f3a"
            ],
            [
             0.8888888888888888,
             "#fdca26"
            ],
            [
             1,
             "#f0f921"
            ]
           ]
          },
          "colorway": [
           "#636efa",
           "#EF553B",
           "#00cc96",
           "#ab63fa",
           "#FFA15A",
           "#19d3f3",
           "#FF6692",
           "#B6E880",
           "#FF97FF",
           "#FECB52"
          ],
          "font": {
           "color": "#f2f5fa"
          },
          "geo": {
           "bgcolor": "rgb(17,17,17)",
           "lakecolor": "rgb(17,17,17)",
           "landcolor": "rgb(17,17,17)",
           "showlakes": true,
           "showland": true,
           "subunitcolor": "#506784"
          },
          "hoverlabel": {
           "align": "left"
          },
          "hovermode": "closest",
          "mapbox": {
           "style": "dark"
          },
          "paper_bgcolor": "rgb(17,17,17)",
          "plot_bgcolor": "rgb(17,17,17)",
          "polar": {
           "angularaxis": {
            "gridcolor": "#506784",
            "linecolor": "#506784",
            "ticks": ""
           },
           "bgcolor": "rgb(17,17,17)",
           "radialaxis": {
            "gridcolor": "#506784",
            "linecolor": "#506784",
            "ticks": ""
           }
          },
          "scene": {
           "xaxis": {
            "backgroundcolor": "rgb(17,17,17)",
            "gridcolor": "#506784",
            "gridwidth": 2,
            "linecolor": "#506784",
            "showbackground": true,
            "ticks": "",
            "zerolinecolor": "#C8D4E3"
           },
           "yaxis": {
            "backgroundcolor": "rgb(17,17,17)",
            "gridcolor": "#506784",
            "gridwidth": 2,
            "linecolor": "#506784",
            "showbackground": true,
            "ticks": "",
            "zerolinecolor": "#C8D4E3"
           },
           "zaxis": {
            "backgroundcolor": "rgb(17,17,17)",
            "gridcolor": "#506784",
            "gridwidth": 2,
            "linecolor": "#506784",
            "showbackground": true,
            "ticks": "",
            "zerolinecolor": "#C8D4E3"
           }
          },
          "shapedefaults": {
           "line": {
            "color": "#f2f5fa"
           }
          },
          "sliderdefaults": {
           "bgcolor": "#C8D4E3",
           "bordercolor": "rgb(17,17,17)",
           "borderwidth": 1,
           "tickwidth": 0
          },
          "ternary": {
           "aaxis": {
            "gridcolor": "#506784",
            "linecolor": "#506784",
            "ticks": ""
           },
           "baxis": {
            "gridcolor": "#506784",
            "linecolor": "#506784",
            "ticks": ""
           },
           "bgcolor": "rgb(17,17,17)",
           "caxis": {
            "gridcolor": "#506784",
            "linecolor": "#506784",
            "ticks": ""
           }
          },
          "title": {
           "x": 0.05
          },
          "updatemenudefaults": {
           "bgcolor": "#506784",
           "borderwidth": 0
          },
          "xaxis": {
           "automargin": true,
           "gridcolor": "#283442",
           "linecolor": "#506784",
           "ticks": "",
           "title": {
            "standoff": 15
           },
           "zerolinecolor": "#283442",
           "zerolinewidth": 2
          },
          "yaxis": {
           "automargin": true,
           "gridcolor": "#283442",
           "linecolor": "#506784",
           "ticks": "",
           "title": {
            "standoff": 15
           },
           "zerolinecolor": "#283442",
           "zerolinewidth": 2
          }
         }
        },
        "title": {
         "text": "ROCE"
        },
        "xaxis": {
         "anchor": "y",
         "domain": [
          0,
          1
         ],
         "title": {
          "text": "Companies"
         }
        },
        "yaxis": {
         "anchor": "x",
         "domain": [
          0,
          1
         ],
         "title": {
          "text": "ROCE (%)"
         }
        }
       }
      }
     },
     "metadata": {},
     "output_type": "display_data"
    }
   ],
   "source": [
    "df_top_companies.sort_values(by = 'roce', ascending=True, inplace=True)\n",
    "\n",
    "fig_op_margin = px.bar(df_top_companies, title='ROCE', x='long_name', y='roce', color_discrete_sequence=['rgb(100, 195, 181)'], hover_name=df_top_companies.ticker, height=600)\n",
    "fig_op_margin.update_traces(text=[f'{x:.2f}%' for x in (df_top_companies['roce']*100)], textposition='outside',textfont=dict(color='white'))\n",
    "fig_op_margin.update_layout(xaxis_title='Companies', yaxis_title='ROCE (%)', template = 'plotly_dark')\n",
    "fig_op_margin.show()"
   ]
  },
  {
   "cell_type": "markdown",
   "metadata": {},
   "source": [
    "- **`Banco do Brasil S.A.`**: ROCE of **0.00%**, indicating no return on capital employed.\n",
    "- **`Banco Bradesco S.A.`**: ROCE of **0.00%**, also showing no return on capital employed.\n",
    "- **`Itaú Unibanco Holding S.A.`**: ROCE of **0.00%**, suggesting that the capital employed is not generating returns.\n",
    "- **`Banco BTG Pactual S.A.`**: ROCE of **0.00%**, indicating that there is no profit from the capital used.\n",
    "- **`Itaúsa S.A.`**: ROCE of **2.24%**, a positive return on capital employed, though relatively low.\n",
    "- **`WEG S.A.`**: ROCE of **4.57%**, showing a moderate efficiency in capital use.\n",
    "- **`Centrais Elétricas Brasileiras S.A. - Eletrobrás`**: ROCE of **9.24%**, suggesting a good return on capital employed.\n",
    "- **`Ambev S.A.`**: ROCE of **10.86%**, indicating an efficient use of capital.\n",
    "- **`Telefônica Brasil S.A.`**: ROCE of **15.93%**, reflecting a high level of capital efficiency.\n",
    "- **`Vale S.A.`**: ROCE of **23.91%**, showing a very high return on capital employed.\n",
    "- **`Petróleo Brasileiro S.A. - Petrobras`**: ROCE of **38.17%**, indicating a very efficient use of capital, leading the chart.\n",
    "\n",
    "**`Conclusion`**:\n",
    "\n",
    "- The ROCE values present a wide variance among the companies, with several large banks like Banco do Brasil S.A. and Itaú Unibanco Holding S.A. showing a ROCE of 0.00%, which might suggest a temporary situation or reporting differences. In contrast, companies like Vale S.A. and Petróleo Brasileiro S.A. - Petrobras show very high efficiency in utilizing their capital, with ROCEs of 23.91% and 38.17% respectively. This indicates that the latter companies are generating significant profits from their capital employed, which could reflect higher operational efficiency, more profitable projects, or a more favorable market condition for their industries.\n"
   ]
  },
  {
   "cell_type": "markdown",
   "metadata": {},
   "source": [
    "### Liquidity and Financial Health:"
   ]
  },
  {
   "cell_type": "code",
   "execution_count": 69,
   "metadata": {},
   "outputs": [
    {
     "data": {
      "application/vnd.plotly.v1+json": {
       "config": {
        "plotlyServerURL": "https://plot.ly"
       },
       "data": [
        {
         "alignmentgroup": "True",
         "hovertemplate": "<b>%{hovertext}</b><br><br>long_name=%{x}<br>total_cash=%{y}<extra></extra>",
         "hovertext": [
          "VIVT3.SA",
          "WEGE3.SA",
          "ITSA4.SA",
          "ABEV3.SA",
          "ELET3.SA",
          "VALE3.SA",
          "PETR3.SA",
          "BBAS3.SA",
          "BPAC5.SA",
          "BBDC4.SA",
          "ITUB4.SA"
         ],
         "legendgroup": "",
         "marker": {
          "color": "rgb(100, 195, 181)",
          "pattern": {
           "shape": ""
          }
         },
         "name": "",
         "offsetgroup": "",
         "orientation": "v",
         "showlegend": false,
         "text": [
          "R$5.41B",
          "R$5.48B",
          "R$7.61B",
          "R$12.43B",
          "R$15.80B",
          "R$24.24B",
          "R$60.98B",
          "R$82.07B",
          "R$221.14B",
          "R$231.55B",
          "R$394.33B"
         ],
         "textfont": {
          "color": "white"
         },
         "textposition": "outside",
         "type": "bar",
         "x": [
          "Telefônica Brasil S.A.",
          "WEG S.A.",
          "Itaúsa S.A.",
          "Ambev S.A.",
          "Centrais Elétricas Brasileiras S.A. - Eletrobrás",
          "Vale S.A.",
          "Petróleo Brasileiro S.A. - Petrobras",
          "Banco do Brasil S.A.",
          "Banco BTG Pactual S.A.",
          "Banco Bradesco S.A.",
          "Itaú Unibanco Holding S.A."
         ],
         "xaxis": "x",
         "y": [
          5405902848,
          5480458752,
          7606000128,
          12430517248,
          15801225216,
          24238000128,
          60984999936,
          82065874944,
          221143449600,
          231553384448,
          394325000192
         ],
         "yaxis": "y"
        }
       ],
       "layout": {
        "barmode": "relative",
        "height": 600,
        "legend": {
         "tracegroupgap": 0
        },
        "template": {
         "data": {
          "bar": [
           {
            "error_x": {
             "color": "#f2f5fa"
            },
            "error_y": {
             "color": "#f2f5fa"
            },
            "marker": {
             "line": {
              "color": "rgb(17,17,17)",
              "width": 0.5
             },
             "pattern": {
              "fillmode": "overlay",
              "size": 10,
              "solidity": 0.2
             }
            },
            "type": "bar"
           }
          ],
          "barpolar": [
           {
            "marker": {
             "line": {
              "color": "rgb(17,17,17)",
              "width": 0.5
             },
             "pattern": {
              "fillmode": "overlay",
              "size": 10,
              "solidity": 0.2
             }
            },
            "type": "barpolar"
           }
          ],
          "carpet": [
           {
            "aaxis": {
             "endlinecolor": "#A2B1C6",
             "gridcolor": "#506784",
             "linecolor": "#506784",
             "minorgridcolor": "#506784",
             "startlinecolor": "#A2B1C6"
            },
            "baxis": {
             "endlinecolor": "#A2B1C6",
             "gridcolor": "#506784",
             "linecolor": "#506784",
             "minorgridcolor": "#506784",
             "startlinecolor": "#A2B1C6"
            },
            "type": "carpet"
           }
          ],
          "choropleth": [
           {
            "colorbar": {
             "outlinewidth": 0,
             "ticks": ""
            },
            "type": "choropleth"
           }
          ],
          "contour": [
           {
            "colorbar": {
             "outlinewidth": 0,
             "ticks": ""
            },
            "colorscale": [
             [
              0,
              "#0d0887"
             ],
             [
              0.1111111111111111,
              "#46039f"
             ],
             [
              0.2222222222222222,
              "#7201a8"
             ],
             [
              0.3333333333333333,
              "#9c179e"
             ],
             [
              0.4444444444444444,
              "#bd3786"
             ],
             [
              0.5555555555555556,
              "#d8576b"
             ],
             [
              0.6666666666666666,
              "#ed7953"
             ],
             [
              0.7777777777777778,
              "#fb9f3a"
             ],
             [
              0.8888888888888888,
              "#fdca26"
             ],
             [
              1,
              "#f0f921"
             ]
            ],
            "type": "contour"
           }
          ],
          "contourcarpet": [
           {
            "colorbar": {
             "outlinewidth": 0,
             "ticks": ""
            },
            "type": "contourcarpet"
           }
          ],
          "heatmap": [
           {
            "colorbar": {
             "outlinewidth": 0,
             "ticks": ""
            },
            "colorscale": [
             [
              0,
              "#0d0887"
             ],
             [
              0.1111111111111111,
              "#46039f"
             ],
             [
              0.2222222222222222,
              "#7201a8"
             ],
             [
              0.3333333333333333,
              "#9c179e"
             ],
             [
              0.4444444444444444,
              "#bd3786"
             ],
             [
              0.5555555555555556,
              "#d8576b"
             ],
             [
              0.6666666666666666,
              "#ed7953"
             ],
             [
              0.7777777777777778,
              "#fb9f3a"
             ],
             [
              0.8888888888888888,
              "#fdca26"
             ],
             [
              1,
              "#f0f921"
             ]
            ],
            "type": "heatmap"
           }
          ],
          "heatmapgl": [
           {
            "colorbar": {
             "outlinewidth": 0,
             "ticks": ""
            },
            "colorscale": [
             [
              0,
              "#0d0887"
             ],
             [
              0.1111111111111111,
              "#46039f"
             ],
             [
              0.2222222222222222,
              "#7201a8"
             ],
             [
              0.3333333333333333,
              "#9c179e"
             ],
             [
              0.4444444444444444,
              "#bd3786"
             ],
             [
              0.5555555555555556,
              "#d8576b"
             ],
             [
              0.6666666666666666,
              "#ed7953"
             ],
             [
              0.7777777777777778,
              "#fb9f3a"
             ],
             [
              0.8888888888888888,
              "#fdca26"
             ],
             [
              1,
              "#f0f921"
             ]
            ],
            "type": "heatmapgl"
           }
          ],
          "histogram": [
           {
            "marker": {
             "pattern": {
              "fillmode": "overlay",
              "size": 10,
              "solidity": 0.2
             }
            },
            "type": "histogram"
           }
          ],
          "histogram2d": [
           {
            "colorbar": {
             "outlinewidth": 0,
             "ticks": ""
            },
            "colorscale": [
             [
              0,
              "#0d0887"
             ],
             [
              0.1111111111111111,
              "#46039f"
             ],
             [
              0.2222222222222222,
              "#7201a8"
             ],
             [
              0.3333333333333333,
              "#9c179e"
             ],
             [
              0.4444444444444444,
              "#bd3786"
             ],
             [
              0.5555555555555556,
              "#d8576b"
             ],
             [
              0.6666666666666666,
              "#ed7953"
             ],
             [
              0.7777777777777778,
              "#fb9f3a"
             ],
             [
              0.8888888888888888,
              "#fdca26"
             ],
             [
              1,
              "#f0f921"
             ]
            ],
            "type": "histogram2d"
           }
          ],
          "histogram2dcontour": [
           {
            "colorbar": {
             "outlinewidth": 0,
             "ticks": ""
            },
            "colorscale": [
             [
              0,
              "#0d0887"
             ],
             [
              0.1111111111111111,
              "#46039f"
             ],
             [
              0.2222222222222222,
              "#7201a8"
             ],
             [
              0.3333333333333333,
              "#9c179e"
             ],
             [
              0.4444444444444444,
              "#bd3786"
             ],
             [
              0.5555555555555556,
              "#d8576b"
             ],
             [
              0.6666666666666666,
              "#ed7953"
             ],
             [
              0.7777777777777778,
              "#fb9f3a"
             ],
             [
              0.8888888888888888,
              "#fdca26"
             ],
             [
              1,
              "#f0f921"
             ]
            ],
            "type": "histogram2dcontour"
           }
          ],
          "mesh3d": [
           {
            "colorbar": {
             "outlinewidth": 0,
             "ticks": ""
            },
            "type": "mesh3d"
           }
          ],
          "parcoords": [
           {
            "line": {
             "colorbar": {
              "outlinewidth": 0,
              "ticks": ""
             }
            },
            "type": "parcoords"
           }
          ],
          "pie": [
           {
            "automargin": true,
            "type": "pie"
           }
          ],
          "scatter": [
           {
            "marker": {
             "line": {
              "color": "#283442"
             }
            },
            "type": "scatter"
           }
          ],
          "scatter3d": [
           {
            "line": {
             "colorbar": {
              "outlinewidth": 0,
              "ticks": ""
             }
            },
            "marker": {
             "colorbar": {
              "outlinewidth": 0,
              "ticks": ""
             }
            },
            "type": "scatter3d"
           }
          ],
          "scattercarpet": [
           {
            "marker": {
             "colorbar": {
              "outlinewidth": 0,
              "ticks": ""
             }
            },
            "type": "scattercarpet"
           }
          ],
          "scattergeo": [
           {
            "marker": {
             "colorbar": {
              "outlinewidth": 0,
              "ticks": ""
             }
            },
            "type": "scattergeo"
           }
          ],
          "scattergl": [
           {
            "marker": {
             "line": {
              "color": "#283442"
             }
            },
            "type": "scattergl"
           }
          ],
          "scattermapbox": [
           {
            "marker": {
             "colorbar": {
              "outlinewidth": 0,
              "ticks": ""
             }
            },
            "type": "scattermapbox"
           }
          ],
          "scatterpolar": [
           {
            "marker": {
             "colorbar": {
              "outlinewidth": 0,
              "ticks": ""
             }
            },
            "type": "scatterpolar"
           }
          ],
          "scatterpolargl": [
           {
            "marker": {
             "colorbar": {
              "outlinewidth": 0,
              "ticks": ""
             }
            },
            "type": "scatterpolargl"
           }
          ],
          "scatterternary": [
           {
            "marker": {
             "colorbar": {
              "outlinewidth": 0,
              "ticks": ""
             }
            },
            "type": "scatterternary"
           }
          ],
          "surface": [
           {
            "colorbar": {
             "outlinewidth": 0,
             "ticks": ""
            },
            "colorscale": [
             [
              0,
              "#0d0887"
             ],
             [
              0.1111111111111111,
              "#46039f"
             ],
             [
              0.2222222222222222,
              "#7201a8"
             ],
             [
              0.3333333333333333,
              "#9c179e"
             ],
             [
              0.4444444444444444,
              "#bd3786"
             ],
             [
              0.5555555555555556,
              "#d8576b"
             ],
             [
              0.6666666666666666,
              "#ed7953"
             ],
             [
              0.7777777777777778,
              "#fb9f3a"
             ],
             [
              0.8888888888888888,
              "#fdca26"
             ],
             [
              1,
              "#f0f921"
             ]
            ],
            "type": "surface"
           }
          ],
          "table": [
           {
            "cells": {
             "fill": {
              "color": "#506784"
             },
             "line": {
              "color": "rgb(17,17,17)"
             }
            },
            "header": {
             "fill": {
              "color": "#2a3f5f"
             },
             "line": {
              "color": "rgb(17,17,17)"
             }
            },
            "type": "table"
           }
          ]
         },
         "layout": {
          "annotationdefaults": {
           "arrowcolor": "#f2f5fa",
           "arrowhead": 0,
           "arrowwidth": 1
          },
          "autotypenumbers": "strict",
          "coloraxis": {
           "colorbar": {
            "outlinewidth": 0,
            "ticks": ""
           }
          },
          "colorscale": {
           "diverging": [
            [
             0,
             "#8e0152"
            ],
            [
             0.1,
             "#c51b7d"
            ],
            [
             0.2,
             "#de77ae"
            ],
            [
             0.3,
             "#f1b6da"
            ],
            [
             0.4,
             "#fde0ef"
            ],
            [
             0.5,
             "#f7f7f7"
            ],
            [
             0.6,
             "#e6f5d0"
            ],
            [
             0.7,
             "#b8e186"
            ],
            [
             0.8,
             "#7fbc41"
            ],
            [
             0.9,
             "#4d9221"
            ],
            [
             1,
             "#276419"
            ]
           ],
           "sequential": [
            [
             0,
             "#0d0887"
            ],
            [
             0.1111111111111111,
             "#46039f"
            ],
            [
             0.2222222222222222,
             "#7201a8"
            ],
            [
             0.3333333333333333,
             "#9c179e"
            ],
            [
             0.4444444444444444,
             "#bd3786"
            ],
            [
             0.5555555555555556,
             "#d8576b"
            ],
            [
             0.6666666666666666,
             "#ed7953"
            ],
            [
             0.7777777777777778,
             "#fb9f3a"
            ],
            [
             0.8888888888888888,
             "#fdca26"
            ],
            [
             1,
             "#f0f921"
            ]
           ],
           "sequentialminus": [
            [
             0,
             "#0d0887"
            ],
            [
             0.1111111111111111,
             "#46039f"
            ],
            [
             0.2222222222222222,
             "#7201a8"
            ],
            [
             0.3333333333333333,
             "#9c179e"
            ],
            [
             0.4444444444444444,
             "#bd3786"
            ],
            [
             0.5555555555555556,
             "#d8576b"
            ],
            [
             0.6666666666666666,
             "#ed7953"
            ],
            [
             0.7777777777777778,
             "#fb9f3a"
            ],
            [
             0.8888888888888888,
             "#fdca26"
            ],
            [
             1,
             "#f0f921"
            ]
           ]
          },
          "colorway": [
           "#636efa",
           "#EF553B",
           "#00cc96",
           "#ab63fa",
           "#FFA15A",
           "#19d3f3",
           "#FF6692",
           "#B6E880",
           "#FF97FF",
           "#FECB52"
          ],
          "font": {
           "color": "#f2f5fa"
          },
          "geo": {
           "bgcolor": "rgb(17,17,17)",
           "lakecolor": "rgb(17,17,17)",
           "landcolor": "rgb(17,17,17)",
           "showlakes": true,
           "showland": true,
           "subunitcolor": "#506784"
          },
          "hoverlabel": {
           "align": "left"
          },
          "hovermode": "closest",
          "mapbox": {
           "style": "dark"
          },
          "paper_bgcolor": "rgb(17,17,17)",
          "plot_bgcolor": "rgb(17,17,17)",
          "polar": {
           "angularaxis": {
            "gridcolor": "#506784",
            "linecolor": "#506784",
            "ticks": ""
           },
           "bgcolor": "rgb(17,17,17)",
           "radialaxis": {
            "gridcolor": "#506784",
            "linecolor": "#506784",
            "ticks": ""
           }
          },
          "scene": {
           "xaxis": {
            "backgroundcolor": "rgb(17,17,17)",
            "gridcolor": "#506784",
            "gridwidth": 2,
            "linecolor": "#506784",
            "showbackground": true,
            "ticks": "",
            "zerolinecolor": "#C8D4E3"
           },
           "yaxis": {
            "backgroundcolor": "rgb(17,17,17)",
            "gridcolor": "#506784",
            "gridwidth": 2,
            "linecolor": "#506784",
            "showbackground": true,
            "ticks": "",
            "zerolinecolor": "#C8D4E3"
           },
           "zaxis": {
            "backgroundcolor": "rgb(17,17,17)",
            "gridcolor": "#506784",
            "gridwidth": 2,
            "linecolor": "#506784",
            "showbackground": true,
            "ticks": "",
            "zerolinecolor": "#C8D4E3"
           }
          },
          "shapedefaults": {
           "line": {
            "color": "#f2f5fa"
           }
          },
          "sliderdefaults": {
           "bgcolor": "#C8D4E3",
           "bordercolor": "rgb(17,17,17)",
           "borderwidth": 1,
           "tickwidth": 0
          },
          "ternary": {
           "aaxis": {
            "gridcolor": "#506784",
            "linecolor": "#506784",
            "ticks": ""
           },
           "baxis": {
            "gridcolor": "#506784",
            "linecolor": "#506784",
            "ticks": ""
           },
           "bgcolor": "rgb(17,17,17)",
           "caxis": {
            "gridcolor": "#506784",
            "linecolor": "#506784",
            "ticks": ""
           }
          },
          "title": {
           "x": 0.05
          },
          "updatemenudefaults": {
           "bgcolor": "#506784",
           "borderwidth": 0
          },
          "xaxis": {
           "automargin": true,
           "gridcolor": "#283442",
           "linecolor": "#506784",
           "ticks": "",
           "title": {
            "standoff": 15
           },
           "zerolinecolor": "#283442",
           "zerolinewidth": 2
          },
          "yaxis": {
           "automargin": true,
           "gridcolor": "#283442",
           "linecolor": "#506784",
           "ticks": "",
           "title": {
            "standoff": 15
           },
           "zerolinecolor": "#283442",
           "zerolinewidth": 2
          }
         }
        },
        "title": {
         "text": "Total Cash"
        },
        "xaxis": {
         "anchor": "y",
         "domain": [
          0,
          1
         ],
         "title": {
          "text": "Companies"
         }
        },
        "yaxis": {
         "anchor": "x",
         "domain": [
          0,
          1
         ],
         "title": {
          "text": "Total Cash (R$)"
         }
        }
       }
      }
     },
     "metadata": {},
     "output_type": "display_data"
    }
   ],
   "source": [
    "df_top_companies.sort_values(by = 'total_cash', ascending=True, inplace=True)\n",
    "\n",
    "fig_op_margin = px.bar(df_top_companies, title='Total Cash', x='long_name', y='total_cash', color_discrete_sequence=['rgb(100, 195, 181)'], hover_name=df_top_companies.ticker, height=600)\n",
    "fig_op_margin.update_traces(text=[f'R${x:.2f}B' for x in (df_top_companies['total_cash']/1e9)], textposition='outside',textfont=dict(color='white'))\n",
    "fig_op_margin.update_layout(xaxis_title='Companies', yaxis_title='Total Cash (R$)', template = 'plotly_dark')\n",
    "fig_op_margin.show()"
   ]
  },
  {
   "cell_type": "markdown",
   "metadata": {},
   "source": [
    "- **`Telefônica Brasil S.A.`**: Total Cash of **R$5.41B**, indicating a moderate cash reserve.\n",
    "- **`WEG S.A.`**: Total Cash of **R$5.48B**, showing similar cash reserves as Telefônica Brasil S.A.\n",
    "- **`Itaúsa S.A.`**: Total Cash of **R$7.61B**, reflecting a slightly higher cash position.\n",
    "- **`Ambev S.A.`**: Total Cash of **R$12.43B**, showing a stronger cash reserve, potentially supporting operational and strategic flexibility.\n",
    "- **`Centrais Elétricas Brasileiras S.A. - Eletrobrás`**: Total Cash of **R$15.80B**, which indicates a solid liquidity position.\n",
    "- **`Vale S.A.`**: Total Cash of **R$24.24B**, suggesting significant cash resources at the company’s disposal.\n",
    "- **`Petróleo Brasileiro S.A. - Petrobras`**: Total Cash of **R$60.98B**, showing a very robust cash reserve, which may facilitate large investments or cushion against economic downturns.\n",
    "- **`Banco do Brasil S.A.`**: Total Cash of **R$82.07B**, reflecting a substantial cash reserve, characteristic of large banking institutions.\n",
    "- **`Banco BTG Pactual S.A.`**: Total Cash of **R$221.14B**, indicating an extremely strong cash position, which is exceptional even among banks.\n",
    "- **`Banco Bradesco S.A.`**: Total Cash of **R$231.55B**, showing the highest cash reserves among the banks listed, except for Itaú.\n",
    "- **`Itaú Unibanco Holding S.A.`**: Total Cash of **R$394.33B**, leading the chart with the largest cash reserve, illustrating its massive scale and financial strength.\n",
    "\n",
    "**`Conclusion`**:\n",
    "\n",
    "- The Total Cash analysis across these Brazilian companies shows a significant variation, from tens of billions to nearly four hundred billion reais. The financial sector, especially Itaú Unibanco Holding S.A., Banco Bradesco S.A., and Banco BTG Pactual S.A., demonstrates remarkably high cash reserves, which reflects the nature of banking operations that typically require substantial liquidity. On the other hand, non-financial corporations like Ambev S.A. and Vale S.A. also display strong cash positions, which could support their operational activities and strategic investments. Overall, the cash reserves indicate the varying scales of operation and strategic financial planning within these enterprises.\n"
   ]
  },
  {
   "cell_type": "code",
   "execution_count": 71,
   "metadata": {},
   "outputs": [
    {
     "data": {
      "application/vnd.plotly.v1+json": {
       "config": {
        "plotlyServerURL": "https://plot.ly"
       },
       "data": [
        {
         "alignmentgroup": "True",
         "hovertemplate": "<b>%{hovertext}</b><br><br>long_name=%{x}<br>total_debt=%{y}<extra></extra>",
         "hovertext": [
          "WEGE3.SA",
          "ABEV3.SA",
          "ITSA4.SA",
          "VIVT3.SA",
          "ELET3.SA",
          "VALE3.SA",
          "BPAC5.SA",
          "PETR3.SA",
          "BBDC4.SA",
          "ITUB4.SA",
          "BBAS3.SA"
         ],
         "legendgroup": "",
         "marker": {
          "color": "rgb(100, 195, 181)",
          "pattern": {
           "shape": ""
          }
         },
         "name": "",
         "offsetgroup": "",
         "orientation": "v",
         "showlegend": false,
         "text": [
          "R$3.35B",
          "R$4.10B",
          "R$13.24B",
          "R$18.38B",
          "R$58.71B",
          "R$79.35B",
          "R$220.72B",
          "R$279.37B",
          "R$622.58B",
          "R$827.03B",
          "R$895.78B"
         ],
         "textfont": {
          "color": "white"
         },
         "textposition": "outside",
         "type": "bar",
         "x": [
          "WEG S.A.",
          "Ambev S.A.",
          "Itaúsa S.A.",
          "Telefônica Brasil S.A.",
          "Centrais Elétricas Brasileiras S.A. - Eletrobrás",
          "Vale S.A.",
          "Banco BTG Pactual S.A.",
          "Petróleo Brasileiro S.A. - Petrobras",
          "Banco Bradesco S.A.",
          "Itaú Unibanco Holding S.A.",
          "Banco do Brasil S.A."
         ],
         "xaxis": "x",
         "y": [
          3346563072,
          4096230912,
          13237000192,
          18377697280,
          58713391104,
          79345999872,
          220720496640,
          279374987264,
          622578565120,
          827033976832,
          895776522240
         ],
         "yaxis": "y"
        }
       ],
       "layout": {
        "barmode": "relative",
        "height": 600,
        "legend": {
         "tracegroupgap": 0
        },
        "template": {
         "data": {
          "bar": [
           {
            "error_x": {
             "color": "#f2f5fa"
            },
            "error_y": {
             "color": "#f2f5fa"
            },
            "marker": {
             "line": {
              "color": "rgb(17,17,17)",
              "width": 0.5
             },
             "pattern": {
              "fillmode": "overlay",
              "size": 10,
              "solidity": 0.2
             }
            },
            "type": "bar"
           }
          ],
          "barpolar": [
           {
            "marker": {
             "line": {
              "color": "rgb(17,17,17)",
              "width": 0.5
             },
             "pattern": {
              "fillmode": "overlay",
              "size": 10,
              "solidity": 0.2
             }
            },
            "type": "barpolar"
           }
          ],
          "carpet": [
           {
            "aaxis": {
             "endlinecolor": "#A2B1C6",
             "gridcolor": "#506784",
             "linecolor": "#506784",
             "minorgridcolor": "#506784",
             "startlinecolor": "#A2B1C6"
            },
            "baxis": {
             "endlinecolor": "#A2B1C6",
             "gridcolor": "#506784",
             "linecolor": "#506784",
             "minorgridcolor": "#506784",
             "startlinecolor": "#A2B1C6"
            },
            "type": "carpet"
           }
          ],
          "choropleth": [
           {
            "colorbar": {
             "outlinewidth": 0,
             "ticks": ""
            },
            "type": "choropleth"
           }
          ],
          "contour": [
           {
            "colorbar": {
             "outlinewidth": 0,
             "ticks": ""
            },
            "colorscale": [
             [
              0,
              "#0d0887"
             ],
             [
              0.1111111111111111,
              "#46039f"
             ],
             [
              0.2222222222222222,
              "#7201a8"
             ],
             [
              0.3333333333333333,
              "#9c179e"
             ],
             [
              0.4444444444444444,
              "#bd3786"
             ],
             [
              0.5555555555555556,
              "#d8576b"
             ],
             [
              0.6666666666666666,
              "#ed7953"
             ],
             [
              0.7777777777777778,
              "#fb9f3a"
             ],
             [
              0.8888888888888888,
              "#fdca26"
             ],
             [
              1,
              "#f0f921"
             ]
            ],
            "type": "contour"
           }
          ],
          "contourcarpet": [
           {
            "colorbar": {
             "outlinewidth": 0,
             "ticks": ""
            },
            "type": "contourcarpet"
           }
          ],
          "heatmap": [
           {
            "colorbar": {
             "outlinewidth": 0,
             "ticks": ""
            },
            "colorscale": [
             [
              0,
              "#0d0887"
             ],
             [
              0.1111111111111111,
              "#46039f"
             ],
             [
              0.2222222222222222,
              "#7201a8"
             ],
             [
              0.3333333333333333,
              "#9c179e"
             ],
             [
              0.4444444444444444,
              "#bd3786"
             ],
             [
              0.5555555555555556,
              "#d8576b"
             ],
             [
              0.6666666666666666,
              "#ed7953"
             ],
             [
              0.7777777777777778,
              "#fb9f3a"
             ],
             [
              0.8888888888888888,
              "#fdca26"
             ],
             [
              1,
              "#f0f921"
             ]
            ],
            "type": "heatmap"
           }
          ],
          "heatmapgl": [
           {
            "colorbar": {
             "outlinewidth": 0,
             "ticks": ""
            },
            "colorscale": [
             [
              0,
              "#0d0887"
             ],
             [
              0.1111111111111111,
              "#46039f"
             ],
             [
              0.2222222222222222,
              "#7201a8"
             ],
             [
              0.3333333333333333,
              "#9c179e"
             ],
             [
              0.4444444444444444,
              "#bd3786"
             ],
             [
              0.5555555555555556,
              "#d8576b"
             ],
             [
              0.6666666666666666,
              "#ed7953"
             ],
             [
              0.7777777777777778,
              "#fb9f3a"
             ],
             [
              0.8888888888888888,
              "#fdca26"
             ],
             [
              1,
              "#f0f921"
             ]
            ],
            "type": "heatmapgl"
           }
          ],
          "histogram": [
           {
            "marker": {
             "pattern": {
              "fillmode": "overlay",
              "size": 10,
              "solidity": 0.2
             }
            },
            "type": "histogram"
           }
          ],
          "histogram2d": [
           {
            "colorbar": {
             "outlinewidth": 0,
             "ticks": ""
            },
            "colorscale": [
             [
              0,
              "#0d0887"
             ],
             [
              0.1111111111111111,
              "#46039f"
             ],
             [
              0.2222222222222222,
              "#7201a8"
             ],
             [
              0.3333333333333333,
              "#9c179e"
             ],
             [
              0.4444444444444444,
              "#bd3786"
             ],
             [
              0.5555555555555556,
              "#d8576b"
             ],
             [
              0.6666666666666666,
              "#ed7953"
             ],
             [
              0.7777777777777778,
              "#fb9f3a"
             ],
             [
              0.8888888888888888,
              "#fdca26"
             ],
             [
              1,
              "#f0f921"
             ]
            ],
            "type": "histogram2d"
           }
          ],
          "histogram2dcontour": [
           {
            "colorbar": {
             "outlinewidth": 0,
             "ticks": ""
            },
            "colorscale": [
             [
              0,
              "#0d0887"
             ],
             [
              0.1111111111111111,
              "#46039f"
             ],
             [
              0.2222222222222222,
              "#7201a8"
             ],
             [
              0.3333333333333333,
              "#9c179e"
             ],
             [
              0.4444444444444444,
              "#bd3786"
             ],
             [
              0.5555555555555556,
              "#d8576b"
             ],
             [
              0.6666666666666666,
              "#ed7953"
             ],
             [
              0.7777777777777778,
              "#fb9f3a"
             ],
             [
              0.8888888888888888,
              "#fdca26"
             ],
             [
              1,
              "#f0f921"
             ]
            ],
            "type": "histogram2dcontour"
           }
          ],
          "mesh3d": [
           {
            "colorbar": {
             "outlinewidth": 0,
             "ticks": ""
            },
            "type": "mesh3d"
           }
          ],
          "parcoords": [
           {
            "line": {
             "colorbar": {
              "outlinewidth": 0,
              "ticks": ""
             }
            },
            "type": "parcoords"
           }
          ],
          "pie": [
           {
            "automargin": true,
            "type": "pie"
           }
          ],
          "scatter": [
           {
            "marker": {
             "line": {
              "color": "#283442"
             }
            },
            "type": "scatter"
           }
          ],
          "scatter3d": [
           {
            "line": {
             "colorbar": {
              "outlinewidth": 0,
              "ticks": ""
             }
            },
            "marker": {
             "colorbar": {
              "outlinewidth": 0,
              "ticks": ""
             }
            },
            "type": "scatter3d"
           }
          ],
          "scattercarpet": [
           {
            "marker": {
             "colorbar": {
              "outlinewidth": 0,
              "ticks": ""
             }
            },
            "type": "scattercarpet"
           }
          ],
          "scattergeo": [
           {
            "marker": {
             "colorbar": {
              "outlinewidth": 0,
              "ticks": ""
             }
            },
            "type": "scattergeo"
           }
          ],
          "scattergl": [
           {
            "marker": {
             "line": {
              "color": "#283442"
             }
            },
            "type": "scattergl"
           }
          ],
          "scattermapbox": [
           {
            "marker": {
             "colorbar": {
              "outlinewidth": 0,
              "ticks": ""
             }
            },
            "type": "scattermapbox"
           }
          ],
          "scatterpolar": [
           {
            "marker": {
             "colorbar": {
              "outlinewidth": 0,
              "ticks": ""
             }
            },
            "type": "scatterpolar"
           }
          ],
          "scatterpolargl": [
           {
            "marker": {
             "colorbar": {
              "outlinewidth": 0,
              "ticks": ""
             }
            },
            "type": "scatterpolargl"
           }
          ],
          "scatterternary": [
           {
            "marker": {
             "colorbar": {
              "outlinewidth": 0,
              "ticks": ""
             }
            },
            "type": "scatterternary"
           }
          ],
          "surface": [
           {
            "colorbar": {
             "outlinewidth": 0,
             "ticks": ""
            },
            "colorscale": [
             [
              0,
              "#0d0887"
             ],
             [
              0.1111111111111111,
              "#46039f"
             ],
             [
              0.2222222222222222,
              "#7201a8"
             ],
             [
              0.3333333333333333,
              "#9c179e"
             ],
             [
              0.4444444444444444,
              "#bd3786"
             ],
             [
              0.5555555555555556,
              "#d8576b"
             ],
             [
              0.6666666666666666,
              "#ed7953"
             ],
             [
              0.7777777777777778,
              "#fb9f3a"
             ],
             [
              0.8888888888888888,
              "#fdca26"
             ],
             [
              1,
              "#f0f921"
             ]
            ],
            "type": "surface"
           }
          ],
          "table": [
           {
            "cells": {
             "fill": {
              "color": "#506784"
             },
             "line": {
              "color": "rgb(17,17,17)"
             }
            },
            "header": {
             "fill": {
              "color": "#2a3f5f"
             },
             "line": {
              "color": "rgb(17,17,17)"
             }
            },
            "type": "table"
           }
          ]
         },
         "layout": {
          "annotationdefaults": {
           "arrowcolor": "#f2f5fa",
           "arrowhead": 0,
           "arrowwidth": 1
          },
          "autotypenumbers": "strict",
          "coloraxis": {
           "colorbar": {
            "outlinewidth": 0,
            "ticks": ""
           }
          },
          "colorscale": {
           "diverging": [
            [
             0,
             "#8e0152"
            ],
            [
             0.1,
             "#c51b7d"
            ],
            [
             0.2,
             "#de77ae"
            ],
            [
             0.3,
             "#f1b6da"
            ],
            [
             0.4,
             "#fde0ef"
            ],
            [
             0.5,
             "#f7f7f7"
            ],
            [
             0.6,
             "#e6f5d0"
            ],
            [
             0.7,
             "#b8e186"
            ],
            [
             0.8,
             "#7fbc41"
            ],
            [
             0.9,
             "#4d9221"
            ],
            [
             1,
             "#276419"
            ]
           ],
           "sequential": [
            [
             0,
             "#0d0887"
            ],
            [
             0.1111111111111111,
             "#46039f"
            ],
            [
             0.2222222222222222,
             "#7201a8"
            ],
            [
             0.3333333333333333,
             "#9c179e"
            ],
            [
             0.4444444444444444,
             "#bd3786"
            ],
            [
             0.5555555555555556,
             "#d8576b"
            ],
            [
             0.6666666666666666,
             "#ed7953"
            ],
            [
             0.7777777777777778,
             "#fb9f3a"
            ],
            [
             0.8888888888888888,
             "#fdca26"
            ],
            [
             1,
             "#f0f921"
            ]
           ],
           "sequentialminus": [
            [
             0,
             "#0d0887"
            ],
            [
             0.1111111111111111,
             "#46039f"
            ],
            [
             0.2222222222222222,
             "#7201a8"
            ],
            [
             0.3333333333333333,
             "#9c179e"
            ],
            [
             0.4444444444444444,
             "#bd3786"
            ],
            [
             0.5555555555555556,
             "#d8576b"
            ],
            [
             0.6666666666666666,
             "#ed7953"
            ],
            [
             0.7777777777777778,
             "#fb9f3a"
            ],
            [
             0.8888888888888888,
             "#fdca26"
            ],
            [
             1,
             "#f0f921"
            ]
           ]
          },
          "colorway": [
           "#636efa",
           "#EF553B",
           "#00cc96",
           "#ab63fa",
           "#FFA15A",
           "#19d3f3",
           "#FF6692",
           "#B6E880",
           "#FF97FF",
           "#FECB52"
          ],
          "font": {
           "color": "#f2f5fa"
          },
          "geo": {
           "bgcolor": "rgb(17,17,17)",
           "lakecolor": "rgb(17,17,17)",
           "landcolor": "rgb(17,17,17)",
           "showlakes": true,
           "showland": true,
           "subunitcolor": "#506784"
          },
          "hoverlabel": {
           "align": "left"
          },
          "hovermode": "closest",
          "mapbox": {
           "style": "dark"
          },
          "paper_bgcolor": "rgb(17,17,17)",
          "plot_bgcolor": "rgb(17,17,17)",
          "polar": {
           "angularaxis": {
            "gridcolor": "#506784",
            "linecolor": "#506784",
            "ticks": ""
           },
           "bgcolor": "rgb(17,17,17)",
           "radialaxis": {
            "gridcolor": "#506784",
            "linecolor": "#506784",
            "ticks": ""
           }
          },
          "scene": {
           "xaxis": {
            "backgroundcolor": "rgb(17,17,17)",
            "gridcolor": "#506784",
            "gridwidth": 2,
            "linecolor": "#506784",
            "showbackground": true,
            "ticks": "",
            "zerolinecolor": "#C8D4E3"
           },
           "yaxis": {
            "backgroundcolor": "rgb(17,17,17)",
            "gridcolor": "#506784",
            "gridwidth": 2,
            "linecolor": "#506784",
            "showbackground": true,
            "ticks": "",
            "zerolinecolor": "#C8D4E3"
           },
           "zaxis": {
            "backgroundcolor": "rgb(17,17,17)",
            "gridcolor": "#506784",
            "gridwidth": 2,
            "linecolor": "#506784",
            "showbackground": true,
            "ticks": "",
            "zerolinecolor": "#C8D4E3"
           }
          },
          "shapedefaults": {
           "line": {
            "color": "#f2f5fa"
           }
          },
          "sliderdefaults": {
           "bgcolor": "#C8D4E3",
           "bordercolor": "rgb(17,17,17)",
           "borderwidth": 1,
           "tickwidth": 0
          },
          "ternary": {
           "aaxis": {
            "gridcolor": "#506784",
            "linecolor": "#506784",
            "ticks": ""
           },
           "baxis": {
            "gridcolor": "#506784",
            "linecolor": "#506784",
            "ticks": ""
           },
           "bgcolor": "rgb(17,17,17)",
           "caxis": {
            "gridcolor": "#506784",
            "linecolor": "#506784",
            "ticks": ""
           }
          },
          "title": {
           "x": 0.05
          },
          "updatemenudefaults": {
           "bgcolor": "#506784",
           "borderwidth": 0
          },
          "xaxis": {
           "automargin": true,
           "gridcolor": "#283442",
           "linecolor": "#506784",
           "ticks": "",
           "title": {
            "standoff": 15
           },
           "zerolinecolor": "#283442",
           "zerolinewidth": 2
          },
          "yaxis": {
           "automargin": true,
           "gridcolor": "#283442",
           "linecolor": "#506784",
           "ticks": "",
           "title": {
            "standoff": 15
           },
           "zerolinecolor": "#283442",
           "zerolinewidth": 2
          }
         }
        },
        "title": {
         "text": "Total Debt"
        },
        "xaxis": {
         "anchor": "y",
         "domain": [
          0,
          1
         ],
         "title": {
          "text": "Companies"
         }
        },
        "yaxis": {
         "anchor": "x",
         "domain": [
          0,
          1
         ],
         "title": {
          "text": "Total Debt (R$)"
         }
        }
       }
      }
     },
     "metadata": {},
     "output_type": "display_data"
    }
   ],
   "source": [
    "df_top_companies.sort_values(by = 'total_debt', ascending=True, inplace=True)\n",
    "\n",
    "fig_op_margin = px.bar(df_top_companies, title='Total Debt', x='long_name', y='total_debt', color_discrete_sequence=['rgb(100, 195, 181)'], hover_name=df_top_companies.ticker, height=600)\n",
    "fig_op_margin.update_traces(text=[f'R${x:.2f}B' for x in (df_top_companies['total_debt']/1e9)], textposition='outside',textfont=dict(color='white'))\n",
    "fig_op_margin.update_layout(xaxis_title='Companies', yaxis_title='Total Debt (R$)', template = 'plotly_dark')\n",
    "fig_op_margin.show()"
   ]
  },
  {
   "cell_type": "markdown",
   "metadata": {},
   "source": [
    "- **`WEG S.A.`**: Total Debt of **R$3.35B**, indicating a low debt level compared to larger corporations.\n",
    "- **`Ambev S.A.`**: Total Debt of **R$4.10B**, showing modest leverage which suggests conservative financial management.\n",
    "- **`Itaúsa S.A.`**: Total Debt of **R$13.24B**, representing a manageable debt burden for the conglomerate.\n",
    "- **`Telefônica Brasil S.A.`**: Total Debt of **R$18.38B**, which is moderate for a large telecommunications company.\n",
    "- **`Centrais Elétricas Brasileiras S.A. - Eletrobrás`**: Total Debt of **R$58.71B**, signifying a substantial level of borrowing which is typical for energy sector enterprises.\n",
    "- **`Vale S.A.`**: Total Debt of **R$79.35B**, reflecting significant financial obligations, common in the capital-intensive mining industry.\n",
    "- **`Banco BTG Pactual S.A.`**: Total Debt of **R$220.72B**, indicating a high level of leverage, which can be characteristic of investment banking operations.\n",
    "- **`Petróleo Brasileiro S.A. - Petrobras`**: Total Debt of **R$279.37B**, illustrating the heavy financing requirements for the oil and gas industry.\n",
    "- **`Banco Bradesco S.A.`**: Total Debt of **R$622.58B**, showing a very high level of debt, aligning with the scale of banking operations.\n",
    "- **`Itaú Unibanco Holding S.A.`**: Total Debt of **R$827.03B**, suggesting expansive borrowing reflective of its position as a leading financial institution.\n",
    "- **`Banco do Brasil S.A.`**: Total Debt of **R$895.78B**, the highest on the list, indicating an extensive use of debt financing in its operations.\n",
    "\n",
    "**`Conclusion`**:\n",
    "\n",
    "- The analysis of Total Debt across these companies reveals that debt levels vary significantly, with financial institutions like Banco do Brasil S.A., Itaú Unibanco Holding S.A., and Banco Bradesco S.A. exhibiting the highest figures. These large debts are typical for banks, which use borrowed capital to create loans and other financial products. Industrial firms like Vale S.A. and Petrobras also show high debt levels, which is characteristic of their capital-intensive nature. Meanwhile, companies such as WEG S.A. and Ambev S.A. maintain lower levels of debt, which may indicate a more conservative financial strategy or less capital-intensive operations.\n"
   ]
  },
  {
   "cell_type": "markdown",
   "metadata": {},
   "source": [
    "### Stock Valuation"
   ]
  },
  {
   "cell_type": "code",
   "execution_count": 72,
   "metadata": {},
   "outputs": [
    {
     "data": {
      "application/vnd.plotly.v1+json": {
       "config": {
        "plotlyServerURL": "https://plot.ly"
       },
       "data": [
        {
         "alignmentgroup": "True",
         "hovertemplate": "<b>%{hovertext}</b><br><br>long_name=%{x}<br>price_to_book=%{y}<extra></extra>",
         "hovertext": [
          "ELET3.SA",
          "BPAC5.SA",
          "BBAS3.SA",
          "BBDC4.SA",
          "ITSA4.SA",
          "VIVT3.SA",
          "PETR3.SA",
          "VALE3.SA",
          "ITUB4.SA",
          "ABEV3.SA",
          "WEGE3.SA"
         ],
         "legendgroup": "",
         "marker": {
          "color": "rgb(100, 195, 181)",
          "pattern": {
           "shape": ""
          }
         },
         "name": "",
         "offsetgroup": "",
         "orientation": "v",
         "showlegend": false,
         "text": [
          "0.70x",
          "0.84x",
          "0.90x",
          "0.91x",
          "1.11x",
          "1.11x",
          "1.35x",
          "1.50x",
          "1.51x",
          "2.36x",
          "9.00x"
         ],
         "textfont": {
          "color": "white"
         },
         "textposition": "outside",
         "type": "bar",
         "x": [
          "Centrais Elétricas Brasileiras S.A. - Eletrobrás",
          "Banco BTG Pactual S.A.",
          "Banco do Brasil S.A.",
          "Banco Bradesco S.A.",
          "Itaúsa S.A.",
          "Telefônica Brasil S.A.",
          "Petróleo Brasileiro S.A. - Petrobras",
          "Vale S.A.",
          "Itaú Unibanco Holding S.A.",
          "Ambev S.A.",
          "WEG S.A."
         ],
         "xaxis": "x",
         "y": [
          0.70198864,
          0.83809143,
          0.8952779,
          0.9123458,
          1.1144768,
          1.1147614,
          1.3506,
          1.4986876,
          1.5052054,
          2.3598,
          9.0016365
         ],
         "yaxis": "y"
        }
       ],
       "layout": {
        "barmode": "relative",
        "height": 600,
        "legend": {
         "tracegroupgap": 0
        },
        "template": {
         "data": {
          "bar": [
           {
            "error_x": {
             "color": "#f2f5fa"
            },
            "error_y": {
             "color": "#f2f5fa"
            },
            "marker": {
             "line": {
              "color": "rgb(17,17,17)",
              "width": 0.5
             },
             "pattern": {
              "fillmode": "overlay",
              "size": 10,
              "solidity": 0.2
             }
            },
            "type": "bar"
           }
          ],
          "barpolar": [
           {
            "marker": {
             "line": {
              "color": "rgb(17,17,17)",
              "width": 0.5
             },
             "pattern": {
              "fillmode": "overlay",
              "size": 10,
              "solidity": 0.2
             }
            },
            "type": "barpolar"
           }
          ],
          "carpet": [
           {
            "aaxis": {
             "endlinecolor": "#A2B1C6",
             "gridcolor": "#506784",
             "linecolor": "#506784",
             "minorgridcolor": "#506784",
             "startlinecolor": "#A2B1C6"
            },
            "baxis": {
             "endlinecolor": "#A2B1C6",
             "gridcolor": "#506784",
             "linecolor": "#506784",
             "minorgridcolor": "#506784",
             "startlinecolor": "#A2B1C6"
            },
            "type": "carpet"
           }
          ],
          "choropleth": [
           {
            "colorbar": {
             "outlinewidth": 0,
             "ticks": ""
            },
            "type": "choropleth"
           }
          ],
          "contour": [
           {
            "colorbar": {
             "outlinewidth": 0,
             "ticks": ""
            },
            "colorscale": [
             [
              0,
              "#0d0887"
             ],
             [
              0.1111111111111111,
              "#46039f"
             ],
             [
              0.2222222222222222,
              "#7201a8"
             ],
             [
              0.3333333333333333,
              "#9c179e"
             ],
             [
              0.4444444444444444,
              "#bd3786"
             ],
             [
              0.5555555555555556,
              "#d8576b"
             ],
             [
              0.6666666666666666,
              "#ed7953"
             ],
             [
              0.7777777777777778,
              "#fb9f3a"
             ],
             [
              0.8888888888888888,
              "#fdca26"
             ],
             [
              1,
              "#f0f921"
             ]
            ],
            "type": "contour"
           }
          ],
          "contourcarpet": [
           {
            "colorbar": {
             "outlinewidth": 0,
             "ticks": ""
            },
            "type": "contourcarpet"
           }
          ],
          "heatmap": [
           {
            "colorbar": {
             "outlinewidth": 0,
             "ticks": ""
            },
            "colorscale": [
             [
              0,
              "#0d0887"
             ],
             [
              0.1111111111111111,
              "#46039f"
             ],
             [
              0.2222222222222222,
              "#7201a8"
             ],
             [
              0.3333333333333333,
              "#9c179e"
             ],
             [
              0.4444444444444444,
              "#bd3786"
             ],
             [
              0.5555555555555556,
              "#d8576b"
             ],
             [
              0.6666666666666666,
              "#ed7953"
             ],
             [
              0.7777777777777778,
              "#fb9f3a"
             ],
             [
              0.8888888888888888,
              "#fdca26"
             ],
             [
              1,
              "#f0f921"
             ]
            ],
            "type": "heatmap"
           }
          ],
          "heatmapgl": [
           {
            "colorbar": {
             "outlinewidth": 0,
             "ticks": ""
            },
            "colorscale": [
             [
              0,
              "#0d0887"
             ],
             [
              0.1111111111111111,
              "#46039f"
             ],
             [
              0.2222222222222222,
              "#7201a8"
             ],
             [
              0.3333333333333333,
              "#9c179e"
             ],
             [
              0.4444444444444444,
              "#bd3786"
             ],
             [
              0.5555555555555556,
              "#d8576b"
             ],
             [
              0.6666666666666666,
              "#ed7953"
             ],
             [
              0.7777777777777778,
              "#fb9f3a"
             ],
             [
              0.8888888888888888,
              "#fdca26"
             ],
             [
              1,
              "#f0f921"
             ]
            ],
            "type": "heatmapgl"
           }
          ],
          "histogram": [
           {
            "marker": {
             "pattern": {
              "fillmode": "overlay",
              "size": 10,
              "solidity": 0.2
             }
            },
            "type": "histogram"
           }
          ],
          "histogram2d": [
           {
            "colorbar": {
             "outlinewidth": 0,
             "ticks": ""
            },
            "colorscale": [
             [
              0,
              "#0d0887"
             ],
             [
              0.1111111111111111,
              "#46039f"
             ],
             [
              0.2222222222222222,
              "#7201a8"
             ],
             [
              0.3333333333333333,
              "#9c179e"
             ],
             [
              0.4444444444444444,
              "#bd3786"
             ],
             [
              0.5555555555555556,
              "#d8576b"
             ],
             [
              0.6666666666666666,
              "#ed7953"
             ],
             [
              0.7777777777777778,
              "#fb9f3a"
             ],
             [
              0.8888888888888888,
              "#fdca26"
             ],
             [
              1,
              "#f0f921"
             ]
            ],
            "type": "histogram2d"
           }
          ],
          "histogram2dcontour": [
           {
            "colorbar": {
             "outlinewidth": 0,
             "ticks": ""
            },
            "colorscale": [
             [
              0,
              "#0d0887"
             ],
             [
              0.1111111111111111,
              "#46039f"
             ],
             [
              0.2222222222222222,
              "#7201a8"
             ],
             [
              0.3333333333333333,
              "#9c179e"
             ],
             [
              0.4444444444444444,
              "#bd3786"
             ],
             [
              0.5555555555555556,
              "#d8576b"
             ],
             [
              0.6666666666666666,
              "#ed7953"
             ],
             [
              0.7777777777777778,
              "#fb9f3a"
             ],
             [
              0.8888888888888888,
              "#fdca26"
             ],
             [
              1,
              "#f0f921"
             ]
            ],
            "type": "histogram2dcontour"
           }
          ],
          "mesh3d": [
           {
            "colorbar": {
             "outlinewidth": 0,
             "ticks": ""
            },
            "type": "mesh3d"
           }
          ],
          "parcoords": [
           {
            "line": {
             "colorbar": {
              "outlinewidth": 0,
              "ticks": ""
             }
            },
            "type": "parcoords"
           }
          ],
          "pie": [
           {
            "automargin": true,
            "type": "pie"
           }
          ],
          "scatter": [
           {
            "marker": {
             "line": {
              "color": "#283442"
             }
            },
            "type": "scatter"
           }
          ],
          "scatter3d": [
           {
            "line": {
             "colorbar": {
              "outlinewidth": 0,
              "ticks": ""
             }
            },
            "marker": {
             "colorbar": {
              "outlinewidth": 0,
              "ticks": ""
             }
            },
            "type": "scatter3d"
           }
          ],
          "scattercarpet": [
           {
            "marker": {
             "colorbar": {
              "outlinewidth": 0,
              "ticks": ""
             }
            },
            "type": "scattercarpet"
           }
          ],
          "scattergeo": [
           {
            "marker": {
             "colorbar": {
              "outlinewidth": 0,
              "ticks": ""
             }
            },
            "type": "scattergeo"
           }
          ],
          "scattergl": [
           {
            "marker": {
             "line": {
              "color": "#283442"
             }
            },
            "type": "scattergl"
           }
          ],
          "scattermapbox": [
           {
            "marker": {
             "colorbar": {
              "outlinewidth": 0,
              "ticks": ""
             }
            },
            "type": "scattermapbox"
           }
          ],
          "scatterpolar": [
           {
            "marker": {
             "colorbar": {
              "outlinewidth": 0,
              "ticks": ""
             }
            },
            "type": "scatterpolar"
           }
          ],
          "scatterpolargl": [
           {
            "marker": {
             "colorbar": {
              "outlinewidth": 0,
              "ticks": ""
             }
            },
            "type": "scatterpolargl"
           }
          ],
          "scatterternary": [
           {
            "marker": {
             "colorbar": {
              "outlinewidth": 0,
              "ticks": ""
             }
            },
            "type": "scatterternary"
           }
          ],
          "surface": [
           {
            "colorbar": {
             "outlinewidth": 0,
             "ticks": ""
            },
            "colorscale": [
             [
              0,
              "#0d0887"
             ],
             [
              0.1111111111111111,
              "#46039f"
             ],
             [
              0.2222222222222222,
              "#7201a8"
             ],
             [
              0.3333333333333333,
              "#9c179e"
             ],
             [
              0.4444444444444444,
              "#bd3786"
             ],
             [
              0.5555555555555556,
              "#d8576b"
             ],
             [
              0.6666666666666666,
              "#ed7953"
             ],
             [
              0.7777777777777778,
              "#fb9f3a"
             ],
             [
              0.8888888888888888,
              "#fdca26"
             ],
             [
              1,
              "#f0f921"
             ]
            ],
            "type": "surface"
           }
          ],
          "table": [
           {
            "cells": {
             "fill": {
              "color": "#506784"
             },
             "line": {
              "color": "rgb(17,17,17)"
             }
            },
            "header": {
             "fill": {
              "color": "#2a3f5f"
             },
             "line": {
              "color": "rgb(17,17,17)"
             }
            },
            "type": "table"
           }
          ]
         },
         "layout": {
          "annotationdefaults": {
           "arrowcolor": "#f2f5fa",
           "arrowhead": 0,
           "arrowwidth": 1
          },
          "autotypenumbers": "strict",
          "coloraxis": {
           "colorbar": {
            "outlinewidth": 0,
            "ticks": ""
           }
          },
          "colorscale": {
           "diverging": [
            [
             0,
             "#8e0152"
            ],
            [
             0.1,
             "#c51b7d"
            ],
            [
             0.2,
             "#de77ae"
            ],
            [
             0.3,
             "#f1b6da"
            ],
            [
             0.4,
             "#fde0ef"
            ],
            [
             0.5,
             "#f7f7f7"
            ],
            [
             0.6,
             "#e6f5d0"
            ],
            [
             0.7,
             "#b8e186"
            ],
            [
             0.8,
             "#7fbc41"
            ],
            [
             0.9,
             "#4d9221"
            ],
            [
             1,
             "#276419"
            ]
           ],
           "sequential": [
            [
             0,
             "#0d0887"
            ],
            [
             0.1111111111111111,
             "#46039f"
            ],
            [
             0.2222222222222222,
             "#7201a8"
            ],
            [
             0.3333333333333333,
             "#9c179e"
            ],
            [
             0.4444444444444444,
             "#bd3786"
            ],
            [
             0.5555555555555556,
             "#d8576b"
            ],
            [
             0.6666666666666666,
             "#ed7953"
            ],
            [
             0.7777777777777778,
             "#fb9f3a"
            ],
            [
             0.8888888888888888,
             "#fdca26"
            ],
            [
             1,
             "#f0f921"
            ]
           ],
           "sequentialminus": [
            [
             0,
             "#0d0887"
            ],
            [
             0.1111111111111111,
             "#46039f"
            ],
            [
             0.2222222222222222,
             "#7201a8"
            ],
            [
             0.3333333333333333,
             "#9c179e"
            ],
            [
             0.4444444444444444,
             "#bd3786"
            ],
            [
             0.5555555555555556,
             "#d8576b"
            ],
            [
             0.6666666666666666,
             "#ed7953"
            ],
            [
             0.7777777777777778,
             "#fb9f3a"
            ],
            [
             0.8888888888888888,
             "#fdca26"
            ],
            [
             1,
             "#f0f921"
            ]
           ]
          },
          "colorway": [
           "#636efa",
           "#EF553B",
           "#00cc96",
           "#ab63fa",
           "#FFA15A",
           "#19d3f3",
           "#FF6692",
           "#B6E880",
           "#FF97FF",
           "#FECB52"
          ],
          "font": {
           "color": "#f2f5fa"
          },
          "geo": {
           "bgcolor": "rgb(17,17,17)",
           "lakecolor": "rgb(17,17,17)",
           "landcolor": "rgb(17,17,17)",
           "showlakes": true,
           "showland": true,
           "subunitcolor": "#506784"
          },
          "hoverlabel": {
           "align": "left"
          },
          "hovermode": "closest",
          "mapbox": {
           "style": "dark"
          },
          "paper_bgcolor": "rgb(17,17,17)",
          "plot_bgcolor": "rgb(17,17,17)",
          "polar": {
           "angularaxis": {
            "gridcolor": "#506784",
            "linecolor": "#506784",
            "ticks": ""
           },
           "bgcolor": "rgb(17,17,17)",
           "radialaxis": {
            "gridcolor": "#506784",
            "linecolor": "#506784",
            "ticks": ""
           }
          },
          "scene": {
           "xaxis": {
            "backgroundcolor": "rgb(17,17,17)",
            "gridcolor": "#506784",
            "gridwidth": 2,
            "linecolor": "#506784",
            "showbackground": true,
            "ticks": "",
            "zerolinecolor": "#C8D4E3"
           },
           "yaxis": {
            "backgroundcolor": "rgb(17,17,17)",
            "gridcolor": "#506784",
            "gridwidth": 2,
            "linecolor": "#506784",
            "showbackground": true,
            "ticks": "",
            "zerolinecolor": "#C8D4E3"
           },
           "zaxis": {
            "backgroundcolor": "rgb(17,17,17)",
            "gridcolor": "#506784",
            "gridwidth": 2,
            "linecolor": "#506784",
            "showbackground": true,
            "ticks": "",
            "zerolinecolor": "#C8D4E3"
           }
          },
          "shapedefaults": {
           "line": {
            "color": "#f2f5fa"
           }
          },
          "sliderdefaults": {
           "bgcolor": "#C8D4E3",
           "bordercolor": "rgb(17,17,17)",
           "borderwidth": 1,
           "tickwidth": 0
          },
          "ternary": {
           "aaxis": {
            "gridcolor": "#506784",
            "linecolor": "#506784",
            "ticks": ""
           },
           "baxis": {
            "gridcolor": "#506784",
            "linecolor": "#506784",
            "ticks": ""
           },
           "bgcolor": "rgb(17,17,17)",
           "caxis": {
            "gridcolor": "#506784",
            "linecolor": "#506784",
            "ticks": ""
           }
          },
          "title": {
           "x": 0.05
          },
          "updatemenudefaults": {
           "bgcolor": "#506784",
           "borderwidth": 0
          },
          "xaxis": {
           "automargin": true,
           "gridcolor": "#283442",
           "linecolor": "#506784",
           "ticks": "",
           "title": {
            "standoff": 15
           },
           "zerolinecolor": "#283442",
           "zerolinewidth": 2
          },
          "yaxis": {
           "automargin": true,
           "gridcolor": "#283442",
           "linecolor": "#506784",
           "ticks": "",
           "title": {
            "standoff": 15
           },
           "zerolinecolor": "#283442",
           "zerolinewidth": 2
          }
         }
        },
        "title": {
         "text": "Price to Book"
        },
        "xaxis": {
         "anchor": "y",
         "domain": [
          0,
          1
         ],
         "title": {
          "text": "Companies"
         }
        },
        "yaxis": {
         "anchor": "x",
         "domain": [
          0,
          1
         ],
         "title": {
          "text": "price_to_book (R$)"
         }
        }
       }
      }
     },
     "metadata": {},
     "output_type": "display_data"
    }
   ],
   "source": [
    "df_top_companies.sort_values(by = 'price_to_book', ascending=True, inplace=True)\n",
    "\n",
    "fig_op_margin = px.bar(df_top_companies, title='Price to Book', x='long_name', y='price_to_book', color_discrete_sequence=['rgb(100, 195, 181)'], hover_name=df_top_companies.ticker, height=600)\n",
    "fig_op_margin.update_traces(text=[f'{x:.2f}x' for x in (df_top_companies['price_to_book'])], textposition='outside',textfont=dict(color='white'))\n",
    "fig_op_margin.update_layout(xaxis_title='Companies', yaxis_title='price_to_book (R$)', template = 'plotly_dark')\n",
    "fig_op_margin.show()"
   ]
  },
  {
   "cell_type": "markdown",
   "metadata": {},
   "source": [
    "- **`Centrais Elétricas Brasileiras S.A. - Eletrobrás`**: Price to Book ratio of **0.70x**, suggesting the company’s market value is less than its book value, which could indicate undervaluation.\n",
    "- **`Banco BTG Pactual S.A.`**: Price to Book ratio of **0.84x**, also indicating a potential undervaluation by the market.\n",
    "- **`Banco do Brasil S.A.`**: Price to Book ratio of **0.90x**, showing the stock is priced close to book value.\n",
    "- **`Banco Bradesco S.A.`**: Price to Book ratio of **0.91x**, very close to Banco do Brasil, suggesting a similar market valuation to book value.\n",
    "- **`Itaúsa S.A.`**: Price to Book ratio of **1.11x**, indicating the market values the company slightly above its book value.\n",
    "- **`Telefônica Brasil S.A.`**: Price to Book ratio of **1.11x**, mirroring Itaúsa's ratio, showing a market value just above book value.\n",
    "- **`Petróleo Brasileiro S.A. - Petrobras`**: Price to Book ratio of **1.35x**, suggesting the market values it above its net asset value.\n",
    "- **`Vale S.A.`**: Price to Book ratio of **1.50x**, indicating a higher market valuation compared to its book value.\n",
    "- **`Itaú Unibanco Holding S.A.`**: Price to Book ratio of **1.51x**, which is similar to Vale, indicating a slightly higher market value relative to book value.\n",
    "- **`Ambev S.A.`**: Price to Book ratio of **2.36x**, showing a considerable premium above the book value as perceived by the market.\n",
    "- **`WEG S.A.`**: Price to Book ratio of **9.00x**, significantly higher than the others, suggesting the market values the company's growth prospects or intangibles very highly.\n",
    "\n",
    "**`Conclusion`**:\n",
    "\n",
    "- The Price to Book ratios indicate a range of market valuations relative to the companies' book values. Typically, a ratio under 1x could imply undervaluation, where the market price is less than the company's book value, as seen with Eletrobrás and Banco BTG Pactual. Ratios around 1x, like those for Banco do Brasil and Bradesco, suggest market prices are aligned with the book value of the companies. Higher ratios, particularly the standout ratio for WEG S.A., imply the market assigns a high value to the company's potential future growth or its intangible assets. These variances reflect differing market perceptions and expectations of these companies' financial health and future performance.\n"
   ]
  },
  {
   "cell_type": "code",
   "execution_count": 32,
   "metadata": {},
   "outputs": [
    {
     "data": {
      "application/vnd.plotly.v1+json": {
       "config": {
        "plotlyServerURL": "https://plot.ly"
       },
       "data": [
        {
         "alignmentgroup": "True",
         "hovertemplate": "<b>%{hovertext}</b><br><br>long_name=%{x}<br>price_to_sales_trailing_12_months=%{y}<extra></extra>",
         "hovertext": [
          "PETR3.SA",
          "VALE3.SA",
          "BBAS3.SA",
          "VIVT3.SA",
          "BBDC4.SA",
          "ITUB4.SA",
          "ELET3.SA",
          "ABEV3.SA",
          "WEGE3.SA",
          "BPAC5.SA",
          "ITSA4.SA"
         ],
         "legendgroup": "",
         "marker": {
          "color": "rgb(100, 195, 181)",
          "pattern": {
           "shape": ""
          }
         },
         "name": "",
         "offsetgroup": "",
         "orientation": "v",
         "showlegend": false,
         "text": [
          "0.83x",
          "1.35x",
          "1.47x",
          "1.52x",
          "1.95x",
          "2.09x",
          "2.23x",
          "2.43x",
          "4.36x",
          "5.34x",
          "11.09x"
         ],
         "textfont": {
          "color": "white"
         },
         "textposition": "outside",
         "type": "bar",
         "x": [
          "Petróleo Brasileiro S.A. - Petrobras",
          "Vale S.A.",
          "Banco do Brasil S.A.",
          "Telefônica Brasil S.A.",
          "Banco Bradesco S.A.",
          "Itaú Unibanco Holding S.A.",
          "Centrais Elétricas Brasileiras S.A. - Eletrobrás",
          "Ambev S.A.",
          "WEG S.A.",
          "Banco BTG Pactual S.A.",
          "Itaúsa S.A."
         ],
         "xaxis": "x",
         "y": [
          0.8308848,
          1.3453289,
          1.4728581,
          1.5195276,
          1.9527043,
          2.090864,
          2.2328575,
          2.426816,
          4.359256,
          5.3448424,
          11.090173
         ],
         "yaxis": "y"
        }
       ],
       "layout": {
        "barmode": "relative",
        "height": 600,
        "legend": {
         "tracegroupgap": 0
        },
        "template": {
         "data": {
          "bar": [
           {
            "error_x": {
             "color": "#f2f5fa"
            },
            "error_y": {
             "color": "#f2f5fa"
            },
            "marker": {
             "line": {
              "color": "rgb(17,17,17)",
              "width": 0.5
             },
             "pattern": {
              "fillmode": "overlay",
              "size": 10,
              "solidity": 0.2
             }
            },
            "type": "bar"
           }
          ],
          "barpolar": [
           {
            "marker": {
             "line": {
              "color": "rgb(17,17,17)",
              "width": 0.5
             },
             "pattern": {
              "fillmode": "overlay",
              "size": 10,
              "solidity": 0.2
             }
            },
            "type": "barpolar"
           }
          ],
          "carpet": [
           {
            "aaxis": {
             "endlinecolor": "#A2B1C6",
             "gridcolor": "#506784",
             "linecolor": "#506784",
             "minorgridcolor": "#506784",
             "startlinecolor": "#A2B1C6"
            },
            "baxis": {
             "endlinecolor": "#A2B1C6",
             "gridcolor": "#506784",
             "linecolor": "#506784",
             "minorgridcolor": "#506784",
             "startlinecolor": "#A2B1C6"
            },
            "type": "carpet"
           }
          ],
          "choropleth": [
           {
            "colorbar": {
             "outlinewidth": 0,
             "ticks": ""
            },
            "type": "choropleth"
           }
          ],
          "contour": [
           {
            "colorbar": {
             "outlinewidth": 0,
             "ticks": ""
            },
            "colorscale": [
             [
              0,
              "#0d0887"
             ],
             [
              0.1111111111111111,
              "#46039f"
             ],
             [
              0.2222222222222222,
              "#7201a8"
             ],
             [
              0.3333333333333333,
              "#9c179e"
             ],
             [
              0.4444444444444444,
              "#bd3786"
             ],
             [
              0.5555555555555556,
              "#d8576b"
             ],
             [
              0.6666666666666666,
              "#ed7953"
             ],
             [
              0.7777777777777778,
              "#fb9f3a"
             ],
             [
              0.8888888888888888,
              "#fdca26"
             ],
             [
              1,
              "#f0f921"
             ]
            ],
            "type": "contour"
           }
          ],
          "contourcarpet": [
           {
            "colorbar": {
             "outlinewidth": 0,
             "ticks": ""
            },
            "type": "contourcarpet"
           }
          ],
          "heatmap": [
           {
            "colorbar": {
             "outlinewidth": 0,
             "ticks": ""
            },
            "colorscale": [
             [
              0,
              "#0d0887"
             ],
             [
              0.1111111111111111,
              "#46039f"
             ],
             [
              0.2222222222222222,
              "#7201a8"
             ],
             [
              0.3333333333333333,
              "#9c179e"
             ],
             [
              0.4444444444444444,
              "#bd3786"
             ],
             [
              0.5555555555555556,
              "#d8576b"
             ],
             [
              0.6666666666666666,
              "#ed7953"
             ],
             [
              0.7777777777777778,
              "#fb9f3a"
             ],
             [
              0.8888888888888888,
              "#fdca26"
             ],
             [
              1,
              "#f0f921"
             ]
            ],
            "type": "heatmap"
           }
          ],
          "heatmapgl": [
           {
            "colorbar": {
             "outlinewidth": 0,
             "ticks": ""
            },
            "colorscale": [
             [
              0,
              "#0d0887"
             ],
             [
              0.1111111111111111,
              "#46039f"
             ],
             [
              0.2222222222222222,
              "#7201a8"
             ],
             [
              0.3333333333333333,
              "#9c179e"
             ],
             [
              0.4444444444444444,
              "#bd3786"
             ],
             [
              0.5555555555555556,
              "#d8576b"
             ],
             [
              0.6666666666666666,
              "#ed7953"
             ],
             [
              0.7777777777777778,
              "#fb9f3a"
             ],
             [
              0.8888888888888888,
              "#fdca26"
             ],
             [
              1,
              "#f0f921"
             ]
            ],
            "type": "heatmapgl"
           }
          ],
          "histogram": [
           {
            "marker": {
             "pattern": {
              "fillmode": "overlay",
              "size": 10,
              "solidity": 0.2
             }
            },
            "type": "histogram"
           }
          ],
          "histogram2d": [
           {
            "colorbar": {
             "outlinewidth": 0,
             "ticks": ""
            },
            "colorscale": [
             [
              0,
              "#0d0887"
             ],
             [
              0.1111111111111111,
              "#46039f"
             ],
             [
              0.2222222222222222,
              "#7201a8"
             ],
             [
              0.3333333333333333,
              "#9c179e"
             ],
             [
              0.4444444444444444,
              "#bd3786"
             ],
             [
              0.5555555555555556,
              "#d8576b"
             ],
             [
              0.6666666666666666,
              "#ed7953"
             ],
             [
              0.7777777777777778,
              "#fb9f3a"
             ],
             [
              0.8888888888888888,
              "#fdca26"
             ],
             [
              1,
              "#f0f921"
             ]
            ],
            "type": "histogram2d"
           }
          ],
          "histogram2dcontour": [
           {
            "colorbar": {
             "outlinewidth": 0,
             "ticks": ""
            },
            "colorscale": [
             [
              0,
              "#0d0887"
             ],
             [
              0.1111111111111111,
              "#46039f"
             ],
             [
              0.2222222222222222,
              "#7201a8"
             ],
             [
              0.3333333333333333,
              "#9c179e"
             ],
             [
              0.4444444444444444,
              "#bd3786"
             ],
             [
              0.5555555555555556,
              "#d8576b"
             ],
             [
              0.6666666666666666,
              "#ed7953"
             ],
             [
              0.7777777777777778,
              "#fb9f3a"
             ],
             [
              0.8888888888888888,
              "#fdca26"
             ],
             [
              1,
              "#f0f921"
             ]
            ],
            "type": "histogram2dcontour"
           }
          ],
          "mesh3d": [
           {
            "colorbar": {
             "outlinewidth": 0,
             "ticks": ""
            },
            "type": "mesh3d"
           }
          ],
          "parcoords": [
           {
            "line": {
             "colorbar": {
              "outlinewidth": 0,
              "ticks": ""
             }
            },
            "type": "parcoords"
           }
          ],
          "pie": [
           {
            "automargin": true,
            "type": "pie"
           }
          ],
          "scatter": [
           {
            "marker": {
             "line": {
              "color": "#283442"
             }
            },
            "type": "scatter"
           }
          ],
          "scatter3d": [
           {
            "line": {
             "colorbar": {
              "outlinewidth": 0,
              "ticks": ""
             }
            },
            "marker": {
             "colorbar": {
              "outlinewidth": 0,
              "ticks": ""
             }
            },
            "type": "scatter3d"
           }
          ],
          "scattercarpet": [
           {
            "marker": {
             "colorbar": {
              "outlinewidth": 0,
              "ticks": ""
             }
            },
            "type": "scattercarpet"
           }
          ],
          "scattergeo": [
           {
            "marker": {
             "colorbar": {
              "outlinewidth": 0,
              "ticks": ""
             }
            },
            "type": "scattergeo"
           }
          ],
          "scattergl": [
           {
            "marker": {
             "line": {
              "color": "#283442"
             }
            },
            "type": "scattergl"
           }
          ],
          "scattermapbox": [
           {
            "marker": {
             "colorbar": {
              "outlinewidth": 0,
              "ticks": ""
             }
            },
            "type": "scattermapbox"
           }
          ],
          "scatterpolar": [
           {
            "marker": {
             "colorbar": {
              "outlinewidth": 0,
              "ticks": ""
             }
            },
            "type": "scatterpolar"
           }
          ],
          "scatterpolargl": [
           {
            "marker": {
             "colorbar": {
              "outlinewidth": 0,
              "ticks": ""
             }
            },
            "type": "scatterpolargl"
           }
          ],
          "scatterternary": [
           {
            "marker": {
             "colorbar": {
              "outlinewidth": 0,
              "ticks": ""
             }
            },
            "type": "scatterternary"
           }
          ],
          "surface": [
           {
            "colorbar": {
             "outlinewidth": 0,
             "ticks": ""
            },
            "colorscale": [
             [
              0,
              "#0d0887"
             ],
             [
              0.1111111111111111,
              "#46039f"
             ],
             [
              0.2222222222222222,
              "#7201a8"
             ],
             [
              0.3333333333333333,
              "#9c179e"
             ],
             [
              0.4444444444444444,
              "#bd3786"
             ],
             [
              0.5555555555555556,
              "#d8576b"
             ],
             [
              0.6666666666666666,
              "#ed7953"
             ],
             [
              0.7777777777777778,
              "#fb9f3a"
             ],
             [
              0.8888888888888888,
              "#fdca26"
             ],
             [
              1,
              "#f0f921"
             ]
            ],
            "type": "surface"
           }
          ],
          "table": [
           {
            "cells": {
             "fill": {
              "color": "#506784"
             },
             "line": {
              "color": "rgb(17,17,17)"
             }
            },
            "header": {
             "fill": {
              "color": "#2a3f5f"
             },
             "line": {
              "color": "rgb(17,17,17)"
             }
            },
            "type": "table"
           }
          ]
         },
         "layout": {
          "annotationdefaults": {
           "arrowcolor": "#f2f5fa",
           "arrowhead": 0,
           "arrowwidth": 1
          },
          "autotypenumbers": "strict",
          "coloraxis": {
           "colorbar": {
            "outlinewidth": 0,
            "ticks": ""
           }
          },
          "colorscale": {
           "diverging": [
            [
             0,
             "#8e0152"
            ],
            [
             0.1,
             "#c51b7d"
            ],
            [
             0.2,
             "#de77ae"
            ],
            [
             0.3,
             "#f1b6da"
            ],
            [
             0.4,
             "#fde0ef"
            ],
            [
             0.5,
             "#f7f7f7"
            ],
            [
             0.6,
             "#e6f5d0"
            ],
            [
             0.7,
             "#b8e186"
            ],
            [
             0.8,
             "#7fbc41"
            ],
            [
             0.9,
             "#4d9221"
            ],
            [
             1,
             "#276419"
            ]
           ],
           "sequential": [
            [
             0,
             "#0d0887"
            ],
            [
             0.1111111111111111,
             "#46039f"
            ],
            [
             0.2222222222222222,
             "#7201a8"
            ],
            [
             0.3333333333333333,
             "#9c179e"
            ],
            [
             0.4444444444444444,
             "#bd3786"
            ],
            [
             0.5555555555555556,
             "#d8576b"
            ],
            [
             0.6666666666666666,
             "#ed7953"
            ],
            [
             0.7777777777777778,
             "#fb9f3a"
            ],
            [
             0.8888888888888888,
             "#fdca26"
            ],
            [
             1,
             "#f0f921"
            ]
           ],
           "sequentialminus": [
            [
             0,
             "#0d0887"
            ],
            [
             0.1111111111111111,
             "#46039f"
            ],
            [
             0.2222222222222222,
             "#7201a8"
            ],
            [
             0.3333333333333333,
             "#9c179e"
            ],
            [
             0.4444444444444444,
             "#bd3786"
            ],
            [
             0.5555555555555556,
             "#d8576b"
            ],
            [
             0.6666666666666666,
             "#ed7953"
            ],
            [
             0.7777777777777778,
             "#fb9f3a"
            ],
            [
             0.8888888888888888,
             "#fdca26"
            ],
            [
             1,
             "#f0f921"
            ]
           ]
          },
          "colorway": [
           "#636efa",
           "#EF553B",
           "#00cc96",
           "#ab63fa",
           "#FFA15A",
           "#19d3f3",
           "#FF6692",
           "#B6E880",
           "#FF97FF",
           "#FECB52"
          ],
          "font": {
           "color": "#f2f5fa"
          },
          "geo": {
           "bgcolor": "rgb(17,17,17)",
           "lakecolor": "rgb(17,17,17)",
           "landcolor": "rgb(17,17,17)",
           "showlakes": true,
           "showland": true,
           "subunitcolor": "#506784"
          },
          "hoverlabel": {
           "align": "left"
          },
          "hovermode": "closest",
          "mapbox": {
           "style": "dark"
          },
          "paper_bgcolor": "rgb(17,17,17)",
          "plot_bgcolor": "rgb(17,17,17)",
          "polar": {
           "angularaxis": {
            "gridcolor": "#506784",
            "linecolor": "#506784",
            "ticks": ""
           },
           "bgcolor": "rgb(17,17,17)",
           "radialaxis": {
            "gridcolor": "#506784",
            "linecolor": "#506784",
            "ticks": ""
           }
          },
          "scene": {
           "xaxis": {
            "backgroundcolor": "rgb(17,17,17)",
            "gridcolor": "#506784",
            "gridwidth": 2,
            "linecolor": "#506784",
            "showbackground": true,
            "ticks": "",
            "zerolinecolor": "#C8D4E3"
           },
           "yaxis": {
            "backgroundcolor": "rgb(17,17,17)",
            "gridcolor": "#506784",
            "gridwidth": 2,
            "linecolor": "#506784",
            "showbackground": true,
            "ticks": "",
            "zerolinecolor": "#C8D4E3"
           },
           "zaxis": {
            "backgroundcolor": "rgb(17,17,17)",
            "gridcolor": "#506784",
            "gridwidth": 2,
            "linecolor": "#506784",
            "showbackground": true,
            "ticks": "",
            "zerolinecolor": "#C8D4E3"
           }
          },
          "shapedefaults": {
           "line": {
            "color": "#f2f5fa"
           }
          },
          "sliderdefaults": {
           "bgcolor": "#C8D4E3",
           "bordercolor": "rgb(17,17,17)",
           "borderwidth": 1,
           "tickwidth": 0
          },
          "ternary": {
           "aaxis": {
            "gridcolor": "#506784",
            "linecolor": "#506784",
            "ticks": ""
           },
           "baxis": {
            "gridcolor": "#506784",
            "linecolor": "#506784",
            "ticks": ""
           },
           "bgcolor": "rgb(17,17,17)",
           "caxis": {
            "gridcolor": "#506784",
            "linecolor": "#506784",
            "ticks": ""
           }
          },
          "title": {
           "x": 0.05
          },
          "updatemenudefaults": {
           "bgcolor": "#506784",
           "borderwidth": 0
          },
          "xaxis": {
           "automargin": true,
           "gridcolor": "#283442",
           "linecolor": "#506784",
           "ticks": "",
           "title": {
            "standoff": 15
           },
           "zerolinecolor": "#283442",
           "zerolinewidth": 2
          },
          "yaxis": {
           "automargin": true,
           "gridcolor": "#283442",
           "linecolor": "#506784",
           "ticks": "",
           "title": {
            "standoff": 15
           },
           "zerolinecolor": "#283442",
           "zerolinewidth": 2
          }
         }
        },
        "title": {
         "text": "Total Debt"
        },
        "xaxis": {
         "anchor": "y",
         "domain": [
          0,
          1
         ],
         "title": {
          "text": "Companies"
         }
        },
        "yaxis": {
         "anchor": "x",
         "domain": [
          0,
          1
         ],
         "title": {
          "text": "Price To Sale"
         }
        }
       }
      }
     },
     "metadata": {},
     "output_type": "display_data"
    }
   ],
   "source": [
    "df_top_companies.sort_values(by = 'price_to_sales_trailing_12_months', ascending=True, inplace=True)\n",
    "\n",
    "fig_op_margin = px.bar(df_top_companies, title='Total Debt', x='long_name', y='price_to_sales_trailing_12_months', color_discrete_sequence=['rgb(100, 195, 181)'], hover_name=df_top_companies.ticker, height=600)\n",
    "fig_op_margin.update_traces(text=[f'{x:.2f}x' for x in (df_top_companies['price_to_sales_trailing_12_months'])], textposition='outside',textfont=dict(color='white'))\n",
    "fig_op_margin.update_layout(xaxis_title='Companies', yaxis_title='Price To Sale', template = 'plotly_dark')\n",
    "fig_op_margin.show()"
   ]
  },
  {
   "cell_type": "markdown",
   "metadata": {},
   "source": [
    "- **`Petróleo Brasileiro S.A. - Petrobras`**: Price to Sale ratio of **0.83x**, which may suggest the stock is undervalued compared to its sales.\n",
    "- **`Vale S.A.`**: Price to Sale ratio of **1.35x**, indicating the market values the company moderately above its sales revenue.\n",
    "- **`Banco do Brasil S.A.`**: Price to Sale ratio of **1.47x**, showing a slightly higher valuation relative to sales compared to Vale.\n",
    "- **`Telefônica Brasil S.A.`**: Price to Sale ratio of **1.52x**, suggesting the market values its revenue streams positively.\n",
    "- **`Banco Bradesco S.A.`**: Price to Sale ratio of **1.95x**, indicating a higher market valuation against its sales figures.\n",
    "- **`Itaú Unibanco Holding S.A.`**: Price to Sale ratio of **2.09x**, which implies that the market expects higher efficiency or profitability relative to its current sales.\n",
    "- **`Centrais Elétricas Brasileiras S.A. - Eletrobrás`**: Price to Sale ratio of **2.23x**, suggesting a reasonable market valuation compared to its sales.\n",
    "- **`Ambev S.A.`**: Price to Sale ratio of **2.43x**, indicating the market is pricing its sales more optimistically.\n",
    "- **`WEG S.A.`**: Price to Sale ratio of **4.36x**, which is significantly higher, potentially reflecting strong future growth expectations from the market.\n",
    "- **`Banco BTG Pactual S.A.`**: Price to Sale ratio of **5.34x**, reflecting a premium valuation, which could suggest high expected growth or profitability.\n",
    "- **`Itaúsa S.A.`**: Price to Sale ratio of **11.09x**, substantially higher than the others, suggesting the market has high expectations for future sales growth or profitability.\n",
    "\n",
    "**`Conclusion`**:\n",
    "\n",
    "- The Price to Sale ratios show the market's relative valuation of these companies' sales. Lower ratios like that of Petrobras may indicate undervaluation or a conservative market view of future sales growth. Moderate ratios, seen with companies like Vale and Banco do Brasil, may reflect a balanced market expectation. High ratios, particularly the extreme value for Itaúsa, suggest that investors are willing to pay a significant premium for the company's current sales, often due to high growth prospects or exceptional profitability. This varied range of ratios reflects the diverse industry sectors and different market expectations for future performance.\n"
   ]
  },
  {
   "cell_type": "markdown",
   "metadata": {},
   "source": [
    "### Dividends:"
   ]
  },
  {
   "cell_type": "code",
   "execution_count": 33,
   "metadata": {},
   "outputs": [
    {
     "data": {
      "application/vnd.plotly.v1+json": {
       "config": {
        "plotlyServerURL": "https://plot.ly"
       },
       "data": [
        {
         "alignmentgroup": "True",
         "hovertemplate": "<b>%{hovertext}</b><br><br>long_name=%{x}<br>dividend_rate=%{y}<extra></extra>",
         "hovertext": [
          "ELET3.SA",
          "BBDC4.SA",
          "WEGE3.SA",
          "BPAC5.SA",
          "ITSA4.SA",
          "ABEV3.SA",
          "BBAS3.SA",
          "ITUB4.SA",
          "VIVT3.SA",
          "VALE3.SA",
          "PETR3.SA"
         ],
         "legendgroup": "",
         "marker": {
          "color": "rgb(100, 195, 181)",
          "pattern": {
           "shape": ""
          }
         },
         "name": "",
         "offsetgroup": "",
         "orientation": "v",
         "showlegend": false,
         "text": [
          "R$0.22",
          "R$0.23",
          "R$0.32",
          "R$0.35",
          "R$0.74",
          "R$0.76",
          "R$0.94",
          "R$1.50",
          "R$2.58",
          "R$3.84",
          "R$9.28"
         ],
         "textfont": {
          "color": "white"
         },
         "textposition": "outside",
         "type": "bar",
         "x": [
          "Centrais Elétricas Brasileiras S.A. - Eletrobrás",
          "Banco Bradesco S.A.",
          "WEG S.A.",
          "Banco BTG Pactual S.A.",
          "Itaúsa S.A.",
          "Ambev S.A.",
          "Banco do Brasil S.A.",
          "Itaú Unibanco Holding S.A.",
          "Telefônica Brasil S.A.",
          "Vale S.A.",
          "Petróleo Brasileiro S.A. - Petrobras"
         ],
         "xaxis": "x",
         "y": [
          0.22,
          0.23,
          0.32,
          0.35,
          0.74,
          0.76,
          0.94,
          1.5,
          2.58,
          3.84,
          9.28
         ],
         "yaxis": "y"
        }
       ],
       "layout": {
        "barmode": "relative",
        "height": 600,
        "legend": {
         "tracegroupgap": 0
        },
        "template": {
         "data": {
          "bar": [
           {
            "error_x": {
             "color": "#f2f5fa"
            },
            "error_y": {
             "color": "#f2f5fa"
            },
            "marker": {
             "line": {
              "color": "rgb(17,17,17)",
              "width": 0.5
             },
             "pattern": {
              "fillmode": "overlay",
              "size": 10,
              "solidity": 0.2
             }
            },
            "type": "bar"
           }
          ],
          "barpolar": [
           {
            "marker": {
             "line": {
              "color": "rgb(17,17,17)",
              "width": 0.5
             },
             "pattern": {
              "fillmode": "overlay",
              "size": 10,
              "solidity": 0.2
             }
            },
            "type": "barpolar"
           }
          ],
          "carpet": [
           {
            "aaxis": {
             "endlinecolor": "#A2B1C6",
             "gridcolor": "#506784",
             "linecolor": "#506784",
             "minorgridcolor": "#506784",
             "startlinecolor": "#A2B1C6"
            },
            "baxis": {
             "endlinecolor": "#A2B1C6",
             "gridcolor": "#506784",
             "linecolor": "#506784",
             "minorgridcolor": "#506784",
             "startlinecolor": "#A2B1C6"
            },
            "type": "carpet"
           }
          ],
          "choropleth": [
           {
            "colorbar": {
             "outlinewidth": 0,
             "ticks": ""
            },
            "type": "choropleth"
           }
          ],
          "contour": [
           {
            "colorbar": {
             "outlinewidth": 0,
             "ticks": ""
            },
            "colorscale": [
             [
              0,
              "#0d0887"
             ],
             [
              0.1111111111111111,
              "#46039f"
             ],
             [
              0.2222222222222222,
              "#7201a8"
             ],
             [
              0.3333333333333333,
              "#9c179e"
             ],
             [
              0.4444444444444444,
              "#bd3786"
             ],
             [
              0.5555555555555556,
              "#d8576b"
             ],
             [
              0.6666666666666666,
              "#ed7953"
             ],
             [
              0.7777777777777778,
              "#fb9f3a"
             ],
             [
              0.8888888888888888,
              "#fdca26"
             ],
             [
              1,
              "#f0f921"
             ]
            ],
            "type": "contour"
           }
          ],
          "contourcarpet": [
           {
            "colorbar": {
             "outlinewidth": 0,
             "ticks": ""
            },
            "type": "contourcarpet"
           }
          ],
          "heatmap": [
           {
            "colorbar": {
             "outlinewidth": 0,
             "ticks": ""
            },
            "colorscale": [
             [
              0,
              "#0d0887"
             ],
             [
              0.1111111111111111,
              "#46039f"
             ],
             [
              0.2222222222222222,
              "#7201a8"
             ],
             [
              0.3333333333333333,
              "#9c179e"
             ],
             [
              0.4444444444444444,
              "#bd3786"
             ],
             [
              0.5555555555555556,
              "#d8576b"
             ],
             [
              0.6666666666666666,
              "#ed7953"
             ],
             [
              0.7777777777777778,
              "#fb9f3a"
             ],
             [
              0.8888888888888888,
              "#fdca26"
             ],
             [
              1,
              "#f0f921"
             ]
            ],
            "type": "heatmap"
           }
          ],
          "heatmapgl": [
           {
            "colorbar": {
             "outlinewidth": 0,
             "ticks": ""
            },
            "colorscale": [
             [
              0,
              "#0d0887"
             ],
             [
              0.1111111111111111,
              "#46039f"
             ],
             [
              0.2222222222222222,
              "#7201a8"
             ],
             [
              0.3333333333333333,
              "#9c179e"
             ],
             [
              0.4444444444444444,
              "#bd3786"
             ],
             [
              0.5555555555555556,
              "#d8576b"
             ],
             [
              0.6666666666666666,
              "#ed7953"
             ],
             [
              0.7777777777777778,
              "#fb9f3a"
             ],
             [
              0.8888888888888888,
              "#fdca26"
             ],
             [
              1,
              "#f0f921"
             ]
            ],
            "type": "heatmapgl"
           }
          ],
          "histogram": [
           {
            "marker": {
             "pattern": {
              "fillmode": "overlay",
              "size": 10,
              "solidity": 0.2
             }
            },
            "type": "histogram"
           }
          ],
          "histogram2d": [
           {
            "colorbar": {
             "outlinewidth": 0,
             "ticks": ""
            },
            "colorscale": [
             [
              0,
              "#0d0887"
             ],
             [
              0.1111111111111111,
              "#46039f"
             ],
             [
              0.2222222222222222,
              "#7201a8"
             ],
             [
              0.3333333333333333,
              "#9c179e"
             ],
             [
              0.4444444444444444,
              "#bd3786"
             ],
             [
              0.5555555555555556,
              "#d8576b"
             ],
             [
              0.6666666666666666,
              "#ed7953"
             ],
             [
              0.7777777777777778,
              "#fb9f3a"
             ],
             [
              0.8888888888888888,
              "#fdca26"
             ],
             [
              1,
              "#f0f921"
             ]
            ],
            "type": "histogram2d"
           }
          ],
          "histogram2dcontour": [
           {
            "colorbar": {
             "outlinewidth": 0,
             "ticks": ""
            },
            "colorscale": [
             [
              0,
              "#0d0887"
             ],
             [
              0.1111111111111111,
              "#46039f"
             ],
             [
              0.2222222222222222,
              "#7201a8"
             ],
             [
              0.3333333333333333,
              "#9c179e"
             ],
             [
              0.4444444444444444,
              "#bd3786"
             ],
             [
              0.5555555555555556,
              "#d8576b"
             ],
             [
              0.6666666666666666,
              "#ed7953"
             ],
             [
              0.7777777777777778,
              "#fb9f3a"
             ],
             [
              0.8888888888888888,
              "#fdca26"
             ],
             [
              1,
              "#f0f921"
             ]
            ],
            "type": "histogram2dcontour"
           }
          ],
          "mesh3d": [
           {
            "colorbar": {
             "outlinewidth": 0,
             "ticks": ""
            },
            "type": "mesh3d"
           }
          ],
          "parcoords": [
           {
            "line": {
             "colorbar": {
              "outlinewidth": 0,
              "ticks": ""
             }
            },
            "type": "parcoords"
           }
          ],
          "pie": [
           {
            "automargin": true,
            "type": "pie"
           }
          ],
          "scatter": [
           {
            "marker": {
             "line": {
              "color": "#283442"
             }
            },
            "type": "scatter"
           }
          ],
          "scatter3d": [
           {
            "line": {
             "colorbar": {
              "outlinewidth": 0,
              "ticks": ""
             }
            },
            "marker": {
             "colorbar": {
              "outlinewidth": 0,
              "ticks": ""
             }
            },
            "type": "scatter3d"
           }
          ],
          "scattercarpet": [
           {
            "marker": {
             "colorbar": {
              "outlinewidth": 0,
              "ticks": ""
             }
            },
            "type": "scattercarpet"
           }
          ],
          "scattergeo": [
           {
            "marker": {
             "colorbar": {
              "outlinewidth": 0,
              "ticks": ""
             }
            },
            "type": "scattergeo"
           }
          ],
          "scattergl": [
           {
            "marker": {
             "line": {
              "color": "#283442"
             }
            },
            "type": "scattergl"
           }
          ],
          "scattermapbox": [
           {
            "marker": {
             "colorbar": {
              "outlinewidth": 0,
              "ticks": ""
             }
            },
            "type": "scattermapbox"
           }
          ],
          "scatterpolar": [
           {
            "marker": {
             "colorbar": {
              "outlinewidth": 0,
              "ticks": ""
             }
            },
            "type": "scatterpolar"
           }
          ],
          "scatterpolargl": [
           {
            "marker": {
             "colorbar": {
              "outlinewidth": 0,
              "ticks": ""
             }
            },
            "type": "scatterpolargl"
           }
          ],
          "scatterternary": [
           {
            "marker": {
             "colorbar": {
              "outlinewidth": 0,
              "ticks": ""
             }
            },
            "type": "scatterternary"
           }
          ],
          "surface": [
           {
            "colorbar": {
             "outlinewidth": 0,
             "ticks": ""
            },
            "colorscale": [
             [
              0,
              "#0d0887"
             ],
             [
              0.1111111111111111,
              "#46039f"
             ],
             [
              0.2222222222222222,
              "#7201a8"
             ],
             [
              0.3333333333333333,
              "#9c179e"
             ],
             [
              0.4444444444444444,
              "#bd3786"
             ],
             [
              0.5555555555555556,
              "#d8576b"
             ],
             [
              0.6666666666666666,
              "#ed7953"
             ],
             [
              0.7777777777777778,
              "#fb9f3a"
             ],
             [
              0.8888888888888888,
              "#fdca26"
             ],
             [
              1,
              "#f0f921"
             ]
            ],
            "type": "surface"
           }
          ],
          "table": [
           {
            "cells": {
             "fill": {
              "color": "#506784"
             },
             "line": {
              "color": "rgb(17,17,17)"
             }
            },
            "header": {
             "fill": {
              "color": "#2a3f5f"
             },
             "line": {
              "color": "rgb(17,17,17)"
             }
            },
            "type": "table"
           }
          ]
         },
         "layout": {
          "annotationdefaults": {
           "arrowcolor": "#f2f5fa",
           "arrowhead": 0,
           "arrowwidth": 1
          },
          "autotypenumbers": "strict",
          "coloraxis": {
           "colorbar": {
            "outlinewidth": 0,
            "ticks": ""
           }
          },
          "colorscale": {
           "diverging": [
            [
             0,
             "#8e0152"
            ],
            [
             0.1,
             "#c51b7d"
            ],
            [
             0.2,
             "#de77ae"
            ],
            [
             0.3,
             "#f1b6da"
            ],
            [
             0.4,
             "#fde0ef"
            ],
            [
             0.5,
             "#f7f7f7"
            ],
            [
             0.6,
             "#e6f5d0"
            ],
            [
             0.7,
             "#b8e186"
            ],
            [
             0.8,
             "#7fbc41"
            ],
            [
             0.9,
             "#4d9221"
            ],
            [
             1,
             "#276419"
            ]
           ],
           "sequential": [
            [
             0,
             "#0d0887"
            ],
            [
             0.1111111111111111,
             "#46039f"
            ],
            [
             0.2222222222222222,
             "#7201a8"
            ],
            [
             0.3333333333333333,
             "#9c179e"
            ],
            [
             0.4444444444444444,
             "#bd3786"
            ],
            [
             0.5555555555555556,
             "#d8576b"
            ],
            [
             0.6666666666666666,
             "#ed7953"
            ],
            [
             0.7777777777777778,
             "#fb9f3a"
            ],
            [
             0.8888888888888888,
             "#fdca26"
            ],
            [
             1,
             "#f0f921"
            ]
           ],
           "sequentialminus": [
            [
             0,
             "#0d0887"
            ],
            [
             0.1111111111111111,
             "#46039f"
            ],
            [
             0.2222222222222222,
             "#7201a8"
            ],
            [
             0.3333333333333333,
             "#9c179e"
            ],
            [
             0.4444444444444444,
             "#bd3786"
            ],
            [
             0.5555555555555556,
             "#d8576b"
            ],
            [
             0.6666666666666666,
             "#ed7953"
            ],
            [
             0.7777777777777778,
             "#fb9f3a"
            ],
            [
             0.8888888888888888,
             "#fdca26"
            ],
            [
             1,
             "#f0f921"
            ]
           ]
          },
          "colorway": [
           "#636efa",
           "#EF553B",
           "#00cc96",
           "#ab63fa",
           "#FFA15A",
           "#19d3f3",
           "#FF6692",
           "#B6E880",
           "#FF97FF",
           "#FECB52"
          ],
          "font": {
           "color": "#f2f5fa"
          },
          "geo": {
           "bgcolor": "rgb(17,17,17)",
           "lakecolor": "rgb(17,17,17)",
           "landcolor": "rgb(17,17,17)",
           "showlakes": true,
           "showland": true,
           "subunitcolor": "#506784"
          },
          "hoverlabel": {
           "align": "left"
          },
          "hovermode": "closest",
          "mapbox": {
           "style": "dark"
          },
          "paper_bgcolor": "rgb(17,17,17)",
          "plot_bgcolor": "rgb(17,17,17)",
          "polar": {
           "angularaxis": {
            "gridcolor": "#506784",
            "linecolor": "#506784",
            "ticks": ""
           },
           "bgcolor": "rgb(17,17,17)",
           "radialaxis": {
            "gridcolor": "#506784",
            "linecolor": "#506784",
            "ticks": ""
           }
          },
          "scene": {
           "xaxis": {
            "backgroundcolor": "rgb(17,17,17)",
            "gridcolor": "#506784",
            "gridwidth": 2,
            "linecolor": "#506784",
            "showbackground": true,
            "ticks": "",
            "zerolinecolor": "#C8D4E3"
           },
           "yaxis": {
            "backgroundcolor": "rgb(17,17,17)",
            "gridcolor": "#506784",
            "gridwidth": 2,
            "linecolor": "#506784",
            "showbackground": true,
            "ticks": "",
            "zerolinecolor": "#C8D4E3"
           },
           "zaxis": {
            "backgroundcolor": "rgb(17,17,17)",
            "gridcolor": "#506784",
            "gridwidth": 2,
            "linecolor": "#506784",
            "showbackground": true,
            "ticks": "",
            "zerolinecolor": "#C8D4E3"
           }
          },
          "shapedefaults": {
           "line": {
            "color": "#f2f5fa"
           }
          },
          "sliderdefaults": {
           "bgcolor": "#C8D4E3",
           "bordercolor": "rgb(17,17,17)",
           "borderwidth": 1,
           "tickwidth": 0
          },
          "ternary": {
           "aaxis": {
            "gridcolor": "#506784",
            "linecolor": "#506784",
            "ticks": ""
           },
           "baxis": {
            "gridcolor": "#506784",
            "linecolor": "#506784",
            "ticks": ""
           },
           "bgcolor": "rgb(17,17,17)",
           "caxis": {
            "gridcolor": "#506784",
            "linecolor": "#506784",
            "ticks": ""
           }
          },
          "title": {
           "x": 0.05
          },
          "updatemenudefaults": {
           "bgcolor": "#506784",
           "borderwidth": 0
          },
          "xaxis": {
           "automargin": true,
           "gridcolor": "#283442",
           "linecolor": "#506784",
           "ticks": "",
           "title": {
            "standoff": 15
           },
           "zerolinecolor": "#283442",
           "zerolinewidth": 2
          },
          "yaxis": {
           "automargin": true,
           "gridcolor": "#283442",
           "linecolor": "#506784",
           "ticks": "",
           "title": {
            "standoff": 15
           },
           "zerolinecolor": "#283442",
           "zerolinewidth": 2
          }
         }
        },
        "title": {
         "text": "Dividend: Dividend Rate"
        },
        "xaxis": {
         "anchor": "y",
         "domain": [
          0,
          1
         ],
         "title": {
          "text": "Companies"
         }
        },
        "yaxis": {
         "anchor": "x",
         "domain": [
          0,
          1
         ],
         "title": {
          "text": "Dividend Rate (R$)"
         }
        }
       }
      }
     },
     "metadata": {},
     "output_type": "display_data"
    }
   ],
   "source": [
    "df_top_companies.sort_values(by = 'dividend_rate', ascending=True, inplace=True)\n",
    "\n",
    "fig_op_margin = px.bar(df_top_companies, title='Dividend: Dividend Rate', x='long_name', y='dividend_rate', color_discrete_sequence=['rgb(100, 195, 181)'], hover_name=df_top_companies.ticker, height=600)\n",
    "fig_op_margin.update_traces(text=[f'R${x:.2f}' for x in (df_top_companies['dividend_rate'])], textposition='outside',textfont=dict(color='white'))\n",
    "fig_op_margin.update_layout(xaxis_title='Companies', yaxis_title='Dividend Rate (R$)', template = 'plotly_dark')\n",
    "fig_op_margin.show()"
   ]
  },
  {
   "cell_type": "markdown",
   "metadata": {},
   "source": [
    "**`Dividend Rate Variation`**:\n",
    "- Dividend rates `vary significantly` among companies. Some companies have `relatively low dividend rates`, such as `Eletrobras`, `Bradesco`, and `WEG`, all with less than **R$0.40**. Others, like `Telefônica Brasil` and `Itaúsa`, have `moderate rates`, between **R$1.50** and **R$2.58**. `Vale` has a `higher rate` of **R$3.84**. `Petrobras` stands out with the `highest dividend rate` of **R$9.28**.\n",
    "\n",
    "**`Comparison Across Sectors`**:\n",
    "- Petrobras, operating in the oil and energy sector, has a substantially higher dividend rate than other listed companies. This may indicate a more generous dividend policy or particularly strong financial performance during the analyzed period.\n",
    "\n",
    "**`Financial Sector Considerations`**:\n",
    "- Companies in the `financial sector` such as `Bradesco`, `Banco do Brasil`, and `Itaú` have `lower dividend rates` compared to `Petrobras`. This could reflect differences in `dividend policies` within sectors or in the `financial outcomes` of the companies.\n",
    "\n",
    "**`Conclusion`**:\n",
    "- The analysis of the chart suggests that Petrobras stands out as the company with the highest dividend rate among those listed, which may be an indicator of its ability to generate cash and return capital to shareholders. The variation in dividend rates among companies can be attributed to a combination of factors, including differences in financial performance, corporate dividend distribution strategy, retention of profits for reinvestment, and sector conditions. Investors interested in dividend yields may find Petrobras particularly attractive, but should also consider other factors such as the stability of payments, sector prospects, and the sustainability of profits when evaluating where to invest.\n"
   ]
  },
  {
   "cell_type": "code",
   "execution_count": 34,
   "metadata": {},
   "outputs": [
    {
     "data": {
      "application/vnd.plotly.v1+json": {
       "config": {
        "plotlyServerURL": "https://plot.ly"
       },
       "data": [
        {
         "alignmentgroup": "True",
         "hovertemplate": "<b>%{hovertext}</b><br><br>long_name=%{x}<br>trailing_annual_dividend_yield=%{y}<extra></extra>",
         "hovertext": [
          "BPAC5.SA",
          "ITUB4.SA",
          "WEGE3.SA",
          "BBDC4.SA",
          "VIVT3.SA",
          "ELET3.SA",
          "ITSA4.SA",
          "ABEV3.SA",
          "VALE3.SA",
          "BBAS3.SA",
          "PETR3.SA"
         ],
         "legendgroup": "",
         "marker": {
          "color": "rgb(100, 195, 181)",
          "pattern": {
           "shape": ""
          }
         },
         "name": "",
         "offsetgroup": "",
         "orientation": "v",
         "showlegend": false,
         "text": [
          "%0.00",
          "%1.86",
          "%2.13",
          "%2.84",
          "%4.18",
          "%4.36",
          "%5.91",
          "%6.13",
          "%6.31",
          "%9.17",
          "%24.73"
         ],
         "textfont": {
          "color": "white"
         },
         "textposition": "outside",
         "type": "bar",
         "x": [
          "Banco BTG Pactual S.A.",
          "Itaú Unibanco Holding S.A.",
          "WEG S.A.",
          "Banco Bradesco S.A.",
          "Telefônica Brasil S.A.",
          "Centrais Elétricas Brasileiras S.A. - Eletrobrás",
          "Itaúsa S.A.",
          "Ambev S.A.",
          "Vale S.A.",
          "Banco do Brasil S.A.",
          "Petróleo Brasileiro S.A. - Petrobras"
         ],
         "xaxis": "x",
         "y": [
          0,
          0.018602071,
          0.021290118,
          0.028359264,
          0.041811384,
          0.043645926,
          0.05912744,
          0.061254025,
          0.063147195,
          0.09174312,
          0.24729833
         ],
         "yaxis": "y"
        }
       ],
       "layout": {
        "barmode": "relative",
        "height": 600,
        "legend": {
         "tracegroupgap": 0
        },
        "template": {
         "data": {
          "bar": [
           {
            "error_x": {
             "color": "#f2f5fa"
            },
            "error_y": {
             "color": "#f2f5fa"
            },
            "marker": {
             "line": {
              "color": "rgb(17,17,17)",
              "width": 0.5
             },
             "pattern": {
              "fillmode": "overlay",
              "size": 10,
              "solidity": 0.2
             }
            },
            "type": "bar"
           }
          ],
          "barpolar": [
           {
            "marker": {
             "line": {
              "color": "rgb(17,17,17)",
              "width": 0.5
             },
             "pattern": {
              "fillmode": "overlay",
              "size": 10,
              "solidity": 0.2
             }
            },
            "type": "barpolar"
           }
          ],
          "carpet": [
           {
            "aaxis": {
             "endlinecolor": "#A2B1C6",
             "gridcolor": "#506784",
             "linecolor": "#506784",
             "minorgridcolor": "#506784",
             "startlinecolor": "#A2B1C6"
            },
            "baxis": {
             "endlinecolor": "#A2B1C6",
             "gridcolor": "#506784",
             "linecolor": "#506784",
             "minorgridcolor": "#506784",
             "startlinecolor": "#A2B1C6"
            },
            "type": "carpet"
           }
          ],
          "choropleth": [
           {
            "colorbar": {
             "outlinewidth": 0,
             "ticks": ""
            },
            "type": "choropleth"
           }
          ],
          "contour": [
           {
            "colorbar": {
             "outlinewidth": 0,
             "ticks": ""
            },
            "colorscale": [
             [
              0,
              "#0d0887"
             ],
             [
              0.1111111111111111,
              "#46039f"
             ],
             [
              0.2222222222222222,
              "#7201a8"
             ],
             [
              0.3333333333333333,
              "#9c179e"
             ],
             [
              0.4444444444444444,
              "#bd3786"
             ],
             [
              0.5555555555555556,
              "#d8576b"
             ],
             [
              0.6666666666666666,
              "#ed7953"
             ],
             [
              0.7777777777777778,
              "#fb9f3a"
             ],
             [
              0.8888888888888888,
              "#fdca26"
             ],
             [
              1,
              "#f0f921"
             ]
            ],
            "type": "contour"
           }
          ],
          "contourcarpet": [
           {
            "colorbar": {
             "outlinewidth": 0,
             "ticks": ""
            },
            "type": "contourcarpet"
           }
          ],
          "heatmap": [
           {
            "colorbar": {
             "outlinewidth": 0,
             "ticks": ""
            },
            "colorscale": [
             [
              0,
              "#0d0887"
             ],
             [
              0.1111111111111111,
              "#46039f"
             ],
             [
              0.2222222222222222,
              "#7201a8"
             ],
             [
              0.3333333333333333,
              "#9c179e"
             ],
             [
              0.4444444444444444,
              "#bd3786"
             ],
             [
              0.5555555555555556,
              "#d8576b"
             ],
             [
              0.6666666666666666,
              "#ed7953"
             ],
             [
              0.7777777777777778,
              "#fb9f3a"
             ],
             [
              0.8888888888888888,
              "#fdca26"
             ],
             [
              1,
              "#f0f921"
             ]
            ],
            "type": "heatmap"
           }
          ],
          "heatmapgl": [
           {
            "colorbar": {
             "outlinewidth": 0,
             "ticks": ""
            },
            "colorscale": [
             [
              0,
              "#0d0887"
             ],
             [
              0.1111111111111111,
              "#46039f"
             ],
             [
              0.2222222222222222,
              "#7201a8"
             ],
             [
              0.3333333333333333,
              "#9c179e"
             ],
             [
              0.4444444444444444,
              "#bd3786"
             ],
             [
              0.5555555555555556,
              "#d8576b"
             ],
             [
              0.6666666666666666,
              "#ed7953"
             ],
             [
              0.7777777777777778,
              "#fb9f3a"
             ],
             [
              0.8888888888888888,
              "#fdca26"
             ],
             [
              1,
              "#f0f921"
             ]
            ],
            "type": "heatmapgl"
           }
          ],
          "histogram": [
           {
            "marker": {
             "pattern": {
              "fillmode": "overlay",
              "size": 10,
              "solidity": 0.2
             }
            },
            "type": "histogram"
           }
          ],
          "histogram2d": [
           {
            "colorbar": {
             "outlinewidth": 0,
             "ticks": ""
            },
            "colorscale": [
             [
              0,
              "#0d0887"
             ],
             [
              0.1111111111111111,
              "#46039f"
             ],
             [
              0.2222222222222222,
              "#7201a8"
             ],
             [
              0.3333333333333333,
              "#9c179e"
             ],
             [
              0.4444444444444444,
              "#bd3786"
             ],
             [
              0.5555555555555556,
              "#d8576b"
             ],
             [
              0.6666666666666666,
              "#ed7953"
             ],
             [
              0.7777777777777778,
              "#fb9f3a"
             ],
             [
              0.8888888888888888,
              "#fdca26"
             ],
             [
              1,
              "#f0f921"
             ]
            ],
            "type": "histogram2d"
           }
          ],
          "histogram2dcontour": [
           {
            "colorbar": {
             "outlinewidth": 0,
             "ticks": ""
            },
            "colorscale": [
             [
              0,
              "#0d0887"
             ],
             [
              0.1111111111111111,
              "#46039f"
             ],
             [
              0.2222222222222222,
              "#7201a8"
             ],
             [
              0.3333333333333333,
              "#9c179e"
             ],
             [
              0.4444444444444444,
              "#bd3786"
             ],
             [
              0.5555555555555556,
              "#d8576b"
             ],
             [
              0.6666666666666666,
              "#ed7953"
             ],
             [
              0.7777777777777778,
              "#fb9f3a"
             ],
             [
              0.8888888888888888,
              "#fdca26"
             ],
             [
              1,
              "#f0f921"
             ]
            ],
            "type": "histogram2dcontour"
           }
          ],
          "mesh3d": [
           {
            "colorbar": {
             "outlinewidth": 0,
             "ticks": ""
            },
            "type": "mesh3d"
           }
          ],
          "parcoords": [
           {
            "line": {
             "colorbar": {
              "outlinewidth": 0,
              "ticks": ""
             }
            },
            "type": "parcoords"
           }
          ],
          "pie": [
           {
            "automargin": true,
            "type": "pie"
           }
          ],
          "scatter": [
           {
            "marker": {
             "line": {
              "color": "#283442"
             }
            },
            "type": "scatter"
           }
          ],
          "scatter3d": [
           {
            "line": {
             "colorbar": {
              "outlinewidth": 0,
              "ticks": ""
             }
            },
            "marker": {
             "colorbar": {
              "outlinewidth": 0,
              "ticks": ""
             }
            },
            "type": "scatter3d"
           }
          ],
          "scattercarpet": [
           {
            "marker": {
             "colorbar": {
              "outlinewidth": 0,
              "ticks": ""
             }
            },
            "type": "scattercarpet"
           }
          ],
          "scattergeo": [
           {
            "marker": {
             "colorbar": {
              "outlinewidth": 0,
              "ticks": ""
             }
            },
            "type": "scattergeo"
           }
          ],
          "scattergl": [
           {
            "marker": {
             "line": {
              "color": "#283442"
             }
            },
            "type": "scattergl"
           }
          ],
          "scattermapbox": [
           {
            "marker": {
             "colorbar": {
              "outlinewidth": 0,
              "ticks": ""
             }
            },
            "type": "scattermapbox"
           }
          ],
          "scatterpolar": [
           {
            "marker": {
             "colorbar": {
              "outlinewidth": 0,
              "ticks": ""
             }
            },
            "type": "scatterpolar"
           }
          ],
          "scatterpolargl": [
           {
            "marker": {
             "colorbar": {
              "outlinewidth": 0,
              "ticks": ""
             }
            },
            "type": "scatterpolargl"
           }
          ],
          "scatterternary": [
           {
            "marker": {
             "colorbar": {
              "outlinewidth": 0,
              "ticks": ""
             }
            },
            "type": "scatterternary"
           }
          ],
          "surface": [
           {
            "colorbar": {
             "outlinewidth": 0,
             "ticks": ""
            },
            "colorscale": [
             [
              0,
              "#0d0887"
             ],
             [
              0.1111111111111111,
              "#46039f"
             ],
             [
              0.2222222222222222,
              "#7201a8"
             ],
             [
              0.3333333333333333,
              "#9c179e"
             ],
             [
              0.4444444444444444,
              "#bd3786"
             ],
             [
              0.5555555555555556,
              "#d8576b"
             ],
             [
              0.6666666666666666,
              "#ed7953"
             ],
             [
              0.7777777777777778,
              "#fb9f3a"
             ],
             [
              0.8888888888888888,
              "#fdca26"
             ],
             [
              1,
              "#f0f921"
             ]
            ],
            "type": "surface"
           }
          ],
          "table": [
           {
            "cells": {
             "fill": {
              "color": "#506784"
             },
             "line": {
              "color": "rgb(17,17,17)"
             }
            },
            "header": {
             "fill": {
              "color": "#2a3f5f"
             },
             "line": {
              "color": "rgb(17,17,17)"
             }
            },
            "type": "table"
           }
          ]
         },
         "layout": {
          "annotationdefaults": {
           "arrowcolor": "#f2f5fa",
           "arrowhead": 0,
           "arrowwidth": 1
          },
          "autotypenumbers": "strict",
          "coloraxis": {
           "colorbar": {
            "outlinewidth": 0,
            "ticks": ""
           }
          },
          "colorscale": {
           "diverging": [
            [
             0,
             "#8e0152"
            ],
            [
             0.1,
             "#c51b7d"
            ],
            [
             0.2,
             "#de77ae"
            ],
            [
             0.3,
             "#f1b6da"
            ],
            [
             0.4,
             "#fde0ef"
            ],
            [
             0.5,
             "#f7f7f7"
            ],
            [
             0.6,
             "#e6f5d0"
            ],
            [
             0.7,
             "#b8e186"
            ],
            [
             0.8,
             "#7fbc41"
            ],
            [
             0.9,
             "#4d9221"
            ],
            [
             1,
             "#276419"
            ]
           ],
           "sequential": [
            [
             0,
             "#0d0887"
            ],
            [
             0.1111111111111111,
             "#46039f"
            ],
            [
             0.2222222222222222,
             "#7201a8"
            ],
            [
             0.3333333333333333,
             "#9c179e"
            ],
            [
             0.4444444444444444,
             "#bd3786"
            ],
            [
             0.5555555555555556,
             "#d8576b"
            ],
            [
             0.6666666666666666,
             "#ed7953"
            ],
            [
             0.7777777777777778,
             "#fb9f3a"
            ],
            [
             0.8888888888888888,
             "#fdca26"
            ],
            [
             1,
             "#f0f921"
            ]
           ],
           "sequentialminus": [
            [
             0,
             "#0d0887"
            ],
            [
             0.1111111111111111,
             "#46039f"
            ],
            [
             0.2222222222222222,
             "#7201a8"
            ],
            [
             0.3333333333333333,
             "#9c179e"
            ],
            [
             0.4444444444444444,
             "#bd3786"
            ],
            [
             0.5555555555555556,
             "#d8576b"
            ],
            [
             0.6666666666666666,
             "#ed7953"
            ],
            [
             0.7777777777777778,
             "#fb9f3a"
            ],
            [
             0.8888888888888888,
             "#fdca26"
            ],
            [
             1,
             "#f0f921"
            ]
           ]
          },
          "colorway": [
           "#636efa",
           "#EF553B",
           "#00cc96",
           "#ab63fa",
           "#FFA15A",
           "#19d3f3",
           "#FF6692",
           "#B6E880",
           "#FF97FF",
           "#FECB52"
          ],
          "font": {
           "color": "#f2f5fa"
          },
          "geo": {
           "bgcolor": "rgb(17,17,17)",
           "lakecolor": "rgb(17,17,17)",
           "landcolor": "rgb(17,17,17)",
           "showlakes": true,
           "showland": true,
           "subunitcolor": "#506784"
          },
          "hoverlabel": {
           "align": "left"
          },
          "hovermode": "closest",
          "mapbox": {
           "style": "dark"
          },
          "paper_bgcolor": "rgb(17,17,17)",
          "plot_bgcolor": "rgb(17,17,17)",
          "polar": {
           "angularaxis": {
            "gridcolor": "#506784",
            "linecolor": "#506784",
            "ticks": ""
           },
           "bgcolor": "rgb(17,17,17)",
           "radialaxis": {
            "gridcolor": "#506784",
            "linecolor": "#506784",
            "ticks": ""
           }
          },
          "scene": {
           "xaxis": {
            "backgroundcolor": "rgb(17,17,17)",
            "gridcolor": "#506784",
            "gridwidth": 2,
            "linecolor": "#506784",
            "showbackground": true,
            "ticks": "",
            "zerolinecolor": "#C8D4E3"
           },
           "yaxis": {
            "backgroundcolor": "rgb(17,17,17)",
            "gridcolor": "#506784",
            "gridwidth": 2,
            "linecolor": "#506784",
            "showbackground": true,
            "ticks": "",
            "zerolinecolor": "#C8D4E3"
           },
           "zaxis": {
            "backgroundcolor": "rgb(17,17,17)",
            "gridcolor": "#506784",
            "gridwidth": 2,
            "linecolor": "#506784",
            "showbackground": true,
            "ticks": "",
            "zerolinecolor": "#C8D4E3"
           }
          },
          "shapedefaults": {
           "line": {
            "color": "#f2f5fa"
           }
          },
          "sliderdefaults": {
           "bgcolor": "#C8D4E3",
           "bordercolor": "rgb(17,17,17)",
           "borderwidth": 1,
           "tickwidth": 0
          },
          "ternary": {
           "aaxis": {
            "gridcolor": "#506784",
            "linecolor": "#506784",
            "ticks": ""
           },
           "baxis": {
            "gridcolor": "#506784",
            "linecolor": "#506784",
            "ticks": ""
           },
           "bgcolor": "rgb(17,17,17)",
           "caxis": {
            "gridcolor": "#506784",
            "linecolor": "#506784",
            "ticks": ""
           }
          },
          "title": {
           "x": 0.05
          },
          "updatemenudefaults": {
           "bgcolor": "#506784",
           "borderwidth": 0
          },
          "xaxis": {
           "automargin": true,
           "gridcolor": "#283442",
           "linecolor": "#506784",
           "ticks": "",
           "title": {
            "standoff": 15
           },
           "zerolinecolor": "#283442",
           "zerolinewidth": 2
          },
          "yaxis": {
           "automargin": true,
           "gridcolor": "#283442",
           "linecolor": "#506784",
           "ticks": "",
           "title": {
            "standoff": 15
           },
           "zerolinecolor": "#283442",
           "zerolinewidth": 2
          }
         }
        },
        "title": {
         "text": "Dividend: Trailing Annual Dividend Yield"
        },
        "xaxis": {
         "anchor": "y",
         "domain": [
          0,
          1
         ],
         "title": {
          "text": "Companies"
         }
        },
        "yaxis": {
         "anchor": "x",
         "domain": [
          0,
          1
         ],
         "title": {
          "text": "Dividend Yield (%)"
         }
        }
       }
      }
     },
     "metadata": {},
     "output_type": "display_data"
    }
   ],
   "source": [
    "df_top_companies.sort_values(by = 'trailing_annual_dividend_yield', ascending=True, inplace=True)\n",
    "\n",
    "fig_op_margin = px.bar(df_top_companies, title='Dividend: Trailing Annual Dividend Yield', x='long_name', y='trailing_annual_dividend_yield', color_discrete_sequence=['rgb(100, 195, 181)'], hover_name=df_top_companies.ticker, height=600)\n",
    "fig_op_margin.update_traces(text=[f'%{x:.2f}' for x in (df_top_companies['trailing_annual_dividend_yield']*100)], textposition='outside',textfont=dict(color='white'))\n",
    "fig_op_margin.update_layout(xaxis_title='Companies', yaxis_title='Dividend Yield (%)', template = 'plotly_dark')\n",
    "fig_op_margin.show()"
   ]
  },
  {
   "cell_type": "markdown",
   "metadata": {},
   "source": [
    "**`Dividend Yields`**:\n",
    "\n",
    "- This chart presents the `dividend yields` as a `percentage`, a measure of how much a company `pays in dividends` each year relative to the `price of its stock`. `Higher values` indicate a `greater return` on the investment made in purchasing the stock.\n",
    "\n",
    "**`Variation Among Companies`**:\n",
    "\n",
    "- As with the previous chart, there is a `significant variation` in `dividend yields` among companies. Banks like `BTG` and `Itaú` have yields `below` **2%**. `Petrobras` again stands out with the `highest yield`, at **24.73%**.\n",
    "\n",
    "**`Conclusion`**:\n",
    "\n",
    "- Dividend yield is an important indicator for investors seeking passive income through dividend payments. In this chart, Petrobras notably stands out with a much higher annual dividend yield than other companies, which may be attractive to income-focused investors. However, an exceptionally high dividend yield can also signal potential risks, such as the possibility that the dividend is not sustainable in the long term. Investors need to balance dividend yield with other factors such as the stability of dividend payments, the financial health of the company, and sector outlooks when making investment decisions.\n"
   ]
  },
  {
   "cell_type": "markdown",
   "metadata": {},
   "source": []
  },
  {
   "cell_type": "markdown",
   "metadata": {},
   "source": [
    "### Market Trend Analysis:"
   ]
  },
  {
   "cell_type": "code",
   "execution_count": 35,
   "metadata": {},
   "outputs": [
    {
     "data": {
      "application/vnd.plotly.v1+json": {
       "config": {
        "plotlyServerURL": "https://plot.ly"
       },
       "data": [
        {
         "alignmentgroup": "True",
         "hovertemplate": "<b>%{hovertext}</b><br><br>long_name=%{x}<br>beta=%{y}<extra></extra>",
         "hovertext": [
          "VIVT3.SA",
          "ITUB4.SA",
          "WEGE3.SA",
          "ABEV3.SA",
          "ELET3.SA",
          "ITSA4.SA",
          "BBDC4.SA",
          "BBAS3.SA",
          "VALE3.SA",
          "PETR3.SA",
          "BPAC5.SA"
         ],
         "legendgroup": "",
         "marker": {
          "color": "rgb(100, 195, 181)",
          "pattern": {
           "shape": ""
          }
         },
         "name": "",
         "offsetgroup": "",
         "orientation": "v",
         "showlegend": false,
         "text": [
          "0.06",
          "0.50",
          "0.51",
          "0.60",
          "0.63",
          "0.65",
          "0.68",
          "0.80",
          "0.82",
          "1.10",
          "1.29"
         ],
         "textfont": {
          "color": "white"
         },
         "textposition": "outside",
         "type": "bar",
         "x": [
          "Telefônica Brasil S.A.",
          "Itaú Unibanco Holding S.A.",
          "WEG S.A.",
          "Ambev S.A.",
          "Centrais Elétricas Brasileiras S.A. - Eletrobrás",
          "Itaúsa S.A.",
          "Banco Bradesco S.A.",
          "Banco do Brasil S.A.",
          "Vale S.A.",
          "Petróleo Brasileiro S.A. - Petrobras",
          "Banco BTG Pactual S.A."
         ],
         "xaxis": "x",
         "y": [
          0.061,
          0.499,
          0.513,
          0.604,
          0.629,
          0.647,
          0.675,
          0.803,
          0.821,
          1.097,
          1.291
         ],
         "yaxis": "y"
        }
       ],
       "layout": {
        "barmode": "relative",
        "height": 600,
        "legend": {
         "tracegroupgap": 0
        },
        "template": {
         "data": {
          "bar": [
           {
            "error_x": {
             "color": "#f2f5fa"
            },
            "error_y": {
             "color": "#f2f5fa"
            },
            "marker": {
             "line": {
              "color": "rgb(17,17,17)",
              "width": 0.5
             },
             "pattern": {
              "fillmode": "overlay",
              "size": 10,
              "solidity": 0.2
             }
            },
            "type": "bar"
           }
          ],
          "barpolar": [
           {
            "marker": {
             "line": {
              "color": "rgb(17,17,17)",
              "width": 0.5
             },
             "pattern": {
              "fillmode": "overlay",
              "size": 10,
              "solidity": 0.2
             }
            },
            "type": "barpolar"
           }
          ],
          "carpet": [
           {
            "aaxis": {
             "endlinecolor": "#A2B1C6",
             "gridcolor": "#506784",
             "linecolor": "#506784",
             "minorgridcolor": "#506784",
             "startlinecolor": "#A2B1C6"
            },
            "baxis": {
             "endlinecolor": "#A2B1C6",
             "gridcolor": "#506784",
             "linecolor": "#506784",
             "minorgridcolor": "#506784",
             "startlinecolor": "#A2B1C6"
            },
            "type": "carpet"
           }
          ],
          "choropleth": [
           {
            "colorbar": {
             "outlinewidth": 0,
             "ticks": ""
            },
            "type": "choropleth"
           }
          ],
          "contour": [
           {
            "colorbar": {
             "outlinewidth": 0,
             "ticks": ""
            },
            "colorscale": [
             [
              0,
              "#0d0887"
             ],
             [
              0.1111111111111111,
              "#46039f"
             ],
             [
              0.2222222222222222,
              "#7201a8"
             ],
             [
              0.3333333333333333,
              "#9c179e"
             ],
             [
              0.4444444444444444,
              "#bd3786"
             ],
             [
              0.5555555555555556,
              "#d8576b"
             ],
             [
              0.6666666666666666,
              "#ed7953"
             ],
             [
              0.7777777777777778,
              "#fb9f3a"
             ],
             [
              0.8888888888888888,
              "#fdca26"
             ],
             [
              1,
              "#f0f921"
             ]
            ],
            "type": "contour"
           }
          ],
          "contourcarpet": [
           {
            "colorbar": {
             "outlinewidth": 0,
             "ticks": ""
            },
            "type": "contourcarpet"
           }
          ],
          "heatmap": [
           {
            "colorbar": {
             "outlinewidth": 0,
             "ticks": ""
            },
            "colorscale": [
             [
              0,
              "#0d0887"
             ],
             [
              0.1111111111111111,
              "#46039f"
             ],
             [
              0.2222222222222222,
              "#7201a8"
             ],
             [
              0.3333333333333333,
              "#9c179e"
             ],
             [
              0.4444444444444444,
              "#bd3786"
             ],
             [
              0.5555555555555556,
              "#d8576b"
             ],
             [
              0.6666666666666666,
              "#ed7953"
             ],
             [
              0.7777777777777778,
              "#fb9f3a"
             ],
             [
              0.8888888888888888,
              "#fdca26"
             ],
             [
              1,
              "#f0f921"
             ]
            ],
            "type": "heatmap"
           }
          ],
          "heatmapgl": [
           {
            "colorbar": {
             "outlinewidth": 0,
             "ticks": ""
            },
            "colorscale": [
             [
              0,
              "#0d0887"
             ],
             [
              0.1111111111111111,
              "#46039f"
             ],
             [
              0.2222222222222222,
              "#7201a8"
             ],
             [
              0.3333333333333333,
              "#9c179e"
             ],
             [
              0.4444444444444444,
              "#bd3786"
             ],
             [
              0.5555555555555556,
              "#d8576b"
             ],
             [
              0.6666666666666666,
              "#ed7953"
             ],
             [
              0.7777777777777778,
              "#fb9f3a"
             ],
             [
              0.8888888888888888,
              "#fdca26"
             ],
             [
              1,
              "#f0f921"
             ]
            ],
            "type": "heatmapgl"
           }
          ],
          "histogram": [
           {
            "marker": {
             "pattern": {
              "fillmode": "overlay",
              "size": 10,
              "solidity": 0.2
             }
            },
            "type": "histogram"
           }
          ],
          "histogram2d": [
           {
            "colorbar": {
             "outlinewidth": 0,
             "ticks": ""
            },
            "colorscale": [
             [
              0,
              "#0d0887"
             ],
             [
              0.1111111111111111,
              "#46039f"
             ],
             [
              0.2222222222222222,
              "#7201a8"
             ],
             [
              0.3333333333333333,
              "#9c179e"
             ],
             [
              0.4444444444444444,
              "#bd3786"
             ],
             [
              0.5555555555555556,
              "#d8576b"
             ],
             [
              0.6666666666666666,
              "#ed7953"
             ],
             [
              0.7777777777777778,
              "#fb9f3a"
             ],
             [
              0.8888888888888888,
              "#fdca26"
             ],
             [
              1,
              "#f0f921"
             ]
            ],
            "type": "histogram2d"
           }
          ],
          "histogram2dcontour": [
           {
            "colorbar": {
             "outlinewidth": 0,
             "ticks": ""
            },
            "colorscale": [
             [
              0,
              "#0d0887"
             ],
             [
              0.1111111111111111,
              "#46039f"
             ],
             [
              0.2222222222222222,
              "#7201a8"
             ],
             [
              0.3333333333333333,
              "#9c179e"
             ],
             [
              0.4444444444444444,
              "#bd3786"
             ],
             [
              0.5555555555555556,
              "#d8576b"
             ],
             [
              0.6666666666666666,
              "#ed7953"
             ],
             [
              0.7777777777777778,
              "#fb9f3a"
             ],
             [
              0.8888888888888888,
              "#fdca26"
             ],
             [
              1,
              "#f0f921"
             ]
            ],
            "type": "histogram2dcontour"
           }
          ],
          "mesh3d": [
           {
            "colorbar": {
             "outlinewidth": 0,
             "ticks": ""
            },
            "type": "mesh3d"
           }
          ],
          "parcoords": [
           {
            "line": {
             "colorbar": {
              "outlinewidth": 0,
              "ticks": ""
             }
            },
            "type": "parcoords"
           }
          ],
          "pie": [
           {
            "automargin": true,
            "type": "pie"
           }
          ],
          "scatter": [
           {
            "marker": {
             "line": {
              "color": "#283442"
             }
            },
            "type": "scatter"
           }
          ],
          "scatter3d": [
           {
            "line": {
             "colorbar": {
              "outlinewidth": 0,
              "ticks": ""
             }
            },
            "marker": {
             "colorbar": {
              "outlinewidth": 0,
              "ticks": ""
             }
            },
            "type": "scatter3d"
           }
          ],
          "scattercarpet": [
           {
            "marker": {
             "colorbar": {
              "outlinewidth": 0,
              "ticks": ""
             }
            },
            "type": "scattercarpet"
           }
          ],
          "scattergeo": [
           {
            "marker": {
             "colorbar": {
              "outlinewidth": 0,
              "ticks": ""
             }
            },
            "type": "scattergeo"
           }
          ],
          "scattergl": [
           {
            "marker": {
             "line": {
              "color": "#283442"
             }
            },
            "type": "scattergl"
           }
          ],
          "scattermapbox": [
           {
            "marker": {
             "colorbar": {
              "outlinewidth": 0,
              "ticks": ""
             }
            },
            "type": "scattermapbox"
           }
          ],
          "scatterpolar": [
           {
            "marker": {
             "colorbar": {
              "outlinewidth": 0,
              "ticks": ""
             }
            },
            "type": "scatterpolar"
           }
          ],
          "scatterpolargl": [
           {
            "marker": {
             "colorbar": {
              "outlinewidth": 0,
              "ticks": ""
             }
            },
            "type": "scatterpolargl"
           }
          ],
          "scatterternary": [
           {
            "marker": {
             "colorbar": {
              "outlinewidth": 0,
              "ticks": ""
             }
            },
            "type": "scatterternary"
           }
          ],
          "surface": [
           {
            "colorbar": {
             "outlinewidth": 0,
             "ticks": ""
            },
            "colorscale": [
             [
              0,
              "#0d0887"
             ],
             [
              0.1111111111111111,
              "#46039f"
             ],
             [
              0.2222222222222222,
              "#7201a8"
             ],
             [
              0.3333333333333333,
              "#9c179e"
             ],
             [
              0.4444444444444444,
              "#bd3786"
             ],
             [
              0.5555555555555556,
              "#d8576b"
             ],
             [
              0.6666666666666666,
              "#ed7953"
             ],
             [
              0.7777777777777778,
              "#fb9f3a"
             ],
             [
              0.8888888888888888,
              "#fdca26"
             ],
             [
              1,
              "#f0f921"
             ]
            ],
            "type": "surface"
           }
          ],
          "table": [
           {
            "cells": {
             "fill": {
              "color": "#506784"
             },
             "line": {
              "color": "rgb(17,17,17)"
             }
            },
            "header": {
             "fill": {
              "color": "#2a3f5f"
             },
             "line": {
              "color": "rgb(17,17,17)"
             }
            },
            "type": "table"
           }
          ]
         },
         "layout": {
          "annotationdefaults": {
           "arrowcolor": "#f2f5fa",
           "arrowhead": 0,
           "arrowwidth": 1
          },
          "autotypenumbers": "strict",
          "coloraxis": {
           "colorbar": {
            "outlinewidth": 0,
            "ticks": ""
           }
          },
          "colorscale": {
           "diverging": [
            [
             0,
             "#8e0152"
            ],
            [
             0.1,
             "#c51b7d"
            ],
            [
             0.2,
             "#de77ae"
            ],
            [
             0.3,
             "#f1b6da"
            ],
            [
             0.4,
             "#fde0ef"
            ],
            [
             0.5,
             "#f7f7f7"
            ],
            [
             0.6,
             "#e6f5d0"
            ],
            [
             0.7,
             "#b8e186"
            ],
            [
             0.8,
             "#7fbc41"
            ],
            [
             0.9,
             "#4d9221"
            ],
            [
             1,
             "#276419"
            ]
           ],
           "sequential": [
            [
             0,
             "#0d0887"
            ],
            [
             0.1111111111111111,
             "#46039f"
            ],
            [
             0.2222222222222222,
             "#7201a8"
            ],
            [
             0.3333333333333333,
             "#9c179e"
            ],
            [
             0.4444444444444444,
             "#bd3786"
            ],
            [
             0.5555555555555556,
             "#d8576b"
            ],
            [
             0.6666666666666666,
             "#ed7953"
            ],
            [
             0.7777777777777778,
             "#fb9f3a"
            ],
            [
             0.8888888888888888,
             "#fdca26"
            ],
            [
             1,
             "#f0f921"
            ]
           ],
           "sequentialminus": [
            [
             0,
             "#0d0887"
            ],
            [
             0.1111111111111111,
             "#46039f"
            ],
            [
             0.2222222222222222,
             "#7201a8"
            ],
            [
             0.3333333333333333,
             "#9c179e"
            ],
            [
             0.4444444444444444,
             "#bd3786"
            ],
            [
             0.5555555555555556,
             "#d8576b"
            ],
            [
             0.6666666666666666,
             "#ed7953"
            ],
            [
             0.7777777777777778,
             "#fb9f3a"
            ],
            [
             0.8888888888888888,
             "#fdca26"
            ],
            [
             1,
             "#f0f921"
            ]
           ]
          },
          "colorway": [
           "#636efa",
           "#EF553B",
           "#00cc96",
           "#ab63fa",
           "#FFA15A",
           "#19d3f3",
           "#FF6692",
           "#B6E880",
           "#FF97FF",
           "#FECB52"
          ],
          "font": {
           "color": "#f2f5fa"
          },
          "geo": {
           "bgcolor": "rgb(17,17,17)",
           "lakecolor": "rgb(17,17,17)",
           "landcolor": "rgb(17,17,17)",
           "showlakes": true,
           "showland": true,
           "subunitcolor": "#506784"
          },
          "hoverlabel": {
           "align": "left"
          },
          "hovermode": "closest",
          "mapbox": {
           "style": "dark"
          },
          "paper_bgcolor": "rgb(17,17,17)",
          "plot_bgcolor": "rgb(17,17,17)",
          "polar": {
           "angularaxis": {
            "gridcolor": "#506784",
            "linecolor": "#506784",
            "ticks": ""
           },
           "bgcolor": "rgb(17,17,17)",
           "radialaxis": {
            "gridcolor": "#506784",
            "linecolor": "#506784",
            "ticks": ""
           }
          },
          "scene": {
           "xaxis": {
            "backgroundcolor": "rgb(17,17,17)",
            "gridcolor": "#506784",
            "gridwidth": 2,
            "linecolor": "#506784",
            "showbackground": true,
            "ticks": "",
            "zerolinecolor": "#C8D4E3"
           },
           "yaxis": {
            "backgroundcolor": "rgb(17,17,17)",
            "gridcolor": "#506784",
            "gridwidth": 2,
            "linecolor": "#506784",
            "showbackground": true,
            "ticks": "",
            "zerolinecolor": "#C8D4E3"
           },
           "zaxis": {
            "backgroundcolor": "rgb(17,17,17)",
            "gridcolor": "#506784",
            "gridwidth": 2,
            "linecolor": "#506784",
            "showbackground": true,
            "ticks": "",
            "zerolinecolor": "#C8D4E3"
           }
          },
          "shapedefaults": {
           "line": {
            "color": "#f2f5fa"
           }
          },
          "sliderdefaults": {
           "bgcolor": "#C8D4E3",
           "bordercolor": "rgb(17,17,17)",
           "borderwidth": 1,
           "tickwidth": 0
          },
          "ternary": {
           "aaxis": {
            "gridcolor": "#506784",
            "linecolor": "#506784",
            "ticks": ""
           },
           "baxis": {
            "gridcolor": "#506784",
            "linecolor": "#506784",
            "ticks": ""
           },
           "bgcolor": "rgb(17,17,17)",
           "caxis": {
            "gridcolor": "#506784",
            "linecolor": "#506784",
            "ticks": ""
           }
          },
          "title": {
           "x": 0.05
          },
          "updatemenudefaults": {
           "bgcolor": "#506784",
           "borderwidth": 0
          },
          "xaxis": {
           "automargin": true,
           "gridcolor": "#283442",
           "linecolor": "#506784",
           "ticks": "",
           "title": {
            "standoff": 15
           },
           "zerolinecolor": "#283442",
           "zerolinewidth": 2
          },
          "yaxis": {
           "automargin": true,
           "gridcolor": "#283442",
           "linecolor": "#506784",
           "ticks": "",
           "title": {
            "standoff": 15
           },
           "zerolinecolor": "#283442",
           "zerolinewidth": 2
          }
         }
        },
        "title": {
         "text": "beta"
        },
        "xaxis": {
         "anchor": "y",
         "domain": [
          0,
          1
         ],
         "title": {
          "text": "Companies"
         }
        },
        "yaxis": {
         "anchor": "x",
         "domain": [
          0,
          1
         ],
         "title": {
          "text": "Beta"
         }
        }
       }
      }
     },
     "metadata": {},
     "output_type": "display_data"
    }
   ],
   "source": [
    "df_top_companies.sort_values(by = 'beta', ascending=True, inplace=True)\n",
    "\n",
    "fig_op_margin = px.bar(df_top_companies, title='beta', x='long_name', y='beta', color_discrete_sequence=['rgb(100, 195, 181)'], hover_name=df_top_companies.ticker, height=600)\n",
    "fig_op_margin.update_traces(text=[f'{x:.2f}' for x in (df_top_companies['beta'])], textposition='outside',textfont=dict(color='white'))\n",
    "fig_op_margin.update_layout(xaxis_title='Companies', yaxis_title='Beta', template = 'plotly_dark')\n",
    "fig_op_margin.show()"
   ]
  },
  {
   "cell_type": "markdown",
   "metadata": {},
   "source": [
    "**`Low Volatility`**:\n",
    "\n",
    "- `Telefônica Brasil S.A.` has the `lowest beta` of **0.06**, suggesting it is much `less volatile` than the market. `Itaú` and `WEG` also have `relatively low betas` of **0.50** and **0.51** respectively, indicating `low volatility`.\n",
    "\n",
    "**`Moderate to High Volatility`**:\n",
    "\n",
    "- `Ambev`, `Eletrobras`, and `Itaúsa` have betas ranging from **0.60** to **0.65**, indicating `moderate volatility`. `Banco Bradesco`, `Vale`, and `Petrobras` have betas of **0.80**, **0.82**, and **1.10** respectively, suggesting `volatility closer` to or `slightly above` the market average.\n",
    "\n",
    "**`High Volatility`**:\n",
    "- `Banco BTG Pactual` has the highest beta of **1.29**, implying it is `significantly more volatile` than the market.\n",
    "\n",
    "**`Conclusion`**:\n",
    "\n",
    "This chart reveals that company stocks vary in terms of sensitivity to market fluctuations. Conservative investors may prefer companies with lower betas, like Telefônica Brasil S.A., which tend to have less risk and lower volatility. Conversely, investors seeking higher risk and potential return might be drawn to stocks with higher betas, such as Banco BTG Pactual S.A. and Petrobras. It is important for investors to consider beta in conjunction with other factors, such as company fundamentals, growth prospects, and macroeconomic conditions, when making investment choices.\n"
   ]
  },
  {
   "cell_type": "code",
   "execution_count": 36,
   "metadata": {},
   "outputs": [
    {
     "data": {
      "application/vnd.plotly.v1+json": {
       "config": {
        "plotlyServerURL": "https://plot.ly"
       },
       "data": [
        {
         "alignmentgroup": "True",
         "hovertemplate": "<b>%{hovertext}</b><br><br>long_name=%{x}<br>average_volume=%{y}<extra></extra>",
         "hovertext": [
          "BPAC5.SA",
          "VIVT3.SA",
          "WEGE3.SA",
          "BBAS3.SA",
          "ELET3.SA",
          "PETR3.SA",
          "ITSA4.SA",
          "ITUB4.SA",
          "ABEV3.SA",
          "VALE3.SA",
          "BBDC4.SA"
         ],
         "legendgroup": "",
         "marker": {
          "color": "rgb(100, 195, 181)",
          "pattern": {
           "shape": ""
          }
         },
         "name": "",
         "offsetgroup": "",
         "orientation": "v",
         "showlegend": false,
         "text": [
          "0.01M",
          "2.25M",
          "7.06M",
          "8.74M",
          "8.88M",
          "13.23M",
          "22.11M",
          "24.53M",
          "24.68M",
          "25.98M",
          "33.28M"
         ],
         "textfont": {
          "color": "white"
         },
         "textposition": "outside",
         "type": "bar",
         "x": [
          "Banco BTG Pactual S.A.",
          "Telefônica Brasil S.A.",
          "WEG S.A.",
          "Banco do Brasil S.A.",
          "Centrais Elétricas Brasileiras S.A. - Eletrobrás",
          "Petróleo Brasileiro S.A. - Petrobras",
          "Itaúsa S.A.",
          "Itaú Unibanco Holding S.A.",
          "Ambev S.A.",
          "Vale S.A.",
          "Banco Bradesco S.A."
         ],
         "xaxis": "x",
         "y": [
          6184,
          2252017,
          7064393,
          8738341,
          8876606,
          13234123,
          22110422,
          24528203,
          24680549,
          25978987,
          33278303
         ],
         "yaxis": "y"
        }
       ],
       "layout": {
        "barmode": "relative",
        "height": 600,
        "legend": {
         "tracegroupgap": 0
        },
        "template": {
         "data": {
          "bar": [
           {
            "error_x": {
             "color": "#f2f5fa"
            },
            "error_y": {
             "color": "#f2f5fa"
            },
            "marker": {
             "line": {
              "color": "rgb(17,17,17)",
              "width": 0.5
             },
             "pattern": {
              "fillmode": "overlay",
              "size": 10,
              "solidity": 0.2
             }
            },
            "type": "bar"
           }
          ],
          "barpolar": [
           {
            "marker": {
             "line": {
              "color": "rgb(17,17,17)",
              "width": 0.5
             },
             "pattern": {
              "fillmode": "overlay",
              "size": 10,
              "solidity": 0.2
             }
            },
            "type": "barpolar"
           }
          ],
          "carpet": [
           {
            "aaxis": {
             "endlinecolor": "#A2B1C6",
             "gridcolor": "#506784",
             "linecolor": "#506784",
             "minorgridcolor": "#506784",
             "startlinecolor": "#A2B1C6"
            },
            "baxis": {
             "endlinecolor": "#A2B1C6",
             "gridcolor": "#506784",
             "linecolor": "#506784",
             "minorgridcolor": "#506784",
             "startlinecolor": "#A2B1C6"
            },
            "type": "carpet"
           }
          ],
          "choropleth": [
           {
            "colorbar": {
             "outlinewidth": 0,
             "ticks": ""
            },
            "type": "choropleth"
           }
          ],
          "contour": [
           {
            "colorbar": {
             "outlinewidth": 0,
             "ticks": ""
            },
            "colorscale": [
             [
              0,
              "#0d0887"
             ],
             [
              0.1111111111111111,
              "#46039f"
             ],
             [
              0.2222222222222222,
              "#7201a8"
             ],
             [
              0.3333333333333333,
              "#9c179e"
             ],
             [
              0.4444444444444444,
              "#bd3786"
             ],
             [
              0.5555555555555556,
              "#d8576b"
             ],
             [
              0.6666666666666666,
              "#ed7953"
             ],
             [
              0.7777777777777778,
              "#fb9f3a"
             ],
             [
              0.8888888888888888,
              "#fdca26"
             ],
             [
              1,
              "#f0f921"
             ]
            ],
            "type": "contour"
           }
          ],
          "contourcarpet": [
           {
            "colorbar": {
             "outlinewidth": 0,
             "ticks": ""
            },
            "type": "contourcarpet"
           }
          ],
          "heatmap": [
           {
            "colorbar": {
             "outlinewidth": 0,
             "ticks": ""
            },
            "colorscale": [
             [
              0,
              "#0d0887"
             ],
             [
              0.1111111111111111,
              "#46039f"
             ],
             [
              0.2222222222222222,
              "#7201a8"
             ],
             [
              0.3333333333333333,
              "#9c179e"
             ],
             [
              0.4444444444444444,
              "#bd3786"
             ],
             [
              0.5555555555555556,
              "#d8576b"
             ],
             [
              0.6666666666666666,
              "#ed7953"
             ],
             [
              0.7777777777777778,
              "#fb9f3a"
             ],
             [
              0.8888888888888888,
              "#fdca26"
             ],
             [
              1,
              "#f0f921"
             ]
            ],
            "type": "heatmap"
           }
          ],
          "heatmapgl": [
           {
            "colorbar": {
             "outlinewidth": 0,
             "ticks": ""
            },
            "colorscale": [
             [
              0,
              "#0d0887"
             ],
             [
              0.1111111111111111,
              "#46039f"
             ],
             [
              0.2222222222222222,
              "#7201a8"
             ],
             [
              0.3333333333333333,
              "#9c179e"
             ],
             [
              0.4444444444444444,
              "#bd3786"
             ],
             [
              0.5555555555555556,
              "#d8576b"
             ],
             [
              0.6666666666666666,
              "#ed7953"
             ],
             [
              0.7777777777777778,
              "#fb9f3a"
             ],
             [
              0.8888888888888888,
              "#fdca26"
             ],
             [
              1,
              "#f0f921"
             ]
            ],
            "type": "heatmapgl"
           }
          ],
          "histogram": [
           {
            "marker": {
             "pattern": {
              "fillmode": "overlay",
              "size": 10,
              "solidity": 0.2
             }
            },
            "type": "histogram"
           }
          ],
          "histogram2d": [
           {
            "colorbar": {
             "outlinewidth": 0,
             "ticks": ""
            },
            "colorscale": [
             [
              0,
              "#0d0887"
             ],
             [
              0.1111111111111111,
              "#46039f"
             ],
             [
              0.2222222222222222,
              "#7201a8"
             ],
             [
              0.3333333333333333,
              "#9c179e"
             ],
             [
              0.4444444444444444,
              "#bd3786"
             ],
             [
              0.5555555555555556,
              "#d8576b"
             ],
             [
              0.6666666666666666,
              "#ed7953"
             ],
             [
              0.7777777777777778,
              "#fb9f3a"
             ],
             [
              0.8888888888888888,
              "#fdca26"
             ],
             [
              1,
              "#f0f921"
             ]
            ],
            "type": "histogram2d"
           }
          ],
          "histogram2dcontour": [
           {
            "colorbar": {
             "outlinewidth": 0,
             "ticks": ""
            },
            "colorscale": [
             [
              0,
              "#0d0887"
             ],
             [
              0.1111111111111111,
              "#46039f"
             ],
             [
              0.2222222222222222,
              "#7201a8"
             ],
             [
              0.3333333333333333,
              "#9c179e"
             ],
             [
              0.4444444444444444,
              "#bd3786"
             ],
             [
              0.5555555555555556,
              "#d8576b"
             ],
             [
              0.6666666666666666,
              "#ed7953"
             ],
             [
              0.7777777777777778,
              "#fb9f3a"
             ],
             [
              0.8888888888888888,
              "#fdca26"
             ],
             [
              1,
              "#f0f921"
             ]
            ],
            "type": "histogram2dcontour"
           }
          ],
          "mesh3d": [
           {
            "colorbar": {
             "outlinewidth": 0,
             "ticks": ""
            },
            "type": "mesh3d"
           }
          ],
          "parcoords": [
           {
            "line": {
             "colorbar": {
              "outlinewidth": 0,
              "ticks": ""
             }
            },
            "type": "parcoords"
           }
          ],
          "pie": [
           {
            "automargin": true,
            "type": "pie"
           }
          ],
          "scatter": [
           {
            "marker": {
             "line": {
              "color": "#283442"
             }
            },
            "type": "scatter"
           }
          ],
          "scatter3d": [
           {
            "line": {
             "colorbar": {
              "outlinewidth": 0,
              "ticks": ""
             }
            },
            "marker": {
             "colorbar": {
              "outlinewidth": 0,
              "ticks": ""
             }
            },
            "type": "scatter3d"
           }
          ],
          "scattercarpet": [
           {
            "marker": {
             "colorbar": {
              "outlinewidth": 0,
              "ticks": ""
             }
            },
            "type": "scattercarpet"
           }
          ],
          "scattergeo": [
           {
            "marker": {
             "colorbar": {
              "outlinewidth": 0,
              "ticks": ""
             }
            },
            "type": "scattergeo"
           }
          ],
          "scattergl": [
           {
            "marker": {
             "line": {
              "color": "#283442"
             }
            },
            "type": "scattergl"
           }
          ],
          "scattermapbox": [
           {
            "marker": {
             "colorbar": {
              "outlinewidth": 0,
              "ticks": ""
             }
            },
            "type": "scattermapbox"
           }
          ],
          "scatterpolar": [
           {
            "marker": {
             "colorbar": {
              "outlinewidth": 0,
              "ticks": ""
             }
            },
            "type": "scatterpolar"
           }
          ],
          "scatterpolargl": [
           {
            "marker": {
             "colorbar": {
              "outlinewidth": 0,
              "ticks": ""
             }
            },
            "type": "scatterpolargl"
           }
          ],
          "scatterternary": [
           {
            "marker": {
             "colorbar": {
              "outlinewidth": 0,
              "ticks": ""
             }
            },
            "type": "scatterternary"
           }
          ],
          "surface": [
           {
            "colorbar": {
             "outlinewidth": 0,
             "ticks": ""
            },
            "colorscale": [
             [
              0,
              "#0d0887"
             ],
             [
              0.1111111111111111,
              "#46039f"
             ],
             [
              0.2222222222222222,
              "#7201a8"
             ],
             [
              0.3333333333333333,
              "#9c179e"
             ],
             [
              0.4444444444444444,
              "#bd3786"
             ],
             [
              0.5555555555555556,
              "#d8576b"
             ],
             [
              0.6666666666666666,
              "#ed7953"
             ],
             [
              0.7777777777777778,
              "#fb9f3a"
             ],
             [
              0.8888888888888888,
              "#fdca26"
             ],
             [
              1,
              "#f0f921"
             ]
            ],
            "type": "surface"
           }
          ],
          "table": [
           {
            "cells": {
             "fill": {
              "color": "#506784"
             },
             "line": {
              "color": "rgb(17,17,17)"
             }
            },
            "header": {
             "fill": {
              "color": "#2a3f5f"
             },
             "line": {
              "color": "rgb(17,17,17)"
             }
            },
            "type": "table"
           }
          ]
         },
         "layout": {
          "annotationdefaults": {
           "arrowcolor": "#f2f5fa",
           "arrowhead": 0,
           "arrowwidth": 1
          },
          "autotypenumbers": "strict",
          "coloraxis": {
           "colorbar": {
            "outlinewidth": 0,
            "ticks": ""
           }
          },
          "colorscale": {
           "diverging": [
            [
             0,
             "#8e0152"
            ],
            [
             0.1,
             "#c51b7d"
            ],
            [
             0.2,
             "#de77ae"
            ],
            [
             0.3,
             "#f1b6da"
            ],
            [
             0.4,
             "#fde0ef"
            ],
            [
             0.5,
             "#f7f7f7"
            ],
            [
             0.6,
             "#e6f5d0"
            ],
            [
             0.7,
             "#b8e186"
            ],
            [
             0.8,
             "#7fbc41"
            ],
            [
             0.9,
             "#4d9221"
            ],
            [
             1,
             "#276419"
            ]
           ],
           "sequential": [
            [
             0,
             "#0d0887"
            ],
            [
             0.1111111111111111,
             "#46039f"
            ],
            [
             0.2222222222222222,
             "#7201a8"
            ],
            [
             0.3333333333333333,
             "#9c179e"
            ],
            [
             0.4444444444444444,
             "#bd3786"
            ],
            [
             0.5555555555555556,
             "#d8576b"
            ],
            [
             0.6666666666666666,
             "#ed7953"
            ],
            [
             0.7777777777777778,
             "#fb9f3a"
            ],
            [
             0.8888888888888888,
             "#fdca26"
            ],
            [
             1,
             "#f0f921"
            ]
           ],
           "sequentialminus": [
            [
             0,
             "#0d0887"
            ],
            [
             0.1111111111111111,
             "#46039f"
            ],
            [
             0.2222222222222222,
             "#7201a8"
            ],
            [
             0.3333333333333333,
             "#9c179e"
            ],
            [
             0.4444444444444444,
             "#bd3786"
            ],
            [
             0.5555555555555556,
             "#d8576b"
            ],
            [
             0.6666666666666666,
             "#ed7953"
            ],
            [
             0.7777777777777778,
             "#fb9f3a"
            ],
            [
             0.8888888888888888,
             "#fdca26"
            ],
            [
             1,
             "#f0f921"
            ]
           ]
          },
          "colorway": [
           "#636efa",
           "#EF553B",
           "#00cc96",
           "#ab63fa",
           "#FFA15A",
           "#19d3f3",
           "#FF6692",
           "#B6E880",
           "#FF97FF",
           "#FECB52"
          ],
          "font": {
           "color": "#f2f5fa"
          },
          "geo": {
           "bgcolor": "rgb(17,17,17)",
           "lakecolor": "rgb(17,17,17)",
           "landcolor": "rgb(17,17,17)",
           "showlakes": true,
           "showland": true,
           "subunitcolor": "#506784"
          },
          "hoverlabel": {
           "align": "left"
          },
          "hovermode": "closest",
          "mapbox": {
           "style": "dark"
          },
          "paper_bgcolor": "rgb(17,17,17)",
          "plot_bgcolor": "rgb(17,17,17)",
          "polar": {
           "angularaxis": {
            "gridcolor": "#506784",
            "linecolor": "#506784",
            "ticks": ""
           },
           "bgcolor": "rgb(17,17,17)",
           "radialaxis": {
            "gridcolor": "#506784",
            "linecolor": "#506784",
            "ticks": ""
           }
          },
          "scene": {
           "xaxis": {
            "backgroundcolor": "rgb(17,17,17)",
            "gridcolor": "#506784",
            "gridwidth": 2,
            "linecolor": "#506784",
            "showbackground": true,
            "ticks": "",
            "zerolinecolor": "#C8D4E3"
           },
           "yaxis": {
            "backgroundcolor": "rgb(17,17,17)",
            "gridcolor": "#506784",
            "gridwidth": 2,
            "linecolor": "#506784",
            "showbackground": true,
            "ticks": "",
            "zerolinecolor": "#C8D4E3"
           },
           "zaxis": {
            "backgroundcolor": "rgb(17,17,17)",
            "gridcolor": "#506784",
            "gridwidth": 2,
            "linecolor": "#506784",
            "showbackground": true,
            "ticks": "",
            "zerolinecolor": "#C8D4E3"
           }
          },
          "shapedefaults": {
           "line": {
            "color": "#f2f5fa"
           }
          },
          "sliderdefaults": {
           "bgcolor": "#C8D4E3",
           "bordercolor": "rgb(17,17,17)",
           "borderwidth": 1,
           "tickwidth": 0
          },
          "ternary": {
           "aaxis": {
            "gridcolor": "#506784",
            "linecolor": "#506784",
            "ticks": ""
           },
           "baxis": {
            "gridcolor": "#506784",
            "linecolor": "#506784",
            "ticks": ""
           },
           "bgcolor": "rgb(17,17,17)",
           "caxis": {
            "gridcolor": "#506784",
            "linecolor": "#506784",
            "ticks": ""
           }
          },
          "title": {
           "x": 0.05
          },
          "updatemenudefaults": {
           "bgcolor": "#506784",
           "borderwidth": 0
          },
          "xaxis": {
           "automargin": true,
           "gridcolor": "#283442",
           "linecolor": "#506784",
           "ticks": "",
           "title": {
            "standoff": 15
           },
           "zerolinecolor": "#283442",
           "zerolinewidth": 2
          },
          "yaxis": {
           "automargin": true,
           "gridcolor": "#283442",
           "linecolor": "#506784",
           "ticks": "",
           "title": {
            "standoff": 15
           },
           "zerolinecolor": "#283442",
           "zerolinewidth": 2
          }
         }
        },
        "title": {
         "text": "Average Volume"
        },
        "xaxis": {
         "anchor": "y",
         "domain": [
          0,
          1
         ],
         "title": {
          "text": "Companies"
         }
        },
        "yaxis": {
         "anchor": "x",
         "domain": [
          0,
          1
         ],
         "title": {
          "text": "Average Volume"
         }
        }
       }
      }
     },
     "metadata": {},
     "output_type": "display_data"
    }
   ],
   "source": [
    "df_top_companies.sort_values(by = 'average_volume', ascending=True, inplace=True)\n",
    "\n",
    "fig_op_margin = px.bar(df_top_companies, title='Average Volume', x='long_name', y='average_volume', color_discrete_sequence=['rgb(100, 195, 181)'], hover_name=df_top_companies.ticker, height=600)\n",
    "fig_op_margin.update_traces(text=[f'{x:.2f}M' for x in (df_top_companies['average_volume']/1000000)], textposition='outside',textfont=dict(color='white'))\n",
    "fig_op_margin.update_layout(xaxis_title='Companies', yaxis_title='Average Volume', template = 'plotly_dark')\n",
    "fig_op_margin.show()"
   ]
  },
  {
   "cell_type": "markdown",
   "metadata": {},
   "source": [
    "**`Average Volume Variation`**:\n",
    "\n",
    "- There is a wide variation in the average trading volume of shares among companies. `Banco - BTG Pactual S.A.` has the `lowest average volume` of trading, with just **0.01M (millions)** of shares, while `Banco Bradesco S.A.` has the `highest volume` with **33.28M** of shares.\n",
    "\n",
    "**`Market Liquidity`**:\n",
    "\n",
    "- Companies with `higher average volumes`, such as `Banco Bradesco S.A.`, `Vale S.A.`, `Ambev S.A.`, and `Itaú Unibanco Holding S.A.`, which have `volumes above` **24M** of shares, are considered `more liquid`. This means their `shares` can be `bought or sold` in `large quantities` without a `significant change in the share price`.\n",
    "\n",
    "**`Low Liquidity`**:\n",
    "\n",
    "- On the other hand, companies like `Telefônica Brasil S.A.` and `Banco BTG Pactual S.A.` have `very low volumes`, indicating `lower liquidity`. This could mean it would be `more difficult` for an investor to `buy or sell` large quantities of shares without affecting the share price.\n",
    "\n",
    "**`Conclusion`**:\n",
    "\n",
    "- The average volume of traded shares is an important aspect for investors to consider, as it affects the ease with which they can enter or exit positions in a stock. Stocks with high trading volumes are generally preferred by institutional and retail investors due to their higher liquidity. However, a high trading volume can also indicate greater volatility in the stocks. Therefore, investors should evaluate volume in conjunction with other market indicators and company fundamentals when making investment decisions.\n"
   ]
  },
  {
   "cell_type": "markdown",
   "metadata": {},
   "source": [
    "### Stock Price Comparison"
   ]
  },
  {
   "cell_type": "code",
   "execution_count": 37,
   "metadata": {},
   "outputs": [
    {
     "data": {
      "application/vnd.plotly.v1+json": {
       "config": {
        "plotlyServerURL": "https://plot.ly"
       },
       "data": [
        {
         "alignmentgroup": "True",
         "hovertemplate": "<b>%{hovertext}</b><br><br>long_name=%{x}<br>fifty_two_week_low=%{y}<extra></extra>",
         "hovertext": [
          "BPAC5.SA",
          "ITSA4.SA",
          "ABEV3.SA",
          "BBDC4.SA",
          "ITUB4.SA",
          "PETR3.SA",
          "ELET3.SA",
          "BBAS3.SA",
          "WEGE3.SA",
          "VIVT3.SA",
          "VALE3.SA"
         ],
         "legendgroup": "",
         "marker": {
          "color": "rgb(100, 195, 181)",
          "pattern": {
           "shape": ""
          }
         },
         "name": "",
         "offsetgroup": "",
         "orientation": "v",
         "showlegend": false,
         "text": [
          "R$4.55",
          "R$7.65",
          "R$12.33",
          "R$12.39",
          "R$22.62",
          "R$23.61",
          "R$29.81",
          "R$30.25",
          "R$31.47",
          "R$35.63",
          "R$61.00"
         ],
         "textfont": {
          "color": "white"
         },
         "textposition": "outside",
         "type": "bar",
         "x": [
          "Banco BTG Pactual S.A.",
          "Itaúsa S.A.",
          "Ambev S.A.",
          "Banco Bradesco S.A.",
          "Itaú Unibanco Holding S.A.",
          "Petróleo Brasileiro S.A. - Petrobras",
          "Centrais Elétricas Brasileiras S.A. - Eletrobrás",
          "Banco do Brasil S.A.",
          "WEG S.A.",
          "Telefônica Brasil S.A.",
          "Vale S.A."
         ],
         "xaxis": "x",
         "y": [
          4.55,
          7.65,
          12.33,
          12.39,
          22.62,
          23.61,
          29.81,
          30.25,
          31.47,
          35.63,
          61
         ],
         "yaxis": "y"
        }
       ],
       "layout": {
        "barmode": "relative",
        "height": 600,
        "legend": {
         "tracegroupgap": 0
        },
        "template": {
         "data": {
          "bar": [
           {
            "error_x": {
             "color": "#f2f5fa"
            },
            "error_y": {
             "color": "#f2f5fa"
            },
            "marker": {
             "line": {
              "color": "rgb(17,17,17)",
              "width": 0.5
             },
             "pattern": {
              "fillmode": "overlay",
              "size": 10,
              "solidity": 0.2
             }
            },
            "type": "bar"
           }
          ],
          "barpolar": [
           {
            "marker": {
             "line": {
              "color": "rgb(17,17,17)",
              "width": 0.5
             },
             "pattern": {
              "fillmode": "overlay",
              "size": 10,
              "solidity": 0.2
             }
            },
            "type": "barpolar"
           }
          ],
          "carpet": [
           {
            "aaxis": {
             "endlinecolor": "#A2B1C6",
             "gridcolor": "#506784",
             "linecolor": "#506784",
             "minorgridcolor": "#506784",
             "startlinecolor": "#A2B1C6"
            },
            "baxis": {
             "endlinecolor": "#A2B1C6",
             "gridcolor": "#506784",
             "linecolor": "#506784",
             "minorgridcolor": "#506784",
             "startlinecolor": "#A2B1C6"
            },
            "type": "carpet"
           }
          ],
          "choropleth": [
           {
            "colorbar": {
             "outlinewidth": 0,
             "ticks": ""
            },
            "type": "choropleth"
           }
          ],
          "contour": [
           {
            "colorbar": {
             "outlinewidth": 0,
             "ticks": ""
            },
            "colorscale": [
             [
              0,
              "#0d0887"
             ],
             [
              0.1111111111111111,
              "#46039f"
             ],
             [
              0.2222222222222222,
              "#7201a8"
             ],
             [
              0.3333333333333333,
              "#9c179e"
             ],
             [
              0.4444444444444444,
              "#bd3786"
             ],
             [
              0.5555555555555556,
              "#d8576b"
             ],
             [
              0.6666666666666666,
              "#ed7953"
             ],
             [
              0.7777777777777778,
              "#fb9f3a"
             ],
             [
              0.8888888888888888,
              "#fdca26"
             ],
             [
              1,
              "#f0f921"
             ]
            ],
            "type": "contour"
           }
          ],
          "contourcarpet": [
           {
            "colorbar": {
             "outlinewidth": 0,
             "ticks": ""
            },
            "type": "contourcarpet"
           }
          ],
          "heatmap": [
           {
            "colorbar": {
             "outlinewidth": 0,
             "ticks": ""
            },
            "colorscale": [
             [
              0,
              "#0d0887"
             ],
             [
              0.1111111111111111,
              "#46039f"
             ],
             [
              0.2222222222222222,
              "#7201a8"
             ],
             [
              0.3333333333333333,
              "#9c179e"
             ],
             [
              0.4444444444444444,
              "#bd3786"
             ],
             [
              0.5555555555555556,
              "#d8576b"
             ],
             [
              0.6666666666666666,
              "#ed7953"
             ],
             [
              0.7777777777777778,
              "#fb9f3a"
             ],
             [
              0.8888888888888888,
              "#fdca26"
             ],
             [
              1,
              "#f0f921"
             ]
            ],
            "type": "heatmap"
           }
          ],
          "heatmapgl": [
           {
            "colorbar": {
             "outlinewidth": 0,
             "ticks": ""
            },
            "colorscale": [
             [
              0,
              "#0d0887"
             ],
             [
              0.1111111111111111,
              "#46039f"
             ],
             [
              0.2222222222222222,
              "#7201a8"
             ],
             [
              0.3333333333333333,
              "#9c179e"
             ],
             [
              0.4444444444444444,
              "#bd3786"
             ],
             [
              0.5555555555555556,
              "#d8576b"
             ],
             [
              0.6666666666666666,
              "#ed7953"
             ],
             [
              0.7777777777777778,
              "#fb9f3a"
             ],
             [
              0.8888888888888888,
              "#fdca26"
             ],
             [
              1,
              "#f0f921"
             ]
            ],
            "type": "heatmapgl"
           }
          ],
          "histogram": [
           {
            "marker": {
             "pattern": {
              "fillmode": "overlay",
              "size": 10,
              "solidity": 0.2
             }
            },
            "type": "histogram"
           }
          ],
          "histogram2d": [
           {
            "colorbar": {
             "outlinewidth": 0,
             "ticks": ""
            },
            "colorscale": [
             [
              0,
              "#0d0887"
             ],
             [
              0.1111111111111111,
              "#46039f"
             ],
             [
              0.2222222222222222,
              "#7201a8"
             ],
             [
              0.3333333333333333,
              "#9c179e"
             ],
             [
              0.4444444444444444,
              "#bd3786"
             ],
             [
              0.5555555555555556,
              "#d8576b"
             ],
             [
              0.6666666666666666,
              "#ed7953"
             ],
             [
              0.7777777777777778,
              "#fb9f3a"
             ],
             [
              0.8888888888888888,
              "#fdca26"
             ],
             [
              1,
              "#f0f921"
             ]
            ],
            "type": "histogram2d"
           }
          ],
          "histogram2dcontour": [
           {
            "colorbar": {
             "outlinewidth": 0,
             "ticks": ""
            },
            "colorscale": [
             [
              0,
              "#0d0887"
             ],
             [
              0.1111111111111111,
              "#46039f"
             ],
             [
              0.2222222222222222,
              "#7201a8"
             ],
             [
              0.3333333333333333,
              "#9c179e"
             ],
             [
              0.4444444444444444,
              "#bd3786"
             ],
             [
              0.5555555555555556,
              "#d8576b"
             ],
             [
              0.6666666666666666,
              "#ed7953"
             ],
             [
              0.7777777777777778,
              "#fb9f3a"
             ],
             [
              0.8888888888888888,
              "#fdca26"
             ],
             [
              1,
              "#f0f921"
             ]
            ],
            "type": "histogram2dcontour"
           }
          ],
          "mesh3d": [
           {
            "colorbar": {
             "outlinewidth": 0,
             "ticks": ""
            },
            "type": "mesh3d"
           }
          ],
          "parcoords": [
           {
            "line": {
             "colorbar": {
              "outlinewidth": 0,
              "ticks": ""
             }
            },
            "type": "parcoords"
           }
          ],
          "pie": [
           {
            "automargin": true,
            "type": "pie"
           }
          ],
          "scatter": [
           {
            "marker": {
             "line": {
              "color": "#283442"
             }
            },
            "type": "scatter"
           }
          ],
          "scatter3d": [
           {
            "line": {
             "colorbar": {
              "outlinewidth": 0,
              "ticks": ""
             }
            },
            "marker": {
             "colorbar": {
              "outlinewidth": 0,
              "ticks": ""
             }
            },
            "type": "scatter3d"
           }
          ],
          "scattercarpet": [
           {
            "marker": {
             "colorbar": {
              "outlinewidth": 0,
              "ticks": ""
             }
            },
            "type": "scattercarpet"
           }
          ],
          "scattergeo": [
           {
            "marker": {
             "colorbar": {
              "outlinewidth": 0,
              "ticks": ""
             }
            },
            "type": "scattergeo"
           }
          ],
          "scattergl": [
           {
            "marker": {
             "line": {
              "color": "#283442"
             }
            },
            "type": "scattergl"
           }
          ],
          "scattermapbox": [
           {
            "marker": {
             "colorbar": {
              "outlinewidth": 0,
              "ticks": ""
             }
            },
            "type": "scattermapbox"
           }
          ],
          "scatterpolar": [
           {
            "marker": {
             "colorbar": {
              "outlinewidth": 0,
              "ticks": ""
             }
            },
            "type": "scatterpolar"
           }
          ],
          "scatterpolargl": [
           {
            "marker": {
             "colorbar": {
              "outlinewidth": 0,
              "ticks": ""
             }
            },
            "type": "scatterpolargl"
           }
          ],
          "scatterternary": [
           {
            "marker": {
             "colorbar": {
              "outlinewidth": 0,
              "ticks": ""
             }
            },
            "type": "scatterternary"
           }
          ],
          "surface": [
           {
            "colorbar": {
             "outlinewidth": 0,
             "ticks": ""
            },
            "colorscale": [
             [
              0,
              "#0d0887"
             ],
             [
              0.1111111111111111,
              "#46039f"
             ],
             [
              0.2222222222222222,
              "#7201a8"
             ],
             [
              0.3333333333333333,
              "#9c179e"
             ],
             [
              0.4444444444444444,
              "#bd3786"
             ],
             [
              0.5555555555555556,
              "#d8576b"
             ],
             [
              0.6666666666666666,
              "#ed7953"
             ],
             [
              0.7777777777777778,
              "#fb9f3a"
             ],
             [
              0.8888888888888888,
              "#fdca26"
             ],
             [
              1,
              "#f0f921"
             ]
            ],
            "type": "surface"
           }
          ],
          "table": [
           {
            "cells": {
             "fill": {
              "color": "#506784"
             },
             "line": {
              "color": "rgb(17,17,17)"
             }
            },
            "header": {
             "fill": {
              "color": "#2a3f5f"
             },
             "line": {
              "color": "rgb(17,17,17)"
             }
            },
            "type": "table"
           }
          ]
         },
         "layout": {
          "annotationdefaults": {
           "arrowcolor": "#f2f5fa",
           "arrowhead": 0,
           "arrowwidth": 1
          },
          "autotypenumbers": "strict",
          "coloraxis": {
           "colorbar": {
            "outlinewidth": 0,
            "ticks": ""
           }
          },
          "colorscale": {
           "diverging": [
            [
             0,
             "#8e0152"
            ],
            [
             0.1,
             "#c51b7d"
            ],
            [
             0.2,
             "#de77ae"
            ],
            [
             0.3,
             "#f1b6da"
            ],
            [
             0.4,
             "#fde0ef"
            ],
            [
             0.5,
             "#f7f7f7"
            ],
            [
             0.6,
             "#e6f5d0"
            ],
            [
             0.7,
             "#b8e186"
            ],
            [
             0.8,
             "#7fbc41"
            ],
            [
             0.9,
             "#4d9221"
            ],
            [
             1,
             "#276419"
            ]
           ],
           "sequential": [
            [
             0,
             "#0d0887"
            ],
            [
             0.1111111111111111,
             "#46039f"
            ],
            [
             0.2222222222222222,
             "#7201a8"
            ],
            [
             0.3333333333333333,
             "#9c179e"
            ],
            [
             0.4444444444444444,
             "#bd3786"
            ],
            [
             0.5555555555555556,
             "#d8576b"
            ],
            [
             0.6666666666666666,
             "#ed7953"
            ],
            [
             0.7777777777777778,
             "#fb9f3a"
            ],
            [
             0.8888888888888888,
             "#fdca26"
            ],
            [
             1,
             "#f0f921"
            ]
           ],
           "sequentialminus": [
            [
             0,
             "#0d0887"
            ],
            [
             0.1111111111111111,
             "#46039f"
            ],
            [
             0.2222222222222222,
             "#7201a8"
            ],
            [
             0.3333333333333333,
             "#9c179e"
            ],
            [
             0.4444444444444444,
             "#bd3786"
            ],
            [
             0.5555555555555556,
             "#d8576b"
            ],
            [
             0.6666666666666666,
             "#ed7953"
            ],
            [
             0.7777777777777778,
             "#fb9f3a"
            ],
            [
             0.8888888888888888,
             "#fdca26"
            ],
            [
             1,
             "#f0f921"
            ]
           ]
          },
          "colorway": [
           "#636efa",
           "#EF553B",
           "#00cc96",
           "#ab63fa",
           "#FFA15A",
           "#19d3f3",
           "#FF6692",
           "#B6E880",
           "#FF97FF",
           "#FECB52"
          ],
          "font": {
           "color": "#f2f5fa"
          },
          "geo": {
           "bgcolor": "rgb(17,17,17)",
           "lakecolor": "rgb(17,17,17)",
           "landcolor": "rgb(17,17,17)",
           "showlakes": true,
           "showland": true,
           "subunitcolor": "#506784"
          },
          "hoverlabel": {
           "align": "left"
          },
          "hovermode": "closest",
          "mapbox": {
           "style": "dark"
          },
          "paper_bgcolor": "rgb(17,17,17)",
          "plot_bgcolor": "rgb(17,17,17)",
          "polar": {
           "angularaxis": {
            "gridcolor": "#506784",
            "linecolor": "#506784",
            "ticks": ""
           },
           "bgcolor": "rgb(17,17,17)",
           "radialaxis": {
            "gridcolor": "#506784",
            "linecolor": "#506784",
            "ticks": ""
           }
          },
          "scene": {
           "xaxis": {
            "backgroundcolor": "rgb(17,17,17)",
            "gridcolor": "#506784",
            "gridwidth": 2,
            "linecolor": "#506784",
            "showbackground": true,
            "ticks": "",
            "zerolinecolor": "#C8D4E3"
           },
           "yaxis": {
            "backgroundcolor": "rgb(17,17,17)",
            "gridcolor": "#506784",
            "gridwidth": 2,
            "linecolor": "#506784",
            "showbackground": true,
            "ticks": "",
            "zerolinecolor": "#C8D4E3"
           },
           "zaxis": {
            "backgroundcolor": "rgb(17,17,17)",
            "gridcolor": "#506784",
            "gridwidth": 2,
            "linecolor": "#506784",
            "showbackground": true,
            "ticks": "",
            "zerolinecolor": "#C8D4E3"
           }
          },
          "shapedefaults": {
           "line": {
            "color": "#f2f5fa"
           }
          },
          "sliderdefaults": {
           "bgcolor": "#C8D4E3",
           "bordercolor": "rgb(17,17,17)",
           "borderwidth": 1,
           "tickwidth": 0
          },
          "ternary": {
           "aaxis": {
            "gridcolor": "#506784",
            "linecolor": "#506784",
            "ticks": ""
           },
           "baxis": {
            "gridcolor": "#506784",
            "linecolor": "#506784",
            "ticks": ""
           },
           "bgcolor": "rgb(17,17,17)",
           "caxis": {
            "gridcolor": "#506784",
            "linecolor": "#506784",
            "ticks": ""
           }
          },
          "title": {
           "x": 0.05
          },
          "updatemenudefaults": {
           "bgcolor": "#506784",
           "borderwidth": 0
          },
          "xaxis": {
           "automargin": true,
           "gridcolor": "#283442",
           "linecolor": "#506784",
           "ticks": "",
           "title": {
            "standoff": 15
           },
           "zerolinecolor": "#283442",
           "zerolinewidth": 2
          },
          "yaxis": {
           "automargin": true,
           "gridcolor": "#283442",
           "linecolor": "#506784",
           "ticks": "",
           "title": {
            "standoff": 15
           },
           "zerolinecolor": "#283442",
           "zerolinewidth": 2
          }
         }
        },
        "title": {
         "text": "52 Week Low"
        },
        "xaxis": {
         "anchor": "y",
         "domain": [
          0,
          1
         ],
         "title": {
          "text": "Companies"
         }
        },
        "yaxis": {
         "anchor": "x",
         "domain": [
          0,
          1
         ],
         "title": {
          "text": "52 Week Low (R$)"
         }
        }
       }
      }
     },
     "metadata": {},
     "output_type": "display_data"
    }
   ],
   "source": [
    "df_top_companies.sort_values(by = 'fifty_two_week_low', ascending=True, inplace=True)\n",
    "\n",
    "fig_op_margin = px.bar(df_top_companies, title='52 Week Low', x='long_name', y='fifty_two_week_low', color_discrete_sequence=['rgb(100, 195, 181)'], hover_name=df_top_companies.ticker, height=600)\n",
    "fig_op_margin.update_traces(text=[f'R${x:.2f}' for x in (df_top_companies['fifty_two_week_low'])], textposition='outside',textfont=dict(color='white'))\n",
    "fig_op_margin.update_layout(xaxis_title='Companies', yaxis_title='52 Week Low (R$)', template = 'plotly_dark')\n",
    "fig_op_margin.show()"
   ]
  },
  {
   "cell_type": "markdown",
   "metadata": {},
   "source": [
    "**`52-Week Low Variation`**:\n",
    "\n",
    "- Shares of `Banco BTG` have the `lowest minimum`, at **R$4.55**, while those of `Vale S.A.` reached the `highest 52-week low`, at **R$61.00**. This variation suggests that shares of `Vale S.A.` have maintained a `relatively high price` over the last year, even at their lows.\n",
    "\n",
    "**`Comparative Analysis`**:\n",
    "\n",
    "- When comparing the 52-week lows among companies, we see that there is a `large difference` between the `banking` and `mining` sectors. For example, `banking companies` like `Itaú Unibanco` and `Banco Bradesco` have lows of **R$12.39** and **R$22.62**, respectively, which is `substantially lower` than the low of `Vale S.A.`.\n",
    "\n",
    "**`Implications for Investors`**:\n",
    "\n",
    "- Investors may consider the `52-week low` as a potential `support point`, where a stock might find `buying pressure` preventing the `price from falling further`. For some, a `price near the 52-week low` may represent a `buying opportunity`, based on the `belief that the price may rise` if the company has solid fundamentals.\n",
    "\n",
    "**`Conclusion`**:\n",
    "\n",
    "- The 52-week low provides historical context that can help investors identify price trends and assess the stability or volatility of a company's stocks. Stocks with a relatively high 52-week low may be perceived as having stable or resilient performance. However, it is crucial that investors look beyond this indicator and consider a variety of factors, including fundamental and technical analysis, to make well-informed investment decisions.\n"
   ]
  },
  {
   "cell_type": "code",
   "execution_count": 38,
   "metadata": {},
   "outputs": [
    {
     "data": {
      "application/vnd.plotly.v1+json": {
       "config": {
        "plotlyServerURL": "https://plot.ly"
       },
       "data": [
        {
         "alignmentgroup": "True",
         "hovertemplate": "<b>%{hovertext}</b><br><br>long_name=%{x}<br>fifty_two_week_high=%{y}<extra></extra>",
         "hovertext": [
          "BPAC5.SA",
          "ITSA4.SA",
          "ABEV3.SA",
          "BBDC4.SA",
          "ITUB4.SA",
          "PETR3.SA",
          "WEGE3.SA",
          "VIVT3.SA",
          "BBAS3.SA",
          "ELET3.SA",
          "VALE3.SA"
         ],
         "legendgroup": "",
         "marker": {
          "color": "rgb(100, 195, 181)",
          "pattern": {
           "shape": ""
          }
         },
         "name": "",
         "offsetgroup": "",
         "orientation": "v",
         "showlegend": false,
         "text": [
          "R$9.08",
          "R$10.09",
          "R$16.88",
          "R$20.56",
          "R$31.29",
          "R$41.86",
          "R$42.42",
          "R$46.83",
          "R$51.99",
          "R$52.49",
          "R$98.29"
         ],
         "textfont": {
          "color": "white"
         },
         "textposition": "outside",
         "type": "bar",
         "x": [
          "Banco BTG Pactual S.A.",
          "Itaúsa S.A.",
          "Ambev S.A.",
          "Banco Bradesco S.A.",
          "Itaú Unibanco Holding S.A.",
          "Petróleo Brasileiro S.A. - Petrobras",
          "WEG S.A.",
          "Telefônica Brasil S.A.",
          "Banco do Brasil S.A.",
          "Centrais Elétricas Brasileiras S.A. - Eletrobrás",
          "Vale S.A."
         ],
         "xaxis": "x",
         "y": [
          9.08,
          10.09,
          16.88,
          20.56,
          31.29,
          41.86,
          42.42,
          46.83,
          51.99,
          52.49,
          98.29
         ],
         "yaxis": "y"
        }
       ],
       "layout": {
        "barmode": "relative",
        "height": 600,
        "legend": {
         "tracegroupgap": 0
        },
        "template": {
         "data": {
          "bar": [
           {
            "error_x": {
             "color": "#f2f5fa"
            },
            "error_y": {
             "color": "#f2f5fa"
            },
            "marker": {
             "line": {
              "color": "rgb(17,17,17)",
              "width": 0.5
             },
             "pattern": {
              "fillmode": "overlay",
              "size": 10,
              "solidity": 0.2
             }
            },
            "type": "bar"
           }
          ],
          "barpolar": [
           {
            "marker": {
             "line": {
              "color": "rgb(17,17,17)",
              "width": 0.5
             },
             "pattern": {
              "fillmode": "overlay",
              "size": 10,
              "solidity": 0.2
             }
            },
            "type": "barpolar"
           }
          ],
          "carpet": [
           {
            "aaxis": {
             "endlinecolor": "#A2B1C6",
             "gridcolor": "#506784",
             "linecolor": "#506784",
             "minorgridcolor": "#506784",
             "startlinecolor": "#A2B1C6"
            },
            "baxis": {
             "endlinecolor": "#A2B1C6",
             "gridcolor": "#506784",
             "linecolor": "#506784",
             "minorgridcolor": "#506784",
             "startlinecolor": "#A2B1C6"
            },
            "type": "carpet"
           }
          ],
          "choropleth": [
           {
            "colorbar": {
             "outlinewidth": 0,
             "ticks": ""
            },
            "type": "choropleth"
           }
          ],
          "contour": [
           {
            "colorbar": {
             "outlinewidth": 0,
             "ticks": ""
            },
            "colorscale": [
             [
              0,
              "#0d0887"
             ],
             [
              0.1111111111111111,
              "#46039f"
             ],
             [
              0.2222222222222222,
              "#7201a8"
             ],
             [
              0.3333333333333333,
              "#9c179e"
             ],
             [
              0.4444444444444444,
              "#bd3786"
             ],
             [
              0.5555555555555556,
              "#d8576b"
             ],
             [
              0.6666666666666666,
              "#ed7953"
             ],
             [
              0.7777777777777778,
              "#fb9f3a"
             ],
             [
              0.8888888888888888,
              "#fdca26"
             ],
             [
              1,
              "#f0f921"
             ]
            ],
            "type": "contour"
           }
          ],
          "contourcarpet": [
           {
            "colorbar": {
             "outlinewidth": 0,
             "ticks": ""
            },
            "type": "contourcarpet"
           }
          ],
          "heatmap": [
           {
            "colorbar": {
             "outlinewidth": 0,
             "ticks": ""
            },
            "colorscale": [
             [
              0,
              "#0d0887"
             ],
             [
              0.1111111111111111,
              "#46039f"
             ],
             [
              0.2222222222222222,
              "#7201a8"
             ],
             [
              0.3333333333333333,
              "#9c179e"
             ],
             [
              0.4444444444444444,
              "#bd3786"
             ],
             [
              0.5555555555555556,
              "#d8576b"
             ],
             [
              0.6666666666666666,
              "#ed7953"
             ],
             [
              0.7777777777777778,
              "#fb9f3a"
             ],
             [
              0.8888888888888888,
              "#fdca26"
             ],
             [
              1,
              "#f0f921"
             ]
            ],
            "type": "heatmap"
           }
          ],
          "heatmapgl": [
           {
            "colorbar": {
             "outlinewidth": 0,
             "ticks": ""
            },
            "colorscale": [
             [
              0,
              "#0d0887"
             ],
             [
              0.1111111111111111,
              "#46039f"
             ],
             [
              0.2222222222222222,
              "#7201a8"
             ],
             [
              0.3333333333333333,
              "#9c179e"
             ],
             [
              0.4444444444444444,
              "#bd3786"
             ],
             [
              0.5555555555555556,
              "#d8576b"
             ],
             [
              0.6666666666666666,
              "#ed7953"
             ],
             [
              0.7777777777777778,
              "#fb9f3a"
             ],
             [
              0.8888888888888888,
              "#fdca26"
             ],
             [
              1,
              "#f0f921"
             ]
            ],
            "type": "heatmapgl"
           }
          ],
          "histogram": [
           {
            "marker": {
             "pattern": {
              "fillmode": "overlay",
              "size": 10,
              "solidity": 0.2
             }
            },
            "type": "histogram"
           }
          ],
          "histogram2d": [
           {
            "colorbar": {
             "outlinewidth": 0,
             "ticks": ""
            },
            "colorscale": [
             [
              0,
              "#0d0887"
             ],
             [
              0.1111111111111111,
              "#46039f"
             ],
             [
              0.2222222222222222,
              "#7201a8"
             ],
             [
              0.3333333333333333,
              "#9c179e"
             ],
             [
              0.4444444444444444,
              "#bd3786"
             ],
             [
              0.5555555555555556,
              "#d8576b"
             ],
             [
              0.6666666666666666,
              "#ed7953"
             ],
             [
              0.7777777777777778,
              "#fb9f3a"
             ],
             [
              0.8888888888888888,
              "#fdca26"
             ],
             [
              1,
              "#f0f921"
             ]
            ],
            "type": "histogram2d"
           }
          ],
          "histogram2dcontour": [
           {
            "colorbar": {
             "outlinewidth": 0,
             "ticks": ""
            },
            "colorscale": [
             [
              0,
              "#0d0887"
             ],
             [
              0.1111111111111111,
              "#46039f"
             ],
             [
              0.2222222222222222,
              "#7201a8"
             ],
             [
              0.3333333333333333,
              "#9c179e"
             ],
             [
              0.4444444444444444,
              "#bd3786"
             ],
             [
              0.5555555555555556,
              "#d8576b"
             ],
             [
              0.6666666666666666,
              "#ed7953"
             ],
             [
              0.7777777777777778,
              "#fb9f3a"
             ],
             [
              0.8888888888888888,
              "#fdca26"
             ],
             [
              1,
              "#f0f921"
             ]
            ],
            "type": "histogram2dcontour"
           }
          ],
          "mesh3d": [
           {
            "colorbar": {
             "outlinewidth": 0,
             "ticks": ""
            },
            "type": "mesh3d"
           }
          ],
          "parcoords": [
           {
            "line": {
             "colorbar": {
              "outlinewidth": 0,
              "ticks": ""
             }
            },
            "type": "parcoords"
           }
          ],
          "pie": [
           {
            "automargin": true,
            "type": "pie"
           }
          ],
          "scatter": [
           {
            "marker": {
             "line": {
              "color": "#283442"
             }
            },
            "type": "scatter"
           }
          ],
          "scatter3d": [
           {
            "line": {
             "colorbar": {
              "outlinewidth": 0,
              "ticks": ""
             }
            },
            "marker": {
             "colorbar": {
              "outlinewidth": 0,
              "ticks": ""
             }
            },
            "type": "scatter3d"
           }
          ],
          "scattercarpet": [
           {
            "marker": {
             "colorbar": {
              "outlinewidth": 0,
              "ticks": ""
             }
            },
            "type": "scattercarpet"
           }
          ],
          "scattergeo": [
           {
            "marker": {
             "colorbar": {
              "outlinewidth": 0,
              "ticks": ""
             }
            },
            "type": "scattergeo"
           }
          ],
          "scattergl": [
           {
            "marker": {
             "line": {
              "color": "#283442"
             }
            },
            "type": "scattergl"
           }
          ],
          "scattermapbox": [
           {
            "marker": {
             "colorbar": {
              "outlinewidth": 0,
              "ticks": ""
             }
            },
            "type": "scattermapbox"
           }
          ],
          "scatterpolar": [
           {
            "marker": {
             "colorbar": {
              "outlinewidth": 0,
              "ticks": ""
             }
            },
            "type": "scatterpolar"
           }
          ],
          "scatterpolargl": [
           {
            "marker": {
             "colorbar": {
              "outlinewidth": 0,
              "ticks": ""
             }
            },
            "type": "scatterpolargl"
           }
          ],
          "scatterternary": [
           {
            "marker": {
             "colorbar": {
              "outlinewidth": 0,
              "ticks": ""
             }
            },
            "type": "scatterternary"
           }
          ],
          "surface": [
           {
            "colorbar": {
             "outlinewidth": 0,
             "ticks": ""
            },
            "colorscale": [
             [
              0,
              "#0d0887"
             ],
             [
              0.1111111111111111,
              "#46039f"
             ],
             [
              0.2222222222222222,
              "#7201a8"
             ],
             [
              0.3333333333333333,
              "#9c179e"
             ],
             [
              0.4444444444444444,
              "#bd3786"
             ],
             [
              0.5555555555555556,
              "#d8576b"
             ],
             [
              0.6666666666666666,
              "#ed7953"
             ],
             [
              0.7777777777777778,
              "#fb9f3a"
             ],
             [
              0.8888888888888888,
              "#fdca26"
             ],
             [
              1,
              "#f0f921"
             ]
            ],
            "type": "surface"
           }
          ],
          "table": [
           {
            "cells": {
             "fill": {
              "color": "#506784"
             },
             "line": {
              "color": "rgb(17,17,17)"
             }
            },
            "header": {
             "fill": {
              "color": "#2a3f5f"
             },
             "line": {
              "color": "rgb(17,17,17)"
             }
            },
            "type": "table"
           }
          ]
         },
         "layout": {
          "annotationdefaults": {
           "arrowcolor": "#f2f5fa",
           "arrowhead": 0,
           "arrowwidth": 1
          },
          "autotypenumbers": "strict",
          "coloraxis": {
           "colorbar": {
            "outlinewidth": 0,
            "ticks": ""
           }
          },
          "colorscale": {
           "diverging": [
            [
             0,
             "#8e0152"
            ],
            [
             0.1,
             "#c51b7d"
            ],
            [
             0.2,
             "#de77ae"
            ],
            [
             0.3,
             "#f1b6da"
            ],
            [
             0.4,
             "#fde0ef"
            ],
            [
             0.5,
             "#f7f7f7"
            ],
            [
             0.6,
             "#e6f5d0"
            ],
            [
             0.7,
             "#b8e186"
            ],
            [
             0.8,
             "#7fbc41"
            ],
            [
             0.9,
             "#4d9221"
            ],
            [
             1,
             "#276419"
            ]
           ],
           "sequential": [
            [
             0,
             "#0d0887"
            ],
            [
             0.1111111111111111,
             "#46039f"
            ],
            [
             0.2222222222222222,
             "#7201a8"
            ],
            [
             0.3333333333333333,
             "#9c179e"
            ],
            [
             0.4444444444444444,
             "#bd3786"
            ],
            [
             0.5555555555555556,
             "#d8576b"
            ],
            [
             0.6666666666666666,
             "#ed7953"
            ],
            [
             0.7777777777777778,
             "#fb9f3a"
            ],
            [
             0.8888888888888888,
             "#fdca26"
            ],
            [
             1,
             "#f0f921"
            ]
           ],
           "sequentialminus": [
            [
             0,
             "#0d0887"
            ],
            [
             0.1111111111111111,
             "#46039f"
            ],
            [
             0.2222222222222222,
             "#7201a8"
            ],
            [
             0.3333333333333333,
             "#9c179e"
            ],
            [
             0.4444444444444444,
             "#bd3786"
            ],
            [
             0.5555555555555556,
             "#d8576b"
            ],
            [
             0.6666666666666666,
             "#ed7953"
            ],
            [
             0.7777777777777778,
             "#fb9f3a"
            ],
            [
             0.8888888888888888,
             "#fdca26"
            ],
            [
             1,
             "#f0f921"
            ]
           ]
          },
          "colorway": [
           "#636efa",
           "#EF553B",
           "#00cc96",
           "#ab63fa",
           "#FFA15A",
           "#19d3f3",
           "#FF6692",
           "#B6E880",
           "#FF97FF",
           "#FECB52"
          ],
          "font": {
           "color": "#f2f5fa"
          },
          "geo": {
           "bgcolor": "rgb(17,17,17)",
           "lakecolor": "rgb(17,17,17)",
           "landcolor": "rgb(17,17,17)",
           "showlakes": true,
           "showland": true,
           "subunitcolor": "#506784"
          },
          "hoverlabel": {
           "align": "left"
          },
          "hovermode": "closest",
          "mapbox": {
           "style": "dark"
          },
          "paper_bgcolor": "rgb(17,17,17)",
          "plot_bgcolor": "rgb(17,17,17)",
          "polar": {
           "angularaxis": {
            "gridcolor": "#506784",
            "linecolor": "#506784",
            "ticks": ""
           },
           "bgcolor": "rgb(17,17,17)",
           "radialaxis": {
            "gridcolor": "#506784",
            "linecolor": "#506784",
            "ticks": ""
           }
          },
          "scene": {
           "xaxis": {
            "backgroundcolor": "rgb(17,17,17)",
            "gridcolor": "#506784",
            "gridwidth": 2,
            "linecolor": "#506784",
            "showbackground": true,
            "ticks": "",
            "zerolinecolor": "#C8D4E3"
           },
           "yaxis": {
            "backgroundcolor": "rgb(17,17,17)",
            "gridcolor": "#506784",
            "gridwidth": 2,
            "linecolor": "#506784",
            "showbackground": true,
            "ticks": "",
            "zerolinecolor": "#C8D4E3"
           },
           "zaxis": {
            "backgroundcolor": "rgb(17,17,17)",
            "gridcolor": "#506784",
            "gridwidth": 2,
            "linecolor": "#506784",
            "showbackground": true,
            "ticks": "",
            "zerolinecolor": "#C8D4E3"
           }
          },
          "shapedefaults": {
           "line": {
            "color": "#f2f5fa"
           }
          },
          "sliderdefaults": {
           "bgcolor": "#C8D4E3",
           "bordercolor": "rgb(17,17,17)",
           "borderwidth": 1,
           "tickwidth": 0
          },
          "ternary": {
           "aaxis": {
            "gridcolor": "#506784",
            "linecolor": "#506784",
            "ticks": ""
           },
           "baxis": {
            "gridcolor": "#506784",
            "linecolor": "#506784",
            "ticks": ""
           },
           "bgcolor": "rgb(17,17,17)",
           "caxis": {
            "gridcolor": "#506784",
            "linecolor": "#506784",
            "ticks": ""
           }
          },
          "title": {
           "x": 0.05
          },
          "updatemenudefaults": {
           "bgcolor": "#506784",
           "borderwidth": 0
          },
          "xaxis": {
           "automargin": true,
           "gridcolor": "#283442",
           "linecolor": "#506784",
           "ticks": "",
           "title": {
            "standoff": 15
           },
           "zerolinecolor": "#283442",
           "zerolinewidth": 2
          },
          "yaxis": {
           "automargin": true,
           "gridcolor": "#283442",
           "linecolor": "#506784",
           "ticks": "",
           "title": {
            "standoff": 15
           },
           "zerolinecolor": "#283442",
           "zerolinewidth": 2
          }
         }
        },
        "title": {
         "text": "52 Week High"
        },
        "xaxis": {
         "anchor": "y",
         "domain": [
          0,
          1
         ],
         "title": {
          "text": "Companies"
         }
        },
        "yaxis": {
         "anchor": "x",
         "domain": [
          0,
          1
         ],
         "title": {
          "text": "fifty_two_week_low (R$)"
         }
        }
       }
      }
     },
     "metadata": {},
     "output_type": "display_data"
    }
   ],
   "source": [
    "df_top_companies.sort_values(by = 'fifty_two_week_high', ascending=True, inplace=True)\n",
    "\n",
    "fig_op_margin = px.bar(df_top_companies, title='52 Week High', x='long_name', y='fifty_two_week_high', color_discrete_sequence=['rgb(100, 195, 181)'], hover_name=df_top_companies.ticker, height=600)\n",
    "fig_op_margin.update_traces(text=[f'R${x:.2f}' for x in (df_top_companies['fifty_two_week_high'])], textposition='outside',textfont=dict(color='white'))\n",
    "fig_op_margin.update_layout(xaxis_title='Companies', yaxis_title='fifty_two_week_low (R$)', template = 'plotly_dark')\n",
    "fig_op_margin.show()"
   ]
  },
  {
   "cell_type": "markdown",
   "metadata": {},
   "source": [
    "**`52-Week High Variation`**:\n",
    "\n",
    "- Shares of `Vale S.A.` reached the `highest peak in 52 weeks`, with a price of **R$98.29**, indicating the `highest point` the stock reached in this period. In contrast, shares of `Banco BTG Pactual S.A.` showed the `lowest 52-week high`, at **R$9.08**.\n",
    "\n",
    "**`Comparison Among Companies`**:\n",
    "\n",
    "- The variation of the `highs` shows an `interesting contrast` between `different sectors`. While `Vale S.A.` stands out in the `mining and natural resources sector`, companies in the `financial sector`, such as `Banco BTG Pactual S.A.` and `Itaúsa S.A.`, show `52-week highs` that are relatively `lower`.\n",
    "\n",
    "**`Considerations for Investors`**:\n",
    "\n",
    "- The 52-week high can be seen as an indicator of resistance, where the stock may find selling pressure that prevents the price from rising further. For some investors, a price approaching the 52-week high may be viewed as overvalued or as a potential indicator that...\n"
   ]
  },
  {
   "cell_type": "code",
   "execution_count": 39,
   "metadata": {},
   "outputs": [
    {
     "data": {
      "application/vnd.plotly.v1+json": {
       "config": {
        "plotlyServerURL": "https://plot.ly"
       },
       "data": [
        {
         "alignmentgroup": "True",
         "hovertemplate": "<b>%{hovertext}</b><br><br>long_name=%{x}<br>fifty_day_average=%{y}<extra></extra>",
         "hovertext": [
          "BPAC5.SA",
          "ITSA4.SA",
          "ABEV3.SA",
          "BBDC4.SA",
          "ITUB4.SA",
          "ELET3.SA",
          "WEGE3.SA",
          "PETR3.SA",
          "VIVT3.SA",
          "BBAS3.SA",
          "VALE3.SA"
         ],
         "legendgroup": "",
         "marker": {
          "color": "rgb(100, 195, 181)",
          "pattern": {
           "shape": ""
          }
         },
         "name": "",
         "offsetgroup": "",
         "orientation": "v",
         "showlegend": false,
         "text": [
          "R$8.37",
          "R$9.12",
          "R$13.44",
          "R$14.61",
          "R$27.28",
          "R$35.42",
          "R$35.50",
          "R$37.04",
          "R$43.66",
          "R$47.75",
          "R$66.08"
         ],
         "textfont": {
          "color": "white"
         },
         "textposition": "outside",
         "type": "bar",
         "x": [
          "Banco BTG Pactual S.A.",
          "Itaúsa S.A.",
          "Ambev S.A.",
          "Banco Bradesco S.A.",
          "Itaú Unibanco Holding S.A.",
          "Centrais Elétricas Brasileiras S.A. - Eletrobrás",
          "WEG S.A.",
          "Petróleo Brasileiro S.A. - Petrobras",
          "Telefônica Brasil S.A.",
          "Banco do Brasil S.A.",
          "Vale S.A."
         ],
         "xaxis": "x",
         "y": [
          8.365,
          9.11561,
          13.4434,
          14.612,
          27.277,
          35.4158,
          35.499,
          37.0388,
          43.6648,
          47.7504,
          66.0796
         ],
         "yaxis": "y"
        }
       ],
       "layout": {
        "barmode": "relative",
        "height": 600,
        "legend": {
         "tracegroupgap": 0
        },
        "template": {
         "data": {
          "bar": [
           {
            "error_x": {
             "color": "#f2f5fa"
            },
            "error_y": {
             "color": "#f2f5fa"
            },
            "marker": {
             "line": {
              "color": "rgb(17,17,17)",
              "width": 0.5
             },
             "pattern": {
              "fillmode": "overlay",
              "size": 10,
              "solidity": 0.2
             }
            },
            "type": "bar"
           }
          ],
          "barpolar": [
           {
            "marker": {
             "line": {
              "color": "rgb(17,17,17)",
              "width": 0.5
             },
             "pattern": {
              "fillmode": "overlay",
              "size": 10,
              "solidity": 0.2
             }
            },
            "type": "barpolar"
           }
          ],
          "carpet": [
           {
            "aaxis": {
             "endlinecolor": "#A2B1C6",
             "gridcolor": "#506784",
             "linecolor": "#506784",
             "minorgridcolor": "#506784",
             "startlinecolor": "#A2B1C6"
            },
            "baxis": {
             "endlinecolor": "#A2B1C6",
             "gridcolor": "#506784",
             "linecolor": "#506784",
             "minorgridcolor": "#506784",
             "startlinecolor": "#A2B1C6"
            },
            "type": "carpet"
           }
          ],
          "choropleth": [
           {
            "colorbar": {
             "outlinewidth": 0,
             "ticks": ""
            },
            "type": "choropleth"
           }
          ],
          "contour": [
           {
            "colorbar": {
             "outlinewidth": 0,
             "ticks": ""
            },
            "colorscale": [
             [
              0,
              "#0d0887"
             ],
             [
              0.1111111111111111,
              "#46039f"
             ],
             [
              0.2222222222222222,
              "#7201a8"
             ],
             [
              0.3333333333333333,
              "#9c179e"
             ],
             [
              0.4444444444444444,
              "#bd3786"
             ],
             [
              0.5555555555555556,
              "#d8576b"
             ],
             [
              0.6666666666666666,
              "#ed7953"
             ],
             [
              0.7777777777777778,
              "#fb9f3a"
             ],
             [
              0.8888888888888888,
              "#fdca26"
             ],
             [
              1,
              "#f0f921"
             ]
            ],
            "type": "contour"
           }
          ],
          "contourcarpet": [
           {
            "colorbar": {
             "outlinewidth": 0,
             "ticks": ""
            },
            "type": "contourcarpet"
           }
          ],
          "heatmap": [
           {
            "colorbar": {
             "outlinewidth": 0,
             "ticks": ""
            },
            "colorscale": [
             [
              0,
              "#0d0887"
             ],
             [
              0.1111111111111111,
              "#46039f"
             ],
             [
              0.2222222222222222,
              "#7201a8"
             ],
             [
              0.3333333333333333,
              "#9c179e"
             ],
             [
              0.4444444444444444,
              "#bd3786"
             ],
             [
              0.5555555555555556,
              "#d8576b"
             ],
             [
              0.6666666666666666,
              "#ed7953"
             ],
             [
              0.7777777777777778,
              "#fb9f3a"
             ],
             [
              0.8888888888888888,
              "#fdca26"
             ],
             [
              1,
              "#f0f921"
             ]
            ],
            "type": "heatmap"
           }
          ],
          "heatmapgl": [
           {
            "colorbar": {
             "outlinewidth": 0,
             "ticks": ""
            },
            "colorscale": [
             [
              0,
              "#0d0887"
             ],
             [
              0.1111111111111111,
              "#46039f"
             ],
             [
              0.2222222222222222,
              "#7201a8"
             ],
             [
              0.3333333333333333,
              "#9c179e"
             ],
             [
              0.4444444444444444,
              "#bd3786"
             ],
             [
              0.5555555555555556,
              "#d8576b"
             ],
             [
              0.6666666666666666,
              "#ed7953"
             ],
             [
              0.7777777777777778,
              "#fb9f3a"
             ],
             [
              0.8888888888888888,
              "#fdca26"
             ],
             [
              1,
              "#f0f921"
             ]
            ],
            "type": "heatmapgl"
           }
          ],
          "histogram": [
           {
            "marker": {
             "pattern": {
              "fillmode": "overlay",
              "size": 10,
              "solidity": 0.2
             }
            },
            "type": "histogram"
           }
          ],
          "histogram2d": [
           {
            "colorbar": {
             "outlinewidth": 0,
             "ticks": ""
            },
            "colorscale": [
             [
              0,
              "#0d0887"
             ],
             [
              0.1111111111111111,
              "#46039f"
             ],
             [
              0.2222222222222222,
              "#7201a8"
             ],
             [
              0.3333333333333333,
              "#9c179e"
             ],
             [
              0.4444444444444444,
              "#bd3786"
             ],
             [
              0.5555555555555556,
              "#d8576b"
             ],
             [
              0.6666666666666666,
              "#ed7953"
             ],
             [
              0.7777777777777778,
              "#fb9f3a"
             ],
             [
              0.8888888888888888,
              "#fdca26"
             ],
             [
              1,
              "#f0f921"
             ]
            ],
            "type": "histogram2d"
           }
          ],
          "histogram2dcontour": [
           {
            "colorbar": {
             "outlinewidth": 0,
             "ticks": ""
            },
            "colorscale": [
             [
              0,
              "#0d0887"
             ],
             [
              0.1111111111111111,
              "#46039f"
             ],
             [
              0.2222222222222222,
              "#7201a8"
             ],
             [
              0.3333333333333333,
              "#9c179e"
             ],
             [
              0.4444444444444444,
              "#bd3786"
             ],
             [
              0.5555555555555556,
              "#d8576b"
             ],
             [
              0.6666666666666666,
              "#ed7953"
             ],
             [
              0.7777777777777778,
              "#fb9f3a"
             ],
             [
              0.8888888888888888,
              "#fdca26"
             ],
             [
              1,
              "#f0f921"
             ]
            ],
            "type": "histogram2dcontour"
           }
          ],
          "mesh3d": [
           {
            "colorbar": {
             "outlinewidth": 0,
             "ticks": ""
            },
            "type": "mesh3d"
           }
          ],
          "parcoords": [
           {
            "line": {
             "colorbar": {
              "outlinewidth": 0,
              "ticks": ""
             }
            },
            "type": "parcoords"
           }
          ],
          "pie": [
           {
            "automargin": true,
            "type": "pie"
           }
          ],
          "scatter": [
           {
            "marker": {
             "line": {
              "color": "#283442"
             }
            },
            "type": "scatter"
           }
          ],
          "scatter3d": [
           {
            "line": {
             "colorbar": {
              "outlinewidth": 0,
              "ticks": ""
             }
            },
            "marker": {
             "colorbar": {
              "outlinewidth": 0,
              "ticks": ""
             }
            },
            "type": "scatter3d"
           }
          ],
          "scattercarpet": [
           {
            "marker": {
             "colorbar": {
              "outlinewidth": 0,
              "ticks": ""
             }
            },
            "type": "scattercarpet"
           }
          ],
          "scattergeo": [
           {
            "marker": {
             "colorbar": {
              "outlinewidth": 0,
              "ticks": ""
             }
            },
            "type": "scattergeo"
           }
          ],
          "scattergl": [
           {
            "marker": {
             "line": {
              "color": "#283442"
             }
            },
            "type": "scattergl"
           }
          ],
          "scattermapbox": [
           {
            "marker": {
             "colorbar": {
              "outlinewidth": 0,
              "ticks": ""
             }
            },
            "type": "scattermapbox"
           }
          ],
          "scatterpolar": [
           {
            "marker": {
             "colorbar": {
              "outlinewidth": 0,
              "ticks": ""
             }
            },
            "type": "scatterpolar"
           }
          ],
          "scatterpolargl": [
           {
            "marker": {
             "colorbar": {
              "outlinewidth": 0,
              "ticks": ""
             }
            },
            "type": "scatterpolargl"
           }
          ],
          "scatterternary": [
           {
            "marker": {
             "colorbar": {
              "outlinewidth": 0,
              "ticks": ""
             }
            },
            "type": "scatterternary"
           }
          ],
          "surface": [
           {
            "colorbar": {
             "outlinewidth": 0,
             "ticks": ""
            },
            "colorscale": [
             [
              0,
              "#0d0887"
             ],
             [
              0.1111111111111111,
              "#46039f"
             ],
             [
              0.2222222222222222,
              "#7201a8"
             ],
             [
              0.3333333333333333,
              "#9c179e"
             ],
             [
              0.4444444444444444,
              "#bd3786"
             ],
             [
              0.5555555555555556,
              "#d8576b"
             ],
             [
              0.6666666666666666,
              "#ed7953"
             ],
             [
              0.7777777777777778,
              "#fb9f3a"
             ],
             [
              0.8888888888888888,
              "#fdca26"
             ],
             [
              1,
              "#f0f921"
             ]
            ],
            "type": "surface"
           }
          ],
          "table": [
           {
            "cells": {
             "fill": {
              "color": "#506784"
             },
             "line": {
              "color": "rgb(17,17,17)"
             }
            },
            "header": {
             "fill": {
              "color": "#2a3f5f"
             },
             "line": {
              "color": "rgb(17,17,17)"
             }
            },
            "type": "table"
           }
          ]
         },
         "layout": {
          "annotationdefaults": {
           "arrowcolor": "#f2f5fa",
           "arrowhead": 0,
           "arrowwidth": 1
          },
          "autotypenumbers": "strict",
          "coloraxis": {
           "colorbar": {
            "outlinewidth": 0,
            "ticks": ""
           }
          },
          "colorscale": {
           "diverging": [
            [
             0,
             "#8e0152"
            ],
            [
             0.1,
             "#c51b7d"
            ],
            [
             0.2,
             "#de77ae"
            ],
            [
             0.3,
             "#f1b6da"
            ],
            [
             0.4,
             "#fde0ef"
            ],
            [
             0.5,
             "#f7f7f7"
            ],
            [
             0.6,
             "#e6f5d0"
            ],
            [
             0.7,
             "#b8e186"
            ],
            [
             0.8,
             "#7fbc41"
            ],
            [
             0.9,
             "#4d9221"
            ],
            [
             1,
             "#276419"
            ]
           ],
           "sequential": [
            [
             0,
             "#0d0887"
            ],
            [
             0.1111111111111111,
             "#46039f"
            ],
            [
             0.2222222222222222,
             "#7201a8"
            ],
            [
             0.3333333333333333,
             "#9c179e"
            ],
            [
             0.4444444444444444,
             "#bd3786"
            ],
            [
             0.5555555555555556,
             "#d8576b"
            ],
            [
             0.6666666666666666,
             "#ed7953"
            ],
            [
             0.7777777777777778,
             "#fb9f3a"
            ],
            [
             0.8888888888888888,
             "#fdca26"
            ],
            [
             1,
             "#f0f921"
            ]
           ],
           "sequentialminus": [
            [
             0,
             "#0d0887"
            ],
            [
             0.1111111111111111,
             "#46039f"
            ],
            [
             0.2222222222222222,
             "#7201a8"
            ],
            [
             0.3333333333333333,
             "#9c179e"
            ],
            [
             0.4444444444444444,
             "#bd3786"
            ],
            [
             0.5555555555555556,
             "#d8576b"
            ],
            [
             0.6666666666666666,
             "#ed7953"
            ],
            [
             0.7777777777777778,
             "#fb9f3a"
            ],
            [
             0.8888888888888888,
             "#fdca26"
            ],
            [
             1,
             "#f0f921"
            ]
           ]
          },
          "colorway": [
           "#636efa",
           "#EF553B",
           "#00cc96",
           "#ab63fa",
           "#FFA15A",
           "#19d3f3",
           "#FF6692",
           "#B6E880",
           "#FF97FF",
           "#FECB52"
          ],
          "font": {
           "color": "#f2f5fa"
          },
          "geo": {
           "bgcolor": "rgb(17,17,17)",
           "lakecolor": "rgb(17,17,17)",
           "landcolor": "rgb(17,17,17)",
           "showlakes": true,
           "showland": true,
           "subunitcolor": "#506784"
          },
          "hoverlabel": {
           "align": "left"
          },
          "hovermode": "closest",
          "mapbox": {
           "style": "dark"
          },
          "paper_bgcolor": "rgb(17,17,17)",
          "plot_bgcolor": "rgb(17,17,17)",
          "polar": {
           "angularaxis": {
            "gridcolor": "#506784",
            "linecolor": "#506784",
            "ticks": ""
           },
           "bgcolor": "rgb(17,17,17)",
           "radialaxis": {
            "gridcolor": "#506784",
            "linecolor": "#506784",
            "ticks": ""
           }
          },
          "scene": {
           "xaxis": {
            "backgroundcolor": "rgb(17,17,17)",
            "gridcolor": "#506784",
            "gridwidth": 2,
            "linecolor": "#506784",
            "showbackground": true,
            "ticks": "",
            "zerolinecolor": "#C8D4E3"
           },
           "yaxis": {
            "backgroundcolor": "rgb(17,17,17)",
            "gridcolor": "#506784",
            "gridwidth": 2,
            "linecolor": "#506784",
            "showbackground": true,
            "ticks": "",
            "zerolinecolor": "#C8D4E3"
           },
           "zaxis": {
            "backgroundcolor": "rgb(17,17,17)",
            "gridcolor": "#506784",
            "gridwidth": 2,
            "linecolor": "#506784",
            "showbackground": true,
            "ticks": "",
            "zerolinecolor": "#C8D4E3"
           }
          },
          "shapedefaults": {
           "line": {
            "color": "#f2f5fa"
           }
          },
          "sliderdefaults": {
           "bgcolor": "#C8D4E3",
           "bordercolor": "rgb(17,17,17)",
           "borderwidth": 1,
           "tickwidth": 0
          },
          "ternary": {
           "aaxis": {
            "gridcolor": "#506784",
            "linecolor": "#506784",
            "ticks": ""
           },
           "baxis": {
            "gridcolor": "#506784",
            "linecolor": "#506784",
            "ticks": ""
           },
           "bgcolor": "rgb(17,17,17)",
           "caxis": {
            "gridcolor": "#506784",
            "linecolor": "#506784",
            "ticks": ""
           }
          },
          "title": {
           "x": 0.05
          },
          "updatemenudefaults": {
           "bgcolor": "#506784",
           "borderwidth": 0
          },
          "xaxis": {
           "automargin": true,
           "gridcolor": "#283442",
           "linecolor": "#506784",
           "ticks": "",
           "title": {
            "standoff": 15
           },
           "zerolinecolor": "#283442",
           "zerolinewidth": 2
          },
          "yaxis": {
           "automargin": true,
           "gridcolor": "#283442",
           "linecolor": "#506784",
           "ticks": "",
           "title": {
            "standoff": 15
           },
           "zerolinecolor": "#283442",
           "zerolinewidth": 2
          }
         }
        },
        "title": {
         "text": "50 Days Average"
        },
        "xaxis": {
         "anchor": "y",
         "domain": [
          0,
          1
         ],
         "title": {
          "text": "Companies"
         }
        },
        "yaxis": {
         "anchor": "x",
         "domain": [
          0,
          1
         ],
         "title": {
          "text": "fifty_day_average (R$)"
         }
        }
       }
      }
     },
     "metadata": {},
     "output_type": "display_data"
    }
   ],
   "source": [
    "\n",
    "df_top_companies.sort_values(by = 'fifty_day_average', ascending=True, inplace=True)\n",
    "\n",
    "fig_op_margin = px.bar(df_top_companies, title='50 Days Average', x='long_name', y='fifty_day_average', color_discrete_sequence=['rgb(100, 195, 181)'], hover_name=df_top_companies.ticker, height=600)\n",
    "fig_op_margin.update_traces(text=[f'R${x:.2f}' for x in (df_top_companies['fifty_day_average'])], textposition='outside',textfont=dict(color='white'))\n",
    "fig_op_margin.update_layout(xaxis_title='Companies', yaxis_title='fifty_day_average (R$)', template = 'plotly_dark')\n",
    "fig_op_margin.show()"
   ]
  },
  {
   "cell_type": "markdown",
   "metadata": {},
   "source": [
    "**`50-Day Average Variation`**:\n",
    "\n",
    "- The chart shows a `wide variation` in the 50-day moving average among companies. `Vale S.A.` has the `highest average`, at **R$66.08**, indicating that its stocks have maintained a `high average price` compared to other companies in the observed period.\n",
    "\n",
    "**`Comparison Among Companies`**\n",
    "\n",
    "- There is a clear `difference in averages` between companies from `different sectors`. For example, companies in the `banking sector`, like `Banco BTG Pactual S.A.` and `Itaúsa S.A.`, have lower stock price averages, while `Vale S.A.`, a `mining company`, has a `significantly higher average`.\n",
    "\n",
    "**`Implications for Investors`**:\n",
    "\n",
    "- The 50-day moving average is often seen as an important indicator of support or resistance in a stock's price. If the current price is above the 50-day average, this can be seen as a bullish signal, while a price below the average might be interpreted as bearish. Investors can use this average to help decide if it's a good time to buy or sell stocks, considering the trend of the average in relation to the current price.\n",
    "\n",
    "**`Conclusion`**:\n",
    "\n",
    "- The 50-day average provides insight into the performance and relative stability of the stock prices of listed companies over a medium-term period. Stocks with a rising 50-day average may be perceived as having an upward trend, potentially attracting more buying interest. As always, it is important for investors to consider multiple indicators and fundamental analyses when making investment decisions, and not to rely solely on the 50-day average.\n"
   ]
  },
  {
   "cell_type": "code",
   "execution_count": 40,
   "metadata": {},
   "outputs": [
    {
     "data": {
      "application/vnd.plotly.v1+json": {
       "config": {
        "plotlyServerURL": "https://plot.ly"
       },
       "data": [
        {
         "alignmentgroup": "True",
         "hovertemplate": "<b>%{hovertext}</b><br><br>long_name=%{x}<br>two_hundred_day_average=%{y}<extra></extra>",
         "hovertext": [
          "BPAC5.SA",
          "ITSA4.SA",
          "ABEV3.SA",
          "BBDC4.SA",
          "ITUB4.SA",
          "PETR3.SA",
          "ELET3.SA",
          "WEGE3.SA",
          "VIVT3.SA",
          "BBAS3.SA",
          "VALE3.SA"
         ],
         "legendgroup": "",
         "marker": {
          "color": "rgb(100, 195, 181)",
          "pattern": {
           "shape": ""
          }
         },
         "name": "",
         "offsetgroup": "",
         "orientation": "v",
         "showlegend": false,
         "text": [
          "R$6.88",
          "R$8.94",
          "R$14.10",
          "R$14.79",
          "R$26.67",
          "R$31.98",
          "R$35.99",
          "R$38.04",
          "R$41.60",
          "R$44.66",
          "R$73.07"
         ],
         "textfont": {
          "color": "white"
         },
         "textposition": "outside",
         "type": "bar",
         "x": [
          "Banco BTG Pactual S.A.",
          "Itaúsa S.A.",
          "Ambev S.A.",
          "Banco Bradesco S.A.",
          "Itaú Unibanco Holding S.A.",
          "Petróleo Brasileiro S.A. - Petrobras",
          "Centrais Elétricas Brasileiras S.A. - Eletrobrás",
          "WEG S.A.",
          "Telefônica Brasil S.A.",
          "Banco do Brasil S.A.",
          "Vale S.A."
         ],
         "xaxis": "x",
         "y": [
          6.8769,
          8.937748,
          14.1037,
          14.7858,
          26.66895,
          31.98075,
          35.99495,
          38.03615,
          41.6027,
          44.66415,
          73.07495
         ],
         "yaxis": "y"
        }
       ],
       "layout": {
        "barmode": "relative",
        "height": 600,
        "legend": {
         "tracegroupgap": 0
        },
        "template": {
         "data": {
          "bar": [
           {
            "error_x": {
             "color": "#f2f5fa"
            },
            "error_y": {
             "color": "#f2f5fa"
            },
            "marker": {
             "line": {
              "color": "rgb(17,17,17)",
              "width": 0.5
             },
             "pattern": {
              "fillmode": "overlay",
              "size": 10,
              "solidity": 0.2
             }
            },
            "type": "bar"
           }
          ],
          "barpolar": [
           {
            "marker": {
             "line": {
              "color": "rgb(17,17,17)",
              "width": 0.5
             },
             "pattern": {
              "fillmode": "overlay",
              "size": 10,
              "solidity": 0.2
             }
            },
            "type": "barpolar"
           }
          ],
          "carpet": [
           {
            "aaxis": {
             "endlinecolor": "#A2B1C6",
             "gridcolor": "#506784",
             "linecolor": "#506784",
             "minorgridcolor": "#506784",
             "startlinecolor": "#A2B1C6"
            },
            "baxis": {
             "endlinecolor": "#A2B1C6",
             "gridcolor": "#506784",
             "linecolor": "#506784",
             "minorgridcolor": "#506784",
             "startlinecolor": "#A2B1C6"
            },
            "type": "carpet"
           }
          ],
          "choropleth": [
           {
            "colorbar": {
             "outlinewidth": 0,
             "ticks": ""
            },
            "type": "choropleth"
           }
          ],
          "contour": [
           {
            "colorbar": {
             "outlinewidth": 0,
             "ticks": ""
            },
            "colorscale": [
             [
              0,
              "#0d0887"
             ],
             [
              0.1111111111111111,
              "#46039f"
             ],
             [
              0.2222222222222222,
              "#7201a8"
             ],
             [
              0.3333333333333333,
              "#9c179e"
             ],
             [
              0.4444444444444444,
              "#bd3786"
             ],
             [
              0.5555555555555556,
              "#d8576b"
             ],
             [
              0.6666666666666666,
              "#ed7953"
             ],
             [
              0.7777777777777778,
              "#fb9f3a"
             ],
             [
              0.8888888888888888,
              "#fdca26"
             ],
             [
              1,
              "#f0f921"
             ]
            ],
            "type": "contour"
           }
          ],
          "contourcarpet": [
           {
            "colorbar": {
             "outlinewidth": 0,
             "ticks": ""
            },
            "type": "contourcarpet"
           }
          ],
          "heatmap": [
           {
            "colorbar": {
             "outlinewidth": 0,
             "ticks": ""
            },
            "colorscale": [
             [
              0,
              "#0d0887"
             ],
             [
              0.1111111111111111,
              "#46039f"
             ],
             [
              0.2222222222222222,
              "#7201a8"
             ],
             [
              0.3333333333333333,
              "#9c179e"
             ],
             [
              0.4444444444444444,
              "#bd3786"
             ],
             [
              0.5555555555555556,
              "#d8576b"
             ],
             [
              0.6666666666666666,
              "#ed7953"
             ],
             [
              0.7777777777777778,
              "#fb9f3a"
             ],
             [
              0.8888888888888888,
              "#fdca26"
             ],
             [
              1,
              "#f0f921"
             ]
            ],
            "type": "heatmap"
           }
          ],
          "heatmapgl": [
           {
            "colorbar": {
             "outlinewidth": 0,
             "ticks": ""
            },
            "colorscale": [
             [
              0,
              "#0d0887"
             ],
             [
              0.1111111111111111,
              "#46039f"
             ],
             [
              0.2222222222222222,
              "#7201a8"
             ],
             [
              0.3333333333333333,
              "#9c179e"
             ],
             [
              0.4444444444444444,
              "#bd3786"
             ],
             [
              0.5555555555555556,
              "#d8576b"
             ],
             [
              0.6666666666666666,
              "#ed7953"
             ],
             [
              0.7777777777777778,
              "#fb9f3a"
             ],
             [
              0.8888888888888888,
              "#fdca26"
             ],
             [
              1,
              "#f0f921"
             ]
            ],
            "type": "heatmapgl"
           }
          ],
          "histogram": [
           {
            "marker": {
             "pattern": {
              "fillmode": "overlay",
              "size": 10,
              "solidity": 0.2
             }
            },
            "type": "histogram"
           }
          ],
          "histogram2d": [
           {
            "colorbar": {
             "outlinewidth": 0,
             "ticks": ""
            },
            "colorscale": [
             [
              0,
              "#0d0887"
             ],
             [
              0.1111111111111111,
              "#46039f"
             ],
             [
              0.2222222222222222,
              "#7201a8"
             ],
             [
              0.3333333333333333,
              "#9c179e"
             ],
             [
              0.4444444444444444,
              "#bd3786"
             ],
             [
              0.5555555555555556,
              "#d8576b"
             ],
             [
              0.6666666666666666,
              "#ed7953"
             ],
             [
              0.7777777777777778,
              "#fb9f3a"
             ],
             [
              0.8888888888888888,
              "#fdca26"
             ],
             [
              1,
              "#f0f921"
             ]
            ],
            "type": "histogram2d"
           }
          ],
          "histogram2dcontour": [
           {
            "colorbar": {
             "outlinewidth": 0,
             "ticks": ""
            },
            "colorscale": [
             [
              0,
              "#0d0887"
             ],
             [
              0.1111111111111111,
              "#46039f"
             ],
             [
              0.2222222222222222,
              "#7201a8"
             ],
             [
              0.3333333333333333,
              "#9c179e"
             ],
             [
              0.4444444444444444,
              "#bd3786"
             ],
             [
              0.5555555555555556,
              "#d8576b"
             ],
             [
              0.6666666666666666,
              "#ed7953"
             ],
             [
              0.7777777777777778,
              "#fb9f3a"
             ],
             [
              0.8888888888888888,
              "#fdca26"
             ],
             [
              1,
              "#f0f921"
             ]
            ],
            "type": "histogram2dcontour"
           }
          ],
          "mesh3d": [
           {
            "colorbar": {
             "outlinewidth": 0,
             "ticks": ""
            },
            "type": "mesh3d"
           }
          ],
          "parcoords": [
           {
            "line": {
             "colorbar": {
              "outlinewidth": 0,
              "ticks": ""
             }
            },
            "type": "parcoords"
           }
          ],
          "pie": [
           {
            "automargin": true,
            "type": "pie"
           }
          ],
          "scatter": [
           {
            "marker": {
             "line": {
              "color": "#283442"
             }
            },
            "type": "scatter"
           }
          ],
          "scatter3d": [
           {
            "line": {
             "colorbar": {
              "outlinewidth": 0,
              "ticks": ""
             }
            },
            "marker": {
             "colorbar": {
              "outlinewidth": 0,
              "ticks": ""
             }
            },
            "type": "scatter3d"
           }
          ],
          "scattercarpet": [
           {
            "marker": {
             "colorbar": {
              "outlinewidth": 0,
              "ticks": ""
             }
            },
            "type": "scattercarpet"
           }
          ],
          "scattergeo": [
           {
            "marker": {
             "colorbar": {
              "outlinewidth": 0,
              "ticks": ""
             }
            },
            "type": "scattergeo"
           }
          ],
          "scattergl": [
           {
            "marker": {
             "line": {
              "color": "#283442"
             }
            },
            "type": "scattergl"
           }
          ],
          "scattermapbox": [
           {
            "marker": {
             "colorbar": {
              "outlinewidth": 0,
              "ticks": ""
             }
            },
            "type": "scattermapbox"
           }
          ],
          "scatterpolar": [
           {
            "marker": {
             "colorbar": {
              "outlinewidth": 0,
              "ticks": ""
             }
            },
            "type": "scatterpolar"
           }
          ],
          "scatterpolargl": [
           {
            "marker": {
             "colorbar": {
              "outlinewidth": 0,
              "ticks": ""
             }
            },
            "type": "scatterpolargl"
           }
          ],
          "scatterternary": [
           {
            "marker": {
             "colorbar": {
              "outlinewidth": 0,
              "ticks": ""
             }
            },
            "type": "scatterternary"
           }
          ],
          "surface": [
           {
            "colorbar": {
             "outlinewidth": 0,
             "ticks": ""
            },
            "colorscale": [
             [
              0,
              "#0d0887"
             ],
             [
              0.1111111111111111,
              "#46039f"
             ],
             [
              0.2222222222222222,
              "#7201a8"
             ],
             [
              0.3333333333333333,
              "#9c179e"
             ],
             [
              0.4444444444444444,
              "#bd3786"
             ],
             [
              0.5555555555555556,
              "#d8576b"
             ],
             [
              0.6666666666666666,
              "#ed7953"
             ],
             [
              0.7777777777777778,
              "#fb9f3a"
             ],
             [
              0.8888888888888888,
              "#fdca26"
             ],
             [
              1,
              "#f0f921"
             ]
            ],
            "type": "surface"
           }
          ],
          "table": [
           {
            "cells": {
             "fill": {
              "color": "#506784"
             },
             "line": {
              "color": "rgb(17,17,17)"
             }
            },
            "header": {
             "fill": {
              "color": "#2a3f5f"
             },
             "line": {
              "color": "rgb(17,17,17)"
             }
            },
            "type": "table"
           }
          ]
         },
         "layout": {
          "annotationdefaults": {
           "arrowcolor": "#f2f5fa",
           "arrowhead": 0,
           "arrowwidth": 1
          },
          "autotypenumbers": "strict",
          "coloraxis": {
           "colorbar": {
            "outlinewidth": 0,
            "ticks": ""
           }
          },
          "colorscale": {
           "diverging": [
            [
             0,
             "#8e0152"
            ],
            [
             0.1,
             "#c51b7d"
            ],
            [
             0.2,
             "#de77ae"
            ],
            [
             0.3,
             "#f1b6da"
            ],
            [
             0.4,
             "#fde0ef"
            ],
            [
             0.5,
             "#f7f7f7"
            ],
            [
             0.6,
             "#e6f5d0"
            ],
            [
             0.7,
             "#b8e186"
            ],
            [
             0.8,
             "#7fbc41"
            ],
            [
             0.9,
             "#4d9221"
            ],
            [
             1,
             "#276419"
            ]
           ],
           "sequential": [
            [
             0,
             "#0d0887"
            ],
            [
             0.1111111111111111,
             "#46039f"
            ],
            [
             0.2222222222222222,
             "#7201a8"
            ],
            [
             0.3333333333333333,
             "#9c179e"
            ],
            [
             0.4444444444444444,
             "#bd3786"
            ],
            [
             0.5555555555555556,
             "#d8576b"
            ],
            [
             0.6666666666666666,
             "#ed7953"
            ],
            [
             0.7777777777777778,
             "#fb9f3a"
            ],
            [
             0.8888888888888888,
             "#fdca26"
            ],
            [
             1,
             "#f0f921"
            ]
           ],
           "sequentialminus": [
            [
             0,
             "#0d0887"
            ],
            [
             0.1111111111111111,
             "#46039f"
            ],
            [
             0.2222222222222222,
             "#7201a8"
            ],
            [
             0.3333333333333333,
             "#9c179e"
            ],
            [
             0.4444444444444444,
             "#bd3786"
            ],
            [
             0.5555555555555556,
             "#d8576b"
            ],
            [
             0.6666666666666666,
             "#ed7953"
            ],
            [
             0.7777777777777778,
             "#fb9f3a"
            ],
            [
             0.8888888888888888,
             "#fdca26"
            ],
            [
             1,
             "#f0f921"
            ]
           ]
          },
          "colorway": [
           "#636efa",
           "#EF553B",
           "#00cc96",
           "#ab63fa",
           "#FFA15A",
           "#19d3f3",
           "#FF6692",
           "#B6E880",
           "#FF97FF",
           "#FECB52"
          ],
          "font": {
           "color": "#f2f5fa"
          },
          "geo": {
           "bgcolor": "rgb(17,17,17)",
           "lakecolor": "rgb(17,17,17)",
           "landcolor": "rgb(17,17,17)",
           "showlakes": true,
           "showland": true,
           "subunitcolor": "#506784"
          },
          "hoverlabel": {
           "align": "left"
          },
          "hovermode": "closest",
          "mapbox": {
           "style": "dark"
          },
          "paper_bgcolor": "rgb(17,17,17)",
          "plot_bgcolor": "rgb(17,17,17)",
          "polar": {
           "angularaxis": {
            "gridcolor": "#506784",
            "linecolor": "#506784",
            "ticks": ""
           },
           "bgcolor": "rgb(17,17,17)",
           "radialaxis": {
            "gridcolor": "#506784",
            "linecolor": "#506784",
            "ticks": ""
           }
          },
          "scene": {
           "xaxis": {
            "backgroundcolor": "rgb(17,17,17)",
            "gridcolor": "#506784",
            "gridwidth": 2,
            "linecolor": "#506784",
            "showbackground": true,
            "ticks": "",
            "zerolinecolor": "#C8D4E3"
           },
           "yaxis": {
            "backgroundcolor": "rgb(17,17,17)",
            "gridcolor": "#506784",
            "gridwidth": 2,
            "linecolor": "#506784",
            "showbackground": true,
            "ticks": "",
            "zerolinecolor": "#C8D4E3"
           },
           "zaxis": {
            "backgroundcolor": "rgb(17,17,17)",
            "gridcolor": "#506784",
            "gridwidth": 2,
            "linecolor": "#506784",
            "showbackground": true,
            "ticks": "",
            "zerolinecolor": "#C8D4E3"
           }
          },
          "shapedefaults": {
           "line": {
            "color": "#f2f5fa"
           }
          },
          "sliderdefaults": {
           "bgcolor": "#C8D4E3",
           "bordercolor": "rgb(17,17,17)",
           "borderwidth": 1,
           "tickwidth": 0
          },
          "ternary": {
           "aaxis": {
            "gridcolor": "#506784",
            "linecolor": "#506784",
            "ticks": ""
           },
           "baxis": {
            "gridcolor": "#506784",
            "linecolor": "#506784",
            "ticks": ""
           },
           "bgcolor": "rgb(17,17,17)",
           "caxis": {
            "gridcolor": "#506784",
            "linecolor": "#506784",
            "ticks": ""
           }
          },
          "title": {
           "x": 0.05
          },
          "updatemenudefaults": {
           "bgcolor": "#506784",
           "borderwidth": 0
          },
          "xaxis": {
           "automargin": true,
           "gridcolor": "#283442",
           "linecolor": "#506784",
           "ticks": "",
           "title": {
            "standoff": 15
           },
           "zerolinecolor": "#283442",
           "zerolinewidth": 2
          },
          "yaxis": {
           "automargin": true,
           "gridcolor": "#283442",
           "linecolor": "#506784",
           "ticks": "",
           "title": {
            "standoff": 15
           },
           "zerolinecolor": "#283442",
           "zerolinewidth": 2
          }
         }
        },
        "title": {
         "text": "200 Day Average"
        },
        "xaxis": {
         "anchor": "y",
         "domain": [
          0,
          1
         ],
         "title": {
          "text": "Companies"
         }
        },
        "yaxis": {
         "anchor": "x",
         "domain": [
          0,
          1
         ],
         "title": {
          "text": "two_hundred_day_average (R$)"
         }
        }
       }
      }
     },
     "metadata": {},
     "output_type": "display_data"
    }
   ],
   "source": [
    "\n",
    "\n",
    "df_top_companies.sort_values(by = 'two_hundred_day_average', ascending=True, inplace=True)\n",
    "\n",
    "fig_op_margin = px.bar(df_top_companies, title='200 Day Average', x='long_name', y='two_hundred_day_average', color_discrete_sequence=['rgb(100, 195, 181)'], hover_name=df_top_companies.ticker, height=600)\n",
    "fig_op_margin.update_traces(text=[f'R${x:.2f}' for x in (df_top_companies['two_hundred_day_average'])], textposition='outside',textfont=dict(color='white'))\n",
    "fig_op_margin.update_layout(xaxis_title='Companies', yaxis_title='two_hundred_day_average (R$)', template = 'plotly_dark')\n",
    "fig_op_margin.show()"
   ]
  },
  {
   "cell_type": "markdown",
   "metadata": {},
   "source": [
    "**`200-Day Average Variation`**:\n",
    "\n",
    "- The 200-day average varies among companies, with `Banco BTG Pactual` having the `lowest average`, at **R$6.88**, and `Vale` showing the `highest average`, at **R$73.07**.\n",
    "\n",
    "**`Comparison Among Companies`**:\n",
    "\n",
    "- It is noted that companies in sectors like finance (`Banco BTG Pactual S.A.` and `Itaúsa S.A.`) tend to have `lower` 200-day moving averages `compared` to companies from `other sectors`, such as mining (`Vale S.A.`), reflecting a `difference in stability` and `stock price growth` in these sectors over time.\n",
    "\n",
    "**`Implications for Investors`**:\n",
    "\n",
    "- The 200-day moving average is commonly used as an indicator of long-term trend. A stock price `above its` 200-day average is often interpreted as a `bullish signal`, while a price `below` may indicate a `bearish trend`. Investors can use this average as part of their investment strategies to `determine buy or sell positions`.\n",
    "\n",
    "**`Conclusion`**:\n",
    "\n",
    "- The 200-day average is a key technical indicator for market trend analysis and provides insight into the stability and trend of a stock's price over time. Investors seeking safety and long-term trends might consider stocks with rising 200-day averages as potentially safer investments. However, it is crucial to evaluate other factors, such as the financial health of the company, sector performance, and overall economic conditions, before making investment decisions.\n"
   ]
  }
 ],
 "metadata": {
  "kernelspec": {
   "display_name": "Python 3",
   "language": "python",
   "name": "python3"
  },
  "language_info": {
   "codemirror_mode": {
    "name": "ipython",
    "version": 3
   },
   "file_extension": ".py",
   "mimetype": "text/x-python",
   "name": "python",
   "nbconvert_exporter": "python",
   "pygments_lexer": "ipython3",
   "version": "3.11.5"
  }
 },
 "nbformat": 4,
 "nbformat_minor": 2
}
