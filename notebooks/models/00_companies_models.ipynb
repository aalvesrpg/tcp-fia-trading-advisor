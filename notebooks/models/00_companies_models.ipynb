{
 "cells": [
  {
   "cell_type": "markdown",
   "metadata": {},
   "source": [
    "# Statistical and Machine Learning Models for Fundamentalist Data"
   ]
  },
  {
   "cell_type": "markdown",
   "metadata": {},
   "source": [
    "This notebook is a useful tool for investors interested in the Brazilian stock market. It integrates machine learning techniques and statistical models to analyze fundamentalist data of companies listed on the stock exchange. The aim is to provide in-depth analysis and facilitate investment decision-making, focusing on identifying opportunities and mitigating risks. It includes interactive visualizations and real-time updates, making it accessible and practical for both experienced investors and beginners."
   ]
  },
  {
   "cell_type": "markdown",
   "metadata": {},
   "source": [
    "## Initial Setup"
   ]
  },
  {
   "cell_type": "markdown",
   "metadata": {},
   "source": [
    "### Install Packages"
   ]
  },
  {
   "cell_type": "code",
   "execution_count": 69,
   "metadata": {},
   "outputs": [
    {
     "name": "stdout",
     "output_type": "stream",
     "text": [
      "14232.43s - pydevd: Sending message related to process being replaced timed-out after 5 seconds\n",
      "Note: you may need to restart the kernel to use updated packages.\n",
      "14238.52s - pydevd: Sending message related to process being replaced timed-out after 5 seconds\n",
      "Note: you may need to restart the kernel to use updated packages.\n",
      "14244.31s - pydevd: Sending message related to process being replaced timed-out after 5 seconds\n",
      "Note: you may need to restart the kernel to use updated packages.\n"
     ]
    }
   ],
   "source": [
    "%pip install pandas -q\n",
    "%pip install plotly -q\n",
    "%pip install scikit-learn -q"
   ]
  },
  {
   "cell_type": "markdown",
   "metadata": {},
   "source": [
    "### Import libs"
   ]
  },
  {
   "cell_type": "code",
   "execution_count": 70,
   "metadata": {},
   "outputs": [],
   "source": [
    "import os\n",
    "from pathlib import Path\n",
    "import pandas as pd\n",
    "import plotly.express as px\n",
    "import plotly.graph_objects as go\n",
    "import plotly.subplots as sp\n",
    "from sklearn.decomposition import PCA\n",
    "from sklearn.preprocessing import StandardScaler\n",
    "import warnings\n",
    "warnings.filterwarnings('ignore')"
   ]
  },
  {
   "cell_type": "markdown",
   "metadata": {},
   "source": [
    "### Create a file path default"
   ]
  },
  {
   "cell_type": "code",
   "execution_count": 71,
   "metadata": {},
   "outputs": [],
   "source": [
    "file_path_book = str(Path(os.getcwd()).parent.parent / \"data/book\")"
   ]
  },
  {
   "cell_type": "markdown",
   "metadata": {},
   "source": [
    "### Load data"
   ]
  },
  {
   "cell_type": "code",
   "execution_count": 72,
   "metadata": {},
   "outputs": [
    {
     "data": {
      "text/html": [
       "<div>\n",
       "<style scoped>\n",
       "    .dataframe tbody tr th:only-of-type {\n",
       "        vertical-align: middle;\n",
       "    }\n",
       "\n",
       "    .dataframe tbody tr th {\n",
       "        vertical-align: top;\n",
       "    }\n",
       "\n",
       "    .dataframe thead th {\n",
       "        text-align: right;\n",
       "    }\n",
       "</style>\n",
       "<table border=\"1\" class=\"dataframe\">\n",
       "  <thead>\n",
       "    <tr style=\"text-align: right;\">\n",
       "      <th></th>\n",
       "      <th>ticker</th>\n",
       "      <th>long_name</th>\n",
       "      <th>sector</th>\n",
       "      <th>industry</th>\n",
       "      <th>market_cap</th>\n",
       "      <th>enterprise_value</th>\n",
       "      <th>total_revenue</th>\n",
       "      <th>profit_margins</th>\n",
       "      <th>operating_margins</th>\n",
       "      <th>dividend_rate</th>\n",
       "      <th>...</th>\n",
       "      <th>return_on_equity</th>\n",
       "      <th>gross_profits</th>\n",
       "      <th>total_assets_approx</th>\n",
       "      <th>asset_turnover</th>\n",
       "      <th>earnings_growth_rate</th>\n",
       "      <th>dividend_payout_ratio</th>\n",
       "      <th>equity</th>\n",
       "      <th>debt_to_equity</th>\n",
       "      <th>roi</th>\n",
       "      <th>roce</th>\n",
       "    </tr>\n",
       "  </thead>\n",
       "  <tbody>\n",
       "    <tr>\n",
       "      <th>0</th>\n",
       "      <td>ABCB4.SA</td>\n",
       "      <td>Banco ABC Brasil S.A.</td>\n",
       "      <td>Financial Services</td>\n",
       "      <td>Banks - Regional</td>\n",
       "      <td>4.265434e+09</td>\n",
       "      <td>1.477339e+10</td>\n",
       "      <td>1.941779e+09</td>\n",
       "      <td>0.41576</td>\n",
       "      <td>0.38826</td>\n",
       "      <td>1.56</td>\n",
       "      <td>...</td>\n",
       "      <td>0.15680</td>\n",
       "      <td>1.973086e+09</td>\n",
       "      <td>7.774306e+09</td>\n",
       "      <td>0.249769</td>\n",
       "      <td>0.1</td>\n",
       "      <td>155000.000000</td>\n",
       "      <td>-1.052416e+10</td>\n",
       "      <td>-1.738710</td>\n",
       "      <td>0.131438</td>\n",
       "      <td>0.000000</td>\n",
       "    </tr>\n",
       "    <tr>\n",
       "      <th>1</th>\n",
       "      <td>AGRO3.SA</td>\n",
       "      <td>BrasilAgro - Companhia Brasileira de Proprieda...</td>\n",
       "      <td>Consumer Defensive</td>\n",
       "      <td>Farm Products</td>\n",
       "      <td>2.466480e+09</td>\n",
       "      <td>2.912933e+09</td>\n",
       "      <td>1.249437e+09</td>\n",
       "      <td>0.21493</td>\n",
       "      <td>0.25031</td>\n",
       "      <td>3.21</td>\n",
       "      <td>...</td>\n",
       "      <td>0.12170</td>\n",
       "      <td>3.155040e+08</td>\n",
       "      <td>3.838370e+08</td>\n",
       "      <td>3.255124</td>\n",
       "      <td>680.1</td>\n",
       "      <td>47.640053</td>\n",
       "      <td>-4.882380e+08</td>\n",
       "      <td>-1.786168</td>\n",
       "      <td>0.428927</td>\n",
       "      <td>0.079343</td>\n",
       "    </tr>\n",
       "    <tr>\n",
       "      <th>2</th>\n",
       "      <td>RAIL3.SA</td>\n",
       "      <td>Rumo S.A.</td>\n",
       "      <td>Industrials</td>\n",
       "      <td>Railroads</td>\n",
       "      <td>4.228882e+10</td>\n",
       "      <td>5.524305e+10</td>\n",
       "      <td>1.031746e+10</td>\n",
       "      <td>0.07639</td>\n",
       "      <td>0.33544</td>\n",
       "      <td>0.07</td>\n",
       "      <td>...</td>\n",
       "      <td>0.05163</td>\n",
       "      <td>3.146360e+09</td>\n",
       "      <td>7.656040e+09</td>\n",
       "      <td>1.347623</td>\n",
       "      <td>393.5</td>\n",
       "      <td>1.677255</td>\n",
       "      <td>-1.418716e+10</td>\n",
       "      <td>-1.539646</td>\n",
       "      <td>0.186765</td>\n",
       "      <td>0.070519</td>\n",
       "    </tr>\n",
       "    <tr>\n",
       "      <th>3</th>\n",
       "      <td>ALPA3.SA</td>\n",
       "      <td>Alpargatas S.A.</td>\n",
       "      <td>Consumer Cyclical</td>\n",
       "      <td>Footwear &amp; Accessories</td>\n",
       "      <td>5.309793e+09</td>\n",
       "      <td>6.482982e+09</td>\n",
       "      <td>4.022153e+09</td>\n",
       "      <td>-0.05671</td>\n",
       "      <td>-0.06434</td>\n",
       "      <td>0.40</td>\n",
       "      <td>...</td>\n",
       "      <td>-0.04153</td>\n",
       "      <td>1.968303e+09</td>\n",
       "      <td>4.142880e+08</td>\n",
       "      <td>9.708591</td>\n",
       "      <td>0.0</td>\n",
       "      <td>0.000000</td>\n",
       "      <td>-1.136053e+09</td>\n",
       "      <td>-1.364673</td>\n",
       "      <td>0.620417</td>\n",
       "      <td>-0.000029</td>\n",
       "    </tr>\n",
       "    <tr>\n",
       "      <th>4</th>\n",
       "      <td>ALPA4.SA</td>\n",
       "      <td>Alpargatas S.A.</td>\n",
       "      <td>Consumer Cyclical</td>\n",
       "      <td>Footwear &amp; Accessories</td>\n",
       "      <td>5.350758e+09</td>\n",
       "      <td>6.395236e+09</td>\n",
       "      <td>4.022153e+09</td>\n",
       "      <td>-0.05671</td>\n",
       "      <td>-0.06434</td>\n",
       "      <td>0.43</td>\n",
       "      <td>...</td>\n",
       "      <td>-0.04153</td>\n",
       "      <td>1.968303e+09</td>\n",
       "      <td>4.142880e+08</td>\n",
       "      <td>9.708591</td>\n",
       "      <td>0.0</td>\n",
       "      <td>0.000000</td>\n",
       "      <td>-1.136053e+09</td>\n",
       "      <td>-1.364673</td>\n",
       "      <td>0.628930</td>\n",
       "      <td>-0.000029</td>\n",
       "    </tr>\n",
       "  </tbody>\n",
       "</table>\n",
       "<p>5 rows × 43 columns</p>\n",
       "</div>"
      ],
      "text/plain": [
       "     ticker                                          long_name  \\\n",
       "0  ABCB4.SA                              Banco ABC Brasil S.A.   \n",
       "1  AGRO3.SA  BrasilAgro - Companhia Brasileira de Proprieda...   \n",
       "2  RAIL3.SA                                          Rumo S.A.   \n",
       "3  ALPA3.SA                                    Alpargatas S.A.   \n",
       "4  ALPA4.SA                                    Alpargatas S.A.   \n",
       "\n",
       "               sector                industry    market_cap  enterprise_value  \\\n",
       "0  Financial Services        Banks - Regional  4.265434e+09      1.477339e+10   \n",
       "1  Consumer Defensive           Farm Products  2.466480e+09      2.912933e+09   \n",
       "2         Industrials               Railroads  4.228882e+10      5.524305e+10   \n",
       "3   Consumer Cyclical  Footwear & Accessories  5.309793e+09      6.482982e+09   \n",
       "4   Consumer Cyclical  Footwear & Accessories  5.350758e+09      6.395236e+09   \n",
       "\n",
       "   total_revenue  profit_margins  operating_margins  dividend_rate  ...  \\\n",
       "0   1.941779e+09         0.41576            0.38826           1.56  ...   \n",
       "1   1.249437e+09         0.21493            0.25031           3.21  ...   \n",
       "2   1.031746e+10         0.07639            0.33544           0.07  ...   \n",
       "3   4.022153e+09        -0.05671           -0.06434           0.40  ...   \n",
       "4   4.022153e+09        -0.05671           -0.06434           0.43  ...   \n",
       "\n",
       "   return_on_equity  gross_profits  total_assets_approx  asset_turnover  \\\n",
       "0           0.15680   1.973086e+09         7.774306e+09        0.249769   \n",
       "1           0.12170   3.155040e+08         3.838370e+08        3.255124   \n",
       "2           0.05163   3.146360e+09         7.656040e+09        1.347623   \n",
       "3          -0.04153   1.968303e+09         4.142880e+08        9.708591   \n",
       "4          -0.04153   1.968303e+09         4.142880e+08        9.708591   \n",
       "\n",
       "   earnings_growth_rate  dividend_payout_ratio        equity  debt_to_equity  \\\n",
       "0                   0.1          155000.000000 -1.052416e+10       -1.738710   \n",
       "1                 680.1              47.640053 -4.882380e+08       -1.786168   \n",
       "2                 393.5               1.677255 -1.418716e+10       -1.539646   \n",
       "3                   0.0               0.000000 -1.136053e+09       -1.364673   \n",
       "4                   0.0               0.000000 -1.136053e+09       -1.364673   \n",
       "\n",
       "        roi      roce  \n",
       "0  0.131438  0.000000  \n",
       "1  0.428927  0.079343  \n",
       "2  0.186765  0.070519  \n",
       "3  0.620417 -0.000029  \n",
       "4  0.628930 -0.000029  \n",
       "\n",
       "[5 rows x 43 columns]"
      ]
     },
     "execution_count": 72,
     "metadata": {},
     "output_type": "execute_result"
    }
   ],
   "source": [
    "df_fundamentals_book = pd.read_csv(file_path_book + \"/fundamentals_book.csv\")\n",
    "df_fundamentals_book.head(5)"
   ]
  },
  {
   "cell_type": "code",
   "execution_count": 73,
   "metadata": {},
   "outputs": [
    {
     "data": {
      "text/html": [
       "<div>\n",
       "<style scoped>\n",
       "    .dataframe tbody tr th:only-of-type {\n",
       "        vertical-align: middle;\n",
       "    }\n",
       "\n",
       "    .dataframe tbody tr th {\n",
       "        vertical-align: top;\n",
       "    }\n",
       "\n",
       "    .dataframe thead th {\n",
       "        text-align: right;\n",
       "    }\n",
       "</style>\n",
       "<table border=\"1\" class=\"dataframe\">\n",
       "  <thead>\n",
       "    <tr style=\"text-align: right;\">\n",
       "      <th></th>\n",
       "      <th>market_cap</th>\n",
       "      <th>enterprise_value</th>\n",
       "      <th>total_revenue</th>\n",
       "      <th>profit_margins</th>\n",
       "      <th>operating_margins</th>\n",
       "      <th>dividend_rate</th>\n",
       "      <th>beta</th>\n",
       "      <th>ebitda</th>\n",
       "      <th>trailing_pe</th>\n",
       "      <th>forward_pe</th>\n",
       "      <th>...</th>\n",
       "      <th>return_on_equity</th>\n",
       "      <th>gross_profits</th>\n",
       "      <th>total_assets_approx</th>\n",
       "      <th>asset_turnover</th>\n",
       "      <th>earnings_growth_rate</th>\n",
       "      <th>dividend_payout_ratio</th>\n",
       "      <th>equity</th>\n",
       "      <th>debt_to_equity</th>\n",
       "      <th>roi</th>\n",
       "      <th>roce</th>\n",
       "    </tr>\n",
       "  </thead>\n",
       "  <tbody>\n",
       "    <tr>\n",
       "      <th>0</th>\n",
       "      <td>4.265434e+09</td>\n",
       "      <td>1.477339e+10</td>\n",
       "      <td>1.941779e+09</td>\n",
       "      <td>0.41576</td>\n",
       "      <td>0.38826</td>\n",
       "      <td>1.56</td>\n",
       "      <td>0.679</td>\n",
       "      <td>0.000000e+00</td>\n",
       "      <td>4.069768</td>\n",
       "      <td>4.706601</td>\n",
       "      <td>...</td>\n",
       "      <td>0.15680</td>\n",
       "      <td>1.973086e+09</td>\n",
       "      <td>7.774306e+09</td>\n",
       "      <td>0.249769</td>\n",
       "      <td>0.1</td>\n",
       "      <td>155000.000000</td>\n",
       "      <td>-1.052416e+10</td>\n",
       "      <td>-1.738710</td>\n",
       "      <td>0.131438</td>\n",
       "      <td>0.000000</td>\n",
       "    </tr>\n",
       "    <tr>\n",
       "      <th>1</th>\n",
       "      <td>2.466480e+09</td>\n",
       "      <td>2.912933e+09</td>\n",
       "      <td>1.249437e+09</td>\n",
       "      <td>0.21493</td>\n",
       "      <td>0.25031</td>\n",
       "      <td>3.21</td>\n",
       "      <td>0.432</td>\n",
       "      <td>2.648920e+08</td>\n",
       "      <td>9.450382</td>\n",
       "      <td>6.332481</td>\n",
       "      <td>...</td>\n",
       "      <td>0.12170</td>\n",
       "      <td>3.155040e+08</td>\n",
       "      <td>3.838370e+08</td>\n",
       "      <td>3.255124</td>\n",
       "      <td>680.1</td>\n",
       "      <td>47.640053</td>\n",
       "      <td>-4.882380e+08</td>\n",
       "      <td>-1.786168</td>\n",
       "      <td>0.428927</td>\n",
       "      <td>0.079343</td>\n",
       "    </tr>\n",
       "    <tr>\n",
       "      <th>2</th>\n",
       "      <td>4.228882e+10</td>\n",
       "      <td>5.524305e+10</td>\n",
       "      <td>1.031746e+10</td>\n",
       "      <td>0.07639</td>\n",
       "      <td>0.33544</td>\n",
       "      <td>0.07</td>\n",
       "      <td>0.227</td>\n",
       "      <td>4.522541e+09</td>\n",
       "      <td>54.309525</td>\n",
       "      <td>21.723810</td>\n",
       "      <td>...</td>\n",
       "      <td>0.05163</td>\n",
       "      <td>3.146360e+09</td>\n",
       "      <td>7.656040e+09</td>\n",
       "      <td>1.347623</td>\n",
       "      <td>393.5</td>\n",
       "      <td>1.677255</td>\n",
       "      <td>-1.418716e+10</td>\n",
       "      <td>-1.539646</td>\n",
       "      <td>0.186765</td>\n",
       "      <td>0.070519</td>\n",
       "    </tr>\n",
       "    <tr>\n",
       "      <th>3</th>\n",
       "      <td>5.309793e+09</td>\n",
       "      <td>6.482982e+09</td>\n",
       "      <td>4.022153e+09</td>\n",
       "      <td>-0.05671</td>\n",
       "      <td>-0.06434</td>\n",
       "      <td>0.40</td>\n",
       "      <td>0.571</td>\n",
       "      <td>-1.980000e+05</td>\n",
       "      <td>0.000000</td>\n",
       "      <td>0.000000</td>\n",
       "      <td>...</td>\n",
       "      <td>-0.04153</td>\n",
       "      <td>1.968303e+09</td>\n",
       "      <td>4.142880e+08</td>\n",
       "      <td>9.708591</td>\n",
       "      <td>0.0</td>\n",
       "      <td>0.000000</td>\n",
       "      <td>-1.136053e+09</td>\n",
       "      <td>-1.364673</td>\n",
       "      <td>0.620417</td>\n",
       "      <td>-0.000029</td>\n",
       "    </tr>\n",
       "    <tr>\n",
       "      <th>4</th>\n",
       "      <td>5.350758e+09</td>\n",
       "      <td>6.395236e+09</td>\n",
       "      <td>4.022153e+09</td>\n",
       "      <td>-0.05671</td>\n",
       "      <td>-0.06434</td>\n",
       "      <td>0.43</td>\n",
       "      <td>0.571</td>\n",
       "      <td>-1.980000e+05</td>\n",
       "      <td>0.000000</td>\n",
       "      <td>14.555555</td>\n",
       "      <td>...</td>\n",
       "      <td>-0.04153</td>\n",
       "      <td>1.968303e+09</td>\n",
       "      <td>4.142880e+08</td>\n",
       "      <td>9.708591</td>\n",
       "      <td>0.0</td>\n",
       "      <td>0.000000</td>\n",
       "      <td>-1.136053e+09</td>\n",
       "      <td>-1.364673</td>\n",
       "      <td>0.628930</td>\n",
       "      <td>-0.000029</td>\n",
       "    </tr>\n",
       "  </tbody>\n",
       "</table>\n",
       "<p>5 rows × 39 columns</p>\n",
       "</div>"
      ],
      "text/plain": [
       "     market_cap  enterprise_value  total_revenue  profit_margins  \\\n",
       "0  4.265434e+09      1.477339e+10   1.941779e+09         0.41576   \n",
       "1  2.466480e+09      2.912933e+09   1.249437e+09         0.21493   \n",
       "2  4.228882e+10      5.524305e+10   1.031746e+10         0.07639   \n",
       "3  5.309793e+09      6.482982e+09   4.022153e+09        -0.05671   \n",
       "4  5.350758e+09      6.395236e+09   4.022153e+09        -0.05671   \n",
       "\n",
       "   operating_margins  dividend_rate   beta        ebitda  trailing_pe  \\\n",
       "0            0.38826           1.56  0.679  0.000000e+00     4.069768   \n",
       "1            0.25031           3.21  0.432  2.648920e+08     9.450382   \n",
       "2            0.33544           0.07  0.227  4.522541e+09    54.309525   \n",
       "3           -0.06434           0.40  0.571 -1.980000e+05     0.000000   \n",
       "4           -0.06434           0.43  0.571 -1.980000e+05     0.000000   \n",
       "\n",
       "   forward_pe  ...  return_on_equity  gross_profits  total_assets_approx  \\\n",
       "0    4.706601  ...           0.15680   1.973086e+09         7.774306e+09   \n",
       "1    6.332481  ...           0.12170   3.155040e+08         3.838370e+08   \n",
       "2   21.723810  ...           0.05163   3.146360e+09         7.656040e+09   \n",
       "3    0.000000  ...          -0.04153   1.968303e+09         4.142880e+08   \n",
       "4   14.555555  ...          -0.04153   1.968303e+09         4.142880e+08   \n",
       "\n",
       "   asset_turnover  earnings_growth_rate  dividend_payout_ratio        equity  \\\n",
       "0        0.249769                   0.1          155000.000000 -1.052416e+10   \n",
       "1        3.255124                 680.1              47.640053 -4.882380e+08   \n",
       "2        1.347623                 393.5               1.677255 -1.418716e+10   \n",
       "3        9.708591                   0.0               0.000000 -1.136053e+09   \n",
       "4        9.708591                   0.0               0.000000 -1.136053e+09   \n",
       "\n",
       "   debt_to_equity       roi      roce  \n",
       "0       -1.738710  0.131438  0.000000  \n",
       "1       -1.786168  0.428927  0.079343  \n",
       "2       -1.539646  0.186765  0.070519  \n",
       "3       -1.364673  0.620417 -0.000029  \n",
       "4       -1.364673  0.628930 -0.000029  \n",
       "\n",
       "[5 rows x 39 columns]"
      ]
     },
     "execution_count": 73,
     "metadata": {},
     "output_type": "execute_result"
    }
   ],
   "source": [
    "df_fundamentals_numeric_cols = df_fundamentals_book.select_dtypes(include=[\"int\", \"number\", \"float64\"]).copy(deep=True)\n",
    "df_fundamentals_numeric_cols.head(5)"
   ]
  },
  {
   "cell_type": "markdown",
   "metadata": {},
   "source": [
    "## Models"
   ]
  },
  {
   "cell_type": "markdown",
   "metadata": {},
   "source": [
    "### Statistical Modeling"
   ]
  },
  {
   "cell_type": "markdown",
   "metadata": {},
   "source": [
    "#### PCA: Dimensionality Reduction"
   ]
  },
  {
   "cell_type": "code",
   "execution_count": 74,
   "metadata": {},
   "outputs": [
    {
     "data": {
      "application/vnd.plotly.v1+json": {
       "config": {
        "plotlyServerURL": "https://plot.ly"
       },
       "data": [
        {
         "alignmentgroup": "True",
         "hovertemplate": "Principal Component=%{x}<br>Explained Variance=%{y}<br>text=%{text}<extra></extra>",
         "legendgroup": "",
         "marker": {
          "color": "rgb(100, 195, 181)",
          "pattern": {
           "shape": ""
          }
         },
         "name": "",
         "offsetgroup": "",
         "orientation": "v",
         "showlegend": false,
         "text": [
          "0.17%",
          "0.13%",
          "0.08%",
          "0.06%",
          "0.06%"
         ],
         "textposition": "outside",
         "type": "bar",
         "x": [
          "PC1",
          "PC2",
          "PC3",
          "PC4",
          "PC5"
         ],
         "xaxis": "x",
         "y": [
          0.168609357977176,
          0.13131237278501828,
          0.07722797911636677,
          0.0623471550619829,
          0.06058265860219666
         ],
         "yaxis": "y"
        }
       ],
       "layout": {
        "barmode": "relative",
        "font": {
         "color": "white"
        },
        "height": 500,
        "legend": {
         "tracegroupgap": 0
        },
        "template": {
         "data": {
          "bar": [
           {
            "error_x": {
             "color": "#f2f5fa"
            },
            "error_y": {
             "color": "#f2f5fa"
            },
            "marker": {
             "line": {
              "color": "rgb(17,17,17)",
              "width": 0.5
             },
             "pattern": {
              "fillmode": "overlay",
              "size": 10,
              "solidity": 0.2
             }
            },
            "type": "bar"
           }
          ],
          "barpolar": [
           {
            "marker": {
             "line": {
              "color": "rgb(17,17,17)",
              "width": 0.5
             },
             "pattern": {
              "fillmode": "overlay",
              "size": 10,
              "solidity": 0.2
             }
            },
            "type": "barpolar"
           }
          ],
          "carpet": [
           {
            "aaxis": {
             "endlinecolor": "#A2B1C6",
             "gridcolor": "#506784",
             "linecolor": "#506784",
             "minorgridcolor": "#506784",
             "startlinecolor": "#A2B1C6"
            },
            "baxis": {
             "endlinecolor": "#A2B1C6",
             "gridcolor": "#506784",
             "linecolor": "#506784",
             "minorgridcolor": "#506784",
             "startlinecolor": "#A2B1C6"
            },
            "type": "carpet"
           }
          ],
          "choropleth": [
           {
            "colorbar": {
             "outlinewidth": 0,
             "ticks": ""
            },
            "type": "choropleth"
           }
          ],
          "contour": [
           {
            "colorbar": {
             "outlinewidth": 0,
             "ticks": ""
            },
            "colorscale": [
             [
              0,
              "#0d0887"
             ],
             [
              0.1111111111111111,
              "#46039f"
             ],
             [
              0.2222222222222222,
              "#7201a8"
             ],
             [
              0.3333333333333333,
              "#9c179e"
             ],
             [
              0.4444444444444444,
              "#bd3786"
             ],
             [
              0.5555555555555556,
              "#d8576b"
             ],
             [
              0.6666666666666666,
              "#ed7953"
             ],
             [
              0.7777777777777778,
              "#fb9f3a"
             ],
             [
              0.8888888888888888,
              "#fdca26"
             ],
             [
              1,
              "#f0f921"
             ]
            ],
            "type": "contour"
           }
          ],
          "contourcarpet": [
           {
            "colorbar": {
             "outlinewidth": 0,
             "ticks": ""
            },
            "type": "contourcarpet"
           }
          ],
          "heatmap": [
           {
            "colorbar": {
             "outlinewidth": 0,
             "ticks": ""
            },
            "colorscale": [
             [
              0,
              "#0d0887"
             ],
             [
              0.1111111111111111,
              "#46039f"
             ],
             [
              0.2222222222222222,
              "#7201a8"
             ],
             [
              0.3333333333333333,
              "#9c179e"
             ],
             [
              0.4444444444444444,
              "#bd3786"
             ],
             [
              0.5555555555555556,
              "#d8576b"
             ],
             [
              0.6666666666666666,
              "#ed7953"
             ],
             [
              0.7777777777777778,
              "#fb9f3a"
             ],
             [
              0.8888888888888888,
              "#fdca26"
             ],
             [
              1,
              "#f0f921"
             ]
            ],
            "type": "heatmap"
           }
          ],
          "heatmapgl": [
           {
            "colorbar": {
             "outlinewidth": 0,
             "ticks": ""
            },
            "colorscale": [
             [
              0,
              "#0d0887"
             ],
             [
              0.1111111111111111,
              "#46039f"
             ],
             [
              0.2222222222222222,
              "#7201a8"
             ],
             [
              0.3333333333333333,
              "#9c179e"
             ],
             [
              0.4444444444444444,
              "#bd3786"
             ],
             [
              0.5555555555555556,
              "#d8576b"
             ],
             [
              0.6666666666666666,
              "#ed7953"
             ],
             [
              0.7777777777777778,
              "#fb9f3a"
             ],
             [
              0.8888888888888888,
              "#fdca26"
             ],
             [
              1,
              "#f0f921"
             ]
            ],
            "type": "heatmapgl"
           }
          ],
          "histogram": [
           {
            "marker": {
             "pattern": {
              "fillmode": "overlay",
              "size": 10,
              "solidity": 0.2
             }
            },
            "type": "histogram"
           }
          ],
          "histogram2d": [
           {
            "colorbar": {
             "outlinewidth": 0,
             "ticks": ""
            },
            "colorscale": [
             [
              0,
              "#0d0887"
             ],
             [
              0.1111111111111111,
              "#46039f"
             ],
             [
              0.2222222222222222,
              "#7201a8"
             ],
             [
              0.3333333333333333,
              "#9c179e"
             ],
             [
              0.4444444444444444,
              "#bd3786"
             ],
             [
              0.5555555555555556,
              "#d8576b"
             ],
             [
              0.6666666666666666,
              "#ed7953"
             ],
             [
              0.7777777777777778,
              "#fb9f3a"
             ],
             [
              0.8888888888888888,
              "#fdca26"
             ],
             [
              1,
              "#f0f921"
             ]
            ],
            "type": "histogram2d"
           }
          ],
          "histogram2dcontour": [
           {
            "colorbar": {
             "outlinewidth": 0,
             "ticks": ""
            },
            "colorscale": [
             [
              0,
              "#0d0887"
             ],
             [
              0.1111111111111111,
              "#46039f"
             ],
             [
              0.2222222222222222,
              "#7201a8"
             ],
             [
              0.3333333333333333,
              "#9c179e"
             ],
             [
              0.4444444444444444,
              "#bd3786"
             ],
             [
              0.5555555555555556,
              "#d8576b"
             ],
             [
              0.6666666666666666,
              "#ed7953"
             ],
             [
              0.7777777777777778,
              "#fb9f3a"
             ],
             [
              0.8888888888888888,
              "#fdca26"
             ],
             [
              1,
              "#f0f921"
             ]
            ],
            "type": "histogram2dcontour"
           }
          ],
          "mesh3d": [
           {
            "colorbar": {
             "outlinewidth": 0,
             "ticks": ""
            },
            "type": "mesh3d"
           }
          ],
          "parcoords": [
           {
            "line": {
             "colorbar": {
              "outlinewidth": 0,
              "ticks": ""
             }
            },
            "type": "parcoords"
           }
          ],
          "pie": [
           {
            "automargin": true,
            "type": "pie"
           }
          ],
          "scatter": [
           {
            "marker": {
             "line": {
              "color": "#283442"
             }
            },
            "type": "scatter"
           }
          ],
          "scatter3d": [
           {
            "line": {
             "colorbar": {
              "outlinewidth": 0,
              "ticks": ""
             }
            },
            "marker": {
             "colorbar": {
              "outlinewidth": 0,
              "ticks": ""
             }
            },
            "type": "scatter3d"
           }
          ],
          "scattercarpet": [
           {
            "marker": {
             "colorbar": {
              "outlinewidth": 0,
              "ticks": ""
             }
            },
            "type": "scattercarpet"
           }
          ],
          "scattergeo": [
           {
            "marker": {
             "colorbar": {
              "outlinewidth": 0,
              "ticks": ""
             }
            },
            "type": "scattergeo"
           }
          ],
          "scattergl": [
           {
            "marker": {
             "line": {
              "color": "#283442"
             }
            },
            "type": "scattergl"
           }
          ],
          "scattermapbox": [
           {
            "marker": {
             "colorbar": {
              "outlinewidth": 0,
              "ticks": ""
             }
            },
            "type": "scattermapbox"
           }
          ],
          "scatterpolar": [
           {
            "marker": {
             "colorbar": {
              "outlinewidth": 0,
              "ticks": ""
             }
            },
            "type": "scatterpolar"
           }
          ],
          "scatterpolargl": [
           {
            "marker": {
             "colorbar": {
              "outlinewidth": 0,
              "ticks": ""
             }
            },
            "type": "scatterpolargl"
           }
          ],
          "scatterternary": [
           {
            "marker": {
             "colorbar": {
              "outlinewidth": 0,
              "ticks": ""
             }
            },
            "type": "scatterternary"
           }
          ],
          "surface": [
           {
            "colorbar": {
             "outlinewidth": 0,
             "ticks": ""
            },
            "colorscale": [
             [
              0,
              "#0d0887"
             ],
             [
              0.1111111111111111,
              "#46039f"
             ],
             [
              0.2222222222222222,
              "#7201a8"
             ],
             [
              0.3333333333333333,
              "#9c179e"
             ],
             [
              0.4444444444444444,
              "#bd3786"
             ],
             [
              0.5555555555555556,
              "#d8576b"
             ],
             [
              0.6666666666666666,
              "#ed7953"
             ],
             [
              0.7777777777777778,
              "#fb9f3a"
             ],
             [
              0.8888888888888888,
              "#fdca26"
             ],
             [
              1,
              "#f0f921"
             ]
            ],
            "type": "surface"
           }
          ],
          "table": [
           {
            "cells": {
             "fill": {
              "color": "#506784"
             },
             "line": {
              "color": "rgb(17,17,17)"
             }
            },
            "header": {
             "fill": {
              "color": "#2a3f5f"
             },
             "line": {
              "color": "rgb(17,17,17)"
             }
            },
            "type": "table"
           }
          ]
         },
         "layout": {
          "annotationdefaults": {
           "arrowcolor": "#f2f5fa",
           "arrowhead": 0,
           "arrowwidth": 1
          },
          "autotypenumbers": "strict",
          "coloraxis": {
           "colorbar": {
            "outlinewidth": 0,
            "ticks": ""
           }
          },
          "colorscale": {
           "diverging": [
            [
             0,
             "#8e0152"
            ],
            [
             0.1,
             "#c51b7d"
            ],
            [
             0.2,
             "#de77ae"
            ],
            [
             0.3,
             "#f1b6da"
            ],
            [
             0.4,
             "#fde0ef"
            ],
            [
             0.5,
             "#f7f7f7"
            ],
            [
             0.6,
             "#e6f5d0"
            ],
            [
             0.7,
             "#b8e186"
            ],
            [
             0.8,
             "#7fbc41"
            ],
            [
             0.9,
             "#4d9221"
            ],
            [
             1,
             "#276419"
            ]
           ],
           "sequential": [
            [
             0,
             "#0d0887"
            ],
            [
             0.1111111111111111,
             "#46039f"
            ],
            [
             0.2222222222222222,
             "#7201a8"
            ],
            [
             0.3333333333333333,
             "#9c179e"
            ],
            [
             0.4444444444444444,
             "#bd3786"
            ],
            [
             0.5555555555555556,
             "#d8576b"
            ],
            [
             0.6666666666666666,
             "#ed7953"
            ],
            [
             0.7777777777777778,
             "#fb9f3a"
            ],
            [
             0.8888888888888888,
             "#fdca26"
            ],
            [
             1,
             "#f0f921"
            ]
           ],
           "sequentialminus": [
            [
             0,
             "#0d0887"
            ],
            [
             0.1111111111111111,
             "#46039f"
            ],
            [
             0.2222222222222222,
             "#7201a8"
            ],
            [
             0.3333333333333333,
             "#9c179e"
            ],
            [
             0.4444444444444444,
             "#bd3786"
            ],
            [
             0.5555555555555556,
             "#d8576b"
            ],
            [
             0.6666666666666666,
             "#ed7953"
            ],
            [
             0.7777777777777778,
             "#fb9f3a"
            ],
            [
             0.8888888888888888,
             "#fdca26"
            ],
            [
             1,
             "#f0f921"
            ]
           ]
          },
          "colorway": [
           "#636efa",
           "#EF553B",
           "#00cc96",
           "#ab63fa",
           "#FFA15A",
           "#19d3f3",
           "#FF6692",
           "#B6E880",
           "#FF97FF",
           "#FECB52"
          ],
          "font": {
           "color": "#f2f5fa"
          },
          "geo": {
           "bgcolor": "rgb(17,17,17)",
           "lakecolor": "rgb(17,17,17)",
           "landcolor": "rgb(17,17,17)",
           "showlakes": true,
           "showland": true,
           "subunitcolor": "#506784"
          },
          "hoverlabel": {
           "align": "left"
          },
          "hovermode": "closest",
          "mapbox": {
           "style": "dark"
          },
          "paper_bgcolor": "rgb(17,17,17)",
          "plot_bgcolor": "rgb(17,17,17)",
          "polar": {
           "angularaxis": {
            "gridcolor": "#506784",
            "linecolor": "#506784",
            "ticks": ""
           },
           "bgcolor": "rgb(17,17,17)",
           "radialaxis": {
            "gridcolor": "#506784",
            "linecolor": "#506784",
            "ticks": ""
           }
          },
          "scene": {
           "xaxis": {
            "backgroundcolor": "rgb(17,17,17)",
            "gridcolor": "#506784",
            "gridwidth": 2,
            "linecolor": "#506784",
            "showbackground": true,
            "ticks": "",
            "zerolinecolor": "#C8D4E3"
           },
           "yaxis": {
            "backgroundcolor": "rgb(17,17,17)",
            "gridcolor": "#506784",
            "gridwidth": 2,
            "linecolor": "#506784",
            "showbackground": true,
            "ticks": "",
            "zerolinecolor": "#C8D4E3"
           },
           "zaxis": {
            "backgroundcolor": "rgb(17,17,17)",
            "gridcolor": "#506784",
            "gridwidth": 2,
            "linecolor": "#506784",
            "showbackground": true,
            "ticks": "",
            "zerolinecolor": "#C8D4E3"
           }
          },
          "shapedefaults": {
           "line": {
            "color": "#f2f5fa"
           }
          },
          "sliderdefaults": {
           "bgcolor": "#C8D4E3",
           "bordercolor": "rgb(17,17,17)",
           "borderwidth": 1,
           "tickwidth": 0
          },
          "ternary": {
           "aaxis": {
            "gridcolor": "#506784",
            "linecolor": "#506784",
            "ticks": ""
           },
           "baxis": {
            "gridcolor": "#506784",
            "linecolor": "#506784",
            "ticks": ""
           },
           "bgcolor": "rgb(17,17,17)",
           "caxis": {
            "gridcolor": "#506784",
            "linecolor": "#506784",
            "ticks": ""
           }
          },
          "title": {
           "x": 0.05
          },
          "updatemenudefaults": {
           "bgcolor": "#506784",
           "borderwidth": 0
          },
          "xaxis": {
           "automargin": true,
           "gridcolor": "#283442",
           "linecolor": "#506784",
           "ticks": "",
           "title": {
            "standoff": 15
           },
           "zerolinecolor": "#283442",
           "zerolinewidth": 2
          },
          "yaxis": {
           "automargin": true,
           "gridcolor": "#283442",
           "linecolor": "#506784",
           "ticks": "",
           "title": {
            "standoff": 15
           },
           "zerolinecolor": "#283442",
           "zerolinewidth": 2
          }
         }
        },
        "title": {
         "text": "Explained Variance by Each Principal Component"
        },
        "xaxis": {
         "anchor": "y",
         "domain": [
          0,
          1
         ],
         "title": {
          "text": "Principal Component"
         }
        },
        "yaxis": {
         "anchor": "x",
         "domain": [
          0,
          1
         ],
         "title": {
          "text": "Explained Variance"
         }
        }
       }
      }
     },
     "metadata": {},
     "output_type": "display_data"
    }
   ],
   "source": [
    "scaler = StandardScaler()\n",
    "df_scaled = scaler.fit_transform(df_fundamentals_numeric_cols)\n",
    "\n",
    "n_components = 5\n",
    "pca = PCA(n_components)\n",
    "pca_result = pca.fit_transform(df_scaled)\n",
    "\n",
    "explained_variance = pca.explained_variance_ratio_\n",
    "\n",
    "fig = px.bar(x=[f'PC{i+1}' for i in range(len(explained_variance))], y=explained_variance, labels={'x': 'Principal Component', 'y': 'Explained Variance'}, title='Explained Variance by Each Principal Component', color_discrete_sequence=['rgb(100, 195, 181)'], text=[f'{x:.2f}%' for x in explained_variance])\n",
    "fig.update_traces(textposition='outside')\n",
    "fig.update_layout(template='plotly_dark', font=dict(color='white'), height=500)\n",
    "fig.show()"
   ]
  },
  {
   "cell_type": "markdown",
   "metadata": {},
   "source": []
  },
  {
   "cell_type": "code",
   "execution_count": 75,
   "metadata": {},
   "outputs": [
    {
     "data": {
      "application/vnd.plotly.v1+json": {
       "config": {
        "plotlyServerURL": "https://plot.ly"
       },
       "data": [
        {
         "alignmentgroup": "True",
         "hovertemplate": "Variáveis=%{x}<br>Loadings=%{y}<br>text=%{text}<extra></extra>",
         "legendgroup": "",
         "marker": {
          "color": "rgb(100, 195, 181)",
          "pattern": {
           "shape": ""
          }
         },
         "name": "",
         "offsetgroup": "",
         "orientation": "v",
         "showlegend": false,
         "text": [
          "0.36",
          "0.37",
          "0.30",
          "-0.01",
          "0.04",
          "0.00",
          "0.01",
          "0.25",
          "-0.02",
          "0.02",
          "0.10",
          "0.16",
          "0.04",
          "0.01",
          "-0.01",
          "0.03",
          "0.01",
          "0.07",
          "0.12",
          "0.02",
          "-0.01",
          "0.30",
          "0.02",
          "0.33",
          "0.00",
          "-0.03",
          "-0.03",
          "-0.01",
          "0.04",
          "0.02",
          "0.35",
          "0.30",
          "-0.02",
          "0.00",
          "0.00",
          "-0.32",
          "0.06",
          "-0.03",
          "0.03"
         ],
         "textposition": "outside",
         "type": "bar",
         "x": [
          "market_cap",
          "enterprise_value",
          "total_revenue",
          "profit_margins",
          "operating_margins",
          "dividend_rate",
          "beta",
          "ebitda",
          "trailing_pe",
          "forward_pe",
          "volume",
          "average_volume",
          "fifty_two_week_low",
          "fifty_two_week_high",
          "price_to_sales_trailing_12_months",
          "fifty_day_average",
          "two_hundred_day_average",
          "trailing_annual_dividend_rate",
          "trailing_annual_dividend_yield",
          "book_value",
          "price_to_book",
          "total_cash",
          "total_cash_per_share",
          "total_debt",
          "earnings_quarterly_growth",
          "revenue_growth",
          "gross_margins",
          "ebitda_margins",
          "return_on_assets",
          "return_on_equity",
          "gross_profits",
          "total_assets_approx",
          "asset_turnover",
          "earnings_growth_rate",
          "dividend_payout_ratio",
          "equity",
          "debt_to_equity",
          "roi",
          "roce"
         ],
         "xaxis": "x",
         "y": [
          0.357289370224067,
          0.3717669451530613,
          0.2997998892243223,
          -0.008475964121758009,
          0.036255989843385024,
          0.00333411651971693,
          0.006600125555384498,
          0.24972468622652194,
          -0.016312086803575376,
          0.02321319402711863,
          0.10345416402143259,
          0.162999731557575,
          0.042120588501278505,
          0.006484018578607217,
          -0.014653968339993509,
          0.026910004165741082,
          0.0102584790291814,
          0.0737701944095416,
          0.11684554919770691,
          0.019100415827132525,
          -0.011268071378922941,
          0.29576602297806837,
          0.01999456991713569,
          0.33220321570988526,
          0.001074394896318791,
          -0.03494745360714701,
          -0.027668342311508096,
          -0.007184701481770028,
          0.03824191843175898,
          0.018519272742416965,
          0.3513245373274906,
          0.29576602310869626,
          -0.01829364483496216,
          0.0010743948963188009,
          0.0014558500976781265,
          -0.3177220823029326,
          0.061043057248173424,
          -0.034773196933328566,
          0.02679730461298389
         ],
         "yaxis": "y"
        }
       ],
       "layout": {
        "barmode": "relative",
        "font": {
         "color": "white"
        },
        "height": 550,
        "legend": {
         "tracegroupgap": 0
        },
        "template": {
         "data": {
          "bar": [
           {
            "error_x": {
             "color": "#f2f5fa"
            },
            "error_y": {
             "color": "#f2f5fa"
            },
            "marker": {
             "line": {
              "color": "rgb(17,17,17)",
              "width": 0.5
             },
             "pattern": {
              "fillmode": "overlay",
              "size": 10,
              "solidity": 0.2
             }
            },
            "type": "bar"
           }
          ],
          "barpolar": [
           {
            "marker": {
             "line": {
              "color": "rgb(17,17,17)",
              "width": 0.5
             },
             "pattern": {
              "fillmode": "overlay",
              "size": 10,
              "solidity": 0.2
             }
            },
            "type": "barpolar"
           }
          ],
          "carpet": [
           {
            "aaxis": {
             "endlinecolor": "#A2B1C6",
             "gridcolor": "#506784",
             "linecolor": "#506784",
             "minorgridcolor": "#506784",
             "startlinecolor": "#A2B1C6"
            },
            "baxis": {
             "endlinecolor": "#A2B1C6",
             "gridcolor": "#506784",
             "linecolor": "#506784",
             "minorgridcolor": "#506784",
             "startlinecolor": "#A2B1C6"
            },
            "type": "carpet"
           }
          ],
          "choropleth": [
           {
            "colorbar": {
             "outlinewidth": 0,
             "ticks": ""
            },
            "type": "choropleth"
           }
          ],
          "contour": [
           {
            "colorbar": {
             "outlinewidth": 0,
             "ticks": ""
            },
            "colorscale": [
             [
              0,
              "#0d0887"
             ],
             [
              0.1111111111111111,
              "#46039f"
             ],
             [
              0.2222222222222222,
              "#7201a8"
             ],
             [
              0.3333333333333333,
              "#9c179e"
             ],
             [
              0.4444444444444444,
              "#bd3786"
             ],
             [
              0.5555555555555556,
              "#d8576b"
             ],
             [
              0.6666666666666666,
              "#ed7953"
             ],
             [
              0.7777777777777778,
              "#fb9f3a"
             ],
             [
              0.8888888888888888,
              "#fdca26"
             ],
             [
              1,
              "#f0f921"
             ]
            ],
            "type": "contour"
           }
          ],
          "contourcarpet": [
           {
            "colorbar": {
             "outlinewidth": 0,
             "ticks": ""
            },
            "type": "contourcarpet"
           }
          ],
          "heatmap": [
           {
            "colorbar": {
             "outlinewidth": 0,
             "ticks": ""
            },
            "colorscale": [
             [
              0,
              "#0d0887"
             ],
             [
              0.1111111111111111,
              "#46039f"
             ],
             [
              0.2222222222222222,
              "#7201a8"
             ],
             [
              0.3333333333333333,
              "#9c179e"
             ],
             [
              0.4444444444444444,
              "#bd3786"
             ],
             [
              0.5555555555555556,
              "#d8576b"
             ],
             [
              0.6666666666666666,
              "#ed7953"
             ],
             [
              0.7777777777777778,
              "#fb9f3a"
             ],
             [
              0.8888888888888888,
              "#fdca26"
             ],
             [
              1,
              "#f0f921"
             ]
            ],
            "type": "heatmap"
           }
          ],
          "heatmapgl": [
           {
            "colorbar": {
             "outlinewidth": 0,
             "ticks": ""
            },
            "colorscale": [
             [
              0,
              "#0d0887"
             ],
             [
              0.1111111111111111,
              "#46039f"
             ],
             [
              0.2222222222222222,
              "#7201a8"
             ],
             [
              0.3333333333333333,
              "#9c179e"
             ],
             [
              0.4444444444444444,
              "#bd3786"
             ],
             [
              0.5555555555555556,
              "#d8576b"
             ],
             [
              0.6666666666666666,
              "#ed7953"
             ],
             [
              0.7777777777777778,
              "#fb9f3a"
             ],
             [
              0.8888888888888888,
              "#fdca26"
             ],
             [
              1,
              "#f0f921"
             ]
            ],
            "type": "heatmapgl"
           }
          ],
          "histogram": [
           {
            "marker": {
             "pattern": {
              "fillmode": "overlay",
              "size": 10,
              "solidity": 0.2
             }
            },
            "type": "histogram"
           }
          ],
          "histogram2d": [
           {
            "colorbar": {
             "outlinewidth": 0,
             "ticks": ""
            },
            "colorscale": [
             [
              0,
              "#0d0887"
             ],
             [
              0.1111111111111111,
              "#46039f"
             ],
             [
              0.2222222222222222,
              "#7201a8"
             ],
             [
              0.3333333333333333,
              "#9c179e"
             ],
             [
              0.4444444444444444,
              "#bd3786"
             ],
             [
              0.5555555555555556,
              "#d8576b"
             ],
             [
              0.6666666666666666,
              "#ed7953"
             ],
             [
              0.7777777777777778,
              "#fb9f3a"
             ],
             [
              0.8888888888888888,
              "#fdca26"
             ],
             [
              1,
              "#f0f921"
             ]
            ],
            "type": "histogram2d"
           }
          ],
          "histogram2dcontour": [
           {
            "colorbar": {
             "outlinewidth": 0,
             "ticks": ""
            },
            "colorscale": [
             [
              0,
              "#0d0887"
             ],
             [
              0.1111111111111111,
              "#46039f"
             ],
             [
              0.2222222222222222,
              "#7201a8"
             ],
             [
              0.3333333333333333,
              "#9c179e"
             ],
             [
              0.4444444444444444,
              "#bd3786"
             ],
             [
              0.5555555555555556,
              "#d8576b"
             ],
             [
              0.6666666666666666,
              "#ed7953"
             ],
             [
              0.7777777777777778,
              "#fb9f3a"
             ],
             [
              0.8888888888888888,
              "#fdca26"
             ],
             [
              1,
              "#f0f921"
             ]
            ],
            "type": "histogram2dcontour"
           }
          ],
          "mesh3d": [
           {
            "colorbar": {
             "outlinewidth": 0,
             "ticks": ""
            },
            "type": "mesh3d"
           }
          ],
          "parcoords": [
           {
            "line": {
             "colorbar": {
              "outlinewidth": 0,
              "ticks": ""
             }
            },
            "type": "parcoords"
           }
          ],
          "pie": [
           {
            "automargin": true,
            "type": "pie"
           }
          ],
          "scatter": [
           {
            "marker": {
             "line": {
              "color": "#283442"
             }
            },
            "type": "scatter"
           }
          ],
          "scatter3d": [
           {
            "line": {
             "colorbar": {
              "outlinewidth": 0,
              "ticks": ""
             }
            },
            "marker": {
             "colorbar": {
              "outlinewidth": 0,
              "ticks": ""
             }
            },
            "type": "scatter3d"
           }
          ],
          "scattercarpet": [
           {
            "marker": {
             "colorbar": {
              "outlinewidth": 0,
              "ticks": ""
             }
            },
            "type": "scattercarpet"
           }
          ],
          "scattergeo": [
           {
            "marker": {
             "colorbar": {
              "outlinewidth": 0,
              "ticks": ""
             }
            },
            "type": "scattergeo"
           }
          ],
          "scattergl": [
           {
            "marker": {
             "line": {
              "color": "#283442"
             }
            },
            "type": "scattergl"
           }
          ],
          "scattermapbox": [
           {
            "marker": {
             "colorbar": {
              "outlinewidth": 0,
              "ticks": ""
             }
            },
            "type": "scattermapbox"
           }
          ],
          "scatterpolar": [
           {
            "marker": {
             "colorbar": {
              "outlinewidth": 0,
              "ticks": ""
             }
            },
            "type": "scatterpolar"
           }
          ],
          "scatterpolargl": [
           {
            "marker": {
             "colorbar": {
              "outlinewidth": 0,
              "ticks": ""
             }
            },
            "type": "scatterpolargl"
           }
          ],
          "scatterternary": [
           {
            "marker": {
             "colorbar": {
              "outlinewidth": 0,
              "ticks": ""
             }
            },
            "type": "scatterternary"
           }
          ],
          "surface": [
           {
            "colorbar": {
             "outlinewidth": 0,
             "ticks": ""
            },
            "colorscale": [
             [
              0,
              "#0d0887"
             ],
             [
              0.1111111111111111,
              "#46039f"
             ],
             [
              0.2222222222222222,
              "#7201a8"
             ],
             [
              0.3333333333333333,
              "#9c179e"
             ],
             [
              0.4444444444444444,
              "#bd3786"
             ],
             [
              0.5555555555555556,
              "#d8576b"
             ],
             [
              0.6666666666666666,
              "#ed7953"
             ],
             [
              0.7777777777777778,
              "#fb9f3a"
             ],
             [
              0.8888888888888888,
              "#fdca26"
             ],
             [
              1,
              "#f0f921"
             ]
            ],
            "type": "surface"
           }
          ],
          "table": [
           {
            "cells": {
             "fill": {
              "color": "#506784"
             },
             "line": {
              "color": "rgb(17,17,17)"
             }
            },
            "header": {
             "fill": {
              "color": "#2a3f5f"
             },
             "line": {
              "color": "rgb(17,17,17)"
             }
            },
            "type": "table"
           }
          ]
         },
         "layout": {
          "annotationdefaults": {
           "arrowcolor": "#f2f5fa",
           "arrowhead": 0,
           "arrowwidth": 1
          },
          "autotypenumbers": "strict",
          "coloraxis": {
           "colorbar": {
            "outlinewidth": 0,
            "ticks": ""
           }
          },
          "colorscale": {
           "diverging": [
            [
             0,
             "#8e0152"
            ],
            [
             0.1,
             "#c51b7d"
            ],
            [
             0.2,
             "#de77ae"
            ],
            [
             0.3,
             "#f1b6da"
            ],
            [
             0.4,
             "#fde0ef"
            ],
            [
             0.5,
             "#f7f7f7"
            ],
            [
             0.6,
             "#e6f5d0"
            ],
            [
             0.7,
             "#b8e186"
            ],
            [
             0.8,
             "#7fbc41"
            ],
            [
             0.9,
             "#4d9221"
            ],
            [
             1,
             "#276419"
            ]
           ],
           "sequential": [
            [
             0,
             "#0d0887"
            ],
            [
             0.1111111111111111,
             "#46039f"
            ],
            [
             0.2222222222222222,
             "#7201a8"
            ],
            [
             0.3333333333333333,
             "#9c179e"
            ],
            [
             0.4444444444444444,
             "#bd3786"
            ],
            [
             0.5555555555555556,
             "#d8576b"
            ],
            [
             0.6666666666666666,
             "#ed7953"
            ],
            [
             0.7777777777777778,
             "#fb9f3a"
            ],
            [
             0.8888888888888888,
             "#fdca26"
            ],
            [
             1,
             "#f0f921"
            ]
           ],
           "sequentialminus": [
            [
             0,
             "#0d0887"
            ],
            [
             0.1111111111111111,
             "#46039f"
            ],
            [
             0.2222222222222222,
             "#7201a8"
            ],
            [
             0.3333333333333333,
             "#9c179e"
            ],
            [
             0.4444444444444444,
             "#bd3786"
            ],
            [
             0.5555555555555556,
             "#d8576b"
            ],
            [
             0.6666666666666666,
             "#ed7953"
            ],
            [
             0.7777777777777778,
             "#fb9f3a"
            ],
            [
             0.8888888888888888,
             "#fdca26"
            ],
            [
             1,
             "#f0f921"
            ]
           ]
          },
          "colorway": [
           "#636efa",
           "#EF553B",
           "#00cc96",
           "#ab63fa",
           "#FFA15A",
           "#19d3f3",
           "#FF6692",
           "#B6E880",
           "#FF97FF",
           "#FECB52"
          ],
          "font": {
           "color": "#f2f5fa"
          },
          "geo": {
           "bgcolor": "rgb(17,17,17)",
           "lakecolor": "rgb(17,17,17)",
           "landcolor": "rgb(17,17,17)",
           "showlakes": true,
           "showland": true,
           "subunitcolor": "#506784"
          },
          "hoverlabel": {
           "align": "left"
          },
          "hovermode": "closest",
          "mapbox": {
           "style": "dark"
          },
          "paper_bgcolor": "rgb(17,17,17)",
          "plot_bgcolor": "rgb(17,17,17)",
          "polar": {
           "angularaxis": {
            "gridcolor": "#506784",
            "linecolor": "#506784",
            "ticks": ""
           },
           "bgcolor": "rgb(17,17,17)",
           "radialaxis": {
            "gridcolor": "#506784",
            "linecolor": "#506784",
            "ticks": ""
           }
          },
          "scene": {
           "xaxis": {
            "backgroundcolor": "rgb(17,17,17)",
            "gridcolor": "#506784",
            "gridwidth": 2,
            "linecolor": "#506784",
            "showbackground": true,
            "ticks": "",
            "zerolinecolor": "#C8D4E3"
           },
           "yaxis": {
            "backgroundcolor": "rgb(17,17,17)",
            "gridcolor": "#506784",
            "gridwidth": 2,
            "linecolor": "#506784",
            "showbackground": true,
            "ticks": "",
            "zerolinecolor": "#C8D4E3"
           },
           "zaxis": {
            "backgroundcolor": "rgb(17,17,17)",
            "gridcolor": "#506784",
            "gridwidth": 2,
            "linecolor": "#506784",
            "showbackground": true,
            "ticks": "",
            "zerolinecolor": "#C8D4E3"
           }
          },
          "shapedefaults": {
           "line": {
            "color": "#f2f5fa"
           }
          },
          "sliderdefaults": {
           "bgcolor": "#C8D4E3",
           "bordercolor": "rgb(17,17,17)",
           "borderwidth": 1,
           "tickwidth": 0
          },
          "ternary": {
           "aaxis": {
            "gridcolor": "#506784",
            "linecolor": "#506784",
            "ticks": ""
           },
           "baxis": {
            "gridcolor": "#506784",
            "linecolor": "#506784",
            "ticks": ""
           },
           "bgcolor": "rgb(17,17,17)",
           "caxis": {
            "gridcolor": "#506784",
            "linecolor": "#506784",
            "ticks": ""
           }
          },
          "title": {
           "x": 0.05
          },
          "updatemenudefaults": {
           "bgcolor": "#506784",
           "borderwidth": 0
          },
          "xaxis": {
           "automargin": true,
           "gridcolor": "#283442",
           "linecolor": "#506784",
           "ticks": "",
           "title": {
            "standoff": 15
           },
           "zerolinecolor": "#283442",
           "zerolinewidth": 2
          },
          "yaxis": {
           "automargin": true,
           "gridcolor": "#283442",
           "linecolor": "#506784",
           "ticks": "",
           "title": {
            "standoff": 15
           },
           "zerolinecolor": "#283442",
           "zerolinewidth": 2
          }
         }
        },
        "title": {
         "text": "Contribution of Variables to the Principal Component 1"
        },
        "xaxis": {
         "anchor": "y",
         "domain": [
          0,
          1
         ],
         "title": {
          "text": "Variáveis"
         }
        },
        "yaxis": {
         "anchor": "x",
         "domain": [
          0,
          1
         ],
         "title": {
          "text": "Loadings"
         }
        }
       }
      }
     },
     "metadata": {},
     "output_type": "display_data"
    },
    {
     "data": {
      "application/vnd.plotly.v1+json": {
       "config": {
        "plotlyServerURL": "https://plot.ly"
       },
       "data": [
        {
         "alignmentgroup": "True",
         "hovertemplate": "Variáveis=%{x}<br>Loadings=%{y}<br>text=%{text}<extra></extra>",
         "legendgroup": "",
         "marker": {
          "color": "rgb(100, 195, 181)",
          "pattern": {
           "shape": ""
          }
         },
         "name": "",
         "offsetgroup": "",
         "orientation": "v",
         "showlegend": false,
         "text": [
          "-0.01",
          "-0.02",
          "-0.01",
          "0.09",
          "-0.05",
          "0.39",
          "-0.08",
          "0.00",
          "0.01",
          "-0.03",
          "-0.04",
          "-0.04",
          "0.29",
          "0.40",
          "0.02",
          "0.43",
          "0.41",
          "0.15",
          "0.04",
          "0.31",
          "0.00",
          "-0.03",
          "0.30",
          "-0.03",
          "-0.01",
          "-0.07",
          "0.10",
          "0.02",
          "0.03",
          "0.05",
          "-0.01",
          "-0.03",
          "-0.02",
          "-0.01",
          "0.00",
          "0.02",
          "-0.00",
          "-0.03",
          "-0.00"
         ],
         "textposition": "outside",
         "type": "bar",
         "x": [
          "market_cap",
          "enterprise_value",
          "total_revenue",
          "profit_margins",
          "operating_margins",
          "dividend_rate",
          "beta",
          "ebitda",
          "trailing_pe",
          "forward_pe",
          "volume",
          "average_volume",
          "fifty_two_week_low",
          "fifty_two_week_high",
          "price_to_sales_trailing_12_months",
          "fifty_day_average",
          "two_hundred_day_average",
          "trailing_annual_dividend_rate",
          "trailing_annual_dividend_yield",
          "book_value",
          "price_to_book",
          "total_cash",
          "total_cash_per_share",
          "total_debt",
          "earnings_quarterly_growth",
          "revenue_growth",
          "gross_margins",
          "ebitda_margins",
          "return_on_assets",
          "return_on_equity",
          "gross_profits",
          "total_assets_approx",
          "asset_turnover",
          "earnings_growth_rate",
          "dividend_payout_ratio",
          "equity",
          "debt_to_equity",
          "roi",
          "roce"
         ],
         "xaxis": "x",
         "y": [
          -0.010633417558245154,
          -0.018256962807736605,
          -0.010722008559867546,
          0.08717470976252123,
          -0.04845186244194988,
          0.3892846905185675,
          -0.07931580115395137,
          0.0028820715803332467,
          0.005962824950371167,
          -0.030946649294105746,
          -0.03647763456967689,
          -0.04078222157228319,
          0.29027856618542497,
          0.4019374796854673,
          0.0221137002930842,
          0.4257759699921485,
          0.4143144579712963,
          0.14569778728107552,
          0.04197793735548539,
          0.3071731325425421,
          0.004837747577204015,
          -0.027421020145813827,
          0.297075281462308,
          -0.025480807577685092,
          -0.008216624306702783,
          -0.07326414808765996,
          0.09660337615067459,
          0.015159829308275176,
          0.029788840249166764,
          0.051565732673330325,
          -0.00924340247653468,
          -0.02742101759796932,
          -0.017899383228177267,
          -0.008216624306702792,
          0.0010817565488074545,
          0.021520716029462674,
          -0.0025920394476035068,
          -0.03395066742195705,
          -0.0007168977967916042
         ],
         "yaxis": "y"
        }
       ],
       "layout": {
        "barmode": "relative",
        "font": {
         "color": "white"
        },
        "height": 550,
        "legend": {
         "tracegroupgap": 0
        },
        "template": {
         "data": {
          "bar": [
           {
            "error_x": {
             "color": "#f2f5fa"
            },
            "error_y": {
             "color": "#f2f5fa"
            },
            "marker": {
             "line": {
              "color": "rgb(17,17,17)",
              "width": 0.5
             },
             "pattern": {
              "fillmode": "overlay",
              "size": 10,
              "solidity": 0.2
             }
            },
            "type": "bar"
           }
          ],
          "barpolar": [
           {
            "marker": {
             "line": {
              "color": "rgb(17,17,17)",
              "width": 0.5
             },
             "pattern": {
              "fillmode": "overlay",
              "size": 10,
              "solidity": 0.2
             }
            },
            "type": "barpolar"
           }
          ],
          "carpet": [
           {
            "aaxis": {
             "endlinecolor": "#A2B1C6",
             "gridcolor": "#506784",
             "linecolor": "#506784",
             "minorgridcolor": "#506784",
             "startlinecolor": "#A2B1C6"
            },
            "baxis": {
             "endlinecolor": "#A2B1C6",
             "gridcolor": "#506784",
             "linecolor": "#506784",
             "minorgridcolor": "#506784",
             "startlinecolor": "#A2B1C6"
            },
            "type": "carpet"
           }
          ],
          "choropleth": [
           {
            "colorbar": {
             "outlinewidth": 0,
             "ticks": ""
            },
            "type": "choropleth"
           }
          ],
          "contour": [
           {
            "colorbar": {
             "outlinewidth": 0,
             "ticks": ""
            },
            "colorscale": [
             [
              0,
              "#0d0887"
             ],
             [
              0.1111111111111111,
              "#46039f"
             ],
             [
              0.2222222222222222,
              "#7201a8"
             ],
             [
              0.3333333333333333,
              "#9c179e"
             ],
             [
              0.4444444444444444,
              "#bd3786"
             ],
             [
              0.5555555555555556,
              "#d8576b"
             ],
             [
              0.6666666666666666,
              "#ed7953"
             ],
             [
              0.7777777777777778,
              "#fb9f3a"
             ],
             [
              0.8888888888888888,
              "#fdca26"
             ],
             [
              1,
              "#f0f921"
             ]
            ],
            "type": "contour"
           }
          ],
          "contourcarpet": [
           {
            "colorbar": {
             "outlinewidth": 0,
             "ticks": ""
            },
            "type": "contourcarpet"
           }
          ],
          "heatmap": [
           {
            "colorbar": {
             "outlinewidth": 0,
             "ticks": ""
            },
            "colorscale": [
             [
              0,
              "#0d0887"
             ],
             [
              0.1111111111111111,
              "#46039f"
             ],
             [
              0.2222222222222222,
              "#7201a8"
             ],
             [
              0.3333333333333333,
              "#9c179e"
             ],
             [
              0.4444444444444444,
              "#bd3786"
             ],
             [
              0.5555555555555556,
              "#d8576b"
             ],
             [
              0.6666666666666666,
              "#ed7953"
             ],
             [
              0.7777777777777778,
              "#fb9f3a"
             ],
             [
              0.8888888888888888,
              "#fdca26"
             ],
             [
              1,
              "#f0f921"
             ]
            ],
            "type": "heatmap"
           }
          ],
          "heatmapgl": [
           {
            "colorbar": {
             "outlinewidth": 0,
             "ticks": ""
            },
            "colorscale": [
             [
              0,
              "#0d0887"
             ],
             [
              0.1111111111111111,
              "#46039f"
             ],
             [
              0.2222222222222222,
              "#7201a8"
             ],
             [
              0.3333333333333333,
              "#9c179e"
             ],
             [
              0.4444444444444444,
              "#bd3786"
             ],
             [
              0.5555555555555556,
              "#d8576b"
             ],
             [
              0.6666666666666666,
              "#ed7953"
             ],
             [
              0.7777777777777778,
              "#fb9f3a"
             ],
             [
              0.8888888888888888,
              "#fdca26"
             ],
             [
              1,
              "#f0f921"
             ]
            ],
            "type": "heatmapgl"
           }
          ],
          "histogram": [
           {
            "marker": {
             "pattern": {
              "fillmode": "overlay",
              "size": 10,
              "solidity": 0.2
             }
            },
            "type": "histogram"
           }
          ],
          "histogram2d": [
           {
            "colorbar": {
             "outlinewidth": 0,
             "ticks": ""
            },
            "colorscale": [
             [
              0,
              "#0d0887"
             ],
             [
              0.1111111111111111,
              "#46039f"
             ],
             [
              0.2222222222222222,
              "#7201a8"
             ],
             [
              0.3333333333333333,
              "#9c179e"
             ],
             [
              0.4444444444444444,
              "#bd3786"
             ],
             [
              0.5555555555555556,
              "#d8576b"
             ],
             [
              0.6666666666666666,
              "#ed7953"
             ],
             [
              0.7777777777777778,
              "#fb9f3a"
             ],
             [
              0.8888888888888888,
              "#fdca26"
             ],
             [
              1,
              "#f0f921"
             ]
            ],
            "type": "histogram2d"
           }
          ],
          "histogram2dcontour": [
           {
            "colorbar": {
             "outlinewidth": 0,
             "ticks": ""
            },
            "colorscale": [
             [
              0,
              "#0d0887"
             ],
             [
              0.1111111111111111,
              "#46039f"
             ],
             [
              0.2222222222222222,
              "#7201a8"
             ],
             [
              0.3333333333333333,
              "#9c179e"
             ],
             [
              0.4444444444444444,
              "#bd3786"
             ],
             [
              0.5555555555555556,
              "#d8576b"
             ],
             [
              0.6666666666666666,
              "#ed7953"
             ],
             [
              0.7777777777777778,
              "#fb9f3a"
             ],
             [
              0.8888888888888888,
              "#fdca26"
             ],
             [
              1,
              "#f0f921"
             ]
            ],
            "type": "histogram2dcontour"
           }
          ],
          "mesh3d": [
           {
            "colorbar": {
             "outlinewidth": 0,
             "ticks": ""
            },
            "type": "mesh3d"
           }
          ],
          "parcoords": [
           {
            "line": {
             "colorbar": {
              "outlinewidth": 0,
              "ticks": ""
             }
            },
            "type": "parcoords"
           }
          ],
          "pie": [
           {
            "automargin": true,
            "type": "pie"
           }
          ],
          "scatter": [
           {
            "marker": {
             "line": {
              "color": "#283442"
             }
            },
            "type": "scatter"
           }
          ],
          "scatter3d": [
           {
            "line": {
             "colorbar": {
              "outlinewidth": 0,
              "ticks": ""
             }
            },
            "marker": {
             "colorbar": {
              "outlinewidth": 0,
              "ticks": ""
             }
            },
            "type": "scatter3d"
           }
          ],
          "scattercarpet": [
           {
            "marker": {
             "colorbar": {
              "outlinewidth": 0,
              "ticks": ""
             }
            },
            "type": "scattercarpet"
           }
          ],
          "scattergeo": [
           {
            "marker": {
             "colorbar": {
              "outlinewidth": 0,
              "ticks": ""
             }
            },
            "type": "scattergeo"
           }
          ],
          "scattergl": [
           {
            "marker": {
             "line": {
              "color": "#283442"
             }
            },
            "type": "scattergl"
           }
          ],
          "scattermapbox": [
           {
            "marker": {
             "colorbar": {
              "outlinewidth": 0,
              "ticks": ""
             }
            },
            "type": "scattermapbox"
           }
          ],
          "scatterpolar": [
           {
            "marker": {
             "colorbar": {
              "outlinewidth": 0,
              "ticks": ""
             }
            },
            "type": "scatterpolar"
           }
          ],
          "scatterpolargl": [
           {
            "marker": {
             "colorbar": {
              "outlinewidth": 0,
              "ticks": ""
             }
            },
            "type": "scatterpolargl"
           }
          ],
          "scatterternary": [
           {
            "marker": {
             "colorbar": {
              "outlinewidth": 0,
              "ticks": ""
             }
            },
            "type": "scatterternary"
           }
          ],
          "surface": [
           {
            "colorbar": {
             "outlinewidth": 0,
             "ticks": ""
            },
            "colorscale": [
             [
              0,
              "#0d0887"
             ],
             [
              0.1111111111111111,
              "#46039f"
             ],
             [
              0.2222222222222222,
              "#7201a8"
             ],
             [
              0.3333333333333333,
              "#9c179e"
             ],
             [
              0.4444444444444444,
              "#bd3786"
             ],
             [
              0.5555555555555556,
              "#d8576b"
             ],
             [
              0.6666666666666666,
              "#ed7953"
             ],
             [
              0.7777777777777778,
              "#fb9f3a"
             ],
             [
              0.8888888888888888,
              "#fdca26"
             ],
             [
              1,
              "#f0f921"
             ]
            ],
            "type": "surface"
           }
          ],
          "table": [
           {
            "cells": {
             "fill": {
              "color": "#506784"
             },
             "line": {
              "color": "rgb(17,17,17)"
             }
            },
            "header": {
             "fill": {
              "color": "#2a3f5f"
             },
             "line": {
              "color": "rgb(17,17,17)"
             }
            },
            "type": "table"
           }
          ]
         },
         "layout": {
          "annotationdefaults": {
           "arrowcolor": "#f2f5fa",
           "arrowhead": 0,
           "arrowwidth": 1
          },
          "autotypenumbers": "strict",
          "coloraxis": {
           "colorbar": {
            "outlinewidth": 0,
            "ticks": ""
           }
          },
          "colorscale": {
           "diverging": [
            [
             0,
             "#8e0152"
            ],
            [
             0.1,
             "#c51b7d"
            ],
            [
             0.2,
             "#de77ae"
            ],
            [
             0.3,
             "#f1b6da"
            ],
            [
             0.4,
             "#fde0ef"
            ],
            [
             0.5,
             "#f7f7f7"
            ],
            [
             0.6,
             "#e6f5d0"
            ],
            [
             0.7,
             "#b8e186"
            ],
            [
             0.8,
             "#7fbc41"
            ],
            [
             0.9,
             "#4d9221"
            ],
            [
             1,
             "#276419"
            ]
           ],
           "sequential": [
            [
             0,
             "#0d0887"
            ],
            [
             0.1111111111111111,
             "#46039f"
            ],
            [
             0.2222222222222222,
             "#7201a8"
            ],
            [
             0.3333333333333333,
             "#9c179e"
            ],
            [
             0.4444444444444444,
             "#bd3786"
            ],
            [
             0.5555555555555556,
             "#d8576b"
            ],
            [
             0.6666666666666666,
             "#ed7953"
            ],
            [
             0.7777777777777778,
             "#fb9f3a"
            ],
            [
             0.8888888888888888,
             "#fdca26"
            ],
            [
             1,
             "#f0f921"
            ]
           ],
           "sequentialminus": [
            [
             0,
             "#0d0887"
            ],
            [
             0.1111111111111111,
             "#46039f"
            ],
            [
             0.2222222222222222,
             "#7201a8"
            ],
            [
             0.3333333333333333,
             "#9c179e"
            ],
            [
             0.4444444444444444,
             "#bd3786"
            ],
            [
             0.5555555555555556,
             "#d8576b"
            ],
            [
             0.6666666666666666,
             "#ed7953"
            ],
            [
             0.7777777777777778,
             "#fb9f3a"
            ],
            [
             0.8888888888888888,
             "#fdca26"
            ],
            [
             1,
             "#f0f921"
            ]
           ]
          },
          "colorway": [
           "#636efa",
           "#EF553B",
           "#00cc96",
           "#ab63fa",
           "#FFA15A",
           "#19d3f3",
           "#FF6692",
           "#B6E880",
           "#FF97FF",
           "#FECB52"
          ],
          "font": {
           "color": "#f2f5fa"
          },
          "geo": {
           "bgcolor": "rgb(17,17,17)",
           "lakecolor": "rgb(17,17,17)",
           "landcolor": "rgb(17,17,17)",
           "showlakes": true,
           "showland": true,
           "subunitcolor": "#506784"
          },
          "hoverlabel": {
           "align": "left"
          },
          "hovermode": "closest",
          "mapbox": {
           "style": "dark"
          },
          "paper_bgcolor": "rgb(17,17,17)",
          "plot_bgcolor": "rgb(17,17,17)",
          "polar": {
           "angularaxis": {
            "gridcolor": "#506784",
            "linecolor": "#506784",
            "ticks": ""
           },
           "bgcolor": "rgb(17,17,17)",
           "radialaxis": {
            "gridcolor": "#506784",
            "linecolor": "#506784",
            "ticks": ""
           }
          },
          "scene": {
           "xaxis": {
            "backgroundcolor": "rgb(17,17,17)",
            "gridcolor": "#506784",
            "gridwidth": 2,
            "linecolor": "#506784",
            "showbackground": true,
            "ticks": "",
            "zerolinecolor": "#C8D4E3"
           },
           "yaxis": {
            "backgroundcolor": "rgb(17,17,17)",
            "gridcolor": "#506784",
            "gridwidth": 2,
            "linecolor": "#506784",
            "showbackground": true,
            "ticks": "",
            "zerolinecolor": "#C8D4E3"
           },
           "zaxis": {
            "backgroundcolor": "rgb(17,17,17)",
            "gridcolor": "#506784",
            "gridwidth": 2,
            "linecolor": "#506784",
            "showbackground": true,
            "ticks": "",
            "zerolinecolor": "#C8D4E3"
           }
          },
          "shapedefaults": {
           "line": {
            "color": "#f2f5fa"
           }
          },
          "sliderdefaults": {
           "bgcolor": "#C8D4E3",
           "bordercolor": "rgb(17,17,17)",
           "borderwidth": 1,
           "tickwidth": 0
          },
          "ternary": {
           "aaxis": {
            "gridcolor": "#506784",
            "linecolor": "#506784",
            "ticks": ""
           },
           "baxis": {
            "gridcolor": "#506784",
            "linecolor": "#506784",
            "ticks": ""
           },
           "bgcolor": "rgb(17,17,17)",
           "caxis": {
            "gridcolor": "#506784",
            "linecolor": "#506784",
            "ticks": ""
           }
          },
          "title": {
           "x": 0.05
          },
          "updatemenudefaults": {
           "bgcolor": "#506784",
           "borderwidth": 0
          },
          "xaxis": {
           "automargin": true,
           "gridcolor": "#283442",
           "linecolor": "#506784",
           "ticks": "",
           "title": {
            "standoff": 15
           },
           "zerolinecolor": "#283442",
           "zerolinewidth": 2
          },
          "yaxis": {
           "automargin": true,
           "gridcolor": "#283442",
           "linecolor": "#506784",
           "ticks": "",
           "title": {
            "standoff": 15
           },
           "zerolinecolor": "#283442",
           "zerolinewidth": 2
          }
         }
        },
        "title": {
         "text": "Contribution of Variables to the Principal Component 2"
        },
        "xaxis": {
         "anchor": "y",
         "domain": [
          0,
          1
         ],
         "title": {
          "text": "Variáveis"
         }
        },
        "yaxis": {
         "anchor": "x",
         "domain": [
          0,
          1
         ],
         "title": {
          "text": "Loadings"
         }
        }
       }
      }
     },
     "metadata": {},
     "output_type": "display_data"
    },
    {
     "data": {
      "application/vnd.plotly.v1+json": {
       "config": {
        "plotlyServerURL": "https://plot.ly"
       },
       "data": [
        {
         "alignmentgroup": "True",
         "hovertemplate": "Variáveis=%{x}<br>Loadings=%{y}<br>text=%{text}<extra></extra>",
         "legendgroup": "",
         "marker": {
          "color": "rgb(100, 195, 181)",
          "pattern": {
           "shape": ""
          }
         },
         "name": "",
         "offsetgroup": "",
         "orientation": "v",
         "showlegend": false,
         "text": [
          "-0.07",
          "0.04",
          "-0.13",
          "-0.02",
          "-0.18",
          "0.09",
          "0.10",
          "-0.21",
          "-0.12",
          "-0.14",
          "-0.07",
          "-0.09",
          "-0.11",
          "0.08",
          "-0.14",
          "-0.01",
          "0.06",
          "-0.15",
          "-0.23",
          "0.03",
          "-0.00",
          "0.21",
          "0.09",
          "0.17",
          "-0.09",
          "-0.10",
          "-0.26",
          "-0.16",
          "-0.38",
          "-0.10",
          "-0.09",
          "0.21",
          "0.28",
          "-0.09",
          "0.01",
          "-0.13",
          "0.11",
          "0.28",
          "-0.36"
         ],
         "textposition": "outside",
         "type": "bar",
         "x": [
          "market_cap",
          "enterprise_value",
          "total_revenue",
          "profit_margins",
          "operating_margins",
          "dividend_rate",
          "beta",
          "ebitda",
          "trailing_pe",
          "forward_pe",
          "volume",
          "average_volume",
          "fifty_two_week_low",
          "fifty_two_week_high",
          "price_to_sales_trailing_12_months",
          "fifty_day_average",
          "two_hundred_day_average",
          "trailing_annual_dividend_rate",
          "trailing_annual_dividend_yield",
          "book_value",
          "price_to_book",
          "total_cash",
          "total_cash_per_share",
          "total_debt",
          "earnings_quarterly_growth",
          "revenue_growth",
          "gross_margins",
          "ebitda_margins",
          "return_on_assets",
          "return_on_equity",
          "gross_profits",
          "total_assets_approx",
          "asset_turnover",
          "earnings_growth_rate",
          "dividend_payout_ratio",
          "equity",
          "debt_to_equity",
          "roi",
          "roce"
         ],
         "xaxis": "x",
         "y": [
          -0.07223856308932892,
          0.04174192296716983,
          -0.13148711819324582,
          -0.021438656003577417,
          -0.1772091510338582,
          0.08949932753646841,
          0.09799694310834772,
          -0.2084573366202018,
          -0.11769351619247471,
          -0.14362706005251566,
          -0.06730157848054136,
          -0.09270602152208268,
          -0.11457315509967389,
          0.07833926262593979,
          -0.13987464327341462,
          -0.006903449603427826,
          0.06451760536909472,
          -0.14825601003566666,
          -0.23197862695537752,
          0.026934844673489337,
          -0.00338980862525379,
          0.2068396473872148,
          0.09145987910868285,
          0.17149618042903514,
          -0.0871719548932802,
          -0.09821584941609507,
          -0.26154087669042964,
          -0.1579449336847385,
          -0.3773587943346781,
          -0.10033720906777496,
          -0.0866559911232375,
          0.20683964759107062,
          0.2820524603165466,
          -0.08717195489328027,
          0.009969547903756926,
          -0.1314328973762886,
          0.10544812074876407,
          0.2755567356026327,
          -0.3607695902429901
         ],
         "yaxis": "y"
        }
       ],
       "layout": {
        "barmode": "relative",
        "font": {
         "color": "white"
        },
        "height": 550,
        "legend": {
         "tracegroupgap": 0
        },
        "template": {
         "data": {
          "bar": [
           {
            "error_x": {
             "color": "#f2f5fa"
            },
            "error_y": {
             "color": "#f2f5fa"
            },
            "marker": {
             "line": {
              "color": "rgb(17,17,17)",
              "width": 0.5
             },
             "pattern": {
              "fillmode": "overlay",
              "size": 10,
              "solidity": 0.2
             }
            },
            "type": "bar"
           }
          ],
          "barpolar": [
           {
            "marker": {
             "line": {
              "color": "rgb(17,17,17)",
              "width": 0.5
             },
             "pattern": {
              "fillmode": "overlay",
              "size": 10,
              "solidity": 0.2
             }
            },
            "type": "barpolar"
           }
          ],
          "carpet": [
           {
            "aaxis": {
             "endlinecolor": "#A2B1C6",
             "gridcolor": "#506784",
             "linecolor": "#506784",
             "minorgridcolor": "#506784",
             "startlinecolor": "#A2B1C6"
            },
            "baxis": {
             "endlinecolor": "#A2B1C6",
             "gridcolor": "#506784",
             "linecolor": "#506784",
             "minorgridcolor": "#506784",
             "startlinecolor": "#A2B1C6"
            },
            "type": "carpet"
           }
          ],
          "choropleth": [
           {
            "colorbar": {
             "outlinewidth": 0,
             "ticks": ""
            },
            "type": "choropleth"
           }
          ],
          "contour": [
           {
            "colorbar": {
             "outlinewidth": 0,
             "ticks": ""
            },
            "colorscale": [
             [
              0,
              "#0d0887"
             ],
             [
              0.1111111111111111,
              "#46039f"
             ],
             [
              0.2222222222222222,
              "#7201a8"
             ],
             [
              0.3333333333333333,
              "#9c179e"
             ],
             [
              0.4444444444444444,
              "#bd3786"
             ],
             [
              0.5555555555555556,
              "#d8576b"
             ],
             [
              0.6666666666666666,
              "#ed7953"
             ],
             [
              0.7777777777777778,
              "#fb9f3a"
             ],
             [
              0.8888888888888888,
              "#fdca26"
             ],
             [
              1,
              "#f0f921"
             ]
            ],
            "type": "contour"
           }
          ],
          "contourcarpet": [
           {
            "colorbar": {
             "outlinewidth": 0,
             "ticks": ""
            },
            "type": "contourcarpet"
           }
          ],
          "heatmap": [
           {
            "colorbar": {
             "outlinewidth": 0,
             "ticks": ""
            },
            "colorscale": [
             [
              0,
              "#0d0887"
             ],
             [
              0.1111111111111111,
              "#46039f"
             ],
             [
              0.2222222222222222,
              "#7201a8"
             ],
             [
              0.3333333333333333,
              "#9c179e"
             ],
             [
              0.4444444444444444,
              "#bd3786"
             ],
             [
              0.5555555555555556,
              "#d8576b"
             ],
             [
              0.6666666666666666,
              "#ed7953"
             ],
             [
              0.7777777777777778,
              "#fb9f3a"
             ],
             [
              0.8888888888888888,
              "#fdca26"
             ],
             [
              1,
              "#f0f921"
             ]
            ],
            "type": "heatmap"
           }
          ],
          "heatmapgl": [
           {
            "colorbar": {
             "outlinewidth": 0,
             "ticks": ""
            },
            "colorscale": [
             [
              0,
              "#0d0887"
             ],
             [
              0.1111111111111111,
              "#46039f"
             ],
             [
              0.2222222222222222,
              "#7201a8"
             ],
             [
              0.3333333333333333,
              "#9c179e"
             ],
             [
              0.4444444444444444,
              "#bd3786"
             ],
             [
              0.5555555555555556,
              "#d8576b"
             ],
             [
              0.6666666666666666,
              "#ed7953"
             ],
             [
              0.7777777777777778,
              "#fb9f3a"
             ],
             [
              0.8888888888888888,
              "#fdca26"
             ],
             [
              1,
              "#f0f921"
             ]
            ],
            "type": "heatmapgl"
           }
          ],
          "histogram": [
           {
            "marker": {
             "pattern": {
              "fillmode": "overlay",
              "size": 10,
              "solidity": 0.2
             }
            },
            "type": "histogram"
           }
          ],
          "histogram2d": [
           {
            "colorbar": {
             "outlinewidth": 0,
             "ticks": ""
            },
            "colorscale": [
             [
              0,
              "#0d0887"
             ],
             [
              0.1111111111111111,
              "#46039f"
             ],
             [
              0.2222222222222222,
              "#7201a8"
             ],
             [
              0.3333333333333333,
              "#9c179e"
             ],
             [
              0.4444444444444444,
              "#bd3786"
             ],
             [
              0.5555555555555556,
              "#d8576b"
             ],
             [
              0.6666666666666666,
              "#ed7953"
             ],
             [
              0.7777777777777778,
              "#fb9f3a"
             ],
             [
              0.8888888888888888,
              "#fdca26"
             ],
             [
              1,
              "#f0f921"
             ]
            ],
            "type": "histogram2d"
           }
          ],
          "histogram2dcontour": [
           {
            "colorbar": {
             "outlinewidth": 0,
             "ticks": ""
            },
            "colorscale": [
             [
              0,
              "#0d0887"
             ],
             [
              0.1111111111111111,
              "#46039f"
             ],
             [
              0.2222222222222222,
              "#7201a8"
             ],
             [
              0.3333333333333333,
              "#9c179e"
             ],
             [
              0.4444444444444444,
              "#bd3786"
             ],
             [
              0.5555555555555556,
              "#d8576b"
             ],
             [
              0.6666666666666666,
              "#ed7953"
             ],
             [
              0.7777777777777778,
              "#fb9f3a"
             ],
             [
              0.8888888888888888,
              "#fdca26"
             ],
             [
              1,
              "#f0f921"
             ]
            ],
            "type": "histogram2dcontour"
           }
          ],
          "mesh3d": [
           {
            "colorbar": {
             "outlinewidth": 0,
             "ticks": ""
            },
            "type": "mesh3d"
           }
          ],
          "parcoords": [
           {
            "line": {
             "colorbar": {
              "outlinewidth": 0,
              "ticks": ""
             }
            },
            "type": "parcoords"
           }
          ],
          "pie": [
           {
            "automargin": true,
            "type": "pie"
           }
          ],
          "scatter": [
           {
            "marker": {
             "line": {
              "color": "#283442"
             }
            },
            "type": "scatter"
           }
          ],
          "scatter3d": [
           {
            "line": {
             "colorbar": {
              "outlinewidth": 0,
              "ticks": ""
             }
            },
            "marker": {
             "colorbar": {
              "outlinewidth": 0,
              "ticks": ""
             }
            },
            "type": "scatter3d"
           }
          ],
          "scattercarpet": [
           {
            "marker": {
             "colorbar": {
              "outlinewidth": 0,
              "ticks": ""
             }
            },
            "type": "scattercarpet"
           }
          ],
          "scattergeo": [
           {
            "marker": {
             "colorbar": {
              "outlinewidth": 0,
              "ticks": ""
             }
            },
            "type": "scattergeo"
           }
          ],
          "scattergl": [
           {
            "marker": {
             "line": {
              "color": "#283442"
             }
            },
            "type": "scattergl"
           }
          ],
          "scattermapbox": [
           {
            "marker": {
             "colorbar": {
              "outlinewidth": 0,
              "ticks": ""
             }
            },
            "type": "scattermapbox"
           }
          ],
          "scatterpolar": [
           {
            "marker": {
             "colorbar": {
              "outlinewidth": 0,
              "ticks": ""
             }
            },
            "type": "scatterpolar"
           }
          ],
          "scatterpolargl": [
           {
            "marker": {
             "colorbar": {
              "outlinewidth": 0,
              "ticks": ""
             }
            },
            "type": "scatterpolargl"
           }
          ],
          "scatterternary": [
           {
            "marker": {
             "colorbar": {
              "outlinewidth": 0,
              "ticks": ""
             }
            },
            "type": "scatterternary"
           }
          ],
          "surface": [
           {
            "colorbar": {
             "outlinewidth": 0,
             "ticks": ""
            },
            "colorscale": [
             [
              0,
              "#0d0887"
             ],
             [
              0.1111111111111111,
              "#46039f"
             ],
             [
              0.2222222222222222,
              "#7201a8"
             ],
             [
              0.3333333333333333,
              "#9c179e"
             ],
             [
              0.4444444444444444,
              "#bd3786"
             ],
             [
              0.5555555555555556,
              "#d8576b"
             ],
             [
              0.6666666666666666,
              "#ed7953"
             ],
             [
              0.7777777777777778,
              "#fb9f3a"
             ],
             [
              0.8888888888888888,
              "#fdca26"
             ],
             [
              1,
              "#f0f921"
             ]
            ],
            "type": "surface"
           }
          ],
          "table": [
           {
            "cells": {
             "fill": {
              "color": "#506784"
             },
             "line": {
              "color": "rgb(17,17,17)"
             }
            },
            "header": {
             "fill": {
              "color": "#2a3f5f"
             },
             "line": {
              "color": "rgb(17,17,17)"
             }
            },
            "type": "table"
           }
          ]
         },
         "layout": {
          "annotationdefaults": {
           "arrowcolor": "#f2f5fa",
           "arrowhead": 0,
           "arrowwidth": 1
          },
          "autotypenumbers": "strict",
          "coloraxis": {
           "colorbar": {
            "outlinewidth": 0,
            "ticks": ""
           }
          },
          "colorscale": {
           "diverging": [
            [
             0,
             "#8e0152"
            ],
            [
             0.1,
             "#c51b7d"
            ],
            [
             0.2,
             "#de77ae"
            ],
            [
             0.3,
             "#f1b6da"
            ],
            [
             0.4,
             "#fde0ef"
            ],
            [
             0.5,
             "#f7f7f7"
            ],
            [
             0.6,
             "#e6f5d0"
            ],
            [
             0.7,
             "#b8e186"
            ],
            [
             0.8,
             "#7fbc41"
            ],
            [
             0.9,
             "#4d9221"
            ],
            [
             1,
             "#276419"
            ]
           ],
           "sequential": [
            [
             0,
             "#0d0887"
            ],
            [
             0.1111111111111111,
             "#46039f"
            ],
            [
             0.2222222222222222,
             "#7201a8"
            ],
            [
             0.3333333333333333,
             "#9c179e"
            ],
            [
             0.4444444444444444,
             "#bd3786"
            ],
            [
             0.5555555555555556,
             "#d8576b"
            ],
            [
             0.6666666666666666,
             "#ed7953"
            ],
            [
             0.7777777777777778,
             "#fb9f3a"
            ],
            [
             0.8888888888888888,
             "#fdca26"
            ],
            [
             1,
             "#f0f921"
            ]
           ],
           "sequentialminus": [
            [
             0,
             "#0d0887"
            ],
            [
             0.1111111111111111,
             "#46039f"
            ],
            [
             0.2222222222222222,
             "#7201a8"
            ],
            [
             0.3333333333333333,
             "#9c179e"
            ],
            [
             0.4444444444444444,
             "#bd3786"
            ],
            [
             0.5555555555555556,
             "#d8576b"
            ],
            [
             0.6666666666666666,
             "#ed7953"
            ],
            [
             0.7777777777777778,
             "#fb9f3a"
            ],
            [
             0.8888888888888888,
             "#fdca26"
            ],
            [
             1,
             "#f0f921"
            ]
           ]
          },
          "colorway": [
           "#636efa",
           "#EF553B",
           "#00cc96",
           "#ab63fa",
           "#FFA15A",
           "#19d3f3",
           "#FF6692",
           "#B6E880",
           "#FF97FF",
           "#FECB52"
          ],
          "font": {
           "color": "#f2f5fa"
          },
          "geo": {
           "bgcolor": "rgb(17,17,17)",
           "lakecolor": "rgb(17,17,17)",
           "landcolor": "rgb(17,17,17)",
           "showlakes": true,
           "showland": true,
           "subunitcolor": "#506784"
          },
          "hoverlabel": {
           "align": "left"
          },
          "hovermode": "closest",
          "mapbox": {
           "style": "dark"
          },
          "paper_bgcolor": "rgb(17,17,17)",
          "plot_bgcolor": "rgb(17,17,17)",
          "polar": {
           "angularaxis": {
            "gridcolor": "#506784",
            "linecolor": "#506784",
            "ticks": ""
           },
           "bgcolor": "rgb(17,17,17)",
           "radialaxis": {
            "gridcolor": "#506784",
            "linecolor": "#506784",
            "ticks": ""
           }
          },
          "scene": {
           "xaxis": {
            "backgroundcolor": "rgb(17,17,17)",
            "gridcolor": "#506784",
            "gridwidth": 2,
            "linecolor": "#506784",
            "showbackground": true,
            "ticks": "",
            "zerolinecolor": "#C8D4E3"
           },
           "yaxis": {
            "backgroundcolor": "rgb(17,17,17)",
            "gridcolor": "#506784",
            "gridwidth": 2,
            "linecolor": "#506784",
            "showbackground": true,
            "ticks": "",
            "zerolinecolor": "#C8D4E3"
           },
           "zaxis": {
            "backgroundcolor": "rgb(17,17,17)",
            "gridcolor": "#506784",
            "gridwidth": 2,
            "linecolor": "#506784",
            "showbackground": true,
            "ticks": "",
            "zerolinecolor": "#C8D4E3"
           }
          },
          "shapedefaults": {
           "line": {
            "color": "#f2f5fa"
           }
          },
          "sliderdefaults": {
           "bgcolor": "#C8D4E3",
           "bordercolor": "rgb(17,17,17)",
           "borderwidth": 1,
           "tickwidth": 0
          },
          "ternary": {
           "aaxis": {
            "gridcolor": "#506784",
            "linecolor": "#506784",
            "ticks": ""
           },
           "baxis": {
            "gridcolor": "#506784",
            "linecolor": "#506784",
            "ticks": ""
           },
           "bgcolor": "rgb(17,17,17)",
           "caxis": {
            "gridcolor": "#506784",
            "linecolor": "#506784",
            "ticks": ""
           }
          },
          "title": {
           "x": 0.05
          },
          "updatemenudefaults": {
           "bgcolor": "#506784",
           "borderwidth": 0
          },
          "xaxis": {
           "automargin": true,
           "gridcolor": "#283442",
           "linecolor": "#506784",
           "ticks": "",
           "title": {
            "standoff": 15
           },
           "zerolinecolor": "#283442",
           "zerolinewidth": 2
          },
          "yaxis": {
           "automargin": true,
           "gridcolor": "#283442",
           "linecolor": "#506784",
           "ticks": "",
           "title": {
            "standoff": 15
           },
           "zerolinecolor": "#283442",
           "zerolinewidth": 2
          }
         }
        },
        "title": {
         "text": "Contribution of Variables to the Principal Component 3"
        },
        "xaxis": {
         "anchor": "y",
         "domain": [
          0,
          1
         ],
         "title": {
          "text": "Variáveis"
         }
        },
        "yaxis": {
         "anchor": "x",
         "domain": [
          0,
          1
         ],
         "title": {
          "text": "Loadings"
         }
        }
       }
      }
     },
     "metadata": {},
     "output_type": "display_data"
    },
    {
     "data": {
      "application/vnd.plotly.v1+json": {
       "config": {
        "plotlyServerURL": "https://plot.ly"
       },
       "data": [
        {
         "alignmentgroup": "True",
         "hovertemplate": "Variáveis=%{x}<br>Loadings=%{y}<br>text=%{text}<extra></extra>",
         "legendgroup": "",
         "marker": {
          "color": "rgb(100, 195, 181)",
          "pattern": {
           "shape": ""
          }
         },
         "name": "",
         "offsetgroup": "",
         "orientation": "v",
         "showlegend": false,
         "text": [
          "-0.06",
          "0.04",
          "-0.18",
          "0.31",
          "-0.07",
          "-0.13",
          "-0.21",
          "-0.22",
          "0.08",
          "-0.20",
          "-0.29",
          "-0.31",
          "0.12",
          "-0.12",
          "0.32",
          "-0.03",
          "-0.11",
          "0.05",
          "-0.04",
          "-0.07",
          "-0.00",
          "0.21",
          "0.15",
          "0.17",
          "-0.09",
          "0.02",
          "0.04",
          "0.26",
          "0.10",
          "0.18",
          "-0.10",
          "0.21",
          "-0.14",
          "-0.09",
          "0.02",
          "-0.12",
          "0.14",
          "-0.18",
          "0.08"
         ],
         "textposition": "outside",
         "type": "bar",
         "x": [
          "market_cap",
          "enterprise_value",
          "total_revenue",
          "profit_margins",
          "operating_margins",
          "dividend_rate",
          "beta",
          "ebitda",
          "trailing_pe",
          "forward_pe",
          "volume",
          "average_volume",
          "fifty_two_week_low",
          "fifty_two_week_high",
          "price_to_sales_trailing_12_months",
          "fifty_day_average",
          "two_hundred_day_average",
          "trailing_annual_dividend_rate",
          "trailing_annual_dividend_yield",
          "book_value",
          "price_to_book",
          "total_cash",
          "total_cash_per_share",
          "total_debt",
          "earnings_quarterly_growth",
          "revenue_growth",
          "gross_margins",
          "ebitda_margins",
          "return_on_assets",
          "return_on_equity",
          "gross_profits",
          "total_assets_approx",
          "asset_turnover",
          "earnings_growth_rate",
          "dividend_payout_ratio",
          "equity",
          "debt_to_equity",
          "roi",
          "roce"
         ],
         "xaxis": "x",
         "y": [
          -0.06142499393379416,
          0.040514986419488495,
          -0.18241331845936348,
          0.3070315269272785,
          -0.0700935999743173,
          -0.1333995281210048,
          -0.20591014747140818,
          -0.21708834719648867,
          0.08279472077533234,
          -0.19779772109626592,
          -0.2940063447507194,
          -0.3059030855544468,
          0.1197497180627119,
          -0.12291696108512196,
          0.3172291308956124,
          -0.03106493203779733,
          -0.10681363521431379,
          0.05126299784241843,
          -0.03967735809981201,
          -0.07402188975809337,
          -0.004504483903944904,
          0.21442171968809606,
          0.15438680893825155,
          0.16941625815262143,
          -0.08617342718940851,
          0.018327042739349025,
          0.039161056561614865,
          0.25747913863504424,
          0.09916350909565493,
          0.18262373326260675,
          -0.10057562908627324,
          0.21442171905470095,
          -0.14157480430340882,
          -0.08617342718940858,
          0.015409735270814075,
          -0.12376672230327185,
          0.14349391814254706,
          -0.1808534582939171,
          0.083357448624817
         ],
         "yaxis": "y"
        }
       ],
       "layout": {
        "barmode": "relative",
        "font": {
         "color": "white"
        },
        "height": 550,
        "legend": {
         "tracegroupgap": 0
        },
        "template": {
         "data": {
          "bar": [
           {
            "error_x": {
             "color": "#f2f5fa"
            },
            "error_y": {
             "color": "#f2f5fa"
            },
            "marker": {
             "line": {
              "color": "rgb(17,17,17)",
              "width": 0.5
             },
             "pattern": {
              "fillmode": "overlay",
              "size": 10,
              "solidity": 0.2
             }
            },
            "type": "bar"
           }
          ],
          "barpolar": [
           {
            "marker": {
             "line": {
              "color": "rgb(17,17,17)",
              "width": 0.5
             },
             "pattern": {
              "fillmode": "overlay",
              "size": 10,
              "solidity": 0.2
             }
            },
            "type": "barpolar"
           }
          ],
          "carpet": [
           {
            "aaxis": {
             "endlinecolor": "#A2B1C6",
             "gridcolor": "#506784",
             "linecolor": "#506784",
             "minorgridcolor": "#506784",
             "startlinecolor": "#A2B1C6"
            },
            "baxis": {
             "endlinecolor": "#A2B1C6",
             "gridcolor": "#506784",
             "linecolor": "#506784",
             "minorgridcolor": "#506784",
             "startlinecolor": "#A2B1C6"
            },
            "type": "carpet"
           }
          ],
          "choropleth": [
           {
            "colorbar": {
             "outlinewidth": 0,
             "ticks": ""
            },
            "type": "choropleth"
           }
          ],
          "contour": [
           {
            "colorbar": {
             "outlinewidth": 0,
             "ticks": ""
            },
            "colorscale": [
             [
              0,
              "#0d0887"
             ],
             [
              0.1111111111111111,
              "#46039f"
             ],
             [
              0.2222222222222222,
              "#7201a8"
             ],
             [
              0.3333333333333333,
              "#9c179e"
             ],
             [
              0.4444444444444444,
              "#bd3786"
             ],
             [
              0.5555555555555556,
              "#d8576b"
             ],
             [
              0.6666666666666666,
              "#ed7953"
             ],
             [
              0.7777777777777778,
              "#fb9f3a"
             ],
             [
              0.8888888888888888,
              "#fdca26"
             ],
             [
              1,
              "#f0f921"
             ]
            ],
            "type": "contour"
           }
          ],
          "contourcarpet": [
           {
            "colorbar": {
             "outlinewidth": 0,
             "ticks": ""
            },
            "type": "contourcarpet"
           }
          ],
          "heatmap": [
           {
            "colorbar": {
             "outlinewidth": 0,
             "ticks": ""
            },
            "colorscale": [
             [
              0,
              "#0d0887"
             ],
             [
              0.1111111111111111,
              "#46039f"
             ],
             [
              0.2222222222222222,
              "#7201a8"
             ],
             [
              0.3333333333333333,
              "#9c179e"
             ],
             [
              0.4444444444444444,
              "#bd3786"
             ],
             [
              0.5555555555555556,
              "#d8576b"
             ],
             [
              0.6666666666666666,
              "#ed7953"
             ],
             [
              0.7777777777777778,
              "#fb9f3a"
             ],
             [
              0.8888888888888888,
              "#fdca26"
             ],
             [
              1,
              "#f0f921"
             ]
            ],
            "type": "heatmap"
           }
          ],
          "heatmapgl": [
           {
            "colorbar": {
             "outlinewidth": 0,
             "ticks": ""
            },
            "colorscale": [
             [
              0,
              "#0d0887"
             ],
             [
              0.1111111111111111,
              "#46039f"
             ],
             [
              0.2222222222222222,
              "#7201a8"
             ],
             [
              0.3333333333333333,
              "#9c179e"
             ],
             [
              0.4444444444444444,
              "#bd3786"
             ],
             [
              0.5555555555555556,
              "#d8576b"
             ],
             [
              0.6666666666666666,
              "#ed7953"
             ],
             [
              0.7777777777777778,
              "#fb9f3a"
             ],
             [
              0.8888888888888888,
              "#fdca26"
             ],
             [
              1,
              "#f0f921"
             ]
            ],
            "type": "heatmapgl"
           }
          ],
          "histogram": [
           {
            "marker": {
             "pattern": {
              "fillmode": "overlay",
              "size": 10,
              "solidity": 0.2
             }
            },
            "type": "histogram"
           }
          ],
          "histogram2d": [
           {
            "colorbar": {
             "outlinewidth": 0,
             "ticks": ""
            },
            "colorscale": [
             [
              0,
              "#0d0887"
             ],
             [
              0.1111111111111111,
              "#46039f"
             ],
             [
              0.2222222222222222,
              "#7201a8"
             ],
             [
              0.3333333333333333,
              "#9c179e"
             ],
             [
              0.4444444444444444,
              "#bd3786"
             ],
             [
              0.5555555555555556,
              "#d8576b"
             ],
             [
              0.6666666666666666,
              "#ed7953"
             ],
             [
              0.7777777777777778,
              "#fb9f3a"
             ],
             [
              0.8888888888888888,
              "#fdca26"
             ],
             [
              1,
              "#f0f921"
             ]
            ],
            "type": "histogram2d"
           }
          ],
          "histogram2dcontour": [
           {
            "colorbar": {
             "outlinewidth": 0,
             "ticks": ""
            },
            "colorscale": [
             [
              0,
              "#0d0887"
             ],
             [
              0.1111111111111111,
              "#46039f"
             ],
             [
              0.2222222222222222,
              "#7201a8"
             ],
             [
              0.3333333333333333,
              "#9c179e"
             ],
             [
              0.4444444444444444,
              "#bd3786"
             ],
             [
              0.5555555555555556,
              "#d8576b"
             ],
             [
              0.6666666666666666,
              "#ed7953"
             ],
             [
              0.7777777777777778,
              "#fb9f3a"
             ],
             [
              0.8888888888888888,
              "#fdca26"
             ],
             [
              1,
              "#f0f921"
             ]
            ],
            "type": "histogram2dcontour"
           }
          ],
          "mesh3d": [
           {
            "colorbar": {
             "outlinewidth": 0,
             "ticks": ""
            },
            "type": "mesh3d"
           }
          ],
          "parcoords": [
           {
            "line": {
             "colorbar": {
              "outlinewidth": 0,
              "ticks": ""
             }
            },
            "type": "parcoords"
           }
          ],
          "pie": [
           {
            "automargin": true,
            "type": "pie"
           }
          ],
          "scatter": [
           {
            "marker": {
             "line": {
              "color": "#283442"
             }
            },
            "type": "scatter"
           }
          ],
          "scatter3d": [
           {
            "line": {
             "colorbar": {
              "outlinewidth": 0,
              "ticks": ""
             }
            },
            "marker": {
             "colorbar": {
              "outlinewidth": 0,
              "ticks": ""
             }
            },
            "type": "scatter3d"
           }
          ],
          "scattercarpet": [
           {
            "marker": {
             "colorbar": {
              "outlinewidth": 0,
              "ticks": ""
             }
            },
            "type": "scattercarpet"
           }
          ],
          "scattergeo": [
           {
            "marker": {
             "colorbar": {
              "outlinewidth": 0,
              "ticks": ""
             }
            },
            "type": "scattergeo"
           }
          ],
          "scattergl": [
           {
            "marker": {
             "line": {
              "color": "#283442"
             }
            },
            "type": "scattergl"
           }
          ],
          "scattermapbox": [
           {
            "marker": {
             "colorbar": {
              "outlinewidth": 0,
              "ticks": ""
             }
            },
            "type": "scattermapbox"
           }
          ],
          "scatterpolar": [
           {
            "marker": {
             "colorbar": {
              "outlinewidth": 0,
              "ticks": ""
             }
            },
            "type": "scatterpolar"
           }
          ],
          "scatterpolargl": [
           {
            "marker": {
             "colorbar": {
              "outlinewidth": 0,
              "ticks": ""
             }
            },
            "type": "scatterpolargl"
           }
          ],
          "scatterternary": [
           {
            "marker": {
             "colorbar": {
              "outlinewidth": 0,
              "ticks": ""
             }
            },
            "type": "scatterternary"
           }
          ],
          "surface": [
           {
            "colorbar": {
             "outlinewidth": 0,
             "ticks": ""
            },
            "colorscale": [
             [
              0,
              "#0d0887"
             ],
             [
              0.1111111111111111,
              "#46039f"
             ],
             [
              0.2222222222222222,
              "#7201a8"
             ],
             [
              0.3333333333333333,
              "#9c179e"
             ],
             [
              0.4444444444444444,
              "#bd3786"
             ],
             [
              0.5555555555555556,
              "#d8576b"
             ],
             [
              0.6666666666666666,
              "#ed7953"
             ],
             [
              0.7777777777777778,
              "#fb9f3a"
             ],
             [
              0.8888888888888888,
              "#fdca26"
             ],
             [
              1,
              "#f0f921"
             ]
            ],
            "type": "surface"
           }
          ],
          "table": [
           {
            "cells": {
             "fill": {
              "color": "#506784"
             },
             "line": {
              "color": "rgb(17,17,17)"
             }
            },
            "header": {
             "fill": {
              "color": "#2a3f5f"
             },
             "line": {
              "color": "rgb(17,17,17)"
             }
            },
            "type": "table"
           }
          ]
         },
         "layout": {
          "annotationdefaults": {
           "arrowcolor": "#f2f5fa",
           "arrowhead": 0,
           "arrowwidth": 1
          },
          "autotypenumbers": "strict",
          "coloraxis": {
           "colorbar": {
            "outlinewidth": 0,
            "ticks": ""
           }
          },
          "colorscale": {
           "diverging": [
            [
             0,
             "#8e0152"
            ],
            [
             0.1,
             "#c51b7d"
            ],
            [
             0.2,
             "#de77ae"
            ],
            [
             0.3,
             "#f1b6da"
            ],
            [
             0.4,
             "#fde0ef"
            ],
            [
             0.5,
             "#f7f7f7"
            ],
            [
             0.6,
             "#e6f5d0"
            ],
            [
             0.7,
             "#b8e186"
            ],
            [
             0.8,
             "#7fbc41"
            ],
            [
             0.9,
             "#4d9221"
            ],
            [
             1,
             "#276419"
            ]
           ],
           "sequential": [
            [
             0,
             "#0d0887"
            ],
            [
             0.1111111111111111,
             "#46039f"
            ],
            [
             0.2222222222222222,
             "#7201a8"
            ],
            [
             0.3333333333333333,
             "#9c179e"
            ],
            [
             0.4444444444444444,
             "#bd3786"
            ],
            [
             0.5555555555555556,
             "#d8576b"
            ],
            [
             0.6666666666666666,
             "#ed7953"
            ],
            [
             0.7777777777777778,
             "#fb9f3a"
            ],
            [
             0.8888888888888888,
             "#fdca26"
            ],
            [
             1,
             "#f0f921"
            ]
           ],
           "sequentialminus": [
            [
             0,
             "#0d0887"
            ],
            [
             0.1111111111111111,
             "#46039f"
            ],
            [
             0.2222222222222222,
             "#7201a8"
            ],
            [
             0.3333333333333333,
             "#9c179e"
            ],
            [
             0.4444444444444444,
             "#bd3786"
            ],
            [
             0.5555555555555556,
             "#d8576b"
            ],
            [
             0.6666666666666666,
             "#ed7953"
            ],
            [
             0.7777777777777778,
             "#fb9f3a"
            ],
            [
             0.8888888888888888,
             "#fdca26"
            ],
            [
             1,
             "#f0f921"
            ]
           ]
          },
          "colorway": [
           "#636efa",
           "#EF553B",
           "#00cc96",
           "#ab63fa",
           "#FFA15A",
           "#19d3f3",
           "#FF6692",
           "#B6E880",
           "#FF97FF",
           "#FECB52"
          ],
          "font": {
           "color": "#f2f5fa"
          },
          "geo": {
           "bgcolor": "rgb(17,17,17)",
           "lakecolor": "rgb(17,17,17)",
           "landcolor": "rgb(17,17,17)",
           "showlakes": true,
           "showland": true,
           "subunitcolor": "#506784"
          },
          "hoverlabel": {
           "align": "left"
          },
          "hovermode": "closest",
          "mapbox": {
           "style": "dark"
          },
          "paper_bgcolor": "rgb(17,17,17)",
          "plot_bgcolor": "rgb(17,17,17)",
          "polar": {
           "angularaxis": {
            "gridcolor": "#506784",
            "linecolor": "#506784",
            "ticks": ""
           },
           "bgcolor": "rgb(17,17,17)",
           "radialaxis": {
            "gridcolor": "#506784",
            "linecolor": "#506784",
            "ticks": ""
           }
          },
          "scene": {
           "xaxis": {
            "backgroundcolor": "rgb(17,17,17)",
            "gridcolor": "#506784",
            "gridwidth": 2,
            "linecolor": "#506784",
            "showbackground": true,
            "ticks": "",
            "zerolinecolor": "#C8D4E3"
           },
           "yaxis": {
            "backgroundcolor": "rgb(17,17,17)",
            "gridcolor": "#506784",
            "gridwidth": 2,
            "linecolor": "#506784",
            "showbackground": true,
            "ticks": "",
            "zerolinecolor": "#C8D4E3"
           },
           "zaxis": {
            "backgroundcolor": "rgb(17,17,17)",
            "gridcolor": "#506784",
            "gridwidth": 2,
            "linecolor": "#506784",
            "showbackground": true,
            "ticks": "",
            "zerolinecolor": "#C8D4E3"
           }
          },
          "shapedefaults": {
           "line": {
            "color": "#f2f5fa"
           }
          },
          "sliderdefaults": {
           "bgcolor": "#C8D4E3",
           "bordercolor": "rgb(17,17,17)",
           "borderwidth": 1,
           "tickwidth": 0
          },
          "ternary": {
           "aaxis": {
            "gridcolor": "#506784",
            "linecolor": "#506784",
            "ticks": ""
           },
           "baxis": {
            "gridcolor": "#506784",
            "linecolor": "#506784",
            "ticks": ""
           },
           "bgcolor": "rgb(17,17,17)",
           "caxis": {
            "gridcolor": "#506784",
            "linecolor": "#506784",
            "ticks": ""
           }
          },
          "title": {
           "x": 0.05
          },
          "updatemenudefaults": {
           "bgcolor": "#506784",
           "borderwidth": 0
          },
          "xaxis": {
           "automargin": true,
           "gridcolor": "#283442",
           "linecolor": "#506784",
           "ticks": "",
           "title": {
            "standoff": 15
           },
           "zerolinecolor": "#283442",
           "zerolinewidth": 2
          },
          "yaxis": {
           "automargin": true,
           "gridcolor": "#283442",
           "linecolor": "#506784",
           "ticks": "",
           "title": {
            "standoff": 15
           },
           "zerolinecolor": "#283442",
           "zerolinewidth": 2
          }
         }
        },
        "title": {
         "text": "Contribution of Variables to the Principal Component 4"
        },
        "xaxis": {
         "anchor": "y",
         "domain": [
          0,
          1
         ],
         "title": {
          "text": "Variáveis"
         }
        },
        "yaxis": {
         "anchor": "x",
         "domain": [
          0,
          1
         ],
         "title": {
          "text": "Loadings"
         }
        }
       }
      }
     },
     "metadata": {},
     "output_type": "display_data"
    },
    {
     "data": {
      "application/vnd.plotly.v1+json": {
       "config": {
        "plotlyServerURL": "https://plot.ly"
       },
       "data": [
        {
         "alignmentgroup": "True",
         "hovertemplate": "Variáveis=%{x}<br>Loadings=%{y}<br>text=%{text}<extra></extra>",
         "legendgroup": "",
         "marker": {
          "color": "rgb(100, 195, 181)",
          "pattern": {
           "shape": ""
          }
         },
         "name": "",
         "offsetgroup": "",
         "orientation": "v",
         "showlegend": false,
         "text": [
          "0.08",
          "-0.01",
          "0.17",
          "0.28",
          "-0.14",
          "-0.15",
          "-0.13",
          "0.24",
          "-0.07",
          "-0.13",
          "-0.03",
          "-0.02",
          "0.14",
          "-0.13",
          "0.12",
          "-0.03",
          "-0.12",
          "0.23",
          "0.21",
          "-0.09",
          "-0.02",
          "-0.18",
          "0.14",
          "-0.13",
          "-0.10",
          "-0.13",
          "0.06",
          "0.07",
          "-0.00",
          "0.17",
          "0.13",
          "-0.18",
          "0.35",
          "-0.10",
          "0.00",
          "0.09",
          "-0.10",
          "0.31",
          "-0.38"
         ],
         "textposition": "outside",
         "type": "bar",
         "x": [
          "market_cap",
          "enterprise_value",
          "total_revenue",
          "profit_margins",
          "operating_margins",
          "dividend_rate",
          "beta",
          "ebitda",
          "trailing_pe",
          "forward_pe",
          "volume",
          "average_volume",
          "fifty_two_week_low",
          "fifty_two_week_high",
          "price_to_sales_trailing_12_months",
          "fifty_day_average",
          "two_hundred_day_average",
          "trailing_annual_dividend_rate",
          "trailing_annual_dividend_yield",
          "book_value",
          "price_to_book",
          "total_cash",
          "total_cash_per_share",
          "total_debt",
          "earnings_quarterly_growth",
          "revenue_growth",
          "gross_margins",
          "ebitda_margins",
          "return_on_assets",
          "return_on_equity",
          "gross_profits",
          "total_assets_approx",
          "asset_turnover",
          "earnings_growth_rate",
          "dividend_payout_ratio",
          "equity",
          "debt_to_equity",
          "roi",
          "roce"
         ],
         "xaxis": "x",
         "y": [
          0.0802560295416235,
          -0.013694805678322756,
          0.16941284638639698,
          0.284627527714678,
          -0.1379317756092995,
          -0.1483841434570744,
          -0.13217548086775843,
          0.23765383681302982,
          -0.06773944608380703,
          -0.13306181005245823,
          -0.030794181967171652,
          -0.015195561077741782,
          0.14139785174134367,
          -0.13455677820447418,
          0.11662776122466603,
          -0.02542675034385235,
          -0.1156642956769337,
          0.22801977970020218,
          0.2063343925643554,
          -0.08874789325291046,
          -0.02160500544803303,
          -0.17785764431045867,
          0.14069962556203303,
          -0.13408031431688067,
          -0.10421497756099812,
          -0.12957782248140032,
          0.06198101618413053,
          0.07378090660721938,
          -0.0019975893770952883,
          0.17345326950662912,
          0.13146049165766593,
          -0.17785764502921514,
          0.35230639102817585,
          -0.10421497756099819,
          0.004721604430502341,
          0.09304243556648895,
          -0.09624559103937533,
          0.30696897160425857,
          -0.3795451467646595
         ],
         "yaxis": "y"
        }
       ],
       "layout": {
        "barmode": "relative",
        "font": {
         "color": "white"
        },
        "height": 550,
        "legend": {
         "tracegroupgap": 0
        },
        "template": {
         "data": {
          "bar": [
           {
            "error_x": {
             "color": "#f2f5fa"
            },
            "error_y": {
             "color": "#f2f5fa"
            },
            "marker": {
             "line": {
              "color": "rgb(17,17,17)",
              "width": 0.5
             },
             "pattern": {
              "fillmode": "overlay",
              "size": 10,
              "solidity": 0.2
             }
            },
            "type": "bar"
           }
          ],
          "barpolar": [
           {
            "marker": {
             "line": {
              "color": "rgb(17,17,17)",
              "width": 0.5
             },
             "pattern": {
              "fillmode": "overlay",
              "size": 10,
              "solidity": 0.2
             }
            },
            "type": "barpolar"
           }
          ],
          "carpet": [
           {
            "aaxis": {
             "endlinecolor": "#A2B1C6",
             "gridcolor": "#506784",
             "linecolor": "#506784",
             "minorgridcolor": "#506784",
             "startlinecolor": "#A2B1C6"
            },
            "baxis": {
             "endlinecolor": "#A2B1C6",
             "gridcolor": "#506784",
             "linecolor": "#506784",
             "minorgridcolor": "#506784",
             "startlinecolor": "#A2B1C6"
            },
            "type": "carpet"
           }
          ],
          "choropleth": [
           {
            "colorbar": {
             "outlinewidth": 0,
             "ticks": ""
            },
            "type": "choropleth"
           }
          ],
          "contour": [
           {
            "colorbar": {
             "outlinewidth": 0,
             "ticks": ""
            },
            "colorscale": [
             [
              0,
              "#0d0887"
             ],
             [
              0.1111111111111111,
              "#46039f"
             ],
             [
              0.2222222222222222,
              "#7201a8"
             ],
             [
              0.3333333333333333,
              "#9c179e"
             ],
             [
              0.4444444444444444,
              "#bd3786"
             ],
             [
              0.5555555555555556,
              "#d8576b"
             ],
             [
              0.6666666666666666,
              "#ed7953"
             ],
             [
              0.7777777777777778,
              "#fb9f3a"
             ],
             [
              0.8888888888888888,
              "#fdca26"
             ],
             [
              1,
              "#f0f921"
             ]
            ],
            "type": "contour"
           }
          ],
          "contourcarpet": [
           {
            "colorbar": {
             "outlinewidth": 0,
             "ticks": ""
            },
            "type": "contourcarpet"
           }
          ],
          "heatmap": [
           {
            "colorbar": {
             "outlinewidth": 0,
             "ticks": ""
            },
            "colorscale": [
             [
              0,
              "#0d0887"
             ],
             [
              0.1111111111111111,
              "#46039f"
             ],
             [
              0.2222222222222222,
              "#7201a8"
             ],
             [
              0.3333333333333333,
              "#9c179e"
             ],
             [
              0.4444444444444444,
              "#bd3786"
             ],
             [
              0.5555555555555556,
              "#d8576b"
             ],
             [
              0.6666666666666666,
              "#ed7953"
             ],
             [
              0.7777777777777778,
              "#fb9f3a"
             ],
             [
              0.8888888888888888,
              "#fdca26"
             ],
             [
              1,
              "#f0f921"
             ]
            ],
            "type": "heatmap"
           }
          ],
          "heatmapgl": [
           {
            "colorbar": {
             "outlinewidth": 0,
             "ticks": ""
            },
            "colorscale": [
             [
              0,
              "#0d0887"
             ],
             [
              0.1111111111111111,
              "#46039f"
             ],
             [
              0.2222222222222222,
              "#7201a8"
             ],
             [
              0.3333333333333333,
              "#9c179e"
             ],
             [
              0.4444444444444444,
              "#bd3786"
             ],
             [
              0.5555555555555556,
              "#d8576b"
             ],
             [
              0.6666666666666666,
              "#ed7953"
             ],
             [
              0.7777777777777778,
              "#fb9f3a"
             ],
             [
              0.8888888888888888,
              "#fdca26"
             ],
             [
              1,
              "#f0f921"
             ]
            ],
            "type": "heatmapgl"
           }
          ],
          "histogram": [
           {
            "marker": {
             "pattern": {
              "fillmode": "overlay",
              "size": 10,
              "solidity": 0.2
             }
            },
            "type": "histogram"
           }
          ],
          "histogram2d": [
           {
            "colorbar": {
             "outlinewidth": 0,
             "ticks": ""
            },
            "colorscale": [
             [
              0,
              "#0d0887"
             ],
             [
              0.1111111111111111,
              "#46039f"
             ],
             [
              0.2222222222222222,
              "#7201a8"
             ],
             [
              0.3333333333333333,
              "#9c179e"
             ],
             [
              0.4444444444444444,
              "#bd3786"
             ],
             [
              0.5555555555555556,
              "#d8576b"
             ],
             [
              0.6666666666666666,
              "#ed7953"
             ],
             [
              0.7777777777777778,
              "#fb9f3a"
             ],
             [
              0.8888888888888888,
              "#fdca26"
             ],
             [
              1,
              "#f0f921"
             ]
            ],
            "type": "histogram2d"
           }
          ],
          "histogram2dcontour": [
           {
            "colorbar": {
             "outlinewidth": 0,
             "ticks": ""
            },
            "colorscale": [
             [
              0,
              "#0d0887"
             ],
             [
              0.1111111111111111,
              "#46039f"
             ],
             [
              0.2222222222222222,
              "#7201a8"
             ],
             [
              0.3333333333333333,
              "#9c179e"
             ],
             [
              0.4444444444444444,
              "#bd3786"
             ],
             [
              0.5555555555555556,
              "#d8576b"
             ],
             [
              0.6666666666666666,
              "#ed7953"
             ],
             [
              0.7777777777777778,
              "#fb9f3a"
             ],
             [
              0.8888888888888888,
              "#fdca26"
             ],
             [
              1,
              "#f0f921"
             ]
            ],
            "type": "histogram2dcontour"
           }
          ],
          "mesh3d": [
           {
            "colorbar": {
             "outlinewidth": 0,
             "ticks": ""
            },
            "type": "mesh3d"
           }
          ],
          "parcoords": [
           {
            "line": {
             "colorbar": {
              "outlinewidth": 0,
              "ticks": ""
             }
            },
            "type": "parcoords"
           }
          ],
          "pie": [
           {
            "automargin": true,
            "type": "pie"
           }
          ],
          "scatter": [
           {
            "marker": {
             "line": {
              "color": "#283442"
             }
            },
            "type": "scatter"
           }
          ],
          "scatter3d": [
           {
            "line": {
             "colorbar": {
              "outlinewidth": 0,
              "ticks": ""
             }
            },
            "marker": {
             "colorbar": {
              "outlinewidth": 0,
              "ticks": ""
             }
            },
            "type": "scatter3d"
           }
          ],
          "scattercarpet": [
           {
            "marker": {
             "colorbar": {
              "outlinewidth": 0,
              "ticks": ""
             }
            },
            "type": "scattercarpet"
           }
          ],
          "scattergeo": [
           {
            "marker": {
             "colorbar": {
              "outlinewidth": 0,
              "ticks": ""
             }
            },
            "type": "scattergeo"
           }
          ],
          "scattergl": [
           {
            "marker": {
             "line": {
              "color": "#283442"
             }
            },
            "type": "scattergl"
           }
          ],
          "scattermapbox": [
           {
            "marker": {
             "colorbar": {
              "outlinewidth": 0,
              "ticks": ""
             }
            },
            "type": "scattermapbox"
           }
          ],
          "scatterpolar": [
           {
            "marker": {
             "colorbar": {
              "outlinewidth": 0,
              "ticks": ""
             }
            },
            "type": "scatterpolar"
           }
          ],
          "scatterpolargl": [
           {
            "marker": {
             "colorbar": {
              "outlinewidth": 0,
              "ticks": ""
             }
            },
            "type": "scatterpolargl"
           }
          ],
          "scatterternary": [
           {
            "marker": {
             "colorbar": {
              "outlinewidth": 0,
              "ticks": ""
             }
            },
            "type": "scatterternary"
           }
          ],
          "surface": [
           {
            "colorbar": {
             "outlinewidth": 0,
             "ticks": ""
            },
            "colorscale": [
             [
              0,
              "#0d0887"
             ],
             [
              0.1111111111111111,
              "#46039f"
             ],
             [
              0.2222222222222222,
              "#7201a8"
             ],
             [
              0.3333333333333333,
              "#9c179e"
             ],
             [
              0.4444444444444444,
              "#bd3786"
             ],
             [
              0.5555555555555556,
              "#d8576b"
             ],
             [
              0.6666666666666666,
              "#ed7953"
             ],
             [
              0.7777777777777778,
              "#fb9f3a"
             ],
             [
              0.8888888888888888,
              "#fdca26"
             ],
             [
              1,
              "#f0f921"
             ]
            ],
            "type": "surface"
           }
          ],
          "table": [
           {
            "cells": {
             "fill": {
              "color": "#506784"
             },
             "line": {
              "color": "rgb(17,17,17)"
             }
            },
            "header": {
             "fill": {
              "color": "#2a3f5f"
             },
             "line": {
              "color": "rgb(17,17,17)"
             }
            },
            "type": "table"
           }
          ]
         },
         "layout": {
          "annotationdefaults": {
           "arrowcolor": "#f2f5fa",
           "arrowhead": 0,
           "arrowwidth": 1
          },
          "autotypenumbers": "strict",
          "coloraxis": {
           "colorbar": {
            "outlinewidth": 0,
            "ticks": ""
           }
          },
          "colorscale": {
           "diverging": [
            [
             0,
             "#8e0152"
            ],
            [
             0.1,
             "#c51b7d"
            ],
            [
             0.2,
             "#de77ae"
            ],
            [
             0.3,
             "#f1b6da"
            ],
            [
             0.4,
             "#fde0ef"
            ],
            [
             0.5,
             "#f7f7f7"
            ],
            [
             0.6,
             "#e6f5d0"
            ],
            [
             0.7,
             "#b8e186"
            ],
            [
             0.8,
             "#7fbc41"
            ],
            [
             0.9,
             "#4d9221"
            ],
            [
             1,
             "#276419"
            ]
           ],
           "sequential": [
            [
             0,
             "#0d0887"
            ],
            [
             0.1111111111111111,
             "#46039f"
            ],
            [
             0.2222222222222222,
             "#7201a8"
            ],
            [
             0.3333333333333333,
             "#9c179e"
            ],
            [
             0.4444444444444444,
             "#bd3786"
            ],
            [
             0.5555555555555556,
             "#d8576b"
            ],
            [
             0.6666666666666666,
             "#ed7953"
            ],
            [
             0.7777777777777778,
             "#fb9f3a"
            ],
            [
             0.8888888888888888,
             "#fdca26"
            ],
            [
             1,
             "#f0f921"
            ]
           ],
           "sequentialminus": [
            [
             0,
             "#0d0887"
            ],
            [
             0.1111111111111111,
             "#46039f"
            ],
            [
             0.2222222222222222,
             "#7201a8"
            ],
            [
             0.3333333333333333,
             "#9c179e"
            ],
            [
             0.4444444444444444,
             "#bd3786"
            ],
            [
             0.5555555555555556,
             "#d8576b"
            ],
            [
             0.6666666666666666,
             "#ed7953"
            ],
            [
             0.7777777777777778,
             "#fb9f3a"
            ],
            [
             0.8888888888888888,
             "#fdca26"
            ],
            [
             1,
             "#f0f921"
            ]
           ]
          },
          "colorway": [
           "#636efa",
           "#EF553B",
           "#00cc96",
           "#ab63fa",
           "#FFA15A",
           "#19d3f3",
           "#FF6692",
           "#B6E880",
           "#FF97FF",
           "#FECB52"
          ],
          "font": {
           "color": "#f2f5fa"
          },
          "geo": {
           "bgcolor": "rgb(17,17,17)",
           "lakecolor": "rgb(17,17,17)",
           "landcolor": "rgb(17,17,17)",
           "showlakes": true,
           "showland": true,
           "subunitcolor": "#506784"
          },
          "hoverlabel": {
           "align": "left"
          },
          "hovermode": "closest",
          "mapbox": {
           "style": "dark"
          },
          "paper_bgcolor": "rgb(17,17,17)",
          "plot_bgcolor": "rgb(17,17,17)",
          "polar": {
           "angularaxis": {
            "gridcolor": "#506784",
            "linecolor": "#506784",
            "ticks": ""
           },
           "bgcolor": "rgb(17,17,17)",
           "radialaxis": {
            "gridcolor": "#506784",
            "linecolor": "#506784",
            "ticks": ""
           }
          },
          "scene": {
           "xaxis": {
            "backgroundcolor": "rgb(17,17,17)",
            "gridcolor": "#506784",
            "gridwidth": 2,
            "linecolor": "#506784",
            "showbackground": true,
            "ticks": "",
            "zerolinecolor": "#C8D4E3"
           },
           "yaxis": {
            "backgroundcolor": "rgb(17,17,17)",
            "gridcolor": "#506784",
            "gridwidth": 2,
            "linecolor": "#506784",
            "showbackground": true,
            "ticks": "",
            "zerolinecolor": "#C8D4E3"
           },
           "zaxis": {
            "backgroundcolor": "rgb(17,17,17)",
            "gridcolor": "#506784",
            "gridwidth": 2,
            "linecolor": "#506784",
            "showbackground": true,
            "ticks": "",
            "zerolinecolor": "#C8D4E3"
           }
          },
          "shapedefaults": {
           "line": {
            "color": "#f2f5fa"
           }
          },
          "sliderdefaults": {
           "bgcolor": "#C8D4E3",
           "bordercolor": "rgb(17,17,17)",
           "borderwidth": 1,
           "tickwidth": 0
          },
          "ternary": {
           "aaxis": {
            "gridcolor": "#506784",
            "linecolor": "#506784",
            "ticks": ""
           },
           "baxis": {
            "gridcolor": "#506784",
            "linecolor": "#506784",
            "ticks": ""
           },
           "bgcolor": "rgb(17,17,17)",
           "caxis": {
            "gridcolor": "#506784",
            "linecolor": "#506784",
            "ticks": ""
           }
          },
          "title": {
           "x": 0.05
          },
          "updatemenudefaults": {
           "bgcolor": "#506784",
           "borderwidth": 0
          },
          "xaxis": {
           "automargin": true,
           "gridcolor": "#283442",
           "linecolor": "#506784",
           "ticks": "",
           "title": {
            "standoff": 15
           },
           "zerolinecolor": "#283442",
           "zerolinewidth": 2
          },
          "yaxis": {
           "automargin": true,
           "gridcolor": "#283442",
           "linecolor": "#506784",
           "ticks": "",
           "title": {
            "standoff": 15
           },
           "zerolinecolor": "#283442",
           "zerolinewidth": 2
          }
         }
        },
        "title": {
         "text": "Contribution of Variables to the Principal Component 5"
        },
        "xaxis": {
         "anchor": "y",
         "domain": [
          0,
          1
         ],
         "title": {
          "text": "Variáveis"
         }
        },
        "yaxis": {
         "anchor": "x",
         "domain": [
          0,
          1
         ],
         "title": {
          "text": "Loadings"
         }
        }
       }
      }
     },
     "metadata": {},
     "output_type": "display_data"
    }
   ],
   "source": [
    "for component_number in range(n_components):\n",
    "\n",
    "    loadings = pca.components_[component_number]\n",
    "    formatted_loadings = [f'{x:.2f}' for x in loadings]\n",
    "\n",
    "    fig = px.bar(x=df_fundamentals_numeric_cols.columns, y=loadings, labels={'x': 'Variáveis', 'y': 'Loadings'}, title=f'Contribution of Variables to the Principal Component {component_number + 1}', color_discrete_sequence=['rgb(100, 195, 181)'], text=formatted_loadings)\n",
    "    fig.update_traces(textposition='outside')\n",
    "    fig.update_layout(template='plotly_dark', font=dict(color='white'), height=550)\n",
    "    \n",
    "    fig.show()"
   ]
  },
  {
   "cell_type": "markdown",
   "metadata": {},
   "source": []
  },
  {
   "cell_type": "code",
   "execution_count": 83,
   "metadata": {},
   "outputs": [
    {
     "data": {
      "application/vnd.plotly.v1+json": {
       "config": {
        "plotlyServerURL": "https://plot.ly"
       },
       "data": [
        {
         "mode": "lines+markers",
         "name": "Cumulative Variance Explained",
         "type": "scatter",
         "x": [
          1,
          2,
          3,
          4,
          5,
          6,
          7,
          8,
          9,
          10,
          11,
          12,
          13,
          14,
          15,
          16,
          17,
          18,
          19,
          20,
          21,
          22,
          23,
          24,
          25,
          26,
          27,
          28,
          29,
          30,
          31,
          32,
          33,
          34,
          35,
          36,
          37,
          38,
          39,
          40
         ],
         "y": [
          0.8311453282067462,
          0.9493509379815435,
          0.9853105932320406,
          0.9965532499202889,
          0.9994047356110107,
          0.9999264474931607,
          0.9999999974275376,
          0.9999999998941197,
          0.9999999999999337,
          0.999999999999998,
          1,
          1,
          1,
          1,
          1,
          1,
          1,
          1,
          1,
          1,
          1,
          1,
          1,
          1,
          1,
          1,
          1,
          1,
          1,
          1,
          1,
          1,
          1,
          1,
          1,
          1,
          1,
          1,
          1,
          1
         ]
        }
       ],
       "layout": {
        "template": {
         "data": {
          "bar": [
           {
            "error_x": {
             "color": "#2a3f5f"
            },
            "error_y": {
             "color": "#2a3f5f"
            },
            "marker": {
             "line": {
              "color": "#E5ECF6",
              "width": 0.5
             },
             "pattern": {
              "fillmode": "overlay",
              "size": 10,
              "solidity": 0.2
             }
            },
            "type": "bar"
           }
          ],
          "barpolar": [
           {
            "marker": {
             "line": {
              "color": "#E5ECF6",
              "width": 0.5
             },
             "pattern": {
              "fillmode": "overlay",
              "size": 10,
              "solidity": 0.2
             }
            },
            "type": "barpolar"
           }
          ],
          "carpet": [
           {
            "aaxis": {
             "endlinecolor": "#2a3f5f",
             "gridcolor": "white",
             "linecolor": "white",
             "minorgridcolor": "white",
             "startlinecolor": "#2a3f5f"
            },
            "baxis": {
             "endlinecolor": "#2a3f5f",
             "gridcolor": "white",
             "linecolor": "white",
             "minorgridcolor": "white",
             "startlinecolor": "#2a3f5f"
            },
            "type": "carpet"
           }
          ],
          "choropleth": [
           {
            "colorbar": {
             "outlinewidth": 0,
             "ticks": ""
            },
            "type": "choropleth"
           }
          ],
          "contour": [
           {
            "colorbar": {
             "outlinewidth": 0,
             "ticks": ""
            },
            "colorscale": [
             [
              0,
              "#0d0887"
             ],
             [
              0.1111111111111111,
              "#46039f"
             ],
             [
              0.2222222222222222,
              "#7201a8"
             ],
             [
              0.3333333333333333,
              "#9c179e"
             ],
             [
              0.4444444444444444,
              "#bd3786"
             ],
             [
              0.5555555555555556,
              "#d8576b"
             ],
             [
              0.6666666666666666,
              "#ed7953"
             ],
             [
              0.7777777777777778,
              "#fb9f3a"
             ],
             [
              0.8888888888888888,
              "#fdca26"
             ],
             [
              1,
              "#f0f921"
             ]
            ],
            "type": "contour"
           }
          ],
          "contourcarpet": [
           {
            "colorbar": {
             "outlinewidth": 0,
             "ticks": ""
            },
            "type": "contourcarpet"
           }
          ],
          "heatmap": [
           {
            "colorbar": {
             "outlinewidth": 0,
             "ticks": ""
            },
            "colorscale": [
             [
              0,
              "#0d0887"
             ],
             [
              0.1111111111111111,
              "#46039f"
             ],
             [
              0.2222222222222222,
              "#7201a8"
             ],
             [
              0.3333333333333333,
              "#9c179e"
             ],
             [
              0.4444444444444444,
              "#bd3786"
             ],
             [
              0.5555555555555556,
              "#d8576b"
             ],
             [
              0.6666666666666666,
              "#ed7953"
             ],
             [
              0.7777777777777778,
              "#fb9f3a"
             ],
             [
              0.8888888888888888,
              "#fdca26"
             ],
             [
              1,
              "#f0f921"
             ]
            ],
            "type": "heatmap"
           }
          ],
          "heatmapgl": [
           {
            "colorbar": {
             "outlinewidth": 0,
             "ticks": ""
            },
            "colorscale": [
             [
              0,
              "#0d0887"
             ],
             [
              0.1111111111111111,
              "#46039f"
             ],
             [
              0.2222222222222222,
              "#7201a8"
             ],
             [
              0.3333333333333333,
              "#9c179e"
             ],
             [
              0.4444444444444444,
              "#bd3786"
             ],
             [
              0.5555555555555556,
              "#d8576b"
             ],
             [
              0.6666666666666666,
              "#ed7953"
             ],
             [
              0.7777777777777778,
              "#fb9f3a"
             ],
             [
              0.8888888888888888,
              "#fdca26"
             ],
             [
              1,
              "#f0f921"
             ]
            ],
            "type": "heatmapgl"
           }
          ],
          "histogram": [
           {
            "marker": {
             "pattern": {
              "fillmode": "overlay",
              "size": 10,
              "solidity": 0.2
             }
            },
            "type": "histogram"
           }
          ],
          "histogram2d": [
           {
            "colorbar": {
             "outlinewidth": 0,
             "ticks": ""
            },
            "colorscale": [
             [
              0,
              "#0d0887"
             ],
             [
              0.1111111111111111,
              "#46039f"
             ],
             [
              0.2222222222222222,
              "#7201a8"
             ],
             [
              0.3333333333333333,
              "#9c179e"
             ],
             [
              0.4444444444444444,
              "#bd3786"
             ],
             [
              0.5555555555555556,
              "#d8576b"
             ],
             [
              0.6666666666666666,
              "#ed7953"
             ],
             [
              0.7777777777777778,
              "#fb9f3a"
             ],
             [
              0.8888888888888888,
              "#fdca26"
             ],
             [
              1,
              "#f0f921"
             ]
            ],
            "type": "histogram2d"
           }
          ],
          "histogram2dcontour": [
           {
            "colorbar": {
             "outlinewidth": 0,
             "ticks": ""
            },
            "colorscale": [
             [
              0,
              "#0d0887"
             ],
             [
              0.1111111111111111,
              "#46039f"
             ],
             [
              0.2222222222222222,
              "#7201a8"
             ],
             [
              0.3333333333333333,
              "#9c179e"
             ],
             [
              0.4444444444444444,
              "#bd3786"
             ],
             [
              0.5555555555555556,
              "#d8576b"
             ],
             [
              0.6666666666666666,
              "#ed7953"
             ],
             [
              0.7777777777777778,
              "#fb9f3a"
             ],
             [
              0.8888888888888888,
              "#fdca26"
             ],
             [
              1,
              "#f0f921"
             ]
            ],
            "type": "histogram2dcontour"
           }
          ],
          "mesh3d": [
           {
            "colorbar": {
             "outlinewidth": 0,
             "ticks": ""
            },
            "type": "mesh3d"
           }
          ],
          "parcoords": [
           {
            "line": {
             "colorbar": {
              "outlinewidth": 0,
              "ticks": ""
             }
            },
            "type": "parcoords"
           }
          ],
          "pie": [
           {
            "automargin": true,
            "type": "pie"
           }
          ],
          "scatter": [
           {
            "fillpattern": {
             "fillmode": "overlay",
             "size": 10,
             "solidity": 0.2
            },
            "type": "scatter"
           }
          ],
          "scatter3d": [
           {
            "line": {
             "colorbar": {
              "outlinewidth": 0,
              "ticks": ""
             }
            },
            "marker": {
             "colorbar": {
              "outlinewidth": 0,
              "ticks": ""
             }
            },
            "type": "scatter3d"
           }
          ],
          "scattercarpet": [
           {
            "marker": {
             "colorbar": {
              "outlinewidth": 0,
              "ticks": ""
             }
            },
            "type": "scattercarpet"
           }
          ],
          "scattergeo": [
           {
            "marker": {
             "colorbar": {
              "outlinewidth": 0,
              "ticks": ""
             }
            },
            "type": "scattergeo"
           }
          ],
          "scattergl": [
           {
            "marker": {
             "colorbar": {
              "outlinewidth": 0,
              "ticks": ""
             }
            },
            "type": "scattergl"
           }
          ],
          "scattermapbox": [
           {
            "marker": {
             "colorbar": {
              "outlinewidth": 0,
              "ticks": ""
             }
            },
            "type": "scattermapbox"
           }
          ],
          "scatterpolar": [
           {
            "marker": {
             "colorbar": {
              "outlinewidth": 0,
              "ticks": ""
             }
            },
            "type": "scatterpolar"
           }
          ],
          "scatterpolargl": [
           {
            "marker": {
             "colorbar": {
              "outlinewidth": 0,
              "ticks": ""
             }
            },
            "type": "scatterpolargl"
           }
          ],
          "scatterternary": [
           {
            "marker": {
             "colorbar": {
              "outlinewidth": 0,
              "ticks": ""
             }
            },
            "type": "scatterternary"
           }
          ],
          "surface": [
           {
            "colorbar": {
             "outlinewidth": 0,
             "ticks": ""
            },
            "colorscale": [
             [
              0,
              "#0d0887"
             ],
             [
              0.1111111111111111,
              "#46039f"
             ],
             [
              0.2222222222222222,
              "#7201a8"
             ],
             [
              0.3333333333333333,
              "#9c179e"
             ],
             [
              0.4444444444444444,
              "#bd3786"
             ],
             [
              0.5555555555555556,
              "#d8576b"
             ],
             [
              0.6666666666666666,
              "#ed7953"
             ],
             [
              0.7777777777777778,
              "#fb9f3a"
             ],
             [
              0.8888888888888888,
              "#fdca26"
             ],
             [
              1,
              "#f0f921"
             ]
            ],
            "type": "surface"
           }
          ],
          "table": [
           {
            "cells": {
             "fill": {
              "color": "#EBF0F8"
             },
             "line": {
              "color": "white"
             }
            },
            "header": {
             "fill": {
              "color": "#C8D4E3"
             },
             "line": {
              "color": "white"
             }
            },
            "type": "table"
           }
          ]
         },
         "layout": {
          "annotationdefaults": {
           "arrowcolor": "#2a3f5f",
           "arrowhead": 0,
           "arrowwidth": 1
          },
          "autotypenumbers": "strict",
          "coloraxis": {
           "colorbar": {
            "outlinewidth": 0,
            "ticks": ""
           }
          },
          "colorscale": {
           "diverging": [
            [
             0,
             "#8e0152"
            ],
            [
             0.1,
             "#c51b7d"
            ],
            [
             0.2,
             "#de77ae"
            ],
            [
             0.3,
             "#f1b6da"
            ],
            [
             0.4,
             "#fde0ef"
            ],
            [
             0.5,
             "#f7f7f7"
            ],
            [
             0.6,
             "#e6f5d0"
            ],
            [
             0.7,
             "#b8e186"
            ],
            [
             0.8,
             "#7fbc41"
            ],
            [
             0.9,
             "#4d9221"
            ],
            [
             1,
             "#276419"
            ]
           ],
           "sequential": [
            [
             0,
             "#0d0887"
            ],
            [
             0.1111111111111111,
             "#46039f"
            ],
            [
             0.2222222222222222,
             "#7201a8"
            ],
            [
             0.3333333333333333,
             "#9c179e"
            ],
            [
             0.4444444444444444,
             "#bd3786"
            ],
            [
             0.5555555555555556,
             "#d8576b"
            ],
            [
             0.6666666666666666,
             "#ed7953"
            ],
            [
             0.7777777777777778,
             "#fb9f3a"
            ],
            [
             0.8888888888888888,
             "#fdca26"
            ],
            [
             1,
             "#f0f921"
            ]
           ],
           "sequentialminus": [
            [
             0,
             "#0d0887"
            ],
            [
             0.1111111111111111,
             "#46039f"
            ],
            [
             0.2222222222222222,
             "#7201a8"
            ],
            [
             0.3333333333333333,
             "#9c179e"
            ],
            [
             0.4444444444444444,
             "#bd3786"
            ],
            [
             0.5555555555555556,
             "#d8576b"
            ],
            [
             0.6666666666666666,
             "#ed7953"
            ],
            [
             0.7777777777777778,
             "#fb9f3a"
            ],
            [
             0.8888888888888888,
             "#fdca26"
            ],
            [
             1,
             "#f0f921"
            ]
           ]
          },
          "colorway": [
           "#636efa",
           "#EF553B",
           "#00cc96",
           "#ab63fa",
           "#FFA15A",
           "#19d3f3",
           "#FF6692",
           "#B6E880",
           "#FF97FF",
           "#FECB52"
          ],
          "font": {
           "color": "#2a3f5f"
          },
          "geo": {
           "bgcolor": "white",
           "lakecolor": "white",
           "landcolor": "#E5ECF6",
           "showlakes": true,
           "showland": true,
           "subunitcolor": "white"
          },
          "hoverlabel": {
           "align": "left"
          },
          "hovermode": "closest",
          "mapbox": {
           "style": "light"
          },
          "paper_bgcolor": "white",
          "plot_bgcolor": "#E5ECF6",
          "polar": {
           "angularaxis": {
            "gridcolor": "white",
            "linecolor": "white",
            "ticks": ""
           },
           "bgcolor": "#E5ECF6",
           "radialaxis": {
            "gridcolor": "white",
            "linecolor": "white",
            "ticks": ""
           }
          },
          "scene": {
           "xaxis": {
            "backgroundcolor": "#E5ECF6",
            "gridcolor": "white",
            "gridwidth": 2,
            "linecolor": "white",
            "showbackground": true,
            "ticks": "",
            "zerolinecolor": "white"
           },
           "yaxis": {
            "backgroundcolor": "#E5ECF6",
            "gridcolor": "white",
            "gridwidth": 2,
            "linecolor": "white",
            "showbackground": true,
            "ticks": "",
            "zerolinecolor": "white"
           },
           "zaxis": {
            "backgroundcolor": "#E5ECF6",
            "gridcolor": "white",
            "gridwidth": 2,
            "linecolor": "white",
            "showbackground": true,
            "ticks": "",
            "zerolinecolor": "white"
           }
          },
          "shapedefaults": {
           "line": {
            "color": "#2a3f5f"
           }
          },
          "ternary": {
           "aaxis": {
            "gridcolor": "white",
            "linecolor": "white",
            "ticks": ""
           },
           "baxis": {
            "gridcolor": "white",
            "linecolor": "white",
            "ticks": ""
           },
           "bgcolor": "#E5ECF6",
           "caxis": {
            "gridcolor": "white",
            "linecolor": "white",
            "ticks": ""
           }
          },
          "title": {
           "x": 0.05
          },
          "xaxis": {
           "automargin": true,
           "gridcolor": "white",
           "linecolor": "white",
           "ticks": "",
           "title": {
            "standoff": 15
           },
           "zerolinecolor": "white",
           "zerolinewidth": 2
          },
          "yaxis": {
           "automargin": true,
           "gridcolor": "white",
           "linecolor": "white",
           "ticks": "",
           "title": {
            "standoff": 15
           },
           "zerolinecolor": "white",
           "zerolinewidth": 2
          }
         }
        },
        "title": {
         "text": "Elbow Method for PCA Analysis"
        },
        "xaxis": {
         "tickmode": "linear",
         "title": {
          "text": "Number of Principal Components"
         }
        },
        "yaxis": {
         "tickformat": ".0%",
         "title": {
          "text": "Cumulative Variance Explained"
         }
        }
       }
      }
     },
     "metadata": {},
     "output_type": "display_data"
    }
   ],
   "source": [
    "import plotly.graph_objects as go\n",
    "from sklearn.decomposition import PCA\n",
    "import numpy as np\n",
    "\n",
    "\n",
    "pca = PCA()\n",
    "pca.fit(df_fundamentals_numeric_cols)\n",
    "variance_explained = pca.explained_variance_ratio_\n",
    "cumulative_variance = np.cumsum(variance_explained)\n",
    "\n",
    "\n",
    "fig = go.Figure()\n",
    "fig.add_trace(go.Scatter(\n",
    "    x=np.arange(1, len(variance_explained) + 1),\n",
    "    y=cumulative_variance,\n",
    "    mode='lines+markers',\n",
    "    name='Cumulative Variance Explained'\n",
    "))\n",
    "\n",
    "\n",
    "fig.update_layout(\n",
    "    title='Elbow Method for PCA Analysis',\n",
    "    xaxis_title='Number of Principal Components',\n",
    "    yaxis_title='Cumulative Variance Explained',\n",
    "    xaxis=dict(tickmode='linear'),\n",
    "    yaxis=dict(tickformat='.0%')\n",
    ")\n",
    "\n",
    "\n",
    "fig.show()\n"
   ]
  },
  {
   "cell_type": "code",
   "execution_count": null,
   "metadata": {},
   "outputs": [],
   "source": []
  },
  {
   "cell_type": "code",
   "execution_count": 76,
   "metadata": {},
   "outputs": [
    {
     "data": {
      "image/png": "[encoded data removed]",
      "text/plain": [
       "<Figure size 640x480 with 1 Axes>"
      ]
     },
     "metadata": {},
     "output_type": "display_data"
    }
   ],
   "source": [
    "import pandas as pd\n",
    "from sklearn.preprocessing import StandardScaler\n",
    "from sklearn.decomposition import PCA\n",
    "from sklearn.cluster import KMeans\n",
    "from sklearn.metrics import silhouette_score\n",
    "import matplotlib.pyplot as plt\n",
    "\n",
    "# Carregar os dados\n",
    "# df = pd.read_csv('seu_arquivo.csv')\n",
    "\n",
    "# Pré-processamento e PCA\n",
    "scaler = StandardScaler()\n",
    "df_scaled = scaler.fit_transform(df_fundamentals_numeric_cols)\n",
    "pca = PCA(n_components=5)\n",
    "principal_components = pca.fit_transform(df_scaled)\n",
    "\n",
    "# Determinar o número ótimo de clusters\n",
    "range_n_clusters = list(range(2, 10))\n",
    "silhouette_avg = []\n",
    "for num_clusters in range_n_clusters:\n",
    "    kmeans = KMeans(n_clusters=num_clusters, random_state=10)\n",
    "    cluster_labels = kmeans.fit_predict(principal_components)\n",
    "    silhouette_avg.append(silhouette_score(principal_components, cluster_labels))\n",
    "\n",
    "# Plotar o gráfico do método do cotovelo\n",
    "plt.plot(range_n_clusters, silhouette_avg, 'bx-')\n",
    "plt.xlabel('Número de clusters')\n",
    "plt.ylabel('Pontuação de Silhueta')\n",
    "plt.title('Método do Cotovelo para Definir o Número Ótimo de Clusters')\n",
    "plt.show()\n",
    "\n",
    "# Escolher o número de clusters com a maior pontuação de silhueta\n",
    "optimal_num_clusters = range_n_clusters[silhouette_avg.index(max(silhouette_avg))]\n",
    "\n",
    "# Clustering final com o número ótimo de clusters\n",
    "kmeans = KMeans(n_clusters=optimal_num_clusters, random_state=10)\n",
    "clusters = kmeans.fit_predict(principal_components)\n",
    "\n",
    "# Adicionar os labels do cluster ao DataFrame original para análise\n",
    "df_fundamentals_numeric_cols['Cluster'] = clusters\n",
    "\n",
    "# Aqui você poderia analisar as médias dos indicadores financeiros por cluster\n",
    "# para determinar qual cluster pode ser o 'melhor' para investimento.\n"
   ]
  },
  {
   "cell_type": "code",
   "execution_count": 77,
   "metadata": {},
   "outputs": [
    {
     "name": "stdout",
     "output_type": "stream",
     "text": [
      "Cluster\n",
      "0    2.087181e+09\n",
      "1    0.000000e+00\n",
      "2   -9.131000e+06\n",
      "3    2.910870e+11\n",
      "Name: ebitda, dtype: float64\n"
     ]
    }
   ],
   "source": [
    "import pandas as pd\n",
    "from sklearn.preprocessing import StandardScaler\n",
    "from sklearn.decomposition import PCA\n",
    "from sklearn.cluster import KMeans\n",
    "\n",
    "# Carregar os dados\n",
    "# df = pd.read_csv('seu_arquivo.csv')\n",
    "\n",
    "# Pré-processamento e PCA\n",
    "scaler = StandardScaler()\n",
    "df_scaled = scaler.fit_transform(df_fundamentals_numeric_cols)\n",
    "pca = PCA(n_components=5)\n",
    "principal_components = pca.fit_transform(df_scaled)\n",
    "\n",
    "# Clustering com K-means\n",
    "kmeans = KMeans(n_clusters=4, random_state=42)\n",
    "clusters = kmeans.fit_predict(principal_components)\n",
    "\n",
    "# Adicionar os labels do cluster ao DataFrame original para análise\n",
    "df_fundamentals_numeric_cols['Cluster'] = clusters\n",
    "\n",
    "# Análise dos Clusters\n",
    "# Você pode agora analisar as propriedades estatísticas dos clusters, como as médias ou medianas\n",
    "# de variáveis financeiras importantes, para entender as características de cada cluster.\n",
    "# Isso pode incluir a análise de métricas como retorno sobre o investimento, crescimento da receita,\n",
    "# estabilidade financeira, etc.\n",
    "\n",
    "# Por exemplo, para ver a média do EBITDA por cluster:\n",
    "cluster_analysis = df_fundamentals_numeric_cols.groupby('Cluster')['ebitda'].mean()\n",
    "\n",
    "print(cluster_analysis)\n"
   ]
  },
  {
   "cell_type": "code",
   "execution_count": 78,
   "metadata": {},
   "outputs": [
    {
     "data": {
      "application/vnd.plotly.v1+json": {
       "config": {
        "plotlyServerURL": "https://plot.ly"
       },
       "data": [
        {
         "hovertemplate": "Componente Principal 1=%{x}<br>Componente Principal 2=%{y}<br>Componente Principal 3=%{z}<br>Cluster=%{marker.color}<extra></extra>",
         "legendgroup": "",
         "marker": {
          "color": [
           0,
           0,
           0,
           0,
           0,
           0,
           0,
           0,
           0,
           2,
           2,
           2,
           0,
           0,
           0,
           0,
           0,
           0,
           1,
           0,
           0,
           0,
           0,
           0,
           0,
           0,
           0,
           0,
           0,
           0,
           0,
           0,
           0,
           0,
           0,
           0,
           0,
           0,
           0,
           0,
           0,
           0,
           0,
           0,
           0,
           0,
           0,
           0,
           0,
           0,
           0,
           0,
           0,
           0,
           0,
           0,
           0,
           0,
           0,
           0,
           0,
           0,
           0,
           0,
           0,
           0,
           0,
           0,
           0,
           0,
           0,
           0,
           0,
           0,
           2,
           2,
           0,
           0,
           0,
           0,
           0,
           0,
           0,
           0,
           0,
           0,
           0,
           0,
           0,
           0,
           0,
           0,
           0,
           0,
           0,
           0,
           0,
           0,
           0,
           0,
           3,
           3,
           0,
           0,
           0,
           0,
           0,
           0,
           0,
           0,
           0,
           0,
           0,
           0,
           0,
           0,
           0,
           0,
           0,
           0,
           0,
           0,
           0,
           0,
           0,
           0,
           0,
           0,
           0,
           0,
           0,
           0,
           0,
           0,
           0,
           0,
           0,
           0,
           0,
           0,
           0,
           0,
           0,
           0,
           0,
           0,
           0,
           0,
           0,
           0,
           0,
           0,
           0,
           0,
           0,
           0,
           0,
           0,
           0,
           0,
           0,
           0,
           0,
           0,
           0,
           0,
           0,
           0,
           0,
           0,
           0,
           0,
           0,
           0,
           0,
           0,
           0,
           0,
           0,
           0,
           0,
           0,
           0,
           0,
           0,
           0,
           0,
           0,
           0,
           0,
           0,
           0,
           0,
           0,
           0,
           0,
           0,
           0,
           0,
           0,
           0,
           0,
           0,
           0,
           0,
           0,
           0,
           0,
           0,
           0,
           0,
           0,
           0,
           0,
           0,
           0,
           0,
           0,
           0,
           0,
           0,
           0,
           0,
           0,
           0,
           0,
           0,
           0,
           0,
           0,
           0,
           0,
           0,
           0,
           0,
           0,
           0,
           0,
           0,
           0,
           0,
           0,
           0,
           0,
           0,
           0,
           0,
           0,
           0,
           0,
           0,
           0,
           0,
           0,
           0,
           0,
           0,
           0,
           0,
           0,
           0,
           0,
           0,
           0,
           0,
           0,
           0,
           0,
           0,
           0,
           0,
           0,
           0,
           0,
           2,
           0,
           0,
           0,
           0,
           2,
           0,
           0,
           0,
           0,
           0,
           0,
           2,
           0,
           0,
           0,
           0
          ],
          "coloraxis": "coloraxis",
          "symbol": "circle"
         },
         "mode": "markers",
         "name": "",
         "scene": "scene",
         "showlegend": false,
         "type": "scatter3d",
         "x": [
          -0.3456409530281395,
          -0.5411371272009377,
          0.15662280877695706,
          -0.8877885767990464,
          -0.7613705453011976,
          -0.7501541517187624,
          -0.9816519731361216,
          2.755443989516426,
          -0.5064114042259721,
          12.67819408183211,
          10.217555400010832,
          10.892585071614624,
          -0.11723907082268986,
          -0.5558720146817357,
          0.5310492005703309,
          -0.9054129978660762,
          0.2651614127321326,
          0.353460252153594,
          5.8699194329912485,
          -0.4409684269385857,
          -0.5515649595086475,
          -0.682614832642399,
          0.9650571179059032,
          0.12678489311395136,
          -0.9163488111948551,
          -0.8027578512615873,
          0.05203921669995709,
          -0.6080374984652248,
          0.3039865581869192,
          -0.006307733081338861,
          0.13501649723433476,
          -0.608767755793605,
          0.5396803593048877,
          -0.1749802114173077,
          0.15045096763983973,
          0.7542216224890226,
          -0.47037193314130993,
          0.49582064660798225,
          -0.9895262926549981,
          -0.5773999760151431,
          -0.62351364647804,
          -0.7080892866468544,
          -0.6136448027487185,
          1.3149601118424523,
          1.2317823522429616,
          -0.30080481272042126,
          -0.0346639058410818,
          0.4336425529507938,
          -0.6517786838336629,
          -0.9183071831232763,
          -0.9133552926486623,
          -0.8561524817894219,
          -0.7868703307431377,
          -0.6023127493467777,
          -1.1361189088370418,
          -0.7641256321078002,
          -0.6998178750262097,
          -0.7886264969307148,
          -0.8236114926035648,
          0.8096370736399029,
          0.9723027591989509,
          0.4999719988606274,
          0.6334463112991511,
          -0.16249444271877195,
          -0.31682123195465683,
          -0.9354541774926748,
          -0.9121403344985181,
          -0.0033633115869317683,
          -0.2537166400846947,
          -0.9781679085577354,
          -1.092105877322831,
          -1.0965569841492535,
          0.23740450040768035,
          0.6170987688392217,
          14.550209389219498,
          15.201881397919776,
          2.9561920297156763,
          -0.9889100949904126,
          -0.7085265302224026,
          -0.7391408819473477,
          -0.5857597537215483,
          0.44152067151187946,
          -0.4336404569959256,
          -0.7545481520745877,
          -0.6825552811474891,
          -1.0085364829176924,
          -0.0959155998592159,
          -1.0097214792264124,
          -0.6211282385706525,
          -0.8839620463785722,
          2.4978248251532156,
          -0.8475910691470186,
          -0.4183014140551482,
          0.9643920030385709,
          -0.5468373122444434,
          -0.5178688791239416,
          -0.5938541259521138,
          -0.6413130353492568,
          -1.2413881097667778,
          -1.1580390313290336,
          20.420252697262935,
          21.199323143153993,
          -0.8613016191122982,
          -1.0989101107330752,
          -0.9643363443811432,
          -1.0561305480737846,
          -0.7348567468120029,
          -0.6293210522531084,
          -0.6211030280524666,
          -0.3622838999640351,
          -0.9481431861070743,
          -0.8956274548385429,
          -0.768717474650173,
          -0.7991198745150038,
          -0.6083789215132847,
          -0.5688681672560192,
          -0.8478251778334223,
          0.5487614365717445,
          -1.1435365070001917,
          -1.0662255982463609,
          0.21796734280240182,
          -1.1071306098701381,
          -0.9954685509131059,
          -1.0069407436112976,
          -0.2978608263101956,
          -1.0544655191260517,
          -0.3549528942756567,
          0.21928686858620686,
          -1.1152904213464934,
          -0.9176344412275796,
          -1.5428086152481737,
          -0.6364793556272327,
          -0.5424497271967714,
          -0.8353048554805169,
          -0.9017978231817783,
          -0.3528656919011725,
          0.4040180901890631,
          0.27463798812281187,
          0.27135156096708346,
          -0.4298354873955396,
          -0.21315050978049302,
          6.546336462037532,
          -1.0159718994711033,
          0.9082296560893185,
          -0.7667235104625117,
          1.165731297372712,
          -0.4696136268982781,
          -0.688194759509601,
          -0.6038662187285218,
          -0.5686909742666745,
          -0.5566098912981889,
          -0.7854528723399496,
          -0.39966131939785116,
          -0.023665094623855198,
          -0.8102039607031609,
          -0.6881124264526212,
          0.48603425448443804,
          -0.9138291887215226,
          -0.6076683455906211,
          -0.9758348949797937,
          -1.1457527302616706,
          -0.9631988442690398,
          -0.3257649605757503,
          -0.7902132909983095,
          -0.6190832683495362,
          -0.866974273087304,
          -0.7108390798414221,
          -0.9110865111949639,
          -0.8261180517859646,
          -0.8861252344165813,
          -0.6771036233049954,
          -0.6312173546826687,
          -0.7778272207501185,
          -1.9783922808458008,
          -0.49247187367877526,
          -1.0586732062000437,
          -1.1096991213133793,
          -1.0397533358334228,
          -1.0169321829719713,
          -0.6800638531214,
          -1.1971648696655566,
          -0.6474153625553236,
          -0.6560400840657171,
          -0.7547059953823534,
          -0.8062430832697604,
          -0.809345777177816,
          -0.7521515907368914,
          -0.7157367466588102,
          2.2325595697823633,
          0.24844516541240874,
          -0.907456076836219,
          -0.4738727777772296,
          -0.4741364933621622,
          -0.774452538852996,
          -0.7795428892498485,
          -0.09620478307567672,
          -0.11380436742951801,
          -0.03258350244825415,
          -0.7827204206053803,
          -0.3425606982661261,
          -0.3363340934801031,
          -0.5691226574455396,
          -0.9480025811508664,
          -0.9682107800563475,
          -1.19713616248988,
          -1.2001691327136261,
          -1.014042646908145,
          -0.9295058867000734,
          -0.9069384515611133,
          -0.3720906694987936,
          -0.686317376167364,
          -0.006754855239090315,
          -0.2798500904843988,
          -1.0246111609184196,
          -0.5659314609592428,
          -0.876269270797575,
          -0.8545157947136811,
          -1.4693402445861248,
          -0.7309022906651974,
          -0.7108261905674709,
          0.4008847665642046,
          -0.8100139963897711,
          -0.9364190623814054,
          -0.49934588284817877,
          -0.9882948845392783,
          -0.8255591047663987,
          -0.9262988766190691,
          -0.5245368274941788,
          -1.0277504737213177,
          -0.9351146228892107,
          -0.3157913182246226,
          -1.1084270343993807,
          -1.1128380292899605,
          -0.6750528274134099,
          -0.6764510805539317,
          -1.0408927398898629,
          -0.39463331307351995,
          -0.3921062830647758,
          -0.8821463045764614,
          -0.3981557309822502,
          0.2843690521160792,
          -0.4693655079750566,
          -0.7542420467234895,
          -0.8253773017786095,
          -0.9413365744198733,
          -0.9003254496347772,
          -0.7338603596030088,
          -0.6947076921973868,
          -0.9039026257233383,
          -0.9176737955303097,
          -0.766585404173816,
          -1.1090223481768788,
          -0.48386797084764355,
          -0.8442648356261856,
          -0.8438270989263132,
          -0.2679939508360792,
          -0.8898690136391161,
          -0.8835277684233317,
          -0.6219384943999535,
          -0.665921087283808,
          -0.7131147373549513,
          1.688318682012938,
          0.36493659349727386,
          -0.9577935187624237,
          -0.9595371008738858,
          1.2177545779324088,
          -0.2170096743486404,
          -0.24959537653750422,
          -0.2499369533119704,
          -0.7976964898161392,
          -0.2155013144860761,
          -1.1393606792696627,
          -0.9489701314649471,
          -1.0120757843019907,
          5.782259537879593,
          -0.9041272435927727,
          -0.99380164312432,
          -0.795936594900912,
          -0.9447677289740103,
          5.6757595596423505,
          -0.8315595541508899,
          -0.42474744715745233,
          -0.285295838520216,
          -0.8107811520766757,
          -0.9204365337383658,
          -0.5978531418213092,
          10.217673148470984,
          -0.44052317280087355,
          -0.6986374419696402,
          -0.7732069885274756,
          -0.45450528426576775
         ],
         "y": [
          0.06387584469399304,
          0.14954223020842192,
          -0.3310358321192776,
          -0.26982124220517545,
          -0.3847618490910398,
          -0.19581995339687816,
          -0.7195716543465733,
          -0.8406411935639689,
          1.1221005152691887,
          -1.646189708229202,
          -2.0469267473676984,
          -2.3394074284315014,
          -0.39737539144815137,
          -0.6527748117402594,
          -1.0640969122381554,
          0.01554734967501377,
          -0.2776590559947288,
          -0.3935198272180962,
          33.95099972500521,
          -0.05201722517593276,
          -1.0632099663095007,
          -0.9597437342464843,
          -0.5143362677486384,
          -0.4357047484197449,
          -0.20457112481634476,
          0.2205295006262611,
          2.7903271837978356,
          0.4643790549009486,
          -0.7769296414771097,
          -0.38949706633794134,
          -0.5871619309646294,
          0.5752786499365701,
          0.21949325899627217,
          -0.4723335190928315,
          -0.6565793570846318,
          -0.5764269340611653,
          -0.04772641338444045,
          -0.5915148276544686,
          -0.6057553704196559,
          -0.24226167707163493,
          -0.3849576070007907,
          -0.1087500257640175,
          -0.5709203229445424,
          0.08103758480187291,
          0.20234419709150592,
          -0.40972401470037884,
          -0.4643357081163129,
          -0.12130490930013163,
          -0.2874397881884864,
          -0.47959242158256654,
          -0.3674301885400912,
          -0.5383079710523897,
          -0.12644358335414219,
          0.7556971838468586,
          -0.7621196576594591,
          -0.171633165877125,
          -0.3194357587156031,
          0.40966945322435766,
          -0.7740539835164794,
          -0.09749269068655267,
          -0.1361709500422199,
          -0.41388743471766604,
          -0.4906911136891307,
          -0.8896674681746128,
          -0.1808892188161221,
          -0.03937850694715224,
          -0.6319526008104753,
          0.22265226963260507,
          0.5076403204710627,
          -0.5668575767370775,
          -0.5287409765935327,
          -0.5519611428516347,
          -0.3150937679073737,
          -0.5104402725025938,
          -2.6736919666447236,
          -2.88048477427766,
          -0.7870892421623906,
          -0.6875203511719084,
          -0.3618967646767298,
          -0.5020744524393572,
          -0.10150636877448799,
          -0.29847261149643606,
          0.46668391900780787,
          -0.8382725946791394,
          0.35685713264264535,
          -0.2729406828856544,
          -0.22830918991502724,
          -0.5711072322582157,
          0.1978898484927515,
          -0.2851182630680625,
          -2.270353141773352,
          -0.25046844682144054,
          -0.5601473196982266,
          -0.7012850312120119,
          -0.6014206428994323,
          0.18205986116723746,
          -0.24974103610375586,
          -0.09484561325770086,
          -1.884367122470353,
          -1.7001998323060838,
          -1.3665471065588766,
          -1.8225909521553656,
          -0.5335907408443101,
          -1.1994191768089575,
          -0.5120171756381442,
          -0.9392574291766771,
          -0.48298657169427006,
          -0.5597113972973827,
          -0.32426705791834304,
          -0.010996303455129726,
          -0.47099426647953696,
          -0.25343479094498733,
          -0.09187758084690038,
          -0.3194841200579556,
          -0.36959251205513344,
          -0.38741600759496686,
          -0.5058936159947842,
          0.385908979817275,
          -0.7485596360774107,
          -0.7861197995036914,
          0.6385189717189099,
          -0.7219502322736232,
          -0.8385744204423872,
          -0.6986519561593153,
          0.5877782179561176,
          -0.3324043581921356,
          0.21365696287518582,
          0.6326802111160936,
          -0.8050869012252384,
          -0.49991291913546376,
          -3.709699187993533,
          0.023399337538996295,
          0.1040960875442869,
          -0.5077993634693049,
          -0.5034245971173475,
          0.19709133812161916,
          -0.5687860581935388,
          1.8356363140092806,
          1.937418603003798,
          -0.556246996402414,
          -0.6627890773372929,
          0.053391079817417,
          -0.5500929114265094,
          0.3956967380022315,
          -0.20565263468493383,
          -0.06698004097766032,
          0.12306798008894158,
          -0.3218743219204822,
          0.4480613373237306,
          0.9392278380387992,
          0.785131859925012,
          -0.1490300712125046,
          -0.7663447013212283,
          -0.13688063668166986,
          -0.39545426129751027,
          -0.5752340638661275,
          0.5988137950477012,
          -0.45675794572073514,
          0.04627796040558391,
          -0.08995077567314338,
          -0.6290535289359312,
          -0.46958928640963216,
          1.5246684730885143,
          -0.24945449004013015,
          0.35753289827484974,
          0.04448511905141752,
          -0.447741446851433,
          -0.6630248263626336,
          -0.4715981865582628,
          -0.32879591838746747,
          -0.09903414453786012,
          -0.3249253278836478,
          0.14129479147082552,
          -1.1920060660570773,
          0.006521248017571679,
          -0.8678524749290436,
          -0.9564415547279357,
          -0.39778844522989365,
          -0.19797141507746685,
          1.112552886546977,
          -0.8578276636186426,
          -0.40545748608511706,
          -0.3809976556104821,
          0.6576663136693799,
          -0.16879410071836995,
          -0.1951004893089727,
          -0.0349680133550552,
          -0.1658571528543805,
          11.243305523318076,
          2.3115665441556885,
          -0.49029033585977344,
          0.6564562000312886,
          0.6544229897441055,
          -0.35329359612204103,
          -0.2325150057356183,
          0.65717875332463,
          0.7115159946760199,
          2.6075476975772,
          0.12876422241045304,
          0.5384713643269844,
          0.47151561465885666,
          0.20912376056242157,
          -0.30547504538023584,
          -0.4814309928190834,
          -0.047266410969838454,
          -0.06831068082644444,
          -0.39777090786191555,
          -0.3718207934585106,
          -0.3521097999720808,
          0.5337511222723322,
          0.8061266016022005,
          -0.3402361893496383,
          1.0920124407190772,
          -0.29139291372747894,
          1.0720387475059392,
          -0.4041022289256364,
          0.7259602734260713,
          -0.5385901921799866,
          0.4687572797870251,
          0.7871080214785979,
          -0.27322688487584473,
          0.6514939095564694,
          -0.23165015399045177,
          0.8161224493934045,
          -0.3559462593319245,
          1.4374510238613678,
          -0.23373168601227684,
          -0.16365602538543117,
          -0.57031555194974,
          -0.6535684498368288,
          -0.21596015668189683,
          0.5779320555850359,
          0.5557035378244014,
          0.072101881846887,
          0.15214198415054525,
          -0.267278157738085,
          0.974850686230181,
          0.9607391828138074,
          -0.5219945517529535,
          0.41262041811030875,
          2.1704959485766544,
          -0.35967967666840994,
          -0.12231695649233461,
          -0.4687143478873083,
          -0.45701208438138213,
          -0.13661648762700968,
          0.7698501131674741,
          0.1424852085737567,
          -0.13495193097819472,
          1.4127236921228368,
          0.48918720198303717,
          0.5738768524048249,
          -0.40709359367927045,
          0.3062839763502148,
          0.3064335084312186,
          -0.8512909693058593,
          -0.5621245060990919,
          0.0877971760532048,
          0.3354979248965462,
          -0.3068640709198842,
          -0.331655162694886,
          0.15573276731303953,
          -0.300492689989591,
          -0.4841623380173218,
          0.9113614746086403,
          -1.4675869139096611,
          0.21491758619754023,
          0.07723202785342263,
          0.07711051476301174,
          0.21300758157747862,
          0.21521863046925838,
          -0.9421875909451559,
          -0.09036528452769249,
          -0.18326288197414645,
          -1.0952939304280147,
          -0.3448745481267415,
          -0.47439659662882827,
          0.3080811096733574,
          0.6694740832797236,
          -1.1994086622684392,
          -0.020139212090468334,
          7.239922008176423,
          1.0940973159416185,
          0.020212312974612477,
          -0.5377689907680657,
          1.292683942981528,
          -2.0469934776131713,
          -0.2418523186443472,
          0.07635579199704921,
          -0.7347558804046654,
          -0.6432341166580896
         ],
         "z": [
          0.4693604803658785,
          -1.2672300204353781,
          -1.131146008829412,
          0.5826534264983423,
          0.25935746857833675,
          -1.3664326683818573,
          1.635347711437935,
          -1.77491497282236,
          -0.6646823785868431,
          3.1139672558232006,
          4.006268362224313,
          3.4939670865448487,
          -0.19020645058435112,
          0.6190088341138779,
          0.06302522706241699,
          -0.38418484793726826,
          1.2969249063485182,
          1.0056115314779548,
          4.629295817891105,
          1.013844801834224,
          1.5587865198693653,
          1.6499979547542987,
          -1.8094994158009525,
          -0.6816901129684069,
          -0.14416471019104396,
          0.2663962441096676,
          -1.4920171558244488,
          -0.5312152429012634,
          -0.9610430862071188,
          -2.0627148365755597,
          -2.2156728230728984,
          0.012200617412682661,
          -1.0353988870447075,
          -0.026705980593777427,
          -0.4299215592917412,
          0.10496824925337866,
          -0.8215908295705849,
          -0.17034623870120272,
          1.7503463218354702,
          -0.0722617034727788,
          0.10435789291888484,
          -0.4482979889918082,
          -0.3422452231608138,
          -0.7468508370826624,
          -0.6926781652842083,
          0.6267538749344812,
          -0.01969999753165475,
          -0.42790434181170206,
          -0.630632548003882,
          0.5769248638745637,
          0.3560649139719775,
          0.2569550431856756,
          0.1610207486214735,
          -0.37131252475697324,
          3.2478621437707234,
          -0.43989274961227764,
          -0.34473946980929265,
          0.4332322918032243,
          0.7602298288742699,
          -1.1755696098311026,
          -1.270648158426634,
          -0.9995857109874515,
          -1.1793284908935775,
          -0.045976224677793845,
          -1.1594371262213776,
          0.3705873064613199,
          0.2884842087953175,
          -1.1222455135605538,
          -1.051340271690695,
          0.8372989031322978,
          2.729353725223405,
          2.738618383853902,
          -0.039764527673856055,
          -0.38582439887094316,
          5.4696842332761015,
          5.010609566075654,
          -0.5593989424992772,
          0.9521220216741745,
          -0.15842194273618354,
          -0.578620241473403,
          -1.347050532801369,
          -1.2759614707871074,
          -1.2648994376259561,
          1.18517413482842,
          -0.48386930505294934,
          -0.5675119512307847,
          -0.6921597013163847,
          1.4616199292697618,
          -0.10224176477459977,
          0.46142089579045853,
          -1.8233608002231187,
          -0.845920713985515,
          -0.5365551463331386,
          1.0206505303402118,
          0.40090507684219445,
          -1.348450745629032,
          0.5821451773616548,
          -1.8944352706736014,
          -0.01882714285301591,
          0.6210670867966601,
          -6.114115289896934,
          -6.782412122628861,
          0.7434987987486354,
          -0.9539593397791599,
          0.4877954062763876,
          3.1564271156971486,
          -0.227036092667802,
          -0.4456420864496557,
          -0.007497956052521658,
          -0.12902522456694926,
          -0.06679744668228353,
          -0.4140714378932815,
          -0.2180569396154451,
          -0.21133594444431697,
          -0.025242916304710386,
          -0.15092715453629502,
          0.28872557021380524,
          -0.9292200873269042,
          0.8320533347626335,
          2.0261893150947423,
          -0.6865184344909493,
          -3.103742589535773,
          1.9968080350485364,
          0.17142394239951794,
          -0.888379858107555,
          1.6993135364426972,
          -0.3165480734692831,
          -1.2930313008918823,
          0.30052302033686584,
          -0.008880272382661817,
          1.2306465817802459,
          -0.8844930033056112,
          -0.8159497285335295,
          1.0940413992392442,
          -0.061009374954672214,
          -0.7942263200644536,
          0.2640297440202974,
          -1.917048115366661,
          -1.8794228866324623,
          0.4257523870956029,
          0.26667061623037097,
          -2.616670710396878,
          1.7656396252989586,
          -1.1322627022367826,
          -0.5490076495544584,
          -1.6997691010901976,
          1.062260297501169,
          -0.6148984404386302,
          -0.5389397011017674,
          -0.4215355539134225,
          -0.025000195346820367,
          -0.3192658019780557,
          -0.27364049013327557,
          -1.01137628778671,
          -0.0979632955702868,
          0.01960305424225771,
          -3.6193834356876247,
          0.05917945454768369,
          -0.03365183865009237,
          -1.4391007622737337,
          1.7233707379905756,
          0.420877478304344,
          -0.058817077632128116,
          -0.5547577126755213,
          -1.1610892943315938,
          -0.5986078149074668,
          0.12068244357540327,
          1.2293841018748886,
          0.4235811846822576,
          -0.32474965140480844,
          -0.7999565287909536,
          -0.7742495576351757,
          -2.4893872192781603,
          14.503761550977883,
          1.1056174090703894,
          1.0545445324069909,
          1.773518164691032,
          0.7316193942534884,
          -0.026165958089571496,
          0.09006309059358795,
          1.4201906556636825,
          0.3946075793588014,
          0.4165854224069523,
          1.001432856719124,
          0.7740411519298793,
          0.8351176149706913,
          0.1774232740773608,
          0.10633850249707276,
          -3.10402881325401,
          0.240865947076093,
          -0.5183600741572277,
          0.758337607465845,
          0.7589084188279857,
          0.8729309330383709,
          0.33461220326939156,
          -0.9318749315943063,
          -0.863634391190637,
          -1.0710125229517071,
          -2.4592249787405973,
          -0.4500954673464204,
          -0.4830268239296833,
          -0.7344442890785756,
          0.23483441809323582,
          1.7343626219087263,
          3.503069481939644,
          3.5086813993919286,
          0.7790660721388524,
          0.6735770563179342,
          0.2131409627727234,
          -0.6509281386907902,
          0.08765711475885768,
          -0.06734732536869008,
          -0.8970513487073504,
          0.18664465609111433,
          -0.3056184346678938,
          -0.6917682672419256,
          -0.476919470219572,
          4.516231852934544,
          0.31236155761259177,
          0.24844950155080445,
          -1.2101192512452357,
          0.10073687948927357,
          0.0626737672389551,
          -0.6276222661663315,
          0.8429661480191583,
          -0.6380787109670745,
          0.2508433317426947,
          -1.1725433676737569,
          0.6044755811091121,
          0.6165434591591008,
          -0.8861770758479591,
          -1.1616047210561486,
          -1.151838431528847,
          -0.08945524898626774,
          -0.10410451269554055,
          1.6562163604583877,
          -1.9852356932183168,
          -1.9989408881790578,
          1.180531891465482,
          -0.5844168902605441,
          -1.8938196337821092,
          0.2543759723716681,
          -0.7053935906831648,
          0.41990082013121327,
          0.46987862068453534,
          -0.18881332611513105,
          0.9660107906580223,
          -0.9969812855482076,
          -0.1595737621166309,
          -7.059564749221585,
          0.6729539036017457,
          -1.160061037800157,
          -0.3379204475048549,
          -0.8676779850785233,
          -0.867944849837757,
          0.3866323351054493,
          0.8819545402066952,
          2.9549670876278804,
          -1.1573424910045875,
          -0.717934656160897,
          0.18387087200670632,
          -2.6900598226585144,
          -0.26981063025171514,
          0.4754784924707625,
          -1.1664456813731694,
          -1.1083860958145322,
          -1.4052744997808797,
          -1.2642621829877276,
          -1.2629819351495437,
          -0.7420701689557584,
          -1.4117621671191631,
          1.7933465427515074,
          -1.0562820655566036,
          -0.06232282569168674,
          4.025669784172047,
          0.21352614381045887,
          0.3356546048009335,
          0.8066080070125781,
          -0.3737623151684883,
          4.195237183411546,
          -0.6606084298985019,
          3.087463826306049,
          -0.8779220589811011,
          -0.33524561515047874,
          1.2277470800895292,
          -1.5067791513395326,
          4.006180010889863,
          -0.8592170873233715,
          -0.9542291908675,
          -0.606142732403753,
          0.15761468032964382
         ]
        }
       ],
       "layout": {
        "coloraxis": {
         "colorbar": {
          "title": {
           "text": "Cluster"
          }
         },
         "colorscale": [
          [
           0,
           "#0d0887"
          ],
          [
           0.1111111111111111,
           "#46039f"
          ],
          [
           0.2222222222222222,
           "#7201a8"
          ],
          [
           0.3333333333333333,
           "#9c179e"
          ],
          [
           0.4444444444444444,
           "#bd3786"
          ],
          [
           0.5555555555555556,
           "#d8576b"
          ],
          [
           0.6666666666666666,
           "#ed7953"
          ],
          [
           0.7777777777777778,
           "#fb9f3a"
          ],
          [
           0.8888888888888888,
           "#fdca26"
          ],
          [
           1,
           "#f0f921"
          ]
         ]
        },
        "legend": {
         "tracegroupgap": 0
        },
        "scene": {
         "domain": {
          "x": [
           0,
           1
          ],
          "y": [
           0,
           1
          ]
         },
         "xaxis": {
          "title": {
           "text": "Componente Principal 1"
          }
         },
         "yaxis": {
          "title": {
           "text": "Componente Principal 2"
          }
         },
         "zaxis": {
          "title": {
           "text": "Componente Principal 3"
          }
         }
        },
        "template": {
         "data": {
          "bar": [
           {
            "error_x": {
             "color": "#2a3f5f"
            },
            "error_y": {
             "color": "#2a3f5f"
            },
            "marker": {
             "line": {
              "color": "#E5ECF6",
              "width": 0.5
             },
             "pattern": {
              "fillmode": "overlay",
              "size": 10,
              "solidity": 0.2
             }
            },
            "type": "bar"
           }
          ],
          "barpolar": [
           {
            "marker": {
             "line": {
              "color": "#E5ECF6",
              "width": 0.5
             },
             "pattern": {
              "fillmode": "overlay",
              "size": 10,
              "solidity": 0.2
             }
            },
            "type": "barpolar"
           }
          ],
          "carpet": [
           {
            "aaxis": {
             "endlinecolor": "#2a3f5f",
             "gridcolor": "white",
             "linecolor": "white",
             "minorgridcolor": "white",
             "startlinecolor": "#2a3f5f"
            },
            "baxis": {
             "endlinecolor": "#2a3f5f",
             "gridcolor": "white",
             "linecolor": "white",
             "minorgridcolor": "white",
             "startlinecolor": "#2a3f5f"
            },
            "type": "carpet"
           }
          ],
          "choropleth": [
           {
            "colorbar": {
             "outlinewidth": 0,
             "ticks": ""
            },
            "type": "choropleth"
           }
          ],
          "contour": [
           {
            "colorbar": {
             "outlinewidth": 0,
             "ticks": ""
            },
            "colorscale": [
             [
              0,
              "#0d0887"
             ],
             [
              0.1111111111111111,
              "#46039f"
             ],
             [
              0.2222222222222222,
              "#7201a8"
             ],
             [
              0.3333333333333333,
              "#9c179e"
             ],
             [
              0.4444444444444444,
              "#bd3786"
             ],
             [
              0.5555555555555556,
              "#d8576b"
             ],
             [
              0.6666666666666666,
              "#ed7953"
             ],
             [
              0.7777777777777778,
              "#fb9f3a"
             ],
             [
              0.8888888888888888,
              "#fdca26"
             ],
             [
              1,
              "#f0f921"
             ]
            ],
            "type": "contour"
           }
          ],
          "contourcarpet": [
           {
            "colorbar": {
             "outlinewidth": 0,
             "ticks": ""
            },
            "type": "contourcarpet"
           }
          ],
          "heatmap": [
           {
            "colorbar": {
             "outlinewidth": 0,
             "ticks": ""
            },
            "colorscale": [
             [
              0,
              "#0d0887"
             ],
             [
              0.1111111111111111,
              "#46039f"
             ],
             [
              0.2222222222222222,
              "#7201a8"
             ],
             [
              0.3333333333333333,
              "#9c179e"
             ],
             [
              0.4444444444444444,
              "#bd3786"
             ],
             [
              0.5555555555555556,
              "#d8576b"
             ],
             [
              0.6666666666666666,
              "#ed7953"
             ],
             [
              0.7777777777777778,
              "#fb9f3a"
             ],
             [
              0.8888888888888888,
              "#fdca26"
             ],
             [
              1,
              "#f0f921"
             ]
            ],
            "type": "heatmap"
           }
          ],
          "heatmapgl": [
           {
            "colorbar": {
             "outlinewidth": 0,
             "ticks": ""
            },
            "colorscale": [
             [
              0,
              "#0d0887"
             ],
             [
              0.1111111111111111,
              "#46039f"
             ],
             [
              0.2222222222222222,
              "#7201a8"
             ],
             [
              0.3333333333333333,
              "#9c179e"
             ],
             [
              0.4444444444444444,
              "#bd3786"
             ],
             [
              0.5555555555555556,
              "#d8576b"
             ],
             [
              0.6666666666666666,
              "#ed7953"
             ],
             [
              0.7777777777777778,
              "#fb9f3a"
             ],
             [
              0.8888888888888888,
              "#fdca26"
             ],
             [
              1,
              "#f0f921"
             ]
            ],
            "type": "heatmapgl"
           }
          ],
          "histogram": [
           {
            "marker": {
             "pattern": {
              "fillmode": "overlay",
              "size": 10,
              "solidity": 0.2
             }
            },
            "type": "histogram"
           }
          ],
          "histogram2d": [
           {
            "colorbar": {
             "outlinewidth": 0,
             "ticks": ""
            },
            "colorscale": [
             [
              0,
              "#0d0887"
             ],
             [
              0.1111111111111111,
              "#46039f"
             ],
             [
              0.2222222222222222,
              "#7201a8"
             ],
             [
              0.3333333333333333,
              "#9c179e"
             ],
             [
              0.4444444444444444,
              "#bd3786"
             ],
             [
              0.5555555555555556,
              "#d8576b"
             ],
             [
              0.6666666666666666,
              "#ed7953"
             ],
             [
              0.7777777777777778,
              "#fb9f3a"
             ],
             [
              0.8888888888888888,
              "#fdca26"
             ],
             [
              1,
              "#f0f921"
             ]
            ],
            "type": "histogram2d"
           }
          ],
          "histogram2dcontour": [
           {
            "colorbar": {
             "outlinewidth": 0,
             "ticks": ""
            },
            "colorscale": [
             [
              0,
              "#0d0887"
             ],
             [
              0.1111111111111111,
              "#46039f"
             ],
             [
              0.2222222222222222,
              "#7201a8"
             ],
             [
              0.3333333333333333,
              "#9c179e"
             ],
             [
              0.4444444444444444,
              "#bd3786"
             ],
             [
              0.5555555555555556,
              "#d8576b"
             ],
             [
              0.6666666666666666,
              "#ed7953"
             ],
             [
              0.7777777777777778,
              "#fb9f3a"
             ],
             [
              0.8888888888888888,
              "#fdca26"
             ],
             [
              1,
              "#f0f921"
             ]
            ],
            "type": "histogram2dcontour"
           }
          ],
          "mesh3d": [
           {
            "colorbar": {
             "outlinewidth": 0,
             "ticks": ""
            },
            "type": "mesh3d"
           }
          ],
          "parcoords": [
           {
            "line": {
             "colorbar": {
              "outlinewidth": 0,
              "ticks": ""
             }
            },
            "type": "parcoords"
           }
          ],
          "pie": [
           {
            "automargin": true,
            "type": "pie"
           }
          ],
          "scatter": [
           {
            "fillpattern": {
             "fillmode": "overlay",
             "size": 10,
             "solidity": 0.2
            },
            "type": "scatter"
           }
          ],
          "scatter3d": [
           {
            "line": {
             "colorbar": {
              "outlinewidth": 0,
              "ticks": ""
             }
            },
            "marker": {
             "colorbar": {
              "outlinewidth": 0,
              "ticks": ""
             }
            },
            "type": "scatter3d"
           }
          ],
          "scattercarpet": [
           {
            "marker": {
             "colorbar": {
              "outlinewidth": 0,
              "ticks": ""
             }
            },
            "type": "scattercarpet"
           }
          ],
          "scattergeo": [
           {
            "marker": {
             "colorbar": {
              "outlinewidth": 0,
              "ticks": ""
             }
            },
            "type": "scattergeo"
           }
          ],
          "scattergl": [
           {
            "marker": {
             "colorbar": {
              "outlinewidth": 0,
              "ticks": ""
             }
            },
            "type": "scattergl"
           }
          ],
          "scattermapbox": [
           {
            "marker": {
             "colorbar": {
              "outlinewidth": 0,
              "ticks": ""
             }
            },
            "type": "scattermapbox"
           }
          ],
          "scatterpolar": [
           {
            "marker": {
             "colorbar": {
              "outlinewidth": 0,
              "ticks": ""
             }
            },
            "type": "scatterpolar"
           }
          ],
          "scatterpolargl": [
           {
            "marker": {
             "colorbar": {
              "outlinewidth": 0,
              "ticks": ""
             }
            },
            "type": "scatterpolargl"
           }
          ],
          "scatterternary": [
           {
            "marker": {
             "colorbar": {
              "outlinewidth": 0,
              "ticks": ""
             }
            },
            "type": "scatterternary"
           }
          ],
          "surface": [
           {
            "colorbar": {
             "outlinewidth": 0,
             "ticks": ""
            },
            "colorscale": [
             [
              0,
              "#0d0887"
             ],
             [
              0.1111111111111111,
              "#46039f"
             ],
             [
              0.2222222222222222,
              "#7201a8"
             ],
             [
              0.3333333333333333,
              "#9c179e"
             ],
             [
              0.4444444444444444,
              "#bd3786"
             ],
             [
              0.5555555555555556,
              "#d8576b"
             ],
             [
              0.6666666666666666,
              "#ed7953"
             ],
             [
              0.7777777777777778,
              "#fb9f3a"
             ],
             [
              0.8888888888888888,
              "#fdca26"
             ],
             [
              1,
              "#f0f921"
             ]
            ],
            "type": "surface"
           }
          ],
          "table": [
           {
            "cells": {
             "fill": {
              "color": "#EBF0F8"
             },
             "line": {
              "color": "white"
             }
            },
            "header": {
             "fill": {
              "color": "#C8D4E3"
             },
             "line": {
              "color": "white"
             }
            },
            "type": "table"
           }
          ]
         },
         "layout": {
          "annotationdefaults": {
           "arrowcolor": "#2a3f5f",
           "arrowhead": 0,
           "arrowwidth": 1
          },
          "autotypenumbers": "strict",
          "coloraxis": {
           "colorbar": {
            "outlinewidth": 0,
            "ticks": ""
           }
          },
          "colorscale": {
           "diverging": [
            [
             0,
             "#8e0152"
            ],
            [
             0.1,
             "#c51b7d"
            ],
            [
             0.2,
             "#de77ae"
            ],
            [
             0.3,
             "#f1b6da"
            ],
            [
             0.4,
             "#fde0ef"
            ],
            [
             0.5,
             "#f7f7f7"
            ],
            [
             0.6,
             "#e6f5d0"
            ],
            [
             0.7,
             "#b8e186"
            ],
            [
             0.8,
             "#7fbc41"
            ],
            [
             0.9,
             "#4d9221"
            ],
            [
             1,
             "#276419"
            ]
           ],
           "sequential": [
            [
             0,
             "#0d0887"
            ],
            [
             0.1111111111111111,
             "#46039f"
            ],
            [
             0.2222222222222222,
             "#7201a8"
            ],
            [
             0.3333333333333333,
             "#9c179e"
            ],
            [
             0.4444444444444444,
             "#bd3786"
            ],
            [
             0.5555555555555556,
             "#d8576b"
            ],
            [
             0.6666666666666666,
             "#ed7953"
            ],
            [
             0.7777777777777778,
             "#fb9f3a"
            ],
            [
             0.8888888888888888,
             "#fdca26"
            ],
            [
             1,
             "#f0f921"
            ]
           ],
           "sequentialminus": [
            [
             0,
             "#0d0887"
            ],
            [
             0.1111111111111111,
             "#46039f"
            ],
            [
             0.2222222222222222,
             "#7201a8"
            ],
            [
             0.3333333333333333,
             "#9c179e"
            ],
            [
             0.4444444444444444,
             "#bd3786"
            ],
            [
             0.5555555555555556,
             "#d8576b"
            ],
            [
             0.6666666666666666,
             "#ed7953"
            ],
            [
             0.7777777777777778,
             "#fb9f3a"
            ],
            [
             0.8888888888888888,
             "#fdca26"
            ],
            [
             1,
             "#f0f921"
            ]
           ]
          },
          "colorway": [
           "#636efa",
           "#EF553B",
           "#00cc96",
           "#ab63fa",
           "#FFA15A",
           "#19d3f3",
           "#FF6692",
           "#B6E880",
           "#FF97FF",
           "#FECB52"
          ],
          "font": {
           "color": "#2a3f5f"
          },
          "geo": {
           "bgcolor": "white",
           "lakecolor": "white",
           "landcolor": "#E5ECF6",
           "showlakes": true,
           "showland": true,
           "subunitcolor": "white"
          },
          "hoverlabel": {
           "align": "left"
          },
          "hovermode": "closest",
          "mapbox": {
           "style": "light"
          },
          "paper_bgcolor": "white",
          "plot_bgcolor": "#E5ECF6",
          "polar": {
           "angularaxis": {
            "gridcolor": "white",
            "linecolor": "white",
            "ticks": ""
           },
           "bgcolor": "#E5ECF6",
           "radialaxis": {
            "gridcolor": "white",
            "linecolor": "white",
            "ticks": ""
           }
          },
          "scene": {
           "xaxis": {
            "backgroundcolor": "#E5ECF6",
            "gridcolor": "white",
            "gridwidth": 2,
            "linecolor": "white",
            "showbackground": true,
            "ticks": "",
            "zerolinecolor": "white"
           },
           "yaxis": {
            "backgroundcolor": "#E5ECF6",
            "gridcolor": "white",
            "gridwidth": 2,
            "linecolor": "white",
            "showbackground": true,
            "ticks": "",
            "zerolinecolor": "white"
           },
           "zaxis": {
            "backgroundcolor": "#E5ECF6",
            "gridcolor": "white",
            "gridwidth": 2,
            "linecolor": "white",
            "showbackground": true,
            "ticks": "",
            "zerolinecolor": "white"
           }
          },
          "shapedefaults": {
           "line": {
            "color": "#2a3f5f"
           }
          },
          "ternary": {
           "aaxis": {
            "gridcolor": "white",
            "linecolor": "white",
            "ticks": ""
           },
           "baxis": {
            "gridcolor": "white",
            "linecolor": "white",
            "ticks": ""
           },
           "bgcolor": "#E5ECF6",
           "caxis": {
            "gridcolor": "white",
            "linecolor": "white",
            "ticks": ""
           }
          },
          "title": {
           "x": 0.05
          },
          "xaxis": {
           "automargin": true,
           "gridcolor": "white",
           "linecolor": "white",
           "ticks": "",
           "title": {
            "standoff": 15
           },
           "zerolinecolor": "white",
           "zerolinewidth": 2
          },
          "yaxis": {
           "automargin": true,
           "gridcolor": "white",
           "linecolor": "white",
           "ticks": "",
           "title": {
            "standoff": 15
           },
           "zerolinecolor": "white",
           "zerolinewidth": 2
          }
         }
        },
        "title": {
         "text": "Visualização 3D dos Clusters"
        }
       }
      }
     },
     "metadata": {},
     "output_type": "display_data"
    }
   ],
   "source": [
    "import pandas as pd\n",
    "from sklearn.preprocessing import StandardScaler\n",
    "from sklearn.decomposition import PCA\n",
    "from sklearn.cluster import KMeans\n",
    "import plotly.express as px\n",
    "\n",
    "# Carregar os dados\n",
    "# df = pd.read_csv('seu_arquivo.csv')\n",
    "\n",
    "# Pré-processamento\n",
    "scaler = StandardScaler()\n",
    "df_scaled = scaler.fit_transform(df_fundamentals_numeric_cols)\n",
    "\n",
    "# PCA\n",
    "pca = PCA(n_components=5)\n",
    "principal_components = pca.fit_transform(df_scaled)\n",
    "\n",
    "# K-means clustering\n",
    "kmeans = KMeans(n_clusters=4, random_state=42)\n",
    "clusters = kmeans.fit_predict(principal_components)\n",
    "\n",
    "# Adicionar os labels do cluster de volta para os componentes principais\n",
    "principal_df = pd.DataFrame(data=principal_components, columns=['PC1', 'PC2', 'PC3', 'PC4', 'PC5'])\n",
    "principal_df['Cluster'] = clusters\n",
    "\n",
    "# Plotly 3D Scatter plot\n",
    "fig = px.scatter_3d(principal_df, x='PC1', y='PC2', z='PC3', color='Cluster',\n",
    "                    title=\"Visualização 3D dos Clusters\",\n",
    "                    labels={'PC1': 'Componente Principal 1', 'PC2': 'Componente Principal 2', 'PC3': 'Componente Principal 3'})\n",
    "\n",
    "fig.show()\n"
   ]
  },
  {
   "cell_type": "code",
   "execution_count": 79,
   "metadata": {},
   "outputs": [
    {
     "name": "stdout",
     "output_type": "stream",
     "text": [
      "   Cluster                                             ticker\n",
      "0        0  [ABCB4.SA, AGRO3.SA, RAIL3.SA, ALPA3.SA, ALPA4...\n",
      "1        1                                         [BRPR3.SA]\n",
      "2        2  [BBAS3.SA, BBDC3.SA, BBDC4.SA, ITUB3.SA, ITUB4...\n",
      "3        3                               [PETR3.SA, PETR4.SA]\n"
     ]
    }
   ],
   "source": [
    "# Supondo que você já tenha o DataFrame original 'df' e os rótulos dos clusters 'clusters'\n",
    "df_fundamentals_book['Cluster'] = clusters  # Adiciona a coluna de cluster ao DataFrame original\n",
    "\n",
    "# Para listar as empresas por cluster, agrupe o DataFrame por 'Cluster' e então liste as empresas\n",
    "# Supondo que você tenha uma coluna 'company_name' ou 'ticker' que identifica as empresas\n",
    "clusters_and_companies = df_fundamentals_book.groupby('Cluster')['ticker'].apply(list).reset_index()\n",
    "\n",
    "# Isso criará um novo DataFrame onde cada linha contém um número de cluster e a lista de empresas pertencentes a ele\n",
    "print(clusters_and_companies)\n"
   ]
  },
  {
   "cell_type": "code",
   "execution_count": null,
   "metadata": {},
   "outputs": [],
   "source": []
  },
  {
   "cell_type": "code",
   "execution_count": null,
   "metadata": {},
   "outputs": [],
   "source": []
  },
  {
   "cell_type": "code",
   "execution_count": null,
   "metadata": {},
   "outputs": [],
   "source": []
  },
  {
   "cell_type": "code",
   "execution_count": 80,
   "metadata": {},
   "outputs": [
    {
     "data": {
      "text/html": [
       "<div>\n",
       "<style scoped>\n",
       "    .dataframe tbody tr th:only-of-type {\n",
       "        vertical-align: middle;\n",
       "    }\n",
       "\n",
       "    .dataframe tbody tr th {\n",
       "        vertical-align: top;\n",
       "    }\n",
       "\n",
       "    .dataframe thead th {\n",
       "        text-align: right;\n",
       "    }\n",
       "</style>\n",
       "<table border=\"1\" class=\"dataframe\">\n",
       "  <thead>\n",
       "    <tr style=\"text-align: right;\">\n",
       "      <th></th>\n",
       "      <th>PC1</th>\n",
       "      <th>PC2</th>\n",
       "      <th>PC3</th>\n",
       "      <th>PC4</th>\n",
       "      <th>PC5</th>\n",
       "      <th>Cluster</th>\n",
       "    </tr>\n",
       "  </thead>\n",
       "  <tbody>\n",
       "    <tr>\n",
       "      <th>0</th>\n",
       "      <td>-0.345641</td>\n",
       "      <td>0.063876</td>\n",
       "      <td>0.469360</td>\n",
       "      <td>0.497924</td>\n",
       "      <td>0.241048</td>\n",
       "      <td>0</td>\n",
       "    </tr>\n",
       "    <tr>\n",
       "      <th>1</th>\n",
       "      <td>-0.541137</td>\n",
       "      <td>0.149542</td>\n",
       "      <td>-1.267230</td>\n",
       "      <td>-0.180357</td>\n",
       "      <td>-0.250607</td>\n",
       "      <td>0</td>\n",
       "    </tr>\n",
       "    <tr>\n",
       "      <th>2</th>\n",
       "      <td>0.156623</td>\n",
       "      <td>-0.331036</td>\n",
       "      <td>-1.131146</td>\n",
       "      <td>-0.665595</td>\n",
       "      <td>-1.010866</td>\n",
       "      <td>0</td>\n",
       "    </tr>\n",
       "    <tr>\n",
       "      <th>3</th>\n",
       "      <td>-0.887789</td>\n",
       "      <td>-0.269821</td>\n",
       "      <td>0.582653</td>\n",
       "      <td>-0.032574</td>\n",
       "      <td>-0.103663</td>\n",
       "      <td>0</td>\n",
       "    </tr>\n",
       "    <tr>\n",
       "      <th>4</th>\n",
       "      <td>-0.761371</td>\n",
       "      <td>-0.384762</td>\n",
       "      <td>0.259357</td>\n",
       "      <td>-0.577482</td>\n",
       "      <td>-0.401088</td>\n",
       "      <td>0</td>\n",
       "    </tr>\n",
       "    <tr>\n",
       "      <th>...</th>\n",
       "      <td>...</td>\n",
       "      <td>...</td>\n",
       "      <td>...</td>\n",
       "      <td>...</td>\n",
       "      <td>...</td>\n",
       "      <td>...</td>\n",
       "    </tr>\n",
       "    <tr>\n",
       "      <th>286</th>\n",
       "      <td>10.217673</td>\n",
       "      <td>-2.046993</td>\n",
       "      <td>4.006180</td>\n",
       "      <td>3.683645</td>\n",
       "      <td>-2.261282</td>\n",
       "      <td>2</td>\n",
       "    </tr>\n",
       "    <tr>\n",
       "      <th>287</th>\n",
       "      <td>-0.440523</td>\n",
       "      <td>-0.241852</td>\n",
       "      <td>-0.859217</td>\n",
       "      <td>0.136244</td>\n",
       "      <td>-0.061334</td>\n",
       "      <td>0</td>\n",
       "    </tr>\n",
       "    <tr>\n",
       "      <th>288</th>\n",
       "      <td>-0.698637</td>\n",
       "      <td>0.076356</td>\n",
       "      <td>-0.954229</td>\n",
       "      <td>-0.145556</td>\n",
       "      <td>-0.421186</td>\n",
       "      <td>0</td>\n",
       "    </tr>\n",
       "    <tr>\n",
       "      <th>289</th>\n",
       "      <td>-0.773207</td>\n",
       "      <td>-0.734756</td>\n",
       "      <td>-0.606143</td>\n",
       "      <td>-1.348658</td>\n",
       "      <td>-1.414746</td>\n",
       "      <td>0</td>\n",
       "    </tr>\n",
       "    <tr>\n",
       "      <th>290</th>\n",
       "      <td>-0.454505</td>\n",
       "      <td>-0.643234</td>\n",
       "      <td>0.157615</td>\n",
       "      <td>-0.574702</td>\n",
       "      <td>-0.052259</td>\n",
       "      <td>0</td>\n",
       "    </tr>\n",
       "  </tbody>\n",
       "</table>\n",
       "<p>291 rows × 6 columns</p>\n",
       "</div>"
      ],
      "text/plain": [
       "           PC1       PC2       PC3       PC4       PC5  Cluster\n",
       "0    -0.345641  0.063876  0.469360  0.497924  0.241048        0\n",
       "1    -0.541137  0.149542 -1.267230 -0.180357 -0.250607        0\n",
       "2     0.156623 -0.331036 -1.131146 -0.665595 -1.010866        0\n",
       "3    -0.887789 -0.269821  0.582653 -0.032574 -0.103663        0\n",
       "4    -0.761371 -0.384762  0.259357 -0.577482 -0.401088        0\n",
       "..         ...       ...       ...       ...       ...      ...\n",
       "286  10.217673 -2.046993  4.006180  3.683645 -2.261282        2\n",
       "287  -0.440523 -0.241852 -0.859217  0.136244 -0.061334        0\n",
       "288  -0.698637  0.076356 -0.954229 -0.145556 -0.421186        0\n",
       "289  -0.773207 -0.734756 -0.606143 -1.348658 -1.414746        0\n",
       "290  -0.454505 -0.643234  0.157615 -0.574702 -0.052259        0\n",
       "\n",
       "[291 rows x 6 columns]"
      ]
     },
     "execution_count": 80,
     "metadata": {},
     "output_type": "execute_result"
    }
   ],
   "source": [
    "principal_df"
   ]
  },
  {
   "cell_type": "code",
   "execution_count": 81,
   "metadata": {},
   "outputs": [
    {
     "name": "stdout",
     "output_type": "stream",
     "text": [
      "   Cluster  total_revenue  profit_margins        ebitda\n",
      "0        0   1.157086e+10        0.288359  2.087181e+09\n",
      "1        1   7.592340e+10        0.263612  0.000000e+00\n",
      "2        2   1.584440e+08       -0.126640 -9.131000e+06\n",
      "3        3   5.815630e+11        0.268890  2.910870e+11\n"
     ]
    }
   ],
   "source": [
    "# Agora vamos calcular a média de algumas métricas financeiras por cluster\n",
    "cluster_metrics = df_fundamentals_numeric_cols.groupby('Cluster').agg({\n",
    "    'total_revenue': 'mean',\n",
    "    'profit_margins': 'mean',\n",
    "    'ebitda': 'mean',\n",
    "    # Adicione aqui outras métricas que deseja analisar\n",
    "}).reset_index()\n",
    "\n",
    "print(cluster_metrics)\n"
   ]
  }
 ],
 "metadata": {
  "kernelspec": {
   "display_name": "Python 3",
   "language": "python",
   "name": "python3"
  },
  "language_info": {
   "codemirror_mode": {
    "name": "ipython",
    "version": 3
   },
   "file_extension": ".py",
   "mimetype": "text/x-python",
   "name": "python",
   "nbconvert_exporter": "python",
   "pygments_lexer": "ipython3",
   "version": "3.11.5"
  }
 },
 "nbformat": 4,
 "nbformat_minor": 2
}
