{
 "cells": [
  {
   "cell_type": "markdown",
   "metadata": {},
   "source": [
    "# **Data Book Notebook**"
   ]
  },
  {
   "cell_type": "markdown",
   "metadata": {},
   "source": [
    "* This section aims to enrich and centralize the necessary data for the project's execution. Some of this data will be created through calculations based on existing data."
   ]
  },
  {
   "cell_type": "markdown",
   "metadata": {},
   "source": [
    "## **Initial Setup**"
   ]
  },
  {
   "cell_type": "markdown",
   "metadata": {},
   "source": [
    "### Install Libs"
   ]
  },
  {
   "cell_type": "code",
   "execution_count": 1,
   "metadata": {},
   "outputs": [
    {
     "name": "stdout",
     "output_type": "stream",
     "text": [
      "Note: you may need to restart the kernel to use updated packages.\n"
     ]
    }
   ],
   "source": [
    "%pip install scikit-learn --q --no-cache"
   ]
  },
  {
   "cell_type": "markdown",
   "metadata": {},
   "source": [
    "### Import Packages"
   ]
  },
  {
   "cell_type": "code",
   "execution_count": 2,
   "metadata": {},
   "outputs": [],
   "source": [
    "import os\n",
    "from pathlib import Path\n",
    "import pandas as pd\n",
    "import numpy as np\n",
    "from sklearn.impute import KNNImputer"
   ]
  },
  {
   "cell_type": "markdown",
   "metadata": {},
   "source": [
    "### Create a file path default"
   ]
  },
  {
   "cell_type": "code",
   "execution_count": 3,
   "metadata": {},
   "outputs": [],
   "source": [
    "file_path_cleaned = str(Path(os.getcwd()).parent/\"data/cleaned\")\n",
    "file_path_book  = str(Path(os.getcwd()).parent/\"data/book\")"
   ]
  },
  {
   "cell_type": "markdown",
   "metadata": {},
   "source": [
    "## **Data Book**"
   ]
  },
  {
   "cell_type": "markdown",
   "metadata": {},
   "source": [
    "* This section's mission is to enrich the data captured and cleaned by the processes in the notebooks \"01_data_aquisition.ipynb\" and \"02_data_cleaning.ipynb\". This enrichment will be achieved through calculations with existing fields and possibly the acquisition of new external data. It's important to emphasize the significance of running the previous notebooks for the proper functioning of the project."
   ]
  },
  {
   "cell_type": "markdown",
   "metadata": {},
   "source": [
    "### Fundamentals Book"
   ]
  },
  {
   "cell_type": "code",
   "execution_count": 4,
   "metadata": {},
   "outputs": [
    {
     "data": {
      "text/html": [
       "<div>\n",
       "<style scoped>\n",
       "    .dataframe tbody tr th:only-of-type {\n",
       "        vertical-align: middle;\n",
       "    }\n",
       "\n",
       "    .dataframe tbody tr th {\n",
       "        vertical-align: top;\n",
       "    }\n",
       "\n",
       "    .dataframe thead th {\n",
       "        text-align: right;\n",
       "    }\n",
       "</style>\n",
       "<table border=\"1\" class=\"dataframe\">\n",
       "  <thead>\n",
       "    <tr style=\"text-align: right;\">\n",
       "      <th></th>\n",
       "      <th>ticker</th>\n",
       "      <th>long_name</th>\n",
       "      <th>sector</th>\n",
       "      <th>industry</th>\n",
       "      <th>market_cap</th>\n",
       "      <th>enterprise_value</th>\n",
       "      <th>total_revenue</th>\n",
       "      <th>profit_margins</th>\n",
       "      <th>operating_margins</th>\n",
       "      <th>dividend_rate</th>\n",
       "      <th>...</th>\n",
       "      <th>total_cash</th>\n",
       "      <th>total_cash_per_share</th>\n",
       "      <th>total_debt</th>\n",
       "      <th>earnings_quarterly_growth</th>\n",
       "      <th>revenue_growth</th>\n",
       "      <th>gross_margins</th>\n",
       "      <th>ebitda_margins</th>\n",
       "      <th>return_on_assets</th>\n",
       "      <th>return_on_equity</th>\n",
       "      <th>gross_profits</th>\n",
       "    </tr>\n",
       "  </thead>\n",
       "  <tbody>\n",
       "    <tr>\n",
       "      <th>0</th>\n",
       "      <td>ABCB4.SA</td>\n",
       "      <td>Banco ABC Brasil S.A.</td>\n",
       "      <td>Financial Services</td>\n",
       "      <td>Banks - Regional</td>\n",
       "      <td>4.265434e+09</td>\n",
       "      <td>1.477339e+10</td>\n",
       "      <td>1.941779e+09</td>\n",
       "      <td>0.41576</td>\n",
       "      <td>0.38826</td>\n",
       "      <td>1.56</td>\n",
       "      <td>...</td>\n",
       "      <td>7.774306e+09</td>\n",
       "      <td>35.162</td>\n",
       "      <td>1.829846e+10</td>\n",
       "      <td>0.001</td>\n",
       "      <td>0.003</td>\n",
       "      <td>0.00000</td>\n",
       "      <td>0.00000</td>\n",
       "      <td>0.01530</td>\n",
       "      <td>0.15680</td>\n",
       "      <td>1.973086e+09</td>\n",
       "    </tr>\n",
       "    <tr>\n",
       "      <th>1</th>\n",
       "      <td>AGRO3.SA</td>\n",
       "      <td>BrasilAgro - Companhia Brasileira de Proprieda...</td>\n",
       "      <td>Consumer Defensive</td>\n",
       "      <td>Farm Products</td>\n",
       "      <td>2.466480e+09</td>\n",
       "      <td>2.912933e+09</td>\n",
       "      <td>1.249437e+09</td>\n",
       "      <td>0.21493</td>\n",
       "      <td>0.25031</td>\n",
       "      <td>3.21</td>\n",
       "      <td>...</td>\n",
       "      <td>3.838370e+08</td>\n",
       "      <td>3.885</td>\n",
       "      <td>8.720750e+08</td>\n",
       "      <td>6.801</td>\n",
       "      <td>0.671</td>\n",
       "      <td>0.25252</td>\n",
       "      <td>0.21201</td>\n",
       "      <td>0.03839</td>\n",
       "      <td>0.12170</td>\n",
       "      <td>3.155040e+08</td>\n",
       "    </tr>\n",
       "    <tr>\n",
       "      <th>2</th>\n",
       "      <td>RAIL3.SA</td>\n",
       "      <td>Rumo S.A.</td>\n",
       "      <td>Industrials</td>\n",
       "      <td>Railroads</td>\n",
       "      <td>4.228882e+10</td>\n",
       "      <td>5.524305e+10</td>\n",
       "      <td>1.031746e+10</td>\n",
       "      <td>0.07639</td>\n",
       "      <td>0.33544</td>\n",
       "      <td>0.07</td>\n",
       "      <td>...</td>\n",
       "      <td>7.656040e+09</td>\n",
       "      <td>4.132</td>\n",
       "      <td>2.184320e+10</td>\n",
       "      <td>3.935</td>\n",
       "      <td>0.121</td>\n",
       "      <td>0.34493</td>\n",
       "      <td>0.43834</td>\n",
       "      <td>0.04252</td>\n",
       "      <td>0.05163</td>\n",
       "      <td>3.146360e+09</td>\n",
       "    </tr>\n",
       "    <tr>\n",
       "      <th>3</th>\n",
       "      <td>ALPA3.SA</td>\n",
       "      <td>Alpargatas S.A.</td>\n",
       "      <td>Consumer Cyclical</td>\n",
       "      <td>Footwear &amp; Accessories</td>\n",
       "      <td>5.309793e+09</td>\n",
       "      <td>6.482982e+09</td>\n",
       "      <td>4.022153e+09</td>\n",
       "      <td>-0.05671</td>\n",
       "      <td>-0.06434</td>\n",
       "      <td>0.40</td>\n",
       "      <td>...</td>\n",
       "      <td>4.142880e+08</td>\n",
       "      <td>0.614</td>\n",
       "      <td>1.550341e+09</td>\n",
       "      <td>0.000</td>\n",
       "      <td>-0.127</td>\n",
       "      <td>0.43246</td>\n",
       "      <td>-0.00005</td>\n",
       "      <td>-0.00910</td>\n",
       "      <td>-0.04153</td>\n",
       "      <td>1.968303e+09</td>\n",
       "    </tr>\n",
       "    <tr>\n",
       "      <th>4</th>\n",
       "      <td>ALPA4.SA</td>\n",
       "      <td>Alpargatas S.A.</td>\n",
       "      <td>Consumer Cyclical</td>\n",
       "      <td>Footwear &amp; Accessories</td>\n",
       "      <td>5.350758e+09</td>\n",
       "      <td>6.395236e+09</td>\n",
       "      <td>4.022153e+09</td>\n",
       "      <td>-0.05671</td>\n",
       "      <td>-0.06434</td>\n",
       "      <td>0.43</td>\n",
       "      <td>...</td>\n",
       "      <td>4.142880e+08</td>\n",
       "      <td>0.614</td>\n",
       "      <td>1.550341e+09</td>\n",
       "      <td>0.000</td>\n",
       "      <td>-0.127</td>\n",
       "      <td>0.43246</td>\n",
       "      <td>-0.00005</td>\n",
       "      <td>-0.00910</td>\n",
       "      <td>-0.04153</td>\n",
       "      <td>1.968303e+09</td>\n",
       "    </tr>\n",
       "  </tbody>\n",
       "</table>\n",
       "<p>5 rows × 35 columns</p>\n",
       "</div>"
      ],
      "text/plain": [
       "     ticker                                          long_name  \\\n",
       "0  ABCB4.SA                              Banco ABC Brasil S.A.   \n",
       "1  AGRO3.SA  BrasilAgro - Companhia Brasileira de Proprieda...   \n",
       "2  RAIL3.SA                                          Rumo S.A.   \n",
       "3  ALPA3.SA                                    Alpargatas S.A.   \n",
       "4  ALPA4.SA                                    Alpargatas S.A.   \n",
       "\n",
       "               sector                industry    market_cap  enterprise_value  \\\n",
       "0  Financial Services        Banks - Regional  4.265434e+09      1.477339e+10   \n",
       "1  Consumer Defensive           Farm Products  2.466480e+09      2.912933e+09   \n",
       "2         Industrials               Railroads  4.228882e+10      5.524305e+10   \n",
       "3   Consumer Cyclical  Footwear & Accessories  5.309793e+09      6.482982e+09   \n",
       "4   Consumer Cyclical  Footwear & Accessories  5.350758e+09      6.395236e+09   \n",
       "\n",
       "   total_revenue  profit_margins  operating_margins  dividend_rate  ...  \\\n",
       "0   1.941779e+09         0.41576            0.38826           1.56  ...   \n",
       "1   1.249437e+09         0.21493            0.25031           3.21  ...   \n",
       "2   1.031746e+10         0.07639            0.33544           0.07  ...   \n",
       "3   4.022153e+09        -0.05671           -0.06434           0.40  ...   \n",
       "4   4.022153e+09        -0.05671           -0.06434           0.43  ...   \n",
       "\n",
       "     total_cash  total_cash_per_share    total_debt  \\\n",
       "0  7.774306e+09                35.162  1.829846e+10   \n",
       "1  3.838370e+08                 3.885  8.720750e+08   \n",
       "2  7.656040e+09                 4.132  2.184320e+10   \n",
       "3  4.142880e+08                 0.614  1.550341e+09   \n",
       "4  4.142880e+08                 0.614  1.550341e+09   \n",
       "\n",
       "   earnings_quarterly_growth  revenue_growth  gross_margins  ebitda_margins  \\\n",
       "0                      0.001           0.003        0.00000         0.00000   \n",
       "1                      6.801           0.671        0.25252         0.21201   \n",
       "2                      3.935           0.121        0.34493         0.43834   \n",
       "3                      0.000          -0.127        0.43246        -0.00005   \n",
       "4                      0.000          -0.127        0.43246        -0.00005   \n",
       "\n",
       "   return_on_assets  return_on_equity  gross_profits  \n",
       "0           0.01530           0.15680   1.973086e+09  \n",
       "1           0.03839           0.12170   3.155040e+08  \n",
       "2           0.04252           0.05163   3.146360e+09  \n",
       "3          -0.00910          -0.04153   1.968303e+09  \n",
       "4          -0.00910          -0.04153   1.968303e+09  \n",
       "\n",
       "[5 rows x 35 columns]"
      ]
     },
     "execution_count": 4,
     "metadata": {},
     "output_type": "execute_result"
    }
   ],
   "source": [
    "df_fundamentals_cleaned = pd.read_csv(file_path_cleaned + \"/fundamentals_cleaned.csv\")\n",
    "df_fundamentals_cleaned.head()"
   ]
  },
  {
   "cell_type": "markdown",
   "metadata": {},
   "source": [
    "#### Feature Creation"
   ]
  },
  {
   "cell_type": "code",
   "execution_count": 5,
   "metadata": {},
   "outputs": [],
   "source": [
    "df_fundamentals_book_cols = df_fundamentals_cleaned.copy()"
   ]
  },
  {
   "cell_type": "code",
   "execution_count": 6,
   "metadata": {},
   "outputs": [],
   "source": [
    "df_fundamentals_book_cols['total_assets_approx'] = df_fundamentals_book_cols['total_cash'] + df_fundamentals_book_cols['book_value']\n",
    "df_fundamentals_book_cols['asset_turnover'] = df_fundamentals_book_cols['total_revenue'] / df_fundamentals_book_cols['total_assets_approx']\n",
    "df_fundamentals_book_cols['earnings_growth_rate'] = df_fundamentals_cleaned['earnings_quarterly_growth'] * 100\n",
    "df_fundamentals_book_cols['dividend_payout_ratio'] = (df_fundamentals_cleaned['trailing_annual_dividend_rate'] / df_fundamentals_cleaned['earnings_quarterly_growth']) * 100\n",
    "df_fundamentals_book_cols['dividend_payout_ratio'] = df_fundamentals_book_cols['dividend_payout_ratio'].replace([np.inf, -np.inf], np.nan)\n",
    "df_fundamentals_book_cols['dividend_payout_ratio'] = df_fundamentals_book_cols['dividend_payout_ratio'].apply(lambda x: max(0, x))\n",
    "df_fundamentals_book_cols['equity'] = df_fundamentals_book_cols['total_assets_approx'] - df_fundamentals_book_cols['total_debt']\n",
    "df_fundamentals_book_cols['debt_to_equity'] = df_fundamentals_book_cols['total_debt'] / df_fundamentals_book_cols['equity']\n",
    "df_fundamentals_book_cols['roi'] = df_fundamentals_cleaned['total_revenue'] / df_fundamentals_cleaned['enterprise_value']\n",
    "df_fundamentals_book_cols['roce'] = df_fundamentals_book_cols['ebitda'] / (df_fundamentals_book_cols['total_debt'] + df_fundamentals_book_cols['market_cap'])"
   ]
  },
  {
   "cell_type": "markdown",
   "metadata": {},
   "source": [
    "* In the code block above, we are working with a DataFrame of company fundamentals. The fields \"earnings_growth_rate,\" \"dividend_payout_ratio,\" and \"roi\" play pivotal roles in our analysis. \"Earnings_growth_rate\" informs us about the company's profit growth over time, which is crucial for assessing its potential for appreciation. Meanwhile, \"dividend_payout_ratio\" aids us in understanding the company's dividend policy, revealing how much of the profits is distributed to shareholders. Lastly, \"ROI\" is an essential metric for evaluating financial efficiency and company performance in relation to invested capital. These fields are the cornerstones of our analysis and guide our investment decisions."
   ]
  },
  {
   "cell_type": "code",
   "execution_count": 7,
   "metadata": {},
   "outputs": [
    {
     "data": {
      "text/plain": [
       "Index(['ticker', 'long_name', 'sector', 'industry', 'market_cap',\n",
       "       'enterprise_value', 'total_revenue', 'profit_margins',\n",
       "       'operating_margins', 'dividend_rate', 'beta', 'ebitda', 'trailing_pe',\n",
       "       'forward_pe', 'volume', 'average_volume', 'fifty_two_week_low',\n",
       "       'fifty_two_week_high', 'price_to_sales_trailing_12_months',\n",
       "       'fifty_day_average', 'two_hundred_day_average',\n",
       "       'trailing_annual_dividend_rate', 'trailing_annual_dividend_yield',\n",
       "       'book_value', 'price_to_book', 'total_cash', 'total_cash_per_share',\n",
       "       'total_debt', 'earnings_quarterly_growth', 'revenue_growth',\n",
       "       'gross_margins', 'ebitda_margins', 'return_on_assets',\n",
       "       'return_on_equity', 'gross_profits', 'total_assets_approx',\n",
       "       'asset_turnover', 'earnings_growth_rate', 'dividend_payout_ratio',\n",
       "       'equity', 'debt_to_equity', 'roi', 'roce'],\n",
       "      dtype='object')"
      ]
     },
     "execution_count": 7,
     "metadata": {},
     "output_type": "execute_result"
    }
   ],
   "source": [
    "df_fundamentals_book_cols.columns"
   ]
  },
  {
   "cell_type": "code",
   "execution_count": 8,
   "metadata": {},
   "outputs": [
    {
     "data": {
      "text/html": [
       "<div>\n",
       "<style scoped>\n",
       "    .dataframe tbody tr th:only-of-type {\n",
       "        vertical-align: middle;\n",
       "    }\n",
       "\n",
       "    .dataframe tbody tr th {\n",
       "        vertical-align: top;\n",
       "    }\n",
       "\n",
       "    .dataframe thead th {\n",
       "        text-align: right;\n",
       "    }\n",
       "</style>\n",
       "<table border=\"1\" class=\"dataframe\">\n",
       "  <thead>\n",
       "    <tr style=\"text-align: right;\">\n",
       "      <th></th>\n",
       "      <th>ticker</th>\n",
       "      <th>long_name</th>\n",
       "      <th>sector</th>\n",
       "      <th>industry</th>\n",
       "      <th>market_cap</th>\n",
       "      <th>enterprise_value</th>\n",
       "      <th>total_revenue</th>\n",
       "      <th>profit_margins</th>\n",
       "      <th>operating_margins</th>\n",
       "      <th>dividend_rate</th>\n",
       "      <th>...</th>\n",
       "      <th>return_on_equity</th>\n",
       "      <th>gross_profits</th>\n",
       "      <th>total_assets_approx</th>\n",
       "      <th>asset_turnover</th>\n",
       "      <th>earnings_growth_rate</th>\n",
       "      <th>dividend_payout_ratio</th>\n",
       "      <th>equity</th>\n",
       "      <th>debt_to_equity</th>\n",
       "      <th>roi</th>\n",
       "      <th>roce</th>\n",
       "    </tr>\n",
       "  </thead>\n",
       "  <tbody>\n",
       "    <tr>\n",
       "      <th>0</th>\n",
       "      <td>ABCB4.SA</td>\n",
       "      <td>Banco ABC Brasil S.A.</td>\n",
       "      <td>Financial Services</td>\n",
       "      <td>Banks - Regional</td>\n",
       "      <td>4.265434e+09</td>\n",
       "      <td>1.477339e+10</td>\n",
       "      <td>1.941779e+09</td>\n",
       "      <td>0.41576</td>\n",
       "      <td>0.38826</td>\n",
       "      <td>1.56</td>\n",
       "      <td>...</td>\n",
       "      <td>0.1568</td>\n",
       "      <td>1.973086e+09</td>\n",
       "      <td>7.774306e+09</td>\n",
       "      <td>0.249769</td>\n",
       "      <td>0.1</td>\n",
       "      <td>155000.000000</td>\n",
       "      <td>-1.052416e+10</td>\n",
       "      <td>-1.738710</td>\n",
       "      <td>0.131438</td>\n",
       "      <td>0.000000</td>\n",
       "    </tr>\n",
       "    <tr>\n",
       "      <th>1</th>\n",
       "      <td>AGRO3.SA</td>\n",
       "      <td>BrasilAgro - Companhia Brasileira de Proprieda...</td>\n",
       "      <td>Consumer Defensive</td>\n",
       "      <td>Farm Products</td>\n",
       "      <td>2.466480e+09</td>\n",
       "      <td>2.912933e+09</td>\n",
       "      <td>1.249437e+09</td>\n",
       "      <td>0.21493</td>\n",
       "      <td>0.25031</td>\n",
       "      <td>3.21</td>\n",
       "      <td>...</td>\n",
       "      <td>0.1217</td>\n",
       "      <td>3.155040e+08</td>\n",
       "      <td>3.838370e+08</td>\n",
       "      <td>3.255124</td>\n",
       "      <td>680.1</td>\n",
       "      <td>47.640053</td>\n",
       "      <td>-4.882380e+08</td>\n",
       "      <td>-1.786168</td>\n",
       "      <td>0.428927</td>\n",
       "      <td>0.079343</td>\n",
       "    </tr>\n",
       "  </tbody>\n",
       "</table>\n",
       "<p>2 rows × 43 columns</p>\n",
       "</div>"
      ],
      "text/plain": [
       "     ticker                                          long_name  \\\n",
       "0  ABCB4.SA                              Banco ABC Brasil S.A.   \n",
       "1  AGRO3.SA  BrasilAgro - Companhia Brasileira de Proprieda...   \n",
       "\n",
       "               sector          industry    market_cap  enterprise_value  \\\n",
       "0  Financial Services  Banks - Regional  4.265434e+09      1.477339e+10   \n",
       "1  Consumer Defensive     Farm Products  2.466480e+09      2.912933e+09   \n",
       "\n",
       "   total_revenue  profit_margins  operating_margins  dividend_rate  ...  \\\n",
       "0   1.941779e+09         0.41576            0.38826           1.56  ...   \n",
       "1   1.249437e+09         0.21493            0.25031           3.21  ...   \n",
       "\n",
       "   return_on_equity  gross_profits  total_assets_approx  asset_turnover  \\\n",
       "0            0.1568   1.973086e+09         7.774306e+09        0.249769   \n",
       "1            0.1217   3.155040e+08         3.838370e+08        3.255124   \n",
       "\n",
       "   earnings_growth_rate  dividend_payout_ratio        equity  debt_to_equity  \\\n",
       "0                   0.1          155000.000000 -1.052416e+10       -1.738710   \n",
       "1                 680.1              47.640053 -4.882380e+08       -1.786168   \n",
       "\n",
       "        roi      roce  \n",
       "0  0.131438  0.000000  \n",
       "1  0.428927  0.079343  \n",
       "\n",
       "[2 rows x 43 columns]"
      ]
     },
     "execution_count": 8,
     "metadata": {},
     "output_type": "execute_result"
    }
   ],
   "source": [
    "df_fundamentals_book_cols.head(2)"
   ]
  },
  {
   "cell_type": "markdown",
   "metadata": {},
   "source": [
    "#### Cleaning Missing Values"
   ]
  },
  {
   "cell_type": "code",
   "execution_count": 9,
   "metadata": {},
   "outputs": [],
   "source": [
    "df_fundamentals_book_missing = df_fundamentals_book_cols.copy()"
   ]
  },
  {
   "cell_type": "code",
   "execution_count": 10,
   "metadata": {},
   "outputs": [
    {
     "data": {
      "text/plain": [
       "ticker                               0\n",
       "long_name                            0\n",
       "sector                               0\n",
       "industry                             0\n",
       "market_cap                           0\n",
       "enterprise_value                     0\n",
       "total_revenue                        0\n",
       "profit_margins                       0\n",
       "operating_margins                    0\n",
       "dividend_rate                        0\n",
       "beta                                 0\n",
       "ebitda                               0\n",
       "trailing_pe                          0\n",
       "forward_pe                           0\n",
       "volume                               0\n",
       "average_volume                       0\n",
       "fifty_two_week_low                   0\n",
       "fifty_two_week_high                  0\n",
       "price_to_sales_trailing_12_months    0\n",
       "fifty_day_average                    0\n",
       "two_hundred_day_average              0\n",
       "trailing_annual_dividend_rate        0\n",
       "trailing_annual_dividend_yield       0\n",
       "book_value                           0\n",
       "price_to_book                        0\n",
       "total_cash                           0\n",
       "total_cash_per_share                 0\n",
       "total_debt                           0\n",
       "earnings_quarterly_growth            0\n",
       "revenue_growth                       0\n",
       "gross_margins                        0\n",
       "ebitda_margins                       0\n",
       "return_on_assets                     0\n",
       "return_on_equity                     0\n",
       "gross_profits                        0\n",
       "total_assets_approx                  0\n",
       "asset_turnover                       0\n",
       "earnings_growth_rate                 0\n",
       "dividend_payout_ratio                0\n",
       "equity                               0\n",
       "debt_to_equity                       0\n",
       "roi                                  0\n",
       "roce                                 0\n",
       "dtype: int64"
      ]
     },
     "execution_count": 10,
     "metadata": {},
     "output_type": "execute_result"
    }
   ],
   "source": [
    "df_fundamentals_book_missing.isna().sum()"
   ]
  },
  {
   "cell_type": "code",
   "execution_count": 11,
   "metadata": {},
   "outputs": [],
   "source": [
    "df_fundamentals_book_missing[\"dividend_payout_ratio\"].fillna(0, inplace = True)"
   ]
  },
  {
   "cell_type": "code",
   "execution_count": 12,
   "metadata": {},
   "outputs": [
    {
     "data": {
      "text/plain": [
       "ticker                               0\n",
       "long_name                            0\n",
       "sector                               0\n",
       "industry                             0\n",
       "market_cap                           0\n",
       "enterprise_value                     0\n",
       "total_revenue                        0\n",
       "profit_margins                       0\n",
       "operating_margins                    0\n",
       "dividend_rate                        0\n",
       "beta                                 0\n",
       "ebitda                               0\n",
       "trailing_pe                          0\n",
       "forward_pe                           0\n",
       "volume                               0\n",
       "average_volume                       0\n",
       "fifty_two_week_low                   0\n",
       "fifty_two_week_high                  0\n",
       "price_to_sales_trailing_12_months    0\n",
       "fifty_day_average                    0\n",
       "two_hundred_day_average              0\n",
       "trailing_annual_dividend_rate        0\n",
       "trailing_annual_dividend_yield       0\n",
       "book_value                           0\n",
       "price_to_book                        0\n",
       "total_cash                           0\n",
       "total_cash_per_share                 0\n",
       "total_debt                           0\n",
       "earnings_quarterly_growth            0\n",
       "revenue_growth                       0\n",
       "gross_margins                        0\n",
       "ebitda_margins                       0\n",
       "return_on_assets                     0\n",
       "return_on_equity                     0\n",
       "gross_profits                        0\n",
       "total_assets_approx                  0\n",
       "asset_turnover                       0\n",
       "earnings_growth_rate                 0\n",
       "dividend_payout_ratio                0\n",
       "equity                               0\n",
       "debt_to_equity                       0\n",
       "roi                                  0\n",
       "roce                                 0\n",
       "dtype: int64"
      ]
     },
     "execution_count": 12,
     "metadata": {},
     "output_type": "execute_result"
    }
   ],
   "source": [
    "df_fundamentals_book_missing.isna().sum()"
   ]
  },
  {
   "cell_type": "code",
   "execution_count": 13,
   "metadata": {},
   "outputs": [],
   "source": [
    "df_fundamentals_book = df_fundamentals_book_missing.copy()"
   ]
  },
  {
   "cell_type": "code",
   "execution_count": 14,
   "metadata": {},
   "outputs": [
    {
     "data": {
      "text/html": [
       "<div>\n",
       "<style scoped>\n",
       "    .dataframe tbody tr th:only-of-type {\n",
       "        vertical-align: middle;\n",
       "    }\n",
       "\n",
       "    .dataframe tbody tr th {\n",
       "        vertical-align: top;\n",
       "    }\n",
       "\n",
       "    .dataframe thead th {\n",
       "        text-align: right;\n",
       "    }\n",
       "</style>\n",
       "<table border=\"1\" class=\"dataframe\">\n",
       "  <thead>\n",
       "    <tr style=\"text-align: right;\">\n",
       "      <th></th>\n",
       "      <th>ticker</th>\n",
       "      <th>long_name</th>\n",
       "      <th>sector</th>\n",
       "      <th>industry</th>\n",
       "      <th>market_cap</th>\n",
       "      <th>enterprise_value</th>\n",
       "      <th>total_revenue</th>\n",
       "      <th>profit_margins</th>\n",
       "      <th>operating_margins</th>\n",
       "      <th>dividend_rate</th>\n",
       "      <th>...</th>\n",
       "      <th>return_on_equity</th>\n",
       "      <th>gross_profits</th>\n",
       "      <th>total_assets_approx</th>\n",
       "      <th>asset_turnover</th>\n",
       "      <th>earnings_growth_rate</th>\n",
       "      <th>dividend_payout_ratio</th>\n",
       "      <th>equity</th>\n",
       "      <th>debt_to_equity</th>\n",
       "      <th>roi</th>\n",
       "      <th>roce</th>\n",
       "    </tr>\n",
       "  </thead>\n",
       "  <tbody>\n",
       "    <tr>\n",
       "      <th>0</th>\n",
       "      <td>ABCB4.SA</td>\n",
       "      <td>Banco ABC Brasil S.A.</td>\n",
       "      <td>Financial Services</td>\n",
       "      <td>Banks - Regional</td>\n",
       "      <td>4.265434e+09</td>\n",
       "      <td>1.477339e+10</td>\n",
       "      <td>1.941779e+09</td>\n",
       "      <td>0.41576</td>\n",
       "      <td>0.38826</td>\n",
       "      <td>1.56</td>\n",
       "      <td>...</td>\n",
       "      <td>0.15680</td>\n",
       "      <td>1.973086e+09</td>\n",
       "      <td>7.774306e+09</td>\n",
       "      <td>0.249769</td>\n",
       "      <td>0.1</td>\n",
       "      <td>155000.000000</td>\n",
       "      <td>-1.052416e+10</td>\n",
       "      <td>-1.738710</td>\n",
       "      <td>0.131438</td>\n",
       "      <td>0.000000</td>\n",
       "    </tr>\n",
       "    <tr>\n",
       "      <th>1</th>\n",
       "      <td>AGRO3.SA</td>\n",
       "      <td>BrasilAgro - Companhia Brasileira de Proprieda...</td>\n",
       "      <td>Consumer Defensive</td>\n",
       "      <td>Farm Products</td>\n",
       "      <td>2.466480e+09</td>\n",
       "      <td>2.912933e+09</td>\n",
       "      <td>1.249437e+09</td>\n",
       "      <td>0.21493</td>\n",
       "      <td>0.25031</td>\n",
       "      <td>3.21</td>\n",
       "      <td>...</td>\n",
       "      <td>0.12170</td>\n",
       "      <td>3.155040e+08</td>\n",
       "      <td>3.838370e+08</td>\n",
       "      <td>3.255124</td>\n",
       "      <td>680.1</td>\n",
       "      <td>47.640053</td>\n",
       "      <td>-4.882380e+08</td>\n",
       "      <td>-1.786168</td>\n",
       "      <td>0.428927</td>\n",
       "      <td>0.079343</td>\n",
       "    </tr>\n",
       "    <tr>\n",
       "      <th>2</th>\n",
       "      <td>RAIL3.SA</td>\n",
       "      <td>Rumo S.A.</td>\n",
       "      <td>Industrials</td>\n",
       "      <td>Railroads</td>\n",
       "      <td>4.228882e+10</td>\n",
       "      <td>5.524305e+10</td>\n",
       "      <td>1.031746e+10</td>\n",
       "      <td>0.07639</td>\n",
       "      <td>0.33544</td>\n",
       "      <td>0.07</td>\n",
       "      <td>...</td>\n",
       "      <td>0.05163</td>\n",
       "      <td>3.146360e+09</td>\n",
       "      <td>7.656040e+09</td>\n",
       "      <td>1.347623</td>\n",
       "      <td>393.5</td>\n",
       "      <td>1.677255</td>\n",
       "      <td>-1.418716e+10</td>\n",
       "      <td>-1.539646</td>\n",
       "      <td>0.186765</td>\n",
       "      <td>0.070519</td>\n",
       "    </tr>\n",
       "    <tr>\n",
       "      <th>3</th>\n",
       "      <td>ALPA3.SA</td>\n",
       "      <td>Alpargatas S.A.</td>\n",
       "      <td>Consumer Cyclical</td>\n",
       "      <td>Footwear &amp; Accessories</td>\n",
       "      <td>5.309793e+09</td>\n",
       "      <td>6.482982e+09</td>\n",
       "      <td>4.022153e+09</td>\n",
       "      <td>-0.05671</td>\n",
       "      <td>-0.06434</td>\n",
       "      <td>0.40</td>\n",
       "      <td>...</td>\n",
       "      <td>-0.04153</td>\n",
       "      <td>1.968303e+09</td>\n",
       "      <td>4.142880e+08</td>\n",
       "      <td>9.708591</td>\n",
       "      <td>0.0</td>\n",
       "      <td>0.000000</td>\n",
       "      <td>-1.136053e+09</td>\n",
       "      <td>-1.364673</td>\n",
       "      <td>0.620417</td>\n",
       "      <td>-0.000029</td>\n",
       "    </tr>\n",
       "    <tr>\n",
       "      <th>4</th>\n",
       "      <td>ALPA4.SA</td>\n",
       "      <td>Alpargatas S.A.</td>\n",
       "      <td>Consumer Cyclical</td>\n",
       "      <td>Footwear &amp; Accessories</td>\n",
       "      <td>5.350758e+09</td>\n",
       "      <td>6.395236e+09</td>\n",
       "      <td>4.022153e+09</td>\n",
       "      <td>-0.05671</td>\n",
       "      <td>-0.06434</td>\n",
       "      <td>0.43</td>\n",
       "      <td>...</td>\n",
       "      <td>-0.04153</td>\n",
       "      <td>1.968303e+09</td>\n",
       "      <td>4.142880e+08</td>\n",
       "      <td>9.708591</td>\n",
       "      <td>0.0</td>\n",
       "      <td>0.000000</td>\n",
       "      <td>-1.136053e+09</td>\n",
       "      <td>-1.364673</td>\n",
       "      <td>0.628930</td>\n",
       "      <td>-0.000029</td>\n",
       "    </tr>\n",
       "  </tbody>\n",
       "</table>\n",
       "<p>5 rows × 43 columns</p>\n",
       "</div>"
      ],
      "text/plain": [
       "     ticker                                          long_name  \\\n",
       "0  ABCB4.SA                              Banco ABC Brasil S.A.   \n",
       "1  AGRO3.SA  BrasilAgro - Companhia Brasileira de Proprieda...   \n",
       "2  RAIL3.SA                                          Rumo S.A.   \n",
       "3  ALPA3.SA                                    Alpargatas S.A.   \n",
       "4  ALPA4.SA                                    Alpargatas S.A.   \n",
       "\n",
       "               sector                industry    market_cap  enterprise_value  \\\n",
       "0  Financial Services        Banks - Regional  4.265434e+09      1.477339e+10   \n",
       "1  Consumer Defensive           Farm Products  2.466480e+09      2.912933e+09   \n",
       "2         Industrials               Railroads  4.228882e+10      5.524305e+10   \n",
       "3   Consumer Cyclical  Footwear & Accessories  5.309793e+09      6.482982e+09   \n",
       "4   Consumer Cyclical  Footwear & Accessories  5.350758e+09      6.395236e+09   \n",
       "\n",
       "   total_revenue  profit_margins  operating_margins  dividend_rate  ...  \\\n",
       "0   1.941779e+09         0.41576            0.38826           1.56  ...   \n",
       "1   1.249437e+09         0.21493            0.25031           3.21  ...   \n",
       "2   1.031746e+10         0.07639            0.33544           0.07  ...   \n",
       "3   4.022153e+09        -0.05671           -0.06434           0.40  ...   \n",
       "4   4.022153e+09        -0.05671           -0.06434           0.43  ...   \n",
       "\n",
       "   return_on_equity  gross_profits  total_assets_approx  asset_turnover  \\\n",
       "0           0.15680   1.973086e+09         7.774306e+09        0.249769   \n",
       "1           0.12170   3.155040e+08         3.838370e+08        3.255124   \n",
       "2           0.05163   3.146360e+09         7.656040e+09        1.347623   \n",
       "3          -0.04153   1.968303e+09         4.142880e+08        9.708591   \n",
       "4          -0.04153   1.968303e+09         4.142880e+08        9.708591   \n",
       "\n",
       "   earnings_growth_rate  dividend_payout_ratio        equity  debt_to_equity  \\\n",
       "0                   0.1          155000.000000 -1.052416e+10       -1.738710   \n",
       "1                 680.1              47.640053 -4.882380e+08       -1.786168   \n",
       "2                 393.5               1.677255 -1.418716e+10       -1.539646   \n",
       "3                   0.0               0.000000 -1.136053e+09       -1.364673   \n",
       "4                   0.0               0.000000 -1.136053e+09       -1.364673   \n",
       "\n",
       "        roi      roce  \n",
       "0  0.131438  0.000000  \n",
       "1  0.428927  0.079343  \n",
       "2  0.186765  0.070519  \n",
       "3  0.620417 -0.000029  \n",
       "4  0.628930 -0.000029  \n",
       "\n",
       "[5 rows x 43 columns]"
      ]
     },
     "execution_count": 14,
     "metadata": {},
     "output_type": "execute_result"
    }
   ],
   "source": [
    "df_fundamentals_book.head()"
   ]
  },
  {
   "cell_type": "markdown",
   "metadata": {},
   "source": [
    "#### Saving Files"
   ]
  },
  {
   "cell_type": "code",
   "execution_count": 15,
   "metadata": {},
   "outputs": [],
   "source": [
    "Path(file_path_book).mkdir(parents=True, exist_ok=True)\n",
    "df_fundamentals_book.to_csv(file_path_book + \"/fundamentals_book.csv\", index=False)"
   ]
  },
  {
   "cell_type": "markdown",
   "metadata": {},
   "source": [
    "### Macroeconomic Book"
   ]
  },
  {
   "cell_type": "code",
   "execution_count": 16,
   "metadata": {},
   "outputs": [
    {
     "data": {
      "text/html": [
       "<div>\n",
       "<style scoped>\n",
       "    .dataframe tbody tr th:only-of-type {\n",
       "        vertical-align: middle;\n",
       "    }\n",
       "\n",
       "    .dataframe tbody tr th {\n",
       "        vertical-align: top;\n",
       "    }\n",
       "\n",
       "    .dataframe thead th {\n",
       "        text-align: right;\n",
       "    }\n",
       "</style>\n",
       "<table border=\"1\" class=\"dataframe\">\n",
       "  <thead>\n",
       "    <tr style=\"text-align: right;\">\n",
       "      <th></th>\n",
       "      <th>date</th>\n",
       "      <th>selic</th>\n",
       "      <th>confidence</th>\n",
       "      <th>pib</th>\n",
       "      <th>incc</th>\n",
       "      <th>ipca</th>\n",
       "      <th>dolar</th>\n",
       "    </tr>\n",
       "  </thead>\n",
       "  <tbody>\n",
       "    <tr>\n",
       "      <th>0</th>\n",
       "      <td>2019-01-31</td>\n",
       "      <td>6.5</td>\n",
       "      <td>128.64</td>\n",
       "      <td>578214.5</td>\n",
       "      <td>0.49</td>\n",
       "      <td>3.78</td>\n",
       "      <td>3.6513</td>\n",
       "    </tr>\n",
       "    <tr>\n",
       "      <th>1</th>\n",
       "      <td>2019-02-28</td>\n",
       "      <td>6.5</td>\n",
       "      <td>139.39</td>\n",
       "      <td>576089.7</td>\n",
       "      <td>0.09</td>\n",
       "      <td>3.89</td>\n",
       "      <td>3.7379</td>\n",
       "    </tr>\n",
       "    <tr>\n",
       "      <th>2</th>\n",
       "      <td>2019-03-31</td>\n",
       "      <td>6.5</td>\n",
       "      <td>125.53</td>\n",
       "      <td>601749.8</td>\n",
       "      <td>0.31</td>\n",
       "      <td>4.58</td>\n",
       "      <td>3.8961</td>\n",
       "    </tr>\n",
       "    <tr>\n",
       "      <th>3</th>\n",
       "      <td>2019-04-30</td>\n",
       "      <td>6.5</td>\n",
       "      <td>121.71</td>\n",
       "      <td>612918.4</td>\n",
       "      <td>0.38</td>\n",
       "      <td>4.94</td>\n",
       "      <td>3.9447</td>\n",
       "    </tr>\n",
       "    <tr>\n",
       "      <th>4</th>\n",
       "      <td>2019-05-31</td>\n",
       "      <td>6.5</td>\n",
       "      <td>117.01</td>\n",
       "      <td>615304.9</td>\n",
       "      <td>0.03</td>\n",
       "      <td>4.66</td>\n",
       "      <td>3.9401</td>\n",
       "    </tr>\n",
       "  </tbody>\n",
       "</table>\n",
       "</div>"
      ],
      "text/plain": [
       "         date  selic  confidence       pib  incc  ipca   dolar\n",
       "0  2019-01-31    6.5      128.64  578214.5  0.49  3.78  3.6513\n",
       "1  2019-02-28    6.5      139.39  576089.7  0.09  3.89  3.7379\n",
       "2  2019-03-31    6.5      125.53  601749.8  0.31  4.58  3.8961\n",
       "3  2019-04-30    6.5      121.71  612918.4  0.38  4.94  3.9447\n",
       "4  2019-05-31    6.5      117.01  615304.9  0.03  4.66  3.9401"
      ]
     },
     "execution_count": 16,
     "metadata": {},
     "output_type": "execute_result"
    }
   ],
   "source": [
    "df_macroeconomic_cleaned = pd.read_csv(file_path_cleaned + \"/macroeconomic_cleaned.csv\")\n",
    "df_macroeconomic_cleaned.head()"
   ]
  },
  {
   "cell_type": "markdown",
   "metadata": {},
   "source": [
    "#### Feature Creation"
   ]
  },
  {
   "cell_type": "code",
   "execution_count": 17,
   "metadata": {},
   "outputs": [],
   "source": [
    "df_macroeconomic_book_cols = df_macroeconomic_cleaned.copy()"
   ]
  },
  {
   "cell_type": "code",
   "execution_count": 18,
   "metadata": {},
   "outputs": [],
   "source": [
    "df_macroeconomic_book_cols['monthly_inflation'] = df_macroeconomic_book_cols['ipca'].pct_change()\n",
    "df_macroeconomic_book_cols['gdp_growth'] = df_macroeconomic_book_cols['pib'].pct_change()\n",
    "df_macroeconomic_book_cols['dollar_growth'] = df_macroeconomic_book_cols['dolar'].pct_change()\n",
    "df_macroeconomic_book_cols['real_interest_rate'] = df_macroeconomic_book_cols['selic'] - df_macroeconomic_book_cols['ipca']\n",
    "df_macroeconomic_book_cols['inflation_confidence_difference'] = df_macroeconomic_book_cols['ipca'] - df_macroeconomic_book_cols['confidence']"
   ]
  },
  {
   "cell_type": "code",
   "execution_count": 19,
   "metadata": {},
   "outputs": [
    {
     "data": {
      "text/plain": [
       "Index(['date', 'selic', 'confidence', 'pib', 'incc', 'ipca', 'dolar',\n",
       "       'monthly_inflation', 'gdp_growth', 'dollar_growth',\n",
       "       'real_interest_rate', 'inflation_confidence_difference'],\n",
       "      dtype='object')"
      ]
     },
     "execution_count": 19,
     "metadata": {},
     "output_type": "execute_result"
    }
   ],
   "source": [
    "df_macroeconomic_book_cols.columns"
   ]
  },
  {
   "cell_type": "markdown",
   "metadata": {},
   "source": [
    "* In the code block above, we are working with a DataFrame of economic indicators. The fields \"monthly_inflation,\" \"gdp_growth,\" \"dollar_growth,\" \"real_interest_rate,\" and \"inflation_confidence_difference\" are pivotal in our economic analysis. \"Monthly_inflation\" informs us about the monthly changes in inflation, which is vital for understanding price stability. \"GDP_growth\" tracks the growth rate of the Gross Domestic Product, indicating the economic health and expansion of the country. \"Dollar_growth\" reflects changes in the value of the national currency relative to the US dollar, providing insights into exchange rate fluctuations. \"Real_interest_rate\" measures the interest rate adjusted for inflation, helping us assess borrowing costs and investment opportunities. Lastly, \"Inflation_confidence_difference\" quantifies the difference in inflation expectations, shedding light on economic confidence levels. These fields are integral to our economic analysis and inform our decisions."
   ]
  },
  {
   "cell_type": "code",
   "execution_count": 20,
   "metadata": {},
   "outputs": [
    {
     "data": {
      "text/html": [
       "<div>\n",
       "<style scoped>\n",
       "    .dataframe tbody tr th:only-of-type {\n",
       "        vertical-align: middle;\n",
       "    }\n",
       "\n",
       "    .dataframe tbody tr th {\n",
       "        vertical-align: top;\n",
       "    }\n",
       "\n",
       "    .dataframe thead th {\n",
       "        text-align: right;\n",
       "    }\n",
       "</style>\n",
       "<table border=\"1\" class=\"dataframe\">\n",
       "  <thead>\n",
       "    <tr style=\"text-align: right;\">\n",
       "      <th></th>\n",
       "      <th>date</th>\n",
       "      <th>selic</th>\n",
       "      <th>confidence</th>\n",
       "      <th>pib</th>\n",
       "      <th>incc</th>\n",
       "      <th>ipca</th>\n",
       "      <th>dolar</th>\n",
       "      <th>monthly_inflation</th>\n",
       "      <th>gdp_growth</th>\n",
       "      <th>dollar_growth</th>\n",
       "      <th>real_interest_rate</th>\n",
       "      <th>inflation_confidence_difference</th>\n",
       "    </tr>\n",
       "  </thead>\n",
       "  <tbody>\n",
       "    <tr>\n",
       "      <th>0</th>\n",
       "      <td>2019-01-31</td>\n",
       "      <td>6.5</td>\n",
       "      <td>128.64</td>\n",
       "      <td>578214.5</td>\n",
       "      <td>0.49</td>\n",
       "      <td>3.78</td>\n",
       "      <td>3.6513</td>\n",
       "      <td>NaN</td>\n",
       "      <td>NaN</td>\n",
       "      <td>NaN</td>\n",
       "      <td>2.72</td>\n",
       "      <td>-124.86</td>\n",
       "    </tr>\n",
       "    <tr>\n",
       "      <th>1</th>\n",
       "      <td>2019-02-28</td>\n",
       "      <td>6.5</td>\n",
       "      <td>139.39</td>\n",
       "      <td>576089.7</td>\n",
       "      <td>0.09</td>\n",
       "      <td>3.89</td>\n",
       "      <td>3.7379</td>\n",
       "      <td>0.029101</td>\n",
       "      <td>-0.003675</td>\n",
       "      <td>0.023718</td>\n",
       "      <td>2.61</td>\n",
       "      <td>-135.50</td>\n",
       "    </tr>\n",
       "    <tr>\n",
       "      <th>2</th>\n",
       "      <td>2019-03-31</td>\n",
       "      <td>6.5</td>\n",
       "      <td>125.53</td>\n",
       "      <td>601749.8</td>\n",
       "      <td>0.31</td>\n",
       "      <td>4.58</td>\n",
       "      <td>3.8961</td>\n",
       "      <td>0.177378</td>\n",
       "      <td>0.044542</td>\n",
       "      <td>0.042323</td>\n",
       "      <td>1.92</td>\n",
       "      <td>-120.95</td>\n",
       "    </tr>\n",
       "    <tr>\n",
       "      <th>3</th>\n",
       "      <td>2019-04-30</td>\n",
       "      <td>6.5</td>\n",
       "      <td>121.71</td>\n",
       "      <td>612918.4</td>\n",
       "      <td>0.38</td>\n",
       "      <td>4.94</td>\n",
       "      <td>3.9447</td>\n",
       "      <td>0.078603</td>\n",
       "      <td>0.018560</td>\n",
       "      <td>0.012474</td>\n",
       "      <td>1.56</td>\n",
       "      <td>-116.77</td>\n",
       "    </tr>\n",
       "    <tr>\n",
       "      <th>4</th>\n",
       "      <td>2019-05-31</td>\n",
       "      <td>6.5</td>\n",
       "      <td>117.01</td>\n",
       "      <td>615304.9</td>\n",
       "      <td>0.03</td>\n",
       "      <td>4.66</td>\n",
       "      <td>3.9401</td>\n",
       "      <td>-0.056680</td>\n",
       "      <td>0.003894</td>\n",
       "      <td>-0.001166</td>\n",
       "      <td>1.84</td>\n",
       "      <td>-112.35</td>\n",
       "    </tr>\n",
       "  </tbody>\n",
       "</table>\n",
       "</div>"
      ],
      "text/plain": [
       "         date  selic  confidence       pib  incc  ipca   dolar  \\\n",
       "0  2019-01-31    6.5      128.64  578214.5  0.49  3.78  3.6513   \n",
       "1  2019-02-28    6.5      139.39  576089.7  0.09  3.89  3.7379   \n",
       "2  2019-03-31    6.5      125.53  601749.8  0.31  4.58  3.8961   \n",
       "3  2019-04-30    6.5      121.71  612918.4  0.38  4.94  3.9447   \n",
       "4  2019-05-31    6.5      117.01  615304.9  0.03  4.66  3.9401   \n",
       "\n",
       "   monthly_inflation  gdp_growth  dollar_growth  real_interest_rate  \\\n",
       "0                NaN         NaN            NaN                2.72   \n",
       "1           0.029101   -0.003675       0.023718                2.61   \n",
       "2           0.177378    0.044542       0.042323                1.92   \n",
       "3           0.078603    0.018560       0.012474                1.56   \n",
       "4          -0.056680    0.003894      -0.001166                1.84   \n",
       "\n",
       "   inflation_confidence_difference  \n",
       "0                          -124.86  \n",
       "1                          -135.50  \n",
       "2                          -120.95  \n",
       "3                          -116.77  \n",
       "4                          -112.35  "
      ]
     },
     "execution_count": 20,
     "metadata": {},
     "output_type": "execute_result"
    }
   ],
   "source": [
    "df_macroeconomic_book_cols.head(5)"
   ]
  },
  {
   "cell_type": "markdown",
   "metadata": {},
   "source": [
    "#### Cleaning MIssing Values"
   ]
  },
  {
   "cell_type": "code",
   "execution_count": 21,
   "metadata": {},
   "outputs": [],
   "source": [
    "df_macroeconomic_book_missing = df_macroeconomic_book_cols.copy()"
   ]
  },
  {
   "cell_type": "code",
   "execution_count": 22,
   "metadata": {},
   "outputs": [
    {
     "data": {
      "text/plain": [
       "date                               0\n",
       "selic                              0\n",
       "confidence                         0\n",
       "pib                                0\n",
       "incc                               0\n",
       "ipca                               0\n",
       "dolar                              0\n",
       "monthly_inflation                  1\n",
       "gdp_growth                         1\n",
       "dollar_growth                      1\n",
       "real_interest_rate                 0\n",
       "inflation_confidence_difference    0\n",
       "dtype: int64"
      ]
     },
     "execution_count": 22,
     "metadata": {},
     "output_type": "execute_result"
    }
   ],
   "source": [
    "df_macroeconomic_book_missing.isna().sum()"
   ]
  },
  {
   "cell_type": "code",
   "execution_count": 23,
   "metadata": {},
   "outputs": [],
   "source": [
    "dates = df_macroeconomic_book_missing['date']\n",
    "numerical_columns = ['selic', 'confidence', 'pib', 'incc', 'ipca', 'dolar', 'monthly_inflation', 'gdp_growth', 'dollar_growth', 'real_interest_rate', 'inflation_confidence_difference']"
   ]
  },
  {
   "cell_type": "code",
   "execution_count": 24,
   "metadata": {},
   "outputs": [],
   "source": [
    "imputer = KNNImputer(n_neighbors=5)\n",
    "imputed_values = imputer.fit_transform(df_macroeconomic_book_missing[numerical_columns])\n",
    "df_macroeconomic_book_missing = pd.DataFrame(imputed_values, columns=numerical_columns)\n",
    "df_macroeconomic_book_missing['date'] = dates\n",
    "df_macroeconomic_book_missing = df_macroeconomic_book_missing[['date','selic', 'confidence', 'pib', 'incc', 'ipca', 'dolar', 'monthly_inflation', 'gdp_growth', 'dollar_growth', 'real_interest_rate', 'inflation_confidence_difference']]"
   ]
  },
  {
   "cell_type": "markdown",
   "metadata": {},
   "source": [
    "* In the code above, missing data in the macroeconomic dataset stored in the \"df_macroeconomic_book_missing\" DataFrame was addressed. The process involved the use of the KNNImputer, an imputation method based on the k-nearest neighbors algorithm. With a parameter of n_neighbors set to 5, it considered the five nearest neighbors for each missing value in the numerical columns. The resulting imputed values are stored in the \"df_macroeconomic_book_missing\" DataFrame. Additionally, a 'date' column was appended to facilitate time-based analysis, ensuring that imputed values are associated with their respective dates."
   ]
  },
  {
   "cell_type": "code",
   "execution_count": 25,
   "metadata": {},
   "outputs": [
    {
     "data": {
      "text/plain": [
       "date                               0\n",
       "selic                              0\n",
       "confidence                         0\n",
       "pib                                0\n",
       "incc                               0\n",
       "ipca                               0\n",
       "dolar                              0\n",
       "monthly_inflation                  0\n",
       "gdp_growth                         0\n",
       "dollar_growth                      0\n",
       "real_interest_rate                 0\n",
       "inflation_confidence_difference    0\n",
       "dtype: int64"
      ]
     },
     "execution_count": 25,
     "metadata": {},
     "output_type": "execute_result"
    }
   ],
   "source": [
    "df_macroeconomic_book_missing.isna().sum()"
   ]
  },
  {
   "cell_type": "markdown",
   "metadata": {},
   "source": [
    "#### Save Files"
   ]
  },
  {
   "cell_type": "code",
   "execution_count": 26,
   "metadata": {},
   "outputs": [],
   "source": [
    "df_macroeconomic_book = df_macroeconomic_book_missing.copy()"
   ]
  },
  {
   "cell_type": "code",
   "execution_count": 27,
   "metadata": {},
   "outputs": [],
   "source": [
    "Path(file_path_book).mkdir(parents=True, exist_ok=True)\n",
    "df_macroeconomic_book.to_csv(file_path_book + \"/macroeconomic_book.csv\", index=False)"
   ]
  },
  {
   "cell_type": "markdown",
   "metadata": {},
   "source": [
    "### Stocks Book"
   ]
  },
  {
   "cell_type": "code",
   "execution_count": 28,
   "metadata": {},
   "outputs": [
    {
     "data": {
      "text/html": [
       "<div>\n",
       "<style scoped>\n",
       "    .dataframe tbody tr th:only-of-type {\n",
       "        vertical-align: middle;\n",
       "    }\n",
       "\n",
       "    .dataframe tbody tr th {\n",
       "        vertical-align: top;\n",
       "    }\n",
       "\n",
       "    .dataframe thead th {\n",
       "        text-align: right;\n",
       "    }\n",
       "</style>\n",
       "<table border=\"1\" class=\"dataframe\">\n",
       "  <thead>\n",
       "    <tr style=\"text-align: right;\">\n",
       "      <th></th>\n",
       "      <th>date</th>\n",
       "      <th>ticker</th>\n",
       "      <th>adj_close</th>\n",
       "      <th>close</th>\n",
       "      <th>high</th>\n",
       "      <th>low</th>\n",
       "      <th>open</th>\n",
       "      <th>volume</th>\n",
       "    </tr>\n",
       "  </thead>\n",
       "  <tbody>\n",
       "    <tr>\n",
       "      <th>0</th>\n",
       "      <td>2019-01-02</td>\n",
       "      <td>AALR3.SA</td>\n",
       "      <td>13.116831</td>\n",
       "      <td>13.250000</td>\n",
       "      <td>13.500000</td>\n",
       "      <td>13.250000</td>\n",
       "      <td>13.310000</td>\n",
       "      <td>264200.0</td>\n",
       "    </tr>\n",
       "    <tr>\n",
       "      <th>1</th>\n",
       "      <td>2019-01-02</td>\n",
       "      <td>ABCB4.SA</td>\n",
       "      <td>13.077144</td>\n",
       "      <td>17.120001</td>\n",
       "      <td>17.200001</td>\n",
       "      <td>16.350000</td>\n",
       "      <td>16.469999</td>\n",
       "      <td>571700.0</td>\n",
       "    </tr>\n",
       "    <tr>\n",
       "      <th>2</th>\n",
       "      <td>2019-01-02</td>\n",
       "      <td>ABEV3.SA</td>\n",
       "      <td>13.950425</td>\n",
       "      <td>16.150000</td>\n",
       "      <td>16.299999</td>\n",
       "      <td>15.400000</td>\n",
       "      <td>15.400000</td>\n",
       "      <td>18692900.0</td>\n",
       "    </tr>\n",
       "    <tr>\n",
       "      <th>3</th>\n",
       "      <td>2019-01-02</td>\n",
       "      <td>ADHM3.SA</td>\n",
       "      <td>1.243981</td>\n",
       "      <td>1.243981</td>\n",
       "      <td>1.243981</td>\n",
       "      <td>1.235687</td>\n",
       "      <td>1.235687</td>\n",
       "      <td>2170.0</td>\n",
       "    </tr>\n",
       "    <tr>\n",
       "      <th>4</th>\n",
       "      <td>2019-01-02</td>\n",
       "      <td>AFLT3.SA</td>\n",
       "      <td>4.572968</td>\n",
       "      <td>5.400000</td>\n",
       "      <td>5.480000</td>\n",
       "      <td>5.400000</td>\n",
       "      <td>5.480000</td>\n",
       "      <td>500.0</td>\n",
       "    </tr>\n",
       "  </tbody>\n",
       "</table>\n",
       "</div>"
      ],
      "text/plain": [
       "         date    ticker  adj_close      close       high        low  \\\n",
       "0  2019-01-02  AALR3.SA  13.116831  13.250000  13.500000  13.250000   \n",
       "1  2019-01-02  ABCB4.SA  13.077144  17.120001  17.200001  16.350000   \n",
       "2  2019-01-02  ABEV3.SA  13.950425  16.150000  16.299999  15.400000   \n",
       "3  2019-01-02  ADHM3.SA   1.243981   1.243981   1.243981   1.235687   \n",
       "4  2019-01-02  AFLT3.SA   4.572968   5.400000   5.480000   5.400000   \n",
       "\n",
       "        open      volume  \n",
       "0  13.310000    264200.0  \n",
       "1  16.469999    571700.0  \n",
       "2  15.400000  18692900.0  \n",
       "3   1.235687      2170.0  \n",
       "4   5.480000       500.0  "
      ]
     },
     "execution_count": 28,
     "metadata": {},
     "output_type": "execute_result"
    }
   ],
   "source": [
    "df_stocks_cleaned = pd.read_csv(file_path_cleaned + \"/stocks_cleaned.csv\")\n",
    "df_stocks_cleaned.head()"
   ]
  },
  {
   "cell_type": "markdown",
   "metadata": {},
   "source": [
    "#### Feature Creation"
   ]
  },
  {
   "cell_type": "code",
   "execution_count": 29,
   "metadata": {},
   "outputs": [],
   "source": [
    "df_stocks_book_cols = df_stocks_cleaned.copy()"
   ]
  },
  {
   "cell_type": "code",
   "execution_count": 30,
   "metadata": {},
   "outputs": [],
   "source": [
    "df_stocks_book_cols['daily_return'] = df_stocks_book_cols['adj_close'].pct_change()\n",
    "df_stocks_book_cols['short_term_moving_average'] = df_stocks_book_cols['adj_close'].rolling(window=10).mean()\n",
    "df_stocks_book_cols['moving_average_mean'] = df_stocks_book_cols['adj_close'].rolling(window=50).mean()\n",
    "df_stocks_book_cols['long_term_moving_average'] = df_stocks_book_cols['adj_close'].rolling(window=200).mean()\n",
    "\n",
    "window = 14\n",
    "delta = df_stocks_book_cols['adj_close'].diff()\n",
    "gain = delta.where(delta > 0, 0)\n",
    "loss = -delta.where(delta < 0, 0)\n",
    "average_gain = gain.rolling(window=window).mean()\n",
    "average_loss = loss.rolling(window=window).mean()\n",
    "rs = average_gain / average_loss\n",
    "df_stocks_book_cols['rsi'] = 100 - (100 / (1 + rs))\n",
    "\n",
    "df_stocks_book_cols['volatility'] = df_stocks_book_cols['adj_close'].pct_change().rolling(window=20).std()\n",
    "df_stocks_book_cols['average_volume'] = df_stocks_book_cols['volume'].rolling(window=20).mean()\n",
    "df_stocks_book_cols['daily_range'] = df_stocks_book_cols['high'] - df_stocks_book_cols['low']\n",
    "df_stocks_book_cols['open_close_difference'] = df_stocks_book_cols['open'] - df_stocks_book_cols['adj_close']\n",
    "df_stocks_book_cols['high_low_difference'] = df_stocks_book_cols['high'] - df_stocks_book_cols['low']\n",
    "df_stocks_book_cols['acceleration'] = df_stocks_book_cols['adj_close'].pct_change().rolling(window=5).mean()\n",
    "df_stocks_book_cols['hammer'] = (df_stocks_book_cols['open'] > df_stocks_book_cols['adj_close']) & (df_stocks_book_cols['low'] > df_stocks_book_cols['adj_close'] - 0.01)\n",
    "df_stocks_book_cols['cagr'] = ((df_stocks_book_cols['adj_close'] / df_stocks_book_cols['adj_close'].shift(1)) - 1).mean()\n"
   ]
  },
  {
   "cell_type": "markdown",
   "metadata": {},
   "source": [
    "In this section, we explore crucial financial metrics in our dataset:\n",
    "\n",
    "- **daily_return**: Tracks the daily percentage change in asset prices, revealing daily performance dynamics.\n",
    "\n",
    "- **short_term_moving_average**: Computes the average asset price over a brief time frame, aiding short-term trend analysis.\n",
    "\n",
    "- **moving_average_mean**: Highlights the mean price over a specified time window, offering insights into overall price trends.\n",
    "\n",
    "- **long_term_moving_average**: Reflects the average asset price over an extended duration, facilitating long-term trend assessment.\n",
    "\n",
    "- **rsi (Relative Strength Index)**: Measures price momentum, aiding in identifying overbought or oversold conditions.\n",
    "\n",
    "- **volatility**: Quantifies price variability, assisting in risk evaluation and market analysis.\n",
    "\n",
    "- **average_volume**: Indicates average trading volume, valuable for assessing asset liquidity and investor interest.\n",
    "\n",
    "- **daily_range**: Measures the price range between daily highs and lows, a critical factor for risk evaluation.\n",
    "\n",
    "- **open_close_difference**: Calculates the difference between opening and closing prices, revealing intraday price movements.\n",
    "\n",
    "- **high_low_difference**: Quantifies the spread between daily high and low prices, aiding in identifying price extremes.\n",
    "\n",
    "- **acceleration**: Analyzes the rate of price change, providing insights into price movement speed.\n",
    "\n",
    "- **hammer**: Identifies hammer candlestick patterns for potential trend reversals in technical analysis.\n",
    "\n",
    "- **cagr (Compound Annual Growth Rate)**: Computes the annual growth rate of an investment over a specified period, valuable for assessing long-term performance.\n"
   ]
  },
  {
   "cell_type": "code",
   "execution_count": 31,
   "metadata": {},
   "outputs": [
    {
     "data": {
      "text/html": [
       "<div>\n",
       "<style scoped>\n",
       "    .dataframe tbody tr th:only-of-type {\n",
       "        vertical-align: middle;\n",
       "    }\n",
       "\n",
       "    .dataframe tbody tr th {\n",
       "        vertical-align: top;\n",
       "    }\n",
       "\n",
       "    .dataframe thead th {\n",
       "        text-align: right;\n",
       "    }\n",
       "</style>\n",
       "<table border=\"1\" class=\"dataframe\">\n",
       "  <thead>\n",
       "    <tr style=\"text-align: right;\">\n",
       "      <th></th>\n",
       "      <th>date</th>\n",
       "      <th>ticker</th>\n",
       "      <th>adj_close</th>\n",
       "      <th>close</th>\n",
       "      <th>high</th>\n",
       "      <th>low</th>\n",
       "      <th>open</th>\n",
       "      <th>volume</th>\n",
       "      <th>daily_return</th>\n",
       "      <th>short_term_moving_average</th>\n",
       "      <th>...</th>\n",
       "      <th>long_term_moving_average</th>\n",
       "      <th>rsi</th>\n",
       "      <th>volatility</th>\n",
       "      <th>average_volume</th>\n",
       "      <th>daily_range</th>\n",
       "      <th>open_close_difference</th>\n",
       "      <th>high_low_difference</th>\n",
       "      <th>acceleration</th>\n",
       "      <th>hammer</th>\n",
       "      <th>cagr</th>\n",
       "    </tr>\n",
       "  </thead>\n",
       "  <tbody>\n",
       "    <tr>\n",
       "      <th>0</th>\n",
       "      <td>2019-01-02</td>\n",
       "      <td>AALR3.SA</td>\n",
       "      <td>13.116831</td>\n",
       "      <td>13.250000</td>\n",
       "      <td>13.500000</td>\n",
       "      <td>13.25</td>\n",
       "      <td>13.310000</td>\n",
       "      <td>264200.0</td>\n",
       "      <td>NaN</td>\n",
       "      <td>NaN</td>\n",
       "      <td>...</td>\n",
       "      <td>NaN</td>\n",
       "      <td>NaN</td>\n",
       "      <td>NaN</td>\n",
       "      <td>NaN</td>\n",
       "      <td>0.25</td>\n",
       "      <td>0.193170</td>\n",
       "      <td>0.25</td>\n",
       "      <td>NaN</td>\n",
       "      <td>True</td>\n",
       "      <td>2.691226</td>\n",
       "    </tr>\n",
       "    <tr>\n",
       "      <th>1</th>\n",
       "      <td>2019-01-02</td>\n",
       "      <td>ABCB4.SA</td>\n",
       "      <td>13.077144</td>\n",
       "      <td>17.120001</td>\n",
       "      <td>17.200001</td>\n",
       "      <td>16.35</td>\n",
       "      <td>16.469999</td>\n",
       "      <td>571700.0</td>\n",
       "      <td>-0.003026</td>\n",
       "      <td>NaN</td>\n",
       "      <td>...</td>\n",
       "      <td>NaN</td>\n",
       "      <td>NaN</td>\n",
       "      <td>NaN</td>\n",
       "      <td>NaN</td>\n",
       "      <td>0.85</td>\n",
       "      <td>3.392856</td>\n",
       "      <td>0.85</td>\n",
       "      <td>NaN</td>\n",
       "      <td>True</td>\n",
       "      <td>2.691226</td>\n",
       "    </tr>\n",
       "  </tbody>\n",
       "</table>\n",
       "<p>2 rows × 21 columns</p>\n",
       "</div>"
      ],
      "text/plain": [
       "         date    ticker  adj_close      close       high    low       open  \\\n",
       "0  2019-01-02  AALR3.SA  13.116831  13.250000  13.500000  13.25  13.310000   \n",
       "1  2019-01-02  ABCB4.SA  13.077144  17.120001  17.200001  16.35  16.469999   \n",
       "\n",
       "     volume  daily_return  short_term_moving_average  ...  \\\n",
       "0  264200.0           NaN                        NaN  ...   \n",
       "1  571700.0     -0.003026                        NaN  ...   \n",
       "\n",
       "   long_term_moving_average  rsi  volatility  average_volume  daily_range  \\\n",
       "0                       NaN  NaN         NaN             NaN         0.25   \n",
       "1                       NaN  NaN         NaN             NaN         0.85   \n",
       "\n",
       "   open_close_difference  high_low_difference  acceleration  hammer      cagr  \n",
       "0               0.193170                 0.25           NaN    True  2.691226  \n",
       "1               3.392856                 0.85           NaN    True  2.691226  \n",
       "\n",
       "[2 rows x 21 columns]"
      ]
     },
     "execution_count": 31,
     "metadata": {},
     "output_type": "execute_result"
    }
   ],
   "source": [
    "df_stocks_book_cols.head(2)"
   ]
  },
  {
   "cell_type": "markdown",
   "metadata": {},
   "source": [
    "#### Cleaning Missing Values"
   ]
  },
  {
   "cell_type": "code",
   "execution_count": 32,
   "metadata": {},
   "outputs": [],
   "source": [
    "df_stocks_book_missing = df_stocks_book_cols.copy()"
   ]
  },
  {
   "cell_type": "code",
   "execution_count": 33,
   "metadata": {},
   "outputs": [
    {
     "data": {
      "text/plain": [
       "date                           0\n",
       "ticker                         0\n",
       "adj_close                      0\n",
       "close                          0\n",
       "high                           0\n",
       "low                            0\n",
       "open                           0\n",
       "volume                         0\n",
       "daily_return                   1\n",
       "short_term_moving_average      9\n",
       "moving_average_mean           49\n",
       "long_term_moving_average     199\n",
       "rsi                           13\n",
       "volatility                    20\n",
       "average_volume                19\n",
       "daily_range                    0\n",
       "open_close_difference          0\n",
       "high_low_difference            0\n",
       "acceleration                   5\n",
       "hammer                         0\n",
       "cagr                           0\n",
       "dtype: int64"
      ]
     },
     "execution_count": 33,
     "metadata": {},
     "output_type": "execute_result"
    }
   ],
   "source": [
    "df_stocks_book_missing.isna().sum()"
   ]
  },
  {
   "cell_type": "code",
   "execution_count": 34,
   "metadata": {},
   "outputs": [
    {
     "data": {
      "text/html": [
       "<div>\n",
       "<style scoped>\n",
       "    .dataframe tbody tr th:only-of-type {\n",
       "        vertical-align: middle;\n",
       "    }\n",
       "\n",
       "    .dataframe tbody tr th {\n",
       "        vertical-align: top;\n",
       "    }\n",
       "\n",
       "    .dataframe thead th {\n",
       "        text-align: right;\n",
       "    }\n",
       "</style>\n",
       "<table border=\"1\" class=\"dataframe\">\n",
       "  <thead>\n",
       "    <tr style=\"text-align: right;\">\n",
       "      <th></th>\n",
       "      <th>adj_close</th>\n",
       "      <th>close</th>\n",
       "      <th>high</th>\n",
       "      <th>low</th>\n",
       "      <th>open</th>\n",
       "      <th>volume</th>\n",
       "      <th>daily_return</th>\n",
       "      <th>short_term_moving_average</th>\n",
       "      <th>moving_average_mean</th>\n",
       "      <th>long_term_moving_average</th>\n",
       "      <th>...</th>\n",
       "      <th>volatility</th>\n",
       "      <th>average_volume</th>\n",
       "      <th>daily_range</th>\n",
       "      <th>open_close_difference</th>\n",
       "      <th>high_low_difference</th>\n",
       "      <th>acceleration</th>\n",
       "      <th>cagr</th>\n",
       "      <th>date</th>\n",
       "      <th>ticker</th>\n",
       "      <th>hammer</th>\n",
       "    </tr>\n",
       "  </thead>\n",
       "  <tbody>\n",
       "    <tr>\n",
       "      <th>0</th>\n",
       "      <td>13.116831</td>\n",
       "      <td>13.250000</td>\n",
       "      <td>13.500000</td>\n",
       "      <td>13.25</td>\n",
       "      <td>13.310000</td>\n",
       "      <td>264200.0</td>\n",
       "      <td>-0.244840</td>\n",
       "      <td>24.336316</td>\n",
       "      <td>26.882742</td>\n",
       "      <td>40.073211</td>\n",
       "      <td>...</td>\n",
       "      <td>2.608253</td>\n",
       "      <td>1350674.45</td>\n",
       "      <td>0.25</td>\n",
       "      <td>0.193170</td>\n",
       "      <td>0.25</td>\n",
       "      <td>1.183744</td>\n",
       "      <td>2.691226</td>\n",
       "      <td>2019-01-02</td>\n",
       "      <td>AALR3.SA</td>\n",
       "      <td>True</td>\n",
       "    </tr>\n",
       "    <tr>\n",
       "      <th>1</th>\n",
       "      <td>13.077144</td>\n",
       "      <td>17.120001</td>\n",
       "      <td>17.200001</td>\n",
       "      <td>16.35</td>\n",
       "      <td>16.469999</td>\n",
       "      <td>571700.0</td>\n",
       "      <td>-0.003026</td>\n",
       "      <td>15.501511</td>\n",
       "      <td>16.783712</td>\n",
       "      <td>28.646179</td>\n",
       "      <td>...</td>\n",
       "      <td>4.124473</td>\n",
       "      <td>1511679.60</td>\n",
       "      <td>0.85</td>\n",
       "      <td>3.392856</td>\n",
       "      <td>0.85</td>\n",
       "      <td>2.168210</td>\n",
       "      <td>2.691226</td>\n",
       "      <td>2019-01-02</td>\n",
       "      <td>ABCB4.SA</td>\n",
       "      <td>True</td>\n",
       "    </tr>\n",
       "  </tbody>\n",
       "</table>\n",
       "<p>2 rows × 21 columns</p>\n",
       "</div>"
      ],
      "text/plain": [
       "   adj_close      close       high    low       open    volume  daily_return  \\\n",
       "0  13.116831  13.250000  13.500000  13.25  13.310000  264200.0     -0.244840   \n",
       "1  13.077144  17.120001  17.200001  16.35  16.469999  571700.0     -0.003026   \n",
       "\n",
       "   short_term_moving_average  moving_average_mean  long_term_moving_average  \\\n",
       "0                  24.336316            26.882742                 40.073211   \n",
       "1                  15.501511            16.783712                 28.646179   \n",
       "\n",
       "   ...  volatility  average_volume  daily_range  open_close_difference  \\\n",
       "0  ...    2.608253      1350674.45         0.25               0.193170   \n",
       "1  ...    4.124473      1511679.60         0.85               3.392856   \n",
       "\n",
       "   high_low_difference  acceleration      cagr        date    ticker hammer  \n",
       "0                 0.25      1.183744  2.691226  2019-01-02  AALR3.SA   True  \n",
       "1                 0.85      2.168210  2.691226  2019-01-02  ABCB4.SA   True  \n",
       "\n",
       "[2 rows x 21 columns]"
      ]
     },
     "execution_count": 34,
     "metadata": {},
     "output_type": "execute_result"
    }
   ],
   "source": [
    "numeral_columns = df_stocks_book_missing.select_dtypes(include=['number'])\n",
    "numeral_values = df_stocks_book_missing[numeral_columns.columns]\n",
    "\n",
    "imputer = KNNImputer(n_neighbors=5)\n",
    "imputed_values = imputer.fit_transform(numeral_values)\n",
    "numeral_values = pd.DataFrame(imputed_values, columns=numeral_values.columns)\n",
    "\n",
    "categorias_columns = df_stocks_book_missing.select_dtypes(exclude=['number'])\n",
    "categorias_values = df_stocks_book_missing[categorias_columns.columns]\n",
    "\n",
    "df_stocks_book_missing = pd.concat([numeral_values, categorias_values], axis=1)\n",
    "df_stocks_book_missing.head(2)"
   ]
  },
  {
   "cell_type": "code",
   "execution_count": 35,
   "metadata": {},
   "outputs": [
    {
     "data": {
      "text/plain": [
       "adj_close                    0\n",
       "close                        0\n",
       "high                         0\n",
       "low                          0\n",
       "open                         0\n",
       "volume                       0\n",
       "daily_return                 0\n",
       "short_term_moving_average    0\n",
       "moving_average_mean          0\n",
       "long_term_moving_average     0\n",
       "rsi                          0\n",
       "volatility                   0\n",
       "average_volume               0\n",
       "daily_range                  0\n",
       "open_close_difference        0\n",
       "high_low_difference          0\n",
       "acceleration                 0\n",
       "cagr                         0\n",
       "date                         0\n",
       "ticker                       0\n",
       "hammer                       0\n",
       "dtype: int64"
      ]
     },
     "execution_count": 35,
     "metadata": {},
     "output_type": "execute_result"
    }
   ],
   "source": [
    "df_stocks_book_missing.isna().sum()"
   ]
  },
  {
   "cell_type": "markdown",
   "metadata": {},
   "source": [
    "* In the code above, missing data in the macroeconomic dataset stored in the \"df_macroeconomic_book_missing\" DataFrame was addressed. The process involved the use of the KNNImputer, an imputation method based on the k-nearest neighbors algorithm. With a parameter of n_neighbors set to 5, it considered the five nearest neighbors for each missing value in the numerical columns. The resulting imputed values are stored in the \"df_stocks_book_missing\" DataFrame. Additionally, a 'date' column was appended to facilitate time-based analysis, ensuring that imputed values are associated with their respective dates."
   ]
  },
  {
   "cell_type": "code",
   "execution_count": 36,
   "metadata": {},
   "outputs": [],
   "source": [
    "df_stocks_book = df_stocks_book_missing.copy()\n",
    "df_stocks_book = df_stocks_book[['ticker','adj_close', 'close', 'high', 'low', 'open', 'volume', 'daily_return', 'short_term_moving_average', 'moving_average_mean', 'long_term_moving_average', 'rsi', 'volatility', 'average_volume', 'daily_range', 'open_close_difference', 'high_low_difference', 'acceleration', 'cagr', 'date', 'hammer']]"
   ]
  },
  {
   "cell_type": "markdown",
   "metadata": {},
   "source": [
    "##### Save Files"
   ]
  },
  {
   "cell_type": "code",
   "execution_count": 37,
   "metadata": {},
   "outputs": [],
   "source": [
    "Path(file_path_book).mkdir(parents=True, exist_ok=True)\n",
    "df_stocks_book.to_csv(file_path_book + \"/stocks_book.csv\", index=False)"
   ]
  }
 ],
 "metadata": {
  "kernelspec": {
   "display_name": "Python 3",
   "language": "python",
   "name": "python3"
  },
  "language_info": {
   "codemirror_mode": {
    "name": "ipython",
    "version": 3
   },
   "file_extension": ".py",
   "mimetype": "text/x-python",
   "name": "python",
   "nbconvert_exporter": "python",
   "pygments_lexer": "ipython3",
   "version": "3.11.5"
  }
 },
 "nbformat": 4,
 "nbformat_minor": 2
}
