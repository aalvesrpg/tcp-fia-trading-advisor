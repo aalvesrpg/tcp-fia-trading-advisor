{
 "cells": [
  {
   "cell_type": "markdown",
   "metadata": {},
   "source": [
    "# **Data Aquisition Notebook**"
   ]
  },
  {
   "cell_type": "markdown",
   "metadata": {},
   "source": [
    "This notebook aims to centralize the code that captures the data necessary for the development of the trading advisor project. We will use data sources such as Nasdaq Data Link, Yahoo Finance, and Investpy."
   ]
  },
  {
   "cell_type": "markdown",
   "metadata": {},
   "source": [
    "## **Initial Setup**"
   ]
  },
  {
   "cell_type": "markdown",
   "metadata": {},
   "source": [
    "This initial setup section is responsible for managing and installing the necessary packages for running the notebook that acquires the data used in the project. It's worth noting that I also provide the requirements.txt file where all the packages are centralized, and it can be executed in a more silent manner."
   ]
  },
  {
   "cell_type": "markdown",
   "metadata": {},
   "source": [
    "### Install Libs"
   ]
  },
  {
   "cell_type": "code",
   "execution_count": 3,
   "metadata": {},
   "outputs": [
    {
     "name": "stdout",
     "output_type": "stream",
     "text": [
      "Note: you may need to restart the kernel to use updated packages.\n",
      "Note: you may need to restart the kernel to use updated packages.\n",
      "Note: you may need to restart the kernel to use updated packages.\n",
      "Note: you may need to restart the kernel to use updated packages.\n",
      "Note: you may need to restart the kernel to use updated packages.\n",
      "Note: you may need to restart the kernel to use updated packages.\n"
     ]
    }
   ],
   "source": [
    "%pip install --upgrade pip --q --no-cache\n",
    "%pip install pandas --q --no-cache\n",
    "%pip install python-dotenv --q --no-cache\n",
    "%pip install yfinance --q --no-cache\n",
    "%pip install Nasdaq-Data-Link --q --no-cache\n",
    "%pip install investpy --q --no-cache"
   ]
  },
  {
   "cell_type": "markdown",
   "metadata": {},
   "source": [
    "### Import Libs"
   ]
  },
  {
   "cell_type": "code",
   "execution_count": 4,
   "metadata": {},
   "outputs": [],
   "source": [
    "import os\n",
    "from pathlib import Path\n",
    "import pandas as pd\n",
    "from dotenv import load_dotenv\n",
    "import nasdaqdatalink as ndl\n",
    "import yfinance as yf\n",
    "import investpy as inv"
   ]
  },
  {
   "cell_type": "markdown",
   "metadata": {},
   "source": [
    "### Load enviroments var"
   ]
  },
  {
   "cell_type": "code",
   "execution_count": 5,
   "metadata": {},
   "outputs": [
    {
     "data": {
      "text/plain": [
       "True"
      ]
     },
     "execution_count": 5,
     "metadata": {},
     "output_type": "execute_result"
    }
   ],
   "source": [
    "load_dotenv()"
   ]
  },
  {
   "cell_type": "markdown",
   "metadata": {},
   "source": [
    "### Fullfilment constants vars"
   ]
  },
  {
   "cell_type": "code",
   "execution_count": 6,
   "metadata": {},
   "outputs": [],
   "source": [
    "NASDAQ_API_KEY = os.getenv(\"NASDAQ_API_KEY\")\n",
    "ndl.ApiConfig.api_key = NASDAQ_API_KEY"
   ]
  },
  {
   "cell_type": "code",
   "execution_count": 7,
   "metadata": {},
   "outputs": [],
   "source": [
    "country_name = \"brazil\"\n",
    "start_date = \"2019-01-01\""
   ]
  },
  {
   "cell_type": "markdown",
   "metadata": {},
   "source": [
    "### Create a file path default"
   ]
  },
  {
   "cell_type": "code",
   "execution_count": 8,
   "metadata": {},
   "outputs": [],
   "source": [
    "file_path_raw = str(Path(os.getcwd()).parent/\"data/raw\")"
   ]
  },
  {
   "cell_type": "markdown",
   "metadata": {},
   "source": [
    "## **Collecting Data**"
   ]
  },
  {
   "cell_type": "markdown",
   "metadata": {},
   "source": [
    "This data collection section is responsible for retrieving data from the sources for the respective processing. We will collect fundamental and balance sheet data for publicly listed companies, historical data for key macroeconomic indices, and, finally, historical stock price data for the companies' shares."
   ]
  },
  {
   "cell_type": "markdown",
   "metadata": {},
   "source": [
    "### Fundamentals"
   ]
  },
  {
   "cell_type": "markdown",
   "metadata": {},
   "source": [
    "* Listing all publicly traded companies in Brazil."
   ]
  },
  {
   "cell_type": "code",
   "execution_count": 9,
   "metadata": {},
   "outputs": [
    {
     "data": {
      "text/html": [
       "<div>\n",
       "<style scoped>\n",
       "    .dataframe tbody tr th:only-of-type {\n",
       "        vertical-align: middle;\n",
       "    }\n",
       "\n",
       "    .dataframe tbody tr th {\n",
       "        vertical-align: top;\n",
       "    }\n",
       "\n",
       "    .dataframe thead th {\n",
       "        text-align: right;\n",
       "    }\n",
       "</style>\n",
       "<table border=\"1\" class=\"dataframe\">\n",
       "  <thead>\n",
       "    <tr style=\"text-align: right;\">\n",
       "      <th></th>\n",
       "      <th>country</th>\n",
       "      <th>name</th>\n",
       "      <th>full_name</th>\n",
       "      <th>isin</th>\n",
       "      <th>currency</th>\n",
       "      <th>symbol</th>\n",
       "    </tr>\n",
       "  </thead>\n",
       "  <tbody>\n",
       "    <tr>\n",
       "      <th>0</th>\n",
       "      <td>brazil</td>\n",
       "      <td>ABC BRASIL PN</td>\n",
       "      <td>Banco ABC Brasil SA</td>\n",
       "      <td>BRABCBACNPR4</td>\n",
       "      <td>BRL</td>\n",
       "      <td>ABCB4</td>\n",
       "    </tr>\n",
       "    <tr>\n",
       "      <th>1</th>\n",
       "      <td>brazil</td>\n",
       "      <td>BRASILAGRO ON</td>\n",
       "      <td>BrasilAgro - Co ON NM</td>\n",
       "      <td>BRAGROACNOR7</td>\n",
       "      <td>BRL</td>\n",
       "      <td>AGRO3</td>\n",
       "    </tr>\n",
       "  </tbody>\n",
       "</table>\n",
       "</div>"
      ],
      "text/plain": [
       "  country           name              full_name          isin currency symbol\n",
       "0  brazil  ABC BRASIL PN    Banco ABC Brasil SA  BRABCBACNPR4      BRL  ABCB4\n",
       "1  brazil  BRASILAGRO ON  BrasilAgro - Co ON NM  BRAGROACNOR7      BRL  AGRO3"
      ]
     },
     "execution_count": 9,
     "metadata": {},
     "output_type": "execute_result"
    }
   ],
   "source": [
    "df_compaines = inv.stocks.get_stocks(country = country_name)\n",
    "df_compaines.head(2)"
   ]
  },
  {
   "cell_type": "markdown",
   "metadata": {},
   "source": [
    "* Creating a list with the company symbols and adding the (.SA) characters. Adding these characters is necessary as it's required to explicitly specify to the Yahoo Finance API that these companies are from South America (SA)."
   ]
  },
  {
   "cell_type": "code",
   "execution_count": 10,
   "metadata": {},
   "outputs": [],
   "source": [
    "tickers = list(df_compaines[\"symbol\"])\n",
    "tickers_filtered = [tickers_filtered + \".SA\" for tickers_filtered in tickers if len(tickers_filtered) <= 5]"
   ]
  },
  {
   "cell_type": "markdown",
   "metadata": {},
   "source": [
    "* Creating the get_fundamentals_data function to make it feasible to extract data from the Yahoo API. Notice that we've created a dictionary with the names of the main columns we will use. It's worth noting that the Yahoo API returns numerous columns that wouldn't be used in the project."
   ]
  },
  {
   "cell_type": "code",
   "execution_count": 12,
   "metadata": {},
   "outputs": [],
   "source": [
    "def get_fundamentals_data(tickers):\n",
    "\n",
    "    df_list = []\n",
    "\n",
    "    for ticker in tickers:\n",
    "        try:\n",
    "            company = yf.Ticker(ticker)\n",
    "            fundamental_data = company.info\n",
    "\n",
    "            fundamental_data = {\n",
    "                'ticker': fundamental_data.get('symbol'),\n",
    "                'long_name': fundamental_data.get('longName'),\n",
    "                'sector': fundamental_data.get('sector'),\n",
    "                'industry': fundamental_data.get('industry'),\n",
    "                'market_cap': fundamental_data.get('marketCap'),\n",
    "                'enterprise_value': fundamental_data.get('enterpriseValue'),\n",
    "                'total_revenue': fundamental_data.get('totalRevenue'),\n",
    "                'profit_margins': fundamental_data.get('profitMargins'),\n",
    "                'operating_margins': fundamental_data.get('operatingMargins'),\n",
    "                'net_income': fundamental_data.get('netIncome'),\n",
    "                'dividend_rate': fundamental_data.get('dividendRate'),\n",
    "                'beta': fundamental_data.get('beta'),\n",
    "                'ebitda': fundamental_data.get('ebitda'),\n",
    "                'trailing_pe': fundamental_data.get('trailingPE'),\n",
    "                'forward_pe': fundamental_data.get('forwardPE'),\n",
    "                'volume': fundamental_data.get('volume'),\n",
    "                'average_volume': fundamental_data.get('averageVolume'),\n",
    "                'fifty_two_week_low': fundamental_data.get('fiftyTwoWeekLow'),\n",
    "                'fifty_two_week_high': fundamental_data.get('fiftyTwoWeekHigh'),\n",
    "                'price_to_sales_trailing_12_months': fundamental_data.get('priceToSalesTrailing12Months'),\n",
    "                'fifty_day_average': fundamental_data.get('fiftyDayAverage'),\n",
    "                'two_hundred_day_average': fundamental_data.get('twoHundredDayAverage'),\n",
    "                'trailing_annual_dividend_rate': fundamental_data.get('trailingAnnualDividendRate'),\n",
    "                'trailing_annual_dividend_yield': fundamental_data.get('trailingAnnualDividendYield'),\n",
    "                'book_value': fundamental_data.get('bookValue'),\n",
    "                'price_to_book': fundamental_data.get('priceToBook'),\n",
    "                'total_cash': fundamental_data.get('totalCash'),\n",
    "                'total_cash_per_share': fundamental_data.get('totalCashPerShare'),\n",
    "                'total_debt': fundamental_data.get('totalDebt'),\n",
    "                'earnings_quarterly_growth': fundamental_data.get('earningsQuarterlyGrowth'),\n",
    "                'revenue_growth': fundamental_data.get('revenueGrowth'),\n",
    "                'gross_margins': fundamental_data.get('grossMargins'),\n",
    "                'ebitda_margins': fundamental_data.get('ebitdaMargins'),\n",
    "                'operating_margins': fundamental_data.get('operatingMargins'),\n",
    "                'return_on_assets': fundamental_data.get('returnOnAssets'),\n",
    "                'return_on_equity': fundamental_data.get('returnOnEquity'),\n",
    "                'gross_profits': fundamental_data.get('grossProfits')\n",
    "            }\n",
    "\n",
    "            df_ticker = pd.DataFrame([fundamental_data])\n",
    "            df_list.append(df_ticker)\n",
    "\n",
    "        except Exception as e:\n",
    "            print(f\"Error processing ticker {ticker}: {e}\")\n",
    "\n",
    "    if df_list:\n",
    "        df_fundamentals = pd.concat(df_list, ignore_index=True)\n",
    "    else:\n",
    "        df_fundamentals = pd.DataFrame()\n",
    "\n",
    "    return df_fundamentals"
   ]
  },
  {
   "cell_type": "code",
   "execution_count": 13,
   "metadata": {},
   "outputs": [
    {
     "name": "stdout",
     "output_type": "stream",
     "text": [
      "Error processing ticker ENBR3.SA: 404 Client Error: Not Found for url: https://query2.finance.yahoo.com/v6/finance/quoteSummary/ENBR3.SA?modules=financialData&modules=quoteType&modules=defaultKeyStatistics&modules=assetProfile&modules=summaryDetail&ssl=true\n",
      "Error processing ticker GFSA1.SA: 404 Client Error: Not Found for url: https://query2.finance.yahoo.com/v6/finance/quoteSummary/GFSA1.SA?modules=financialData&modules=quoteType&modules=defaultKeyStatistics&modules=assetProfile&modules=summaryDetail&ssl=true\n",
      "Error processing ticker CELP6.SA: 404 Client Error: Not Found for url: https://query2.finance.yahoo.com/v6/finance/quoteSummary/CELP6.SA?modules=financialData&modules=quoteType&modules=defaultKeyStatistics&modules=assetProfile&modules=summaryDetail&ssl=true\n",
      "Error processing ticker JBDU1.SA: 404 Client Error: Not Found for url: https://query2.finance.yahoo.com/v6/finance/quoteSummary/JBDU1.SA?modules=financialData&modules=quoteType&modules=defaultKeyStatistics&modules=assetProfile&modules=summaryDetail&ssl=true\n",
      "Error processing ticker JBDU2.SA: 404 Client Error: Not Found for url: https://query2.finance.yahoo.com/v6/finance/quoteSummary/JBDU2.SA?modules=financialData&modules=quoteType&modules=defaultKeyStatistics&modules=assetProfile&modules=summaryDetail&ssl=true\n",
      "Error processing ticker IDVL9.SA: 404 Client Error: Not Found for url: https://query2.finance.yahoo.com/v6/finance/quoteSummary/IDVL9.SA?modules=financialData&modules=quoteType&modules=defaultKeyStatistics&modules=assetProfile&modules=summaryDetail&ssl=true\n",
      "Error processing ticker TIET2.SA: 404 Client Error: Not Found for url: https://query2.finance.yahoo.com/v6/finance/quoteSummary/TIET2.SA?modules=financialData&modules=quoteType&modules=defaultKeyStatistics&modules=assetProfile&modules=summaryDetail&ssl=true\n",
      "Error processing ticker TCR11.SA: 404 Client Error: Not Found for url: https://query2.finance.yahoo.com/v6/finance/quoteSummary/TCR11.SA?modules=financialData&modules=quoteType&modules=defaultKeyStatistics&modules=assetProfile&modules=summaryDetail&ssl=true\n"
     ]
    },
    {
     "name": "stderr",
     "output_type": "stream",
     "text": [
      "/var/folders/sl/456ghqp95x1d0ly3kxqstmsm0000gn/T/ipykernel_1514/1248689566.py:58: FutureWarning: The behavior of DataFrame concatenation with empty or all-NA entries is deprecated. In a future version, this will no longer exclude empty or all-NA columns when determining the result dtypes. To retain the old behavior, exclude the relevant entries before the concat operation.\n",
      "  df_fundamentals = pd.concat(df_list, ignore_index=True)\n"
     ]
    }
   ],
   "source": [
    "df_fundamentals = get_fundamentals_data(tickers_filtered)"
   ]
  },
  {
   "cell_type": "markdown",
   "metadata": {},
   "source": [
    "* When executing the get_fundamentals_data function, we encounter exceptions in data retrieval for some companies, for example (Error processing ticker JBDU1.SA: 404 Client Error: Not Found for url: ...). This error occurs because the Yahoo API couldn't find data for the company, either because the company is no longer listed on the stock exchange or has changed its symbol, as in the case of Via Varejo, which has changed its symbol several times (VVIA3, VIIA3, and BHIA3)."
   ]
  },
  {
   "cell_type": "code",
   "execution_count": 14,
   "metadata": {},
   "outputs": [
    {
     "data": {
      "text/html": [
       "<div>\n",
       "<style scoped>\n",
       "    .dataframe tbody tr th:only-of-type {\n",
       "        vertical-align: middle;\n",
       "    }\n",
       "\n",
       "    .dataframe tbody tr th {\n",
       "        vertical-align: top;\n",
       "    }\n",
       "\n",
       "    .dataframe thead th {\n",
       "        text-align: right;\n",
       "    }\n",
       "</style>\n",
       "<table border=\"1\" class=\"dataframe\">\n",
       "  <thead>\n",
       "    <tr style=\"text-align: right;\">\n",
       "      <th></th>\n",
       "      <th>ticker</th>\n",
       "      <th>long_name</th>\n",
       "      <th>sector</th>\n",
       "      <th>industry</th>\n",
       "      <th>market_cap</th>\n",
       "      <th>enterprise_value</th>\n",
       "      <th>total_revenue</th>\n",
       "      <th>profit_margins</th>\n",
       "      <th>operating_margins</th>\n",
       "      <th>net_income</th>\n",
       "      <th>...</th>\n",
       "      <th>total_cash</th>\n",
       "      <th>total_cash_per_share</th>\n",
       "      <th>total_debt</th>\n",
       "      <th>earnings_quarterly_growth</th>\n",
       "      <th>revenue_growth</th>\n",
       "      <th>gross_margins</th>\n",
       "      <th>ebitda_margins</th>\n",
       "      <th>return_on_assets</th>\n",
       "      <th>return_on_equity</th>\n",
       "      <th>gross_profits</th>\n",
       "    </tr>\n",
       "  </thead>\n",
       "  <tbody>\n",
       "    <tr>\n",
       "      <th>0</th>\n",
       "      <td>ABCB4.SA</td>\n",
       "      <td>Banco ABC Brasil S.A.</td>\n",
       "      <td>Financial Services</td>\n",
       "      <td>Banks - Regional</td>\n",
       "      <td>4265434112</td>\n",
       "      <td>14773393408</td>\n",
       "      <td>1941778944</td>\n",
       "      <td>0.41576</td>\n",
       "      <td>0.38826</td>\n",
       "      <td>None</td>\n",
       "      <td>...</td>\n",
       "      <td>7774305792</td>\n",
       "      <td>35.162</td>\n",
       "      <td>18298464256</td>\n",
       "      <td>0.001</td>\n",
       "      <td>0.003</td>\n",
       "      <td>0.00000</td>\n",
       "      <td>0.00000</td>\n",
       "      <td>0.01530</td>\n",
       "      <td>0.1568</td>\n",
       "      <td>1973086000</td>\n",
       "    </tr>\n",
       "    <tr>\n",
       "      <th>1</th>\n",
       "      <td>AGRO3.SA</td>\n",
       "      <td>BrasilAgro - Companhia Brasileira de Proprieda...</td>\n",
       "      <td>Consumer Defensive</td>\n",
       "      <td>Farm Products</td>\n",
       "      <td>2466479872</td>\n",
       "      <td>2912933120</td>\n",
       "      <td>1249437056</td>\n",
       "      <td>0.21493</td>\n",
       "      <td>0.25031</td>\n",
       "      <td>None</td>\n",
       "      <td>...</td>\n",
       "      <td>383836992</td>\n",
       "      <td>3.885</td>\n",
       "      <td>872075008</td>\n",
       "      <td>6.801</td>\n",
       "      <td>0.671</td>\n",
       "      <td>0.25252</td>\n",
       "      <td>0.21201</td>\n",
       "      <td>0.03839</td>\n",
       "      <td>0.1217</td>\n",
       "      <td>315504000</td>\n",
       "    </tr>\n",
       "  </tbody>\n",
       "</table>\n",
       "<p>2 rows × 36 columns</p>\n",
       "</div>"
      ],
      "text/plain": [
       "     ticker                                          long_name  \\\n",
       "0  ABCB4.SA                              Banco ABC Brasil S.A.   \n",
       "1  AGRO3.SA  BrasilAgro - Companhia Brasileira de Proprieda...   \n",
       "\n",
       "               sector          industry  market_cap enterprise_value  \\\n",
       "0  Financial Services  Banks - Regional  4265434112      14773393408   \n",
       "1  Consumer Defensive     Farm Products  2466479872       2912933120   \n",
       "\n",
       "  total_revenue  profit_margins  operating_margins net_income  ...  \\\n",
       "0    1941778944         0.41576            0.38826       None  ...   \n",
       "1    1249437056         0.21493            0.25031       None  ...   \n",
       "\n",
       "   total_cash  total_cash_per_share   total_debt  earnings_quarterly_growth  \\\n",
       "0  7774305792                35.162  18298464256                      0.001   \n",
       "1   383836992                 3.885    872075008                      6.801   \n",
       "\n",
       "   revenue_growth gross_margins ebitda_margins  return_on_assets  \\\n",
       "0           0.003       0.00000        0.00000           0.01530   \n",
       "1           0.671       0.25252        0.21201           0.03839   \n",
       "\n",
       "   return_on_equity  gross_profits  \n",
       "0            0.1568     1973086000  \n",
       "1            0.1217      315504000  \n",
       "\n",
       "[2 rows x 36 columns]"
      ]
     },
     "execution_count": 14,
     "metadata": {},
     "output_type": "execute_result"
    }
   ],
   "source": [
    "df_fundamentals.head(2)"
   ]
  },
  {
   "cell_type": "code",
   "execution_count": 15,
   "metadata": {},
   "outputs": [],
   "source": [
    "Path(file_path_raw).mkdir(parents=True, exist_ok=True)\n",
    "df_fundamentals.to_csv(file_path_raw + \"/fundamentals_raw.csv\", index=False)"
   ]
  },
  {
   "cell_type": "markdown",
   "metadata": {},
   "source": [
    "### Stocks"
   ]
  },
  {
   "cell_type": "markdown",
   "metadata": {},
   "source": [
    "* The stocks section is responsible for collecting historical price data of stocks traded on the stock exchange."
   ]
  },
  {
   "cell_type": "code",
   "execution_count": 16,
   "metadata": {},
   "outputs": [],
   "source": [
    "def get_stocks_data(tickers_filtered, start_date):\n",
    "\n",
    "    df = yf.download(tickers_filtered,start=start_date)\n",
    "    _stacked = df.stack()\n",
    "    _stacked.reset_index(inplace=True)\n",
    "    _stacked.rename(columns={\"level_1\" : \"ticker\"}, inplace=True)\n",
    "    df_stocks = _stacked\n",
    "\n",
    "    return df_stocks"
   ]
  },
  {
   "cell_type": "code",
   "execution_count": 17,
   "metadata": {},
   "outputs": [
    {
     "name": "stdout",
     "output_type": "stream",
     "text": [
      "[*********************100%%**********************]  389 of 389 completed"
     ]
    },
    {
     "name": "stderr",
     "output_type": "stream",
     "text": [
      "\n",
      "83 Failed downloads:\n",
      "['BIDI3.SA', 'LINX3.SA', 'CEPE5.SA', 'MEND6.SA', 'TCNO3.SA', 'JPSA3.SA', 'NATU3.SA', 'CCXC3.SA', 'ITEC3.SA', 'TCNO4.SA', 'SMLS3.SA', 'BTOW3.SA', 'BKBR3.SA', 'BBRK3.SA', 'EEEL4.SA', 'LCAM3.SA', 'GPCP3.SA', 'LLIS3.SA', 'SEDU3.SA', 'JBDU4.SA', 'DMMO3.SA', 'MTIG4.SA', 'CELP6.SA', 'GFSA1.SA', 'PARD3.SA', 'CRDE3.SA', 'RLOG3.SA', 'TRPN3.SA', 'TESA3.SA', 'PNVL4.SA', 'JBDU1.SA', 'CELP5.SA', 'CESP3.SA', 'SULA4.SA', 'TIMP3.SA', 'DTEX3.SA', 'ELPL3.SA', 'TCR11.SA', 'CARD3.SA', 'CELP3.SA', 'JBDU3.SA', 'IGTA3.SA', 'CAMB4.SA', 'CESP6.SA', 'IDVL3.SA', 'BTTL3.SA', 'ELEK3.SA', 'IDNT3.SA', 'WIZS3.SA', 'BIDI4.SA', 'MEND5.SA', 'BSEV3.SA', 'CPRE3.SA', 'TIET3.SA', 'IDVL9.SA', 'PCAR4.SA', 'BRDT3.SA', 'LAME4.SA', 'CESP5.SA', 'RANI4.SA', 'LIQO3.SA', 'ELEK4.SA', 'TIET2.SA', 'SPRI3.SA', 'TOYB4.SA', 'LAME3.SA', 'IDVL4.SA', 'GNDI3.SA', 'MMXM3.SA', 'VVAR3.SA', 'OMGE3.SA', 'EEEL3.SA', 'BRML3.SA', 'CELP7.SA', 'TIET4.SA', 'SULA3.SA', 'TOYB3.SA', 'CCPR3.SA', 'CNTO3.SA', 'VIVT4.SA', 'HGTX3.SA', 'JBDU2.SA']: Exception('%ticker%: No timezone found, symbol may be delisted')\n",
      "['ENBR3.SA']: Exception('%ticker%: No data found, symbol may be delisted')\n"
     ]
    },
    {
     "name": "stdout",
     "output_type": "stream",
     "text": [
      "\n"
     ]
    }
   ],
   "source": [
    "df_stocks = get_stocks_data(tickers_filtered, start_date)"
   ]
  },
  {
   "cell_type": "markdown",
   "metadata": {},
   "source": [
    "* When executing the get_stocks_data function, we encounter a progress bar that indicates the completion percentage and the actions that couldn't be collected for reasons already known. These reasons may include the company changing its ticker symbol or no longer being traded on the stock exchange. In the case of stocks, it may also be that the company is not traded on the spot market"
   ]
  },
  {
   "cell_type": "code",
   "execution_count": 18,
   "metadata": {},
   "outputs": [
    {
     "data": {
      "text/html": [
       "<div>\n",
       "<style scoped>\n",
       "    .dataframe tbody tr th:only-of-type {\n",
       "        vertical-align: middle;\n",
       "    }\n",
       "\n",
       "    .dataframe tbody tr th {\n",
       "        vertical-align: top;\n",
       "    }\n",
       "\n",
       "    .dataframe thead th {\n",
       "        text-align: right;\n",
       "    }\n",
       "</style>\n",
       "<table border=\"1\" class=\"dataframe\">\n",
       "  <thead>\n",
       "    <tr style=\"text-align: right;\">\n",
       "      <th></th>\n",
       "      <th>Date</th>\n",
       "      <th>ticker</th>\n",
       "      <th>Adj Close</th>\n",
       "      <th>Close</th>\n",
       "      <th>High</th>\n",
       "      <th>Low</th>\n",
       "      <th>Open</th>\n",
       "      <th>Volume</th>\n",
       "    </tr>\n",
       "  </thead>\n",
       "  <tbody>\n",
       "    <tr>\n",
       "      <th>0</th>\n",
       "      <td>2019-01-02</td>\n",
       "      <td>AALR3.SA</td>\n",
       "      <td>13.116831</td>\n",
       "      <td>13.250000</td>\n",
       "      <td>13.500000</td>\n",
       "      <td>13.25</td>\n",
       "      <td>13.310000</td>\n",
       "      <td>264200.0</td>\n",
       "    </tr>\n",
       "    <tr>\n",
       "      <th>1</th>\n",
       "      <td>2019-01-02</td>\n",
       "      <td>ABCB4.SA</td>\n",
       "      <td>13.077144</td>\n",
       "      <td>17.120001</td>\n",
       "      <td>17.200001</td>\n",
       "      <td>16.35</td>\n",
       "      <td>16.469999</td>\n",
       "      <td>571700.0</td>\n",
       "    </tr>\n",
       "  </tbody>\n",
       "</table>\n",
       "</div>"
      ],
      "text/plain": [
       "        Date    ticker  Adj Close      Close       High    Low       Open  \\\n",
       "0 2019-01-02  AALR3.SA  13.116831  13.250000  13.500000  13.25  13.310000   \n",
       "1 2019-01-02  ABCB4.SA  13.077144  17.120001  17.200001  16.35  16.469999   \n",
       "\n",
       "     Volume  \n",
       "0  264200.0  \n",
       "1  571700.0  "
      ]
     },
     "execution_count": 18,
     "metadata": {},
     "output_type": "execute_result"
    }
   ],
   "source": [
    "df_stocks.head(2)"
   ]
  },
  {
   "cell_type": "code",
   "execution_count": 19,
   "metadata": {},
   "outputs": [],
   "source": [
    "Path(file_path_raw).mkdir(parents=True, exist_ok=True)\n",
    "df_stocks.to_csv(file_path_raw + \"/stocks_raw.csv\", index=False)"
   ]
  },
  {
   "cell_type": "markdown",
   "metadata": {},
   "source": [
    "### Macroeconomic"
   ]
  },
  {
   "cell_type": "markdown",
   "metadata": {},
   "source": [
    "* TODO - FIX 404 NasdaqDataLink"
   ]
  },
  {
   "cell_type": "markdown",
   "metadata": {},
   "source": [
    "* The macroeconomics section is responsible for collecting the country's key macroeconomic data, such as IPCA, GDP, SELIC, and others."
   ]
  },
  {
   "cell_type": "code",
   "execution_count": 20,
   "metadata": {},
   "outputs": [],
   "source": [
    "def get_marcoeconomic_data(start_date):\n",
    "\n",
    "    df_selic = pd.DataFrame()\n",
    "    df_consumer_confidence = pd.DataFrame()\n",
    "    df_pib = pd.DataFrame()\n",
    "    df_incc = pd.DataFrame()\n",
    "    df_ipca = pd.DataFrame()\n",
    "    df_dolar = pd.DataFrame()\n",
    "\n",
    "    df_selic['selic'] = ndl.get('BCB/432', start_date = start_date, collapse = \"monthly\")\n",
    "    df_consumer_confidence['confidence'] = ndl.get('BCB/4393', start_date = start_date, collapse = \"monthly\")\n",
    "    df_pib['pib'] = ndl.get(\"BCB/4380\", start_date = start_date, collapse = \"monthly\")\n",
    "    df_incc['incc'] = ndl.get('BCB/192', start_date = start_date, collapse = \"monthly\")\n",
    "    df_ipca['ipca'] = ndl.get(\"BCB/13522\", start_date = start_date, collapse = \"monthly\")\n",
    "    df_dolar['dolar'] = ndl.get('BCB/10813', start_date = start_date, collapse = \"monthly\")\n",
    "\n",
    "    df_macroeconomic = pd.concat([df_selic, df_consumer_confidence, df_pib, df_incc, df_ipca, df_dolar], axis=1)\n",
    "    df_macroeconomic = df_macroeconomic.reset_index()\n",
    "    \n",
    "    return df_macroeconomic"
   ]
  },
  {
   "cell_type": "code",
   "execution_count": null,
   "metadata": {},
   "outputs": [],
   "source": [
    "df_macroeconomic = get_marcoeconomic_data(start_date)"
   ]
  },
  {
   "cell_type": "code",
   "execution_count": null,
   "metadata": {},
   "outputs": [],
   "source": [
    "df_macroeconomic.head(2)"
   ]
  },
  {
   "cell_type": "code",
   "execution_count": 73,
   "metadata": {},
   "outputs": [],
   "source": [
    "Path(file_path_raw).mkdir(parents=True, exist_ok=True)\n",
    "df_macroeconomic.to_csv(file_path_raw + \"/macroeconomic_raw.csv\", index=False)"
   ]
  },
  {
   "cell_type": "markdown",
   "metadata": {},
   "source": [
    "* We can identify that at the end of the generated dataset, there are null values in the last two rows. This occurs due to the regulatory body's meeting frequency for these indices, which occurs every 45 days."
   ]
  }
 ],
 "metadata": {
  "kernelspec": {
   "display_name": "Python 3",
   "language": "python",
   "name": "python3"
  },
  "language_info": {
   "codemirror_mode": {
    "name": "ipython",
    "version": 3
   },
   "file_extension": ".py",
   "mimetype": "text/x-python",
   "name": "python",
   "nbconvert_exporter": "python",
   "pygments_lexer": "ipython3",
   "version": "3.11.5"
  }
 },
 "nbformat": 4,
 "nbformat_minor": 2
}
