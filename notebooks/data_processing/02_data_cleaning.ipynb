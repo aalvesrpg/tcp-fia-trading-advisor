{
 "cells": [
  {
   "cell_type": "markdown",
   "metadata": {},
   "source": [
    "# **Data Cleaning Notebook**"
   ]
  },
  {
   "cell_type": "markdown",
   "metadata": {},
   "source": [
    "This notebook's central mission is to consolidate data cleaning tasks, such as removing columns and rows with missing values, renaming columns to adhere to PEP8 best practices, and more. It's essential to note that the data in question was captured by the \"01_data_aquisition.ipynb\" notebook. Therefore, it is of paramount importance to ensure that the \"01_data_aquisition.ipynb\" notebook has been properly executed before running this one."
   ]
  },
  {
   "cell_type": "markdown",
   "metadata": {},
   "source": [
    "## **Initial Setup**"
   ]
  },
  {
   "cell_type": "markdown",
   "metadata": {},
   "source": [
    "This initial setup section is responsible for managing and installing the necessary packages for running the notebook that acquires the data used in the project. It's worth noting that I also provide the requirements.txt file where all the packages are centralized, and it can be executed in a more silent manner."
   ]
  },
  {
   "cell_type": "markdown",
   "metadata": {},
   "source": [
    "### Import Libs"
   ]
  },
  {
   "cell_type": "code",
   "execution_count": 6,
   "metadata": {},
   "outputs": [],
   "source": [
    "import os\n",
    "import pandas as pd\n",
    "from pathlib import Path"
   ]
  },
  {
   "cell_type": "markdown",
   "metadata": {},
   "source": [
    "### Create a file path default"
   ]
  },
  {
   "cell_type": "markdown",
   "metadata": {},
   "source": [
    "#### Full Data"
   ]
  },
  {
   "cell_type": "code",
   "execution_count": 8,
   "metadata": {},
   "outputs": [],
   "source": [
    "file_path_raw = str(Path(os.getcwd()).parent/\"data/raw\")\n",
    "file_path_cleaned  = str(Path(os.getcwd()).parent/\"data/cleaned\")"
   ]
  },
  {
   "cell_type": "markdown",
   "metadata": {},
   "source": [
    "## **Cleaning Data**"
   ]
  },
  {
   "cell_type": "markdown",
   "metadata": {},
   "source": [
    "* In this section, the data cleaning process is presented, which includes tasks such as filling or removing rows and columns with missing values, renaming, and retaining the necessary columns for the project's execution."
   ]
  },
  {
   "cell_type": "markdown",
   "metadata": {},
   "source": [
    "### Fundamentals Data"
   ]
  },
  {
   "cell_type": "code",
   "execution_count": 9,
   "metadata": {},
   "outputs": [
    {
     "data": {
      "text/html": [
       "<div>\n",
       "<style scoped>\n",
       "    .dataframe tbody tr th:only-of-type {\n",
       "        vertical-align: middle;\n",
       "    }\n",
       "\n",
       "    .dataframe tbody tr th {\n",
       "        vertical-align: top;\n",
       "    }\n",
       "\n",
       "    .dataframe thead th {\n",
       "        text-align: right;\n",
       "    }\n",
       "</style>\n",
       "<table border=\"1\" class=\"dataframe\">\n",
       "  <thead>\n",
       "    <tr style=\"text-align: right;\">\n",
       "      <th></th>\n",
       "      <th>ticker</th>\n",
       "      <th>long_name</th>\n",
       "      <th>sector</th>\n",
       "      <th>industry</th>\n",
       "      <th>market_cap</th>\n",
       "      <th>enterprise_value</th>\n",
       "      <th>total_revenue</th>\n",
       "      <th>profit_margins</th>\n",
       "      <th>operating_margins</th>\n",
       "      <th>net_income</th>\n",
       "      <th>...</th>\n",
       "      <th>total_cash</th>\n",
       "      <th>total_cash_per_share</th>\n",
       "      <th>total_debt</th>\n",
       "      <th>earnings_quarterly_growth</th>\n",
       "      <th>revenue_growth</th>\n",
       "      <th>gross_margins</th>\n",
       "      <th>ebitda_margins</th>\n",
       "      <th>return_on_assets</th>\n",
       "      <th>return_on_equity</th>\n",
       "      <th>gross_profits</th>\n",
       "    </tr>\n",
       "  </thead>\n",
       "  <tbody>\n",
       "    <tr>\n",
       "      <th>0</th>\n",
       "      <td>ABCB4.SA</td>\n",
       "      <td>Banco ABC Brasil S.A.</td>\n",
       "      <td>Financial Services</td>\n",
       "      <td>Banks - Regional</td>\n",
       "      <td>4.265434e+09</td>\n",
       "      <td>1.477339e+10</td>\n",
       "      <td>1.941779e+09</td>\n",
       "      <td>0.41576</td>\n",
       "      <td>0.38826</td>\n",
       "      <td>NaN</td>\n",
       "      <td>...</td>\n",
       "      <td>7.774306e+09</td>\n",
       "      <td>35.162</td>\n",
       "      <td>1.829846e+10</td>\n",
       "      <td>0.001</td>\n",
       "      <td>0.003</td>\n",
       "      <td>0.00000</td>\n",
       "      <td>0.00000</td>\n",
       "      <td>0.01530</td>\n",
       "      <td>0.15680</td>\n",
       "      <td>1.973086e+09</td>\n",
       "    </tr>\n",
       "    <tr>\n",
       "      <th>1</th>\n",
       "      <td>AGRO3.SA</td>\n",
       "      <td>BrasilAgro - Companhia Brasileira de Proprieda...</td>\n",
       "      <td>Consumer Defensive</td>\n",
       "      <td>Farm Products</td>\n",
       "      <td>2.466480e+09</td>\n",
       "      <td>2.912933e+09</td>\n",
       "      <td>1.249437e+09</td>\n",
       "      <td>0.21493</td>\n",
       "      <td>0.25031</td>\n",
       "      <td>NaN</td>\n",
       "      <td>...</td>\n",
       "      <td>3.838370e+08</td>\n",
       "      <td>3.885</td>\n",
       "      <td>8.720750e+08</td>\n",
       "      <td>6.801</td>\n",
       "      <td>0.671</td>\n",
       "      <td>0.25252</td>\n",
       "      <td>0.21201</td>\n",
       "      <td>0.03839</td>\n",
       "      <td>0.12170</td>\n",
       "      <td>3.155040e+08</td>\n",
       "    </tr>\n",
       "    <tr>\n",
       "      <th>2</th>\n",
       "      <td>RAIL3.SA</td>\n",
       "      <td>Rumo S.A.</td>\n",
       "      <td>Industrials</td>\n",
       "      <td>Railroads</td>\n",
       "      <td>4.228882e+10</td>\n",
       "      <td>5.524305e+10</td>\n",
       "      <td>1.031746e+10</td>\n",
       "      <td>0.07639</td>\n",
       "      <td>0.33544</td>\n",
       "      <td>NaN</td>\n",
       "      <td>...</td>\n",
       "      <td>7.656040e+09</td>\n",
       "      <td>4.132</td>\n",
       "      <td>2.184320e+10</td>\n",
       "      <td>3.935</td>\n",
       "      <td>0.121</td>\n",
       "      <td>0.34493</td>\n",
       "      <td>0.43834</td>\n",
       "      <td>0.04252</td>\n",
       "      <td>0.05163</td>\n",
       "      <td>3.146360e+09</td>\n",
       "    </tr>\n",
       "    <tr>\n",
       "      <th>3</th>\n",
       "      <td>ALPA3.SA</td>\n",
       "      <td>Alpargatas S.A.</td>\n",
       "      <td>Consumer Cyclical</td>\n",
       "      <td>Footwear &amp; Accessories</td>\n",
       "      <td>5.309793e+09</td>\n",
       "      <td>6.482982e+09</td>\n",
       "      <td>4.022153e+09</td>\n",
       "      <td>-0.05671</td>\n",
       "      <td>-0.06434</td>\n",
       "      <td>NaN</td>\n",
       "      <td>...</td>\n",
       "      <td>4.142880e+08</td>\n",
       "      <td>0.614</td>\n",
       "      <td>1.550341e+09</td>\n",
       "      <td>NaN</td>\n",
       "      <td>-0.127</td>\n",
       "      <td>0.43246</td>\n",
       "      <td>-0.00005</td>\n",
       "      <td>-0.00910</td>\n",
       "      <td>-0.04153</td>\n",
       "      <td>1.968303e+09</td>\n",
       "    </tr>\n",
       "    <tr>\n",
       "      <th>4</th>\n",
       "      <td>ALPA4.SA</td>\n",
       "      <td>Alpargatas S.A.</td>\n",
       "      <td>Consumer Cyclical</td>\n",
       "      <td>Footwear &amp; Accessories</td>\n",
       "      <td>5.350758e+09</td>\n",
       "      <td>6.395236e+09</td>\n",
       "      <td>4.022153e+09</td>\n",
       "      <td>-0.05671</td>\n",
       "      <td>-0.06434</td>\n",
       "      <td>NaN</td>\n",
       "      <td>...</td>\n",
       "      <td>4.142880e+08</td>\n",
       "      <td>0.614</td>\n",
       "      <td>1.550341e+09</td>\n",
       "      <td>NaN</td>\n",
       "      <td>-0.127</td>\n",
       "      <td>0.43246</td>\n",
       "      <td>-0.00005</td>\n",
       "      <td>-0.00910</td>\n",
       "      <td>-0.04153</td>\n",
       "      <td>1.968303e+09</td>\n",
       "    </tr>\n",
       "  </tbody>\n",
       "</table>\n",
       "<p>5 rows × 36 columns</p>\n",
       "</div>"
      ],
      "text/plain": [
       "     ticker                                          long_name  \\\n",
       "0  ABCB4.SA                              Banco ABC Brasil S.A.   \n",
       "1  AGRO3.SA  BrasilAgro - Companhia Brasileira de Proprieda...   \n",
       "2  RAIL3.SA                                          Rumo S.A.   \n",
       "3  ALPA3.SA                                    Alpargatas S.A.   \n",
       "4  ALPA4.SA                                    Alpargatas S.A.   \n",
       "\n",
       "               sector                industry    market_cap  enterprise_value  \\\n",
       "0  Financial Services        Banks - Regional  4.265434e+09      1.477339e+10   \n",
       "1  Consumer Defensive           Farm Products  2.466480e+09      2.912933e+09   \n",
       "2         Industrials               Railroads  4.228882e+10      5.524305e+10   \n",
       "3   Consumer Cyclical  Footwear & Accessories  5.309793e+09      6.482982e+09   \n",
       "4   Consumer Cyclical  Footwear & Accessories  5.350758e+09      6.395236e+09   \n",
       "\n",
       "   total_revenue  profit_margins  operating_margins  net_income  ...  \\\n",
       "0   1.941779e+09         0.41576            0.38826         NaN  ...   \n",
       "1   1.249437e+09         0.21493            0.25031         NaN  ...   \n",
       "2   1.031746e+10         0.07639            0.33544         NaN  ...   \n",
       "3   4.022153e+09        -0.05671           -0.06434         NaN  ...   \n",
       "4   4.022153e+09        -0.05671           -0.06434         NaN  ...   \n",
       "\n",
       "     total_cash  total_cash_per_share    total_debt  \\\n",
       "0  7.774306e+09                35.162  1.829846e+10   \n",
       "1  3.838370e+08                 3.885  8.720750e+08   \n",
       "2  7.656040e+09                 4.132  2.184320e+10   \n",
       "3  4.142880e+08                 0.614  1.550341e+09   \n",
       "4  4.142880e+08                 0.614  1.550341e+09   \n",
       "\n",
       "   earnings_quarterly_growth  revenue_growth  gross_margins  ebitda_margins  \\\n",
       "0                      0.001           0.003        0.00000         0.00000   \n",
       "1                      6.801           0.671        0.25252         0.21201   \n",
       "2                      3.935           0.121        0.34493         0.43834   \n",
       "3                        NaN          -0.127        0.43246        -0.00005   \n",
       "4                        NaN          -0.127        0.43246        -0.00005   \n",
       "\n",
       "   return_on_assets  return_on_equity  gross_profits  \n",
       "0           0.01530           0.15680   1.973086e+09  \n",
       "1           0.03839           0.12170   3.155040e+08  \n",
       "2           0.04252           0.05163   3.146360e+09  \n",
       "3          -0.00910          -0.04153   1.968303e+09  \n",
       "4          -0.00910          -0.04153   1.968303e+09  \n",
       "\n",
       "[5 rows x 36 columns]"
      ]
     },
     "execution_count": 9,
     "metadata": {},
     "output_type": "execute_result"
    }
   ],
   "source": [
    "df_fundamentals_raw = pd.read_csv(file_path_raw + \"/fundamentals_raw.csv\")\n",
    "df_fundamentals_raw.head()"
   ]
  },
  {
   "cell_type": "markdown",
   "metadata": {},
   "source": [
    "#### Cleaning the columns"
   ]
  },
  {
   "cell_type": "code",
   "execution_count": 10,
   "metadata": {},
   "outputs": [
    {
     "data": {
      "text/plain": [
       "Index(['ticker', 'long_name', 'sector', 'industry', 'market_cap',\n",
       "       'enterprise_value', 'total_revenue', 'profit_margins',\n",
       "       'operating_margins', 'net_income', 'dividend_rate', 'beta', 'ebitda',\n",
       "       'trailing_pe', 'forward_pe', 'volume', 'average_volume',\n",
       "       'fifty_two_week_low', 'fifty_two_week_high',\n",
       "       'price_to_sales_trailing_12_months', 'fifty_day_average',\n",
       "       'two_hundred_day_average', 'trailing_annual_dividend_rate',\n",
       "       'trailing_annual_dividend_yield', 'book_value', 'price_to_book',\n",
       "       'total_cash', 'total_cash_per_share', 'total_debt',\n",
       "       'earnings_quarterly_growth', 'revenue_growth', 'gross_margins',\n",
       "       'ebitda_margins', 'return_on_assets', 'return_on_equity',\n",
       "       'gross_profits'],\n",
       "      dtype='object')"
      ]
     },
     "execution_count": 10,
     "metadata": {},
     "output_type": "execute_result"
    }
   ],
   "source": [
    "df_fundamentals_raw.columns"
   ]
  },
  {
   "cell_type": "code",
   "execution_count": 12,
   "metadata": {},
   "outputs": [
    {
     "data": {
      "text/html": [
       "<div>\n",
       "<style scoped>\n",
       "    .dataframe tbody tr th:only-of-type {\n",
       "        vertical-align: middle;\n",
       "    }\n",
       "\n",
       "    .dataframe tbody tr th {\n",
       "        vertical-align: top;\n",
       "    }\n",
       "\n",
       "    .dataframe thead th {\n",
       "        text-align: right;\n",
       "    }\n",
       "</style>\n",
       "<table border=\"1\" class=\"dataframe\">\n",
       "  <thead>\n",
       "    <tr style=\"text-align: right;\">\n",
       "      <th></th>\n",
       "      <th>ticker</th>\n",
       "      <th>long_name</th>\n",
       "      <th>sector</th>\n",
       "      <th>industry</th>\n",
       "      <th>market_cap</th>\n",
       "      <th>enterprise_value</th>\n",
       "      <th>total_revenue</th>\n",
       "      <th>profit_margins</th>\n",
       "      <th>operating_margins</th>\n",
       "      <th>dividend_rate</th>\n",
       "      <th>...</th>\n",
       "      <th>total_cash</th>\n",
       "      <th>total_cash_per_share</th>\n",
       "      <th>total_debt</th>\n",
       "      <th>earnings_quarterly_growth</th>\n",
       "      <th>revenue_growth</th>\n",
       "      <th>gross_margins</th>\n",
       "      <th>ebitda_margins</th>\n",
       "      <th>return_on_assets</th>\n",
       "      <th>return_on_equity</th>\n",
       "      <th>gross_profits</th>\n",
       "    </tr>\n",
       "  </thead>\n",
       "  <tbody>\n",
       "    <tr>\n",
       "      <th>0</th>\n",
       "      <td>ABCB4.SA</td>\n",
       "      <td>Banco ABC Brasil S.A.</td>\n",
       "      <td>Financial Services</td>\n",
       "      <td>Banks - Regional</td>\n",
       "      <td>4.265434e+09</td>\n",
       "      <td>1.477339e+10</td>\n",
       "      <td>1.941779e+09</td>\n",
       "      <td>0.41576</td>\n",
       "      <td>0.38826</td>\n",
       "      <td>1.56</td>\n",
       "      <td>...</td>\n",
       "      <td>7.774306e+09</td>\n",
       "      <td>35.162</td>\n",
       "      <td>1.829846e+10</td>\n",
       "      <td>0.001</td>\n",
       "      <td>0.003</td>\n",
       "      <td>0.00000</td>\n",
       "      <td>0.00000</td>\n",
       "      <td>0.01530</td>\n",
       "      <td>0.15680</td>\n",
       "      <td>1.973086e+09</td>\n",
       "    </tr>\n",
       "    <tr>\n",
       "      <th>1</th>\n",
       "      <td>AGRO3.SA</td>\n",
       "      <td>BrasilAgro - Companhia Brasileira de Proprieda...</td>\n",
       "      <td>Consumer Defensive</td>\n",
       "      <td>Farm Products</td>\n",
       "      <td>2.466480e+09</td>\n",
       "      <td>2.912933e+09</td>\n",
       "      <td>1.249437e+09</td>\n",
       "      <td>0.21493</td>\n",
       "      <td>0.25031</td>\n",
       "      <td>3.21</td>\n",
       "      <td>...</td>\n",
       "      <td>3.838370e+08</td>\n",
       "      <td>3.885</td>\n",
       "      <td>8.720750e+08</td>\n",
       "      <td>6.801</td>\n",
       "      <td>0.671</td>\n",
       "      <td>0.25252</td>\n",
       "      <td>0.21201</td>\n",
       "      <td>0.03839</td>\n",
       "      <td>0.12170</td>\n",
       "      <td>3.155040e+08</td>\n",
       "    </tr>\n",
       "    <tr>\n",
       "      <th>2</th>\n",
       "      <td>RAIL3.SA</td>\n",
       "      <td>Rumo S.A.</td>\n",
       "      <td>Industrials</td>\n",
       "      <td>Railroads</td>\n",
       "      <td>4.228882e+10</td>\n",
       "      <td>5.524305e+10</td>\n",
       "      <td>1.031746e+10</td>\n",
       "      <td>0.07639</td>\n",
       "      <td>0.33544</td>\n",
       "      <td>0.07</td>\n",
       "      <td>...</td>\n",
       "      <td>7.656040e+09</td>\n",
       "      <td>4.132</td>\n",
       "      <td>2.184320e+10</td>\n",
       "      <td>3.935</td>\n",
       "      <td>0.121</td>\n",
       "      <td>0.34493</td>\n",
       "      <td>0.43834</td>\n",
       "      <td>0.04252</td>\n",
       "      <td>0.05163</td>\n",
       "      <td>3.146360e+09</td>\n",
       "    </tr>\n",
       "    <tr>\n",
       "      <th>3</th>\n",
       "      <td>ALPA3.SA</td>\n",
       "      <td>Alpargatas S.A.</td>\n",
       "      <td>Consumer Cyclical</td>\n",
       "      <td>Footwear &amp; Accessories</td>\n",
       "      <td>5.309793e+09</td>\n",
       "      <td>6.482982e+09</td>\n",
       "      <td>4.022153e+09</td>\n",
       "      <td>-0.05671</td>\n",
       "      <td>-0.06434</td>\n",
       "      <td>0.40</td>\n",
       "      <td>...</td>\n",
       "      <td>4.142880e+08</td>\n",
       "      <td>0.614</td>\n",
       "      <td>1.550341e+09</td>\n",
       "      <td>NaN</td>\n",
       "      <td>-0.127</td>\n",
       "      <td>0.43246</td>\n",
       "      <td>-0.00005</td>\n",
       "      <td>-0.00910</td>\n",
       "      <td>-0.04153</td>\n",
       "      <td>1.968303e+09</td>\n",
       "    </tr>\n",
       "    <tr>\n",
       "      <th>4</th>\n",
       "      <td>ALPA4.SA</td>\n",
       "      <td>Alpargatas S.A.</td>\n",
       "      <td>Consumer Cyclical</td>\n",
       "      <td>Footwear &amp; Accessories</td>\n",
       "      <td>5.350758e+09</td>\n",
       "      <td>6.395236e+09</td>\n",
       "      <td>4.022153e+09</td>\n",
       "      <td>-0.05671</td>\n",
       "      <td>-0.06434</td>\n",
       "      <td>0.43</td>\n",
       "      <td>...</td>\n",
       "      <td>4.142880e+08</td>\n",
       "      <td>0.614</td>\n",
       "      <td>1.550341e+09</td>\n",
       "      <td>NaN</td>\n",
       "      <td>-0.127</td>\n",
       "      <td>0.43246</td>\n",
       "      <td>-0.00005</td>\n",
       "      <td>-0.00910</td>\n",
       "      <td>-0.04153</td>\n",
       "      <td>1.968303e+09</td>\n",
       "    </tr>\n",
       "    <tr>\n",
       "      <th>...</th>\n",
       "      <td>...</td>\n",
       "      <td>...</td>\n",
       "      <td>...</td>\n",
       "      <td>...</td>\n",
       "      <td>...</td>\n",
       "      <td>...</td>\n",
       "      <td>...</td>\n",
       "      <td>...</td>\n",
       "      <td>...</td>\n",
       "      <td>...</td>\n",
       "      <td>...</td>\n",
       "      <td>...</td>\n",
       "      <td>...</td>\n",
       "      <td>...</td>\n",
       "      <td>...</td>\n",
       "      <td>...</td>\n",
       "      <td>...</td>\n",
       "      <td>...</td>\n",
       "      <td>...</td>\n",
       "      <td>...</td>\n",
       "      <td>...</td>\n",
       "    </tr>\n",
       "    <tr>\n",
       "      <th>377</th>\n",
       "      <td>MOAR3.SA</td>\n",
       "      <td>Monteiro Aranha S.A.</td>\n",
       "      <td>Industrials</td>\n",
       "      <td>Conglomerates</td>\n",
       "      <td>4.888106e+09</td>\n",
       "      <td>4.646195e+09</td>\n",
       "      <td>NaN</td>\n",
       "      <td>0.00000</td>\n",
       "      <td>0.00000</td>\n",
       "      <td>13.47</td>\n",
       "      <td>...</td>\n",
       "      <td>1.125510e+09</td>\n",
       "      <td>91.869</td>\n",
       "      <td>8.835900e+08</td>\n",
       "      <td>NaN</td>\n",
       "      <td>NaN</td>\n",
       "      <td>0.00000</td>\n",
       "      <td>0.00000</td>\n",
       "      <td>-0.00678</td>\n",
       "      <td>0.69316</td>\n",
       "      <td>-1.840000e+05</td>\n",
       "    </tr>\n",
       "    <tr>\n",
       "      <th>378</th>\n",
       "      <td>BIDI3.SA</td>\n",
       "      <td>NaN</td>\n",
       "      <td>NaN</td>\n",
       "      <td>NaN</td>\n",
       "      <td>NaN</td>\n",
       "      <td>NaN</td>\n",
       "      <td>NaN</td>\n",
       "      <td>NaN</td>\n",
       "      <td>NaN</td>\n",
       "      <td>NaN</td>\n",
       "      <td>...</td>\n",
       "      <td>NaN</td>\n",
       "      <td>NaN</td>\n",
       "      <td>NaN</td>\n",
       "      <td>NaN</td>\n",
       "      <td>NaN</td>\n",
       "      <td>NaN</td>\n",
       "      <td>NaN</td>\n",
       "      <td>NaN</td>\n",
       "      <td>NaN</td>\n",
       "      <td>NaN</td>\n",
       "    </tr>\n",
       "    <tr>\n",
       "      <th>379</th>\n",
       "      <td>VIVA3.SA</td>\n",
       "      <td>Vivara Participações S.A.</td>\n",
       "      <td>Consumer Cyclical</td>\n",
       "      <td>Luxury Goods</td>\n",
       "      <td>6.171674e+09</td>\n",
       "      <td>6.587251e+09</td>\n",
       "      <td>1.988458e+09</td>\n",
       "      <td>0.18830</td>\n",
       "      <td>0.22546</td>\n",
       "      <td>0.36</td>\n",
       "      <td>...</td>\n",
       "      <td>2.071274e+08</td>\n",
       "      <td>0.880</td>\n",
       "      <td>7.124596e+08</td>\n",
       "      <td>0.235</td>\n",
       "      <td>0.193</td>\n",
       "      <td>0.69784</td>\n",
       "      <td>0.22723</td>\n",
       "      <td>0.09562</td>\n",
       "      <td>0.22541</td>\n",
       "      <td>1.270208e+09</td>\n",
       "    </tr>\n",
       "    <tr>\n",
       "      <th>380</th>\n",
       "      <td>CEAB3.SA</td>\n",
       "      <td>C&amp;A Modas S.A.</td>\n",
       "      <td>Consumer Cyclical</td>\n",
       "      <td>Specialty Retail</td>\n",
       "      <td>1.589094e+09</td>\n",
       "      <td>4.017418e+09</td>\n",
       "      <td>6.239824e+09</td>\n",
       "      <td>0.00470</td>\n",
       "      <td>0.06204</td>\n",
       "      <td>0.51</td>\n",
       "      <td>...</td>\n",
       "      <td>9.653540e+08</td>\n",
       "      <td>3.159</td>\n",
       "      <td>3.454800e+09</td>\n",
       "      <td>1.015</td>\n",
       "      <td>0.008</td>\n",
       "      <td>0.48914</td>\n",
       "      <td>0.08049</td>\n",
       "      <td>0.02635</td>\n",
       "      <td>0.01025</td>\n",
       "      <td>3.041838e+09</td>\n",
       "    </tr>\n",
       "    <tr>\n",
       "      <th>381</th>\n",
       "      <td>BMGB4.SA</td>\n",
       "      <td>Banco BMG S.A.</td>\n",
       "      <td>Financial Services</td>\n",
       "      <td>Banks - Regional</td>\n",
       "      <td>1.375972e+09</td>\n",
       "      <td>1.110565e+10</td>\n",
       "      <td>2.034155e+09</td>\n",
       "      <td>0.06339</td>\n",
       "      <td>0.38392</td>\n",
       "      <td>0.17</td>\n",
       "      <td>...</td>\n",
       "      <td>1.052090e+09</td>\n",
       "      <td>1.805</td>\n",
       "      <td>1.074202e+10</td>\n",
       "      <td>NaN</td>\n",
       "      <td>-0.132</td>\n",
       "      <td>0.00000</td>\n",
       "      <td>0.00000</td>\n",
       "      <td>0.00339</td>\n",
       "      <td>0.03484</td>\n",
       "      <td>2.018078e+09</td>\n",
       "    </tr>\n",
       "  </tbody>\n",
       "</table>\n",
       "<p>382 rows × 35 columns</p>\n",
       "</div>"
      ],
      "text/plain": [
       "       ticker                                          long_name  \\\n",
       "0    ABCB4.SA                              Banco ABC Brasil S.A.   \n",
       "1    AGRO3.SA  BrasilAgro - Companhia Brasileira de Proprieda...   \n",
       "2    RAIL3.SA                                          Rumo S.A.   \n",
       "3    ALPA3.SA                                    Alpargatas S.A.   \n",
       "4    ALPA4.SA                                    Alpargatas S.A.   \n",
       "..        ...                                                ...   \n",
       "377  MOAR3.SA                               Monteiro Aranha S.A.   \n",
       "378  BIDI3.SA                                                NaN   \n",
       "379  VIVA3.SA                          Vivara Participações S.A.   \n",
       "380  CEAB3.SA                                     C&A Modas S.A.   \n",
       "381  BMGB4.SA                                     Banco BMG S.A.   \n",
       "\n",
       "                 sector                industry    market_cap  \\\n",
       "0    Financial Services        Banks - Regional  4.265434e+09   \n",
       "1    Consumer Defensive           Farm Products  2.466480e+09   \n",
       "2           Industrials               Railroads  4.228882e+10   \n",
       "3     Consumer Cyclical  Footwear & Accessories  5.309793e+09   \n",
       "4     Consumer Cyclical  Footwear & Accessories  5.350758e+09   \n",
       "..                  ...                     ...           ...   \n",
       "377         Industrials           Conglomerates  4.888106e+09   \n",
       "378                 NaN                     NaN           NaN   \n",
       "379   Consumer Cyclical            Luxury Goods  6.171674e+09   \n",
       "380   Consumer Cyclical        Specialty Retail  1.589094e+09   \n",
       "381  Financial Services        Banks - Regional  1.375972e+09   \n",
       "\n",
       "     enterprise_value  total_revenue  profit_margins  operating_margins  \\\n",
       "0        1.477339e+10   1.941779e+09         0.41576            0.38826   \n",
       "1        2.912933e+09   1.249437e+09         0.21493            0.25031   \n",
       "2        5.524305e+10   1.031746e+10         0.07639            0.33544   \n",
       "3        6.482982e+09   4.022153e+09        -0.05671           -0.06434   \n",
       "4        6.395236e+09   4.022153e+09        -0.05671           -0.06434   \n",
       "..                ...            ...             ...                ...   \n",
       "377      4.646195e+09            NaN         0.00000            0.00000   \n",
       "378               NaN            NaN             NaN                NaN   \n",
       "379      6.587251e+09   1.988458e+09         0.18830            0.22546   \n",
       "380      4.017418e+09   6.239824e+09         0.00470            0.06204   \n",
       "381      1.110565e+10   2.034155e+09         0.06339            0.38392   \n",
       "\n",
       "     dividend_rate  ...    total_cash  total_cash_per_share    total_debt  \\\n",
       "0             1.56  ...  7.774306e+09                35.162  1.829846e+10   \n",
       "1             3.21  ...  3.838370e+08                 3.885  8.720750e+08   \n",
       "2             0.07  ...  7.656040e+09                 4.132  2.184320e+10   \n",
       "3             0.40  ...  4.142880e+08                 0.614  1.550341e+09   \n",
       "4             0.43  ...  4.142880e+08                 0.614  1.550341e+09   \n",
       "..             ...  ...           ...                   ...           ...   \n",
       "377          13.47  ...  1.125510e+09                91.869  8.835900e+08   \n",
       "378            NaN  ...           NaN                   NaN           NaN   \n",
       "379           0.36  ...  2.071274e+08                 0.880  7.124596e+08   \n",
       "380           0.51  ...  9.653540e+08                 3.159  3.454800e+09   \n",
       "381           0.17  ...  1.052090e+09                 1.805  1.074202e+10   \n",
       "\n",
       "     earnings_quarterly_growth  revenue_growth  gross_margins  ebitda_margins  \\\n",
       "0                        0.001           0.003        0.00000         0.00000   \n",
       "1                        6.801           0.671        0.25252         0.21201   \n",
       "2                        3.935           0.121        0.34493         0.43834   \n",
       "3                          NaN          -0.127        0.43246        -0.00005   \n",
       "4                          NaN          -0.127        0.43246        -0.00005   \n",
       "..                         ...             ...            ...             ...   \n",
       "377                        NaN             NaN        0.00000         0.00000   \n",
       "378                        NaN             NaN            NaN             NaN   \n",
       "379                      0.235           0.193        0.69784         0.22723   \n",
       "380                      1.015           0.008        0.48914         0.08049   \n",
       "381                        NaN          -0.132        0.00000         0.00000   \n",
       "\n",
       "     return_on_assets  return_on_equity  gross_profits  \n",
       "0             0.01530           0.15680   1.973086e+09  \n",
       "1             0.03839           0.12170   3.155040e+08  \n",
       "2             0.04252           0.05163   3.146360e+09  \n",
       "3            -0.00910          -0.04153   1.968303e+09  \n",
       "4            -0.00910          -0.04153   1.968303e+09  \n",
       "..                ...               ...            ...  \n",
       "377          -0.00678           0.69316  -1.840000e+05  \n",
       "378               NaN               NaN            NaN  \n",
       "379           0.09562           0.22541   1.270208e+09  \n",
       "380           0.02635           0.01025   3.041838e+09  \n",
       "381           0.00339           0.03484   2.018078e+09  \n",
       "\n",
       "[382 rows x 35 columns]"
      ]
     },
     "execution_count": 12,
     "metadata": {},
     "output_type": "execute_result"
    }
   ],
   "source": [
    "df_fundamentals_cols = df_fundamentals_raw.drop(columns=[\"net_income\"]).copy()\n",
    "df_fundamentals_cols"
   ]
  },
  {
   "cell_type": "markdown",
   "metadata": {},
   "source": [
    "* In the cell above, the \"net_income\" columns were dropped because all the values were null, and the \"Unnamed: 0\" column was removed, which appears due to the leading comma (,) in the CSV file when a DataFrame is saved."
   ]
  },
  {
   "cell_type": "markdown",
   "metadata": {},
   "source": [
    "#### Cleaning the missing values"
   ]
  },
  {
   "cell_type": "code",
   "execution_count": 13,
   "metadata": {},
   "outputs": [
    {
     "data": {
      "text/plain": [
       "ticker                                 0\n",
       "long_name                             75\n",
       "sector                                80\n",
       "industry                              80\n",
       "market_cap                            76\n",
       "enterprise_value                      81\n",
       "total_revenue                         85\n",
       "profit_margins                        79\n",
       "operating_margins                     79\n",
       "dividend_rate                        128\n",
       "beta                                  84\n",
       "ebitda                               118\n",
       "trailing_pe                          149\n",
       "forward_pe                           229\n",
       "volume                                76\n",
       "average_volume                        76\n",
       "fifty_two_week_low                    76\n",
       "fifty_two_week_high                   76\n",
       "price_to_sales_trailing_12_months     85\n",
       "fifty_day_average                     76\n",
       "two_hundred_day_average               76\n",
       "trailing_annual_dividend_rate         78\n",
       "trailing_annual_dividend_yield        79\n",
       "book_value                            79\n",
       "price_to_book                        114\n",
       "total_cash                            82\n",
       "total_cash_per_share                  82\n",
       "total_debt                            80\n",
       "earnings_quarterly_growth            190\n",
       "revenue_growth                        90\n",
       "gross_margins                         79\n",
       "ebitda_margins                        79\n",
       "return_on_assets                      82\n",
       "return_on_equity                     121\n",
       "gross_profits                        141\n",
       "dtype: int64"
      ]
     },
     "execution_count": 13,
     "metadata": {},
     "output_type": "execute_result"
    }
   ],
   "source": [
    "df_fundamentals_cols.isna().sum()"
   ]
  },
  {
   "cell_type": "code",
   "execution_count": 15,
   "metadata": {},
   "outputs": [
    {
     "data": {
      "text/plain": [
       "ticker                                 0\n",
       "long_name                              0\n",
       "sector                                 0\n",
       "industry                               0\n",
       "market_cap                             0\n",
       "enterprise_value                       0\n",
       "total_revenue                          0\n",
       "profit_margins                         0\n",
       "operating_margins                      0\n",
       "dividend_rate                         46\n",
       "beta                                   0\n",
       "ebitda                                32\n",
       "trailing_pe                           69\n",
       "forward_pe                           144\n",
       "volume                                 0\n",
       "average_volume                         0\n",
       "fifty_two_week_low                     0\n",
       "fifty_two_week_high                    0\n",
       "price_to_sales_trailing_12_months      0\n",
       "fifty_day_average                      0\n",
       "two_hundred_day_average                0\n",
       "trailing_annual_dividend_rate          0\n",
       "trailing_annual_dividend_yield         1\n",
       "book_value                             0\n",
       "price_to_book                         32\n",
       "total_cash                             0\n",
       "total_cash_per_share                   0\n",
       "total_debt                             0\n",
       "earnings_quarterly_growth            105\n",
       "revenue_growth                         5\n",
       "gross_margins                          0\n",
       "ebitda_margins                         0\n",
       "return_on_assets                       2\n",
       "return_on_equity                      38\n",
       "gross_profits                         60\n",
       "dtype: int64"
      ]
     },
     "execution_count": 15,
     "metadata": {},
     "output_type": "execute_result"
    }
   ],
   "source": [
    "df_fundamentals_missing = df_fundamentals_cols.dropna(subset=['long_name', 'sector', \"industry\", \"market_cap\", \"enterprise_value\", \"total_revenue\", \"profit_margins\", \"operating_margins\", \"beta\"]).copy()\n",
    "df_fundamentals_missing.isna().sum()"
   ]
  },
  {
   "cell_type": "markdown",
   "metadata": {},
   "source": [
    "* In the cell above, all rows containing null values in the columns ('long_name', 'sector', \"industry\", \"market_cap\", \"enterprise_value\", \"total_revenue\", \"profit_margins\", \"operating_margins\", \"beta\") were removed because it was already known that in the data collection, there were companies that were no longer being traded on the stock exchange or had changed their tickers. Given the importance of these mentioned columns, it is prudent not to accept any null values in these fields, as these values are believed to be of utmost importance for future analysis, and filling them with computed data or any business rule is too risky."
   ]
  },
  {
   "cell_type": "code",
   "execution_count": 17,
   "metadata": {},
   "outputs": [
    {
     "data": {
      "text/plain": [
       "ticker                               0\n",
       "long_name                            0\n",
       "sector                               0\n",
       "industry                             0\n",
       "market_cap                           0\n",
       "enterprise_value                     0\n",
       "total_revenue                        0\n",
       "profit_margins                       0\n",
       "operating_margins                    0\n",
       "dividend_rate                        0\n",
       "beta                                 0\n",
       "ebitda                               0\n",
       "trailing_pe                          0\n",
       "forward_pe                           0\n",
       "volume                               0\n",
       "average_volume                       0\n",
       "fifty_two_week_low                   0\n",
       "fifty_two_week_high                  0\n",
       "price_to_sales_trailing_12_months    0\n",
       "fifty_day_average                    0\n",
       "two_hundred_day_average              0\n",
       "trailing_annual_dividend_rate        0\n",
       "trailing_annual_dividend_yield       0\n",
       "book_value                           0\n",
       "price_to_book                        0\n",
       "total_cash                           0\n",
       "total_cash_per_share                 0\n",
       "total_debt                           0\n",
       "earnings_quarterly_growth            0\n",
       "revenue_growth                       0\n",
       "gross_margins                        0\n",
       "ebitda_margins                       0\n",
       "return_on_assets                     0\n",
       "return_on_equity                     0\n",
       "gross_profits                        0\n",
       "dtype: int64"
      ]
     },
     "execution_count": 17,
     "metadata": {},
     "output_type": "execute_result"
    }
   ],
   "source": [
    "df_fundamentals_missing.fillna(0, inplace=True)\n",
    "df_fundamentals_missing.isna().sum()"
   ]
  },
  {
   "cell_type": "markdown",
   "metadata": {},
   "source": [
    "* In the cell above, the rest of the columns with missing values were filled with the number 0. After some analysis, it was understood that these missing values occur because either the company does not engage in the activity of paying dividends, as in the case of the \"dividend_rate\" field, or the company did not disclose certain results and indicators. It is worth noting that any data manipulation to fill a missing value should be done with great care."
   ]
  },
  {
   "cell_type": "code",
   "execution_count": 18,
   "metadata": {},
   "outputs": [],
   "source": [
    "df_fundamentals_cleaned = df_fundamentals_missing.copy()"
   ]
  },
  {
   "cell_type": "code",
   "execution_count": 19,
   "metadata": {},
   "outputs": [
    {
     "data": {
      "text/plain": [
       "(382, 36)"
      ]
     },
     "execution_count": 19,
     "metadata": {},
     "output_type": "execute_result"
    }
   ],
   "source": [
    "df_fundamentals_raw.shape"
   ]
  },
  {
   "cell_type": "code",
   "execution_count": 20,
   "metadata": {},
   "outputs": [
    {
     "data": {
      "text/plain": [
       "(291, 35)"
      ]
     },
     "execution_count": 20,
     "metadata": {},
     "output_type": "execute_result"
    }
   ],
   "source": [
    "df_fundamentals_cleaned.shape"
   ]
  },
  {
   "cell_type": "markdown",
   "metadata": {},
   "source": [
    "#### Saving files"
   ]
  },
  {
   "cell_type": "code",
   "execution_count": 21,
   "metadata": {},
   "outputs": [],
   "source": [
    "Path(file_path_cleaned).mkdir(parents=True, exist_ok=True)\n",
    "df_fundamentals_cleaned.to_csv(file_path_cleaned + \"/fundamentals_cleaned.csv\", index=False)"
   ]
  },
  {
   "cell_type": "markdown",
   "metadata": {},
   "source": [
    "### Macroeconomic Data"
   ]
  },
  {
   "cell_type": "code",
   "execution_count": 22,
   "metadata": {},
   "outputs": [
    {
     "data": {
      "text/html": [
       "<div>\n",
       "<style scoped>\n",
       "    .dataframe tbody tr th:only-of-type {\n",
       "        vertical-align: middle;\n",
       "    }\n",
       "\n",
       "    .dataframe tbody tr th {\n",
       "        vertical-align: top;\n",
       "    }\n",
       "\n",
       "    .dataframe thead th {\n",
       "        text-align: right;\n",
       "    }\n",
       "</style>\n",
       "<table border=\"1\" class=\"dataframe\">\n",
       "  <thead>\n",
       "    <tr style=\"text-align: right;\">\n",
       "      <th></th>\n",
       "      <th>Date</th>\n",
       "      <th>selic</th>\n",
       "      <th>confidence</th>\n",
       "      <th>pib</th>\n",
       "      <th>incc</th>\n",
       "      <th>ipca</th>\n",
       "      <th>dolar</th>\n",
       "    </tr>\n",
       "  </thead>\n",
       "  <tbody>\n",
       "    <tr>\n",
       "      <th>0</th>\n",
       "      <td>2019-01-31</td>\n",
       "      <td>6.5</td>\n",
       "      <td>128.64</td>\n",
       "      <td>578214.5</td>\n",
       "      <td>0.49</td>\n",
       "      <td>3.78</td>\n",
       "      <td>3.6513</td>\n",
       "    </tr>\n",
       "    <tr>\n",
       "      <th>1</th>\n",
       "      <td>2019-02-28</td>\n",
       "      <td>6.5</td>\n",
       "      <td>139.39</td>\n",
       "      <td>576089.7</td>\n",
       "      <td>0.09</td>\n",
       "      <td>3.89</td>\n",
       "      <td>3.7379</td>\n",
       "    </tr>\n",
       "    <tr>\n",
       "      <th>2</th>\n",
       "      <td>2019-03-31</td>\n",
       "      <td>6.5</td>\n",
       "      <td>125.53</td>\n",
       "      <td>601749.8</td>\n",
       "      <td>0.31</td>\n",
       "      <td>4.58</td>\n",
       "      <td>3.8961</td>\n",
       "    </tr>\n",
       "    <tr>\n",
       "      <th>3</th>\n",
       "      <td>2019-04-30</td>\n",
       "      <td>6.5</td>\n",
       "      <td>121.71</td>\n",
       "      <td>612918.4</td>\n",
       "      <td>0.38</td>\n",
       "      <td>4.94</td>\n",
       "      <td>3.9447</td>\n",
       "    </tr>\n",
       "    <tr>\n",
       "      <th>4</th>\n",
       "      <td>2019-05-31</td>\n",
       "      <td>6.5</td>\n",
       "      <td>117.01</td>\n",
       "      <td>615304.9</td>\n",
       "      <td>0.03</td>\n",
       "      <td>4.66</td>\n",
       "      <td>3.9401</td>\n",
       "    </tr>\n",
       "  </tbody>\n",
       "</table>\n",
       "</div>"
      ],
      "text/plain": [
       "         Date  selic  confidence       pib  incc  ipca   dolar\n",
       "0  2019-01-31    6.5      128.64  578214.5  0.49  3.78  3.6513\n",
       "1  2019-02-28    6.5      139.39  576089.7  0.09  3.89  3.7379\n",
       "2  2019-03-31    6.5      125.53  601749.8  0.31  4.58  3.8961\n",
       "3  2019-04-30    6.5      121.71  612918.4  0.38  4.94  3.9447\n",
       "4  2019-05-31    6.5      117.01  615304.9  0.03  4.66  3.9401"
      ]
     },
     "execution_count": 22,
     "metadata": {},
     "output_type": "execute_result"
    }
   ],
   "source": [
    "df_macroeconomic_raw = pd.read_csv(file_path_raw + \"/macroeconomic_raw.csv\")\n",
    "df_macroeconomic_raw.head()"
   ]
  },
  {
   "cell_type": "markdown",
   "metadata": {},
   "source": [
    "#### Cleaning the Columns"
   ]
  },
  {
   "cell_type": "code",
   "execution_count": 23,
   "metadata": {},
   "outputs": [
    {
     "data": {
      "text/plain": [
       "Index(['date', 'selic', 'confidence', 'pib', 'incc', 'ipca', 'dolar'], dtype='object')"
      ]
     },
     "execution_count": 23,
     "metadata": {},
     "output_type": "execute_result"
    }
   ],
   "source": [
    "df_macroeconomic_cols = df_macroeconomic_raw.rename(columns={\"Date\" : \"date\"}).copy()\n",
    "df_macroeconomic_cols.columns"
   ]
  },
  {
   "cell_type": "markdown",
   "metadata": {},
   "source": [
    "#### Cleaning the missing values"
   ]
  },
  {
   "cell_type": "code",
   "execution_count": 24,
   "metadata": {},
   "outputs": [
    {
     "data": {
      "text/plain": [
       "date          0\n",
       "selic         0\n",
       "confidence    2\n",
       "pib           2\n",
       "incc          2\n",
       "ipca          2\n",
       "dolar         0\n",
       "dtype: int64"
      ]
     },
     "execution_count": 24,
     "metadata": {},
     "output_type": "execute_result"
    }
   ],
   "source": [
    "df_macroeconomic_cols.isna().sum()"
   ]
  },
  {
   "cell_type": "code",
   "execution_count": 25,
   "metadata": {},
   "outputs": [
    {
     "data": {
      "text/plain": [
       "date          0\n",
       "selic         0\n",
       "confidence    0\n",
       "pib           0\n",
       "incc          0\n",
       "ipca          0\n",
       "dolar         0\n",
       "dtype: int64"
      ]
     },
     "execution_count": 25,
     "metadata": {},
     "output_type": "execute_result"
    }
   ],
   "source": [
    "df_macroeconomic_missing = df_macroeconomic_cols.dropna().copy()\n",
    "df_macroeconomic_missing.isna().sum()"
   ]
  },
  {
   "cell_type": "markdown",
   "metadata": {},
   "source": [
    "* In the macroeconomics dataframe, null values were removed because, as known, there is a meeting every 45 days with the Copom for the new definitions of these indices."
   ]
  },
  {
   "cell_type": "code",
   "execution_count": 26,
   "metadata": {},
   "outputs": [],
   "source": [
    "df_macroeconomic_cleaned = df_macroeconomic_missing.copy()"
   ]
  },
  {
   "cell_type": "code",
   "execution_count": 27,
   "metadata": {},
   "outputs": [
    {
     "data": {
      "text/plain": [
       "(58, 7)"
      ]
     },
     "execution_count": 27,
     "metadata": {},
     "output_type": "execute_result"
    }
   ],
   "source": [
    "df_macroeconomic_raw.shape"
   ]
  },
  {
   "cell_type": "code",
   "execution_count": 28,
   "metadata": {},
   "outputs": [
    {
     "data": {
      "text/plain": [
       "(56, 7)"
      ]
     },
     "execution_count": 28,
     "metadata": {},
     "output_type": "execute_result"
    }
   ],
   "source": [
    "df_macroeconomic_cleaned.shape\n"
   ]
  },
  {
   "cell_type": "markdown",
   "metadata": {},
   "source": [
    "#### Saving files"
   ]
  },
  {
   "cell_type": "code",
   "execution_count": 29,
   "metadata": {},
   "outputs": [],
   "source": [
    "Path(file_path_cleaned).mkdir(parents=True, exist_ok=True)\n",
    "df_macroeconomic_cleaned.to_csv(file_path_cleaned + \"/macroeconomic_cleaned.csv\", index=False)"
   ]
  },
  {
   "cell_type": "markdown",
   "metadata": {},
   "source": [
    "### Stocks Data"
   ]
  },
  {
   "cell_type": "code",
   "execution_count": 30,
   "metadata": {},
   "outputs": [
    {
     "data": {
      "text/html": [
       "<div>\n",
       "<style scoped>\n",
       "    .dataframe tbody tr th:only-of-type {\n",
       "        vertical-align: middle;\n",
       "    }\n",
       "\n",
       "    .dataframe tbody tr th {\n",
       "        vertical-align: top;\n",
       "    }\n",
       "\n",
       "    .dataframe thead th {\n",
       "        text-align: right;\n",
       "    }\n",
       "</style>\n",
       "<table border=\"1\" class=\"dataframe\">\n",
       "  <thead>\n",
       "    <tr style=\"text-align: right;\">\n",
       "      <th></th>\n",
       "      <th>Date</th>\n",
       "      <th>ticker</th>\n",
       "      <th>Adj Close</th>\n",
       "      <th>Close</th>\n",
       "      <th>High</th>\n",
       "      <th>Low</th>\n",
       "      <th>Open</th>\n",
       "      <th>Volume</th>\n",
       "    </tr>\n",
       "  </thead>\n",
       "  <tbody>\n",
       "    <tr>\n",
       "      <th>0</th>\n",
       "      <td>2019-01-02</td>\n",
       "      <td>AALR3.SA</td>\n",
       "      <td>13.116831</td>\n",
       "      <td>13.250000</td>\n",
       "      <td>13.500000</td>\n",
       "      <td>13.250000</td>\n",
       "      <td>13.310000</td>\n",
       "      <td>264200.0</td>\n",
       "    </tr>\n",
       "    <tr>\n",
       "      <th>1</th>\n",
       "      <td>2019-01-02</td>\n",
       "      <td>ABCB4.SA</td>\n",
       "      <td>13.077144</td>\n",
       "      <td>17.120001</td>\n",
       "      <td>17.200001</td>\n",
       "      <td>16.350000</td>\n",
       "      <td>16.469999</td>\n",
       "      <td>571700.0</td>\n",
       "    </tr>\n",
       "    <tr>\n",
       "      <th>2</th>\n",
       "      <td>2019-01-02</td>\n",
       "      <td>ABEV3.SA</td>\n",
       "      <td>13.950425</td>\n",
       "      <td>16.150000</td>\n",
       "      <td>16.299999</td>\n",
       "      <td>15.400000</td>\n",
       "      <td>15.400000</td>\n",
       "      <td>18692900.0</td>\n",
       "    </tr>\n",
       "    <tr>\n",
       "      <th>3</th>\n",
       "      <td>2019-01-02</td>\n",
       "      <td>ADHM3.SA</td>\n",
       "      <td>1.243981</td>\n",
       "      <td>1.243981</td>\n",
       "      <td>1.243981</td>\n",
       "      <td>1.235687</td>\n",
       "      <td>1.235687</td>\n",
       "      <td>2170.0</td>\n",
       "    </tr>\n",
       "    <tr>\n",
       "      <th>4</th>\n",
       "      <td>2019-01-02</td>\n",
       "      <td>AFLT3.SA</td>\n",
       "      <td>4.572968</td>\n",
       "      <td>5.400000</td>\n",
       "      <td>5.480000</td>\n",
       "      <td>5.400000</td>\n",
       "      <td>5.480000</td>\n",
       "      <td>500.0</td>\n",
       "    </tr>\n",
       "  </tbody>\n",
       "</table>\n",
       "</div>"
      ],
      "text/plain": [
       "         Date    ticker  Adj Close      Close       High        Low  \\\n",
       "0  2019-01-02  AALR3.SA  13.116831  13.250000  13.500000  13.250000   \n",
       "1  2019-01-02  ABCB4.SA  13.077144  17.120001  17.200001  16.350000   \n",
       "2  2019-01-02  ABEV3.SA  13.950425  16.150000  16.299999  15.400000   \n",
       "3  2019-01-02  ADHM3.SA   1.243981   1.243981   1.243981   1.235687   \n",
       "4  2019-01-02  AFLT3.SA   4.572968   5.400000   5.480000   5.400000   \n",
       "\n",
       "        Open      Volume  \n",
       "0  13.310000    264200.0  \n",
       "1  16.469999    571700.0  \n",
       "2  15.400000  18692900.0  \n",
       "3   1.235687      2170.0  \n",
       "4   5.480000       500.0  "
      ]
     },
     "execution_count": 30,
     "metadata": {},
     "output_type": "execute_result"
    }
   ],
   "source": [
    "df_stocks_raw = pd.read_csv(file_path_raw + \"/stocks_raw.csv\")\n",
    "df_stocks_raw.head()"
   ]
  },
  {
   "cell_type": "markdown",
   "metadata": {},
   "source": [
    "#### Cleaning the Columns"
   ]
  },
  {
   "cell_type": "code",
   "execution_count": 31,
   "metadata": {},
   "outputs": [
    {
     "data": {
      "text/plain": [
       "Index(['date', 'ticker', 'adj_close', 'close', 'high', 'low', 'open',\n",
       "       'volume'],\n",
       "      dtype='object')"
      ]
     },
     "execution_count": 31,
     "metadata": {},
     "output_type": "execute_result"
    }
   ],
   "source": [
    "df_stocks_cols = df_stocks_raw.rename(columns=lambda col: col.lower().replace(' ', '_')).copy()\n",
    "df_stocks_cols.columns\n"
   ]
  },
  {
   "cell_type": "markdown",
   "metadata": {},
   "source": [
    "#### Clearning the missing values"
   ]
  },
  {
   "cell_type": "code",
   "execution_count": 32,
   "metadata": {},
   "outputs": [
    {
     "data": {
      "text/plain": [
       "date         0\n",
       "ticker       0\n",
       "adj_close    0\n",
       "close        0\n",
       "high         0\n",
       "low          0\n",
       "open         0\n",
       "volume       0\n",
       "dtype: int64"
      ]
     },
     "execution_count": 32,
     "metadata": {},
     "output_type": "execute_result"
    }
   ],
   "source": [
    "df_stocks_missing = df_stocks_cols.copy()\n",
    "df_stocks_missing.isna().sum()"
   ]
  },
  {
   "cell_type": "markdown",
   "metadata": {},
   "source": [
    "* In the case of stock data, it wasn't necessary to exert much effort because the data came in a clean format, largely due to the care that the Yahoo Finance API gives to this information."
   ]
  },
  {
   "cell_type": "code",
   "execution_count": 33,
   "metadata": {},
   "outputs": [],
   "source": [
    "df_stocks_cleaned = df_stocks_missing.copy()"
   ]
  },
  {
   "cell_type": "code",
   "execution_count": 34,
   "metadata": {},
   "outputs": [
    {
     "data": {
      "text/plain": [
       "(363820, 8)"
      ]
     },
     "execution_count": 34,
     "metadata": {},
     "output_type": "execute_result"
    }
   ],
   "source": [
    "df_stocks_raw.shape"
   ]
  },
  {
   "cell_type": "code",
   "execution_count": 35,
   "metadata": {},
   "outputs": [
    {
     "data": {
      "text/plain": [
       "(363820, 8)"
      ]
     },
     "execution_count": 35,
     "metadata": {},
     "output_type": "execute_result"
    }
   ],
   "source": [
    "df_stocks_cleaned.shape"
   ]
  },
  {
   "cell_type": "markdown",
   "metadata": {},
   "source": [
    "#### Saving files"
   ]
  },
  {
   "cell_type": "code",
   "execution_count": 36,
   "metadata": {},
   "outputs": [],
   "source": [
    "Path(file_path_cleaned).mkdir(parents=True, exist_ok=True)\n",
    "df_stocks_cleaned.to_csv(file_path_cleaned + \"/stocks_cleaned.csv\", index=False)"
   ]
  }
 ],
 "metadata": {
  "kernelspec": {
   "display_name": "Python 3",
   "language": "python",
   "name": "python3"
  },
  "language_info": {
   "codemirror_mode": {
    "name": "ipython",
    "version": 3
   },
   "file_extension": ".py",
   "mimetype": "text/x-python",
   "name": "python",
   "nbconvert_exporter": "python",
   "pygments_lexer": "ipython3",
   "version": "3.11.5"
  }
 },
 "nbformat": 4,
 "nbformat_minor": 2
}
